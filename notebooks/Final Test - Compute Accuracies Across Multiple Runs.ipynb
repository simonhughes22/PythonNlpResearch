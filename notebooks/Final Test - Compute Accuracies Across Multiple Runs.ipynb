{
 "cells": [
  {
   "cell_type": "markdown",
   "metadata": {},
   "source": [
    "## NOTE - Use Python 3.6"
   ]
  },
  {
   "cell_type": "code",
   "execution_count": 1,
   "metadata": {},
   "outputs": [],
   "source": [
    "import numpy as np\n",
    "import pandas as pd\n",
    "from collections import defaultdict\n",
    "import pymongo\n",
    "import dill\n",
    "import os\n",
    "\n",
    "from BrattEssay import load_bratt_essays\n",
    "from load_data import load_process_essays\n",
    "from window_based_tagger_config import get_config\n",
    "from FindFiles import find_files\n",
    "from DirUtils import dir_exists\n",
    "from results_procesor import ResultsProcessor, __MICRO_F1__\n",
    "from Settings import Settings\n",
    "from statsmodels.stats.contingency_tables import mcnemar"
   ]
  },
  {
   "cell_type": "code",
   "execution_count": 2,
   "metadata": {},
   "outputs": [],
   "source": [
    "FOLDER = \"/Users/simon.hughes/GitHub/NlpResearch/PythonNlpResearch/Predictions/\""
   ]
  },
  {
   "cell_type": "markdown",
   "metadata": {},
   "source": [
    "## Find Closest Perceptron Results for CB"
   ]
  },
  {
   "cell_type": "code",
   "execution_count": 14,
   "metadata": {},
   "outputs": [],
   "source": [
    "with open(FOLDER + \"TEST_CR_CB_SHIFT_REDUCE_PARSER_TEMPLATED_FINAL_RUN_VD_YS_.dill\", \"rb+\") as f:\n",
    "    cb_ysbytag = dill.load(f)\n",
    "    \n",
    "with open(FOLDER + \"TEST_CR_SC_SHIFT_REDUCE_PARSER_TEMPLATED_FINAL_RUN_VD_YS_.dill\", \"rb+\") as f:\n",
    "    sc_ysbytag = dill.load(f)"
   ]
  },
  {
   "cell_type": "code",
   "execution_count": 15,
   "metadata": {},
   "outputs": [],
   "source": [
    "def filter_by_str(s, files, exclude=False):   \n",
    "    return  [f for f in files if (s in f) != exclude]"
   ]
  },
  {
   "cell_type": "code",
   "execution_count": 16,
   "metadata": {},
   "outputs": [],
   "source": [
    "# FILTER = \"STACKED\"\n",
    "FILTER = \"FINAL_RUN\""
   ]
  },
  {
   "cell_type": "code",
   "execution_count": 23,
   "metadata": {},
   "outputs": [
    {
     "name": "stdout",
     "output_type": "stream",
     "text": [
      "7\n"
     ]
    },
    {
     "data": {
      "text/plain": [
       "['TEST_CR_CB_SHIFT_REDUCE_PARSER_TEMPLATED_FINAL_RUN_VD_PREDS__.dill',\n",
       " 'TEST_CR_CB_SHIFT_REDUCE_PARSER_TEMPLATED_FINAL_RUN_VD_PREDS__2019-10-11_17-25.dill',\n",
       " 'TEST_CR_CB_SHIFT_REDUCE_PARSER_TEMPLATED_FINAL_RUN_VD_PREDS__2019-10-11_17-24.dill',\n",
       " 'TEST_CR_CB_SHIFT_REDUCE_PARSER_TEMPLATED_FINAL_RUN_VD_PREDS__2019-10-11_17-23.dill',\n",
       " 'TEST_CR_CB_SHIFT_REDUCE_PARSER_TEMPLATED_FINAL_RUN_VD_PREDS__2019-10-11_17-22.dill',\n",
       " 'TEST_CR_CB_SHIFT_REDUCE_PARSER_TEMPLATED_FINAL_RUN_VD_PREDS__2019-10-11_17-6.dill',\n",
       " 'TEST_CR_CB_SHIFT_REDUCE_PARSER_TEMPLATED_FINAL_RUN_VD_PREDS__2019-10-11_17-26.dill']"
      ]
     },
     "execution_count": 23,
     "metadata": {},
     "output_type": "execute_result"
    }
   ],
   "source": [
    "all_files = os.listdir(FOLDER)\n",
    "# print(len(all_files))\n",
    "perc_files = all_files\n",
    "perc_files = filter_by_str(\"_CB_\", all_files)\n",
    "perc_files = filter_by_str(\"_CR_\", perc_files)\n",
    "perc_files = filter_by_str(\"TEST_\", perc_files)\n",
    "perc_files = filter_by_str(\"_VD_\", perc_files)\n",
    "perc_files = filter_by_str(\"_PREDS\", perc_files)\n",
    "perc_files = filter_by_str(\"_\" + FILTER + \"_\", perc_files)\n",
    "# perc_files = filter_by_str(\"2019\", perc_files)\n",
    "print(len(perc_files))\n",
    "perc_files"
   ]
  },
  {
   "cell_type": "code",
   "execution_count": 24,
   "metadata": {},
   "outputs": [
    {
     "data": {
      "text/html": [
       "<div>\n",
       "<table border=\"1\" class=\"dataframe\">\n",
       "  <thead>\n",
       "    <tr style=\"text-align: right;\">\n",
       "      <th></th>\n",
       "      <th>accuracy</th>\n",
       "      <th>data_points</th>\n",
       "      <th>f1_score</th>\n",
       "      <th>fname</th>\n",
       "      <th>num_codes</th>\n",
       "      <th>precision</th>\n",
       "      <th>recall</th>\n",
       "    </tr>\n",
       "  </thead>\n",
       "  <tbody>\n",
       "    <tr>\n",
       "      <th>2</th>\n",
       "      <td>0.997836</td>\n",
       "      <td>164948.0</td>\n",
       "      <td>0.719119</td>\n",
       "      <td>10-11_17-22.dill</td>\n",
       "      <td>599.0</td>\n",
       "      <td>0.680060</td>\n",
       "      <td>0.762938</td>\n",
       "    </tr>\n",
       "    <tr>\n",
       "      <th>4</th>\n",
       "      <td>0.997848</td>\n",
       "      <td>164948.0</td>\n",
       "      <td>0.722005</td>\n",
       "      <td>10-11_17-24.dill</td>\n",
       "      <td>599.0</td>\n",
       "      <td>0.679941</td>\n",
       "      <td>0.769616</td>\n",
       "    </tr>\n",
       "    <tr>\n",
       "      <th>5</th>\n",
       "      <td>0.997860</td>\n",
       "      <td>164948.0</td>\n",
       "      <td>0.722702</td>\n",
       "      <td>10-11_17-25.dill</td>\n",
       "      <td>599.0</td>\n",
       "      <td>0.682493</td>\n",
       "      <td>0.767947</td>\n",
       "    </tr>\n",
       "    <tr>\n",
       "      <th>1</th>\n",
       "      <td>0.997908</td>\n",
       "      <td>164948.0</td>\n",
       "      <td>0.726408</td>\n",
       "      <td>-10-11_17-6.dill</td>\n",
       "      <td>599.0</td>\n",
       "      <td>0.691843</td>\n",
       "      <td>0.764608</td>\n",
       "    </tr>\n",
       "    <tr>\n",
       "      <th>3</th>\n",
       "      <td>0.997921</td>\n",
       "      <td>164948.0</td>\n",
       "      <td>0.730558</td>\n",
       "      <td>10-11_17-23.dill</td>\n",
       "      <td>599.0</td>\n",
       "      <td>0.689911</td>\n",
       "      <td>0.776294</td>\n",
       "    </tr>\n",
       "    <tr>\n",
       "      <th>6</th>\n",
       "      <td>0.997921</td>\n",
       "      <td>164948.0</td>\n",
       "      <td>0.730558</td>\n",
       "      <td>_VD_PREDS__.dill</td>\n",
       "      <td>599.0</td>\n",
       "      <td>0.689911</td>\n",
       "      <td>0.776294</td>\n",
       "    </tr>\n",
       "    <tr>\n",
       "      <th>0</th>\n",
       "      <td>0.997939</td>\n",
       "      <td>164948.0</td>\n",
       "      <td>0.730586</td>\n",
       "      <td>10-11_17-26.dill</td>\n",
       "      <td>599.0</td>\n",
       "      <td>0.695324</td>\n",
       "      <td>0.769616</td>\n",
       "    </tr>\n",
       "  </tbody>\n",
       "</table>\n",
       "</div>"
      ],
      "text/plain": [
       "   accuracy  data_points  f1_score             fname  num_codes  precision  \\\n",
       "2  0.997836     164948.0  0.719119  10-11_17-22.dill      599.0   0.680060   \n",
       "4  0.997848     164948.0  0.722005  10-11_17-24.dill      599.0   0.679941   \n",
       "5  0.997860     164948.0  0.722702  10-11_17-25.dill      599.0   0.682493   \n",
       "1  0.997908     164948.0  0.726408  -10-11_17-6.dill      599.0   0.691843   \n",
       "3  0.997921     164948.0  0.730558  10-11_17-23.dill      599.0   0.689911   \n",
       "6  0.997921     164948.0  0.730558  _VD_PREDS__.dill      599.0   0.689911   \n",
       "0  0.997939     164948.0  0.730586  10-11_17-26.dill      599.0   0.695324   \n",
       "\n",
       "     recall  \n",
       "2  0.762938  \n",
       "4  0.769616  \n",
       "5  0.767947  \n",
       "1  0.764608  \n",
       "3  0.776294  \n",
       "6  0.776294  \n",
       "0  0.769616  "
      ]
     },
     "execution_count": 24,
     "metadata": {},
     "output_type": "execute_result"
    }
   ],
   "source": [
    "import pandas as pd\n",
    "\n",
    "ysbytag = cb_ysbytag\n",
    "f2preds = dict()\n",
    "rows = []\n",
    "for f in perc_files[::-1]:\n",
    "    with open(FOLDER + f, \"rb+\") as fin:\n",
    "        preds = dill.load(fin)\n",
    "    metrics = ResultsProcessor.compute_mean_metrics(ysbytag, preds)[__MICRO_F1__]\n",
    "    metrics[\"fname\"] = f[-16:]\n",
    "    rows.append(metrics)\n",
    "df = pd.DataFrame(rows).sort_values(\"f1_score\")\n",
    "df # 0.837"
   ]
  },
  {
   "cell_type": "markdown",
   "metadata": {},
   "source": [
    "## SC "
   ]
  },
  {
   "cell_type": "code",
   "execution_count": 21,
   "metadata": {},
   "outputs": [
    {
     "data": {
      "text/plain": [
       "['TEST_CR_SC_SHIFT_REDUCE_PARSER_TEMPLATED_FINAL_RUN_VD_PREDS_.dill',\n",
       " 'TEST_CR_SC_SHIFT_REDUCE_PARSER_TEMPLATED_FINAL_RUN_VD_PREDS__2019-10-11_17-27.dill',\n",
       " 'TEST_CR_SC_SHIFT_REDUCE_PARSER_TEMPLATED_FINAL_RUN_VD_PREDS__2019-10-11_17-26.dill',\n",
       " 'TEST_CR_SC_SHIFT_REDUCE_PARSER_TEMPLATED_FINAL_RUN_VD_PREDS__2019-10-11_17-23.dill',\n",
       " 'TEST_CR_SC_SHIFT_REDUCE_PARSER_TEMPLATED_FINAL_RUN_VD_PREDS__2019-10-11_17-7.dill',\n",
       " 'TEST_CR_SC_SHIFT_REDUCE_PARSER_TEMPLATED_FINAL_RUN_VD_PREDS__2019-10-11_17-22.dill',\n",
       " 'TEST_CR_SC_SHIFT_REDUCE_PARSER_TEMPLATED_FINAL_RUN_VD_PREDS__2019-10-11_17-25.dill',\n",
       " 'TEST_CR_SC_SHIFT_REDUCE_PARSER_TEMPLATED_FINAL_RUN_VD_PREDS__2019-10-11_17-29.dill',\n",
       " 'TEST_CR_SC_SHIFT_REDUCE_PARSER_TEMPLATED_FINAL_RUN_VD_PREDS__2019-10-11_17-28.dill',\n",
       " 'TEST_CR_SC_SHIFT_REDUCE_PARSER_TEMPLATED_FINAL_RUN_VD_PREDS__2019-10-11_17-24.dill']"
      ]
     },
     "execution_count": 21,
     "metadata": {},
     "output_type": "execute_result"
    }
   ],
   "source": [
    "all_files = os.listdir(FOLDER)\n",
    "perc_files = all_files\n",
    "perc_files = filter_by_str(\"_SC_\", perc_files)\n",
    "perc_files = filter_by_str(\"_VD_\", perc_files)\n",
    "perc_files = filter_by_str(\"TEST_\", perc_files)\n",
    "perc_files = filter_by_str(\"_PREDS_\", perc_files)\n",
    "perc_files = filter_by_str(\"_\" + FILTER + \"_\", perc_files)\n",
    "# perc_files = filter_by_str(\"_2019\", perc_files)\n",
    "perc_files"
   ]
  },
  {
   "cell_type": "code",
   "execution_count": 22,
   "metadata": {},
   "outputs": [
    {
     "data": {
      "text/html": [
       "<div>\n",
       "<table border=\"1\" class=\"dataframe\">\n",
       "  <thead>\n",
       "    <tr style=\"text-align: right;\">\n",
       "      <th></th>\n",
       "      <th>accuracy</th>\n",
       "      <th>data_points</th>\n",
       "      <th>f1_score</th>\n",
       "      <th>fname</th>\n",
       "      <th>num_codes</th>\n",
       "      <th>precision</th>\n",
       "      <th>recall</th>\n",
       "    </tr>\n",
       "  </thead>\n",
       "  <tbody>\n",
       "    <tr>\n",
       "      <th>5</th>\n",
       "      <td>0.995514</td>\n",
       "      <td>102753.0</td>\n",
       "      <td>0.788823</td>\n",
       "      <td>10-11_17-22.dill</td>\n",
       "      <td>1118.0</td>\n",
       "      <td>0.808451</td>\n",
       "      <td>0.770125</td>\n",
       "    </tr>\n",
       "    <tr>\n",
       "      <th>0</th>\n",
       "      <td>0.995552</td>\n",
       "      <td>102753.0</td>\n",
       "      <td>0.790847</td>\n",
       "      <td>N_VD_PREDS_.dill</td>\n",
       "      <td>1118.0</td>\n",
       "      <td>0.809747</td>\n",
       "      <td>0.772809</td>\n",
       "    </tr>\n",
       "    <tr>\n",
       "      <th>7</th>\n",
       "      <td>0.995552</td>\n",
       "      <td>102753.0</td>\n",
       "      <td>0.790847</td>\n",
       "      <td>10-11_17-29.dill</td>\n",
       "      <td>1118.0</td>\n",
       "      <td>0.809747</td>\n",
       "      <td>0.772809</td>\n",
       "    </tr>\n",
       "    <tr>\n",
       "      <th>9</th>\n",
       "      <td>0.995582</td>\n",
       "      <td>102753.0</td>\n",
       "      <td>0.791552</td>\n",
       "      <td>10-11_17-24.dill</td>\n",
       "      <td>1118.0</td>\n",
       "      <td>0.813208</td>\n",
       "      <td>0.771020</td>\n",
       "    </tr>\n",
       "    <tr>\n",
       "      <th>3</th>\n",
       "      <td>0.995552</td>\n",
       "      <td>102753.0</td>\n",
       "      <td>0.791610</td>\n",
       "      <td>10-11_17-23.dill</td>\n",
       "      <td>1118.0</td>\n",
       "      <td>0.807442</td>\n",
       "      <td>0.776386</td>\n",
       "    </tr>\n",
       "    <tr>\n",
       "      <th>1</th>\n",
       "      <td>0.995591</td>\n",
       "      <td>102753.0</td>\n",
       "      <td>0.791724</td>\n",
       "      <td>10-11_17-27.dill</td>\n",
       "      <td>1118.0</td>\n",
       "      <td>0.814570</td>\n",
       "      <td>0.770125</td>\n",
       "    </tr>\n",
       "    <tr>\n",
       "      <th>6</th>\n",
       "      <td>0.995552</td>\n",
       "      <td>102753.0</td>\n",
       "      <td>0.791800</td>\n",
       "      <td>10-11_17-25.dill</td>\n",
       "      <td>1118.0</td>\n",
       "      <td>0.806871</td>\n",
       "      <td>0.777281</td>\n",
       "    </tr>\n",
       "    <tr>\n",
       "      <th>4</th>\n",
       "      <td>0.995562</td>\n",
       "      <td>102753.0</td>\n",
       "      <td>0.791971</td>\n",
       "      <td>-10-11_17-7.dill</td>\n",
       "      <td>1118.0</td>\n",
       "      <td>0.808194</td>\n",
       "      <td>0.776386</td>\n",
       "    </tr>\n",
       "    <tr>\n",
       "      <th>8</th>\n",
       "      <td>0.995582</td>\n",
       "      <td>102753.0</td>\n",
       "      <td>0.792315</td>\n",
       "      <td>10-11_17-28.dill</td>\n",
       "      <td>1118.0</td>\n",
       "      <td>0.810861</td>\n",
       "      <td>0.774597</td>\n",
       "    </tr>\n",
       "    <tr>\n",
       "      <th>2</th>\n",
       "      <td>0.995572</td>\n",
       "      <td>102753.0</td>\n",
       "      <td>0.792332</td>\n",
       "      <td>10-11_17-26.dill</td>\n",
       "      <td>1118.0</td>\n",
       "      <td>0.808947</td>\n",
       "      <td>0.776386</td>\n",
       "    </tr>\n",
       "  </tbody>\n",
       "</table>\n",
       "</div>"
      ],
      "text/plain": [
       "   accuracy  data_points  f1_score             fname  num_codes  precision  \\\n",
       "5  0.995514     102753.0  0.788823  10-11_17-22.dill     1118.0   0.808451   \n",
       "0  0.995552     102753.0  0.790847  N_VD_PREDS_.dill     1118.0   0.809747   \n",
       "7  0.995552     102753.0  0.790847  10-11_17-29.dill     1118.0   0.809747   \n",
       "9  0.995582     102753.0  0.791552  10-11_17-24.dill     1118.0   0.813208   \n",
       "3  0.995552     102753.0  0.791610  10-11_17-23.dill     1118.0   0.807442   \n",
       "1  0.995591     102753.0  0.791724  10-11_17-27.dill     1118.0   0.814570   \n",
       "6  0.995552     102753.0  0.791800  10-11_17-25.dill     1118.0   0.806871   \n",
       "4  0.995562     102753.0  0.791971  -10-11_17-7.dill     1118.0   0.808194   \n",
       "8  0.995582     102753.0  0.792315  10-11_17-28.dill     1118.0   0.810861   \n",
       "2  0.995572     102753.0  0.792332  10-11_17-26.dill     1118.0   0.808947   \n",
       "\n",
       "     recall  \n",
       "5  0.770125  \n",
       "0  0.772809  \n",
       "7  0.772809  \n",
       "9  0.771020  \n",
       "3  0.776386  \n",
       "1  0.770125  \n",
       "6  0.777281  \n",
       "4  0.776386  \n",
       "8  0.774597  \n",
       "2  0.776386  "
      ]
     },
     "execution_count": 22,
     "metadata": {},
     "output_type": "execute_result"
    }
   ],
   "source": [
    "import pandas as pd\n",
    "\n",
    "ysbytag = sc_ysbytag\n",
    "f2preds = dict()\n",
    "rows = []\n",
    "for f in perc_files:\n",
    "    with open(FOLDER + f, \"rb+\") as fin:\n",
    "        preds = dill.load(fin)\n",
    "    metrics = ResultsProcessor.compute_mean_metrics(ysbytag, preds)[__MICRO_F1__]\n",
    "    metrics[\"fname\"] = f[-16:]\n",
    "    rows.append(metrics)\n",
    "df = pd.DataFrame(rows).sort_values(\"f1_score\")\n",
    "df # 0.837"
   ]
  },
  {
   "cell_type": "code",
   "execution_count": null,
   "metadata": {},
   "outputs": [],
   "source": []
  }
 ],
 "metadata": {
  "anaconda-cloud": {},
  "kernelspec": {
   "display_name": "Python [conda env:phd_py36]",
   "language": "python",
   "name": "conda-env-phd_py36-py"
  },
  "language_info": {
   "codemirror_mode": {
    "name": "ipython",
    "version": 3
   },
   "file_extension": ".py",
   "mimetype": "text/x-python",
   "name": "python",
   "nbconvert_exporter": "python",
   "pygments_lexer": "ipython3",
   "version": "3.6.2"
  }
 },
 "nbformat": 4,
 "nbformat_minor": 2
}
