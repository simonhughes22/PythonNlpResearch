{
 "cells": [
  {
   "cell_type": "code",
   "execution_count": 6,
   "metadata": {},
   "outputs": [],
   "source": [
    "%matplotlib inline\n",
    "from collections import defaultdict"
   ]
  },
  {
   "cell_type": "markdown",
   "metadata": {},
   "source": [
    "# Settings"
   ]
  },
  {
   "cell_type": "code",
   "execution_count": 2,
   "metadata": {},
   "outputs": [
    {
     "name": "stdout",
     "output_type": "stream",
     "text": [
      "Root: /Users/simon.hughes/Google Drive/Phd/Data/CoralBleaching/Thesis_Dataset/\n",
      "\n",
      "/Users/simon.hughes/Google Drive/Phd/Data/CoralBleaching/Thesis_Dataset/All_Files/\n",
      "/Users/simon.hughes/Google Drive/Phd/Data/CoralBleaching/Thesis_Dataset/Training/\n",
      "/Users/simon.hughes/Google Drive/Phd/Data/CoralBleaching/Thesis_Dataset/Test/\n"
     ]
    }
   ],
   "source": [
    "PCT_TEST_SPLIT = 0.2\n",
    "SPLITS = 500000\n",
    "\n",
    "#Source Folder (essay_folder) - CHANGE THIS ONE SETTING TO SWITCH BETWEEN CB AND SC!!!!!\n",
    "\n",
    "essay_folder = \"CoralBleaching/BrattData/EBA1415_Merged/\"\n",
    "#essay_folder = \"SkinCancer/EBA1415_Merged/\"\n",
    "\n",
    "\n",
    "\n",
    "data_dir = \"/Users/simon.hughes/Google Drive/Phd/Data/\"\n",
    "folder = data_dir + essay_folder\n",
    "\n",
    "root_folder = data_dir + essay_folder.split(\"/\")[0] + \"/Thesis_Dataset/\"\n",
    "print(\"Root: \" + root_folder)\n",
    "\n",
    "all_folder      = root_folder + \"All_Files/\"\n",
    "test_folder     = root_folder + \"Test/\"\n",
    "training_folder = root_folder + \"Training/\"\n",
    "\n",
    "print(\"\")\n",
    "for f in [all_folder, training_folder, test_folder]:\n",
    "    print(f)"
   ]
  },
  {
   "cell_type": "markdown",
   "metadata": {},
   "source": [
    "# Map .ann And .txt Files"
   ]
  },
  {
   "cell_type": "code",
   "execution_count": 3,
   "metadata": {},
   "outputs": [],
   "source": [
    "import os, re\n",
    "\n",
    "def find_files(folder, regex, remove_empty = False):\n",
    "    \"\"\"\n",
    "    Find all files matching the [regex] pattern in [folder]\n",
    "\n",
    "    folder  :   string\n",
    "                    folder to search (not recursive)\n",
    "    regex   :   string (NOT regex object)\n",
    "                    pattern to match\n",
    "    \"\"\"\n",
    "    files = os.listdir(folder)\n",
    "    matches = [os.path.abspath(os.path.join(folder, f))\n",
    "               for f in files\n",
    "               if re.search(regex, f, re.IGNORECASE)]\n",
    "\n",
    "    if remove_empty:\n",
    "        matches = [f for f in matches if os.path.getsize(f) > 0]\n",
    "    matches.sort()\n",
    "    return matches"
   ]
  },
  {
   "cell_type": "code",
   "execution_count": 4,
   "metadata": {},
   "outputs": [
    {
     "data": {
      "text/plain": [
       "(1154, 1161)"
      ]
     },
     "execution_count": 4,
     "metadata": {},
     "output_type": "execute_result"
    }
   ],
   "source": [
    "ann_files = find_files(folder, \"\\.ann$\", remove_empty=True)\n",
    "txt_files = find_files(folder, \"\\.txt$\", remove_empty=True)\n",
    "len(ann_files), len(txt_files)"
   ]
  },
  {
   "cell_type": "code",
   "execution_count": 7,
   "metadata": {},
   "outputs": [
    {
     "data": {
      "text/plain": [
       "(1154, 1161)"
      ]
     },
     "execution_count": 7,
     "metadata": {},
     "output_type": "execute_result"
    }
   ],
   "source": [
    "def get_prefix(fname):\n",
    "    return fname[:-4]\n",
    "\n",
    "dct_ann = defaultdict(set)\n",
    "for ann in ann_files:\n",
    "    prefix = get_prefix(ann)\n",
    "    dct_ann[prefix].add(ann)\n",
    "\n",
    "dct_txt = defaultdict(set)\n",
    "for txt in txt_files:\n",
    "    prefix = get_prefix(txt)\n",
    "    dct_txt[prefix].add(txt)\n",
    "\n",
    "len(dct_ann), len(dct_txt)"
   ]
  },
  {
   "cell_type": "markdown",
   "metadata": {},
   "source": [
    "### Joined Represents a Mapping Between Prefixes and (.ann,.txt) Filenames"
   ]
  },
  {
   "cell_type": "code",
   "execution_count": 10,
   "metadata": {},
   "outputs": [
    {
     "data": {
      "text/plain": [
       "1154"
      ]
     },
     "execution_count": 10,
     "metadata": {},
     "output_type": "execute_result"
    }
   ],
   "source": [
    "joined = {}\n",
    "for prfx in dct_ann.keys():\n",
    "    if prfx in dct_txt:\n",
    "        joined[prfx] = (dct_ann[prfx], dct_txt[prfx])\n",
    "len(joined)"
   ]
  },
  {
   "cell_type": "markdown",
   "metadata": {},
   "source": [
    "# Load and Parse Actual The Essay Files (Removing Invalid and Empty Files)"
   ]
  },
  {
   "cell_type": "code",
   "execution_count": 9,
   "metadata": {},
   "outputs": [
    {
     "name": "stdout",
     "output_type": "stream",
     "text": [
      "Results Dir: /Users/simon.hughes/Google Drive/Phd/Results/\n",
      "Data Dir:    /Users/simon.hughes/Google Drive/Phd/Data/\n",
      "Root Dir:    /Users/simon.hughes/GitHub/NlpResearch/\n",
      "Public Data: /Users/simon.hughes/GitHub/NlpResearch/Data/PublicDatasets/\n",
      "1154 files found\n",
      "Skipping /Users/simon.hughes/Google Drive/Phd/Data/CoralBleaching/BrattData/EBA1415_Merged/EBA1415_AEKD_4_CB_ES-05571.ann file as .txt file is no essay'\n",
      "Skipping /Users/simon.hughes/Google Drive/Phd/Data/CoralBleaching/BrattData/EBA1415_Merged/EBA1415_AEKD_4_CB_ES-05904.ann file as .txt file is no essay'\n",
      "Skipping /Users/simon.hughes/Google Drive/Phd/Data/CoralBleaching/BrattData/EBA1415_Merged/EBA1415_BGJD_1_CB_ES-05733.ann file as .txt file is no essay //'\n",
      "Skipping /Users/simon.hughes/Google Drive/Phd/Data/CoralBleaching/BrattData/EBA1415_Merged/EBA1415_ERSK_7_CB_ES-05798.ann file as .txt file is no essay //'\n",
      "Skipping /Users/simon.hughes/Google Drive/Phd/Data/CoralBleaching/BrattData/EBA1415_Merged/EBA1415_KYLS_5_CB_ES-05671.ann file as .txt file is no essay //'\n",
      "Skipping /Users/simon.hughes/Google Drive/Phd/Data/CoralBleaching/BrattData/EBA1415_Merged/EBA1415_LRJE_5_CB_ES-05128.ann file as .txt file is no essay'\n",
      "Skipping /Users/simon.hughes/Google Drive/Phd/Data/CoralBleaching/BrattData/EBA1415_Merged/EBA1415_SVJJ_2_CB_ES-05612.ann file as .txt file is no essay  //'\n",
      "Skipping /Users/simon.hughes/Google Drive/Phd/Data/CoralBleaching/BrattData/EBA1415_Merged/EBA1415_SVJJ_2_CB_ES-05617.ann file as .txt file is no essay  //'\n",
      "Skipping /Users/simon.hughes/Google Drive/Phd/Data/CoralBleaching/BrattData/EBA1415_Merged/EBA1415_SVJJ_4_CB_ES-05632.ann file as .txt file is no essay  //'\n",
      "Skipping /Users/simon.hughes/Google Drive/Phd/Data/CoralBleaching/BrattData/EBA1415_Merged/EBA1415_SVJJ_4_CB_ES-05640.ann file as .txt file is no essay.'\n",
      "Skipping /Users/simon.hughes/Google Drive/Phd/Data/CoralBleaching/BrattData/EBA1415_Merged/EBA1415_SWSP_4_CB_ES-05459.ann file as .txt file is no essay  //'\n",
      "Skipping /Users/simon.hughes/Google Drive/Phd/Data/CoralBleaching/BrattData/EBA1415_Merged/EBA1415_TFBM_1_CB_ES-05484.ann file as .txt file is no essay. //'\n",
      "Skipping /Users/simon.hughes/Google Drive/Phd/Data/CoralBleaching/BrattData/EBA1415_Merged/EBA1415_TFBM_1_CB_ES-05485.ann file as .txt file is no essay.  //'\n",
      "Skipping /Users/simon.hughes/Google Drive/Phd/Data/CoralBleaching/BrattData/EBA1415_Merged/EBA1415_TFBM_2_CB_ES-05548.ann file as .txt file is no essay  //'\n",
      "Skipping /Users/simon.hughes/Google Drive/Phd/Data/CoralBleaching/BrattData/EBA1415_Merged/EBA1415_TFMV_3_CB_ES-05845.ann file as .txt file is no essay'\n",
      "Skipping /Users/simon.hughes/Google Drive/Phd/Data/CoralBleaching/BrattData/EBA1415_Merged/EBA1415_TRDJ_11_CB_ES-05715.ann file as .txt file is no essay.'\n",
      "Skipping /Users/simon.hughes/Google Drive/Phd/Data/CoralBleaching/BrattData/EBA1415_Merged/EBA1415_TRDJ_11_CB_ES-05721.ann file as .txt file is no essay.'\n",
      "Skipping /Users/simon.hughes/Google Drive/Phd/Data/CoralBleaching/BrattData/EBA1415_Merged/EBA1415_TRDJ_2_CB_ES-06128.ann file as .txt file is no essay.'\n",
      "Skipping /Users/simon.hughes/Google Drive/Phd/Data/CoralBleaching/BrattData/EBA1415_Merged/EBA1415_TRDJ_2_CB_ES-06132.ann file as .txt file is no essay.'\n",
      "Skipping /Users/simon.hughes/Google Drive/Phd/Data/CoralBleaching/BrattData/EBA1415_Merged/EBA1415_TRKM_1_CB_ES-05025.ann file as .txt file is no essay.'\n",
      "Skipping /Users/simon.hughes/Google Drive/Phd/Data/CoralBleaching/BrattData/EBA1415_Merged/EBA1415_TRKM_1_CB_ES-05030.ann file as .txt file is no essay.'\n",
      "Skipping /Users/simon.hughes/Google Drive/Phd/Data/CoralBleaching/BrattData/EBA1415_Merged/EBA1415_TTCM_2_CB_ES-06140.ann file as .txt file is no essay.'\n",
      "Skipping /Users/simon.hughes/Google Drive/Phd/Data/CoralBleaching/BrattData/EBA1415_Merged/EBA1415_TTCM_910_CB_ES-06149.ann file as .txt file is no essay.'\n",
      "Skipping /Users/simon.hughes/Google Drive/Phd/Data/CoralBleaching/BrattData/EBA1415_Merged/EBA1415_TTCM_910_CB_ES-06153.ann file as .txt file is no essay.'\n",
      "Skipping /Users/simon.hughes/Google Drive/Phd/Data/CoralBleaching/BrattData/EBA1415_Merged/EBA1415_TTKP_7-8_CB_ES-06174.ann file as .txt file is no essay.'\n",
      "Skipping /Users/simon.hughes/Google Drive/Phd/Data/CoralBleaching/BrattData/EBA1415_Merged/EBA1415post_TWNB_2_CB_ES-04948.ann file as .txt file is no essay.'\n",
      "1128 essays processed\n",
      "CPU times: user 5.62 s, sys: 458 ms, total: 6.08 s\n",
      "Wall time: 19.5 s\n"
     ]
    }
   ],
   "source": [
    "%%time\n",
    "from BrattEssay import load_bratt_essays\n",
    "from collections import defaultdict\n",
    "from IterableFP import flatten\n",
    "from Settings import Settings\n",
    "settings = Settings()\n",
    "essays = load_bratt_essays(folder)"
   ]
  },
  {
   "cell_type": "markdown",
   "metadata": {},
   "source": [
    "### Now Remove Invalid Files from the Joined List"
   ]
  },
  {
   "cell_type": "code",
   "execution_count": 11,
   "metadata": {},
   "outputs": [
    {
     "data": {
      "text/plain": [
       "(1128, 1128, 1154)"
      ]
     },
     "execution_count": 11,
     "metadata": {},
     "output_type": "execute_result"
    }
   ],
   "source": [
    "valid_essays = set(map(lambda essay: get_prefix(essay.full_path), essays))\n",
    "match = set((e for e in valid_essays if e in joined))\n",
    "len(valid_essays), len(match), len(joined)"
   ]
  },
  {
   "cell_type": "code",
   "execution_count": 13,
   "metadata": {},
   "outputs": [
    {
     "name": "stdout",
     "output_type": "stream",
     "text": [
      "26 Essays deleted\n",
      "1128 1128 1128\n"
     ]
    }
   ],
   "source": [
    "deleted = 0\n",
    "for e in list(joined.keys()):\n",
    "    if e not in match:\n",
    "        del joined[e]\n",
    "        deleted+=1\n",
    "print(deleted, \"Essays deleted\")\n",
    "print(len(valid_essays), len(match), len(joined))"
   ]
  },
  {
   "cell_type": "markdown",
   "metadata": {},
   "source": [
    "# Partition into Train and Test Sets"
   ]
  },
  {
   "cell_type": "markdown",
   "metadata": {},
   "source": [
    "## 1. Calculate the Partition Sizes (in ints):"
   ]
  },
  {
   "cell_type": "code",
   "execution_count": 15,
   "metadata": {},
   "outputs": [
    {
     "name": "stdout",
     "output_type": "stream",
     "text": [
      "Test: 226 \tTrain: 902 \tTotal: 1128\n",
      "20.0355 %\n"
     ]
    }
   ],
   "source": [
    "num = len(joined.keys())\n",
    "n_test = int(round(PCT_TEST_SPLIT * len(joined.keys())))\n",
    "print(\"Test:\", n_test, \"\\tTrain:\", num - n_test, \"\\tTotal:\", num)\n",
    "print(round(float(n_test) / num * 100,4), \"%\")"
   ]
  },
  {
   "cell_type": "code",
   "execution_count": 11,
   "metadata": {
    "collapsed": true,
    "jupyter": {
     "outputs_hidden": true
    }
   },
   "outputs": [],
   "source": [
    "assert num == len(essays), \"Total should match number of essays\""
   ]
  },
  {
   "cell_type": "markdown",
   "metadata": {},
   "source": [
    "## 2. Create Partition, and Compute Code Distributions"
   ]
  },
  {
   "cell_type": "markdown",
   "metadata": {},
   "source": [
    "### Compute Counts Across Whole Corpus"
   ]
  },
  {
   "cell_type": "code",
   "execution_count": 12,
   "metadata": {},
   "outputs": [
    {
     "data": {
      "text/plain": [
       "(167874, 10210, 190)"
      ]
     },
     "execution_count": 12,
     "metadata": {},
     "output_type": "execute_result"
    }
   ],
   "source": [
    "num_wds = 0\n",
    "num_sentences = 0\n",
    "all_codes = set()\n",
    "for essay in essays:\n",
    "    for sentence in essay.tagged_sentences:\n",
    "        num_sentences+=1\n",
    "        for wd, tags in sentence:\n",
    "            num_wds +=1\n",
    "            all_codes.update(tags)\n",
    "num_wds, num_sentences, len(all_codes)"
   ]
  },
  {
   "cell_type": "markdown",
   "metadata": {},
   "source": [
    "### Segment Codes by Category"
   ]
  },
  {
   "cell_type": "code",
   "execution_count": 13,
   "metadata": {},
   "outputs": [
    {
     "name": "stdout",
     "output_type": "stream",
     "text": [
      "regular ['1', '2', '3', '4', '5', '6', '7', '11', '12', '13', '14', '50', '5b']\n",
      "causal Causer:1->Result:11\n",
      "Causer:1->Result:13\n",
      "Causer:1->Result:14\n",
      "Causer:1->Result:2\n",
      "Causer:1->Result:3\n",
      "Causer:1->Result:4\n",
      "Causer:1->Result:5\n",
      "Causer:1->Result:50\n",
      "Causer:1->Result:6\n",
      "Causer:1->Result:7\n",
      "Causer:1->Result:Anaphor\n",
      "Causer:1->Result:other\n",
      "Causer:1->Result:rhetorical\n",
      "Causer:11->Result:11\n",
      "Causer:11->Result:12\n",
      "Causer:11->Result:13\n",
      "Causer:11->Result:14\n",
      "Causer:11->Result:3\n",
      "Causer:11->Result:4\n",
      "Causer:11->Result:50\n",
      "Causer:11->Result:6\n",
      "Causer:11->Result:Anaphor\n",
      "Causer:11->Result:rhetorical\n",
      "Causer:12->Result:11\n",
      "Causer:12->Result:13\n",
      "Causer:12->Result:14\n",
      "Causer:12->Result:50\n",
      "Causer:12->Result:5b\n",
      "Causer:12->Result:7\n",
      "Causer:13->Result:11\n",
      "Causer:13->Result:12\n",
      "Causer:13->Result:14\n",
      "Causer:13->Result:4\n",
      "Causer:13->Result:5\n",
      "Causer:13->Result:50\n",
      "Causer:13->Result:6\n",
      "Causer:13->Result:7\n",
      "Causer:13->Result:Anaphor\n",
      "Causer:13->Result:rhetorical\n",
      "Causer:14->Result:50\n",
      "Causer:14->Result:6\n",
      "Causer:14->Result:7\n",
      "Causer:14->Result:rhetorical\n",
      "Causer:2->Result:1\n",
      "Causer:2->Result:3\n",
      "Causer:2->Result:50\n",
      "Causer:2->Result:6\n",
      "Causer:2->Result:Anaphor\n",
      "Causer:3->Result:1\n",
      "Causer:3->Result:13\n",
      "Causer:3->Result:14\n",
      "Causer:3->Result:2\n",
      "Causer:3->Result:4\n",
      "Causer:3->Result:5\n",
      "Causer:3->Result:50\n",
      "Causer:3->Result:5b\n",
      "Causer:3->Result:6\n",
      "Causer:3->Result:7\n",
      "Causer:3->Result:Anaphor\n",
      "Causer:3->Result:rhetorical\n",
      "Causer:4->Result:11\n",
      "Causer:4->Result:13\n",
      "Causer:4->Result:14\n",
      "Causer:4->Result:3\n",
      "Causer:4->Result:5\n",
      "Causer:4->Result:50\n",
      "Causer:4->Result:5b\n",
      "Causer:4->Result:6\n",
      "Causer:4->Result:7\n",
      "Causer:4->Result:Anaphor\n",
      "Causer:4->Result:Change-factor\n",
      "Causer:4->Result:rhetorical\n",
      "Causer:5->Result:11\n",
      "Causer:5->Result:13\n",
      "Causer:5->Result:14\n",
      "Causer:5->Result:3\n",
      "Causer:5->Result:4\n",
      "Causer:5->Result:50\n",
      "Causer:5->Result:5b\n",
      "Causer:5->Result:7\n",
      "Causer:5->Result:Anaphor\n",
      "Causer:5->Result:rhetorical\n",
      "Causer:50->Result:1\n",
      "Causer:50->Result:3\n",
      "Causer:50->Result:50\n",
      "Causer:50->Result:7\n",
      "Causer:50->Result:other\n",
      "Causer:50->Result:rhetorical\n",
      "Causer:5b->Result:14\n",
      "Causer:5b->Result:5\n",
      "Causer:5b->Result:50\n",
      "Causer:5b->Result:7\n",
      "Causer:5b->Result:Anaphor\n",
      "Causer:5b->Result:rhetorical\n",
      "Causer:6->Result:14\n",
      "Causer:6->Result:5\n",
      "Causer:6->Result:50\n",
      "Causer:6->Result:5b\n",
      "Causer:6->Result:7\n",
      "Causer:6->Result:Anaphor\n",
      "Causer:6->Result:other\n",
      "Causer:6->Result:rhetorical\n",
      "Causer:7->Result:1\n",
      "Causer:7->Result:13\n",
      "Causer:7->Result:14\n",
      "Causer:7->Result:4\n",
      "Causer:7->Result:5\n",
      "Causer:7->Result:50\n",
      "Causer:7->Result:5b\n",
      "Causer:7->Result:Anaphor\n",
      "Causer:7->Result:rhetorical\n",
      "Causer:Anaphor->Result:11\n",
      "Causer:Anaphor->Result:12\n",
      "Causer:Anaphor->Result:13\n",
      "Causer:Anaphor->Result:14\n",
      "Causer:Anaphor->Result:2\n",
      "Causer:Anaphor->Result:3\n",
      "Causer:Anaphor->Result:4\n",
      "Causer:Anaphor->Result:5\n",
      "Causer:Anaphor->Result:50\n",
      "Causer:Anaphor->Result:5b\n",
      "Causer:Anaphor->Result:6\n",
      "Causer:Anaphor->Result:7\n",
      "Causer:Anaphor->Result:Anaphor\n",
      "Causer:Anaphor->Result:other\n",
      "Causer:Anaphor->Result:rhetorical\n",
      "Causer:Change-factor->Result:50\n",
      "Causer:other->Result:3\n",
      "Causer:other->Result:50\n",
      "Causer:other->Result:6\n",
      "Causer:other->Result:7\n",
      "Causer:rhetorical->Result:5\n",
      "Causer:rhetorical->Result:50\n",
      "Causer:rhetorical->Result:5b\n",
      "Causer:rhetorical->Result:Anaphor\n"
     ]
    }
   ],
   "source": [
    "regular_codes = sorted([c for c in all_codes if c[0].isdigit()], key=lambda c: (len(c), c))\n",
    "causal_codes = sorted([c for c in all_codes if \"->\" in c])\n",
    "print \"regular\", regular_codes\n",
    "print \"causal\", \"\\n\".join(causal_codes)"
   ]
  },
  {
   "cell_type": "code",
   "execution_count": 14,
   "metadata": {
    "collapsed": true,
    "jupyter": {
     "outputs_hidden": true
    }
   },
   "outputs": [],
   "source": [
    "def compute_tag_distributions(essays, codes=None):\n",
    "    if not codes:\n",
    "        codes = all_codes\n",
    "    else:\n",
    "        codes = set(codes)\n",
    "        \n",
    "    wd_tag_freq = defaultdict(int)\n",
    "    sent_tag_freq = defaultdict(int)\n",
    "    num_wds = 0\n",
    "    num_sentences = 0\n",
    "    for essay in essays:\n",
    "        for sentence in essay.tagged_sentences:\n",
    "            num_sentences+=1\n",
    "            # compute unique tags for sentence for computing sentence distributions\n",
    "            un_tags = set()\n",
    "            for wd, tags in sentence:\n",
    "                num_wds +=1\n",
    "                tags = tags.intersection(codes)\n",
    "                if not tags:\n",
    "                    continue\n",
    "        \n",
    "                un_tags.update(tags)\n",
    "                for tag in tags:\n",
    "                    wd_tag_freq[tag] += 1\n",
    "            for tag in un_tags:\n",
    "                sent_tag_freq[tag] += 1\n",
    "    \n",
    "    for tag in wd_tag_freq.keys():\n",
    "        wd_tag_freq[tag] = float(wd_tag_freq[tag])/ float(num_wds)\n",
    "        sent_tag_freq[tag] = float(sent_tag_freq[tag] / float(num_sentences))\n",
    "    \n",
    "    return wd_tag_freq, sent_tag_freq"
   ]
  },
  {
   "cell_type": "code",
   "execution_count": 15,
   "metadata": {
    "collapsed": true,
    "jupyter": {
     "outputs_hidden": true
    }
   },
   "outputs": [],
   "source": [
    "import pandas as pd\n",
    "def to_df(freq_dct):\n",
    "    return pd.DataFrame({\"codes\": freq_dct.keys(), \"freq\": freq_dct.values()}).sort_values(\"codes\")"
   ]
  },
  {
   "cell_type": "code",
   "execution_count": 16,
   "metadata": {},
   "outputs": [
    {
     "data": {
      "text/html": [
       "<div>\n",
       "<table border=\"1\" class=\"dataframe\">\n",
       "  <thead>\n",
       "    <tr style=\"text-align: right;\">\n",
       "      <th></th>\n",
       "      <th>codes</th>\n",
       "      <th>freq</th>\n",
       "    </tr>\n",
       "  </thead>\n",
       "  <tbody>\n",
       "    <tr>\n",
       "      <th>5</th>\n",
       "      <td>1</td>\n",
       "      <td>0.033245</td>\n",
       "    </tr>\n",
       "    <tr>\n",
       "      <th>0</th>\n",
       "      <td>11</td>\n",
       "      <td>0.006267</td>\n",
       "    </tr>\n",
       "    <tr>\n",
       "      <th>2</th>\n",
       "      <td>12</td>\n",
       "      <td>0.005069</td>\n",
       "    </tr>\n",
       "    <tr>\n",
       "      <th>1</th>\n",
       "      <td>13</td>\n",
       "      <td>0.013367</td>\n",
       "    </tr>\n",
       "    <tr>\n",
       "      <th>3</th>\n",
       "      <td>14</td>\n",
       "      <td>0.014713</td>\n",
       "    </tr>\n",
       "    <tr>\n",
       "      <th>7</th>\n",
       "      <td>2</td>\n",
       "      <td>0.008494</td>\n",
       "    </tr>\n",
       "    <tr>\n",
       "      <th>6</th>\n",
       "      <td>3</td>\n",
       "      <td>0.053600</td>\n",
       "    </tr>\n",
       "    <tr>\n",
       "      <th>9</th>\n",
       "      <td>4</td>\n",
       "      <td>0.018853</td>\n",
       "    </tr>\n",
       "    <tr>\n",
       "      <th>8</th>\n",
       "      <td>5</td>\n",
       "      <td>0.014535</td>\n",
       "    </tr>\n",
       "    <tr>\n",
       "      <th>4</th>\n",
       "      <td>50</td>\n",
       "      <td>0.088596</td>\n",
       "    </tr>\n",
       "    <tr>\n",
       "      <th>12</th>\n",
       "      <td>5b</td>\n",
       "      <td>0.014499</td>\n",
       "    </tr>\n",
       "    <tr>\n",
       "      <th>11</th>\n",
       "      <td>6</td>\n",
       "      <td>0.008763</td>\n",
       "    </tr>\n",
       "    <tr>\n",
       "      <th>10</th>\n",
       "      <td>7</td>\n",
       "      <td>0.030326</td>\n",
       "    </tr>\n",
       "  </tbody>\n",
       "</table>\n",
       "</div>"
      ],
      "text/plain": [
       "   codes      freq\n",
       "5      1  0.033245\n",
       "0     11  0.006267\n",
       "2     12  0.005069\n",
       "1     13  0.013367\n",
       "3     14  0.014713\n",
       "7      2  0.008494\n",
       "6      3  0.053600\n",
       "9      4  0.018853\n",
       "8      5  0.014535\n",
       "4     50  0.088596\n",
       "12    5b  0.014499\n",
       "11     6  0.008763\n",
       "10     7  0.030326"
      ]
     },
     "execution_count": 16,
     "metadata": {},
     "output_type": "execute_result"
    }
   ],
   "source": [
    "wd_freq, sent_freq = compute_tag_distributions(essays, regular_codes)\n",
    "to_df(wd_freq)"
   ]
  },
  {
   "cell_type": "code",
   "execution_count": 17,
   "metadata": {},
   "outputs": [
    {
     "data": {
      "text/html": [
       "<div>\n",
       "<table border=\"1\" class=\"dataframe\">\n",
       "  <thead>\n",
       "    <tr style=\"text-align: right;\">\n",
       "      <th></th>\n",
       "      <th>codes</th>\n",
       "      <th>freq</th>\n",
       "    </tr>\n",
       "  </thead>\n",
       "  <tbody>\n",
       "    <tr>\n",
       "      <th>5</th>\n",
       "      <td>1</td>\n",
       "      <td>0.126934</td>\n",
       "    </tr>\n",
       "    <tr>\n",
       "      <th>0</th>\n",
       "      <td>11</td>\n",
       "      <td>0.036631</td>\n",
       "    </tr>\n",
       "    <tr>\n",
       "      <th>2</th>\n",
       "      <td>12</td>\n",
       "      <td>0.012243</td>\n",
       "    </tr>\n",
       "    <tr>\n",
       "      <th>1</th>\n",
       "      <td>13</td>\n",
       "      <td>0.049167</td>\n",
       "    </tr>\n",
       "    <tr>\n",
       "      <th>3</th>\n",
       "      <td>14</td>\n",
       "      <td>0.033399</td>\n",
       "    </tr>\n",
       "    <tr>\n",
       "      <th>7</th>\n",
       "      <td>2</td>\n",
       "      <td>0.022625</td>\n",
       "    </tr>\n",
       "    <tr>\n",
       "      <th>6</th>\n",
       "      <td>3</td>\n",
       "      <td>0.146131</td>\n",
       "    </tr>\n",
       "    <tr>\n",
       "      <th>9</th>\n",
       "      <td>4</td>\n",
       "      <td>0.054065</td>\n",
       "    </tr>\n",
       "    <tr>\n",
       "      <th>8</th>\n",
       "      <td>5</td>\n",
       "      <td>0.062488</td>\n",
       "    </tr>\n",
       "    <tr>\n",
       "      <th>4</th>\n",
       "      <td>50</td>\n",
       "      <td>0.393830</td>\n",
       "    </tr>\n",
       "    <tr>\n",
       "      <th>12</th>\n",
       "      <td>5b</td>\n",
       "      <td>0.027032</td>\n",
       "    </tr>\n",
       "    <tr>\n",
       "      <th>11</th>\n",
       "      <td>6</td>\n",
       "      <td>0.040059</td>\n",
       "    </tr>\n",
       "    <tr>\n",
       "      <th>10</th>\n",
       "      <td>7</td>\n",
       "      <td>0.091675</td>\n",
       "    </tr>\n",
       "  </tbody>\n",
       "</table>\n",
       "</div>"
      ],
      "text/plain": [
       "   codes      freq\n",
       "5      1  0.126934\n",
       "0     11  0.036631\n",
       "2     12  0.012243\n",
       "1     13  0.049167\n",
       "3     14  0.033399\n",
       "7      2  0.022625\n",
       "6      3  0.146131\n",
       "9      4  0.054065\n",
       "8      5  0.062488\n",
       "4     50  0.393830\n",
       "12    5b  0.027032\n",
       "11     6  0.040059\n",
       "10     7  0.091675"
      ]
     },
     "execution_count": 17,
     "metadata": {},
     "output_type": "execute_result"
    }
   ],
   "source": [
    "to_df(sent_freq)"
   ]
  },
  {
   "cell_type": "code",
   "execution_count": 18,
   "metadata": {},
   "outputs": [
    {
     "name": "stdout",
     "output_type": "stream",
     "text": [
      "0.310327984083\n",
      "1.09627815867\n"
     ]
    }
   ],
   "source": [
    "print sum(wd_freq.values()) # A lot of words have 0 tags\n",
    "print sum(sent_freq.values()) # overlapping codes, a small number of sentences with no codes"
   ]
  },
  {
   "cell_type": "code",
   "execution_count": 19,
   "metadata": {},
   "outputs": [
    {
     "data": {
      "text/html": [
       "<div>\n",
       "<table border=\"1\" class=\"dataframe\">\n",
       "  <thead>\n",
       "    <tr style=\"text-align: right;\">\n",
       "      <th></th>\n",
       "      <th>codes</th>\n",
       "      <th>freq</th>\n",
       "    </tr>\n",
       "  </thead>\n",
       "  <tbody>\n",
       "    <tr>\n",
       "      <th>11</th>\n",
       "      <td>Causer:1-&gt;Result:11</td>\n",
       "      <td>0.000077</td>\n",
       "    </tr>\n",
       "    <tr>\n",
       "      <th>86</th>\n",
       "      <td>Causer:1-&gt;Result:13</td>\n",
       "      <td>0.000208</td>\n",
       "    </tr>\n",
       "    <tr>\n",
       "      <th>21</th>\n",
       "      <td>Causer:1-&gt;Result:14</td>\n",
       "      <td>0.000167</td>\n",
       "    </tr>\n",
       "    <tr>\n",
       "      <th>97</th>\n",
       "      <td>Causer:1-&gt;Result:2</td>\n",
       "      <td>0.006964</td>\n",
       "    </tr>\n",
       "    <tr>\n",
       "      <th>98</th>\n",
       "      <td>Causer:1-&gt;Result:3</td>\n",
       "      <td>0.017525</td>\n",
       "    </tr>\n",
       "    <tr>\n",
       "      <th>99</th>\n",
       "      <td>Causer:1-&gt;Result:4</td>\n",
       "      <td>0.000530</td>\n",
       "    </tr>\n",
       "    <tr>\n",
       "      <th>100</th>\n",
       "      <td>Causer:1-&gt;Result:5</td>\n",
       "      <td>0.000441</td>\n",
       "    </tr>\n",
       "    <tr>\n",
       "      <th>44</th>\n",
       "      <td>Causer:1-&gt;Result:50</td>\n",
       "      <td>0.025698</td>\n",
       "    </tr>\n",
       "    <tr>\n",
       "      <th>106</th>\n",
       "      <td>Causer:1-&gt;Result:6</td>\n",
       "      <td>0.000042</td>\n",
       "    </tr>\n",
       "    <tr>\n",
       "      <th>102</th>\n",
       "      <td>Causer:1-&gt;Result:7</td>\n",
       "      <td>0.000465</td>\n",
       "    </tr>\n",
       "    <tr>\n",
       "      <th>59</th>\n",
       "      <td>Causer:1-&gt;Result:Anaphor</td>\n",
       "      <td>0.000846</td>\n",
       "    </tr>\n",
       "    <tr>\n",
       "      <th>93</th>\n",
       "      <td>Causer:1-&gt;Result:other</td>\n",
       "      <td>0.000107</td>\n",
       "    </tr>\n",
       "    <tr>\n",
       "      <th>115</th>\n",
       "      <td>Causer:1-&gt;Result:rhetorical</td>\n",
       "      <td>0.001936</td>\n",
       "    </tr>\n",
       "    <tr>\n",
       "      <th>92</th>\n",
       "      <td>Causer:11-&gt;Result:11</td>\n",
       "      <td>0.000012</td>\n",
       "    </tr>\n",
       "    <tr>\n",
       "      <th>90</th>\n",
       "      <td>Causer:11-&gt;Result:12</td>\n",
       "      <td>0.005272</td>\n",
       "    </tr>\n",
       "    <tr>\n",
       "      <th>91</th>\n",
       "      <td>Causer:11-&gt;Result:13</td>\n",
       "      <td>0.007244</td>\n",
       "    </tr>\n",
       "    <tr>\n",
       "      <th>94</th>\n",
       "      <td>Causer:11-&gt;Result:14</td>\n",
       "      <td>0.001042</td>\n",
       "    </tr>\n",
       "    <tr>\n",
       "      <th>28</th>\n",
       "      <td>Causer:11-&gt;Result:3</td>\n",
       "      <td>0.000274</td>\n",
       "    </tr>\n",
       "    <tr>\n",
       "      <th>29</th>\n",
       "      <td>Causer:11-&gt;Result:4</td>\n",
       "      <td>0.000143</td>\n",
       "    </tr>\n",
       "    <tr>\n",
       "      <th>36</th>\n",
       "      <td>Causer:11-&gt;Result:50</td>\n",
       "      <td>0.004039</td>\n",
       "    </tr>\n",
       "    <tr>\n",
       "      <th>30</th>\n",
       "      <td>Causer:11-&gt;Result:6</td>\n",
       "      <td>0.000173</td>\n",
       "    </tr>\n",
       "    <tr>\n",
       "      <th>5</th>\n",
       "      <td>Causer:11-&gt;Result:Anaphor</td>\n",
       "      <td>0.000536</td>\n",
       "    </tr>\n",
       "    <tr>\n",
       "      <th>127</th>\n",
       "      <td>Causer:11-&gt;Result:rhetorical</td>\n",
       "      <td>0.000292</td>\n",
       "    </tr>\n",
       "    <tr>\n",
       "      <th>20</th>\n",
       "      <td>Causer:12-&gt;Result:11</td>\n",
       "      <td>0.000077</td>\n",
       "    </tr>\n",
       "    <tr>\n",
       "      <th>19</th>\n",
       "      <td>Causer:12-&gt;Result:13</td>\n",
       "      <td>0.006410</td>\n",
       "    </tr>\n",
       "    <tr>\n",
       "      <th>22</th>\n",
       "      <td>Causer:12-&gt;Result:14</td>\n",
       "      <td>0.000381</td>\n",
       "    </tr>\n",
       "    <tr>\n",
       "      <th>71</th>\n",
       "      <td>Causer:12-&gt;Result:50</td>\n",
       "      <td>0.000602</td>\n",
       "    </tr>\n",
       "    <tr>\n",
       "      <th>95</th>\n",
       "      <td>Causer:12-&gt;Result:5b</td>\n",
       "      <td>0.000054</td>\n",
       "    </tr>\n",
       "    <tr>\n",
       "      <th>103</th>\n",
       "      <td>Causer:12-&gt;Result:7</td>\n",
       "      <td>0.000197</td>\n",
       "    </tr>\n",
       "    <tr>\n",
       "      <th>80</th>\n",
       "      <td>Causer:13-&gt;Result:11</td>\n",
       "      <td>0.000208</td>\n",
       "    </tr>\n",
       "    <tr>\n",
       "      <th>...</th>\n",
       "      <td>...</td>\n",
       "      <td>...</td>\n",
       "    </tr>\n",
       "    <tr>\n",
       "      <th>125</th>\n",
       "      <td>Causer:7-&gt;Result:4</td>\n",
       "      <td>0.000113</td>\n",
       "    </tr>\n",
       "    <tr>\n",
       "      <th>126</th>\n",
       "      <td>Causer:7-&gt;Result:5</td>\n",
       "      <td>0.000071</td>\n",
       "    </tr>\n",
       "    <tr>\n",
       "      <th>114</th>\n",
       "      <td>Causer:7-&gt;Result:50</td>\n",
       "      <td>0.033180</td>\n",
       "    </tr>\n",
       "    <tr>\n",
       "      <th>130</th>\n",
       "      <td>Causer:7-&gt;Result:5b</td>\n",
       "      <td>0.000286</td>\n",
       "    </tr>\n",
       "    <tr>\n",
       "      <th>105</th>\n",
       "      <td>Causer:7-&gt;Result:Anaphor</td>\n",
       "      <td>0.000745</td>\n",
       "    </tr>\n",
       "    <tr>\n",
       "      <th>88</th>\n",
       "      <td>Causer:7-&gt;Result:rhetorical</td>\n",
       "      <td>0.000733</td>\n",
       "    </tr>\n",
       "    <tr>\n",
       "      <th>65</th>\n",
       "      <td>Causer:Anaphor-&gt;Result:11</td>\n",
       "      <td>0.000054</td>\n",
       "    </tr>\n",
       "    <tr>\n",
       "      <th>66</th>\n",
       "      <td>Causer:Anaphor-&gt;Result:12</td>\n",
       "      <td>0.000322</td>\n",
       "    </tr>\n",
       "    <tr>\n",
       "      <th>67</th>\n",
       "      <td>Causer:Anaphor-&gt;Result:13</td>\n",
       "      <td>0.000256</td>\n",
       "    </tr>\n",
       "    <tr>\n",
       "      <th>63</th>\n",
       "      <td>Causer:Anaphor-&gt;Result:14</td>\n",
       "      <td>0.001674</td>\n",
       "    </tr>\n",
       "    <tr>\n",
       "      <th>123</th>\n",
       "      <td>Causer:Anaphor-&gt;Result:2</td>\n",
       "      <td>0.000947</td>\n",
       "    </tr>\n",
       "    <tr>\n",
       "      <th>124</th>\n",
       "      <td>Causer:Anaphor-&gt;Result:3</td>\n",
       "      <td>0.000822</td>\n",
       "    </tr>\n",
       "    <tr>\n",
       "      <th>121</th>\n",
       "      <td>Causer:Anaphor-&gt;Result:4</td>\n",
       "      <td>0.000179</td>\n",
       "    </tr>\n",
       "    <tr>\n",
       "      <th>122</th>\n",
       "      <td>Causer:Anaphor-&gt;Result:5</td>\n",
       "      <td>0.000107</td>\n",
       "    </tr>\n",
       "    <tr>\n",
       "      <th>1</th>\n",
       "      <td>Causer:Anaphor-&gt;Result:50</td>\n",
       "      <td>0.004241</td>\n",
       "    </tr>\n",
       "    <tr>\n",
       "      <th>32</th>\n",
       "      <td>Causer:Anaphor-&gt;Result:5b</td>\n",
       "      <td>0.000757</td>\n",
       "    </tr>\n",
       "    <tr>\n",
       "      <th>119</th>\n",
       "      <td>Causer:Anaphor-&gt;Result:6</td>\n",
       "      <td>0.000518</td>\n",
       "    </tr>\n",
       "    <tr>\n",
       "      <th>120</th>\n",
       "      <td>Causer:Anaphor-&gt;Result:7</td>\n",
       "      <td>0.000888</td>\n",
       "    </tr>\n",
       "    <tr>\n",
       "      <th>10</th>\n",
       "      <td>Causer:Anaphor-&gt;Result:Anaphor</td>\n",
       "      <td>0.000030</td>\n",
       "    </tr>\n",
       "    <tr>\n",
       "      <th>31</th>\n",
       "      <td>Causer:Anaphor-&gt;Result:other</td>\n",
       "      <td>0.000060</td>\n",
       "    </tr>\n",
       "    <tr>\n",
       "      <th>13</th>\n",
       "      <td>Causer:Anaphor-&gt;Result:rhetorical</td>\n",
       "      <td>0.000018</td>\n",
       "    </tr>\n",
       "    <tr>\n",
       "      <th>64</th>\n",
       "      <td>Causer:Change-factor-&gt;Result:50</td>\n",
       "      <td>0.000060</td>\n",
       "    </tr>\n",
       "    <tr>\n",
       "      <th>79</th>\n",
       "      <td>Causer:other-&gt;Result:3</td>\n",
       "      <td>0.000125</td>\n",
       "    </tr>\n",
       "    <tr>\n",
       "      <th>53</th>\n",
       "      <td>Causer:other-&gt;Result:50</td>\n",
       "      <td>0.000846</td>\n",
       "    </tr>\n",
       "    <tr>\n",
       "      <th>78</th>\n",
       "      <td>Causer:other-&gt;Result:6</td>\n",
       "      <td>0.000220</td>\n",
       "    </tr>\n",
       "    <tr>\n",
       "      <th>96</th>\n",
       "      <td>Causer:other-&gt;Result:7</td>\n",
       "      <td>0.000244</td>\n",
       "    </tr>\n",
       "    <tr>\n",
       "      <th>129</th>\n",
       "      <td>Causer:rhetorical-&gt;Result:5</td>\n",
       "      <td>0.000077</td>\n",
       "    </tr>\n",
       "    <tr>\n",
       "      <th>87</th>\n",
       "      <td>Causer:rhetorical-&gt;Result:50</td>\n",
       "      <td>0.003854</td>\n",
       "    </tr>\n",
       "    <tr>\n",
       "      <th>68</th>\n",
       "      <td>Causer:rhetorical-&gt;Result:5b</td>\n",
       "      <td>0.000095</td>\n",
       "    </tr>\n",
       "    <tr>\n",
       "      <th>45</th>\n",
       "      <td>Causer:rhetorical-&gt;Result:Anaphor</td>\n",
       "      <td>0.000113</td>\n",
       "    </tr>\n",
       "  </tbody>\n",
       "</table>\n",
       "<p>135 rows × 2 columns</p>\n",
       "</div>"
      ],
      "text/plain": [
       "                                 codes      freq\n",
       "11                 Causer:1->Result:11  0.000077\n",
       "86                 Causer:1->Result:13  0.000208\n",
       "21                 Causer:1->Result:14  0.000167\n",
       "97                  Causer:1->Result:2  0.006964\n",
       "98                  Causer:1->Result:3  0.017525\n",
       "99                  Causer:1->Result:4  0.000530\n",
       "100                 Causer:1->Result:5  0.000441\n",
       "44                 Causer:1->Result:50  0.025698\n",
       "106                 Causer:1->Result:6  0.000042\n",
       "102                 Causer:1->Result:7  0.000465\n",
       "59            Causer:1->Result:Anaphor  0.000846\n",
       "93              Causer:1->Result:other  0.000107\n",
       "115        Causer:1->Result:rhetorical  0.001936\n",
       "92                Causer:11->Result:11  0.000012\n",
       "90                Causer:11->Result:12  0.005272\n",
       "91                Causer:11->Result:13  0.007244\n",
       "94                Causer:11->Result:14  0.001042\n",
       "28                 Causer:11->Result:3  0.000274\n",
       "29                 Causer:11->Result:4  0.000143\n",
       "36                Causer:11->Result:50  0.004039\n",
       "30                 Causer:11->Result:6  0.000173\n",
       "5            Causer:11->Result:Anaphor  0.000536\n",
       "127       Causer:11->Result:rhetorical  0.000292\n",
       "20                Causer:12->Result:11  0.000077\n",
       "19                Causer:12->Result:13  0.006410\n",
       "22                Causer:12->Result:14  0.000381\n",
       "71                Causer:12->Result:50  0.000602\n",
       "95                Causer:12->Result:5b  0.000054\n",
       "103                Causer:12->Result:7  0.000197\n",
       "80                Causer:13->Result:11  0.000208\n",
       "..                                 ...       ...\n",
       "125                 Causer:7->Result:4  0.000113\n",
       "126                 Causer:7->Result:5  0.000071\n",
       "114                Causer:7->Result:50  0.033180\n",
       "130                Causer:7->Result:5b  0.000286\n",
       "105           Causer:7->Result:Anaphor  0.000745\n",
       "88         Causer:7->Result:rhetorical  0.000733\n",
       "65           Causer:Anaphor->Result:11  0.000054\n",
       "66           Causer:Anaphor->Result:12  0.000322\n",
       "67           Causer:Anaphor->Result:13  0.000256\n",
       "63           Causer:Anaphor->Result:14  0.001674\n",
       "123           Causer:Anaphor->Result:2  0.000947\n",
       "124           Causer:Anaphor->Result:3  0.000822\n",
       "121           Causer:Anaphor->Result:4  0.000179\n",
       "122           Causer:Anaphor->Result:5  0.000107\n",
       "1            Causer:Anaphor->Result:50  0.004241\n",
       "32           Causer:Anaphor->Result:5b  0.000757\n",
       "119           Causer:Anaphor->Result:6  0.000518\n",
       "120           Causer:Anaphor->Result:7  0.000888\n",
       "10      Causer:Anaphor->Result:Anaphor  0.000030\n",
       "31        Causer:Anaphor->Result:other  0.000060\n",
       "13   Causer:Anaphor->Result:rhetorical  0.000018\n",
       "64     Causer:Change-factor->Result:50  0.000060\n",
       "79              Causer:other->Result:3  0.000125\n",
       "53             Causer:other->Result:50  0.000846\n",
       "78              Causer:other->Result:6  0.000220\n",
       "96              Causer:other->Result:7  0.000244\n",
       "129        Causer:rhetorical->Result:5  0.000077\n",
       "87        Causer:rhetorical->Result:50  0.003854\n",
       "68        Causer:rhetorical->Result:5b  0.000095\n",
       "45   Causer:rhetorical->Result:Anaphor  0.000113\n",
       "\n",
       "[135 rows x 2 columns]"
      ]
     },
     "execution_count": 19,
     "metadata": {},
     "output_type": "execute_result"
    }
   ],
   "source": [
    "wd_freq_causal, sent_freq_causal = compute_tag_distributions(essays, causal_codes)\n",
    "to_df(wd_freq_causal)"
   ]
  },
  {
   "cell_type": "code",
   "execution_count": 20,
   "metadata": {
    "collapsed": true,
    "jupyter": {
     "outputs_hidden": true
    }
   },
   "outputs": [],
   "source": [
    "import numpy as np\n",
    "from numpy import random\n",
    "def random_splt(essays, n_test):\n",
    "    np_essays = np.asarray(essays)\n",
    "    # inplace shuffle\n",
    "    random.shuffle(np_essays)\n",
    "    test, train = np_essays[:n_test], np_essays[n_test:]\n",
    "    assert len(test) == n_test, \"Test set size does not equal expected\"\n",
    "    return train, test"
   ]
  },
  {
   "cell_type": "code",
   "execution_count": 21,
   "metadata": {},
   "outputs": [
    {
     "data": {
      "text/plain": [
       "(902, 226)"
      ]
     },
     "execution_count": 21,
     "metadata": {},
     "output_type": "execute_result"
    }
   ],
   "source": [
    "# Test Function\n",
    "train, test = random_splt(essays, n_test)\n",
    "assert n_test == len(test), \"Test set not expected size\"\n",
    "assert len(essays) == (len(train) + len(test)), \"Train and Test set sizes should equal total essays size\"\n",
    "len(train), len(test)"
   ]
  },
  {
   "cell_type": "markdown",
   "metadata": {},
   "source": [
    "### Compute Kullback-Leibler Divergence to Find the Closest Distribution"
   ]
  },
  {
   "cell_type": "code",
   "execution_count": 22,
   "metadata": {
    "collapsed": true,
    "jupyter": {
     "outputs_hidden": true
    }
   },
   "outputs": [],
   "source": [
    "# log is not defined if the denom is 0. if the denom is 0\n",
    "# this is a bad split, as we want all codes to be represented\n",
    "# so return max_val, as we are trying to minimize the divergence\n",
    "max_val = 99999999\n",
    "def kl(a,b):\n",
    "    join = zip(a,b)\n",
    "    kl_val_a = 0.0\n",
    "    kl_val_b = 0.0\n",
    "    for pa, pb in join:\n",
    "        if pa == 0.0 or pb == 0.0:\n",
    "            return max_val,max_val\n",
    "        kl_val_a += pa*np.log(pa/pb)\n",
    "        kl_val_b += pb*np.log(pb/pa)\n",
    "    return kl_val_a, kl_val_b"
   ]
  },
  {
   "cell_type": "code",
   "execution_count": 23,
   "metadata": {
    "collapsed": true,
    "jupyter": {
     "outputs_hidden": true
    }
   },
   "outputs": [],
   "source": [
    "def compare_wd_tag_dist(test_essays, codes):\n",
    "    all_wd_freq, _ = compute_tag_distributions(essays, codes)\n",
    "    test_wd_freq,_ = compute_tag_distributions(test_essays, codes)\n",
    "    return pd.merge(to_df(all_wd_freq), to_df(test_wd_freq), on=\"codes\", suffixes=[\"all\", \"test\"])\n",
    "\n",
    "def compare_sent_tag_dist(test_essays, codes):\n",
    "    _, all_sent_freq  = compute_tag_distributions(essays, codes)\n",
    "    _, test_sent_freq = compute_tag_distributions(test_essays, codes)\n",
    "    return pd.merge(to_df(all_sent_freq), to_df(test_sent_freq), on=\"codes\", suffixes=[\"all\", \"test\"])"
   ]
  },
  {
   "cell_type": "markdown",
   "metadata": {},
   "source": [
    "## Compute Best Split Using Concept Codes Only"
   ]
  },
  {
   "cell_type": "raw",
   "metadata": {},
   "source": [
    "%%time\n",
    "kl_vals = {}\n",
    "for i in range(1000):\n",
    "    train, test = random_splt(essays, n_test)\n",
    "    test_wd_freq, test_sent_freq = compute_tag_distributions(test, regular_codes)\n",
    "    vals = kl(wd_freq.values(), test_wd_freq.values())\n",
    "    # map to abs values\n",
    "    vals = list(map(abs, vals))\n",
    "    max_val = max(vals)\n",
    "    kl_vals[max_val] = (train,test)\n",
    "\n",
    "# Get best\n",
    "best_kl_code, best_code_split = min(kl_vals.items(), key=lambda (k,v): k)\n",
    "best_kl_code"
   ]
  },
  {
   "cell_type": "raw",
   "metadata": {},
   "source": [
    "_, best_testsplit_code = best_code_split\n",
    "best_kl_code"
   ]
  },
  {
   "cell_type": "markdown",
   "metadata": {},
   "source": [
    "## Compute Best Split Using Causal Codes"
   ]
  },
  {
   "cell_type": "code",
   "execution_count": 24,
   "metadata": {},
   "outputs": [
    {
     "name": "stdout",
     "output_type": "stream",
     "text": [
      "CPU times: user 2h 47min 26s, sys: 2min 3s, total: 2h 49min 30s\n",
      "Wall time: 3h 52min 50s\n"
     ]
    }
   ],
   "source": [
    "%%time\n",
    "kl_vals = {}\n",
    "for i in range(SPLITS):\n",
    "    train, test = random_splt(essays, n_test)\n",
    "    test_wd_freq, test_sent_freq = compute_tag_distributions(test, causal_codes)\n",
    "    vals = kl(wd_freq_causal.values(), test_wd_freq.values())\n",
    "    # map to abs values\n",
    "    vals = list(map(abs, vals))\n",
    "    max_val = max(vals)\n",
    "    kl_vals[max_val] = (train,test)\n",
    "\n",
    "# Get best\n",
    "best_kl_causal, best_split_causal = min(kl_vals.items(), key=lambda (k,v): k)\n",
    "best_kl_causal"
   ]
  },
  {
   "cell_type": "code",
   "execution_count": 25,
   "metadata": {},
   "outputs": [
    {
     "data": {
      "text/plain": [
       "0.43980073729912872"
      ]
     },
     "execution_count": 25,
     "metadata": {},
     "output_type": "execute_result"
    }
   ],
   "source": [
    "_, best_testsplit_causal = best_split_causal\n",
    "best_kl_causal"
   ]
  },
  {
   "cell_type": "markdown",
   "metadata": {},
   "source": [
    "### Compute KL on Regular Codes for the Best Causal Split"
   ]
  },
  {
   "cell_type": "code",
   "execution_count": 26,
   "metadata": {},
   "outputs": [
    {
     "data": {
      "text/plain": [
       "(0.014401664596055122, -0.011252698077513119)"
      ]
     },
     "execution_count": 26,
     "metadata": {},
     "output_type": "execute_result"
    }
   ],
   "source": [
    "wtfreq, _ = compute_tag_distributions(best_testsplit_causal, regular_codes)\n",
    "vals = kl(wd_freq.values(), wtfreq.values())\n",
    "vals"
   ]
  },
  {
   "cell_type": "markdown",
   "metadata": {},
   "source": [
    "## Inspect The Distributions"
   ]
  },
  {
   "cell_type": "code",
   "execution_count": 27,
   "metadata": {},
   "outputs": [
    {
     "data": {
      "text/html": [
       "<div>\n",
       "<table border=\"1\" class=\"dataframe\">\n",
       "  <thead>\n",
       "    <tr style=\"text-align: right;\">\n",
       "      <th></th>\n",
       "      <th>codes</th>\n",
       "      <th>freqall</th>\n",
       "      <th>freqtest</th>\n",
       "    </tr>\n",
       "  </thead>\n",
       "  <tbody>\n",
       "    <tr>\n",
       "      <th>0</th>\n",
       "      <td>1</td>\n",
       "      <td>0.033245</td>\n",
       "      <td>0.033780</td>\n",
       "    </tr>\n",
       "    <tr>\n",
       "      <th>1</th>\n",
       "      <td>11</td>\n",
       "      <td>0.006267</td>\n",
       "      <td>0.006645</td>\n",
       "    </tr>\n",
       "    <tr>\n",
       "      <th>2</th>\n",
       "      <td>12</td>\n",
       "      <td>0.005069</td>\n",
       "      <td>0.003681</td>\n",
       "    </tr>\n",
       "    <tr>\n",
       "      <th>3</th>\n",
       "      <td>13</td>\n",
       "      <td>0.013367</td>\n",
       "      <td>0.011759</td>\n",
       "    </tr>\n",
       "    <tr>\n",
       "      <th>4</th>\n",
       "      <td>14</td>\n",
       "      <td>0.014713</td>\n",
       "      <td>0.010522</td>\n",
       "    </tr>\n",
       "    <tr>\n",
       "      <th>5</th>\n",
       "      <td>2</td>\n",
       "      <td>0.008494</td>\n",
       "      <td>0.009316</td>\n",
       "    </tr>\n",
       "    <tr>\n",
       "      <th>6</th>\n",
       "      <td>3</td>\n",
       "      <td>0.053600</td>\n",
       "      <td>0.052412</td>\n",
       "    </tr>\n",
       "    <tr>\n",
       "      <th>7</th>\n",
       "      <td>4</td>\n",
       "      <td>0.018853</td>\n",
       "      <td>0.017134</td>\n",
       "    </tr>\n",
       "    <tr>\n",
       "      <th>8</th>\n",
       "      <td>5</td>\n",
       "      <td>0.014535</td>\n",
       "      <td>0.014007</td>\n",
       "    </tr>\n",
       "    <tr>\n",
       "      <th>9</th>\n",
       "      <td>50</td>\n",
       "      <td>0.088596</td>\n",
       "      <td>0.088081</td>\n",
       "    </tr>\n",
       "    <tr>\n",
       "      <th>10</th>\n",
       "      <td>5b</td>\n",
       "      <td>0.014499</td>\n",
       "      <td>0.012020</td>\n",
       "    </tr>\n",
       "    <tr>\n",
       "      <th>11</th>\n",
       "      <td>6</td>\n",
       "      <td>0.008763</td>\n",
       "      <td>0.007232</td>\n",
       "    </tr>\n",
       "    <tr>\n",
       "      <th>12</th>\n",
       "      <td>7</td>\n",
       "      <td>0.030326</td>\n",
       "      <td>0.030978</td>\n",
       "    </tr>\n",
       "  </tbody>\n",
       "</table>\n",
       "</div>"
      ],
      "text/plain": [
       "   codes   freqall  freqtest\n",
       "0      1  0.033245  0.033780\n",
       "1     11  0.006267  0.006645\n",
       "2     12  0.005069  0.003681\n",
       "3     13  0.013367  0.011759\n",
       "4     14  0.014713  0.010522\n",
       "5      2  0.008494  0.009316\n",
       "6      3  0.053600  0.052412\n",
       "7      4  0.018853  0.017134\n",
       "8      5  0.014535  0.014007\n",
       "9     50  0.088596  0.088081\n",
       "10    5b  0.014499  0.012020\n",
       "11     6  0.008763  0.007232\n",
       "12     7  0.030326  0.030978"
      ]
     },
     "execution_count": 27,
     "metadata": {},
     "output_type": "execute_result"
    }
   ],
   "source": [
    "df = compare_wd_tag_dist(best_testsplit_causal, regular_codes)\n",
    "df"
   ]
  },
  {
   "cell_type": "code",
   "execution_count": 28,
   "metadata": {},
   "outputs": [
    {
     "data": {
      "text/html": [
       "<div>\n",
       "<table border=\"1\" class=\"dataframe\">\n",
       "  <thead>\n",
       "    <tr style=\"text-align: right;\">\n",
       "      <th></th>\n",
       "      <th>codes</th>\n",
       "      <th>freqall</th>\n",
       "      <th>freqtest</th>\n",
       "    </tr>\n",
       "  </thead>\n",
       "  <tbody>\n",
       "    <tr>\n",
       "      <th>0</th>\n",
       "      <td>Causer:1-&gt;Result:2</td>\n",
       "      <td>0.006964</td>\n",
       "      <td>0.008046</td>\n",
       "    </tr>\n",
       "    <tr>\n",
       "      <th>1</th>\n",
       "      <td>Causer:1-&gt;Result:3</td>\n",
       "      <td>0.017525</td>\n",
       "      <td>0.015310</td>\n",
       "    </tr>\n",
       "    <tr>\n",
       "      <th>2</th>\n",
       "      <td>Causer:1-&gt;Result:4</td>\n",
       "      <td>0.000530</td>\n",
       "      <td>0.000977</td>\n",
       "    </tr>\n",
       "    <tr>\n",
       "      <th>3</th>\n",
       "      <td>Causer:1-&gt;Result:5</td>\n",
       "      <td>0.000441</td>\n",
       "      <td>0.000358</td>\n",
       "    </tr>\n",
       "    <tr>\n",
       "      <th>4</th>\n",
       "      <td>Causer:1-&gt;Result:50</td>\n",
       "      <td>0.025698</td>\n",
       "      <td>0.025473</td>\n",
       "    </tr>\n",
       "    <tr>\n",
       "      <th>5</th>\n",
       "      <td>Causer:1-&gt;Result:7</td>\n",
       "      <td>0.000465</td>\n",
       "      <td>0.000423</td>\n",
       "    </tr>\n",
       "    <tr>\n",
       "      <th>6</th>\n",
       "      <td>Causer:1-&gt;Result:Anaphor</td>\n",
       "      <td>0.000846</td>\n",
       "      <td>0.000749</td>\n",
       "    </tr>\n",
       "    <tr>\n",
       "      <th>7</th>\n",
       "      <td>Causer:1-&gt;Result:rhetorical</td>\n",
       "      <td>0.001936</td>\n",
       "      <td>0.002378</td>\n",
       "    </tr>\n",
       "    <tr>\n",
       "      <th>8</th>\n",
       "      <td>Causer:11-&gt;Result:12</td>\n",
       "      <td>0.005272</td>\n",
       "      <td>0.002248</td>\n",
       "    </tr>\n",
       "    <tr>\n",
       "      <th>9</th>\n",
       "      <td>Causer:11-&gt;Result:13</td>\n",
       "      <td>0.007244</td>\n",
       "      <td>0.007460</td>\n",
       "    </tr>\n",
       "    <tr>\n",
       "      <th>10</th>\n",
       "      <td>Causer:11-&gt;Result:14</td>\n",
       "      <td>0.001042</td>\n",
       "      <td>0.001173</td>\n",
       "    </tr>\n",
       "    <tr>\n",
       "      <th>11</th>\n",
       "      <td>Causer:11-&gt;Result:4</td>\n",
       "      <td>0.000143</td>\n",
       "      <td>0.000326</td>\n",
       "    </tr>\n",
       "    <tr>\n",
       "      <th>12</th>\n",
       "      <td>Causer:11-&gt;Result:50</td>\n",
       "      <td>0.004039</td>\n",
       "      <td>0.004332</td>\n",
       "    </tr>\n",
       "    <tr>\n",
       "      <th>13</th>\n",
       "      <td>Causer:11-&gt;Result:Anaphor</td>\n",
       "      <td>0.000536</td>\n",
       "      <td>0.000489</td>\n",
       "    </tr>\n",
       "    <tr>\n",
       "      <th>14</th>\n",
       "      <td>Causer:11-&gt;Result:rhetorical</td>\n",
       "      <td>0.000292</td>\n",
       "      <td>0.000619</td>\n",
       "    </tr>\n",
       "    <tr>\n",
       "      <th>15</th>\n",
       "      <td>Causer:12-&gt;Result:13</td>\n",
       "      <td>0.006410</td>\n",
       "      <td>0.004756</td>\n",
       "    </tr>\n",
       "    <tr>\n",
       "      <th>16</th>\n",
       "      <td>Causer:12-&gt;Result:14</td>\n",
       "      <td>0.000381</td>\n",
       "      <td>0.000912</td>\n",
       "    </tr>\n",
       "    <tr>\n",
       "      <th>17</th>\n",
       "      <td>Causer:12-&gt;Result:50</td>\n",
       "      <td>0.000602</td>\n",
       "      <td>0.000619</td>\n",
       "    </tr>\n",
       "    <tr>\n",
       "      <th>18</th>\n",
       "      <td>Causer:13-&gt;Result:11</td>\n",
       "      <td>0.000208</td>\n",
       "      <td>0.000489</td>\n",
       "    </tr>\n",
       "    <tr>\n",
       "      <th>19</th>\n",
       "      <td>Causer:13-&gt;Result:14</td>\n",
       "      <td>0.006326</td>\n",
       "      <td>0.004626</td>\n",
       "    </tr>\n",
       "    <tr>\n",
       "      <th>20</th>\n",
       "      <td>Causer:13-&gt;Result:50</td>\n",
       "      <td>0.006594</td>\n",
       "      <td>0.005082</td>\n",
       "    </tr>\n",
       "    <tr>\n",
       "      <th>21</th>\n",
       "      <td>Causer:13-&gt;Result:6</td>\n",
       "      <td>0.000280</td>\n",
       "      <td>0.000293</td>\n",
       "    </tr>\n",
       "    <tr>\n",
       "      <th>22</th>\n",
       "      <td>Causer:13-&gt;Result:7</td>\n",
       "      <td>0.000226</td>\n",
       "      <td>0.000326</td>\n",
       "    </tr>\n",
       "    <tr>\n",
       "      <th>23</th>\n",
       "      <td>Causer:13-&gt;Result:rhetorical</td>\n",
       "      <td>0.000405</td>\n",
       "      <td>0.000489</td>\n",
       "    </tr>\n",
       "    <tr>\n",
       "      <th>24</th>\n",
       "      <td>Causer:14-&gt;Result:50</td>\n",
       "      <td>0.006118</td>\n",
       "      <td>0.003355</td>\n",
       "    </tr>\n",
       "    <tr>\n",
       "      <th>25</th>\n",
       "      <td>Causer:2-&gt;Result:3</td>\n",
       "      <td>0.004134</td>\n",
       "      <td>0.006613</td>\n",
       "    </tr>\n",
       "    <tr>\n",
       "      <th>26</th>\n",
       "      <td>Causer:2-&gt;Result:50</td>\n",
       "      <td>0.000709</td>\n",
       "      <td>0.001857</td>\n",
       "    </tr>\n",
       "    <tr>\n",
       "      <th>27</th>\n",
       "      <td>Causer:3-&gt;Result:1</td>\n",
       "      <td>0.001138</td>\n",
       "      <td>0.001433</td>\n",
       "    </tr>\n",
       "    <tr>\n",
       "      <th>28</th>\n",
       "      <td>Causer:3-&gt;Result:4</td>\n",
       "      <td>0.009424</td>\n",
       "      <td>0.007916</td>\n",
       "    </tr>\n",
       "    <tr>\n",
       "      <th>29</th>\n",
       "      <td>Causer:3-&gt;Result:5</td>\n",
       "      <td>0.009358</td>\n",
       "      <td>0.006971</td>\n",
       "    </tr>\n",
       "    <tr>\n",
       "      <th>...</th>\n",
       "      <td>...</td>\n",
       "      <td>...</td>\n",
       "      <td>...</td>\n",
       "    </tr>\n",
       "    <tr>\n",
       "      <th>47</th>\n",
       "      <td>Causer:5-&gt;Result:7</td>\n",
       "      <td>0.000882</td>\n",
       "      <td>0.000912</td>\n",
       "    </tr>\n",
       "    <tr>\n",
       "      <th>48</th>\n",
       "      <td>Causer:5-&gt;Result:Anaphor</td>\n",
       "      <td>0.000024</td>\n",
       "      <td>0.000130</td>\n",
       "    </tr>\n",
       "    <tr>\n",
       "      <th>49</th>\n",
       "      <td>Causer:5-&gt;Result:rhetorical</td>\n",
       "      <td>0.000322</td>\n",
       "      <td>0.000554</td>\n",
       "    </tr>\n",
       "    <tr>\n",
       "      <th>50</th>\n",
       "      <td>Causer:50-&gt;Result:1</td>\n",
       "      <td>0.000179</td>\n",
       "      <td>0.000749</td>\n",
       "    </tr>\n",
       "    <tr>\n",
       "      <th>51</th>\n",
       "      <td>Causer:50-&gt;Result:3</td>\n",
       "      <td>0.000083</td>\n",
       "      <td>0.000163</td>\n",
       "    </tr>\n",
       "    <tr>\n",
       "      <th>52</th>\n",
       "      <td>Causer:50-&gt;Result:7</td>\n",
       "      <td>0.000405</td>\n",
       "      <td>0.000619</td>\n",
       "    </tr>\n",
       "    <tr>\n",
       "      <th>53</th>\n",
       "      <td>Causer:50-&gt;Result:rhetorical</td>\n",
       "      <td>0.000042</td>\n",
       "      <td>0.000228</td>\n",
       "    </tr>\n",
       "    <tr>\n",
       "      <th>54</th>\n",
       "      <td>Causer:5b-&gt;Result:50</td>\n",
       "      <td>0.002669</td>\n",
       "      <td>0.002150</td>\n",
       "    </tr>\n",
       "    <tr>\n",
       "      <th>55</th>\n",
       "      <td>Causer:6-&gt;Result:14</td>\n",
       "      <td>0.004104</td>\n",
       "      <td>0.003518</td>\n",
       "    </tr>\n",
       "    <tr>\n",
       "      <th>56</th>\n",
       "      <td>Causer:6-&gt;Result:5</td>\n",
       "      <td>0.000071</td>\n",
       "      <td>0.000391</td>\n",
       "    </tr>\n",
       "    <tr>\n",
       "      <th>57</th>\n",
       "      <td>Causer:6-&gt;Result:50</td>\n",
       "      <td>0.004843</td>\n",
       "      <td>0.004626</td>\n",
       "    </tr>\n",
       "    <tr>\n",
       "      <th>58</th>\n",
       "      <td>Causer:6-&gt;Result:7</td>\n",
       "      <td>0.011652</td>\n",
       "      <td>0.010228</td>\n",
       "    </tr>\n",
       "    <tr>\n",
       "      <th>59</th>\n",
       "      <td>Causer:6-&gt;Result:rhetorical</td>\n",
       "      <td>0.000310</td>\n",
       "      <td>0.000456</td>\n",
       "    </tr>\n",
       "    <tr>\n",
       "      <th>60</th>\n",
       "      <td>Causer:7-&gt;Result:1</td>\n",
       "      <td>0.000143</td>\n",
       "      <td>0.000782</td>\n",
       "    </tr>\n",
       "    <tr>\n",
       "      <th>61</th>\n",
       "      <td>Causer:7-&gt;Result:13</td>\n",
       "      <td>0.000066</td>\n",
       "      <td>0.000358</td>\n",
       "    </tr>\n",
       "    <tr>\n",
       "      <th>62</th>\n",
       "      <td>Causer:7-&gt;Result:50</td>\n",
       "      <td>0.033180</td>\n",
       "      <td>0.037395</td>\n",
       "    </tr>\n",
       "    <tr>\n",
       "      <th>63</th>\n",
       "      <td>Causer:7-&gt;Result:Anaphor</td>\n",
       "      <td>0.000745</td>\n",
       "      <td>0.000163</td>\n",
       "    </tr>\n",
       "    <tr>\n",
       "      <th>64</th>\n",
       "      <td>Causer:7-&gt;Result:rhetorical</td>\n",
       "      <td>0.000733</td>\n",
       "      <td>0.000847</td>\n",
       "    </tr>\n",
       "    <tr>\n",
       "      <th>65</th>\n",
       "      <td>Causer:Anaphor-&gt;Result:12</td>\n",
       "      <td>0.000322</td>\n",
       "      <td>0.000293</td>\n",
       "    </tr>\n",
       "    <tr>\n",
       "      <th>66</th>\n",
       "      <td>Causer:Anaphor-&gt;Result:13</td>\n",
       "      <td>0.000256</td>\n",
       "      <td>0.000163</td>\n",
       "    </tr>\n",
       "    <tr>\n",
       "      <th>67</th>\n",
       "      <td>Causer:Anaphor-&gt;Result:14</td>\n",
       "      <td>0.001674</td>\n",
       "      <td>0.001238</td>\n",
       "    </tr>\n",
       "    <tr>\n",
       "      <th>68</th>\n",
       "      <td>Causer:Anaphor-&gt;Result:3</td>\n",
       "      <td>0.000822</td>\n",
       "      <td>0.001205</td>\n",
       "    </tr>\n",
       "    <tr>\n",
       "      <th>69</th>\n",
       "      <td>Causer:Anaphor-&gt;Result:50</td>\n",
       "      <td>0.004241</td>\n",
       "      <td>0.002769</td>\n",
       "    </tr>\n",
       "    <tr>\n",
       "      <th>70</th>\n",
       "      <td>Causer:Anaphor-&gt;Result:5b</td>\n",
       "      <td>0.000757</td>\n",
       "      <td>0.000586</td>\n",
       "    </tr>\n",
       "    <tr>\n",
       "      <th>71</th>\n",
       "      <td>Causer:Anaphor-&gt;Result:7</td>\n",
       "      <td>0.000888</td>\n",
       "      <td>0.000749</td>\n",
       "    </tr>\n",
       "    <tr>\n",
       "      <th>72</th>\n",
       "      <td>Causer:Change-factor-&gt;Result:50</td>\n",
       "      <td>0.000060</td>\n",
       "      <td>0.000326</td>\n",
       "    </tr>\n",
       "    <tr>\n",
       "      <th>73</th>\n",
       "      <td>Causer:other-&gt;Result:6</td>\n",
       "      <td>0.000220</td>\n",
       "      <td>0.000293</td>\n",
       "    </tr>\n",
       "    <tr>\n",
       "      <th>74</th>\n",
       "      <td>Causer:other-&gt;Result:7</td>\n",
       "      <td>0.000244</td>\n",
       "      <td>0.001336</td>\n",
       "    </tr>\n",
       "    <tr>\n",
       "      <th>75</th>\n",
       "      <td>Causer:rhetorical-&gt;Result:50</td>\n",
       "      <td>0.003854</td>\n",
       "      <td>0.004528</td>\n",
       "    </tr>\n",
       "    <tr>\n",
       "      <th>76</th>\n",
       "      <td>Causer:rhetorical-&gt;Result:Anaphor</td>\n",
       "      <td>0.000113</td>\n",
       "      <td>0.000163</td>\n",
       "    </tr>\n",
       "  </tbody>\n",
       "</table>\n",
       "<p>77 rows × 3 columns</p>\n",
       "</div>"
      ],
      "text/plain": [
       "                                codes   freqall  freqtest\n",
       "0                  Causer:1->Result:2  0.006964  0.008046\n",
       "1                  Causer:1->Result:3  0.017525  0.015310\n",
       "2                  Causer:1->Result:4  0.000530  0.000977\n",
       "3                  Causer:1->Result:5  0.000441  0.000358\n",
       "4                 Causer:1->Result:50  0.025698  0.025473\n",
       "5                  Causer:1->Result:7  0.000465  0.000423\n",
       "6            Causer:1->Result:Anaphor  0.000846  0.000749\n",
       "7         Causer:1->Result:rhetorical  0.001936  0.002378\n",
       "8                Causer:11->Result:12  0.005272  0.002248\n",
       "9                Causer:11->Result:13  0.007244  0.007460\n",
       "10               Causer:11->Result:14  0.001042  0.001173\n",
       "11                Causer:11->Result:4  0.000143  0.000326\n",
       "12               Causer:11->Result:50  0.004039  0.004332\n",
       "13          Causer:11->Result:Anaphor  0.000536  0.000489\n",
       "14       Causer:11->Result:rhetorical  0.000292  0.000619\n",
       "15               Causer:12->Result:13  0.006410  0.004756\n",
       "16               Causer:12->Result:14  0.000381  0.000912\n",
       "17               Causer:12->Result:50  0.000602  0.000619\n",
       "18               Causer:13->Result:11  0.000208  0.000489\n",
       "19               Causer:13->Result:14  0.006326  0.004626\n",
       "20               Causer:13->Result:50  0.006594  0.005082\n",
       "21                Causer:13->Result:6  0.000280  0.000293\n",
       "22                Causer:13->Result:7  0.000226  0.000326\n",
       "23       Causer:13->Result:rhetorical  0.000405  0.000489\n",
       "24               Causer:14->Result:50  0.006118  0.003355\n",
       "25                 Causer:2->Result:3  0.004134  0.006613\n",
       "26                Causer:2->Result:50  0.000709  0.001857\n",
       "27                 Causer:3->Result:1  0.001138  0.001433\n",
       "28                 Causer:3->Result:4  0.009424  0.007916\n",
       "29                 Causer:3->Result:5  0.009358  0.006971\n",
       "..                                ...       ...       ...\n",
       "47                 Causer:5->Result:7  0.000882  0.000912\n",
       "48           Causer:5->Result:Anaphor  0.000024  0.000130\n",
       "49        Causer:5->Result:rhetorical  0.000322  0.000554\n",
       "50                Causer:50->Result:1  0.000179  0.000749\n",
       "51                Causer:50->Result:3  0.000083  0.000163\n",
       "52                Causer:50->Result:7  0.000405  0.000619\n",
       "53       Causer:50->Result:rhetorical  0.000042  0.000228\n",
       "54               Causer:5b->Result:50  0.002669  0.002150\n",
       "55                Causer:6->Result:14  0.004104  0.003518\n",
       "56                 Causer:6->Result:5  0.000071  0.000391\n",
       "57                Causer:6->Result:50  0.004843  0.004626\n",
       "58                 Causer:6->Result:7  0.011652  0.010228\n",
       "59        Causer:6->Result:rhetorical  0.000310  0.000456\n",
       "60                 Causer:7->Result:1  0.000143  0.000782\n",
       "61                Causer:7->Result:13  0.000066  0.000358\n",
       "62                Causer:7->Result:50  0.033180  0.037395\n",
       "63           Causer:7->Result:Anaphor  0.000745  0.000163\n",
       "64        Causer:7->Result:rhetorical  0.000733  0.000847\n",
       "65          Causer:Anaphor->Result:12  0.000322  0.000293\n",
       "66          Causer:Anaphor->Result:13  0.000256  0.000163\n",
       "67          Causer:Anaphor->Result:14  0.001674  0.001238\n",
       "68           Causer:Anaphor->Result:3  0.000822  0.001205\n",
       "69          Causer:Anaphor->Result:50  0.004241  0.002769\n",
       "70          Causer:Anaphor->Result:5b  0.000757  0.000586\n",
       "71           Causer:Anaphor->Result:7  0.000888  0.000749\n",
       "72    Causer:Change-factor->Result:50  0.000060  0.000326\n",
       "73             Causer:other->Result:6  0.000220  0.000293\n",
       "74             Causer:other->Result:7  0.000244  0.001336\n",
       "75       Causer:rhetorical->Result:50  0.003854  0.004528\n",
       "76  Causer:rhetorical->Result:Anaphor  0.000113  0.000163\n",
       "\n",
       "[77 rows x 3 columns]"
      ]
     },
     "execution_count": 28,
     "metadata": {},
     "output_type": "execute_result"
    }
   ],
   "source": [
    "df = compare_wd_tag_dist(best_testsplit_causal, causal_codes)\n",
    "df"
   ]
  },
  {
   "cell_type": "markdown",
   "metadata": {},
   "source": [
    "## Plot The Distributions"
   ]
  },
  {
   "cell_type": "code",
   "execution_count": 29,
   "metadata": {
    "collapsed": true,
    "jupyter": {
     "outputs_hidden": true
    }
   },
   "outputs": [],
   "source": [
    "def plot_distribution(essays, codes):\n",
    "    df1 = compare_wd_tag_dist(essays, codes)\n",
    "    df2 = pd.DataFrame(df1[[\"freqtest\",\"freqall\"]])\n",
    "    df2.set_index(df1[\"codes\"].values, inplace=True)\n",
    "    df2.plot.bar(figsize=(15,8), color=['r', 'yellow'])"
   ]
  },
  {
   "cell_type": "code",
   "execution_count": 30,
   "metadata": {},
   "outputs": [
    {
     "data": {
      "image/png": "[encoded data removed]",
      "text/plain": [
       "<matplotlib.figure.Figure at 0x11d12ba90>"
      ]
     },
     "metadata": {},
     "output_type": "display_data"
    }
   ],
   "source": [
    "plot_distribution(best_testsplit_causal, regular_codes)"
   ]
  },
  {
   "cell_type": "code",
   "execution_count": 31,
   "metadata": {},
   "outputs": [
    {
     "data": {
      "image/png": "[encoded data removed]",
      "text/plain": [
       "<matplotlib.figure.Figure at 0x11d0e2650>"
      ]
     },
     "metadata": {},
     "output_type": "display_data"
    }
   ],
   "source": [
    "plot_distribution(best_testsplit_causal, causal_codes)"
   ]
  },
  {
   "cell_type": "markdown",
   "metadata": {},
   "source": [
    "## Move The Files"
   ]
  },
  {
   "cell_type": "code",
   "execution_count": 32,
   "metadata": {
    "collapsed": true,
    "jupyter": {
     "outputs_hidden": true
    }
   },
   "outputs": [],
   "source": [
    "import shutil\n",
    "\n",
    "def copy_file(from_file, to_dir):\n",
    "    to_file = os.path.join(to_dir, os.path.basename(from_file))\n",
    "    if os.path.exists(to_file):\n",
    "        print \"File already exists: %s deleting\" % to_file\n",
    "        os.remove(to_file)\n",
    "        shutil.copyfile(from_file, to_file)                    \n",
    "    else:\n",
    "        shutil.copyfile(from_file, to_file)\n",
    "\n",
    "def copy_files(essays, to_dir):\n",
    "    cnt = 0\n",
    "    \n",
    "    # Delete destination folder first\n",
    "    if os.path.exists(to_dir):\n",
    "        shutil.rmtree(to_dir, ignore_errors=True)\n",
    "        \n",
    "    os.mkdir(to_dir)\n",
    "    \n",
    "    ann_files = [e.full_path for e in essays]\n",
    "    pairs = [joined[get_prefix(f)] for f in ann_files]\n",
    "    \n",
    "    for ann, txt in pairs:\n",
    "        for a in ann:\n",
    "            copy_file(a, to_dir)\n",
    "        for t in txt:\n",
    "            copy_file(t, to_dir)\n",
    "        cnt += 2\n",
    "             \n",
    "    print \"Moved %s files\" % str(cnt)"
   ]
  },
  {
   "cell_type": "code",
   "execution_count": 33,
   "metadata": {},
   "outputs": [
    {
     "name": "stdout",
     "output_type": "stream",
     "text": [
      "Moved 2256 files\n"
     ]
    }
   ],
   "source": [
    "# copy_files(essays, all_folder)"
   ]
  },
  {
   "cell_type": "code",
   "execution_count": 34,
   "metadata": {},
   "outputs": [
    {
     "name": "stdout",
     "output_type": "stream",
     "text": [
      "Moved 1804 files\n",
      "Moved 452 files\n"
     ]
    }
   ],
   "source": [
    "# train, test = best_split_causal\n",
    "# copy_files(train, training_folder)\n",
    "# copy_files(test,  test_folder)"
   ]
  },
  {
   "cell_type": "code",
   "execution_count": 35,
   "metadata": {},
   "outputs": [
    {
     "data": {
      "text/plain": [
       "(226, 226)"
      ]
     },
     "execution_count": 35,
     "metadata": {},
     "output_type": "execute_result"
    }
   ],
   "source": [
    "452/2, n_test"
   ]
  },
  {
   "cell_type": "code",
   "execution_count": 36,
   "metadata": {},
   "outputs": [
    {
     "data": {
      "text/plain": [
       "(218, 226)"
      ]
     },
     "execution_count": 36,
     "metadata": {},
     "output_type": "execute_result"
    }
   ],
   "source": [
    "436/2, n_test"
   ]
  }
 ],
 "metadata": {
  "anaconda-cloud": {},
  "kernelspec": {
   "display_name": "Python 3",
   "language": "python",
   "name": "python3"
  },
  "language_info": {
   "codemirror_mode": {
    "name": "ipython",
    "version": 3
   },
   "file_extension": ".py",
   "mimetype": "text/x-python",
   "name": "python",
   "nbconvert_exporter": "python",
   "pygments_lexer": "ipython3",
   "version": "3.6.2"
  }
 },
 "nbformat": 4,
 "nbformat_minor": 4
}
