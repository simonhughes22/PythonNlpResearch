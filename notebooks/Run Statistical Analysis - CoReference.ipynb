{
 "cells": [
  {
   "cell_type": "markdown",
   "metadata": {},
   "source": [
    "## NOTE - Use Python 3.6"
   ]
  },
  {
   "cell_type": "code",
   "execution_count": 1,
   "metadata": {},
   "outputs": [],
   "source": [
    "import numpy as np\n",
    "import pandas as pd\n",
    "from collections import defaultdict\n",
    "import pymongo\n",
    "import dill\n",
    "import os\n",
    "from scipy import stats\n",
    "\n",
    "from BrattEssay import load_bratt_essays\n",
    "from load_data import load_process_essays\n",
    "from window_based_tagger_config import get_config\n",
    "from FindFiles import find_files\n",
    "from DirUtils import dir_exists\n",
    "from results_procesor import ResultsProcessor, __MICRO_F1__\n",
    "from Settings import Settings\n",
    "from statsmodels.stats.contingency_tables import mcnemar"
   ]
  },
  {
   "cell_type": "code",
   "execution_count": 2,
   "metadata": {},
   "outputs": [],
   "source": [
    "# result = mcnemar([[1,2],[3,1]], exact=True)\n",
    "# result.statistic, result.pvalue"
   ]
  },
  {
   "cell_type": "code",
   "execution_count": 2,
   "metadata": {},
   "outputs": [],
   "source": [
    "FOLDER = \"/Users/simon.hughes/GitHub/NlpResearch/PythonNlpResearch/Predictions/\""
   ]
  },
  {
   "cell_type": "code",
   "execution_count": 3,
   "metadata": {},
   "outputs": [],
   "source": [
    "def filter_by_str(filters, files, exclude=False):\n",
    "    if type(filters) != list:\n",
    "        filters = [filters]\n",
    "    flt = files\n",
    "    for fltr in filters:\n",
    "        files = [f for f in files if (fltr in f) != exclude]\n",
    "    return  files"
   ]
  },
  {
   "cell_type": "code",
   "execution_count": 4,
   "metadata": {},
   "outputs": [
    {
     "name": "stdout",
     "output_type": "stream",
     "text": [
      "1202\n",
      "48\n",
      "24\n"
     ]
    }
   ],
   "source": [
    "all_files = os.listdir(FOLDER)\n",
    "print(len(all_files))\n",
    "files = list(all_files)\n",
    "\n",
    "files = filter_by_str(\"COREF\", files) # this is the sentence CREL parser (sentence level)\n",
    "# files = filter_by_str(\"_CR_\", files) \n",
    "# files = filter_by_str(\"TEST_\", files)\n",
    "# files = filter_by_str(\"_VD_\", files)\n",
    "print(len(files))\n",
    "files = filter_by_str(\"2019\", files, exclude=True)\n",
    "print(len(files))"
   ]
  },
  {
   "cell_type": "code",
   "execution_count": 5,
   "metadata": {},
   "outputs": [
    {
     "data": {
      "text/plain": [
       "['COREF_CB_GRID_BERKELEY_TD_PREDS_.dill',\n",
       " 'COREF_CB_GRID_BERKELEY_TD_YS_.dill',\n",
       " 'COREF_CB_GRID_BERKELEY_VD_PREDS_.dill',\n",
       " 'COREF_CB_GRID_BERKELEY_VD_YS_.dill',\n",
       " 'COREF_CB_GRID_STANFORD_TD_PREDS_.dill',\n",
       " 'COREF_CB_GRID_STANFORD_TD_YS_.dill',\n",
       " 'COREF_CB_GRID_STANFORD_VD_PREDS_.dill',\n",
       " 'COREF_CB_GRID_STANFORD_VD_YS_.dill',\n",
       " 'COREF_CB_NEAREST_TAG_TD_PREDS_.dill',\n",
       " 'COREF_CB_NEAREST_TAG_TD_YS_.dill',\n",
       " 'COREF_CB_NEAREST_TAG_VD_PREDS_.dill',\n",
       " 'COREF_CB_NEAREST_TAG_VD_YS_.dill',\n",
       " 'COREF_SC_GRID_BERKELEY_TD_PREDS_.dill',\n",
       " 'COREF_SC_GRID_BERKELEY_TD_YS_.dill',\n",
       " 'COREF_SC_GRID_BERKELEY_VD_PREDS_.dill',\n",
       " 'COREF_SC_GRID_BERKELEY_VD_YS_.dill',\n",
       " 'COREF_SC_GRID_STANFORD_TD_PREDS_.dill',\n",
       " 'COREF_SC_GRID_STANFORD_TD_YS_.dill',\n",
       " 'COREF_SC_GRID_STANFORD_VD_PREDS_.dill',\n",
       " 'COREF_SC_GRID_STANFORD_VD_YS_.dill',\n",
       " 'COREF_SC_NEAREST_TAG_TD_PREDS_.dill',\n",
       " 'COREF_SC_NEAREST_TAG_TD_YS_.dill',\n",
       " 'COREF_SC_NEAREST_TAG_VD_PREDS_.dill',\n",
       " 'COREF_SC_NEAREST_TAG_VD_YS_.dill']"
      ]
     },
     "execution_count": 5,
     "metadata": {},
     "output_type": "execute_result"
    }
   ],
   "source": [
    "sorted(files)"
   ]
  },
  {
   "cell_type": "code",
   "execution_count": 6,
   "metadata": {},
   "outputs": [
    {
     "data": {
      "text/plain": [
       "(6, 6)"
      ]
     },
     "execution_count": 6,
     "metadata": {},
     "output_type": "execute_result"
    }
   ],
   "source": [
    "sc_files_tr = filter_by_str([\"_SC_\",\"_TD_\"], files)\n",
    "cb_files_tr = filter_by_str([\"_CB_\",\"_TD_\"], files)\n",
    "len(cb_files_tr), len(sc_files_tr)"
   ]
  },
  {
   "cell_type": "code",
   "execution_count": 7,
   "metadata": {},
   "outputs": [
    {
     "data": {
      "text/plain": [
       "(6, 6)"
      ]
     },
     "execution_count": 7,
     "metadata": {},
     "output_type": "execute_result"
    }
   ],
   "source": [
    "sc_files_test = filter_by_str([\"_SC_\",\"_VD_\"], files)\n",
    "cb_files_test = filter_by_str([\"_CB_\",\"_VD_\"], files)\n",
    "len(cb_files_test), len(sc_files_test)"
   ]
  },
  {
   "cell_type": "code",
   "execution_count": 8,
   "metadata": {},
   "outputs": [
    {
     "data": {
      "text/plain": [
       "['COREF_CB_GRID_BERKELEY_TD_PREDS_.dill',\n",
       " 'COREF_CB_GRID_BERKELEY_TD_YS_.dill',\n",
       " 'COREF_CB_GRID_STANFORD_TD_PREDS_.dill',\n",
       " 'COREF_CB_GRID_STANFORD_TD_YS_.dill',\n",
       " 'COREF_CB_NEAREST_TAG_TD_PREDS_.dill',\n",
       " 'COREF_CB_NEAREST_TAG_TD_YS_.dill']"
      ]
     },
     "execution_count": 8,
     "metadata": {},
     "output_type": "execute_result"
    }
   ],
   "source": [
    "sorted(cb_files_tr)"
   ]
  },
  {
   "cell_type": "code",
   "execution_count": 9,
   "metadata": {},
   "outputs": [
    {
     "data": {
      "text/plain": [
       "['COREF_CB_GRID_BERKELEY_VD_PREDS_.dill',\n",
       " 'COREF_CB_GRID_BERKELEY_VD_YS_.dill',\n",
       " 'COREF_CB_GRID_STANFORD_VD_PREDS_.dill',\n",
       " 'COREF_CB_GRID_STANFORD_VD_YS_.dill',\n",
       " 'COREF_CB_NEAREST_TAG_VD_PREDS_.dill',\n",
       " 'COREF_CB_NEAREST_TAG_VD_YS_.dill']"
      ]
     },
     "execution_count": 9,
     "metadata": {},
     "output_type": "execute_result"
    }
   ],
   "source": [
    "sorted(cb_files_test)"
   ]
  },
  {
   "cell_type": "code",
   "execution_count": 10,
   "metadata": {},
   "outputs": [
    {
     "data": {
      "text/plain": [
       "['COREF_SC_GRID_BERKELEY_TD_PREDS_.dill',\n",
       " 'COREF_SC_GRID_BERKELEY_TD_YS_.dill',\n",
       " 'COREF_SC_GRID_STANFORD_TD_PREDS_.dill',\n",
       " 'COREF_SC_GRID_STANFORD_TD_YS_.dill',\n",
       " 'COREF_SC_NEAREST_TAG_TD_PREDS_.dill',\n",
       " 'COREF_SC_NEAREST_TAG_TD_YS_.dill']"
      ]
     },
     "execution_count": 10,
     "metadata": {},
     "output_type": "execute_result"
    }
   ],
   "source": [
    "sorted(sc_files_tr)"
   ]
  },
  {
   "cell_type": "code",
   "execution_count": 11,
   "metadata": {},
   "outputs": [
    {
     "data": {
      "text/plain": [
       "['COREF_SC_GRID_BERKELEY_VD_PREDS_.dill',\n",
       " 'COREF_SC_GRID_BERKELEY_VD_YS_.dill',\n",
       " 'COREF_SC_GRID_STANFORD_VD_PREDS_.dill',\n",
       " 'COREF_SC_GRID_STANFORD_VD_YS_.dill',\n",
       " 'COREF_SC_NEAREST_TAG_VD_PREDS_.dill',\n",
       " 'COREF_SC_NEAREST_TAG_VD_YS_.dill']"
      ]
     },
     "execution_count": 11,
     "metadata": {},
     "output_type": "execute_result"
    }
   ],
   "source": [
    "sorted(sc_files_test)"
   ]
  },
  {
   "cell_type": "code",
   "execution_count": 12,
   "metadata": {},
   "outputs": [],
   "source": [
    "from collections import OrderedDict\n",
    "filters = OrderedDict({\n",
    "    \"STANFORD\":     \"STANFORD\",\n",
    "    \"BERKELEY\":     \"BERKELEY\",\n",
    "    \"NEAREST_TAG\":  \"NEAREST_TAG\"\n",
    "})"
   ]
  },
  {
   "cell_type": "code",
   "execution_count": 13,
   "metadata": {},
   "outputs": [],
   "source": [
    "from pprint import pprint\n",
    "\n",
    "def load_predictions(input_files):\n",
    "    algo2preds = dict()\n",
    "    pred_files = filter_by_str(\"_PREDS\", input_files)\n",
    "    for algo_name, fltr in filters.items():\n",
    "        f_files = filter_by_str(fltr, pred_files)\n",
    "        assert len(f_files) == 1, (algo_name,f_files)\n",
    "        fname = FOLDER + f_files[0]\n",
    "        with open(fname, \"rb+\") as f:\n",
    "            algo2preds[algo_name] = dill.load(f)\n",
    "    return algo2preds"
   ]
  },
  {
   "cell_type": "code",
   "execution_count": 14,
   "metadata": {},
   "outputs": [],
   "source": [
    "cb_preds_tr = load_predictions(cb_files_tr)\n",
    "sc_preds_tr = load_predictions(sc_files_tr)"
   ]
  },
  {
   "cell_type": "code",
   "execution_count": 15,
   "metadata": {},
   "outputs": [],
   "source": [
    "cb_preds_test = load_predictions(cb_files_test)\n",
    "sc_preds_test = load_predictions(sc_files_test)"
   ]
  },
  {
   "cell_type": "code",
   "execution_count": 16,
   "metadata": {},
   "outputs": [],
   "source": [
    "with open(FOLDER + \"COREF_CB_GRID_BERKELEY_TD_YS_.dill\", \"rb+\") as f:\n",
    "    cb_ysbytag_tr = dill.load(f)\n",
    "    \n",
    "with open(FOLDER + \"COREF_SC_GRID_BERKELEY_TD_YS_.dill\", \"rb+\") as f:\n",
    "    sc_ysbytag_tr = dill.load(f)"
   ]
  },
  {
   "cell_type": "code",
   "execution_count": 17,
   "metadata": {},
   "outputs": [],
   "source": [
    "with open(FOLDER + \"COREF_CB_GRID_BERKELEY_VD_YS_.dill\", \"rb+\") as f:\n",
    "    cb_ysbytag_test = dill.load(f)\n",
    "    \n",
    "with open(FOLDER + \"COREF_SC_GRID_BERKELEY_VD_YS_.dill\", \"rb+\") as f:\n",
    "    sc_ysbytag_test = dill.load(f)"
   ]
  },
  {
   "cell_type": "code",
   "execution_count": 18,
   "metadata": {},
   "outputs": [],
   "source": [
    "def get_all_preds(predsbytag, k_filter=None):\n",
    "    if k_filter is None:\n",
    "        k_filter = set(predsbytag.keys())\n",
    "    all_p = []\n",
    "    \n",
    "    for k, vals in sorted(predsbytag.items(), key = lambda tpl: tpl[0]):\n",
    "        if k not in k_filter:\n",
    "            continue\n",
    "        all_p.extend(vals)\n",
    "    return all_p"
   ]
  },
  {
   "cell_type": "code",
   "execution_count": 19,
   "metadata": {},
   "outputs": [],
   "source": [
    "def compute_p_value_binomial_test(ysbytag, predsbytaga, predsbytagb, alternative='two-sided'):\n",
    "#     assert len(ysbytag.keys()) == len(predsbytaga.keys()), (len(ysbytag.keys()),len(predsbytaga.keys())) \n",
    "#     assert len(ysbytag.keys()) == len(predsbytagb.keys()), (len(ysbytag.keys()),len(predsbytagb.keys())) \n",
    "\n",
    "    first = list(ysbytag.keys())[0]\n",
    "    assert len(ysbytag[first]) == len(predsbytaga[first])\n",
    "    assert len(ysbytag[first]) == len(predsbytagb[first])\n",
    "\n",
    "    lbls = set(ysbytag.keys())\n",
    "    lbls = lbls.intersection(predsbytaga.keys())\n",
    "    lbls = lbls.intersection(predsbytagb.keys())\n",
    "    \n",
    "    ys = get_all_preds(ysbytag, k_filter=lbls)\n",
    "    aas = get_all_preds(predsbytaga, k_filter=lbls)\n",
    "    bbs = get_all_preds(predsbytagb, k_filter=lbls)\n",
    "\n",
    "    assert len(ys) == len(aas) == len(bbs)\n",
    "\n",
    "    successes = defaultdict(int)\n",
    "    both_correct, both_wrong, a_correct_only, b_correct_only = 0,0,0,0\n",
    "    for y,a,b in zip(ys,aas,bbs):\n",
    "        if a == b:\n",
    "            if a == y:\n",
    "                both_correct +=1\n",
    "            else:\n",
    "                both_wrong += 1        \n",
    "        else: # a != b\n",
    "            if a == y:\n",
    "                successes[\"a\"] += 1\n",
    "                a_correct_only += 1\n",
    "            else:\n",
    "                successes[\"b\"] += 1\n",
    "                b_correct_only +=1\n",
    "\n",
    "\n",
    "    mcn_result = mcnemar([[both_correct, a_correct_only],[b_correct_only, both_wrong]], exact=True)\n",
    "#     p_value = stats.binom_test(successes[\"a\"], sum(successes.values()), p=0.5, alternative=alternative)\n",
    "    return mcn_result.pvalue"
   ]
  },
  {
   "cell_type": "code",
   "execution_count": 39,
   "metadata": {},
   "outputs": [],
   "source": [
    "def print_comparison(ysbytag, algo2preds, alternative=\"two-sided\", stats_only=False):\n",
    "    algo2metrics = {}\n",
    "    for algo, preds in algo2preds.items():\n",
    "        mean_metrics = ResultsProcessor.compute_mean_metrics(ysbytag, preds)\n",
    "        algo2metrics[algo] = mean_metrics[__MICRO_F1__]\n",
    "\n",
    "    matrix = dict()\n",
    "    for algo_name_a, predsbytaga in algo2preds.items():\n",
    "        for algo_name_b, predsbytagb in algo2preds.items():\n",
    "            if algo_name_a == algo_name_b:\n",
    "                continue\n",
    "            f1_a = algo2metrics[algo_name_a][\"f1_score\"]\n",
    "            rec_a = algo2metrics[algo_name_a][\"recall\"]\n",
    "            prec_a = algo2metrics[algo_name_a][\"precision\"]\n",
    "            \n",
    "            f1_b = algo2metrics[algo_name_b][\"f1_score\"]\n",
    "            rec_b = algo2metrics[algo_name_b][\"recall\"]\n",
    "            prec_b = algo2metrics[algo_name_b][\"precision\"]\n",
    "            \n",
    "            pval = compute_p_value_binomial_test(ysbytag, predsbytaga, predsbytagb, alternative)\n",
    "            if stats_only:\n",
    "                print(f\"{algo_name_a.ljust(20)} \\t{algo_name_b.ljust(20)}\\t {pval}\")\n",
    "            else:\n",
    "                print(f\"{algo_name_a.ljust(20)} {f1_a:.3f} {rec_a:.3f} {prec_a:.3f} {algo_name_b.ljust(20)} {f1_b:.3f} {rec_b:.3f} {prec_b:.3f}\\t [{pval}]\")\n",
    "            matrix[(algo_name_a, algo_name_b)] = pval\n",
    "        print()"
   ]
  },
  {
   "cell_type": "code",
   "execution_count": 40,
   "metadata": {},
   "outputs": [],
   "source": [
    "import mlxtend\n",
    "from mlxtend.evaluate import cochrans_q\n",
    "\n",
    "def run_cochrans_test(ysbytag, predsbyalgo):\n",
    "    all_preds = []\n",
    "    lens = []\n",
    "    for a, preds in predsbyalgo.items():\n",
    "        p = get_all_preds(preds)\n",
    "        arr = np.asarray(p)\n",
    "        all_preds.append(arr)\n",
    "        lens.append(arr.shape[0])\n",
    "    ground_truth = np.asarray(get_all_preds(ysbytag))\n",
    "    lens.append(ground_truth.shape[0])\n",
    "    assert len(set(lens)) == 1, \"different length arrays\"\n",
    "    qvalue, pvalue = cochrans_q(ground_truth, *all_preds)\n",
    "    return qvalue, pvalue"
   ]
  },
  {
   "cell_type": "markdown",
   "metadata": {},
   "source": [
    "# Training Data"
   ]
  },
  {
   "cell_type": "code",
   "execution_count": 41,
   "metadata": {},
   "outputs": [
    {
     "data": {
      "text/plain": [
       "(89.53583617747441, 3.610274366089721e-20)"
      ]
     },
     "execution_count": 41,
     "metadata": {},
     "output_type": "execute_result"
    }
   ],
   "source": [
    "run_cochrans_test(cb_ysbytag_tr, cb_preds_tr)"
   ]
  },
  {
   "cell_type": "code",
   "execution_count": 42,
   "metadata": {},
   "outputs": [
    {
     "name": "stdout",
     "output_type": "stream",
     "text": [
      "STANFORD             0.038 0.020 0.292 BERKELEY             0.059 0.032 0.379\t [0.690037965774536]\n",
      "STANFORD             0.038 0.020 0.292 NEAREST_TAG          0.262 0.241 0.287\t [1.7826345232844652e-11]\n",
      "\n",
      "BERKELEY             0.059 0.032 0.379 STANFORD             0.038 0.020 0.292\t [0.690037965774536]\n",
      "BERKELEY             0.059 0.032 0.379 NEAREST_TAG          0.262 0.241 0.287\t [2.1103320310110507e-12]\n",
      "\n",
      "NEAREST_TAG          0.262 0.241 0.287 STANFORD             0.038 0.020 0.292\t [1.7826345232844652e-11]\n",
      "NEAREST_TAG          0.262 0.241 0.287 BERKELEY             0.059 0.032 0.379\t [2.1103320310110507e-12]\n",
      "\n"
     ]
    }
   ],
   "source": [
    "#perceptron and CRF differ somewhat from prior run\n",
    "print_comparison(cb_ysbytag_tr, cb_preds_tr)"
   ]
  },
  {
   "cell_type": "code",
   "execution_count": 43,
   "metadata": {},
   "outputs": [
    {
     "data": {
      "text/plain": [
       "(21.758928571428573, 1.884120585702624e-05)"
      ]
     },
     "execution_count": 43,
     "metadata": {},
     "output_type": "execute_result"
    }
   ],
   "source": [
    "run_cochrans_test(sc_ysbytag_tr, sc_preds_tr)"
   ]
  },
  {
   "cell_type": "code",
   "execution_count": 44,
   "metadata": {},
   "outputs": [
    {
     "name": "stdout",
     "output_type": "stream",
     "text": [
      "STANFORD             0.126 0.070 0.673 BERKELEY             0.036 0.019 0.300\t [0.00033670934946623804]\n",
      "STANFORD             0.126 0.070 0.673 NEAREST_TAG          0.235 0.167 0.399\t [2.7302648267492683e-05]\n",
      "\n",
      "BERKELEY             0.036 0.019 0.300 STANFORD             0.126 0.070 0.673\t [0.00033670934946623804]\n",
      "BERKELEY             0.036 0.019 0.300 NEAREST_TAG          0.235 0.167 0.399\t [0.058441136475943914]\n",
      "\n",
      "NEAREST_TAG          0.235 0.167 0.399 STANFORD             0.126 0.070 0.673\t [2.7302648267492683e-05]\n",
      "NEAREST_TAG          0.235 0.167 0.399 BERKELEY             0.036 0.019 0.300\t [0.058441136475943914]\n",
      "\n"
     ]
    }
   ],
   "source": [
    "# RNN only differs\n",
    "print_comparison(sc_ysbytag_tr, sc_preds_tr)"
   ]
  },
  {
   "cell_type": "markdown",
   "metadata": {},
   "source": [
    "# Test Data"
   ]
  },
  {
   "cell_type": "code",
   "execution_count": 45,
   "metadata": {},
   "outputs": [
    {
     "data": {
      "text/plain": [
       "(2.074074074074074, 0.3545035081397576)"
      ]
     },
     "execution_count": 45,
     "metadata": {},
     "output_type": "execute_result"
    }
   ],
   "source": [
    "run_cochrans_test(cb_ysbytag_test, cb_preds_test)"
   ]
  },
  {
   "cell_type": "code",
   "execution_count": 46,
   "metadata": {},
   "outputs": [
    {
     "name": "stdout",
     "output_type": "stream",
     "text": [
      "STANFORD             0.048 0.026 0.333 BERKELEY             0.045 0.026 0.200\t [0.5]\n",
      "STANFORD             0.048 0.026 0.333 NEAREST_TAG          0.324 0.282 0.379\t [0.32693958282470703]\n",
      "\n",
      "BERKELEY             0.045 0.026 0.200 STANFORD             0.048 0.026 0.333\t [0.5]\n",
      "BERKELEY             0.045 0.026 0.200 NEAREST_TAG          0.324 0.282 0.379\t [0.5571970939636235]\n",
      "\n",
      "NEAREST_TAG          0.324 0.282 0.379 STANFORD             0.048 0.026 0.333\t [0.32693958282470703]\n",
      "NEAREST_TAG          0.324 0.282 0.379 BERKELEY             0.045 0.026 0.200\t [0.5571970939636235]\n",
      "\n"
     ]
    }
   ],
   "source": [
    "#perceptron and CRF differ somewhat from prior run\n",
    "print_comparison(cb_ysbytag_test, cb_preds_test)"
   ]
  },
  {
   "cell_type": "code",
   "execution_count": 47,
   "metadata": {},
   "outputs": [
    {
     "data": {
      "text/plain": [
       "(15.878048780487806, 0.0003565541663988249)"
      ]
     },
     "execution_count": 47,
     "metadata": {},
     "output_type": "execute_result"
    }
   ],
   "source": [
    "run_cochrans_test(sc_ysbytag_test, sc_preds_test)"
   ]
  },
  {
   "cell_type": "code",
   "execution_count": 48,
   "metadata": {},
   "outputs": [
    {
     "name": "stdout",
     "output_type": "stream",
     "text": [
      "STANFORD             0.142 0.084 0.450 BERKELEY             0.129 0.075 0.471\t [0.9999999999999998]\n",
      "STANFORD             0.142 0.084 0.450 NEAREST_TAG          0.295 0.262 0.337\t [0.005870707889737204]\n",
      "\n",
      "BERKELEY             0.129 0.075 0.471 STANFORD             0.142 0.084 0.450\t [0.9999999999999998]\n",
      "BERKELEY             0.129 0.075 0.471 NEAREST_TAG          0.295 0.262 0.337\t [0.0025475648982539578]\n",
      "\n",
      "NEAREST_TAG          0.295 0.262 0.337 STANFORD             0.142 0.084 0.450\t [0.005870707889737204]\n",
      "NEAREST_TAG          0.295 0.262 0.337 BERKELEY             0.129 0.075 0.471\t [0.0025475648982539578]\n",
      "\n"
     ]
    }
   ],
   "source": [
    "# RNN only differs\n",
    "print_comparison(sc_ysbytag_test, sc_preds_test)"
   ]
  },
  {
   "cell_type": "code",
   "execution_count": null,
   "metadata": {},
   "outputs": [],
   "source": []
  }
 ],
 "metadata": {
  "anaconda-cloud": {},
  "kernelspec": {
   "display_name": "Python [conda env:stats_test]",
   "language": "python",
   "name": "conda-env-stats_test-py"
  },
  "language_info": {
   "codemirror_mode": {
    "name": "ipython",
    "version": 3
   },
   "file_extension": ".py",
   "mimetype": "text/x-python",
   "name": "python",
   "nbconvert_exporter": "python",
   "pygments_lexer": "ipython3",
   "version": "3.6.2"
  }
 },
 "nbformat": 4,
 "nbformat_minor": 2
}
