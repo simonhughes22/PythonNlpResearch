{
 "cells": [
  {
   "cell_type": "code",
   "execution_count": null,
   "metadata": {},
   "outputs": [],
   "source": [
    "# with mongod running\n",
    "!cd ~/GitHub/NlpResearch/PythonNlpResearch\n",
    "\n",
    "# delete the backup dirs\n",
    "!rm -rf MongoExport/metrics_codes\n",
    "!rm -rf MongoExport/metrics_causal\n",
    "!rm -rf MongoExport/metrics_causal_model\n",
    "\n",
    "# EXPORT codes_db\n",
    "!mongodump -d metrics_codes -o MongoExport\n",
    "\n",
    "# repeat with causal\n",
    "# EXPORT\n",
    "!mongodump -d metrics_causal -o MongoExport\n",
    "\n",
    "# export causal_model\n",
    "!mongodump -d metrics_causal_model -o MongoExport"
   ]
  },
  {
   "cell_type": "code",
   "execution_count": 1,
   "metadata": {},
   "outputs": [],
   "source": [
    "# shutdown mongod"
   ]
  },
  {
   "cell_type": "code",
   "execution_count": null,
   "metadata": {},
   "outputs": [],
   "source": [
    "# re-start mongo with small files:\n",
    "!mongod -dbpath=/Users/simon.hughes/GitHub/NlpResearch/PythonNlpResearch/MongoDb/ --smallfiles --quotaFiles 5\n",
    "\n",
    "# --smallfiles causes default file size to drop to 64M \n",
    "# --quotafiles limits to 1 file (might want to up that if 1 is not enough)\n",
    "#   WARNING - LOOK FOR ERRORS WITH QUOTA EXCEEDED - need to up quota\n",
    "#   see https://stackoverflow.com/questions/9779923/set-mongodb-database-quota-size"
   ]
  },
  {
   "cell_type": "code",
   "execution_count": null,
   "metadata": {
    "collapsed": true,
    "jupyter": {
     "outputs_hidden": true
    }
   },
   "outputs": [],
   "source": [
    "# IMPORT the exported .BSON data\n",
    "\n",
    "# IMPORT _codes as _bak\n",
    "!mongorestore -d metrics_codes_bak  MongoExport/metrics_codes/\n",
    "\n",
    "# IMPORT _causal as _bak\n",
    "!mongorestore -d metrics_causal_bak  MongoExport/metrics_causal/\n",
    "\n",
    "# IMPORT _causal as _bak\n",
    "!mongorestore -d metrics_causal_model_bak  MongoExport/metrics_causal_model/"
   ]
  },
  {
   "cell_type": "markdown",
   "metadata": {},
   "source": [
    "### !!! You may **STILL** need to split the collection into multiple separate databases\n"
   ]
  },
  {
   "cell_type": "code",
   "execution_count": 1,
   "metadata": {
    "collapsed": true,
    "jupyter": {
     "outputs_hidden": true
    }
   },
   "outputs": [],
   "source": [
    "# Rename the databases\n",
    "# in robomongo\n",
    "    # db.copyDatabase('metrics_codes_bak','metrics_codes','localhost')\n",
    "    # db.copyDatabase('metrics_causal_bak','metrics_causal','localhost')\n",
    "    # db.copyDatabase('metrics_causal_model_bak','metrics_causal_model','localhost')\n",
    "# Drop the _bak databases\n",
    "# run the ./compact_mongo.sh script to run a repair db afterwards"
   ]
  },
  {
   "cell_type": "code",
   "execution_count": null,
   "metadata": {},
   "outputs": [],
   "source": []
  }
 ],
 "metadata": {
  "anaconda-cloud": {},
  "kernelspec": {
   "display_name": "Python 3",
   "language": "python",
   "name": "python3"
  },
  "language_info": {
   "codemirror_mode": {
    "name": "ipython",
    "version": 3
   },
   "file_extension": ".py",
   "mimetype": "text/x-python",
   "name": "python",
   "nbconvert_exporter": "python",
   "pygments_lexer": "ipython3",
   "version": "3.6.2"
  }
 },
 "nbformat": 4,
 "nbformat_minor": 4
}
