{
 "cells": [
  {
   "cell_type": "code",
   "execution_count": 2,
   "metadata": {
    "collapsed": true,
    "jupyter": {
     "outputs_hidden": true
    }
   },
   "outputs": [],
   "source": [
    "import pymongo"
   ]
  },
  {
   "cell_type": "code",
   "execution_count": 3,
   "metadata": {
    "collapsed": false,
    "jupyter": {
     "outputs_hidden": false
    }
   },
   "outputs": [
    {
     "data": {
      "text/plain": [
       "Database(MongoClient(host=['localhost:27017'], document_class=dict, tz_aware=False, connect=True), u'metrics')"
      ]
     },
     "execution_count": 3,
     "metadata": {},
     "output_type": "execute_result"
    }
   ],
   "source": [
    "client = pymongo.MongoClient()\n",
    "db = client.metrics\n",
    "db"
   ]
  },
  {
   "cell_type": "markdown",
   "metadata": {},
   "source": [
    "## Iterate Over All of the Collections in the DB"
   ]
  },
  {
   "cell_type": "code",
   "execution_count": 4,
   "metadata": {
    "collapsed": false,
    "jupyter": {
     "outputs_hidden": false
    }
   },
   "outputs": [
    {
     "name": "stdout",
     "output_type": "stream",
     "text": [
      "CB_TAGGING_TD_AVG_PERCEPTRON_MULTICLASS\n",
      "CB_TAGGING_TD_CRF\n",
      "CB_TAGGING_TD_CRF_LBL_POWERSET\n",
      "CB_TAGGING_TD_CRF_LBL_POWERSET_HYPERPARAM_OPT\n",
      "CB_TAGGING_TD_CRF_MOST_COMMON_TAG\n",
      "CB_TAGGING_TD_FEAT_SELECTION\n",
      "CB_TAGGING_TD_HMM\n",
      "CB_TAGGING_TD_HMM_LBL_POWERSET\n",
      "CB_TAGGING_TD_WINDOW_CLASSIFIER_BR\n",
      "CB_TAGGING_TD_WINDOW_CLASSIFIER_BR_HYPER_PARAM_TUNING\n",
      "CB_TAGGING_TD_WINDOW_CLASSIFIER_LBL_POWERSET_MULTICLASS\n",
      "CB_TAGGING_TD_WINDOW_CLASSIFIER_LBL_POWERSET_MULTICLASS_HYPER_PARAM_TUNING\n",
      "CB_TAGGING_VD_AVG_PERCEPTRON_MULTICLASS\n",
      "CB_TAGGING_VD_CRF\n",
      "CB_TAGGING_VD_CRF_LBL_POWERSET\n",
      "CB_TAGGING_VD_CRF_LBL_POWERSET_HYPERPARAM_OPT\n",
      "CB_TAGGING_VD_CRF_MOST_COMMON_TAG\n",
      "CB_TAGGING_VD_FEAT_SELECTION\n",
      "CB_TAGGING_VD_HMM\n",
      "CB_TAGGING_VD_HMM_LBL_POWERSET\n",
      "CB_TAGGING_VD_WINDOW_CLASSIFIER_BR\n",
      "CB_TAGGING_VD_WINDOW_CLASSIFIER_BR_HYPER_PARAM_TUNING\n",
      "CB_TAGGING_VD_WINDOW_CLASSIFIER_LBL_POWERSET_MULTICLASS\n",
      "CB_TAGGING_VD_WINDOW_CLASSIFIER_LBL_POWERSET_MULTICLASS_HYPER_PARAM_TUNING\n",
      "SC_TAGGING_TD_AVG_PERCEPTRON_MULTICLASS\n",
      "SC_TAGGING_TD_CRF\n",
      "SC_TAGGING_TD_CRF_LBL_POWERSET_HYPERPARAM_OPT\n",
      "SC_TAGGING_TD_FEAT_SELECTION\n",
      "SC_TAGGING_TD_HMM\n",
      "SC_TAGGING_TD_HMM_LBL_POWERSET\n",
      "SC_TAGGING_TD_WINDOW_CLASSIFIER_BR_HYPER_PARAM_TUNING\n",
      "SC_TAGGING_TD_WINDOW_CLASSIFIER_LBL_POWERSET_MULTICLASS_HYPER_PARAM_TUNING\n",
      "SC_TAGGING_VD_AVG_PERCEPTRON_MULTICLASS\n",
      "SC_TAGGING_VD_CRF\n",
      "SC_TAGGING_VD_CRF_LBL_POWERSET_HYPERPARAM_OPT\n",
      "SC_TAGGING_VD_FEAT_SELECTION\n",
      "SC_TAGGING_VD_HMM\n",
      "SC_TAGGING_VD_HMM_LBL_POWERSET\n",
      "SC_TAGGING_VD_WINDOW_CLASSIFIER_BR_HYPER_PARAM_TUNING\n",
      "SC_TAGGING_VD_WINDOW_CLASSIFIER_LBL_POWERSET_MULTICLASS_HYPER_PARAM_TUNING\n",
      "system.indexes\n"
     ]
    }
   ],
   "source": [
    "for col in sorted(db.collection_names()):\n",
    "    print col"
   ]
  },
  {
   "cell_type": "markdown",
   "metadata": {},
   "source": [
    "## Clean Data"
   ]
  },
  {
   "cell_type": "code",
   "execution_count": 167,
   "metadata": {
    "collapsed": false,
    "jupyter": {
     "outputs_hidden": false
    }
   },
   "outputs": [
    {
     "name": "stdout",
     "output_type": "stream",
     "text": [
      "Dropping CB_SENT_TD ...\n",
      "Dropping CB_SENT_TD_CAUSE_EFFECT_LBLS ...\n",
      "Dropping CB_SENT_VD ...\n",
      "Dropping CB_SENT_VD_CAUSE_EFFECT_LBLS ...\n",
      "CB_TAGGING_TD - Deleting 58 rows without micro F1 scores\n",
      "58 successfully deleted\n",
      "Empty collection - CB_TAGGING_TD\n",
      "Dropping CB_TAGGING_TD ...\n",
      "Dropping CB_TAGGING_TD_BrillTagger_HMM ...\n",
      "Dropping CB_TAGGING_TD_CAUSE_EFFECT_LBLS ...\n",
      "CB_TAGGING_TD_CRF - Deleting 5 rows without micro F1 scores\n",
      "5 successfully deleted\n",
      "Dropping CB_TAGGING_TD_FASTTEXT_LBL_POWERSET ...\n",
      "CB_TAGGING_TD_FEAT_SELECTION - Deleting 643 rows without micro F1 scores\n",
      "643 successfully deleted\n",
      "CB_TAGGING_VD - Deleting 58 rows without micro F1 scores\n",
      "58 successfully deleted\n",
      "Empty collection - CB_TAGGING_VD\n",
      "Dropping CB_TAGGING_VD ...\n",
      "Dropping CB_TAGGING_VD_BrillTagger_HMM ...\n",
      "Dropping CB_TAGGING_VD_CAUSE_EFFECT_LBLS ...\n",
      "CB_TAGGING_VD_CRF - Deleting 3 rows without micro F1 scores\n",
      "3 successfully deleted\n",
      "Dropping CB_TAGGING_VD_FASTTEXT_LBL_POWERSET ...\n",
      "CB_TAGGING_VD_FEAT_SELECTION - Deleting 643 rows without micro F1 scores\n",
      "643 successfully deleted\n",
      "Dropping CB_TOP_TD ...\n",
      "Dropping CB_TOP_VD ...\n",
      "Dropping SC_SENT_TD ...\n",
      "Dropping SC_SENT_TD_CAUSE_EFFECT_LBLS ...\n",
      "Dropping SC_SENT_VD ...\n",
      "Dropping SC_SENT_VD_CAUSE_EFFECT_LBLS ...\n",
      "SC_TAGGING_TD - Deleting 6 rows without micro F1 scores\n",
      "6 successfully deleted\n",
      "Empty collection - SC_TAGGING_TD\n",
      "Dropping SC_TAGGING_TD ...\n",
      "Dropping SC_TAGGING_TD_CAUSE_EFFECT_LBLS ...\n",
      "SC_TAGGING_VD - Deleting 6 rows without micro F1 scores\n",
      "6 successfully deleted\n",
      "Empty collection - SC_TAGGING_VD\n",
      "Dropping SC_TAGGING_VD ...\n",
      "Dropping SC_TAGGING_VD_CAUSE_EFFECT_LBLS ...\n"
     ]
    }
   ],
   "source": [
    "for col in db.collection_names():\n",
    "    collection = db[col]\n",
    "    \n",
    "    drop = False\n",
    "    if \"BrillTagger\" in col or \"FASTTEXT\" in col or \"CAUSE_EFFECT\" in col:\n",
    "        drop = True\n",
    "        \n",
    "    #if col[-3:] in set(\"_TD,_VD\".split(\",\")):\n",
    "    #    drop = True\n",
    "        \n",
    "    if not drop:\n",
    "        if \"TAGGING\" in col:\n",
    "            missing_count = collection.find({\"MICRO_F1\": {'$exists': False}}).count()\n",
    "            if missing_count > 0:\n",
    "                print col + \" - Deleting \" + str(missing_count) + \" rows without micro F1 scores\"\n",
    "                result = collection.delete_many({\"MICRO_F1\": {'$exists': False}})\n",
    "                print str(result.deleted_count) + \" successfully deleted\"\n",
    "        else:\n",
    "            prefix = col[0:2]\n",
    "            # Don't drop system tables (like the indexes collection)\n",
    "            if prefix == \"SC\" or prefix == \"CB\":\n",
    "                drop = True\n",
    "    final_count = collection.find({}).count()\n",
    "    if final_count == 0:\n",
    "        drop = True\n",
    "        print \"Empty collection - \" + col\n",
    "    \n",
    "    if drop:\n",
    "        print \"Dropping \" + col + \" ...\"\n",
    "        collection.drop()"
   ]
  },
  {
   "cell_type": "markdown",
   "metadata": {},
   "source": [
    "# Clean Bad Data (Skin Cancer in CB Data and Vice Versa"
   ]
  },
  {
   "cell_type": "markdown",
   "metadata": {},
   "source": [
    "**Need to validate we computed all of the range of values for each feature set, and didn't run a long experiment and dumped the data in the wrong location. Looks like not**"
   ]
  },
  {
   "cell_type": "code",
   "execution_count": 33,
   "metadata": {
    "collapsed": false,
    "jupyter": {
     "outputs_hidden": false
    }
   },
   "outputs": [
    {
     "data": {
      "text/plain": [
       "('2016-11-05 16:01:53.798000', '2016-11-06 16:01:15.702000', 119)"
      ]
     },
     "execution_count": 33,
     "metadata": {},
     "output_type": "execute_result"
    }
   ],
   "source": [
    "dates = db[\"CB_TAGGING_VD_WINDOW_CLASSIFIER_LBL_POWERSET_MULTICLASS_HYPER_PARAM_TUNING\"].find({\"parameters.folder\": \n",
    "    {\"$regex\": \".*Coral.*\"}}, {\"asof\": 1, \"_id\": 0})\n",
    "s_dates = sorted(map(lambda r: str(r[\"asof\"]),list(dates)))\n",
    "s_dates[0], s_dates[-1], len(s_dates)"
   ]
  },
  {
   "cell_type": "code",
   "execution_count": 30,
   "metadata": {
    "collapsed": false,
    "jupyter": {
     "outputs_hidden": false
    }
   },
   "outputs": [
    {
     "data": {
      "text/plain": [
       "('2016-11-06 09:03:46.387000', '2016-11-06 16:15:00.545000', 60)"
      ]
     },
     "execution_count": 30,
     "metadata": {},
     "output_type": "execute_result"
    }
   ],
   "source": [
    "dates = db[\"SC_TAGGING_VD_WINDOW_CLASSIFIER_LBL_POWERSET_MULTICLASS_HYPER_PARAM_TUNING\"].find({}, {\"asof\": 1, \"_id\": 0})\n",
    "s_dates = sorted(map(lambda r: str(r[\"asof\"]),list(dates)))\n",
    "s_dates[0], s_dates[-1], len(s_dates)"
   ]
  },
  {
   "cell_type": "code",
   "execution_count": 38,
   "metadata": {
    "collapsed": true,
    "jupyter": {
     "outputs_hidden": true
    }
   },
   "outputs": [],
   "source": [
    "for col in db.collection_names():\n",
    "    collection = db[col]\n",
    "    if col.startswith(\"CB_\"):        \n",
    "        count = collection.find({\"parameters.folder\": \n",
    "                {\"$regex\": \".*SkinCancer.*\"}}).count()\n",
    "        if count > 0:\n",
    "            print col, \"bad records successfully deleted\"\n",
    "    if col.startswith(\"SC_\"):\n",
    "        count = collection.find({\"parameters.folder\": \n",
    "                {\"$regex\": \".*Coral.*\"}}).count()\n",
    "        if count > 0:\n",
    "            print col, \"bad records successfully deleted\""
   ]
  },
  {
   "cell_type": "code",
   "execution_count": 37,
   "metadata": {
    "collapsed": false,
    "jupyter": {
     "outputs_hidden": false
    }
   },
   "outputs": [],
   "source": [
    "for col in db.collection_names():\n",
    "    collection = db[col]\n",
    "    if col.startswith(\"CB_\"):        \n",
    "        del_rslt = collection.delete_many({\"parameters.folder\": \n",
    "                {\"$regex\": \".*SkinCancer.*\"}})\n",
    "        if del_rslt.deleted_count > 0:\n",
    "            print col, str(del_rslt.deleted_count) + \" successfully deleted\"\n",
    "    if col.startswith(\"SC_\"):\n",
    "        del_rslt = collection.delete_many({\"parameters.folder\": \n",
    "                {\"$regex\": \".*Coral.*\"}})\n",
    "        if del_rslt.deleted_count > 0:\n",
    "            print col, str(del_rslt.deleted_count) + \" successfully deleted\""
   ]
  },
  {
   "cell_type": "markdown",
   "metadata": {},
   "source": [
    "# *NOTE* - I CREATED A BACKUP in GOOGLE DRIVE, so all data can be recovered (but needs cleaning once more)"
   ]
  },
  {
   "cell_type": "markdown",
   "metadata": {},
   "source": [
    "## Get Collection Update Dates"
   ]
  },
  {
   "cell_type": "code",
   "execution_count": 5,
   "metadata": {
    "collapsed": false,
    "jupyter": {
     "outputs_hidden": false
    }
   },
   "outputs": [],
   "source": [
    "latest_updates = dict()\n",
    "oldest_updates = dict()\n",
    "\n",
    "for col in db.collection_names():\n",
    "    collection = db[col]\n",
    "    if \"TAGGING\" in col:\n",
    "        newest_row = collection.find({}).sort(\"asof\", pymongo.DESCENDING).next()\n",
    "        oldest_row = collection.find({}).sort(\"asof\", pymongo.ASCENDING).next()\n",
    "        latest_updates[col] = newest_row[\"asof\"].date()\n",
    "        oldest_updates[col] = oldest_row[\"asof\"].date()"
   ]
  },
  {
   "cell_type": "markdown",
   "metadata": {},
   "source": [
    "### What Model Types and Variants were Hyper Parameter Optimized?"
   ]
  },
  {
   "cell_type": "code",
   "execution_count": 6,
   "metadata": {
    "collapsed": false,
    "jupyter": {
     "outputs_hidden": false
    }
   },
   "outputs": [
    {
     "data": {
      "text/plain": [
       "[u'AVG_PERCEPTRON_MULTICLASS',\n",
       " u'CRF',\n",
       " u'CRF_LBL_POWERSET',\n",
       " u'CRF_LBL_POWERSET_HYPERPARAM_OPT',\n",
       " u'CRF_MOST_COMMON_TAG',\n",
       " u'FEAT_SELECTION',\n",
       " u'HMM',\n",
       " u'HMM_LBL_POWERSET',\n",
       " u'WINDOW_CLASSIFIER_BR',\n",
       " u'WINDOW_CLASSIFIER_BR_HYPER_PARAM_TUNING',\n",
       " u'WINDOW_CLASSIFIER_LBL_POWERSET_MULTICLASS',\n",
       " u'WINDOW_CLASSIFIER_LBL_POWERSET_MULTICLASS_HYPER_PARAM_TUNING']"
      ]
     },
     "execution_count": 6,
     "metadata": {},
     "output_type": "execute_result"
    }
   ],
   "source": [
    "sorted([k.replace(\"CB_TAGGING_VD_\", \"\") for k in latest_updates.keys() if \"VD\" in k and \"CB\" in k])"
   ]
  },
  {
   "cell_type": "code",
   "execution_count": 7,
   "metadata": {
    "collapsed": false,
    "jupyter": {
     "outputs_hidden": false
    }
   },
   "outputs": [
    {
     "name": "stdout",
     "output_type": "stream",
     "text": [
      "SC_TAGGING_VD_WINDOW_CLASSIFIER_LBL_POWERSET_MULTICLASS_HYPER_PARAM_TUNING       2016-11-06\n",
      "SC_TAGGING_VD_WINDOW_CLASSIFIER_BR_HYPER_PARAM_TUNING                            2016-11-06\n",
      "SC_TAGGING_TD_WINDOW_CLASSIFIER_LBL_POWERSET_MULTICLASS_HYPER_PARAM_TUNING       2016-11-06\n",
      "SC_TAGGING_TD_WINDOW_CLASSIFIER_BR_HYPER_PARAM_TUNING                            2016-11-06\n",
      "CB_TAGGING_TD_WINDOW_CLASSIFIER_LBL_POWERSET_MULTICLASS_HYPER_PARAM_TUNING       2016-11-05\n",
      "CB_TAGGING_VD_WINDOW_CLASSIFIER_BR_HYPER_PARAM_TUNING                            2016-11-05\n",
      "CB_TAGGING_TD_WINDOW_CLASSIFIER_BR_HYPER_PARAM_TUNING                            2016-11-05\n",
      "CB_TAGGING_VD_WINDOW_CLASSIFIER_BR                                               2016-11-05\n",
      "CB_TAGGING_VD_WINDOW_CLASSIFIER_LBL_POWERSET_MULTICLASS_HYPER_PARAM_TUNING       2016-11-05\n",
      "CB_TAGGING_TD_WINDOW_CLASSIFIER_BR                                               2016-11-05\n",
      "SC_TAGGING_TD_HMM_LBL_POWERSET                                                   2016-11-02\n",
      "CB_TAGGING_VD_HMM_LBL_POWERSET                                                   2016-11-02\n",
      "SC_TAGGING_VD_HMM_LBL_POWERSET                                                   2016-11-02\n",
      "CB_TAGGING_TD_WINDOW_CLASSIFIER_LBL_POWERSET_MULTICLASS                          2016-11-02\n",
      "CB_TAGGING_VD_WINDOW_CLASSIFIER_LBL_POWERSET_MULTICLASS                          2016-11-02\n",
      "CB_TAGGING_TD_HMM_LBL_POWERSET                                                   2016-11-02\n",
      "SC_TAGGING_TD_CRF_LBL_POWERSET_HYPERPARAM_OPT                                    2016-11-01\n",
      "SC_TAGGING_TD_CRF                                                                2016-11-01\n",
      "SC_TAGGING_VD_CRF                                                                2016-11-01\n",
      "SC_TAGGING_VD_CRF_LBL_POWERSET_HYPERPARAM_OPT                                    2016-11-01\n",
      "CB_TAGGING_VD_CRF_LBL_POWERSET_HYPERPARAM_OPT                                    2016-10-31\n",
      "CB_TAGGING_TD_CRF_LBL_POWERSET_HYPERPARAM_OPT                                    2016-10-31\n",
      "CB_TAGGING_VD_CRF_MOST_COMMON_TAG                                                2016-10-30\n",
      "CB_TAGGING_TD_CRF_LBL_POWERSET                                                   2016-10-30\n",
      "CB_TAGGING_VD_CRF_LBL_POWERSET                                                   2016-10-30\n",
      "CB_TAGGING_TD_CRF_MOST_COMMON_TAG                                                2016-10-30\n",
      "CB_TAGGING_VD_CRF                                                                2016-10-27\n",
      "CB_TAGGING_TD_CRF                                                                2016-10-27\n",
      "CB_TAGGING_VD_AVG_PERCEPTRON_MULTICLASS                                          2016-10-23\n",
      "CB_TAGGING_TD_AVG_PERCEPTRON_MULTICLASS                                          2016-10-23\n",
      "SC_TAGGING_TD_AVG_PERCEPTRON_MULTICLASS                                          2016-10-23\n",
      "SC_TAGGING_VD_AVG_PERCEPTRON_MULTICLASS                                          2016-10-23\n",
      "SC_TAGGING_VD_FEAT_SELECTION                                                     2016-10-16\n",
      "SC_TAGGING_TD_FEAT_SELECTION                                                     2016-10-16\n",
      "CB_TAGGING_TD_HMM                                                                2016-10-02\n",
      "SC_TAGGING_VD_HMM                                                                2016-10-02\n",
      "SC_TAGGING_TD_HMM                                                                2016-10-02\n",
      "CB_TAGGING_VD_FEAT_SELECTION                                                     2016-10-02\n",
      "CB_TAGGING_VD_HMM                                                                2016-10-02\n",
      "CB_TAGGING_TD_FEAT_SELECTION                                                     2016-10-02\n"
     ]
    }
   ],
   "source": [
    "import datetime\n",
    "\n",
    "def sort_key(tpl):\n",
    "    col, dt = tpl\n",
    "    return dt\n",
    "\n",
    "by_date = sorted(oldest_updates.items(), key = lambda tpl: sort_key(tpl))[::-1]\n",
    "for col, dt in by_date:\n",
    "    print col.ljust(80), str(dt)"
   ]
  },
  {
   "cell_type": "code",
   "execution_count": null,
   "metadata": {
    "collapsed": true,
    "jupyter": {
     "outputs_hidden": true
    }
   },
   "outputs": [],
   "source": []
  }
 ],
 "metadata": {
  "anaconda-cloud": {},
  "kernelspec": {
   "display_name": "Python 3",
   "language": "python",
   "name": "python3"
  },
  "language_info": {
   "codemirror_mode": {
    "name": "ipython",
    "version": 3
   },
   "file_extension": ".py",
   "mimetype": "text/x-python",
   "name": "python",
   "nbconvert_exporter": "python",
   "pygments_lexer": "ipython3",
   "version": "3.6.2"
  }
 },
 "nbformat": 4,
 "nbformat_minor": 4
}
