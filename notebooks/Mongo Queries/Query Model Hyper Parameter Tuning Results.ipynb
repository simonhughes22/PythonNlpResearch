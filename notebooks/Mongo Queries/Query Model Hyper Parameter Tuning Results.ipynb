{
 "cells": [
  {
   "cell_type": "code",
   "execution_count": 1,
   "metadata": {
    "collapsed": true
   },
   "outputs": [],
   "source": [
    "%matplotlib inline\n",
    "import numpy as np\n",
    "import pandas as pd\n",
    "import matplotlib as mpl\n",
    "import matplotlib.pyplot as plt\n",
    "#import seaborn as sns\n",
    "import pymongo\n",
    "from pprint import pprint"
   ]
  },
  {
   "cell_type": "code",
   "execution_count": 2,
   "metadata": {
    "collapsed": true
   },
   "outputs": [],
   "source": [
    "client = pymongo.MongoClient()\n",
    "db = client.metrics"
   ]
  },
  {
   "cell_type": "code",
   "execution_count": 3,
   "metadata": {
    "collapsed": true
   },
   "outputs": [],
   "source": [
    "def group_by(df, bycols, agg_map):\n",
    "    \"\"\"\n",
    "\n",
    "    @param df:      DataFrame\n",
    "    @param bycols:  str or list\n",
    "                        Column(s) to group by\n",
    "    @param agg_map: dictionary or list of 2-tuples\n",
    "                        Mapping from column to aggregate function e.g. [(\"city\", \"count\"), (\"salary\", \"mean\"]\n",
    "    @return:        DataFrame\n",
    "                        Flattened dataframe, with multi-level index removed\n",
    "    \"\"\"\n",
    "    grps = []\n",
    "    if type(bycols) == str:\n",
    "        bycols = [bycols]\n",
    "\n",
    "    if type(agg_map) == dict:\n",
    "        agg_map = agg_map.items()\n",
    "\n",
    "    for k,v in agg_map:\n",
    "        grp = df[bycols + [k]].groupby(bycols, ).agg(v)\n",
    "        grp.reset_index(inplace=True)\n",
    "        grp[\"%s(%s)\" % (v,k)] = grp[k]\n",
    "        del grp[k]\n",
    "        grps.append(grp)\n",
    "\n",
    "    m = grps[0]\n",
    "    for grp in grps[1:]:\n",
    "        m = pd.merge(m, grp, on=bycols, how=\"inner\")\n",
    "    return m"
   ]
  },
  {
   "cell_type": "code",
   "execution_count": 4,
   "metadata": {
    "collapsed": true
   },
   "outputs": [],
   "source": [
    "from bson.son import SON # needed to ensure dictionary is ordered (python default is not)\n",
    "import hashlib\n",
    "\n",
    "def hash_feats(fts):\n",
    "    vals = fts.values\n",
    "    joined = \"|\".join(map(lambda s: str(s),vals)).encode('utf-8') \n",
    "    return hashlib.sha224(joined).hexdigest()\n",
    "\n",
    "def get_df_sorted_by_f1score(collection, params=None, filter_cols=True):\n",
    "    if not params:\n",
    "        params = []\n",
    "    if type(params) == str:\n",
    "        params = params.split(\",\")\n",
    "    \n",
    "    project = {\n",
    "            \"weighted_f1_score\":\"$WEIGHTED_MEAN_CONCEPT_CODES.f1_score\",\n",
    "            \"macro_f1_score\":   \"$MACRO_F1\",\n",
    "            \"micro_f1_score\":  \"$MICRO_F1.f1_score\",\n",
    "            \"micro_recall\":    \"$MICRO_F1.recall\",\n",
    "            \"micro_precision\": \"$MICRO_F1.precision\",\n",
    "    \n",
    "    # PARAMETERS            \n",
    "            \"window_size\":    \"$parameters.window_size\",\n",
    "            \"feats\":          \"$parameters.extractors\",\n",
    "            \"count\": {        \"$size\" : \"$parameters.extractors\" },\n",
    "            \"asof\" :          \"$asof\",\n",
    "            \"_id\":1\n",
    "    }\n",
    "    \n",
    "    # No count for HMM\n",
    "    if \"_hmm\" in collection.lower():\n",
    "        del project[\"count\"]\n",
    "    \n",
    "    for param in params:\n",
    "        project[param] = \"$parameters.\" + param\n",
    "\n",
    "    feats_pipeline = [{\n",
    "        \"$project\": project\n",
    "    },\n",
    "    {\n",
    "        \"$match\":{\n",
    "            \"micro_f1_score\": { \"$exists\" : True }        \n",
    "        }\n",
    "    },\n",
    "    {\n",
    "        \"$sort\":{\n",
    "            \"micro_f1_score\": -1\n",
    "        }\n",
    "    },\n",
    "    ]\n",
    "    \n",
    "    rows = [row for row in db[collection].aggregate(feats_pipeline)]\n",
    "    df = pd.DataFrame(rows).sort_values(\"micro_f1_score\", ascending=False)\n",
    "    if params:\n",
    "        df[\"hs_params\"] = df[params].apply(hash_feats, axis=1)\n",
    "        \n",
    "    if filter_cols:\n",
    "        cols = [\"micro_f1_score\", \"micro_recall\" ,\"micro_precision\", \"macro_f1_score\" ] + params\n",
    "        return df[cols]\n",
    "    return df"
   ]
  },
  {
   "cell_type": "code",
   "execution_count": 5,
   "metadata": {
    "collapsed": true
   },
   "outputs": [],
   "source": [
    "def get_window_classifier_results(prefix):\n",
    "    collections = \"WINDOW_CLASSIFIER_BR,WINDOW_CLASSIFIER_LBL_POWERSET_MULTICLASS,WINDOW_CLASSIFIER_MOST_COMMON_TAG_MULTICLASS\".split(\",\")\n",
    "    dfs = []\n",
    "    for c in collections:\n",
    "        col = prefix + c\n",
    "        print(col)\n",
    "        df = dict(get_df_sorted_by_f1score(col).iloc[0,:])\n",
    "        df[\"Collection_\" + prefix[:-1]] = col.replace(prefix,\"\")\n",
    "        dfs.append(df)\n",
    "    return pd.DataFrame(dfs).sort_values(\"micro_f1_score\", ascending=False)"
   ]
  },
  {
   "cell_type": "markdown",
   "metadata": {},
   "source": [
    "# Which Problem Transformation Method Was Best?"
   ]
  },
  {
   "cell_type": "code",
   "execution_count": 6,
   "metadata": {
    "collapsed": true
   },
   "outputs": [],
   "source": [
    "def round_data(df, places=3):\n",
    "    df_copy = df.copy()\n",
    "    fmt_str = \"{0:.\" + str(places) + \"f}\"\n",
    "    cols = set([v for v in df_copy.columns.values if \"micro_\" in v])\n",
    "    for c in cols:\n",
    "        df_copy[c] = df[c].apply(lambda d: fmt_str.format(d))  \n",
    "    return df_copy"
   ]
  },
  {
   "cell_type": "markdown",
   "metadata": {},
   "source": [
    "## Coral Bleaching"
   ]
  },
  {
   "cell_type": "code",
   "execution_count": 7,
   "metadata": {},
   "outputs": [
    {
     "name": "stdout",
     "output_type": "stream",
     "text": [
      "CB_TAGGING_VD_WINDOW_CLASSIFIER_BR\n",
      "CB_TAGGING_VD_WINDOW_CLASSIFIER_LBL_POWERSET_MULTICLASS\n",
      "CB_TAGGING_VD_WINDOW_CLASSIFIER_MOST_COMMON_TAG_MULTICLASS\n"
     ]
    },
    {
     "data": {
      "text/html": [
       "<div>\n",
       "<table border=\"1\" class=\"dataframe\">\n",
       "  <thead>\n",
       "    <tr style=\"text-align: right;\">\n",
       "      <th></th>\n",
       "      <th>Collection_CB_TAGGING_VD</th>\n",
       "      <th>micro_f1_score</th>\n",
       "      <th>micro_recall</th>\n",
       "      <th>micro_precision</th>\n",
       "    </tr>\n",
       "  </thead>\n",
       "  <tbody>\n",
       "    <tr>\n",
       "      <th>2</th>\n",
       "      <td>WINDOW_CLASSIFIER_MOST_COMMON_TAG_MULTICLASS</td>\n",
       "      <td>0.8317</td>\n",
       "      <td>0.7863</td>\n",
       "      <td>0.8826</td>\n",
       "    </tr>\n",
       "    <tr>\n",
       "      <th>1</th>\n",
       "      <td>WINDOW_CLASSIFIER_LBL_POWERSET_MULTICLASS</td>\n",
       "      <td>0.8316</td>\n",
       "      <td>0.7861</td>\n",
       "      <td>0.8827</td>\n",
       "    </tr>\n",
       "    <tr>\n",
       "      <th>0</th>\n",
       "      <td>WINDOW_CLASSIFIER_BR</td>\n",
       "      <td>0.8247</td>\n",
       "      <td>0.7708</td>\n",
       "      <td>0.8866</td>\n",
       "    </tr>\n",
       "  </tbody>\n",
       "</table>\n",
       "</div>"
      ],
      "text/plain": [
       "                       Collection_CB_TAGGING_VD micro_f1_score micro_recall  \\\n",
       "2  WINDOW_CLASSIFIER_MOST_COMMON_TAG_MULTICLASS         0.8317       0.7863   \n",
       "1     WINDOW_CLASSIFIER_LBL_POWERSET_MULTICLASS         0.8316       0.7861   \n",
       "0                          WINDOW_CLASSIFIER_BR         0.8247       0.7708   \n",
       "\n",
       "  micro_precision  \n",
       "2          0.8826  \n",
       "1          0.8827  \n",
       "0          0.8866  "
      ]
     },
     "execution_count": 7,
     "metadata": {},
     "output_type": "execute_result"
    }
   ],
   "source": [
    "df = get_window_classifier_results(\"CB_TAGGING_VD_\")\n",
    "df = round_data(df, 4)\n",
    "df[\"Collection_CB_TAGGING_VD,micro_f1_score,micro_recall,micro_precision\".split(\",\")]"
   ]
  },
  {
   "cell_type": "markdown",
   "metadata": {},
   "source": [
    "## Skin Cancer"
   ]
  },
  {
   "cell_type": "code",
   "execution_count": 8,
   "metadata": {},
   "outputs": [
    {
     "name": "stdout",
     "output_type": "stream",
     "text": [
      "SC_TAGGING_VD_WINDOW_CLASSIFIER_BR\n",
      "SC_TAGGING_VD_WINDOW_CLASSIFIER_LBL_POWERSET_MULTICLASS\n",
      "SC_TAGGING_VD_WINDOW_CLASSIFIER_MOST_COMMON_TAG_MULTICLASS\n"
     ]
    },
    {
     "data": {
      "text/html": [
       "<div>\n",
       "<table border=\"1\" class=\"dataframe\">\n",
       "  <thead>\n",
       "    <tr style=\"text-align: right;\">\n",
       "      <th></th>\n",
       "      <th>Collection_SC_TAGGING_VD</th>\n",
       "      <th>micro_f1_score</th>\n",
       "      <th>micro_recall</th>\n",
       "      <th>micro_precision</th>\n",
       "    </tr>\n",
       "  </thead>\n",
       "  <tbody>\n",
       "    <tr>\n",
       "      <th>1</th>\n",
       "      <td>WINDOW_CLASSIFIER_LBL_POWERSET_MULTICLASS</td>\n",
       "      <td>0.8087</td>\n",
       "      <td>0.7749</td>\n",
       "      <td>0.8456</td>\n",
       "    </tr>\n",
       "    <tr>\n",
       "      <th>2</th>\n",
       "      <td>WINDOW_CLASSIFIER_MOST_COMMON_TAG_MULTICLASS</td>\n",
       "      <td>0.8087</td>\n",
       "      <td>0.7749</td>\n",
       "      <td>0.8456</td>\n",
       "    </tr>\n",
       "    <tr>\n",
       "      <th>0</th>\n",
       "      <td>WINDOW_CLASSIFIER_BR</td>\n",
       "      <td>0.8011</td>\n",
       "      <td>0.7592</td>\n",
       "      <td>0.8478</td>\n",
       "    </tr>\n",
       "  </tbody>\n",
       "</table>\n",
       "</div>"
      ],
      "text/plain": [
       "                       Collection_SC_TAGGING_VD micro_f1_score micro_recall  \\\n",
       "1     WINDOW_CLASSIFIER_LBL_POWERSET_MULTICLASS         0.8087       0.7749   \n",
       "2  WINDOW_CLASSIFIER_MOST_COMMON_TAG_MULTICLASS         0.8087       0.7749   \n",
       "0                          WINDOW_CLASSIFIER_BR         0.8011       0.7592   \n",
       "\n",
       "  micro_precision  \n",
       "1          0.8456  \n",
       "2          0.8456  \n",
       "0          0.8478  "
      ]
     },
     "execution_count": 8,
     "metadata": {},
     "output_type": "execute_result"
    }
   ],
   "source": [
    "df = get_window_classifier_results(\"SC_TAGGING_VD_\")\n",
    "for c in [\"micro_f1_score\",\"micro_recall\",\"micro_precision\"]:\n",
    "    df[c] = df[c].apply(lambda d: \"{0:.4f}\".format(d))  \n",
    "df[\"Collection_SC_TAGGING_VD,micro_f1_score,micro_recall,micro_precision\".split(\",\")]"
   ]
  },
  {
   "cell_type": "markdown",
   "metadata": {},
   "source": [
    "** Unsurprisingly in this case, as there were only two MLC labels, the score for LBL powerset and Common tag are the same **\n",
    "\n",
    "** HOWEVER - why is the multiclass version that much better? It does OVR, and with only 2 records difference, this makes no sense to me **"
   ]
  },
  {
   "cell_type": "markdown",
   "metadata": {},
   "source": [
    "# Hyper Parameter Tuning Results"
   ]
  },
  {
   "cell_type": "code",
   "execution_count": 9,
   "metadata": {
    "collapsed": true
   },
   "outputs": [],
   "source": [
    "# Rows to print - df.head\n",
    "ROWS = 5"
   ]
  },
  {
   "cell_type": "markdown",
   "metadata": {},
   "source": [
    "- To get the TD and VD metrics, change the collection names below (VD->TD)"
   ]
  },
  {
   "cell_type": "markdown",
   "metadata": {},
   "source": [
    "## Window Based Classifier - Hyper Parameter Tuning"
   ]
  },
  {
   "cell_type": "markdown",
   "metadata": {},
   "source": [
    "### Coral Bleaching"
   ]
  },
  {
   "cell_type": "code",
   "execution_count": 10,
   "metadata": {},
   "outputs": [
    {
     "data": {
      "text/html": [
       "<div>\n",
       "<table border=\"1\" class=\"dataframe\">\n",
       "  <thead>\n",
       "    <tr style=\"text-align: right;\">\n",
       "      <th></th>\n",
       "      <th>micro_f1_score</th>\n",
       "      <th>micro_recall</th>\n",
       "      <th>micro_precision</th>\n",
       "      <th>macro_f1_score</th>\n",
       "      <th>dual</th>\n",
       "      <th>C</th>\n",
       "      <th>penalty</th>\n",
       "      <th>fit_intercept</th>\n",
       "      <th>multi_class</th>\n",
       "      <th>window_size</th>\n",
       "    </tr>\n",
       "  </thead>\n",
       "  <tbody>\n",
       "    <tr>\n",
       "      <th>0</th>\n",
       "      <td>0.8319</td>\n",
       "      <td>0.7814</td>\n",
       "      <td>0.8892</td>\n",
       "      <td>0.758832</td>\n",
       "      <td>True</td>\n",
       "      <td>0.5</td>\n",
       "      <td>l2</td>\n",
       "      <td>True</td>\n",
       "      <td>ovr</td>\n",
       "      <td>9</td>\n",
       "    </tr>\n",
       "    <tr>\n",
       "      <th>1</th>\n",
       "      <td>0.8318</td>\n",
       "      <td>0.7814</td>\n",
       "      <td>0.8892</td>\n",
       "      <td>0.758813</td>\n",
       "      <td>False</td>\n",
       "      <td>0.5</td>\n",
       "      <td>l2</td>\n",
       "      <td>True</td>\n",
       "      <td>ovr</td>\n",
       "      <td>9</td>\n",
       "    </tr>\n",
       "    <tr>\n",
       "      <th>2</th>\n",
       "      <td>0.8317</td>\n",
       "      <td>0.7863</td>\n",
       "      <td>0.8826</td>\n",
       "      <td>0.761281</td>\n",
       "      <td>True</td>\n",
       "      <td>1.0</td>\n",
       "      <td>l2</td>\n",
       "      <td>True</td>\n",
       "      <td>ovr</td>\n",
       "      <td>9</td>\n",
       "    </tr>\n",
       "    <tr>\n",
       "      <th>3</th>\n",
       "      <td>0.8317</td>\n",
       "      <td>0.7863</td>\n",
       "      <td>0.8826</td>\n",
       "      <td>0.761281</td>\n",
       "      <td>True</td>\n",
       "      <td>1.0</td>\n",
       "      <td>l2</td>\n",
       "      <td>True</td>\n",
       "      <td>ovr</td>\n",
       "      <td>9</td>\n",
       "    </tr>\n",
       "    <tr>\n",
       "      <th>4</th>\n",
       "      <td>0.8317</td>\n",
       "      <td>0.7863</td>\n",
       "      <td>0.8826</td>\n",
       "      <td>0.761267</td>\n",
       "      <td>False</td>\n",
       "      <td>1.0</td>\n",
       "      <td>l2</td>\n",
       "      <td>True</td>\n",
       "      <td>ovr</td>\n",
       "      <td>9</td>\n",
       "    </tr>\n",
       "  </tbody>\n",
       "</table>\n",
       "</div>"
      ],
      "text/plain": [
       "  micro_f1_score micro_recall micro_precision  macro_f1_score   dual    C  \\\n",
       "0         0.8319       0.7814          0.8892        0.758832   True  0.5   \n",
       "1         0.8318       0.7814          0.8892        0.758813  False  0.5   \n",
       "2         0.8317       0.7863          0.8826        0.761281   True  1.0   \n",
       "3         0.8317       0.7863          0.8826        0.761281   True  1.0   \n",
       "4         0.8317       0.7863          0.8826        0.761267  False  1.0   \n",
       "\n",
       "  penalty fit_intercept multi_class  window_size  \n",
       "0      l2          True         ovr            9  \n",
       "1      l2          True         ovr            9  \n",
       "2      l2          True         ovr            9  \n",
       "3      l2          True         ovr            9  \n",
       "4      l2          True         ovr            9  "
      ]
     },
     "execution_count": 10,
     "metadata": {},
     "output_type": "execute_result"
    }
   ],
   "source": [
    "params = \"dual,C,penalty,fit_intercept,multi_class,window_size\".split(\",\")\n",
    "collection = \"CB_TAGGING_VD_WINDOW_CLASSIFIER_MOST_COMMON_TAG_MULTICLASS_HYPER_PARAM_TUNING\"\n",
    "\n",
    "df = get_df_sorted_by_f1score(collection, params)\n",
    "\n",
    "round_data(df.head(ROWS),4)\n",
    "#df"
   ]
  },
  {
   "cell_type": "markdown",
   "metadata": {},
   "source": [
    "### Skin Cancer"
   ]
  },
  {
   "cell_type": "code",
   "execution_count": 11,
   "metadata": {},
   "outputs": [
    {
     "data": {
      "text/html": [
       "<div>\n",
       "<table border=\"1\" class=\"dataframe\">\n",
       "  <thead>\n",
       "    <tr style=\"text-align: right;\">\n",
       "      <th></th>\n",
       "      <th>micro_f1_score</th>\n",
       "      <th>micro_recall</th>\n",
       "      <th>micro_precision</th>\n",
       "      <th>macro_f1_score</th>\n",
       "      <th>dual</th>\n",
       "      <th>C</th>\n",
       "      <th>penalty</th>\n",
       "      <th>fit_intercept</th>\n",
       "      <th>multi_class</th>\n",
       "      <th>window_size</th>\n",
       "    </tr>\n",
       "  </thead>\n",
       "  <tbody>\n",
       "    <tr>\n",
       "      <th>0</th>\n",
       "      <td>0.810</td>\n",
       "      <td>0.773</td>\n",
       "      <td>0.850</td>\n",
       "      <td>0.771964</td>\n",
       "      <td>True</td>\n",
       "      <td>0.5</td>\n",
       "      <td>l2</td>\n",
       "      <td>True</td>\n",
       "      <td>ovr</td>\n",
       "      <td>9</td>\n",
       "    </tr>\n",
       "    <tr>\n",
       "      <th>1</th>\n",
       "      <td>0.810</td>\n",
       "      <td>0.772</td>\n",
       "      <td>0.850</td>\n",
       "      <td>0.771948</td>\n",
       "      <td>False</td>\n",
       "      <td>0.5</td>\n",
       "      <td>l2</td>\n",
       "      <td>True</td>\n",
       "      <td>ovr</td>\n",
       "      <td>9</td>\n",
       "    </tr>\n",
       "    <tr>\n",
       "      <th>2</th>\n",
       "      <td>0.809</td>\n",
       "      <td>0.775</td>\n",
       "      <td>0.846</td>\n",
       "      <td>0.771934</td>\n",
       "      <td>False</td>\n",
       "      <td>1.0</td>\n",
       "      <td>l2</td>\n",
       "      <td>True</td>\n",
       "      <td>ovr</td>\n",
       "      <td>9</td>\n",
       "    </tr>\n",
       "    <tr>\n",
       "      <th>3</th>\n",
       "      <td>0.809</td>\n",
       "      <td>0.775</td>\n",
       "      <td>0.846</td>\n",
       "      <td>0.771901</td>\n",
       "      <td>True</td>\n",
       "      <td>1.0</td>\n",
       "      <td>l2</td>\n",
       "      <td>True</td>\n",
       "      <td>ovr</td>\n",
       "      <td>9</td>\n",
       "    </tr>\n",
       "    <tr>\n",
       "      <th>4</th>\n",
       "      <td>0.809</td>\n",
       "      <td>0.777</td>\n",
       "      <td>0.843</td>\n",
       "      <td>0.776306</td>\n",
       "      <td>False</td>\n",
       "      <td>1.0</td>\n",
       "      <td>l1</td>\n",
       "      <td>True</td>\n",
       "      <td>ovr</td>\n",
       "      <td>9</td>\n",
       "    </tr>\n",
       "  </tbody>\n",
       "</table>\n",
       "</div>"
      ],
      "text/plain": [
       "  micro_f1_score micro_recall micro_precision  macro_f1_score   dual    C  \\\n",
       "0          0.810        0.773           0.850        0.771964   True  0.5   \n",
       "1          0.810        0.772           0.850        0.771948  False  0.5   \n",
       "2          0.809        0.775           0.846        0.771934  False  1.0   \n",
       "3          0.809        0.775           0.846        0.771901   True  1.0   \n",
       "4          0.809        0.777           0.843        0.776306  False  1.0   \n",
       "\n",
       "  penalty fit_intercept multi_class  window_size  \n",
       "0      l2          True         ovr            9  \n",
       "1      l2          True         ovr            9  \n",
       "2      l2          True         ovr            9  \n",
       "3      l2          True         ovr            9  \n",
       "4      l1          True         ovr            9  "
      ]
     },
     "execution_count": 11,
     "metadata": {},
     "output_type": "execute_result"
    }
   ],
   "source": [
    "params = \"dual,C,penalty,fit_intercept,multi_class,window_size\".split(\",\")\n",
    "collection = \"SC_TAGGING_VD_WINDOW_CLASSIFIER_MOST_COMMON_TAG_MULTICLASS_HYPER_PARAM_TUNING\"\n",
    "\n",
    "df = get_df_sorted_by_f1score(collection, params)\n",
    "#df = df[df.dual==True]\n",
    "#df = df[df.C==0.5]\n",
    "#df = df[df.penalty =='l2']\n",
    "round_data(df.head(ROWS),3)"
   ]
  },
  {
   "cell_type": "markdown",
   "metadata": {},
   "source": [
    "### <span style=\"color:red\">Optimal Hyper Parameters are the same for both datasets </span>"
   ]
  },
  {
   "cell_type": "markdown",
   "metadata": {},
   "source": [
    "## CRF Performance - Hyper Parameter Tuning "
   ]
  },
  {
   "cell_type": "markdown",
   "metadata": {},
   "source": [
    "### Coral Bleaching"
   ]
  },
  {
   "cell_type": "markdown",
   "metadata": {},
   "source": [
    "### TD"
   ]
  },
  {
   "cell_type": "code",
   "execution_count": 33,
   "metadata": {},
   "outputs": [
    {
     "data": {
      "text/html": [
       "<div>\n",
       "<table border=\"1\" class=\"dataframe\">\n",
       "  <thead>\n",
       "    <tr style=\"text-align: right;\">\n",
       "      <th></th>\n",
       "      <th>micro_f1_score</th>\n",
       "      <th>micro_recall</th>\n",
       "      <th>micro_precision</th>\n",
       "      <th>feature_possible_states</th>\n",
       "      <th>feature_possible_transitions</th>\n",
       "      <th>c2</th>\n",
       "      <th>window_size</th>\n",
       "    </tr>\n",
       "  </thead>\n",
       "  <tbody>\n",
       "    <tr>\n",
       "      <th>0</th>\n",
       "      <td>0.994</td>\n",
       "      <td>0.994</td>\n",
       "      <td>0.994</td>\n",
       "      <td>False</td>\n",
       "      <td>False</td>\n",
       "      <td>0.1</td>\n",
       "      <td>9</td>\n",
       "    </tr>\n",
       "  </tbody>\n",
       "</table>\n",
       "</div>"
      ],
      "text/plain": [
       "  micro_f1_score micro_recall micro_precision feature_possible_states  \\\n",
       "0          0.994        0.994           0.994                   False   \n",
       "\n",
       "  feature_possible_transitions   c2  window_size  \n",
       "0                        False  0.1            9  "
      ]
     },
     "execution_count": 33,
     "metadata": {},
     "output_type": "execute_result"
    }
   ],
   "source": [
    "cols = \"micro_f1_score,micro_recall,micro_precision,feature_possible_states,feature_possible_transitions,c2,window_size\".split(\",\")\n",
    "df = get_df_sorted_by_f1score(\"CB_TAGGING_TD_CRF_MOST_COMMON_TAG_HYPERPARAM_OPT\",\n",
    "                         \"feature_possible_states,feature_possible_transitions,c2,window_size\".split(\",\"))\n",
    "\n",
    "#df = df[df.c2==0.1]\n",
    "#df = df[df.feature_possible_transitions==True]\n",
    "\n",
    "round_data(df[cols].head(1), 3)"
   ]
  },
  {
   "cell_type": "markdown",
   "metadata": {},
   "source": [
    "### VD"
   ]
  },
  {
   "cell_type": "code",
   "execution_count": 32,
   "metadata": {},
   "outputs": [
    {
     "data": {
      "text/html": [
       "<div>\n",
       "<table border=\"1\" class=\"dataframe\">\n",
       "  <thead>\n",
       "    <tr style=\"text-align: right;\">\n",
       "      <th></th>\n",
       "      <th>micro_f1_score</th>\n",
       "      <th>micro_recall</th>\n",
       "      <th>micro_precision</th>\n",
       "      <th>feature_possible_states</th>\n",
       "      <th>feature_possible_transitions</th>\n",
       "      <th>c2</th>\n",
       "      <th>window_size</th>\n",
       "    </tr>\n",
       "  </thead>\n",
       "  <tbody>\n",
       "    <tr>\n",
       "      <th>0</th>\n",
       "      <td>0.824</td>\n",
       "      <td>0.772</td>\n",
       "      <td>0.883</td>\n",
       "      <td>False</td>\n",
       "      <td>False</td>\n",
       "      <td>0.1</td>\n",
       "      <td>9</td>\n",
       "    </tr>\n",
       "    <tr>\n",
       "      <th>1</th>\n",
       "      <td>0.823</td>\n",
       "      <td>0.765</td>\n",
       "      <td>0.891</td>\n",
       "      <td>False</td>\n",
       "      <td>False</td>\n",
       "      <td>1.0</td>\n",
       "      <td>9</td>\n",
       "    </tr>\n",
       "    <tr>\n",
       "      <th>2</th>\n",
       "      <td>0.823</td>\n",
       "      <td>0.764</td>\n",
       "      <td>0.891</td>\n",
       "      <td>False</td>\n",
       "      <td>True</td>\n",
       "      <td>1.0</td>\n",
       "      <td>9</td>\n",
       "    </tr>\n",
       "    <tr>\n",
       "      <th>3</th>\n",
       "      <td>0.823</td>\n",
       "      <td>0.771</td>\n",
       "      <td>0.882</td>\n",
       "      <td>False</td>\n",
       "      <td>True</td>\n",
       "      <td>0.1</td>\n",
       "      <td>9</td>\n",
       "    </tr>\n",
       "    <tr>\n",
       "      <th>4</th>\n",
       "      <td>0.805</td>\n",
       "      <td>0.731</td>\n",
       "      <td>0.896</td>\n",
       "      <td>False</td>\n",
       "      <td>True</td>\n",
       "      <td>10.0</td>\n",
       "      <td>9</td>\n",
       "    </tr>\n",
       "  </tbody>\n",
       "</table>\n",
       "</div>"
      ],
      "text/plain": [
       "  micro_f1_score micro_recall micro_precision feature_possible_states  \\\n",
       "0          0.824        0.772           0.883                   False   \n",
       "1          0.823        0.765           0.891                   False   \n",
       "2          0.823        0.764           0.891                   False   \n",
       "3          0.823        0.771           0.882                   False   \n",
       "4          0.805        0.731           0.896                   False   \n",
       "\n",
       "  feature_possible_transitions    c2  window_size  \n",
       "0                        False   0.1            9  \n",
       "1                        False   1.0            9  \n",
       "2                         True   1.0            9  \n",
       "3                         True   0.1            9  \n",
       "4                         True  10.0            9  "
      ]
     },
     "execution_count": 32,
     "metadata": {},
     "output_type": "execute_result"
    }
   ],
   "source": [
    "cols = \"micro_f1_score,micro_recall,micro_precision,feature_possible_states,feature_possible_transitions,c2,window_size\".split(\",\")\n",
    "df = get_df_sorted_by_f1score(\"CB_TAGGING_VD_CRF_MOST_COMMON_TAG_HYPERPARAM_OPT\",\n",
    "                         \"feature_possible_states,feature_possible_transitions,c2,window_size\".split(\",\"))\n",
    "\n",
    "#df = df[df.c2==0.1]\n",
    "#df = df[df.feature_possible_transitions==True]\n",
    "\n",
    "round_data(df[cols].head(ROWS), 3)"
   ]
  },
  {
   "cell_type": "markdown",
   "metadata": {},
   "source": [
    "### Skin Cancer"
   ]
  },
  {
   "cell_type": "code",
   "execution_count": 13,
   "metadata": {},
   "outputs": [
    {
     "data": {
      "text/html": [
       "<div>\n",
       "<table border=\"1\" class=\"dataframe\">\n",
       "  <thead>\n",
       "    <tr style=\"text-align: right;\">\n",
       "      <th></th>\n",
       "      <th>micro_f1_score</th>\n",
       "      <th>micro_recall</th>\n",
       "      <th>micro_precision</th>\n",
       "      <th>feature_possible_states</th>\n",
       "      <th>feature_possible_transitions</th>\n",
       "      <th>c2</th>\n",
       "      <th>window_size</th>\n",
       "    </tr>\n",
       "  </thead>\n",
       "  <tbody>\n",
       "    <tr>\n",
       "      <th>0</th>\n",
       "      <td>0.799</td>\n",
       "      <td>0.758</td>\n",
       "      <td>0.846</td>\n",
       "      <td>False</td>\n",
       "      <td>True</td>\n",
       "      <td>1.0</td>\n",
       "      <td>9</td>\n",
       "    </tr>\n",
       "    <tr>\n",
       "      <th>1</th>\n",
       "      <td>0.798</td>\n",
       "      <td>0.756</td>\n",
       "      <td>0.844</td>\n",
       "      <td>False</td>\n",
       "      <td>False</td>\n",
       "      <td>1.0</td>\n",
       "      <td>9</td>\n",
       "    </tr>\n",
       "    <tr>\n",
       "      <th>2</th>\n",
       "      <td>0.789</td>\n",
       "      <td>0.754</td>\n",
       "      <td>0.827</td>\n",
       "      <td>False</td>\n",
       "      <td>False</td>\n",
       "      <td>0.1</td>\n",
       "      <td>9</td>\n",
       "    </tr>\n",
       "    <tr>\n",
       "      <th>3</th>\n",
       "      <td>0.789</td>\n",
       "      <td>0.754</td>\n",
       "      <td>0.827</td>\n",
       "      <td>False</td>\n",
       "      <td>True</td>\n",
       "      <td>0.1</td>\n",
       "      <td>9</td>\n",
       "    </tr>\n",
       "    <tr>\n",
       "      <th>4</th>\n",
       "      <td>0.785</td>\n",
       "      <td>0.723</td>\n",
       "      <td>0.859</td>\n",
       "      <td>False</td>\n",
       "      <td>True</td>\n",
       "      <td>10.0</td>\n",
       "      <td>9</td>\n",
       "    </tr>\n",
       "  </tbody>\n",
       "</table>\n",
       "</div>"
      ],
      "text/plain": [
       "  micro_f1_score micro_recall micro_precision feature_possible_states  \\\n",
       "0          0.799        0.758           0.846                   False   \n",
       "1          0.798        0.756           0.844                   False   \n",
       "2          0.789        0.754           0.827                   False   \n",
       "3          0.789        0.754           0.827                   False   \n",
       "4          0.785        0.723           0.859                   False   \n",
       "\n",
       "  feature_possible_transitions    c2  window_size  \n",
       "0                         True   1.0            9  \n",
       "1                        False   1.0            9  \n",
       "2                        False   0.1            9  \n",
       "3                         True   0.1            9  \n",
       "4                         True  10.0            9  "
      ]
     },
     "execution_count": 13,
     "metadata": {},
     "output_type": "execute_result"
    }
   ],
   "source": [
    "cols = \"micro_f1_score,micro_recall,micro_precision,feature_possible_states,feature_possible_transitions,c2,window_size\".split(\",\")\n",
    "df = get_df_sorted_by_f1score(\"SC_TAGGING_VD_CRF_MOST_COMMON_TAG_HYPERPARAM_OPT\",\n",
    "                         \"feature_possible_states,feature_possible_transitions,c2,window_size\".split(\",\"))\n",
    "\n",
    "#df = df[df.c2==1.0]\n",
    "#df = df[df.feature_possible_transitions==True]\n",
    "round_data(df[cols].head(ROWS), 3)"
   ]
  },
  {
   "cell_type": "markdown",
   "metadata": {},
   "source": [
    "### <span style=\"color:red\">Optimal C2 differs between datasets</span>"
   ]
  },
  {
   "cell_type": "markdown",
   "metadata": {},
   "source": [
    "## HMM - Hyper Parameter Tuning (Features in this case)"
   ]
  },
  {
   "cell_type": "markdown",
   "metadata": {},
   "source": [
    "### Coral Bleaching"
   ]
  },
  {
   "cell_type": "markdown",
   "metadata": {},
   "source": [
    "### HMM"
   ]
  },
  {
   "cell_type": "code",
   "execution_count": 38,
   "metadata": {},
   "outputs": [
    {
     "data": {
      "text/html": [
       "<div>\n",
       "<table border=\"1\" class=\"dataframe\">\n",
       "  <thead>\n",
       "    <tr style=\"text-align: right;\">\n",
       "      <th></th>\n",
       "      <th>micro_f1_score</th>\n",
       "      <th>micro_recall</th>\n",
       "      <th>micro_precision</th>\n",
       "      <th>macro_f1_score</th>\n",
       "      <th>extractors</th>\n",
       "    </tr>\n",
       "  </thead>\n",
       "  <tbody>\n",
       "    <tr>\n",
       "      <th>0</th>\n",
       "      <td>0.799</td>\n",
       "      <td>0.850</td>\n",
       "      <td>0.754</td>\n",
       "      <td>0.765520</td>\n",
       "      <td>unigrams</td>\n",
       "    </tr>\n",
       "    <tr>\n",
       "      <th>1</th>\n",
       "      <td>0.791</td>\n",
       "      <td>0.846</td>\n",
       "      <td>0.743</td>\n",
       "      <td>0.754101</td>\n",
       "      <td>stemmed_unigrams</td>\n",
       "    </tr>\n",
       "    <tr>\n",
       "      <th>2</th>\n",
       "      <td>0.791</td>\n",
       "      <td>0.846</td>\n",
       "      <td>0.743</td>\n",
       "      <td>0.754101</td>\n",
       "      <td>stemmed_unigrams</td>\n",
       "    </tr>\n",
       "  </tbody>\n",
       "</table>\n",
       "</div>"
      ],
      "text/plain": [
       "  micro_f1_score micro_recall micro_precision  macro_f1_score  \\\n",
       "0          0.799        0.850           0.754        0.765520   \n",
       "1          0.791        0.846           0.743        0.754101   \n",
       "2          0.791        0.846           0.743        0.754101   \n",
       "\n",
       "         extractors  \n",
       "0          unigrams  \n",
       "1  stemmed_unigrams  \n",
       "2  stemmed_unigrams  "
      ]
     },
     "execution_count": 38,
     "metadata": {},
     "output_type": "execute_result"
    }
   ],
   "source": [
    "params = \"extractors\".split(\",\")\n",
    "collection = \"CB_TAGGING_TD_HMM_MOST_COMMON_TAG_MULTICLASS\"\n",
    "\n",
    "df = get_df_sorted_by_f1score(collection, params)\n",
    "round_data(df.head(ROWS))"
   ]
  },
  {
   "cell_type": "markdown",
   "metadata": {},
   "source": [
    "### VD"
   ]
  },
  {
   "cell_type": "code",
   "execution_count": 39,
   "metadata": {},
   "outputs": [
    {
     "data": {
      "text/html": [
       "<div>\n",
       "<table border=\"1\" class=\"dataframe\">\n",
       "  <thead>\n",
       "    <tr style=\"text-align: right;\">\n",
       "      <th></th>\n",
       "      <th>micro_f1_score</th>\n",
       "      <th>micro_recall</th>\n",
       "      <th>micro_precision</th>\n",
       "      <th>macro_f1_score</th>\n",
       "      <th>extractors</th>\n",
       "    </tr>\n",
       "  </thead>\n",
       "  <tbody>\n",
       "    <tr>\n",
       "      <th>0</th>\n",
       "      <td>0.758</td>\n",
       "      <td>0.789</td>\n",
       "      <td>0.728</td>\n",
       "      <td>0.693187</td>\n",
       "      <td>stemmed_unigrams</td>\n",
       "    </tr>\n",
       "    <tr>\n",
       "      <th>1</th>\n",
       "      <td>0.755</td>\n",
       "      <td>0.778</td>\n",
       "      <td>0.734</td>\n",
       "      <td>0.691828</td>\n",
       "      <td>unigrams</td>\n",
       "    </tr>\n",
       "  </tbody>\n",
       "</table>\n",
       "</div>"
      ],
      "text/plain": [
       "  micro_f1_score micro_recall micro_precision  macro_f1_score  \\\n",
       "0          0.758        0.789           0.728        0.693187   \n",
       "1          0.755        0.778           0.734        0.691828   \n",
       "\n",
       "         extractors  \n",
       "0  stemmed_unigrams  \n",
       "1          unigrams  "
      ]
     },
     "execution_count": 39,
     "metadata": {},
     "output_type": "execute_result"
    }
   ],
   "source": [
    "params = \"extractors\".split(\",\")\n",
    "collection = \"CB_TAGGING_VD_HMM_MOST_COMMON_TAG_MULTICLASS\"\n",
    "\n",
    "df = get_df_sorted_by_f1score(collection, params)\n",
    "round_data(df.head(ROWS))"
   ]
  },
  {
   "cell_type": "markdown",
   "metadata": {},
   "source": [
    "### Skin Cancer"
   ]
  },
  {
   "cell_type": "code",
   "execution_count": 15,
   "metadata": {},
   "outputs": [
    {
     "data": {
      "text/html": [
       "<div>\n",
       "<table border=\"1\" class=\"dataframe\">\n",
       "  <thead>\n",
       "    <tr style=\"text-align: right;\">\n",
       "      <th></th>\n",
       "      <th>micro_f1_score</th>\n",
       "      <th>micro_recall</th>\n",
       "      <th>micro_precision</th>\n",
       "      <th>macro_f1_score</th>\n",
       "      <th>extractors</th>\n",
       "    </tr>\n",
       "  </thead>\n",
       "  <tbody>\n",
       "    <tr>\n",
       "      <th>0</th>\n",
       "      <td>0.674</td>\n",
       "      <td>0.733</td>\n",
       "      <td>0.625</td>\n",
       "      <td>0.663758</td>\n",
       "      <td>stemmed_unigrams</td>\n",
       "    </tr>\n",
       "    <tr>\n",
       "      <th>1</th>\n",
       "      <td>0.672</td>\n",
       "      <td>0.719</td>\n",
       "      <td>0.631</td>\n",
       "      <td>0.665284</td>\n",
       "      <td>unigrams</td>\n",
       "    </tr>\n",
       "  </tbody>\n",
       "</table>\n",
       "</div>"
      ],
      "text/plain": [
       "  micro_f1_score micro_recall micro_precision  macro_f1_score  \\\n",
       "0          0.674        0.733           0.625        0.663758   \n",
       "1          0.672        0.719           0.631        0.665284   \n",
       "\n",
       "         extractors  \n",
       "0  stemmed_unigrams  \n",
       "1          unigrams  "
      ]
     },
     "execution_count": 15,
     "metadata": {},
     "output_type": "execute_result"
    }
   ],
   "source": [
    "params = \"extractors\".split(\",\")\n",
    "collection = \"SC_TAGGING_VD_HMM_MOST_COMMON_TAG_MULTICLASS\"\n",
    "\n",
    "df = get_df_sorted_by_f1score(collection, params)\n",
    "round_data(df.head(ROWS))"
   ]
  },
  {
   "cell_type": "markdown",
   "metadata": {},
   "source": [
    "## Average Perceptron - Hyper Parameter Tuning Results"
   ]
  },
  {
   "cell_type": "markdown",
   "metadata": {},
   "source": [
    "### Coral Bleaching"
   ]
  },
  {
   "cell_type": "code",
   "execution_count": 16,
   "metadata": {},
   "outputs": [
    {
     "data": {
      "text/html": [
       "<div>\n",
       "<table border=\"1\" class=\"dataframe\">\n",
       "  <thead>\n",
       "    <tr style=\"text-align: right;\">\n",
       "      <th></th>\n",
       "      <th>micro_f1_score</th>\n",
       "      <th>micro_recall</th>\n",
       "      <th>micro_precision</th>\n",
       "      <th>average_weights</th>\n",
       "      <th>tag_history</th>\n",
       "      <th>window_size</th>\n",
       "      <th>window_size</th>\n",
       "    </tr>\n",
       "  </thead>\n",
       "  <tbody>\n",
       "    <tr>\n",
       "      <th>0</th>\n",
       "      <td>0.829022</td>\n",
       "      <td>0.778135</td>\n",
       "      <td>0.887030</td>\n",
       "      <td>True</td>\n",
       "      <td>1</td>\n",
       "      <td>9</td>\n",
       "      <td>9</td>\n",
       "    </tr>\n",
       "    <tr>\n",
       "      <th>1</th>\n",
       "      <td>0.819187</td>\n",
       "      <td>0.760997</td>\n",
       "      <td>0.887012</td>\n",
       "      <td>True</td>\n",
       "      <td>0</td>\n",
       "      <td>9</td>\n",
       "      <td>9</td>\n",
       "    </tr>\n",
       "    <tr>\n",
       "      <th>2</th>\n",
       "      <td>0.778358</td>\n",
       "      <td>0.735530</td>\n",
       "      <td>0.826481</td>\n",
       "      <td>False</td>\n",
       "      <td>1</td>\n",
       "      <td>9</td>\n",
       "      <td>9</td>\n",
       "    </tr>\n",
       "    <tr>\n",
       "      <th>3</th>\n",
       "      <td>0.754630</td>\n",
       "      <td>0.739349</td>\n",
       "      <td>0.770557</td>\n",
       "      <td>False</td>\n",
       "      <td>0</td>\n",
       "      <td>9</td>\n",
       "      <td>9</td>\n",
       "    </tr>\n",
       "  </tbody>\n",
       "</table>\n",
       "</div>"
      ],
      "text/plain": [
       "   micro_f1_score  micro_recall  micro_precision average_weights  tag_history  \\\n",
       "0        0.829022      0.778135         0.887030            True            1   \n",
       "1        0.819187      0.760997         0.887012            True            0   \n",
       "2        0.778358      0.735530         0.826481           False            1   \n",
       "3        0.754630      0.739349         0.770557           False            0   \n",
       "\n",
       "   window_size  window_size  \n",
       "0            9            9  \n",
       "1            9            9  \n",
       "2            9            9  \n",
       "3            9            9  "
      ]
     },
     "execution_count": 16,
     "metadata": {},
     "output_type": "execute_result"
    }
   ],
   "source": [
    "model = \"AVG_PERCEPTRON_MOST_COMMON_TAG_HYPER_PARAM_TUNING_NEW\"\n",
    "df = get_df_sorted_by_f1score(\"CB_TAGGING_VD_\" + model, \n",
    "                              \"average_weights,tag_history,window_size\")\n",
    "df.head(ROWS)[\"micro_f1_score,micro_recall,micro_precision,average_weights,tag_history,window_size,window_size\".split(\",\")]"
   ]
  },
  {
   "cell_type": "markdown",
   "metadata": {},
   "source": [
    "### Skin Cancer"
   ]
  },
  {
   "cell_type": "code",
   "execution_count": 17,
   "metadata": {},
   "outputs": [
    {
     "data": {
      "text/html": [
       "<div>\n",
       "<table border=\"1\" class=\"dataframe\">\n",
       "  <thead>\n",
       "    <tr style=\"text-align: right;\">\n",
       "      <th></th>\n",
       "      <th>micro_f1_score</th>\n",
       "      <th>micro_recall</th>\n",
       "      <th>micro_precision</th>\n",
       "      <th>average_weights</th>\n",
       "      <th>tag_history</th>\n",
       "      <th>window_size</th>\n",
       "      <th>window_size</th>\n",
       "    </tr>\n",
       "  </thead>\n",
       "  <tbody>\n",
       "    <tr>\n",
       "      <th>0</th>\n",
       "      <td>0.808588</td>\n",
       "      <td>0.767088</td>\n",
       "      <td>0.854835</td>\n",
       "      <td>True</td>\n",
       "      <td>1</td>\n",
       "      <td>9</td>\n",
       "      <td>9</td>\n",
       "    </tr>\n",
       "    <tr>\n",
       "      <th>1</th>\n",
       "      <td>0.802696</td>\n",
       "      <td>0.755411</td>\n",
       "      <td>0.856295</td>\n",
       "      <td>True</td>\n",
       "      <td>0</td>\n",
       "      <td>9</td>\n",
       "      <td>9</td>\n",
       "    </tr>\n",
       "    <tr>\n",
       "      <th>2</th>\n",
       "      <td>0.749183</td>\n",
       "      <td>0.734237</td>\n",
       "      <td>0.764749</td>\n",
       "      <td>False</td>\n",
       "      <td>1</td>\n",
       "      <td>9</td>\n",
       "      <td>9</td>\n",
       "    </tr>\n",
       "    <tr>\n",
       "      <th>3</th>\n",
       "      <td>0.703646</td>\n",
       "      <td>0.701285</td>\n",
       "      <td>0.706023</td>\n",
       "      <td>False</td>\n",
       "      <td>0</td>\n",
       "      <td>9</td>\n",
       "      <td>9</td>\n",
       "    </tr>\n",
       "  </tbody>\n",
       "</table>\n",
       "</div>"
      ],
      "text/plain": [
       "   micro_f1_score  micro_recall  micro_precision average_weights  tag_history  \\\n",
       "0        0.808588      0.767088         0.854835            True            1   \n",
       "1        0.802696      0.755411         0.856295            True            0   \n",
       "2        0.749183      0.734237         0.764749           False            1   \n",
       "3        0.703646      0.701285         0.706023           False            0   \n",
       "\n",
       "   window_size  window_size  \n",
       "0            9            9  \n",
       "1            9            9  \n",
       "2            9            9  \n",
       "3            9            9  "
      ]
     },
     "execution_count": 17,
     "metadata": {},
     "output_type": "execute_result"
    }
   ],
   "source": [
    "model = \"AVG_PERCEPTRON_MOST_COMMON_TAG_HYPER_PARAM_TUNING_NEW\"\n",
    "df = get_df_sorted_by_f1score(\"SC_TAGGING_VD_\" + model, \n",
    "                              \"average_weights,tag_history,window_size\")\n",
    "df.head(ROWS)[\"micro_f1_score,micro_recall,micro_precision,average_weights,tag_history,window_size,window_size\".split(\",\")]"
   ]
  },
  {
   "cell_type": "markdown",
   "metadata": {},
   "source": [
    "### <span style=\"color:red\">Optimal tag_history and tag_ngram_size differ between datasets</span>"
   ]
  },
  {
   "cell_type": "markdown",
   "metadata": {},
   "source": [
    "## RNN"
   ]
  },
  {
   "cell_type": "markdown",
   "metadata": {},
   "source": [
    "### Coral Bleaching"
   ]
  },
  {
   "cell_type": "code",
   "execution_count": 18,
   "metadata": {},
   "outputs": [
    {
     "data": {
      "text/html": [
       "<div>\n",
       "<table border=\"1\" class=\"dataframe\">\n",
       "  <thead>\n",
       "    <tr style=\"text-align: right;\">\n",
       "      <th></th>\n",
       "      <th>micro_f1_score</th>\n",
       "      <th>micro_recall</th>\n",
       "      <th>micro_precision</th>\n",
       "      <th>use_pretrained_embedding</th>\n",
       "      <th>bi-directional</th>\n",
       "      <th>hidden_size</th>\n",
       "    </tr>\n",
       "  </thead>\n",
       "  <tbody>\n",
       "    <tr>\n",
       "      <th>0</th>\n",
       "      <td>0.837</td>\n",
       "      <td>0.822</td>\n",
       "      <td>0.853</td>\n",
       "      <td>True</td>\n",
       "      <td>True</td>\n",
       "      <td>128</td>\n",
       "    </tr>\n",
       "    <tr>\n",
       "      <th>1</th>\n",
       "      <td>0.834</td>\n",
       "      <td>0.810</td>\n",
       "      <td>0.858</td>\n",
       "      <td>True</td>\n",
       "      <td>True</td>\n",
       "      <td>128</td>\n",
       "    </tr>\n",
       "    <tr>\n",
       "      <th>2</th>\n",
       "      <td>0.833</td>\n",
       "      <td>0.809</td>\n",
       "      <td>0.857</td>\n",
       "      <td>True</td>\n",
       "      <td>True</td>\n",
       "      <td>128</td>\n",
       "    </tr>\n",
       "    <tr>\n",
       "      <th>3</th>\n",
       "      <td>0.832</td>\n",
       "      <td>0.817</td>\n",
       "      <td>0.848</td>\n",
       "      <td>True</td>\n",
       "      <td>True</td>\n",
       "      <td>128</td>\n",
       "    </tr>\n",
       "    <tr>\n",
       "      <th>4</th>\n",
       "      <td>0.831</td>\n",
       "      <td>0.818</td>\n",
       "      <td>0.845</td>\n",
       "      <td>True</td>\n",
       "      <td>True</td>\n",
       "      <td>128</td>\n",
       "    </tr>\n",
       "  </tbody>\n",
       "</table>\n",
       "</div>"
      ],
      "text/plain": [
       "  micro_f1_score micro_recall micro_precision use_pretrained_embedding  \\\n",
       "0          0.837        0.822           0.853                     True   \n",
       "1          0.834        0.810           0.858                     True   \n",
       "2          0.833        0.809           0.857                     True   \n",
       "3          0.832        0.817           0.848                     True   \n",
       "4          0.831        0.818           0.845                     True   \n",
       "\n",
       "  bi-directional  hidden_size  \n",
       "0           True          128  \n",
       "1           True          128  \n",
       "2           True          128  \n",
       "3           True          128  \n",
       "4           True          128  "
      ]
     },
     "execution_count": 18,
     "metadata": {},
     "output_type": "execute_result"
    }
   ],
   "source": [
    "model = \"RNN_MOST_COMMON_TAG_HYPER_PARAM_TUNING\"\n",
    "feats = \"use_pretrained_embedding,bi-directional,hidden_size\"\n",
    "df = get_df_sorted_by_f1score(\"CB_TAGGING_VD_\" + model, feats)\n",
    "round_data(df.head(ROWS)[(\"micro_f1_score,micro_recall,micro_precision,\" + feats).split(\",\")])"
   ]
  },
  {
   "cell_type": "markdown",
   "metadata": {},
   "source": [
    "### Skin Cancer"
   ]
  },
  {
   "cell_type": "code",
   "execution_count": 19,
   "metadata": {},
   "outputs": [
    {
     "data": {
      "text/html": [
       "<div>\n",
       "<table border=\"1\" class=\"dataframe\">\n",
       "  <thead>\n",
       "    <tr style=\"text-align: right;\">\n",
       "      <th></th>\n",
       "      <th>micro_f1_score</th>\n",
       "      <th>micro_recall</th>\n",
       "      <th>micro_precision</th>\n",
       "      <th>use_pretrained_embedding</th>\n",
       "      <th>bi-directional</th>\n",
       "      <th>hidden_size</th>\n",
       "    </tr>\n",
       "  </thead>\n",
       "  <tbody>\n",
       "    <tr>\n",
       "      <th>0</th>\n",
       "      <td>0.821</td>\n",
       "      <td>0.821</td>\n",
       "      <td>0.822</td>\n",
       "      <td>True</td>\n",
       "      <td>True</td>\n",
       "      <td>128</td>\n",
       "    </tr>\n",
       "    <tr>\n",
       "      <th>1</th>\n",
       "      <td>0.821</td>\n",
       "      <td>0.798</td>\n",
       "      <td>0.844</td>\n",
       "      <td>True</td>\n",
       "      <td>True</td>\n",
       "      <td>128</td>\n",
       "    </tr>\n",
       "    <tr>\n",
       "      <th>2</th>\n",
       "      <td>0.820</td>\n",
       "      <td>0.814</td>\n",
       "      <td>0.826</td>\n",
       "      <td>True</td>\n",
       "      <td>True</td>\n",
       "      <td>128</td>\n",
       "    </tr>\n",
       "    <tr>\n",
       "      <th>3</th>\n",
       "      <td>0.818</td>\n",
       "      <td>0.810</td>\n",
       "      <td>0.827</td>\n",
       "      <td>True</td>\n",
       "      <td>True</td>\n",
       "      <td>128</td>\n",
       "    </tr>\n",
       "    <tr>\n",
       "      <th>4</th>\n",
       "      <td>0.818</td>\n",
       "      <td>0.804</td>\n",
       "      <td>0.832</td>\n",
       "      <td>True</td>\n",
       "      <td>True</td>\n",
       "      <td>128</td>\n",
       "    </tr>\n",
       "  </tbody>\n",
       "</table>\n",
       "</div>"
      ],
      "text/plain": [
       "  micro_f1_score micro_recall micro_precision use_pretrained_embedding  \\\n",
       "0          0.821        0.821           0.822                     True   \n",
       "1          0.821        0.798           0.844                     True   \n",
       "2          0.820        0.814           0.826                     True   \n",
       "3          0.818        0.810           0.827                     True   \n",
       "4          0.818        0.804           0.832                     True   \n",
       "\n",
       "  bi-directional  hidden_size  \n",
       "0           True          128  \n",
       "1           True          128  \n",
       "2           True          128  \n",
       "3           True          128  \n",
       "4           True          128  "
      ]
     },
     "execution_count": 19,
     "metadata": {},
     "output_type": "execute_result"
    }
   ],
   "source": [
    "model = \"RNN_MOST_COMMON_TAG_HYPER_PARAM_TUNING\"\n",
    "feats = \"use_pretrained_embedding,bi-directional,hidden_size\"\n",
    "df = get_df_sorted_by_f1score(\"SC_TAGGING_VD_\" + model, feats)\n",
    "round_data(df.head(ROWS)[(\"micro_f1_score,micro_recall,micro_precision,\" + feats).split(\",\")])"
   ]
  },
  {
   "cell_type": "markdown",
   "metadata": {},
   "source": [
    "### <span style=\"color:red\">Note the comparison in the write up with and without embeddings and bi-directional vs uni-directional come from the hyper param tuning results above (may need to expand rows to see)</span>"
   ]
  },
  {
   "cell_type": "markdown",
   "metadata": {
    "collapsed": true
   },
   "source": [
    "# Test Set Performance"
   ]
  },
  {
   "cell_type": "markdown",
   "metadata": {},
   "source": [
    "## Window Based Classifier"
   ]
  },
  {
   "cell_type": "markdown",
   "metadata": {},
   "source": [
    "### Coral Bleaching"
   ]
  },
  {
   "cell_type": "code",
   "execution_count": 20,
   "metadata": {},
   "outputs": [
    {
     "data": {
      "text/html": [
       "<div>\n",
       "<table border=\"1\" class=\"dataframe\">\n",
       "  <thead>\n",
       "    <tr style=\"text-align: right;\">\n",
       "      <th></th>\n",
       "      <th>micro_f1_score</th>\n",
       "      <th>micro_recall</th>\n",
       "      <th>micro_precision</th>\n",
       "      <th>macro_f1_score</th>\n",
       "      <th>dual</th>\n",
       "      <th>C</th>\n",
       "      <th>penalty</th>\n",
       "      <th>fit_intercept</th>\n",
       "      <th>multi_class</th>\n",
       "      <th>window_size</th>\n",
       "    </tr>\n",
       "  </thead>\n",
       "  <tbody>\n",
       "    <tr>\n",
       "      <th>0</th>\n",
       "      <td>0.842</td>\n",
       "      <td>0.802</td>\n",
       "      <td>0.885</td>\n",
       "      <td>0.739961</td>\n",
       "      <td>True</td>\n",
       "      <td>0.5</td>\n",
       "      <td>l2</td>\n",
       "      <td>True</td>\n",
       "      <td>ovr</td>\n",
       "      <td>9</td>\n",
       "    </tr>\n",
       "  </tbody>\n",
       "</table>\n",
       "</div>"
      ],
      "text/plain": [
       "  micro_f1_score micro_recall micro_precision  macro_f1_score  dual    C  \\\n",
       "0          0.842        0.802           0.885        0.739961  True  0.5   \n",
       "\n",
       "  penalty fit_intercept multi_class  window_size  \n",
       "0      l2          True         ovr            9  "
      ]
     },
     "execution_count": 20,
     "metadata": {},
     "output_type": "execute_result"
    }
   ],
   "source": [
    "params = \"dual,C,penalty,fit_intercept,multi_class,window_size\".split(\",\")\n",
    "collection = \"TEST_CB_TAGGING_VD_WINDOW_CLASSIFIER_MOST_COMMON_TAG_MULTICLASS\"\n",
    "\n",
    "df = get_df_sorted_by_f1score(collection, params)\n",
    "round_data(df.head(ROWS),3)"
   ]
  },
  {
   "cell_type": "markdown",
   "metadata": {},
   "source": [
    "### Skin Cancer"
   ]
  },
  {
   "cell_type": "code",
   "execution_count": 21,
   "metadata": {},
   "outputs": [
    {
     "data": {
      "text/html": [
       "<div>\n",
       "<table border=\"1\" class=\"dataframe\">\n",
       "  <thead>\n",
       "    <tr style=\"text-align: right;\">\n",
       "      <th></th>\n",
       "      <th>micro_f1_score</th>\n",
       "      <th>micro_recall</th>\n",
       "      <th>micro_precision</th>\n",
       "      <th>macro_f1_score</th>\n",
       "      <th>dual</th>\n",
       "      <th>C</th>\n",
       "      <th>penalty</th>\n",
       "      <th>fit_intercept</th>\n",
       "      <th>multi_class</th>\n",
       "      <th>window_size</th>\n",
       "    </tr>\n",
       "  </thead>\n",
       "  <tbody>\n",
       "    <tr>\n",
       "      <th>0</th>\n",
       "      <td>0.814</td>\n",
       "      <td>0.779</td>\n",
       "      <td>0.853</td>\n",
       "      <td>0.760635</td>\n",
       "      <td>True</td>\n",
       "      <td>0.5</td>\n",
       "      <td>l2</td>\n",
       "      <td>True</td>\n",
       "      <td>ovr</td>\n",
       "      <td>9</td>\n",
       "    </tr>\n",
       "  </tbody>\n",
       "</table>\n",
       "</div>"
      ],
      "text/plain": [
       "  micro_f1_score micro_recall micro_precision  macro_f1_score  dual    C  \\\n",
       "0          0.814        0.779           0.853        0.760635  True  0.5   \n",
       "\n",
       "  penalty fit_intercept multi_class  window_size  \n",
       "0      l2          True         ovr            9  "
      ]
     },
     "execution_count": 21,
     "metadata": {},
     "output_type": "execute_result"
    }
   ],
   "source": [
    "params = \"dual,C,penalty,fit_intercept,multi_class,window_size\".split(\",\")\n",
    "collection = \"TEST_SC_TAGGING_VD_WINDOW_CLASSIFIER_MOST_COMMON_TAG_MULTICLASS\"\n",
    "\n",
    "df = get_df_sorted_by_f1score(collection, params)\n",
    "round_data(df.head(ROWS),3)"
   ]
  },
  {
   "cell_type": "markdown",
   "metadata": {},
   "source": [
    "## CRF"
   ]
  },
  {
   "cell_type": "markdown",
   "metadata": {},
   "source": [
    "### Coral Bleaching"
   ]
  },
  {
   "cell_type": "code",
   "execution_count": 34,
   "metadata": {},
   "outputs": [
    {
     "data": {
      "text/html": [
       "<div>\n",
       "<table border=\"1\" class=\"dataframe\">\n",
       "  <thead>\n",
       "    <tr style=\"text-align: right;\">\n",
       "      <th></th>\n",
       "      <th>micro_f1_score</th>\n",
       "      <th>micro_recall</th>\n",
       "      <th>micro_precision</th>\n",
       "      <th>feature_possible_states</th>\n",
       "      <th>feature_possible_transitions</th>\n",
       "      <th>c2</th>\n",
       "      <th>window_size</th>\n",
       "    </tr>\n",
       "  </thead>\n",
       "  <tbody>\n",
       "    <tr>\n",
       "      <th>0</th>\n",
       "      <td>0.835</td>\n",
       "      <td>0.797</td>\n",
       "      <td>0.878</td>\n",
       "      <td>False</td>\n",
       "      <td>True</td>\n",
       "      <td>0.1</td>\n",
       "      <td>9</td>\n",
       "    </tr>\n",
       "  </tbody>\n",
       "</table>\n",
       "</div>"
      ],
      "text/plain": [
       "  micro_f1_score micro_recall micro_precision feature_possible_states  \\\n",
       "0          0.835        0.797           0.878                   False   \n",
       "\n",
       "  feature_possible_transitions   c2  window_size  \n",
       "0                         True  0.1            9  "
      ]
     },
     "execution_count": 34,
     "metadata": {},
     "output_type": "execute_result"
    }
   ],
   "source": [
    "cols = \"micro_f1_score,micro_recall,micro_precision,feature_possible_states,feature_possible_transitions,c2,window_size\".split(\",\")\n",
    "df = get_df_sorted_by_f1score(\"TEST_CB_TAGGING_VD_CRF_MOST_COMMON_TAG\",\n",
    "                         \"feature_possible_states,feature_possible_transitions,c2,window_size\".split(\",\"))\n",
    "round_data(df[cols].head(ROWS),3)"
   ]
  },
  {
   "cell_type": "markdown",
   "metadata": {},
   "source": [
    "## Skin Cancer"
   ]
  },
  {
   "cell_type": "code",
   "execution_count": 23,
   "metadata": {},
   "outputs": [
    {
     "data": {
      "text/html": [
       "<div>\n",
       "<table border=\"1\" class=\"dataframe\">\n",
       "  <thead>\n",
       "    <tr style=\"text-align: right;\">\n",
       "      <th></th>\n",
       "      <th>micro_f1_score</th>\n",
       "      <th>micro_recall</th>\n",
       "      <th>micro_precision</th>\n",
       "      <th>feature_possible_states</th>\n",
       "      <th>feature_possible_transitions</th>\n",
       "      <th>c2</th>\n",
       "      <th>window_size</th>\n",
       "    </tr>\n",
       "  </thead>\n",
       "  <tbody>\n",
       "    <tr>\n",
       "      <th>0</th>\n",
       "      <td>0.804</td>\n",
       "      <td>0.759</td>\n",
       "      <td>0.855</td>\n",
       "      <td>False</td>\n",
       "      <td>True</td>\n",
       "      <td>1.0</td>\n",
       "      <td>9</td>\n",
       "    </tr>\n",
       "  </tbody>\n",
       "</table>\n",
       "</div>"
      ],
      "text/plain": [
       "  micro_f1_score micro_recall micro_precision feature_possible_states  \\\n",
       "0          0.804        0.759           0.855                   False   \n",
       "\n",
       "  feature_possible_transitions   c2  window_size  \n",
       "0                         True  1.0            9  "
      ]
     },
     "execution_count": 23,
     "metadata": {},
     "output_type": "execute_result"
    }
   ],
   "source": [
    "cols = \"micro_f1_score,micro_recall,micro_precision,feature_possible_states,feature_possible_transitions,c2,window_size\".split(\",\")\n",
    "df = get_df_sorted_by_f1score(\"TEST_SC_TAGGING_VD_CRF_MOST_COMMON_TAG\",\n",
    "                         \"feature_possible_states,feature_possible_transitions,c2,window_size\".split(\",\"))\n",
    "round_data(df[cols].head(ROWS),3)"
   ]
  },
  {
   "cell_type": "markdown",
   "metadata": {},
   "source": [
    "## HMM"
   ]
  },
  {
   "cell_type": "markdown",
   "metadata": {},
   "source": [
    "### Coral Bleaching"
   ]
  },
  {
   "cell_type": "code",
   "execution_count": 37,
   "metadata": {},
   "outputs": [
    {
     "data": {
      "text/html": [
       "<div>\n",
       "<table border=\"1\" class=\"dataframe\">\n",
       "  <thead>\n",
       "    <tr style=\"text-align: right;\">\n",
       "      <th></th>\n",
       "      <th>micro_f1_score</th>\n",
       "      <th>micro_recall</th>\n",
       "      <th>micro_precision</th>\n",
       "      <th>macro_f1_score</th>\n",
       "      <th>extractors</th>\n",
       "    </tr>\n",
       "  </thead>\n",
       "  <tbody>\n",
       "    <tr>\n",
       "      <th>0</th>\n",
       "      <td>0.747</td>\n",
       "      <td>0.799</td>\n",
       "      <td>0.702</td>\n",
       "      <td>0.657458</td>\n",
       "      <td>stemmed_unigrams</td>\n",
       "    </tr>\n",
       "  </tbody>\n",
       "</table>\n",
       "</div>"
      ],
      "text/plain": [
       "  micro_f1_score micro_recall micro_precision  macro_f1_score  \\\n",
       "0          0.747        0.799           0.702        0.657458   \n",
       "\n",
       "         extractors  \n",
       "0  stemmed_unigrams  "
      ]
     },
     "execution_count": 37,
     "metadata": {},
     "output_type": "execute_result"
    }
   ],
   "source": [
    "params = \"extractors\".split(\",\")\n",
    "collection = \"TEST_CB_TAGGING_VD_HMM_MOST_COMMON_TAG_MULTICLASS\"\n",
    "\n",
    "df = get_df_sorted_by_f1score(collection, params)\n",
    "round_data(df.head(ROWS))"
   ]
  },
  {
   "cell_type": "markdown",
   "metadata": {},
   "source": [
    "## Skin Cancer"
   ]
  },
  {
   "cell_type": "code",
   "execution_count": 25,
   "metadata": {},
   "outputs": [
    {
     "data": {
      "text/html": [
       "<div>\n",
       "<table border=\"1\" class=\"dataframe\">\n",
       "  <thead>\n",
       "    <tr style=\"text-align: right;\">\n",
       "      <th></th>\n",
       "      <th>micro_f1_score</th>\n",
       "      <th>micro_recall</th>\n",
       "      <th>micro_precision</th>\n",
       "      <th>macro_f1_score</th>\n",
       "      <th>extractors</th>\n",
       "    </tr>\n",
       "  </thead>\n",
       "  <tbody>\n",
       "    <tr>\n",
       "      <th>0</th>\n",
       "      <td>0.675</td>\n",
       "      <td>0.731</td>\n",
       "      <td>0.628</td>\n",
       "      <td>0.643881</td>\n",
       "      <td>stemmed_unigrams</td>\n",
       "    </tr>\n",
       "  </tbody>\n",
       "</table>\n",
       "</div>"
      ],
      "text/plain": [
       "  micro_f1_score micro_recall micro_precision  macro_f1_score  \\\n",
       "0          0.675        0.731           0.628        0.643881   \n",
       "\n",
       "         extractors  \n",
       "0  stemmed_unigrams  "
      ]
     },
     "execution_count": 25,
     "metadata": {},
     "output_type": "execute_result"
    }
   ],
   "source": [
    "params = \"extractors\".split(\",\")\n",
    "collection = \"TEST_SC_TAGGING_VD_HMM_MOST_COMMON_TAG_MULTICLASS\"\n",
    "\n",
    "df = get_df_sorted_by_f1score(collection, params)\n",
    "round_data(df.head(ROWS))"
   ]
  },
  {
   "cell_type": "markdown",
   "metadata": {},
   "source": [
    "## Averaged Perceptron"
   ]
  },
  {
   "cell_type": "markdown",
   "metadata": {},
   "source": [
    "### Coral Bleaching"
   ]
  },
  {
   "cell_type": "code",
   "execution_count": 26,
   "metadata": {},
   "outputs": [
    {
     "data": {
      "text/html": [
       "<div>\n",
       "<table border=\"1\" class=\"dataframe\">\n",
       "  <thead>\n",
       "    <tr style=\"text-align: right;\">\n",
       "      <th></th>\n",
       "      <th>micro_f1_score</th>\n",
       "      <th>micro_recall</th>\n",
       "      <th>micro_precision</th>\n",
       "      <th>macro_f1_score</th>\n",
       "      <th>tag_history</th>\n",
       "      <th>average_weights</th>\n",
       "      <th>tag_plus_word</th>\n",
       "      <th>tag_ngram_size</th>\n",
       "      <th>window_size</th>\n",
       "    </tr>\n",
       "  </thead>\n",
       "  <tbody>\n",
       "    <tr>\n",
       "      <th>0</th>\n",
       "      <td>0.837</td>\n",
       "      <td>0.794</td>\n",
       "      <td>0.884</td>\n",
       "      <td>0.736541</td>\n",
       "      <td>1</td>\n",
       "      <td>True</td>\n",
       "      <td>0</td>\n",
       "      <td>0</td>\n",
       "      <td>9</td>\n",
       "    </tr>\n",
       "  </tbody>\n",
       "</table>\n",
       "</div>"
      ],
      "text/plain": [
       "  micro_f1_score micro_recall micro_precision  macro_f1_score  tag_history  \\\n",
       "0          0.837        0.794           0.884        0.736541            1   \n",
       "\n",
       "  average_weights  tag_plus_word  tag_ngram_size  window_size  \n",
       "0            True              0               0            9  "
      ]
     },
     "execution_count": 26,
     "metadata": {},
     "output_type": "execute_result"
    }
   ],
   "source": [
    "model = \"AVG_PERCEPTRON_MOST_COMMON_TAG\"\n",
    "params = \"tag_history,average_weights,tag_plus_word,tag_ngram_size,window_size\".split(\",\")\n",
    "df = get_df_sorted_by_f1score(\"TEST_CB_TAGGING_VD_\" + model, params)\n",
    "round_data(df.head(ROWS))"
   ]
  },
  {
   "cell_type": "code",
   "execution_count": null,
   "metadata": {
    "collapsed": true
   },
   "outputs": [],
   "source": []
  },
  {
   "cell_type": "markdown",
   "metadata": {},
   "source": [
    "### Skin Cancer"
   ]
  },
  {
   "cell_type": "code",
   "execution_count": 27,
   "metadata": {},
   "outputs": [
    {
     "data": {
      "text/html": [
       "<div>\n",
       "<table border=\"1\" class=\"dataframe\">\n",
       "  <thead>\n",
       "    <tr style=\"text-align: right;\">\n",
       "      <th></th>\n",
       "      <th>micro_f1_score</th>\n",
       "      <th>micro_recall</th>\n",
       "      <th>micro_precision</th>\n",
       "      <th>macro_f1_score</th>\n",
       "      <th>tag_history</th>\n",
       "      <th>average_weights</th>\n",
       "      <th>tag_plus_word</th>\n",
       "      <th>tag_ngram_size</th>\n",
       "      <th>window_size</th>\n",
       "    </tr>\n",
       "  </thead>\n",
       "  <tbody>\n",
       "    <tr>\n",
       "      <th>0</th>\n",
       "      <td>0.814</td>\n",
       "      <td>0.773</td>\n",
       "      <td>0.860</td>\n",
       "      <td>0.757318</td>\n",
       "      <td>1</td>\n",
       "      <td>True</td>\n",
       "      <td>0</td>\n",
       "      <td>0</td>\n",
       "      <td>9</td>\n",
       "    </tr>\n",
       "  </tbody>\n",
       "</table>\n",
       "</div>"
      ],
      "text/plain": [
       "  micro_f1_score micro_recall micro_precision  macro_f1_score  tag_history  \\\n",
       "0          0.814        0.773           0.860        0.757318            1   \n",
       "\n",
       "  average_weights  tag_plus_word  tag_ngram_size  window_size  \n",
       "0            True              0               0            9  "
      ]
     },
     "execution_count": 27,
     "metadata": {},
     "output_type": "execute_result"
    }
   ],
   "source": [
    "model = \"AVG_PERCEPTRON_MOST_COMMON_TAG\"\n",
    "params = \"tag_history,average_weights,tag_plus_word,tag_ngram_size,window_size\".split(\",\")\n",
    "df = get_df_sorted_by_f1score(\"TEST_SC_TAGGING_VD_\" + model, params)\n",
    "round_data(df.head(ROWS))"
   ]
  },
  {
   "cell_type": "markdown",
   "metadata": {
    "collapsed": true
   },
   "source": [
    "## RNN"
   ]
  },
  {
   "cell_type": "markdown",
   "metadata": {},
   "source": [
    "### Coral Bleaching"
   ]
  },
  {
   "cell_type": "code",
   "execution_count": 28,
   "metadata": {},
   "outputs": [
    {
     "data": {
      "text/html": [
       "<div>\n",
       "<table border=\"1\" class=\"dataframe\">\n",
       "  <thead>\n",
       "    <tr style=\"text-align: right;\">\n",
       "      <th></th>\n",
       "      <th>micro_f1_score</th>\n",
       "      <th>micro_recall</th>\n",
       "      <th>micro_precision</th>\n",
       "      <th>use_pretrained_embedding</th>\n",
       "      <th>bi-directional</th>\n",
       "      <th>hidden_size</th>\n",
       "    </tr>\n",
       "  </thead>\n",
       "  <tbody>\n",
       "    <tr>\n",
       "      <th>0</th>\n",
       "      <td>0.842</td>\n",
       "      <td>0.830</td>\n",
       "      <td>0.855</td>\n",
       "      <td>True</td>\n",
       "      <td>True</td>\n",
       "      <td>256</td>\n",
       "    </tr>\n",
       "  </tbody>\n",
       "</table>\n",
       "</div>"
      ],
      "text/plain": [
       "  micro_f1_score micro_recall micro_precision use_pretrained_embedding  \\\n",
       "0          0.842        0.830           0.855                     True   \n",
       "\n",
       "  bi-directional  hidden_size  \n",
       "0           True          256  "
      ]
     },
     "execution_count": 28,
     "metadata": {},
     "output_type": "execute_result"
    }
   ],
   "source": [
    "model = \"RNN_MOST_COMMON_TAG\"\n",
    "feats = \"use_pretrained_embedding,bi-directional,hidden_size\"\n",
    "df = get_df_sorted_by_f1score(\"TEST_CB_TAGGING_VD_\" + model, feats)\n",
    "round_data(df.head(ROWS)[(\"micro_f1_score,micro_recall,micro_precision,\" + feats).split(\",\")])"
   ]
  },
  {
   "cell_type": "code",
   "execution_count": 29,
   "metadata": {},
   "outputs": [
    {
     "data": {
      "text/html": [
       "<div>\n",
       "<table border=\"1\" class=\"dataframe\">\n",
       "  <thead>\n",
       "    <tr style=\"text-align: right;\">\n",
       "      <th></th>\n",
       "      <th>micro_f1_score</th>\n",
       "      <th>micro_recall</th>\n",
       "      <th>micro_precision</th>\n",
       "      <th>use_pretrained_embedding</th>\n",
       "      <th>bi-directional</th>\n",
       "      <th>hidden_size</th>\n",
       "    </tr>\n",
       "  </thead>\n",
       "  <tbody>\n",
       "    <tr>\n",
       "      <th>0</th>\n",
       "      <td>0.837</td>\n",
       "      <td>0.807</td>\n",
       "      <td>0.869</td>\n",
       "      <td>True</td>\n",
       "      <td>True</td>\n",
       "      <td>256</td>\n",
       "    </tr>\n",
       "  </tbody>\n",
       "</table>\n",
       "</div>"
      ],
      "text/plain": [
       "  micro_f1_score micro_recall micro_precision use_pretrained_embedding  \\\n",
       "0          0.837        0.807           0.869                     True   \n",
       "\n",
       "  bi-directional  hidden_size  \n",
       "0           True          256  "
      ]
     },
     "execution_count": 29,
     "metadata": {},
     "output_type": "execute_result"
    }
   ],
   "source": [
    "model = \"RNN_MOST_COMMON_TAG\"\n",
    "feats = \"use_pretrained_embedding,bi-directional,hidden_size\"\n",
    "df = get_df_sorted_by_f1score(\"TEST_SC_TAGGING_VD_\" + model, feats)\n",
    "round_data(df.head(ROWS)[(\"micro_f1_score,micro_recall,micro_precision,\" + feats).split(\",\")])"
   ]
  },
  {
   "cell_type": "code",
   "execution_count": null,
   "metadata": {
    "collapsed": true
   },
   "outputs": [],
   "source": []
  }
 ],
 "metadata": {
  "anaconda-cloud": {},
  "kernelspec": {
   "display_name": "Python [default]",
   "language": "python",
   "name": "python3"
  },
  "language_info": {
   "codemirror_mode": {
    "name": "ipython",
    "version": 3
   },
   "file_extension": ".py",
   "mimetype": "text/x-python",
   "name": "python",
   "nbconvert_exporter": "python",
   "pygments_lexer": "ipython3",
   "version": "3.6.4"
  }
 },
 "nbformat": 4,
 "nbformat_minor": 2
}
