{
 "cells": [
  {
   "cell_type": "code",
   "execution_count": 2,
   "metadata": {
    "collapsed": true
   },
   "outputs": [],
   "source": [
    "%matplotlib inline\n",
    "\n",
    "import pymongo\n",
    "import seaborn as sns"
   ]
  },
  {
   "cell_type": "code",
   "execution_count": 3,
   "metadata": {
    "collapsed": true
   },
   "outputs": [],
   "source": [
    "import pandas as pd\n",
    "\n",
    "def group_by(df, bycols, agg_map):\n",
    "    \"\"\"\n",
    "\n",
    "    @param df:      DataFrame\n",
    "    @param bycols:  str or list\n",
    "                        Column(s) to group by\n",
    "    @param agg_map: dictionary or list of 2-tuples\n",
    "                        Mapping from column to aggregate function e.g. [(\"city\", \"count\"), (\"salary\", \"mean\"]\n",
    "    @return:        DataFrame\n",
    "                        Flattened dataframe, with multi-level index removed\n",
    "    \"\"\"\n",
    "    grps = []\n",
    "    if type(bycols) == str:\n",
    "        bycols = [bycols]\n",
    "\n",
    "    if type(agg_map) == dict:\n",
    "        agg_map = agg_map.items()\n",
    "\n",
    "    for k,v in agg_map:\n",
    "        grp = df[bycols + [k]].groupby(bycols, ).agg(v)\n",
    "        grp.reset_index(inplace=True)\n",
    "        grp[\"%s(%s)\" % (v,k)] = grp[k]\n",
    "        del grp[k]\n",
    "        grps.append(grp)\n",
    "\n",
    "    m = grps[0]\n",
    "    for grp in grps[1:]:\n",
    "        m = pd.merge(m, grp, on=bycols, how=\"inner\")\n",
    "    return m"
   ]
  },
  {
   "cell_type": "code",
   "execution_count": 13,
   "metadata": {
    "collapsed": false
   },
   "outputs": [
    {
     "data": {
      "text/plain": [
       "(Collection(Database(MongoClient(host=['localhost:27017'], document_class=dict, tz_aware=False, connect=True), 'metrics_causal_model'), 'CB_RE-RANKER_HYPER_PARAM_TD'),\n",
       " Collection(Database(MongoClient(host=['localhost:27017'], document_class=dict, tz_aware=False, connect=True), 'metrics_causal_model'), 'CB_RE-RANKER_HYPER_PARAM_VD'),\n",
       " Collection(Database(MongoClient(host=['localhost:27017'], document_class=dict, tz_aware=False, connect=True), 'metrics_causal_model'), 'CB_RE-RANKER_HYPER_PARAM_TD'),\n",
       " Collection(Database(MongoClient(host=['localhost:27017'], document_class=dict, tz_aware=False, connect=True), 'metrics_causal_model'), 'CB_RE-RANKER_HYPER_PARAM_VD'))"
      ]
     },
     "execution_count": 13,
     "metadata": {},
     "output_type": "execute_result"
    }
   ],
   "source": [
    "client = pymongo.MongoClient()\n",
    "db = client.metrics_causal_model\n",
    "\n",
    "cb_td, cb_vd=  \"CB_RE-RANKER_HYPER_PARAM_TD\", \"CB_RE-RANKER_HYPER_PARAM_VD\"\n",
    "# set to be the same for now\n",
    "sc_td, sc_vd = \"CB_RE-RANKER_HYPER_PARAM_TD\", \"CB_RE-RANKER_HYPER_PARAM_VD\"\n",
    "\n",
    "cb_td, cb_vd = db[cb_td], db[cb_vd]\n",
    "sc_td, sc_vd = db[sc_td], db[sc_vd]\n",
    "\n",
    "cb_td, cb_vd , sc_td, sc_vd"
   ]
  },
  {
   "cell_type": "markdown",
   "metadata": {},
   "source": [
    "# Query Top Features"
   ]
  },
  {
   "cell_type": "code",
   "execution_count": 14,
   "metadata": {
    "collapsed": false
   },
   "outputs": [
    {
     "name": "stdout",
     "output_type": "stream",
     "text": [
      "274 274 274 274\n"
     ]
    }
   ],
   "source": [
    "from pprint import pprint\n",
    "from bson.son import SON # needed to ensure dictionary is ordered (python default is not)\n",
    "\n",
    "feats_pipeline = [{\n",
    "    \"$project\": { \n",
    "            \"weighted_f1_score\":\"$WEIGHTED_MEAN_CONCEPT_CODES.f1_score\",\n",
    "            \"micro_f1_score\":  \"$MICRO_F1.f1_score\",\n",
    "            \"micro_recall\":    \"$MICRO_F1.recall\",\n",
    "            \"micro_precision\": \"$MICRO_F1.precision\",\n",
    "            \"stemmed\":        \"$parameters.stemmed\",\n",
    "            \"num_feats\":      \"$parameters.num_feats_MEAN\",\n",
    "            \"feats\":          \"$parameters.extractors\",\n",
    "            \"count\": {        \"$size\" : \"$parameters.extractors\" },\n",
    "            \"asof\" :          \"$asof\",\n",
    "            \"_id\":1\n",
    "    }\n",
    "},\n",
    "{\n",
    "    \"$match\":{\n",
    "        \"micro_f1_score\": { \"$exists\" : True },\n",
    "        # how many feats\n",
    "        #\"count\": {          \"$eq\" :1 },\n",
    "        # window width\n",
    "        #\"window_size\": {    \"$eq\":13 }\n",
    "    }\n",
    "},\n",
    "{\n",
    "    \"$sort\":{\n",
    "        #\"weighted_f1_score\":-1,\n",
    "        \"micro_f1_score\": -1\n",
    "        #\"asof\": -1\n",
    "        #\"count\": -1\n",
    "    }\n",
    "},\n",
    "]\n",
    "\n",
    "cb_td_rows = [row for row in cb_td.aggregate(feats_pipeline)]\n",
    "cb_vd_rows = [row for row in cb_vd.aggregate(feats_pipeline)]\n",
    "sc_td_rows = [row for row in sc_td.aggregate(feats_pipeline)]\n",
    "sc_vd_rows = [row for row in sc_vd.aggregate(feats_pipeline)]\n",
    "\n",
    "print(len(cb_td_rows), len(cb_vd_rows), len(sc_td_rows), len(sc_vd_rows))"
   ]
  },
  {
   "cell_type": "code",
   "execution_count": 15,
   "metadata": {
    "collapsed": false
   },
   "outputs": [
    {
     "data": {
      "text/html": [
       "<div>\n",
       "<table border=\"1\" class=\"dataframe\">\n",
       "  <thead>\n",
       "    <tr style=\"text-align: right;\">\n",
       "      <th></th>\n",
       "      <th>_id</th>\n",
       "      <th>asof</th>\n",
       "      <th>count</th>\n",
       "      <th>feats</th>\n",
       "      <th>micro_f1_score</th>\n",
       "      <th>micro_precision</th>\n",
       "      <th>micro_recall</th>\n",
       "      <th>weighted_f1_score</th>\n",
       "      <th>hs_feats</th>\n",
       "    </tr>\n",
       "  </thead>\n",
       "  <tbody>\n",
       "    <tr>\n",
       "      <th>0</th>\n",
       "      <td>5d02ef5be116f5bea3c0b561</td>\n",
       "      <td>2019-06-14 01:50:35.450</td>\n",
       "      <td>3</td>\n",
       "      <td>[CREL_, Prob-, CChainStats-]</td>\n",
       "      <td>0.746779</td>\n",
       "      <td>0.789110</td>\n",
       "      <td>0.708759</td>\n",
       "      <td>0.0</td>\n",
       "      <td>CChainStats-|CREL_|Prob-</td>\n",
       "    </tr>\n",
       "    <tr>\n",
       "      <th>1</th>\n",
       "      <td>5d029770e116f5bea3c0b429</td>\n",
       "      <td>2019-06-13 19:35:28.095</td>\n",
       "      <td>3</td>\n",
       "      <td>[CREL_, Prob-, CChainStats-]</td>\n",
       "      <td>0.745737</td>\n",
       "      <td>0.784994</td>\n",
       "      <td>0.710219</td>\n",
       "      <td>0.0</td>\n",
       "      <td>CChainStats-|CREL_|Prob-</td>\n",
       "    </tr>\n",
       "    <tr>\n",
       "      <th>2</th>\n",
       "      <td>5d02decce116f5bea3c0b521</td>\n",
       "      <td>2019-06-14 00:39:56.654</td>\n",
       "      <td>3</td>\n",
       "      <td>[CREL_, Prob-, CChainStats-]</td>\n",
       "      <td>0.745731</td>\n",
       "      <td>0.776680</td>\n",
       "      <td>0.717153</td>\n",
       "      <td>0.0</td>\n",
       "      <td>CChainStats-|CREL_|Prob-</td>\n",
       "    </tr>\n",
       "  </tbody>\n",
       "</table>\n",
       "</div>"
      ],
      "text/plain": [
       "                        _id                    asof  count  \\\n",
       "0  5d02ef5be116f5bea3c0b561 2019-06-14 01:50:35.450      3   \n",
       "1  5d029770e116f5bea3c0b429 2019-06-13 19:35:28.095      3   \n",
       "2  5d02decce116f5bea3c0b521 2019-06-14 00:39:56.654      3   \n",
       "\n",
       "                          feats  micro_f1_score  micro_precision  \\\n",
       "0  [CREL_, Prob-, CChainStats-]        0.746779         0.789110   \n",
       "1  [CREL_, Prob-, CChainStats-]        0.745737         0.784994   \n",
       "2  [CREL_, Prob-, CChainStats-]        0.745731         0.776680   \n",
       "\n",
       "   micro_recall  weighted_f1_score                  hs_feats  \n",
       "0      0.708759                0.0  CChainStats-|CREL_|Prob-  \n",
       "1      0.710219                0.0  CChainStats-|CREL_|Prob-  \n",
       "2      0.717153                0.0  CChainStats-|CREL_|Prob-  "
      ]
     },
     "execution_count": 15,
     "metadata": {},
     "output_type": "execute_result"
    }
   ],
   "source": [
    "def hash_feats(fts):\n",
    "    return \"|\".join(sorted(fts))\n",
    "\n",
    "def get_df_sorted_by_f1score(rows):\n",
    "    df = pd.DataFrame(rows).sort_values(\"micro_f1_score\", ascending=False)\n",
    "    df[\"hs_feats\"] = df[\"feats\"].apply(hash_feats)\n",
    "    return df\n",
    "\n",
    "cb_td_df = get_df_sorted_by_f1score(cb_td_rows)\n",
    "cb_vd_df = get_df_sorted_by_f1score(cb_vd_rows)\n",
    "sc_td_df = get_df_sorted_by_f1score(sc_td_rows)\n",
    "sc_vd_df = get_df_sorted_by_f1score(sc_vd_rows)\n",
    "\n",
    "cb_vd_df.head(3)"
   ]
  },
  {
   "cell_type": "code",
   "execution_count": 16,
   "metadata": {
    "collapsed": false
   },
   "outputs": [
    {
     "data": {
      "text/plain": [
       "(numpy.datetime64('2019-06-13T18:06:40.303000000'),\n",
       " numpy.datetime64('2019-06-14T04:36:47.375000000'))"
      ]
     },
     "execution_count": 16,
     "metadata": {},
     "output_type": "execute_result"
    }
   ],
   "source": [
    "min(cb_vd_df[\"asof\"].values),max(cb_vd_df[\"asof\"].values)"
   ]
  },
  {
   "cell_type": "code",
   "execution_count": 17,
   "metadata": {
    "collapsed": true
   },
   "outputs": [],
   "source": [
    "cols = \"feats,count,micro_f1_score,micro_recall,micro_precision\".split(\",\")\n",
    "\n",
    "def feat_name(ft):\n",
    "    if type(ft) == list:\n",
    "        ft=\",\".join(ft)\n",
    "    offset = (11-1)/2\n",
    "    offset_lbl = \"offset:%i\" % offset\n",
    "    ft=ft.replace(offset_lbl, \"\").replace(\"fn_\", \"\").replace(\" \",\"\")\n",
    "    return ft\n",
    "\n",
    "def get_top_individual_feats(df):\n",
    "    df_top_individual_feats = df[(df[\"count\"] == 1)][cols]\n",
    "    df_top_individual_feats[\"rank\"] = np.arange(len(df_top_individual_feats)) + 1\n",
    "    df_top_individual_feats[\"feats\"] = df_top_individual_feats[\"feats\"].apply(feat_name)\n",
    "    return df_top_individual_feats\n",
    "\n",
    "#get_top_individual_feats(cb_vd_df, False)"
   ]
  },
  {
   "cell_type": "markdown",
   "metadata": {},
   "source": [
    "### Performance of Each Feature In Isolation"
   ]
  },
  {
   "cell_type": "code",
   "execution_count": 18,
   "metadata": {
    "collapsed": true
   },
   "outputs": [],
   "source": [
    "# cb_vd_df[[\"count\", \"feats\"]]"
   ]
  },
  {
   "cell_type": "code",
   "execution_count": 19,
   "metadata": {
    "collapsed": false
   },
   "outputs": [
    {
     "data": {
      "text/html": [
       "<div>\n",
       "<table border=\"1\" class=\"dataframe\">\n",
       "  <thead>\n",
       "    <tr style=\"text-align: right;\">\n",
       "      <th></th>\n",
       "      <th>rank</th>\n",
       "      <th>feats_CB</th>\n",
       "      <th>micro_f1_score_CB</th>\n",
       "      <th>micro_recall_CB</th>\n",
       "      <th>micro_precision_CB</th>\n",
       "      <th>feats_SC</th>\n",
       "      <th>micro_f1_score_SC</th>\n",
       "      <th>micro_recall_SC</th>\n",
       "      <th>micro_precision_SC</th>\n",
       "    </tr>\n",
       "  </thead>\n",
       "  <tbody>\n",
       "  </tbody>\n",
       "</table>\n",
       "</div>"
      ],
      "text/plain": [
       "Empty DataFrame\n",
       "Columns: [rank, feats_CB, micro_f1_score_CB, micro_recall_CB, micro_precision_CB, feats_SC, micro_f1_score_SC, micro_recall_SC, micro_precision_SC]\n",
       "Index: []"
      ]
     },
     "execution_count": 19,
     "metadata": {},
     "output_type": "execute_result"
    }
   ],
   "source": [
    "import numpy as np\n",
    "stemmed = True\n",
    "a, b = get_top_individual_feats(cb_vd_df), get_top_individual_feats(sc_vd_df)\n",
    "merged = pd.merge(a,b, on=\"rank\", suffixes=[\"_CB\",\"_SC\"])\\\n",
    "[\"rank,feats_CB,micro_f1_score_CB,micro_recall_CB,micro_precision_CB,feats_SC,micro_f1_score_SC,micro_recall_SC,micro_precision_SC\".split(\",\")]\n",
    "merged"
   ]
  },
  {
   "cell_type": "code",
   "execution_count": 20,
   "metadata": {
    "collapsed": false
   },
   "outputs": [
    {
     "data": {
      "text/html": [
       "<div>\n",
       "<table border=\"1\" class=\"dataframe\">\n",
       "  <thead>\n",
       "    <tr style=\"text-align: right;\">\n",
       "      <th></th>\n",
       "      <th>rank</th>\n",
       "      <th>feats_CB</th>\n",
       "      <th>micro_f1_score_CB</th>\n",
       "      <th>feats_SC</th>\n",
       "      <th>micro_f1_score_SC</th>\n",
       "    </tr>\n",
       "  </thead>\n",
       "  <tbody>\n",
       "  </tbody>\n",
       "</table>\n",
       "</div>"
      ],
      "text/plain": [
       "Empty DataFrame\n",
       "Columns: [rank, feats_CB, micro_f1_score_CB, feats_SC, micro_f1_score_SC]\n",
       "Index: []"
      ]
     },
     "execution_count": 20,
     "metadata": {},
     "output_type": "execute_result"
    }
   ],
   "source": [
    "merged2=merged[[\"rank\",\"feats_CB\", \"micro_f1_score_CB\", \"feats_SC\", \"micro_f1_score_SC\"]].copy()\n",
    "for c in merged2.columns:\n",
    "    if \"micro\" in c:\n",
    "        merged2[c]=merged2[c].apply(lambda d: \"{0:.3f}\".format(d) if type(d) == float else d)\n",
    "    elif \"num\" in c:\n",
    "        merged2[c]=merged2[c].apply(lambda d: \"{0:,.1f}\".format(d) if type(d) == float else d)\n",
    "merged2"
   ]
  },
  {
   "cell_type": "markdown",
   "metadata": {},
   "source": [
    "## Generate Rows for LaTex Table"
   ]
  },
  {
   "cell_type": "code",
   "execution_count": 21,
   "metadata": {
    "collapsed": true
   },
   "outputs": [],
   "source": [
    "def format_lbl(lbl):\n",
    "    return lbl.replace(\"[\",\" \").replace(\"]\",\"\").replace(\"_\",\" \").strip()"
   ]
  },
  {
   "cell_type": "code",
   "execution_count": 122,
   "metadata": {
    "collapsed": false
   },
   "outputs": [
    {
     "name": "stdout",
     "output_type": "stream",
     "text": [
      "1 & single words & 0.697 & & three words & 0.741\\\\\n",
      "2 & three words & 0.692 & & single words & 0.738\\\\\n",
      "3 & word pairs & 0.688 & & word pairs & 0.737\\\\\n",
      "4 & between word features & 0.648 & & between word features & 0.730\\\\\n"
     ]
    }
   ],
   "source": [
    "for i, row in merged.iterrows():\n",
    "    feats_CB = format_lbl(row[\"feats_CB\"])\n",
    "    micro_f1_score_CB = row[\"micro_f1_score_CB\"]\n",
    "    \n",
    "    feats_SC = format_lbl(row[\"feats_SC\"])\n",
    "    micro_f1_score_SC = row[\"micro_f1_score_SC\"]\n",
    "    \n",
    "    print(\"{rank} & {feat_cb} & {cb_f1:0.3f} & & {feat_sc} & {sc_f1:0.3f}\\\\\\\\\"\\\n",
    "          .format(rank=i+1,feat_cb=feats_CB, cb_f1=micro_f1_score_CB,\n",
    "                  feat_sc=feats_SC, sc_f1=micro_f1_score_SC))\n"
   ]
  },
  {
   "cell_type": "markdown",
   "metadata": {},
   "source": [
    "## Performance By Feature Set Size"
   ]
  },
  {
   "cell_type": "code",
   "execution_count": 123,
   "metadata": {
    "collapsed": false
   },
   "outputs": [
    {
     "data": {
      "text/html": [
       "<div>\n",
       "<table border=\"1\" class=\"dataframe\">\n",
       "  <thead>\n",
       "    <tr style=\"text-align: right;\">\n",
       "      <th></th>\n",
       "      <th>count</th>\n",
       "      <th>max(micro_f1_score)_cb</th>\n",
       "      <th>mean(micro_f1_score)_cb</th>\n",
       "      <th>max(micro_f1_score)_sc</th>\n",
       "      <th>mean(micro_f1_score)_sc</th>\n",
       "    </tr>\n",
       "  </thead>\n",
       "  <tbody>\n",
       "    <tr>\n",
       "      <th>0</th>\n",
       "      <td>1</td>\n",
       "      <td>0.697956</td>\n",
       "      <td>0.680737</td>\n",
       "      <td>0.742506</td>\n",
       "      <td>0.736299</td>\n",
       "    </tr>\n",
       "    <tr>\n",
       "      <th>1</th>\n",
       "      <td>2</td>\n",
       "      <td>0.714465</td>\n",
       "      <td>0.698302</td>\n",
       "      <td>0.751965</td>\n",
       "      <td>0.741436</td>\n",
       "    </tr>\n",
       "    <tr>\n",
       "      <th>2</th>\n",
       "      <td>3</td>\n",
       "      <td>0.714645</td>\n",
       "      <td>0.709379</td>\n",
       "      <td>0.762473</td>\n",
       "      <td>0.752926</td>\n",
       "    </tr>\n",
       "    <tr>\n",
       "      <th>3</th>\n",
       "      <td>4</td>\n",
       "      <td>0.714877</td>\n",
       "      <td>0.709202</td>\n",
       "      <td>0.763427</td>\n",
       "      <td>0.757923</td>\n",
       "    </tr>\n",
       "    <tr>\n",
       "      <th>4</th>\n",
       "      <td>5</td>\n",
       "      <td>0.715260</td>\n",
       "      <td>0.710556</td>\n",
       "      <td>0.762712</td>\n",
       "      <td>0.759310</td>\n",
       "    </tr>\n",
       "    <tr>\n",
       "      <th>5</th>\n",
       "      <td>6</td>\n",
       "      <td>0.716182</td>\n",
       "      <td>0.709299</td>\n",
       "      <td>0.761303</td>\n",
       "      <td>0.759784</td>\n",
       "    </tr>\n",
       "  </tbody>\n",
       "</table>\n",
       "</div>"
      ],
      "text/plain": [
       "   count  max(micro_f1_score)_cb  mean(micro_f1_score)_cb  \\\n",
       "0      1                0.697956                 0.680737   \n",
       "1      2                0.714465                 0.698302   \n",
       "2      3                0.714645                 0.709379   \n",
       "3      4                0.714877                 0.709202   \n",
       "4      5                0.715260                 0.710556   \n",
       "5      6                0.716182                 0.709299   \n",
       "\n",
       "   max(micro_f1_score)_sc  mean(micro_f1_score)_sc  \n",
       "0                0.742506                 0.736299  \n",
       "1                0.751965                 0.741436  \n",
       "2                0.762473                 0.752926  \n",
       "3                0.763427                 0.757923  \n",
       "4                0.762712                 0.759310  \n",
       "5                0.761303                 0.759784  "
      ]
     },
     "execution_count": 123,
     "metadata": {},
     "output_type": "execute_result"
    }
   ],
   "source": [
    "def get_by_featureset_size(df):\n",
    "    return group_by(df, bycols=[\"count\"], agg_map=[(\"micro_f1_score\", \"max\"),\n",
    "                                              (\"micro_f1_score\", \"mean\"),\n",
    "                                              #(\"micro_f1_score\", \"median\"),\n",
    "                                              #(\"micro_f1_score\", \"count\"),\n",
    "                                             ]).sort_values(\"count\")\n",
    "\n",
    "pd.merge(get_by_featureset_size(cb_vd_df), get_by_featureset_size(sc_vd_df), on=\"count\", how=\"outer\", suffixes=[\"_cb\", \"_sc\"])"
   ]
  },
  {
   "cell_type": "markdown",
   "metadata": {},
   "source": [
    "# Get F1 Score By Num Features As the Optimal Feature Set is Constructed"
   ]
  },
  {
   "cell_type": "code",
   "execution_count": 124,
   "metadata": {
    "collapsed": false
   },
   "outputs": [
    {
     "data": {
      "text/html": [
       "<div>\n",
       "<table border=\"1\" class=\"dataframe\">\n",
       "  <thead>\n",
       "    <tr style=\"text-align: right;\">\n",
       "      <th></th>\n",
       "      <th>count</th>\n",
       "      <th>new_feat_CB</th>\n",
       "      <th>micro_f1_score_CB</th>\n",
       "      <th>stemmed_CB</th>\n",
       "      <th>num_feats_CB</th>\n",
       "      <th>new_feat_SC</th>\n",
       "      <th>micro_f1_score_SC</th>\n",
       "      <th>stemmed_SC</th>\n",
       "      <th>num_feats_SC</th>\n",
       "    </tr>\n",
       "  </thead>\n",
       "  <tbody>\n",
       "    <tr>\n",
       "      <th>0</th>\n",
       "      <td>1</td>\n",
       "      <td>single_words</td>\n",
       "      <td>0.697368</td>\n",
       "      <td>True</td>\n",
       "      <td>5035.6</td>\n",
       "      <td>three_words</td>\n",
       "      <td>0.741337</td>\n",
       "      <td>True</td>\n",
       "      <td>1552.4</td>\n",
       "    </tr>\n",
       "    <tr>\n",
       "      <th>1</th>\n",
       "      <td>2</td>\n",
       "      <td>between_word_features</td>\n",
       "      <td>0.714465</td>\n",
       "      <td>True</td>\n",
       "      <td>22998.4</td>\n",
       "      <td>between_word_features</td>\n",
       "      <td>0.751965</td>\n",
       "      <td>True</td>\n",
       "      <td>19577.8</td>\n",
       "    </tr>\n",
       "    <tr>\n",
       "      <th>2</th>\n",
       "      <td>3</td>\n",
       "      <td>label_set</td>\n",
       "      <td>0.714645</td>\n",
       "      <td>True</td>\n",
       "      <td>28702.0</td>\n",
       "      <td>size_features</td>\n",
       "      <td>0.762473</td>\n",
       "      <td>True</td>\n",
       "      <td>22092.6</td>\n",
       "    </tr>\n",
       "    <tr>\n",
       "      <th>3</th>\n",
       "      <td>4</td>\n",
       "      <td>three_words</td>\n",
       "      <td>0.714877</td>\n",
       "      <td>True</td>\n",
       "      <td>30600.0</td>\n",
       "      <td>single_words</td>\n",
       "      <td>0.763427</td>\n",
       "      <td>True</td>\n",
       "      <td>25512.8</td>\n",
       "    </tr>\n",
       "    <tr>\n",
       "      <th>4</th>\n",
       "      <td>5</td>\n",
       "      <td>third_order</td>\n",
       "      <td>0.715260</td>\n",
       "      <td>True</td>\n",
       "      <td>31711.0</td>\n",
       "      <td>third_order</td>\n",
       "      <td>0.762712</td>\n",
       "      <td>True</td>\n",
       "      <td>27107.0</td>\n",
       "    </tr>\n",
       "    <tr>\n",
       "      <th>5</th>\n",
       "      <td>6</td>\n",
       "      <td>unigrams</td>\n",
       "      <td>0.716182</td>\n",
       "      <td>True</td>\n",
       "      <td>33944.0</td>\n",
       "      <td>valency</td>\n",
       "      <td>0.761303</td>\n",
       "      <td>True</td>\n",
       "      <td>31442.0</td>\n",
       "    </tr>\n",
       "  </tbody>\n",
       "</table>\n",
       "</div>"
      ],
      "text/plain": [
       "   count            new_feat_CB  micro_f1_score_CB stemmed_CB  num_feats_CB  \\\n",
       "0      1           single_words           0.697368       True        5035.6   \n",
       "1      2  between_word_features           0.714465       True       22998.4   \n",
       "2      3              label_set           0.714645       True       28702.0   \n",
       "3      4            three_words           0.714877       True       30600.0   \n",
       "4      5            third_order           0.715260       True       31711.0   \n",
       "5      6               unigrams           0.716182       True       33944.0   \n",
       "\n",
       "             new_feat_SC  micro_f1_score_SC stemmed_SC  num_feats_SC  \n",
       "0            three_words           0.741337       True        1552.4  \n",
       "1  between_word_features           0.751965       True       19577.8  \n",
       "2          size_features           0.762473       True       22092.6  \n",
       "3           single_words           0.763427       True       25512.8  \n",
       "4            third_order           0.762712       True       27107.0  \n",
       "5                valency           0.761303       True       31442.0  "
      ]
     },
     "execution_count": 124,
     "metadata": {},
     "output_type": "execute_result"
    }
   ],
   "source": [
    "#cols_filter = \"count,new_feat,micro_f1_score,micro_recall,micro_precision,window_size\".split(\",\")\n",
    "cols_filter = \"count,new_feat,micro_f1_score,stemmed,num_feats\".split(\",\")\n",
    "\n",
    "def get_f1_by_feat_count(df):\n",
    "    df=df[df[\"stemmed\"] == True]\n",
    "    top_feats = df[df[\"count\"] == df[\"count\"].max()]\n",
    "    top_feats = top_feats.sort_values(\"micro_f1_score\", ascending=False).iloc[0][\"feats\"]\n",
    "    \n",
    "    rows = []\n",
    "    for i in range(0,len(top_feats)):\n",
    "        new_feat = top_feats[i]\n",
    "        upto = top_feats[:i+1]\n",
    "        hs = hash_feats(upto)\n",
    "        new_row = df[df[\"hs_feats\"] == hs].iloc[0]\n",
    "        new_row[\"new_feat\"] = feat_name(new_feat)\n",
    "        copy = {}\n",
    "        for k in new_row.keys():\n",
    "            copy[str(k).strip()] = new_row[k]\n",
    "        rows.append(copy)\n",
    "\n",
    "    df_f1_by_feat_count = pd.DataFrame(rows)\n",
    "    return df_f1_by_feat_count[cols_filter]\n",
    "\n",
    "df_f1_score_by_feat_size= pd.merge(get_f1_by_feat_count(cb_vd_df), get_f1_by_feat_count(sc_vd_df), on=\"count\", how=\"outer\", suffixes=(\"_CB\", \"_SC\"))\n",
    "##df_f1_score_by_feat_size\n",
    "# Note that the optimal feature set for SC is only of size 4\n",
    "\n",
    "#get_f1_by_feat_count(cb_vd_df)\n",
    "#get_f1_by_feat_count(sc_vd_df)\n",
    "\n",
    "df_f1_score_by_feat_size"
   ]
  },
  {
   "cell_type": "code",
   "execution_count": 138,
   "metadata": {
    "collapsed": false
   },
   "outputs": [
    {
     "data": {
      "text/html": [
       "<div>\n",
       "<table border=\"1\" class=\"dataframe\">\n",
       "  <thead>\n",
       "    <tr style=\"text-align: right;\">\n",
       "      <th></th>\n",
       "      <th>count</th>\n",
       "      <th>new_feat_CB</th>\n",
       "      <th>num_feats_CB</th>\n",
       "      <th>micro_f1_score_CB</th>\n",
       "      <th>new_feat_SC</th>\n",
       "      <th>num_feats_SC</th>\n",
       "      <th>micro_f1_score_SC</th>\n",
       "    </tr>\n",
       "  </thead>\n",
       "  <tbody>\n",
       "    <tr>\n",
       "      <th>0</th>\n",
       "      <td>1</td>\n",
       "      <td>single_words</td>\n",
       "      <td>5,035.6</td>\n",
       "      <td>0.6974</td>\n",
       "      <td>three_words</td>\n",
       "      <td>1,552.4</td>\n",
       "      <td>0.7413</td>\n",
       "    </tr>\n",
       "    <tr>\n",
       "      <th>1</th>\n",
       "      <td>2</td>\n",
       "      <td>between_word_features</td>\n",
       "      <td>22,998.4</td>\n",
       "      <td>0.7145</td>\n",
       "      <td>between_word_features</td>\n",
       "      <td>19,577.8</td>\n",
       "      <td>0.7520</td>\n",
       "    </tr>\n",
       "    <tr>\n",
       "      <th>2</th>\n",
       "      <td>3</td>\n",
       "      <td>label_set</td>\n",
       "      <td>28,702.0</td>\n",
       "      <td>0.7146</td>\n",
       "      <td>size_features</td>\n",
       "      <td>22,092.6</td>\n",
       "      <td>0.7625</td>\n",
       "    </tr>\n",
       "    <tr>\n",
       "      <th>3</th>\n",
       "      <td>4</td>\n",
       "      <td>three_words</td>\n",
       "      <td>30,600.0</td>\n",
       "      <td>0.7149</td>\n",
       "      <td>single_words</td>\n",
       "      <td>25,512.8</td>\n",
       "      <td>0.7634</td>\n",
       "    </tr>\n",
       "    <tr>\n",
       "      <th>4</th>\n",
       "      <td>5</td>\n",
       "      <td>third_order</td>\n",
       "      <td>31,711.0</td>\n",
       "      <td>0.7153</td>\n",
       "      <td>third_order</td>\n",
       "      <td>27,107.0</td>\n",
       "      <td>0.7627</td>\n",
       "    </tr>\n",
       "    <tr>\n",
       "      <th>5</th>\n",
       "      <td>6</td>\n",
       "      <td>unigrams</td>\n",
       "      <td>33,944.0</td>\n",
       "      <td>0.7162</td>\n",
       "      <td>valency</td>\n",
       "      <td>31,442.0</td>\n",
       "      <td>0.7613</td>\n",
       "    </tr>\n",
       "  </tbody>\n",
       "</table>\n",
       "</div>"
      ],
      "text/plain": [
       "   count            new_feat_CB num_feats_CB micro_f1_score_CB  \\\n",
       "0      1           single_words      5,035.6            0.6974   \n",
       "1      2  between_word_features     22,998.4            0.7145   \n",
       "2      3              label_set     28,702.0            0.7146   \n",
       "3      4            three_words     30,600.0            0.7149   \n",
       "4      5            third_order     31,711.0            0.7153   \n",
       "5      6               unigrams     33,944.0            0.7162   \n",
       "\n",
       "             new_feat_SC num_feats_SC micro_f1_score_SC  \n",
       "0            three_words      1,552.4            0.7413  \n",
       "1  between_word_features     19,577.8            0.7520  \n",
       "2          size_features     22,092.6            0.7625  \n",
       "3           single_words     25,512.8            0.7634  \n",
       "4            third_order     27,107.0            0.7627  \n",
       "5                valency     31,442.0            0.7613  "
      ]
     },
     "execution_count": 138,
     "metadata": {},
     "output_type": "execute_result"
    }
   ],
   "source": [
    "# Round to 4 d.p. for printing\n",
    "df = df_f1_score_by_feat_size[\"count,new_feat_CB,num_feats_CB,micro_f1_score_CB,new_feat_SC,num_feats_SC,micro_f1_score_SC\".split(\",\")].copy()\n",
    "df[\"micro_f1_score_CB\"] = df[\"micro_f1_score_CB\"].apply(lambda d: \"{0:.4f}\".format(d))\n",
    "df[\"num_feats_CB\"]      = df[\"num_feats_CB\"].apply(lambda d: \"{0:,.1f}\".format(d))\n",
    "df[\"micro_f1_score_SC\"] = df[\"micro_f1_score_SC\"].apply(lambda d: \"{0:.4f}\".format(d))  \n",
    "df[\"num_feats_SC\"]      = df[\"num_feats_SC\"].apply(lambda d: \"{0:,.1f}\".format(d))\n",
    "df"
   ]
  },
  {
   "cell_type": "markdown",
   "metadata": {},
   "source": [
    "# Plot F1 Score Against # Feature Sets"
   ]
  },
  {
   "cell_type": "markdown",
   "metadata": {},
   "source": [
    "### Get the Max F1 Score for Each Size of Feature Set (Win = 9)"
   ]
  },
  {
   "cell_type": "code",
   "execution_count": 139,
   "metadata": {
    "collapsed": true
   },
   "outputs": [],
   "source": [
    "def get_max_f1_by_feat_count(df):\n",
    "    max_feats = df[\"count\"].values.max()\n",
    "    rows = []\n",
    "    for cnt in range(1, max_feats+1):\n",
    "        \n",
    "        row = df[df[\"count\"] == cnt].sort_values(\"micro_f1_score\", ascending=False).iloc[0]        \n",
    "        rows.append(row)\n",
    "\n",
    "    return pd.DataFrame(rows)"
   ]
  },
  {
   "cell_type": "code",
   "execution_count": 140,
   "metadata": {
    "collapsed": false
   },
   "outputs": [
    {
     "data": {
      "text/html": [
       "<div>\n",
       "<table border=\"1\" class=\"dataframe\">\n",
       "  <thead>\n",
       "    <tr style=\"text-align: right;\">\n",
       "      <th></th>\n",
       "      <th>count</th>\n",
       "      <th>feats_CB</th>\n",
       "      <th>micro_f1_score_CB</th>\n",
       "      <th>micro_precision_CB</th>\n",
       "      <th>micro_recall_CB</th>\n",
       "      <th>feats_SC</th>\n",
       "      <th>micro_f1_score_SC</th>\n",
       "      <th>micro_precision_SC</th>\n",
       "      <th>micro_recall_SC</th>\n",
       "    </tr>\n",
       "  </thead>\n",
       "  <tbody>\n",
       "    <tr>\n",
       "      <th>0</th>\n",
       "      <td>1</td>\n",
       "      <td>[single_words]</td>\n",
       "      <td>0.697368</td>\n",
       "      <td>0.749045</td>\n",
       "      <td>0.652362</td>\n",
       "      <td>[three_words]</td>\n",
       "      <td>0.741337</td>\n",
       "      <td>0.783778</td>\n",
       "      <td>0.703257</td>\n",
       "    </tr>\n",
       "    <tr>\n",
       "      <th>1</th>\n",
       "      <td>2</td>\n",
       "      <td>[single_words, between_word_features]</td>\n",
       "      <td>0.714465</td>\n",
       "      <td>0.776866</td>\n",
       "      <td>0.661344</td>\n",
       "      <td>[three_words, between_word_features]</td>\n",
       "      <td>0.751965</td>\n",
       "      <td>0.822742</td>\n",
       "      <td>0.692400</td>\n",
       "    </tr>\n",
       "    <tr>\n",
       "      <th>2</th>\n",
       "      <td>3</td>\n",
       "      <td>[single_words, between_word_features, label_set]</td>\n",
       "      <td>0.714645</td>\n",
       "      <td>0.775916</td>\n",
       "      <td>0.662342</td>\n",
       "      <td>[three_words, between_word_features, size_feat...</td>\n",
       "      <td>0.762473</td>\n",
       "      <td>0.827838</td>\n",
       "      <td>0.706675</td>\n",
       "    </tr>\n",
       "    <tr>\n",
       "      <th>3</th>\n",
       "      <td>4</td>\n",
       "      <td>[single_words, between_word_features, label_se...</td>\n",
       "      <td>0.714877</td>\n",
       "      <td>0.778300</td>\n",
       "      <td>0.661011</td>\n",
       "      <td>[three_words, between_word_features, size_feat...</td>\n",
       "      <td>0.763427</td>\n",
       "      <td>0.831203</td>\n",
       "      <td>0.705871</td>\n",
       "    </tr>\n",
       "    <tr>\n",
       "      <th>4</th>\n",
       "      <td>5</td>\n",
       "      <td>[single_words, between_word_features, label_se...</td>\n",
       "      <td>0.715260</td>\n",
       "      <td>0.776911</td>\n",
       "      <td>0.662675</td>\n",
       "      <td>[three_words, between_word_features, size_feat...</td>\n",
       "      <td>0.762712</td>\n",
       "      <td>0.829787</td>\n",
       "      <td>0.705669</td>\n",
       "    </tr>\n",
       "    <tr>\n",
       "      <th>5</th>\n",
       "      <td>6</td>\n",
       "      <td>[single_words, between_word_features, label_se...</td>\n",
       "      <td>0.716182</td>\n",
       "      <td>0.777259</td>\n",
       "      <td>0.664005</td>\n",
       "      <td>[three_words, between_word_features, size_feat...</td>\n",
       "      <td>0.761303</td>\n",
       "      <td>0.830916</td>\n",
       "      <td>0.702453</td>\n",
       "    </tr>\n",
       "  </tbody>\n",
       "</table>\n",
       "</div>"
      ],
      "text/plain": [
       "   count                                           feats_CB  \\\n",
       "0      1                                     [single_words]   \n",
       "1      2              [single_words, between_word_features]   \n",
       "2      3   [single_words, between_word_features, label_set]   \n",
       "3      4  [single_words, between_word_features, label_se...   \n",
       "4      5  [single_words, between_word_features, label_se...   \n",
       "5      6  [single_words, between_word_features, label_se...   \n",
       "\n",
       "   micro_f1_score_CB  micro_precision_CB  micro_recall_CB  \\\n",
       "0           0.697368            0.749045         0.652362   \n",
       "1           0.714465            0.776866         0.661344   \n",
       "2           0.714645            0.775916         0.662342   \n",
       "3           0.714877            0.778300         0.661011   \n",
       "4           0.715260            0.776911         0.662675   \n",
       "5           0.716182            0.777259         0.664005   \n",
       "\n",
       "                                            feats_SC  micro_f1_score_SC  \\\n",
       "0                                      [three_words]           0.741337   \n",
       "1               [three_words, between_word_features]           0.751965   \n",
       "2  [three_words, between_word_features, size_feat...           0.762473   \n",
       "3  [three_words, between_word_features, size_feat...           0.763427   \n",
       "4  [three_words, between_word_features, size_feat...           0.762712   \n",
       "5  [three_words, between_word_features, size_feat...           0.761303   \n",
       "\n",
       "   micro_precision_SC  micro_recall_SC  \n",
       "0            0.783778         0.703257  \n",
       "1            0.822742         0.692400  \n",
       "2            0.827838         0.706675  \n",
       "3            0.831203         0.705871  \n",
       "4            0.829787         0.705669  \n",
       "5            0.830916         0.702453  "
      ]
     },
     "execution_count": 140,
     "metadata": {},
     "output_type": "execute_result"
    }
   ],
   "source": [
    "df_cb = get_max_f1_by_feat_count(cb_vd_df[cb_vd_df[\"stemmed\"] == True])[[\"count\", \"feats\", \"micro_f1_score\", \"micro_precision\", \"micro_recall\"]]\n",
    "df_sc = get_max_f1_by_feat_count(sc_vd_df[sc_vd_df[\"stemmed\"] == True])[[\"count\", \"feats\", \"micro_f1_score\", \"micro_precision\", \"micro_recall\"]]\n",
    "by_feat_size = pd.merge(df_cb, df_sc, on=\"count\", how=\"outer\", suffixes=[\"_CB\", \"_SC\"])\n",
    "by_feat_size"
   ]
  },
  {
   "cell_type": "code",
   "execution_count": 141,
   "metadata": {
    "collapsed": false
   },
   "outputs": [
    {
     "data": {
      "image/png": "[encoded data removed]",
      "text/plain": [
       "<matplotlib.figure.Figure at 0x1a092318d0>"
      ]
     },
     "metadata": {},
     "output_type": "display_data"
    }
   ],
   "source": [
    "import numpy as np\n",
    "import matplotlib as mpl\n",
    "import matplotlib.pyplot as plt\n",
    "\n",
    "FONT_SIZE = 15\n",
    "\n",
    "df = by_feat_size\n",
    "\n",
    "STYLE = \"whitegrid\"\n",
    "sns.set_style(STYLE)\n",
    "sns.set_style(STYLE, {\"xtick.major.size\": 1})\n",
    "\n",
    "fig = plt.figure(figsize=(12,6.5))\n",
    "\n",
    "x = df[\"count\"].values\n",
    "y_cb = df[\"micro_f1_score_CB\"].values\n",
    "y_sc = df[\"micro_f1_score_SC\"].values\n",
    "\n",
    "ax1 = fig.add_subplot(111)\n",
    "ax1.plot(x,y_cb, label=\"Coral Bleaching\")\n",
    "ax1.plot(x,y_sc, label=\"Skin Cancer\")\n",
    "\n",
    "legend = ax1.legend(loc='upper left', shadow=True, fontsize=FONT_SIZE)\n",
    "\n",
    "ax1.set_xlim([1, 6])\n",
    "ax1.set_ylim([0.695, 0.77])\n",
    "ax1.set_xlabel('Number of Feature Sets', fontsize=FONT_SIZE)\n",
    "ax1.set_ylabel('Micro F1 Score', fontsize=FONT_SIZE)\n",
    "\n",
    "plt.xticks(np.arange(min(x), max(x)+1, 1.0), fontsize=10)\n",
    "sns.despine()\n",
    "\n",
    "plt.savefig(\"/Users/simon.hughes/BitBucket/Dissertation/Dissertation/images/sr_parser_f1_score_by_num_feats.png\")\n",
    "plt.show()"
   ]
  },
  {
   "cell_type": "markdown",
   "metadata": {},
   "source": [
    "## Generate Rows for LaTex Table"
   ]
  },
  {
   "cell_type": "markdown",
   "metadata": {},
   "source": [
    "### F1 Score As Individual Features are Added"
   ]
  },
  {
   "cell_type": "code",
   "execution_count": 142,
   "metadata": {
    "collapsed": false
   },
   "outputs": [
    {
     "name": "stdout",
     "output_type": "stream",
     "text": [
      "1 & single words & 0.6974 & & three words & 0.7413\\\\\n",
      "2 & between word features & 0.7145 & & between word features & 0.7520\\\\\n",
      "3 & label set & 0.7146 & & size features & 0.7625\\\\\n",
      "4 & three words & 0.7149 & & single words & 0.7634\\\\\n",
      "5 & third order & 0.7153 & & third order & 0.7627\\\\\n",
      "6 & unigrams & 0.7162 & & valency & 0.7613\\\\\n"
     ]
    }
   ],
   "source": [
    "for i, row in df_f1_score_by_feat_size.iterrows():\n",
    "    #pprint(row)\n",
    "    \n",
    "    feats_CB = format_lbl(row[\"new_feat_CB\"])\n",
    "    micro_f1_score_CB = row[\"micro_f1_score_CB\"]\n",
    "    \n",
    "    feats_SC = format_lbl(str(row[\"new_feat_SC\"]))\n",
    "    if feats_SC == \"nan\":\n",
    "        feats_SC = \"-\"\n",
    "        \n",
    "    micro_f1_score_SC = row[\"micro_f1_score_SC\"]\n",
    "    if str(micro_f1_score_SC) != \"nan\":\n",
    "        micro_f1_score_SC = \"{0:0.4f}\".format(micro_f1_score_SC)\n",
    "    else:\n",
    "        micro_f1_score_SC = \"-\"\n",
    "    count = row[\"count\"]\n",
    "    print(\"{count} & {feat_cb} & {cb_f1:0.4f} & & {feat_sc} & {sc_f1}\\\\\\\\\"\\\n",
    "          .format(count=count,feat_cb=feats_CB, cb_f1=micro_f1_score_CB,\n",
    "                  feat_sc=feats_SC, sc_f1=micro_f1_score_SC))"
   ]
  },
  {
   "cell_type": "markdown",
   "metadata": {},
   "source": [
    "## Sanity Check - Do Any Datasets have Duplicate Feature Sets with Different F1 Scores?"
   ]
  },
  {
   "cell_type": "code",
   "execution_count": 150,
   "metadata": {
    "collapsed": true
   },
   "outputs": [],
   "source": [
    "#SH: There were some issues with the CB_VD dataset initially for a couple of collections\n",
    "for df in [cb_td_df, cb_vd_df, sc_td_df, sc_vd_df]:\n",
    "    gb = group_by(df, bycols=[\"hs_feats\",\"stemmed\"], agg_map=[\n",
    "        (\"micro_f1_score\", \"count\"),\n",
    "        (\"micro_f1_score\", \"min\"),\n",
    "        (\"micro_f1_score\", \"max\"),\n",
    "    ])\n",
    "    gb = gb[gb[\"count(micro_f1_score)\"] > 1]\n",
    "    miss_match = gb[gb[\"min(micro_f1_score)\"] != gb[\"max(micro_f1_score)\"]]\n",
    "    \n",
    "    assert len(miss_match) == 0, \"Some errors occurred during data capture\""
   ]
  },
  {
   "cell_type": "code",
   "execution_count": 152,
   "metadata": {
    "collapsed": true
   },
   "outputs": [
    {
     "data": {
      "text/html": [
       "<div>\n",
       "<table border=\"1\" class=\"dataframe\">\n",
       "  <thead>\n",
       "    <tr style=\"text-align: right;\">\n",
       "      <th></th>\n",
       "      <th>count</th>\n",
       "      <th>feats</th>\n",
       "      <th>micro_f1_score</th>\n",
       "      <th>micro_precision</th>\n",
       "      <th>micro_recall</th>\n",
       "    </tr>\n",
       "  </thead>\n",
       "  <tbody>\n",
       "    <tr>\n",
       "      <th>53</th>\n",
       "      <td>1</td>\n",
       "      <td>[single_words]</td>\n",
       "      <td>0.697368</td>\n",
       "      <td>0.749045</td>\n",
       "      <td>0.652362</td>\n",
       "    </tr>\n",
       "    <tr>\n",
       "      <th>5</th>\n",
       "      <td>2</td>\n",
       "      <td>[single_words, between_word_features]</td>\n",
       "      <td>0.714465</td>\n",
       "      <td>0.776866</td>\n",
       "      <td>0.661344</td>\n",
       "    </tr>\n",
       "    <tr>\n",
       "      <th>3</th>\n",
       "      <td>3</td>\n",
       "      <td>[single_words, between_word_features, label_set]</td>\n",
       "      <td>0.714645</td>\n",
       "      <td>0.775916</td>\n",
       "      <td>0.662342</td>\n",
       "    </tr>\n",
       "    <tr>\n",
       "      <th>2</th>\n",
       "      <td>4</td>\n",
       "      <td>[single_words, between_word_features, label_se...</td>\n",
       "      <td>0.714877</td>\n",
       "      <td>0.778300</td>\n",
       "      <td>0.661011</td>\n",
       "    </tr>\n",
       "    <tr>\n",
       "      <th>1</th>\n",
       "      <td>5</td>\n",
       "      <td>[single_words, between_word_features, label_se...</td>\n",
       "      <td>0.715260</td>\n",
       "      <td>0.776911</td>\n",
       "      <td>0.662675</td>\n",
       "    </tr>\n",
       "    <tr>\n",
       "      <th>0</th>\n",
       "      <td>6</td>\n",
       "      <td>[single_words, between_word_features, label_se...</td>\n",
       "      <td>0.716182</td>\n",
       "      <td>0.777259</td>\n",
       "      <td>0.664005</td>\n",
       "    </tr>\n",
       "  </tbody>\n",
       "</table>\n",
       "</div>"
      ],
      "text/plain": [
       "    count                                              feats  micro_f1_score  \\\n",
       "53      1                                     [single_words]        0.697368   \n",
       "5       2              [single_words, between_word_features]        0.714465   \n",
       "3       3   [single_words, between_word_features, label_set]        0.714645   \n",
       "2       4  [single_words, between_word_features, label_se...        0.714877   \n",
       "1       5  [single_words, between_word_features, label_se...        0.715260   \n",
       "0       6  [single_words, between_word_features, label_se...        0.716182   \n",
       "\n",
       "    micro_precision  micro_recall  \n",
       "53         0.749045      0.652362  \n",
       "5          0.776866      0.661344  \n",
       "3          0.775916      0.662342  \n",
       "2          0.778300      0.661011  \n",
       "1          0.776911      0.662675  \n",
       "0          0.777259      0.664005  "
      ]
     },
     "execution_count": 152,
     "metadata": {},
     "output_type": "execute_result"
    }
   ],
   "source": []
  },
  {
   "cell_type": "markdown",
   "metadata": {},
   "source": [
    "### Compute Reduction in Features"
   ]
  },
  {
   "cell_type": "code",
   "execution_count": 185,
   "metadata": {
    "collapsed": false
   },
   "outputs": [
    {
     "data": {
      "text/plain": [
       "(33944.0, 123452.0, 0.2749570683342514)"
      ]
     },
     "execution_count": 185,
     "metadata": {},
     "output_type": "execute_result"
    }
   ],
   "source": [
    "df = cb_vd_df\n",
    "best_row = df.sort_values(\"micro_f1_score\").tail(1)\n",
    "\n",
    "max_feats = best_row[\"count\"].values[0]\n",
    "\n",
    "sub = df[df[\"count\"] == max_feats-1].sort_values(\"micro_f1_score\")\n",
    "feats = sub.tail(1)[\"feats\"].values[0]\n",
    "num_feats = sub.tail(1)[\"num_feats\"].values[0]\n",
    "\n",
    "max_ft_df = (df[df[\"count\"] == max_feats]).copy()\n",
    "max_ft_df[\"diff\"] = max_ft_df[\"num_feats\"] - num_feats\n",
    "diffs = max_ft_df[\"diff\"].sum()\n",
    "total_feats = diffs + num_feats\n",
    "# diffs, total_feats\n",
    "act_feats = best_row[\"num_feats\"].values[0]\n",
    "act_feats,total_feats, act_feats/total_feats"
   ]
  },
  {
   "cell_type": "code",
   "execution_count": 188,
   "metadata": {
    "collapsed": false
   },
   "outputs": [
    {
     "data": {
      "text/plain": [
       "(25512.8, 123306.8, 0.20690505308709656)"
      ]
     },
     "execution_count": 188,
     "metadata": {},
     "output_type": "execute_result"
    }
   ],
   "source": [
    "df = sc_vd_df\n",
    "best_row = df.sort_values(\"micro_f1_score\").tail(1)\n",
    "\n",
    "max_feats = df[\"count\"].max()\n",
    "\n",
    "sub = df[df[\"count\"] == max_feats-1].sort_values(\"micro_f1_score\")\n",
    "#feats = sub.tail(1)[\"feats\"].values[0]\n",
    "num_feats = sub.tail(1)[\"num_feats\"].values[0]\n",
    "\n",
    "max_ft_df = (df[df[\"count\"] == max_feats]).copy()\n",
    "max_ft_df[\"diff\"] = max_ft_df[\"num_feats\"] - num_feats\n",
    "diffs = max_ft_df[\"diff\"].sum()\n",
    "total_feats = diffs + num_feats\n",
    "# diffs, total_feats\n",
    "act_feats = best_row[\"num_feats\"].values[0]\n",
    "act_feats,total_feats,act_feats/total_feats"
   ]
  },
  {
   "cell_type": "code",
   "execution_count": 193,
   "metadata": {
    "collapsed": false
   },
   "outputs": [
    {
     "data": {
      "text/html": [
       "<div>\n",
       "<table border=\"1\" class=\"dataframe\">\n",
       "  <thead>\n",
       "    <tr style=\"text-align: right;\">\n",
       "      <th></th>\n",
       "      <th>count</th>\n",
       "      <th>feats</th>\n",
       "      <th>micro_f1_score</th>\n",
       "      <th>micro_precision</th>\n",
       "      <th>micro_recall</th>\n",
       "    </tr>\n",
       "  </thead>\n",
       "  <tbody>\n",
       "    <tr>\n",
       "      <th>7</th>\n",
       "      <td>3</td>\n",
       "      <td>[single_words, between_word_features, label_set]</td>\n",
       "      <td>0.713952</td>\n",
       "      <td>0.775654</td>\n",
       "      <td>0.661344</td>\n",
       "    </tr>\n",
       "  </tbody>\n",
       "</table>\n",
       "</div>"
      ],
      "text/plain": [
       "   count                                             feats  micro_f1_score  \\\n",
       "7      3  [single_words, between_word_features, label_set]        0.713952   \n",
       "\n",
       "   micro_precision  micro_recall  \n",
       "7         0.775654      0.661344  "
      ]
     },
     "execution_count": 193,
     "metadata": {},
     "output_type": "execute_result"
    }
   ],
   "source": [
    "cb_vd_df[cb_vd_df[\"stemmed\"] == False].sort_values(\"micro_f1_score\", ascending=False).head(1)\\\n",
    "[[\"count\",\"feats\",\"micro_f1_score\",\"micro_precision\",\"micro_recall\"]]"
   ]
  },
  {
   "cell_type": "code",
   "execution_count": 205,
   "metadata": {
    "collapsed": false
   },
   "outputs": [
    {
     "data": {
      "text/html": [
       "<div>\n",
       "<table border=\"1\" class=\"dataframe\">\n",
       "  <thead>\n",
       "    <tr style=\"text-align: right;\">\n",
       "      <th></th>\n",
       "      <th>count</th>\n",
       "      <th>feats</th>\n",
       "      <th>micro_f1_score</th>\n",
       "      <th>micro_precision</th>\n",
       "      <th>micro_recall</th>\n",
       "    </tr>\n",
       "  </thead>\n",
       "  <tbody>\n",
       "    <tr>\n",
       "      <th>3</th>\n",
       "      <td>3</td>\n",
       "      <td>[single_words, between_word_features, label_set]</td>\n",
       "      <td>0.714645</td>\n",
       "      <td>0.775916</td>\n",
       "      <td>0.662342</td>\n",
       "    </tr>\n",
       "  </tbody>\n",
       "</table>\n",
       "</div>"
      ],
      "text/plain": [
       "   count                                             feats  micro_f1_score  \\\n",
       "3      3  [single_words, between_word_features, label_set]        0.714645   \n",
       "\n",
       "   micro_precision  micro_recall  \n",
       "3         0.775916      0.662342  "
      ]
     },
     "execution_count": 205,
     "metadata": {},
     "output_type": "execute_result"
    }
   ],
   "source": [
    "cb_vd_df[(cb_vd_df[\"stemmed\"] == True) & (cb_vd_df[\"count\"] == 3)].sort_values(\"micro_f1_score\", ascending=False).head(1)\\\n",
    "[[\"count\",\"feats\",\"micro_f1_score\",\"micro_precision\",\"micro_recall\"]]"
   ]
  },
  {
   "cell_type": "code",
   "execution_count": 194,
   "metadata": {
    "collapsed": false
   },
   "outputs": [
    {
     "data": {
      "text/html": [
       "<div>\n",
       "<table border=\"1\" class=\"dataframe\">\n",
       "  <thead>\n",
       "    <tr style=\"text-align: right;\">\n",
       "      <th></th>\n",
       "      <th>count</th>\n",
       "      <th>feats</th>\n",
       "      <th>micro_f1_score</th>\n",
       "      <th>micro_precision</th>\n",
       "      <th>micro_recall</th>\n",
       "    </tr>\n",
       "  </thead>\n",
       "  <tbody>\n",
       "    <tr>\n",
       "      <th>0</th>\n",
       "      <td>6</td>\n",
       "      <td>[single_words, between_word_features, label_se...</td>\n",
       "      <td>0.716182</td>\n",
       "      <td>0.777259</td>\n",
       "      <td>0.664005</td>\n",
       "    </tr>\n",
       "  </tbody>\n",
       "</table>\n",
       "</div>"
      ],
      "text/plain": [
       "   count                                              feats  micro_f1_score  \\\n",
       "0      6  [single_words, between_word_features, label_se...        0.716182   \n",
       "\n",
       "   micro_precision  micro_recall  \n",
       "0         0.777259      0.664005  "
      ]
     },
     "execution_count": 194,
     "metadata": {},
     "output_type": "execute_result"
    }
   ],
   "source": [
    "cb_vd_df[cb_vd_df[\"stemmed\"] == True].sort_values(\"micro_f1_score\", ascending=False).head(1)\\\n",
    "[[\"count\",\"feats\",\"micro_f1_score\",\"micro_precision\",\"micro_recall\"]]"
   ]
  },
  {
   "cell_type": "code",
   "execution_count": 197,
   "metadata": {
    "collapsed": false
   },
   "outputs": [
    {
     "data": {
      "text/html": [
       "<div>\n",
       "<table border=\"1\" class=\"dataframe\">\n",
       "  <thead>\n",
       "    <tr style=\"text-align: right;\">\n",
       "      <th></th>\n",
       "      <th>count</th>\n",
       "      <th>feats</th>\n",
       "      <th>micro_f1_score</th>\n",
       "      <th>micro_precision</th>\n",
       "      <th>micro_recall</th>\n",
       "    </tr>\n",
       "  </thead>\n",
       "  <tbody>\n",
       "    <tr>\n",
       "      <th>7</th>\n",
       "      <td>4</td>\n",
       "      <td>[three_words, between_word_features, single_wo...</td>\n",
       "      <td>0.760841</td>\n",
       "      <td>0.825647</td>\n",
       "      <td>0.705468</td>\n",
       "    </tr>\n",
       "  </tbody>\n",
       "</table>\n",
       "</div>"
      ],
      "text/plain": [
       "   count                                              feats  micro_f1_score  \\\n",
       "7      4  [three_words, between_word_features, single_wo...        0.760841   \n",
       "\n",
       "   micro_precision  micro_recall  \n",
       "7         0.825647      0.705468  "
      ]
     },
     "execution_count": 197,
     "metadata": {},
     "output_type": "execute_result"
    }
   ],
   "source": [
    "sc_vd_df[cb_vd_df[\"stemmed\"] == False].sort_values(\"micro_f1_score\", ascending=False).head(1)\\\n",
    "[[\"count\",\"feats\",\"micro_f1_score\",\"micro_precision\",\"micro_recall\"]]"
   ]
  },
  {
   "cell_type": "code",
   "execution_count": 198,
   "metadata": {
    "collapsed": false
   },
   "outputs": [
    {
     "data": {
      "text/html": [
       "<div>\n",
       "<table border=\"1\" class=\"dataframe\">\n",
       "  <thead>\n",
       "    <tr style=\"text-align: right;\">\n",
       "      <th></th>\n",
       "      <th>count</th>\n",
       "      <th>feats</th>\n",
       "      <th>micro_f1_score</th>\n",
       "      <th>micro_precision</th>\n",
       "      <th>micro_recall</th>\n",
       "    </tr>\n",
       "  </thead>\n",
       "  <tbody>\n",
       "    <tr>\n",
       "      <th>0</th>\n",
       "      <td>4</td>\n",
       "      <td>[three_words, between_word_features, size_feat...</td>\n",
       "      <td>0.763427</td>\n",
       "      <td>0.831203</td>\n",
       "      <td>0.705871</td>\n",
       "    </tr>\n",
       "  </tbody>\n",
       "</table>\n",
       "</div>"
      ],
      "text/plain": [
       "   count                                              feats  micro_f1_score  \\\n",
       "0      4  [three_words, between_word_features, size_feat...        0.763427   \n",
       "\n",
       "   micro_precision  micro_recall  \n",
       "0         0.831203      0.705871  "
      ]
     },
     "execution_count": 198,
     "metadata": {},
     "output_type": "execute_result"
    }
   ],
   "source": [
    "sc_vd_df[cb_vd_df[\"stemmed\"] == True].sort_values(\"micro_f1_score\", ascending=False).head(1)\\\n",
    "[[\"count\",\"feats\",\"micro_f1_score\",\"micro_precision\",\"micro_recall\"]]"
   ]
  },
  {
   "cell_type": "code",
   "execution_count": null,
   "metadata": {
    "collapsed": true
   },
   "outputs": [],
   "source": []
  }
 ],
 "metadata": {
  "anaconda-cloud": {},
  "kernelspec": {
   "display_name": "Python [conda env:phd_py36]",
   "language": "python",
   "name": "conda-env-phd_py36-py"
  },
  "language_info": {
   "codemirror_mode": {
    "name": "ipython",
    "version": 3
   },
   "file_extension": ".py",
   "mimetype": "text/x-python",
   "name": "python",
   "nbconvert_exporter": "python",
   "pygments_lexer": "ipython3",
   "version": "3.6.2"
  }
 },
 "nbformat": 4,
 "nbformat_minor": 2
}
