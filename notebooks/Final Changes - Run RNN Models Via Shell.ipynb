{
 "cells": [
  {
   "cell_type": "code",
   "execution_count": 1,
   "metadata": {
    "collapsed": false
   },
   "outputs": [
    {
     "name": "stdout",
     "output_type": "stream",
     "text": [
      "/Users/simon.hughes/anaconda3/envs/tensorflow_cpu/bin/python\r\n"
     ]
    }
   ],
   "source": [
    "!which python"
   ]
  },
  {
   "cell_type": "code",
   "execution_count": 2,
   "metadata": {
    "collapsed": false
   },
   "outputs": [
    {
     "name": "stdout",
     "output_type": "stream",
     "text": [
      "Python 3.5.3 :: Continuum Analytics, Inc.\r\n"
     ]
    }
   ],
   "source": [
    "!python -V"
   ]
  },
  {
   "cell_type": "code",
   "execution_count": null,
   "metadata": {
    "collapsed": false
   },
   "outputs": [
    {
     "name": "stdout",
     "output_type": "stream",
     "text": [
      "Using Theano backend.\n",
      "Results Dir: /Users/simon.hughes/Google Drive/Phd/Results/\n",
      "Data Dir:    /Users/simon.hughes/Google Drive/Phd/Data/\n",
      "Root Dir:    /Users/simon.hughes/GitHub/NlpResearch/\n",
      "Public Data: /Users/simon.hughes/GitHub/NlpResearch/Data/PublicDatasets/\n",
      "WARNING - No db name specified - should be either 'metrics_causal' or 'metrics'. Defaulting to 'metrics' \n",
      "870 files found\n",
      "870 essays processed\n",
      "218 files found\n",
      "218 essays processed\n",
      "2019-10-06 21:37:12,213 : INFO : Essays loaded- Train: 870 Test 218\n",
      "Started at: 2019-10-06 21:37:12.213717\n",
      "[1] Params 2019-10-06 21:37:14.010684 - Embeddings=True, Bi-Direct=True Num_Rnns=2 Hidden_Size=256\n",
      "2019-10-06 21:37:14.933096: Epoch=0\n",
      "Recall: 0.7000, Precision: 0.7838, F1: 0.7395, Accuracy: 0.9888, Codes:  2827\n",
      "2019-10-06 21:41:43.934247: Epoch=1\n",
      "Recall: 0.7559, Precision: 0.8374, F1: 0.7946, Accuracy: 0.9911, Codes:  2827\n",
      "2019-10-06 21:45:33.789910: Epoch=2\n",
      "Recall: 0.6703, Precision: 0.9015, F1: 0.7689, Accuracy: 0.9909, Codes:  2827\n",
      "2019-10-06 21:49:33.253834: Epoch=3\n",
      "Recall: 0.7690, Precision: 0.8734, F1: 0.8179, Accuracy: 0.9922, Codes:  2827\n",
      "2019-10-06 21:53:51.821215: Epoch=4\n",
      "Recall: 0.7913, Precision: 0.8630, F1: 0.8256, Accuracy: 0.9924, Codes:  2827\n",
      "2019-10-06 21:58:46.602093: Epoch=5\n",
      "Recall: 0.7460, Precision: 0.8978, F1: 0.8149, Accuracy: 0.9923, Codes:  2827\n",
      "2019-10-06 22:03:45.266243: Epoch=6\n",
      "Recall: 0.7871, Precision: 0.8627, F1: 0.8232, Accuracy: 0.9923, Codes:  2827\n",
      "2019-10-06 22:08:32.822962: Epoch=7\n",
      "Recall: 0.8168, Precision: 0.8520, F1: 0.8340, Accuracy: 0.9926, Codes:  2827\n",
      "2019-10-06 22:13:26.449352: Epoch=8\n",
      "Recall: 0.8422, Precision: 0.8446, F1: 0.8434, Accuracy: 0.9929, Codes:  2827\n",
      "2019-10-06 22:18:12.816268: Epoch=9\n",
      "Recall: 0.8016, Precision: 0.8669, F1: 0.8329, Accuracy: 0.9927, Codes:  2827\n",
      "2019-10-06 22:22:51.329701: Epoch=10\n",
      "Recall: 0.7892, Precision: 0.8822, F1: 0.8331, Accuracy: 0.9928, Codes:  2827\n",
      "2019-10-06 22:27:29.342963: Epoch=11\n"
     ]
    }
   ],
   "source": [
    "!python /Users/simon.hughes/GitHub/NlpResearch/PythonNlpResearch/Experiments/SkinCancerWordTagger/RNN_Tagger/RNN_tagger_most_common_tag_test.py"
   ]
  },
  {
   "cell_type": "code",
   "execution_count": null,
   "metadata": {
    "collapsed": false
   },
   "outputs": [],
   "source": [
    "!python /Users/simon.hughes/GitHub/NlpResearch/PythonNlpResearch/Experiments/SkinCancerWordTagger/RNN_Tagger/RNN_tagger_most_common_tag_test.py"
   ]
  },
  {
   "cell_type": "code",
   "execution_count": null,
   "metadata": {
    "collapsed": false
   },
   "outputs": [],
   "source": [
    "!python /Users/simon.hughes/GitHub/NlpResearch/PythonNlpResearch/Experiments/SkinCancerWordTagger/RNN_Tagger/RNN_tagger_most_common_tag_test.py"
   ]
  },
  {
   "cell_type": "code",
   "execution_count": null,
   "metadata": {
    "collapsed": false
   },
   "outputs": [],
   "source": [
    "!python /Users/simon.hughes/GitHub/NlpResearch/PythonNlpResearch/Experiments/SkinCancerWordTagger/RNN_Tagger/RNN_tagger_most_common_tag_test.py"
   ]
  },
  {
   "cell_type": "code",
   "execution_count": null,
   "metadata": {
    "collapsed": true
   },
   "outputs": [],
   "source": [
    "!python /Users/simon.hughes/GitHub/NlpResearch/PythonNlpResearch/Experiments/SkinCancerWordTagger/RNN_Tagger/RNN_tagger_most_common_tag_test.py"
   ]
  },
  {
   "cell_type": "code",
   "execution_count": null,
   "metadata": {
    "collapsed": true
   },
   "outputs": [],
   "source": [
    "!python /Users/simon.hughes/GitHub/NlpResearch/PythonNlpResearch/Experiments/SkinCancerWordTagger/RNN_Tagger/RNN_tagger_most_common_tag_test.py"
   ]
  },
  {
   "cell_type": "code",
   "execution_count": null,
   "metadata": {
    "collapsed": true
   },
   "outputs": [],
   "source": [
    "!python /Users/simon.hughes/GitHub/NlpResearch/PythonNlpResearch/Experiments/SkinCancerWordTagger/RNN_Tagger/RNN_tagger_most_common_tag_test.py"
   ]
  },
  {
   "cell_type": "code",
   "execution_count": null,
   "metadata": {
    "collapsed": true
   },
   "outputs": [],
   "source": [
    "!python /Users/simon.hughes/GitHub/NlpResearch/PythonNlpResearch/Experiments/SkinCancerWordTagger/RNN_Tagger/RNN_tagger_most_common_tag_test.py"
   ]
  },
  {
   "cell_type": "markdown",
   "metadata": {},
   "source": [
    "# CB"
   ]
  },
  {
   "cell_type": "code",
   "execution_count": null,
   "metadata": {
    "collapsed": true
   },
   "outputs": [],
   "source": [
    "!python /Users/simon.hughes/GitHub/NlpResearch/PythonNlpResearch/Experiments/CoralBleachingWordTagger/RNN_Tagger/RNN_tagger_most_common_tag_test.py"
   ]
  },
  {
   "cell_type": "code",
   "execution_count": null,
   "metadata": {
    "collapsed": true
   },
   "outputs": [],
   "source": [
    "!python /Users/simon.hughes/GitHub/NlpResearch/PythonNlpResearch/Experiments/CoralBleachingWordTagger/RNN_Tagger/RNN_tagger_most_common_tag_test.py"
   ]
  },
  {
   "cell_type": "code",
   "execution_count": null,
   "metadata": {
    "collapsed": true
   },
   "outputs": [],
   "source": []
  }
 ],
 "metadata": {
  "anaconda-cloud": {},
  "kernelspec": {
   "display_name": "Python [conda env:tensorflow_cpu]",
   "language": "python",
   "name": "conda-env-tensorflow_cpu-py"
  },
  "language_info": {
   "codemirror_mode": {
    "name": "ipython",
    "version": 3
   },
   "file_extension": ".py",
   "mimetype": "text/x-python",
   "name": "python",
   "nbconvert_exporter": "python",
   "pygments_lexer": "ipython3",
   "version": "3.5.3"
  }
 },
 "nbformat": 4,
 "nbformat_minor": 2
}
