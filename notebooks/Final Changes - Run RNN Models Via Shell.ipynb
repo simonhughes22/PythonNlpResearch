{
 "cells": [
  {
   "cell_type": "code",
   "execution_count": 1,
   "metadata": {
    "collapsed": false
   },
   "outputs": [
    {
     "name": "stdout",
     "output_type": "stream",
     "text": [
      "/Users/simon.hughes/anaconda3/envs/tensorflow_cpu/bin/python\r\n"
     ]
    }
   ],
   "source": [
    "!which python"
   ]
  },
  {
   "cell_type": "code",
   "execution_count": 2,
   "metadata": {
    "collapsed": false
   },
   "outputs": [
    {
     "name": "stdout",
     "output_type": "stream",
     "text": [
      "Python 3.5.3 :: Continuum Analytics, Inc.\r\n"
     ]
    }
   ],
   "source": [
    "!python -V"
   ]
  },
  {
   "cell_type": "code",
   "execution_count": 3,
   "metadata": {
    "collapsed": false
   },
   "outputs": [
    {
     "name": "stdout",
     "output_type": "stream",
     "text": [
      "Using Theano backend.\n",
      "Results Dir: /Users/simon.hughes/Google Drive/Phd/Results/\n",
      "Data Dir:    /Users/simon.hughes/Google Drive/Phd/Data/\n",
      "Root Dir:    /Users/simon.hughes/GitHub/NlpResearch/\n",
      "Public Data: /Users/simon.hughes/GitHub/NlpResearch/Data/PublicDatasets/\n",
      "WARNING - No db name specified - should be either 'metrics_causal' or 'metrics'. Defaulting to 'metrics' \n",
      "870 files found\n",
      "870 essays processed\n",
      "218 files found\n",
      "218 essays processed\n",
      "2019-10-06 21:37:12,213 : INFO : Essays loaded- Train: 870 Test 218\n",
      "Started at: 2019-10-06 21:37:12.213717\n",
      "[1] Params 2019-10-06 21:37:14.010684 - Embeddings=True, Bi-Direct=True Num_Rnns=2 Hidden_Size=256\n",
      "2019-10-06 21:37:14.933096: Epoch=0\n",
      "Recall: 0.7000, Precision: 0.7838, F1: 0.7395, Accuracy: 0.9888, Codes:  2827\n",
      "2019-10-06 21:41:43.934247: Epoch=1\n",
      "Recall: 0.7559, Precision: 0.8374, F1: 0.7946, Accuracy: 0.9911, Codes:  2827\n",
      "2019-10-06 21:45:33.789910: Epoch=2\n",
      "Recall: 0.6703, Precision: 0.9015, F1: 0.7689, Accuracy: 0.9909, Codes:  2827\n",
      "2019-10-06 21:49:33.253834: Epoch=3\n",
      "Recall: 0.7690, Precision: 0.8734, F1: 0.8179, Accuracy: 0.9922, Codes:  2827\n",
      "2019-10-06 21:53:51.821215: Epoch=4\n",
      "Recall: 0.7913, Precision: 0.8630, F1: 0.8256, Accuracy: 0.9924, Codes:  2827\n",
      "2019-10-06 21:58:46.602093: Epoch=5\n",
      "Recall: 0.7460, Precision: 0.8978, F1: 0.8149, Accuracy: 0.9923, Codes:  2827\n",
      "2019-10-06 22:03:45.266243: Epoch=6\n",
      "Recall: 0.7871, Precision: 0.8627, F1: 0.8232, Accuracy: 0.9923, Codes:  2827\n",
      "2019-10-06 22:08:32.822962: Epoch=7\n",
      "Recall: 0.8168, Precision: 0.8520, F1: 0.8340, Accuracy: 0.9926, Codes:  2827\n",
      "2019-10-06 22:13:26.449352: Epoch=8\n",
      "Recall: 0.8422, Precision: 0.8446, F1: 0.8434, Accuracy: 0.9929, Codes:  2827\n",
      "2019-10-06 22:18:12.816268: Epoch=9\n",
      "Recall: 0.8016, Precision: 0.8669, F1: 0.8329, Accuracy: 0.9927, Codes:  2827\n",
      "2019-10-06 22:22:51.329701: Epoch=10\n",
      "Recall: 0.7892, Precision: 0.8822, F1: 0.8331, Accuracy: 0.9928, Codes:  2827\n",
      "2019-10-06 22:27:29.342963: Epoch=11\n",
      "Recall: 0.8320, Precision: 0.8448, F1: 0.8384, Accuracy: 0.9927, Codes:  2827\n",
      "MicroF1=0.8384337438242019\n"
     ]
    }
   ],
   "source": [
    "!python /Users/simon.hughes/GitHub/NlpResearch/PythonNlpResearch/Experiments/SkinCancerWordTagger/RNN_Tagger/RNN_tagger_most_common_tag_test.py"
   ]
  },
  {
   "cell_type": "code",
   "execution_count": 4,
   "metadata": {
    "collapsed": false
   },
   "outputs": [
    {
     "name": "stdout",
     "output_type": "stream",
     "text": [
      "Using Theano backend.\n",
      "Results Dir: /Users/simon.hughes/Google Drive/Phd/Results/\n",
      "Data Dir:    /Users/simon.hughes/Google Drive/Phd/Data/\n",
      "Root Dir:    /Users/simon.hughes/GitHub/NlpResearch/\n",
      "Public Data: /Users/simon.hughes/GitHub/NlpResearch/Data/PublicDatasets/\n",
      "WARNING - No db name specified - should be either 'metrics_causal' or 'metrics'. Defaulting to 'metrics' \n",
      "870 files found\n",
      "870 essays processed\n",
      "218 files found\n",
      "218 essays processed\n",
      "2019-10-06 22:34:58,625 : INFO : Essays loaded- Train: 870 Test 218\n",
      "Started at: 2019-10-06 22:34:58.626074\n",
      "[1] Params 2019-10-06 22:35:00.425362 - Embeddings=True, Bi-Direct=True Num_Rnns=2 Hidden_Size=256\n",
      "2019-10-06 22:35:01.181586: Epoch=0\n",
      "Recall: 0.7391, Precision: 0.7491, F1: 0.7441, Accuracy: 0.9879, Codes:  3239\n",
      "2019-10-06 22:40:16.119341: Epoch=1\n",
      "Recall: 0.7771, Precision: 0.8188, F1: 0.7974, Accuracy: 0.9906, Codes:  3239\n",
      "2019-10-06 22:44:49.992741: Epoch=2\n",
      "Recall: 0.7181, Precision: 0.8864, F1: 0.7935, Accuracy: 0.9911, Codes:  3239\n",
      "2019-10-06 22:49:22.691968: Epoch=3\n",
      "Recall: 0.8046, Precision: 0.8632, F1: 0.8329, Accuracy: 0.9923, Codes:  3239\n",
      "2019-10-06 22:53:52.240772: Epoch=4\n",
      "Recall: 0.7530, Precision: 0.8723, F1: 0.8083, Accuracy: 0.9915, Codes:  3239\n",
      "2019-10-06 22:58:24.003663: Epoch=5\n",
      "Recall: 0.8311, Precision: 0.8431, F1: 0.8371, Accuracy: 0.9923, Codes:  3239\n",
      "2019-10-06 23:02:57.135285: Epoch=6\n",
      "Recall: 0.8107, Precision: 0.8632, F1: 0.8362, Accuracy: 0.9925, Codes:  3239\n",
      "2019-10-06 23:07:26.299903: Epoch=7\n",
      "Recall: 0.8052, Precision: 0.8526, F1: 0.8282, Accuracy: 0.9921, Codes:  3239\n",
      "2019-10-06 23:11:59.457281: Epoch=8\n",
      "Recall: 0.7552, Precision: 0.8888, F1: 0.8166, Accuracy: 0.9920, Codes:  3239\n",
      "MicroF1=0.8343031713703811\n"
     ]
    }
   ],
   "source": [
    "!python /Users/simon.hughes/GitHub/NlpResearch/PythonNlpResearch/Experiments/SkinCancerWordTagger/RNN_Tagger/RNN_tagger_most_common_tag_test.py"
   ]
  },
  {
   "cell_type": "code",
   "execution_count": 5,
   "metadata": {
    "collapsed": false
   },
   "outputs": [
    {
     "name": "stdout",
     "output_type": "stream",
     "text": [
      "Using Theano backend.\n",
      "Results Dir: /Users/simon.hughes/Google Drive/Phd/Results/\n",
      "Data Dir:    /Users/simon.hughes/Google Drive/Phd/Data/\n",
      "Root Dir:    /Users/simon.hughes/GitHub/NlpResearch/\n",
      "Public Data: /Users/simon.hughes/GitHub/NlpResearch/Data/PublicDatasets/\n",
      "WARNING - No db name specified - should be either 'metrics_causal' or 'metrics'. Defaulting to 'metrics' \n",
      "870 files found\n",
      "870 essays processed\n",
      "218 files found\n",
      "218 essays processed\n",
      "2019-10-06 23:19:09,944 : INFO : Essays loaded- Train: 870 Test 218\n",
      "Started at: 2019-10-06 23:19:09.944768\n",
      "[1] Params 2019-10-06 23:19:11.835116 - Embeddings=True, Bi-Direct=True Num_Rnns=2 Hidden_Size=256\n",
      "2019-10-06 23:19:12.590866: Epoch=0\n",
      "Recall: 0.6863, Precision: 0.7855, F1: 0.7325, Accuracy: 0.9878, Codes:  3073\n",
      "2019-10-06 23:24:30.814617: Epoch=1\n",
      "Recall: 0.7149, Precision: 0.8453, F1: 0.7747, Accuracy: 0.9899, Codes:  3073\n",
      "2019-10-06 23:29:05.524791: Epoch=2\n",
      "Recall: 0.7803, Precision: 0.8546, F1: 0.8158, Accuracy: 0.9914, Codes:  3073\n",
      "2019-10-06 23:33:32.419665: Epoch=3\n",
      "Recall: 0.7921, Precision: 0.8690, F1: 0.8287, Accuracy: 0.9920, Codes:  3073\n",
      "2019-10-06 23:38:07.586432: Epoch=4\n",
      "Recall: 0.7885, Precision: 0.8657, F1: 0.8253, Accuracy: 0.9919, Codes:  3073\n",
      "2019-10-06 23:42:43.994374: Epoch=5\n",
      "Recall: 0.7540, Precision: 0.8974, F1: 0.8195, Accuracy: 0.9919, Codes:  3073\n",
      "2019-10-06 23:46:33.310814: Epoch=6\n",
      "Recall: 0.8126, Precision: 0.8634, F1: 0.8372, Accuracy: 0.9923, Codes:  3073\n",
      "2019-10-06 23:50:11.821634: Epoch=7\n",
      "Recall: 0.8165, Precision: 0.8465, F1: 0.8312, Accuracy: 0.9919, Codes:  3073\n",
      "2019-10-06 23:53:51.788455: Epoch=8\n",
      "Recall: 0.8090, Precision: 0.8708, F1: 0.8387, Accuracy: 0.9924, Codes:  3073\n",
      "2019-10-06 23:57:30.401853: Epoch=9\n",
      "Recall: 0.8301, Precision: 0.8503, F1: 0.8401, Accuracy: 0.9923, Codes:  3073\n",
      "2019-10-07 00:01:09.488939: Epoch=10\n",
      "Recall: 0.7908, Precision: 0.8722, F1: 0.8295, Accuracy: 0.9921, Codes:  3073\n",
      "2019-10-07 00:04:48.606616: Epoch=11\n",
      "Recall: 0.8191, Precision: 0.8438, F1: 0.8312, Accuracy: 0.9919, Codes:  3073\n",
      "2019-10-07 00:08:28.304544: Epoch=12\n",
      "Recall: 0.7764, Precision: 0.8913, F1: 0.8299, Accuracy: 0.9922, Codes:  3073\n",
      "MicroF1=0.8325891223190103\n"
     ]
    }
   ],
   "source": [
    "!python /Users/simon.hughes/GitHub/NlpResearch/PythonNlpResearch/Experiments/SkinCancerWordTagger/RNN_Tagger/RNN_tagger_most_common_tag_test.py"
   ]
  },
  {
   "cell_type": "code",
   "execution_count": 6,
   "metadata": {
    "collapsed": false
   },
   "outputs": [
    {
     "name": "stdout",
     "output_type": "stream",
     "text": [
      "Using Theano backend.\n",
      "Results Dir: /Users/simon.hughes/Google Drive/Phd/Results/\n",
      "Data Dir:    /Users/simon.hughes/Google Drive/Phd/Data/\n",
      "Root Dir:    /Users/simon.hughes/GitHub/NlpResearch/\n",
      "Public Data: /Users/simon.hughes/GitHub/NlpResearch/Data/PublicDatasets/\n",
      "WARNING - No db name specified - should be either 'metrics_causal' or 'metrics'. Defaulting to 'metrics' \n",
      "870 files found\n",
      "870 essays processed\n",
      "218 files found\n",
      "218 essays processed\n",
      "2019-10-07 00:14:32,450 : INFO : Essays loaded- Train: 870 Test 218\n",
      "Started at: 2019-10-07 00:14:32.450968\n",
      "[1] Params 2019-10-07 00:14:34.224777 - Embeddings=True, Bi-Direct=True Num_Rnns=2 Hidden_Size=256\n",
      "2019-10-07 00:14:35.057427: Epoch=0\n",
      "Recall: 0.6752, Precision: 0.7776, F1: 0.7228, Accuracy: 0.9889, Codes:  2786\n",
      "2019-10-07 00:18:50.431631: Epoch=1\n",
      "Recall: 0.7516, Precision: 0.8373, F1: 0.7921, Accuracy: 0.9915, Codes:  2786\n",
      "2019-10-07 00:22:25.105015: Epoch=2\n",
      "Recall: 0.7670, Precision: 0.8289, F1: 0.7968, Accuracy: 0.9916, Codes:  2786\n",
      "2019-10-07 00:26:00.984995: Epoch=3\n",
      "Recall: 0.7764, Precision: 0.8604, F1: 0.8162, Accuracy: 0.9925, Codes:  2786\n",
      "2019-10-07 00:29:37.116550: Epoch=4\n",
      "Recall: 0.7426, Precision: 0.8918, F1: 0.8104, Accuracy: 0.9925, Codes:  2786\n",
      "2019-10-07 00:33:12.914077: Epoch=5\n",
      "Recall: 0.8008, Precision: 0.8718, F1: 0.8348, Accuracy: 0.9932, Codes:  2786\n",
      "2019-10-07 00:36:48.931434: Epoch=6\n",
      "Recall: 0.8431, Precision: 0.8333, F1: 0.8382, Accuracy: 0.9930, Codes:  2786\n",
      "2019-10-07 00:40:25.687901: Epoch=7\n",
      "Recall: 0.8083, Precision: 0.8648, F1: 0.8356, Accuracy: 0.9932, Codes:  2786\n",
      "2019-10-07 00:44:02.973141: Epoch=8\n",
      "Recall: 0.8683, Precision: 0.7821, F1: 0.8229, Accuracy: 0.9920, Codes:  2786\n",
      "2019-10-07 00:47:39.540593: Epoch=9\n",
      "Recall: 0.8406, Precision: 0.8284, F1: 0.8345, Accuracy: 0.9928, Codes:  2786\n",
      "MicroF1=0.8375968425668763\n"
     ]
    }
   ],
   "source": [
    "!python /Users/simon.hughes/GitHub/NlpResearch/PythonNlpResearch/Experiments/SkinCancerWordTagger/RNN_Tagger/RNN_tagger_most_common_tag_test.py"
   ]
  },
  {
   "cell_type": "code",
   "execution_count": 7,
   "metadata": {
    "collapsed": false
   },
   "outputs": [
    {
     "name": "stdout",
     "output_type": "stream",
     "text": [
      "Using Theano backend.\n",
      "Results Dir: /Users/simon.hughes/Google Drive/Phd/Results/\n",
      "Data Dir:    /Users/simon.hughes/Google Drive/Phd/Data/\n",
      "Root Dir:    /Users/simon.hughes/GitHub/NlpResearch/\n",
      "Public Data: /Users/simon.hughes/GitHub/NlpResearch/Data/PublicDatasets/\n",
      "WARNING - No db name specified - should be either 'metrics_causal' or 'metrics'. Defaulting to 'metrics' \n",
      "870 files found\n",
      "870 essays processed\n",
      "218 files found\n",
      "218 essays processed\n",
      "2019-10-07 00:53:10,770 : INFO : Essays loaded- Train: 870 Test 218\n",
      "Started at: 2019-10-07 00:53:10.770481\n",
      "[1] Params 2019-10-07 00:53:12.524460 - Embeddings=True, Bi-Direct=True Num_Rnns=2 Hidden_Size=256\n",
      "2019-10-07 00:53:13.082716: Epoch=0\n",
      "Recall: 0.7009, Precision: 0.7779, F1: 0.7374, Accuracy: 0.9886, Codes:  2969\n",
      "2019-10-07 00:57:24.943645: Epoch=1\n",
      "Recall: 0.8302, Precision: 0.7378, F1: 0.7813, Accuracy: 0.9894, Codes:  2969\n",
      "2019-10-07 01:01:00.256990: Epoch=2\n",
      "Recall: 0.7204, Precision: 0.8734, F1: 0.7896, Accuracy: 0.9912, Codes:  2969\n",
      "2019-10-07 01:04:37.460631: Epoch=3\n",
      "Recall: 0.8296, Precision: 0.8243, F1: 0.8269, Accuracy: 0.9921, Codes:  2969\n",
      "2019-10-07 01:08:14.196846: Epoch=4\n",
      "Recall: 0.7912, Precision: 0.8539, F1: 0.8213, Accuracy: 0.9921, Codes:  2969\n",
      "2019-10-07 01:11:51.138589: Epoch=5\n",
      "Recall: 0.7875, Precision: 0.8057, F1: 0.7965, Accuracy: 0.9908, Codes:  2969\n",
      "2019-10-07 01:15:28.784151: Epoch=6\n",
      "Recall: 0.8397, Precision: 0.8244, F1: 0.8320, Accuracy: 0.9923, Codes:  2969\n",
      "2019-10-07 01:19:06.493706: Epoch=7\n",
      "Recall: 0.8282, Precision: 0.8488, F1: 0.8384, Accuracy: 0.9927, Codes:  2969\n",
      "2019-10-07 01:22:43.721092: Epoch=8\n",
      "Recall: 0.8212, Precision: 0.8344, F1: 0.8277, Accuracy: 0.9922, Codes:  2969\n",
      "2019-10-07 01:26:20.222652: Epoch=9\n",
      "Recall: 0.8494, Precision: 0.8102, F1: 0.8293, Accuracy: 0.9920, Codes:  2969\n",
      "2019-10-07 01:29:56.378335: Epoch=10\n",
      "Recall: 0.8148, Precision: 0.8560, F1: 0.8349, Accuracy: 0.9926, Codes:  2969\n",
      "MicroF1=0.8373066288020328\n"
     ]
    }
   ],
   "source": [
    "!python /Users/simon.hughes/GitHub/NlpResearch/PythonNlpResearch/Experiments/SkinCancerWordTagger/RNN_Tagger/RNN_tagger_most_common_tag_test.py"
   ]
  },
  {
   "cell_type": "code",
   "execution_count": 8,
   "metadata": {
    "collapsed": false
   },
   "outputs": [
    {
     "name": "stdout",
     "output_type": "stream",
     "text": [
      "Using Theano backend.\n",
      "Results Dir: /Users/simon.hughes/Google Drive/Phd/Results/\n",
      "Data Dir:    /Users/simon.hughes/Google Drive/Phd/Data/\n",
      "Root Dir:    /Users/simon.hughes/GitHub/NlpResearch/\n",
      "Public Data: /Users/simon.hughes/GitHub/NlpResearch/Data/PublicDatasets/\n",
      "WARNING - No db name specified - should be either 'metrics_causal' or 'metrics'. Defaulting to 'metrics' \n",
      "870 files found\n",
      "870 essays processed\n",
      "218 files found\n",
      "218 essays processed\n",
      "2019-10-07 01:35:26,039 : INFO : Essays loaded- Train: 870 Test 218\n",
      "Started at: 2019-10-07 01:35:26.039562\n",
      "[1] Params 2019-10-07 01:35:27.807251 - Embeddings=True, Bi-Direct=True Num_Rnns=2 Hidden_Size=256\n",
      "2019-10-07 01:35:28.308368: Epoch=0\n",
      "Recall: 0.6568, Precision: 0.8069, F1: 0.7241, Accuracy: 0.9886, Codes:  2628\n",
      "2019-10-07 01:39:41.326224: Epoch=1\n",
      "Recall: 0.7957, Precision: 0.7719, F1: 0.7836, Accuracy: 0.9900, Codes:  2628\n",
      "2019-10-07 01:43:16.745879: Epoch=2\n",
      "Recall: 0.7972, Precision: 0.8142, F1: 0.8056, Accuracy: 0.9912, Codes:  2628\n",
      "2019-10-07 01:46:54.187197: Epoch=3\n",
      "Recall: 0.8135, Precision: 0.8195, F1: 0.8165, Accuracy: 0.9916, Codes:  2628\n",
      "2019-10-07 01:50:31.504154: Epoch=4\n",
      "Recall: 0.7287, Precision: 0.8776, F1: 0.7963, Accuracy: 0.9915, Codes:  2628\n",
      "2019-10-07 01:54:08.597333: Epoch=5\n",
      "Recall: 0.7877, Precision: 0.8519, F1: 0.8185, Accuracy: 0.9920, Codes:  2628\n",
      "2019-10-07 01:57:45.243373: Epoch=6\n",
      "Recall: 0.7846, Precision: 0.8599, F1: 0.8205, Accuracy: 0.9922, Codes:  2628\n",
      "2019-10-07 02:01:23.023816: Epoch=7\n",
      "Recall: 0.7823, Precision: 0.8599, F1: 0.8193, Accuracy: 0.9921, Codes:  2628\n",
      "2019-10-07 02:05:00.430894: Epoch=8\n",
      "Recall: 0.7934, Precision: 0.8434, F1: 0.8176, Accuracy: 0.9919, Codes:  2628\n",
      "2019-10-07 02:08:37.857850: Epoch=9\n",
      "Recall: 0.8151, Precision: 0.8264, F1: 0.8207, Accuracy: 0.9919, Codes:  2628\n",
      "2019-10-07 02:12:15.930144: Epoch=10\n",
      "Recall: 0.8212, Precision: 0.8355, F1: 0.8282, Accuracy: 0.9922, Codes:  2628\n",
      "2019-10-07 02:15:53.947559: Epoch=11\n",
      "Recall: 0.8261, Precision: 0.8005, F1: 0.8131, Accuracy: 0.9913, Codes:  2628\n",
      "2019-10-07 02:19:32.210500: Epoch=12\n",
      "Recall: 0.8231, Precision: 0.7999, F1: 0.8113, Accuracy: 0.9913, Codes:  2628\n",
      "2019-10-07 02:23:09.257800: Epoch=13\n",
      "Recall: 0.8371, Precision: 0.8115, F1: 0.8241, Accuracy: 0.9918, Codes:  2628\n",
      "MicroF1=0.8374934803665897\n"
     ]
    }
   ],
   "source": [
    "!python /Users/simon.hughes/GitHub/NlpResearch/PythonNlpResearch/Experiments/SkinCancerWordTagger/RNN_Tagger/RNN_tagger_most_common_tag_test.py"
   ]
  },
  {
   "cell_type": "code",
   "execution_count": 9,
   "metadata": {
    "collapsed": false
   },
   "outputs": [
    {
     "name": "stdout",
     "output_type": "stream",
     "text": [
      "Using Theano backend.\n",
      "Results Dir: /Users/simon.hughes/Google Drive/Phd/Results/\n",
      "Data Dir:    /Users/simon.hughes/Google Drive/Phd/Data/\n",
      "Root Dir:    /Users/simon.hughes/GitHub/NlpResearch/\n",
      "Public Data: /Users/simon.hughes/GitHub/NlpResearch/Data/PublicDatasets/\n",
      "WARNING - No db name specified - should be either 'metrics_causal' or 'metrics'. Defaulting to 'metrics' \n",
      "870 files found\n",
      "870 essays processed\n",
      "218 files found\n",
      "218 essays processed\n",
      "2019-10-07 02:28:42,414 : INFO : Essays loaded- Train: 870 Test 218\n",
      "Started at: 2019-10-07 02:28:42.414643\n",
      "[1] Params 2019-10-07 02:28:44.138580 - Embeddings=True, Bi-Direct=True Num_Rnns=2 Hidden_Size=256\n",
      "2019-10-07 02:28:44.640570: Epoch=0\n",
      "Recall: 0.6760, Precision: 0.8086, F1: 0.7364, Accuracy: 0.9887, Codes:  2944\n",
      "2019-10-07 02:33:20.329421: Epoch=1\n",
      "Recall: 0.7476, Precision: 0.8210, F1: 0.7826, Accuracy: 0.9903, Codes:  2944\n",
      "2019-10-07 02:36:54.778585: Epoch=2\n",
      "Recall: 0.7242, Precision: 0.8670, F1: 0.7892, Accuracy: 0.9909, Codes:  2944\n",
      "2019-10-07 02:40:29.584179: Epoch=3\n",
      "Recall: 0.7442, Precision: 0.8549, F1: 0.7957, Accuracy: 0.9911, Codes:  2944\n",
      "2019-10-07 02:44:05.727052: Epoch=4\n",
      "Recall: 0.8057, Precision: 0.8391, F1: 0.8220, Accuracy: 0.9918, Codes:  2944\n",
      "2019-10-07 02:47:40.547479: Epoch=5\n",
      "Recall: 0.7612, Precision: 0.8740, F1: 0.8137, Accuracy: 0.9918, Codes:  2944\n",
      "2019-10-07 02:51:15.565789: Epoch=6\n",
      "Recall: 0.7748, Precision: 0.8617, F1: 0.8160, Accuracy: 0.9918, Codes:  2944\n",
      "2019-10-07 02:54:51.000064: Epoch=7\n",
      "Recall: 0.7846, Precision: 0.8575, F1: 0.8194, Accuracy: 0.9919, Codes:  2944\n",
      "MicroF1=0.8309734513274337\n"
     ]
    }
   ],
   "source": [
    "!python /Users/simon.hughes/GitHub/NlpResearch/PythonNlpResearch/Experiments/SkinCancerWordTagger/RNN_Tagger/RNN_tagger_most_common_tag_test.py"
   ]
  },
  {
   "cell_type": "code",
   "execution_count": 10,
   "metadata": {
    "collapsed": false
   },
   "outputs": [
    {
     "name": "stdout",
     "output_type": "stream",
     "text": [
      "Using Theano backend.\n",
      "Results Dir: /Users/simon.hughes/Google Drive/Phd/Results/\n",
      "Data Dir:    /Users/simon.hughes/Google Drive/Phd/Data/\n",
      "Root Dir:    /Users/simon.hughes/GitHub/NlpResearch/\n",
      "Public Data: /Users/simon.hughes/GitHub/NlpResearch/Data/PublicDatasets/\n",
      "WARNING - No db name specified - should be either 'metrics_causal' or 'metrics'. Defaulting to 'metrics' \n",
      "870 files found\n",
      "870 essays processed\n",
      "218 files found\n",
      "218 essays processed\n",
      "2019-10-07 03:00:20,666 : INFO : Essays loaded- Train: 870 Test 218\n",
      "Started at: 2019-10-07 03:00:20.666878\n",
      "[1] Params 2019-10-07 03:00:22.423641 - Embeddings=True, Bi-Direct=True Num_Rnns=2 Hidden_Size=256\n",
      "2019-10-07 03:00:22.978814: Epoch=0\n",
      "Recall: 0.7439, Precision: 0.7479, F1: 0.7459, Accuracy: 0.9885, Codes:  2995\n",
      "2019-10-07 03:04:32.855047: Epoch=1\n",
      "Recall: 0.7823, Precision: 0.8063, F1: 0.7941, Accuracy: 0.9908, Codes:  2995\n",
      "2019-10-07 03:08:05.825979: Epoch=2\n",
      "Recall: 0.7763, Precision: 0.8557, F1: 0.8141, Accuracy: 0.9919, Codes:  2995\n",
      "2019-10-07 03:11:39.961360: Epoch=3\n",
      "Recall: 0.8294, Precision: 0.8283, F1: 0.8288, Accuracy: 0.9922, Codes:  2995\n",
      "2019-10-07 03:15:14.342167: Epoch=4\n",
      "Recall: 0.8270, Precision: 0.8360, F1: 0.8315, Accuracy: 0.9924, Codes:  2995\n",
      "2019-10-07 03:18:48.375953: Epoch=5\n",
      "Recall: 0.8451, Precision: 0.8309, F1: 0.8379, Accuracy: 0.9926, Codes:  2995\n",
      "2019-10-07 03:22:23.183198: Epoch=6\n",
      "Recall: 0.8421, Precision: 0.8384, F1: 0.8402, Accuracy: 0.9927, Codes:  2995\n",
      "2019-10-07 03:25:57.811635: Epoch=7\n",
      "Recall: 0.8147, Precision: 0.8552, F1: 0.8345, Accuracy: 0.9926, Codes:  2995\n",
      "2019-10-07 03:29:32.246991: Epoch=8\n",
      "Recall: 0.8290, Precision: 0.8423, F1: 0.8356, Accuracy: 0.9926, Codes:  2995\n",
      "2019-10-07 03:33:06.794431: Epoch=9\n",
      "Recall: 0.8391, Precision: 0.8436, F1: 0.8413, Accuracy: 0.9928, Codes:  2995\n",
      "2019-10-07 03:36:41.877223: Epoch=10\n",
      "Recall: 0.8013, Precision: 0.8686, F1: 0.8336, Accuracy: 0.9927, Codes:  2995\n",
      "2019-10-07 03:40:17.395785: Epoch=11\n",
      "Recall: 0.8264, Precision: 0.8430, F1: 0.8346, Accuracy: 0.9925, Codes:  2995\n",
      "2019-10-07 03:43:53.776567: Epoch=12\n",
      "Recall: 0.8164, Precision: 0.8280, F1: 0.8221, Accuracy: 0.9920, Codes:  2995\n",
      "MicroF1=0.8357694325762687\n"
     ]
    }
   ],
   "source": [
    "!python /Users/simon.hughes/GitHub/NlpResearch/PythonNlpResearch/Experiments/SkinCancerWordTagger/RNN_Tagger/RNN_tagger_most_common_tag_test.py"
   ]
  },
  {
   "cell_type": "markdown",
   "metadata": {},
   "source": [
    "# CB"
   ]
  },
  {
   "cell_type": "code",
   "execution_count": 11,
   "metadata": {
    "collapsed": false
   },
   "outputs": [
    {
     "name": "stdout",
     "output_type": "stream",
     "text": [
      "Using Theano backend.\n",
      "Results Dir: /Users/simon.hughes/Google Drive/Phd/Results/\n",
      "Data Dir:    /Users/simon.hughes/Google Drive/Phd/Data/\n",
      "Root Dir:    /Users/simon.hughes/GitHub/NlpResearch/\n",
      "Public Data: /Users/simon.hughes/GitHub/NlpResearch/Data/PublicDatasets/\n",
      "WARNING - No db name specified - should be either 'metrics_causal' or 'metrics'. Defaulting to 'metrics' \n",
      "901 files found\n",
      "901 essays processed\n",
      "226 files found\n",
      "226 essays processed\n",
      "2019-10-07 03:49:48,326 : INFO : Essays loaded- Train: 901 Test 226\n",
      "Started at: 2019-10-07 03:49:48.326762\n",
      "[1] Params 2019-10-07 03:49:50.336003 - Embeddings=True, Bi-Direct=True Num_Rnns=2 Hidden_Size=256\n",
      "2019-10-07 03:49:50.886114: Epoch=0\n",
      "Recall: 0.5884, Precision: 0.8638, F1: 0.7000, Accuracy: 0.9900, Codes:  3836\n",
      "2019-10-07 03:54:30.931138: Epoch=1\n",
      "Recall: 0.7049, Precision: 0.8703, F1: 0.7789, Accuracy: 0.9921, Codes:  3836\n",
      "2019-10-07 03:58:34.021496: Epoch=2\n",
      "Recall: 0.7672, Precision: 0.8366, F1: 0.8004, Accuracy: 0.9924, Codes:  3836\n",
      "2019-10-07 04:02:37.110485: Epoch=3\n",
      "Recall: 0.7784, Precision: 0.8605, F1: 0.8174, Accuracy: 0.9931, Codes:  3836\n",
      "2019-10-07 04:06:40.333910: Epoch=4\n",
      "Recall: 0.7445, Precision: 0.8975, F1: 0.8139, Accuracy: 0.9933, Codes:  3836\n",
      "2019-10-07 04:10:43.713716: Epoch=5\n",
      "Recall: 0.6658, Precision: 0.9254, F1: 0.7744, Accuracy: 0.9923, Codes:  3836\n",
      "2019-10-07 04:14:47.659828: Epoch=6\n",
      "Recall: 0.8102, Precision: 0.8357, F1: 0.8228, Accuracy: 0.9931, Codes:  3836\n",
      "2019-10-07 04:18:52.268037: Epoch=7\n",
      "Recall: 0.7860, Precision: 0.8556, F1: 0.8193, Accuracy: 0.9932, Codes:  3836\n",
      "2019-10-07 04:22:57.454688: Epoch=8\n",
      "Recall: 0.7933, Precision: 0.8717, F1: 0.8306, Accuracy: 0.9936, Codes:  3836\n",
      "2019-10-07 04:27:02.734500: Epoch=9\n",
      "Recall: 0.7573, Precision: 0.8761, F1: 0.8124, Accuracy: 0.9931, Codes:  3836\n",
      "2019-10-07 04:31:08.091860: Epoch=10\n",
      "Recall: 0.7941, Precision: 0.8590, F1: 0.8253, Accuracy: 0.9934, Codes:  3836\n",
      "2019-10-07 04:35:14.148911: Epoch=11\n",
      "Recall: 0.7789, Precision: 0.8626, F1: 0.8186, Accuracy: 0.9932, Codes:  3836\n",
      "MicroF1=0.8474475809439134\n"
     ]
    }
   ],
   "source": [
    "!python /Users/simon.hughes/GitHub/NlpResearch/PythonNlpResearch/Experiments/CoralBleachingWordTagger/RNN_Tagger/RNN_tagger_most_common_tag_test.py"
   ]
  },
  {
   "cell_type": "code",
   "execution_count": 12,
   "metadata": {
    "collapsed": false
   },
   "outputs": [
    {
     "name": "stdout",
     "output_type": "stream",
     "text": [
      "Using Theano backend.\n",
      "Results Dir: /Users/simon.hughes/Google Drive/Phd/Results/\n",
      "Data Dir:    /Users/simon.hughes/Google Drive/Phd/Data/\n",
      "Root Dir:    /Users/simon.hughes/GitHub/NlpResearch/\n",
      "Public Data: /Users/simon.hughes/GitHub/NlpResearch/Data/PublicDatasets/\n",
      "WARNING - No db name specified - should be either 'metrics_causal' or 'metrics'. Defaulting to 'metrics' \n",
      "901 files found\n",
      "901 essays processed\n",
      "226 files found\n",
      "226 essays processed\n",
      "2019-10-07 04:41:50,580 : INFO : Essays loaded- Train: 901 Test 226\n",
      "Started at: 2019-10-07 04:41:50.580988\n",
      "[1] Params 2019-10-07 04:41:52.466820 - Embeddings=True, Bi-Direct=True Num_Rnns=2 Hidden_Size=256\n",
      "2019-10-07 04:41:52.968734: Epoch=0\n",
      "Recall: 0.7563, Precision: 0.7605, F1: 0.7584, Accuracy: 0.9914, Codes:  2922\n",
      "2019-10-07 04:46:37.524429: Epoch=1\n",
      "Recall: 0.7074, Precision: 0.9014, F1: 0.7927, Accuracy: 0.9934, Codes:  2922\n",
      "2019-10-07 04:50:53.419902: Epoch=2\n",
      "Recall: 0.8330, Precision: 0.8248, F1: 0.8289, Accuracy: 0.9938, Codes:  2922\n",
      "2019-10-07 04:55:13.165567: Epoch=3\n",
      "Recall: 0.8309, Precision: 0.8259, F1: 0.8284, Accuracy: 0.9938, Codes:  2922\n",
      "2019-10-07 04:59:23.339777: Epoch=4\n",
      "Recall: 0.7666, Precision: 0.8819, F1: 0.8202, Accuracy: 0.9940, Codes:  2922\n",
      "2019-10-07 05:03:33.842827: Epoch=5\n",
      "Recall: 0.8231, Precision: 0.8623, F1: 0.8422, Accuracy: 0.9945, Codes:  2922\n",
      "2019-10-07 05:07:44.979082: Epoch=6\n",
      "Recall: 0.8289, Precision: 0.8589, F1: 0.8436, Accuracy: 0.9945, Codes:  2922\n",
      "2019-10-07 05:11:57.078377: Epoch=7\n",
      "Recall: 0.8087, Precision: 0.8854, F1: 0.8453, Accuracy: 0.9947, Codes:  2922\n",
      "2019-10-07 05:16:09.018442: Epoch=8\n",
      "Recall: 0.8066, Precision: 0.8864, F1: 0.8447, Accuracy: 0.9947, Codes:  2922\n",
      "2019-10-07 05:20:22.435118: Epoch=9\n",
      "Recall: 0.8398, Precision: 0.8629, F1: 0.8512, Accuracy: 0.9947, Codes:  2922\n",
      "2019-10-07 05:24:35.765445: Epoch=10\n",
      "Recall: 0.8450, Precision: 0.8421, F1: 0.8435, Accuracy: 0.9944, Codes:  2922\n",
      "2019-10-07 05:28:48.558160: Epoch=11\n",
      "Recall: 0.8210, Precision: 0.8727, F1: 0.8461, Accuracy: 0.9947, Codes:  2922\n",
      "2019-10-07 05:33:01.581134: Epoch=12\n",
      "Recall: 0.7998, Precision: 0.8856, F1: 0.8405, Accuracy: 0.9946, Codes:  2922\n",
      "MicroF1=0.8435374149659864\n"
     ]
    }
   ],
   "source": [
    "!python /Users/simon.hughes/GitHub/NlpResearch/PythonNlpResearch/Experiments/CoralBleachingWordTagger/RNN_Tagger/RNN_tagger_most_common_tag_test.py"
   ]
  },
  {
   "cell_type": "code",
   "execution_count": null,
   "metadata": {
    "collapsed": true
   },
   "outputs": [],
   "source": []
  }
 ],
 "metadata": {
  "anaconda-cloud": {},
  "kernelspec": {
   "display_name": "Python [conda env:tensorflow_cpu]",
   "language": "python",
   "name": "conda-env-tensorflow_cpu-py"
  },
  "language_info": {
   "codemirror_mode": {
    "name": "ipython",
    "version": 3
   },
   "file_extension": ".py",
   "mimetype": "text/x-python",
   "name": "python",
   "nbconvert_exporter": "python",
   "pygments_lexer": "ipython3",
   "version": "3.5.3"
  }
 },
 "nbformat": 4,
 "nbformat_minor": 2
}
