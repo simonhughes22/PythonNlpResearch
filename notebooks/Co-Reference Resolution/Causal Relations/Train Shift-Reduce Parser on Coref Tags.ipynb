{
 "cells": [
  {
   "cell_type": "code",
   "execution_count": 1,
   "metadata": {},
   "outputs": [],
   "source": [
    "import datetime\n",
    "import logging\n",
    "from collections import defaultdict\n",
    "\n",
    "import dill\n",
    "import numpy as np\n",
    "import pymongo\n",
    "from sklearn.linear_model import LogisticRegression\n",
    "from typing import Any\n",
    "\n",
    "from CrossValidation import cross_validation\n",
    "from Settings import Settings\n",
    "from cost_functions import *\n",
    "from crel_helper import get_cr_tags\n",
    "from function_helpers import get_function_names, get_functions_by_name\n",
    "from results_procesor import ResultsProcessor, __MICRO_F1__\n",
    "from searn_parser import SearnModelTemplateFeatures\n",
    "from template_feature_extractor import *\n",
    "from window_based_tagger_config import get_config\n",
    "from wordtagginghelper import merge_dictionaries"
   ]
  },
  {
   "cell_type": "code",
   "execution_count": 2,
   "metadata": {},
   "outputs": [
    {
     "name": "stdout",
     "output_type": "stream",
     "text": [
      "Results Dir: /Users/simon.hughes/Google Drive/Phd/Results/\n",
      "Data Dir:    /Users/simon.hughes/Google Drive/Phd/Data/\n",
      "Root Dir:    /Users/simon.hughes/GitHub/NlpResearch/\n",
      "Public Data: /Users/simon.hughes/GitHub/NlpResearch/Data/PublicDatasets/\n"
     ]
    }
   ],
   "source": [
    "client = pymongo.MongoClient()\n",
    "db = client.metrics\n",
    "\n",
    "# Data Set Partition\n",
    "CV_FOLDS = 5\n",
    "MIN_FEAT_FREQ = 5\n",
    "\n",
    "# Global settings\n",
    "\n",
    "settings = Settings()\n",
    "root_folder = settings.data_directory + \"CoralBleaching/Thesis_Dataset/\"\n",
    "training_folder = root_folder + \"Training\" + \"/\"\n",
    "test_folder = root_folder + \"Test\" + \"/\"\n",
    "# NOTE: These predictions are generated from the \"./notebooks/SEARN/Keras \n",
    "#  - Train Tagger and Save CV Predictions For Word Tags.ipynb\" notebook\n",
    "# used as inputs to parsing model\n",
    "coref_root = root_folder + \"CoReference/\"\n",
    "coref_output_folder = coref_root + \"CRel/\"\n",
    "\n",
    "config = get_config(training_folder)\n",
    "results_processor = ResultsProcessor(dbname=\"metrics_coref_causal2\")"
   ]
  },
  {
   "cell_type": "code",
   "execution_count": 3,
   "metadata": {},
   "outputs": [
    {
     "data": {
      "text/plain": [
       "(902, 226)"
      ]
     },
     "execution_count": 3,
     "metadata": {},
     "output_type": "execute_result"
    }
   ],
   "source": [
    "train_fname = coref_output_folder + \"training_crel_anatagged_essays_most_recent_code.dill\"\n",
    "with open(train_fname, \"rb\") as f:\n",
    "    pred_tagged_essays_train = dill.load(f)\n",
    "\n",
    "test_fname = coref_output_folder + \"test_crel_anatagged_essays_most_recent_code.dill\"\n",
    "with open(test_fname, \"rb\") as f:\n",
    "    pred_tagged_essays_test = dill.load(f)\n",
    "\n",
    "len(pred_tagged_essays_train),len(pred_tagged_essays_test)"
   ]
  },
  {
   "cell_type": "code",
   "execution_count": 4,
   "metadata": {},
   "outputs": [
    {
     "data": {
      "text/plain": [
       "(902, 226)"
      ]
     },
     "execution_count": 4,
     "metadata": {},
     "output_type": "execute_result"
    }
   ],
   "source": [
    "# Load original CREL data - without anaphor codes or predictions\n",
    "# NOTE that these files differ for the SC data\n",
    "rnn_predictions_folder = root_folder + \"Predictions/Bi-LSTM-4-SEARN/\"\n",
    "\n",
    "train_fname = rnn_predictions_folder + \"essays_train_bi_directional-True_hidden_size-256_merge_mode-sum_num_rnns-2_use_pretrained_embedding-True.dill\"\n",
    "with open(train_fname, \"rb\") as f:\n",
    "    orig_pred_tagged_essays_train = dill.load(f)\n",
    "\n",
    "test_fname = rnn_predictions_folder + \"essays_test_bi_directional-True_hidden_size-256_merge_mode-sum_num_rnns-2_use_pretrained_embedding-True.dill\"\n",
    "with open(test_fname, \"rb\") as f:\n",
    "    orig_pred_tagged_essays_test = dill.load(f)\n",
    "\n",
    "len(orig_pred_tagged_essays_train), len(orig_pred_tagged_essays_test)"
   ]
  },
  {
   "cell_type": "code",
   "execution_count": 5,
   "metadata": {},
   "outputs": [
    {
     "data": {
      "text/plain": [
       "{'50'}"
      ]
     },
     "execution_count": 5,
     "metadata": {},
     "output_type": "execute_result"
    }
   ],
   "source": [
    "e = orig_pred_tagged_essays_train[0]\n",
    "set(e.pred_tagged_sentences[0]) - set(pred_tagged_essays_train[0].pred_tagged_sentences[1])"
   ]
  },
  {
   "cell_type": "code",
   "execution_count": 7,
   "metadata": {},
   "outputs": [],
   "source": [
    "EMPTY = \"Empty\"\n",
    "from BrattEssay import ANAPHORA\n",
    "\n",
    "def get_different_predicted_tags_by_sent(essays_a, essays_b):\n",
    "    assert len(essays_a) == len(essays_b)\n",
    "    diff_by_sent = []\n",
    "    for ea, eb in zip(essays_a, essays_b):\n",
    "        assert len(ea.sentences) == len(eb.sentences)\n",
    "        assert len(ea.pred_tagged_sentences) == len(eb.pred_tagged_sentences)\n",
    "        for asent, bsent in zip(ea.pred_tagged_sentences, eb.pred_tagged_sentences):\n",
    "            unique_atags = set(asent)\n",
    "            if EMPTY in unique_atags:\n",
    "                unique_atags.remove(EMPTY)\n",
    "            unique_btags = set(bsent)\n",
    "            if EMPTY in unique_btags:\n",
    "                unique_btags.remove(EMPTY)\n",
    "            diff_by_sent.append(unique_btags - unique_atags)\n",
    "    return diff_by_sent\n",
    "\n",
    "def to_is_valid_crel(tags):\n",
    "    filtered = set()\n",
    "    for t in tags:\n",
    "        t_lower = t.lower()\n",
    "        if \"rhetorical\" in t_lower or \"change\" in t_lower or \"other\" in t_lower:\n",
    "            continue\n",
    "        if \"->\" in t and ANAPHORA not in t:\n",
    "            filtered.add(t)\n",
    "    return filtered\n",
    "\n",
    "def get_different_crel_tags_by_sent(essays_a, essays_b):\n",
    "    assert len(essays_a) == len(essays_b)\n",
    "    diff_by_sent = []\n",
    "    for ea, eb in zip(essays_a, essays_b):\n",
    "        assert len(ea.sentences) == len(eb.sentences)\n",
    "        for asent, bsent in zip(ea.sentences, eb.sentences):\n",
    "            all_atags, all_btags = set(), set()\n",
    "            for (awd, atags), (bwd, btags) in zip(asent, bsent):\n",
    "                assert awd == bwd\n",
    "                all_atags.update(to_is_valid_crel(atags))\n",
    "                all_btags.update(to_is_valid_crel(btags))\n",
    "            \n",
    "            diff_by_sent.append(all_btags - all_atags)\n",
    "    return diff_by_sent"
   ]
  },
  {
   "cell_type": "code",
   "execution_count": 42,
   "metadata": {},
   "outputs": [],
   "source": [
    "cr_tags = get_cr_tags(train_tagged_essays=pred_tagged_essays_train, tag_essays_test=pred_tagged_essays_test)\n",
    "# cv_folds  = [(pred_tagged_essays_train, pred_tagged_essays_test)]  # type: List[Tuple[Any,Any]]\n",
    "# cv_folds = cross_validation(pred_tagged_essays_train, CV_FOLDS)\n",
    "\n",
    "cv_folds  = [(pred_tagged_essays_train, pred_tagged_essays_test)]  # type: List[Tuple[Any,Any]]"
   ]
  },
  {
   "cell_type": "code",
   "execution_count": 43,
   "metadata": {},
   "outputs": [],
   "source": [
    "def evaluate_model(\n",
    "        collection_prefix: str,\n",
    "        folds: List[Tuple[Any, Any]],\n",
    "        extractor_fn_names_lst: List[str],\n",
    "        cost_function_name: str,\n",
    "        beta: float,\n",
    "        ngrams: int,\n",
    "        stemmed: bool,\n",
    "        max_epochs: int,\n",
    "        down_sample_rate=1.0) -> float:\n",
    "\n",
    "    if down_sample_rate < 1.0:\n",
    "        new_folds = []  # type: List[Tuple[Any, Any]]\n",
    "        for i, (essays_TD, essays_VD) in enumerate(folds):\n",
    "            essays_TD = essays_TD[:int(down_sample_rate * len(essays_TD))]\n",
    "            essays_VD = essays_VD[:int(down_sample_rate * len(essays_VD))]\n",
    "            new_folds.append((essays_TD, essays_VD))\n",
    "        folds = new_folds  # type: List[Tuple[Any, Any]]\n",
    "\n",
    "    serial_results = [\n",
    "        model_train_predict(essays_TD, essays_VD, extractor_fn_names_lst, cost_function_name, ngrams, stemmed, beta, max_epochs)\n",
    "        for essays_TD, essays_VD in folds\n",
    "    ]\n",
    "\n",
    "    cv_sent_td_ys_by_tag, cv_sent_td_predictions_by_tag = defaultdict(list), defaultdict(list)\n",
    "    cv_sent_vd_ys_by_tag, cv_sent_vd_predictions_by_tag = defaultdict(list), defaultdict(list)\n",
    "\n",
    "    # record the number of features in each fold\n",
    "    number_of_feats = []\n",
    "\n",
    "    # Parallel is almost 5X faster!!!\n",
    "    cv_td_preds_by_sent = []\n",
    "    cv_vd_preds_by_sent = []\n",
    "    for (num_feats,\n",
    "         sent_td_ys_bycode, sent_vd_ys_bycode,\n",
    "         sent_td_pred_ys_bycode, sent_vd_pred_ys_bycode, td_preds_by_sent, vd_preds_by_sent) in serial_results:\n",
    "        number_of_feats.append(num_feats)\n",
    "\n",
    "        merge_dictionaries(sent_td_ys_bycode, cv_sent_td_ys_by_tag)\n",
    "        merge_dictionaries(sent_vd_ys_bycode, cv_sent_vd_ys_by_tag)\n",
    "        merge_dictionaries(sent_td_pred_ys_bycode, cv_sent_td_predictions_by_tag)\n",
    "        merge_dictionaries(sent_vd_pred_ys_bycode, cv_sent_vd_predictions_by_tag)\n",
    "        \n",
    "        cv_td_preds_by_sent.extend(td_preds_by_sent)\n",
    "        cv_vd_preds_by_sent.extend(vd_preds_by_sent)\n",
    "\n",
    "    # Mongo settings recording\n",
    "    avg_feats = np.mean(number_of_feats)\n",
    "    sent_algo = \"Shift_Reduce_Parser_LR\"\n",
    "\n",
    "    parameters = dict(config)\n",
    "    parameters[\"extractors\"] = list(extractor_fn_names_lst)\n",
    "    parameters[\"num_extractors\"] = len(extractor_fn_names_lst)\n",
    "    parameters[\"cost_function\"] = cost_function_name\n",
    "    parameters[\"beta\"] = beta\n",
    "    parameters[\"max_epochs\"] = max_epochs\n",
    "    parameters[\"no_stacking\"] = True\n",
    "    parameters[\"algorithm\"] = str(BASE_LEARNER_FACT())\n",
    "    parameters[\"ngrams\"] = str(ngrams)\n",
    "    parameters[\"num_feats_MEAN\"] = avg_feats\n",
    "    parameters[\"num_feats_per_fold\"] = number_of_feats\n",
    "    parameters[\"min_feat_freq\"] = MIN_FEAT_FREQ\n",
    "    parameters[\"stemmed\"] = stemmed\n",
    "\n",
    "    print(\"Mean num feats: {avg_feats:.2f}\".format(avg_feats=avg_feats))\n",
    "\n",
    "    TD = collection_prefix + \"_TD\"\n",
    "    VD = collection_prefix + \"_VD\"\n",
    "    if down_sample_rate < 1.0:\n",
    "        print(\"Down sampling at rate: {rate:.5f}, storing temp results\".format(rate=down_sample_rate))\n",
    "        parameters[\"down_sample\"] = down_sample_rate\n",
    "        CB_SENT_TD, CB_SENT_VD = \"__tmp_\" + TD, \"__tmp_\" + TD\n",
    "    else:\n",
    "        CB_SENT_TD, CB_SENT_VD = TD, VD\n",
    "\n",
    "    sent_td_objectid = results_processor.persist_results(CB_SENT_TD, cv_sent_td_ys_by_tag,\n",
    "                                                         cv_sent_td_predictions_by_tag, parameters, sent_algo)\n",
    "    sent_vd_objectid = results_processor.persist_results(CB_SENT_VD, cv_sent_vd_ys_by_tag,\n",
    "                                                         cv_sent_vd_predictions_by_tag, parameters, sent_algo)\n",
    "\n",
    "    # print(processor.results_to_string(sent_td_objectid, CB_SENT_TD, sent_vd_objectid, CB_SENT_VD, \"SENTENCE\"))\n",
    "    metric = results_processor.get_metric(CB_SENT_VD, sent_vd_objectid, __MICRO_F1__)\n",
    "    return metric, cv_sent_td_ys_by_tag, cv_sent_td_predictions_by_tag, cv_td_preds_by_sent, cv_sent_vd_ys_by_tag, cv_sent_vd_predictions_by_tag, cv_vd_preds_by_sent"
   ]
  },
  {
   "cell_type": "code",
   "execution_count": 44,
   "metadata": {},
   "outputs": [],
   "source": [
    "def predict_by_sent(tagged_essays, model):\n",
    "    predict_by_sent = []\n",
    "    for essay_ix, essay in enumerate(tagged_essays):\n",
    "        for sent_ix, taggged_sentence in enumerate(essay.sentences):\n",
    "            predicted_tags = essay.pred_tagged_sentences[sent_ix]\n",
    "            pred_relations = model.predict_sentence(taggged_sentence, predicted_tags)\n",
    "            # Store predictions for evaluation\n",
    "            predict_by_sent.append(pred_relations)\n",
    "    return predict_by_sent\n",
    "\n",
    "def model_train_predict(essays_TD, essays_VD, extractor_names, cost_function_name, ngrams, stemmed, beta, max_epochs):\n",
    "    extractors = get_functions_by_name(extractor_names, all_extractor_fns)\n",
    "    # get single cost function\n",
    "    cost_fn = get_functions_by_name([cost_function_name], all_cost_functions)[0]\n",
    "    assert cost_fn is not None, \"Cost function look up failed\"\n",
    "    # Ensure all extractors located\n",
    "    assert len(extractors) == len(extractor_names), \"number of extractor functions does not match the number of names\"\n",
    "\n",
    "    template_feature_extractor = NonLocalTemplateFeatureExtractor(extractors=extractors)\n",
    "    if stemmed:\n",
    "        ngram_extractor = NgramExtractorStemmed(max_ngram_len=ngrams)\n",
    "    else:\n",
    "        ngram_extractor = NgramExtractor(max_ngram_len=ngrams)\n",
    "    parse_model = SearnModelTemplateFeatures(feature_extractor=template_feature_extractor,\n",
    "                                             cost_function=cost_fn,\n",
    "                                             min_feature_freq=MIN_FEAT_FREQ,\n",
    "                                             ngram_extractor=ngram_extractor, cr_tags=cr_tags,\n",
    "                                             base_learner_fact=BASE_LEARNER_FACT,\n",
    "                                             beta=beta,\n",
    "                                             # log_fn=lambda s: print(s))\n",
    "                                             log_fn=lambda s: None)\n",
    "\n",
    "    parse_model.train(essays_TD, max_epochs=max_epochs)\n",
    "\n",
    "    num_feats = template_feature_extractor.num_features()\n",
    "\n",
    "    sent_td_ys_bycode = parse_model.get_label_data(essays_TD)\n",
    "    sent_vd_ys_bycode = parse_model.get_label_data(essays_VD)\n",
    "\n",
    "    sent_td_pred_ys_bycode = parse_model.predict(essays_TD)\n",
    "    sent_vd_pred_ys_bycode = parse_model.predict(essays_VD)\n",
    "\n",
    "    td_preds_by_sent = predict_by_sent(essays_TD, parse_model)\n",
    "    vd_preds_by_sent = predict_by_sent(essays_VD, parse_model)\n",
    "    \n",
    "    return num_feats, sent_td_ys_bycode, sent_vd_ys_bycode, sent_td_pred_ys_bycode, sent_vd_pred_ys_bycode, td_preds_by_sent, vd_preds_by_sent"
   ]
  },
  {
   "cell_type": "code",
   "execution_count": 45,
   "metadata": {},
   "outputs": [],
   "source": [
    "LINE_WIDTH = 80\n",
    "\n",
    "# other settings\n",
    "DOWN_SAMPLE_RATE = 1.0  # For faster smoke testing the algorithm\n",
    "BASE_LEARNER_FACT = None\n",
    "COLLECTION_PREFIX = \"CR_CB_SHIFT_REDUCE_PARSER_TEMPLATED_MOST_RECENT_CODE\"\n",
    "\n",
    "# some of the other extractors aren't functional if the system isn't able to do a basic parse\n",
    "# so the base extractors are the MVP for getting to a basic parser, then additional 'meta' parse\n",
    "# features from all_extractors can be included\n",
    "base_extractors = [\n",
    "    single_words,\n",
    "    word_pairs,\n",
    "    three_words,\n",
    "    between_word_features\n",
    "]\n",
    "\n",
    "all_extractor_fns = base_extractors + [\n",
    "    word_distance,\n",
    "    valency,\n",
    "    unigrams,\n",
    "    third_order,\n",
    "    label_set,\n",
    "    size_features\n",
    "]\n",
    "\n",
    "all_cost_functions = [\n",
    "    micro_f1_cost,\n",
    "    micro_f1_cost_squared,\n",
    "    micro_f1_cost_plusone,\n",
    "    micro_f1_cost_plusepsilon,\n",
    "    binary_cost,\n",
    "    inverse_micro_f1_cost,\n",
    "    uniform_cost\n",
    "]\n",
    "\n",
    "all_extractor_fn_names = get_function_names(all_extractor_fns)\n",
    "base_extractor_fn_names = get_function_names(base_extractors)\n",
    "all_cost_fn_names = get_function_names(all_cost_functions)"
   ]
  },
  {
   "cell_type": "code",
   "execution_count": 46,
   "metadata": {},
   "outputs": [],
   "source": [
    "ngrams = 1\n",
    "stemmed = True\n",
    "cost_function_name = micro_f1_cost_plusepsilon.__name__\n",
    "dual = True\n",
    "fit_intercept = True\n",
    "beta = 0.5\n",
    "max_epochs = 2\n",
    "C = 0.5\n",
    "penalty = \"l2\""
   ]
  },
  {
   "cell_type": "code",
   "execution_count": 49,
   "metadata": {},
   "outputs": [
    {
     "name": "stdout",
     "output_type": "stream",
     "text": [
      "Mean num feats: 31057.00\n"
     ]
    }
   ],
   "source": [
    "BASE_LEARNER_FACT = lambda : LogisticRegression(dual=dual, C=C, penalty=penalty, fit_intercept=fit_intercept)\n",
    "best_extractor_names = ['single_words', 'between_word_features', 'label_set',\n",
    "                                    'three_words', 'third_order', 'unigrams'] # type: List[str]\n",
    "result = evaluate_model(\n",
    "    collection_prefix=COLLECTION_PREFIX,\n",
    "    folds=cv_folds,\n",
    "    extractor_fn_names_lst=best_extractor_names,\n",
    "    cost_function_name=cost_function_name,\n",
    "    ngrams=ngrams,\n",
    "    beta=beta,\n",
    "    stemmed=stemmed,\n",
    "    down_sample_rate=DOWN_SAMPLE_RATE,\n",
    "    max_epochs=max_epochs)"
   ]
  },
  {
   "cell_type": "code",
   "execution_count": 50,
   "metadata": {},
   "outputs": [],
   "source": [
    "metric, cv_sent_td_ys_by_tag, cv_sent_td_predictions_by_tag, cv_td_preds_by_sent, \\\n",
    "    cv_sent_vd_ys_by_tag, cv_sent_vd_predictions_by_tag, cv_vd_preds_by_sent = result"
   ]
  },
  {
   "cell_type": "markdown",
   "metadata": {},
   "source": [
    "# Compute Anaphora CRel Accuracy"
   ]
  },
  {
   "cell_type": "code",
   "execution_count": 34,
   "metadata": {},
   "outputs": [],
   "source": [
    "def metrics_to_df(metrics):\n",
    "    import Rpfa\n",
    "\n",
    "    rows = []\n",
    "    for k,val in metrics.items():\n",
    "        if type(val) == Rpfa.rpfa:\n",
    "            d = dict(val.__dict__) # convert obj to dict\n",
    "        elif type(val) == dict:\n",
    "            d = dict(val)\n",
    "        else:\n",
    "            d = dict()\n",
    "        d[\"code\"] = k\n",
    "        rows.append(d)\n",
    "    return pd.DataFrame(rows)\n",
    "\n",
    "def compute_metrics_from_essays(tagged_esssays, expected_tags):\n",
    "    act_ys_bycode  = get_wd_level_lbs(  tagged_esssays, expected_tags)\n",
    "    pred_ys_bycode = get_wd_level_preds(tagged_esssays, expected_tags)\n",
    "\n",
    "    assert len(act_ys_bycode.keys()) == len(pred_ys_bycode.keys()) == len(expected_tags), \"Miss-matched codes\"\n",
    "    first_tag = list(expected_tags)[0]\n",
    "    last_tag  = list(expected_tags)[-1]\n",
    "    assert len(act_ys_bycode[first_tag]) == len(pred_ys_bycode[first_tag]), \"Different numbers of words\"\n",
    "    assert len(act_ys_bycode[last_tag])  == len(pred_ys_bycode[last_tag]),  \"Different numbers of words\"\n",
    "\n",
    "    metrics = ResultsProcessor.compute_metrics(act_ys_bycode, pred_ys_bycode)\n",
    "    mean_metrics = ResultsProcessor.compute_mean_metrics(act_ys_bycode, pred_ys_bycode)\n",
    "    return metrics_to_df(mean_metrics)"
   ]
  },
  {
   "cell_type": "code",
   "execution_count": 31,
   "metadata": {},
   "outputs": [],
   "source": [
    "# Predicted Concept Codes - correspond to Ana tags\n",
    "diffs_train = get_different_predicted_tags_by_sent(essays_a=orig_pred_tagged_essays_train, essays_b=pred_tagged_essays_train)\n",
    "diffs_test  = get_different_predicted_tags_by_sent(essays_a=orig_pred_tagged_essays_test,  essays_b=pred_tagged_essays_test)\n",
    "# [d for d in diffs_train if len(d) > 0]\n",
    "\n",
    "# Actual Ana CRels\n",
    "diffs_crel_train = get_different_crel_tags_by_sent(essays_a=orig_pred_tagged_essays_train, essays_b=pred_tagged_essays_train)\n",
    "diffs_crel_test  = get_different_crel_tags_by_sent(essays_a=orig_pred_tagged_essays_test,  essays_b=pred_tagged_essays_test)\n",
    "# [d for d in diffs_crel_train if len(d) > 0]"
   ]
  },
  {
   "cell_type": "code",
   "execution_count": 41,
   "metadata": {},
   "outputs": [
    {
     "data": {
      "text/plain": [
       "(8292, 33168)"
      ]
     },
     "execution_count": 41,
     "metadata": {},
     "output_type": "execute_result"
    }
   ],
   "source": [
    "# cv_td_preds_by_sent, cv_vd_preds_by_sent\n"
   ]
  },
  {
   "cell_type": "code",
   "execution_count": 40,
   "metadata": {},
   "outputs": [
    {
     "name": "stdout",
     "output_type": "stream",
     "text": [
      "Causer:6->Result:14 \t 6 14\n",
      "Causer:1->Result:50 \t 1 50\n",
      "Causer:11->Result:13 \t 11 13\n",
      "Causer:7->Result:50 \t 7 50\n",
      "Causer:1->Result:3 \t 1 3\n",
      "Causer:7->Result:50 \t 7 50\n",
      "Causer:3->Result:7 \t 3 7\n",
      "Causer:7->Result:50 \t 7 50\n",
      "Causer:1->Result:50 \t 1 50\n",
      "Causer:3->Result:50 \t 3 50\n",
      "Causer:1->Result:3 \t 1 3\n",
      "Causer:6->Result:7 \t 6 7\n",
      "Causer:7->Result:50 \t 7 50\n",
      "Causer:1->Result:50 \t 1 50\n",
      "Causer:3->Result:50 \t 3 50\n",
      "Causer:1->Result:3 \t 1 3\n",
      "Causer:3->Result:4 \t 3 4\n",
      "Causer:4->Result:50 \t 4 50\n",
      "Causer:4->Result:5b \t 4 5b\n",
      "Causer:1->Result:50 \t 1 50\n",
      "Causer:12->Result:13 \t 12 13\n",
      "Causer:11->Result:12 \t 11 12\n",
      "Causer:6->Result:50 \t 6 50\n",
      "Causer:7->Result:50 \t 7 50\n",
      "Causer:1->Result:50 \t 1 50\n",
      "Causer:1->Result:3 \t 1 3\n",
      "Causer:1->Result:50 \t 1 50\n",
      "Causer:3->Result:50 \t 3 50\n",
      "Causer:7->Result:50 \t 7 50\n",
      "Causer:11->Result:50 \t 11 50\n",
      "Causer:11->Result:7 \t 11 7\n",
      "Causer:7->Result:50 \t 7 50\n",
      "Causer:7->Result:50 \t 7 50\n",
      "Causer:6->Result:14 \t 6 14\n",
      "Causer:14->Result:50 \t 14 50\n",
      "Causer:7->Result:50 \t 7 50\n",
      "Causer:6->Result:7 \t 6 7\n",
      "Causer:13->Result:50 \t 13 50\n",
      "Causer:12->Result:13 \t 12 13\n",
      "Causer:11->Result:12 \t 11 12\n",
      "Causer:3->Result:5 \t 3 5\n",
      "Causer:1->Result:3 \t 1 3\n",
      "Causer:4->Result:14 \t 4 14\n"
     ]
    }
   ],
   "source": [
    "for preds in cv_td_preds_by_sent:\n",
    "    if len(preds) == 0:\n",
    "        continue\n",
    "    for crel in preds:\n",
    "        l,r = crel.split(\"->\")\n",
    "        lcode = l.split(\":\")[-1]\n",
    "        rcode = r.split(\":\")[-1]\n",
    "        "
   ]
  },
  {
   "cell_type": "code",
   "execution_count": null,
   "metadata": {},
   "outputs": [],
   "source": []
  }
 ],
 "metadata": {
  "kernelspec": {
   "display_name": "Python [default]",
   "language": "python",
   "name": "python3"
  },
  "language_info": {
   "codemirror_mode": {
    "name": "ipython",
    "version": 3
   },
   "file_extension": ".py",
   "mimetype": "text/x-python",
   "name": "python",
   "nbconvert_exporter": "python",
   "pygments_lexer": "ipython3",
   "version": "3.5.4"
  }
 },
 "nbformat": 4,
 "nbformat_minor": 2
}
