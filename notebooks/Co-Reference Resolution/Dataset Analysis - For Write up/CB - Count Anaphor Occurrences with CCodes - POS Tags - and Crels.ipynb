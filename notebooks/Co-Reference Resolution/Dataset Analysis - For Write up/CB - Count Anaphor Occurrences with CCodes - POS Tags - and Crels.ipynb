{
 "cells": [
  {
   "cell_type": "code",
   "execution_count": 11,
   "metadata": {},
   "outputs": [
    {
     "name": "stdout",
     "output_type": "stream",
     "text": [
      "Results Dir: /Users/simon.hughes/Google Drive/Phd/Results/\n",
      "Data Dir:    /Users/simon.hughes/Google Drive/Phd/Data/\n",
      "Root Dir:    /Users/simon.hughes/GitHub/NlpResearch/\n",
      "Public Data: /Users/simon.hughes/GitHub/NlpResearch/Data/PublicDatasets/\n"
     ]
    },
    {
     "data": {
      "text/plain": [
       "('/Users/simon.hughes/Google Drive/Phd/Data/CoralBleaching/Thesis_Dataset/Training/',\n",
       " '/Users/simon.hughes/Google Drive/Phd/Data/CoralBleaching/Thesis_Dataset/Test/')"
      ]
     },
     "execution_count": 11,
     "metadata": {},
     "output_type": "execute_result"
    }
   ],
   "source": [
    "from collections import defaultdict\n",
    "from typing import Any, List, Set, Tuple\n",
    "\n",
    "import dill\n",
    "import numpy as np\n",
    "import pandas as pd\n",
    "\n",
    "from Settings import Settings\n",
    "from crel_helper import get_cr_tags\n",
    "from results_procesor import is_a_regular_code\n",
    "from load_data import load_process_essays\n",
    "from window_based_tagger_config import get_config\n",
    "from wordtagginghelper import merge_dictionaries\n",
    "from BrattEssay import ANAPHORA\n",
    "\n",
    "DATASET = \"CoralBleaching\" # SkinCancer\n",
    "\n",
    "settings = Settings()\n",
    "root_folder = settings.data_directory + DATASET + \"/Thesis_Dataset/\"\n",
    "training_folder = root_folder + \"Training\" + \"/\"\n",
    "test_folder = root_folder + \"Test\" + \"/\"\n",
    "# NOTE: These predictions are generated from the \"./notebooks/SEARN/Keras - Train Tagger and Save CV Predictions For Word Tags.ipynb\" notebook\n",
    "# used as inputs to parsing model\n",
    "coref_root = root_folder + \"CoReference/\"\n",
    "coref_output_folder = coref_root + \"CRel/\"\n",
    "\n",
    "training_folder, test_folder"
   ]
  },
  {
   "cell_type": "code",
   "execution_count": 4,
   "metadata": {},
   "outputs": [
    {
     "name": "stdout",
     "output_type": "stream",
     "text": [
      "902 226\n"
     ]
    }
   ],
   "source": [
    "train_fname = coref_output_folder + \"training_crel_anatagged_essays.dill\"\n",
    "with open(train_fname, \"rb\") as f:\n",
    "    pred_tagged_essays_train = dill.load(f)\n",
    "\n",
    "test_fname = coref_output_folder + \"test_crel_anatagged_essays.dill\"\n",
    "with open(test_fname, \"rb\") as f:\n",
    "    pred_tagged_essays_test = dill.load(f)\n",
    "    \n",
    "print(len(pred_tagged_essays_train), len(pred_tagged_essays_test))"
   ]
  },
  {
   "cell_type": "code",
   "execution_count": 5,
   "metadata": {},
   "outputs": [
    {
     "data": {
      "text/plain": [
       "1128"
      ]
     },
     "execution_count": 5,
     "metadata": {},
     "output_type": "execute_result"
    }
   ],
   "source": [
    "all_essays = pred_tagged_essays_train + pred_tagged_essays_test\n",
    "len(all_essays)"
   ]
  },
  {
   "cell_type": "code",
   "execution_count": 30,
   "metadata": {},
   "outputs": [
    {
     "data": {
      "text/plain": [
       "(167865, 377, 10210, 319, 1128, 237)"
      ]
     },
     "execution_count": 30,
     "metadata": {},
     "output_type": "execute_result"
    }
   ],
   "source": [
    "num_essays = 0\n",
    "num_sents = 0\n",
    "num_words = 0\n",
    "\n",
    "words_with_anaphora_tag = 0\n",
    "sents_with_anaphora_tag = 0\n",
    "essays_with_anaphora_tag = 0\n",
    "\n",
    "words_with_cc = 0\n",
    "cc_with_anaphora_tag = 0\n",
    "words_with_crel = 0\n",
    "words_with_crel_ana = 0\n",
    "\n",
    "reg_code_sent_tally = defaultdict(int)\n",
    "ana_code_sent_tally = defaultdict(int)\n",
    "\n",
    "crel_tally = defaultdict(int)\n",
    "ana_crel_tally = defaultdict(int)\n",
    "\n",
    "for e in all_essays:\n",
    "    num_essays +=1\n",
    "    essay_has_ana = False\n",
    "    \n",
    "    for sent in e.sentences:\n",
    "        sent_has_ana = False\n",
    "        num_sents +=1\n",
    "        unique_tags = set()\n",
    "        \n",
    "        for wd, tags in sent:\n",
    "            num_words +=1\n",
    "            \n",
    "            has_cc_code = False\n",
    "            has_crel_code = False\n",
    "            has_crel_ana_code = False\n",
    "            \n",
    "            for t in tags:\n",
    "\n",
    "                t_lower = t.lower()\n",
    "                if \"other\" in t_lower or \"rhet\" in t_lower or \"change\" in t_lower:\n",
    "                    continue\n",
    "                unique_tags.add(t)\n",
    "                \n",
    "                if is_a_regular_code(t):\n",
    "                    has_cc_code = True\n",
    "                    \n",
    "                if \"->\" in t:\n",
    "                    has_crel_code = True\n",
    "                    if ANAPHORA in t:\n",
    "                        has_crel_ana_code = True\n",
    "\n",
    "            if ANAPHORA in tags:\n",
    "                words_with_anaphora_tag +=1\n",
    "                essay_has_ana = True\n",
    "                sent_has_ana = True\n",
    "            \n",
    "            if has_cc_code:\n",
    "                words_with_cc += 1\n",
    "                \n",
    "            if has_crel_code:\n",
    "                words_with_crel +=1\n",
    "            \n",
    "            if has_crel_ana_code:\n",
    "                words_with_crel_ana +=1\n",
    "                \n",
    "            if ANAPHORA in tags and has_cc_code:\n",
    "                cc_with_anaphora_tag +=1\n",
    "\n",
    "        # end for each word in sentence\n",
    "        if sent_has_ana:\n",
    "            sents_with_anaphora_tag +=1\n",
    "        \n",
    "        for t in unique_tags:\n",
    "            if \"->\" in t:\n",
    "                prefix = \"Anaphor[\"\n",
    "                if prefix in t:\n",
    "                    k_fixed = t.replace(prefix, \"\").replace(\"]\",\"\")\n",
    "                    if ANAPHORA not in k_fixed:\n",
    "                        l,r = k_fixed.split(\"->\")\n",
    "                        l_code = l.replace(\"Causer:\",\"\")\n",
    "                        r_code = r.replace(\"Result:\",\"\")\n",
    "                        assert is_a_regular_code(l_code), l_code\n",
    "                        assert is_a_regular_code(r_code), r_code\n",
    "                        ana_crel_tally[t] +=1\n",
    "                elif ANAPHORA not in t:\n",
    "                    crel_tally[t] +=1\n",
    "            else: # \"->\" not in t\n",
    "                assert \"->\" not in t\n",
    "                if \"Anaphor:[\" in t:\n",
    "                    ana_code_sent_tally[t] +=1\n",
    "                elif is_a_regular_code(t):\n",
    "                    reg_code_sent_tally[t]+=1\n",
    "                \n",
    "    # end for each sentence\n",
    "    if essay_has_ana:\n",
    "        essays_with_anaphora_tag +=1\n",
    "                    \n",
    "num_words, words_with_anaphora_tag, num_sents, sents_with_anaphora_tag, num_essays, essays_with_anaphora_tag"
   ]
  },
  {
   "cell_type": "code",
   "execution_count": 31,
   "metadata": {},
   "outputs": [
    {
     "data": {
      "text/plain": [
       "defaultdict(int,\n",
       "            {'1': 1172,\n",
       "             '11': 371,\n",
       "             '12': 122,\n",
       "             '13': 483,\n",
       "             '14': 334,\n",
       "             '2': 158,\n",
       "             '3': 1261,\n",
       "             '4': 395,\n",
       "             '5': 170,\n",
       "             '50': 3847,\n",
       "             '5b': 99,\n",
       "             '6': 407,\n",
       "             '7': 729})"
      ]
     },
     "execution_count": 31,
     "metadata": {},
     "output_type": "execute_result"
    }
   ],
   "source": [
    "reg_code_sent_tally"
   ]
  },
  {
   "cell_type": "code",
   "execution_count": 32,
   "metadata": {},
   "outputs": [
    {
     "data": {
      "text/plain": [
       "defaultdict(int,\n",
       "            {'Anaphor:[11]': 9,\n",
       "             'Anaphor:[12]': 10,\n",
       "             'Anaphor:[13]': 30,\n",
       "             'Anaphor:[14]': 24,\n",
       "             'Anaphor:[1]': 53,\n",
       "             'Anaphor:[2]': 7,\n",
       "             'Anaphor:[3]': 39,\n",
       "             'Anaphor:[4]': 19,\n",
       "             'Anaphor:[50]': 48,\n",
       "             'Anaphor:[5]': 16,\n",
       "             'Anaphor:[5b]': 7,\n",
       "             'Anaphor:[6]': 15,\n",
       "             'Anaphor:[7]': 44})"
      ]
     },
     "execution_count": 32,
     "metadata": {},
     "output_type": "execute_result"
    }
   ],
   "source": [
    "ana_code_sent_tally"
   ]
  },
  {
   "cell_type": "code",
   "execution_count": 33,
   "metadata": {},
   "outputs": [
    {
     "data": {
      "text/plain": [
       "defaultdict(int,\n",
       "            {'Causer:1->Result:11': 1,\n",
       "             'Causer:1->Result:13': 2,\n",
       "             'Causer:1->Result:14': 3,\n",
       "             'Causer:1->Result:2': 122,\n",
       "             'Causer:1->Result:3': 279,\n",
       "             'Causer:1->Result:4': 9,\n",
       "             'Causer:1->Result:5': 6,\n",
       "             'Causer:1->Result:50': 455,\n",
       "             'Causer:1->Result:6': 3,\n",
       "             'Causer:1->Result:7': 7,\n",
       "             'Causer:11->Result:1': 1,\n",
       "             'Causer:11->Result:11': 1,\n",
       "             'Causer:11->Result:12': 94,\n",
       "             'Causer:11->Result:13': 109,\n",
       "             'Causer:11->Result:14': 25,\n",
       "             'Causer:11->Result:3': 6,\n",
       "             'Causer:11->Result:4': 2,\n",
       "             'Causer:11->Result:50': 78,\n",
       "             'Causer:11->Result:6': 3,\n",
       "             'Causer:12->Result:11': 1,\n",
       "             'Causer:12->Result:13': 89,\n",
       "             'Causer:12->Result:14': 8,\n",
       "             'Causer:12->Result:50': 9,\n",
       "             'Causer:12->Result:5b': 1,\n",
       "             'Causer:12->Result:7': 3,\n",
       "             'Causer:13->Result:11': 4,\n",
       "             'Causer:13->Result:12': 3,\n",
       "             'Causer:13->Result:14': 111,\n",
       "             'Causer:13->Result:4': 1,\n",
       "             'Causer:13->Result:5': 1,\n",
       "             'Causer:13->Result:50': 112,\n",
       "             'Causer:13->Result:6': 3,\n",
       "             'Causer:13->Result:7': 4,\n",
       "             'Causer:14->Result:11': 1,\n",
       "             'Causer:14->Result:50': 72,\n",
       "             'Causer:14->Result:6': 3,\n",
       "             'Causer:14->Result:7': 3,\n",
       "             'Causer:2->Result:1': 1,\n",
       "             'Causer:2->Result:3': 54,\n",
       "             'Causer:2->Result:4': 1,\n",
       "             'Causer:2->Result:50': 10,\n",
       "             'Causer:2->Result:6': 2,\n",
       "             'Causer:2->Result:7': 1,\n",
       "             'Causer:3->Result:1': 19,\n",
       "             'Causer:3->Result:13': 4,\n",
       "             'Causer:3->Result:14': 7,\n",
       "             'Causer:3->Result:2': 1,\n",
       "             'Causer:3->Result:4': 163,\n",
       "             'Causer:3->Result:5': 130,\n",
       "             'Causer:3->Result:50': 416,\n",
       "             'Causer:3->Result:5b': 3,\n",
       "             'Causer:3->Result:6': 17,\n",
       "             'Causer:3->Result:7': 28,\n",
       "             'Causer:4->Result:11': 1,\n",
       "             'Causer:4->Result:13': 2,\n",
       "             'Causer:4->Result:14': 96,\n",
       "             'Causer:4->Result:3': 3,\n",
       "             'Causer:4->Result:5': 85,\n",
       "             'Causer:4->Result:50': 109,\n",
       "             'Causer:4->Result:5b': 20,\n",
       "             'Causer:4->Result:6': 2,\n",
       "             'Causer:4->Result:7': 10,\n",
       "             'Causer:5->Result:11': 1,\n",
       "             'Causer:5->Result:13': 1,\n",
       "             'Causer:5->Result:14': 3,\n",
       "             'Causer:5->Result:3': 2,\n",
       "             'Causer:5->Result:4': 1,\n",
       "             'Causer:5->Result:50': 61,\n",
       "             'Causer:5->Result:5b': 45,\n",
       "             'Causer:5->Result:7': 17,\n",
       "             'Causer:50->Result:1': 3,\n",
       "             'Causer:50->Result:3': 2,\n",
       "             'Causer:50->Result:50': 3,\n",
       "             'Causer:50->Result:7': 8,\n",
       "             'Causer:5b->Result:14': 3,\n",
       "             'Causer:5b->Result:5': 4,\n",
       "             'Causer:5b->Result:50': 41,\n",
       "             'Causer:5b->Result:7': 9,\n",
       "             'Causer:6->Result:14': 57,\n",
       "             'Causer:6->Result:5': 1,\n",
       "             'Causer:6->Result:50': 83,\n",
       "             'Causer:6->Result:5b': 1,\n",
       "             'Causer:6->Result:7': 165,\n",
       "             'Causer:7->Result:1': 1,\n",
       "             'Causer:7->Result:13': 1,\n",
       "             'Causer:7->Result:14': 6,\n",
       "             'Causer:7->Result:4': 1,\n",
       "             'Causer:7->Result:5': 1,\n",
       "             'Causer:7->Result:50': 528,\n",
       "             'Causer:7->Result:5b': 7,\n",
       "             'Causer:7->Result:6': 2})"
      ]
     },
     "execution_count": 33,
     "metadata": {},
     "output_type": "execute_result"
    }
   ],
   "source": [
    "crel_tally"
   ]
  },
  {
   "cell_type": "code",
   "execution_count": 34,
   "metadata": {},
   "outputs": [
    {
     "data": {
      "text/plain": [
       "defaultdict(int,\n",
       "            {'Causer:1->Result:Anaphor[3]': 1,\n",
       "             'Causer:1->Result:Anaphor[50]': 14,\n",
       "             'Causer:11->Result:Anaphor[14]': 6,\n",
       "             'Causer:11->Result:Anaphor[1]': 1,\n",
       "             'Causer:11->Result:Anaphor[50]': 4,\n",
       "             'Causer:13->Result:Anaphor[14]': 1,\n",
       "             'Causer:13->Result:Anaphor[50]': 4,\n",
       "             'Causer:2->Result:Anaphor[50]': 1,\n",
       "             'Causer:3->Result:Anaphor[4]': 1,\n",
       "             'Causer:3->Result:Anaphor[50]': 9,\n",
       "             'Causer:3->Result:Anaphor[7]': 1,\n",
       "             'Causer:4->Result:Anaphor[50]': 1,\n",
       "             'Causer:4->Result:Anaphor[5]': 3,\n",
       "             'Causer:5->Result:Anaphor[50]': 1,\n",
       "             'Causer:5b->Result:Anaphor[14]': 1,\n",
       "             'Causer:6->Result:Anaphor[50]': 2,\n",
       "             'Causer:6->Result:Anaphor[7]': 3,\n",
       "             'Causer:7->Result:Anaphor[50]': 10,\n",
       "             'Causer:7->Result:Anaphor[6]': 1,\n",
       "             'Causer:Anaphor[11]->Result:12': 6,\n",
       "             'Causer:Anaphor[11]->Result:13': 1,\n",
       "             'Causer:Anaphor[11]->Result:50': 1,\n",
       "             'Causer:Anaphor[12]->Result:13': 5,\n",
       "             'Causer:Anaphor[12]->Result:14': 3,\n",
       "             'Causer:Anaphor[12]->Result:50': 2,\n",
       "             'Causer:Anaphor[13]->Result:14': 15,\n",
       "             'Causer:Anaphor[13]->Result:50': 9,\n",
       "             'Causer:Anaphor[14]->Result:11': 1,\n",
       "             'Causer:Anaphor[14]->Result:50': 13,\n",
       "             'Causer:Anaphor[14]->Result:6': 2,\n",
       "             'Causer:Anaphor[1]->Result:2': 15,\n",
       "             'Causer:Anaphor[1]->Result:3': 13,\n",
       "             'Causer:Anaphor[1]->Result:4': 1,\n",
       "             'Causer:Anaphor[1]->Result:50': 6,\n",
       "             'Causer:Anaphor[1]->Result:6': 2,\n",
       "             'Causer:Anaphor[2]->Result:3': 3,\n",
       "             'Causer:Anaphor[2]->Result:4': 1,\n",
       "             'Causer:Anaphor[2]->Result:50': 1,\n",
       "             'Causer:Anaphor[2]->Result:6': 1,\n",
       "             'Causer:Anaphor[2]->Result:7': 1,\n",
       "             'Causer:Anaphor[3]->Result:14': 1,\n",
       "             'Causer:Anaphor[3]->Result:4': 1,\n",
       "             'Causer:Anaphor[3]->Result:5': 2,\n",
       "             'Causer:Anaphor[3]->Result:50': 16,\n",
       "             'Causer:Anaphor[3]->Result:6': 2,\n",
       "             'Causer:Anaphor[3]->Result:7': 4,\n",
       "             'Causer:Anaphor[4]->Result:13': 1,\n",
       "             'Causer:Anaphor[4]->Result:14': 7,\n",
       "             'Causer:Anaphor[4]->Result:3': 1,\n",
       "             'Causer:Anaphor[4]->Result:50': 5,\n",
       "             'Causer:Anaphor[4]->Result:5b': 1,\n",
       "             'Causer:Anaphor[4]->Result:6': 1,\n",
       "             'Causer:Anaphor[4]->Result:7': 2,\n",
       "             'Causer:Anaphor[5]->Result:50': 2,\n",
       "             'Causer:Anaphor[5]->Result:5b': 7,\n",
       "             'Causer:Anaphor[5]->Result:7': 1,\n",
       "             'Causer:Anaphor[5b]->Result:50': 5,\n",
       "             'Causer:Anaphor[6]->Result:14': 1,\n",
       "             'Causer:Anaphor[6]->Result:50': 6,\n",
       "             'Causer:Anaphor[6]->Result:7': 7,\n",
       "             'Causer:Anaphor[7]->Result:14': 1,\n",
       "             'Causer:Anaphor[7]->Result:50': 31,\n",
       "             'Causer:Anaphor[7]->Result:5b': 3,\n",
       "             'Causer:Anaphor[7]->Result:6': 1})"
      ]
     },
     "execution_count": 34,
     "metadata": {},
     "output_type": "execute_result"
    }
   ],
   "source": [
    "ana_crel_tally"
   ]
  },
  {
   "cell_type": "markdown",
   "metadata": {},
   "source": [
    "# Counts by Document, Sentence, Word"
   ]
  },
  {
   "cell_type": "code",
   "execution_count": 46,
   "metadata": {},
   "outputs": [
    {
     "data": {
      "text/html": [
       "<div>\n",
       "<table border=\"1\" class=\"dataframe\">\n",
       "  <thead>\n",
       "    <tr style=\"text-align: right;\">\n",
       "      <th></th>\n",
       "      <th>0</th>\n",
       "      <th>1</th>\n",
       "      <th>2</th>\n",
       "    </tr>\n",
       "  </thead>\n",
       "  <tbody>\n",
       "    <tr>\n",
       "      <th>Essays</th>\n",
       "      <td>237</td>\n",
       "      <td>21.01%</td>\n",
       "      <td>1128</td>\n",
       "    </tr>\n",
       "    <tr>\n",
       "      <th>Sentences</th>\n",
       "      <td>319</td>\n",
       "      <td>3.12%</td>\n",
       "      <td>10210</td>\n",
       "    </tr>\n",
       "    <tr>\n",
       "      <th>Words</th>\n",
       "      <td>377</td>\n",
       "      <td>0.22%</td>\n",
       "      <td>167865</td>\n",
       "    </tr>\n",
       "    <tr>\n",
       "      <th>_Type</th>\n",
       "      <td>Cnts.</td>\n",
       "      <td>Pct.</td>\n",
       "      <td>Ttls.</td>\n",
       "    </tr>\n",
       "  </tbody>\n",
       "</table>\n",
       "</div>"
      ],
      "text/plain": [
       "               0       1       2\n",
       "Essays       237  21.01%    1128\n",
       "Sentences    319   3.12%   10210\n",
       "Words        377   0.22%  167865\n",
       "_Type      Cnts.    Pct.   Ttls."
      ]
     },
     "execution_count": 46,
     "metadata": {},
     "output_type": "execute_result"
    }
   ],
   "source": [
    "def pct(cnt_cond, cnt):\n",
    "    return str(round(100 * (cnt_cond / cnt),2)) + \"%\"\n",
    "\n",
    "cnts = {\n",
    "    \"_Type\": \"Cnts.\",\n",
    "    \"Essays\":    essays_with_anaphora_tag,\n",
    "    \"Sentences\": sents_with_anaphora_tag,\n",
    "    \"Words\": words_with_anaphora_tag\n",
    "}\n",
    "totals = {\n",
    "    \"_Type\": \"Ttls.\",\n",
    "    \"Essays\":    num_essays,\n",
    "    \"Sentences\": num_sents,\n",
    "    \"Words\":     num_words\n",
    "}\n",
    "pcts = {\n",
    "    \"_Type\": \"Pct.\",\n",
    "    \"Essays\": pct(essays_with_anaphora_tag, num_essays),\n",
    "    \"Sentences\": pct(sents_with_anaphora_tag, num_sents),\n",
    "    \"Words\": pct(words_with_anaphora_tag, num_words)\n",
    "}\n",
    "\n",
    "df = pd.DataFrame([cnts, pcts, totals])\n",
    "df.transpose()"
   ]
  },
  {
   "cell_type": "markdown",
   "metadata": {},
   "source": [
    "## Concept Codes (Sentences)"
   ]
  },
  {
   "cell_type": "code",
   "execution_count": 37,
   "metadata": {},
   "outputs": [
    {
     "data": {
      "text/plain": [
       "(9548, 321, 9869)"
      ]
     },
     "execution_count": 37,
     "metadata": {},
     "output_type": "execute_result"
    }
   ],
   "source": [
    "sum_reg_code = sum(reg_code_sent_tally.values())\n",
    "sum_ana_code = sum(ana_code_sent_tally.values())\n",
    "sum_cc_code = sum_ana_code + sum_reg_code\n",
    "sum_reg_code, sum_ana_code, sum_cc_code"
   ]
  },
  {
   "cell_type": "markdown",
   "metadata": {},
   "source": [
    "## Causal Relations (Sentences)"
   ]
  },
  {
   "cell_type": "code",
   "execution_count": 38,
   "metadata": {},
   "outputs": [
    {
     "data": {
      "text/plain": [
       "(3878, 276, 4154)"
      ]
     },
     "execution_count": 38,
     "metadata": {},
     "output_type": "execute_result"
    }
   ],
   "source": [
    "sum_reg_crel = sum(crel_tally.values())\n",
    "sum_ana_crel = sum(ana_crel_tally.values())\n",
    "sum_crel = sum_reg_crel + sum_ana_crel\n",
    "sum_reg_crel, sum_ana_crel, sum_crel"
   ]
  },
  {
   "cell_type": "code",
   "execution_count": 54,
   "metadata": {},
   "outputs": [
    {
     "data": {
      "text/html": [
       "<div>\n",
       "<table border=\"1\" class=\"dataframe\">\n",
       "  <thead>\n",
       "    <tr style=\"text-align: right;\">\n",
       "      <th></th>\n",
       "      <th>0</th>\n",
       "      <th>1</th>\n",
       "      <th>2</th>\n",
       "    </tr>\n",
       "  </thead>\n",
       "  <tbody>\n",
       "    <tr>\n",
       "      <th>CCodes</th>\n",
       "      <td>321</td>\n",
       "      <td>3.25%</td>\n",
       "      <td>9869</td>\n",
       "    </tr>\n",
       "    <tr>\n",
       "      <th>CRels</th>\n",
       "      <td>276</td>\n",
       "      <td>6.64%</td>\n",
       "      <td>4154</td>\n",
       "    </tr>\n",
       "    <tr>\n",
       "      <th>_Type</th>\n",
       "      <td>Cnts.</td>\n",
       "      <td>Pct.</td>\n",
       "      <td>Ttls.</td>\n",
       "    </tr>\n",
       "  </tbody>\n",
       "</table>\n",
       "</div>"
      ],
      "text/plain": [
       "            0      1      2\n",
       "CCodes    321  3.25%   9869\n",
       "CRels     276  6.64%   4154\n",
       "_Type   Cnts.   Pct.  Ttls."
      ]
     },
     "execution_count": 54,
     "metadata": {},
     "output_type": "execute_result"
    }
   ],
   "source": [
    "cnts = {\n",
    "    \"_Type\": \"Cnts.\",\n",
    "    \"CCodes\": sum_ana_code,\n",
    "    \"CRels\": sum_ana_crel,\n",
    "}\n",
    "totals = {\n",
    "    \"_Type\": \"Ttls.\",\n",
    "    \"CCodes\": sum_cc_code,\n",
    "    \"CRels\": sum_crel,\n",
    "}\n",
    "pcts = {\n",
    "    \"_Type\": \"Pct.\",\n",
    "    \"CCodes\": pct(sum_ana_code, sum_cc_code),\n",
    "    \"CRels\": pct(sum_ana_crel,  sum_crel),\n",
    "}\n",
    "\n",
    "df = pd.DataFrame([cnts, pcts, totals])\n",
    "df = df.transpose()\n",
    "df"
   ]
  },
  {
   "cell_type": "code",
   "execution_count": null,
   "metadata": {},
   "outputs": [],
   "source": []
  }
 ],
 "metadata": {
  "kernelspec": {
   "display_name": "Python [conda env:phd_py36]",
   "language": "python",
   "name": "conda-env-phd_py36-py"
  },
  "language_info": {
   "codemirror_mode": {
    "name": "ipython",
    "version": 3
   },
   "file_extension": ".py",
   "mimetype": "text/x-python",
   "name": "python",
   "nbconvert_exporter": "python",
   "pygments_lexer": "ipython3",
   "version": "3.6.4"
  }
 },
 "nbformat": 4,
 "nbformat_minor": 2
}
