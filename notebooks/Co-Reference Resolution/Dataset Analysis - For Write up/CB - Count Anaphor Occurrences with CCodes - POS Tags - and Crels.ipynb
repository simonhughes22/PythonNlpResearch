{
 "cells": [
  {
   "cell_type": "code",
   "execution_count": 8,
   "metadata": {},
   "outputs": [
    {
     "name": "stdout",
     "output_type": "stream",
     "text": [
      "Results Dir: /Users/simon.hughes/Google Drive/Phd/Results/\n",
      "Data Dir:    /Users/simon.hughes/Google Drive/Phd/Data/\n",
      "Root Dir:    /Users/simon.hughes/GitHub/NlpResearch/\n",
      "Public Data: /Users/simon.hughes/GitHub/NlpResearch/Data/PublicDatasets/\n"
     ]
    },
    {
     "data": {
      "text/plain": [
       "('/Users/simon.hughes/Google Drive/Phd/Data/CoralBleaching/Thesis_Dataset/Training/',\n",
       " '/Users/simon.hughes/Google Drive/Phd/Data/CoralBleaching/Thesis_Dataset/Test/')"
      ]
     },
     "execution_count": 8,
     "metadata": {},
     "output_type": "execute_result"
    }
   ],
   "source": [
    "from collections import defaultdict\n",
    "from typing import Any, List, Set, Tuple\n",
    "\n",
    "import dill\n",
    "import numpy as np\n",
    "\n",
    "from Settings import Settings\n",
    "from crel_helper import get_cr_tags\n",
    "from results_procesor import is_a_regular_code\n",
    "from load_data import load_process_essays\n",
    "from window_based_tagger_config import get_config\n",
    "from wordtagginghelper import merge_dictionaries\n",
    "from BrattEssay import ANAPHORA\n",
    "\n",
    "DATASET = \"CoralBleaching\" # SkinCancer\n",
    "\n",
    "settings = Settings()\n",
    "root_folder = settings.data_directory + DATASET + \"/Thesis_Dataset/\"\n",
    "training_folder = root_folder + \"Training\" + \"/\"\n",
    "test_folder = root_folder + \"Test\" + \"/\"\n",
    "# NOTE: These predictions are generated from the \"./notebooks/SEARN/Keras - Train Tagger and Save CV Predictions For Word Tags.ipynb\" notebook\n",
    "# used as inputs to parsing model\n",
    "coref_root = root_folder + \"CoReference/\"\n",
    "coref_output_folder = coref_root + \"CRel/\"\n",
    "\n",
    "training_folder, test_folder"
   ]
  },
  {
   "cell_type": "code",
   "execution_count": 6,
   "metadata": {},
   "outputs": [
    {
     "name": "stdout",
     "output_type": "stream",
     "text": [
      "902 226\n"
     ]
    }
   ],
   "source": [
    "train_fname = coref_output_folder + \"training_crel_anatagged_essays.dill\"\n",
    "with open(train_fname, \"rb\") as f:\n",
    "    pred_tagged_essays_train = dill.load(f)\n",
    "\n",
    "test_fname = coref_output_folder + \"test_crel_anatagged_essays.dill\"\n",
    "with open(test_fname, \"rb\") as f:\n",
    "    pred_tagged_essays_test = dill.load(f)\n",
    "    \n",
    "print(len(pred_tagged_essays_train), len(pred_tagged_essays_test))"
   ]
  },
  {
   "cell_type": "code",
   "execution_count": 9,
   "metadata": {},
   "outputs": [
    {
     "data": {
      "text/plain": [
       "1128"
      ]
     },
     "execution_count": 9,
     "metadata": {},
     "output_type": "execute_result"
    }
   ],
   "source": [
    "all_essays = pred_tagged_essays_train + pred_tagged_essays_test\n",
    "len(all_essays)"
   ]
  },
  {
   "cell_type": "code",
   "execution_count": 42,
   "metadata": {},
   "outputs": [
    {
     "data": {
      "text/plain": [
       "(167865, 377, 36, 40041)"
      ]
     },
     "execution_count": 42,
     "metadata": {},
     "output_type": "execute_result"
    }
   ],
   "source": [
    "num_words = 0\n",
    "words_with_anaphora_tag = 0\n",
    "words_with_cc = 0\n",
    "cc_with_anaphora_tag = 0\n",
    "\n",
    "for e in all_essays:\n",
    "    for sent in e.sentences:\n",
    "        for wd, tags in sent:\n",
    "            num_words +=1\n",
    "            has_cc_code = False\n",
    "            for t in tags:\n",
    "                if is_a_regular_code(t):\n",
    "                    has_cc_code = True\n",
    "                    break\n",
    "\n",
    "            if ANAPHORA in tags:\n",
    "                words_with_anaphora_tag +=1\n",
    "            \n",
    "            if has_cc_code:\n",
    "                words_with_cc += 1\n",
    "                \n",
    "            if ANAPHORA in tags and has_cc_code:\n",
    "                cc_with_anaphora_tag +=1                \n",
    "                    \n",
    "#                     reg_tally[t] += 1\n",
    "#                 if ANAPHORA in t and \"other\" not in t:\n",
    "#                     if \"->\" in t:\n",
    "#                         cr_tally[t] += 1\n",
    "#                     elif \"Anaphor:[\" in t:\n",
    "#                         cc_tally[t] += 1\n",
    "\n",
    "# reg_tags = sorted(reg_tally.keys())\n",
    "# all_ana_tags = sorted(cc_tally.keys())\n",
    "# assert len(reg_tags) == len(all_ana_tags)\n",
    "# all_ana_tags\n",
    "\n",
    "num_words, words_with_anaphora_tag, cc_with_anaphora_tag, words_with_cc"
   ]
  },
  {
   "cell_type": "code",
   "execution_count": 43,
   "metadata": {},
   "outputs": [
    {
     "name": "stdout",
     "output_type": "stream",
     "text": [
      "Words with Anaphora tags:         377,\t - 0.2246%\n",
      "Concept codes with Anaphora tags: 36,\t - 0.0899 % of cc codes, \t9.5491 % of ana codes\n"
     ]
    }
   ],
   "source": [
    "print(\"Words with Anaphora tags:         {wds_ana_cnt},\\t - {wds_ana:.4f}%\".format(\n",
    "    wds_ana_cnt=words_with_anaphora_tag, \n",
    "    wds_ana=100* words_with_anaphora_tag/num_words))\n",
    "print(\"Concept codes with Anaphora tags: {cc_ana},\\t - {cc_ana_pct:.4f} % of cc codes, \\t{wds_ana_cc_pct:.4f} % of ana codes\".format(\n",
    "    cc_ana=cc_with_anaphora_tag,\n",
    "    cc_ana_pct=100* cc_with_anaphora_tag/words_with_cc,\n",
    "    wds_ana_cc_pct=100* cc_with_anaphora_tag/words_with_anaphora_tag))"
   ]
  },
  {
   "cell_type": "code",
   "execution_count": null,
   "metadata": {},
   "outputs": [],
   "source": []
  }
 ],
 "metadata": {
  "kernelspec": {
   "display_name": "Python [conda env:phd_py36]",
   "language": "python",
   "name": "conda-env-phd_py36-py"
  },
  "language_info": {
   "codemirror_mode": {
    "name": "ipython",
    "version": 3
   },
   "file_extension": ".py",
   "mimetype": "text/x-python",
   "name": "python",
   "nbconvert_exporter": "python",
   "pygments_lexer": "ipython3",
   "version": "3.6.4"
  }
 },
 "nbformat": 4,
 "nbformat_minor": 2
}
