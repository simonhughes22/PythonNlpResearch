{
 "cells": [
  {
   "cell_type": "code",
   "execution_count": 1,
   "metadata": {},
   "outputs": [
    {
     "name": "stdout",
     "output_type": "stream",
     "text": [
      "Results Dir: /Users/simon.hughes/Google Drive/Phd/Results/\n",
      "Data Dir:    /Users/simon.hughes/Google Drive/Phd/Data/\n",
      "Root Dir:    /Users/simon.hughes/GitHub/NlpResearch/\n",
      "Public Data: /Users/simon.hughes/GitHub/NlpResearch/Data/PublicDatasets/\n"
     ]
    },
    {
     "data": {
      "text/plain": [
       "('/Users/simon.hughes/Google Drive/Phd/Data/SkinCancer/Thesis_Dataset/Training/',\n",
       " '/Users/simon.hughes/Google Drive/Phd/Data/SkinCancer/Thesis_Dataset/Test/')"
      ]
     },
     "execution_count": 1,
     "metadata": {},
     "output_type": "execute_result"
    }
   ],
   "source": [
    "from collections import defaultdict\n",
    "from typing import Any, List, Set, Tuple\n",
    "\n",
    "import dill\n",
    "import numpy as np\n",
    "import pandas as pd\n",
    "\n",
    "from Settings import Settings\n",
    "from crel_helper import get_cr_tags\n",
    "from results_procesor import is_a_regular_code\n",
    "from load_data import load_process_essays\n",
    "from window_based_tagger_config import get_config\n",
    "from wordtagginghelper import merge_dictionaries\n",
    "from BrattEssay import ANAPHORA\n",
    "\n",
    "DATASET = \"SkinCancer\" # CoralBleaching\n",
    "\n",
    "settings = Settings()\n",
    "root_folder = settings.data_directory + DATASET + \"/Thesis_Dataset/\"\n",
    "training_folder = root_folder + \"Training\" + \"/\"\n",
    "test_folder = root_folder + \"Test\" + \"/\"\n",
    "# NOTE: These predictions are generated from the \"./notebooks/SEARN/Keras - Train Tagger and Save CV Predictions For Word Tags.ipynb\" notebook\n",
    "# used as inputs to parsing model\n",
    "coref_root = root_folder + \"CoReference/\"\n",
    "coref_output_folder = coref_root + \"CRel/\"\n",
    "\n",
    "training_folder, test_folder"
   ]
  },
  {
   "cell_type": "code",
   "execution_count": 2,
   "metadata": {},
   "outputs": [
    {
     "name": "stdout",
     "output_type": "stream",
     "text": [
      "870 218\n"
     ]
    }
   ],
   "source": [
    "train_fname = coref_output_folder + \"training_crel_anatagged_essays.dill\"\n",
    "with open(train_fname, \"rb\") as f:\n",
    "    pred_tagged_essays_train = dill.load(f)\n",
    "\n",
    "test_fname = coref_output_folder + \"test_crel_anatagged_essays.dill\"\n",
    "with open(test_fname, \"rb\") as f:\n",
    "    pred_tagged_essays_test = dill.load(f)\n",
    "    \n",
    "print(len(pred_tagged_essays_train), len(pred_tagged_essays_test))"
   ]
  },
  {
   "cell_type": "code",
   "execution_count": 3,
   "metadata": {},
   "outputs": [
    {
     "data": {
      "text/plain": [
       "1088"
      ]
     },
     "execution_count": 3,
     "metadata": {},
     "output_type": "execute_result"
    }
   ],
   "source": [
    "all_essays = pred_tagged_essays_train + pred_tagged_essays_test\n",
    "len(all_essays)"
   ]
  },
  {
   "cell_type": "code",
   "execution_count": 4,
   "metadata": {},
   "outputs": [
    {
     "data": {
      "text/plain": [
       "(180873, 585, 10670, 437, 1088, 324)"
      ]
     },
     "execution_count": 4,
     "metadata": {},
     "output_type": "execute_result"
    }
   ],
   "source": [
    "num_essays = 0\n",
    "num_sents = 0\n",
    "num_words = 0\n",
    "\n",
    "words_with_anaphora_tag = 0\n",
    "sents_with_anaphora_tag = 0\n",
    "essays_with_anaphora_tag = 0\n",
    "\n",
    "words_with_cc = 0\n",
    "cc_with_anaphora_tag = 0\n",
    "words_with_crel = 0\n",
    "words_with_crel_ana = 0\n",
    "\n",
    "reg_code_sent_tally = defaultdict(int)\n",
    "ana_code_sent_tally = defaultdict(int)\n",
    "\n",
    "crel_tally = defaultdict(int)\n",
    "ana_crel_tally = defaultdict(int)\n",
    "\n",
    "for e in all_essays:\n",
    "    num_essays +=1\n",
    "    essay_has_ana = False\n",
    "    \n",
    "    for sent in e.sentences:\n",
    "        sent_has_ana = False\n",
    "        num_sents +=1\n",
    "        unique_tags = set()\n",
    "        \n",
    "        for wd, tags in sent:\n",
    "            num_words +=1\n",
    "            \n",
    "            has_cc_code = False\n",
    "            has_crel_code = False\n",
    "            has_crel_ana_code = False\n",
    "            \n",
    "            for t in tags:\n",
    "\n",
    "                t_lower = t.lower()\n",
    "                if \"other\" in t_lower or \"rhet\" in t_lower or \"change\" in t_lower:\n",
    "                    continue\n",
    "                unique_tags.add(t)\n",
    "                \n",
    "                if is_a_regular_code(t):\n",
    "                    has_cc_code = True\n",
    "                    \n",
    "                if \"->\" in t:\n",
    "                    has_crel_code = True\n",
    "                    if ANAPHORA in t:\n",
    "                        has_crel_ana_code = True\n",
    "\n",
    "            if ANAPHORA in tags:\n",
    "                words_with_anaphora_tag +=1\n",
    "                essay_has_ana = True\n",
    "                sent_has_ana = True\n",
    "            \n",
    "            if has_cc_code:\n",
    "                words_with_cc += 1\n",
    "                \n",
    "            if has_crel_code:\n",
    "                words_with_crel +=1\n",
    "            \n",
    "            if has_crel_ana_code:\n",
    "                words_with_crel_ana +=1\n",
    "                \n",
    "            if ANAPHORA in tags and has_cc_code:\n",
    "                cc_with_anaphora_tag +=1\n",
    "\n",
    "        # end for each word in sentence\n",
    "        if sent_has_ana:\n",
    "            sents_with_anaphora_tag +=1\n",
    "        \n",
    "        for t in unique_tags:\n",
    "            if \"->\" in t:\n",
    "                prefix = \"Anaphor[\"\n",
    "                if prefix in t:\n",
    "                    k_fixed = t.replace(prefix, \"\").replace(\"]\",\"\")\n",
    "                    if ANAPHORA not in k_fixed:\n",
    "                        l,r = k_fixed.split(\"->\")\n",
    "                        l_code = l.replace(\"Causer:\",\"\")\n",
    "                        r_code = r.replace(\"Result:\",\"\")\n",
    "                        assert is_a_regular_code(l_code), l_code\n",
    "                        assert is_a_regular_code(r_code), r_code\n",
    "                        ana_crel_tally[t] +=1\n",
    "                elif ANAPHORA not in t:\n",
    "                    crel_tally[t] +=1\n",
    "            else: # \"->\" not in t\n",
    "                assert \"->\" not in t\n",
    "                if \"Anaphor:[\" in t:\n",
    "                    ana_code_sent_tally[t] +=1\n",
    "                elif is_a_regular_code(t):\n",
    "                    reg_code_sent_tally[t]+=1\n",
    "                \n",
    "    # end for each sentence\n",
    "    if essay_has_ana:\n",
    "        essays_with_anaphora_tag +=1\n",
    "                    \n",
    "num_words, words_with_anaphora_tag, num_sents, sents_with_anaphora_tag, num_essays, essays_with_anaphora_tag"
   ]
  },
  {
   "cell_type": "markdown",
   "metadata": {},
   "source": [
    "## Look at Anaphora Tags without Associated Codes"
   ]
  },
  {
   "cell_type": "code",
   "execution_count": 7,
   "metadata": {},
   "outputs": [
    {
     "data": {
      "text/plain": [
       "(585, 585, 0)"
      ]
     },
     "execution_count": 7,
     "metadata": {},
     "output_type": "execute_result"
    }
   ],
   "source": [
    "count_ana = 0\n",
    "count_ana_code = 0\n",
    "count_ana_no_code = 0\n",
    "\n",
    "all_tags = defaultdict(int)\n",
    "\n",
    "for e in all_essays:\n",
    "    for sent in e.sentences:        \n",
    "        for wd, tags in sent:\n",
    "            has_ana = \"Anaphor\" in tags\n",
    "            has_ana_code = False\n",
    "            for t in tags:\n",
    "                all_tags[t] +=1\n",
    "                if \"Anaphor:[\" in t:\n",
    "                    has_ana_code = True\n",
    "            if has_ana:\n",
    "                count_ana +=1\n",
    "            if has_ana_code:\n",
    "                count_ana_code += 1\n",
    "            if has_ana and not has_ana_code:\n",
    "                count_ana_no_code += 1\n",
    "            \n",
    "count_ana, count_ana_code, count_ana_no_code"
   ]
  },
  {
   "cell_type": "code",
   "execution_count": 8,
   "metadata": {},
   "outputs": [
    {
     "data": {
      "text/plain": [
       "defaultdict(int,\n",
       "            {'1': 5431,\n",
       "             '11': 415,\n",
       "             '12': 411,\n",
       "             '2': 5528,\n",
       "             '3': 3474,\n",
       "             '4': 2740,\n",
       "             '5': 4844,\n",
       "             '50': 10948,\n",
       "             '6': 2898,\n",
       "             'Anaphor': 585,\n",
       "             'Anaphor:[11]': 40,\n",
       "             'Anaphor:[12]': 1,\n",
       "             'Anaphor:[1]': 71,\n",
       "             'Anaphor:[2]': 25,\n",
       "             'Anaphor:[3]': 56,\n",
       "             'Anaphor:[4]': 22,\n",
       "             'Anaphor:[50]': 256,\n",
       "             'Anaphor:[5]': 79,\n",
       "             'Anaphor:[6]': 30,\n",
       "             'Anaphor:[rhetorical]': 7,\n",
       "             'COMPILED': 69,\n",
       "             'Causer': 17970,\n",
       "             'Causer:1': 5018,\n",
       "             'Causer:1->Result:2': 7004,\n",
       "             'Causer:1->Result:3': 1133,\n",
       "             'Causer:1->Result:4': 69,\n",
       "             'Causer:1->Result:5': 347,\n",
       "             'Causer:1->Result:50': 6528,\n",
       "             'Causer:1->Result:Anaphor': 394,\n",
       "             'Causer:1->Result:Anaphor[2]': 6,\n",
       "             'Causer:1->Result:Anaphor[3]': 18,\n",
       "             'Causer:1->Result:Anaphor[50]': 370,\n",
       "             'Causer:1->Result:rhetorical': 9,\n",
       "             'Causer:11': 441,\n",
       "             'Causer:11->Result:12': 1437,\n",
       "             'Causer:11->Result:3': 173,\n",
       "             'Causer:11->Result:4': 16,\n",
       "             'Causer:11->Result:5': 53,\n",
       "             'Causer:11->Result:50': 827,\n",
       "             'Causer:11->Result:Anaphor': 61,\n",
       "             'Causer:11->Result:Anaphor[12]': 3,\n",
       "             'Causer:11->Result:Anaphor[3]': 5,\n",
       "             'Causer:11->Result:Anaphor[50]': 53,\n",
       "             'Causer:12': 499,\n",
       "             'Causer:12->Result:12': 5,\n",
       "             'Causer:12->Result:2': 131,\n",
       "             'Causer:12->Result:3': 1733,\n",
       "             'Causer:12->Result:4': 14,\n",
       "             'Causer:12->Result:5': 30,\n",
       "             'Causer:12->Result:50': 202,\n",
       "             'Causer:12->Result:Anaphor': 44,\n",
       "             'Causer:12->Result:Anaphor[2]': 3,\n",
       "             'Causer:12->Result:Anaphor[3]': 15,\n",
       "             'Causer:12->Result:Anaphor[50]': 26,\n",
       "             'Causer:2': 3268,\n",
       "             'Causer:2->Result:1': 28,\n",
       "             'Causer:2->Result:11': 8,\n",
       "             'Causer:2->Result:2': 24,\n",
       "             'Causer:2->Result:3': 2503,\n",
       "             'Causer:2->Result:4': 845,\n",
       "             'Causer:2->Result:5': 1205,\n",
       "             'Causer:2->Result:50': 7805,\n",
       "             'Causer:2->Result:6': 59,\n",
       "             'Causer:2->Result:Anaphor': 602,\n",
       "             'Causer:2->Result:Anaphor[1]': 8,\n",
       "             'Causer:2->Result:Anaphor[3]': 29,\n",
       "             'Causer:2->Result:Anaphor[4]': 36,\n",
       "             'Causer:2->Result:Anaphor[50]': 483,\n",
       "             'Causer:2->Result:Anaphor[5]': 43,\n",
       "             'Causer:2->Result:Anaphor[rhetorical]': 10,\n",
       "             'Causer:2->Result:rhetorical': 16,\n",
       "             'Causer:3': 2099,\n",
       "             'Causer:3->Result:11': 12,\n",
       "             'Causer:3->Result:12': 6,\n",
       "             'Causer:3->Result:2': 19,\n",
       "             'Causer:3->Result:4': 2677,\n",
       "             'Causer:3->Result:5': 394,\n",
       "             'Causer:3->Result:50': 4432,\n",
       "             'Causer:3->Result:6': 397,\n",
       "             'Causer:3->Result:Anaphor': 321,\n",
       "             'Causer:3->Result:Anaphor[4]': 21,\n",
       "             'Causer:3->Result:Anaphor[50]': 297,\n",
       "             'Causer:3->Result:Anaphor[6]': 3,\n",
       "             'Causer:3->Result:rhetorical': 11,\n",
       "             'Causer:4': 1625,\n",
       "             'Causer:4->Result:11': 7,\n",
       "             'Causer:4->Result:12': 8,\n",
       "             'Causer:4->Result:4': 17,\n",
       "             'Causer:4->Result:5': 2388,\n",
       "             'Causer:4->Result:50': 1254,\n",
       "             'Causer:4->Result:6': 674,\n",
       "             'Causer:4->Result:Anaphor': 208,\n",
       "             'Causer:4->Result:Anaphor[50]': 121,\n",
       "             'Causer:4->Result:Anaphor[5]': 80,\n",
       "             'Causer:4->Result:Anaphor[rhetorical]': 7,\n",
       "             'Causer:5': 3142,\n",
       "             'Causer:5->Result:11': 4,\n",
       "             'Causer:5->Result:12': 13,\n",
       "             'Causer:5->Result:4': 555,\n",
       "             'Causer:5->Result:5': 74,\n",
       "             'Causer:5->Result:50': 10461,\n",
       "             'Causer:5->Result:6': 6160,\n",
       "             'Causer:5->Result:Anaphor': 687,\n",
       "             'Causer:5->Result:Anaphor[50]': 659,\n",
       "             'Causer:5->Result:Anaphor[6]': 28,\n",
       "             'Causer:5->Result:rhetorical': 9,\n",
       "             'Causer:50': 26,\n",
       "             'Causer:50->Result:1': 6,\n",
       "             'Causer:50->Result:2': 51,\n",
       "             'Causer:50->Result:3': 26,\n",
       "             'Causer:50->Result:4': 12,\n",
       "             'Causer:50->Result:5': 35,\n",
       "             'Causer:50->Result:other': 12,\n",
       "             'Causer:6': 1542,\n",
       "             'Causer:6->Result:3': 6,\n",
       "             'Causer:6->Result:4': 24,\n",
       "             'Causer:6->Result:5': 102,\n",
       "             'Causer:6->Result:50': 4252,\n",
       "             'Causer:6->Result:Anaphor': 78,\n",
       "             'Causer:6->Result:Anaphor[50]': 67,\n",
       "             'Causer:6->Result:Anaphor[5]': 11,\n",
       "             'Causer:Anaphor': 284,\n",
       "             'Causer:Anaphor->Result:1': 6,\n",
       "             'Causer:Anaphor->Result:11': 4,\n",
       "             'Causer:Anaphor->Result:12': 198,\n",
       "             'Causer:Anaphor->Result:2': 170,\n",
       "             'Causer:Anaphor->Result:3': 111,\n",
       "             'Causer:Anaphor->Result:4': 189,\n",
       "             'Causer:Anaphor->Result:5': 120,\n",
       "             'Causer:Anaphor->Result:50': 645,\n",
       "             'Causer:Anaphor->Result:6': 441,\n",
       "             'Causer:Anaphor->Result:Anaphor': 17,\n",
       "             'Causer:Anaphor->Result:Anaphor[50]': 7,\n",
       "             'Causer:Anaphor->Result:Anaphor[5]': 10,\n",
       "             'Causer:Anaphor[11]->Result:12': 192,\n",
       "             'Causer:Anaphor[11]->Result:50': 12,\n",
       "             'Causer:Anaphor[1]->Result:2': 170,\n",
       "             'Causer:Anaphor[1]->Result:3': 89,\n",
       "             'Causer:Anaphor[1]->Result:4': 14,\n",
       "             'Causer:Anaphor[1]->Result:50': 58,\n",
       "             'Causer:Anaphor[2]->Result:3': 22,\n",
       "             'Causer:Anaphor[2]->Result:4': 5,\n",
       "             'Causer:Anaphor[2]->Result:5': 58,\n",
       "             'Causer:Anaphor[2]->Result:50': 119,\n",
       "             'Causer:Anaphor[2]->Result:6': 8,\n",
       "             'Causer:Anaphor[3]->Result:12': 6,\n",
       "             'Causer:Anaphor[3]->Result:4': 136,\n",
       "             'Causer:Anaphor[3]->Result:5': 22,\n",
       "             'Causer:Anaphor[3]->Result:50': 98,\n",
       "             'Causer:Anaphor[3]->Result:6': 20,\n",
       "             'Causer:Anaphor[3]->Result:Anaphor': 10,\n",
       "             'Causer:Anaphor[4]->Result:5': 14,\n",
       "             'Causer:Anaphor[4]->Result:50': 44,\n",
       "             'Causer:Anaphor[4]->Result:6': 59,\n",
       "             'Causer:Anaphor[50]->Result:1': 6,\n",
       "             'Causer:Anaphor[50]->Result:5': 20,\n",
       "             'Causer:Anaphor[5]->Result:11': 4,\n",
       "             'Causer:Anaphor[5]->Result:4': 34,\n",
       "             'Causer:Anaphor[5]->Result:5': 6,\n",
       "             'Causer:Anaphor[5]->Result:50': 190,\n",
       "             'Causer:Anaphor[5]->Result:6': 354,\n",
       "             'Causer:Anaphor[5]->Result:Anaphor': 7,\n",
       "             'Causer:Anaphor[6]->Result:50': 132,\n",
       "             'Causer:rhetorical': 26,\n",
       "             'Causer:rhetorical->Result:50': 96,\n",
       "             'Result': 19507,\n",
       "             'Result:1': 5,\n",
       "             'Result:11': 10,\n",
       "             'Result:12': 321,\n",
       "             'Result:2': 2390,\n",
       "             'Result:3': 1786,\n",
       "             'Result:4': 1692,\n",
       "             'Result:5': 808,\n",
       "             'Result:50': 9201,\n",
       "             'Result:6': 2984,\n",
       "             'Result:Anaphor': 299,\n",
       "             'Result:other': 7,\n",
       "             'Result:rhetorical': 6,\n",
       "             'explicit': 6626,\n",
       "             'other': 7,\n",
       "             'rhetorical': 32})"
      ]
     },
     "execution_count": 8,
     "metadata": {},
     "output_type": "execute_result"
    }
   ],
   "source": [
    "all_tags"
   ]
  },
  {
   "cell_type": "code",
   "execution_count": 5,
   "metadata": {},
   "outputs": [
    {
     "data": {
      "text/plain": [
       "defaultdict(int,\n",
       "            {'1': 1342,\n",
       "             '11': 176,\n",
       "             '12': 169,\n",
       "             '2': 1745,\n",
       "             '3': 1146,\n",
       "             '4': 718,\n",
       "             '5': 2181,\n",
       "             '50': 3024,\n",
       "             '6': 631})"
      ]
     },
     "execution_count": 5,
     "metadata": {},
     "output_type": "execute_result"
    }
   ],
   "source": [
    "reg_code_sent_tally"
   ]
  },
  {
   "cell_type": "code",
   "execution_count": 6,
   "metadata": {},
   "outputs": [
    {
     "data": {
      "text/plain": [
       "defaultdict(int,\n",
       "            {'Anaphor:[11]': 36,\n",
       "             'Anaphor:[12]': 1,\n",
       "             'Anaphor:[1]': 37,\n",
       "             'Anaphor:[2]': 25,\n",
       "             'Anaphor:[3]': 41,\n",
       "             'Anaphor:[4]': 21,\n",
       "             'Anaphor:[50]': 188,\n",
       "             'Anaphor:[5]': 73,\n",
       "             'Anaphor:[6]': 23})"
      ]
     },
     "execution_count": 6,
     "metadata": {},
     "output_type": "execute_result"
    }
   ],
   "source": [
    "ana_code_sent_tally"
   ]
  },
  {
   "cell_type": "code",
   "execution_count": 7,
   "metadata": {},
   "outputs": [
    {
     "data": {
      "text/plain": [
       "defaultdict(int,\n",
       "            {'Causer:1->Result:2': 638,\n",
       "             'Causer:1->Result:3': 88,\n",
       "             'Causer:1->Result:4': 5,\n",
       "             'Causer:1->Result:5': 27,\n",
       "             'Causer:1->Result:50': 589,\n",
       "             'Causer:11->Result:12': 208,\n",
       "             'Causer:11->Result:3': 14,\n",
       "             'Causer:11->Result:4': 1,\n",
       "             'Causer:11->Result:5': 5,\n",
       "             'Causer:11->Result:50': 69,\n",
       "             'Causer:12->Result:12': 1,\n",
       "             'Causer:12->Result:2': 19,\n",
       "             'Causer:12->Result:3': 293,\n",
       "             'Causer:12->Result:4': 2,\n",
       "             'Causer:12->Result:5': 5,\n",
       "             'Causer:12->Result:50': 21,\n",
       "             'Causer:2->Result:1': 3,\n",
       "             'Causer:2->Result:11': 1,\n",
       "             'Causer:2->Result:2': 2,\n",
       "             'Causer:2->Result:3': 283,\n",
       "             'Causer:2->Result:4': 83,\n",
       "             'Causer:2->Result:5': 123,\n",
       "             'Causer:2->Result:50': 709,\n",
       "             'Causer:2->Result:6': 4,\n",
       "             'Causer:3->Result:11': 1,\n",
       "             'Causer:3->Result:12': 1,\n",
       "             'Causer:3->Result:2': 2,\n",
       "             'Causer:3->Result:4': 254,\n",
       "             'Causer:3->Result:5': 46,\n",
       "             'Causer:3->Result:50': 434,\n",
       "             'Causer:3->Result:6': 32,\n",
       "             'Causer:4->Result:11': 1,\n",
       "             'Causer:4->Result:12': 1,\n",
       "             'Causer:4->Result:4': 2,\n",
       "             'Causer:4->Result:5': 260,\n",
       "             'Causer:4->Result:50': 115,\n",
       "             'Causer:4->Result:6': 60,\n",
       "             'Causer:5->Result:11': 1,\n",
       "             'Causer:5->Result:12': 1,\n",
       "             'Causer:5->Result:4': 74,\n",
       "             'Causer:5->Result:5': 8,\n",
       "             'Causer:5->Result:50': 1023,\n",
       "             'Causer:5->Result:6': 566,\n",
       "             'Causer:50->Result:1': 1,\n",
       "             'Causer:50->Result:2': 4,\n",
       "             'Causer:50->Result:3': 2,\n",
       "             'Causer:50->Result:4': 1,\n",
       "             'Causer:50->Result:5': 4,\n",
       "             'Causer:6->Result:3': 1,\n",
       "             'Causer:6->Result:4': 2,\n",
       "             'Causer:6->Result:5': 9,\n",
       "             'Causer:6->Result:50': 450})"
      ]
     },
     "execution_count": 7,
     "metadata": {},
     "output_type": "execute_result"
    }
   ],
   "source": [
    "crel_tally"
   ]
  },
  {
   "cell_type": "code",
   "execution_count": 8,
   "metadata": {},
   "outputs": [
    {
     "data": {
      "text/plain": [
       "defaultdict(int,\n",
       "            {'Causer:1->Result:Anaphor[2]': 1,\n",
       "             'Causer:1->Result:Anaphor[3]': 2,\n",
       "             'Causer:1->Result:Anaphor[50]': 39,\n",
       "             'Causer:11->Result:Anaphor[12]': 1,\n",
       "             'Causer:11->Result:Anaphor[3]': 1,\n",
       "             'Causer:11->Result:Anaphor[50]': 5,\n",
       "             'Causer:12->Result:Anaphor[2]': 1,\n",
       "             'Causer:12->Result:Anaphor[3]': 3,\n",
       "             'Causer:12->Result:Anaphor[50]': 2,\n",
       "             'Causer:2->Result:Anaphor[1]': 1,\n",
       "             'Causer:2->Result:Anaphor[3]': 3,\n",
       "             'Causer:2->Result:Anaphor[4]': 3,\n",
       "             'Causer:2->Result:Anaphor[50]': 47,\n",
       "             'Causer:2->Result:Anaphor[5]': 5,\n",
       "             'Causer:3->Result:Anaphor[4]': 2,\n",
       "             'Causer:3->Result:Anaphor[50]': 33,\n",
       "             'Causer:3->Result:Anaphor[6]': 1,\n",
       "             'Causer:4->Result:Anaphor[50]': 8,\n",
       "             'Causer:4->Result:Anaphor[5]': 9,\n",
       "             'Causer:5->Result:Anaphor[50]': 73,\n",
       "             'Causer:5->Result:Anaphor[6]': 3,\n",
       "             'Causer:6->Result:Anaphor[50]': 5,\n",
       "             'Causer:6->Result:Anaphor[5]': 1,\n",
       "             'Causer:Anaphor[11]->Result:12': 35,\n",
       "             'Causer:Anaphor[11]->Result:50': 1,\n",
       "             'Causer:Anaphor[1]->Result:2': 21,\n",
       "             'Causer:Anaphor[1]->Result:3': 9,\n",
       "             'Causer:Anaphor[1]->Result:4': 1,\n",
       "             'Causer:Anaphor[1]->Result:50': 6,\n",
       "             'Causer:Anaphor[2]->Result:3': 3,\n",
       "             'Causer:Anaphor[2]->Result:4': 1,\n",
       "             'Causer:Anaphor[2]->Result:5': 8,\n",
       "             'Causer:Anaphor[2]->Result:50': 12,\n",
       "             'Causer:Anaphor[2]->Result:6': 1,\n",
       "             'Causer:Anaphor[3]->Result:12': 1,\n",
       "             'Causer:Anaphor[3]->Result:4': 17,\n",
       "             'Causer:Anaphor[3]->Result:5': 4,\n",
       "             'Causer:Anaphor[3]->Result:50': 11,\n",
       "             'Causer:Anaphor[3]->Result:6': 2,\n",
       "             'Causer:Anaphor[4]->Result:5': 2,\n",
       "             'Causer:Anaphor[4]->Result:50': 7,\n",
       "             'Causer:Anaphor[4]->Result:6': 5,\n",
       "             'Causer:Anaphor[50]->Result:1': 1,\n",
       "             'Causer:Anaphor[50]->Result:5': 2,\n",
       "             'Causer:Anaphor[5]->Result:11': 1,\n",
       "             'Causer:Anaphor[5]->Result:4': 7,\n",
       "             'Causer:Anaphor[5]->Result:5': 1,\n",
       "             'Causer:Anaphor[5]->Result:50': 19,\n",
       "             'Causer:Anaphor[5]->Result:6': 26,\n",
       "             'Causer:Anaphor[6]->Result:50': 17})"
      ]
     },
     "execution_count": 8,
     "metadata": {},
     "output_type": "execute_result"
    }
   ],
   "source": [
    "ana_crel_tally"
   ]
  },
  {
   "cell_type": "code",
   "execution_count": 9,
   "metadata": {},
   "outputs": [
    {
     "data": {
      "text/plain": [
       "(11132, 445, 3.8438)"
      ]
     },
     "execution_count": 9,
     "metadata": {},
     "output_type": "execute_result"
    }
   ],
   "source": [
    "sum_reg_code = sum(reg_code_sent_tally.values())\n",
    "sum_ana_code = sum(ana_code_sent_tally.values())\n",
    "sum_reg_code, sum_ana_code, round(100* sum_ana_code/(sum_ana_code+sum_reg_code),4)"
   ]
  },
  {
   "cell_type": "markdown",
   "metadata": {},
   "source": [
    "# Counts by Document, Sentence and Word"
   ]
  },
  {
   "cell_type": "code",
   "execution_count": 15,
   "metadata": {},
   "outputs": [],
   "source": [
    "def pct(cnt_cond, cnt):\n",
    "    return str(round(100 * (cnt_cond / cnt),2)) + \"%\"\n",
    "\n",
    "cnts = {\n",
    "    \"_Type\": \"Cnts.\",\n",
    "    \"Essays\":    essays_with_anaphora_tag,\n",
    "    \"Sentences\": sents_with_anaphora_tag,\n",
    "    \"Words\": words_with_anaphora_tag\n",
    "}\n",
    "totals = {\n",
    "    \"_Type\": \"Ttls.\",\n",
    "    \"Essays\":    num_essays,\n",
    "    \"Sentences\": num_sents,\n",
    "    \"Words\":     num_words\n",
    "}\n",
    "pcts = {\n",
    "    \"_Type\": \"Pct.\",\n",
    "    \"Essays\": pct(essays_with_anaphora_tag, num_essays),\n",
    "    \"Sentences\": pct(sents_with_anaphora_tag, num_sents),\n",
    "    \"Words\": pct(words_with_anaphora_tag, num_words)\n",
    "}\n",
    "\n",
    "df_counts = pd.DataFrame([cnts, pcts, totals])\n",
    "df_counts = df_counts.transpose()"
   ]
  },
  {
   "cell_type": "markdown",
   "metadata": {},
   "source": [
    "## Concept Codes (Sentences)"
   ]
  },
  {
   "cell_type": "code",
   "execution_count": 11,
   "metadata": {},
   "outputs": [
    {
     "data": {
      "text/plain": [
       "(11132, 445, 11577)"
      ]
     },
     "execution_count": 11,
     "metadata": {},
     "output_type": "execute_result"
    }
   ],
   "source": [
    "sum_reg_code = sum(reg_code_sent_tally.values())\n",
    "sum_ana_code = sum(ana_code_sent_tally.values())\n",
    "sum_cc_code = sum_ana_code + sum_reg_code\n",
    "sum_reg_code, sum_ana_code, sum_cc_code"
   ]
  },
  {
   "cell_type": "markdown",
   "metadata": {},
   "source": [
    "## Causal Relations (Sentences)"
   ]
  },
  {
   "cell_type": "code",
   "execution_count": 12,
   "metadata": {},
   "outputs": [
    {
     "data": {
      "text/plain": [
       "(6549, 470, 7019)"
      ]
     },
     "execution_count": 12,
     "metadata": {},
     "output_type": "execute_result"
    }
   ],
   "source": [
    "sum_reg_crel = sum(crel_tally.values())\n",
    "sum_ana_crel = sum(ana_crel_tally.values())\n",
    "sum_crel = sum_reg_crel + sum_ana_crel\n",
    "sum_reg_crel, sum_ana_crel, sum_crel"
   ]
  },
  {
   "cell_type": "code",
   "execution_count": 16,
   "metadata": {},
   "outputs": [],
   "source": [
    "cnts = {\n",
    "    \"_Type\": \"Cnts.\",\n",
    "    \"CCodes\": sum_ana_code,\n",
    "    \"CRels\": sum_ana_crel,\n",
    "}\n",
    "totals = {\n",
    "    \"_Type\": \"Ttls.\",\n",
    "    \"CCodes\": sum_cc_code,\n",
    "    \"CRels\": sum_crel,\n",
    "}\n",
    "pcts = {\n",
    "    \"_Type\": \"Pct.\",\n",
    "    \"CCodes\": pct(sum_ana_code, sum_cc_code),\n",
    "    \"CRels\": pct(sum_ana_crel,  sum_crel),\n",
    "}\n",
    "\n",
    "df_codes = pd.DataFrame([cnts, pcts, totals])\n",
    "df_codes = df_codes.transpose()"
   ]
  },
  {
   "cell_type": "markdown",
   "metadata": {},
   "source": [
    "# Frequencies"
   ]
  },
  {
   "cell_type": "code",
   "execution_count": 17,
   "metadata": {},
   "outputs": [
    {
     "data": {
      "text/html": [
       "<div>\n",
       "<table border=\"1\" class=\"dataframe\">\n",
       "  <thead>\n",
       "    <tr style=\"text-align: right;\">\n",
       "      <th></th>\n",
       "      <th>0</th>\n",
       "      <th>1</th>\n",
       "      <th>2</th>\n",
       "    </tr>\n",
       "  </thead>\n",
       "  <tbody>\n",
       "    <tr>\n",
       "      <th>Essays</th>\n",
       "      <td>324</td>\n",
       "      <td>29.78%</td>\n",
       "      <td>1088</td>\n",
       "    </tr>\n",
       "    <tr>\n",
       "      <th>Sentences</th>\n",
       "      <td>437</td>\n",
       "      <td>4.1%</td>\n",
       "      <td>10670</td>\n",
       "    </tr>\n",
       "    <tr>\n",
       "      <th>Words</th>\n",
       "      <td>585</td>\n",
       "      <td>0.32%</td>\n",
       "      <td>180873</td>\n",
       "    </tr>\n",
       "    <tr>\n",
       "      <th>_Type</th>\n",
       "      <td>Cnts.</td>\n",
       "      <td>Pct.</td>\n",
       "      <td>Ttls.</td>\n",
       "    </tr>\n",
       "  </tbody>\n",
       "</table>\n",
       "</div>"
      ],
      "text/plain": [
       "               0       1       2\n",
       "Essays       324  29.78%    1088\n",
       "Sentences    437    4.1%   10670\n",
       "Words        585   0.32%  180873\n",
       "_Type      Cnts.    Pct.   Ttls."
      ]
     },
     "execution_count": 17,
     "metadata": {},
     "output_type": "execute_result"
    }
   ],
   "source": [
    "df_counts"
   ]
  },
  {
   "cell_type": "markdown",
   "metadata": {},
   "source": [
    "# Codes"
   ]
  },
  {
   "cell_type": "code",
   "execution_count": 18,
   "metadata": {},
   "outputs": [
    {
     "data": {
      "text/html": [
       "<div>\n",
       "<table border=\"1\" class=\"dataframe\">\n",
       "  <thead>\n",
       "    <tr style=\"text-align: right;\">\n",
       "      <th></th>\n",
       "      <th>0</th>\n",
       "      <th>1</th>\n",
       "      <th>2</th>\n",
       "    </tr>\n",
       "  </thead>\n",
       "  <tbody>\n",
       "    <tr>\n",
       "      <th>CCodes</th>\n",
       "      <td>445</td>\n",
       "      <td>3.84%</td>\n",
       "      <td>11577</td>\n",
       "    </tr>\n",
       "    <tr>\n",
       "      <th>CRels</th>\n",
       "      <td>470</td>\n",
       "      <td>6.7%</td>\n",
       "      <td>7019</td>\n",
       "    </tr>\n",
       "    <tr>\n",
       "      <th>_Type</th>\n",
       "      <td>Cnts.</td>\n",
       "      <td>Pct.</td>\n",
       "      <td>Ttls.</td>\n",
       "    </tr>\n",
       "  </tbody>\n",
       "</table>\n",
       "</div>"
      ],
      "text/plain": [
       "            0      1      2\n",
       "CCodes    445  3.84%  11577\n",
       "CRels     470   6.7%   7019\n",
       "_Type   Cnts.   Pct.  Ttls."
      ]
     },
     "execution_count": 18,
     "metadata": {},
     "output_type": "execute_result"
    }
   ],
   "source": [
    "df_codes"
   ]
  },
  {
   "cell_type": "markdown",
   "metadata": {},
   "source": [
    "# Compute CRels that Cross Sentences"
   ]
  },
  {
   "cell_type": "code",
   "execution_count": 21,
   "metadata": {},
   "outputs": [
    {
     "data": {
      "text/plain": [
       "(378, 7019, '5.39% cross sentence non ana relations')"
      ]
     },
     "execution_count": 21,
     "metadata": {},
     "output_type": "execute_result"
    }
   ],
   "source": [
    "cross_sent_crel_count = 0\n",
    "prefix = \"Anaphor[\"\n",
    "\n",
    "for e in all_essays:\n",
    "    for sent in e.sentences:\n",
    "        unique_tags = set()\n",
    "        all_non_cr_tags = set()\n",
    "        \n",
    "        for wd, tags in sent:            \n",
    "            for t in tags:\n",
    "\n",
    "                t_lower = t.lower()\n",
    "                if \"other\" in t_lower or \"rhet\" in t_lower or \"change\" in t_lower:\n",
    "                    continue\n",
    "                unique_tags.add(t)\n",
    "                                    \n",
    "                if \"->\" not in t:                \n",
    "                    all_non_cr_tags.add(t)\n",
    "\n",
    "        unique_crels = set()\n",
    "        unique_ccodes = set()\n",
    "        for t in unique_tags:\n",
    "            # Causal?\n",
    "            if \"->\" in t:               \n",
    "                if prefix in t:\n",
    "                    k_fixed = t.replace(prefix, \"\").replace(\"]\",\"\")\n",
    "                    if ANAPHORA not in k_fixed:\n",
    "                        unique_crels.add(t)\n",
    "                    else:\n",
    "                        # ignore ones like this - Causer:Anaphor->Result:Anaphor[50]\n",
    "                        pass\n",
    "                elif ANAPHORA not in t:\n",
    "                    unique_crels.add(t)\n",
    "            else: # \"->\" not in t\n",
    "                assert \"->\" not in t\n",
    "                if \"Anaphor:[\" in t:\n",
    "                    unique_ccodes.add(t.replace(\":\",\"\")) # Anaphor tags have a subltely different pattern\n",
    "                elif is_a_regular_code(t):\n",
    "                    unique_ccodes.add(t)\n",
    "                elif \"Causer:\" in t:\n",
    "                    fixed = t.replace(\"Causer:\",\"\")\n",
    "                    if is_a_regular_code(fixed):\n",
    "                        unique_ccodes.add(fixed)\n",
    "                elif \"Result:\" in t:\n",
    "                    fixed = t.replace(\"Result:\",\"\")\n",
    "                    if is_a_regular_code(fixed):\n",
    "                        unique_ccodes.add(fixed)\n",
    "        \n",
    "        for crel in unique_crels:\n",
    "            if prefix in crel:\n",
    "                continue\n",
    "            l,r = crel.replace(\"Causer:\",\"\").replace(\"Result:\",\"\").split(\"->\")  \n",
    "            assert l\n",
    "            assert r\n",
    "            # MOST of them exist because there is also a crel including an anaphora. So ignore these when computing these counts\n",
    "            if l not in unique_ccodes and r not in unique_ccodes:\n",
    "                lhs, rhs = crel.split(\"->\")\n",
    "                ana_lhs = lhs.replace(l, \"Anaphor[{code}]\".format(code=l))\n",
    "                ana_rhs = rhs.replace(r, \"Anaphor[{code}]\".format(code=r))\n",
    "                crel_ana_l = ana_lhs + \"->\" + rhs\n",
    "                if crel_ana_l in unique_crels:\n",
    "                    continue\n",
    "                crel_ana_r = lhs + \"->\" + ana_rhs\n",
    "                if crel_ana_r in unique_crels:\n",
    "                    continue\n",
    "                crel_ana_both = ana_lhs + \"->\" + ana_rhs\n",
    "                if crel_ana_both in unique_crels:\n",
    "                    continue\n",
    "#                 print(\"|{l},{r}|\".format(l=l,r=r).ljust(10), \"\\t\", crel.ljust(20), \"\\t\", (\"|\".join(unique_ccodes)).ljust(30), \"  \", \" | \".join(unique_crels))\n",
    "                cross_sent_crel_count +=1    \n",
    "            elif l not in unique_ccodes:             \n",
    "                # need to handle 5 and 5b\n",
    "                crel_ana = crel.replace(l, \"Anaphor[{code}]\".format(code=l), 1) # only replate the first occurence\n",
    "                if crel_ana in unique_crels:\n",
    "                    continue\n",
    "#                 print(\"|{code}|\".format(code=l).ljust(10), \"\\t\", crel.ljust(20), \"\\t\", (\"|\".join(unique_ccodes)).ljust(30), \"  \", \" | \".join(unique_crels))\n",
    "                cross_sent_crel_count +=1\n",
    "            elif r not in unique_ccodes: #elif - don't count twice if both\n",
    "                lhs, rhs = crel.split(\"->\")\n",
    "                ana_rhs = rhs.replace(r, \"Anaphor[{code}]\".format(code=r))\n",
    "                crel_ana = lhs + \"->\" + ana_rhs\n",
    "                if crel_ana in unique_crels:\n",
    "                    continue\n",
    "#                 print(\"|{code}|\".format(code=r).ljust(10), \"\\t\", crel.ljust(20), \"\\t\", (\"|\".join(unique_ccodes)).ljust(30), \"  \", \" | \".join(unique_crels), \"\\t\\t\", crel_ana)\n",
    "                cross_sent_crel_count +=1\n",
    "\n",
    "cross_sent_crel_count, sum_crel , str(round(100 * (cross_sent_crel_count / sum_crel),2)) + \"% cross sentence non ana relations\""
   ]
  },
  {
   "cell_type": "code",
   "execution_count": null,
   "metadata": {},
   "outputs": [],
   "source": []
  }
 ],
 "metadata": {
  "kernelspec": {
   "display_name": "Python [conda env:phd_py36]",
   "language": "python",
   "name": "conda-env-phd_py36-py"
  },
  "language_info": {
   "codemirror_mode": {
    "name": "ipython",
    "version": 3
   },
   "file_extension": ".py",
   "mimetype": "text/x-python",
   "name": "python",
   "nbconvert_exporter": "python",
   "pygments_lexer": "ipython3",
   "version": "3.6.4"
  }
 },
 "nbformat": 4,
 "nbformat_minor": 2
}
