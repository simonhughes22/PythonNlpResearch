{
 "cells": [
  {
   "cell_type": "code",
   "execution_count": 1,
   "metadata": {},
   "outputs": [
    {
     "name": "stdout",
     "output_type": "stream",
     "text": [
      "Results Dir: /Users/simon.hughes/Google Drive/Phd/Results/\n",
      "Data Dir:    /Users/simon.hughes/Google Drive/Phd/Data/\n",
      "Root Dir:    /Users/simon.hughes/GitHub/NlpResearch/\n",
      "Public Data: /Users/simon.hughes/GitHub/NlpResearch/Data/PublicDatasets/\n"
     ]
    },
    {
     "data": {
      "text/plain": [
       "('/Users/simon.hughes/Google Drive/Phd/Data/SkinCancer/Thesis_Dataset/Training/',\n",
       " '/Users/simon.hughes/Google Drive/Phd/Data/SkinCancer/Thesis_Dataset/Test/')"
      ]
     },
     "execution_count": 1,
     "metadata": {},
     "output_type": "execute_result"
    }
   ],
   "source": [
    "from collections import defaultdict\n",
    "from typing import Any, List, Set, Tuple\n",
    "\n",
    "import dill\n",
    "import numpy as np\n",
    "import pandas as pd\n",
    "\n",
    "from Settings import Settings\n",
    "from crel_helper import get_cr_tags\n",
    "from results_procesor import is_a_regular_code\n",
    "from load_data import load_process_essays\n",
    "from window_based_tagger_config import get_config\n",
    "from wordtagginghelper import merge_dictionaries\n",
    "from BrattEssay import ANAPHORA\n",
    "\n",
    "DATASET = \"SkinCancer\" # CoralBleaching\n",
    "\n",
    "settings = Settings()\n",
    "root_folder = settings.data_directory + DATASET + \"/Thesis_Dataset/\"\n",
    "training_folder = root_folder + \"Training\" + \"/\"\n",
    "test_folder = root_folder + \"Test\" + \"/\"\n",
    "# NOTE: These predictions are generated from the \"./notebooks/SEARN/Keras - Train Tagger and Save CV Predictions For Word Tags.ipynb\" notebook\n",
    "# used as inputs to parsing model\n",
    "coref_root = root_folder + \"CoReference/\"\n",
    "coref_output_folder = coref_root + \"CRel/\"\n",
    "\n",
    "training_folder, test_folder"
   ]
  },
  {
   "cell_type": "code",
   "execution_count": 2,
   "metadata": {},
   "outputs": [
    {
     "name": "stdout",
     "output_type": "stream",
     "text": [
      "870 218\n"
     ]
    }
   ],
   "source": [
    "train_fname = coref_output_folder + \"training_crel_anatagged_essays.dill\"\n",
    "with open(train_fname, \"rb\") as f:\n",
    "    pred_tagged_essays_train = dill.load(f)\n",
    "\n",
    "test_fname = coref_output_folder + \"test_crel_anatagged_essays.dill\"\n",
    "with open(test_fname, \"rb\") as f:\n",
    "    pred_tagged_essays_test = dill.load(f)\n",
    "    \n",
    "print(len(pred_tagged_essays_train), len(pred_tagged_essays_test))"
   ]
  },
  {
   "cell_type": "code",
   "execution_count": 3,
   "metadata": {},
   "outputs": [
    {
     "data": {
      "text/plain": [
       "1088"
      ]
     },
     "execution_count": 3,
     "metadata": {},
     "output_type": "execute_result"
    }
   ],
   "source": [
    "all_essays = pred_tagged_essays_train + pred_tagged_essays_test\n",
    "len(all_essays)"
   ]
  },
  {
   "cell_type": "code",
   "execution_count": 4,
   "metadata": {},
   "outputs": [
    {
     "data": {
      "text/plain": [
       "(180873, 585, 10670, 437, 1088, 324)"
      ]
     },
     "execution_count": 4,
     "metadata": {},
     "output_type": "execute_result"
    }
   ],
   "source": [
    "num_essays = 0\n",
    "num_sents = 0\n",
    "num_words = 0\n",
    "\n",
    "words_with_anaphora_tag = 0\n",
    "sents_with_anaphora_tag = 0\n",
    "essays_with_anaphora_tag = 0\n",
    "\n",
    "words_with_cc = 0\n",
    "cc_with_anaphora_tag = 0\n",
    "words_with_crel = 0\n",
    "words_with_crel_ana = 0\n",
    "\n",
    "reg_code_sent_tally = defaultdict(int)\n",
    "ana_code_sent_tally = defaultdict(int)\n",
    "\n",
    "crel_tally = defaultdict(int)\n",
    "ana_crel_tally = defaultdict(int)\n",
    "\n",
    "for e in all_essays:\n",
    "    num_essays +=1\n",
    "    essay_has_ana = False\n",
    "    \n",
    "    for sent in e.sentences:\n",
    "        sent_has_ana = False\n",
    "        num_sents +=1\n",
    "        unique_tags = set()\n",
    "        \n",
    "        for wd, tags in sent:\n",
    "            num_words +=1\n",
    "            \n",
    "            has_cc_code = False\n",
    "            has_crel_code = False\n",
    "            has_crel_ana_code = False\n",
    "            \n",
    "            for t in tags:\n",
    "\n",
    "                t_lower = t.lower()\n",
    "                if \"other\" in t_lower or \"rhet\" in t_lower or \"change\" in t_lower:\n",
    "                    continue\n",
    "                unique_tags.add(t)\n",
    "                \n",
    "                if is_a_regular_code(t):\n",
    "                    has_cc_code = True\n",
    "                    \n",
    "                if \"->\" in t:\n",
    "                    has_crel_code = True\n",
    "                    if ANAPHORA in t:\n",
    "                        has_crel_ana_code = True\n",
    "\n",
    "            if ANAPHORA in tags:\n",
    "                words_with_anaphora_tag +=1\n",
    "                essay_has_ana = True\n",
    "                sent_has_ana = True\n",
    "            \n",
    "            if has_cc_code:\n",
    "                words_with_cc += 1\n",
    "                \n",
    "            if has_crel_code:\n",
    "                words_with_crel +=1\n",
    "            \n",
    "            if has_crel_ana_code:\n",
    "                words_with_crel_ana +=1\n",
    "                \n",
    "            if ANAPHORA in tags and has_cc_code:\n",
    "                cc_with_anaphora_tag +=1\n",
    "\n",
    "        # end for each word in sentence\n",
    "        if sent_has_ana:\n",
    "            sents_with_anaphora_tag +=1\n",
    "        \n",
    "        for t in unique_tags:\n",
    "            if \"->\" in t:\n",
    "                prefix = \"Anaphor[\"\n",
    "                if prefix in t:\n",
    "                    k_fixed = t.replace(prefix, \"\").replace(\"]\",\"\")\n",
    "                    if ANAPHORA not in k_fixed:\n",
    "                        l,r = k_fixed.split(\"->\")\n",
    "                        l_code = l.replace(\"Causer:\",\"\")\n",
    "                        r_code = r.replace(\"Result:\",\"\")\n",
    "                        assert is_a_regular_code(l_code), l_code\n",
    "                        assert is_a_regular_code(r_code), r_code\n",
    "                        ana_crel_tally[t] +=1\n",
    "                elif ANAPHORA not in t:\n",
    "                    crel_tally[t] +=1\n",
    "            else: # \"->\" not in t\n",
    "                assert \"->\" not in t\n",
    "                if \"Anaphor:[\" in t:\n",
    "                    ana_code_sent_tally[t] +=1\n",
    "                elif is_a_regular_code(t):\n",
    "                    reg_code_sent_tally[t]+=1\n",
    "                \n",
    "    # end for each sentence\n",
    "    if essay_has_ana:\n",
    "        essays_with_anaphora_tag +=1\n",
    "                    \n",
    "num_words, words_with_anaphora_tag, num_sents, sents_with_anaphora_tag, num_essays, essays_with_anaphora_tag"
   ]
  },
  {
   "cell_type": "code",
   "execution_count": 5,
   "metadata": {},
   "outputs": [
    {
     "data": {
      "text/plain": [
       "defaultdict(int,\n",
       "            {'1': 1342,\n",
       "             '11': 176,\n",
       "             '12': 169,\n",
       "             '2': 1745,\n",
       "             '3': 1146,\n",
       "             '4': 718,\n",
       "             '5': 2181,\n",
       "             '50': 3024,\n",
       "             '6': 631})"
      ]
     },
     "execution_count": 5,
     "metadata": {},
     "output_type": "execute_result"
    }
   ],
   "source": [
    "reg_code_sent_tally"
   ]
  },
  {
   "cell_type": "code",
   "execution_count": 6,
   "metadata": {},
   "outputs": [
    {
     "data": {
      "text/plain": [
       "defaultdict(int,\n",
       "            {'Anaphor:[11]': 36,\n",
       "             'Anaphor:[12]': 1,\n",
       "             'Anaphor:[1]': 37,\n",
       "             'Anaphor:[2]': 25,\n",
       "             'Anaphor:[3]': 41,\n",
       "             'Anaphor:[4]': 21,\n",
       "             'Anaphor:[50]': 188,\n",
       "             'Anaphor:[5]': 73,\n",
       "             'Anaphor:[6]': 23})"
      ]
     },
     "execution_count": 6,
     "metadata": {},
     "output_type": "execute_result"
    }
   ],
   "source": [
    "ana_code_sent_tally"
   ]
  },
  {
   "cell_type": "code",
   "execution_count": 7,
   "metadata": {},
   "outputs": [
    {
     "data": {
      "text/plain": [
       "defaultdict(int,\n",
       "            {'Causer:1->Result:2': 638,\n",
       "             'Causer:1->Result:3': 88,\n",
       "             'Causer:1->Result:4': 5,\n",
       "             'Causer:1->Result:5': 27,\n",
       "             'Causer:1->Result:50': 589,\n",
       "             'Causer:11->Result:12': 208,\n",
       "             'Causer:11->Result:3': 14,\n",
       "             'Causer:11->Result:4': 1,\n",
       "             'Causer:11->Result:5': 5,\n",
       "             'Causer:11->Result:50': 69,\n",
       "             'Causer:12->Result:12': 1,\n",
       "             'Causer:12->Result:2': 19,\n",
       "             'Causer:12->Result:3': 293,\n",
       "             'Causer:12->Result:4': 2,\n",
       "             'Causer:12->Result:5': 5,\n",
       "             'Causer:12->Result:50': 21,\n",
       "             'Causer:2->Result:1': 3,\n",
       "             'Causer:2->Result:11': 1,\n",
       "             'Causer:2->Result:2': 2,\n",
       "             'Causer:2->Result:3': 283,\n",
       "             'Causer:2->Result:4': 83,\n",
       "             'Causer:2->Result:5': 123,\n",
       "             'Causer:2->Result:50': 709,\n",
       "             'Causer:2->Result:6': 4,\n",
       "             'Causer:3->Result:11': 1,\n",
       "             'Causer:3->Result:12': 1,\n",
       "             'Causer:3->Result:2': 2,\n",
       "             'Causer:3->Result:4': 254,\n",
       "             'Causer:3->Result:5': 46,\n",
       "             'Causer:3->Result:50': 434,\n",
       "             'Causer:3->Result:6': 32,\n",
       "             'Causer:4->Result:11': 1,\n",
       "             'Causer:4->Result:12': 1,\n",
       "             'Causer:4->Result:4': 2,\n",
       "             'Causer:4->Result:5': 260,\n",
       "             'Causer:4->Result:50': 115,\n",
       "             'Causer:4->Result:6': 60,\n",
       "             'Causer:5->Result:11': 1,\n",
       "             'Causer:5->Result:12': 1,\n",
       "             'Causer:5->Result:4': 74,\n",
       "             'Causer:5->Result:5': 8,\n",
       "             'Causer:5->Result:50': 1023,\n",
       "             'Causer:5->Result:6': 566,\n",
       "             'Causer:50->Result:1': 1,\n",
       "             'Causer:50->Result:2': 4,\n",
       "             'Causer:50->Result:3': 2,\n",
       "             'Causer:50->Result:4': 1,\n",
       "             'Causer:50->Result:5': 4,\n",
       "             'Causer:6->Result:3': 1,\n",
       "             'Causer:6->Result:4': 2,\n",
       "             'Causer:6->Result:5': 9,\n",
       "             'Causer:6->Result:50': 450})"
      ]
     },
     "execution_count": 7,
     "metadata": {},
     "output_type": "execute_result"
    }
   ],
   "source": [
    "crel_tally"
   ]
  },
  {
   "cell_type": "code",
   "execution_count": 8,
   "metadata": {},
   "outputs": [
    {
     "data": {
      "text/plain": [
       "defaultdict(int,\n",
       "            {'Causer:1->Result:Anaphor[2]': 1,\n",
       "             'Causer:1->Result:Anaphor[3]': 2,\n",
       "             'Causer:1->Result:Anaphor[50]': 39,\n",
       "             'Causer:11->Result:Anaphor[12]': 1,\n",
       "             'Causer:11->Result:Anaphor[3]': 1,\n",
       "             'Causer:11->Result:Anaphor[50]': 5,\n",
       "             'Causer:12->Result:Anaphor[2]': 1,\n",
       "             'Causer:12->Result:Anaphor[3]': 3,\n",
       "             'Causer:12->Result:Anaphor[50]': 2,\n",
       "             'Causer:2->Result:Anaphor[1]': 1,\n",
       "             'Causer:2->Result:Anaphor[3]': 3,\n",
       "             'Causer:2->Result:Anaphor[4]': 3,\n",
       "             'Causer:2->Result:Anaphor[50]': 47,\n",
       "             'Causer:2->Result:Anaphor[5]': 5,\n",
       "             'Causer:3->Result:Anaphor[4]': 2,\n",
       "             'Causer:3->Result:Anaphor[50]': 33,\n",
       "             'Causer:3->Result:Anaphor[6]': 1,\n",
       "             'Causer:4->Result:Anaphor[50]': 8,\n",
       "             'Causer:4->Result:Anaphor[5]': 9,\n",
       "             'Causer:5->Result:Anaphor[50]': 73,\n",
       "             'Causer:5->Result:Anaphor[6]': 3,\n",
       "             'Causer:6->Result:Anaphor[50]': 5,\n",
       "             'Causer:6->Result:Anaphor[5]': 1,\n",
       "             'Causer:Anaphor[11]->Result:12': 35,\n",
       "             'Causer:Anaphor[11]->Result:50': 1,\n",
       "             'Causer:Anaphor[1]->Result:2': 21,\n",
       "             'Causer:Anaphor[1]->Result:3': 9,\n",
       "             'Causer:Anaphor[1]->Result:4': 1,\n",
       "             'Causer:Anaphor[1]->Result:50': 6,\n",
       "             'Causer:Anaphor[2]->Result:3': 3,\n",
       "             'Causer:Anaphor[2]->Result:4': 1,\n",
       "             'Causer:Anaphor[2]->Result:5': 8,\n",
       "             'Causer:Anaphor[2]->Result:50': 12,\n",
       "             'Causer:Anaphor[2]->Result:6': 1,\n",
       "             'Causer:Anaphor[3]->Result:12': 1,\n",
       "             'Causer:Anaphor[3]->Result:4': 17,\n",
       "             'Causer:Anaphor[3]->Result:5': 4,\n",
       "             'Causer:Anaphor[3]->Result:50': 11,\n",
       "             'Causer:Anaphor[3]->Result:6': 2,\n",
       "             'Causer:Anaphor[4]->Result:5': 2,\n",
       "             'Causer:Anaphor[4]->Result:50': 7,\n",
       "             'Causer:Anaphor[4]->Result:6': 5,\n",
       "             'Causer:Anaphor[50]->Result:1': 1,\n",
       "             'Causer:Anaphor[50]->Result:5': 2,\n",
       "             'Causer:Anaphor[5]->Result:11': 1,\n",
       "             'Causer:Anaphor[5]->Result:4': 7,\n",
       "             'Causer:Anaphor[5]->Result:5': 1,\n",
       "             'Causer:Anaphor[5]->Result:50': 19,\n",
       "             'Causer:Anaphor[5]->Result:6': 26,\n",
       "             'Causer:Anaphor[6]->Result:50': 17})"
      ]
     },
     "execution_count": 8,
     "metadata": {},
     "output_type": "execute_result"
    }
   ],
   "source": [
    "ana_crel_tally"
   ]
  },
  {
   "cell_type": "code",
   "execution_count": 9,
   "metadata": {},
   "outputs": [
    {
     "data": {
      "text/plain": [
       "(11132, 445, 3.8438)"
      ]
     },
     "execution_count": 9,
     "metadata": {},
     "output_type": "execute_result"
    }
   ],
   "source": [
    "sum_reg_code = sum(reg_code_sent_tally.values())\n",
    "sum_ana_code = sum(ana_code_sent_tally.values())\n",
    "sum_reg_code, sum_ana_code, round(100* sum_ana_code/(sum_ana_code+sum_reg_code),4)"
   ]
  },
  {
   "cell_type": "markdown",
   "metadata": {},
   "source": [
    "# Counts by Document, Sentence and Word"
   ]
  },
  {
   "cell_type": "code",
   "execution_count": 15,
   "metadata": {},
   "outputs": [],
   "source": [
    "def pct(cnt_cond, cnt):\n",
    "    return str(round(100 * (cnt_cond / cnt),2)) + \"%\"\n",
    "\n",
    "cnts = {\n",
    "    \"_Type\": \"Cnts.\",\n",
    "    \"Essays\":    essays_with_anaphora_tag,\n",
    "    \"Sentences\": sents_with_anaphora_tag,\n",
    "    \"Words\": words_with_anaphora_tag\n",
    "}\n",
    "totals = {\n",
    "    \"_Type\": \"Ttls.\",\n",
    "    \"Essays\":    num_essays,\n",
    "    \"Sentences\": num_sents,\n",
    "    \"Words\":     num_words\n",
    "}\n",
    "pcts = {\n",
    "    \"_Type\": \"Pct.\",\n",
    "    \"Essays\": pct(essays_with_anaphora_tag, num_essays),\n",
    "    \"Sentences\": pct(sents_with_anaphora_tag, num_sents),\n",
    "    \"Words\": pct(words_with_anaphora_tag, num_words)\n",
    "}\n",
    "\n",
    "df_counts = pd.DataFrame([cnts, pcts, totals])\n",
    "df_counts = df_counts.transpose()"
   ]
  },
  {
   "cell_type": "markdown",
   "metadata": {},
   "source": [
    "## Concept Codes (Sentences)"
   ]
  },
  {
   "cell_type": "code",
   "execution_count": 11,
   "metadata": {},
   "outputs": [
    {
     "data": {
      "text/plain": [
       "(11132, 445, 11577)"
      ]
     },
     "execution_count": 11,
     "metadata": {},
     "output_type": "execute_result"
    }
   ],
   "source": [
    "sum_reg_code = sum(reg_code_sent_tally.values())\n",
    "sum_ana_code = sum(ana_code_sent_tally.values())\n",
    "sum_cc_code = sum_ana_code + sum_reg_code\n",
    "sum_reg_code, sum_ana_code, sum_cc_code"
   ]
  },
  {
   "cell_type": "markdown",
   "metadata": {},
   "source": [
    "## Causal Relations (Sentences)"
   ]
  },
  {
   "cell_type": "code",
   "execution_count": 12,
   "metadata": {},
   "outputs": [
    {
     "data": {
      "text/plain": [
       "(6549, 470, 7019)"
      ]
     },
     "execution_count": 12,
     "metadata": {},
     "output_type": "execute_result"
    }
   ],
   "source": [
    "sum_reg_crel = sum(crel_tally.values())\n",
    "sum_ana_crel = sum(ana_crel_tally.values())\n",
    "sum_crel = sum_reg_crel + sum_ana_crel\n",
    "sum_reg_crel, sum_ana_crel, sum_crel"
   ]
  },
  {
   "cell_type": "code",
   "execution_count": 16,
   "metadata": {},
   "outputs": [],
   "source": [
    "cnts = {\n",
    "    \"_Type\": \"Cnts.\",\n",
    "    \"CCodes\": sum_ana_code,\n",
    "    \"CRels\": sum_ana_crel,\n",
    "}\n",
    "totals = {\n",
    "    \"_Type\": \"Ttls.\",\n",
    "    \"CCodes\": sum_cc_code,\n",
    "    \"CRels\": sum_crel,\n",
    "}\n",
    "pcts = {\n",
    "    \"_Type\": \"Pct.\",\n",
    "    \"CCodes\": pct(sum_ana_code, sum_cc_code),\n",
    "    \"CRels\": pct(sum_ana_crel,  sum_crel),\n",
    "}\n",
    "\n",
    "df_codes = pd.DataFrame([cnts, pcts, totals])\n",
    "df_codes = df_codes.transpose()"
   ]
  },
  {
   "cell_type": "markdown",
   "metadata": {},
   "source": [
    "# Frequencies"
   ]
  },
  {
   "cell_type": "code",
   "execution_count": 17,
   "metadata": {},
   "outputs": [
    {
     "data": {
      "text/html": [
       "<div>\n",
       "<table border=\"1\" class=\"dataframe\">\n",
       "  <thead>\n",
       "    <tr style=\"text-align: right;\">\n",
       "      <th></th>\n",
       "      <th>0</th>\n",
       "      <th>1</th>\n",
       "      <th>2</th>\n",
       "    </tr>\n",
       "  </thead>\n",
       "  <tbody>\n",
       "    <tr>\n",
       "      <th>Essays</th>\n",
       "      <td>324</td>\n",
       "      <td>29.78%</td>\n",
       "      <td>1088</td>\n",
       "    </tr>\n",
       "    <tr>\n",
       "      <th>Sentences</th>\n",
       "      <td>437</td>\n",
       "      <td>4.1%</td>\n",
       "      <td>10670</td>\n",
       "    </tr>\n",
       "    <tr>\n",
       "      <th>Words</th>\n",
       "      <td>585</td>\n",
       "      <td>0.32%</td>\n",
       "      <td>180873</td>\n",
       "    </tr>\n",
       "    <tr>\n",
       "      <th>_Type</th>\n",
       "      <td>Cnts.</td>\n",
       "      <td>Pct.</td>\n",
       "      <td>Ttls.</td>\n",
       "    </tr>\n",
       "  </tbody>\n",
       "</table>\n",
       "</div>"
      ],
      "text/plain": [
       "               0       1       2\n",
       "Essays       324  29.78%    1088\n",
       "Sentences    437    4.1%   10670\n",
       "Words        585   0.32%  180873\n",
       "_Type      Cnts.    Pct.   Ttls."
      ]
     },
     "execution_count": 17,
     "metadata": {},
     "output_type": "execute_result"
    }
   ],
   "source": [
    "df_counts"
   ]
  },
  {
   "cell_type": "markdown",
   "metadata": {},
   "source": [
    "# Codes"
   ]
  },
  {
   "cell_type": "code",
   "execution_count": 18,
   "metadata": {},
   "outputs": [
    {
     "data": {
      "text/html": [
       "<div>\n",
       "<table border=\"1\" class=\"dataframe\">\n",
       "  <thead>\n",
       "    <tr style=\"text-align: right;\">\n",
       "      <th></th>\n",
       "      <th>0</th>\n",
       "      <th>1</th>\n",
       "      <th>2</th>\n",
       "    </tr>\n",
       "  </thead>\n",
       "  <tbody>\n",
       "    <tr>\n",
       "      <th>CCodes</th>\n",
       "      <td>445</td>\n",
       "      <td>3.84%</td>\n",
       "      <td>11577</td>\n",
       "    </tr>\n",
       "    <tr>\n",
       "      <th>CRels</th>\n",
       "      <td>470</td>\n",
       "      <td>6.7%</td>\n",
       "      <td>7019</td>\n",
       "    </tr>\n",
       "    <tr>\n",
       "      <th>_Type</th>\n",
       "      <td>Cnts.</td>\n",
       "      <td>Pct.</td>\n",
       "      <td>Ttls.</td>\n",
       "    </tr>\n",
       "  </tbody>\n",
       "</table>\n",
       "</div>"
      ],
      "text/plain": [
       "            0      1      2\n",
       "CCodes    445  3.84%  11577\n",
       "CRels     470   6.7%   7019\n",
       "_Type   Cnts.   Pct.  Ttls."
      ]
     },
     "execution_count": 18,
     "metadata": {},
     "output_type": "execute_result"
    }
   ],
   "source": [
    "df_codes"
   ]
  },
  {
   "cell_type": "code",
   "execution_count": null,
   "metadata": {},
   "outputs": [],
   "source": []
  }
 ],
 "metadata": {
  "kernelspec": {
   "display_name": "Python [conda env:phd_py36]",
   "language": "python",
   "name": "conda-env-phd_py36-py"
  },
  "language_info": {
   "codemirror_mode": {
    "name": "ipython",
    "version": 3
   },
   "file_extension": ".py",
   "mimetype": "text/x-python",
   "name": "python",
   "nbconvert_exporter": "python",
   "pygments_lexer": "ipython3",
   "version": "3.6.4"
  }
 },
 "nbformat": 4,
 "nbformat_minor": 2
}
