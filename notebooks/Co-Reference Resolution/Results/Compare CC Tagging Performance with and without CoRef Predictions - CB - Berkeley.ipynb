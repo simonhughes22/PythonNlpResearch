{
 "cells": [
  {
   "cell_type": "code",
   "execution_count": 1,
   "metadata": {},
   "outputs": [],
   "source": [
    "import dill\n",
    "import pandas as pd\n",
    "\n",
    "from Settings import Settings\n",
    "from collections import defaultdict\n",
    "from BrattEssay import ANAPHORA\n",
    "\n",
    "from results_common import get_essays, validate_essays\n",
    "from process_essays_coref import get_coref_processed_essays\n",
    "from metrics import get_metrics_raw\n",
    "from results_common import tally_essay_attributes"
   ]
  },
  {
   "cell_type": "markdown",
   "metadata": {},
   "source": [
    "# Configure\n",
    "- Set values from the hyper parameter tuning results"
   ]
  },
  {
   "cell_type": "code",
   "execution_count": 2,
   "metadata": {},
   "outputs": [],
   "source": [
    "# set optimal parameters\n",
    "filter_to_predicted_tags=True\n",
    "\n",
    "nearest_ref_only = True\n",
    "pos_ana_key =     \"None\"\n",
    "pos_ch_key  =     \"None\"\n",
    "max_ana_phrase_len = None\n",
    "max_cref_phrase_len = None\n",
    "\n",
    "DATASET = \"CoralBleaching\" # CoralBleaching | SkinCancer"
   ]
  },
  {
   "cell_type": "code",
   "execution_count": 3,
   "metadata": {},
   "outputs": [
    {
     "name": "stdout",
     "output_type": "stream",
     "text": [
      "Results Dir: /Users/simon.hughes/Google Drive/Phd/Results/\n",
      "Data Dir:    /Users/simon.hughes/Google Drive/Phd/Data/\n",
      "Root Dir:    /Users/simon.hughes/GitHub/NlpResearch/\n",
      "Public Data: /Users/simon.hughes/GitHub/NlpResearch/Data/PublicDatasets/\n"
     ]
    }
   ],
   "source": [
    "settings = Settings()\n",
    "root_folder = settings.data_directory + DATASET + \"/Thesis_Dataset/\"\n",
    "stanford_coref_predictions_folder = root_folder + \"CoReference/\"\n",
    "berkeley_coref_predictions_folder = root_folder + \"CoReference/Berkeley/\""
   ]
  },
  {
   "cell_type": "markdown",
   "metadata": {},
   "source": [
    "## Coref Folder?"
   ]
  },
  {
   "cell_type": "code",
   "execution_count": 4,
   "metadata": {},
   "outputs": [
    {
     "name": "stdout",
     "output_type": "stream",
     "text": [
      "CoRef Data:  /Users/simon.hughes/Google Drive/Phd/Data/CoralBleaching/Thesis_Dataset/CoReference/Berkeley/\n"
     ]
    }
   ],
   "source": [
    "# Which algorithm?\n",
    "coref_predictions_folder = berkeley_coref_predictions_folder\n",
    "print(\"CoRef Data: \", coref_predictions_folder)"
   ]
  },
  {
   "cell_type": "markdown",
   "metadata": {},
   "source": [
    "## Load Essays"
   ]
  },
  {
   "cell_type": "code",
   "execution_count": 5,
   "metadata": {},
   "outputs": [
    {
     "name": "stdout",
     "output_type": "stream",
     "text": [
      "Found file /Users/simon.hughes/Google Drive/Phd/Data/CoralBleaching/Thesis_Dataset/CoReference/Berkeley/training_processed.dill\n"
     ]
    }
   ],
   "source": [
    "training_essays = get_essays(coref_predictions_folder, \"Training\")"
   ]
  },
  {
   "cell_type": "code",
   "execution_count": 6,
   "metadata": {},
   "outputs": [
    {
     "name": "stdout",
     "output_type": "stream",
     "text": [
      "Found file /Users/simon.hughes/Google Drive/Phd/Data/CoralBleaching/Thesis_Dataset/CoReference/Berkeley/test_processed.dill\n"
     ]
    }
   ],
   "source": [
    "test_essays = get_essays(coref_predictions_folder, \"Test\")"
   ]
  },
  {
   "cell_type": "code",
   "execution_count": 7,
   "metadata": {},
   "outputs": [],
   "source": [
    "all_essays = training_essays + test_essays"
   ]
  },
  {
   "cell_type": "code",
   "execution_count": 8,
   "metadata": {},
   "outputs": [],
   "source": [
    "pos_tally = tally_essay_attributes(all_essays, attribute_name=\"pred_pos_tags_sentences\")"
   ]
  },
  {
   "cell_type": "markdown",
   "metadata": {},
   "source": [
    "## Look at the Anaphor Tags"
   ]
  },
  {
   "cell_type": "code",
   "execution_count": 9,
   "metadata": {},
   "outputs": [
    {
     "data": {
      "text/plain": [
       "['Anaphor:[11]',\n",
       " 'Anaphor:[12]',\n",
       " 'Anaphor:[13]',\n",
       " 'Anaphor:[14]',\n",
       " 'Anaphor:[1]',\n",
       " 'Anaphor:[2]',\n",
       " 'Anaphor:[3]',\n",
       " 'Anaphor:[4]',\n",
       " 'Anaphor:[50]',\n",
       " 'Anaphor:[5]',\n",
       " 'Anaphor:[5b]',\n",
       " 'Anaphor:[6]',\n",
       " 'Anaphor:[7]']"
      ]
     },
     "execution_count": 9,
     "metadata": {},
     "output_type": "execute_result"
    }
   ],
   "source": [
    "from results_procesor import is_a_regular_code\n",
    "\n",
    "cc_tally = defaultdict(int)\n",
    "cr_tally = defaultdict(int)\n",
    "reg_tally = defaultdict(int)\n",
    "for e in all_essays:\n",
    "    for sent in e.sentences:\n",
    "        for wd, tags in sent:\n",
    "            for t in tags:\n",
    "                if is_a_regular_code(t):\n",
    "                    reg_tally[t] += 1\n",
    "                if ANAPHORA in t and \"other\" not in t:\n",
    "                    if \"->\" in t:\n",
    "                        cr_tally[t] += 1\n",
    "                    elif \"Anaphor:[\" in t and \"rhetorical\" not in t:\n",
    "                        cc_tally[t] += 1\n",
    "\n",
    "reg_tags = sorted(reg_tally.keys())\n",
    "all_ana_tags = sorted(cc_tally.keys())\n",
    "assert len(reg_tags) == len(all_ana_tags)\n",
    "all_ana_tags"
   ]
  },
  {
   "cell_type": "code",
   "execution_count": 10,
   "metadata": {},
   "outputs": [],
   "source": [
    "NEAREST_REF_ONLY = \"Nearest reference\"\n",
    "MAX_ANA_PHRASE = \"Max ana phrase\"\n",
    "MAX_CHAIN_PHRASE = \"Max chain phrase\"\n",
    "POS_ANA_FLTR = \"POS ana filter\"\n",
    "POS_CHAIN_FLTR = \"Pos chain filter\"\n",
    "\n",
    "def blank_if_none(val):\n",
    "    return \"-\" if (val is None or not val or str(val).lower() == \"none\") else val"
   ]
  },
  {
   "cell_type": "markdown",
   "metadata": {},
   "source": [
    "## Prepare POS Tag Filters"
   ]
  },
  {
   "cell_type": "code",
   "execution_count": 11,
   "metadata": {},
   "outputs": [
    {
     "data": {
      "text/plain": [
       "({'NN', 'NNP', 'NNPS', 'NNS'},\n",
       " {'VB', 'VBD', 'VBG', 'VBN', 'VBP', 'VBZ'},\n",
       " {'PRP', 'PRP$', 'WP', 'WP$'},\n",
       " {'DT', 'PDT', 'WDT'},\n",
       " {'DT', 'PDT', 'PRP', 'PRP$', 'WDT', 'WP', 'WP$'})"
      ]
     },
     "execution_count": 11,
     "metadata": {},
     "output_type": "execute_result"
    }
   ],
   "source": [
    "pos_nouns = set([pos for pos in pos_tally.keys() if pos.strip()[:2] == \"NN\"])\n",
    "pos_verbs = set([pos for pos in pos_tally.keys() if pos.strip()[:2] == \"VB\"])\n",
    "pos_pronouns = {\"PRP\",\"PRP$\", \"WP\", \"WP$\"}\n",
    "pos_determiners = {\"DT\",\"WDT\",\"PDT\"} # the, a, which, that, etc\n",
    "pos_pron_dt = pos_pronouns | pos_determiners\n",
    "# for meaning of pen treebank tags - https://www.ling.upenn.edu/courses/Fall_2003/ling001/penn_treebank_pos.html\n",
    "pos_nouns, pos_verbs, pos_pronouns, pos_determiners, pos_pron_dt"
   ]
  },
  {
   "cell_type": "code",
   "execution_count": 12,
   "metadata": {},
   "outputs": [],
   "source": [
    "dict_pos_filter = {\n",
    "            \"None\": None,\n",
    "            \"PRN\": pos_pronouns,\n",
    "            \"DT\": pos_determiners,\n",
    "            \"PRN+DT\": pos_pron_dt\n",
    "}\n",
    "\n",
    "dict_pos_ch_filter = {\n",
    "    \"None\": None,\n",
    "    \"NN\": pos_nouns,\n",
    "    \"VB\": pos_verbs,\n",
    "    \"NN+VB\": pos_nouns | pos_verbs\n",
    "}"
   ]
  },
  {
   "cell_type": "code",
   "execution_count": 13,
   "metadata": {},
   "outputs": [],
   "source": [
    "def get_metrics(essays, format_ana_tags, filter_to_predicted_tags, expected_tags,\n",
    "                    nearest_ref_only, pos_ana_key, pos_ch_key, max_ana_phrase_len, max_cref_phrase_len):\n",
    "    \n",
    "    pos_ana_filter = dict_pos_filter[pos_ana_key]\n",
    "    pos_ch_filter  = dict_pos_ch_filter[pos_ch_key]\n",
    "    \n",
    "    proc_essays = get_coref_processed_essays(\n",
    "                            essays=essays, format_ana_tags=format_ana_tags, \n",
    "                            ner_ch_filter=None, look_back_only=True,\n",
    "                            filter_to_predicted_tags=filter_to_predicted_tags, \n",
    "                            max_ana_phrase_len=max_ana_phrase_len, max_cref_phrase_len=max_cref_phrase_len, \n",
    "                            pos_ana_filter=pos_ana_filter, pos_ch_filter=pos_ch_filter, \n",
    "                            nearest_ref_only=nearest_ref_only)\n",
    "                        \n",
    "    metrics = get_metrics_raw(proc_essays, expected_tags=expected_tags,  micro_only=True)    \n",
    "    return metrics"
   ]
  },
  {
   "cell_type": "code",
   "execution_count": 14,
   "metadata": {},
   "outputs": [],
   "source": [
    "def aggregate_metrics(metrics_dict, codes):\n",
    "    aggregate = {'data_points': 0,\n",
    "                 'num_codes': 0,             \n",
    "                 'fn': 0.0,\n",
    "                 'fp': 0.0,\n",
    "                 'tn': 0.0,\n",
    "                 'tp': 0.0}\n",
    "    for tag in sorted(codes):    \n",
    "        m = metrics_dict[tag]\n",
    "        for k in list(aggregate.keys()):\n",
    "            aggregate[k] += m[k]\n",
    "    return aggregate\n",
    "\n",
    "def combine_metrics(metricsa, metricsb):\n",
    "    aggregate = dict(metricsa)    \n",
    "    for k in list(aggregate.keys()):\n",
    "        aggregate[k] += metricsb[k]\n",
    "    return aggregate"
   ]
  },
  {
   "cell_type": "code",
   "execution_count": 15,
   "metadata": {},
   "outputs": [],
   "source": [
    "def calc_metrics_from_counts(aggregate):\n",
    "    tp, tn, fp, fn = aggregate[\"tp\"], aggregate[\"tn\"],aggregate[\"fp\"],aggregate[\"fn\"]\n",
    "    prec = tp / (tp + fp)\n",
    "    rec =  tp / (tp + fn)\n",
    "    f1 = 2 * prec * rec / (prec + rec)\n",
    "\n",
    "    return {\"f1\": f1, \"prec\": prec, \"rec\": rec}"
   ]
  },
  {
   "cell_type": "markdown",
   "metadata": {},
   "source": [
    "## Get Data From Mongo"
   ]
  },
  {
   "cell_type": "code",
   "execution_count": 16,
   "metadata": {},
   "outputs": [],
   "source": [
    "import numpy as np\n",
    "import pandas as pd\n",
    "import pymongo\n",
    "\n",
    "client = pymongo.MongoClient()\n",
    "db = client.metrics_codes"
   ]
  },
  {
   "cell_type": "code",
   "execution_count": 17,
   "metadata": {},
   "outputs": [],
   "source": [
    "from bson.son import SON # needed to ensure dictionary is ordered (python default is not)\n",
    "import hashlib\n",
    "\n",
    "def hash_feats(fts):\n",
    "    vals = fts.values\n",
    "    joined = \"|\".join(map(lambda s: str(s),vals)).encode('utf-8') \n",
    "    return hashlib.sha224(joined).hexdigest()\n",
    "\n",
    "def get_df_sorted_by_f1score(collection, params=None, filter_cols=True):\n",
    "    if not params:\n",
    "        params = []\n",
    "    if type(params) == str:\n",
    "        params = params.split(\",\")\n",
    "    \n",
    "    project = {\n",
    "            \"weighted_f1_score\":\"$WEIGHTED_MEAN_CONCEPT_CODES.f1_score\",\n",
    "            \"macro_f1_score\":   \"$MACRO_F1\",\n",
    "            \"micro_f1_score\":  \"$MICRO_F1.f1_score\",\n",
    "            \"micro_recall\":    \"$MICRO_F1.recall\",\n",
    "            \"micro_precision\": \"$MICRO_F1.precision\",\n",
    "    \n",
    "    # PARAMETERS            \n",
    "            \"window_size\":    \"$parameters.window_size\",\n",
    "            \"feats\":          \"$parameters.extractors\",\n",
    "            \"count\": {        \"$size\" : \"$parameters.extractors\" },\n",
    "            \"asof\" :          \"$asof\",\n",
    "            \"_id\":1\n",
    "    }\n",
    "    \n",
    "    # No count for HMM\n",
    "    if \"_hmm\" in collection.lower():\n",
    "        del project[\"count\"]\n",
    "    \n",
    "    for param in params:\n",
    "        project[param] = \"$parameters.\" + param\n",
    "\n",
    "    feats_pipeline = [{\n",
    "        \"$project\": project\n",
    "    },\n",
    "    {\n",
    "        \"$match\":{\n",
    "            \"micro_f1_score\": { \"$exists\" : True }        \n",
    "        }\n",
    "    },\n",
    "    {\n",
    "        \"$sort\":{\n",
    "            \"micro_f1_score\": -1\n",
    "        }\n",
    "    },\n",
    "    ]\n",
    "    \n",
    "    rows = [row for row in db[collection].aggregate(feats_pipeline)]\n",
    "    df = pd.DataFrame(rows).sort_values(\"micro_f1_score\", ascending=False)\n",
    "    if params:\n",
    "        df[\"hs_params\"] = df[params].apply(hash_feats, axis=1)\n",
    "        \n",
    "    if filter_cols:\n",
    "        cols = [\"micro_f1_score\", \"micro_recall\" ,\"micro_precision\", \"macro_f1_score\" ] + params\n",
    "        return df[cols]\n",
    "    return df, "
   ]
  },
  {
   "cell_type": "code",
   "execution_count": 18,
   "metadata": {},
   "outputs": [],
   "source": [
    "def get_best_row(collection):\n",
    "    df = get_df_sorted_by_f1score(collection)\n",
    "    top_row = df.iloc[0]\n",
    "\n",
    "    c = db[collection]\n",
    "    rows = list(c.find())\n",
    "    best_row = None\n",
    "    for r in rows:\n",
    "        micro_f1 = r[\"MICRO_F1\"]\n",
    "        if micro_f1[\"f1_score\"] == top_row[\"micro_f1_score\"]:\n",
    "            assert best_row is None\n",
    "            best_row = r\n",
    "    return best_row"
   ]
  },
  {
   "cell_type": "code",
   "execution_count": 19,
   "metadata": {},
   "outputs": [],
   "source": [
    "def get_aggregate_counts_from_mongo(collection):\n",
    "    best_row = get_best_row(collection)\n",
    "    return aggregate_metrics(best_row, reg_tags)"
   ]
  },
  {
   "cell_type": "code",
   "execution_count": 20,
   "metadata": {},
   "outputs": [],
   "source": [
    "from numpy import dtype\n",
    "\n",
    "def round_data(df, places=3):\n",
    "    df_copy = df.copy()\n",
    "    dict_types = dict(df_copy.dtypes)\n",
    "    fmt_str = \"{0:.\" + str(places) + \"f}\"\n",
    "    cols = set([v for v in df_copy.columns.values])\n",
    "    for c in cols:\n",
    "        dtyp = dict_types[c]\n",
    "        if dtyp == dtype('float64'):\n",
    "            df_copy[c] = df[c].apply(lambda d: fmt_str.format(d))  \n",
    "    return df_copy"
   ]
  },
  {
   "cell_type": "markdown",
   "metadata": {},
   "source": [
    "## Get Counts from Best CC Tagging Model"
   ]
  },
  {
   "cell_type": "markdown",
   "metadata": {},
   "source": [
    "## NOTE on Methodology\n",
    "- To back in to the metrics, we need to compute the raw fp, fn, tp, tn counts from the different experiment runs\n",
    "- Then we take the run on the CC codes, and add those raw counts to the counts from the anaphora resolution. There is one minor issue - for one or two words these codes likely overlap but that's very rare (and may not happen)\n",
    "- Then we re-compute the mirco metrics from these counts"
   ]
  },
  {
   "cell_type": "markdown",
   "metadata": {},
   "source": [
    "## CV Metrics"
   ]
  },
  {
   "cell_type": "markdown",
   "metadata": {},
   "source": [
    "#### Get CC Only Counts from Mongo"
   ]
  },
  {
   "cell_type": "code",
   "execution_count": 21,
   "metadata": {},
   "outputs": [],
   "source": [
    "PREFIX = \"CB\" if DATASET == \"CoralBleaching\" else \"SC\"\n",
    "vd_collection = PREFIX + \"_TAGGING_VD_RNN_MOST_COMMON_TAG_HYPER_PARAM_TUNING\""
   ]
  },
  {
   "cell_type": "code",
   "execution_count": 22,
   "metadata": {},
   "outputs": [
    {
     "data": {
      "text/plain": [
       "{'data_points': 1783158,\n",
       " 'fn': 5915.0,\n",
       " 'fp': 4707.0,\n",
       " 'num_codes': 33259,\n",
       " 'tn': 1745192.0,\n",
       " 'tp': 27344.0}"
      ]
     },
     "execution_count": 22,
     "metadata": {},
     "output_type": "execute_result"
    }
   ],
   "source": [
    "vd_cc_counts = get_aggregate_counts_from_mongo(collection=vd_collection)\n",
    "vd_cc_counts"
   ]
  },
  {
   "cell_type": "markdown",
   "metadata": {},
   "source": [
    "#### Get Ana Resolution Counts"
   ]
  },
  {
   "cell_type": "code",
   "execution_count": 23,
   "metadata": {},
   "outputs": [
    {
     "data": {
      "text/plain": [
       "{'data_points': 1783158,\n",
       " 'fn': 333.0,\n",
       " 'fp': 18.0,\n",
       " 'num_codes': 344,\n",
       " 'tn': 1782796.0,\n",
       " 'tp': 11.0}"
      ]
     },
     "execution_count": 23,
     "metadata": {},
     "output_type": "execute_result"
    }
   ],
   "source": [
    "df_vd_metrics_ana = get_metrics(essays=training_essays, \n",
    "        filter_to_predicted_tags=filter_to_predicted_tags, \n",
    "        format_ana_tags=True, expected_tags=all_ana_tags,\n",
    "        nearest_ref_only=nearest_ref_only, \n",
    "        pos_ana_key=pos_ana_key, pos_ch_key=pos_ch_key, \n",
    "        max_ana_phrase_len=max_ana_phrase_len, max_cref_phrase_len=max_cref_phrase_len)\n",
    "\n",
    "vd_ana_counts = aggregate_metrics(df_vd_metrics_ana, all_ana_tags)\n",
    "vd_ana_counts"
   ]
  },
  {
   "cell_type": "code",
   "execution_count": 24,
   "metadata": {},
   "outputs": [
    {
     "data": {
      "text/plain": [
       "{'f1': 0.05898123324396783,\n",
       " 'prec': 0.3793103448275862,\n",
       " 'rec': 0.03197674418604651}"
      ]
     },
     "execution_count": 24,
     "metadata": {},
     "output_type": "execute_result"
    }
   ],
   "source": [
    "calc_metrics_from_counts(vd_ana_counts)"
   ]
  },
  {
   "cell_type": "code",
   "execution_count": 25,
   "metadata": {},
   "outputs": [],
   "source": [
    "vd_ana_counts_no_algo = dict(vd_ana_counts)\n",
    "vd_ana_counts_no_algo[\"tp\"] = 0\n",
    "vd_ana_counts_no_algo[\"tn\"] = 0\n",
    "vd_ana_counts_no_algo[\"fp\"] = vd_ana_counts[\"num_codes\"] # all incorrect"
   ]
  },
  {
   "cell_type": "markdown",
   "metadata": {},
   "source": [
    "#### Combine Metrics"
   ]
  },
  {
   "cell_type": "code",
   "execution_count": 26,
   "metadata": {},
   "outputs": [
    {
     "data": {
      "text/plain": [
       "{'data_points': 3566316,\n",
       " 'fn': 6248.0,\n",
       " 'fp': 4725.0,\n",
       " 'num_codes': 33603,\n",
       " 'tn': 3527988.0,\n",
       " 'tp': 27355.0}"
      ]
     },
     "execution_count": 26,
     "metadata": {},
     "output_type": "execute_result"
    }
   ],
   "source": [
    "vd_counts_combined = combine_metrics(vd_cc_counts, vd_ana_counts)\n",
    "vd_counts_combined"
   ]
  },
  {
   "cell_type": "code",
   "execution_count": 34,
   "metadata": {},
   "outputs": [
    {
     "data": {
      "text/plain": [
       "{'data_points': 3566316,\n",
       " 'fn': 6248.0,\n",
       " 'fp': 5051.0,\n",
       " 'num_codes': 33603,\n",
       " 'tn': 1745192.0,\n",
       " 'tp': 27344.0}"
      ]
     },
     "execution_count": 34,
     "metadata": {},
     "output_type": "execute_result"
    }
   ],
   "source": [
    "vd_counts_combined_no_algo = combine_metrics(vd_cc_counts, vd_ana_counts_no_algo)\n",
    "vd_counts_combined_no_algo"
   ]
  },
  {
   "cell_type": "markdown",
   "metadata": {},
   "source": [
    "## Test Metrics"
   ]
  },
  {
   "cell_type": "code",
   "execution_count": 27,
   "metadata": {},
   "outputs": [],
   "source": [
    "PREFIX = \"CB\" if DATASET == \"CoralBleaching\" else \"SC\"\n",
    "test_collection = \"TEST_\" + PREFIX + \"_TAGGING_VD_RNN_MOST_COMMON_TAG\""
   ]
  },
  {
   "cell_type": "code",
   "execution_count": 35,
   "metadata": {},
   "outputs": [
    {
     "data": {
      "text/plain": [
       "{'data_points': 399087,\n",
       " 'fn': 1157.0,\n",
       " 'fp': 953.0,\n",
       " 'num_codes': 6792,\n",
       " 'tn': 391342.0,\n",
       " 'tp': 5635.0}"
      ]
     },
     "execution_count": 35,
     "metadata": {},
     "output_type": "execute_result"
    }
   ],
   "source": [
    "test_cc_counts = get_aggregate_counts_from_mongo(collection=test_collection)\n",
    "test_cc_counts"
   ]
  },
  {
   "cell_type": "code",
   "execution_count": 36,
   "metadata": {},
   "outputs": [
    {
     "data": {
      "text/plain": [
       "{'data_points': 399087,\n",
       " 'fn': 38.0,\n",
       " 'fp': 4.0,\n",
       " 'num_codes': 39,\n",
       " 'tn': 399044.0,\n",
       " 'tp': 1.0}"
      ]
     },
     "execution_count": 36,
     "metadata": {},
     "output_type": "execute_result"
    }
   ],
   "source": [
    "df_test_metrics_ana = get_metrics(essays=test_essays, \n",
    "        filter_to_predicted_tags=filter_to_predicted_tags, \n",
    "        format_ana_tags=True, expected_tags=all_ana_tags,\n",
    "        nearest_ref_only=nearest_ref_only, \n",
    "        pos_ana_key=pos_ana_key, pos_ch_key=pos_ch_key, \n",
    "        max_ana_phrase_len=max_ana_phrase_len, max_cref_phrase_len=max_cref_phrase_len)\n",
    "\n",
    "test_ana_counts = aggregate_metrics(df_test_metrics_ana, all_ana_tags)\n",
    "test_ana_counts"
   ]
  },
  {
   "cell_type": "code",
   "execution_count": 37,
   "metadata": {},
   "outputs": [
    {
     "data": {
      "text/plain": [
       "{'f1': 0.045454545454545456, 'prec': 0.2, 'rec': 0.02564102564102564}"
      ]
     },
     "execution_count": 37,
     "metadata": {},
     "output_type": "execute_result"
    }
   ],
   "source": [
    "calc_metrics_from_counts(test_ana_counts)"
   ]
  },
  {
   "cell_type": "code",
   "execution_count": 38,
   "metadata": {},
   "outputs": [],
   "source": [
    "test_ana_counts_no_algo = dict(test_ana_counts)\n",
    "test_ana_counts_no_algo[\"tp\"] = 0\n",
    "test_ana_counts_no_algo[\"tn\"] = 0\n",
    "test_ana_counts_no_algo[\"fp\"] = test_ana_counts[\"num_codes\"] # all incorrect"
   ]
  },
  {
   "cell_type": "code",
   "execution_count": 32,
   "metadata": {},
   "outputs": [
    {
     "data": {
      "text/plain": [
       "{'data_points': 798174,\n",
       " 'fn': 1195.0,\n",
       " 'fp': 957.0,\n",
       " 'num_codes': 6831,\n",
       " 'tn': 790386.0,\n",
       " 'tp': 5636.0}"
      ]
     },
     "execution_count": 32,
     "metadata": {},
     "output_type": "execute_result"
    }
   ],
   "source": [
    "test_counts_combined = combine_metrics(test_cc_counts, test_ana_counts)\n",
    "test_counts_combined"
   ]
  },
  {
   "cell_type": "code",
   "execution_count": 40,
   "metadata": {},
   "outputs": [
    {
     "data": {
      "text/plain": [
       "{'data_points': 798174,\n",
       " 'fn': 1195.0,\n",
       " 'fp': 992.0,\n",
       " 'num_codes': 6831,\n",
       " 'tn': 391342.0,\n",
       " 'tp': 5635.0}"
      ]
     },
     "execution_count": 40,
     "metadata": {},
     "output_type": "execute_result"
    }
   ],
   "source": [
    "test_counts_combined_no_algo = combine_metrics(test_cc_counts, test_ana_counts_no_algo)\n",
    "test_counts_combined_no_algo"
   ]
  },
  {
   "cell_type": "markdown",
   "metadata": {},
   "source": [
    "### Without Anaphora Resolution"
   ]
  },
  {
   "cell_type": "code",
   "execution_count": 41,
   "metadata": {},
   "outputs": [],
   "source": [
    "vd_cc = calc_metrics_from_counts(vd_cc_counts)\n",
    "vd_both = calc_metrics_from_counts(vd_counts_combined)\n",
    "\n",
    "df_vd = pd.DataFrame([vd_cc, vd_both, \n",
    "                      calc_metrics_from_counts(vd_counts_combined_no_algo),\n",
    "                      calc_metrics_from_counts(vd_ana_counts)\n",
    "                     ])\n",
    "df_vd[\"Dataset\"] = \"Validation\"\n",
    "df_vd[\"With Ana Algo\"] = [False, True, False, True]\n",
    "df_vd[\"With Ana Labels\"] = [False, True, True, True]\n",
    "df_vd[\"Ana Only\"]      = [False, False, False, True]"
   ]
  },
  {
   "cell_type": "code",
   "execution_count": 42,
   "metadata": {},
   "outputs": [],
   "source": [
    "test_cc = calc_metrics_from_counts(test_cc_counts)\n",
    "test_both = calc_metrics_from_counts(test_counts_combined)\n",
    "\n",
    "df_test = pd.DataFrame([test_cc, test_both, \n",
    "                        calc_metrics_from_counts(test_counts_combined_no_algo),\n",
    "                        calc_metrics_from_counts(test_ana_counts)\n",
    "                       ])\n",
    "df_test[\"Dataset\"] = \"Test\"\n",
    "df_test[\"With Ana Algo\"] = [False, True, False, True]\n",
    "df_test[\"With Ana Labels\"] = [False, True, True, True]\n",
    "df_test[\"Ana Only\"] = [False, False, False, True]"
   ]
  },
  {
   "cell_type": "markdown",
   "metadata": {},
   "source": [
    "# Results"
   ]
  },
  {
   "cell_type": "code",
   "execution_count": 43,
   "metadata": {},
   "outputs": [
    {
     "data": {
      "text/html": [
       "<div>\n",
       "<table border=\"1\" class=\"dataframe\">\n",
       "  <thead>\n",
       "    <tr style=\"text-align: right;\">\n",
       "      <th></th>\n",
       "      <th>Dataset</th>\n",
       "      <th>With Ana Algo</th>\n",
       "      <th>With Ana Labels</th>\n",
       "      <th>Ana Only</th>\n",
       "      <th>f1</th>\n",
       "      <th>prec</th>\n",
       "      <th>rec</th>\n",
       "    </tr>\n",
       "  </thead>\n",
       "  <tbody>\n",
       "    <tr>\n",
       "      <th>0</th>\n",
       "      <td>Validation</td>\n",
       "      <td>False</td>\n",
       "      <td>False</td>\n",
       "      <td>False</td>\n",
       "      <td>0.837360</td>\n",
       "      <td>0.853140</td>\n",
       "      <td>0.822153</td>\n",
       "    </tr>\n",
       "    <tr>\n",
       "      <th>1</th>\n",
       "      <td>Validation</td>\n",
       "      <td>True</td>\n",
       "      <td>True</td>\n",
       "      <td>False</td>\n",
       "      <td>0.832940</td>\n",
       "      <td>0.852712</td>\n",
       "      <td>0.814064</td>\n",
       "    </tr>\n",
       "    <tr>\n",
       "      <th>2</th>\n",
       "      <td>Validation</td>\n",
       "      <td>False</td>\n",
       "      <td>True</td>\n",
       "      <td>False</td>\n",
       "      <td>0.828769</td>\n",
       "      <td>0.844081</td>\n",
       "      <td>0.814003</td>\n",
       "    </tr>\n",
       "    <tr>\n",
       "      <th>3</th>\n",
       "      <td>Validation</td>\n",
       "      <td>True</td>\n",
       "      <td>True</td>\n",
       "      <td>True</td>\n",
       "      <td>0.058981</td>\n",
       "      <td>0.379310</td>\n",
       "      <td>0.031977</td>\n",
       "    </tr>\n",
       "    <tr>\n",
       "      <th>0</th>\n",
       "      <td>Test</td>\n",
       "      <td>False</td>\n",
       "      <td>False</td>\n",
       "      <td>False</td>\n",
       "      <td>0.842302</td>\n",
       "      <td>0.855343</td>\n",
       "      <td>0.829653</td>\n",
       "    </tr>\n",
       "    <tr>\n",
       "      <th>1</th>\n",
       "      <td>Test</td>\n",
       "      <td>True</td>\n",
       "      <td>True</td>\n",
       "      <td>False</td>\n",
       "      <td>0.839690</td>\n",
       "      <td>0.854846</td>\n",
       "      <td>0.825062</td>\n",
       "    </tr>\n",
       "    <tr>\n",
       "      <th>2</th>\n",
       "      <td>Test</td>\n",
       "      <td>False</td>\n",
       "      <td>True</td>\n",
       "      <td>False</td>\n",
       "      <td>0.837482</td>\n",
       "      <td>0.850309</td>\n",
       "      <td>0.825037</td>\n",
       "    </tr>\n",
       "    <tr>\n",
       "      <th>3</th>\n",
       "      <td>Test</td>\n",
       "      <td>True</td>\n",
       "      <td>True</td>\n",
       "      <td>True</td>\n",
       "      <td>0.045455</td>\n",
       "      <td>0.200000</td>\n",
       "      <td>0.025641</td>\n",
       "    </tr>\n",
       "  </tbody>\n",
       "</table>\n",
       "</div>"
      ],
      "text/plain": [
       "      Dataset With Ana Algo With Ana Labels Ana Only        f1      prec  \\\n",
       "0  Validation         False           False    False  0.837360  0.853140   \n",
       "1  Validation          True            True    False  0.832940  0.852712   \n",
       "2  Validation         False            True    False  0.828769  0.844081   \n",
       "3  Validation          True            True     True  0.058981  0.379310   \n",
       "0        Test         False           False    False  0.842302  0.855343   \n",
       "1        Test          True            True    False  0.839690  0.854846   \n",
       "2        Test         False            True    False  0.837482  0.850309   \n",
       "3        Test          True            True     True  0.045455  0.200000   \n",
       "\n",
       "        rec  \n",
       "0  0.822153  \n",
       "1  0.814064  \n",
       "2  0.814003  \n",
       "3  0.031977  \n",
       "0  0.829653  \n",
       "1  0.825062  \n",
       "2  0.825037  \n",
       "3  0.025641  "
      ]
     },
     "execution_count": 43,
     "metadata": {},
     "output_type": "execute_result"
    }
   ],
   "source": [
    "df = pd.concat([df_vd, df_test])[[\"Dataset\", \"With Ana Algo\", \"With Ana Labels\", \"Ana Only\", \"f1\", \"prec\", \"rec\"]]\n",
    "df"
   ]
  },
  {
   "cell_type": "markdown",
   "metadata": {},
   "source": [
    "## Round Data"
   ]
  },
  {
   "cell_type": "code",
   "execution_count": 44,
   "metadata": {},
   "outputs": [
    {
     "data": {
      "text/html": [
       "<div>\n",
       "<table border=\"1\" class=\"dataframe\">\n",
       "  <thead>\n",
       "    <tr style=\"text-align: right;\">\n",
       "      <th></th>\n",
       "      <th>Dataset</th>\n",
       "      <th>With Ana Algo</th>\n",
       "      <th>With Ana Labels</th>\n",
       "      <th>Ana Only</th>\n",
       "      <th>f1</th>\n",
       "      <th>prec</th>\n",
       "      <th>rec</th>\n",
       "    </tr>\n",
       "  </thead>\n",
       "  <tbody>\n",
       "    <tr>\n",
       "      <th>0</th>\n",
       "      <td>Validation</td>\n",
       "      <td>False</td>\n",
       "      <td>False</td>\n",
       "      <td>False</td>\n",
       "      <td>0.837</td>\n",
       "      <td>0.853</td>\n",
       "      <td>0.822</td>\n",
       "    </tr>\n",
       "    <tr>\n",
       "      <th>1</th>\n",
       "      <td>Validation</td>\n",
       "      <td>True</td>\n",
       "      <td>True</td>\n",
       "      <td>False</td>\n",
       "      <td>0.833</td>\n",
       "      <td>0.853</td>\n",
       "      <td>0.814</td>\n",
       "    </tr>\n",
       "    <tr>\n",
       "      <th>2</th>\n",
       "      <td>Validation</td>\n",
       "      <td>False</td>\n",
       "      <td>True</td>\n",
       "      <td>False</td>\n",
       "      <td>0.829</td>\n",
       "      <td>0.844</td>\n",
       "      <td>0.814</td>\n",
       "    </tr>\n",
       "    <tr>\n",
       "      <th>3</th>\n",
       "      <td>Validation</td>\n",
       "      <td>True</td>\n",
       "      <td>True</td>\n",
       "      <td>True</td>\n",
       "      <td>0.059</td>\n",
       "      <td>0.379</td>\n",
       "      <td>0.032</td>\n",
       "    </tr>\n",
       "    <tr>\n",
       "      <th>0</th>\n",
       "      <td>Test</td>\n",
       "      <td>False</td>\n",
       "      <td>False</td>\n",
       "      <td>False</td>\n",
       "      <td>0.842</td>\n",
       "      <td>0.855</td>\n",
       "      <td>0.830</td>\n",
       "    </tr>\n",
       "    <tr>\n",
       "      <th>1</th>\n",
       "      <td>Test</td>\n",
       "      <td>True</td>\n",
       "      <td>True</td>\n",
       "      <td>False</td>\n",
       "      <td>0.840</td>\n",
       "      <td>0.855</td>\n",
       "      <td>0.825</td>\n",
       "    </tr>\n",
       "    <tr>\n",
       "      <th>2</th>\n",
       "      <td>Test</td>\n",
       "      <td>False</td>\n",
       "      <td>True</td>\n",
       "      <td>False</td>\n",
       "      <td>0.837</td>\n",
       "      <td>0.850</td>\n",
       "      <td>0.825</td>\n",
       "    </tr>\n",
       "    <tr>\n",
       "      <th>3</th>\n",
       "      <td>Test</td>\n",
       "      <td>True</td>\n",
       "      <td>True</td>\n",
       "      <td>True</td>\n",
       "      <td>0.045</td>\n",
       "      <td>0.200</td>\n",
       "      <td>0.026</td>\n",
       "    </tr>\n",
       "  </tbody>\n",
       "</table>\n",
       "</div>"
      ],
      "text/plain": [
       "      Dataset With Ana Algo With Ana Labels Ana Only     f1   prec    rec\n",
       "0  Validation         False           False    False  0.837  0.853  0.822\n",
       "1  Validation          True            True    False  0.833  0.853  0.814\n",
       "2  Validation         False            True    False  0.829  0.844  0.814\n",
       "3  Validation          True            True     True  0.059  0.379  0.032\n",
       "0        Test         False           False    False  0.842  0.855  0.830\n",
       "1        Test          True            True    False  0.840  0.855  0.825\n",
       "2        Test         False            True    False  0.837  0.850  0.825\n",
       "3        Test          True            True     True  0.045  0.200  0.026"
      ]
     },
     "execution_count": 44,
     "metadata": {},
     "output_type": "execute_result"
    }
   ],
   "source": [
    "round_data(df, 3)"
   ]
  },
  {
   "cell_type": "code",
   "execution_count": null,
   "metadata": {},
   "outputs": [],
   "source": []
  }
 ],
 "metadata": {
  "kernelspec": {
   "display_name": "Python [conda env:phd_py36]",
   "language": "python",
   "name": "conda-env-phd_py36-py"
  },
  "language_info": {
   "codemirror_mode": {
    "name": "ipython",
    "version": 3
   },
   "file_extension": ".py",
   "mimetype": "text/x-python",
   "name": "python",
   "nbconvert_exporter": "python",
   "pygments_lexer": "ipython3",
   "version": "3.6.4"
  }
 },
 "nbformat": 4,
 "nbformat_minor": 2
}
