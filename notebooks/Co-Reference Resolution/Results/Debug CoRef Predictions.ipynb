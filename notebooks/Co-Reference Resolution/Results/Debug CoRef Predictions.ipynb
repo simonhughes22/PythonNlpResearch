{
 "cells": [
  {
   "cell_type": "markdown",
   "metadata": {},
   "source": [
    "## Goals\n",
    " - Debug the current coreference resolution logic. \n",
    "   - Am I missing something obvious?\n",
    "   - Look at some example essays with decent length coreference chains\n",
    "    - Look at the length of each entry\n",
    "    - Look at other previous entries, and their CC tags and POS tags\n",
    "    "
   ]
  },
  {
   "cell_type": "code",
   "execution_count": 1,
   "metadata": {},
   "outputs": [],
   "source": [
    "%load_ext autoreload\n",
    "\n",
    "%autoreload 2"
   ]
  },
  {
   "cell_type": "code",
   "execution_count": 3,
   "metadata": {},
   "outputs": [
    {
     "name": "stdout",
     "output_type": "stream",
     "text": [
      "Results Dir: /Users/simon.hughes/Google Drive/Phd/Results/\n",
      "Data Dir:    /Users/simon.hughes/Google Drive/Phd/Data/\n",
      "Root Dir:    /Users/simon.hughes/GitHub/NlpResearch/\n",
      "Public Data: /Users/simon.hughes/GitHub/NlpResearch/Data/PublicDatasets/\n",
      "CoRef Data:  /Users/simon.hughes/Google Drive/Phd/Data/CoralBleaching/Thesis_Dataset/CoReference/\n"
     ]
    }
   ],
   "source": [
    "import dill\n",
    "import pandas as pd\n",
    "\n",
    "from Settings import Settings\n",
    "from collections import defaultdict\n",
    "from BrattEssay import ANAPHORA\n",
    "from CoRefHelper import EMPTY\n",
    "\n",
    "from results_common import get_essays, validate_essays, tally_essay_attributes\n",
    "from process_essays_coref import get_coref_processed_essays\n",
    "from metrics import get_metrics_raw\n",
    "\n",
    "DATASET = \"CoralBleaching\" # CoralBleaching | SkinCancer\n",
    "\n",
    "settings = Settings()\n",
    "root_folder = settings.data_directory + DATASET + \"/Thesis_Dataset/\"\n",
    "stanford_coref_predictions_folder = root_folder + \"CoReference/\"\n",
    "berkeley_coref_predictions_folder = root_folder + \"CoReference/Berkeley/\"\n",
    "coref_predictions_folder = berkeley_coref_predictions_folder\n",
    "print(\"CoRef Data: \", stanford_coref_predictions_folder)"
   ]
  },
  {
   "cell_type": "code",
   "execution_count": 4,
   "metadata": {},
   "outputs": [
    {
     "name": "stdout",
     "output_type": "stream",
     "text": [
      "Found file /Users/simon.hughes/Google Drive/Phd/Data/CoralBleaching/Thesis_Dataset/CoReference/Berkeley/training_processed.dill\n"
     ]
    }
   ],
   "source": [
    "training_essays = get_essays(coref_predictions_folder, \"Training\")"
   ]
  },
  {
   "cell_type": "code",
   "execution_count": 5,
   "metadata": {},
   "outputs": [
    {
     "name": "stdout",
     "output_type": "stream",
     "text": [
      "Found file /Users/simon.hughes/Google Drive/Phd/Data/CoralBleaching/Thesis_Dataset/CoReference/Berkeley/test_processed.dill\n"
     ]
    }
   ],
   "source": [
    "test_essays = get_essays(coref_predictions_folder, \"Test\")"
   ]
  },
  {
   "cell_type": "code",
   "execution_count": 6,
   "metadata": {},
   "outputs": [],
   "source": [
    "all_essays = training_essays + test_essays"
   ]
  },
  {
   "cell_type": "code",
   "execution_count": 7,
   "metadata": {},
   "outputs": [],
   "source": [
    "# ner_tally = tally_essay_attributes(all_essays, attribute_name=\"pred_ner_tags_sentences\")\n",
    "pos_tally = tally_essay_attributes(all_essays, attribute_name=\"pred_pos_tags_sentences\")"
   ]
  },
  {
   "cell_type": "markdown",
   "metadata": {},
   "source": [
    "## Look at the Anaphor Tags"
   ]
  },
  {
   "cell_type": "code",
   "execution_count": 8,
   "metadata": {},
   "outputs": [
    {
     "data": {
      "text/plain": [
       "['Anaphor:[11]',\n",
       " 'Anaphor:[12]',\n",
       " 'Anaphor:[13]',\n",
       " 'Anaphor:[14]',\n",
       " 'Anaphor:[1]',\n",
       " 'Anaphor:[2]',\n",
       " 'Anaphor:[3]',\n",
       " 'Anaphor:[4]',\n",
       " 'Anaphor:[50]',\n",
       " 'Anaphor:[5]',\n",
       " 'Anaphor:[5b]',\n",
       " 'Anaphor:[6]',\n",
       " 'Anaphor:[7]']"
      ]
     },
     "execution_count": 8,
     "metadata": {},
     "output_type": "execute_result"
    }
   ],
   "source": [
    "from results_procesor import is_a_regular_code\n",
    "\n",
    "cc_tally = defaultdict(int)\n",
    "cr_tally = defaultdict(int)\n",
    "reg_tally = defaultdict(int)\n",
    "for e in all_essays:\n",
    "    for sent in e.sentences:\n",
    "        for wd, tags in sent:\n",
    "            for t in tags:\n",
    "                if is_a_regular_code(t):\n",
    "                    reg_tally[t] += 1\n",
    "                if ANAPHORA in t and \"other\" not in t:\n",
    "                    if \"->\" in t:\n",
    "                        cr_tally[t] += 1\n",
    "                    elif \"Anaphor:[\" in t:\n",
    "                        cc_tally[t] += 1\n",
    "\n",
    "reg_tags = sorted(reg_tally.keys())\n",
    "all_ana_tags = sorted(cc_tally.keys())\n",
    "assert len(reg_tags) == len(all_ana_tags)\n",
    "all_ana_tags"
   ]
  },
  {
   "cell_type": "code",
   "execution_count": 9,
   "metadata": {},
   "outputs": [],
   "source": [
    "name2essay = {}\n",
    "for e in all_essays:\n",
    "    name2essay[e.name] = e"
   ]
  },
  {
   "cell_type": "code",
   "execution_count": 10,
   "metadata": {},
   "outputs": [
    {
     "data": {
      "text/plain": [
       "198"
      ]
     },
     "execution_count": 10,
     "metadata": {},
     "output_type": "execute_result"
    }
   ],
   "source": [
    "from process_essays_coref import build_segmented_chain\n",
    "\n",
    "DESIRED_CHAIN_LEN = 4\n",
    "MIN_ANA_TAGS = 3\n",
    "\n",
    "matching_essays = []\n",
    "for e in all_essays:    \n",
    "    has_anaphora_tags = False\n",
    "    tally_ana_tags = defaultdict(int)\n",
    "    for sent in e.sentences:\n",
    "        for wd,tag in sent:\n",
    "            for t in tag:\n",
    "                if \"anaphor\" in t.lower():\n",
    "                    tally_ana_tags[t] +=1\n",
    "    \n",
    "    if len(tally_ana_tags) == 0:\n",
    "        continue\n",
    "    max_ana_tags = max(tally_ana_tags.values())\n",
    "    if max_ana_tags < MIN_ANA_TAGS:\n",
    "        continue\n",
    "        \n",
    "    corefid2chain = build_segmented_chain(e)\n",
    "    max_len = 0\n",
    "    for corefid, segmented_chain in corefid2chain.items():\n",
    "        chain_len = len(segmented_chain)\n",
    "        if chain_len == DESIRED_CHAIN_LEN:\n",
    "            matching_essays.append(e)\n",
    "len(matching_essays)"
   ]
  },
  {
   "cell_type": "code",
   "execution_count": 11,
   "metadata": {},
   "outputs": [],
   "source": [
    "NEAREST_REF_ONLY = \"Nearest reference\"\n",
    "MAX_ANA_PHRASE = \"Max ana phrase\"\n",
    "MAX_CHAIN_PHRASE = \"Max chain phrase\"\n",
    "POS_ANA_FLTR = \"POS ana filter\"\n",
    "POS_CHAIN_FLTR = \"Pos chain filter\"\n",
    "\n",
    "def process_sort_results(df_results):\n",
    "    df_disp = df_results[[\"f1_score\",\"precision\",\"recall\", \n",
    "                          NEAREST_REF_ONLY, MAX_ANA_PHRASE, MAX_CHAIN_PHRASE, POS_ANA_FLTR, POS_CHAIN_FLTR]]\n",
    "    return df_disp.sort_values(\"f1_score\", ascending=False)\n",
    "\n",
    "def evaluate_training_performance(essays, filter_to_predicted_tags=False, nearest_ref_only=False):\n",
    "    proc_essays = get_coref_processed_essays(\n",
    "                            essays=essays, format_ana_tags=True, \n",
    "                            ner_ch_filter=None, look_back_only=True,\n",
    "                            filter_to_predicted_tags=filter_to_predicted_tags, \n",
    "                            max_ana_phrase_len=None, max_cref_phrase_len=None, \n",
    "                            pos_ana_filter=None, pos_ch_filter=None, \n",
    "                            nearest_ref_only=nearest_ref_only)\n",
    "                        \n",
    "    metrics = get_metrics_raw(proc_essays, expected_tags=all_ana_tags,  micro_only=True)\n",
    "    row = metrics[\"MICRO_F1\"]\n",
    "\n",
    "    df_results = pd.DataFrame([row])\n",
    "    return df_results"
   ]
  },
  {
   "cell_type": "code",
   "execution_count": 12,
   "metadata": {},
   "outputs": [],
   "source": [
    "def blank_if_none(val):\n",
    "    return \"-\" if (val is None or not val or str(val).lower() == \"none\" or str(val) == EMPTY) else val\n",
    "\n",
    "def visualize_essay(e):\n",
    "    for sent_ix in range(len(e.sentences)):       \n",
    "        sent = e.sentences[sent_ix]\n",
    "\n",
    "        # SENTENCE LEVEL TAGS / PREDICTIONS\n",
    "        ana_tags = e.ana_tagged_sentences[sent_ix]\n",
    "        coref_ids = e.pred_corefids[sent_ix]\n",
    "        # ner_tags = e.pred_ner_tags_sentences[sent_ix]\n",
    "        pos_tags = e.pred_pos_tags_sentences[sent_ix]\n",
    "        ptags = e.pred_tagged_sentences[sent_ix]\n",
    "        \n",
    "        print(\"*\" * 100)\n",
    "        print(\"SENTENCE {sent_ix}\".format(sent_ix=sent_ix))\n",
    "        print(\"*\" * 100)\n",
    "        for wd_ix in range(len(sent)):\n",
    "            pos_tag = pos_tags[wd_ix]  # POS tag\n",
    "\n",
    "            word, act_tags = sent[wd_ix]  # ignore actual tags\n",
    "            pred_tags = ptags[wd_ix]  # predict cc tag\n",
    "            if type(pred_tags) == str:\n",
    "                # force to be a set\n",
    "                pred_tags = {pred_tags}\n",
    "\n",
    "            is_ana_tag = ana_tags[wd_ix] == ANAPHORA\n",
    "            wd_coref_ids = coref_ids[wd_ix]  # Set[str]\n",
    "            \n",
    "            # for display\n",
    "            disp_act_tags = blank_if_none(\",\".join(act_tags.intersection(reg_tags)))\n",
    "            \n",
    "            disp_ana_tags = blank_if_none(\",\".join(act_tags.intersection(all_ana_tags)))\n",
    "            disp_ana_tags = disp_ana_tags.replace(\"Anaphor:[\",\"\").replace(\"]\",\"\")\n",
    "            if disp_ana_tags != \"-\":\n",
    "                disp_ana_tags = \"Ana:\" + disp_ana_tags\n",
    "            \n",
    "            disp_pred_tags = blank_if_none(\",\".join(pred_tags.intersection(reg_tags)))\n",
    "            \n",
    "            disp_pred_ana_tags = blank_if_none(\",\".join(pred_tags.intersection(all_ana_tags)))\n",
    "            disp_pred_ana_tags = disp_pred_ana_tags.replace(\"Anaphor:[\",\"\").replace(\"]\",\"\")\n",
    "            if disp_pred_ana_tags != \"-\":\n",
    "                disp_pred_ana_tags = \"Ana:\" + disp_pred_ana_tags\n",
    "                            \n",
    "            print(\"{wd_ix} {word}\\t{act_tags}\\t{ana_tags}\\t| {pred_tags}\\t{pred_ana_tags}\\t{pos_tag}\\t{is_ana_tag}\\t{corefids}\".format(\n",
    "                wd_ix=str(wd_ix).ljust(2),\n",
    "                word=word.ljust(20),\n",
    "                act_tags=disp_act_tags.ljust(10),\n",
    "                ana_tags=disp_ana_tags.ljust(10),\n",
    "                pred_tags=disp_pred_tags,\n",
    "                pred_ana_tags=disp_pred_ana_tags,\n",
    "                pos_tag=blank_if_none(pos_tag),\n",
    "                is_ana_tag= \"X\" if is_ana_tag else \"-\",\n",
    "                corefids = blank_if_none(\",\".join(sorted(wd_coref_ids)))\n",
    "            ))    "
   ]
  },
  {
   "cell_type": "code",
   "execution_count": 13,
   "metadata": {},
   "outputs": [
    {
     "data": {
      "text/html": [
       "<div>\n",
       "<table border=\"1\" class=\"dataframe\">\n",
       "  <thead>\n",
       "    <tr style=\"text-align: right;\">\n",
       "      <th></th>\n",
       "      <th>f1_score</th>\n",
       "      <th>precision</th>\n",
       "      <th>recall</th>\n",
       "    </tr>\n",
       "  </thead>\n",
       "  <tbody>\n",
       "    <tr>\n",
       "      <th>0</th>\n",
       "      <td>0.018728</td>\n",
       "      <td>0.00997</td>\n",
       "      <td>0.15407</td>\n",
       "    </tr>\n",
       "  </tbody>\n",
       "</table>\n",
       "</div>"
      ],
      "text/plain": [
       "   f1_score  precision   recall\n",
       "0  0.018728    0.00997  0.15407"
      ]
     },
     "execution_count": 13,
     "metadata": {},
     "output_type": "execute_result"
    }
   ],
   "source": [
    "evaluate_training_performance(training_essays, filter_to_predicted_tags=False)[[\"f1_score\",\"precision\",\"recall\"]]"
   ]
  },
  {
   "cell_type": "code",
   "execution_count": 14,
   "metadata": {},
   "outputs": [
    {
     "data": {
      "text/html": [
       "<div>\n",
       "<table border=\"1\" class=\"dataframe\">\n",
       "  <thead>\n",
       "    <tr style=\"text-align: right;\">\n",
       "      <th></th>\n",
       "      <th>f1_score</th>\n",
       "      <th>precision</th>\n",
       "      <th>recall</th>\n",
       "    </tr>\n",
       "  </thead>\n",
       "  <tbody>\n",
       "    <tr>\n",
       "      <th>0</th>\n",
       "      <td>0.057292</td>\n",
       "      <td>0.275</td>\n",
       "      <td>0.031977</td>\n",
       "    </tr>\n",
       "  </tbody>\n",
       "</table>\n",
       "</div>"
      ],
      "text/plain": [
       "   f1_score  precision    recall\n",
       "0  0.057292      0.275  0.031977"
      ]
     },
     "execution_count": 14,
     "metadata": {},
     "output_type": "execute_result"
    }
   ],
   "source": [
    "evaluate_training_performance(training_essays, filter_to_predicted_tags=True)[[\"f1_score\",\"precision\",\"recall\"]]"
   ]
  },
  {
   "cell_type": "code",
   "execution_count": 15,
   "metadata": {
    "scrolled": false
   },
   "outputs": [
    {
     "name": "stdout",
     "output_type": "stream",
     "text": [
      "****************************************************************************************************\n",
      "SENTENCE 0\n",
      "****************************************************************************************************\n",
      "0  coral               \t50        \t-         \t| 50\t-\tJJ\t-\t0\n",
      "1  bleaching           \t50        \t-         \t| 50\t-\tNN\t-\t0\n",
      "2  is                  \t50        \t-         \t| 50\t-\tVBZ\t-\t-\n",
      "3  a                   \t50        \t-         \t| 50\t-\tDT\t-\t1\n",
      "4  phenomenon          \t50        \t-         \t| 50\t-\tNN\t-\t-\n",
      "5  in                  \t50        \t-         \t| 50\t-\tIN\t-\t-\n",
      "6  which               \t50        \t-         \t| 50\t-\tWDT\t-\t-\n",
      "7  coral               \t50        \t-         \t| 50\t-\tNN\t-\t-\n",
      "8  loses               \t50        \t-         \t| 50\t-\tVBZ\t-\t-\n",
      "9  its                 \t50        \t-         \t| 50\tAna:50\tPRP$\t-\t0,2\n",
      "10 color               \t50        \t-         \t| 50\tAna:50\tNN\t-\t1,2\n",
      "11 .                   \t-         \t-         \t| -\t-\t.\t-\t-\n",
      "****************************************************************************************************\n",
      "SENTENCE 1\n",
      "****************************************************************************************************\n",
      "0  but                 \t-         \t-         \t| -\t-\tCC\t-\t-\n",
      "1  and                 \t-         \t-         \t| -\t-\tCC\t-\t-\n",
      "2  what                \t-         \t-         \t| -\t-\tWP\t-\t-\n",
      "3  leads               \t-         \t-         \t| -\t-\tVBZ\t-\t-\n",
      "4  to                  \t-         \t-         \t| -\t-\tTO\t-\t-\n",
      "5  differences         \t-         \t-         \t| -\t-\tNNS\t-\t-\n",
      "6  in                  \t-         \t-         \t| -\t-\tIN\t-\t-\n",
      "7  the                 \t-         \t-         \t| -\t-\tDT\t-\t-\n",
      "8  rate                \t-         \t-         \t| -\t-\tNN\t-\t-\n",
      "9  of                  \t-         \t-         \t| -\t-\tIN\t-\t-\n",
      "10 coral               \t50        \t-         \t| 50\t-\tJJ\t-\t-\n",
      "11 bleaching           \t50        \t-         \t| 50\t-\tNN\t-\t-\n",
      "12 ?                   \t-         \t-         \t| -\t-\t.\t-\t-\n",
      "****************************************************************************************************\n",
      "SENTENCE 2\n",
      "****************************************************************************************************\n",
      "0  there               \t-         \t-         \t| -\t-\tEX\t-\t-\n",
      "1  are                 \t-         \t-         \t| -\t-\tVBP\t-\t-\n",
      "2  many                \t-         \t-         \t| -\t-\tJJ\t-\t-\n",
      "3  things              \t-         \t-         \t| -\t-\tNNS\t-\t-\n",
      "4  that                \t-         \t-         \t| -\t-\tWDT\t-\t-\n",
      "5  cause               \t-         \t-         \t| -\t-\tVBP\t-\t-\n",
      "6  this                \t-         \t-         \t| -\tAna:50\tDT\t-\t1\n",
      "7  phenomenon          \t-         \t-         \t| -\tAna:50\tNN\t-\t1\n",
      "8  ,                   \t-         \t-         \t| -\t-\t,\t-\t-\n",
      "9  such                \t-         \t-         \t| -\t-\tJJ\t-\t-\n",
      "10 as                  \t-         \t-         \t| -\t-\tIN\t-\t-\n",
      "11 upwelling           \t-         \t-         \t| -\t-\tNN\t-\t-\n",
      "12 .                   \t-         \t-         \t| -\t-\t.\t-\t-\n",
      "****************************************************************************************************\n",
      "SENTENCE 3\n",
      "****************************************************************************************************\n",
      "0  upwelling           \t-         \t-         \t| -\t-\tNN\t-\t-\n",
      "1  is                  \t-         \t-         \t| -\t-\tVBZ\t-\t-\n",
      "2  when                \t-         \t-         \t| -\t-\tWRB\t-\t-\n",
      "3  winds               \t-         \t-         \t| -\t-\tNNS\t-\t-\n",
      "4  drag                \t-         \t-         \t| -\t-\tVBP\t-\t-\n",
      "5  warm                \t-         \t-         \t| -\t-\tJJ\t-\t-\n",
      "6  surface             \t-         \t-         \t| -\t-\tNN\t-\t-\n",
      "7  waters              \t-         \t-         \t| -\t-\tNNS\t-\t-\n",
      "8  westward            \t-         \t-         \t| -\t-\tRB\t-\t-\n",
      "9  .                   \t-         \t-         \t| -\t-\t.\t-\t-\n",
      "****************************************************************************************************\n",
      "SENTENCE 4\n",
      "****************************************************************************************************\n",
      "0  upwelling           \t-         \t-         \t| -\t-\tNN\t-\t-\n",
      "1  in                  \t-         \t-         \t| -\t-\tIN\t-\t-\n",
      "2  the                 \t-         \t-         \t| -\t-\tDT\t-\t3\n",
      "3  eastern             \t-         \t-         \t| -\t-\tJJ\t-\t-\n",
      "4  pacific             \t-         \t-         \t| -\t-\tNN\t-\t-\n",
      "5  ocean               \t-         \t-         \t| -\t-\tNN\t-\t3\n",
      "6  causes              \t-         \t-         \t| -\t-\tVBZ\t-\t-\n",
      "7  surface             \t-         \t-         \t| -\t-\tNN\t-\t-\n",
      "8  waters              \t-         \t-         \t| -\t-\tNNS\t-\t-\n",
      "9  to                  \t-         \t-         \t| -\t-\tTO\t-\t-\n",
      "10 be                  \t-         \t-         \t| -\t-\tVB\t-\t-\n",
      "11 colder              \t-         \t-         \t| -\t-\tJJR\t-\t-\n",
      "12 than                \t-         \t-         \t| -\t-\tIN\t-\t-\n",
      "13 those               \t-         \t-         \t| -\t-\tDT\t-\t-\n",
      "14 in                  \t-         \t-         \t| -\t-\tIN\t-\t-\n",
      "15 the                 \t-         \t-         \t| -\t-\tDT\t-\t3\n",
      "16 western             \t-         \t-         \t| -\t-\tJJ\t-\t-\n",
      "17 pacific             \t-         \t-         \t| -\t-\tNN\t-\t-\n",
      "18 ocean               \t-         \t-         \t| -\t-\tNN\t-\t3\n",
      "19 .                   \t-         \t-         \t| -\t-\t.\t-\t-\n",
      "****************************************************************************************************\n",
      "SENTENCE 5\n",
      "****************************************************************************************************\n",
      "0  this                \t-         \tAna:3     \t| -\t-\tDT\t-\t-\n",
      "1  causes              \t-         \t-         \t| -\t-\tVBZ\t-\t-\n",
      "2  the                 \t-         \t-         \t| -\t-\tDT\t-\t4\n",
      "3  coral               \t50        \t-         \t| 50\t-\tNN\t-\t4\n",
      "4  to                  \t50        \t-         \t| 50\t-\tTO\t-\t-\n",
      "5  lose                \t50        \t-         \t| 50\t-\tVB\t-\t-\n",
      "6  its                 \t50        \t-         \t| 50\tAna:50\tPRP$\t-\t2,4\n",
      "7  color               \t50        \t-         \t| 50\tAna:50\tNN\t-\t2\n",
      "8  ,                   \t-         \t-         \t| -\t-\t,\t-\t-\n",
      "9  because             \t-         \t-         \t| -\t-\tIN\t-\t-\n",
      "10 it                  \t-         \t-         \t| -\tAna:50\tPRP\t-\t4\n",
      "11 needs               \t-         \t-         \t| -\t-\tVBZ\t-\t-\n",
      "12 to                  \t-         \t-         \t| -\t-\tTO\t-\t-\n",
      "13 be                  \t-         \t-         \t| -\t-\tVB\t-\t-\n",
      "14 a                   \t-         \t-         \t| -\t-\tDT\t-\t-\n",
      "15 certain             \t-         \t-         \t| -\t-\tJJ\t-\t-\n",
      "16 temperature         \t-         \t-         \t| -\t-\tNN\t-\t-\n",
      "17 for                 \t-         \t-         \t| -\t-\tIN\t-\t-\n",
      "18 the                 \t-         \t-         \t| -\t-\tDT\t-\t-\n",
      "19 coral               \t-         \t-         \t| -\t-\tNN\t-\t-\n",
      "20 to                  \t-         \t-         \t| -\t-\tTO\t-\t-\n",
      "21 be                  \t-         \t-         \t| -\t-\tVB\t-\t-\n",
      "22 healthy             \t-         \t-         \t| -\t-\tJJ\t-\t-\n",
      "23 .                   \t-         \t-         \t| -\t-\t.\t-\t-\n",
      "****************************************************************************************************\n",
      "SENTENCE 6\n",
      "****************************************************************************************************\n",
      "0  the                 \t-         \t-         \t| -\t-\tDT\t-\t5\n",
      "1  most                \t-         \t-         \t| -\t-\tRBS\t-\t-\n",
      "2  dangerous           \t-         \t-         \t| -\t-\tJJ\t-\t-\n",
      "3  threats             \t-         \t-         \t| -\t-\tNNS\t-\t-\n",
      "4  to                  \t-         \t-         \t| -\t-\tTO\t-\t-\n",
      "5  the                 \t-         \t-         \t| -\t-\tDT\t-\t-\n",
      "6  health              \t-         \t-         \t| -\t-\tNN\t-\t-\n",
      "7  of                  \t-         \t-         \t| -\t-\tIN\t-\t-\n",
      "8  corals              \t-         \t-         \t| -\t-\tNNS\t-\t5\n",
      "9  are                 \t-         \t-         \t| -\t-\tVBP\t-\t-\n",
      "10 caused              \t-         \t-         \t| -\t-\tVBN\t-\t-\n",
      "11 by                  \t-         \t-         \t| -\t-\tIN\t-\t-\n",
      "12 changes             \t-         \t-         \t| -\t-\tNNS\t-\t-\n",
      "13 in                  \t-         \t-         \t| -\t-\tIN\t-\t-\n",
      "14 their               \t-         \t-         \t| -\t-\tPRP$\t-\t5\n",
      "15 environment         \t-         \t-         \t| -\t-\tNN\t-\t-\n",
      "16 when                \t-         \t-         \t| -\t-\tWRB\t-\t-\n",
      "17 this                \t-         \t-         \t| -\t-\tDT\t-\t-\n",
      "18 happens             \t-         \t-         \t| -\t-\tVBZ\t-\t-\n",
      "19 ,                   \t-         \t-         \t| -\t-\t,\t-\t-\n",
      "20 the                 \t-         \t-         \t| -\tAna:50\tDT\t-\t4\n",
      "21 coral               \t7         \t-         \t| 7\tAna:50\tNN\t-\t4\n",
      "22 ejects              \t7         \t-         \t| 7\t-\tVBZ\t-\t-\n",
      "23 their               \t7         \t-         \t| 7\t-\tPRP$\t-\t5\n",
      "24 food                \t7         \t-         \t| 7\t-\tNN\t-\t-\n",
      "25 -                   \t-         \t-         \t| -\t-\t:\t-\t-\n",
      "26 producing           \t7         \t-         \t| 7\t-\tVBG\t-\t-\n",
      "27 algae               \t7         \t-         \t| 7\t-\tNN\t-\t-\n",
      "28 ,                   \t-         \t-         \t| -\t-\t,\t-\t-\n",
      "29 causing             \t-         \t-         \t| -\t-\tVBG\t-\t-\n",
      "30 the                 \t-         \t-         \t| -\t-\tDT\t-\t-\n",
      "31 bleaching           \t50        \t-         \t| 50\t-\tNN\t-\t-\n",
      "32 to                  \t50        \t-         \t| -\t-\tTO\t-\t-\n",
      "33 begin               \t50        \t-         \t| -\t-\tVB\t-\t-\n",
      "34 .                   \t-         \t-         \t| -\t-\t.\t-\t-\n",
      "****************************************************************************************************\n",
      "SENTENCE 7\n",
      "****************************************************************************************************\n",
      "0  what                \t-         \t-         \t| -\t-\tWP\t-\t-\n",
      "1  do                  \t-         \t-         \t| -\t-\tVBP\t-\t-\n",
      "2  you                 \t-         \t-         \t| -\tAna:7\tPRP\t-\t5\n",
      "3  think               \t-         \t-         \t| -\t-\tVB\t-\t-\n",
      "4  leads               \t-         \t-         \t| -\t-\tVBZ\t-\t-\n",
      "5  to                  \t-         \t-         \t| -\t-\tTO\t-\t-\n",
      "6  differences         \t-         \t-         \t| -\t-\tNNS\t-\t-\n",
      "7  in                  \t-         \t-         \t| -\t-\tIN\t-\t-\n",
      "8  the                 \t-         \t-         \t| -\t-\tDT\t-\t-\n",
      "9  rates               \t-         \t-         \t| -\t-\tNNS\t-\t-\n",
      "10 of                  \t-         \t-         \t| -\t-\tIN\t-\t-\n",
      "11 coral               \t50        \t-         \t| 50\t-\tJJ\t-\t-\n",
      "12 bleaching           \t50        \t-         \t| 50\t-\tNN\t-\t-\n",
      "13 ?                   \t-         \t-         \t| -\t-\t.\t-\t-\n",
      "****************************************************************************************************\n",
      "SENTENCE 8\n",
      "****************************************************************************************************\n",
      "0  there               \t-         \t-         \t| -\t-\tEX\t-\t-\n",
      "1  are                 \t-         \t-         \t| -\t-\tVBP\t-\t-\n",
      "2  many                \t-         \t-         \t| -\t-\tJJ\t-\t-\n",
      "3  things              \t-         \t-         \t| -\t-\tNNS\t-\t-\n",
      "4  that                \t-         \t-         \t| -\t-\tWDT\t-\t-\n",
      "5  make                \t-         \t-         \t| -\t-\tVBP\t-\t-\n",
      "6  this                \t-         \t-         \t| -\t-\tDT\t-\t-\n",
      "7  happen              \t-         \t-         \t| -\t-\tVB\t-\t-\n",
      "8  .                   \t-         \t-         \t| -\t-\t.\t-\t-\n"
     ]
    }
   ],
   "source": [
    "essay = matching_essays[13]\n",
    "tagged_essay = get_coref_processed_essays([essay], format_ana_tags=True, filter_to_predicted_tags=False)[0]\n",
    "visualize_essay(tagged_essay)"
   ]
  },
  {
   "cell_type": "code",
   "execution_count": null,
   "metadata": {},
   "outputs": [],
   "source": []
  },
  {
   "cell_type": "code",
   "execution_count": null,
   "metadata": {},
   "outputs": [],
   "source": []
  }
 ],
 "metadata": {
  "kernelspec": {
   "display_name": "Python [conda env:phd_py36]",
   "language": "python",
   "name": "conda-env-phd_py36-py"
  },
  "language_info": {
   "codemirror_mode": {
    "name": "ipython",
    "version": 3
   },
   "file_extension": ".py",
   "mimetype": "text/x-python",
   "name": "python",
   "nbconvert_exporter": "python",
   "pygments_lexer": "ipython3",
   "version": "3.6.4"
  }
 },
 "nbformat": 4,
 "nbformat_minor": 2
}
