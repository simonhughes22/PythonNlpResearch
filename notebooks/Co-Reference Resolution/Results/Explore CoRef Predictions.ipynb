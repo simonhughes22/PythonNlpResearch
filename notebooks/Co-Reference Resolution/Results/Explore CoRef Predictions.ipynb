{
 "cells": [
  {
   "cell_type": "markdown",
   "metadata": {},
   "source": [
    "## Goals\n",
    " - Debug the current coreference resolution logic. \n",
    "   - Am I missing something obvious?\n",
    "   - Look at some example essays with decent length coreference chains\n",
    "    - Look at the length of each entry\n",
    "    - Look at other previous entries, and their CC tags and POS tags\n",
    "    "
   ]
  },
  {
   "cell_type": "code",
   "execution_count": 16,
   "metadata": {},
   "outputs": [
    {
     "name": "stdout",
     "output_type": "stream",
     "text": [
      "Results Dir: /Users/simon.hughes/Google Drive/Phd/Results/\n",
      "Data Dir:    /Users/simon.hughes/Google Drive/Phd/Data/\n",
      "Root Dir:    /Users/simon.hughes/GitHub/NlpResearch/\n",
      "Public Data: /Users/simon.hughes/GitHub/NlpResearch/Data/PublicDatasets/\n",
      "CoRef Data:  /Users/simon.hughes/Google Drive/Phd/Data/CoralBleaching/Thesis_Dataset/CoReference/\n"
     ]
    }
   ],
   "source": [
    "import dill\n",
    "import pandas as pd\n",
    "\n",
    "from Settings import Settings\n",
    "from collections import defaultdict\n",
    "from BrattEssay import ANAPHORA\n",
    "from CoRefHelper import EMPTY\n",
    "\n",
    "from results_common import get_essays, validate_essays, tally_essay_attributes\n",
    "from process_essays_coref import get_coref_processed_essays\n",
    "from metrics import get_metrics_raw\n",
    "\n",
    "# progress bar widget\n",
    "from ipywidgets import IntProgress\n",
    "from IPython.display import display\n",
    "\n",
    "DATASET = \"CoralBleaching\" # CoralBleaching | SkinCancer\n",
    "\n",
    "settings = Settings()\n",
    "root_folder = settings.data_directory + DATASET + \"/Thesis_Dataset/\"\n",
    "stanford_coref_predictions_folder = root_folder + \"CoReference/\"\n",
    "berkeley_coref_predictions_folder = root_folder + \"CoReference/Berkeley/\"\n",
    "coref_predictions_folder = stanford_coref_predictions_folder\n",
    "print(\"CoRef Data: \", stanford_coref_predictions_folder)"
   ]
  },
  {
   "cell_type": "code",
   "execution_count": 2,
   "metadata": {},
   "outputs": [
    {
     "name": "stdout",
     "output_type": "stream",
     "text": [
      "Found file /Users/simon.hughes/Google Drive/Phd/Data/CoralBleaching/Thesis_Dataset/CoReference/training_processed.dill\n"
     ]
    }
   ],
   "source": [
    "training_essays = get_essays(coref_predictions_folder, \"Training\")"
   ]
  },
  {
   "cell_type": "code",
   "execution_count": 3,
   "metadata": {},
   "outputs": [
    {
     "name": "stdout",
     "output_type": "stream",
     "text": [
      "Found file /Users/simon.hughes/Google Drive/Phd/Data/CoralBleaching/Thesis_Dataset/CoReference/test_processed.dill\n"
     ]
    }
   ],
   "source": [
    "test_essays = get_essays(coref_predictions_folder, \"Test\")"
   ]
  },
  {
   "cell_type": "code",
   "execution_count": 4,
   "metadata": {},
   "outputs": [],
   "source": [
    "all_essays = training_essays + test_essays"
   ]
  },
  {
   "cell_type": "code",
   "execution_count": 5,
   "metadata": {},
   "outputs": [],
   "source": [
    "# ner_tally = tally_essay_attributes(all_essays, attribute_name=\"pred_ner_tags_sentences\")\n",
    "pos_tally = tally_essay_attributes(all_essays, attribute_name=\"pred_pos_tags_sentences\")"
   ]
  },
  {
   "cell_type": "markdown",
   "metadata": {},
   "source": [
    "## Look at the Anaphor Tags"
   ]
  },
  {
   "cell_type": "code",
   "execution_count": 6,
   "metadata": {},
   "outputs": [
    {
     "data": {
      "text/plain": [
       "['Anaphor:[11]',\n",
       " 'Anaphor:[12]',\n",
       " 'Anaphor:[13]',\n",
       " 'Anaphor:[14]',\n",
       " 'Anaphor:[1]',\n",
       " 'Anaphor:[2]',\n",
       " 'Anaphor:[3]',\n",
       " 'Anaphor:[4]',\n",
       " 'Anaphor:[50]',\n",
       " 'Anaphor:[5]',\n",
       " 'Anaphor:[5b]',\n",
       " 'Anaphor:[6]',\n",
       " 'Anaphor:[7]']"
      ]
     },
     "execution_count": 6,
     "metadata": {},
     "output_type": "execute_result"
    }
   ],
   "source": [
    "from results_procesor import is_a_regular_code\n",
    "\n",
    "cc_tally = defaultdict(int)\n",
    "cr_tally = defaultdict(int)\n",
    "reg_tally = defaultdict(int)\n",
    "for e in all_essays:\n",
    "    for sent in e.sentences:\n",
    "        for wd, tags in sent:\n",
    "            for t in tags:\n",
    "                if is_a_regular_code(t):\n",
    "                    reg_tally[t] += 1\n",
    "                if ANAPHORA in t and \"other\" not in t:\n",
    "                    if \"->\" in t:\n",
    "                        cr_tally[t] += 1\n",
    "                    elif \"Anaphor:[\" in t:\n",
    "                        cc_tally[t] += 1\n",
    "\n",
    "reg_tags = sorted(reg_tally.keys())\n",
    "all_ana_tags = sorted(cc_tally.keys())\n",
    "assert len(reg_tags) == len(all_ana_tags)\n",
    "all_ana_tags"
   ]
  },
  {
   "cell_type": "code",
   "execution_count": 7,
   "metadata": {},
   "outputs": [],
   "source": [
    "name2essay = {}\n",
    "for e in all_essays:\n",
    "    name2essay[e.name] = e"
   ]
  },
  {
   "cell_type": "code",
   "execution_count": 66,
   "metadata": {},
   "outputs": [
    {
     "data": {
      "text/plain": [
       "59"
      ]
     },
     "execution_count": 66,
     "metadata": {},
     "output_type": "execute_result"
    }
   ],
   "source": [
    "from process_essays_coref import build_segmented_chain\n",
    "\n",
    "DESIRED_CHAIN_LEN = 4\n",
    "MIN_ANA_TAGS = 3\n",
    "\n",
    "matching_essays = []\n",
    "for e in all_essays:    \n",
    "    has_anaphora_tags = False\n",
    "    tally_ana_tags = defaultdict(int)\n",
    "    for sent in e.sentences:\n",
    "        for wd,tag in sent:\n",
    "            for t in tag:\n",
    "                if \"anaphor\" in t.lower():\n",
    "                    tally_ana_tags[t] +=1\n",
    "    \n",
    "    if len(tally_ana_tags) == 0:\n",
    "        continue\n",
    "    max_ana_tags = max(tally_ana_tags.values())\n",
    "    if max_ana_tags < MIN_ANA_TAGS:\n",
    "        continue\n",
    "        \n",
    "    corefid2chain = build_segmented_chain(e)\n",
    "    max_len = 0\n",
    "    for corefid, segmented_chain in corefid2chain.items():\n",
    "        chain_len = len(segmented_chain)\n",
    "        if chain_len == DESIRED_CHAIN_LEN:\n",
    "            matching_essays.append(e)\n",
    "len(matching_essays)"
   ]
  },
  {
   "cell_type": "code",
   "execution_count": 74,
   "metadata": {},
   "outputs": [],
   "source": [
    "def blank_if_none(val):\n",
    "    return \"-\" if (val is None or not val or str(val).lower() == \"none\" or str(val) == EMPTY) else val\n",
    "\n",
    "def visualize_essay(e):\n",
    "    for sent_ix in range(len(e.sentences)):       \n",
    "        sent = e.sentences[sent_ix]\n",
    "\n",
    "        # SENTENCE LEVEL TAGS / PREDICTIONS\n",
    "        ana_tags = e.ana_tagged_sentences[sent_ix]\n",
    "        coref_ids = e.pred_corefids[sent_ix]\n",
    "        # ner_tags = e.pred_ner_tags_sentences[sent_ix]\n",
    "        pos_tags = e.pred_pos_tags_sentences[sent_ix]\n",
    "        ptags = e.pred_tagged_sentences[sent_ix]\n",
    "        \n",
    "        print(\"*\" * 80)\n",
    "        print(\"SENTENCE {sent_ix}\".format(sent_ix=sent_ix))\n",
    "        print(\"*\" * 80)\n",
    "        for wd_ix in range(len(sent)):\n",
    "            pos_tag = pos_tags[wd_ix]  # POS tag\n",
    "\n",
    "            word, act_tags = sent[wd_ix]  # ignore actual tags\n",
    "            pred_cc_tag = ptags[wd_ix]  # predict cc tag\n",
    "\n",
    "            is_ana_tag = ana_tags[wd_ix] == ANAPHORA\n",
    "            wd_coref_ids = coref_ids[wd_ix]  # Set[str]\n",
    "            \n",
    "            # for display\n",
    "            disp_act_tags = blank_if_none(\",\".join(act_tags.intersection(reg_tags)))\n",
    "            disp_ana_tags = blank_if_none(\",\".join(act_tags.intersection(all_ana_tags)))\n",
    "            disp_ana_tags = disp_ana_tags.replace(\"Anaphor:[\",\"\").replace(\"]\",\"\")\n",
    "            if disp_ana_tags != \"-\":\n",
    "                disp_ana_tags = \"Ana:\" + disp_ana_tags\n",
    "            \n",
    "            print(\"{wd_ix} {word}\\t{act_tags}\\t{ana_tags}\\t{pred_tag}\\t{pos_tag}\\t{is_ana_tag}\\t{corefids}\".format(\n",
    "                wd_ix=str(wd_ix).ljust(2),\n",
    "                word=word.ljust(20),\n",
    "                act_tags=disp_act_tags.ljust(10),\n",
    "                ana_tags=disp_ana_tags.ljust(10),\n",
    "                pred_tag=blank_if_none(pred_cc_tag),\n",
    "                pos_tag=blank_if_none(pos_tag),\n",
    "                is_ana_tag= \"X\" if is_ana_tag else \"-\",\n",
    "                corefids = blank_if_none(\",\".join(sorted(wd_coref_ids)))\n",
    "            ))    "
   ]
  },
  {
   "cell_type": "code",
   "execution_count": 75,
   "metadata": {
    "scrolled": false
   },
   "outputs": [
    {
     "name": "stdout",
     "output_type": "stream",
     "text": [
      "********************************************************************************\n",
      "SENTENCE 0\n",
      "********************************************************************************\n",
      "0  coral               \t50        \t-         \t50\tNN\t-\t-\n",
      "1  bleaching           \t50        \t-         \t50\tNN\t-\t-\n",
      "2  is                  \t-         \t-         \t-\tVBZ\t-\t-\n",
      "3  caused              \t-         \t-         \t-\tVBN\t-\t-\n",
      "4  or                  \t-         \t-         \t-\tCC\t-\t-\n",
      "5  the                 \t-         \t-         \t-\tDT\t-\t-\n",
      "6  rates               \t-         \t-         \t-\tNNS\t-\t-\n",
      "7  of                  \t-         \t-         \t-\tIN\t-\t-\n",
      "8  coral               \t50        \t-         \t50\tNN\t-\t-\n",
      "9  bleaching           \t50        \t-         \t50\tNN\t-\t-\n",
      "10 is                  \t-         \t-         \t-\tVBZ\t-\t-\n",
      "11 increasing          \t-         \t-         \t-\tVBG\t-\t-\n",
      "12 and                 \t-         \t-         \t-\tCC\t-\t-\n",
      "13 changing            \t-         \t-         \t-\tVBG\t-\t-\n",
      "14 because             \t-         \t-         \t-\tRB\t-\t-\n",
      "15 many                \t-         \t-         \t-\tJJ\t-\t4\n",
      "16 physical            \t-         \t-         \t-\tJJ\t-\t4\n",
      "17 damages             \t-         \t-         \t-\tNNS\t-\t4\n",
      "18 are                 \t-         \t-         \t-\tVBP\t-\t-\n",
      "19 happening           \t-         \t-         \t-\tVBG\t-\t-\n",
      "20 to                  \t-         \t-         \t-\tTO\t-\t-\n",
      "21 the                 \t-         \t-         \t-\tDT\t-\t5\n",
      "22 corals              \t-         \t-         \t-\tNNS\t-\t5\n",
      "23 and                 \t-         \t-         \t-\tCC\t-\t-\n",
      "24 this                \t-         \t-         \t-\tDT\t-\t-\n",
      "25 effects             \t-         \t-         \t-\tNNS\t-\t-\n",
      "26 their               \t-         \t-         \t-\tPRP$\t-\t4\n",
      "27 health              \t-         \t-         \t-\tNN\t-\t-\n",
      "28 .                   \t-         \t-         \t-\t.\t-\t-\n",
      "********************************************************************************\n",
      "SENTENCE 1\n",
      "********************************************************************************\n",
      "0  for                 \t-         \t-         \t-\tIN\t-\t-\n",
      "1  example             \t-         \t-         \t-\tNN\t-\t-\n",
      "2  ,                   \t-         \t-         \t-\t,\t-\t-\n",
      "3  fishing             \t-         \t-         \t-\tNN\t-\t-\n",
      "4  and                 \t-         \t-         \t-\tCC\t-\t-\n",
      "5  tourists            \t-         \t-         \t-\tNNS\t-\t-\n",
      "6  who                 \t-         \t-         \t-\tWP\t-\t-\n",
      "7  drop                \t-         \t-         \t-\tVBP\t-\t-\n",
      "8  anchors             \t-         \t-         \t-\tNNS\t-\t-\n",
      "9  or                  \t-         \t-         \t-\tCC\t-\t-\n",
      "10 walk                \t-         \t-         \t-\tVB\t-\t-\n",
      "11 on                  \t-         \t-         \t-\tIN\t-\t-\n",
      "12 the                 \t-         \t-         \t-\tDT\t-\t-\n",
      "13 reefs               \t-         \t-         \t-\tNNS\t-\t-\n",
      "14 threatens           \t-         \t-         \t-\tVBZ\t-\t-\n",
      "15 the                 \t-         \t-         \t-\tDT\t-\t-\n",
      "16 environment         \t-         \t-         \t-\tNN\t-\t-\n",
      "17 of                  \t-         \t-         \t-\tIN\t-\t-\n",
      "18 corals              \t-         \t-         \t-\tNNS\t-\t-\n",
      "19 and                 \t-         \t-         \t-\tCC\t-\t-\n",
      "20 these               \t-         \t-         \t-\tDT\t-\t2\n",
      "21 action              \t-         \t-         \t-\tNN\t-\t2\n",
      "22 changes             \t-         \t-         \t-\tVBZ\t-\t-\n",
      "23 the                 \t-         \t-         \t-\tDT\t-\t-\n",
      "24 corals              \t-         \t-         \t-\tNNS\t-\t-\n",
      "25 environment         \t-         \t-         \t-\tNN\t-\t-\n",
      "26 so                  \t-         \t-         \t-\tIN\t-\t-\n",
      "27 it                  \t-         \t-         \t-\tPRP\t-\t2\n",
      "28 causes              \t-         \t-         \t-\tVBZ\t-\t-\n",
      "29 stress              \t6         \t-         \t6\tNN\t-\t-\n",
      "30 for                 \t6         \t-         \t6\tIN\t-\t-\n",
      "31 the                 \t6         \t-         \t6\tDT\t-\t-\n",
      "32 corals              \t6         \t-         \t6\tNNS\t-\t-\n",
      "33 .                   \t-         \t-         \t-\t.\t-\t-\n",
      "********************************************************************************\n",
      "SENTENCE 2\n",
      "********************************************************************************\n",
      "0  when                \t-         \t-         \t-\tWRB\t-\t-\n",
      "1  the                 \t-         \t-         \t-\tDT\t-\t-\n",
      "2  corals              \t6         \t-         \t6\tNNS\t-\t-\n",
      "3  are                 \t6         \t-         \t6\tVBP\t-\t-\n",
      "4  stress              \t6         \t-         \t6\tNN\t-\t-\n",
      "5  ,                   \t-         \t-         \t-\t,\t-\t-\n",
      "6  they                \t-         \t-         \t-\tPRP\t-\t5\n",
      "7  eject               \t7         \t-         \t7\tVBP\t-\t-\n",
      "8  their               \t7         \t-         \t7\tPRP$\t-\t5\n",
      "9  food                \t7         \t-         \t7\tNN\t-\t-\n",
      "10 -                   \t-         \t-         \t-\tCOLON\t-\t-\n",
      "11 producing           \t7         \t-         \t7\tVBG\t-\t-\n",
      "12 algae               \t7         \t-         \t7\tNNS\t-\t-\n",
      "13 and                 \t-         \t-         \t-\tCC\t-\t-\n",
      "14 this                \t-         \t-         \t-\tDT\t-\t-\n",
      "15 increases           \t50        \t-         \t-\tVBZ\t-\t-\n",
      "16 them                \t50        \t-         \t50\tPRP\t-\t5\n",
      "17 to                  \t50        \t-         \t50\tTO\t-\t-\n",
      "18 change              \t50        \t-         \t50\tVB\t-\t-\n",
      "19 colors              \t50        \t-         \t50\tNNS\t-\t-\n",
      "20 and                 \t-         \t-         \t-\tCC\t-\t-\n",
      "21 die                 \t-         \t-         \t-\tVB\t-\t-\n",
      "22 .                   \t-         \t-         \t-\t.\t-\t-\n",
      "********************************************************************************\n",
      "SENTENCE 3\n",
      "********************************************************************************\n",
      "0  another             \t-         \t-         \t-\tDT\t-\t-\n",
      "1  thing               \t-         \t-         \t-\tNN\t-\t-\n",
      "2  that                \t-         \t-         \t-\tWDT\t-\t-\n",
      "3  happens             \t-         \t-         \t-\tVBZ\t-\t-\n",
      "4  coral               \t-         \t-         \t-\tNN\t-\t-\n",
      "5  health              \t-         \t-         \t-\tNN\t-\t-\n",
      "6  is                  \t-         \t-         \t-\tVBZ\t-\t-\n",
      "7  salinity            \t-         \t-         \t13\tNN\t-\t-\n",
      "8  .                   \t-         \t-         \t-\t.\t-\t-\n",
      "********************************************************************************\n",
      "SENTENCE 4\n",
      "********************************************************************************\n",
      "0  if                  \t-         \t-         \t-\tIN\t-\t-\n",
      "1  there               \t-         \t-         \t-\tEX\t-\t-\n",
      "2  isnt                \t13        \t-         \t-\tNN\t-\t-\n",
      "3  enough              \t13        \t-         \t5b\tRB\t-\t-\n",
      "4  salinity            \t13        \t-         \t13\tJJ\t-\t-\n",
      "5  need                \t-         \t-         \t-\tNN\t-\t-\n",
      "6  for                 \t-         \t-         \t-\tIN\t-\t-\n",
      "7  coral               \t-         \t-         \t-\tNN\t-\t1\n",
      "8  health              \t-         \t-         \t50\tNN\t-\t1\n",
      "9  ,                   \t-         \t-         \t-\t,\t-\t-\n",
      "10 they                \t-         \t-         \t50\tPRP\t-\t1\n",
      "11 will                \t50        \t-         \t50\tMD\t-\t-\n",
      "12 die                 \t50        \t-         \t50\tVB\t-\t-\n",
      "13 and                 \t-         \t-         \t50\tCC\t-\t-\n",
      "14 change              \t50        \t-         \t50\tVB\t-\t-\n",
      "15 into                \t50        \t-         \t50\tIN\t-\t-\n",
      "16 white               \t50        \t-         \t50\tJJ\t-\t-\n",
      "17 color               \t50        \t-         \t50\tNN\t-\t-\n",
      "18 .                   \t-         \t-         \t-\t.\t-\t-\n",
      "********************************************************************************\n",
      "SENTENCE 5\n",
      "********************************************************************************\n",
      "0  for                 \t-         \t-         \t-\tIN\t-\t-\n",
      "1  example             \t-         \t-         \t-\tNN\t-\t-\n",
      "2  ,                   \t-         \t-         \t-\t,\t-\t-\n",
      "3  when                \t-         \t-         \t-\tWRB\t-\t-\n",
      "4  there               \t-         \t-         \t-\tEX\t-\t-\n",
      "5  is                  \t-         \t-         \t-\tVBZ\t-\t-\n",
      "6  hurricane           \t11        \t-         \t11\tNN\t-\t-\n",
      "7  or                  \t11        \t-         \t11\tCC\t-\t-\n",
      "8  tropical            \t11        \t-         \t11\tJJ\t-\t3\n",
      "9  storms              \t11        \t-         \t11\tNNS\t-\t3\n",
      "10 ,                   \t-         \t-         \t-\t,\t-\t-\n",
      "11 it                  \t-         \t-         \t-\tPRP\t-\t3\n",
      "12 increases           \t12        \t-         \t12\tVBZ\t-\t-\n",
      "13 the                 \t12        \t-         \t12\tDT\t-\t-\n",
      "14 amount              \t12        \t-         \t12\tNN\t-\t-\n",
      "15 of                  \t12        \t-         \t12\tIN\t-\t-\n",
      "16 fresh               \t12        \t-         \t12\tJJ\t-\t-\n",
      "17 water               \t12        \t-         \t12\tNN\t-\t-\n",
      "18 in                  \t12        \t-         \t12\tIN\t-\t-\n",
      "19 the                 \t12        \t-         \t12\tDT\t-\t-\n",
      "20 ocean               \t12        \t-         \t12\tNN\t-\t-\n",
      "21 and                 \t-         \t-         \t-\tCC\t-\t-\n",
      "22 this                \t-         \t-         \t-\tDT\t-\t-\n",
      "23 causes              \t-         \t-         \t-\tVBZ\t-\t-\n",
      "24 salinity            \t13        \t-         \t13\tNN\t-\t-\n",
      "25 to                  \t13        \t-         \t13\tTO\t-\t-\n",
      "26 drop                \t13        \t-         \t13\tVB\t-\t-\n",
      "27 .                   \t-         \t-         \t-\t.\t-\t-\n",
      "********************************************************************************\n",
      "SENTENCE 6\n",
      "********************************************************************************\n",
      "0  INFREQUENT          \t-         \tAna:13    \t-\tNNP\t-\t-\n",
      "1  are                 \t-         \t-         \t-\tVBP\t-\t-\n",
      "2  the                 \t-         \t-         \t-\tDT\t-\t-\n",
      "3  things              \t-         \t-         \t-\tNNS\t-\t-\n",
      "4  one                 \t-         \t-         \t-\tCD\t-\t-\n",
      "5  reasons             \t-         \t-         \t-\tNNS\t-\t-\n",
      "6  that                \t-         \t-         \t-\tWDT\t-\t-\n",
      "7  causes              \t-         \t-         \t-\tVBZ\t-\t-\n",
      "8  coral               \t50        \t-         \t50\tNN\t-\t-\n",
      "9  bleaching           \t50        \t-         \t50\tNN\t-\t-\n",
      "10 .                   \t-         \t-         \t-\t.\t-\t-\n",
      "********************************************************************************\n",
      "SENTENCE 7\n",
      "********************************************************************************\n",
      "0  ran                 \t-         \t-         \t-\tNN\t-\t-\n",
      "1  out                 \t-         \t-         \t-\tIN\t-\t-\n",
      "2  of                  \t-         \t-         \t-\tIN\t-\t-\n",
      "3  time                \t-         \t-         \t-\t-\t-\t-\n"
     ]
    }
   ],
   "source": [
    "visualize_essay(matching_essays[12])"
   ]
  },
  {
   "cell_type": "code",
   "execution_count": null,
   "metadata": {},
   "outputs": [],
   "source": []
  },
  {
   "cell_type": "code",
   "execution_count": null,
   "metadata": {},
   "outputs": [],
   "source": []
  }
 ],
 "metadata": {
  "kernelspec": {
   "display_name": "Python [conda env:phd_py36]",
   "language": "python",
   "name": "conda-env-phd_py36-py"
  },
  "language_info": {
   "codemirror_mode": {
    "name": "ipython",
    "version": 3
   },
   "file_extension": ".py",
   "mimetype": "text/x-python",
   "name": "python",
   "nbconvert_exporter": "python",
   "pygments_lexer": "ipython3",
   "version": "3.6.4"
  }
 },
 "nbformat": 4,
 "nbformat_minor": 2
}
