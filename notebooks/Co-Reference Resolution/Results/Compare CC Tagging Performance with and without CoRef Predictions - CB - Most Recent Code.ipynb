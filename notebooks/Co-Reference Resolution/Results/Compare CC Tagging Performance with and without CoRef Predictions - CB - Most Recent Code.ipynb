{
 "cells": [
  {
   "cell_type": "code",
   "execution_count": 1,
   "metadata": {},
   "outputs": [],
   "source": [
    "import dill\n",
    "import pandas as pd\n",
    "\n",
    "from Settings import Settings\n",
    "from collections import defaultdict\n",
    "from BrattEssay import ANAPHORA\n",
    "\n",
    "from results_common import get_essays, validate_essays\n",
    "from process_essays_coref import get_coref_processed_essays, processed_essays_predict_most_recent_tag\n",
    "from metrics import get_metrics_raw\n",
    "from results_common import tally_essay_attributes"
   ]
  },
  {
   "cell_type": "markdown",
   "metadata": {},
   "source": [
    "# Configure\n",
    "- Set values from the hyper parameter tuning results"
   ]
  },
  {
   "cell_type": "code",
   "execution_count": 2,
   "metadata": {},
   "outputs": [],
   "source": [
    "DATASET = \"CoralBleaching\" # CoralBleaching | SkinCancer"
   ]
  },
  {
   "cell_type": "code",
   "execution_count": 3,
   "metadata": {},
   "outputs": [
    {
     "name": "stdout",
     "output_type": "stream",
     "text": [
      "Results Dir: /Users/simon.hughes/Google Drive/Phd/Results/\n",
      "Data Dir:    /Users/simon.hughes/Google Drive/Phd/Data/\n",
      "Root Dir:    /Users/simon.hughes/GitHub/NlpResearch/\n",
      "Public Data: /Users/simon.hughes/GitHub/NlpResearch/Data/PublicDatasets/\n"
     ]
    }
   ],
   "source": [
    "settings = Settings()\n",
    "root_folder = settings.data_directory + DATASET + \"/Thesis_Dataset/\"\n",
    "stanford_coref_predictions_folder = root_folder + \"CoReference/\"\n",
    "berkeley_coref_predictions_folder = root_folder + \"CoReference/Berkeley/\""
   ]
  },
  {
   "cell_type": "code",
   "execution_count": 4,
   "metadata": {},
   "outputs": [
    {
     "name": "stdout",
     "output_type": "stream",
     "text": [
      "CoRef Data:  /Users/simon.hughes/Google Drive/Phd/Data/CoralBleaching/Thesis_Dataset/CoReference/Berkeley/\n"
     ]
    }
   ],
   "source": [
    "# Which algorithm?\n",
    "coref_predictions_folder = berkeley_coref_predictions_folder\n",
    "print(\"CoRef Data: \", coref_predictions_folder)"
   ]
  },
  {
   "cell_type": "markdown",
   "metadata": {},
   "source": [
    "## Load Essays"
   ]
  },
  {
   "cell_type": "code",
   "execution_count": 5,
   "metadata": {},
   "outputs": [
    {
     "name": "stdout",
     "output_type": "stream",
     "text": [
      "Found file /Users/simon.hughes/Google Drive/Phd/Data/CoralBleaching/Thesis_Dataset/CoReference/Berkeley/training_processed.dill\n"
     ]
    }
   ],
   "source": [
    "training_essays = get_essays(coref_predictions_folder, \"Training\")"
   ]
  },
  {
   "cell_type": "code",
   "execution_count": 6,
   "metadata": {},
   "outputs": [
    {
     "name": "stdout",
     "output_type": "stream",
     "text": [
      "Found file /Users/simon.hughes/Google Drive/Phd/Data/CoralBleaching/Thesis_Dataset/CoReference/Berkeley/test_processed.dill\n"
     ]
    }
   ],
   "source": [
    "test_essays = get_essays(coref_predictions_folder, \"Test\")"
   ]
  },
  {
   "cell_type": "code",
   "execution_count": 7,
   "metadata": {},
   "outputs": [],
   "source": [
    "all_essays = training_essays + test_essays"
   ]
  },
  {
   "cell_type": "markdown",
   "metadata": {},
   "source": [
    "## Look at the Anaphor Tags"
   ]
  },
  {
   "cell_type": "code",
   "execution_count": 8,
   "metadata": {},
   "outputs": [
    {
     "data": {
      "text/plain": [
       "['Anaphor:[11]',\n",
       " 'Anaphor:[12]',\n",
       " 'Anaphor:[13]',\n",
       " 'Anaphor:[14]',\n",
       " 'Anaphor:[1]',\n",
       " 'Anaphor:[2]',\n",
       " 'Anaphor:[3]',\n",
       " 'Anaphor:[4]',\n",
       " 'Anaphor:[50]',\n",
       " 'Anaphor:[5]',\n",
       " 'Anaphor:[5b]',\n",
       " 'Anaphor:[6]',\n",
       " 'Anaphor:[7]']"
      ]
     },
     "execution_count": 8,
     "metadata": {},
     "output_type": "execute_result"
    }
   ],
   "source": [
    "from results_procesor import is_a_regular_code\n",
    "\n",
    "cc_tally = defaultdict(int)\n",
    "cr_tally = defaultdict(int)\n",
    "reg_tally = defaultdict(int)\n",
    "for e in all_essays:\n",
    "    for sent in e.sentences:\n",
    "        for wd, tags in sent:\n",
    "            for t in tags:\n",
    "                if is_a_regular_code(t):\n",
    "                    reg_tally[t] += 1\n",
    "                if ANAPHORA in t and \"other\" not in t:\n",
    "                    if \"->\" in t:\n",
    "                        cr_tally[t] += 1\n",
    "                    elif \"Anaphor:[\" in t and \"rhetorical\" not in t:\n",
    "                        cc_tally[t] += 1\n",
    "\n",
    "reg_tags = sorted(reg_tally.keys())\n",
    "all_ana_tags = sorted(cc_tally.keys())\n",
    "assert len(reg_tags) == len(all_ana_tags)\n",
    "all_ana_tags"
   ]
  },
  {
   "cell_type": "code",
   "execution_count": 9,
   "metadata": {},
   "outputs": [],
   "source": [
    "def blank_if_none(val):\n",
    "    return \"-\" if (val is None or not val or str(val).lower() == \"none\") else val"
   ]
  },
  {
   "cell_type": "code",
   "execution_count": 10,
   "metadata": {},
   "outputs": [],
   "source": [
    "def get_metrics(essays, format_ana_tags, expected_tags):\n",
    "    \n",
    "    proc_essays = processed_essays_predict_most_recent_tag(\n",
    "        essays=essays, format_ana_tags=format_ana_tags)                \n",
    "    \n",
    "    metrics = get_metrics_raw(proc_essays, expected_tags=expected_tags,  micro_only=True)\n",
    "    return metrics"
   ]
  },
  {
   "cell_type": "code",
   "execution_count": 11,
   "metadata": {},
   "outputs": [],
   "source": [
    "def aggregate_metrics(metrics_dict, codes):\n",
    "    aggregate = {'data_points': 0,\n",
    "                 'num_codes': 0,             \n",
    "                 'fn': 0.0,\n",
    "                 'fp': 0.0,\n",
    "                 'tn': 0.0,\n",
    "                 'tp': 0.0}\n",
    "    for tag in sorted(codes):    \n",
    "        m = metrics_dict[tag]\n",
    "        for k in list(aggregate.keys()):\n",
    "            aggregate[k] += m[k]\n",
    "    return aggregate\n",
    "\n",
    "def combine_metrics(metricsa, metricsb):\n",
    "    aggregate = dict(metricsa)    \n",
    "    for k in list(aggregate.keys()):\n",
    "        aggregate[k] += metricsb[k]\n",
    "    return aggregate"
   ]
  },
  {
   "cell_type": "code",
   "execution_count": 12,
   "metadata": {},
   "outputs": [],
   "source": [
    "def calc_metrics_from_counts(aggregate):\n",
    "    tp, tn, fp, fn = aggregate[\"tp\"], aggregate[\"tn\"],aggregate[\"fp\"],aggregate[\"fn\"]\n",
    "    prec = tp / (tp + fp)\n",
    "    rec =  tp / (tp + fn)\n",
    "    f1 = 2 * prec * rec / (prec + rec)\n",
    "\n",
    "    return {\"f1\": f1, \"prec\": prec, \"rec\": rec}"
   ]
  },
  {
   "cell_type": "markdown",
   "metadata": {},
   "source": [
    "## Get Data From Mongo"
   ]
  },
  {
   "cell_type": "code",
   "execution_count": 13,
   "metadata": {},
   "outputs": [],
   "source": [
    "import numpy as np\n",
    "import pandas as pd\n",
    "import pymongo\n",
    "\n",
    "client = pymongo.MongoClient()\n",
    "db = client.metrics_codes"
   ]
  },
  {
   "cell_type": "code",
   "execution_count": 14,
   "metadata": {},
   "outputs": [],
   "source": [
    "from bson.son import SON # needed to ensure dictionary is ordered (python default is not)\n",
    "import hashlib\n",
    "\n",
    "def hash_feats(fts):\n",
    "    vals = fts.values\n",
    "    joined = \"|\".join(map(lambda s: str(s),vals)).encode('utf-8') \n",
    "    return hashlib.sha224(joined).hexdigest()\n",
    "\n",
    "def get_df_sorted_by_f1score(collection, params=None, filter_cols=True):\n",
    "    if not params:\n",
    "        params = []\n",
    "    if type(params) == str:\n",
    "        params = params.split(\",\")\n",
    "    \n",
    "    project = {\n",
    "            \"weighted_f1_score\":\"$WEIGHTED_MEAN_CONCEPT_CODES.f1_score\",\n",
    "            \"macro_f1_score\":   \"$MACRO_F1\",\n",
    "            \"micro_f1_score\":  \"$MICRO_F1.f1_score\",\n",
    "            \"micro_recall\":    \"$MICRO_F1.recall\",\n",
    "            \"micro_precision\": \"$MICRO_F1.precision\",\n",
    "    \n",
    "    # PARAMETERS            \n",
    "            \"window_size\":    \"$parameters.window_size\",\n",
    "            \"feats\":          \"$parameters.extractors\",\n",
    "            \"count\": {        \"$size\" : \"$parameters.extractors\" },\n",
    "            \"asof\" :          \"$asof\",\n",
    "            \"_id\":1\n",
    "    }\n",
    "    \n",
    "    # No count for HMM\n",
    "    if \"_hmm\" in collection.lower():\n",
    "        del project[\"count\"]\n",
    "    \n",
    "    for param in params:\n",
    "        project[param] = \"$parameters.\" + param\n",
    "\n",
    "    feats_pipeline = [{\n",
    "        \"$project\": project\n",
    "    },\n",
    "    {\n",
    "        \"$match\":{\n",
    "            \"micro_f1_score\": { \"$exists\" : True }        \n",
    "        }\n",
    "    },\n",
    "    {\n",
    "        \"$sort\":{\n",
    "            \"micro_f1_score\": -1\n",
    "        }\n",
    "    },\n",
    "    ]\n",
    "    \n",
    "    rows = [row for row in db[collection].aggregate(feats_pipeline)]\n",
    "    df = pd.DataFrame(rows).sort_values(\"micro_f1_score\", ascending=False)\n",
    "    if params:\n",
    "        df[\"hs_params\"] = df[params].apply(hash_feats, axis=1)\n",
    "        \n",
    "    if filter_cols:\n",
    "        cols = [\"micro_f1_score\", \"micro_recall\" ,\"micro_precision\", \"macro_f1_score\" ] + params\n",
    "        return df[cols]\n",
    "    return df, "
   ]
  },
  {
   "cell_type": "code",
   "execution_count": 15,
   "metadata": {},
   "outputs": [],
   "source": [
    "def get_best_row(collection):\n",
    "    df = get_df_sorted_by_f1score(collection)\n",
    "    top_row = df.iloc[0]\n",
    "\n",
    "    c = db[collection]\n",
    "    rows = list(c.find())\n",
    "    best_row = None\n",
    "    for r in rows:\n",
    "        micro_f1 = r[\"MICRO_F1\"]\n",
    "        if micro_f1[\"f1_score\"] == top_row[\"micro_f1_score\"]:\n",
    "            assert best_row is None\n",
    "            best_row = r\n",
    "    return best_row"
   ]
  },
  {
   "cell_type": "code",
   "execution_count": 16,
   "metadata": {},
   "outputs": [],
   "source": [
    "def get_aggregate_counts_from_mongo(collection):\n",
    "    best_row = get_best_row(collection)\n",
    "    return aggregate_metrics(best_row, reg_tags)"
   ]
  },
  {
   "cell_type": "code",
   "execution_count": 17,
   "metadata": {},
   "outputs": [],
   "source": [
    "from numpy import dtype\n",
    "\n",
    "def round_data(df, places=3):\n",
    "    df_copy = df.copy()\n",
    "    dict_types = dict(df_copy.dtypes)\n",
    "    fmt_str = \"{0:.\" + str(places) + \"f}\"\n",
    "    cols = set([v for v in df_copy.columns.values])\n",
    "    for c in cols:\n",
    "        dtyp = dict_types[c]\n",
    "        if dtyp == dtype('float64'):\n",
    "            df_copy[c] = df[c].apply(lambda d: fmt_str.format(d))  \n",
    "    return df_copy"
   ]
  },
  {
   "cell_type": "markdown",
   "metadata": {},
   "source": [
    "## Get Counts from Best CC Tagging Model"
   ]
  },
  {
   "cell_type": "markdown",
   "metadata": {},
   "source": [
    "## NOTE on Methodology\n",
    "- To back in to the metrics, we need to compute the raw fp, fn, tp, tn counts from the different experiment runs\n",
    "- Then we take the run on the CC codes, and add those raw counts to the counts from the anaphora resolution. There is one minor issue - for one or two words these codes likely overlap but that's very rare (and may not happen)\n",
    "- Then we re-compute the mirco metrics from these counts"
   ]
  },
  {
   "cell_type": "code",
   "execution_count": 18,
   "metadata": {},
   "outputs": [],
   "source": [
    "def counts_to_metrics_df(counts):\n",
    "    return pd.DataFrame([calc_metrics_from_counts(counts)])"
   ]
  },
  {
   "cell_type": "markdown",
   "metadata": {},
   "source": [
    "## CV Metrics"
   ]
  },
  {
   "cell_type": "markdown",
   "metadata": {},
   "source": [
    "#### Get CC Only Counts from Mongo"
   ]
  },
  {
   "cell_type": "code",
   "execution_count": 19,
   "metadata": {},
   "outputs": [],
   "source": [
    "PREFIX = \"CB\" if DATASET == \"CoralBleaching\" else \"SC\"\n",
    "vd_collection = PREFIX + \"_TAGGING_VD_RNN_MOST_COMMON_TAG_HYPER_PARAM_TUNING\""
   ]
  },
  {
   "cell_type": "code",
   "execution_count": 20,
   "metadata": {},
   "outputs": [
    {
     "data": {
      "text/plain": [
       "{'data_points': 1783158,\n",
       " 'fn': 5915.0,\n",
       " 'fp': 4707.0,\n",
       " 'num_codes': 33259,\n",
       " 'tn': 1745192.0,\n",
       " 'tp': 27344.0}"
      ]
     },
     "execution_count": 20,
     "metadata": {},
     "output_type": "execute_result"
    }
   ],
   "source": [
    "vd_cc_counts = get_aggregate_counts_from_mongo(collection=vd_collection)\n",
    "vd_cc_counts"
   ]
  },
  {
   "cell_type": "code",
   "execution_count": 21,
   "metadata": {},
   "outputs": [
    {
     "data": {
      "text/html": [
       "<div>\n",
       "<table border=\"1\" class=\"dataframe\">\n",
       "  <thead>\n",
       "    <tr style=\"text-align: right;\">\n",
       "      <th></th>\n",
       "      <th>f1</th>\n",
       "      <th>prec</th>\n",
       "      <th>rec</th>\n",
       "    </tr>\n",
       "  </thead>\n",
       "  <tbody>\n",
       "    <tr>\n",
       "      <th>0</th>\n",
       "      <td>0.83736</td>\n",
       "      <td>0.85314</td>\n",
       "      <td>0.822153</td>\n",
       "    </tr>\n",
       "  </tbody>\n",
       "</table>\n",
       "</div>"
      ],
      "text/plain": [
       "        f1     prec       rec\n",
       "0  0.83736  0.85314  0.822153"
      ]
     },
     "execution_count": 21,
     "metadata": {},
     "output_type": "execute_result"
    }
   ],
   "source": [
    "counts_to_metrics_df(vd_cc_counts)"
   ]
  },
  {
   "cell_type": "markdown",
   "metadata": {},
   "source": [
    "#### Get Ana Resolution Counts"
   ]
  },
  {
   "cell_type": "code",
   "execution_count": 22,
   "metadata": {},
   "outputs": [
    {
     "data": {
      "text/plain": [
       "{'data_points': 1783158,\n",
       " 'fn': 261.0,\n",
       " 'fp': 206.0,\n",
       " 'num_codes': 344,\n",
       " 'tn': 1782608.0,\n",
       " 'tp': 83.0}"
      ]
     },
     "execution_count": 22,
     "metadata": {},
     "output_type": "execute_result"
    }
   ],
   "source": [
    "df_vd_metrics_ana = get_metrics(essays=training_essays, \n",
    "        format_ana_tags=True, expected_tags=all_ana_tags)\n",
    "\n",
    "vd_ana_counts = aggregate_metrics(df_vd_metrics_ana, all_ana_tags)\n",
    "vd_ana_counts"
   ]
  },
  {
   "cell_type": "code",
   "execution_count": 23,
   "metadata": {},
   "outputs": [],
   "source": [
    "vd_ana_counts_no_algo = dict(vd_ana_counts)\n",
    "vd_ana_counts_no_algo[\"tp\"] = 0\n",
    "vd_ana_counts_no_algo[\"tn\"] = 0\n",
    "vd_ana_counts_no_algo[\"fp\"] = vd_ana_counts[\"num_codes\"] # all incorrect"
   ]
  },
  {
   "cell_type": "code",
   "execution_count": 24,
   "metadata": {},
   "outputs": [
    {
     "data": {
      "text/html": [
       "<div>\n",
       "<table border=\"1\" class=\"dataframe\">\n",
       "  <thead>\n",
       "    <tr style=\"text-align: right;\">\n",
       "      <th></th>\n",
       "      <th>f1</th>\n",
       "      <th>prec</th>\n",
       "      <th>rec</th>\n",
       "    </tr>\n",
       "  </thead>\n",
       "  <tbody>\n",
       "    <tr>\n",
       "      <th>0</th>\n",
       "      <td>0.262243</td>\n",
       "      <td>0.287197</td>\n",
       "      <td>0.241279</td>\n",
       "    </tr>\n",
       "  </tbody>\n",
       "</table>\n",
       "</div>"
      ],
      "text/plain": [
       "         f1      prec       rec\n",
       "0  0.262243  0.287197  0.241279"
      ]
     },
     "execution_count": 24,
     "metadata": {},
     "output_type": "execute_result"
    }
   ],
   "source": [
    "counts_to_metrics_df(vd_ana_counts)"
   ]
  },
  {
   "cell_type": "markdown",
   "metadata": {},
   "source": [
    "#### Combine Metrics"
   ]
  },
  {
   "cell_type": "code",
   "execution_count": 25,
   "metadata": {},
   "outputs": [
    {
     "data": {
      "text/html": [
       "<div>\n",
       "<table border=\"1\" class=\"dataframe\">\n",
       "  <thead>\n",
       "    <tr style=\"text-align: right;\">\n",
       "      <th></th>\n",
       "      <th>f1</th>\n",
       "      <th>prec</th>\n",
       "      <th>rec</th>\n",
       "    </tr>\n",
       "  </thead>\n",
       "  <tbody>\n",
       "    <tr>\n",
       "      <th>0</th>\n",
       "      <td>0.83184</td>\n",
       "      <td>0.848083</td>\n",
       "      <td>0.816207</td>\n",
       "    </tr>\n",
       "  </tbody>\n",
       "</table>\n",
       "</div>"
      ],
      "text/plain": [
       "        f1      prec       rec\n",
       "0  0.83184  0.848083  0.816207"
      ]
     },
     "execution_count": 25,
     "metadata": {},
     "output_type": "execute_result"
    }
   ],
   "source": [
    "vd_counts_combined = combine_metrics(vd_cc_counts, vd_ana_counts)\n",
    "counts_to_metrics_df(vd_counts_combined)"
   ]
  },
  {
   "cell_type": "code",
   "execution_count": 26,
   "metadata": {},
   "outputs": [
    {
     "data": {
      "text/html": [
       "<div>\n",
       "<table border=\"1\" class=\"dataframe\">\n",
       "  <thead>\n",
       "    <tr style=\"text-align: right;\">\n",
       "      <th></th>\n",
       "      <th>f1</th>\n",
       "      <th>prec</th>\n",
       "      <th>rec</th>\n",
       "    </tr>\n",
       "  </thead>\n",
       "  <tbody>\n",
       "    <tr>\n",
       "      <th>0</th>\n",
       "      <td>0.829675</td>\n",
       "      <td>0.844081</td>\n",
       "      <td>0.815752</td>\n",
       "    </tr>\n",
       "  </tbody>\n",
       "</table>\n",
       "</div>"
      ],
      "text/plain": [
       "         f1      prec       rec\n",
       "0  0.829675  0.844081  0.815752"
      ]
     },
     "execution_count": 26,
     "metadata": {},
     "output_type": "execute_result"
    }
   ],
   "source": [
    "vd_counts_combined_no_algo = combine_metrics(vd_cc_counts, vd_ana_counts_no_algo)\n",
    "counts_to_metrics_df(vd_counts_combined_no_algo)"
   ]
  },
  {
   "cell_type": "markdown",
   "metadata": {},
   "source": [
    "## Test Metrics"
   ]
  },
  {
   "cell_type": "code",
   "execution_count": 27,
   "metadata": {},
   "outputs": [],
   "source": [
    "PREFIX = \"CB\" if DATASET == \"CoralBleaching\" else \"SC\"\n",
    "test_collection = \"TEST_\" + PREFIX + \"_TAGGING_VD_RNN_MOST_COMMON_TAG\""
   ]
  },
  {
   "cell_type": "code",
   "execution_count": 28,
   "metadata": {},
   "outputs": [
    {
     "data": {
      "text/plain": [
       "{'data_points': 399087,\n",
       " 'fn': 1157.0,\n",
       " 'fp': 953.0,\n",
       " 'num_codes': 6792,\n",
       " 'tn': 391342.0,\n",
       " 'tp': 5635.0}"
      ]
     },
     "execution_count": 28,
     "metadata": {},
     "output_type": "execute_result"
    }
   ],
   "source": [
    "test_cc_counts = get_aggregate_counts_from_mongo(collection=test_collection)\n",
    "test_cc_counts"
   ]
  },
  {
   "cell_type": "code",
   "execution_count": 29,
   "metadata": {},
   "outputs": [
    {
     "data": {
      "text/html": [
       "<div>\n",
       "<table border=\"1\" class=\"dataframe\">\n",
       "  <thead>\n",
       "    <tr style=\"text-align: right;\">\n",
       "      <th></th>\n",
       "      <th>f1</th>\n",
       "      <th>prec</th>\n",
       "      <th>rec</th>\n",
       "    </tr>\n",
       "  </thead>\n",
       "  <tbody>\n",
       "    <tr>\n",
       "      <th>0</th>\n",
       "      <td>0.842302</td>\n",
       "      <td>0.855343</td>\n",
       "      <td>0.829653</td>\n",
       "    </tr>\n",
       "  </tbody>\n",
       "</table>\n",
       "</div>"
      ],
      "text/plain": [
       "         f1      prec       rec\n",
       "0  0.842302  0.855343  0.829653"
      ]
     },
     "execution_count": 29,
     "metadata": {},
     "output_type": "execute_result"
    }
   ],
   "source": [
    "counts_to_metrics_df(test_cc_counts)"
   ]
  },
  {
   "cell_type": "code",
   "execution_count": 30,
   "metadata": {},
   "outputs": [
    {
     "data": {
      "text/plain": [
       "{'data_points': 399087,\n",
       " 'fn': 28.0,\n",
       " 'fp': 18.0,\n",
       " 'num_codes': 39,\n",
       " 'tn': 399030.0,\n",
       " 'tp': 11.0}"
      ]
     },
     "execution_count": 30,
     "metadata": {},
     "output_type": "execute_result"
    }
   ],
   "source": [
    "df_test_metrics_ana = get_metrics(essays=test_essays, \n",
    "        format_ana_tags=True, expected_tags=all_ana_tags)\n",
    "\n",
    "test_ana_counts = aggregate_metrics(df_test_metrics_ana, all_ana_tags)\n",
    "test_ana_counts"
   ]
  },
  {
   "cell_type": "code",
   "execution_count": 31,
   "metadata": {},
   "outputs": [
    {
     "data": {
      "text/html": [
       "<div>\n",
       "<table border=\"1\" class=\"dataframe\">\n",
       "  <thead>\n",
       "    <tr style=\"text-align: right;\">\n",
       "      <th></th>\n",
       "      <th>f1</th>\n",
       "      <th>prec</th>\n",
       "      <th>rec</th>\n",
       "    </tr>\n",
       "  </thead>\n",
       "  <tbody>\n",
       "    <tr>\n",
       "      <th>0</th>\n",
       "      <td>0.323529</td>\n",
       "      <td>0.37931</td>\n",
       "      <td>0.282051</td>\n",
       "    </tr>\n",
       "  </tbody>\n",
       "</table>\n",
       "</div>"
      ],
      "text/plain": [
       "         f1     prec       rec\n",
       "0  0.323529  0.37931  0.282051"
      ]
     },
     "execution_count": 31,
     "metadata": {},
     "output_type": "execute_result"
    }
   ],
   "source": [
    "counts_to_metrics_df(test_ana_counts)"
   ]
  },
  {
   "cell_type": "code",
   "execution_count": 32,
   "metadata": {},
   "outputs": [
    {
     "data": {
      "text/plain": [
       "{'data_points': 798174,\n",
       " 'fn': 1185.0,\n",
       " 'fp': 971.0,\n",
       " 'num_codes': 6831,\n",
       " 'tn': 790372.0,\n",
       " 'tp': 5646.0}"
      ]
     },
     "execution_count": 32,
     "metadata": {},
     "output_type": "execute_result"
    }
   ],
   "source": [
    "test_counts_combined = combine_metrics(test_cc_counts, test_ana_counts)\n",
    "test_counts_combined"
   ]
  },
  {
   "cell_type": "code",
   "execution_count": 33,
   "metadata": {},
   "outputs": [
    {
     "data": {
      "text/html": [
       "<div>\n",
       "<table border=\"1\" class=\"dataframe\">\n",
       "  <thead>\n",
       "    <tr style=\"text-align: right;\">\n",
       "      <th></th>\n",
       "      <th>f1</th>\n",
       "      <th>prec</th>\n",
       "      <th>rec</th>\n",
       "    </tr>\n",
       "  </thead>\n",
       "  <tbody>\n",
       "    <tr>\n",
       "      <th>0</th>\n",
       "      <td>0.839679</td>\n",
       "      <td>0.853257</td>\n",
       "      <td>0.826526</td>\n",
       "    </tr>\n",
       "  </tbody>\n",
       "</table>\n",
       "</div>"
      ],
      "text/plain": [
       "         f1      prec       rec\n",
       "0  0.839679  0.853257  0.826526"
      ]
     },
     "execution_count": 33,
     "metadata": {},
     "output_type": "execute_result"
    }
   ],
   "source": [
    "counts_to_metrics_df(test_counts_combined)"
   ]
  },
  {
   "cell_type": "code",
   "execution_count": 34,
   "metadata": {},
   "outputs": [],
   "source": [
    "test_ana_counts_no_algo = dict(test_ana_counts)\n",
    "test_ana_counts_no_algo[\"tp\"] = 0\n",
    "test_ana_counts_no_algo[\"tn\"] = 0\n",
    "test_ana_counts_no_algo[\"fp\"] = test_ana_counts[\"num_codes\"] # all incorrect"
   ]
  },
  {
   "cell_type": "code",
   "execution_count": 35,
   "metadata": {},
   "outputs": [
    {
     "data": {
      "text/html": [
       "<div>\n",
       "<table border=\"1\" class=\"dataframe\">\n",
       "  <thead>\n",
       "    <tr style=\"text-align: right;\">\n",
       "      <th></th>\n",
       "      <th>f1</th>\n",
       "      <th>prec</th>\n",
       "      <th>rec</th>\n",
       "    </tr>\n",
       "  </thead>\n",
       "  <tbody>\n",
       "    <tr>\n",
       "      <th>0</th>\n",
       "      <td>0.838105</td>\n",
       "      <td>0.850309</td>\n",
       "      <td>0.826246</td>\n",
       "    </tr>\n",
       "  </tbody>\n",
       "</table>\n",
       "</div>"
      ],
      "text/plain": [
       "         f1      prec       rec\n",
       "0  0.838105  0.850309  0.826246"
      ]
     },
     "execution_count": 35,
     "metadata": {},
     "output_type": "execute_result"
    }
   ],
   "source": [
    "test_counts_combined_no_algo = combine_metrics(test_cc_counts, test_ana_counts_no_algo)\n",
    "counts_to_metrics_df(test_counts_combined_no_algo)"
   ]
  },
  {
   "cell_type": "markdown",
   "metadata": {},
   "source": [
    "### Without Anaphora Resolution"
   ]
  },
  {
   "cell_type": "code",
   "execution_count": 36,
   "metadata": {},
   "outputs": [],
   "source": [
    "vd_cc = calc_metrics_from_counts(vd_cc_counts)\n",
    "vd_both = calc_metrics_from_counts(vd_counts_combined)\n",
    "\n",
    "df_vd = pd.DataFrame([vd_cc, vd_both, \n",
    "                      calc_metrics_from_counts(vd_counts_combined_no_algo),\n",
    "                      calc_metrics_from_counts(vd_ana_counts)\n",
    "                     ])\n",
    "df_vd[\"Dataset\"] = \"Validation\"\n",
    "df_vd[\"With Ana Algo\"] = [False, True, False, True]\n",
    "df_vd[\"With Ana Labels\"] = [False, True, True, True]\n",
    "df_vd[\"Ana Only\"]      = [False, False, False, True]"
   ]
  },
  {
   "cell_type": "code",
   "execution_count": 37,
   "metadata": {},
   "outputs": [],
   "source": [
    "test_cc = calc_metrics_from_counts(test_cc_counts)\n",
    "test_both = calc_metrics_from_counts(test_counts_combined)\n",
    "\n",
    "df_test = pd.DataFrame([test_cc, test_both, \n",
    "                        calc_metrics_from_counts(test_counts_combined_no_algo),\n",
    "                        calc_metrics_from_counts(test_ana_counts)\n",
    "                       ])\n",
    "df_test[\"Dataset\"] = \"Test\"\n",
    "df_test[\"With Ana Algo\"] = [False, True, False, True]\n",
    "df_test[\"With Ana Labels\"] = [False, True, True, True]\n",
    "df_test[\"Ana Only\"] = [False, False, False, True]"
   ]
  },
  {
   "cell_type": "markdown",
   "metadata": {},
   "source": [
    "# Results"
   ]
  },
  {
   "cell_type": "code",
   "execution_count": 38,
   "metadata": {},
   "outputs": [
    {
     "data": {
      "text/html": [
       "<div>\n",
       "<table border=\"1\" class=\"dataframe\">\n",
       "  <thead>\n",
       "    <tr style=\"text-align: right;\">\n",
       "      <th></th>\n",
       "      <th>Dataset</th>\n",
       "      <th>With Ana Algo</th>\n",
       "      <th>With Ana Labels</th>\n",
       "      <th>Ana Only</th>\n",
       "      <th>f1</th>\n",
       "      <th>prec</th>\n",
       "      <th>rec</th>\n",
       "    </tr>\n",
       "  </thead>\n",
       "  <tbody>\n",
       "    <tr>\n",
       "      <th>0</th>\n",
       "      <td>Validation</td>\n",
       "      <td>False</td>\n",
       "      <td>False</td>\n",
       "      <td>False</td>\n",
       "      <td>0.837360</td>\n",
       "      <td>0.853140</td>\n",
       "      <td>0.822153</td>\n",
       "    </tr>\n",
       "    <tr>\n",
       "      <th>1</th>\n",
       "      <td>Validation</td>\n",
       "      <td>True</td>\n",
       "      <td>True</td>\n",
       "      <td>False</td>\n",
       "      <td>0.831840</td>\n",
       "      <td>0.848083</td>\n",
       "      <td>0.816207</td>\n",
       "    </tr>\n",
       "    <tr>\n",
       "      <th>2</th>\n",
       "      <td>Validation</td>\n",
       "      <td>False</td>\n",
       "      <td>True</td>\n",
       "      <td>False</td>\n",
       "      <td>0.829675</td>\n",
       "      <td>0.844081</td>\n",
       "      <td>0.815752</td>\n",
       "    </tr>\n",
       "    <tr>\n",
       "      <th>3</th>\n",
       "      <td>Validation</td>\n",
       "      <td>True</td>\n",
       "      <td>True</td>\n",
       "      <td>True</td>\n",
       "      <td>0.262243</td>\n",
       "      <td>0.287197</td>\n",
       "      <td>0.241279</td>\n",
       "    </tr>\n",
       "    <tr>\n",
       "      <th>0</th>\n",
       "      <td>Test</td>\n",
       "      <td>False</td>\n",
       "      <td>False</td>\n",
       "      <td>False</td>\n",
       "      <td>0.842302</td>\n",
       "      <td>0.855343</td>\n",
       "      <td>0.829653</td>\n",
       "    </tr>\n",
       "    <tr>\n",
       "      <th>1</th>\n",
       "      <td>Test</td>\n",
       "      <td>True</td>\n",
       "      <td>True</td>\n",
       "      <td>False</td>\n",
       "      <td>0.839679</td>\n",
       "      <td>0.853257</td>\n",
       "      <td>0.826526</td>\n",
       "    </tr>\n",
       "    <tr>\n",
       "      <th>2</th>\n",
       "      <td>Test</td>\n",
       "      <td>False</td>\n",
       "      <td>True</td>\n",
       "      <td>False</td>\n",
       "      <td>0.838105</td>\n",
       "      <td>0.850309</td>\n",
       "      <td>0.826246</td>\n",
       "    </tr>\n",
       "    <tr>\n",
       "      <th>3</th>\n",
       "      <td>Test</td>\n",
       "      <td>True</td>\n",
       "      <td>True</td>\n",
       "      <td>True</td>\n",
       "      <td>0.323529</td>\n",
       "      <td>0.379310</td>\n",
       "      <td>0.282051</td>\n",
       "    </tr>\n",
       "  </tbody>\n",
       "</table>\n",
       "</div>"
      ],
      "text/plain": [
       "      Dataset With Ana Algo With Ana Labels Ana Only        f1      prec  \\\n",
       "0  Validation         False           False    False  0.837360  0.853140   \n",
       "1  Validation          True            True    False  0.831840  0.848083   \n",
       "2  Validation         False            True    False  0.829675  0.844081   \n",
       "3  Validation          True            True     True  0.262243  0.287197   \n",
       "0        Test         False           False    False  0.842302  0.855343   \n",
       "1        Test          True            True    False  0.839679  0.853257   \n",
       "2        Test         False            True    False  0.838105  0.850309   \n",
       "3        Test          True            True     True  0.323529  0.379310   \n",
       "\n",
       "        rec  \n",
       "0  0.822153  \n",
       "1  0.816207  \n",
       "2  0.815752  \n",
       "3  0.241279  \n",
       "0  0.829653  \n",
       "1  0.826526  \n",
       "2  0.826246  \n",
       "3  0.282051  "
      ]
     },
     "execution_count": 38,
     "metadata": {},
     "output_type": "execute_result"
    }
   ],
   "source": [
    "df = pd.concat([df_vd, df_test])[[\"Dataset\", \"With Ana Algo\", \"With Ana Labels\", \"Ana Only\", \"f1\", \"prec\", \"rec\"]]\n",
    "df"
   ]
  },
  {
   "cell_type": "markdown",
   "metadata": {},
   "source": [
    "## Round Data"
   ]
  },
  {
   "cell_type": "code",
   "execution_count": 40,
   "metadata": {},
   "outputs": [
    {
     "data": {
      "text/html": [
       "<div>\n",
       "<table border=\"1\" class=\"dataframe\">\n",
       "  <thead>\n",
       "    <tr style=\"text-align: right;\">\n",
       "      <th></th>\n",
       "      <th>Dataset</th>\n",
       "      <th>With Ana Algo</th>\n",
       "      <th>With Ana Labels</th>\n",
       "      <th>Ana Only</th>\n",
       "      <th>f1</th>\n",
       "      <th>prec</th>\n",
       "      <th>rec</th>\n",
       "    </tr>\n",
       "  </thead>\n",
       "  <tbody>\n",
       "    <tr>\n",
       "      <th>0</th>\n",
       "      <td>Validation</td>\n",
       "      <td>False</td>\n",
       "      <td>False</td>\n",
       "      <td>False</td>\n",
       "      <td>0.837</td>\n",
       "      <td>0.853</td>\n",
       "      <td>0.822</td>\n",
       "    </tr>\n",
       "    <tr>\n",
       "      <th>1</th>\n",
       "      <td>Validation</td>\n",
       "      <td>True</td>\n",
       "      <td>True</td>\n",
       "      <td>False</td>\n",
       "      <td>0.832</td>\n",
       "      <td>0.848</td>\n",
       "      <td>0.816</td>\n",
       "    </tr>\n",
       "    <tr>\n",
       "      <th>2</th>\n",
       "      <td>Validation</td>\n",
       "      <td>False</td>\n",
       "      <td>True</td>\n",
       "      <td>False</td>\n",
       "      <td>0.830</td>\n",
       "      <td>0.844</td>\n",
       "      <td>0.816</td>\n",
       "    </tr>\n",
       "    <tr>\n",
       "      <th>3</th>\n",
       "      <td>Validation</td>\n",
       "      <td>True</td>\n",
       "      <td>True</td>\n",
       "      <td>True</td>\n",
       "      <td>0.262</td>\n",
       "      <td>0.287</td>\n",
       "      <td>0.241</td>\n",
       "    </tr>\n",
       "    <tr>\n",
       "      <th>0</th>\n",
       "      <td>Test</td>\n",
       "      <td>False</td>\n",
       "      <td>False</td>\n",
       "      <td>False</td>\n",
       "      <td>0.842</td>\n",
       "      <td>0.855</td>\n",
       "      <td>0.830</td>\n",
       "    </tr>\n",
       "    <tr>\n",
       "      <th>1</th>\n",
       "      <td>Test</td>\n",
       "      <td>True</td>\n",
       "      <td>True</td>\n",
       "      <td>False</td>\n",
       "      <td>0.840</td>\n",
       "      <td>0.853</td>\n",
       "      <td>0.827</td>\n",
       "    </tr>\n",
       "    <tr>\n",
       "      <th>2</th>\n",
       "      <td>Test</td>\n",
       "      <td>False</td>\n",
       "      <td>True</td>\n",
       "      <td>False</td>\n",
       "      <td>0.838</td>\n",
       "      <td>0.850</td>\n",
       "      <td>0.826</td>\n",
       "    </tr>\n",
       "    <tr>\n",
       "      <th>3</th>\n",
       "      <td>Test</td>\n",
       "      <td>True</td>\n",
       "      <td>True</td>\n",
       "      <td>True</td>\n",
       "      <td>0.324</td>\n",
       "      <td>0.379</td>\n",
       "      <td>0.282</td>\n",
       "    </tr>\n",
       "  </tbody>\n",
       "</table>\n",
       "</div>"
      ],
      "text/plain": [
       "      Dataset With Ana Algo With Ana Labels Ana Only     f1   prec    rec\n",
       "0  Validation         False           False    False  0.837  0.853  0.822\n",
       "1  Validation          True            True    False  0.832  0.848  0.816\n",
       "2  Validation         False            True    False  0.830  0.844  0.816\n",
       "3  Validation          True            True     True  0.262  0.287  0.241\n",
       "0        Test         False           False    False  0.842  0.855  0.830\n",
       "1        Test          True            True    False  0.840  0.853  0.827\n",
       "2        Test         False            True    False  0.838  0.850  0.826\n",
       "3        Test          True            True     True  0.324  0.379  0.282"
      ]
     },
     "execution_count": 40,
     "metadata": {},
     "output_type": "execute_result"
    }
   ],
   "source": [
    "round_data(df, 3)"
   ]
  },
  {
   "cell_type": "code",
   "execution_count": null,
   "metadata": {},
   "outputs": [],
   "source": []
  }
 ],
 "metadata": {
  "kernelspec": {
   "display_name": "Python [conda env:phd_py36]",
   "language": "python",
   "name": "conda-env-phd_py36-py"
  },
  "language_info": {
   "codemirror_mode": {
    "name": "ipython",
    "version": 3
   },
   "file_extension": ".py",
   "mimetype": "text/x-python",
   "name": "python",
   "nbconvert_exporter": "python",
   "pygments_lexer": "ipython3",
   "version": "3.6.4"
  }
 },
 "nbformat": 4,
 "nbformat_minor": 2
}
