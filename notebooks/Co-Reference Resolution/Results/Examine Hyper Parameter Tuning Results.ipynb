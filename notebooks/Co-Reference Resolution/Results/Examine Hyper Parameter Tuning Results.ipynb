{
 "cells": [
  {
   "cell_type": "code",
   "execution_count": 1,
   "metadata": {},
   "outputs": [
    {
     "name": "stdout",
     "output_type": "stream",
     "text": [
      "Results Dir: /Users/simon.hughes/Google Drive/Phd/Results/\n",
      "Data Dir:    /Users/simon.hughes/Google Drive/Phd/Data/\n",
      "Root Dir:    /Users/simon.hughes/GitHub/NlpResearch/\n",
      "Public Data: /Users/simon.hughes/GitHub/NlpResearch/Data/PublicDatasets/\n"
     ]
    }
   ],
   "source": [
    "import pandas as pd\n",
    "import numpy as np\n",
    "\n",
    "from Settings import Settings\n",
    "settings = Settings()"
   ]
  },
  {
   "cell_type": "code",
   "execution_count": 2,
   "metadata": {},
   "outputs": [],
   "source": [
    "def get_top_rows(fname):\n",
    "    df = pd.read_csv(fname, sep=\",\")\n",
    "    del df[\"Unnamed: 0\"]\n",
    "    max_f1_score = np.max(df[\"f1_score\"])\n",
    "    return df[df[\"f1_score\"] == max_f1_score]"
   ]
  },
  {
   "cell_type": "markdown",
   "metadata": {},
   "source": [
    "## Coral Bleaching"
   ]
  },
  {
   "cell_type": "code",
   "execution_count": 3,
   "metadata": {},
   "outputs": [],
   "source": [
    "DATASET = \"CoralBleaching\" # CoralBleaching | SkinCancer\n",
    "root_folder = settings.data_directory + DATASET + \"/Thesis_Dataset/\"\n",
    "stanford_coref_predictions_folder = root_folder + \"CoReference/\"\n",
    "berkeley_coref_predictions_folder = root_folder + \"CoReference/Berkeley/\""
   ]
  },
  {
   "cell_type": "markdown",
   "metadata": {},
   "source": [
    "## Stanford"
   ]
  },
  {
   "cell_type": "markdown",
   "metadata": {},
   "source": [
    "### Ana Filter"
   ]
  },
  {
   "cell_type": "code",
   "execution_count": 4,
   "metadata": {},
   "outputs": [
    {
     "data": {
      "text/html": [
       "<div>\n",
       "<table border=\"1\" class=\"dataframe\">\n",
       "  <thead>\n",
       "    <tr style=\"text-align: right;\">\n",
       "      <th></th>\n",
       "      <th>f1_score</th>\n",
       "      <th>precision</th>\n",
       "      <th>recall</th>\n",
       "      <th>Nearest reference</th>\n",
       "      <th>Max ana phrase</th>\n",
       "      <th>Max chain phrase</th>\n",
       "      <th>POS ana filter</th>\n",
       "      <th>Pos chain filter</th>\n",
       "    </tr>\n",
       "  </thead>\n",
       "  <tbody>\n",
       "    <tr>\n",
       "      <th>0</th>\n",
       "      <td>0.038043</td>\n",
       "      <td>0.291667</td>\n",
       "      <td>0.020349</td>\n",
       "      <td>True</td>\n",
       "      <td>2</td>\n",
       "      <td>-</td>\n",
       "      <td>-</td>\n",
       "      <td>-</td>\n",
       "    </tr>\n",
       "    <tr>\n",
       "      <th>1</th>\n",
       "      <td>0.038043</td>\n",
       "      <td>0.291667</td>\n",
       "      <td>0.020349</td>\n",
       "      <td>True</td>\n",
       "      <td>2</td>\n",
       "      <td>-</td>\n",
       "      <td>PRN+DT</td>\n",
       "      <td>-</td>\n",
       "    </tr>\n",
       "    <tr>\n",
       "      <th>2</th>\n",
       "      <td>0.038043</td>\n",
       "      <td>0.291667</td>\n",
       "      <td>0.020349</td>\n",
       "      <td>True</td>\n",
       "      <td>2</td>\n",
       "      <td>10</td>\n",
       "      <td>PRN+DT</td>\n",
       "      <td>-</td>\n",
       "    </tr>\n",
       "    <tr>\n",
       "      <th>3</th>\n",
       "      <td>0.038043</td>\n",
       "      <td>0.291667</td>\n",
       "      <td>0.020349</td>\n",
       "      <td>True</td>\n",
       "      <td>2</td>\n",
       "      <td>20</td>\n",
       "      <td>PRN+DT</td>\n",
       "      <td>-</td>\n",
       "    </tr>\n",
       "    <tr>\n",
       "      <th>4</th>\n",
       "      <td>0.038043</td>\n",
       "      <td>0.291667</td>\n",
       "      <td>0.020349</td>\n",
       "      <td>True</td>\n",
       "      <td>2</td>\n",
       "      <td>20</td>\n",
       "      <td>-</td>\n",
       "      <td>-</td>\n",
       "    </tr>\n",
       "    <tr>\n",
       "      <th>5</th>\n",
       "      <td>0.038043</td>\n",
       "      <td>0.291667</td>\n",
       "      <td>0.020349</td>\n",
       "      <td>True</td>\n",
       "      <td>2</td>\n",
       "      <td>10</td>\n",
       "      <td>-</td>\n",
       "      <td>-</td>\n",
       "    </tr>\n",
       "  </tbody>\n",
       "</table>\n",
       "</div>"
      ],
      "text/plain": [
       "   f1_score  precision    recall Nearest reference Max ana phrase  \\\n",
       "0  0.038043   0.291667  0.020349              True              2   \n",
       "1  0.038043   0.291667  0.020349              True              2   \n",
       "2  0.038043   0.291667  0.020349              True              2   \n",
       "3  0.038043   0.291667  0.020349              True              2   \n",
       "4  0.038043   0.291667  0.020349              True              2   \n",
       "5  0.038043   0.291667  0.020349              True              2   \n",
       "\n",
       "  Max chain phrase POS ana filter Pos chain filter  \n",
       "0                -              -                -  \n",
       "1                -         PRN+DT                -  \n",
       "2               10         PRN+DT                -  \n",
       "3               20         PRN+DT                -  \n",
       "4               20              -                -  \n",
       "5               10              -                -  "
      ]
     },
     "execution_count": 4,
     "metadata": {},
     "output_type": "execute_result"
    }
   ],
   "source": [
    "train_res_fname = stanford_coref_predictions_folder + \"concept_codes_train_grid_search_ana_predictions.csv\"\n",
    "get_top_rows(train_res_fname)"
   ]
  },
  {
   "cell_type": "markdown",
   "metadata": {},
   "source": [
    "### Cref Filter"
   ]
  },
  {
   "cell_type": "code",
   "execution_count": 5,
   "metadata": {},
   "outputs": [
    {
     "data": {
      "text/html": [
       "<div>\n",
       "<table border=\"1\" class=\"dataframe\">\n",
       "  <thead>\n",
       "    <tr style=\"text-align: right;\">\n",
       "      <th></th>\n",
       "      <th>f1_score</th>\n",
       "      <th>precision</th>\n",
       "      <th>recall</th>\n",
       "      <th>Nearest reference</th>\n",
       "      <th>Max ana phrase</th>\n",
       "      <th>Max chain phrase</th>\n",
       "      <th>POS ana filter</th>\n",
       "      <th>Pos chain filter</th>\n",
       "    </tr>\n",
       "  </thead>\n",
       "  <tbody>\n",
       "    <tr>\n",
       "      <th>0</th>\n",
       "      <td>0.033333</td>\n",
       "      <td>0.031915</td>\n",
       "      <td>0.034884</td>\n",
       "      <td>True</td>\n",
       "      <td>2</td>\n",
       "      <td>10</td>\n",
       "      <td>DT</td>\n",
       "      <td>-</td>\n",
       "    </tr>\n",
       "  </tbody>\n",
       "</table>\n",
       "</div>"
      ],
      "text/plain": [
       "   f1_score  precision    recall Nearest reference Max ana phrase  \\\n",
       "0  0.033333   0.031915  0.034884              True              2   \n",
       "\n",
       "  Max chain phrase POS ana filter Pos chain filter  \n",
       "0               10             DT                -  "
      ]
     },
     "execution_count": 5,
     "metadata": {},
     "output_type": "execute_result"
    }
   ],
   "source": [
    "train_res_fname = stanford_coref_predictions_folder + \"concept_codes_train_grid_search_cref.csv\"\n",
    "get_top_rows(train_res_fname)"
   ]
  },
  {
   "cell_type": "markdown",
   "metadata": {},
   "source": [
    "## Berkeley"
   ]
  },
  {
   "cell_type": "markdown",
   "metadata": {},
   "source": [
    "### Ana Filter"
   ]
  },
  {
   "cell_type": "code",
   "execution_count": 6,
   "metadata": {},
   "outputs": [
    {
     "data": {
      "text/plain": [
       "(72,\n",
       " '/Users/simon.hughes/Google Drive/Phd/Data/CoralBleaching/Thesis_Dataset/CoReference/Berkeley/concept_codes_train_grid_search_ana_predictions.csv')"
      ]
     },
     "execution_count": 6,
     "metadata": {},
     "output_type": "execute_result"
    }
   ],
   "source": [
    "train_res_fname = berkeley_coref_predictions_folder + \"concept_codes_train_grid_search_ana_predictions.csv\"\n",
    "top_rows = get_top_rows(train_res_fname)\n",
    "len(top_rows), train_res_fname"
   ]
  },
  {
   "cell_type": "code",
   "execution_count": 7,
   "metadata": {},
   "outputs": [
    {
     "data": {
      "text/html": [
       "<div>\n",
       "<table border=\"1\" class=\"dataframe\">\n",
       "  <thead>\n",
       "    <tr style=\"text-align: right;\">\n",
       "      <th></th>\n",
       "      <th>f1_score</th>\n",
       "      <th>precision</th>\n",
       "      <th>recall</th>\n",
       "      <th>Nearest reference</th>\n",
       "      <th>Max ana phrase</th>\n",
       "      <th>Max chain phrase</th>\n",
       "      <th>POS ana filter</th>\n",
       "      <th>Pos chain filter</th>\n",
       "    </tr>\n",
       "  </thead>\n",
       "  <tbody>\n",
       "    <tr>\n",
       "      <th>0</th>\n",
       "      <td>0.058981</td>\n",
       "      <td>0.37931</td>\n",
       "      <td>0.031977</td>\n",
       "      <td>True</td>\n",
       "      <td>-</td>\n",
       "      <td>-</td>\n",
       "      <td>-</td>\n",
       "      <td>-</td>\n",
       "    </tr>\n",
       "    <tr>\n",
       "      <th>1</th>\n",
       "      <td>0.058981</td>\n",
       "      <td>0.37931</td>\n",
       "      <td>0.031977</td>\n",
       "      <td>True</td>\n",
       "      <td>20</td>\n",
       "      <td>2</td>\n",
       "      <td>PRN+DT</td>\n",
       "      <td>-</td>\n",
       "    </tr>\n",
       "    <tr>\n",
       "      <th>2</th>\n",
       "      <td>0.058981</td>\n",
       "      <td>0.37931</td>\n",
       "      <td>0.031977</td>\n",
       "      <td>True</td>\n",
       "      <td>5</td>\n",
       "      <td>20</td>\n",
       "      <td>PRN+DT</td>\n",
       "      <td>-</td>\n",
       "    </tr>\n",
       "    <tr>\n",
       "      <th>3</th>\n",
       "      <td>0.058981</td>\n",
       "      <td>0.37931</td>\n",
       "      <td>0.031977</td>\n",
       "      <td>True</td>\n",
       "      <td>10</td>\n",
       "      <td>-</td>\n",
       "      <td>PRN+DT</td>\n",
       "      <td>-</td>\n",
       "    </tr>\n",
       "    <tr>\n",
       "      <th>4</th>\n",
       "      <td>0.058981</td>\n",
       "      <td>0.37931</td>\n",
       "      <td>0.031977</td>\n",
       "      <td>True</td>\n",
       "      <td>10</td>\n",
       "      <td>2</td>\n",
       "      <td>PRN+DT</td>\n",
       "      <td>-</td>\n",
       "    </tr>\n",
       "  </tbody>\n",
       "</table>\n",
       "</div>"
      ],
      "text/plain": [
       "   f1_score  precision    recall Nearest reference Max ana phrase  \\\n",
       "0  0.058981    0.37931  0.031977              True              -   \n",
       "1  0.058981    0.37931  0.031977              True             20   \n",
       "2  0.058981    0.37931  0.031977              True              5   \n",
       "3  0.058981    0.37931  0.031977              True             10   \n",
       "4  0.058981    0.37931  0.031977              True             10   \n",
       "\n",
       "  Max chain phrase POS ana filter Pos chain filter  \n",
       "0                -              -                -  \n",
       "1                2         PRN+DT                -  \n",
       "2               20         PRN+DT                -  \n",
       "3                -         PRN+DT                -  \n",
       "4                2         PRN+DT                -  "
      ]
     },
     "execution_count": 7,
     "metadata": {},
     "output_type": "execute_result"
    }
   ],
   "source": [
    "top_rows.head()"
   ]
  },
  {
   "cell_type": "code",
   "execution_count": 8,
   "metadata": {},
   "outputs": [
    {
     "name": "stdout",
     "output_type": "stream",
     "text": [
      "Nearest reference ['True']\n",
      "Max ana phrase ['-' '20' '5' '10' '2' '3']\n",
      "Max chain phrase ['-' '2' '20' '3' '5' '10']\n",
      "POS ana filter ['-' 'PRN+DT']\n",
      "Pos chain filter ['-']\n"
     ]
    }
   ],
   "source": [
    "for col in [\"Nearest reference\",\"Max ana phrase\",\"Max chain phrase\",\"POS ana filter\",\"Pos chain filter\"]:\n",
    "    print(col, top_rows[col].unique())"
   ]
  },
  {
   "cell_type": "markdown",
   "metadata": {},
   "source": [
    "### Cref Filter"
   ]
  },
  {
   "cell_type": "code",
   "execution_count": 9,
   "metadata": {},
   "outputs": [
    {
     "data": {
      "text/html": [
       "<div>\n",
       "<table border=\"1\" class=\"dataframe\">\n",
       "  <thead>\n",
       "    <tr style=\"text-align: right;\">\n",
       "      <th></th>\n",
       "      <th>f1_score</th>\n",
       "      <th>precision</th>\n",
       "      <th>recall</th>\n",
       "      <th>Nearest reference</th>\n",
       "      <th>Max ana phrase</th>\n",
       "      <th>Max chain phrase</th>\n",
       "      <th>POS ana filter</th>\n",
       "      <th>Pos chain filter</th>\n",
       "    </tr>\n",
       "  </thead>\n",
       "  <tbody>\n",
       "    <tr>\n",
       "      <th>0</th>\n",
       "      <td>0.035211</td>\n",
       "      <td>0.023234</td>\n",
       "      <td>0.072674</td>\n",
       "      <td>True</td>\n",
       "      <td>2</td>\n",
       "      <td>1</td>\n",
       "      <td>PRN+DT</td>\n",
       "      <td>-</td>\n",
       "    </tr>\n",
       "  </tbody>\n",
       "</table>\n",
       "</div>"
      ],
      "text/plain": [
       "   f1_score  precision    recall Nearest reference Max ana phrase  \\\n",
       "0  0.035211   0.023234  0.072674              True              2   \n",
       "\n",
       "  Max chain phrase POS ana filter Pos chain filter  \n",
       "0                1         PRN+DT                -  "
      ]
     },
     "execution_count": 9,
     "metadata": {},
     "output_type": "execute_result"
    }
   ],
   "source": [
    "train_res_fname = berkeley_coref_predictions_folder + \"concept_codes_train_grid_search_cref.csv\"\n",
    "# print(train_res_fname)\n",
    "get_top_rows(train_res_fname)"
   ]
  },
  {
   "cell_type": "markdown",
   "metadata": {},
   "source": [
    "## Skin Cancer"
   ]
  },
  {
   "cell_type": "code",
   "execution_count": 10,
   "metadata": {},
   "outputs": [],
   "source": [
    "DATASET = \"SkinCancer\" # CoralBleaching | SkinCancer\n",
    "root_folder = settings.data_directory + DATASET + \"/Thesis_Dataset/\"\n",
    "stanford_coref_predictions_folder = root_folder + \"CoReference/\"\n",
    "berkeley_coref_predictions_folder = root_folder + \"CoReference/Berkeley/\""
   ]
  },
  {
   "cell_type": "markdown",
   "metadata": {},
   "source": [
    "## Stanford"
   ]
  },
  {
   "cell_type": "markdown",
   "metadata": {},
   "source": [
    "### Ana Filter"
   ]
  },
  {
   "cell_type": "code",
   "execution_count": 11,
   "metadata": {},
   "outputs": [
    {
     "data": {
      "text/html": [
       "<div>\n",
       "<table border=\"1\" class=\"dataframe\">\n",
       "  <thead>\n",
       "    <tr style=\"text-align: right;\">\n",
       "      <th></th>\n",
       "      <th>f1_score</th>\n",
       "      <th>precision</th>\n",
       "      <th>recall</th>\n",
       "      <th>Nearest reference</th>\n",
       "      <th>Max ana phrase</th>\n",
       "      <th>Max chain phrase</th>\n",
       "      <th>POS ana filter</th>\n",
       "      <th>Pos chain filter</th>\n",
       "    </tr>\n",
       "  </thead>\n",
       "  <tbody>\n",
       "    <tr>\n",
       "      <th>0</th>\n",
       "      <td>0.126437</td>\n",
       "      <td>0.673469</td>\n",
       "      <td>0.069767</td>\n",
       "      <td>True</td>\n",
       "      <td>-</td>\n",
       "      <td>10</td>\n",
       "      <td>-</td>\n",
       "      <td>NN+VB</td>\n",
       "    </tr>\n",
       "    <tr>\n",
       "      <th>1</th>\n",
       "      <td>0.126437</td>\n",
       "      <td>0.673469</td>\n",
       "      <td>0.069767</td>\n",
       "      <td>True</td>\n",
       "      <td>2</td>\n",
       "      <td>10</td>\n",
       "      <td>-</td>\n",
       "      <td>NN</td>\n",
       "    </tr>\n",
       "    <tr>\n",
       "      <th>2</th>\n",
       "      <td>0.126437</td>\n",
       "      <td>0.673469</td>\n",
       "      <td>0.069767</td>\n",
       "      <td>True</td>\n",
       "      <td>5</td>\n",
       "      <td>10</td>\n",
       "      <td>-</td>\n",
       "      <td>NN</td>\n",
       "    </tr>\n",
       "    <tr>\n",
       "      <th>3</th>\n",
       "      <td>0.126437</td>\n",
       "      <td>0.673469</td>\n",
       "      <td>0.069767</td>\n",
       "      <td>True</td>\n",
       "      <td>20</td>\n",
       "      <td>10</td>\n",
       "      <td>-</td>\n",
       "      <td>NN+VB</td>\n",
       "    </tr>\n",
       "    <tr>\n",
       "      <th>4</th>\n",
       "      <td>0.126437</td>\n",
       "      <td>0.673469</td>\n",
       "      <td>0.069767</td>\n",
       "      <td>True</td>\n",
       "      <td>20</td>\n",
       "      <td>10</td>\n",
       "      <td>-</td>\n",
       "      <td>-</td>\n",
       "    </tr>\n",
       "    <tr>\n",
       "      <th>5</th>\n",
       "      <td>0.126437</td>\n",
       "      <td>0.673469</td>\n",
       "      <td>0.069767</td>\n",
       "      <td>True</td>\n",
       "      <td>10</td>\n",
       "      <td>10</td>\n",
       "      <td>-</td>\n",
       "      <td>NN</td>\n",
       "    </tr>\n",
       "    <tr>\n",
       "      <th>6</th>\n",
       "      <td>0.126437</td>\n",
       "      <td>0.673469</td>\n",
       "      <td>0.069767</td>\n",
       "      <td>True</td>\n",
       "      <td>2</td>\n",
       "      <td>10</td>\n",
       "      <td>-</td>\n",
       "      <td>-</td>\n",
       "    </tr>\n",
       "    <tr>\n",
       "      <th>7</th>\n",
       "      <td>0.126437</td>\n",
       "      <td>0.673469</td>\n",
       "      <td>0.069767</td>\n",
       "      <td>True</td>\n",
       "      <td>3</td>\n",
       "      <td>10</td>\n",
       "      <td>-</td>\n",
       "      <td>NN</td>\n",
       "    </tr>\n",
       "    <tr>\n",
       "      <th>8</th>\n",
       "      <td>0.126437</td>\n",
       "      <td>0.673469</td>\n",
       "      <td>0.069767</td>\n",
       "      <td>True</td>\n",
       "      <td>10</td>\n",
       "      <td>10</td>\n",
       "      <td>-</td>\n",
       "      <td>NN+VB</td>\n",
       "    </tr>\n",
       "    <tr>\n",
       "      <th>9</th>\n",
       "      <td>0.126437</td>\n",
       "      <td>0.673469</td>\n",
       "      <td>0.069767</td>\n",
       "      <td>True</td>\n",
       "      <td>5</td>\n",
       "      <td>10</td>\n",
       "      <td>-</td>\n",
       "      <td>-</td>\n",
       "    </tr>\n",
       "    <tr>\n",
       "      <th>10</th>\n",
       "      <td>0.126437</td>\n",
       "      <td>0.673469</td>\n",
       "      <td>0.069767</td>\n",
       "      <td>True</td>\n",
       "      <td>20</td>\n",
       "      <td>10</td>\n",
       "      <td>-</td>\n",
       "      <td>NN</td>\n",
       "    </tr>\n",
       "    <tr>\n",
       "      <th>11</th>\n",
       "      <td>0.126437</td>\n",
       "      <td>0.673469</td>\n",
       "      <td>0.069767</td>\n",
       "      <td>True</td>\n",
       "      <td>5</td>\n",
       "      <td>10</td>\n",
       "      <td>-</td>\n",
       "      <td>NN+VB</td>\n",
       "    </tr>\n",
       "    <tr>\n",
       "      <th>12</th>\n",
       "      <td>0.126437</td>\n",
       "      <td>0.673469</td>\n",
       "      <td>0.069767</td>\n",
       "      <td>True</td>\n",
       "      <td>3</td>\n",
       "      <td>10</td>\n",
       "      <td>-</td>\n",
       "      <td>NN+VB</td>\n",
       "    </tr>\n",
       "    <tr>\n",
       "      <th>13</th>\n",
       "      <td>0.126437</td>\n",
       "      <td>0.673469</td>\n",
       "      <td>0.069767</td>\n",
       "      <td>True</td>\n",
       "      <td>-</td>\n",
       "      <td>10</td>\n",
       "      <td>-</td>\n",
       "      <td>NN</td>\n",
       "    </tr>\n",
       "    <tr>\n",
       "      <th>14</th>\n",
       "      <td>0.126437</td>\n",
       "      <td>0.673469</td>\n",
       "      <td>0.069767</td>\n",
       "      <td>True</td>\n",
       "      <td>-</td>\n",
       "      <td>10</td>\n",
       "      <td>-</td>\n",
       "      <td>-</td>\n",
       "    </tr>\n",
       "    <tr>\n",
       "      <th>15</th>\n",
       "      <td>0.126437</td>\n",
       "      <td>0.673469</td>\n",
       "      <td>0.069767</td>\n",
       "      <td>True</td>\n",
       "      <td>2</td>\n",
       "      <td>10</td>\n",
       "      <td>-</td>\n",
       "      <td>NN+VB</td>\n",
       "    </tr>\n",
       "    <tr>\n",
       "      <th>16</th>\n",
       "      <td>0.126437</td>\n",
       "      <td>0.673469</td>\n",
       "      <td>0.069767</td>\n",
       "      <td>True</td>\n",
       "      <td>10</td>\n",
       "      <td>10</td>\n",
       "      <td>-</td>\n",
       "      <td>-</td>\n",
       "    </tr>\n",
       "    <tr>\n",
       "      <th>17</th>\n",
       "      <td>0.126437</td>\n",
       "      <td>0.673469</td>\n",
       "      <td>0.069767</td>\n",
       "      <td>True</td>\n",
       "      <td>3</td>\n",
       "      <td>10</td>\n",
       "      <td>-</td>\n",
       "      <td>-</td>\n",
       "    </tr>\n",
       "  </tbody>\n",
       "</table>\n",
       "</div>"
      ],
      "text/plain": [
       "    f1_score  precision    recall Nearest reference Max ana phrase  \\\n",
       "0   0.126437   0.673469  0.069767              True              -   \n",
       "1   0.126437   0.673469  0.069767              True              2   \n",
       "2   0.126437   0.673469  0.069767              True              5   \n",
       "3   0.126437   0.673469  0.069767              True             20   \n",
       "4   0.126437   0.673469  0.069767              True             20   \n",
       "5   0.126437   0.673469  0.069767              True             10   \n",
       "6   0.126437   0.673469  0.069767              True              2   \n",
       "7   0.126437   0.673469  0.069767              True              3   \n",
       "8   0.126437   0.673469  0.069767              True             10   \n",
       "9   0.126437   0.673469  0.069767              True              5   \n",
       "10  0.126437   0.673469  0.069767              True             20   \n",
       "11  0.126437   0.673469  0.069767              True              5   \n",
       "12  0.126437   0.673469  0.069767              True              3   \n",
       "13  0.126437   0.673469  0.069767              True              -   \n",
       "14  0.126437   0.673469  0.069767              True              -   \n",
       "15  0.126437   0.673469  0.069767              True              2   \n",
       "16  0.126437   0.673469  0.069767              True             10   \n",
       "17  0.126437   0.673469  0.069767              True              3   \n",
       "\n",
       "   Max chain phrase POS ana filter Pos chain filter  \n",
       "0                10              -            NN+VB  \n",
       "1                10              -               NN  \n",
       "2                10              -               NN  \n",
       "3                10              -            NN+VB  \n",
       "4                10              -                -  \n",
       "5                10              -               NN  \n",
       "6                10              -                -  \n",
       "7                10              -               NN  \n",
       "8                10              -            NN+VB  \n",
       "9                10              -                -  \n",
       "10               10              -               NN  \n",
       "11               10              -            NN+VB  \n",
       "12               10              -            NN+VB  \n",
       "13               10              -               NN  \n",
       "14               10              -                -  \n",
       "15               10              -            NN+VB  \n",
       "16               10              -                -  \n",
       "17               10              -                -  "
      ]
     },
     "execution_count": 11,
     "metadata": {},
     "output_type": "execute_result"
    }
   ],
   "source": [
    "train_res_fname = stanford_coref_predictions_folder + \"concept_codes_train_grid_search_ana_predictions.csv\"\n",
    "get_top_rows(train_res_fname)"
   ]
  },
  {
   "cell_type": "markdown",
   "metadata": {},
   "source": [
    "### Cref Filter"
   ]
  },
  {
   "cell_type": "code",
   "execution_count": 12,
   "metadata": {},
   "outputs": [
    {
     "data": {
      "text/html": [
       "<div>\n",
       "<table border=\"1\" class=\"dataframe\">\n",
       "  <thead>\n",
       "    <tr style=\"text-align: right;\">\n",
       "      <th></th>\n",
       "      <th>f1_score</th>\n",
       "      <th>precision</th>\n",
       "      <th>recall</th>\n",
       "      <th>Nearest reference</th>\n",
       "      <th>Max ana phrase</th>\n",
       "      <th>Max chain phrase</th>\n",
       "      <th>POS ana filter</th>\n",
       "      <th>Pos chain filter</th>\n",
       "    </tr>\n",
       "  </thead>\n",
       "  <tbody>\n",
       "    <tr>\n",
       "      <th>0</th>\n",
       "      <td>0.096386</td>\n",
       "      <td>0.259259</td>\n",
       "      <td>0.059197</td>\n",
       "      <td>-</td>\n",
       "      <td>2</td>\n",
       "      <td>10</td>\n",
       "      <td>-</td>\n",
       "      <td>VB</td>\n",
       "    </tr>\n",
       "  </tbody>\n",
       "</table>\n",
       "</div>"
      ],
      "text/plain": [
       "   f1_score  precision    recall Nearest reference Max ana phrase  \\\n",
       "0  0.096386   0.259259  0.059197                 -              2   \n",
       "\n",
       "  Max chain phrase POS ana filter Pos chain filter  \n",
       "0               10              -               VB  "
      ]
     },
     "execution_count": 12,
     "metadata": {},
     "output_type": "execute_result"
    }
   ],
   "source": [
    "train_res_fname = stanford_coref_predictions_folder + \"concept_codes_train_grid_search_cref.csv\"\n",
    "get_top_rows(train_res_fname)"
   ]
  },
  {
   "cell_type": "markdown",
   "metadata": {},
   "source": [
    "## Berkeley"
   ]
  },
  {
   "cell_type": "markdown",
   "metadata": {},
   "source": [
    "### Ana Filter"
   ]
  },
  {
   "cell_type": "code",
   "execution_count": 13,
   "metadata": {},
   "outputs": [
    {
     "data": {
      "text/plain": [
       "(72,\n",
       " '/Users/simon.hughes/Google Drive/Phd/Data/SkinCancer/Thesis_Dataset/CoReference/Berkeley/concept_codes_train_grid_search_ana_predictions.csv')"
      ]
     },
     "execution_count": 13,
     "metadata": {},
     "output_type": "execute_result"
    }
   ],
   "source": [
    "train_res_fname = berkeley_coref_predictions_folder + \"concept_codes_train_grid_search_ana_predictions.csv\"\n",
    "top_rows = get_top_rows(train_res_fname)\n",
    "len(top_rows), train_res_fname"
   ]
  },
  {
   "cell_type": "code",
   "execution_count": 14,
   "metadata": {},
   "outputs": [
    {
     "data": {
      "text/html": [
       "<div>\n",
       "<table border=\"1\" class=\"dataframe\">\n",
       "  <thead>\n",
       "    <tr style=\"text-align: right;\">\n",
       "      <th></th>\n",
       "      <th>f1_score</th>\n",
       "      <th>precision</th>\n",
       "      <th>recall</th>\n",
       "      <th>Nearest reference</th>\n",
       "      <th>Max ana phrase</th>\n",
       "      <th>Max chain phrase</th>\n",
       "      <th>POS ana filter</th>\n",
       "      <th>Pos chain filter</th>\n",
       "    </tr>\n",
       "  </thead>\n",
       "  <tbody>\n",
       "    <tr>\n",
       "      <th>0</th>\n",
       "      <td>0.035785</td>\n",
       "      <td>0.3</td>\n",
       "      <td>0.019027</td>\n",
       "      <td>-</td>\n",
       "      <td>5</td>\n",
       "      <td>2</td>\n",
       "      <td>-</td>\n",
       "      <td>NN+VB</td>\n",
       "    </tr>\n",
       "    <tr>\n",
       "      <th>1</th>\n",
       "      <td>0.035785</td>\n",
       "      <td>0.3</td>\n",
       "      <td>0.019027</td>\n",
       "      <td>-</td>\n",
       "      <td>5</td>\n",
       "      <td>-</td>\n",
       "      <td>-</td>\n",
       "      <td>NN</td>\n",
       "    </tr>\n",
       "    <tr>\n",
       "      <th>2</th>\n",
       "      <td>0.035785</td>\n",
       "      <td>0.3</td>\n",
       "      <td>0.019027</td>\n",
       "      <td>-</td>\n",
       "      <td>20</td>\n",
       "      <td>2</td>\n",
       "      <td>-</td>\n",
       "      <td>NN+VB</td>\n",
       "    </tr>\n",
       "    <tr>\n",
       "      <th>3</th>\n",
       "      <td>0.035785</td>\n",
       "      <td>0.3</td>\n",
       "      <td>0.019027</td>\n",
       "      <td>-</td>\n",
       "      <td>20</td>\n",
       "      <td>3</td>\n",
       "      <td>-</td>\n",
       "      <td>NN+VB</td>\n",
       "    </tr>\n",
       "    <tr>\n",
       "      <th>4</th>\n",
       "      <td>0.035785</td>\n",
       "      <td>0.3</td>\n",
       "      <td>0.019027</td>\n",
       "      <td>-</td>\n",
       "      <td>20</td>\n",
       "      <td>5</td>\n",
       "      <td>-</td>\n",
       "      <td>NN+VB</td>\n",
       "    </tr>\n",
       "  </tbody>\n",
       "</table>\n",
       "</div>"
      ],
      "text/plain": [
       "   f1_score  precision    recall Nearest reference Max ana phrase  \\\n",
       "0  0.035785        0.3  0.019027                 -              5   \n",
       "1  0.035785        0.3  0.019027                 -              5   \n",
       "2  0.035785        0.3  0.019027                 -             20   \n",
       "3  0.035785        0.3  0.019027                 -             20   \n",
       "4  0.035785        0.3  0.019027                 -             20   \n",
       "\n",
       "  Max chain phrase POS ana filter Pos chain filter  \n",
       "0                2              -            NN+VB  \n",
       "1                -              -               NN  \n",
       "2                2              -            NN+VB  \n",
       "3                3              -            NN+VB  \n",
       "4                5              -            NN+VB  "
      ]
     },
     "execution_count": 14,
     "metadata": {},
     "output_type": "execute_result"
    }
   ],
   "source": [
    "top_rows.head()"
   ]
  },
  {
   "cell_type": "code",
   "execution_count": 15,
   "metadata": {},
   "outputs": [
    {
     "name": "stdout",
     "output_type": "stream",
     "text": [
      "Nearest reference ['-']\n",
      "Max ana phrase ['5' '20' '-' '10' '3' '2']\n",
      "Max chain phrase ['2' '-' '3' '5' '10' '20']\n",
      "POS ana filter ['-']\n",
      "Pos chain filter ['NN+VB' 'NN']\n"
     ]
    }
   ],
   "source": [
    "for col in [\"Nearest reference\",\"Max ana phrase\",\"Max chain phrase\",\"POS ana filter\",\"Pos chain filter\"]:\n",
    "    print(col, top_rows[col].unique())"
   ]
  },
  {
   "cell_type": "markdown",
   "metadata": {},
   "source": [
    "### Cref Filter"
   ]
  },
  {
   "cell_type": "code",
   "execution_count": 16,
   "metadata": {},
   "outputs": [
    {
     "data": {
      "text/html": [
       "<div>\n",
       "<table border=\"1\" class=\"dataframe\">\n",
       "  <thead>\n",
       "    <tr style=\"text-align: right;\">\n",
       "      <th></th>\n",
       "      <th>f1_score</th>\n",
       "      <th>precision</th>\n",
       "      <th>recall</th>\n",
       "      <th>Nearest reference</th>\n",
       "      <th>Max ana phrase</th>\n",
       "      <th>Max chain phrase</th>\n",
       "      <th>POS ana filter</th>\n",
       "      <th>Pos chain filter</th>\n",
       "    </tr>\n",
       "  </thead>\n",
       "  <tbody>\n",
       "    <tr>\n",
       "      <th>0</th>\n",
       "      <td>0.044044</td>\n",
       "      <td>0.041825</td>\n",
       "      <td>0.046512</td>\n",
       "      <td>True</td>\n",
       "      <td>3</td>\n",
       "      <td>1</td>\n",
       "      <td>-</td>\n",
       "      <td>NN</td>\n",
       "    </tr>\n",
       "    <tr>\n",
       "      <th>1</th>\n",
       "      <td>0.044044</td>\n",
       "      <td>0.041825</td>\n",
       "      <td>0.046512</td>\n",
       "      <td>True</td>\n",
       "      <td>5</td>\n",
       "      <td>1</td>\n",
       "      <td>-</td>\n",
       "      <td>NN</td>\n",
       "    </tr>\n",
       "    <tr>\n",
       "      <th>2</th>\n",
       "      <td>0.044044</td>\n",
       "      <td>0.041825</td>\n",
       "      <td>0.046512</td>\n",
       "      <td>True</td>\n",
       "      <td>-</td>\n",
       "      <td>1</td>\n",
       "      <td>-</td>\n",
       "      <td>NN</td>\n",
       "    </tr>\n",
       "    <tr>\n",
       "      <th>3</th>\n",
       "      <td>0.044044</td>\n",
       "      <td>0.041825</td>\n",
       "      <td>0.046512</td>\n",
       "      <td>True</td>\n",
       "      <td>20</td>\n",
       "      <td>1</td>\n",
       "      <td>-</td>\n",
       "      <td>NN</td>\n",
       "    </tr>\n",
       "    <tr>\n",
       "      <th>4</th>\n",
       "      <td>0.044044</td>\n",
       "      <td>0.041825</td>\n",
       "      <td>0.046512</td>\n",
       "      <td>True</td>\n",
       "      <td>10</td>\n",
       "      <td>1</td>\n",
       "      <td>-</td>\n",
       "      <td>NN</td>\n",
       "    </tr>\n",
       "    <tr>\n",
       "      <th>5</th>\n",
       "      <td>0.044044</td>\n",
       "      <td>0.041825</td>\n",
       "      <td>0.046512</td>\n",
       "      <td>True</td>\n",
       "      <td>2</td>\n",
       "      <td>1</td>\n",
       "      <td>-</td>\n",
       "      <td>NN</td>\n",
       "    </tr>\n",
       "  </tbody>\n",
       "</table>\n",
       "</div>"
      ],
      "text/plain": [
       "   f1_score  precision    recall Nearest reference Max ana phrase  \\\n",
       "0  0.044044   0.041825  0.046512              True              3   \n",
       "1  0.044044   0.041825  0.046512              True              5   \n",
       "2  0.044044   0.041825  0.046512              True              -   \n",
       "3  0.044044   0.041825  0.046512              True             20   \n",
       "4  0.044044   0.041825  0.046512              True             10   \n",
       "5  0.044044   0.041825  0.046512              True              2   \n",
       "\n",
       "  Max chain phrase POS ana filter Pos chain filter  \n",
       "0                1              -               NN  \n",
       "1                1              -               NN  \n",
       "2                1              -               NN  \n",
       "3                1              -               NN  \n",
       "4                1              -               NN  \n",
       "5                1              -               NN  "
      ]
     },
     "execution_count": 16,
     "metadata": {},
     "output_type": "execute_result"
    }
   ],
   "source": [
    "train_res_fname = berkeley_coref_predictions_folder + \"concept_codes_train_grid_search_cref.csv\"\n",
    "get_top_rows(train_res_fname)"
   ]
  },
  {
   "cell_type": "code",
   "execution_count": null,
   "metadata": {},
   "outputs": [],
   "source": []
  }
 ],
 "metadata": {
  "kernelspec": {
   "display_name": "Python [conda env:phd_py36]",
   "language": "python",
   "name": "conda-env-phd_py36-py"
  },
  "language_info": {
   "codemirror_mode": {
    "name": "ipython",
    "version": 3
   },
   "file_extension": ".py",
   "mimetype": "text/x-python",
   "name": "python",
   "nbconvert_exporter": "python",
   "pygments_lexer": "ipython3",
   "version": "3.6.4"
  }
 },
 "nbformat": 4,
 "nbformat_minor": 2
}
