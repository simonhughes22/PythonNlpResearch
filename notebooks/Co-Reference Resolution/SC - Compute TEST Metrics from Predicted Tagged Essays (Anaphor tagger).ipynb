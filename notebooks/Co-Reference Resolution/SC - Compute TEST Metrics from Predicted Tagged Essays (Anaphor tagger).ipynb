{
 "cells": [
  {
   "cell_type": "code",
   "execution_count": 1,
   "metadata": {},
   "outputs": [],
   "source": [
    "import dill\n",
    "import pathlib\n",
    "import pandas as pd\n",
    "import numpy as np\n",
    "from collections import defaultdict\n",
    "\n",
    "from BrattEssay import load_bratt_essays\n",
    "from load_data import load_process_essays\n",
    "from window_based_tagger_config import get_config\n",
    "from FindFiles import find_files\n",
    "from DirUtils import dir_exists\n",
    "from results_procesor import ResultsProcessor, __MICRO_F1__\n",
    "from Settings import Settings"
   ]
  },
  {
   "cell_type": "code",
   "execution_count": 2,
   "metadata": {},
   "outputs": [],
   "source": [
    "EMPTY_TAG = \"Empty\"\n",
    "ANAPHORA = \"Anaphor\""
   ]
  },
  {
   "cell_type": "code",
   "execution_count": 3,
   "metadata": {},
   "outputs": [
    {
     "name": "stdout",
     "output_type": "stream",
     "text": [
      "Python 3.6.4 :: Anaconda, Inc.\r\n"
     ]
    }
   ],
   "source": [
    "!python -V"
   ]
  },
  {
   "cell_type": "code",
   "execution_count": 4,
   "metadata": {},
   "outputs": [
    {
     "name": "stdout",
     "output_type": "stream",
     "text": [
      "/Users/simon.hughes/anaconda3/envs/phd_py36/bin/python\r\n"
     ]
    }
   ],
   "source": [
    "!which python"
   ]
  },
  {
   "cell_type": "code",
   "execution_count": 5,
   "metadata": {},
   "outputs": [
    {
     "name": "stdout",
     "output_type": "stream",
     "text": [
      "absl-py==0.3.0\r\n",
      "anaconda-client==1.6.11\r\n",
      "appnope==0.1.0\r\n",
      "argcomplete==1.9.4\r\n",
      "asn1crypto==0.24.0\r\n",
      "astor==0.7.1\r\n",
      "beautifulsoup4==4.6.0\r\n",
      "bleach==2.1.2\r\n",
      "boto==2.47.0\r\n",
      "boto3==1.5.36\r\n",
      "botocore==1.8.50\r\n",
      "bz2file==0.98\r\n",
      "certifi==2018.1.18\r\n",
      "cffi==1.11.4\r\n",
      "chardet==3.0.4\r\n",
      "clyent==1.2.2\r\n",
      "costcla==0.5\r\n",
      "cryptography==2.1.4\r\n",
      "cycler==0.10.0\r\n",
      "cymem==1.31.2\r\n",
      "cytoolz==0.8.2\r\n",
      "decorator==4.2.1\r\n",
      "dicecore==1.13\r\n",
      "dill==0.2.8.2\r\n",
      "docutils==0.14\r\n",
      "entrypoints==0.2.3\r\n",
      "ftfy==4.4.3\r\n",
      "gast==0.2.0\r\n",
      "gensim==0.13.4\r\n",
      "grpcio==1.14.0\r\n",
      "h5py==2.7.0\r\n",
      "hdbscan==0.8.12\r\n",
      "html5lib==1.0.1\r\n",
      "idna==2.6\r\n",
      "ipykernel==4.8.2\r\n",
      "ipython==6.2.1\r\n",
      "ipython-genutils==0.2.0\r\n",
      "ipywidgets==7.1.2\r\n",
      "jedi==0.11.1\r\n",
      "Jinja2==2.10\r\n",
      "jmespath==0.9.3\r\n",
      "joblib==0.9.4\r\n",
      "jsonschema==2.6.0\r\n",
      "jupyter==1.0.0\r\n",
      "jupyter-client==5.2.2\r\n",
      "jupyter-console==5.2.0\r\n",
      "jupyter-core==4.4.0\r\n",
      "jupyterlab==0.31.8\r\n",
      "jupyterlab-launcher==0.10.5\r\n",
      "Keras==1.2.2\r\n",
      "Keras-Applications==1.0.4\r\n",
      "Keras-Preprocessing==1.0.2\r\n",
      "Markdown==2.6.11\r\n",
      "MarkupSafe==1.0\r\n",
      "matplotlib==2.0.0\r\n",
      "mistune==0.8.3\r\n",
      "murmurhash==0.26.4\r\n",
      "nb-anacondacloud==1.4.0\r\n",
      "nb-conda==2.2.1\r\n",
      "nb-conda-kernels==2.1.0\r\n",
      "nbconvert==5.3.1\r\n",
      "nbformat==4.4.0\r\n",
      "nbpresent==3.0.2\r\n",
      "nltk==3.2.2\r\n",
      "nose==1.3.7\r\n",
      "notebook==5.4.0\r\n",
      "numpy==1.14.1\r\n",
      "pandas==0.22.0\r\n",
      "pandocfilters==1.4.2\r\n",
      "parso==0.1.1\r\n",
      "pathlib==1.0.1\r\n",
      "pexpect==4.4.0\r\n",
      "pickleshare==0.7.4\r\n",
      "Pillow==5.0.0\r\n",
      "plac==0.9.6\r\n",
      "preshed==1.0.0\r\n",
      "prompt-toolkit==1.0.15\r\n",
      "protobuf==3.6.0\r\n",
      "ptyprocess==0.5.2\r\n",
      "pycparser==2.18\r\n",
      "pyea==0.2\r\n",
      "Pygments==2.2.0\r\n",
      "pymongo==3.4.0\r\n",
      "pyOpenSSL==17.5.0\r\n",
      "pyparsing==2.2.0\r\n",
      "PySocks==1.6.7\r\n",
      "python-dateutil==2.6.1\r\n",
      "pytz==2018.3\r\n",
      "PyYAML==3.12\r\n",
      "pyzmq==17.0.0\r\n",
      "qtconsole==4.3.1\r\n",
      "regex==2017.4.5\r\n",
      "requests==2.14.2\r\n",
      "s3transfer==0.1.13\r\n",
      "scikit-learn==0.18.1\r\n",
      "scikit-optimize==0.3\r\n",
      "scipy==1.0.0\r\n",
      "seaborn==0.7.1\r\n",
      "Send2Trash==1.5.0\r\n",
      "simplegeneric==0.8.1\r\n",
      "six==1.11.0\r\n",
      "smart-open==1.5.6\r\n",
      "spacy==1.8.2\r\n",
      "tensorboard==1.9.0\r\n",
      "tensorflow==1.9.0\r\n",
      "termcolor==1.1.0\r\n",
      "terminado==0.8.1\r\n",
      "testpath==0.3.1\r\n",
      "Theano==1.0.2\r\n",
      "thinc==6.5.2\r\n",
      "toolz==0.9.0\r\n",
      "tornado==4.5.3\r\n",
      "tqdm==4.19.5\r\n",
      "traitlets==4.3.2\r\n",
      "ujson==1.35\r\n",
      "urllib3==1.22\r\n",
      "wcwidth==0.1.7\r\n",
      "webencodings==0.5.1\r\n",
      "Werkzeug==0.14.1\r\n",
      "widgetsnbextension==3.1.4\r\n",
      "wordcloud==1.3.1\r\n",
      "wrapt==1.10.11\r\n"
     ]
    }
   ],
   "source": [
    "!pip freeze"
   ]
  },
  {
   "cell_type": "code",
   "execution_count": 7,
   "metadata": {},
   "outputs": [
    {
     "name": "stdout",
     "output_type": "stream",
     "text": [
      "Results Dir: /Users/simon.hughes/Google Drive/Phd/Results/\n",
      "Data Dir:    /Users/simon.hughes/Google Drive/Phd/Data/\n",
      "Root Dir:    /Users/simon.hughes/GitHub/NlpResearch/\n",
      "Public Data: /Users/simon.hughes/GitHub/NlpResearch/Data/PublicDatasets/\n"
     ]
    }
   ],
   "source": [
    "# DATASET = \"CoralBleaching\"\n",
    "DATASET = \"SkinCancer\"\n",
    "\n",
    "settings = Settings()\n",
    "root_folder = settings.data_directory + DATASET + \"/Thesis_Dataset/\"\n",
    "training_folder = root_folder + \"Training\" + \"/\"\n",
    "test_folder = root_folder + \"Test\" + \"/\"\n",
    "training_pickled = settings.data_directory + DATASET + \"/Thesis_Dataset/training.pl\"\n",
    "\n",
    "# PREDICTIONS FOLDERS\n",
    "anaphor_predictions_folder = root_folder + \"Predictions/Bi-LSTM-4-Anaphora_Tags-Binary-Fixed/\"\n",
    "\n",
    "# USE the \"-Fixed\" ones, these are much worse\n",
    "#anaphor_predictions_folder = root_folder + \"Predictions/Bi-LSTM-4-Anaphora_Tags-Binary/\"\n",
    "\n",
    "config = get_config(training_folder)"
   ]
  },
  {
   "cell_type": "code",
   "execution_count": 8,
   "metadata": {},
   "outputs": [
    {
     "data": {
      "text/plain": [
       "'/Users/simon.hughes/Google Drive/Phd/Data/SkinCancer/Thesis_Dataset/Predictions/Bi-LSTM-4-Anaphora_Tags-Binary-Fixed/'"
      ]
     },
     "execution_count": 8,
     "metadata": {},
     "output_type": "execute_result"
    }
   ],
   "source": [
    "anaphor_predictions_folder"
   ]
  },
  {
   "cell_type": "code",
   "execution_count": 9,
   "metadata": {},
   "outputs": [
    {
     "name": "stdout",
     "output_type": "stream",
     "text": [
      "Valid\n"
     ]
    }
   ],
   "source": [
    "assert dir_exists(anaphor_predictions_folder)\n",
    "print(\"Valid\")"
   ]
  },
  {
   "cell_type": "code",
   "execution_count": 10,
   "metadata": {},
   "outputs": [],
   "source": [
    "# get tagged essays\n",
    "def load_tagged_essays(folder, pattern):\n",
    "    files = find_files(folder, pattern)\n",
    "    # multiple runs with different hidden layer sizes?\n",
    "    if len(files) > 2:        \n",
    "        for f in files:\n",
    "            print(f)\n",
    "    assert len(files) == 2, \"Wrong number of tagged files:\" + str(len(files))\n",
    "    for f in files:\n",
    "        assert \"_train_\" in f or \"_test_\" in f, \"Wrong files matched\"\n",
    "    train_tagged_fname = [f for file in files if \"_train_\" in f][0]\n",
    "    test_tagged_fname = list(set(files).difference([train_tagged_fname]))[0]\n",
    "    print(\"Train: {fname}\".format(fname=train_tagged_fname))\n",
    "    print(\"Test:  {fname}\".format(fname=test_tagged_fname))\n",
    "\n",
    "    # NOTE - is this throws an error, upgrade to dill 2.8.2. Version 2.6 had a bug in it\n",
    "    with open(train_tagged_fname, \"rb\") as f:\n",
    "        tagged_essays_train = dill.load(f)\n",
    "    with open(test_tagged_fname, \"rb\") as f:\n",
    "        tagged_essays_test  = dill.load(f)\n",
    "    return (tagged_essays_train, tagged_essays_test)"
   ]
  },
  {
   "cell_type": "code",
   "execution_count": 11,
   "metadata": {},
   "outputs": [
    {
     "name": "stdout",
     "output_type": "stream",
     "text": [
      "Train: /Users/simon.hughes/Google Drive/Phd/Data/SkinCancer/Thesis_Dataset/Predictions/Bi-LSTM-4-Anaphora_Tags-Binary-Fixed/essays_train_bi_directional-True_hidden_size-256_merge_mode-sum_num_rnns-1_use_pretrained_embedding-True.dill\n",
      "Test:  /Users/simon.hughes/Google Drive/Phd/Data/SkinCancer/Thesis_Dataset/Predictions/Bi-LSTM-4-Anaphora_Tags-Binary-Fixed/essays_test_bi_directional-True_hidden_size-256_merge_mode-sum_num_rnns-1_use_pretrained_embedding-True.dill\n"
     ]
    },
    {
     "data": {
      "text/plain": [
       "(870, 218)"
      ]
     },
     "execution_count": 11,
     "metadata": {},
     "output_type": "execute_result"
    }
   ],
   "source": [
    "# for optimal vd params - see http://localhost:8888/notebooks/Mongo%20Queries/Query%20Model%20Hyper%20Parameter%20Tuning%20Results-Anaphora%20Tagger.ipynb#\n",
    "# NOTE that 1 layer is optimal for SC, 2 for CB\n",
    "pattern = \"essays_.*_bi_directional-True_hidden_size-256_merge_mode-sum_num_rnns-1_use_pretrained_embedding-True.dill\"\n",
    "ana_tagged_tr, ana_tagged_test = load_tagged_essays(anaphor_predictions_folder, pattern=pattern)\n",
    "len(ana_tagged_tr), len(ana_tagged_test)"
   ]
  },
  {
   "cell_type": "code",
   "execution_count": 12,
   "metadata": {},
   "outputs": [],
   "source": [
    "# Train: /Users/simon.hughes/Google Drive/Phd/Data/CoralBleaching/Thesis_Dataset/Predictions/\n",
    "#     Bi-LSTM-4-Anaphora_Tags-Binary-Fixed/essays_train_bi_directional-True_hidden_size-256_merge_mode-sum_num_rnns-2_use_pretrained_embedding-True.dill\n",
    "\n",
    "# Test:  /Users/simon.hughes/Google Drive/Phd/Data/CoralBleaching/Thesis_Dataset/Predictions/\n",
    "#     Bi-LSTM-4-Anaphora_Tags-Binary-Fixed/essays_test_bi_directional-True_hidden_size-256_merge_mode-sum_num_rnns-2_use_pretrained_embedding-True.dill"
   ]
  },
  {
   "cell_type": "markdown",
   "metadata": {},
   "source": [
    "## Load Raw Essays (Untagged)"
   ]
  },
  {
   "cell_type": "code",
   "execution_count": 13,
   "metadata": {},
   "outputs": [
    {
     "name": "stdout",
     "output_type": "stream",
     "text": [
      "870 files found\n",
      "870 essays processed\n",
      "218 files found\n",
      "218 essays processed\n"
     ]
    },
    {
     "data": {
      "text/plain": [
       "(870, 218)"
      ]
     },
     "execution_count": 13,
     "metadata": {},
     "output_type": "execute_result"
    }
   ],
   "source": [
    "# do I need to do this? good for validation below, but not needed otherwise\n",
    "# with open(training_pickled, \"rb+\") as f:\n",
    "#     untagged_essays_train = pickle.load(f)\n",
    "untagged_essays_train = load_process_essays(**config)\n",
    "\n",
    "test_config = get_config(test_folder)\n",
    "untagged_essays_test = load_process_essays(**test_config)\n",
    "\n",
    "len(untagged_essays_train), len(untagged_essays_test) # 870, 218"
   ]
  },
  {
   "cell_type": "code",
   "execution_count": 14,
   "metadata": {},
   "outputs": [
    {
     "data": {
      "text/plain": [
       "{'folder': '/Users/simon.hughes/Google Drive/Phd/Data/SkinCancer/Thesis_Dataset/Training/',\n",
       " 'include_normal': False,\n",
       " 'include_vague': True,\n",
       " 'lower_case': True,\n",
       " 'min_df': 2,\n",
       " 'min_sentence_length': 3,\n",
       " 'remove_infrequent': False,\n",
       " 'remove_punctuation': False,\n",
       " 'remove_stop_words': False,\n",
       " 'replace_nums': True,\n",
       " 'spelling_correct': True,\n",
       " 'stem': False,\n",
       " 'window_size': 9}"
      ]
     },
     "execution_count": 14,
     "metadata": {},
     "output_type": "execute_result"
    }
   ],
   "source": [
    "config"
   ]
  },
  {
   "cell_type": "markdown",
   "metadata": {},
   "source": [
    "## Validate all essay sets are equal and the same"
   ]
  },
  {
   "cell_type": "code",
   "execution_count": 15,
   "metadata": {},
   "outputs": [],
   "source": [
    "def names_the_same(essay_sets):\n",
    "    unique_fnames = [] # list of sets of str (fnames)\n",
    "    for essay_collection in essay_sets:\n",
    "        names = set()\n",
    "        for e in essay_collection:\n",
    "            names.add(e.name)\n",
    "        unique_fnames.append(names)\n",
    "    for a in unique_fnames:\n",
    "        print(len(a))\n",
    "        for b in unique_fnames:\n",
    "            assert len(a) == len(b), \"lens don't match\"\n",
    "            assert a == b, \"don't match\""
   ]
  },
  {
   "cell_type": "code",
   "execution_count": 16,
   "metadata": {},
   "outputs": [
    {
     "name": "stdout",
     "output_type": "stream",
     "text": [
      "870\n",
      "870\n"
     ]
    }
   ],
   "source": [
    "names_the_same([ana_tagged_tr, untagged_essays_train])"
   ]
  },
  {
   "cell_type": "code",
   "execution_count": 17,
   "metadata": {},
   "outputs": [
    {
     "name": "stdout",
     "output_type": "stream",
     "text": [
      "218\n",
      "218\n"
     ]
    }
   ],
   "source": [
    "names_the_same([ana_tagged_test, untagged_essays_test])"
   ]
  },
  {
   "cell_type": "code",
   "execution_count": 18,
   "metadata": {},
   "outputs": [],
   "source": [
    "def essays_2_hash_map(essays):\n",
    "    lu = {}\n",
    "    for e in essays:\n",
    "        lu[e.name] = e\n",
    "    return lu"
   ]
  },
  {
   "cell_type": "code",
   "execution_count": 19,
   "metadata": {},
   "outputs": [],
   "source": [
    "# checks the number of words and sentences are the same for 2 sets of essays\n",
    "def validate_tagged_essays(essays_a, essays_b, tags_should_match=True):\n",
    "    # make sure obj is not the same\n",
    "    assert essays_a != essays_b\n",
    "    print(\"Validating\", len(essays_a), \"essays\")\n",
    "    assert len(essays_a) == len(essays_b), \"Lens don't match\"\n",
    "    \n",
    "    a_hmap = essays_2_hash_map(essays_a)\n",
    "    b_hmap = essays_2_hash_map(essays_b)\n",
    "    \n",
    "    # same essays?\n",
    "    assert a_hmap.keys() == b_hmap.keys()\n",
    "    intersect = set(a_hmap.keys()).intersection(b_hmap.keys())\n",
    "    assert len(intersect) == len(a_hmap.keys())\n",
    "    assert len(a_hmap.keys()) > 1    \n",
    "    assert len(a_hmap.keys()) == len(b_hmap.keys())\n",
    "    \n",
    "    word_misses = 0\n",
    "    \n",
    "    for key, a_essay in a_hmap.items():\n",
    "        b_essay = b_hmap[key]\n",
    "        # assert NOT the same obj ref\n",
    "        assert a_essay != b_essay\n",
    "        assert len(a_essay.sentences) == len(b_essay.sentences)\n",
    "        assert len(a_essay.sentences) > 0\n",
    "        assert len(b_essay.sentences) > 0\n",
    "        for i in range(len(a_essay.sentences)):\n",
    "            a_sent = a_essay.sentences[i]\n",
    "            b_sent = b_essay.sentences[i]\n",
    "            # the same lists?\n",
    "            #assert a_sent == b_sent\n",
    "            assert len(a_sent) == len(b_sent)\n",
    "            if not len(a_sent) == len(b_sent):\n",
    "                print(key, \"\\tsent-ix:\", i, \"lens\", len(a_sent), len(b_sent))\n",
    "            for wd_ix, (a_wd, a_tags) in enumerate(a_sent):\n",
    "                b_wd, b_tags = b_sent[wd_ix]\n",
    "                if a_wd != b_wd:\n",
    "                    word_misses+=1\n",
    "                assert a_wd   == b_wd,   \\\n",
    "                    \"Words don't match: '{a}' - '{b}', Esssay: {essay} Sent Ix: {i}\".format(\n",
    "                            a=a_wd, b=b_wd, essay=key, i=i)\n",
    "                \n",
    "                # SH - Make conditional, as untagged essays contain new anaphora tags\n",
    "                if tags_should_match:                \n",
    "                    assert a_tags == b_tags, \\\n",
    "                        \"Tags don't match: '{a}' - '{b}', Esssay: {essay} Sent Ix: {i}\".format(\n",
    "                            a=str(a_tags), b=str(b_tags), essay=key, i=i)\n",
    "                else:\n",
    "                    intersectn = a_tags.intersection(b_tags)\n",
    "                    # smaller set should match intersection i.e. be a subset of larger one\n",
    "                    # will only differ due to new anaphora tags\n",
    "                    if len(b_tags) <= len(a_tags):\n",
    "                        assert intersectn == b_tags\n",
    "                    else:\n",
    "                        assert intersectn == a_tags\n",
    "                        \n",
    "    if word_misses > 0:\n",
    "        print(\"Word miss-matches: \", word_misses)\n",
    "    print(\"Validation Passed\")\n",
    "    return None"
   ]
  },
  {
   "cell_type": "code",
   "execution_count": 20,
   "metadata": {},
   "outputs": [
    {
     "name": "stdout",
     "output_type": "stream",
     "text": [
      "Validating 870 essays\n",
      "Validation Passed\n",
      "Validating 218 essays\n",
      "Validation Passed\n"
     ]
    }
   ],
   "source": [
    "validate_tagged_essays(untagged_essays_train, ana_tagged_tr, tags_should_match=False)\n",
    "validate_tagged_essays(untagged_essays_test, ana_tagged_test, tags_should_match=False)"
   ]
  },
  {
   "cell_type": "markdown",
   "metadata": {},
   "source": [
    "## Re-Compute Accuracy Metrics"
   ]
  },
  {
   "cell_type": "code",
   "execution_count": 21,
   "metadata": {},
   "outputs": [
    {
     "data": {
      "text/plain": [
       "(9, 9)"
      ]
     },
     "execution_count": 21,
     "metadata": {},
     "output_type": "execute_result"
    }
   ],
   "source": [
    "e = ana_tagged_tr[10]\n",
    "len(e.sentences),len(e.pred_tagged_sentences)"
   ]
  },
  {
   "cell_type": "code",
   "execution_count": 22,
   "metadata": {},
   "outputs": [
    {
     "data": {
      "text/plain": [
       "(11, 11)"
      ]
     },
     "execution_count": 22,
     "metadata": {},
     "output_type": "execute_result"
    }
   ],
   "source": [
    "e = ana_tagged_test[10]\n",
    "len(e.sentences),len(e.pred_tagged_sentences)"
   ]
  },
  {
   "cell_type": "code",
   "execution_count": 23,
   "metadata": {},
   "outputs": [
    {
     "data": {
      "text/plain": [
       "(870, 218)"
      ]
     },
     "execution_count": 23,
     "metadata": {},
     "output_type": "execute_result"
    }
   ],
   "source": [
    "assert len(ana_tagged_tr) > 2 * len(ana_tagged_test) # sanity check\n",
    "len(ana_tagged_tr), len(ana_tagged_test)"
   ]
  },
  {
   "cell_type": "markdown",
   "metadata": {},
   "source": [
    "### Get Predicted and Actual Labels"
   ]
  },
  {
   "cell_type": "code",
   "execution_count": 24,
   "metadata": {},
   "outputs": [],
   "source": [
    "def get_label(tag, expected_tag_set):\n",
    "    if tag in expected_tag_set:\n",
    "        return 1\n",
    "    else:\n",
    "        return 0\n",
    "\n",
    "def get_wd_level_lbs(essays, expected_tags):\n",
    "    expected_tags = set(expected_tags)\n",
    "    ysbycode = defaultdict(list)\n",
    "    for e in essays:\n",
    "        for sent in e.sentences:\n",
    "            for wd, tag_set in sent:\n",
    "                for etag in expected_tags:\n",
    "                    ysbycode[etag].append(get_label(etag, tag_set))\n",
    "    return ysbycode    \n",
    "\n",
    "# for pred tags\n",
    "def get_wd_level_preds(essays, expected_tags):\n",
    "    expected_tags = set(expected_tags)\n",
    "    ysbycode = defaultdict(list)\n",
    "    for e in essays:\n",
    "        for sentix in range(len(e.sentences)):\n",
    "            p_ccodes = e.pred_tagged_sentences[sentix]            \n",
    "            for wordix in range(len(p_ccodes)):\n",
    "                ptag_set = set([p_ccodes[wordix]])\n",
    "                assert len(ptag_set) >=1, \"No tags found\"\n",
    "                for exp_tag in expected_tags:\n",
    "                    ysbycode[exp_tag].append(get_label(exp_tag, ptag_set))    \n",
    "    return ysbycode   "
   ]
  },
  {
   "cell_type": "markdown",
   "metadata": {},
   "source": [
    "## Validate Metrics Codes - Train CV"
   ]
  },
  {
   "cell_type": "code",
   "execution_count": 25,
   "metadata": {},
   "outputs": [],
   "source": [
    "def metrics_to_df(metrics):\n",
    "    import Rpfa\n",
    "\n",
    "    rows = []\n",
    "    for k,val in metrics.items():\n",
    "        if type(val) == Rpfa.rpfa:\n",
    "            d = dict(val.__dict__) # convert obj to dict\n",
    "        elif type(val) == dict:\n",
    "            d = dict(val)\n",
    "        else:\n",
    "            d = dict()\n",
    "        d[\"code\"] = k\n",
    "        rows.append(d)\n",
    "    return pd.DataFrame(rows)\n",
    "\n",
    "def compute_metrics_from_essays(tagged_esssays, expected_tags):\n",
    "    #TODO - get predicted ccodes and anaphora labels, merge into one set of preds and filter by expected_tags.\n",
    "    # this give flexibility to look at anaphora, cc or both\n",
    "    act_ys_bycode  = get_wd_level_lbs(  tagged_esssays, expected_tags)\n",
    "    pred_ys_bycode = get_wd_level_preds(tagged_esssays, expected_tags)\n",
    "\n",
    "    assert len(act_ys_bycode.keys()) == len(pred_ys_bycode.keys()) == len(expected_tags), \"Miss-matched codes\"\n",
    "    first_tag = list(expected_tags)[0]\n",
    "    last_tag  = list(expected_tags)[-1]\n",
    "    assert len(act_ys_bycode[first_tag]) == len(pred_ys_bycode[first_tag]), \"Different numbers of words\"\n",
    "    assert len(act_ys_bycode[last_tag])  == len(pred_ys_bycode[last_tag]), \"Different numbers of words\"\n",
    "\n",
    "    #print(len(act_ys_bycode), len(act_ys_bycode[first_tag]), len(pred_ys_bycode), len(pred_ys_bycode[first_tag]))\n",
    "    \n",
    "    metrics = ResultsProcessor.compute_metrics(act_ys_bycode, pred_ys_bycode)\n",
    "    mean_metrics = ResultsProcessor.compute_mean_metrics(act_ys_bycode, pred_ys_bycode)\n",
    "    return metrics_to_df(mean_metrics)"
   ]
  },
  {
   "cell_type": "markdown",
   "metadata": {},
   "source": [
    "## VD Metrics"
   ]
  },
  {
   "cell_type": "code",
   "execution_count": 29,
   "metadata": {},
   "outputs": [],
   "source": [
    "tagged_esssays = ana_tagged_tr\n",
    "expected_tags = ana_tags\n",
    "\n",
    "#TODO - get predicted ccodes and anaphora labels, merge into one set of preds and filter by expected_tags.\n",
    "# this give flexibility to look at anaphora, cc or both\n",
    "act_ys_bycode  = get_wd_level_lbs(  tagged_esssays, expected_tags)\n",
    "pred_ys_bycode = get_wd_level_preds(tagged_esssays, expected_tags)\n",
    "\n",
    "assert len(act_ys_bycode.keys()) == len(pred_ys_bycode.keys()) == len(expected_tags), \"Miss-matched codes\"\n",
    "first_tag = list(expected_tags)[0]\n",
    "last_tag  = list(expected_tags)[-1]\n",
    "assert len(act_ys_bycode[first_tag]) == len(pred_ys_bycode[first_tag]), \"Different numbers of words\"\n",
    "assert len(act_ys_bycode[last_tag])  == len(pred_ys_bycode[last_tag]), \"Different numbers of words\"\n",
    "\n",
    "#print(len(act_ys_bycode), len(act_ys_bycode[first_tag]), len(pred_ys_bycode), len(pred_ys_bycode[first_tag]))\n",
    "\n",
    "metrics = ResultsProcessor.compute_metrics(act_ys_bycode, pred_ys_bycode)\n",
    "mean_metrics = ResultsProcessor.compute_mean_metrics(act_ys_bycode, pred_ys_bycode)"
   ]
  },
  {
   "cell_type": "code",
   "execution_count": 33,
   "metadata": {},
   "outputs": [
    {
     "data": {
      "text/html": [
       "<div>\n",
       "<table border=\"1\" class=\"dataframe\">\n",
       "  <thead>\n",
       "    <tr style=\"text-align: right;\">\n",
       "      <th></th>\n",
       "      <th>accuracy</th>\n",
       "      <th>data_points</th>\n",
       "      <th>f1_score</th>\n",
       "      <th>fn</th>\n",
       "      <th>fp</th>\n",
       "      <th>num_codes</th>\n",
       "      <th>precision</th>\n",
       "      <th>recall</th>\n",
       "      <th>tn</th>\n",
       "      <th>tp</th>\n",
       "    </tr>\n",
       "  </thead>\n",
       "  <tbody>\n",
       "    <tr>\n",
       "      <th>0</th>\n",
       "      <td>0.996893</td>\n",
       "      <td>145471</td>\n",
       "      <td>0.350575</td>\n",
       "      <td>353.0</td>\n",
       "      <td>99.0</td>\n",
       "      <td>475</td>\n",
       "      <td>0.552036</td>\n",
       "      <td>0.256842</td>\n",
       "      <td>144897.0</td>\n",
       "      <td>122.0</td>\n",
       "    </tr>\n",
       "  </tbody>\n",
       "</table>\n",
       "</div>"
      ],
      "text/plain": [
       "   accuracy  data_points  f1_score     fn    fp  num_codes  precision  \\\n",
       "0  0.996893       145471  0.350575  353.0  99.0        475   0.552036   \n",
       "\n",
       "     recall        tn     tp  \n",
       "0  0.256842  144897.0  122.0  "
      ]
     },
     "execution_count": 33,
     "metadata": {},
     "output_type": "execute_result"
    }
   ],
   "source": [
    "pd.DataFrame([mean_metrics[ANAPHORA]])"
   ]
  },
  {
   "cell_type": "code",
   "execution_count": 26,
   "metadata": {},
   "outputs": [
    {
     "data": {
      "text/html": [
       "<div>\n",
       "<table border=\"1\" class=\"dataframe\">\n",
       "  <thead>\n",
       "    <tr style=\"text-align: right;\">\n",
       "      <th></th>\n",
       "      <th>code</th>\n",
       "      <th>f1_score</th>\n",
       "      <th>precision</th>\n",
       "      <th>recall</th>\n",
       "      <th>accuracy</th>\n",
       "      <th>data_points</th>\n",
       "    </tr>\n",
       "  </thead>\n",
       "  <tbody>\n",
       "    <tr>\n",
       "      <th>0</th>\n",
       "      <td>Anaphor</td>\n",
       "      <td>0.350575</td>\n",
       "      <td>0.552036</td>\n",
       "      <td>0.256842</td>\n",
       "      <td>0.996893</td>\n",
       "      <td>145471.0</td>\n",
       "    </tr>\n",
       "    <tr>\n",
       "      <th>5</th>\n",
       "      <td>MICRO_F1</td>\n",
       "      <td>0.350575</td>\n",
       "      <td>0.552036</td>\n",
       "      <td>0.256842</td>\n",
       "      <td>0.996893</td>\n",
       "      <td>145471.0</td>\n",
       "    </tr>\n",
       "  </tbody>\n",
       "</table>\n",
       "</div>"
      ],
      "text/plain": [
       "       code  f1_score  precision    recall  accuracy  data_points\n",
       "0   Anaphor  0.350575   0.552036  0.256842  0.996893     145471.0\n",
       "5  MICRO_F1  0.350575   0.552036  0.256842  0.996893     145471.0"
      ]
     },
     "execution_count": 26,
     "metadata": {},
     "output_type": "execute_result"
    }
   ],
   "source": [
    "METRICS_COLS = [\"code\",\"f1_score\", \"precision\", \"recall\", \"accuracy\", \"data_points\"]\n",
    "\n",
    "ana_tags = [ANAPHORA]\n",
    "metrics_tr_df = compute_metrics_from_essays(ana_tagged_tr, ana_tags)\n",
    "# filter to Anaphora and Micro F1\n",
    "metrics_tr_df = metrics_tr_df[np.isin(metrics_tr_df[\"code\"], [ANAPHORA, __MICRO_F1__])]\n",
    "metrics_tr_df[METRICS_COLS]"
   ]
  },
  {
   "cell_type": "markdown",
   "metadata": {},
   "source": [
    "## Test Metrics"
   ]
  },
  {
   "cell_type": "code",
   "execution_count": 27,
   "metadata": {},
   "outputs": [
    {
     "data": {
      "text/html": [
       "<div>\n",
       "<table border=\"1\" class=\"dataframe\">\n",
       "  <thead>\n",
       "    <tr style=\"text-align: right;\">\n",
       "      <th></th>\n",
       "      <th>code</th>\n",
       "      <th>f1_score</th>\n",
       "      <th>precision</th>\n",
       "      <th>recall</th>\n",
       "      <th>accuracy</th>\n",
       "      <th>data_points</th>\n",
       "    </tr>\n",
       "  </thead>\n",
       "  <tbody>\n",
       "    <tr>\n",
       "      <th>0</th>\n",
       "      <td>Anaphor</td>\n",
       "      <td>0.47343</td>\n",
       "      <td>0.505155</td>\n",
       "      <td>0.445455</td>\n",
       "      <td>0.996921</td>\n",
       "      <td>35402.0</td>\n",
       "    </tr>\n",
       "    <tr>\n",
       "      <th>5</th>\n",
       "      <td>MICRO_F1</td>\n",
       "      <td>0.47343</td>\n",
       "      <td>0.505155</td>\n",
       "      <td>0.445455</td>\n",
       "      <td>0.996921</td>\n",
       "      <td>35402.0</td>\n",
       "    </tr>\n",
       "  </tbody>\n",
       "</table>\n",
       "</div>"
      ],
      "text/plain": [
       "       code  f1_score  precision    recall  accuracy  data_points\n",
       "0   Anaphor   0.47343   0.505155  0.445455  0.996921      35402.0\n",
       "5  MICRO_F1   0.47343   0.505155  0.445455  0.996921      35402.0"
      ]
     },
     "execution_count": 27,
     "metadata": {},
     "output_type": "execute_result"
    }
   ],
   "source": [
    "metrics_test_df = compute_metrics_from_essays(ana_tagged_test, ana_tags)\n",
    "# filter to Anaphora and Micro F1\n",
    "metrics_test_df = metrics_test_df[np.isin(metrics_test_df[\"code\"], [ANAPHORA, __MICRO_F1__])]\n",
    "metrics_test_df[METRICS_COLS]"
   ]
  },
  {
   "cell_type": "markdown",
   "metadata": {},
   "source": [
    "## TODO\n",
    "- Pull code into common library (for computing metrics from predictions), and refactor to use it\n",
    "- Move this logic into the Query folder (where i'd expect it to be), Update notes for Coref, referencing results for train and test (and where to get test data)\n",
    "- Run on SC essays - update the optimal ANA tag essays, re-do essay merge step"
   ]
  },
  {
   "cell_type": "code",
   "execution_count": null,
   "metadata": {},
   "outputs": [],
   "source": []
  }
 ],
 "metadata": {
  "kernelspec": {
   "display_name": "Python [conda env:phd_py36]",
   "language": "python",
   "name": "conda-env-phd_py36-py"
  },
  "language_info": {
   "codemirror_mode": {
    "name": "ipython",
    "version": 3
   },
   "file_extension": ".py",
   "mimetype": "text/x-python",
   "name": "python",
   "nbconvert_exporter": "python",
   "pygments_lexer": "ipython3",
   "version": "3.6.4"
  }
 },
 "nbformat": 4,
 "nbformat_minor": 2
}
