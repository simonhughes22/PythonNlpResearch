{
 "cells": [
  {
   "cell_type": "code",
   "execution_count": 2,
   "metadata": {},
   "outputs": [
    {
     "name": "stdout",
     "output_type": "stream",
     "text": [
      "Results Dir: /Users/simon.hughes/Google Drive/Phd/Results/\n",
      "Data Dir:    /Users/simon.hughes/Google Drive/Phd/Data/\n",
      "Root Dir:    /Users/simon.hughes/GitHub/NlpResearch/\n",
      "Public Data: /Users/simon.hughes/GitHub/NlpResearch/Data/PublicDatasets/\n",
      "Predictions: /Users/simon.hughes/Google Drive/Phd/Data/CoralBleaching/Thesis_Dataset/Predictions/Bi-LSTM-4-Anaphora_Tags-Binary-Fixed/\n"
     ]
    }
   ],
   "source": [
    "import dill\n",
    "\n",
    "#from gensim.models import Word2Vec\n",
    "from window_based_tagger_config import get_config\n",
    "from Rpfa import micro_rpfa\n",
    "\n",
    "import logging\n",
    "import datetime\n",
    "import pickle\n",
    "\n",
    "from CoRefHelper import parse_stanfordnlp_tagged_essays\n",
    "from CrossValidation import cross_validation\n",
    "from BrattEssay import load_bratt_essays\n",
    "from load_data import load_process_essays\n",
    "from collections import defaultdict\n",
    "from IterableFP import flatten\n",
    "from Settings import Settings\n",
    "from FindFiles import find_files\n",
    "\n",
    "CV_FOLDS = 5\n",
    "DEV_SPLIT = 0.1\n",
    "\n",
    "settings = Settings()\n",
    "root_folder = settings.data_directory + \"CoralBleaching/Thesis_Dataset/\"\n",
    "predictions_folder = root_folder + \"Predictions/Bi-LSTM-4-Anaphora_Tags-Binary-Fixed/\"\n",
    "print(\"Predictions: \" + predictions_folder)"
   ]
  },
  {
   "cell_type": "markdown",
   "metadata": {},
   "source": [
    "## Load CoRef Parsed Essays"
   ]
  },
  {
   "cell_type": "code",
   "execution_count": 3,
   "metadata": {},
   "outputs": [
    {
     "data": {
      "text/plain": [
       "902"
      ]
     },
     "execution_count": 3,
     "metadata": {},
     "output_type": "execute_result"
    }
   ],
   "source": [
    "coref_folder_train = root_folder + \"CoReference/Training\"\n",
    "coref_files_train = find_files(coref_folder_train, \".*\\.tagged\")\n",
    "len(coref_files_train)"
   ]
  },
  {
   "cell_type": "code",
   "execution_count": 4,
   "metadata": {},
   "outputs": [
    {
     "data": {
      "text/plain": [
       "226"
      ]
     },
     "execution_count": 4,
     "metadata": {},
     "output_type": "execute_result"
    }
   ],
   "source": [
    "coref_folder_test = root_folder + \"CoReference/Test\"\n",
    "coref_files_test = find_files(coref_folder_test, \".*\\.tagged\")\n",
    "len(coref_files_test)"
   ]
  },
  {
   "cell_type": "code",
   "execution_count": 5,
   "metadata": {},
   "outputs": [
    {
     "name": "stdout",
     "output_type": "stream",
     "text": [
      "902\n"
     ]
    }
   ],
   "source": [
    "essay2coref_train = parse_stanfordnlp_tagged_essays(coref_files_train)\n",
    "print(len(essay2coref_train))"
   ]
  },
  {
   "cell_type": "markdown",
   "metadata": {},
   "source": [
    "## Examine Data Structure"
   ]
  },
  {
   "cell_type": "code",
   "execution_count": 6,
   "metadata": {},
   "outputs": [
    {
     "data": {
      "text/plain": [
       "[('what', {'NER': 'O', 'POS': 'WDT'}),\n",
       " ('leads', {'NER': 'O', 'POS': 'VBZ'}),\n",
       " ('to', {'NER': 'O', 'POS': 'TO'}),\n",
       " ('differences', {'NER': 'O', 'POS': 'NNS'}),\n",
       " ('in', {'NER': 'O', 'POS': 'IN'}),\n",
       " ('the', {'NER': 'O', 'POS': 'DT'}),\n",
       " ('rates', {'NER': 'O', 'POS': 'NNS'}),\n",
       " ('of', {'NER': 'O', 'POS': 'IN'}),\n",
       " ('coral', {'COREF_ID': '2', 'NER': 'O', 'POS': 'NN'}),\n",
       " ('bleaching', {'COREF_ID': '2', 'NER': 'O', 'POS': 'NN'}),\n",
       " ('.', {'NER': 'O', 'POS': '.'})]"
      ]
     },
     "execution_count": 6,
     "metadata": {},
     "output_type": "execute_result"
    }
   ],
   "source": [
    "e = essay2coref_train[\"EBA1415_AEKD_4_CB_ES-05568\"]\n",
    "e[0]"
   ]
  },
  {
   "cell_type": "markdown",
   "metadata": {},
   "source": [
    "### Notes on Datastructure\n",
    "- Dictionary of esssays, keyed by name\n",
    "- Each essay is a list of sentences\n",
    "- Each sentence is a list of words\n",
    "- words are mapped to a tag dict\n",
    "  - tag dict - contains\n",
    "    - NER tag (most are O - none)\n",
    "    - POS tag\n",
    "    - If a Co-Reference such as an anaphor (mostly pronouns)\n",
    "      - COREF_PHRASE - phrase referred to by coref\n",
    "      - COREF_REF - Id of referenced phrase\n",
    "    - else if it is a phrase that is referenced:\n",
    "      - COREF_ID - id of the co-reference, referenced in the COREF_REF tag"
   ]
  },
  {
   "cell_type": "code",
   "execution_count": 7,
   "metadata": {},
   "outputs": [
    {
     "name": "stdout",
     "output_type": "stream",
     "text": [
      "226\n"
     ]
    }
   ],
   "source": [
    "essay2coref_test = parse_stanfordnlp_tagged_essays(coref_files_test)\n",
    "print(len(essay2coref_test))"
   ]
  },
  {
   "cell_type": "markdown",
   "metadata": {},
   "source": [
    "## Load Anaphora Tagged Essays"
   ]
  },
  {
   "cell_type": "code",
   "execution_count": 13,
   "metadata": {},
   "outputs": [
    {
     "data": {
      "text/plain": [
       "'/Users/simon.hughes/Google Drive/Phd/Data/CoralBleaching/Thesis_Dataset/Predictions/Bi-LSTM-4-Anaphora_Tags-Binary-Fixed/'"
      ]
     },
     "execution_count": 13,
     "metadata": {},
     "output_type": "execute_result"
    }
   ],
   "source": [
    "predictions_folder"
   ]
  },
  {
   "cell_type": "code",
   "execution_count": 22,
   "metadata": {},
   "outputs": [],
   "source": [
    "# get tagged essays\n",
    "def load_tagged_essays(folder, pattern):\n",
    "    files = find_files(folder, pattern)\n",
    "    # multiple runs with different hidden layer sizes?\n",
    "    if len(files) > 2:        \n",
    "        for f in files:\n",
    "            print(f)\n",
    "    assert len(files) == 2, \"Wrong number of tagged files:\" + str(len(files))\n",
    "    for f in files:\n",
    "        assert \"_train_\" in f or \"_test_\" in f, \"Wrong files matched\"\n",
    "    train_tagged_fname = [f for file in files if \"_train_\" in f][0]\n",
    "    test_tagged_fname = list(set(files).difference([train_tagged_fname]))[0]\n",
    "    print(\"Train: {fname}\".format(fname=train_tagged_fname))\n",
    "    print(\"Test:  {fname}\".format(fname=test_tagged_fname))\n",
    "\n",
    "    # NOTE - is this throws an error, upgrade to dill 2.8.2. Version 2.6 had a bug in it\n",
    "    with open(train_tagged_fname, \"rb\") as f:\n",
    "        tagged_essays_train = dill.load(f)\n",
    "    with open(test_tagged_fname, \"rb\") as f:\n",
    "        tagged_essays_test  = dill.load(f)\n",
    "    return (tagged_essays_train, tagged_essays_test)\n",
    "\n",
    "def essays_2_hash_map(essays):\n",
    "    lu = {}\n",
    "    for e in essays:\n",
    "        # remove the extension\n",
    "        lu[e.name.replace(\".ann\",\"\")] = e\n",
    "    return lu"
   ]
  },
  {
   "cell_type": "code",
   "execution_count": 28,
   "metadata": {},
   "outputs": [
    {
     "name": "stdout",
     "output_type": "stream",
     "text": [
      "Train: /Users/simon.hughes/Google Drive/Phd/Data/CoralBleaching/Thesis_Dataset/Predictions/Bi-LSTM-4-Anaphora_Tags-Binary-Fixed/essays_train_bi_directional-True_hidden_size-256_merge_mode-sum_num_rnns-2_use_pretrained_embedding-True.dill\n",
      "Test:  /Users/simon.hughes/Google Drive/Phd/Data/CoralBleaching/Thesis_Dataset/Predictions/Bi-LSTM-4-Anaphora_Tags-Binary-Fixed/essays_test_bi_directional-True_hidden_size-256_merge_mode-sum_num_rnns-2_use_pretrained_embedding-True.dill\n",
      "lens: 902 226\n"
     ]
    }
   ],
   "source": [
    "pattern = \"essays_.*_bi_directional-True_hidden_size-256_merge_mode-sum_num_rnns-2_use_pretrained_embedding-True.dill\"\n",
    "ana_tagged_train, ana_tagged_test = load_tagged_essays(predictions_folder, pattern)\n",
    "print(\"lens:\", len(ana_tagged_train), len(ana_tagged_test))\n",
    "\n",
    "essay2ana_train = essays_2_hash_map(ana_tagged_train)\n",
    "essay2ana_test  = essays_2_hash_map(ana_tagged_test)\n",
    "\n",
    "CHECk = \"number of total essay files should be the same\"\n",
    "assert len(coref_files_train) == len(ana_tagged_train), CHECK\n",
    "assert len(coref_files_test) == len(ana_tagged_test),   CHECK"
   ]
  },
  {
   "cell_type": "code",
   "execution_count": 29,
   "metadata": {},
   "outputs": [
    {
     "ename": "AssertionError",
     "evalue": "('EBA1415_KYLS_5_CB_ES-05648', 15, 14)",
     "output_type": "error",
     "traceback": [
      "\u001b[0;31m---------------------------------------------------------------------------\u001b[0m",
      "\u001b[0;31mAssertionError\u001b[0m                            Traceback (most recent call last)",
      "\u001b[0;32m<ipython-input-29-b3a23963ee37>\u001b[0m in \u001b[0;36m<module>\u001b[0;34m()\u001b[0m\n\u001b[1;32m      7\u001b[0m         \u001b[0;32massert\u001b[0m \u001b[0mlen\u001b[0m\u001b[0;34m(\u001b[0m\u001b[0mana_essay\u001b[0m\u001b[0;34m.\u001b[0m\u001b[0msentences\u001b[0m\u001b[0;34m)\u001b[0m \u001b[0;34m==\u001b[0m \u001b[0mlen\u001b[0m\u001b[0;34m(\u001b[0m\u001b[0mcoref_essay\u001b[0m\u001b[0;34m)\u001b[0m\u001b[0;34m,\u001b[0m \u001b[0;34m(\u001b[0m\u001b[0mename\u001b[0m\u001b[0;34m,\u001b[0m \u001b[0mlen\u001b[0m\u001b[0;34m(\u001b[0m\u001b[0mana_essay\u001b[0m\u001b[0;34m.\u001b[0m\u001b[0msentences\u001b[0m\u001b[0;34m)\u001b[0m \u001b[0;34m,\u001b[0m\u001b[0mlen\u001b[0m\u001b[0;34m(\u001b[0m\u001b[0mcoref_essay\u001b[0m\u001b[0;34m)\u001b[0m\u001b[0;34m)\u001b[0m\u001b[0;34m\u001b[0m\u001b[0m\n\u001b[1;32m      8\u001b[0m \u001b[0;34m\u001b[0m\u001b[0m\n\u001b[0;32m----> 9\u001b[0;31m \u001b[0mmatch_essays\u001b[0m\u001b[0;34m(\u001b[0m\u001b[0messay2ana_train\u001b[0m\u001b[0;34m,\u001b[0m \u001b[0messay2coref_train\u001b[0m\u001b[0;34m)\u001b[0m\u001b[0;34m\u001b[0m\u001b[0m\n\u001b[0m",
      "\u001b[0;32m<ipython-input-29-b3a23963ee37>\u001b[0m in \u001b[0;36mmatch_essays\u001b[0;34m(ana_tagged, coref)\u001b[0m\n\u001b[1;32m      5\u001b[0m         \u001b[0mana_essay\u001b[0m \u001b[0;34m=\u001b[0m \u001b[0mana_tagged\u001b[0m\u001b[0;34m[\u001b[0m\u001b[0mename\u001b[0m\u001b[0;34m]\u001b[0m\u001b[0;34m\u001b[0m\u001b[0m\n\u001b[1;32m      6\u001b[0m         \u001b[0mcoref_essay\u001b[0m \u001b[0;34m=\u001b[0m \u001b[0mcoref\u001b[0m\u001b[0;34m[\u001b[0m\u001b[0mename\u001b[0m\u001b[0;34m]\u001b[0m\u001b[0;34m\u001b[0m\u001b[0m\n\u001b[0;32m----> 7\u001b[0;31m         \u001b[0;32massert\u001b[0m \u001b[0mlen\u001b[0m\u001b[0;34m(\u001b[0m\u001b[0mana_essay\u001b[0m\u001b[0;34m.\u001b[0m\u001b[0msentences\u001b[0m\u001b[0;34m)\u001b[0m \u001b[0;34m==\u001b[0m \u001b[0mlen\u001b[0m\u001b[0;34m(\u001b[0m\u001b[0mcoref_essay\u001b[0m\u001b[0;34m)\u001b[0m\u001b[0;34m,\u001b[0m \u001b[0;34m(\u001b[0m\u001b[0mename\u001b[0m\u001b[0;34m,\u001b[0m \u001b[0mlen\u001b[0m\u001b[0;34m(\u001b[0m\u001b[0mana_essay\u001b[0m\u001b[0;34m.\u001b[0m\u001b[0msentences\u001b[0m\u001b[0;34m)\u001b[0m \u001b[0;34m,\u001b[0m\u001b[0mlen\u001b[0m\u001b[0;34m(\u001b[0m\u001b[0mcoref_essay\u001b[0m\u001b[0;34m)\u001b[0m\u001b[0;34m)\u001b[0m\u001b[0;34m\u001b[0m\u001b[0m\n\u001b[0m\u001b[1;32m      8\u001b[0m \u001b[0;34m\u001b[0m\u001b[0m\n\u001b[1;32m      9\u001b[0m \u001b[0mmatch_essays\u001b[0m\u001b[0;34m(\u001b[0m\u001b[0messay2ana_train\u001b[0m\u001b[0;34m,\u001b[0m \u001b[0messay2coref_train\u001b[0m\u001b[0;34m)\u001b[0m\u001b[0;34m\u001b[0m\u001b[0m\n",
      "\u001b[0;31mAssertionError\u001b[0m: ('EBA1415_KYLS_5_CB_ES-05648', 15, 14)"
     ]
    }
   ],
   "source": [
    "def match_essays(ana_tagged, coref):\n",
    "    \n",
    "    for ename in ana_tagged.keys():\n",
    "        assert ename in coref, ename\n",
    "        ana_essay = ana_tagged[ename]\n",
    "        coref_essay = coref[ename]\n",
    "        assert len(ana_essay.sentences) == len(coref_essay), (ename, len(ana_essay.sentences) ,len(coref_essay))\n",
    "        \n",
    "match_essays(essay2ana_train, essay2coref_train)"
   ]
  },
  {
   "cell_type": "markdown",
   "metadata": {},
   "source": [
    "## Why do the Sentences Not Align?"
   ]
  },
  {
   "cell_type": "code",
   "execution_count": 30,
   "metadata": {},
   "outputs": [],
   "source": [
    "ename = \"EBA1415_KYLS_5_CB_ES-05648\"\n",
    "\n",
    "ana_essay   = essay2ana_train[ename]\n",
    "coref_essay = essay2coref_train[ename]"
   ]
  },
  {
   "cell_type": "code",
   "execution_count": 31,
   "metadata": {},
   "outputs": [
    {
     "data": {
      "text/plain": [
       "(15, 14)"
      ]
     },
     "execution_count": 31,
     "metadata": {},
     "output_type": "execute_result"
    }
   ],
   "source": [
    "len(ana_essay.sentences), len(coref_essay)"
   ]
  },
  {
   "cell_type": "code",
   "execution_count": 32,
   "metadata": {},
   "outputs": [
    {
     "data": {
      "text/plain": [
       "[('there', set()),\n",
       " ('are', set()),\n",
       " ('many', set()),\n",
       " ('leads', set()),\n",
       " ('to', set()),\n",
       " ('differences', set()),\n",
       " ('in', set()),\n",
       " ('the', set()),\n",
       " ('rates', set()),\n",
       " ('if', set()),\n",
       " ('coral', {'50'}),\n",
       " ('bleaching', {'50'}),\n",
       " ('.', set())]"
      ]
     },
     "execution_count": 32,
     "metadata": {},
     "output_type": "execute_result"
    }
   ],
   "source": [
    "ana_essay.sentences[0]"
   ]
  },
  {
   "cell_type": "code",
   "execution_count": 33,
   "metadata": {},
   "outputs": [
    {
     "name": "stdout",
     "output_type": "stream",
     "text": [
      "0:  there are many leads to differences in the rates if coral bleaching .\n",
      "1:  the first piece of evidence is \" stress can negatively affect the balanced relationship between the coral and zooxanthellae , \" ( hsa 0000 ) .\n",
      "2:  this shows the rate of coral bleaching because with the relationship they both cant live without each other .\n",
      "3:  the algae gives coral food in which it lives and also the algae gives it color .\n",
      "4:  it would turn white because the supply are making a lot and put down everything in which the coral is getting a disease .\n",
      "5:  that how alot of coral reefs start being and soon there will be no coral ans the sea animals would die .\n",
      "6:  the second pieces of example is \" the corals turn white due to ejection of zooxanthellae . \"\n",
      "7:  this show the effects because it will turn white and the coral some times cant relive it self and just stay there to die .\n",
      "8:  the coral is used as a home protection for small other animals like fish from bigger animals like INFREQUENT , big fish , INFREQUENT , etc . . .\n",
      "9:  the third example is \" the zooxanthellae pass some of the food they make from the sun energy to the coral .\n",
      "10:  the algae also provide corals with their colors . \"\n",
      "11:  this shows the effects because they cant live without it , the coral polyps also give it there color .\n",
      "12:  coral needs all that thing or it will turn white and sometimes die .\n",
      "13:  they need to be protection or sun there will be no more and the coral will be harder to learn about .\n",
      "14:  that is about the rates and the coral bleaching , so be sure to help keep them soft .\n"
     ]
    }
   ],
   "source": [
    "for i, sent in enumerate(ana_essay.sentences):\n",
    "    words = list(zip(*sent))[0]\n",
    "    print(str(i) + \":  \" + \" \".join(words))"
   ]
  },
  {
   "cell_type": "code",
   "execution_count": 34,
   "metadata": {},
   "outputs": [
    {
     "name": "stdout",
     "output_type": "stream",
     "text": [
      "0:  there are many leads to differences in the rates if coral bleaching .\n",
      "1:  the first piece of evidence is \" stress can negatively affect the balanced relationship between the coral and zooxanthellae , \" ( hsa 0000 ) .\n",
      "2:  this shows the rate of coral bleaching because with the relationship they both cant live without each other .\n",
      "3:  the algae gives coral food in which it lives and also the algae gives it color .\n",
      "4:  it would turn white because the supply are making a lot and put down everything in which the coral is getting a disease .\n",
      "5:  that how alot of coral reefs start being and soon there will be no coral ans the sea animals would die .\n",
      "6:  the second pieces of example is \" the corals turn white due to ejection of zooxanthellae . \"\n",
      "7:  this show the effects because it will turn white and the coral some times cant relive it self and just stay there to die .\n",
      "8:  the coral is used as a home protection for small other animals like fish from bigger animals like sheiks , big fish , carbs , etc . . . the third example is \" the zooxanthellae pass some of the food they make from the sun energy to the coral .\n",
      "9:  the algae also provide corals with their colors . \"\n",
      "10:  this shows the effects because they cant live without it , the coral polyps also give it there color .\n",
      "11:  coral needs all that thing or it will turn white and sometimes die .\n",
      "12:  they need to be protection or sun there will be no more and the coral will be harder to learn about .\n",
      "13:  that is about the rates and the coral bleaching , so be sure to help keep them soft .\n"
     ]
    }
   ],
   "source": [
    "for i, sent in enumerate(coref_essay):\n",
    "    words = list(zip(*sent))[0]\n",
    "    print(str(i) + \":  \" + \" \".join(words))"
   ]
  },
  {
   "cell_type": "markdown",
   "metadata": {},
   "source": [
    "### In the Ana tagged essay, sentence 8 is split after the elipsis, in the co-ref it is not"
   ]
  },
  {
   "cell_type": "code",
   "execution_count": null,
   "metadata": {},
   "outputs": [],
   "source": []
  }
 ],
 "metadata": {
  "kernelspec": {
   "display_name": "Python [conda env:phd_py36]",
   "language": "python",
   "name": "conda-env-phd_py36-py"
  },
  "language_info": {
   "codemirror_mode": {
    "name": "ipython",
    "version": 3
   },
   "file_extension": ".py",
   "mimetype": "text/x-python",
   "name": "python",
   "nbconvert_exporter": "python",
   "pygments_lexer": "ipython3",
   "version": "3.6.4"
  }
 },
 "nbformat": 4,
 "nbformat_minor": 2
}
