{
 "cells": [
  {
   "cell_type": "code",
   "execution_count": 1,
   "metadata": {},
   "outputs": [
    {
     "name": "stdout",
     "output_type": "stream",
     "text": [
      "Results Dir: /Users/simon.hughes/Google Drive/Phd/Results/\n",
      "Data Dir:    /Users/simon.hughes/Google Drive/Phd/Data/\n",
      "Root Dir:    /Users/simon.hughes/GitHub/NlpResearch/\n",
      "Public Data: /Users/simon.hughes/GitHub/NlpResearch/Data/PublicDatasets/\n"
     ]
    }
   ],
   "source": [
    "import dill\n",
    "from FindFiles import find_files\n",
    "from Settings import Settings\n",
    "from CoRefHelper import EMPTY\n",
    "from collections import defaultdict\n",
    "from BrattEssay import ANAPHORA\n",
    "\n",
    "DATASET = \"CoralBleaching\" # CoralBleaching | SkinCancer\n",
    "PARTITION = \"Training\" # Training | Test\n",
    "\n",
    "settings = Settings()\n",
    "root_folder = settings.data_directory + DATASET + \"/Thesis_Dataset/\"\n",
    "merged_predictions_folder = root_folder + \"CoReference/\""
   ]
  },
  {
   "cell_type": "code",
   "execution_count": 2,
   "metadata": {},
   "outputs": [
    {
     "data": {
      "text/plain": [
       "902"
      ]
     },
     "execution_count": 2,
     "metadata": {},
     "output_type": "execute_result"
    }
   ],
   "source": [
    "essay_files = find_files(merged_predictions_folder)\n",
    "if PARTITION == \"Training\":\n",
    "    essay_files = [e for e in essay_files if \"train\" in e]\n",
    "assert len(essay_files) == 1\n",
    "with open(essay_files[0], \"rb\") as f:\n",
    "    essays = dill.load(f)\n",
    "len(essays)"
   ]
  },
  {
   "cell_type": "code",
   "execution_count": 36,
   "metadata": {},
   "outputs": [
    {
     "name": "stdout",
     "output_type": "stream",
     "text": [
      "/Users/simon.hughes/data/berkely_ner/CoralBleaching/Training/text\n"
     ]
    }
   ],
   "source": [
    "import pathlib\n",
    "# ensure paths exist\n",
    "\n",
    "output_root_dir = \"/Users/simon.hughes/data/berkely_ner/{dataset}/{partition}\".format(dataset=DATASET, partition=PARTITION)\n",
    "output_dir = output_root_dir + \"/text\" \n",
    "pathlib.Path(output_dir).mkdir(parents=True, exist_ok=True) \n",
    "print(output_dir)"
   ]
  },
  {
   "cell_type": "code",
   "execution_count": 37,
   "metadata": {},
   "outputs": [],
   "source": [
    "import os\n",
    "\n",
    "PART = \"0\"\n",
    "for e in essays:\n",
    "    name = e.name[:-4] + \".txt\"\n",
    "    first_line = \"#begin document ({name}); part 000\".format(name=name)\n",
    "    lines = [first_line]\n",
    "    for sent in e.sentences:\n",
    "        for wd_ix, (wd, _) in enumerate(sent):\n",
    "            lines.append(\"{name}\\t{part}\\t{wd_ix}\\t{word}\".format(name=name, part=PART, wd_ix=wd_ix, word=wd))\n",
    "        # insert blank line as sentence separator\n",
    "        lines.append(\"\")\n",
    "    lines.append(\"#end document\")\n",
    "    lines.append(\"\")\n",
    "    contents = \"\\n\".join(lines)\n",
    "    fname = os.path.join(output_dir, name.replace(\".txt\",\".conll\"))\n",
    "    \n",
    "    with open(fname, \"w+\") as fin:\n",
    "        fin.write(contents)\n"
   ]
  },
  {
   "cell_type": "code",
   "execution_count": 41,
   "metadata": {},
   "outputs": [
    {
     "data": {
      "text/plain": [
       "1"
      ]
     },
     "execution_count": 41,
     "metadata": {},
     "output_type": "execute_result"
    }
   ],
   "source": [
    "# Call Berkeley System\n",
    "from subprocess import call\n",
    "call([\"/Users/simon.hughes/data/berkely_ner/run-test_parameterized.sh\", output_root_dir])"
   ]
  },
  {
   "cell_type": "code",
   "execution_count": null,
   "metadata": {},
   "outputs": [],
   "source": []
  }
 ],
 "metadata": {
  "kernelspec": {
   "display_name": "Python [conda env:phd_py36]",
   "language": "python",
   "name": "conda-env-phd_py36-py"
  },
  "language_info": {
   "codemirror_mode": {
    "name": "ipython",
    "version": 3
   },
   "file_extension": ".py",
   "mimetype": "text/x-python",
   "name": "python",
   "nbconvert_exporter": "python",
   "pygments_lexer": "ipython3",
   "version": "3.6.4"
  }
 },
 "nbformat": 4,
 "nbformat_minor": 2
}
