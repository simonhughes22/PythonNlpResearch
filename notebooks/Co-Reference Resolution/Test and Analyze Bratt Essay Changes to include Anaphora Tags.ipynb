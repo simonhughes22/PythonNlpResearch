{
 "cells": [
  {
   "cell_type": "code",
   "execution_count": 1,
   "metadata": {},
   "outputs": [],
   "source": [
    "import os\n",
    "\n",
    "from FindFiles import find_files\n",
    "import Settings\n",
    "\n",
    "from collections import defaultdict\n",
    "from nltk.tokenize import sent_tokenize\n",
    "from IterableFP import flatten\n",
    "from BrattEssay import load_bratt_essays, ANAPHORA\n",
    "from collections import defaultdict"
   ]
  },
  {
   "cell_type": "code",
   "execution_count": 3,
   "metadata": {},
   "outputs": [
    {
     "name": "stdout",
     "output_type": "stream",
     "text": [
      "Results Dir: /Users/simon.hughes/Google Drive/Phd/Results/\n",
      "Data Dir:    /Users/simon.hughes/Google Drive/Phd/Data/\n",
      "Root Dir:    /Users/simon.hughes/GitHub/NlpResearch/\n",
      "Public Data: /Users/simon.hughes/GitHub/NlpResearch/Data/PublicDatasets/\n",
      "1154 files found\n",
      "Skipping /Users/simon.hughes/Google Drive/Phd/Data/CoralBleaching/BrattData/EBA1415_Merged/EBA1415_AEKD_4_CB_ES-05571.ann file as .txt file is no essay'\n",
      "Skipping /Users/simon.hughes/Google Drive/Phd/Data/CoralBleaching/BrattData/EBA1415_Merged/EBA1415_AEKD_4_CB_ES-05904.ann file as .txt file is no essay'\n",
      "Skipping /Users/simon.hughes/Google Drive/Phd/Data/CoralBleaching/BrattData/EBA1415_Merged/EBA1415_BGJD_1_CB_ES-05733.ann file as .txt file is no essay //'\n",
      "Skipping /Users/simon.hughes/Google Drive/Phd/Data/CoralBleaching/BrattData/EBA1415_Merged/EBA1415_ERSK_7_CB_ES-05798.ann file as .txt file is no essay //'\n",
      "Skipping /Users/simon.hughes/Google Drive/Phd/Data/CoralBleaching/BrattData/EBA1415_Merged/EBA1415_KYLS_5_CB_ES-05671.ann file as .txt file is no essay //'\n",
      "Skipping /Users/simon.hughes/Google Drive/Phd/Data/CoralBleaching/BrattData/EBA1415_Merged/EBA1415_LRJE_5_CB_ES-05128.ann file as .txt file is no essay'\n",
      "Skipping /Users/simon.hughes/Google Drive/Phd/Data/CoralBleaching/BrattData/EBA1415_Merged/EBA1415_SVJJ_2_CB_ES-05612.ann file as .txt file is no essay  //'\n",
      "Skipping /Users/simon.hughes/Google Drive/Phd/Data/CoralBleaching/BrattData/EBA1415_Merged/EBA1415_SVJJ_2_CB_ES-05617.ann file as .txt file is no essay  //'\n",
      "Skipping /Users/simon.hughes/Google Drive/Phd/Data/CoralBleaching/BrattData/EBA1415_Merged/EBA1415_SVJJ_4_CB_ES-05632.ann file as .txt file is no essay  //'\n",
      "Skipping /Users/simon.hughes/Google Drive/Phd/Data/CoralBleaching/BrattData/EBA1415_Merged/EBA1415_SVJJ_4_CB_ES-05640.ann file as .txt file is no essay.'\n",
      "Skipping /Users/simon.hughes/Google Drive/Phd/Data/CoralBleaching/BrattData/EBA1415_Merged/EBA1415_SWSP_4_CB_ES-05459.ann file as .txt file is no essay  //'\n",
      "Skipping /Users/simon.hughes/Google Drive/Phd/Data/CoralBleaching/BrattData/EBA1415_Merged/EBA1415_TFBM_1_CB_ES-05484.ann file as .txt file is no essay. //'\n",
      "Skipping /Users/simon.hughes/Google Drive/Phd/Data/CoralBleaching/BrattData/EBA1415_Merged/EBA1415_TFBM_1_CB_ES-05485.ann file as .txt file is no essay.  //'\n",
      "Skipping /Users/simon.hughes/Google Drive/Phd/Data/CoralBleaching/BrattData/EBA1415_Merged/EBA1415_TFBM_2_CB_ES-05548.ann file as .txt file is no essay  //'\n",
      "Skipping /Users/simon.hughes/Google Drive/Phd/Data/CoralBleaching/BrattData/EBA1415_Merged/EBA1415_TFMV_3_CB_ES-05845.ann file as .txt file is no essay'\n",
      "Skipping /Users/simon.hughes/Google Drive/Phd/Data/CoralBleaching/BrattData/EBA1415_Merged/EBA1415_TRDJ_11_CB_ES-05715.ann file as .txt file is no essay.'\n",
      "Skipping /Users/simon.hughes/Google Drive/Phd/Data/CoralBleaching/BrattData/EBA1415_Merged/EBA1415_TRDJ_11_CB_ES-05721.ann file as .txt file is no essay.'\n",
      "Skipping /Users/simon.hughes/Google Drive/Phd/Data/CoralBleaching/BrattData/EBA1415_Merged/EBA1415_TRDJ_2_CB_ES-06128.ann file as .txt file is no essay.'\n",
      "Skipping /Users/simon.hughes/Google Drive/Phd/Data/CoralBleaching/BrattData/EBA1415_Merged/EBA1415_TRDJ_2_CB_ES-06132.ann file as .txt file is no essay.'\n",
      "Skipping /Users/simon.hughes/Google Drive/Phd/Data/CoralBleaching/BrattData/EBA1415_Merged/EBA1415_TRKM_1_CB_ES-05025.ann file as .txt file is no essay.'\n",
      "Skipping /Users/simon.hughes/Google Drive/Phd/Data/CoralBleaching/BrattData/EBA1415_Merged/EBA1415_TRKM_1_CB_ES-05030.ann file as .txt file is no essay.'\n",
      "Skipping /Users/simon.hughes/Google Drive/Phd/Data/CoralBleaching/BrattData/EBA1415_Merged/EBA1415_TTCM_2_CB_ES-06140.ann file as .txt file is no essay.'\n",
      "Skipping /Users/simon.hughes/Google Drive/Phd/Data/CoralBleaching/BrattData/EBA1415_Merged/EBA1415_TTCM_910_CB_ES-06149.ann file as .txt file is no essay.'\n",
      "Skipping /Users/simon.hughes/Google Drive/Phd/Data/CoralBleaching/BrattData/EBA1415_Merged/EBA1415_TTCM_910_CB_ES-06153.ann file as .txt file is no essay.'\n",
      "Skipping /Users/simon.hughes/Google Drive/Phd/Data/CoralBleaching/BrattData/EBA1415_Merged/EBA1415_TTKP_7-8_CB_ES-06174.ann file as .txt file is no essay.'\n",
      "Skipping /Users/simon.hughes/Google Drive/Phd/Data/CoralBleaching/BrattData/EBA1415_Merged/EBA1415post_TWNB_2_CB_ES-04948.ann file as .txt file is no essay.'\n",
      "1128 essays processed\n"
     ]
    }
   ],
   "source": [
    "settings = Settings.Settings()\n",
    "cb_bratt_root_folder = settings.data_directory + \"CoralBleaching/BrattData/EBA1415_Merged/\"\n",
    "cb_essays = load_bratt_essays(include_normal=False, directory=cb_bratt_root_folder)"
   ]
  },
  {
   "cell_type": "code",
   "execution_count": 4,
   "metadata": {},
   "outputs": [
    {
     "name": "stdout",
     "output_type": "stream",
     "text": [
      "1106 files found\n",
      "Skipping /Users/simon.hughes/Google Drive/Phd/Data/SkinCancer/EBA1415_Merged/EBA1415_BGJD_1_SC_ES-05728.ann file as .txt file is no essay'\n",
      "Skipping /Users/simon.hughes/Google Drive/Phd/Data/SkinCancer/EBA1415_Merged/EBA1415_BGJD_1_SC_ES-5726_9.ann file as .txt file is no essay.'\n",
      "Skipping /Users/simon.hughes/Google Drive/Phd/Data/SkinCancer/EBA1415_Merged/EBA1415_KYLS_6_SC_ES-05674.ann file as .txt file is no essay'\n",
      "Skipping /Users/simon.hughes/Google Drive/Phd/Data/SkinCancer/EBA1415_Merged/EBA1415_LRJE_7_SC_ES-05142.ann file as .txt file is no essay'\n",
      "Skipping /Users/simon.hughes/Google Drive/Phd/Data/SkinCancer/EBA1415_Merged/EBA1415_RDCS_1_SC_ES-04696.ann file as .txt file is no essay//'\n",
      "Skipping /Users/simon.hughes/Google Drive/Phd/Data/SkinCancer/EBA1415_Merged/EBA1415_SVJJ_2_SC_ES-05617.ann file as .txt file is no essay'\n",
      "Skipping /Users/simon.hughes/Google Drive/Phd/Data/SkinCancer/EBA1415_Merged/EBA1415_SWAF_1_SC_ES-04832.ann file as .txt file is no essay.'\n",
      "Skipping /Users/simon.hughes/Google Drive/Phd/Data/SkinCancer/EBA1415_Merged/EBA1415_SWAF_1_SC_ES-04834.ann file as .txt file is no essay.'\n",
      "Skipping /Users/simon.hughes/Google Drive/Phd/Data/SkinCancer/EBA1415_Merged/EBA1415_SWSP_1_SC_ES-04853.ann file as .txt file is no essay  //'\n",
      "Skipping /Users/simon.hughes/Google Drive/Phd/Data/SkinCancer/EBA1415_Merged/EBA1415_SYMS_3_SC_ES-05900.ann file as .txt file is no essay.'\n",
      "Skipping /Users/simon.hughes/Google Drive/Phd/Data/SkinCancer/EBA1415_Merged/EBA1415_SYMS_4_SC_ES-05980.ann file as .txt file is no essay.'\n",
      "Skipping /Users/simon.hughes/Google Drive/Phd/Data/SkinCancer/EBA1415_Merged/EBA1415_TFHC_1_SC_ES-05937.ann file as .txt file is no essay.'\n",
      "Skipping /Users/simon.hughes/Google Drive/Phd/Data/SkinCancer/EBA1415_Merged/EBA1415_TRDJ_11_SC_ES-05721.ann file as .txt file is no essay.'\n",
      "Skipping /Users/simon.hughes/Google Drive/Phd/Data/SkinCancer/EBA1415_Merged/EBA1415_TRKM_1_SC_ES-05026.ann file as .txt file is no essay.'\n",
      "Skipping /Users/simon.hughes/Google Drive/Phd/Data/SkinCancer/EBA1415_Merged/EBA1415_TTKP_4-5_SC_ES-04924.ann file as .txt file is no essay.'\n",
      "Skipping /Users/simon.hughes/Google Drive/Phd/Data/SkinCancer/EBA1415_Merged/EBA1415_TWDG_11_SC_ES-05463.ann file as .txt file is no essay.'\n",
      "Skipping /Users/simon.hughes/Google Drive/Phd/Data/SkinCancer/EBA1415_Merged/EBA1415_TWJB_7_SC_ES-05897.ann file as .txt file is no essay.'\n",
      "Skipping /Users/simon.hughes/Google Drive/Phd/Data/SkinCancer/EBA1415_Merged/EBA1415_TWNB_2_SC_ES-04977.ann file as .txt file is no essay'\n",
      "Skipping /Users/simon.hughes/Google Drive/Phd/Data/SkinCancer/EBA1415_Merged/EBA1415_WSAL_2_SC_ES-05361.ann file as .txt file is no essay'\n",
      "1087 essays processed\n"
     ]
    }
   ],
   "source": [
    "sc_bratt_root_folder = settings.data_directory + \"SkinCancer/EBA1415_Merged/\"\n",
    "sc_essays = load_bratt_essays(include_normal=False, directory=sc_bratt_root_folder)"
   ]
  },
  {
   "cell_type": "markdown",
   "metadata": {},
   "source": [
    "## Tally Code Frequencies"
   ]
  },
  {
   "cell_type": "code",
   "execution_count": 5,
   "metadata": {},
   "outputs": [],
   "source": [
    "cc_tally = defaultdict(int)\n",
    "cr_tally = defaultdict(int)\n",
    "for e in cb_essays:\n",
    "    for sent in e.tagged_sentences:\n",
    "        for wd, tags in sent:\n",
    "            for t in tags:                \n",
    "                if ANAPHORA in t and \"other\" not in t:\n",
    "                    if \"->\" in t:\n",
    "                        cr_tally[t] += 1\n",
    "                    elif \"Anaphor:[\" in t:\n",
    "                        cc_tally[t] += 1"
   ]
  },
  {
   "cell_type": "code",
   "execution_count": 6,
   "metadata": {},
   "outputs": [
    {
     "data": {
      "text/plain": [
       "[('Causer:Anaphor->Result:50', 712),\n",
       " ('Causer:Anaphor->Result:14', 281),\n",
       " ('Causer:Anaphor[7]->Result:50', 232),\n",
       " ('Causer:Anaphor->Result:2', 159),\n",
       " ('Causer:Anaphor[1]->Result:2', 159),\n",
       " ('Causer:Anaphor->Result:7', 149),\n",
       " ('Causer:Anaphor[13]->Result:14', 147),\n",
       " ('Causer:1->Result:Anaphor', 142),\n",
       " ('Causer:Anaphor[3]->Result:50', 139),\n",
       " ('Causer:Anaphor->Result:3', 138),\n",
       " ('Causer:1->Result:Anaphor[50]', 136),\n",
       " ('Causer:Anaphor->Result:5b', 127),\n",
       " ('Causer:7->Result:Anaphor', 125),\n",
       " ('Causer:7->Result:Anaphor[50]', 116),\n",
       " ('Causer:Anaphor[14]->Result:50', 114),\n",
       " ('Causer:3->Result:Anaphor', 99),\n",
       " ('Causer:Anaphor[1]->Result:3', 91),\n",
       " ('Causer:11->Result:Anaphor', 90),\n",
       " ('Causer:Anaphor[5]->Result:5b', 89),\n",
       " ('Causer:Anaphor->Result:6', 87),\n",
       " ('Causer:Anaphor[13]->Result:50', 84),\n",
       " ('Causer:3->Result:Anaphor[50]', 82),\n",
       " ('Causer:Anaphor[6]->Result:7', 82),\n",
       " ('Causer:Anaphor[1]->Result:50', 63),\n",
       " ('Causer:Anaphor[4]->Result:14', 59),\n",
       " ('Causer:11->Result:Anaphor[14]', 54),\n",
       " ('Causer:Anaphor[11]->Result:12', 54),\n",
       " ('Causer:Anaphor->Result:12', 54),\n",
       " ('Causer:4->Result:Anaphor', 52),\n",
       " ('Causer:13->Result:Anaphor', 52),\n",
       " ('Causer:Anaphor[6]->Result:50', 46),\n",
       " ('Causer:4->Result:Anaphor[5]', 45),\n",
       " ('Causer:Anaphor[4]->Result:50', 45),\n",
       " ('Causer:Anaphor->Result:13', 43),\n",
       " ('Causer:13->Result:Anaphor[50]', 41),\n",
       " ('Causer:Anaphor[5b]->Result:50', 40),\n",
       " ('Causer:Anaphor[2]->Result:3', 38),\n",
       " ('Causer:Anaphor[12]->Result:14', 35),\n",
       " ('Causer:Anaphor[3]->Result:7', 35),\n",
       " ('Causer:Anaphor[7]->Result:5b', 31),\n",
       " ('Causer:Anaphor->Result:4', 30),\n",
       " ('Causer:6->Result:Anaphor', 28),\n",
       " ('Causer:Anaphor[12]->Result:13', 28),\n",
       " ('Causer:Anaphor[12]->Result:50', 26),\n",
       " ('Causer:11->Result:Anaphor[50]', 26),\n",
       " ('Causer:Anaphor[4]->Result:7', 23),\n",
       " ('Causer:6->Result:Anaphor[7]', 19),\n",
       " ('Causer:rhetorical->Result:Anaphor', 19),\n",
       " ('Causer:rhetorical->Result:Anaphor[50]', 19),\n",
       " ('Causer:Anaphor->Result:5', 18),\n",
       " ('Causer:Anaphor[3]->Result:5', 18),\n",
       " ('Causer:Anaphor[1]->Result:6', 18),\n",
       " ('Causer:Anaphor[6]->Result:14', 18),\n",
       " ('Causer:2->Result:Anaphor[50]', 17),\n",
       " ('Causer:2->Result:Anaphor', 17),\n",
       " ('Causer:Anaphor[1]->Result:4', 17),\n",
       " ('Causer:Anaphor[3]->Result:6', 16),\n",
       " ('Causer:Anaphor[5]->Result:50', 16),\n",
       " ('Causer:Anaphor[7]->Result:14', 15),\n",
       " ('Causer:Anaphor[14]->Result:6', 15),\n",
       " ('Causer:5b->Result:Anaphor[14]', 12),\n",
       " ('Causer:5b->Result:Anaphor', 12),\n",
       " ('Causer:13->Result:Anaphor[14]', 11),\n",
       " ('Causer:Anaphor[4]->Result:6', 10),\n",
       " ('Causer:6->Result:Anaphor[50]', 9),\n",
       " ('Causer:Anaphor[2]->Result:50', 9),\n",
       " ('Causer:Anaphor->Result:11', 9),\n",
       " ('Causer:Anaphor[14]->Result:11', 9),\n",
       " ('Causer:7->Result:Anaphor[6]', 9),\n",
       " ('Causer:3->Result:Anaphor[7]', 9),\n",
       " ('Causer:Anaphor[4]->Result:3', 9),\n",
       " ('Causer:3->Result:Anaphor[4]', 8),\n",
       " ('Causer:Anaphor[7]->Result:6', 8),\n",
       " ('Causer:Anaphor[2]->Result:4', 8),\n",
       " ('Causer:Anaphor[2]->Result:6', 8),\n",
       " ('Causer:Anaphor[11]->Result:50', 7),\n",
       " ('Causer:4->Result:Anaphor[50]', 7),\n",
       " ('Causer:Anaphor[3]->Result:14', 7),\n",
       " ('Causer:11->Result:Anaphor[1]', 7),\n",
       " ('Causer:Anaphor[4]->Result:5b', 7),\n",
       " ('Causer:Anaphor[5]->Result:7', 6),\n",
       " ('Causer:1->Result:Anaphor[3]', 6),\n",
       " ('Causer:Anaphor[3]->Result:4', 5),\n",
       " ('Causer:Anaphor[3]->Result:Anaphor', 5),\n",
       " ('Causer:Anaphor->Result:Anaphor', 5),\n",
       " ('Causer:Anaphor->Result:Anaphor[50]', 5),\n",
       " ('Causer:Anaphor[4]->Result:13', 5),\n",
       " ('Causer:Anaphor[11]->Result:13', 5),\n",
       " ('Causer:5->Result:Anaphor', 4),\n",
       " ('Causer:5->Result:Anaphor[50]', 4),\n",
       " ('Causer:Anaphor->Result:rhetorical', 3),\n",
       " ('Causer:Anaphor[1]->Result:rhetorical', 3),\n",
       " ('Causer:Anaphor[2]->Result:7', 3)]"
      ]
     },
     "execution_count": 6,
     "metadata": {},
     "output_type": "execute_result"
    }
   ],
   "source": [
    "sorted(cr_tally.items(), key = lambda tpl: -tpl[1])"
   ]
  },
  {
   "cell_type": "code",
   "execution_count": 7,
   "metadata": {},
   "outputs": [
    {
     "data": {
      "text/plain": [
       "[('Anaphor:[1]', 70),\n",
       " ('Anaphor:[7]', 58),\n",
       " ('Anaphor:[50]', 51),\n",
       " ('Anaphor:[3]', 45),\n",
       " ('Anaphor:[13]', 35),\n",
       " ('Anaphor:[14]', 30),\n",
       " ('Anaphor:[4]', 21),\n",
       " ('Anaphor:[6]', 19),\n",
       " ('Anaphor:[5]', 17),\n",
       " ('Anaphor:[12]', 11),\n",
       " ('Anaphor:[2]', 10),\n",
       " ('Anaphor:[11]', 9),\n",
       " ('Anaphor:[5b]', 7)]"
      ]
     },
     "execution_count": 7,
     "metadata": {},
     "output_type": "execute_result"
    }
   ],
   "source": [
    "sorted(cc_tally.items(), key = lambda tpl: -tpl[1])"
   ]
  },
  {
   "cell_type": "markdown",
   "metadata": {},
   "source": [
    "## Questions\n",
    "1. How many words are anaphora tags?\n",
    "2. Are all words tagged as anaphora, do they have regular codes also associated with them?\n",
    "3. Are all words tagged as anaphora part of a causal relation?"
   ]
  },
  {
   "cell_type": "code",
   "execution_count": 8,
   "metadata": {},
   "outputs": [],
   "source": [
    "def get_regular_tags(tags):\n",
    "    return list(set((t for t in tags if t[0].isdigit())))"
   ]
  },
  {
   "cell_type": "markdown",
   "metadata": {},
   "source": [
    "### CB Stats "
   ]
  },
  {
   "cell_type": "code",
   "execution_count": 9,
   "metadata": {},
   "outputs": [
    {
     "name": "stdout",
     "output_type": "stream",
     "text": [
      "% words that are ana tags:                        \t 0.22 %\n",
      "% Ana tagged words with antecedent concept codes: \t 96.29 %\n",
      "% Ana tagged words that have other concept codes: \t 9.55 %\n",
      "% Ana tagged words that are also crels:           \t 83.82 %\n",
      "% Ana tagged words that are also anaphoric crels: \t 76.39 %\n"
     ]
    }
   ],
   "source": [
    "cc_tally = defaultdict(int)\n",
    "cr_tally = defaultdict(int)\n",
    "\n",
    "ana_tags = 0\n",
    "ana_tags_with_code = 0\n",
    "ana_plus_reg_tags = 0\n",
    "ana_plus_crel = 0 # the word is also part of a crel\n",
    "ana_plus_ana_crel = 0 # the anaphora reference is part of a crel\n",
    "wds = 0\n",
    "\n",
    "ana_crel_tally = defaultdict(int)\n",
    "\n",
    "for e in cb_essays:\n",
    "    for sent in e.tagged_sentences:\n",
    "        for wd, tags in sent:\n",
    "            wds += 1\n",
    "            \n",
    "            if ANAPHORA in tags:                \n",
    "                has_antecedent = False\n",
    "                has_crel = False\n",
    "                has_ana_crel = False\n",
    "                for t in tags:\n",
    "                    if \"other\" in t or \"rhetorical\" in t:\n",
    "                        continue\n",
    "                    \n",
    "                    if \"Anaphor:[\" in t:\n",
    "                        has_antecedent = True\n",
    "                    if \"->\" in t:\n",
    "                        has_crel = True\n",
    "                        if ANAPHORA + \"[\" in t:\n",
    "                            has_ana_crel = True\n",
    "                            ana_crel_tally[t] += 1\n",
    "                    \n",
    "                if has_antecedent:\n",
    "                    ana_tags_with_code += 1\n",
    "\n",
    "                if has_crel:\n",
    "                    ana_plus_crel += 1\n",
    "                    \n",
    "                if has_ana_crel:\n",
    "                    ana_plus_ana_crel += 1\n",
    "\n",
    "                ana_tags +=1\n",
    "                reg_tags = get_regular_tags(tags)\n",
    "                if len(reg_tags) > 0:\n",
    "                    ana_plus_reg_tags += 1\n",
    "\n",
    "#ana_tags, ana_plus_reg_tags, \n",
    "print(\"% words that are ana tags:                        \\t\", str(round(100 * ana_tags/wds,2)) + \" %\")\n",
    "print(\"% Ana tagged words with antecedent concept codes: \\t\", str(round(100 * ana_tags_with_code/ana_tags,2)) + \" %\")\n",
    "print(\"% Ana tagged words that have other concept codes: \\t\", str(round(100 * ana_plus_reg_tags/ana_tags,2)) + \" %\")\n",
    "print(\"% Ana tagged words that are also crels:           \\t\", str(round(100 * ana_plus_crel/ana_tags,2)) + \" %\")\n",
    "print(\"% Ana tagged words that are also anaphoric crels: \\t\", str(round(100 * ana_plus_ana_crel/ana_tags,2)) + \" %\")"
   ]
  },
  {
   "cell_type": "markdown",
   "metadata": {},
   "source": [
    "### SC Stats"
   ]
  },
  {
   "cell_type": "code",
   "execution_count": 11,
   "metadata": {},
   "outputs": [
    {
     "name": "stdout",
     "output_type": "stream",
     "text": [
      "% words that are ana tags:                        \t 0.32 %\n",
      "% Ana tagged words with antecedent concept codes: \t 98.8 %\n",
      "% Ana tagged words that have other concept codes: \t 0.0 %\n",
      "% Ana tagged words that are also crels:           \t 96.23 %\n",
      "% Ana tagged words that are also anaphoric crels: \t 94.69 %\n"
     ]
    }
   ],
   "source": [
    "cc_tally = defaultdict(int)\n",
    "cr_tally = defaultdict(int)\n",
    "\n",
    "ana_tags = 0\n",
    "ana_tags_with_code = 0\n",
    "ana_plus_reg_tags = 0\n",
    "ana_plus_crel = 0 # the word is also part of a crel\n",
    "ana_plus_ana_crel = 0 # the anaphora reference is part of a crel\n",
    "wds = 0\n",
    "\n",
    "ana_crel_tally = defaultdict(int)\n",
    "\n",
    "for e in sc_essays:\n",
    "    \n",
    "    for sent in e.tagged_sentences:\n",
    "        for wd, tags in sent:\n",
    "            wds += 1\n",
    "            \n",
    "            if ANAPHORA in tags:                \n",
    "                has_antecedent = False\n",
    "                has_crel = False\n",
    "                has_ana_crel = False\n",
    "                for t in tags:\n",
    "                    if \"other\" in t or \"rhetorical\" in t:\n",
    "                        continue\n",
    "                    \n",
    "                    if \"Anaphor:[\" in t:\n",
    "                        has_antecedent = True\n",
    "                    if \"->\" in t:\n",
    "                        has_crel = True\n",
    "                        if ANAPHORA + \"[\" in t:\n",
    "                            has_ana_crel = True\n",
    "                            ana_crel_tally[t] += 1\n",
    "                    \n",
    "                if has_antecedent:\n",
    "                    ana_tags_with_code += 1\n",
    "\n",
    "                if has_crel:\n",
    "                    ana_plus_crel += 1\n",
    "                    \n",
    "                if has_ana_crel:\n",
    "                    ana_plus_ana_crel += 1\n",
    "\n",
    "                ana_tags +=1\n",
    "                reg_tags = get_regular_tags(tags)\n",
    "                if len(reg_tags) > 0:\n",
    "                    ana_plus_reg_tags += 1\n",
    "\n",
    "#ana_tags, ana_plus_reg_tags, \n",
    "print(\"% words that are ana tags:                        \\t\", str(round(100 * ana_tags/wds,2)) + \" %\")\n",
    "print(\"% Ana tagged words with antecedent concept codes: \\t\", str(round(100 * ana_tags_with_code/ana_tags,2)) + \" %\")\n",
    "print(\"% Ana tagged words that have other concept codes: \\t\", str(round(100 * ana_plus_reg_tags/ana_tags,2)) + \" %\")\n",
    "print(\"% Ana tagged words that are also crels:           \\t\", str(round(100 * ana_plus_crel/ana_tags,2)) + \" %\")\n",
    "print(\"% Ana tagged words that are also anaphoric crels: \\t\", str(round(100 * ana_plus_ana_crel/ana_tags,2)) + \" %\")"
   ]
  },
  {
   "cell_type": "code",
   "execution_count": 80,
   "metadata": {},
   "outputs": [
    {
     "data": {
      "text/plain": [
       "defaultdict(int,\n",
       "            {'Causer:1->Result:Anaphor[3]': 1,\n",
       "             'Causer:1->Result:Anaphor[50]': 14,\n",
       "             'Causer:11->Result:Anaphor[14]': 6,\n",
       "             'Causer:11->Result:Anaphor[1]': 1,\n",
       "             'Causer:11->Result:Anaphor[50]': 4,\n",
       "             'Causer:13->Result:Anaphor[14]': 4,\n",
       "             'Causer:13->Result:Anaphor[50]': 4,\n",
       "             'Causer:2->Result:Anaphor[50]': 1,\n",
       "             'Causer:3->Result:Anaphor[4]': 1,\n",
       "             'Causer:3->Result:Anaphor[50]': 10,\n",
       "             'Causer:3->Result:Anaphor[7]': 3,\n",
       "             'Causer:4->Result:Anaphor[50]': 1,\n",
       "             'Causer:4->Result:Anaphor[5]': 3,\n",
       "             'Causer:5->Result:Anaphor[50]': 1,\n",
       "             'Causer:5b->Result:Anaphor[14]': 1,\n",
       "             'Causer:6->Result:Anaphor[50]': 2,\n",
       "             'Causer:6->Result:Anaphor[7]': 3,\n",
       "             'Causer:7->Result:Anaphor[50]': 9,\n",
       "             'Causer:7->Result:Anaphor[6]': 1,\n",
       "             'Causer:Anaphor->Result:Anaphor[50]': 2,\n",
       "             'Causer:Anaphor[11]->Result:12': 6,\n",
       "             'Causer:Anaphor[11]->Result:13': 1,\n",
       "             'Causer:Anaphor[11]->Result:50': 1,\n",
       "             'Causer:Anaphor[12]->Result:13': 5,\n",
       "             'Causer:Anaphor[12]->Result:14': 3,\n",
       "             'Causer:Anaphor[12]->Result:50': 2,\n",
       "             'Causer:Anaphor[13]->Result:14': 17,\n",
       "             'Causer:Anaphor[13]->Result:50': 11,\n",
       "             'Causer:Anaphor[14]->Result:11': 1,\n",
       "             'Causer:Anaphor[14]->Result:50': 16,\n",
       "             'Causer:Anaphor[14]->Result:6': 2,\n",
       "             'Causer:Anaphor[1]->Result:2': 21,\n",
       "             'Causer:Anaphor[1]->Result:3': 15,\n",
       "             'Causer:Anaphor[1]->Result:4': 1,\n",
       "             'Causer:Anaphor[1]->Result:50': 8,\n",
       "             'Causer:Anaphor[1]->Result:6': 2,\n",
       "             'Causer:Anaphor[2]->Result:3': 3,\n",
       "             'Causer:Anaphor[2]->Result:4': 1,\n",
       "             'Causer:Anaphor[2]->Result:50': 1,\n",
       "             'Causer:Anaphor[2]->Result:6': 4,\n",
       "             'Causer:Anaphor[2]->Result:7': 1,\n",
       "             'Causer:Anaphor[3]->Result:14': 1,\n",
       "             'Causer:Anaphor[3]->Result:4': 1,\n",
       "             'Causer:Anaphor[3]->Result:5': 2,\n",
       "             'Causer:Anaphor[3]->Result:50': 16,\n",
       "             'Causer:Anaphor[3]->Result:6': 2,\n",
       "             'Causer:Anaphor[3]->Result:7': 4,\n",
       "             'Causer:Anaphor[3]->Result:Anaphor': 2,\n",
       "             'Causer:Anaphor[4]->Result:13': 1,\n",
       "             'Causer:Anaphor[4]->Result:14': 8,\n",
       "             'Causer:Anaphor[4]->Result:3': 1,\n",
       "             'Causer:Anaphor[4]->Result:50': 6,\n",
       "             'Causer:Anaphor[4]->Result:5b': 1,\n",
       "             'Causer:Anaphor[4]->Result:6': 1,\n",
       "             'Causer:Anaphor[4]->Result:7': 2,\n",
       "             'Causer:Anaphor[5]->Result:50': 2,\n",
       "             'Causer:Anaphor[5]->Result:5b': 6,\n",
       "             'Causer:Anaphor[5]->Result:7': 1,\n",
       "             'Causer:Anaphor[5b]->Result:50': 5,\n",
       "             'Causer:Anaphor[6]->Result:14': 1,\n",
       "             'Causer:Anaphor[6]->Result:50': 10,\n",
       "             'Causer:Anaphor[6]->Result:7': 7,\n",
       "             'Causer:Anaphor[7]->Result:14': 1,\n",
       "             'Causer:Anaphor[7]->Result:50': 40,\n",
       "             'Causer:Anaphor[7]->Result:5b': 4,\n",
       "             'Causer:Anaphor[7]->Result:6': 3})"
      ]
     },
     "execution_count": 80,
     "metadata": {},
     "output_type": "execute_result"
    }
   ],
   "source": [
    "ana_crel_tally"
   ]
  },
  {
   "cell_type": "code",
   "execution_count": null,
   "metadata": {},
   "outputs": [],
   "source": []
  }
 ],
 "metadata": {
  "kernelspec": {
   "display_name": "Python [conda env:phd_py36]",
   "language": "python",
   "name": "conda-env-phd_py36-py"
  },
  "language_info": {
   "codemirror_mode": {
    "name": "ipython",
    "version": 3
   },
   "file_extension": ".py",
   "mimetype": "text/x-python",
   "name": "python",
   "nbconvert_exporter": "python",
   "pygments_lexer": "ipython3",
   "version": "3.6.4"
  }
 },
 "nbformat": 4,
 "nbformat_minor": 2
}
