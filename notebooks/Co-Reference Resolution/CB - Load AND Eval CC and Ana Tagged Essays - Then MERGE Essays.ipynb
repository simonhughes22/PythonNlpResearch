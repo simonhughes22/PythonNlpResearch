{
 "cells": [
  {
   "cell_type": "code",
   "execution_count": 1,
   "metadata": {},
   "outputs": [],
   "source": [
    "import dill\n",
    "import pickle\n",
    "import pathlib\n",
    "from pprint import pprint\n",
    "from BrattEssay import load_bratt_essays\n",
    "from load_data import load_process_essays\n",
    "from collections import defaultdict\n",
    "from Settings import Settings\n",
    "from window_based_tagger_config import get_config\n",
    "from FindFiles import find_files\n",
    "from DirUtils import dir_exists\n",
    "from results_procesor import ResultsProcessor, __MICRO_F1__"
   ]
  },
  {
   "cell_type": "code",
   "execution_count": 2,
   "metadata": {},
   "outputs": [],
   "source": [
    "EMPTY_TAG = \"Empty\"\n",
    "ANAPHORA = \"Anaphor\""
   ]
  },
  {
   "cell_type": "code",
   "execution_count": 3,
   "metadata": {},
   "outputs": [
    {
     "name": "stdout",
     "output_type": "stream",
     "text": [
      "Python 3.6.4 :: Anaconda, Inc.\r\n"
     ]
    }
   ],
   "source": [
    "!python -V"
   ]
  },
  {
   "cell_type": "code",
   "execution_count": 4,
   "metadata": {},
   "outputs": [
    {
     "name": "stdout",
     "output_type": "stream",
     "text": [
      "absl-py==0.3.0\n",
      "anaconda-client==1.6.11\n",
      "appnope==0.1.0\n",
      "argcomplete==1.9.4\n",
      "asn1crypto==0.24.0\n",
      "astor==0.7.1\n",
      "beautifulsoup4==4.6.0\n",
      "bleach==2.1.2\n",
      "boto==2.47.0\n",
      "boto3==1.5.36\n",
      "botocore==1.8.50\n",
      "bz2file==0.98\n",
      "certifi==2018.1.18\n",
      "cffi==1.11.4\n",
      "chardet==3.0.4\n",
      "clyent==1.2.2\n",
      "costcla==0.5\n",
      "cryptography==2.1.4\n",
      "cycler==0.10.0\n",
      "cymem==1.31.2\n",
      "cytoolz==0.8.2\n",
      "decorator==4.2.1\n",
      "dicecore==1.13\n",
      "dill==0.2.8.2\n",
      "docutils==0.14\n",
      "entrypoints==0.2.3\n",
      "ftfy==4.4.3\n",
      "gast==0.2.0\n",
      "gensim==0.13.4\n",
      "grpcio==1.14.0\n",
      "h5py==2.7.0\n",
      "hdbscan==0.8.12\n",
      "html5lib==1.0.1\n",
      "idna==2.6\n",
      "ipykernel==4.8.2\n",
      "ipython==6.2.1\n",
      "ipython-genutils==0.2.0\n",
      "ipywidgets==7.1.2\n",
      "jedi==0.11.1\n",
      "Jinja2==2.10\n",
      "jmespath==0.9.3\n",
      "joblib==0.9.4\n",
      "jsonschema==2.6.0\n",
      "jupyter==1.0.0\n",
      "jupyter-client==5.2.2\n",
      "jupyter-console==5.2.0\n",
      "jupyter-core==4.4.0\n",
      "jupyterlab==0.31.8\n",
      "jupyterlab-launcher==0.10.5\n",
      "Keras==1.2.2\n",
      "Keras-Applications==1.0.4\n",
      "Keras-Preprocessing==1.0.2\n",
      "Markdown==2.6.11\n",
      "MarkupSafe==1.0\n",
      "matplotlib==2.0.0\n",
      "mistune==0.8.3\n",
      "murmurhash==0.26.4\n",
      "nb-anacondacloud==1.4.0\n",
      "nb-conda==2.2.1\n",
      "nb-conda-kernels==2.1.0\n",
      "nbconvert==5.3.1\n",
      "nbformat==4.4.0\n",
      "nbpresent==3.0.2\n",
      "nltk==3.2.2\n",
      "nose==1.3.7\n",
      "notebook==5.4.0\n",
      "numpy==1.14.1\n",
      "pandas==0.22.0\n",
      "pandocfilters==1.4.2\n",
      "parso==0.1.1\n",
      "pathlib==1.0.1\n",
      "pexpect==4.4.0\n",
      "pickleshare==0.7.4\n",
      "Pillow==5.0.0\n",
      "plac==0.9.6\n",
      "preshed==1.0.0\n",
      "prompt-toolkit==1.0.15\n",
      "protobuf==3.6.0\n",
      "ptyprocess==0.5.2\n",
      "pycparser==2.18\n",
      "pyea==0.2\n",
      "Pygments==2.2.0\n",
      "pymongo==3.4.0\n",
      "pyOpenSSL==17.5.0\n",
      "pyparsing==2.2.0\n",
      "PySocks==1.6.7\n",
      "python-dateutil==2.6.1\n",
      "pytz==2018.3\n",
      "PyYAML==3.12\n",
      "pyzmq==17.0.0\n",
      "qtconsole==4.3.1\n",
      "regex==2017.4.5\n",
      "requests==2.14.2\n",
      "s3transfer==0.1.13\n",
      "scikit-learn==0.18.1\n",
      "scikit-optimize==0.3\n",
      "scipy==1.0.0\n",
      "seaborn==0.7.1\n",
      "Send2Trash==1.5.0\n",
      "simplegeneric==0.8.1\n",
      "six==1.11.0\n",
      "smart-open==1.5.6\n",
      "spacy==1.8.2\n",
      "tensorboard==1.9.0\n",
      "tensorflow==1.9.0\n",
      "termcolor==1.1.0\n",
      "terminado==0.8.1\n",
      "testpath==0.3.1\n",
      "Theano==1.0.2\n",
      "thinc==6.5.2\n",
      "toolz==0.9.0\n",
      "tornado==4.5.3\n",
      "tqdm==4.19.5\n",
      "traitlets==4.3.2\n",
      "ujson==1.35\n",
      "urllib3==1.22\n",
      "wcwidth==0.1.7\n",
      "webencodings==0.5.1\n",
      "Werkzeug==0.14.1\n",
      "widgetsnbextension==3.1.4\n",
      "wordcloud==1.3.1\n",
      "wrapt==1.10.11\n"
     ]
    }
   ],
   "source": [
    "!pip freeze"
   ]
  },
  {
   "cell_type": "code",
   "execution_count": 5,
   "metadata": {},
   "outputs": [
    {
     "name": "stdout",
     "output_type": "stream",
     "text": [
      "Results Dir: /Users/simon.hughes/Google Drive/Phd/Results/\n",
      "Data Dir:    /Users/simon.hughes/Google Drive/Phd/Data/\n",
      "Root Dir:    /Users/simon.hughes/GitHub/NlpResearch/\n",
      "Public Data: /Users/simon.hughes/GitHub/NlpResearch/Data/PublicDatasets/\n"
     ]
    }
   ],
   "source": [
    "DATASET = \"CoralBleaching\"\n",
    "#DATASET = \"SkinCancer\"\n",
    "\n",
    "settings = Settings()\n",
    "root_folder = settings.data_directory + DATASET + \"/Thesis_Dataset/\"\n",
    "training_folder = root_folder + \"Training\" + \"/\"\n",
    "test_folder = root_folder + \"Test\" + \"/\"\n",
    "training_pickled = settings.data_directory + DATASET + \"/Thesis_Dataset/training.pl\"\n",
    "\n",
    "# PREDICTIONS FOLDERS\n",
    "anaphor_predictions_folder = root_folder + \"Predictions/Bi-LSTM-4-Anaphora_Tags-Binary-Fixed/\"\n",
    "\n",
    "# USE the \"-Fixed\" ones, these are much worse\n",
    "#anaphor_predictions_folder = root_folder + \"Predictions/Bi-LSTM-4-Anaphora_Tags-Binary/\"\n",
    "\n",
    "tag_predictions_folder = root_folder + \"Predictions/Bi-LSTM_fixed/\"\n",
    "#tag_predictions_folder = root_folder + \"Predictions/Bi-LSTM-4-SEARN/\"\n",
    "merged_predictions_folder = root_folder + \"Predictions/CoRef/MergedTags/\"\n",
    "config = get_config(training_folder)"
   ]
  },
  {
   "cell_type": "code",
   "execution_count": 6,
   "metadata": {},
   "outputs": [
    {
     "name": "stdout",
     "output_type": "stream",
     "text": [
      "Valid\n"
     ]
    }
   ],
   "source": [
    "# ensure paths exist\n",
    "pathlib.Path(merged_predictions_folder).mkdir(parents=True, exist_ok=True) \n",
    "\n",
    "assert dir_exists(merged_predictions_folder)\n",
    "print(\"Valid\")"
   ]
  },
  {
   "cell_type": "code",
   "execution_count": 7,
   "metadata": {},
   "outputs": [
    {
     "name": "stdout",
     "output_type": "stream",
     "text": [
      "Valid\n"
     ]
    }
   ],
   "source": [
    "assert dir_exists(anaphor_predictions_folder)\n",
    "print(\"Valid\")"
   ]
  },
  {
   "cell_type": "code",
   "execution_count": 8,
   "metadata": {},
   "outputs": [
    {
     "data": {
      "text/plain": [
       "'/Users/simon.hughes/Google Drive/Phd/Data/CoralBleaching/Thesis_Dataset/Predictions/Bi-LSTM_fixed/'"
      ]
     },
     "execution_count": 8,
     "metadata": {},
     "output_type": "execute_result"
    }
   ],
   "source": [
    "tag_predictions_folder"
   ]
  },
  {
   "cell_type": "code",
   "execution_count": 9,
   "metadata": {},
   "outputs": [
    {
     "name": "stdout",
     "output_type": "stream",
     "text": [
      "Valid\n"
     ]
    }
   ],
   "source": [
    "assert dir_exists(tag_predictions_folder)\n",
    "print(\"Valid\")"
   ]
  },
  {
   "cell_type": "code",
   "execution_count": 10,
   "metadata": {},
   "outputs": [],
   "source": [
    "# get tagged essays\n",
    "def load_tagged_essays(folder, pattern):\n",
    "    files = find_files(folder, pattern)\n",
    "    # multiple runs with different hidden layer sizes?\n",
    "    if len(files) > 2:        \n",
    "        for f in files:\n",
    "            print(f)\n",
    "    assert len(files) == 2, \"Wrong number of tagged files:\" + str(len(files))\n",
    "    for f in files:\n",
    "        assert \"_train_\" in f or \"_test_\" in f, \"Wrong files matched\"\n",
    "    train_tagged_fname = [f for file in files if \"_train_\" in f][0]\n",
    "    test_tagged_fname = list(set(files).difference([train_tagged_fname]))[0]\n",
    "    print(\"Train: {fname}\".format(fname=train_tagged_fname))\n",
    "    print(\"Test:  {fname}\".format(fname=test_tagged_fname))\n",
    "\n",
    "    # NOTE - is this throws an error, upgrade to dill 2.8.2. Version 2.6 had a bug in it\n",
    "    with open(train_tagged_fname, \"rb\") as f:\n",
    "        tagged_essays_train = dill.load(f)\n",
    "    with open(test_tagged_fname, \"rb\") as f:\n",
    "        tagged_essays_test  = dill.load(f)\n",
    "    return (tagged_essays_train, tagged_essays_test)"
   ]
  },
  {
   "cell_type": "code",
   "execution_count": 11,
   "metadata": {},
   "outputs": [
    {
     "name": "stdout",
     "output_type": "stream",
     "text": [
      "Train: /Users/simon.hughes/Google Drive/Phd/Data/CoralBleaching/Thesis_Dataset/Predictions/Bi-LSTM-4-Anaphora_Tags-Binary-Fixed/essays_train_bi_directional-True_hidden_size-256_merge_mode-sum_num_rnns-2_use_pretrained_embedding-True.dill\n",
      "Test:  /Users/simon.hughes/Google Drive/Phd/Data/CoralBleaching/Thesis_Dataset/Predictions/Bi-LSTM-4-Anaphora_Tags-Binary-Fixed/essays_test_bi_directional-True_hidden_size-256_merge_mode-sum_num_rnns-2_use_pretrained_embedding-True.dill\n"
     ]
    },
    {
     "data": {
      "text/plain": [
       "(902, 226)"
      ]
     },
     "execution_count": 11,
     "metadata": {},
     "output_type": "execute_result"
    }
   ],
   "source": [
    "# for optimal vd params - see http://localhost:8888/notebooks/Mongo%20Queries/Query%20Model%20Hyper%20Parameter%20Tuning%20Results-Anaphora%20Tagger.ipynb#\n",
    "# NOTE that 1 layer is optimal for SC, 2 for CB\n",
    "pattern = \"essays_.*_bi_directional-True_hidden_size-256_merge_mode-sum_num_rnns-2_use_pretrained_embedding-True.dill\"\n",
    "ana_tagged_tr, ana_tagged_test = load_tagged_essays(anaphor_predictions_folder, pattern=pattern)\n",
    "len(ana_tagged_tr), len(ana_tagged_test)"
   ]
  },
  {
   "cell_type": "code",
   "execution_count": 12,
   "metadata": {},
   "outputs": [
    {
     "name": "stdout",
     "output_type": "stream",
     "text": [
      "Train: /Users/simon.hughes/Google Drive/Phd/Data/CoralBleaching/Thesis_Dataset/Predictions/Bi-LSTM_fixed/essays_train_bi_directional-True_hidden_size-128_merge_mode-sum_num_rnns-2_use_pretrained_embedding-True.dill\n",
      "Test:  /Users/simon.hughes/Google Drive/Phd/Data/CoralBleaching/Thesis_Dataset/Predictions/Bi-LSTM_fixed/essays_test_bi_directional-True_hidden_size-128_merge_mode-sum_num_rnns-2_use_pretrained_embedding-True.dill\n"
     ]
    },
    {
     "data": {
      "text/plain": [
       "(902, 226)"
      ]
     },
     "execution_count": 12,
     "metadata": {},
     "output_type": "execute_result"
    }
   ],
   "source": [
    "# load concept code (cc) tagged essays\n",
    "# 128 scored better - so use these ones!!!\n",
    "#  - see mongo collection - metrics_codes.STORE_RESULTS_CB_TAGGING_VD_RNN_MOST_COMMON_TAG\n",
    "pattern = \"essays_.*_bi_directional-True_hidden_size-128_merge_mode-sum_num_rnns-2_use_pretrained_embedding-True.dill\"\n",
    "cc_tagged_tr, cc_tagged_test = load_tagged_essays(tag_predictions_folder, pattern=pattern)\n",
    "len(cc_tagged_tr), len(cc_tagged_test)"
   ]
  },
  {
   "cell_type": "markdown",
   "metadata": {},
   "source": [
    "## Load Raw Essays (Untagged)"
   ]
  },
  {
   "cell_type": "code",
   "execution_count": 13,
   "metadata": {},
   "outputs": [
    {
     "name": "stdout",
     "output_type": "stream",
     "text": [
      "902 files found\n",
      "902 essays processed\n",
      "226 files found\n",
      "226 essays processed\n"
     ]
    },
    {
     "data": {
      "text/plain": [
       "(902, 226)"
      ]
     },
     "execution_count": 13,
     "metadata": {},
     "output_type": "execute_result"
    }
   ],
   "source": [
    "# do I need to do this? good for validation below, but not needed otherwise\n",
    "# with open(training_pickled, \"rb+\") as f:\n",
    "#     untagged_essays_train = pickle.load(f)\n",
    "\n",
    "untagged_essays_train = load_process_essays(**config)\n",
    "\n",
    "test_config = get_config(test_folder)\n",
    "untagged_essays_test = load_process_essays(**test_config)\n",
    "\n",
    "len(untagged_essays_train), len(untagged_essays_test) # 902, 226"
   ]
  },
  {
   "cell_type": "code",
   "execution_count": 14,
   "metadata": {},
   "outputs": [
    {
     "data": {
      "text/plain": [
       "{'folder': '/Users/simon.hughes/Google Drive/Phd/Data/CoralBleaching/Thesis_Dataset/Training/',\n",
       " 'include_normal': False,\n",
       " 'include_vague': True,\n",
       " 'lower_case': True,\n",
       " 'min_df': 2,\n",
       " 'min_sentence_length': 3,\n",
       " 'remove_infrequent': False,\n",
       " 'remove_punctuation': False,\n",
       " 'remove_stop_words': False,\n",
       " 'replace_nums': True,\n",
       " 'spelling_correct': True,\n",
       " 'stem': False,\n",
       " 'window_size': 9}"
      ]
     },
     "execution_count": 14,
     "metadata": {},
     "output_type": "execute_result"
    }
   ],
   "source": [
    "config"
   ]
  },
  {
   "cell_type": "markdown",
   "metadata": {},
   "source": [
    "## Validate all essay sets are equal and the same"
   ]
  },
  {
   "cell_type": "code",
   "execution_count": 15,
   "metadata": {},
   "outputs": [],
   "source": [
    "def names_the_same(essay_sets):\n",
    "    unique_fnames = [] # list of sets of str (fnames)\n",
    "    for essay_collection in essay_sets:\n",
    "        names = set()\n",
    "        for e in essay_collection:\n",
    "            names.add(e.name)\n",
    "        unique_fnames.append(names)\n",
    "    for a in unique_fnames:\n",
    "        print(len(a))\n",
    "        for b in unique_fnames:\n",
    "            assert len(a) == len(b), \"lens don't match\"\n",
    "            assert a == b, \"don't match\""
   ]
  },
  {
   "cell_type": "code",
   "execution_count": 16,
   "metadata": {},
   "outputs": [
    {
     "name": "stdout",
     "output_type": "stream",
     "text": [
      "902\n",
      "902\n",
      "902\n"
     ]
    }
   ],
   "source": [
    "names_the_same([ana_tagged_tr, cc_tagged_tr, untagged_essays_train])"
   ]
  },
  {
   "cell_type": "code",
   "execution_count": 17,
   "metadata": {},
   "outputs": [
    {
     "name": "stdout",
     "output_type": "stream",
     "text": [
      "226\n",
      "226\n",
      "226\n"
     ]
    }
   ],
   "source": [
    "names_the_same([ana_tagged_test, cc_tagged_test, untagged_essays_test])"
   ]
  },
  {
   "cell_type": "code",
   "execution_count": 18,
   "metadata": {},
   "outputs": [],
   "source": [
    "def essays_2_hash_map(essays):\n",
    "    lu = {}\n",
    "    for e in essays:\n",
    "        lu[e.name] = e\n",
    "    return lu"
   ]
  },
  {
   "cell_type": "code",
   "execution_count": 19,
   "metadata": {},
   "outputs": [],
   "source": [
    "# checks the number of words and sentences are the same for 2 sets of essays\n",
    "def validate_tagged_essays(essays_a, essays_b, tags_should_match=True):\n",
    "    # make sure obj is not the same\n",
    "    assert essays_a != essays_b\n",
    "    print(\"Validating\", len(essays_a), \"essays\")\n",
    "    assert len(essays_a) == len(essays_b), \"Lens don't match\"\n",
    "    \n",
    "    a_hmap = essays_2_hash_map(essays_a)\n",
    "    b_hmap = essays_2_hash_map(essays_b)\n",
    "    \n",
    "    # same essays?\n",
    "    assert a_hmap.keys() == b_hmap.keys()\n",
    "    intersect = set(a_hmap.keys()).intersection(b_hmap.keys())\n",
    "    assert len(intersect) == len(a_hmap.keys())\n",
    "    assert len(a_hmap.keys()) > 1    \n",
    "    assert len(a_hmap.keys()) == len(b_hmap.keys())\n",
    "    \n",
    "    word_misses = 0\n",
    "    \n",
    "    for key, a_essay in a_hmap.items():\n",
    "        b_essay = b_hmap[key]\n",
    "        # assert NOT the same obj ref\n",
    "        assert a_essay != b_essay\n",
    "        assert len(a_essay.sentences) == len(b_essay.sentences)\n",
    "        assert len(a_essay.sentences) > 0\n",
    "        assert len(b_essay.sentences) > 0\n",
    "        for i in range(len(a_essay.sentences)):\n",
    "            a_sent = a_essay.sentences[i]\n",
    "            b_sent = b_essay.sentences[i]\n",
    "            # the same lists?\n",
    "            #assert a_sent == b_sent\n",
    "            assert len(a_sent) == len(b_sent)\n",
    "            if not len(a_sent) == len(b_sent):\n",
    "                print(key, \"\\tsent-ix:\", i, \"lens\", len(a_sent), len(b_sent))\n",
    "            for wd_ix, (a_wd, a_tags) in enumerate(a_sent):\n",
    "                b_wd, b_tags = b_sent[wd_ix]\n",
    "                if a_wd != b_wd:\n",
    "                    word_misses+=1\n",
    "                assert a_wd   == b_wd,   \\\n",
    "                    \"Words don't match: '{a}' - '{b}', Esssay: {essay} Sent Ix: {i}\".format(\n",
    "                            a=a_wd, b=b_wd, essay=key, i=i)\n",
    "                \n",
    "                # SH - Make conditional, as untagged essays contain new anaphora tags\n",
    "                if tags_should_match:                \n",
    "                    assert a_tags == b_tags, \\\n",
    "                        \"Tags don't match: '{a}' - '{b}', Esssay: {essay} Sent Ix: {i}\".format(\n",
    "                            a=str(a_tags), b=str(b_tags), essay=key, i=i)\n",
    "                else:\n",
    "                    intersectn = a_tags.intersection(b_tags)\n",
    "                    # smaller set should match intersection i.e. be a subset of larger one\n",
    "                    # will only differ due to new anaphora tags\n",
    "                    if len(b_tags) <= len(a_tags):\n",
    "                        assert intersectn == b_tags\n",
    "                    else:\n",
    "                        assert intersectn == a_tags\n",
    "                        \n",
    "    if word_misses:\n",
    "        print(\"Word miss-matches: \", word_misses)\n",
    "    print(\"Validation Passed\")\n",
    "    return None"
   ]
  },
  {
   "cell_type": "code",
   "execution_count": 20,
   "metadata": {},
   "outputs": [
    {
     "name": "stdout",
     "output_type": "stream",
     "text": [
      "Validating 902 essays\n",
      "Validation Passed\n",
      "Validating 902 essays\n",
      "Validation Passed\n",
      "Validating 226 essays\n",
      "Validation Passed\n",
      "Validating 226 essays\n",
      "Validation Passed\n"
     ]
    }
   ],
   "source": [
    "validate_tagged_essays(untagged_essays_train, ana_tagged_tr, tags_should_match=False)\n",
    "validate_tagged_essays(cc_tagged_tr, ana_tagged_tr)\n",
    "validate_tagged_essays(untagged_essays_test, ana_tagged_test, tags_should_match=False)\n",
    "validate_tagged_essays(cc_tagged_test, ana_tagged_test)"
   ]
  },
  {
   "cell_type": "markdown",
   "metadata": {},
   "source": [
    "## Merge the Two Sets of Tagged Essays\n",
    "* The anaphora essays were not tagged with concept codes, and vice versa, so need to merge"
   ]
  },
  {
   "cell_type": "code",
   "execution_count": 21,
   "metadata": {},
   "outputs": [
    {
     "data": {
      "text/plain": [
       "(902, 226)"
      ]
     },
     "execution_count": 21,
     "metadata": {},
     "output_type": "execute_result"
    }
   ],
   "source": [
    "def merge_tagged_essays(untagged, tagged_ana, tagged_cc):\n",
    "    untagged_hmap = essays_2_hash_map(untagged)\n",
    "    ana_hmap = essays_2_hash_map(tagged_ana)\n",
    "    cc_hmap = essays_2_hash_map(tagged_cc)\n",
    "    \n",
    "    assert ana_hmap.keys() == cc_hmap.keys()\n",
    "    assert len(ana_hmap.keys()) == len(cc_hmap.keys())\n",
    "    \n",
    "    for key, cc_essay in cc_hmap.items():\n",
    "        ana_essay = ana_hmap[key]\n",
    "        untag_essay = untagged_hmap[key]\n",
    "        assert len(ana_essay.sentences) == len(cc_essay.sentences)\n",
    "        untag_essay.ana_tagged_sentences  = ana_essay.pred_tagged_sentences\n",
    "        untag_essay.pred_tagged_sentences =  cc_essay.pred_tagged_sentences\n",
    "        for i in range(len(ana_essay.sentences)):\n",
    "            ana_sent = ana_essay.sentences[i]\n",
    "            ana_ptags = ana_essay.pred_tagged_sentences[i]\n",
    "            cc_sent = ana_essay.sentences[i]\n",
    "            cc_ptags = cc_essay.pred_tagged_sentences[i]\n",
    "            assert len(ana_sent) == len(cc_sent)\n",
    "            assert len(cc_sent) == len(cc_ptags)\n",
    "    return untagged\n",
    "\n",
    "# Train\n",
    "merged_essays_tr   = merge_tagged_essays(\n",
    "    untagged=untagged_essays_train, \n",
    "    tagged_ana=ana_tagged_tr,   \n",
    "    tagged_cc=cc_tagged_tr)\n",
    "\n",
    "# Test\n",
    "merged_essays_test = merge_tagged_essays(\n",
    "    untagged=untagged_essays_test,\n",
    "    tagged_ana=ana_tagged_test, \n",
    "    tagged_cc=cc_tagged_test)\n",
    "len(merged_essays_tr), len(merged_essays_test)"
   ]
  },
  {
   "cell_type": "markdown",
   "metadata": {},
   "source": [
    "## Re-Compute Accuracy Metrics"
   ]
  },
  {
   "cell_type": "code",
   "execution_count": 22,
   "metadata": {},
   "outputs": [
    {
     "data": {
      "text/plain": [
       "(4, 4, 4)"
      ]
     },
     "execution_count": 22,
     "metadata": {},
     "output_type": "execute_result"
    }
   ],
   "source": [
    "e = untagged_essays_train[0]\n",
    "len(e.sentences),len(e.pred_tagged_sentences),len(e.ana_tagged_sentences)"
   ]
  },
  {
   "cell_type": "code",
   "execution_count": 23,
   "metadata": {},
   "outputs": [
    {
     "data": {
      "text/plain": [
       "(3, 3, 3)"
      ]
     },
     "execution_count": 23,
     "metadata": {},
     "output_type": "execute_result"
    }
   ],
   "source": [
    "e = untagged_essays_test[0]\n",
    "len(e.sentences),len(e.pred_tagged_sentences),len(e.ana_tagged_sentences)"
   ]
  },
  {
   "cell_type": "code",
   "execution_count": 24,
   "metadata": {},
   "outputs": [],
   "source": [
    "def norm_tally(tally):\n",
    "    total = sum(tally.values())\n",
    "    norm_tally = {}\n",
    "    for tag, freq in tally.items():\n",
    "        norm_tally[tag] = freq/total\n",
    "    return norm_tally"
   ]
  },
  {
   "cell_type": "markdown",
   "metadata": {},
   "source": [
    "### Get labels\n"
   ]
  },
  {
   "cell_type": "code",
   "execution_count": 25,
   "metadata": {},
   "outputs": [
    {
     "data": {
      "text/plain": [
       "['1', '2', '3', '4', '5', '5b', '6', '7', '11', '12', '13', '14', '50']"
      ]
     },
     "execution_count": 25,
     "metadata": {},
     "output_type": "execute_result"
    }
   ],
   "source": [
    "tally = defaultdict(int)\n",
    "for e in untagged_essays_train:\n",
    "    for sent in e.sentences:\n",
    "        for wd, tags in sent:\n",
    "            for t in tags:\n",
    "                tally[t] +=1\n",
    "\n",
    "lst_all_tags = list(tally.keys())\n",
    "regular_tags = sorted(set((t for t in lst_all_tags if t[0].isdigit())), key = lambda s: int(s.replace('b','')))\n",
    "assert EMPTY_TAG not in regular_tags, \"Empty tag in list of regular tags\"\n",
    "regular_tags"
   ]
  },
  {
   "cell_type": "markdown",
   "metadata": {},
   "source": [
    "### Compare Label Distributions"
   ]
  },
  {
   "cell_type": "code",
   "execution_count": 26,
   "metadata": {},
   "outputs": [
    {
     "data": {
      "text/plain": [
       "[('1', 0.11969692414083406),\n",
       " ('11', 0.02522625454764124),\n",
       " ('12', 0.021768543852791724),\n",
       " ('13', 0.052316666165549176),\n",
       " ('14', 0.06329113924050633),\n",
       " ('2', 0.024444511260110047),\n",
       " ('3', 0.14014251781472684),\n",
       " ('4', 0.05258726961123305),\n",
       " ('5', 0.017348687573288432),\n",
       " ('50', 0.3345861270633513),\n",
       " ('5b', 0.01819056495986049),\n",
       " ('6', 0.037403409603415615),\n",
       " ('7', 0.09299738416669172)]"
      ]
     },
     "execution_count": 26,
     "metadata": {},
     "output_type": "execute_result"
    }
   ],
   "source": [
    "cc_tally = dict([k,v] for k,v in tally.items() if k in set(regular_tags))\n",
    "sorted(norm_tally(cc_tally).items(), key = lambda tpl: tpl[0])"
   ]
  },
  {
   "cell_type": "code",
   "execution_count": 27,
   "metadata": {},
   "outputs": [
    {
     "data": {
      "text/plain": [
       "[('1', 0.12212839935427791),\n",
       " ('11', 0.024618154724947224),\n",
       " ('12', 0.022010430895318515),\n",
       " ('13', 0.0555383087048305),\n",
       " ('14', 0.06239910592325841),\n",
       " ('2', 0.019713150378740843),\n",
       " ('3', 0.1475226623618527),\n",
       " ('4', 0.05370669315782938),\n",
       " ('5', 0.01067924996895567),\n",
       " ('50', 0.3440953681857693),\n",
       " ('5b', 0.011921023221159815),\n",
       " ('6', 0.038153483173972436),\n",
       " ('7', 0.08751396994908729)]"
      ]
     },
     "execution_count": 27,
     "metadata": {},
     "output_type": "execute_result"
    }
   ],
   "source": [
    "ptag_tally = defaultdict(int)\n",
    "for e in merged_essays_tr:   \n",
    "    for sent in e.pred_tagged_sentences:\n",
    "        for tag in sent:\n",
    "            ptag_tally[tag] +=1\n",
    "            \n",
    "norm_ptag_tally = norm_tally(dict([(k,v) for k,v in ptag_tally.items() if k != EMPTY_TAG]))\n",
    "sorted(norm_ptag_tally.items(), key = lambda tpl: tpl[0])"
   ]
  },
  {
   "cell_type": "code",
   "execution_count": 28,
   "metadata": {},
   "outputs": [
    {
     "data": {
      "text/plain": [
       "['Empty',\n",
       " '50',\n",
       " '4',\n",
       " '11',\n",
       " '13',\n",
       " '3',\n",
       " '7',\n",
       " '1',\n",
       " '6',\n",
       " '14',\n",
       " '5b',\n",
       " '12',\n",
       " '2',\n",
       " '5']"
      ]
     },
     "execution_count": 28,
     "metadata": {},
     "output_type": "execute_result"
    }
   ],
   "source": [
    "list(ptag_tally.keys())"
   ]
  },
  {
   "cell_type": "markdown",
   "metadata": {},
   "source": [
    "## Validate Metrics on Concept Codes"
   ]
  },
  {
   "cell_type": "markdown",
   "metadata": {},
   "source": [
    "### Train"
   ]
  },
  {
   "cell_type": "code",
   "execution_count": 47,
   "metadata": {},
   "outputs": [
    {
     "data": {
      "text/html": [
       "<div>\n",
       "<table border=\"1\" class=\"dataframe\">\n",
       "  <thead>\n",
       "    <tr style=\"text-align: right;\">\n",
       "      <th></th>\n",
       "      <th>code</th>\n",
       "      <th>f1_score</th>\n",
       "      <th>precision</th>\n",
       "      <th>recall</th>\n",
       "      <th>accuracy</th>\n",
       "      <th>data_points</th>\n",
       "    </tr>\n",
       "  </thead>\n",
       "  <tbody>\n",
       "    <tr>\n",
       "      <th>5</th>\n",
       "      <td>1</td>\n",
       "      <td>0.846999</td>\n",
       "      <td>0.852059</td>\n",
       "      <td>0.841999</td>\n",
       "      <td>0.991171</td>\n",
       "      <td>137166.0</td>\n",
       "    </tr>\n",
       "    <tr>\n",
       "      <th>9</th>\n",
       "      <td>11</td>\n",
       "      <td>0.912990</td>\n",
       "      <td>0.939470</td>\n",
       "      <td>0.887962</td>\n",
       "      <td>0.998965</td>\n",
       "      <td>137166.0</td>\n",
       "    </tr>\n",
       "    <tr>\n",
       "      <th>1</th>\n",
       "      <td>12</td>\n",
       "      <td>0.919749</td>\n",
       "      <td>0.929478</td>\n",
       "      <td>0.910221</td>\n",
       "      <td>0.999162</td>\n",
       "      <td>137166.0</td>\n",
       "    </tr>\n",
       "    <tr>\n",
       "      <th>0</th>\n",
       "      <td>13</td>\n",
       "      <td>0.775290</td>\n",
       "      <td>0.764673</td>\n",
       "      <td>0.786207</td>\n",
       "      <td>0.994219</td>\n",
       "      <td>137166.0</td>\n",
       "    </tr>\n",
       "    <tr>\n",
       "      <th>2</th>\n",
       "      <td>14</td>\n",
       "      <td>0.787363</td>\n",
       "      <td>0.805970</td>\n",
       "      <td>0.769596</td>\n",
       "      <td>0.993621</td>\n",
       "      <td>137166.0</td>\n",
       "    </tr>\n",
       "    <tr>\n",
       "      <th>3</th>\n",
       "      <td>2</td>\n",
       "      <td>0.682320</td>\n",
       "      <td>0.777953</td>\n",
       "      <td>0.607626</td>\n",
       "      <td>0.996646</td>\n",
       "      <td>137166.0</td>\n",
       "    </tr>\n",
       "    <tr>\n",
       "      <th>10</th>\n",
       "      <td>3</td>\n",
       "      <td>0.808456</td>\n",
       "      <td>0.800715</td>\n",
       "      <td>0.816348</td>\n",
       "      <td>0.986855</td>\n",
       "      <td>137166.0</td>\n",
       "    </tr>\n",
       "    <tr>\n",
       "      <th>8</th>\n",
       "      <td>4</td>\n",
       "      <td>0.869215</td>\n",
       "      <td>0.873988</td>\n",
       "      <td>0.864494</td>\n",
       "      <td>0.996683</td>\n",
       "      <td>137166.0</td>\n",
       "    </tr>\n",
       "    <tr>\n",
       "      <th>7</th>\n",
       "      <td>5</td>\n",
       "      <td>0.512486</td>\n",
       "      <td>0.686047</td>\n",
       "      <td>0.409012</td>\n",
       "      <td>0.996727</td>\n",
       "      <td>137166.0</td>\n",
       "    </tr>\n",
       "    <tr>\n",
       "      <th>6</th>\n",
       "      <td>50</td>\n",
       "      <td>0.889249</td>\n",
       "      <td>0.891014</td>\n",
       "      <td>0.887491</td>\n",
       "      <td>0.982066</td>\n",
       "      <td>137166.0</td>\n",
       "    </tr>\n",
       "    <tr>\n",
       "      <th>12</th>\n",
       "      <td>5b</td>\n",
       "      <td>0.287159</td>\n",
       "      <td>0.369792</td>\n",
       "      <td>0.234711</td>\n",
       "      <td>0.994860</td>\n",
       "      <td>137166.0</td>\n",
       "    </tr>\n",
       "    <tr>\n",
       "      <th>4</th>\n",
       "      <td>6</td>\n",
       "      <td>0.875859</td>\n",
       "      <td>0.881204</td>\n",
       "      <td>0.870579</td>\n",
       "      <td>0.997762</td>\n",
       "      <td>137166.0</td>\n",
       "    </tr>\n",
       "    <tr>\n",
       "      <th>11</th>\n",
       "      <td>7</td>\n",
       "      <td>0.805819</td>\n",
       "      <td>0.844980</td>\n",
       "      <td>0.770126</td>\n",
       "      <td>0.991631</td>\n",
       "      <td>137166.0</td>\n",
       "    </tr>\n",
       "    <tr>\n",
       "      <th>17</th>\n",
       "      <td>MICRO_F1</td>\n",
       "      <td>0.833163</td>\n",
       "      <td>0.846703</td>\n",
       "      <td>0.820049</td>\n",
       "      <td>0.993874</td>\n",
       "      <td>1783158.0</td>\n",
       "    </tr>\n",
       "  </tbody>\n",
       "</table>\n",
       "</div>"
      ],
      "text/plain": [
       "        code  f1_score  precision    recall  accuracy  data_points\n",
       "5          1  0.846999   0.852059  0.841999  0.991171     137166.0\n",
       "9         11  0.912990   0.939470  0.887962  0.998965     137166.0\n",
       "1         12  0.919749   0.929478  0.910221  0.999162     137166.0\n",
       "0         13  0.775290   0.764673  0.786207  0.994219     137166.0\n",
       "2         14  0.787363   0.805970  0.769596  0.993621     137166.0\n",
       "3          2  0.682320   0.777953  0.607626  0.996646     137166.0\n",
       "10         3  0.808456   0.800715  0.816348  0.986855     137166.0\n",
       "8          4  0.869215   0.873988  0.864494  0.996683     137166.0\n",
       "7          5  0.512486   0.686047  0.409012  0.996727     137166.0\n",
       "6         50  0.889249   0.891014  0.887491  0.982066     137166.0\n",
       "12        5b  0.287159   0.369792  0.234711  0.994860     137166.0\n",
       "4          6  0.875859   0.881204  0.870579  0.997762     137166.0\n",
       "11         7  0.805819   0.844980  0.770126  0.991631     137166.0\n",
       "17  MICRO_F1  0.833163   0.846703  0.820049  0.993874    1783158.0"
      ]
     },
     "execution_count": 47,
     "metadata": {},
     "output_type": "execute_result"
    }
   ],
   "source": [
    "from results_procesor import metrics_to_df\n",
    "import numpy as np\n",
    "METRICS_COLS = [\"code\",\"f1_score\", \"precision\", \"recall\", \"accuracy\", \"data_points\"]\n",
    "\n",
    "reg_tr_metrics = ResultsProcessor.compute_mean_metrics_from_tagged_essays(cc_tagged_tr, regular_tags)\n",
    "m_df = metrics_to_df(reg_tr_metrics)\n",
    "m_df = m_df[np.isin(m_df[\"code\"], regular_tags + [__MICRO_F1__])][METRICS_COLS]\n",
    "m_df.sort_values(\"code\")"
   ]
  },
  {
   "cell_type": "markdown",
   "metadata": {},
   "source": [
    "### Test"
   ]
  },
  {
   "cell_type": "code",
   "execution_count": 48,
   "metadata": {},
   "outputs": [
    {
     "data": {
      "text/html": [
       "<div>\n",
       "<table border=\"1\" class=\"dataframe\">\n",
       "  <thead>\n",
       "    <tr style=\"text-align: right;\">\n",
       "      <th></th>\n",
       "      <th>code</th>\n",
       "      <th>f1_score</th>\n",
       "      <th>precision</th>\n",
       "      <th>recall</th>\n",
       "      <th>accuracy</th>\n",
       "      <th>data_points</th>\n",
       "    </tr>\n",
       "  </thead>\n",
       "  <tbody>\n",
       "    <tr>\n",
       "      <th>5</th>\n",
       "      <td>1</td>\n",
       "      <td>0.825452</td>\n",
       "      <td>0.822093</td>\n",
       "      <td>0.828839</td>\n",
       "      <td>0.990260</td>\n",
       "      <td>30699.0</td>\n",
       "    </tr>\n",
       "    <tr>\n",
       "      <th>9</th>\n",
       "      <td>11</td>\n",
       "      <td>0.915254</td>\n",
       "      <td>0.904306</td>\n",
       "      <td>0.926471</td>\n",
       "      <td>0.998860</td>\n",
       "      <td>30699.0</td>\n",
       "    </tr>\n",
       "    <tr>\n",
       "      <th>1</th>\n",
       "      <td>12</td>\n",
       "      <td>0.937198</td>\n",
       "      <td>0.989796</td>\n",
       "      <td>0.889908</td>\n",
       "      <td>0.999577</td>\n",
       "      <td>30699.0</td>\n",
       "    </tr>\n",
       "    <tr>\n",
       "      <th>0</th>\n",
       "      <td>13</td>\n",
       "      <td>0.766026</td>\n",
       "      <td>0.773463</td>\n",
       "      <td>0.758730</td>\n",
       "      <td>0.995244</td>\n",
       "      <td>30699.0</td>\n",
       "    </tr>\n",
       "    <tr>\n",
       "      <th>2</th>\n",
       "      <td>14</td>\n",
       "      <td>0.729885</td>\n",
       "      <td>0.668421</td>\n",
       "      <td>0.803797</td>\n",
       "      <td>0.993876</td>\n",
       "      <td>30699.0</td>\n",
       "    </tr>\n",
       "    <tr>\n",
       "      <th>3</th>\n",
       "      <td>2</td>\n",
       "      <td>0.658228</td>\n",
       "      <td>0.615385</td>\n",
       "      <td>0.707483</td>\n",
       "      <td>0.996482</td>\n",
       "      <td>30699.0</td>\n",
       "    </tr>\n",
       "    <tr>\n",
       "      <th>10</th>\n",
       "      <td>3</td>\n",
       "      <td>0.832758</td>\n",
       "      <td>0.857724</td>\n",
       "      <td>0.809204</td>\n",
       "      <td>0.988957</td>\n",
       "      <td>30699.0</td>\n",
       "    </tr>\n",
       "    <tr>\n",
       "      <th>8</th>\n",
       "      <td>4</td>\n",
       "      <td>0.848120</td>\n",
       "      <td>0.846847</td>\n",
       "      <td>0.849398</td>\n",
       "      <td>0.996710</td>\n",
       "      <td>30699.0</td>\n",
       "    </tr>\n",
       "    <tr>\n",
       "      <th>7</th>\n",
       "      <td>5</td>\n",
       "      <td>0.617512</td>\n",
       "      <td>0.603604</td>\n",
       "      <td>0.632075</td>\n",
       "      <td>0.997296</td>\n",
       "      <td>30699.0</td>\n",
       "    </tr>\n",
       "    <tr>\n",
       "      <th>6</th>\n",
       "      <td>50</td>\n",
       "      <td>0.909423</td>\n",
       "      <td>0.910163</td>\n",
       "      <td>0.908685</td>\n",
       "      <td>0.985472</td>\n",
       "      <td>30699.0</td>\n",
       "    </tr>\n",
       "    <tr>\n",
       "      <th>12</th>\n",
       "      <td>5b</td>\n",
       "      <td>0.179104</td>\n",
       "      <td>0.260870</td>\n",
       "      <td>0.136364</td>\n",
       "      <td>0.998208</td>\n",
       "      <td>30699.0</td>\n",
       "    </tr>\n",
       "    <tr>\n",
       "      <th>4</th>\n",
       "      <td>6</td>\n",
       "      <td>0.873362</td>\n",
       "      <td>0.847458</td>\n",
       "      <td>0.900901</td>\n",
       "      <td>0.998111</td>\n",
       "      <td>30699.0</td>\n",
       "    </tr>\n",
       "    <tr>\n",
       "      <th>11</th>\n",
       "      <td>7</td>\n",
       "      <td>0.860095</td>\n",
       "      <td>0.871176</td>\n",
       "      <td>0.849294</td>\n",
       "      <td>0.994267</td>\n",
       "      <td>30699.0</td>\n",
       "    </tr>\n",
       "    <tr>\n",
       "      <th>17</th>\n",
       "      <td>MICRO_F1</td>\n",
       "      <td>0.849319</td>\n",
       "      <td>0.849257</td>\n",
       "      <td>0.849382</td>\n",
       "      <td>0.994871</td>\n",
       "      <td>399087.0</td>\n",
       "    </tr>\n",
       "  </tbody>\n",
       "</table>\n",
       "</div>"
      ],
      "text/plain": [
       "        code  f1_score  precision    recall  accuracy  data_points\n",
       "5          1  0.825452   0.822093  0.828839  0.990260      30699.0\n",
       "9         11  0.915254   0.904306  0.926471  0.998860      30699.0\n",
       "1         12  0.937198   0.989796  0.889908  0.999577      30699.0\n",
       "0         13  0.766026   0.773463  0.758730  0.995244      30699.0\n",
       "2         14  0.729885   0.668421  0.803797  0.993876      30699.0\n",
       "3          2  0.658228   0.615385  0.707483  0.996482      30699.0\n",
       "10         3  0.832758   0.857724  0.809204  0.988957      30699.0\n",
       "8          4  0.848120   0.846847  0.849398  0.996710      30699.0\n",
       "7          5  0.617512   0.603604  0.632075  0.997296      30699.0\n",
       "6         50  0.909423   0.910163  0.908685  0.985472      30699.0\n",
       "12        5b  0.179104   0.260870  0.136364  0.998208      30699.0\n",
       "4          6  0.873362   0.847458  0.900901  0.998111      30699.0\n",
       "11         7  0.860095   0.871176  0.849294  0.994267      30699.0\n",
       "17  MICRO_F1  0.849319   0.849257  0.849382  0.994871     399087.0"
      ]
     },
     "execution_count": 48,
     "metadata": {},
     "output_type": "execute_result"
    }
   ],
   "source": [
    "reg_test_metrics = ResultsProcessor.compute_mean_metrics_from_tagged_essays(cc_tagged_test, regular_tags)\n",
    "m_df = metrics_to_df(reg_test_metrics)\n",
    "m_df = m_df[np.isin(m_df[\"code\"], regular_tags + [__MICRO_F1__])][METRICS_COLS]\n",
    "m_df.sort_values(\"code\")"
   ]
  },
  {
   "cell_type": "markdown",
   "metadata": {},
   "source": [
    "## Anaphora"
   ]
  },
  {
   "cell_type": "code",
   "execution_count": 41,
   "metadata": {},
   "outputs": [],
   "source": [
    "ana_tags = [ANAPHORA]"
   ]
  },
  {
   "cell_type": "markdown",
   "metadata": {},
   "source": [
    "### Train"
   ]
  },
  {
   "cell_type": "code",
   "execution_count": 42,
   "metadata": {},
   "outputs": [
    {
     "data": {
      "text/html": [
       "<div>\n",
       "<table border=\"1\" class=\"dataframe\">\n",
       "  <thead>\n",
       "    <tr style=\"text-align: right;\">\n",
       "      <th></th>\n",
       "      <th>code</th>\n",
       "      <th>f1_score</th>\n",
       "      <th>precision</th>\n",
       "      <th>recall</th>\n",
       "      <th>accuracy</th>\n",
       "      <th>data_points</th>\n",
       "    </tr>\n",
       "  </thead>\n",
       "  <tbody>\n",
       "    <tr>\n",
       "      <th>5</th>\n",
       "      <td>MICRO_F1</td>\n",
       "      <td>0.312012</td>\n",
       "      <td>0.332226</td>\n",
       "      <td>0.294118</td>\n",
       "      <td>0.996785</td>\n",
       "      <td>137166.0</td>\n",
       "    </tr>\n",
       "  </tbody>\n",
       "</table>\n",
       "</div>"
      ],
      "text/plain": [
       "       code  f1_score  precision    recall  accuracy  data_points\n",
       "5  MICRO_F1  0.312012   0.332226  0.294118  0.996785     137166.0"
      ]
     },
     "execution_count": 42,
     "metadata": {},
     "output_type": "execute_result"
    }
   ],
   "source": [
    "reg_tr_metrics = ResultsProcessor.compute_mean_metrics_from_tagged_essays(ana_tagged_tr, ana_tags)\n",
    "m_df = metrics_to_df(reg_tr_metrics)\n",
    "m_df = m_df[np.isin(m_df[\"code\"], regular_tags + [__MICRO_F1__])][METRICS_COLS]\n",
    "m_df.sort_values(\"code\")"
   ]
  },
  {
   "cell_type": "markdown",
   "metadata": {},
   "source": [
    "### Test"
   ]
  },
  {
   "cell_type": "code",
   "execution_count": 49,
   "metadata": {},
   "outputs": [
    {
     "data": {
      "text/html": [
       "<div>\n",
       "<table border=\"1\" class=\"dataframe\">\n",
       "  <thead>\n",
       "    <tr style=\"text-align: right;\">\n",
       "      <th></th>\n",
       "      <th>code</th>\n",
       "      <th>f1_score</th>\n",
       "      <th>precision</th>\n",
       "      <th>recall</th>\n",
       "      <th>accuracy</th>\n",
       "      <th>data_points</th>\n",
       "    </tr>\n",
       "  </thead>\n",
       "  <tbody>\n",
       "    <tr>\n",
       "      <th>5</th>\n",
       "      <td>MICRO_F1</td>\n",
       "      <td>0.358209</td>\n",
       "      <td>0.4</td>\n",
       "      <td>0.324324</td>\n",
       "      <td>0.998599</td>\n",
       "      <td>30699.0</td>\n",
       "    </tr>\n",
       "  </tbody>\n",
       "</table>\n",
       "</div>"
      ],
      "text/plain": [
       "       code  f1_score  precision    recall  accuracy  data_points\n",
       "5  MICRO_F1  0.358209        0.4  0.324324  0.998599      30699.0"
      ]
     },
     "execution_count": 49,
     "metadata": {},
     "output_type": "execute_result"
    }
   ],
   "source": [
    "reg_test_metrics = ResultsProcessor.compute_mean_metrics_from_tagged_essays(ana_tagged_test, ana_tags)\n",
    "m_df = metrics_to_df(reg_test_metrics)\n",
    "m_df = m_df[np.isin(m_df[\"code\"], regular_tags + [__MICRO_F1__])][METRICS_COLS]\n",
    "m_df.sort_values(\"code\")"
   ]
  },
  {
   "cell_type": "markdown",
   "metadata": {},
   "source": [
    "# Persist Merged Essays"
   ]
  },
  {
   "cell_type": "code",
   "execution_count": 44,
   "metadata": {},
   "outputs": [
    {
     "data": {
      "text/plain": [
       "'/Users/simon.hughes/Google Drive/Phd/Data/CoralBleaching/Thesis_Dataset/Predictions/CoRef/MergedTags/'"
      ]
     },
     "execution_count": 44,
     "metadata": {},
     "output_type": "execute_result"
    }
   ],
   "source": [
    "merged_predictions_folder"
   ]
  },
  {
   "cell_type": "code",
   "execution_count": 45,
   "metadata": {},
   "outputs": [],
   "source": [
    "with open(\"{folder}merged_essays_train.dill\".format(folder=merged_predictions_folder), \"wb+\") as f:\n",
    "    dill.dump(merged_essays_tr, f)"
   ]
  },
  {
   "cell_type": "code",
   "execution_count": 46,
   "metadata": {},
   "outputs": [],
   "source": [
    "with open(\"{folder}merged_essays_test.dill\".format(folder=merged_predictions_folder), \"wb+\") as f:\n",
    "    dill.dump(merged_essays_test, f)"
   ]
  },
  {
   "cell_type": "code",
   "execution_count": null,
   "metadata": {},
   "outputs": [],
   "source": []
  }
 ],
 "metadata": {
  "kernelspec": {
   "display_name": "Python [conda env:phd_py36]",
   "language": "python",
   "name": "conda-env-phd_py36-py"
  },
  "language_info": {
   "codemirror_mode": {
    "name": "ipython",
    "version": 3
   },
   "file_extension": ".py",
   "mimetype": "text/x-python",
   "name": "python",
   "nbconvert_exporter": "python",
   "pygments_lexer": "ipython3",
   "version": "3.6.4"
  }
 },
 "nbformat": 4,
 "nbformat_minor": 2
}
