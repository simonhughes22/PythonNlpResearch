{
 "cells": [
  {
   "cell_type": "code",
   "execution_count": 1,
   "metadata": {
    "collapsed": false
   },
   "outputs": [
    {
     "name": "stdout",
     "output_type": "stream",
     "text": [
      "/Users/simon.hughes/anaconda3/envs/phd/bin/python\r\n"
     ]
    }
   ],
   "source": [
    "!which python"
   ]
  },
  {
   "cell_type": "code",
   "execution_count": 2,
   "metadata": {
    "collapsed": false
   },
   "outputs": [
    {
     "name": "stdout",
     "output_type": "stream",
     "text": [
      "Python 2.7.13 :: Continuum Analytics, Inc.\r\n"
     ]
    }
   ],
   "source": [
    "!python -V"
   ]
  },
  {
   "cell_type": "code",
   "execution_count": 3,
   "metadata": {
    "collapsed": false
   },
   "outputs": [
    {
     "name": "stdout",
     "output_type": "stream",
     "text": [
      "WARNING - No db name specified - should be either 'metrics_causal' or 'metrics'. Defaulting to 'metrics' \n",
      "Results Dir: /Users/simon.hughes/Google Drive/Phd/Results/\n",
      "Data Dir:    /Users/simon.hughes/Google Drive/Phd/Data/\n",
      "Root Dir:    /Users/simon.hughes/GitHub/NlpResearch/\n",
      "Public Data: /Users/simon.hughes/GitHub/NlpResearch/Data/PublicDatasets/\n",
      "Extractors\n",
      "\tfn_pos_wd_feats_stemmed[offset:4]\n",
      "\tfn_pos_ngram_feat_stemmed[ngram_size:2 offset:4]\n",
      "\tfn_pos_ngram_feat_stemmed[ngram_size:3 offset:4]\n",
      "\tfn_bow_ngram_feat[ngram_size:1 offset:4]\n",
      "\textract_dependency_relation\n",
      "\textract_brown_cluster\n",
      "(901, 'files found')\n",
      "901 essays processed\n",
      "(226, 'files found')\n",
      "226 essays processed\n",
      "2019-10-06 21:53:46,414 : INFO : Essays loaded - Train: 901 Test 226\n",
      "2019-10-06 21:54:59,918 : INFO : Features loaded\n",
      "\n",
      "New Run - Tag History: 1\tTag + Wd: 0\tTag Ngram: 0\n",
      "!!!!!!!! NEW BEST MICRO F1 !!!!!!!!\n",
      " Micro F1 0.842786 - Tag History: 1\tTag + Wd: 0\tTag Ngram: 0\n"
     ]
    }
   ],
   "source": [
    "!python /Users/simon.hughes/GitHub/NlpResearch/PythonNlpResearch/Experiments/CoralBleachingWordTagger/AveragedPerceptron/train_tagger_multiclasscombo_test.py"
   ]
  },
  {
   "cell_type": "code",
   "execution_count": null,
   "metadata": {
    "collapsed": false
   },
   "outputs": [
    {
     "name": "stdout",
     "output_type": "stream",
     "text": [
      "WARNING - No db name specified - should be either 'metrics_causal' or 'metrics'. Defaulting to 'metrics' \n",
      "Results Dir: /Users/simon.hughes/Google Drive/Phd/Results/\n",
      "Data Dir:    /Users/simon.hughes/Google Drive/Phd/Data/\n",
      "Root Dir:    /Users/simon.hughes/GitHub/NlpResearch/\n",
      "Public Data: /Users/simon.hughes/GitHub/NlpResearch/Data/PublicDatasets/\n",
      "Extractors\n",
      "\tfn_pos_wd_feats_stemmed[offset:4]\n",
      "\tfn_pos_ngram_feat_stemmed[ngram_size:2 offset:4]\n",
      "\tfn_pos_ngram_feat_stemmed[ngram_size:3 offset:4]\n",
      "\tfn_bow_ngram_feat[ngram_size:1 offset:4]\n",
      "\textract_dependency_relation\n",
      "\textract_brown_cluster\n",
      "(901, 'files found')\n",
      "901 essays processed\n",
      "(226, 'files found')\n",
      "226 essays processed\n",
      "2019-10-06 22:09:23,573 : INFO : Essays loaded - Train: 901 Test 226\n",
      "2019-10-06 22:10:40,668 : INFO : Features loaded\n",
      "\n",
      "New Run - Tag History: 1\tTag + Wd: 0\tTag Ngram: 0\n",
      "!!!!!!!! NEW BEST MICRO F1 !!!!!!!!\n",
      " Micro F1 0.843409 - Tag History: 1\tTag + Wd: 0\tTag Ngram: 0\n"
     ]
    }
   ],
   "source": [
    "!python /Users/simon.hughes/GitHub/NlpResearch/PythonNlpResearch/Experiments/CoralBleachingWordTagger/AveragedPerceptron/train_tagger_multiclasscombo_test.py"
   ]
  },
  {
   "cell_type": "code",
   "execution_count": null,
   "metadata": {
    "collapsed": false
   },
   "outputs": [
    {
     "name": "stdout",
     "output_type": "stream",
     "text": [
      "WARNING - No db name specified - should be either 'metrics_causal' or 'metrics'. Defaulting to 'metrics' \n",
      "Results Dir: /Users/simon.hughes/Google Drive/Phd/Results/\n",
      "Data Dir:    /Users/simon.hughes/Google Drive/Phd/Data/\n",
      "Root Dir:    /Users/simon.hughes/GitHub/NlpResearch/\n",
      "Public Data: /Users/simon.hughes/GitHub/NlpResearch/Data/PublicDatasets/\n",
      "Extractors\n",
      "\tfn_pos_wd_feats_stemmed[offset:4]\n",
      "\tfn_pos_ngram_feat_stemmed[ngram_size:2 offset:4]\n",
      "\tfn_pos_ngram_feat_stemmed[ngram_size:3 offset:4]\n",
      "\tfn_bow_ngram_feat[ngram_size:1 offset:4]\n",
      "\textract_dependency_relation\n",
      "\textract_brown_cluster\n",
      "(901, 'files found')\n",
      "901 essays processed\n",
      "(226, 'files found')\n",
      "226 essays processed\n",
      "2019-10-06 22:25:23,897 : INFO : Essays loaded - Train: 901 Test 226\n",
      "2019-10-06 22:26:36,011 : INFO : Features loaded\n",
      "\n",
      "New Run - Tag History: 1\tTag + Wd: 0\tTag Ngram: 0\n"
     ]
    }
   ],
   "source": [
    "!python /Users/simon.hughes/GitHub/NlpResearch/PythonNlpResearch/Experiments/CoralBleachingWordTagger/AveragedPerceptron/train_tagger_multiclasscombo_test.py"
   ]
  },
  {
   "cell_type": "code",
   "execution_count": null,
   "metadata": {
    "collapsed": false
   },
   "outputs": [],
   "source": [
    "!python /Users/simon.hughes/GitHub/NlpResearch/PythonNlpResearch/Experiments/CoralBleachingWordTagger/AveragedPerceptron/train_tagger_multiclasscombo_test.py"
   ]
  },
  {
   "cell_type": "code",
   "execution_count": null,
   "metadata": {
    "collapsed": true
   },
   "outputs": [],
   "source": [
    "!python /Users/simon.hughes/GitHub/NlpResearch/PythonNlpResearch/Experiments/CoralBleachingWordTagger/AveragedPerceptron/train_tagger_multiclasscombo_test.py"
   ]
  },
  {
   "cell_type": "code",
   "execution_count": null,
   "metadata": {
    "collapsed": true
   },
   "outputs": [],
   "source": [
    "!python /Users/simon.hughes/GitHub/NlpResearch/PythonNlpResearch/Experiments/CoralBleachingWordTagger/AveragedPerceptron/train_tagger_multiclasscombo_test.py"
   ]
  },
  {
   "cell_type": "code",
   "execution_count": null,
   "metadata": {
    "collapsed": true
   },
   "outputs": [],
   "source": [
    "!python /Users/simon.hughes/GitHub/NlpResearch/PythonNlpResearch/Experiments/CoralBleachingWordTagger/AveragedPerceptron/train_tagger_multiclasscombo_test.py"
   ]
  },
  {
   "cell_type": "code",
   "execution_count": null,
   "metadata": {
    "collapsed": true
   },
   "outputs": [],
   "source": [
    "!python /Users/simon.hughes/GitHub/NlpResearch/PythonNlpResearch/Experiments/CoralBleachingWordTagger/AveragedPerceptron/train_tagger_multiclasscombo_test.py"
   ]
  },
  {
   "cell_type": "code",
   "execution_count": null,
   "metadata": {
    "collapsed": true
   },
   "outputs": [],
   "source": []
  }
 ],
 "metadata": {
  "anaconda-cloud": {},
  "kernelspec": {
   "display_name": "Python [conda env:tensorflow_cpu]",
   "language": "python",
   "name": "conda-env-tensorflow_cpu-py"
  },
  "language_info": {
   "codemirror_mode": {
    "name": "ipython",
    "version": 3
   },
   "file_extension": ".py",
   "mimetype": "text/x-python",
   "name": "python",
   "nbconvert_exporter": "python",
   "pygments_lexer": "ipython3",
   "version": "3.5.3"
  }
 },
 "nbformat": 4,
 "nbformat_minor": 2
}
