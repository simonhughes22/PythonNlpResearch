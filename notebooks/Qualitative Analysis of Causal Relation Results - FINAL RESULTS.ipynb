{
 "cells": [
  {
   "cell_type": "code",
   "execution_count": 1,
   "metadata": {},
   "outputs": [],
   "source": [
    "!export PYTHONPATH='/Users/simon.hughes/GitHub/NlpResearch/PythonNlpResearch/PythonNlpResearch:/Users/simon.hughes/GitHub/NlpResearch/PythonNlpResearch/Calculations:/Users/simon.hughes/GitHub/NlpResearch/PythonNlpResearch/Classifiers:/Users/simon.hughes/GitHub/NlpResearch/PythonNlpResearch/Classifiers/RegEx:/Users/simon.hughes/GitHub/NlpResearch/PythonNlpResearch/Classifiers/Trees:/Users/simon.hughes/GitHub/NlpResearch/PythonNlpResearch/Clustering:/Users/simon.hughes/GitHub/NlpResearch/PythonNlpResearch/CodeGen:/Users/simon.hughes/GitHub/NlpResearch/PythonNlpResearch/CollectionsHelper:/Users/simon.hughes/GitHub/NlpResearch/PythonNlpResearch/Data:/Users/simon.hughes/GitHub/NlpResearch/PythonNlpResearch/Data/Chicago:/Users/simon.hughes/GitHub/NlpResearch/PythonNlpResearch/Data/CoralBleaching:/Users/simon.hughes/GitHub/NlpResearch/PythonNlpResearch/Data/CoralBleachingWordTagger:/Users/simon.hughes/GitHub/NlpResearch/PythonNlpResearch/Data/SkinCancerWordTagger:/Users/simon.hughes/GitHub/NlpResearch/PythonNlpResearch/Data/GlobalWarming:/Users/simon.hughes/GitHub/NlpResearch/PythonNlpResearch/Data/GlobalWarmingAnnotated:/Users/simon.hughes/GitHub/NlpResearch/PythonNlpResearch/Data/GoogleNGrams:/Users/simon.hughes/GitHub/NlpResearch/PythonNlpResearch/DeepLearning:/Users/simon.hughes/GitHub/NlpResearch/PythonNlpResearch/DeepLearning/DeepBeliefNetwork:/Users/simon.hughes/GitHub/NlpResearch/PythonNlpResearch/DeepLearning/Examples:/Users/simon.hughes/GitHub/NlpResearch/PythonNlpResearch/DeepLearning/Examples/DeepAutoEncoder:/Users/simon.hughes/GitHub/NlpResearch/PythonNlpResearch/DeepLearning/Examples/DeepAutoEncoder_MichaelNielsen:/Users/simon.hughes/GitHub/NlpResearch/PythonNlpResearch/DeepLearning/MyCode:/Users/simon.hughes/GitHub/NlpResearch/PythonNlpResearch/DeepLearning/MyCode/RecursiveAutoEncoder:/Users/simon.hughes/GitHub/NlpResearch/PythonNlpResearch/DeepLearning/WordVectors:/Users/simon.hughes/GitHub/NlpResearch/PythonNlpResearch/Experiments:/Users/simon.hughes/GitHub/NlpResearch/PythonNlpResearch/Experiments/Chicago:/Users/simon.hughes/GitHub/NlpResearch/PythonNlpResearch/Experiments/CoralBleaching:/Users/simon.hughes/GitHub/NlpResearch/PythonNlpResearch/Experiments/GlobalWarming:/Users/simon.hughes/GitHub/NlpResearch/PythonNlpResearch/Experiments/GlobalWarming/Causal:/Users/simon.hughes/GitHub/NlpResearch/PythonNlpResearch/Experiments/GlobalWarming/WordClustering:/Users/simon.hughes/GitHub/NlpResearch/PythonNlpResearch/FeatureExtraction/Text:/Users/simon.hughes/GitHub/NlpResearch/PythonNlpResearch/Frequency:/Users/simon.hughes/GitHub/NlpResearch/PythonNlpResearch/LanguageModel:/Users/simon.hughes/GitHub/NlpResearch/PythonNlpResearch/Results:/Users/simon.hughes/GitHub/NlpResearch/PythonNlpResearch/Tagging:/Users/simon.hughes/GitHub/NlpResearch/PythonNlpResearch/VectorSpace:/Users/simon.hughes/GitHub/NlpResearch/PythonNlpResearch/VectorSpace/WordVectors:/Users/simon.hughes/GitHub/NlpResearch/PythonNlpResearch/VectorSpace/WordVectors/Word2Vec:/Users/simon.hughes/GitHub/NlpResearch/PythonNlpResearch/_Scratch/Sub:/Users/simon.hughes/GitHub/NlpResearch/PythonNlpResearch:/Users/simon.hughes/GitHub/NlpResearch/PythonNlpResearch/Synonyms:/Users/simon.hughes/GitHub/NlpResearch/PythonNlpResearch/DeepLearning/MyCode/:/Users/simon.hughes/GitHub/NlpResearch/PythonNlpResearch/MontyLingua:/Users/simon.hughes/GitHub/NlpResearch/PythonNlpResearch/Experiments/CoralBleachingWordTagger/WindowBasedClassifier:/Users/simon.hughes/GitHub/NlpResearch/PythonNlpResearch/Experiments/Tagging:/Users/simon.hughes/GitHub/NlpResearch/PythonNlpResearch/Experiments/CoralBleachingWordTagger/DeepNN'"
   ]
  },
  {
   "cell_type": "code",
   "execution_count": 2,
   "metadata": {},
   "outputs": [],
   "source": [
    "%matplotlib inline\n",
    "import numpy as np\n",
    "import pandas as pd\n",
    "import matplotlib as mpl\n",
    "import matplotlib.pyplot as plt\n",
    "import seaborn as sns\n",
    "import pymongo\n",
    "from pprint import pprint"
   ]
  },
  {
   "cell_type": "code",
   "execution_count": 11,
   "metadata": {},
   "outputs": [],
   "source": [
    "import sys\n",
    "sys.path.append(\"/Users/simon.hughes/GitHub/NlpResearch/PythonNlpResearch/notebooks/Causal Model/src/\")\n",
    "from causal_model_features import CausalModelType, distance_between, is_forward_relation, build_cb_causal_model, build_sc_causal_model\n",
    "cb_mdl = build_cb_causal_model()\n",
    "sc_mdl = build_sc_causal_model()"
   ]
  },
  {
   "cell_type": "code",
   "execution_count": 3,
   "metadata": {},
   "outputs": [],
   "source": [
    "client = pymongo.MongoClient()\n",
    "db = client.metrics_causal"
   ]
  },
  {
   "cell_type": "code",
   "execution_count": 62,
   "metadata": {},
   "outputs": [
    {
     "name": "stdout",
     "output_type": "stream",
     "text": [
      "Results Dir: /Users/simon.hughes/Google Drive/Phd/Results/\n",
      "Data Dir:    /Users/simon.hughes/Google Drive/Phd/Data/\n",
      "Root Dir:    /Users/simon.hughes/GitHub/NlpResearch/\n",
      "Public Data: /Users/simon.hughes/GitHub/NlpResearch/Data/PublicDatasets/\n"
     ]
    },
    {
     "data": {
      "text/plain": [
       "1128"
      ]
     },
     "execution_count": 62,
     "metadata": {},
     "output_type": "execute_result"
    }
   ],
   "source": [
    "from Settings import Settings\n",
    "from window_based_tagger_config import get_config\n",
    "import dill\n",
    "\n",
    "settings = Settings()\n",
    "root_folder = settings.data_directory + \"CoralBleaching/Thesis_Dataset/\"\n",
    "rnn_predictions_folder = root_folder + \"Predictions/Bi-LSTM-4-SEARN/\"\n",
    "\n",
    "train_fname = rnn_predictions_folder + \"essays_train_bi_directional-True_hidden_size-256_merge_mode-sum_num_rnns-2_use_pretrained_embedding-True.dill\"\n",
    "with open(train_fname, \"rb\") as f:\n",
    "    pred_tagged_essays_train_cb = dill.load(f)\n",
    "\n",
    "test_fname = rnn_predictions_folder + \"essays_test_bi_directional-True_hidden_size-256_merge_mode-sum_num_rnns-2_use_pretrained_embedding-True.dill\"\n",
    "with open(test_fname, \"rb\") as f:\n",
    "    pred_tagged_essays_test_cb = dill.load(f)\n",
    "    \n",
    "cb_essays = pred_tagged_essays_train_cb + pred_tagged_essays_test_cb\n",
    "len(cb_essays)"
   ]
  },
  {
   "cell_type": "code",
   "execution_count": 63,
   "metadata": {},
   "outputs": [
    {
     "data": {
      "text/plain": [
       "1088"
      ]
     },
     "execution_count": 63,
     "metadata": {},
     "output_type": "execute_result"
    }
   ],
   "source": [
    "root_folder = settings.data_directory + \"SkinCancer/Thesis_Dataset/\"\n",
    "rnn_predictions_folder = root_folder + \"Predictions/Bi-LSTM-4-SEARN/\"\n",
    "\n",
    "train_fname = rnn_predictions_folder + \"essays_train_bi_directional-True_hidden_size-256_merge_mode-sum_num_rnns-2_use_pretrained_embedding-True.dill\"\n",
    "with open(train_fname, \"rb\") as f:\n",
    "    pred_tagged_essays_train_sc = dill.load(f)\n",
    "\n",
    "test_fname = rnn_predictions_folder + \"essays_test_bi_directional-True_hidden_size-256_merge_mode-sum_num_rnns-2_use_pretrained_embedding-True.dill\"\n",
    "with open(test_fname, \"rb\") as f:\n",
    "    pred_tagged_essays_test_sc = dill.load(f)\n",
    "    \n",
    "sc_essays = pred_tagged_essays_train_sc + pred_tagged_essays_test_sc\n",
    "len(sc_essays)"
   ]
  },
  {
   "cell_type": "code",
   "execution_count": 71,
   "metadata": {},
   "outputs": [
    {
     "data": {
      "text/plain": [
       "('.', set())"
      ]
     },
     "execution_count": 71,
     "metadata": {},
     "output_type": "execute_result"
    }
   ],
   "source": [
    "e = cb_essays[0]\n",
    "# for wd, tags in e.sentences:\n",
    "#     pass\n",
    "for s in e.sentences:\n",
    "    for wd, tags in s:\n",
    "        pass"
   ]
  },
  {
   "cell_type": "code",
   "execution_count": 76,
   "metadata": {},
   "outputs": [],
   "source": [
    "def get_sentences_per_tag(essays):\n",
    "    sentbytag = defaultdict(list)\n",
    "    for essay in essays:\n",
    "        for sent in essay.sentences:\n",
    "            tmp = defaultdict(list)\n",
    "            for wd,tags in sent:\n",
    "                for t in tags:\n",
    "                    tmp[t].append(wd)\n",
    "            for tag, wds in tmp.items():\n",
    "                sentbytag[tag].append(wds)\n",
    "    return sentbytag\n",
    "\n",
    "def get_doc_freq(essays):\n",
    "    df = defaultdict(int)\n",
    "    for essay in essays:\n",
    "        wds_in_e = set()\n",
    "        for sent in essay.sentences:\n",
    "            for wd,tags in sent:\n",
    "                wds_in_e.add(wd)\n",
    "        for wd in wds_in_e:\n",
    "            df[wd] += 1\n",
    "    return df\n",
    "\n",
    "cb_sent_by_tag = get_sentences_per_tag(cb_essays)\n",
    "cb_docf = get_doc_freq(cb_essays)"
   ]
  },
  {
   "cell_type": "code",
   "execution_count": 100,
   "metadata": {},
   "outputs": [],
   "source": [
    "def get_crel_stats(sent_by_tag, docf, code_filter):\n",
    "    num_sents, num_wds = 0,0\n",
    "    dfs = []\n",
    "    word_spans = []\n",
    "    for code in code_filter:\n",
    "        sents = sent_by_tag[code]\n",
    "        for sent in sents:\n",
    "            num_sents += 1\n",
    "            word_spans.append(len(sent))\n",
    "            for word in sent:\n",
    "                num_wds += 1\n",
    "                dfs.append(docf[word])\n",
    "    return {\n",
    "        \"num_sents\": num_sents,\n",
    "        \"num_sents_per_code\": num_sents/len(code_filter),\n",
    "        \"num_wds\": num_wds,\n",
    "        \"avg_span\": np.mean(word_spans),\n",
    "        \"avg_df\": np.mean(dfs)\n",
    "    }"
   ]
  },
  {
   "cell_type": "code",
   "execution_count": 85,
   "metadata": {},
   "outputs": [],
   "source": [
    "# sorted(cb_docf.items(), key=lambda tpl:-tpl[1])"
   ]
  },
  {
   "cell_type": "code",
   "execution_count": 86,
   "metadata": {},
   "outputs": [],
   "source": [
    "# cb_sent_by_tag[\"Causer:3->Result:50\"]"
   ]
  },
  {
   "cell_type": "code",
   "execution_count": 4,
   "metadata": {},
   "outputs": [],
   "source": [
    "def __precision__(tp, fp, fn):\n",
    "    if tp + fp <= 0:\n",
    "        return 0.0\n",
    "    return tp / (tp + fp)\n",
    "\n",
    "def __recall__(tp, fp, fn):\n",
    "    if tp + fn <= 0:\n",
    "        return 0.0\n",
    "    return tp / (tp + fn)\n",
    "\n",
    "def __f_beta__(r, p, beta):\n",
    "    if r + p <= 0.0:\n",
    "        return 0.0\n",
    "    beta_squared = beta * beta\n",
    "    #Harmonic mean\n",
    "    return ((1.0 + beta_squared) * r * p) / (beta_squared * (r + p))\n",
    "\n",
    "def rpf1a_from_tp_fp_tn_fn(tp, fp, tn, fn):\n",
    "    r = __recall__(tp, fp, fn)\n",
    "    p = __precision__(tp, fp, fn)\n",
    "    f1 = __f_beta__(r, p, 1.0)\n",
    "\n",
    "    a = (tp + tn) / (tp + fp + tn + fn)\n",
    "    return (r, p, f1, a)"
   ]
  },
  {
   "cell_type": "code",
   "execution_count": 165,
   "metadata": {},
   "outputs": [],
   "source": [
    "from collections import defaultdict, OrderedDict\n",
    "\n",
    "def coll2algo(coll):\n",
    "    if \"RNN\" in coll:\n",
    "        return \"Bidirectional RNN\"\n",
    "    if \"STACKED\" in coll:\n",
    "        return \"Stacked Classifier\"\n",
    "    if \"PARSER\" in coll:\n",
    "        return \"Shift-Reduce Parser\"\n",
    "    return \"\"\n",
    "\n",
    "def coll2algo_shortname(coll):\n",
    "    if \"RNN\" in coll:\n",
    "        return \"RNN\"\n",
    "    if \"STACKED\" in coll:\n",
    "        return \"Stacked\"\n",
    "    if \"PARSER\" in coll:\n",
    "        return \"Parser\"\n",
    "    return \"\"\n",
    "\n",
    "def compute_metrics_for_relations(collection, relns=None):\n",
    "    rows = list(db[collection].find())\n",
    "    assert len(rows) == 1\n",
    "    row = rows[0]\n",
    "    tally = defaultdict(int)\n",
    "    for k,val in row.items():\n",
    "        if \"->\" in k and (not relns or k in relns):\n",
    "            for prop in \"tp,tn,fp,fn\".split(\",\"):\n",
    "                tally[prop] += val[prop]\n",
    "                \n",
    "    (rec, prec, f1, acc) = rpf1a_from_tp_fp_tn_fn(tally[\"tp\"],tally[\"fp\"],tally[\"tn\"],tally[\"fn\"])\n",
    "    return dict(OrderedDict({\n",
    "        \"algo\": coll2algo(collection),\n",
    "        \"recall\": rec,\n",
    "        \"precision\": prec,\n",
    "        \"f1_score\": f1,\n",
    "        \"accuracy\": acc\n",
    "    }))"
   ]
  },
  {
   "cell_type": "code",
   "execution_count": 146,
   "metadata": {},
   "outputs": [],
   "source": [
    "def round_data(df, places=3):\n",
    "    df_copy = df.copy()\n",
    "    fmt_str = \"{0:.\" + str(places) + \"f}\"\n",
    "    cols = set([v for v in df_copy.columns.values if \"micro_\" in v])\n",
    "    for c in cols:\n",
    "        df_copy[c] = df[c].apply(lambda d: fmt_str.format(d))  \n",
    "    return df_copy"
   ]
  },
  {
   "cell_type": "markdown",
   "metadata": {},
   "source": [
    "## Get All Crels"
   ]
  },
  {
   "cell_type": "code",
   "execution_count": 147,
   "metadata": {},
   "outputs": [
    {
     "data": {
      "text/plain": [
       "86"
      ]
     },
     "execution_count": 147,
     "metadata": {},
     "output_type": "execute_result"
    }
   ],
   "source": [
    "cb_crels = set()\n",
    "row = list(db[\"CR_CB_TAGGING_VD_MOST_COMMON_TAG_RNN\"].find())[0]\n",
    "for k,v in row.items():\n",
    "    if \"->\" in k:\n",
    "        cb_crels.add(k)\n",
    "len(cb_crels)"
   ]
  },
  {
   "cell_type": "code",
   "execution_count": 148,
   "metadata": {},
   "outputs": [
    {
     "data": {
      "text/plain": [
       "49"
      ]
     },
     "execution_count": 148,
     "metadata": {},
     "output_type": "execute_result"
    }
   ],
   "source": [
    "sc_crels = set()\n",
    "row = list(db[\"CR_SC_TAGGING_VD_MOST_COMMON_TAG_RNN\"].find())[0]\n",
    "for k,v in row.items():\n",
    "    if \"->\" in k:\n",
    "        sc_crels.add(k)\n",
    "len(sc_crels)"
   ]
  },
  {
   "cell_type": "code",
   "execution_count": 149,
   "metadata": {},
   "outputs": [
    {
     "data": {
      "text/plain": [
       "-1"
      ]
     },
     "execution_count": 149,
     "metadata": {},
     "output_type": "execute_result"
    }
   ],
   "source": [
    "from causal_model_features import __nodes_between__\n",
    "__nodes_between__(\"1\", \"11\", cb_mdl)"
   ]
  },
  {
   "cell_type": "code",
   "execution_count": 150,
   "metadata": {},
   "outputs": [],
   "source": [
    "def partition_rels(crels):\n",
    "    val = set()\n",
    "    inv = set()\n",
    "    to50 = set()\n",
    "    adj = set()\n",
    "    for crel in crels:\n",
    "        a,b = crel.replace(\"Causer:\",\"\").replace(\"Result:\",\"\").split(\"->\")\n",
    "        if is_forward_relation(a,b,cb_mdl):\n",
    "            if b == \"50\":\n",
    "                to50.add(crel)\n",
    "            if __nodes_between__(a,b, cb_mdl) == 1:\n",
    "                adj.add(crel)\n",
    "            val.add(crel)\n",
    "        else:\n",
    "            inv.add(crel)\n",
    "    return {\n",
    "        \"valid\": val, \"invalid\": inv, \n",
    "        \"to 50\": to50,\n",
    "        \"adjacent\": adj\n",
    "    }\n",
    "\n",
    "cb_part = partition_rels(cb_crels)\n",
    "sc_part = partition_rels(sc_crels)"
   ]
  },
  {
   "cell_type": "code",
   "execution_count": 151,
   "metadata": {},
   "outputs": [],
   "source": [
    "cb_collections = [\n",
    "    \"CR_CB_TAGGING_VD_MOST_COMMON_TAG_RNN\", \n",
    "    \"CR_CB_STACKED_VD\",\n",
    "    \"CR_CB_SHIFT_REDUCE_PARSER_TEMPLATED_HYPER_PARAM_VD\"\n",
    "]\n",
    "test_collections_cb = [\"TEST_\" + c.replace(\"HYPER_PARAM_\",\"\") for c in cb_collections]\n",
    "test_collections_sc = [c.replace(\"_CB\",\"_SC\") for c in test_collections_cb]"
   ]
  },
  {
   "cell_type": "code",
   "execution_count": 152,
   "metadata": {},
   "outputs": [
    {
     "data": {
      "text/html": [
       "<div>\n",
       "<style scoped>\n",
       "    .dataframe tbody tr th:only-of-type {\n",
       "        vertical-align: middle;\n",
       "    }\n",
       "\n",
       "    .dataframe tbody tr th {\n",
       "        vertical-align: top;\n",
       "    }\n",
       "\n",
       "    .dataframe thead th {\n",
       "        text-align: right;\n",
       "    }\n",
       "</style>\n",
       "<table border=\"1\" class=\"dataframe\">\n",
       "  <thead>\n",
       "    <tr style=\"text-align: right;\">\n",
       "      <th></th>\n",
       "      <th>Partition</th>\n",
       "      <th>Bidirectional RNN</th>\n",
       "      <th>Stacked Classifier</th>\n",
       "      <th>Shift-Reduce Parser</th>\n",
       "    </tr>\n",
       "  </thead>\n",
       "  <tbody>\n",
       "    <tr>\n",
       "      <td>0</td>\n",
       "      <td>valid</td>\n",
       "      <td>0.688987</td>\n",
       "      <td>0.717489</td>\n",
       "      <td>0.746667</td>\n",
       "    </tr>\n",
       "    <tr>\n",
       "      <td>1</td>\n",
       "      <td>invalid</td>\n",
       "      <td>0.148148</td>\n",
       "      <td>0.242424</td>\n",
       "      <td>0.360656</td>\n",
       "    </tr>\n",
       "    <tr>\n",
       "      <td>2</td>\n",
       "      <td>to 50</td>\n",
       "      <td>0.686154</td>\n",
       "      <td>0.725240</td>\n",
       "      <td>0.750000</td>\n",
       "    </tr>\n",
       "    <tr>\n",
       "      <td>3</td>\n",
       "      <td>adjacent</td>\n",
       "      <td>0.778723</td>\n",
       "      <td>0.797441</td>\n",
       "      <td>0.799172</td>\n",
       "    </tr>\n",
       "  </tbody>\n",
       "</table>\n",
       "</div>"
      ],
      "text/plain": [
       "  Partition  Bidirectional RNN  Stacked Classifier  Shift-Reduce Parser\n",
       "0     valid           0.688987            0.717489             0.746667\n",
       "1   invalid           0.148148            0.242424             0.360656\n",
       "2     to 50           0.686154            0.725240             0.750000\n",
       "3  adjacent           0.778723            0.797441             0.799172"
      ]
     },
     "execution_count": 152,
     "metadata": {},
     "output_type": "execute_result"
    }
   ],
   "source": [
    "def analyze_performance_by_partition(part2relations, colls):\n",
    "    rows_by_parttn = defaultdict(dict)\n",
    "    for parttn, crels in part2relations.items():\n",
    "        for coll in colls:\n",
    "            metrics = compute_metrics_for_relations(coll, crels)\n",
    "            d = rows_by_parttn[parttn]\n",
    "            d[\"Partition\"] = parttn\n",
    "            d[metrics[\"algo\"]] = metrics[\"f1_score\"]\n",
    "    return pd.DataFrame(rows_by_parttn.values())\n",
    "\n",
    "analyze_performance_by_partition(cb_part, test_collections_cb)"
   ]
  },
  {
   "cell_type": "code",
   "execution_count": 153,
   "metadata": {},
   "outputs": [
    {
     "data": {
      "text/html": [
       "<div>\n",
       "<style scoped>\n",
       "    .dataframe tbody tr th:only-of-type {\n",
       "        vertical-align: middle;\n",
       "    }\n",
       "\n",
       "    .dataframe tbody tr th {\n",
       "        vertical-align: top;\n",
       "    }\n",
       "\n",
       "    .dataframe thead th {\n",
       "        text-align: right;\n",
       "    }\n",
       "</style>\n",
       "<table border=\"1\" class=\"dataframe\">\n",
       "  <thead>\n",
       "    <tr style=\"text-align: right;\">\n",
       "      <th></th>\n",
       "      <th>Partition</th>\n",
       "      <th>Bidirectional RNN</th>\n",
       "      <th>Stacked Classifier</th>\n",
       "      <th>Shift-Reduce Parser</th>\n",
       "    </tr>\n",
       "  </thead>\n",
       "  <tbody>\n",
       "    <tr>\n",
       "      <td>0</td>\n",
       "      <td>valid</td>\n",
       "      <td>0.804620</td>\n",
       "      <td>0.774584</td>\n",
       "      <td>0.798241</td>\n",
       "    </tr>\n",
       "    <tr>\n",
       "      <td>1</td>\n",
       "      <td>invalid</td>\n",
       "      <td>0.640000</td>\n",
       "      <td>0.600000</td>\n",
       "      <td>0.671429</td>\n",
       "    </tr>\n",
       "    <tr>\n",
       "      <td>2</td>\n",
       "      <td>to 50</td>\n",
       "      <td>0.808219</td>\n",
       "      <td>0.768817</td>\n",
       "      <td>0.798646</td>\n",
       "    </tr>\n",
       "    <tr>\n",
       "      <td>3</td>\n",
       "      <td>adjacent</td>\n",
       "      <td>0.836299</td>\n",
       "      <td>0.805604</td>\n",
       "      <td>0.843806</td>\n",
       "    </tr>\n",
       "  </tbody>\n",
       "</table>\n",
       "</div>"
      ],
      "text/plain": [
       "  Partition  Bidirectional RNN  Stacked Classifier  Shift-Reduce Parser\n",
       "0     valid           0.804620            0.774584             0.798241\n",
       "1   invalid           0.640000            0.600000             0.671429\n",
       "2     to 50           0.808219            0.768817             0.798646\n",
       "3  adjacent           0.836299            0.805604             0.843806"
      ]
     },
     "execution_count": 153,
     "metadata": {},
     "output_type": "execute_result"
    }
   ],
   "source": [
    "analyze_performance_by_partition(sc_part, test_collections_sc)"
   ]
  },
  {
   "cell_type": "code",
   "execution_count": 154,
   "metadata": {},
   "outputs": [
    {
     "data": {
      "text/html": [
       "<div>\n",
       "<style scoped>\n",
       "    .dataframe tbody tr th:only-of-type {\n",
       "        vertical-align: middle;\n",
       "    }\n",
       "\n",
       "    .dataframe tbody tr th {\n",
       "        vertical-align: top;\n",
       "    }\n",
       "\n",
       "    .dataframe thead th {\n",
       "        text-align: right;\n",
       "    }\n",
       "</style>\n",
       "<table border=\"1\" class=\"dataframe\">\n",
       "  <thead>\n",
       "    <tr style=\"text-align: right;\">\n",
       "      <th></th>\n",
       "      <th>algo</th>\n",
       "      <th>recall</th>\n",
       "      <th>precision</th>\n",
       "      <th>f1_score</th>\n",
       "      <th>accuracy</th>\n",
       "    </tr>\n",
       "  </thead>\n",
       "  <tbody>\n",
       "    <tr>\n",
       "      <td>0</td>\n",
       "      <td>Bidirectional RNN</td>\n",
       "      <td>0.656093</td>\n",
       "      <td>0.698046</td>\n",
       "      <td>0.676420</td>\n",
       "      <td>0.997720</td>\n",
       "    </tr>\n",
       "    <tr>\n",
       "      <td>1</td>\n",
       "      <td>Stacked Classifier</td>\n",
       "      <td>0.674457</td>\n",
       "      <td>0.735883</td>\n",
       "      <td>0.703833</td>\n",
       "      <td>0.997939</td>\n",
       "    </tr>\n",
       "    <tr>\n",
       "      <td>2</td>\n",
       "      <td>Shift-Reduce Parser</td>\n",
       "      <td>0.766277</td>\n",
       "      <td>0.693353</td>\n",
       "      <td>0.727994</td>\n",
       "      <td>0.997921</td>\n",
       "    </tr>\n",
       "  </tbody>\n",
       "</table>\n",
       "</div>"
      ],
      "text/plain": [
       "                  algo    recall  precision  f1_score  accuracy\n",
       "0    Bidirectional RNN  0.656093   0.698046  0.676420  0.997720\n",
       "1   Stacked Classifier  0.674457   0.735883  0.703833  0.997939\n",
       "2  Shift-Reduce Parser  0.766277   0.693353  0.727994  0.997921"
      ]
     },
     "execution_count": 154,
     "metadata": {},
     "output_type": "execute_result"
    }
   ],
   "source": [
    "rows = []\n",
    "for c in test_collections_cb:\n",
    "    d = compute_metrics_for_relations(c)\n",
    "    rows.append(d)\n",
    "pd.DataFrame(rows)"
   ]
  },
  {
   "cell_type": "code",
   "execution_count": 155,
   "metadata": {},
   "outputs": [
    {
     "data": {
      "text/html": [
       "<div>\n",
       "<style scoped>\n",
       "    .dataframe tbody tr th:only-of-type {\n",
       "        vertical-align: middle;\n",
       "    }\n",
       "\n",
       "    .dataframe tbody tr th {\n",
       "        vertical-align: top;\n",
       "    }\n",
       "\n",
       "    .dataframe thead th {\n",
       "        text-align: right;\n",
       "    }\n",
       "</style>\n",
       "<table border=\"1\" class=\"dataframe\">\n",
       "  <thead>\n",
       "    <tr style=\"text-align: right;\">\n",
       "      <th></th>\n",
       "      <th>algo</th>\n",
       "      <th>recall</th>\n",
       "      <th>precision</th>\n",
       "      <th>f1_score</th>\n",
       "      <th>accuracy</th>\n",
       "    </tr>\n",
       "  </thead>\n",
       "  <tbody>\n",
       "    <tr>\n",
       "      <td>0</td>\n",
       "      <td>Bidirectional RNN</td>\n",
       "      <td>0.797853</td>\n",
       "      <td>0.785903</td>\n",
       "      <td>0.791833</td>\n",
       "      <td>0.995436</td>\n",
       "    </tr>\n",
       "    <tr>\n",
       "      <td>1</td>\n",
       "      <td>Stacked Classifier</td>\n",
       "      <td>0.719141</td>\n",
       "      <td>0.816244</td>\n",
       "      <td>0.764622</td>\n",
       "      <td>0.995183</td>\n",
       "    </tr>\n",
       "    <tr>\n",
       "      <td>2</td>\n",
       "      <td>Shift-Reduce Parser</td>\n",
       "      <td>0.772809</td>\n",
       "      <td>0.808232</td>\n",
       "      <td>0.790123</td>\n",
       "      <td>0.995533</td>\n",
       "    </tr>\n",
       "  </tbody>\n",
       "</table>\n",
       "</div>"
      ],
      "text/plain": [
       "                  algo    recall  precision  f1_score  accuracy\n",
       "0    Bidirectional RNN  0.797853   0.785903  0.791833  0.995436\n",
       "1   Stacked Classifier  0.719141   0.816244  0.764622  0.995183\n",
       "2  Shift-Reduce Parser  0.772809   0.808232  0.790123  0.995533"
      ]
     },
     "execution_count": 155,
     "metadata": {},
     "output_type": "execute_result"
    }
   ],
   "source": [
    "rows = []\n",
    "for c in test_collections_sc:\n",
    "    d = compute_metrics_for_relations(c)\n",
    "    rows.append(d)\n",
    "pd.DataFrame(rows)"
   ]
  },
  {
   "cell_type": "markdown",
   "metadata": {},
   "source": [
    "# Essays Crel Stats"
   ]
  },
  {
   "cell_type": "code",
   "execution_count": 156,
   "metadata": {},
   "outputs": [
    {
     "data": {
      "text/plain": [
       "{'num_sents': 3457,\n",
       " 'num_sents_per_code': 69.14,\n",
       " 'num_wds': 39078,\n",
       " 'avg_span': 11.304020827306914,\n",
       " 'avg_df': 544.2884999232305}"
      ]
     },
     "execution_count": 156,
     "metadata": {},
     "output_type": "execute_result"
    }
   ],
   "source": [
    "get_crel_stats(cb_sent_by_tag, cb_docf, cb_val)"
   ]
  },
  {
   "cell_type": "code",
   "execution_count": 157,
   "metadata": {},
   "outputs": [
    {
     "data": {
      "text/plain": [
       "{'num_sents': 148,\n",
       " 'num_sents_per_code': 4.111111111111111,\n",
       " 'num_wds': 1639,\n",
       " 'avg_span': 11.074324324324325,\n",
       " 'avg_df': 498.88651616839536}"
      ]
     },
     "execution_count": 157,
     "metadata": {},
     "output_type": "execute_result"
    }
   ],
   "source": [
    "get_crel_stats(cb_sent_by_tag, cb_docf, cb_inv)"
   ]
  },
  {
   "cell_type": "code",
   "execution_count": 158,
   "metadata": {},
   "outputs": [
    {
     "data": {
      "text/plain": [
       "{'num_sents': 1833,\n",
       " 'num_sents_per_code': 152.75,\n",
       " 'num_wds': 20231,\n",
       " 'avg_span': 11.03709765411893,\n",
       " 'avg_df': 593.0471553556423}"
      ]
     },
     "execution_count": 158,
     "metadata": {},
     "output_type": "execute_result"
    }
   ],
   "source": [
    "get_crel_stats(cb_sent_by_tag, cb_docf, cb_50)"
   ]
  },
  {
   "cell_type": "code",
   "execution_count": 159,
   "metadata": {},
   "outputs": [
    {
     "data": {
      "text/plain": [
       "{'num_sents': 1352,\n",
       " 'num_sents_per_code': 112.66666666666667,\n",
       " 'num_wds': 15485,\n",
       " 'avg_span': 11.453402366863905,\n",
       " 'avg_df': 525.8340329350984}"
      ]
     },
     "execution_count": 159,
     "metadata": {},
     "output_type": "execute_result"
    }
   ],
   "source": [
    "get_crel_stats(cb_sent_by_tag, cb_docf, cb_adj)"
   ]
  },
  {
   "cell_type": "markdown",
   "metadata": {},
   "source": [
    "## Essay Crel Statistics"
   ]
  },
  {
   "cell_type": "code",
   "execution_count": 218,
   "metadata": {},
   "outputs": [],
   "source": [
    "def print_table_of_crels(collections, relns=None):    \n",
    "    metrics = defaultdict(dict)\n",
    "    for coll in collections:\n",
    "        rows = list(db[coll].find())\n",
    "        assert len(rows) == 1, coll\n",
    "        row = rows[0]\n",
    "        for k,val in row.items():\n",
    "            if \"->\" in k:\n",
    "                metrics[k][\"Crel\"] = k\n",
    "                metrics[k][coll2algo_shortname(coll)] = val[\"f1_score\"]                \n",
    "    df_perf = pd.DataFrame(metrics.values()).sort_values(\"Crel\")\n",
    "    df_perf[\"code1\"] = df_perf[\"Crel\"].apply(lambda s: int(s.replace(\"Causer:\",\"\").replace(\"Result:\",\"\").split(\"->\")[0].replace(\"b\",\"\")) )\n",
    "    df_perf[\"code2\"] = df_perf[\"Crel\"].apply(lambda s: int(s.replace(\"Causer:\",\"\").replace(\"Result:\",\"\").split(\"->\")[1].replace(\"b\",\"\")) )\n",
    "    df_perf = df_perf.sort_values([\"code1\",\"code2\"])\n",
    "    del df_perf[\"code1\"]\n",
    "    del df_perf[\"code2\"]\n",
    "    return df_perf"
   ]
  },
  {
   "cell_type": "code",
   "execution_count": 219,
   "metadata": {},
   "outputs": [
    {
     "data": {
      "text/html": [
       "<div>\n",
       "<style scoped>\n",
       "    .dataframe tbody tr th:only-of-type {\n",
       "        vertical-align: middle;\n",
       "    }\n",
       "\n",
       "    .dataframe tbody tr th {\n",
       "        vertical-align: top;\n",
       "    }\n",
       "\n",
       "    .dataframe thead th {\n",
       "        text-align: right;\n",
       "    }\n",
       "</style>\n",
       "<table border=\"1\" class=\"dataframe\">\n",
       "  <thead>\n",
       "    <tr style=\"text-align: right;\">\n",
       "      <th></th>\n",
       "      <th>Crel</th>\n",
       "      <th>RNN</th>\n",
       "      <th>Stacked</th>\n",
       "      <th>Parser</th>\n",
       "    </tr>\n",
       "  </thead>\n",
       "  <tbody>\n",
       "    <tr>\n",
       "      <td>77</td>\n",
       "      <td>Causer:1-&gt;Result:2</td>\n",
       "      <td>0.840000</td>\n",
       "      <td>0.666667</td>\n",
       "      <td>0.840000</td>\n",
       "    </tr>\n",
       "    <tr>\n",
       "      <td>2</td>\n",
       "      <td>Causer:1-&gt;Result:3</td>\n",
       "      <td>0.650602</td>\n",
       "      <td>0.590909</td>\n",
       "      <td>0.682353</td>\n",
       "    </tr>\n",
       "    <tr>\n",
       "      <td>9</td>\n",
       "      <td>Causer:1-&gt;Result:4</td>\n",
       "      <td>0.000000</td>\n",
       "      <td>0.000000</td>\n",
       "      <td>0.000000</td>\n",
       "    </tr>\n",
       "    <tr>\n",
       "      <td>23</td>\n",
       "      <td>Causer:1-&gt;Result:5</td>\n",
       "      <td>0.000000</td>\n",
       "      <td>0.000000</td>\n",
       "      <td>0.500000</td>\n",
       "    </tr>\n",
       "    <tr>\n",
       "      <td>57</td>\n",
       "      <td>Causer:1-&gt;Result:6</td>\n",
       "      <td>0.000000</td>\n",
       "      <td>0.000000</td>\n",
       "      <td>0.000000</td>\n",
       "    </tr>\n",
       "  </tbody>\n",
       "</table>\n",
       "</div>"
      ],
      "text/plain": [
       "                  Crel       RNN   Stacked    Parser\n",
       "77  Causer:1->Result:2  0.840000  0.666667  0.840000\n",
       "2   Causer:1->Result:3  0.650602  0.590909  0.682353\n",
       "9   Causer:1->Result:4  0.000000  0.000000  0.000000\n",
       "23  Causer:1->Result:5  0.000000  0.000000  0.500000\n",
       "57  Causer:1->Result:6  0.000000  0.000000  0.000000"
      ]
     },
     "execution_count": 219,
     "metadata": {},
     "output_type": "execute_result"
    }
   ],
   "source": [
    "df_perf_cb = print_table_of_crels(test_collections_cb)\n",
    "df_perf_cb.head()"
   ]
  },
  {
   "cell_type": "code",
   "execution_count": 220,
   "metadata": {},
   "outputs": [
    {
     "name": "stdout",
     "output_type": "stream",
     "text": [
      "1\\textrightarrow 2\t& 0.840 & 0.667 & 0.840 & 5\\textrightarrow 50\t& 0.667 & 0.308 & 0.667 \\\\\n",
      "1\\textrightarrow 3\t& 0.651 & 0.591 & 0.682 & 5b\\textrightarrow 50\t& 0.000 & 0.000 & 0.250 \\\\\n",
      "1\\textrightarrow 4\t& 0.000 & 0.000 & 0.000 & 6\\textrightarrow 5\t& 0.000 & 0.000 & 1.000 \\\\\n",
      "1\\textrightarrow 5\t& 0.000 & 0.000 & 0.500 & 6\\textrightarrow 5b\t& 0.000 & 0.000 & 0.000 \\\\\n",
      "1\\textrightarrow 6\t& 0.000 & 0.000 & 0.000 & 6\\textrightarrow 7\t& 0.844 & 0.863 & 0.894 \\\\\n",
      "1\\textrightarrow 7\t& 0.000 & 0.000 & 0.333 & 6\\textrightarrow 14\t& 0.333 & 0.444 & 0.519 \\\\\n",
      "1\\textrightarrow 11\t& 0.000 & 0.000 & 0.000 & 6\\textrightarrow 50\t& 0.455 & 0.737 & 0.750 \\\\\n",
      "1\\textrightarrow 13\t& 0.000 & 0.000 & 0.000 & 7\\textrightarrow 1\t& 0.000 & 0.000 & 0.000 \\\\\n",
      "1\\textrightarrow 14\t& 0.000 & 0.000 & 0.000 & 7\\textrightarrow 4\t& 0.000 & 0.000 & 0.000 \\\\\n",
      "1\\textrightarrow 50\t& 0.809 & 0.788 & 0.822 & 7\\textrightarrow 5\t& 0.000 & 0.000 & 0.000 \\\\\n",
      "2\\textrightarrow 1\t& 0.000 & 0.000 & 0.000 & 7\\textrightarrow 5b\t& 0.000 & 0.000 & 0.000 \\\\\n",
      "2\\textrightarrow 3\t& 0.583 & 0.640 & 0.615 & 7\\textrightarrow 13\t& 0.000 & 0.000 & 0.000 \\\\\n",
      "2\\textrightarrow 6\t& 0.000 & 0.000 & 0.000 & 7\\textrightarrow 14\t& 0.000 & 0.000 & 0.000 \\\\\n",
      "2\\textrightarrow 50\t& 0.000 & 0.000 & 0.750 & 7\\textrightarrow 50\t& 0.798 & 0.788 & 0.783 \\\\\n",
      "3\\textrightarrow 1\t& 0.000 & 0.000 & 0.500 & 11\\textrightarrow 3\t& 0.000 & 0.000 & 0.000 \\\\\n",
      "3\\textrightarrow 2\t& 0.000 & 0.000 & 0.000 & 11\\textrightarrow 4\t& 0.000 & 0.000 & 0.500 \\\\\n",
      "3\\textrightarrow 4\t& 0.852 & 0.923 & 0.868 & 11\\textrightarrow 6\t& 0.000 & 0.000 & 0.000 \\\\\n",
      "3\\textrightarrow 5\t& 0.769 & 0.683 & 0.744 & 11\\textrightarrow 11\t& 0.000 & 0.000 & 0.000 \\\\\n",
      "3\\textrightarrow 5b\t& 0.000 & 0.000 & 0.000 & 11\\textrightarrow 12\t& 0.778 & 0.778 & 0.824 \\\\\n",
      "3\\textrightarrow 6\t& 0.667 & 0.000 & 0.000 & 11\\textrightarrow 13\t& 0.595 & 0.737 & 0.791 \\\\\n",
      "3\\textrightarrow 7\t& 0.500 & 0.333 & 0.500 & 11\\textrightarrow 14\t& 0.400 & 0.000 & 0.545 \\\\\n",
      "3\\textrightarrow 13\t& 0.000 & 0.000 & 0.000 & 11\\textrightarrow 50\t& 0.522 & 0.720 & 0.750 \\\\\n",
      "3\\textrightarrow 14\t& 0.000 & 0.000 & 0.000 & 12\\textrightarrow 5b\t& 0.000 & 0.000 & 0.000 \\\\\n",
      "3\\textrightarrow 50\t& 0.591 & 0.752 & 0.774 & 12\\textrightarrow 7\t& 0.000 & 0.000 & 0.000 \\\\\n",
      "4\\textrightarrow 3\t& 0.000 & 0.000 & 0.000 & 12\\textrightarrow 11\t& 0.000 & 0.000 & 0.000 \\\\\n",
      "4\\textrightarrow 5\t& 0.722 & 0.778 & 0.739 & 12\\textrightarrow 13\t& 0.696 & 0.957 & 0.870 \\\\\n",
      "4\\textrightarrow 5b\t& 0.000 & 0.000 & 0.000 & 12\\textrightarrow 14\t& 0.000 & 0.000 & 1.000 \\\\\n",
      "4\\textrightarrow 6\t& 0.000 & 0.000 & 0.000 & 12\\textrightarrow 50\t& 1.000 & 0.000 & 0.000 \\\\\n",
      "4\\textrightarrow 7\t& 0.000 & 0.000 & 0.500 & 13\\textrightarrow 4\t& 0.000 & 0.000 & 0.000 \\\\\n",
      "4\\textrightarrow 11\t& 0.000 & 0.000 & 0.000 & 13\\textrightarrow 5\t& 0.000 & 0.000 & 0.000 \\\\\n",
      "4\\textrightarrow 13\t& 0.000 & 0.000 & 0.000 & 13\\textrightarrow 6\t& 0.000 & 0.000 & 1.000 \\\\\n",
      "4\\textrightarrow 14\t& 0.600 & 0.824 & 0.842 & 13\\textrightarrow 7\t& 0.000 & 0.000 & 0.000 \\\\\n",
      "4\\textrightarrow 50\t& 0.514 & 0.615 & 0.600 & 13\\textrightarrow 11\t& 0.000 & 0.000 & 0.000 \\\\\n",
      "5\\textrightarrow 3\t& 0.000 & 0.000 & 0.000 & 13\\textrightarrow 12\t& 0.000 & 0.000 & 0.000 \\\\\n",
      "5\\textrightarrow 4\t& 0.000 & 0.000 & 0.000 & 13\\textrightarrow 14\t& 0.700 & 0.923 & 0.880 \\\\\n",
      "5\\textrightarrow 5b\t& 0.286 & 0.000 & 0.286 & 13\\textrightarrow 50\t& 0.421 & 0.483 & 0.522 \\\\\n",
      "5b\\textrightarrow 5\t& 0.000 & 0.000 & 0.000 & 14\\textrightarrow 6\t& 0.000 & 0.000 & 0.000 \\\\\n",
      "5\\textrightarrow 7\t& 0.000 & 0.000 & 0.800 & 14\\textrightarrow 7\t& 0.000 & 0.000 & 0.000 \\\\\n",
      "5b\\textrightarrow 7\t& 0.000 & 0.000 & 0.000 & 14\\textrightarrow 50\t& 0.471 & 0.533 & 0.545 \\\\\n",
      "5\\textrightarrow 11\t& 0.000 & 0.000 & 0.000 & 50\\textrightarrow 1\t& 0.000 & 0.000 & 0.000 \\\\\n",
      "5\\textrightarrow 13\t& 0.000 & 0.000 & 0.000 & 50\\textrightarrow 3\t& 0.000 & 0.000 & 0.000 \\\\\n",
      "5\\textrightarrow 14\t& 0.000 & 0.000 & 0.000 & 50\\textrightarrow 7\t& 0.000 & 0.000 & 0.000 \\\\\n",
      "5b\\textrightarrow 14\t& 0.000 & 0.000 & 0.000 & 50\\textrightarrow 50\t& 0.000 & 0.000 & 0.000 \\\\\n"
     ]
    }
   ],
   "source": [
    "tpls = list(df_perf_cb.itertuples())\n",
    "size = len(tpls)//2\n",
    "for tpl, tpl2 in zip(tpls[:size],tpls[size:]):\n",
    "    crel = tpl.Crel.replace(\"->\",\"\\\\textrightarrow \").replace(\"Causer:\",\"\").replace(\"Result:\",\"\")\n",
    "    crel2 = tpl2.Crel.replace(\"->\",\"\\\\textrightarrow \").replace(\"Causer:\",\"\").replace(\"Result:\",\"\")\n",
    "    print(f\"{crel}\\t& {tpl.RNN:.3f} & {tpl.Stacked:.3f} & {tpl.Parser:.3f} & {crel2}\\t& {tpl2.RNN:.3f} & {tpl2.Stacked:.3f} & {tpl2.Parser:.3f} \\\\\\\\\")"
   ]
  },
  {
   "cell_type": "code",
   "execution_count": 223,
   "metadata": {},
   "outputs": [
    {
     "data": {
      "text/html": [
       "<div>\n",
       "<style scoped>\n",
       "    .dataframe tbody tr th:only-of-type {\n",
       "        vertical-align: middle;\n",
       "    }\n",
       "\n",
       "    .dataframe tbody tr th {\n",
       "        vertical-align: top;\n",
       "    }\n",
       "\n",
       "    .dataframe thead th {\n",
       "        text-align: right;\n",
       "    }\n",
       "</style>\n",
       "<table border=\"1\" class=\"dataframe\">\n",
       "  <thead>\n",
       "    <tr style=\"text-align: right;\">\n",
       "      <th></th>\n",
       "      <th>Crel</th>\n",
       "      <th>RNN</th>\n",
       "      <th>Stacked</th>\n",
       "      <th>Parser</th>\n",
       "    </tr>\n",
       "  </thead>\n",
       "  <tbody>\n",
       "    <tr>\n",
       "      <td>44</td>\n",
       "      <td>Causer:1-&gt;Result:2</td>\n",
       "      <td>0.841629</td>\n",
       "      <td>0.811966</td>\n",
       "      <td>0.854545</td>\n",
       "    </tr>\n",
       "    <tr>\n",
       "      <td>40</td>\n",
       "      <td>Causer:1-&gt;Result:3</td>\n",
       "      <td>0.812500</td>\n",
       "      <td>0.692308</td>\n",
       "      <td>0.800000</td>\n",
       "    </tr>\n",
       "    <tr>\n",
       "      <td>4</td>\n",
       "      <td>Causer:1-&gt;Result:4</td>\n",
       "      <td>0.000000</td>\n",
       "      <td>0.000000</td>\n",
       "      <td>0.000000</td>\n",
       "    </tr>\n",
       "    <tr>\n",
       "      <td>21</td>\n",
       "      <td>Causer:1-&gt;Result:5</td>\n",
       "      <td>0.666667</td>\n",
       "      <td>0.000000</td>\n",
       "      <td>0.000000</td>\n",
       "    </tr>\n",
       "    <tr>\n",
       "      <td>42</td>\n",
       "      <td>Causer:1-&gt;Result:50</td>\n",
       "      <td>0.747368</td>\n",
       "      <td>0.725146</td>\n",
       "      <td>0.814815</td>\n",
       "    </tr>\n",
       "  </tbody>\n",
       "</table>\n",
       "</div>"
      ],
      "text/plain": [
       "                   Crel       RNN   Stacked    Parser\n",
       "44   Causer:1->Result:2  0.841629  0.811966  0.854545\n",
       "40   Causer:1->Result:3  0.812500  0.692308  0.800000\n",
       "4    Causer:1->Result:4  0.000000  0.000000  0.000000\n",
       "21   Causer:1->Result:5  0.666667  0.000000  0.000000\n",
       "42  Causer:1->Result:50  0.747368  0.725146  0.814815"
      ]
     },
     "execution_count": 223,
     "metadata": {},
     "output_type": "execute_result"
    }
   ],
   "source": [
    "df_perf_sc = print_table_of_crels(test_collections_sc)\n",
    "df_perf_sc.head()"
   ]
  },
  {
   "cell_type": "code",
   "execution_count": 224,
   "metadata": {},
   "outputs": [
    {
     "data": {
      "text/plain": [
       "49"
      ]
     },
     "execution_count": 224,
     "metadata": {},
     "output_type": "execute_result"
    }
   ],
   "source": [
    "len(df_perf_sc)"
   ]
  },
  {
   "cell_type": "code",
   "execution_count": 226,
   "metadata": {},
   "outputs": [
    {
     "name": "stdout",
     "output_type": "stream",
     "text": [
      "1\\textrightarrow 2\t& 0.842 & 0.812 & 0.855 & 5\\textrightarrow 4\t& 0.372 & 0.000 & 0.400 \\\\\n",
      "1\\textrightarrow 3\t& 0.812 & 0.692 & 0.800 & 5\\textrightarrow 5\t& 0.000 & 0.000 & 0.000 \\\\\n",
      "1\\textrightarrow 4\t& 0.000 & 0.000 & 0.000 & 5\\textrightarrow 6\t& 0.878 & 0.881 & 0.867 \\\\\n",
      "1\\textrightarrow 5\t& 0.667 & 0.000 & 0.000 & 5\\textrightarrow 12\t& 0.000 & 0.000 & 0.000 \\\\\n",
      "1\\textrightarrow 50\t& 0.747 & 0.725 & 0.815 & 5\\textrightarrow 50\t& 0.852 & 0.843 & 0.847 \\\\\n",
      "2\\textrightarrow 1\t& 0.000 & 0.000 & 0.000 & 6\\textrightarrow 3\t& 0.000 & 0.000 & 0.000 \\\\\n",
      "2\\textrightarrow 2\t& 0.000 & 0.000 & 0.000 & 6\\textrightarrow 4\t& 0.000 & 0.000 & 0.000 \\\\\n",
      "2\\textrightarrow 3\t& 0.804 & 0.757 & 0.785 & 6\\textrightarrow 5\t& 0.000 & 0.000 & 0.500 \\\\\n",
      "2\\textrightarrow 4\t& 0.500 & 0.533 & 0.267 & 6\\textrightarrow 50\t& 0.912 & 0.876 & 0.876 \\\\\n",
      "2\\textrightarrow 5\t& 0.605 & 0.333 & 0.357 & 11\\textrightarrow 3\t& 0.000 & 0.000 & 0.000 \\\\\n",
      "2\\textrightarrow 6\t& 0.000 & 0.000 & 0.000 & 11\\textrightarrow 4\t& 0.000 & 0.000 & 0.000 \\\\\n",
      "2\\textrightarrow 11\t& 0.000 & 0.000 & 0.000 & 11\\textrightarrow 5\t& 0.000 & 0.000 & 0.000 \\\\\n",
      "2\\textrightarrow 50\t& 0.818 & 0.701 & 0.769 & 11\\textrightarrow 12\t& 0.808 & 0.809 & 0.800 \\\\\n",
      "3\\textrightarrow 2\t& 0.000 & 0.000 & 0.000 & 11\\textrightarrow 50\t& 0.667 & 0.632 & 0.571 \\\\\n",
      "3\\textrightarrow 4\t& 0.835 & 0.867 & 0.909 & 12\\textrightarrow 2\t& 0.400 & 0.000 & 0.000 \\\\\n",
      "3\\textrightarrow 5\t& 0.444 & 0.400 & 0.400 & 12\\textrightarrow 3\t& 0.825 & 0.774 & 0.840 \\\\\n",
      "3\\textrightarrow 6\t& 0.500 & 0.444 & 0.500 & 12\\textrightarrow 4\t& 0.000 & 0.000 & 0.000 \\\\\n",
      "3\\textrightarrow 11\t& 0.000 & 0.000 & 0.000 & 12\\textrightarrow 5\t& 0.000 & 0.000 & 0.000 \\\\\n",
      "3\\textrightarrow 50\t& 0.746 & 0.742 & 0.753 & 12\\textrightarrow 12\t& 0.000 & 0.000 & 0.000 \\\\\n",
      "4\\textrightarrow 4\t& 0.000 & 0.000 & 0.000 & 12\\textrightarrow 50\t& 0.250 & 0.000 & 0.286 \\\\\n",
      "4\\textrightarrow 5\t& 0.881 & 0.792 & 0.845 & 50\\textrightarrow 2\t& 0.000 & 0.000 & 0.000 \\\\\n",
      "4\\textrightarrow 6\t& 0.222 & 0.000 & 0.000 & 50\\textrightarrow 3\t& 0.000 & 0.000 & 0.000 \\\\\n",
      "4\\textrightarrow 11\t& 0.000 & 0.000 & 0.000 & 50\\textrightarrow 4\t& 0.000 & 0.000 & 0.000 \\\\\n",
      "4\\textrightarrow 12\t& 0.000 & 0.000 & 0.000 & 50\\textrightarrow 5\t& 0.000 & 0.000 & 0.000 \\\\\n",
      "4\\textrightarrow 50\t& 0.529 & 0.231 & 0.412 & 50\\textrightarrow 5\t& 0.000 & 0.000 & 0.000 \\\\\n"
     ]
    }
   ],
   "source": [
    "offset = 5\n",
    "tpls = list(df_perf_sc.itertuples())\n",
    "tpls = tpls + [tpls[-1]]\n",
    "size = (len(tpls)//2)\n",
    "for tpl, tpl2 in zip(tpls[:size],tpls[size:]):\n",
    "    crel = tpl.Crel.replace(\"->\",\"\\\\textrightarrow \").replace(\"Causer:\",\"\").replace(\"Result:\",\"\")\n",
    "    crel2 = tpl2.Crel.replace(\"->\",\"\\\\textrightarrow \").replace(\"Causer:\",\"\").replace(\"Result:\",\"\")\n",
    "    print(f\"{crel}\\t& {tpl.RNN:.3f} & {tpl.Stacked:.3f} & {tpl.Parser:.3f} & {crel2}\\t& {tpl2.RNN:.3f} & {tpl2.Stacked:.3f} & {tpl2.Parser:.3f} \\\\\\\\\")"
   ]
  },
  {
   "cell_type": "markdown",
   "metadata": {},
   "source": [
    "### Plot F1 By Crel Freq"
   ]
  },
  {
   "cell_type": "code",
   "execution_count": 285,
   "metadata": {},
   "outputs": [],
   "source": [
    "def get_f1s_freq(collection):\n",
    "    rows = list(db[collection].find())\n",
    "    assert len(rows) == 1, coll\n",
    "    row = rows[0]\n",
    "    f1s = []\n",
    "    freqs = []\n",
    "    metrics\n",
    "    for k,val in row.items():\n",
    "        if \"->\" in k:\n",
    "            f1s.append(val[\"f1_score\"])\n",
    "            freqs.append(val[\"num_codes\"])\n",
    "#     return f1s, np.log1p(freqs)\n",
    "    return f1s, freqs"
   ]
  },
  {
   "cell_type": "code",
   "execution_count": 286,
   "metadata": {},
   "outputs": [
    {
     "data": {
      "text/plain": [
       "['TEST_CR_CB_TAGGING_VD_MOST_COMMON_TAG_RNN',\n",
       " 'TEST_CR_CB_STACKED_VD',\n",
       " 'TEST_CR_CB_SHIFT_REDUCE_PARSER_TEMPLATED_VD']"
      ]
     },
     "execution_count": 286,
     "metadata": {},
     "output_type": "execute_result"
    }
   ],
   "source": [
    "test_collections_cb"
   ]
  },
  {
   "cell_type": "code",
   "execution_count": 287,
   "metadata": {},
   "outputs": [],
   "source": [
    "def set_tick_font_size(ax, fs):\n",
    "    for tick in ax.xaxis.get_major_ticks():\n",
    "        tick.label.set_fontsize(fs) \n",
    "    for tick in ax.yaxis.get_major_ticks():\n",
    "        tick.label.set_fontsize(fs) "
   ]
  },
  {
   "cell_type": "code",
   "execution_count": 311,
   "metadata": {},
   "outputs": [
    {
     "data": {
      "image/png": "[encoded data removed]",
      "text/plain": [
       "<Figure size 1440x720 with 1 Axes>"
      ]
     },
     "metadata": {
      "needs_background": "light"
     },
     "output_type": "display_data"
    }
   ],
   "source": [
    "import seaborn as sns\n",
    "import matplotlib.ticker as plticker\n",
    "\n",
    "FONT_SIZE = 28\n",
    "\n",
    "rnn_f1, rnn_freq = get_f1s_freq(\"TEST_CR_CB_TAGGING_VD_MOST_COMMON_TAG_RNN\")\n",
    "stacked_f1, stacked_freq = get_f1s_freq(\"TEST_CR_CB_STACKED_VD\")\n",
    "parser_f1, parser_freq = get_f1s_freq(\"TEST_CR_CB_SHIFT_REDUCE_PARSER_TEMPLATED_VD\")\n",
    "\n",
    "fig = plt.figure()\n",
    "fig.set_figheight(10)\n",
    "fig.set_figwidth(20)\n",
    "ax = fig.add_subplot(111)\n",
    "\n",
    "# set x axis tick interval\n",
    "loc = plticker.MultipleLocator(base=10.0) # this locator puts ticks at regular intervals\n",
    "ax.xaxis.set_major_locator(loc)\n",
    "\n",
    "ax.set_ylabel('F1 Score',            fontsize=FONT_SIZE)\n",
    "ax.set_xlabel('Number of Examples',  fontsize=FONT_SIZE)\n",
    "set_tick_font_size(ax, FONT_SIZE-2)\n",
    "\n",
    "ax.scatter(rnn_freq,     rnn_f1,     c='b', marker=\"o\", label='Bidirectional RNN')\n",
    "ax.scatter(stacked_freq, stacked_f1, c='r', marker=\"o\", label='Stacked Classifier')\n",
    "ax.scatter(parser_freq,  parser_f1,  c='g', marker=\"o\", label='Shift-Reduce Parser')\n",
    "# ax.set_facecolor('1') # set background white\n",
    "\n",
    "plt.legend(loc='lower right', fontsize=FONT_SIZE);\n",
    "\n",
    "plt.show()"
   ]
  },
  {
   "cell_type": "markdown",
   "metadata": {},
   "source": [
    "## Number of 0 F1 Scores"
   ]
  },
  {
   "cell_type": "code",
   "execution_count": 298,
   "metadata": {},
   "outputs": [
    {
     "data": {
      "text/plain": [
       "50"
      ]
     },
     "execution_count": 298,
     "metadata": {},
     "output_type": "execute_result"
    }
   ],
   "source": [
    "len([i for i in parser_f1 if i == 0.0])"
   ]
  },
  {
   "cell_type": "code",
   "execution_count": 299,
   "metadata": {},
   "outputs": [
    {
     "data": {
      "text/plain": [
       "59"
      ]
     },
     "execution_count": 299,
     "metadata": {},
     "output_type": "execute_result"
    }
   ],
   "source": [
    "len([i for i in rnn_f1 if i == 0.0])"
   ]
  },
  {
   "cell_type": "code",
   "execution_count": 300,
   "metadata": {},
   "outputs": [
    {
     "data": {
      "text/plain": [
       "63"
      ]
     },
     "execution_count": 300,
     "metadata": {},
     "output_type": "execute_result"
    }
   ],
   "source": [
    "len([i for i in stacked_f1 if i == 0.0])"
   ]
  },
  {
   "cell_type": "markdown",
   "metadata": {},
   "source": [
    "## Skin Cancer"
   ]
  },
  {
   "cell_type": "code",
   "execution_count": 314,
   "metadata": {},
   "outputs": [
    {
     "data": {
      "image/png": "[encoded data removed]",
      "text/plain": [
       "<Figure size 1440x720 with 1 Axes>"
      ]
     },
     "metadata": {
      "needs_background": "light"
     },
     "output_type": "display_data"
    }
   ],
   "source": [
    "import seaborn as sns\n",
    "import matplotlib.ticker as plticker\n",
    "\n",
    "FONT_SIZE = 28\n",
    "\n",
    "rnn_f1, rnn_freq = get_f1s_freq(\"TEST_CR_SC_TAGGING_VD_MOST_COMMON_TAG_RNN\")\n",
    "stacked_f1, stacked_freq = get_f1s_freq(\"TEST_CR_SC_STACKED_VD\")\n",
    "parser_f1, parser_freq = get_f1s_freq(\"TEST_CR_SC_SHIFT_REDUCE_PARSER_TEMPLATED_VD\")\n",
    "\n",
    "fig = plt.figure()\n",
    "fig.set_figheight(10)\n",
    "fig.set_figwidth(20)\n",
    "ax = fig.add_subplot(111)\n",
    "\n",
    "# set x axis tick interval\n",
    "loc = plticker.MultipleLocator(base=10.0) # this locator puts ticks at regular intervals\n",
    "ax.xaxis.set_major_locator(loc)\n",
    "\n",
    "ax.set_ylabel('F1 Score',            fontsize=FONT_SIZE)\n",
    "ax.set_xlabel('Number of Examples',  fontsize=FONT_SIZE)\n",
    "\n",
    "set_tick_font_size(ax, FONT_SIZE-2)\n",
    "\n",
    "ax.scatter(rnn_freq,     rnn_f1,     c='b', marker=\"o\", label='Bidirectional RNN')\n",
    "ax.scatter(stacked_freq, stacked_f1, c='r', marker=\"o\", label='Stacked Classifier')\n",
    "ax.scatter(parser_freq,  parser_f1,  c='g', marker=\"o\", label='Shift-Reduce Parser')\n",
    "\n",
    "ax.set_xlim([-5, max(parser_freq)+5 ])\n",
    "# ax.set_facecolor('1') # set background white\n",
    "\n",
    "plt.legend(loc='lower right', fontsize=FONT_SIZE);\n",
    "\n",
    "plt.show()"
   ]
  },
  {
   "cell_type": "code",
   "execution_count": null,
   "metadata": {},
   "outputs": [],
   "source": []
  }
 ],
 "metadata": {
  "anaconda-cloud": {},
  "kernelspec": {
   "display_name": "Python [conda env:phd_py36]",
   "language": "python",
   "name": "conda-env-phd_py36-py"
  },
  "language_info": {
   "codemirror_mode": {
    "name": "ipython",
    "version": 3
   },
   "file_extension": ".py",
   "mimetype": "text/x-python",
   "name": "python",
   "nbconvert_exporter": "python",
   "pygments_lexer": "ipython3",
   "version": "3.6.2"
  }
 },
 "nbformat": 4,
 "nbformat_minor": 2
}
