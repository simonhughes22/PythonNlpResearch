{
 "cells": [
  {
   "cell_type": "code",
   "execution_count": 1,
   "metadata": {},
   "outputs": [],
   "source": [
    "!export PYTHONPATH='/Users/simon.hughes/GitHub/NlpResearch/PythonNlpResearch/PythonNlpResearch:/Users/simon.hughes/GitHub/NlpResearch/PythonNlpResearch/Calculations:/Users/simon.hughes/GitHub/NlpResearch/PythonNlpResearch/Classifiers:/Users/simon.hughes/GitHub/NlpResearch/PythonNlpResearch/Classifiers/RegEx:/Users/simon.hughes/GitHub/NlpResearch/PythonNlpResearch/Classifiers/Trees:/Users/simon.hughes/GitHub/NlpResearch/PythonNlpResearch/Clustering:/Users/simon.hughes/GitHub/NlpResearch/PythonNlpResearch/CodeGen:/Users/simon.hughes/GitHub/NlpResearch/PythonNlpResearch/CollectionsHelper:/Users/simon.hughes/GitHub/NlpResearch/PythonNlpResearch/Data:/Users/simon.hughes/GitHub/NlpResearch/PythonNlpResearch/Data/Chicago:/Users/simon.hughes/GitHub/NlpResearch/PythonNlpResearch/Data/CoralBleaching:/Users/simon.hughes/GitHub/NlpResearch/PythonNlpResearch/Data/CoralBleachingWordTagger:/Users/simon.hughes/GitHub/NlpResearch/PythonNlpResearch/Data/SkinCancerWordTagger:/Users/simon.hughes/GitHub/NlpResearch/PythonNlpResearch/Data/GlobalWarming:/Users/simon.hughes/GitHub/NlpResearch/PythonNlpResearch/Data/GlobalWarmingAnnotated:/Users/simon.hughes/GitHub/NlpResearch/PythonNlpResearch/Data/GoogleNGrams:/Users/simon.hughes/GitHub/NlpResearch/PythonNlpResearch/DeepLearning:/Users/simon.hughes/GitHub/NlpResearch/PythonNlpResearch/DeepLearning/DeepBeliefNetwork:/Users/simon.hughes/GitHub/NlpResearch/PythonNlpResearch/DeepLearning/Examples:/Users/simon.hughes/GitHub/NlpResearch/PythonNlpResearch/DeepLearning/Examples/DeepAutoEncoder:/Users/simon.hughes/GitHub/NlpResearch/PythonNlpResearch/DeepLearning/Examples/DeepAutoEncoder_MichaelNielsen:/Users/simon.hughes/GitHub/NlpResearch/PythonNlpResearch/DeepLearning/MyCode:/Users/simon.hughes/GitHub/NlpResearch/PythonNlpResearch/DeepLearning/MyCode/RecursiveAutoEncoder:/Users/simon.hughes/GitHub/NlpResearch/PythonNlpResearch/DeepLearning/WordVectors:/Users/simon.hughes/GitHub/NlpResearch/PythonNlpResearch/Experiments:/Users/simon.hughes/GitHub/NlpResearch/PythonNlpResearch/Experiments/Chicago:/Users/simon.hughes/GitHub/NlpResearch/PythonNlpResearch/Experiments/CoralBleaching:/Users/simon.hughes/GitHub/NlpResearch/PythonNlpResearch/Experiments/GlobalWarming:/Users/simon.hughes/GitHub/NlpResearch/PythonNlpResearch/Experiments/GlobalWarming/Causal:/Users/simon.hughes/GitHub/NlpResearch/PythonNlpResearch/Experiments/GlobalWarming/WordClustering:/Users/simon.hughes/GitHub/NlpResearch/PythonNlpResearch/FeatureExtraction/Text:/Users/simon.hughes/GitHub/NlpResearch/PythonNlpResearch/Frequency:/Users/simon.hughes/GitHub/NlpResearch/PythonNlpResearch/LanguageModel:/Users/simon.hughes/GitHub/NlpResearch/PythonNlpResearch/Results:/Users/simon.hughes/GitHub/NlpResearch/PythonNlpResearch/Tagging:/Users/simon.hughes/GitHub/NlpResearch/PythonNlpResearch/VectorSpace:/Users/simon.hughes/GitHub/NlpResearch/PythonNlpResearch/VectorSpace/WordVectors:/Users/simon.hughes/GitHub/NlpResearch/PythonNlpResearch/VectorSpace/WordVectors/Word2Vec:/Users/simon.hughes/GitHub/NlpResearch/PythonNlpResearch/_Scratch/Sub:/Users/simon.hughes/GitHub/NlpResearch/PythonNlpResearch:/Users/simon.hughes/GitHub/NlpResearch/PythonNlpResearch/Synonyms:/Users/simon.hughes/GitHub/NlpResearch/PythonNlpResearch/DeepLearning/MyCode/:/Users/simon.hughes/GitHub/NlpResearch/PythonNlpResearch/MontyLingua:/Users/simon.hughes/GitHub/NlpResearch/PythonNlpResearch/Experiments/CoralBleachingWordTagger/WindowBasedClassifier:/Users/simon.hughes/GitHub/NlpResearch/PythonNlpResearch/Experiments/Tagging:/Users/simon.hughes/GitHub/NlpResearch/PythonNlpResearch/Experiments/CoralBleachingWordTagger/DeepNN'"
   ]
  },
  {
   "cell_type": "code",
   "execution_count": 2,
   "metadata": {},
   "outputs": [],
   "source": [
    "%matplotlib inline\n",
    "import numpy as np\n",
    "import pandas as pd\n",
    "import matplotlib as mpl\n",
    "import matplotlib.pyplot as plt\n",
    "import seaborn as sns\n",
    "import pymongo\n",
    "from pprint import pprint"
   ]
  },
  {
   "cell_type": "code",
   "execution_count": 11,
   "metadata": {},
   "outputs": [],
   "source": [
    "import sys\n",
    "sys.path.append(\"/Users/simon.hughes/GitHub/NlpResearch/PythonNlpResearch/notebooks/Causal Model/src/\")\n",
    "from causal_model_features import CausalModelType, distance_between, is_forward_relation, build_cb_causal_model, build_sc_causal_model\n",
    "cb_mdl = build_cb_causal_model()\n",
    "sc_mdl = build_sc_causal_model()"
   ]
  },
  {
   "cell_type": "code",
   "execution_count": 3,
   "metadata": {},
   "outputs": [],
   "source": [
    "client = pymongo.MongoClient()\n",
    "db = client.metrics_causal"
   ]
  },
  {
   "cell_type": "code",
   "execution_count": 4,
   "metadata": {},
   "outputs": [],
   "source": [
    "def __precision__(tp, fp, fn):\n",
    "    if tp + fp <= 0:\n",
    "        return 0.0\n",
    "    return tp / (tp + fp)\n",
    "\n",
    "def __recall__(tp, fp, fn):\n",
    "    if tp + fn <= 0:\n",
    "        return 0.0\n",
    "    return tp / (tp + fn)\n",
    "\n",
    "def __f_beta__(r, p, beta):\n",
    "    if r + p <= 0.0:\n",
    "        return 0.0\n",
    "    beta_squared = beta * beta\n",
    "    #Harmonic mean\n",
    "    return ((1.0 + beta_squared) * r * p) / (beta_squared * (r + p))\n",
    "\n",
    "def rpf1a_from_tp_fp_tn_fn(tp, fp, tn, fn):\n",
    "    r = __recall__(tp, fp, fn)\n",
    "    p = __precision__(tp, fp, fn)\n",
    "    f1 = __f_beta__(r, p, 1.0)\n",
    "\n",
    "    a = (tp + tn) / (tp + fp + tn + fn)\n",
    "    return (r, p, f1, a)"
   ]
  },
  {
   "cell_type": "code",
   "execution_count": 41,
   "metadata": {},
   "outputs": [],
   "source": [
    "from collections import defaultdict, OrderedDict\n",
    "def coll2algo(coll):\n",
    "    if \"RNN\" in coll:\n",
    "        return \"RNN\"\n",
    "    if \"STACKED\" in coll:\n",
    "        return \"Stacking\"\n",
    "    if \"PARSER\" in coll:\n",
    "        return \"Parser\"\n",
    "    return \"\"\n",
    "\n",
    "def compute_metrics_for_relations(collection, relns=None):\n",
    "    rows = list(db[collection].find())\n",
    "    assert len(rows) == 1\n",
    "    row = rows[0]\n",
    "    tally = defaultdict(int)\n",
    "    for k,val in row.items():\n",
    "        if \"->\" in k and (not relns or k in relns):\n",
    "            for prop in \"tp,tn,fp,fn\".split(\",\"):\n",
    "                tally[prop] += val[prop]\n",
    "                \n",
    "    (rec, prec, f1, acc) = rpf1a_from_tp_fp_tn_fn(tally[\"tp\"],tally[\"fp\"],tally[\"tn\"],tally[\"fn\"])\n",
    "    return dict(OrderedDict({\n",
    "        \"algo\": coll2algo(collection),\n",
    "        \"recall\": rec,\n",
    "        \"precision\": prec,\n",
    "        \"f1_score\": f1,\n",
    "        \"accuracy\": acc\n",
    "    }))"
   ]
  },
  {
   "cell_type": "code",
   "execution_count": 42,
   "metadata": {},
   "outputs": [],
   "source": [
    "def round_data(df, places=3):\n",
    "    df_copy = df.copy()\n",
    "    fmt_str = \"{0:.\" + str(places) + \"f}\"\n",
    "    cols = set([v for v in df_copy.columns.values if \"micro_\" in v])\n",
    "    for c in cols:\n",
    "        df_copy[c] = df[c].apply(lambda d: fmt_str.format(d))  \n",
    "    return df_copy"
   ]
  },
  {
   "cell_type": "markdown",
   "metadata": {},
   "source": [
    "## Get All Crels"
   ]
  },
  {
   "cell_type": "code",
   "execution_count": 43,
   "metadata": {},
   "outputs": [
    {
     "data": {
      "text/plain": [
       "86"
      ]
     },
     "execution_count": 43,
     "metadata": {},
     "output_type": "execute_result"
    }
   ],
   "source": [
    "cb_crels = set()\n",
    "row = list(db[\"CR_CB_TAGGING_VD_MOST_COMMON_TAG_RNN\"].find())[0]\n",
    "for k,v in row.items():\n",
    "    if \"->\" in k:\n",
    "        cb_crels.add(k)\n",
    "len(cb_crels)"
   ]
  },
  {
   "cell_type": "code",
   "execution_count": 44,
   "metadata": {},
   "outputs": [
    {
     "data": {
      "text/plain": [
       "49"
      ]
     },
     "execution_count": 44,
     "metadata": {},
     "output_type": "execute_result"
    }
   ],
   "source": [
    "sc_crels = set()\n",
    "row = list(db[\"CR_SC_TAGGING_VD_MOST_COMMON_TAG_RNN\"].find())[0]\n",
    "for k,v in row.items():\n",
    "    if \"->\" in k:\n",
    "        sc_crels.add(k)\n",
    "len(sc_crels)"
   ]
  },
  {
   "cell_type": "code",
   "execution_count": 45,
   "metadata": {},
   "outputs": [
    {
     "data": {
      "text/plain": [
       "-1"
      ]
     },
     "execution_count": 45,
     "metadata": {},
     "output_type": "execute_result"
    }
   ],
   "source": [
    "from causal_model_features import __nodes_between__\n",
    "__nodes_between__(\"1\", \"11\", cb_mdl)"
   ]
  },
  {
   "cell_type": "code",
   "execution_count": 46,
   "metadata": {},
   "outputs": [],
   "source": [
    "def partition_rels(crels):\n",
    "    val = set()\n",
    "    inv = set()\n",
    "    to50 = set()\n",
    "    adj = set()\n",
    "    for crel in crels:\n",
    "        a,b = crel.replace(\"Causer:\",\"\").replace(\"Result:\",\"\").split(\"->\")\n",
    "        if is_forward_relation(a,b,cb_mdl):\n",
    "            if b == \"50\":\n",
    "                to50.add(crel)\n",
    "            if __nodes_between__(a,b, cb_mdl) == 1:\n",
    "                adj.add(crel)\n",
    "            val.add(crel)\n",
    "        else:\n",
    "            inv.add(crel)\n",
    "    return {\n",
    "        \"valid\": val, \"invalid\": inv, \n",
    "        \"to 50\": to50,\n",
    "        \"adjacent\": adj\n",
    "    }\n",
    "\n",
    "cb_part = partition_rels(cb_crels)\n",
    "sc_part = partition_rels(sc_crels)"
   ]
  },
  {
   "cell_type": "code",
   "execution_count": 47,
   "metadata": {},
   "outputs": [],
   "source": [
    "cb_collections = [\n",
    "    \"CR_CB_TAGGING_VD_MOST_COMMON_TAG_RNN\", \n",
    "    \"CR_CB_STACKED_VD\",\n",
    "    \"CR_CB_SHIFT_REDUCE_PARSER_TEMPLATED_HYPER_PARAM_VD\"\n",
    "]\n",
    "test_collections_cb = [\"TEST_\" + c.replace(\"HYPER_PARAM_\",\"\") for c in cb_collections]\n",
    "test_collections_sc = [c.replace(\"_CB\",\"_SC\") for c in test_collections_cb]"
   ]
  },
  {
   "cell_type": "code",
   "execution_count": 54,
   "metadata": {},
   "outputs": [
    {
     "data": {
      "text/html": [
       "<div>\n",
       "<style scoped>\n",
       "    .dataframe tbody tr th:only-of-type {\n",
       "        vertical-align: middle;\n",
       "    }\n",
       "\n",
       "    .dataframe tbody tr th {\n",
       "        vertical-align: top;\n",
       "    }\n",
       "\n",
       "    .dataframe thead th {\n",
       "        text-align: right;\n",
       "    }\n",
       "</style>\n",
       "<table border=\"1\" class=\"dataframe\">\n",
       "  <thead>\n",
       "    <tr style=\"text-align: right;\">\n",
       "      <th></th>\n",
       "      <th>Partition</th>\n",
       "      <th>RNN</th>\n",
       "      <th>Stacking</th>\n",
       "      <th>Parser</th>\n",
       "    </tr>\n",
       "  </thead>\n",
       "  <tbody>\n",
       "    <tr>\n",
       "      <td>0</td>\n",
       "      <td>valid</td>\n",
       "      <td>0.688987</td>\n",
       "      <td>0.717489</td>\n",
       "      <td>0.746667</td>\n",
       "    </tr>\n",
       "    <tr>\n",
       "      <td>1</td>\n",
       "      <td>invalid</td>\n",
       "      <td>0.148148</td>\n",
       "      <td>0.242424</td>\n",
       "      <td>0.360656</td>\n",
       "    </tr>\n",
       "    <tr>\n",
       "      <td>2</td>\n",
       "      <td>to 50</td>\n",
       "      <td>0.686154</td>\n",
       "      <td>0.725240</td>\n",
       "      <td>0.750000</td>\n",
       "    </tr>\n",
       "    <tr>\n",
       "      <td>3</td>\n",
       "      <td>adjacent</td>\n",
       "      <td>0.778723</td>\n",
       "      <td>0.797441</td>\n",
       "      <td>0.799172</td>\n",
       "    </tr>\n",
       "  </tbody>\n",
       "</table>\n",
       "</div>"
      ],
      "text/plain": [
       "  Partition       RNN  Stacking    Parser\n",
       "0     valid  0.688987  0.717489  0.746667\n",
       "1   invalid  0.148148  0.242424  0.360656\n",
       "2     to 50  0.686154  0.725240  0.750000\n",
       "3  adjacent  0.778723  0.797441  0.799172"
      ]
     },
     "execution_count": 54,
     "metadata": {},
     "output_type": "execute_result"
    }
   ],
   "source": [
    "def analyze_performance_by_partition(part2relations, colls):\n",
    "    rows_by_parttn = defaultdict(dict)\n",
    "    for parttn, crels in part2relations.items():\n",
    "        for coll in colls:\n",
    "            metrics = compute_metrics_for_relations(coll, crels)\n",
    "            d = rows_by_parttn[parttn]\n",
    "            d[\"Partition\"] = parttn\n",
    "            d[metrics[\"algo\"]] = metrics[\"f1_score\"]\n",
    "    return pd.DataFrame(rows_by_parttn.values())\n",
    "\n",
    "analyze_performance_by_partition(cb_part, test_collections_cb)"
   ]
  },
  {
   "cell_type": "code",
   "execution_count": 55,
   "metadata": {},
   "outputs": [
    {
     "data": {
      "text/html": [
       "<div>\n",
       "<style scoped>\n",
       "    .dataframe tbody tr th:only-of-type {\n",
       "        vertical-align: middle;\n",
       "    }\n",
       "\n",
       "    .dataframe tbody tr th {\n",
       "        vertical-align: top;\n",
       "    }\n",
       "\n",
       "    .dataframe thead th {\n",
       "        text-align: right;\n",
       "    }\n",
       "</style>\n",
       "<table border=\"1\" class=\"dataframe\">\n",
       "  <thead>\n",
       "    <tr style=\"text-align: right;\">\n",
       "      <th></th>\n",
       "      <th>Partition</th>\n",
       "      <th>RNN</th>\n",
       "      <th>Stacking</th>\n",
       "      <th>Parser</th>\n",
       "    </tr>\n",
       "  </thead>\n",
       "  <tbody>\n",
       "    <tr>\n",
       "      <td>0</td>\n",
       "      <td>valid</td>\n",
       "      <td>0.804620</td>\n",
       "      <td>0.774584</td>\n",
       "      <td>0.798241</td>\n",
       "    </tr>\n",
       "    <tr>\n",
       "      <td>1</td>\n",
       "      <td>invalid</td>\n",
       "      <td>0.640000</td>\n",
       "      <td>0.600000</td>\n",
       "      <td>0.671429</td>\n",
       "    </tr>\n",
       "    <tr>\n",
       "      <td>2</td>\n",
       "      <td>to 50</td>\n",
       "      <td>0.808219</td>\n",
       "      <td>0.768817</td>\n",
       "      <td>0.798646</td>\n",
       "    </tr>\n",
       "    <tr>\n",
       "      <td>3</td>\n",
       "      <td>adjacent</td>\n",
       "      <td>0.836299</td>\n",
       "      <td>0.805604</td>\n",
       "      <td>0.843806</td>\n",
       "    </tr>\n",
       "  </tbody>\n",
       "</table>\n",
       "</div>"
      ],
      "text/plain": [
       "  Partition       RNN  Stacking    Parser\n",
       "0     valid  0.804620  0.774584  0.798241\n",
       "1   invalid  0.640000  0.600000  0.671429\n",
       "2     to 50  0.808219  0.768817  0.798646\n",
       "3  adjacent  0.836299  0.805604  0.843806"
      ]
     },
     "execution_count": 55,
     "metadata": {},
     "output_type": "execute_result"
    }
   ],
   "source": [
    "analyze_performance_by_partition(sc_part, test_collections_sc)"
   ]
  },
  {
   "cell_type": "code",
   "execution_count": 56,
   "metadata": {},
   "outputs": [
    {
     "data": {
      "text/html": [
       "<div>\n",
       "<style scoped>\n",
       "    .dataframe tbody tr th:only-of-type {\n",
       "        vertical-align: middle;\n",
       "    }\n",
       "\n",
       "    .dataframe tbody tr th {\n",
       "        vertical-align: top;\n",
       "    }\n",
       "\n",
       "    .dataframe thead th {\n",
       "        text-align: right;\n",
       "    }\n",
       "</style>\n",
       "<table border=\"1\" class=\"dataframe\">\n",
       "  <thead>\n",
       "    <tr style=\"text-align: right;\">\n",
       "      <th></th>\n",
       "      <th>algo</th>\n",
       "      <th>recall</th>\n",
       "      <th>precision</th>\n",
       "      <th>f1_score</th>\n",
       "      <th>accuracy</th>\n",
       "    </tr>\n",
       "  </thead>\n",
       "  <tbody>\n",
       "    <tr>\n",
       "      <td>0</td>\n",
       "      <td>RNN</td>\n",
       "      <td>0.656093</td>\n",
       "      <td>0.698046</td>\n",
       "      <td>0.676420</td>\n",
       "      <td>0.997720</td>\n",
       "    </tr>\n",
       "    <tr>\n",
       "      <td>1</td>\n",
       "      <td>Stacking</td>\n",
       "      <td>0.674457</td>\n",
       "      <td>0.735883</td>\n",
       "      <td>0.703833</td>\n",
       "      <td>0.997939</td>\n",
       "    </tr>\n",
       "    <tr>\n",
       "      <td>2</td>\n",
       "      <td>Parser</td>\n",
       "      <td>0.766277</td>\n",
       "      <td>0.693353</td>\n",
       "      <td>0.727994</td>\n",
       "      <td>0.997921</td>\n",
       "    </tr>\n",
       "  </tbody>\n",
       "</table>\n",
       "</div>"
      ],
      "text/plain": [
       "       algo    recall  precision  f1_score  accuracy\n",
       "0       RNN  0.656093   0.698046  0.676420  0.997720\n",
       "1  Stacking  0.674457   0.735883  0.703833  0.997939\n",
       "2    Parser  0.766277   0.693353  0.727994  0.997921"
      ]
     },
     "execution_count": 56,
     "metadata": {},
     "output_type": "execute_result"
    }
   ],
   "source": [
    "rows = []\n",
    "for c in test_collections_cb:\n",
    "    d = compute_metrics_for_relations(c)\n",
    "    rows.append(d)\n",
    "pd.DataFrame(rows)"
   ]
  },
  {
   "cell_type": "code",
   "execution_count": 9,
   "metadata": {},
   "outputs": [
    {
     "data": {
      "text/html": [
       "<div>\n",
       "<style scoped>\n",
       "    .dataframe tbody tr th:only-of-type {\n",
       "        vertical-align: middle;\n",
       "    }\n",
       "\n",
       "    .dataframe tbody tr th {\n",
       "        vertical-align: top;\n",
       "    }\n",
       "\n",
       "    .dataframe thead th {\n",
       "        text-align: right;\n",
       "    }\n",
       "</style>\n",
       "<table border=\"1\" class=\"dataframe\">\n",
       "  <thead>\n",
       "    <tr style=\"text-align: right;\">\n",
       "      <th></th>\n",
       "      <th>algo</th>\n",
       "      <th>recall</th>\n",
       "      <th>precision</th>\n",
       "      <th>f1_score</th>\n",
       "      <th>accuracy</th>\n",
       "    </tr>\n",
       "  </thead>\n",
       "  <tbody>\n",
       "    <tr>\n",
       "      <td>0</td>\n",
       "      <td>RNN</td>\n",
       "      <td>0.797853</td>\n",
       "      <td>0.785903</td>\n",
       "      <td>0.791833</td>\n",
       "      <td>0.995436</td>\n",
       "    </tr>\n",
       "    <tr>\n",
       "      <td>1</td>\n",
       "      <td>Stacked_Model</td>\n",
       "      <td>0.719141</td>\n",
       "      <td>0.816244</td>\n",
       "      <td>0.764622</td>\n",
       "      <td>0.995183</td>\n",
       "    </tr>\n",
       "    <tr>\n",
       "      <td>2</td>\n",
       "      <td>Parser</td>\n",
       "      <td>0.772809</td>\n",
       "      <td>0.808232</td>\n",
       "      <td>0.790123</td>\n",
       "      <td>0.995533</td>\n",
       "    </tr>\n",
       "  </tbody>\n",
       "</table>\n",
       "</div>"
      ],
      "text/plain": [
       "            algo    recall  precision  f1_score  accuracy\n",
       "0            RNN  0.797853   0.785903  0.791833  0.995436\n",
       "1  Stacked_Model  0.719141   0.816244  0.764622  0.995183\n",
       "2         Parser  0.772809   0.808232  0.790123  0.995533"
      ]
     },
     "execution_count": 9,
     "metadata": {},
     "output_type": "execute_result"
    }
   ],
   "source": [
    "rows = []\n",
    "for c in test_collections_sc:\n",
    "    d = compute_metrics_for_relations(c)\n",
    "    rows.append(d)\n",
    "pd.DataFrame(rows)"
   ]
  }
 ],
 "metadata": {
  "anaconda-cloud": {},
  "kernelspec": {
   "display_name": "Python [conda env:phd_py36]",
   "language": "python",
   "name": "conda-env-phd_py36-py"
  },
  "language_info": {
   "codemirror_mode": {
    "name": "ipython",
    "version": 3
   },
   "file_extension": ".py",
   "mimetype": "text/x-python",
   "name": "python",
   "nbconvert_exporter": "python",
   "pygments_lexer": "ipython3",
   "version": "3.6.2"
  }
 },
 "nbformat": 4,
 "nbformat_minor": 2
}
