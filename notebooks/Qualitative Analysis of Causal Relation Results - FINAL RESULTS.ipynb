{
 "cells": [
  {
   "cell_type": "code",
   "execution_count": 1,
   "metadata": {},
   "outputs": [],
   "source": [
    "!export PYTHONPATH='/Users/simon.hughes/GitHub/NlpResearch/PythonNlpResearch/PythonNlpResearch:/Users/simon.hughes/GitHub/NlpResearch/PythonNlpResearch/Calculations:/Users/simon.hughes/GitHub/NlpResearch/PythonNlpResearch/Classifiers:/Users/simon.hughes/GitHub/NlpResearch/PythonNlpResearch/Classifiers/RegEx:/Users/simon.hughes/GitHub/NlpResearch/PythonNlpResearch/Classifiers/Trees:/Users/simon.hughes/GitHub/NlpResearch/PythonNlpResearch/Clustering:/Users/simon.hughes/GitHub/NlpResearch/PythonNlpResearch/CodeGen:/Users/simon.hughes/GitHub/NlpResearch/PythonNlpResearch/CollectionsHelper:/Users/simon.hughes/GitHub/NlpResearch/PythonNlpResearch/Data:/Users/simon.hughes/GitHub/NlpResearch/PythonNlpResearch/Data/Chicago:/Users/simon.hughes/GitHub/NlpResearch/PythonNlpResearch/Data/CoralBleaching:/Users/simon.hughes/GitHub/NlpResearch/PythonNlpResearch/Data/CoralBleachingWordTagger:/Users/simon.hughes/GitHub/NlpResearch/PythonNlpResearch/Data/SkinCancerWordTagger:/Users/simon.hughes/GitHub/NlpResearch/PythonNlpResearch/Data/GlobalWarming:/Users/simon.hughes/GitHub/NlpResearch/PythonNlpResearch/Data/GlobalWarmingAnnotated:/Users/simon.hughes/GitHub/NlpResearch/PythonNlpResearch/Data/GoogleNGrams:/Users/simon.hughes/GitHub/NlpResearch/PythonNlpResearch/DeepLearning:/Users/simon.hughes/GitHub/NlpResearch/PythonNlpResearch/DeepLearning/DeepBeliefNetwork:/Users/simon.hughes/GitHub/NlpResearch/PythonNlpResearch/DeepLearning/Examples:/Users/simon.hughes/GitHub/NlpResearch/PythonNlpResearch/DeepLearning/Examples/DeepAutoEncoder:/Users/simon.hughes/GitHub/NlpResearch/PythonNlpResearch/DeepLearning/Examples/DeepAutoEncoder_MichaelNielsen:/Users/simon.hughes/GitHub/NlpResearch/PythonNlpResearch/DeepLearning/MyCode:/Users/simon.hughes/GitHub/NlpResearch/PythonNlpResearch/DeepLearning/MyCode/RecursiveAutoEncoder:/Users/simon.hughes/GitHub/NlpResearch/PythonNlpResearch/DeepLearning/WordVectors:/Users/simon.hughes/GitHub/NlpResearch/PythonNlpResearch/Experiments:/Users/simon.hughes/GitHub/NlpResearch/PythonNlpResearch/Experiments/Chicago:/Users/simon.hughes/GitHub/NlpResearch/PythonNlpResearch/Experiments/CoralBleaching:/Users/simon.hughes/GitHub/NlpResearch/PythonNlpResearch/Experiments/GlobalWarming:/Users/simon.hughes/GitHub/NlpResearch/PythonNlpResearch/Experiments/GlobalWarming/Causal:/Users/simon.hughes/GitHub/NlpResearch/PythonNlpResearch/Experiments/GlobalWarming/WordClustering:/Users/simon.hughes/GitHub/NlpResearch/PythonNlpResearch/FeatureExtraction/Text:/Users/simon.hughes/GitHub/NlpResearch/PythonNlpResearch/Frequency:/Users/simon.hughes/GitHub/NlpResearch/PythonNlpResearch/LanguageModel:/Users/simon.hughes/GitHub/NlpResearch/PythonNlpResearch/Results:/Users/simon.hughes/GitHub/NlpResearch/PythonNlpResearch/Tagging:/Users/simon.hughes/GitHub/NlpResearch/PythonNlpResearch/VectorSpace:/Users/simon.hughes/GitHub/NlpResearch/PythonNlpResearch/VectorSpace/WordVectors:/Users/simon.hughes/GitHub/NlpResearch/PythonNlpResearch/VectorSpace/WordVectors/Word2Vec:/Users/simon.hughes/GitHub/NlpResearch/PythonNlpResearch/_Scratch/Sub:/Users/simon.hughes/GitHub/NlpResearch/PythonNlpResearch:/Users/simon.hughes/GitHub/NlpResearch/PythonNlpResearch/Synonyms:/Users/simon.hughes/GitHub/NlpResearch/PythonNlpResearch/DeepLearning/MyCode/:/Users/simon.hughes/GitHub/NlpResearch/PythonNlpResearch/MontyLingua:/Users/simon.hughes/GitHub/NlpResearch/PythonNlpResearch/Experiments/CoralBleachingWordTagger/WindowBasedClassifier:/Users/simon.hughes/GitHub/NlpResearch/PythonNlpResearch/Experiments/Tagging:/Users/simon.hughes/GitHub/NlpResearch/PythonNlpResearch/Experiments/CoralBleachingWordTagger/DeepNN'"
   ]
  },
  {
   "cell_type": "code",
   "execution_count": 2,
   "metadata": {},
   "outputs": [],
   "source": [
    "%matplotlib inline\n",
    "import numpy as np\n",
    "import pandas as pd\n",
    "import matplotlib as mpl\n",
    "import matplotlib.pyplot as plt\n",
    "import seaborn as sns\n",
    "import pymongo\n",
    "from pprint import pprint"
   ]
  },
  {
   "cell_type": "code",
   "execution_count": 11,
   "metadata": {},
   "outputs": [],
   "source": [
    "import sys\n",
    "sys.path.append(\"/Users/simon.hughes/GitHub/NlpResearch/PythonNlpResearch/notebooks/Causal Model/src/\")\n",
    "from causal_model_features import CausalModelType, distance_between, is_forward_relation, build_cb_causal_model, build_sc_causal_model\n",
    "cb_mdl = build_cb_causal_model()\n",
    "sc_mdl = build_sc_causal_model()"
   ]
  },
  {
   "cell_type": "code",
   "execution_count": 3,
   "metadata": {},
   "outputs": [],
   "source": [
    "client = pymongo.MongoClient()\n",
    "db = client.metrics_causal"
   ]
  },
  {
   "cell_type": "code",
   "execution_count": 62,
   "metadata": {},
   "outputs": [
    {
     "name": "stdout",
     "output_type": "stream",
     "text": [
      "Results Dir: /Users/simon.hughes/Google Drive/Phd/Results/\n",
      "Data Dir:    /Users/simon.hughes/Google Drive/Phd/Data/\n",
      "Root Dir:    /Users/simon.hughes/GitHub/NlpResearch/\n",
      "Public Data: /Users/simon.hughes/GitHub/NlpResearch/Data/PublicDatasets/\n"
     ]
    },
    {
     "data": {
      "text/plain": [
       "1128"
      ]
     },
     "execution_count": 62,
     "metadata": {},
     "output_type": "execute_result"
    }
   ],
   "source": [
    "from Settings import Settings\n",
    "from window_based_tagger_config import get_config\n",
    "import dill\n",
    "\n",
    "settings = Settings()\n",
    "root_folder = settings.data_directory + \"CoralBleaching/Thesis_Dataset/\"\n",
    "rnn_predictions_folder = root_folder + \"Predictions/Bi-LSTM-4-SEARN/\"\n",
    "\n",
    "train_fname = rnn_predictions_folder + \"essays_train_bi_directional-True_hidden_size-256_merge_mode-sum_num_rnns-2_use_pretrained_embedding-True.dill\"\n",
    "with open(train_fname, \"rb\") as f:\n",
    "    pred_tagged_essays_train_cb = dill.load(f)\n",
    "\n",
    "test_fname = rnn_predictions_folder + \"essays_test_bi_directional-True_hidden_size-256_merge_mode-sum_num_rnns-2_use_pretrained_embedding-True.dill\"\n",
    "with open(test_fname, \"rb\") as f:\n",
    "    pred_tagged_essays_test_cb = dill.load(f)\n",
    "    \n",
    "cb_essays = pred_tagged_essays_train_cb + pred_tagged_essays_test_cb\n",
    "len(cb_essays)"
   ]
  },
  {
   "cell_type": "code",
   "execution_count": 63,
   "metadata": {},
   "outputs": [
    {
     "data": {
      "text/plain": [
       "1088"
      ]
     },
     "execution_count": 63,
     "metadata": {},
     "output_type": "execute_result"
    }
   ],
   "source": [
    "root_folder = settings.data_directory + \"SkinCancer/Thesis_Dataset/\"\n",
    "rnn_predictions_folder = root_folder + \"Predictions/Bi-LSTM-4-SEARN/\"\n",
    "\n",
    "train_fname = rnn_predictions_folder + \"essays_train_bi_directional-True_hidden_size-256_merge_mode-sum_num_rnns-2_use_pretrained_embedding-True.dill\"\n",
    "with open(train_fname, \"rb\") as f:\n",
    "    pred_tagged_essays_train_sc = dill.load(f)\n",
    "\n",
    "test_fname = rnn_predictions_folder + \"essays_test_bi_directional-True_hidden_size-256_merge_mode-sum_num_rnns-2_use_pretrained_embedding-True.dill\"\n",
    "with open(test_fname, \"rb\") as f:\n",
    "    pred_tagged_essays_test_sc = dill.load(f)\n",
    "    \n",
    "sc_essays = pred_tagged_essays_train_sc + pred_tagged_essays_test_sc\n",
    "len(sc_essays)"
   ]
  },
  {
   "cell_type": "code",
   "execution_count": 71,
   "metadata": {},
   "outputs": [
    {
     "data": {
      "text/plain": [
       "('.', set())"
      ]
     },
     "execution_count": 71,
     "metadata": {},
     "output_type": "execute_result"
    }
   ],
   "source": [
    "e = cb_essays[0]\n",
    "# for wd, tags in e.sentences:\n",
    "#     pass\n",
    "for s in e.sentences:\n",
    "    for wd, tags in s:\n",
    "        pass"
   ]
  },
  {
   "cell_type": "code",
   "execution_count": 356,
   "metadata": {},
   "outputs": [],
   "source": [
    "def get_sentences_per_tag(essays):\n",
    "    sentbytag = defaultdict(list)\n",
    "    for essay in essays:\n",
    "        for sent in essay.sentences:\n",
    "            tmp = defaultdict(list)\n",
    "            for wd,tags in sent:\n",
    "                for t in tags:\n",
    "                    tmp[t].append(wd)\n",
    "            for tag, wds in tmp.items():\n",
    "                sentbytag[tag].append(wds)\n",
    "    return sentbytag\n",
    "\n",
    "def get_doc_freq(essays):\n",
    "    df = defaultdict(int)\n",
    "    for essay in essays:\n",
    "        wds_in_e = set()\n",
    "        for sent in essay.sentences:\n",
    "            for wd,tags in sent:\n",
    "                wds_in_e.add(wd)\n",
    "        for wd in wds_in_e:\n",
    "            df[wd] += 1\n",
    "    return df\n",
    "\n",
    "cb_sent_by_tag = get_sentences_per_tag(cb_essays)\n",
    "cb_docf = get_doc_freq(cb_essays)\n",
    "\n",
    "sc_sent_by_tag = get_sentences_per_tag(sc_essays)\n",
    "sc_docf = get_doc_freq(sc_essays)"
   ]
  },
  {
   "cell_type": "code",
   "execution_count": 375,
   "metadata": {},
   "outputs": [],
   "source": [
    "def get_crel_stats(sent_by_tag, docf, code_filter, partition):\n",
    "    dfs = []\n",
    "    word_spans = []\n",
    "    unq_sents = set()\n",
    "    total_sents = 0 # non-unique\n",
    "    for code in code_filter:\n",
    "        sents = sent_by_tag[code]\n",
    "        total_sents += len(sents)\n",
    "        for sent in sents:\n",
    "            unq_sents.add(tuple(sent))\n",
    "            word_spans.append(len(sent))\n",
    "            for word in sent:\n",
    "                dfs.append(docf[word])\n",
    "    \n",
    "    num_sents = len(unq_sents)\n",
    "    num_wds = 0\n",
    "    for sent in unq_sents:\n",
    "        num_wds += len(sent)\n",
    "    \n",
    "    return {\n",
    "        \"Partition\": partition,\n",
    "#         \"num_unq_sents\": len(unq_sents),\n",
    "        \"num_sents_per_code\": total_sents/len(code_filter),\n",
    "#         \"num_wds\": num_wds,\n",
    "        \"avg_span\": np.mean(word_spans),\n",
    "        \"avg_df\": np.mean(dfs)\n",
    "    }"
   ]
  },
  {
   "cell_type": "code",
   "execution_count": 4,
   "metadata": {},
   "outputs": [],
   "source": [
    "def __precision__(tp, fp, fn):\n",
    "    if tp + fp <= 0:\n",
    "        return 0.0\n",
    "    return tp / (tp + fp)\n",
    "\n",
    "def __recall__(tp, fp, fn):\n",
    "    if tp + fn <= 0:\n",
    "        return 0.0\n",
    "    return tp / (tp + fn)\n",
    "\n",
    "def __f_beta__(r, p, beta):\n",
    "    if r + p <= 0.0:\n",
    "        return 0.0\n",
    "    beta_squared = beta * beta\n",
    "    #Harmonic mean\n",
    "    return ((1.0 + beta_squared) * r * p) / (beta_squared * (r + p))\n",
    "\n",
    "def rpf1a_from_tp_fp_tn_fn(tp, fp, tn, fn):\n",
    "    r = __recall__(tp, fp, fn)\n",
    "    p = __precision__(tp, fp, fn)\n",
    "    f1 = __f_beta__(r, p, 1.0)\n",
    "\n",
    "    a = (tp + tn) / (tp + fp + tn + fn)\n",
    "    return (r, p, f1, a)"
   ]
  },
  {
   "cell_type": "code",
   "execution_count": 165,
   "metadata": {},
   "outputs": [],
   "source": [
    "from collections import defaultdict, OrderedDict\n",
    "\n",
    "def coll2algo(coll):\n",
    "    if \"RNN\" in coll:\n",
    "        return \"Bidirectional RNN\"\n",
    "    if \"STACKED\" in coll:\n",
    "        return \"Stacked Classifier\"\n",
    "    if \"PARSER\" in coll:\n",
    "        return \"Shift-Reduce Parser\"\n",
    "    return \"\"\n",
    "\n",
    "def coll2algo_shortname(coll):\n",
    "    if \"RNN\" in coll:\n",
    "        return \"RNN\"\n",
    "    if \"STACKED\" in coll:\n",
    "        return \"Stacked\"\n",
    "    if \"PARSER\" in coll:\n",
    "        return \"Parser\"\n",
    "    return \"\"\n",
    "\n",
    "def compute_metrics_for_relations(collection, relns=None):\n",
    "    rows = list(db[collection].find())\n",
    "    assert len(rows) == 1\n",
    "    row = rows[0]\n",
    "    tally = defaultdict(int)\n",
    "    for k,val in row.items():\n",
    "        if \"->\" in k and (not relns or k in relns):\n",
    "            for prop in \"tp,tn,fp,fn\".split(\",\"):\n",
    "                tally[prop] += val[prop]\n",
    "                \n",
    "    (rec, prec, f1, acc) = rpf1a_from_tp_fp_tn_fn(tally[\"tp\"],tally[\"fp\"],tally[\"tn\"],tally[\"fn\"])\n",
    "    return dict(OrderedDict({\n",
    "        \"algo\": coll2algo(collection),\n",
    "        \"recall\": rec,\n",
    "        \"precision\": prec,\n",
    "        \"f1_score\": f1,\n",
    "        \"accuracy\": acc\n",
    "    }))"
   ]
  },
  {
   "cell_type": "code",
   "execution_count": 146,
   "metadata": {},
   "outputs": [],
   "source": [
    "def round_data(df, places=3):\n",
    "    df_copy = df.copy()\n",
    "    fmt_str = \"{0:.\" + str(places) + \"f}\"\n",
    "    cols = set([v for v in df_copy.columns.values if \"micro_\" in v])\n",
    "    for c in cols:\n",
    "        df_copy[c] = df[c].apply(lambda d: fmt_str.format(d))  \n",
    "    return df_copy"
   ]
  },
  {
   "cell_type": "markdown",
   "metadata": {},
   "source": [
    "## Get All Crels"
   ]
  },
  {
   "cell_type": "code",
   "execution_count": 147,
   "metadata": {},
   "outputs": [
    {
     "data": {
      "text/plain": [
       "86"
      ]
     },
     "execution_count": 147,
     "metadata": {},
     "output_type": "execute_result"
    }
   ],
   "source": [
    "cb_crels = set()\n",
    "row = list(db[\"CR_CB_TAGGING_VD_MOST_COMMON_TAG_RNN\"].find())[0]\n",
    "for k,v in row.items():\n",
    "    if \"->\" in k:\n",
    "        cb_crels.add(k)\n",
    "len(cb_crels)"
   ]
  },
  {
   "cell_type": "code",
   "execution_count": 148,
   "metadata": {},
   "outputs": [
    {
     "data": {
      "text/plain": [
       "49"
      ]
     },
     "execution_count": 148,
     "metadata": {},
     "output_type": "execute_result"
    }
   ],
   "source": [
    "sc_crels = set()\n",
    "row = list(db[\"CR_SC_TAGGING_VD_MOST_COMMON_TAG_RNN\"].find())[0]\n",
    "for k,v in row.items():\n",
    "    if \"->\" in k:\n",
    "        sc_crels.add(k)\n",
    "len(sc_crels)"
   ]
  },
  {
   "cell_type": "code",
   "execution_count": 149,
   "metadata": {},
   "outputs": [
    {
     "data": {
      "text/plain": [
       "-1"
      ]
     },
     "execution_count": 149,
     "metadata": {},
     "output_type": "execute_result"
    }
   ],
   "source": [
    "from causal_model_features import __nodes_between__\n",
    "__nodes_between__(\"1\", \"11\", cb_mdl)"
   ]
  },
  {
   "cell_type": "code",
   "execution_count": 150,
   "metadata": {},
   "outputs": [],
   "source": [
    "def partition_rels(crels):\n",
    "    val = set()\n",
    "    inv = set()\n",
    "    to50 = set()\n",
    "    adj = set()\n",
    "    for crel in crels:\n",
    "        a,b = crel.replace(\"Causer:\",\"\").replace(\"Result:\",\"\").split(\"->\")\n",
    "        if is_forward_relation(a,b,cb_mdl):\n",
    "            if b == \"50\":\n",
    "                to50.add(crel)\n",
    "            if __nodes_between__(a,b, cb_mdl) == 1:\n",
    "                adj.add(crel)\n",
    "            val.add(crel)\n",
    "        else:\n",
    "            inv.add(crel)\n",
    "    return {\n",
    "        \"valid\": val, \"invalid\": inv, \n",
    "        \"to 50\": to50,\n",
    "        \"adjacent\": adj\n",
    "    }\n",
    "\n",
    "cb_part = partition_rels(cb_crels)\n",
    "sc_part = partition_rels(sc_crels)"
   ]
  },
  {
   "cell_type": "code",
   "execution_count": 151,
   "metadata": {},
   "outputs": [],
   "source": [
    "cb_collections = [\n",
    "    \"CR_CB_TAGGING_VD_MOST_COMMON_TAG_RNN\", \n",
    "    \"CR_CB_STACKED_VD\",\n",
    "    \"CR_CB_SHIFT_REDUCE_PARSER_TEMPLATED_HYPER_PARAM_VD\"\n",
    "]\n",
    "test_collections_cb = [\"TEST_\" + c.replace(\"HYPER_PARAM_\",\"\") for c in cb_collections]\n",
    "test_collections_sc = [c.replace(\"_CB\",\"_SC\") for c in test_collections_cb]"
   ]
  },
  {
   "cell_type": "code",
   "execution_count": 391,
   "metadata": {},
   "outputs": [
    {
     "data": {
      "text/html": [
       "<div>\n",
       "<style scoped>\n",
       "    .dataframe tbody tr th:only-of-type {\n",
       "        vertical-align: middle;\n",
       "    }\n",
       "\n",
       "    .dataframe tbody tr th {\n",
       "        vertical-align: top;\n",
       "    }\n",
       "\n",
       "    .dataframe thead th {\n",
       "        text-align: right;\n",
       "    }\n",
       "</style>\n",
       "<table border=\"1\" class=\"dataframe\">\n",
       "  <thead>\n",
       "    <tr style=\"text-align: right;\">\n",
       "      <th></th>\n",
       "      <th>Partition</th>\n",
       "      <th>Bidirectional RNN</th>\n",
       "      <th>Stacked Classifier</th>\n",
       "      <th>Shift-Reduce Parser</th>\n",
       "    </tr>\n",
       "  </thead>\n",
       "  <tbody>\n",
       "    <tr>\n",
       "      <td>0</td>\n",
       "      <td>valid</td>\n",
       "      <td>0.689</td>\n",
       "      <td>0.717</td>\n",
       "      <td>0.747</td>\n",
       "    </tr>\n",
       "    <tr>\n",
       "      <td>1</td>\n",
       "      <td>invalid</td>\n",
       "      <td>0.148</td>\n",
       "      <td>0.242</td>\n",
       "      <td>0.361</td>\n",
       "    </tr>\n",
       "    <tr>\n",
       "      <td>2</td>\n",
       "      <td>to 50</td>\n",
       "      <td>0.686</td>\n",
       "      <td>0.725</td>\n",
       "      <td>0.750</td>\n",
       "    </tr>\n",
       "    <tr>\n",
       "      <td>3</td>\n",
       "      <td>adjacent</td>\n",
       "      <td>0.779</td>\n",
       "      <td>0.797</td>\n",
       "      <td>0.799</td>\n",
       "    </tr>\n",
       "  </tbody>\n",
       "</table>\n",
       "</div>"
      ],
      "text/plain": [
       "  Partition  Bidirectional RNN  Stacked Classifier  Shift-Reduce Parser\n",
       "0     valid              0.689               0.717                0.747\n",
       "1   invalid              0.148               0.242                0.361\n",
       "2     to 50              0.686               0.725                0.750\n",
       "3  adjacent              0.779               0.797                0.799"
      ]
     },
     "execution_count": 391,
     "metadata": {},
     "output_type": "execute_result"
    }
   ],
   "source": [
    "def analyze_performance_by_partition(part2relations, colls):\n",
    "    rows_by_parttn = defaultdict(dict)\n",
    "    for parttn, crels in part2relations.items():\n",
    "        for coll in colls:\n",
    "            metrics = compute_metrics_for_relations(coll, crels)\n",
    "            d = rows_by_parttn[parttn]\n",
    "            d[\"Partition\"] = parttn\n",
    "            d[metrics[\"algo\"]] = metrics[\"f1_score\"]\n",
    "    return pd.DataFrame(rows_by_parttn.values())\n",
    "\n",
    "df_perf_cb = analyze_performance_by_partition(cb_part, test_collections_cb).round(3)\n",
    "df_perf_cb"
   ]
  },
  {
   "cell_type": "code",
   "execution_count": 392,
   "metadata": {},
   "outputs": [
    {
     "data": {
      "text/html": [
       "<div>\n",
       "<style scoped>\n",
       "    .dataframe tbody tr th:only-of-type {\n",
       "        vertical-align: middle;\n",
       "    }\n",
       "\n",
       "    .dataframe tbody tr th {\n",
       "        vertical-align: top;\n",
       "    }\n",
       "\n",
       "    .dataframe thead th {\n",
       "        text-align: right;\n",
       "    }\n",
       "</style>\n",
       "<table border=\"1\" class=\"dataframe\">\n",
       "  <thead>\n",
       "    <tr style=\"text-align: right;\">\n",
       "      <th></th>\n",
       "      <th>Partition</th>\n",
       "      <th>Bidirectional RNN</th>\n",
       "      <th>Stacked Classifier</th>\n",
       "      <th>Shift-Reduce Parser</th>\n",
       "    </tr>\n",
       "  </thead>\n",
       "  <tbody>\n",
       "    <tr>\n",
       "      <td>0</td>\n",
       "      <td>valid</td>\n",
       "      <td>0.805</td>\n",
       "      <td>0.775</td>\n",
       "      <td>0.798</td>\n",
       "    </tr>\n",
       "    <tr>\n",
       "      <td>1</td>\n",
       "      <td>invalid</td>\n",
       "      <td>0.640</td>\n",
       "      <td>0.600</td>\n",
       "      <td>0.671</td>\n",
       "    </tr>\n",
       "    <tr>\n",
       "      <td>2</td>\n",
       "      <td>to 50</td>\n",
       "      <td>0.808</td>\n",
       "      <td>0.769</td>\n",
       "      <td>0.799</td>\n",
       "    </tr>\n",
       "    <tr>\n",
       "      <td>3</td>\n",
       "      <td>adjacent</td>\n",
       "      <td>0.836</td>\n",
       "      <td>0.806</td>\n",
       "      <td>0.844</td>\n",
       "    </tr>\n",
       "  </tbody>\n",
       "</table>\n",
       "</div>"
      ],
      "text/plain": [
       "  Partition  Bidirectional RNN  Stacked Classifier  Shift-Reduce Parser\n",
       "0     valid              0.805               0.775                0.798\n",
       "1   invalid              0.640               0.600                0.671\n",
       "2     to 50              0.808               0.769                0.799\n",
       "3  adjacent              0.836               0.806                0.844"
      ]
     },
     "execution_count": 392,
     "metadata": {},
     "output_type": "execute_result"
    }
   ],
   "source": [
    "df_perf_sc = analyze_performance_by_partition(sc_part, test_collections_sc).round(3)\n",
    "df_perf_sc"
   ]
  },
  {
   "cell_type": "markdown",
   "metadata": {},
   "source": [
    "# Compute NLP Stats"
   ]
  },
  {
   "cell_type": "code",
   "execution_count": 397,
   "metadata": {},
   "outputs": [],
   "source": [
    "rows = []\n",
    "for part, crels in cb_part.items():\n",
    "    rows.append(get_crel_stats(cb_sent_by_tag, cb_docf, crels, part))\n",
    "\n",
    "df_stats_cb = pd.DataFrame(rows).round(1)\n",
    "# df_stats_cb"
   ]
  },
  {
   "cell_type": "code",
   "execution_count": 398,
   "metadata": {},
   "outputs": [],
   "source": [
    "rows = []\n",
    "for part, crels in sc_part.items():\n",
    "    rows.append(get_crel_stats(sc_sent_by_tag, sc_docf, crels, part))\n",
    "\n",
    "df_stats_sc = pd.DataFrame(rows).round(1)\n",
    "# df_stats_sc"
   ]
  },
  {
   "cell_type": "markdown",
   "metadata": {},
   "source": [
    "# Merge Both"
   ]
  },
  {
   "cell_type": "code",
   "execution_count": 437,
   "metadata": {},
   "outputs": [],
   "source": [
    "def df_to_latex_rows(df):\n",
    "    for i,row in df.iterrows():\n",
    "#         vals = [f\"\\\\textbf{{ {row.name} }}\"]\n",
    "        vals = [f\"{row.name}\"]\n",
    "        for col in df.columns:\n",
    "            vals.append(str(row[col]))\n",
    "        print(f\"{' & '.join(vals)} \\\\\\\\\")"
   ]
  },
  {
   "cell_type": "code",
   "execution_count": 438,
   "metadata": {},
   "outputs": [
    {
     "data": {
      "text/html": [
       "<div>\n",
       "<style scoped>\n",
       "    .dataframe tbody tr th:only-of-type {\n",
       "        vertical-align: middle;\n",
       "    }\n",
       "\n",
       "    .dataframe tbody tr th {\n",
       "        vertical-align: top;\n",
       "    }\n",
       "\n",
       "    .dataframe thead th {\n",
       "        text-align: right;\n",
       "    }\n",
       "</style>\n",
       "<table border=\"1\" class=\"dataframe\">\n",
       "  <thead>\n",
       "    <tr style=\"text-align: right;\">\n",
       "      <th></th>\n",
       "      <th>0</th>\n",
       "      <th>1</th>\n",
       "      <th>2</th>\n",
       "      <th>3</th>\n",
       "    </tr>\n",
       "  </thead>\n",
       "  <tbody>\n",
       "    <tr>\n",
       "      <td>Partition</td>\n",
       "      <td>valid</td>\n",
       "      <td>invalid</td>\n",
       "      <td>to 50</td>\n",
       "      <td>adjacent</td>\n",
       "    </tr>\n",
       "    <tr>\n",
       "      <td>Bidirectional RNN</td>\n",
       "      <td>0.689</td>\n",
       "      <td>0.148</td>\n",
       "      <td>0.686</td>\n",
       "      <td>0.779</td>\n",
       "    </tr>\n",
       "    <tr>\n",
       "      <td>Stacked Classifier</td>\n",
       "      <td>0.717</td>\n",
       "      <td>0.242</td>\n",
       "      <td>0.725</td>\n",
       "      <td>0.797</td>\n",
       "    </tr>\n",
       "    <tr>\n",
       "      <td>Shift-Reduce Parser</td>\n",
       "      <td>0.747</td>\n",
       "      <td>0.361</td>\n",
       "      <td>0.75</td>\n",
       "      <td>0.799</td>\n",
       "    </tr>\n",
       "    <tr>\n",
       "      <td>num_sents_per_code</td>\n",
       "      <td>69.1</td>\n",
       "      <td>4.1</td>\n",
       "      <td>152.8</td>\n",
       "      <td>112.7</td>\n",
       "    </tr>\n",
       "    <tr>\n",
       "      <td>avg_span</td>\n",
       "      <td>11.3</td>\n",
       "      <td>11.1</td>\n",
       "      <td>11</td>\n",
       "      <td>11.5</td>\n",
       "    </tr>\n",
       "    <tr>\n",
       "      <td>avg_df</td>\n",
       "      <td>544.3</td>\n",
       "      <td>498.9</td>\n",
       "      <td>593</td>\n",
       "      <td>525.8</td>\n",
       "    </tr>\n",
       "  </tbody>\n",
       "</table>\n",
       "</div>"
      ],
      "text/plain": [
       "                         0        1      2         3\n",
       "Partition            valid  invalid  to 50  adjacent\n",
       "Bidirectional RNN    0.689    0.148  0.686     0.779\n",
       "Stacked Classifier   0.717    0.242  0.725     0.797\n",
       "Shift-Reduce Parser  0.747    0.361   0.75     0.799\n",
       "num_sents_per_code    69.1      4.1  152.8     112.7\n",
       "avg_span              11.3     11.1     11      11.5\n",
       "avg_df               544.3    498.9    593     525.8"
      ]
     },
     "execution_count": 438,
     "metadata": {},
     "output_type": "execute_result"
    }
   ],
   "source": [
    "m_cb = pd.merge(right=df_stats_cb, left=df_perf_cb, on=\"Partition\").T\n",
    "m_cb"
   ]
  },
  {
   "cell_type": "code",
   "execution_count": 439,
   "metadata": {},
   "outputs": [
    {
     "name": "stdout",
     "output_type": "stream",
     "text": [
      "Partition & valid & invalid & to 50 & adjacent \\\\\n",
      "Bidirectional RNN & 0.689 & 0.148 & 0.686 & 0.779 \\\\\n",
      "Stacked Classifier & 0.717 & 0.242 & 0.725 & 0.797 \\\\\n",
      "Shift-Reduce Parser & 0.747 & 0.361 & 0.75 & 0.799 \\\\\n",
      "num_sents_per_code & 69.1 & 4.1 & 152.8 & 112.7 \\\\\n",
      "avg_span & 11.3 & 11.1 & 11.0 & 11.5 \\\\\n",
      "avg_df & 544.3 & 498.9 & 593.0 & 525.8 \\\\\n"
     ]
    }
   ],
   "source": [
    "df_to_latex_rows(m_cb)"
   ]
  },
  {
   "cell_type": "code",
   "execution_count": 441,
   "metadata": {},
   "outputs": [
    {
     "data": {
      "text/html": [
       "<div>\n",
       "<style scoped>\n",
       "    .dataframe tbody tr th:only-of-type {\n",
       "        vertical-align: middle;\n",
       "    }\n",
       "\n",
       "    .dataframe tbody tr th {\n",
       "        vertical-align: top;\n",
       "    }\n",
       "\n",
       "    .dataframe thead th {\n",
       "        text-align: right;\n",
       "    }\n",
       "</style>\n",
       "<table border=\"1\" class=\"dataframe\">\n",
       "  <thead>\n",
       "    <tr style=\"text-align: right;\">\n",
       "      <th></th>\n",
       "      <th>0</th>\n",
       "      <th>1</th>\n",
       "      <th>2</th>\n",
       "      <th>3</th>\n",
       "    </tr>\n",
       "  </thead>\n",
       "  <tbody>\n",
       "    <tr>\n",
       "      <td>Partition</td>\n",
       "      <td>valid</td>\n",
       "      <td>invalid</td>\n",
       "      <td>to 50</td>\n",
       "      <td>adjacent</td>\n",
       "    </tr>\n",
       "    <tr>\n",
       "      <td>Bidirectional RNN</td>\n",
       "      <td>0.805</td>\n",
       "      <td>0.64</td>\n",
       "      <td>0.808</td>\n",
       "      <td>0.836</td>\n",
       "    </tr>\n",
       "    <tr>\n",
       "      <td>Stacked Classifier</td>\n",
       "      <td>0.775</td>\n",
       "      <td>0.6</td>\n",
       "      <td>0.769</td>\n",
       "      <td>0.806</td>\n",
       "    </tr>\n",
       "    <tr>\n",
       "      <td>Shift-Reduce Parser</td>\n",
       "      <td>0.798</td>\n",
       "      <td>0.671</td>\n",
       "      <td>0.799</td>\n",
       "      <td>0.844</td>\n",
       "    </tr>\n",
       "    <tr>\n",
       "      <td>num_sents_per_code</td>\n",
       "      <td>245.7</td>\n",
       "      <td>17</td>\n",
       "      <td>391.6</td>\n",
       "      <td>310.6</td>\n",
       "    </tr>\n",
       "    <tr>\n",
       "      <td>avg_span</td>\n",
       "      <td>10.4</td>\n",
       "      <td>7</td>\n",
       "      <td>10.5</td>\n",
       "      <td>9.9</td>\n",
       "    </tr>\n",
       "    <tr>\n",
       "      <td>avg_df</td>\n",
       "      <td>603.2</td>\n",
       "      <td>462.5</td>\n",
       "      <td>637.5</td>\n",
       "      <td>547.6</td>\n",
       "    </tr>\n",
       "  </tbody>\n",
       "</table>\n",
       "</div>"
      ],
      "text/plain": [
       "                         0        1      2         3\n",
       "Partition            valid  invalid  to 50  adjacent\n",
       "Bidirectional RNN    0.805     0.64  0.808     0.836\n",
       "Stacked Classifier   0.775      0.6  0.769     0.806\n",
       "Shift-Reduce Parser  0.798    0.671  0.799     0.844\n",
       "num_sents_per_code   245.7       17  391.6     310.6\n",
       "avg_span              10.4        7   10.5       9.9\n",
       "avg_df               603.2    462.5  637.5     547.6"
      ]
     },
     "execution_count": 441,
     "metadata": {},
     "output_type": "execute_result"
    }
   ],
   "source": [
    "m_sc = pd.merge(right=df_stats_sc, left=df_perf_sc, on=\"Partition\").T\n",
    "m_sc"
   ]
  },
  {
   "cell_type": "code",
   "execution_count": 442,
   "metadata": {},
   "outputs": [
    {
     "name": "stdout",
     "output_type": "stream",
     "text": [
      "Partition & valid & invalid & to 50 & adjacent \\\\\n",
      "Bidirectional RNN & 0.805 & 0.64 & 0.808 & 0.836 \\\\\n",
      "Stacked Classifier & 0.775 & 0.6 & 0.769 & 0.806 \\\\\n",
      "Shift-Reduce Parser & 0.798 & 0.671 & 0.799 & 0.844 \\\\\n",
      "num_sents_per_code & 245.7 & 17.0 & 391.6 & 310.6 \\\\\n",
      "avg_span & 10.4 & 7.0 & 10.5 & 9.9 \\\\\n",
      "avg_df & 603.2 & 462.5 & 637.5 & 547.6 \\\\\n"
     ]
    }
   ],
   "source": [
    "df_to_latex_rows(m_sc)"
   ]
  },
  {
   "cell_type": "markdown",
   "metadata": {},
   "source": [
    "# Get Performance Across All Relations"
   ]
  },
  {
   "cell_type": "code",
   "execution_count": 381,
   "metadata": {},
   "outputs": [],
   "source": [
    "# rows = []\n",
    "# for c in test_collections_cb:\n",
    "#     d = compute_metrics_for_relations(c)\n",
    "#     rows.append(d)\n",
    "# df_cb = pd.DataFrame(rows)\n",
    "# df_cb"
   ]
  },
  {
   "cell_type": "code",
   "execution_count": 382,
   "metadata": {},
   "outputs": [],
   "source": [
    "# rows = []\n",
    "# for c in test_collections_sc:\n",
    "#     d = compute_metrics_for_relations(c)\n",
    "#     rows.append(d)\n",
    "# df_sc = pd.DataFrame(rows)\n",
    "# df_sc"
   ]
  },
  {
   "cell_type": "markdown",
   "metadata": {},
   "source": [
    "## Essay Crel Statistics"
   ]
  },
  {
   "cell_type": "code",
   "execution_count": 218,
   "metadata": {},
   "outputs": [],
   "source": [
    "def print_table_of_crels(collections, relns=None):    \n",
    "    metrics = defaultdict(dict)\n",
    "    for coll in collections:\n",
    "        rows = list(db[coll].find())\n",
    "        assert len(rows) == 1, coll\n",
    "        row = rows[0]\n",
    "        for k,val in row.items():\n",
    "            if \"->\" in k:\n",
    "                metrics[k][\"Crel\"] = k\n",
    "                metrics[k][coll2algo_shortname(coll)] = val[\"f1_score\"]                \n",
    "    df_perf = pd.DataFrame(metrics.values()).sort_values(\"Crel\")\n",
    "    df_perf[\"code1\"] = df_perf[\"Crel\"].apply(lambda s: int(s.replace(\"Causer:\",\"\").replace(\"Result:\",\"\").split(\"->\")[0].replace(\"b\",\"\")) )\n",
    "    df_perf[\"code2\"] = df_perf[\"Crel\"].apply(lambda s: int(s.replace(\"Causer:\",\"\").replace(\"Result:\",\"\").split(\"->\")[1].replace(\"b\",\"\")) )\n",
    "    df_perf = df_perf.sort_values([\"code1\",\"code2\"])\n",
    "    del df_perf[\"code1\"]\n",
    "    del df_perf[\"code2\"]\n",
    "    return df_perf"
   ]
  },
  {
   "cell_type": "code",
   "execution_count": 383,
   "metadata": {},
   "outputs": [],
   "source": [
    "df_perf_cb_latex = print_table_of_crels(test_collections_cb)\n"
   ]
  },
  {
   "cell_type": "code",
   "execution_count": 220,
   "metadata": {},
   "outputs": [
    {
     "name": "stdout",
     "output_type": "stream",
     "text": [
      "1\\textrightarrow 2\t& 0.840 & 0.667 & 0.840 & 5\\textrightarrow 50\t& 0.667 & 0.308 & 0.667 \\\\\n",
      "1\\textrightarrow 3\t& 0.651 & 0.591 & 0.682 & 5b\\textrightarrow 50\t& 0.000 & 0.000 & 0.250 \\\\\n",
      "1\\textrightarrow 4\t& 0.000 & 0.000 & 0.000 & 6\\textrightarrow 5\t& 0.000 & 0.000 & 1.000 \\\\\n",
      "1\\textrightarrow 5\t& 0.000 & 0.000 & 0.500 & 6\\textrightarrow 5b\t& 0.000 & 0.000 & 0.000 \\\\\n",
      "1\\textrightarrow 6\t& 0.000 & 0.000 & 0.000 & 6\\textrightarrow 7\t& 0.844 & 0.863 & 0.894 \\\\\n",
      "1\\textrightarrow 7\t& 0.000 & 0.000 & 0.333 & 6\\textrightarrow 14\t& 0.333 & 0.444 & 0.519 \\\\\n",
      "1\\textrightarrow 11\t& 0.000 & 0.000 & 0.000 & 6\\textrightarrow 50\t& 0.455 & 0.737 & 0.750 \\\\\n",
      "1\\textrightarrow 13\t& 0.000 & 0.000 & 0.000 & 7\\textrightarrow 1\t& 0.000 & 0.000 & 0.000 \\\\\n",
      "1\\textrightarrow 14\t& 0.000 & 0.000 & 0.000 & 7\\textrightarrow 4\t& 0.000 & 0.000 & 0.000 \\\\\n",
      "1\\textrightarrow 50\t& 0.809 & 0.788 & 0.822 & 7\\textrightarrow 5\t& 0.000 & 0.000 & 0.000 \\\\\n",
      "2\\textrightarrow 1\t& 0.000 & 0.000 & 0.000 & 7\\textrightarrow 5b\t& 0.000 & 0.000 & 0.000 \\\\\n",
      "2\\textrightarrow 3\t& 0.583 & 0.640 & 0.615 & 7\\textrightarrow 13\t& 0.000 & 0.000 & 0.000 \\\\\n",
      "2\\textrightarrow 6\t& 0.000 & 0.000 & 0.000 & 7\\textrightarrow 14\t& 0.000 & 0.000 & 0.000 \\\\\n",
      "2\\textrightarrow 50\t& 0.000 & 0.000 & 0.750 & 7\\textrightarrow 50\t& 0.798 & 0.788 & 0.783 \\\\\n",
      "3\\textrightarrow 1\t& 0.000 & 0.000 & 0.500 & 11\\textrightarrow 3\t& 0.000 & 0.000 & 0.000 \\\\\n",
      "3\\textrightarrow 2\t& 0.000 & 0.000 & 0.000 & 11\\textrightarrow 4\t& 0.000 & 0.000 & 0.500 \\\\\n",
      "3\\textrightarrow 4\t& 0.852 & 0.923 & 0.868 & 11\\textrightarrow 6\t& 0.000 & 0.000 & 0.000 \\\\\n",
      "3\\textrightarrow 5\t& 0.769 & 0.683 & 0.744 & 11\\textrightarrow 11\t& 0.000 & 0.000 & 0.000 \\\\\n",
      "3\\textrightarrow 5b\t& 0.000 & 0.000 & 0.000 & 11\\textrightarrow 12\t& 0.778 & 0.778 & 0.824 \\\\\n",
      "3\\textrightarrow 6\t& 0.667 & 0.000 & 0.000 & 11\\textrightarrow 13\t& 0.595 & 0.737 & 0.791 \\\\\n",
      "3\\textrightarrow 7\t& 0.500 & 0.333 & 0.500 & 11\\textrightarrow 14\t& 0.400 & 0.000 & 0.545 \\\\\n",
      "3\\textrightarrow 13\t& 0.000 & 0.000 & 0.000 & 11\\textrightarrow 50\t& 0.522 & 0.720 & 0.750 \\\\\n",
      "3\\textrightarrow 14\t& 0.000 & 0.000 & 0.000 & 12\\textrightarrow 5b\t& 0.000 & 0.000 & 0.000 \\\\\n",
      "3\\textrightarrow 50\t& 0.591 & 0.752 & 0.774 & 12\\textrightarrow 7\t& 0.000 & 0.000 & 0.000 \\\\\n",
      "4\\textrightarrow 3\t& 0.000 & 0.000 & 0.000 & 12\\textrightarrow 11\t& 0.000 & 0.000 & 0.000 \\\\\n",
      "4\\textrightarrow 5\t& 0.722 & 0.778 & 0.739 & 12\\textrightarrow 13\t& 0.696 & 0.957 & 0.870 \\\\\n",
      "4\\textrightarrow 5b\t& 0.000 & 0.000 & 0.000 & 12\\textrightarrow 14\t& 0.000 & 0.000 & 1.000 \\\\\n",
      "4\\textrightarrow 6\t& 0.000 & 0.000 & 0.000 & 12\\textrightarrow 50\t& 1.000 & 0.000 & 0.000 \\\\\n",
      "4\\textrightarrow 7\t& 0.000 & 0.000 & 0.500 & 13\\textrightarrow 4\t& 0.000 & 0.000 & 0.000 \\\\\n",
      "4\\textrightarrow 11\t& 0.000 & 0.000 & 0.000 & 13\\textrightarrow 5\t& 0.000 & 0.000 & 0.000 \\\\\n",
      "4\\textrightarrow 13\t& 0.000 & 0.000 & 0.000 & 13\\textrightarrow 6\t& 0.000 & 0.000 & 1.000 \\\\\n",
      "4\\textrightarrow 14\t& 0.600 & 0.824 & 0.842 & 13\\textrightarrow 7\t& 0.000 & 0.000 & 0.000 \\\\\n",
      "4\\textrightarrow 50\t& 0.514 & 0.615 & 0.600 & 13\\textrightarrow 11\t& 0.000 & 0.000 & 0.000 \\\\\n",
      "5\\textrightarrow 3\t& 0.000 & 0.000 & 0.000 & 13\\textrightarrow 12\t& 0.000 & 0.000 & 0.000 \\\\\n",
      "5\\textrightarrow 4\t& 0.000 & 0.000 & 0.000 & 13\\textrightarrow 14\t& 0.700 & 0.923 & 0.880 \\\\\n",
      "5\\textrightarrow 5b\t& 0.286 & 0.000 & 0.286 & 13\\textrightarrow 50\t& 0.421 & 0.483 & 0.522 \\\\\n",
      "5b\\textrightarrow 5\t& 0.000 & 0.000 & 0.000 & 14\\textrightarrow 6\t& 0.000 & 0.000 & 0.000 \\\\\n",
      "5\\textrightarrow 7\t& 0.000 & 0.000 & 0.800 & 14\\textrightarrow 7\t& 0.000 & 0.000 & 0.000 \\\\\n",
      "5b\\textrightarrow 7\t& 0.000 & 0.000 & 0.000 & 14\\textrightarrow 50\t& 0.471 & 0.533 & 0.545 \\\\\n",
      "5\\textrightarrow 11\t& 0.000 & 0.000 & 0.000 & 50\\textrightarrow 1\t& 0.000 & 0.000 & 0.000 \\\\\n",
      "5\\textrightarrow 13\t& 0.000 & 0.000 & 0.000 & 50\\textrightarrow 3\t& 0.000 & 0.000 & 0.000 \\\\\n",
      "5\\textrightarrow 14\t& 0.000 & 0.000 & 0.000 & 50\\textrightarrow 7\t& 0.000 & 0.000 & 0.000 \\\\\n",
      "5b\\textrightarrow 14\t& 0.000 & 0.000 & 0.000 & 50\\textrightarrow 50\t& 0.000 & 0.000 & 0.000 \\\\\n"
     ]
    }
   ],
   "source": [
    "tpls = list(df_perf_cb.itertuples())\n",
    "size = len(tpls)//2\n",
    "for tpl, tpl2 in zip(tpls[:size],tpls[size:]):\n",
    "    crel = tpl.Crel.replace(\"->\",\"\\\\textrightarrow \").replace(\"Causer:\",\"\").replace(\"Result:\",\"\")\n",
    "    crel2 = tpl2.Crel.replace(\"->\",\"\\\\textrightarrow \").replace(\"Causer:\",\"\").replace(\"Result:\",\"\")\n",
    "    print(f\"{crel}\\t& {tpl.RNN:.3f} & {tpl.Stacked:.3f} & {tpl.Parser:.3f} & {crel2}\\t& {tpl2.RNN:.3f} & {tpl2.Stacked:.3f} & {tpl2.Parser:.3f} \\\\\\\\\")"
   ]
  },
  {
   "cell_type": "code",
   "execution_count": 384,
   "metadata": {},
   "outputs": [],
   "source": [
    "df_perf_sc_latex = print_table_of_crels(test_collections_sc)\n"
   ]
  },
  {
   "cell_type": "code",
   "execution_count": 385,
   "metadata": {},
   "outputs": [
    {
     "data": {
      "text/plain": [
       "49"
      ]
     },
     "execution_count": 385,
     "metadata": {},
     "output_type": "execute_result"
    }
   ],
   "source": [
    "len(df_perf_sc)"
   ]
  },
  {
   "cell_type": "code",
   "execution_count": 386,
   "metadata": {},
   "outputs": [
    {
     "name": "stdout",
     "output_type": "stream",
     "text": [
      "1\\textrightarrow 2\t& 0.842 & 0.812 & 0.855 & 5\\textrightarrow 4\t& 0.372 & 0.000 & 0.400 \\\\\n",
      "1\\textrightarrow 3\t& 0.812 & 0.692 & 0.800 & 5\\textrightarrow 5\t& 0.000 & 0.000 & 0.000 \\\\\n",
      "1\\textrightarrow 4\t& 0.000 & 0.000 & 0.000 & 5\\textrightarrow 6\t& 0.878 & 0.881 & 0.867 \\\\\n",
      "1\\textrightarrow 5\t& 0.667 & 0.000 & 0.000 & 5\\textrightarrow 12\t& 0.000 & 0.000 & 0.000 \\\\\n",
      "1\\textrightarrow 50\t& 0.747 & 0.725 & 0.815 & 5\\textrightarrow 50\t& 0.852 & 0.843 & 0.847 \\\\\n",
      "2\\textrightarrow 1\t& 0.000 & 0.000 & 0.000 & 6\\textrightarrow 3\t& 0.000 & 0.000 & 0.000 \\\\\n",
      "2\\textrightarrow 2\t& 0.000 & 0.000 & 0.000 & 6\\textrightarrow 4\t& 0.000 & 0.000 & 0.000 \\\\\n",
      "2\\textrightarrow 3\t& 0.804 & 0.757 & 0.785 & 6\\textrightarrow 5\t& 0.000 & 0.000 & 0.500 \\\\\n",
      "2\\textrightarrow 4\t& 0.500 & 0.533 & 0.267 & 6\\textrightarrow 50\t& 0.912 & 0.876 & 0.876 \\\\\n",
      "2\\textrightarrow 5\t& 0.605 & 0.333 & 0.357 & 11\\textrightarrow 3\t& 0.000 & 0.000 & 0.000 \\\\\n",
      "2\\textrightarrow 6\t& 0.000 & 0.000 & 0.000 & 11\\textrightarrow 4\t& 0.000 & 0.000 & 0.000 \\\\\n",
      "2\\textrightarrow 11\t& 0.000 & 0.000 & 0.000 & 11\\textrightarrow 5\t& 0.000 & 0.000 & 0.000 \\\\\n",
      "2\\textrightarrow 50\t& 0.818 & 0.701 & 0.769 & 11\\textrightarrow 12\t& 0.808 & 0.809 & 0.800 \\\\\n",
      "3\\textrightarrow 2\t& 0.000 & 0.000 & 0.000 & 11\\textrightarrow 50\t& 0.667 & 0.632 & 0.571 \\\\\n",
      "3\\textrightarrow 4\t& 0.835 & 0.867 & 0.909 & 12\\textrightarrow 2\t& 0.400 & 0.000 & 0.000 \\\\\n",
      "3\\textrightarrow 5\t& 0.444 & 0.400 & 0.400 & 12\\textrightarrow 3\t& 0.825 & 0.774 & 0.840 \\\\\n",
      "3\\textrightarrow 6\t& 0.500 & 0.444 & 0.500 & 12\\textrightarrow 4\t& 0.000 & 0.000 & 0.000 \\\\\n",
      "3\\textrightarrow 11\t& 0.000 & 0.000 & 0.000 & 12\\textrightarrow 5\t& 0.000 & 0.000 & 0.000 \\\\\n",
      "3\\textrightarrow 50\t& 0.746 & 0.742 & 0.753 & 12\\textrightarrow 12\t& 0.000 & 0.000 & 0.000 \\\\\n",
      "4\\textrightarrow 4\t& 0.000 & 0.000 & 0.000 & 12\\textrightarrow 50\t& 0.250 & 0.000 & 0.286 \\\\\n",
      "4\\textrightarrow 5\t& 0.881 & 0.792 & 0.845 & 50\\textrightarrow 2\t& 0.000 & 0.000 & 0.000 \\\\\n",
      "4\\textrightarrow 6\t& 0.222 & 0.000 & 0.000 & 50\\textrightarrow 3\t& 0.000 & 0.000 & 0.000 \\\\\n",
      "4\\textrightarrow 11\t& 0.000 & 0.000 & 0.000 & 50\\textrightarrow 4\t& 0.000 & 0.000 & 0.000 \\\\\n",
      "4\\textrightarrow 12\t& 0.000 & 0.000 & 0.000 & 50\\textrightarrow 5\t& 0.000 & 0.000 & 0.000 \\\\\n",
      "4\\textrightarrow 50\t& 0.529 & 0.231 & 0.412 & 50\\textrightarrow 5\t& 0.000 & 0.000 & 0.000 \\\\\n"
     ]
    }
   ],
   "source": [
    "offset = 5\n",
    "tpls = list(df_perf_sc.itertuples())\n",
    "tpls = tpls + [tpls[-1]]\n",
    "size = (len(tpls)//2)\n",
    "for tpl, tpl2 in zip(tpls[:size],tpls[size:]):\n",
    "    crel = tpl.Crel.replace(\"->\",\"\\\\textrightarrow \").replace(\"Causer:\",\"\").replace(\"Result:\",\"\")\n",
    "    crel2 = tpl2.Crel.replace(\"->\",\"\\\\textrightarrow \").replace(\"Causer:\",\"\").replace(\"Result:\",\"\")\n",
    "    print(f\"{crel}\\t& {tpl.RNN:.3f} & {tpl.Stacked:.3f} & {tpl.Parser:.3f} & {crel2}\\t& {tpl2.RNN:.3f} & {tpl2.Stacked:.3f} & {tpl2.Parser:.3f} \\\\\\\\\")"
   ]
  },
  {
   "cell_type": "markdown",
   "metadata": {},
   "source": [
    "### Plot F1 By Crel Freq"
   ]
  },
  {
   "cell_type": "code",
   "execution_count": 285,
   "metadata": {},
   "outputs": [],
   "source": [
    "def get_f1s_freq(collection):\n",
    "    rows = list(db[collection].find())\n",
    "    assert len(rows) == 1, coll\n",
    "    row = rows[0]\n",
    "    f1s = []\n",
    "    freqs = []\n",
    "    metrics\n",
    "    for k,val in row.items():\n",
    "        if \"->\" in k:\n",
    "            f1s.append(val[\"f1_score\"])\n",
    "            freqs.append(val[\"num_codes\"])\n",
    "#     return f1s, np.log1p(freqs)\n",
    "    return f1s, freqs"
   ]
  },
  {
   "cell_type": "code",
   "execution_count": 286,
   "metadata": {},
   "outputs": [
    {
     "data": {
      "text/plain": [
       "['TEST_CR_CB_TAGGING_VD_MOST_COMMON_TAG_RNN',\n",
       " 'TEST_CR_CB_STACKED_VD',\n",
       " 'TEST_CR_CB_SHIFT_REDUCE_PARSER_TEMPLATED_VD']"
      ]
     },
     "execution_count": 286,
     "metadata": {},
     "output_type": "execute_result"
    }
   ],
   "source": [
    "test_collections_cb"
   ]
  },
  {
   "cell_type": "code",
   "execution_count": 287,
   "metadata": {},
   "outputs": [],
   "source": [
    "def set_tick_font_size(ax, fs):\n",
    "    for tick in ax.xaxis.get_major_ticks():\n",
    "        tick.label.set_fontsize(fs) \n",
    "    for tick in ax.yaxis.get_major_ticks():\n",
    "        tick.label.set_fontsize(fs) "
   ]
  },
  {
   "cell_type": "code",
   "execution_count": 318,
   "metadata": {},
   "outputs": [
    {
     "data": {
      "image/png": "[encoded data removed]",
      "text/plain": [
       "<Figure size 1440x720 with 1 Axes>"
      ]
     },
     "metadata": {
      "needs_background": "light"
     },
     "output_type": "display_data"
    }
   ],
   "source": [
    "import seaborn as sns\n",
    "import matplotlib.ticker as plticker\n",
    "\n",
    "FONT_SIZE = 28\n",
    "\n",
    "rnn_f1, rnn_freq = get_f1s_freq(\"TEST_CR_CB_TAGGING_VD_MOST_COMMON_TAG_RNN\")\n",
    "stacked_f1, stacked_freq = get_f1s_freq(\"TEST_CR_CB_STACKED_VD\")\n",
    "parser_f1, parser_freq = get_f1s_freq(\"TEST_CR_CB_SHIFT_REDUCE_PARSER_TEMPLATED_VD\")\n",
    "\n",
    "fig = plt.figure()\n",
    "fig.set_figheight(10)\n",
    "fig.set_figwidth(20)\n",
    "ax = fig.add_subplot(111)\n",
    "\n",
    "# set x axis tick interval\n",
    "loc = plticker.MultipleLocator(base=10.0) # this locator puts ticks at regular intervals\n",
    "ax.xaxis.set_major_locator(loc)\n",
    "\n",
    "ax.set_ylabel('$F_1$ Score',            fontsize=FONT_SIZE)\n",
    "ax.set_xlabel('Number of Examples',  fontsize=FONT_SIZE)\n",
    "set_tick_font_size(ax, FONT_SIZE-2)\n",
    "\n",
    "ax.scatter(rnn_freq,     rnn_f1,     c='b', marker=\"o\", label='Bidirectional RNN')\n",
    "ax.scatter(stacked_freq, stacked_f1, c='r', marker=\"o\", label='Stacked Classifier')\n",
    "ax.scatter(parser_freq,  parser_f1,  c='g', marker=\"o\", label='Shift-Reduce Parser')\n",
    "# ax.set_facecolor('1') # set background white\n",
    "\n",
    "plt.legend(loc='lower right', fontsize=FONT_SIZE)\n",
    "\n",
    "images_folder = \"/Users/simon.hughes/BitBucket/dissertation/Dissertation/images\"\n",
    "fname = f\"{images_folder}/rq2_f1_per_crel_freq_cb.png\"\n",
    "plt.savefig(fname, bbox_inches = 'tight', pad_inches = 0) # remove unneccessary whitespace"
   ]
  },
  {
   "cell_type": "markdown",
   "metadata": {},
   "source": [
    "## Number of 0 F1 Scores"
   ]
  },
  {
   "cell_type": "code",
   "execution_count": 298,
   "metadata": {},
   "outputs": [
    {
     "data": {
      "text/plain": [
       "50"
      ]
     },
     "execution_count": 298,
     "metadata": {},
     "output_type": "execute_result"
    }
   ],
   "source": [
    "len([i for i in parser_f1 if i == 0.0])"
   ]
  },
  {
   "cell_type": "code",
   "execution_count": 299,
   "metadata": {},
   "outputs": [
    {
     "data": {
      "text/plain": [
       "59"
      ]
     },
     "execution_count": 299,
     "metadata": {},
     "output_type": "execute_result"
    }
   ],
   "source": [
    "len([i for i in rnn_f1 if i == 0.0])"
   ]
  },
  {
   "cell_type": "code",
   "execution_count": 300,
   "metadata": {},
   "outputs": [
    {
     "data": {
      "text/plain": [
       "63"
      ]
     },
     "execution_count": 300,
     "metadata": {},
     "output_type": "execute_result"
    }
   ],
   "source": [
    "len([i for i in stacked_f1 if i == 0.0])"
   ]
  },
  {
   "cell_type": "markdown",
   "metadata": {},
   "source": [
    "## Skin Cancer"
   ]
  },
  {
   "cell_type": "code",
   "execution_count": 317,
   "metadata": {},
   "outputs": [
    {
     "data": {
      "image/png": "[encoded data removed]",
      "text/plain": [
       "<Figure size 1440x720 with 1 Axes>"
      ]
     },
     "metadata": {
      "needs_background": "light"
     },
     "output_type": "display_data"
    }
   ],
   "source": [
    "import seaborn as sns\n",
    "import matplotlib.ticker as plticker\n",
    "\n",
    "FONT_SIZE = 28\n",
    "\n",
    "rnn_f1, rnn_freq = get_f1s_freq(\"TEST_CR_SC_TAGGING_VD_MOST_COMMON_TAG_RNN\")\n",
    "stacked_f1, stacked_freq = get_f1s_freq(\"TEST_CR_SC_STACKED_VD\")\n",
    "parser_f1, parser_freq = get_f1s_freq(\"TEST_CR_SC_SHIFT_REDUCE_PARSER_TEMPLATED_VD\")\n",
    "\n",
    "fig = plt.figure()\n",
    "fig.set_figheight(10)\n",
    "fig.set_figwidth(20)\n",
    "ax = fig.add_subplot(111)\n",
    "\n",
    "# set x axis tick interval\n",
    "loc = plticker.MultipleLocator(base=10.0) # this locator puts ticks at regular intervals\n",
    "ax.xaxis.set_major_locator(loc)\n",
    "\n",
    "ax.set_ylabel('$F_1$ Score',            fontsize=FONT_SIZE)\n",
    "ax.set_xlabel('Number of Examples',  fontsize=FONT_SIZE)\n",
    "\n",
    "set_tick_font_size(ax, FONT_SIZE-2)\n",
    "\n",
    "ax.scatter(rnn_freq,     rnn_f1,     c='b', marker=\"o\", label='Bidirectional RNN')\n",
    "ax.scatter(stacked_freq, stacked_f1, c='r', marker=\"o\", label='Stacked Classifier')\n",
    "ax.scatter(parser_freq,  parser_f1,  c='g', marker=\"o\", label='Shift-Reduce Parser')\n",
    "\n",
    "ax.set_xlim([-5, max(parser_freq)+5 ])\n",
    "# ax.set_facecolor('1') # set background white\n",
    "\n",
    "plt.legend(loc='lower right', fontsize=FONT_SIZE);\n",
    "\n",
    "images_folder = \"/Users/simon.hughes/BitBucket/dissertation/Dissertation/images\"\n",
    "fname = f\"{images_folder}/rq2_f1_per_crel_freq_sc.png\"\n",
    "plt.savefig(fname, bbox_inches = 'tight', pad_inches = 0) # remove unneccessary whitespace"
   ]
  },
  {
   "cell_type": "markdown",
   "metadata": {},
   "source": [
    "## Compute Pearson's Correlation Coefficient"
   ]
  },
  {
   "cell_type": "code",
   "execution_count": 342,
   "metadata": {},
   "outputs": [
    {
     "data": {
      "text/plain": [
       "(0.596331506847296, 3.089196020877448e-26)"
      ]
     },
     "execution_count": 342,
     "metadata": {},
     "output_type": "execute_result"
    }
   ],
   "source": [
    "from scipy import stats\n",
    "\n",
    "rnn_f1, rnn_freq = get_f1s_freq(\"TEST_CR_CB_TAGGING_VD_MOST_COMMON_TAG_RNN\")\n",
    "stacked_f1, stacked_freq = get_f1s_freq(\"TEST_CR_CB_STACKED_VD\")\n",
    "parser_f1, parser_freq = get_f1s_freq(\"TEST_CR_CB_SHIFT_REDUCE_PARSER_TEMPLATED_VD\")\n",
    "\n",
    "f1s = rnn_f1 + stacked_f1 + parser_f1\n",
    "freqs = rnn_freq + stacked_freq + parser_freq\n",
    "\n",
    "coeff, pval = stats.pearsonr(f1s, freqs)\n",
    "coeff, pval"
   ]
  },
  {
   "cell_type": "code",
   "execution_count": 341,
   "metadata": {},
   "outputs": [
    {
     "data": {
      "text/plain": [
       "(0.7570958626597188, 1.3517146239087752e-28)"
      ]
     },
     "execution_count": 341,
     "metadata": {},
     "output_type": "execute_result"
    }
   ],
   "source": [
    "from scipy import stats\n",
    "\n",
    "rnn_f1, rnn_freq = get_f1s_freq(\"TEST_CR_SC_TAGGING_VD_MOST_COMMON_TAG_RNN\")\n",
    "stacked_f1, stacked_freq = get_f1s_freq(\"TEST_CR_SC_STACKED_VD\")\n",
    "parser_f1, parser_freq = get_f1s_freq(\"TEST_CR_SC_SHIFT_REDUCE_PARSER_TEMPLATED_VD\")\n",
    "\n",
    "f1s = rnn_f1 + stacked_f1 + parser_f1\n",
    "freqs = rnn_freq + stacked_freq + parser_freq\n",
    "\n",
    "coeff, pval = stats.pearsonr(f1s, freqs)\n",
    "coeff, pval"
   ]
  },
  {
   "cell_type": "markdown",
   "metadata": {},
   "source": [
    "## Group Performance By Frequency"
   ]
  },
  {
   "cell_type": "code",
   "execution_count": 330,
   "metadata": {},
   "outputs": [],
   "source": [
    "def partition_codes_by_freq(collection):\n",
    "    rows = list(db[collection].find())\n",
    "    row = rows[0]\n",
    "\n",
    "    freq2crels = defaultdict(set)\n",
    "    for crel,val in row.items():\n",
    "        if \"->\" not in crel:\n",
    "            continue\n",
    "        ncodes = val[\"num_codes\"]\n",
    "        \n",
    "        if ncodes <= 10:\n",
    "            freq2crels[\"0-10\"].add(crel)\n",
    "        if ncodes <= 25:\n",
    "            freq2crels[\"11-25\"].add(crel)\n",
    "        elif ncodes <= 50:\n",
    "            freq2crels[\"26-50\"].add(crel)\n",
    "        elif ncodes <= 75:\n",
    "            freq2crels[\"51-75\"].add(crel)\n",
    "        else:\n",
    "            freq2crels[\"51-\"].add(crel)\n",
    "    return freq2crels"
   ]
  },
  {
   "cell_type": "code",
   "execution_count": 331,
   "metadata": {},
   "outputs": [
    {
     "data": {
      "text/html": [
       "<div>\n",
       "<style scoped>\n",
       "    .dataframe tbody tr th:only-of-type {\n",
       "        vertical-align: middle;\n",
       "    }\n",
       "\n",
       "    .dataframe tbody tr th {\n",
       "        vertical-align: top;\n",
       "    }\n",
       "\n",
       "    .dataframe thead th {\n",
       "        text-align: right;\n",
       "    }\n",
       "</style>\n",
       "<table border=\"1\" class=\"dataframe\">\n",
       "  <thead>\n",
       "    <tr style=\"text-align: right;\">\n",
       "      <th></th>\n",
       "      <th>Partition</th>\n",
       "      <th>Bidirectional RNN</th>\n",
       "      <th>Stacked Classifier</th>\n",
       "      <th>Shift-Reduce Parser</th>\n",
       "    </tr>\n",
       "  </thead>\n",
       "  <tbody>\n",
       "    <tr>\n",
       "      <td>0</td>\n",
       "      <td>0-10</td>\n",
       "      <td>0.415584</td>\n",
       "      <td>0.352113</td>\n",
       "      <td>0.513043</td>\n",
       "    </tr>\n",
       "    <tr>\n",
       "      <td>1</td>\n",
       "      <td>11-25</td>\n",
       "      <td>0.619621</td>\n",
       "      <td>0.657343</td>\n",
       "      <td>0.687045</td>\n",
       "    </tr>\n",
       "    <tr>\n",
       "      <td>2</td>\n",
       "      <td>26-50</td>\n",
       "      <td>0.650602</td>\n",
       "      <td>0.590909</td>\n",
       "      <td>0.682353</td>\n",
       "    </tr>\n",
       "    <tr>\n",
       "      <td>3</td>\n",
       "      <td>51-</td>\n",
       "      <td>0.803279</td>\n",
       "      <td>0.787879</td>\n",
       "      <td>0.801136</td>\n",
       "    </tr>\n",
       "    <tr>\n",
       "      <td>4</td>\n",
       "      <td>51-75</td>\n",
       "      <td>0.590909</td>\n",
       "      <td>0.752000</td>\n",
       "      <td>0.773723</td>\n",
       "    </tr>\n",
       "  </tbody>\n",
       "</table>\n",
       "</div>"
      ],
      "text/plain": [
       "  Partition  Bidirectional RNN  Stacked Classifier  Shift-Reduce Parser\n",
       "0      0-10           0.415584            0.352113             0.513043\n",
       "1     11-25           0.619621            0.657343             0.687045\n",
       "2     26-50           0.650602            0.590909             0.682353\n",
       "3       51-           0.803279            0.787879             0.801136\n",
       "4     51-75           0.590909            0.752000             0.773723"
      ]
     },
     "execution_count": 331,
     "metadata": {},
     "output_type": "execute_result"
    }
   ],
   "source": [
    "freq2crels_cb = partition_codes_by_freq(\"TEST_CR_CB_TAGGING_VD_MOST_COMMON_TAG_RNN\")\n",
    "analyze_performance_by_partition(freq2crels_cb, test_collections_cb)"
   ]
  },
  {
   "cell_type": "code",
   "execution_count": 333,
   "metadata": {},
   "outputs": [
    {
     "data": {
      "text/html": [
       "<div>\n",
       "<style scoped>\n",
       "    .dataframe tbody tr th:only-of-type {\n",
       "        vertical-align: middle;\n",
       "    }\n",
       "\n",
       "    .dataframe tbody tr th {\n",
       "        vertical-align: top;\n",
       "    }\n",
       "\n",
       "    .dataframe thead th {\n",
       "        text-align: right;\n",
       "    }\n",
       "</style>\n",
       "<table border=\"1\" class=\"dataframe\">\n",
       "  <thead>\n",
       "    <tr style=\"text-align: right;\">\n",
       "      <th></th>\n",
       "      <th>Partition</th>\n",
       "      <th>Bidirectional RNN</th>\n",
       "      <th>Stacked Classifier</th>\n",
       "      <th>Shift-Reduce Parser</th>\n",
       "    </tr>\n",
       "  </thead>\n",
       "  <tbody>\n",
       "    <tr>\n",
       "      <td>0</td>\n",
       "      <td>0-10</td>\n",
       "      <td>0.666667</td>\n",
       "      <td>0.560000</td>\n",
       "      <td>0.603175</td>\n",
       "    </tr>\n",
       "    <tr>\n",
       "      <td>1</td>\n",
       "      <td>11-25</td>\n",
       "      <td>0.614583</td>\n",
       "      <td>0.603175</td>\n",
       "      <td>0.653465</td>\n",
       "    </tr>\n",
       "    <tr>\n",
       "      <td>2</td>\n",
       "      <td>26-50</td>\n",
       "      <td>0.796296</td>\n",
       "      <td>0.849057</td>\n",
       "      <td>0.810345</td>\n",
       "    </tr>\n",
       "    <tr>\n",
       "      <td>3</td>\n",
       "      <td>51-</td>\n",
       "      <td>0.706173</td>\n",
       "      <td>0.735135</td>\n",
       "      <td>0.792176</td>\n",
       "    </tr>\n",
       "    <tr>\n",
       "      <td>4</td>\n",
       "      <td>51-75</td>\n",
       "      <td>0.583333</td>\n",
       "      <td>0.640000</td>\n",
       "      <td>0.615385</td>\n",
       "    </tr>\n",
       "  </tbody>\n",
       "</table>\n",
       "</div>"
      ],
      "text/plain": [
       "  Partition  Bidirectional RNN  Stacked Classifier  Shift-Reduce Parser\n",
       "0      0-10           0.666667            0.560000             0.603175\n",
       "1     11-25           0.614583            0.603175             0.653465\n",
       "2     26-50           0.796296            0.849057             0.810345\n",
       "3       51-           0.706173            0.735135             0.792176\n",
       "4     51-75           0.583333            0.640000             0.615385"
      ]
     },
     "execution_count": 333,
     "metadata": {},
     "output_type": "execute_result"
    }
   ],
   "source": [
    "freq2crels_sc = partition_codes_by_freq(\"TEST_CR_SC_TAGGING_VD_MOST_COMMON_TAG_RNN\")\n",
    "analyze_performance_by_partition(freq2crels_sc, test_collections_cb)"
   ]
  },
  {
   "cell_type": "code",
   "execution_count": null,
   "metadata": {},
   "outputs": [],
   "source": []
  }
 ],
 "metadata": {
  "anaconda-cloud": {},
  "kernelspec": {
   "display_name": "Python [conda env:phd_py36]",
   "language": "python",
   "name": "conda-env-phd_py36-py"
  },
  "language_info": {
   "codemirror_mode": {
    "name": "ipython",
    "version": 3
   },
   "file_extension": ".py",
   "mimetype": "text/x-python",
   "name": "python",
   "nbconvert_exporter": "python",
   "pygments_lexer": "ipython3",
   "version": "3.6.2"
  }
 },
 "nbformat": 4,
 "nbformat_minor": 2
}
