{
 "cells": [
  {
   "cell_type": "markdown",
   "metadata": {},
   "source": [
    "# Grab All Matching Files"
   ]
  },
  {
   "cell_type": "code",
   "execution_count": 1,
   "metadata": {},
   "outputs": [],
   "source": [
    "from FindFiles import find_files\n",
    "\n",
    "root = \"/Users/simon.hughes/Google Drive/PhD/Data/CoralBleaching\"\n",
    "# root = \"/Users/simon.hughes/Google Drive/PhD/Data/SkinCancer\"\n",
    "\n",
    "#folder = \"/Users/simon.hughes/Google Drive/Phd/Data/CoralBleaching/BrattData/EBA1415_Merged/\"\n",
    "if \"coral\" in root.lower():\n",
    "    folder = root + \"/BrattData/EBA1415_Merged/\"\n",
    "else:\n",
    "    folder = root + \"/EBA1415_Merged/\"\n",
    "\n",
    "files = find_files(folder, \".*\\.ann\", True)\n",
    "#files"
   ]
  },
  {
   "cell_type": "markdown",
   "metadata": {},
   "source": [
    "# How Many Essays and Lines Have Anaphors and Rhetoricals in them?"
   ]
  },
  {
   "cell_type": "code",
   "execution_count": 2,
   "metadata": {},
   "outputs": [
    {
     "name": "stdout",
     "output_type": "stream",
     "text": [
      "rhetorical\n",
      "6.59% of essays\n",
      "\n",
      "Anaphor   \n",
      "20.62% of essays\n",
      "\n"
     ]
    }
   ],
   "source": [
    "from collections import defaultdict\n",
    "\n",
    "to_match = [\"rhetorical\", \"Anaphor\"]\n",
    "matching_files = defaultdict(set)\n",
    "matching_lines = defaultdict(list)\n",
    "\n",
    "total_line_count = 0\n",
    "total_coreferent_lines = 0\n",
    "for f in files:\n",
    "    with open(f, \"r+\") as fin:\n",
    "        for line in fin.readlines():\n",
    "            total_line_count += 1\n",
    "            has_coreferent = False\n",
    "            for annot in to_match:\n",
    "                if \"\\t%s \" % annot in line:\n",
    "                    matching_files[annot].add(f)\n",
    "                    matching_lines[annot].append(line)\n",
    "                    has_coreferent = True\n",
    "            if has_coreferent:\n",
    "                total_coreferent_lines += 1\n",
    "                \n",
    "NUM_DIGITS = 2\n",
    "for annot in to_match:\n",
    "    m_files = matching_files[annot]\n",
    "    m_lines = matching_lines[annot]\n",
    "    print(annot.ljust(10)), #len(m_files), len(files), \n",
    "    print(str(round(100.0*float(len(m_files)) / len(files),NUM_DIGITS)) + \"% of essays\")\n",
    "    print()\n",
    "    \n",
    "    #not accurate vvv\n",
    "    #print str(round(100.0*float(len(m_lines)) / total_line_count,NUM_DIGITS)) + \"% of lines\""
   ]
  },
  {
   "cell_type": "markdown",
   "metadata": {},
   "source": [
    "### How Many Essays and Sentences Contain Some Coreference Reference?"
   ]
  },
  {
   "cell_type": "code",
   "execution_count": 3,
   "metadata": {},
   "outputs": [
    {
     "name": "stdout",
     "output_type": "stream",
     "text": [
      "Essays:    281 coreferents 1154 essays 24.4%\n"
     ]
    }
   ],
   "source": [
    "all_rhetorical = matching_files[\"rhetorical\"].union(matching_files[\"Anaphor\"])\n",
    "print(\"Essays:   \", len(all_rhetorical), \"coreferents\", len(files), \"essays\", str(100.0 * round(len(all_rhetorical) / float(len(files)),3)) + \"%\")\n",
    "\n",
    "#Not accurate vvv\n",
    "#print \"Sentences:\", total_coreferent_lines, \"coreferents\", total_line_count, \"lines\", str(100.0 * round(total_coreferent_lines / float(total_line_count),3)) + \"%\""
   ]
  },
  {
   "cell_type": "markdown",
   "metadata": {},
   "source": [
    "# How Many Sentences Have Cross-Sentence Causal Relations?\n",
    "We can't compute this directly without manually analyzing the data. But we can approximate it by looking at sentences containing some causal relation where one or both parts of the relation are not contained within the sentence"
   ]
  },
  {
   "cell_type": "code",
   "execution_count": 4,
   "metadata": {},
   "outputs": [
    {
     "data": {
      "text/html": [
       "<div>\n",
       "<table border=\"1\" class=\"dataframe\">\n",
       "  <thead>\n",
       "    <tr style=\"text-align: right;\">\n",
       "      <th></th>\n",
       "      <th>Essay</th>\n",
       "      <th>Concept Codes</th>\n",
       "      <th>Predictions</th>\n",
       "    </tr>\n",
       "  </thead>\n",
       "  <tbody>\n",
       "    <tr>\n",
       "      <th>0</th>\n",
       "      <td>EBA1415_AEKD_4_CB_ES-05568.ann</td>\n",
       "      <td>50</td>\n",
       "      <td>50</td>\n",
       "    </tr>\n",
       "    <tr>\n",
       "      <th>1</th>\n",
       "      <td>EBA1415_AEKD_4_CB_ES-05568.ann</td>\n",
       "      <td></td>\n",
       "      <td></td>\n",
       "    </tr>\n",
       "    <tr>\n",
       "      <th>2</th>\n",
       "      <td>EBA1415_AEKD_4_CB_ES-05568.ann</td>\n",
       "      <td>50</td>\n",
       "      <td>50</td>\n",
       "    </tr>\n",
       "    <tr>\n",
       "      <th>3</th>\n",
       "      <td>EBA1415_AEKD_4_CB_ES-05568.ann</td>\n",
       "      <td>50</td>\n",
       "      <td>50</td>\n",
       "    </tr>\n",
       "    <tr>\n",
       "      <th>4</th>\n",
       "      <td>EBA1415_AEKD_4_CB_ES-05572.ann</td>\n",
       "      <td>5</td>\n",
       "      <td></td>\n",
       "    </tr>\n",
       "    <tr>\n",
       "      <th>5</th>\n",
       "      <td>EBA1415_AEKD_4_CB_ES-05572.ann</td>\n",
       "      <td>5,50,_C-&gt;R,_CRel,_RRel,Causer,Result,explicit,...</td>\n",
       "      <td>50</td>\n",
       "    </tr>\n",
       "    <tr>\n",
       "      <th>6</th>\n",
       "      <td>EBA1415_AEKD_4_CB_ES-05572.ann</td>\n",
       "      <td></td>\n",
       "      <td></td>\n",
       "    </tr>\n",
       "    <tr>\n",
       "      <th>7</th>\n",
       "      <td>EBA1415_AEKD_4_CB_ES-05572.ann</td>\n",
       "      <td>4</td>\n",
       "      <td>Causer,Result</td>\n",
       "    </tr>\n",
       "    <tr>\n",
       "      <th>8</th>\n",
       "      <td>EBA1415_AEKD_4_CB_ES-05572.ann</td>\n",
       "      <td></td>\n",
       "      <td></td>\n",
       "    </tr>\n",
       "    <tr>\n",
       "      <th>9</th>\n",
       "      <td>EBA1415_AEKD_4_CB_ES-05572.ann</td>\n",
       "      <td>11</td>\n",
       "      <td>11</td>\n",
       "    </tr>\n",
       "  </tbody>\n",
       "</table>\n",
       "</div>"
      ],
      "text/plain": [
       "                            Essay  \\\n",
       "0  EBA1415_AEKD_4_CB_ES-05568.ann   \n",
       "1  EBA1415_AEKD_4_CB_ES-05568.ann   \n",
       "2  EBA1415_AEKD_4_CB_ES-05568.ann   \n",
       "3  EBA1415_AEKD_4_CB_ES-05568.ann   \n",
       "4  EBA1415_AEKD_4_CB_ES-05572.ann   \n",
       "5  EBA1415_AEKD_4_CB_ES-05572.ann   \n",
       "6  EBA1415_AEKD_4_CB_ES-05572.ann   \n",
       "7  EBA1415_AEKD_4_CB_ES-05572.ann   \n",
       "8  EBA1415_AEKD_4_CB_ES-05572.ann   \n",
       "9  EBA1415_AEKD_4_CB_ES-05572.ann   \n",
       "\n",
       "                                       Concept Codes    Predictions  \n",
       "0                                                 50             50  \n",
       "1                                                                    \n",
       "2                                                 50             50  \n",
       "3                                                 50             50  \n",
       "4                                                  5                 \n",
       "5  5,50,_C->R,_CRel,_RRel,Causer,Result,explicit,...             50  \n",
       "6                                                                    \n",
       "7                                                  4  Causer,Result  \n",
       "8                                                                    \n",
       "9                                                 11             11  "
      ]
     },
     "execution_count": 4,
     "metadata": {},
     "output_type": "execute_result"
    }
   ],
   "source": [
    "#Load output file - has original annotation data in it\n",
    "import pandas as pd\n",
    "\n",
    "fname = root + \"/Results/causal_codes_for_analysis.txt\"\n",
    "#fname = /Users/simon.hughes/Google Drive/PhD/Data/CoralBleaching/Results/predictions-causal_relations.txt\"\n",
    "#fname = \"/Users/simon.hughes/Google Drive/PhD/Data/SkinCancer/Results/predictions.txt\"\n",
    "data = pd.read_csv(fname, sep=\"|\")\n",
    "data[\"Concept Codes\"] = data[\"Concept Codes\"].astype(str).apply(lambda s: \"\" if s == \"nan\" else s)\n",
    "data[\"Predictions\"] = data[\"Predictions\"].astype(str).apply(lambda s: \"\" if s == \"nan\" else s)\n",
    "data[[\"Essay\",\"Concept Codes\", \"Predictions\"]].head(10)"
   ]
  },
  {
   "cell_type": "code",
   "execution_count": 5,
   "metadata": {},
   "outputs": [],
   "source": [
    "def to_concepts_only(s):\n",
    "    splt = s.split(\",\")\n",
    "    if not splt:\n",
    "        return set()\n",
    "    filtered = filter(lambda s: s and s[0].isdigit() and not \"-\" in s, splt)\n",
    "    return set(filtered)\n",
    "\n",
    "def is_causal(s):\n",
    "    return s.startswith(\"Causer:\") and \"->Result:\" in s\n",
    "\n",
    "def to_relations_only(s):\n",
    "    splt = s.split(\",\")\n",
    "    if not splt:\n",
    "        return set()\n",
    "    filtered = filter(lambda s: s and is_causal(s), splt)\n",
    "    cleaned = map(lambda s: s.replace(\"Causer:\",\"\").replace(\"Result:\",\"\"), filtered)\n",
    "    return set(cleaned)\n",
    "\n",
    "def set_to_str(a_set):\n",
    "    if len(a_set) == 0:\n",
    "        return \"-\"\n",
    "    return \",\".join(sorted(a_set))\n",
    "\n",
    "data[\"Codes\"] = data[\"Concept Codes\"].apply(to_concepts_only)\n",
    "data[\"sCodes\"] = data[\"Codes\"].apply(set_to_str)\n",
    "data[\"Causal\"] = data[\"Concept Codes\"].apply(to_relations_only)\n",
    "data[\"sCausal\"] = data[\"Causal\"].apply(set_to_str)\n",
    "#del data[\"Concept Codes\"]\n",
    "#data[\"Flt_Preds\"] = data[\"Predictions\"].apply(to_concepts_only)\n",
    "#del data[\"Predictions\"]"
   ]
  },
  {
   "cell_type": "code",
   "execution_count": 6,
   "metadata": {},
   "outputs": [
    {
     "data": {
      "text/html": [
       "<div>\n",
       "<table border=\"1\" class=\"dataframe\">\n",
       "  <thead>\n",
       "    <tr style=\"text-align: right;\">\n",
       "      <th></th>\n",
       "      <th>Codes</th>\n",
       "      <th>sCodes</th>\n",
       "      <th>Causal</th>\n",
       "      <th>sCausal</th>\n",
       "    </tr>\n",
       "  </thead>\n",
       "  <tbody>\n",
       "    <tr>\n",
       "      <th>0</th>\n",
       "      <td>{50}</td>\n",
       "      <td>50</td>\n",
       "      <td>{}</td>\n",
       "      <td>-</td>\n",
       "    </tr>\n",
       "    <tr>\n",
       "      <th>1</th>\n",
       "      <td>{}</td>\n",
       "      <td>-</td>\n",
       "      <td>{}</td>\n",
       "      <td>-</td>\n",
       "    </tr>\n",
       "    <tr>\n",
       "      <th>2</th>\n",
       "      <td>{50}</td>\n",
       "      <td>50</td>\n",
       "      <td>{}</td>\n",
       "      <td>-</td>\n",
       "    </tr>\n",
       "    <tr>\n",
       "      <th>3</th>\n",
       "      <td>{50}</td>\n",
       "      <td>50</td>\n",
       "      <td>{}</td>\n",
       "      <td>-</td>\n",
       "    </tr>\n",
       "    <tr>\n",
       "      <th>4</th>\n",
       "      <td>{5}</td>\n",
       "      <td>5</td>\n",
       "      <td>{}</td>\n",
       "      <td>-</td>\n",
       "    </tr>\n",
       "    <tr>\n",
       "      <th>5</th>\n",
       "      <td>{50, 5}</td>\n",
       "      <td>5,50</td>\n",
       "      <td>{5-&gt;50}</td>\n",
       "      <td>5-&gt;50</td>\n",
       "    </tr>\n",
       "    <tr>\n",
       "      <th>6</th>\n",
       "      <td>{}</td>\n",
       "      <td>-</td>\n",
       "      <td>{}</td>\n",
       "      <td>-</td>\n",
       "    </tr>\n",
       "    <tr>\n",
       "      <th>7</th>\n",
       "      <td>{4}</td>\n",
       "      <td>4</td>\n",
       "      <td>{}</td>\n",
       "      <td>-</td>\n",
       "    </tr>\n",
       "    <tr>\n",
       "      <th>8</th>\n",
       "      <td>{}</td>\n",
       "      <td>-</td>\n",
       "      <td>{}</td>\n",
       "      <td>-</td>\n",
       "    </tr>\n",
       "    <tr>\n",
       "      <th>9</th>\n",
       "      <td>{11}</td>\n",
       "      <td>11</td>\n",
       "      <td>{}</td>\n",
       "      <td>-</td>\n",
       "    </tr>\n",
       "  </tbody>\n",
       "</table>\n",
       "</div>"
      ],
      "text/plain": [
       "     Codes sCodes   Causal sCausal\n",
       "0     {50}     50       {}       -\n",
       "1       {}      -       {}       -\n",
       "2     {50}     50       {}       -\n",
       "3     {50}     50       {}       -\n",
       "4      {5}      5       {}       -\n",
       "5  {50, 5}   5,50  {5->50}   5->50\n",
       "6       {}      -       {}       -\n",
       "7      {4}      4       {}       -\n",
       "8       {}      -       {}       -\n",
       "9     {11}     11       {}       -"
      ]
     },
     "execution_count": 6,
     "metadata": {},
     "output_type": "execute_result"
    }
   ],
   "source": [
    "data[[\"Codes\", \"sCodes\", \"Causal\", \"sCausal\"]].head(10)"
   ]
  },
  {
   "cell_type": "code",
   "execution_count": 7,
   "metadata": {},
   "outputs": [
    {
     "data": {
      "text/plain": [
       "array(['5,50,_C->R,_CRel,_RRel,Causer,Result,explicit,Causer:5->Result:50',\n",
       "       '50,_C->R,_CRel,_RRel,Causer,Result,explicit,Causer:7->Result:50',\n",
       "       '3,4,_C->R,_CRel,_RRel,Causer,Result,explicit,Causer:3->Result:4',\n",
       "       ...,\n",
       "       '1,3,50,_C->R,_CRel,_RRel,Causer,Result,explicit,Causer:1->Result:50,Causer:3->Result:50',\n",
       "       '6,14,50,_C->R,_CRel,_RRel,Causer,Result,explicit,Causer:6->Result:14,Causer:14->Result:50',\n",
       "       '7,50,_C->R,_CRel,_RRel,Causer,Result,explicit,Causer:7->Result:50'],\n",
       "      dtype=object)"
      ]
     },
     "execution_count": 7,
     "metadata": {},
     "output_type": "execute_result"
    }
   ],
   "source": [
    "data[data[\"sCausal\"] != \"-\"][\"Concept Codes\"].values"
   ]
  },
  {
   "cell_type": "code",
   "execution_count": 8,
   "metadata": {},
   "outputs": [
    {
     "data": {
      "text/html": [
       "<div>\n",
       "<table border=\"1\" class=\"dataframe\">\n",
       "  <thead>\n",
       "    <tr style=\"text-align: right;\">\n",
       "      <th></th>\n",
       "      <th>sCodes</th>\n",
       "      <th>sCausal</th>\n",
       "    </tr>\n",
       "  </thead>\n",
       "  <tbody>\n",
       "    <tr>\n",
       "      <th>5</th>\n",
       "      <td>5,50</td>\n",
       "      <td>5-&gt;50</td>\n",
       "    </tr>\n",
       "    <tr>\n",
       "      <th>14</th>\n",
       "      <td>50</td>\n",
       "      <td>7-&gt;50</td>\n",
       "    </tr>\n",
       "    <tr>\n",
       "      <th>19</th>\n",
       "      <td>3,4</td>\n",
       "      <td>3-&gt;4</td>\n",
       "    </tr>\n",
       "    <tr>\n",
       "      <th>20</th>\n",
       "      <td>50,7</td>\n",
       "      <td>7-&gt;50</td>\n",
       "    </tr>\n",
       "    <tr>\n",
       "      <th>25</th>\n",
       "      <td>-</td>\n",
       "      <td>7-&gt;50</td>\n",
       "    </tr>\n",
       "  </tbody>\n",
       "</table>\n",
       "</div>"
      ],
      "text/plain": [
       "   sCodes sCausal\n",
       "5    5,50   5->50\n",
       "14     50   7->50\n",
       "19    3,4    3->4\n",
       "20   50,7   7->50\n",
       "25      -   7->50"
      ]
     },
     "execution_count": 8,
     "metadata": {},
     "output_type": "execute_result"
    }
   ],
   "source": [
    "causal = data[data[\"sCausal\"] != \"-\"]\n",
    "causal[[\"sCodes\",\"sCausal\"]].head()"
   ]
  },
  {
   "cell_type": "code",
   "execution_count": 9,
   "metadata": {},
   "outputs": [
    {
     "data": {
      "text/plain": [
       "(2724, 10209, 26.68)"
      ]
     },
     "execution_count": 9,
     "metadata": {},
     "output_type": "execute_result"
    }
   ],
   "source": [
    "from __future__ import division\n",
    "len(causal), len(data), round(100* len(causal)/ len(data),2)"
   ]
  },
  {
   "cell_type": "code",
   "execution_count": 10,
   "metadata": {},
   "outputs": [
    {
     "data": {
      "text/plain": [
       "253"
      ]
     },
     "execution_count": 10,
     "metadata": {},
     "output_type": "execute_result"
    }
   ],
   "source": [
    "#causal[causal[\"sCodes\"] == \"-\"][[\"sCausal\", \"sCodes\"]]\n",
    "len(causal[causal[\"sCodes\"] == \"-\"])"
   ]
  },
  {
   "cell_type": "code",
   "execution_count": 11,
   "metadata": {},
   "outputs": [
    {
     "data": {
      "text/plain": [
       "(550, 297)"
      ]
     },
     "execution_count": 11,
     "metadata": {},
     "output_type": "execute_result"
    }
   ],
   "source": [
    "cross_sent_count = 0\n",
    "examplars = []\n",
    "for i, row in causal[[\"Codes\", \"sCausal\"]].iterrows():\n",
    "    codes = row[\"Codes\"]\n",
    "    s_causal_relns = row[\"sCausal\"]\n",
    "    #if causal == \"-\":\n",
    "    #    continue\n",
    "    if not codes:\n",
    "        cross_sent_count +=1\n",
    "        continue\n",
    "    for rel in s_causal_relns.split(\",\"):\n",
    "        rcodes = rel.split(\"->\")\n",
    "        assert len(rcodes) == 2, \"wrong number of codes: {0}, relation: {1}\".format(len(rcodes), rel)\n",
    "        assert all(map(lambda s: s[0].isdigit(), rcodes)), \"not all codes are numeric {0}\".format(rel)\n",
    "        if not all(map(lambda c: c in codes, rcodes)):\n",
    "            examplars.append((codes, rel, rcodes))\n",
    "            cross_sent_count +=1\n",
    "            break\n",
    "cross_sent_count, len(examplars)"
   ]
  },
  {
   "cell_type": "code",
   "execution_count": 12,
   "metadata": {},
   "outputs": [
    {
     "data": {
      "text/plain": [
       "[({'50'}, '7->50', ['7', '50']),\n",
       " ({'50'}, '7->50', ['7', '50']),\n",
       " ({'3'}, '3->5', ['3', '5']),\n",
       " ({'50'}, '5b->50', ['5b', '50']),\n",
       " ({'50', '7'}, '5b->50', ['5b', '50']),\n",
       " ({'50'}, '1->50', ['1', '50']),\n",
       " ({'1', '5', '6'}, '1->50', ['1', '50']),\n",
       " ({'1'}, '1->2', ['1', '2']),\n",
       " ({'2'}, '1->2', ['1', '2']),\n",
       " ({'6'}, '6->7', ['6', '7']),\n",
       " ({'7'}, '6->7', ['6', '7']),\n",
       " ({'3'}, '1->3', ['1', '3']),\n",
       " ({'50'}, '7->50', ['7', '50']),\n",
       " ({'3'}, '3->5', ['3', '5']),\n",
       " ({'1', '3', '50'}, '3->7', ['3', '7']),\n",
       " ({'50'}, '1->50', ['1', '50']),\n",
       " ({'1', '13'}, '1->50', ['1', '50']),\n",
       " ({'3'}, '3->5', ['3', '5']),\n",
       " ({'3'}, '3->5', ['3', '5']),\n",
       " ({'3'}, '3->5', ['3', '5'])]"
      ]
     },
     "execution_count": 12,
     "metadata": {},
     "output_type": "execute_result"
    }
   ],
   "source": [
    "#Sanity Check\n",
    "examplars[0:20]"
   ]
  },
  {
   "cell_type": "code",
   "execution_count": 13,
   "metadata": {},
   "outputs": [
    {
     "data": {
      "text/plain": [
       "(20.19, 550, 2724)"
      ]
     },
     "execution_count": 13,
     "metadata": {},
     "output_type": "execute_result"
    }
   ],
   "source": [
    "pctCrossing = 100.0 * cross_sent_count / len(causal)\n",
    "round(pctCrossing,2), cross_sent_count, len(causal)"
   ]
  },
  {
   "cell_type": "markdown",
   "metadata": {},
   "source": [
    "## ** CONCLUSION ** Around 20% of the Causal Relations Are Cross Sentences"
   ]
  },
  {
   "cell_type": "markdown",
   "metadata": {},
   "source": [
    "## For Comparison with the Anaphora and Rhetorical Counts, We need to Compute % of Lines"
   ]
  },
  {
   "cell_type": "code",
   "execution_count": 14,
   "metadata": {},
   "outputs": [
    {
     "name": "stdout",
     "output_type": "stream",
     "text": [
      "1.97 % of lines have cross-sentence causal relations\n"
     ]
    }
   ],
   "source": [
    "print(round(100*cross_sent_count / total_line_count,2), \"% of lines have cross-sentence causal relations\")"
   ]
  },
  {
   "cell_type": "markdown",
   "metadata": {},
   "source": [
    "# Both Datasets (CB and SK) Aggregated"
   ]
  },
  {
   "cell_type": "markdown",
   "metadata": {},
   "source": [
    "CB\n",
    "\n",
    "Essays:    281 coreferents   1154  essays 24.4%\n",
    "\n",
    "(20.19% causal references cross sentences, 550 causal, 2724 causal references)\n",
    "\n",
    "SC\n",
    "\n",
    "Essays:    333 coreferents   1107  essays 30.1%\n",
    "\n",
    "(19.7, causal references cross sentences, 793 causal, 4025 causal references)\n",
    "\n",
    "TOTAL\n",
    "Essays: "
   ]
  },
  {
   "cell_type": "code",
   "execution_count": 15,
   "metadata": {},
   "outputs": [
    {
     "data": {
      "text/plain": [
       "('Essays', 614, 2261, '27.16%')"
      ]
     },
     "execution_count": 15,
     "metadata": {},
     "output_type": "execute_result"
    }
   ],
   "source": [
    "\"Essays\",     281 + 333, 1154 + 1107, str(round((281 + 333.0) / (1154 + 1107) * 100.0,2)) + \"%\""
   ]
  },
  {
   "cell_type": "code",
   "execution_count": null,
   "metadata": {},
   "outputs": [],
   "source": []
  }
 ],
 "metadata": {
  "kernelspec": {
   "display_name": "Python [conda env:phd_py36]",
   "language": "python",
   "name": "conda-env-phd_py36-py"
  },
  "language_info": {
   "codemirror_mode": {
    "name": "ipython",
    "version": 3
   },
   "file_extension": ".py",
   "mimetype": "text/x-python",
   "name": "python",
   "nbconvert_exporter": "python",
   "pygments_lexer": "ipython3",
   "version": "3.6.4"
  }
 },
 "nbformat": 4,
 "nbformat_minor": 1
}
