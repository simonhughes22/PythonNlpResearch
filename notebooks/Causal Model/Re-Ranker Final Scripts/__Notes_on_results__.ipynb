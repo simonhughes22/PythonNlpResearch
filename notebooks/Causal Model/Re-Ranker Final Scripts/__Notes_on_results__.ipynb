{
 "cells": [
  {
   "cell_type": "markdown",
   "metadata": {},
   "source": [
    "* Might be better to ignore all the work on the MIRA / PA algorithm. \n",
    "  * Structured perceptron does better than the essay parser on both datasets\n",
    "  * Structured perceptron is best re-ranker on the CB TEST dataset (not as well on VD, but overfit?)\n",
    "  * Structured perceptron not best re-ranker on SC TEST dataset, but PA 1 + Cost sensitive did not outperform others\n",
    " \n",
    " \n",
    "* **IF IGNORING MIRA / PA WORK** then need to update:\n",
    "  * Abstract (likely needs updating anyways)\n",
    "  * Remove extra section added to the structured learning file last week (comment it out using LaTex block comments)"
   ]
  },
  {
   "cell_type": "code",
   "execution_count": null,
   "metadata": {},
   "outputs": [],
   "source": []
  }
 ],
 "metadata": {
  "kernelspec": {
   "display_name": "Python 3",
   "language": "python",
   "name": "python3"
  },
  "language_info": {
   "codemirror_mode": {
    "name": "ipython",
    "version": 3
   },
   "file_extension": ".py",
   "mimetype": "text/x-python",
   "name": "python",
   "nbconvert_exporter": "python",
   "pygments_lexer": "ipython3",
   "version": "3.6.2"
  }
 },
 "nbformat": 4,
 "nbformat_minor": 4
}
