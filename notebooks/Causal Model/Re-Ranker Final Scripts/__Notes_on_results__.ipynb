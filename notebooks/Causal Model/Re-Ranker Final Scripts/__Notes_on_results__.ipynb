{
 "cells": [
  {
   "cell_type": "markdown",
   "metadata": {},
   "source": [
    "## MIRA Algorithm and Other Re-Ranking Variants\n",
    "* Might be better to ignore all the work on the MIRA / PA algorithm. \n",
    "  * Structured perceptron does better than the essay parser on both datasets\n",
    "  * Structured perceptron is best re-ranker on the CB TEST dataset (not as well on VD, but overfit?)\n",
    "  * Structured perceptron not best re-ranker on SC TEST dataset, but PA 1 + Cost sensitive did not outperform others\n",
    " \n",
    " \n",
    "* **IF IGNORING MIRA / PA WORK** then need to update:\n",
    "  * Abstract (likely needs updating anyways)\n",
    "  * Remove extra section added to the structured learning file last week (comment it out using LaTex block comments)"
   ]
  },
  {
   "cell_type": "markdown",
   "metadata": {},
   "source": [
    "## Model Type - Structured Perceptron\n",
    "- Initially I thought the PA algorithm was the best approach, so that was chosen and optimized against. The results in the Mongo that just refer to Re-RANKER without specifiying a model type use the PA algorithm\n",
    "- The \\*STR_PCPTRN\\* results are the only ones we care about"
   ]
  },
  {
   "cell_type": "markdown",
   "metadata": {},
   "source": [
    "## Skin Cancer Model - Hyper Parameter Tuning Run 3\n",
    "- After some iteration and analysis, realized the reason for the poorer performance of the SC model was due to the fact that this model suffers more from precision issues, whereas CB model suffers more from recall issues.\n",
    "- To address this, I upped the max_best_parses limit from 300 (i.e. 256 = 2^8) to 600 (2^9 = 512)\n",
    "- This has the result of increasing the recall of the model, while the re-ranker, if trained optimally, is able to maintain a high precision\n",
    "- For the CB this was the opposite, we kept the number of models smaller (1/2 the number) and the beam size ended up being much smaller - acted as a precision optimization approach"
   ]
  },
  {
   "cell_type": "code",
   "execution_count": null,
   "metadata": {},
   "outputs": [],
   "source": []
  }
 ],
 "metadata": {
  "kernelspec": {
   "display_name": "Python 3",
   "language": "python",
   "name": "python3"
  },
  "language_info": {
   "codemirror_mode": {
    "name": "ipython",
    "version": 3
   },
   "file_extension": ".py",
   "mimetype": "text/x-python",
   "name": "python",
   "nbconvert_exporter": "python",
   "pygments_lexer": "ipython3",
   "version": "3.6.2"
  }
 },
 "nbformat": 4,
 "nbformat_minor": 4
}
