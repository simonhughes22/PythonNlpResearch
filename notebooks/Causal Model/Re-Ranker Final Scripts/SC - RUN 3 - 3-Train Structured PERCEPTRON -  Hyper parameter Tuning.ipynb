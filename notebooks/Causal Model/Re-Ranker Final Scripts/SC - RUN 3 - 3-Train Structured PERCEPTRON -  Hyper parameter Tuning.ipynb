{
 "cells": [
  {
   "cell_type": "code",
   "execution_count": 1,
   "metadata": {},
   "outputs": [],
   "source": [
    "# %load_ext autoreload\n",
    "# %autoreload 2"
   ]
  },
  {
   "cell_type": "code",
   "execution_count": 1,
   "metadata": {},
   "outputs": [],
   "source": [
    "import os\n",
    "import sys\n",
    "cm_folder = \"/Users/simon.hughes/GitHub/NlpResearch/PythonNlpResearch/notebooks/Causal Model/\"\n",
    "src_path = os.path.join(cm_folder, \"src\")\n",
    "sys.path.append(src_path)"
   ]
  },
  {
   "cell_type": "code",
   "execution_count": 2,
   "metadata": {},
   "outputs": [],
   "source": [
    "from typing import Any\n",
    "\n",
    "import dill\n",
    "import numpy as np\n",
    "\n",
    "from CrossValidation import cross_validation\n",
    "from structured_perceptron import StructuredPerceptron\n",
    "from Settings import Settings\n",
    "\n",
    "from window_based_tagger_config import get_config\n",
    "from crel_helper import get_cr_tags\n",
    "from crel_processing import essay_to_crels_cv\n",
    "from evaluation import evaluate_model_essay_level, get_micro_metrics, metrics_to_df\n",
    "from feature_normalization import min_max_normalize_feats\n",
    "from function_helpers import get_function_names\n",
    "from results_procesor import ResultsProcessor\n",
    "from train_parser import essay_to_crels, create_extractor_functions\n",
    "from cost_functions import micro_f1_cost_plusepsilon\n",
    "from train_reranker import train_model, train_instance, get_essays_for_data, evaluate_ranker\n",
    "from searn_parser_breadth_first import SearnModelBreadthFirst\n",
    "from causal_model_features import CausalModelType\n",
    "from feature_extraction import get_features_from_probabilities\n",
    "from results_procesor import ResultsProcessor\n",
    "from filter_features import filter_feats\n",
    "\n",
    "from wordtagginghelper import merge_dictionaries\n",
    "from results_procesor import ResultsProcessor, __MICRO_F1__\n",
    "from evaluation import add_cr_labels\n",
    "\n",
    "from random import shuffle\n",
    "from joblib import Parallel, delayed\n",
    "from collections import defaultdict"
   ]
  },
  {
   "cell_type": "code",
   "execution_count": 12,
   "metadata": {},
   "outputs": [],
   "source": [
    "def train_model_fold(xs_train, xs_test, name2essay, learning_rate, max_update_items, set_cr_tags,\\\n",
    "                     initial_weight, max_epochs, early_stop_iters):\n",
    "\n",
    "    mdl = StructuredPerceptron(\n",
    "        learning_rate=learning_rate, max_update_items=max_update_items, initial_weight=initial_weight)\n",
    "\n",
    "    return train_model(mdl, xs_train=xs_train, xs_test=xs_test, name2essay=name2essay,\n",
    "            max_epochs=max_epochs, early_stop_iters=early_stop_iters, set_cr_tags=set_cr_tags,\n",
    "            train_instance_fn=train_instance,\n",
    "            verbose=False, return_metrics=True, early_stopping=False)\n",
    "\n",
    "def train_model_parallel(cv_folds, name2essay, learning_rate, max_update_items, set_cr_tags, \\\n",
    "                         initial_weight, max_epochs=5, early_stop_iters=5, n_jobs=None):\n",
    "\n",
    "    if n_jobs == None:\n",
    "        n_jobs = len(cv_folds)\n",
    "    try:\n",
    "        results = Parallel(n_jobs=n_jobs)(\n",
    "            delayed(train_model_fold)(train, test, name2essay, learning_rate, max_update_items, set_cr_tags, \\\n",
    "                                      initial_weight, max_epochs, early_stop_iters)\n",
    "            for (train, test) in cv_folds)\n",
    "\n",
    "        f1s = []\n",
    "        for tpl in results:\n",
    "            best_test_f1, best_iterations, train_ys_bytag, train_pred_ys_bytag, test_ys_bytag, test_pred_ys_bytag, num_feats = tpl\n",
    "            f1s.append(best_test_f1)\n",
    "        return np.mean(f1s)\n",
    "    except KeyboardInterrupt:\n",
    "        print(\"Process stopped by user\")\n",
    "\n",
    "def train_model_parallel_logged(training_collection_name: str, results_processor: ResultsProcessor,\n",
    "                                feat_extractors, params,\n",
    "                                cv_folds, name2essay,\n",
    "                                learning_rate: float, max_update_items:int, set_cr_tags, \\\n",
    "                                initial_weight: float,  max_epochs=5, early_stop_iters=5, n_jobs=None):\n",
    "    if not n_jobs or n_jobs == None:\n",
    "        n_jobs = len(cv_folds)\n",
    "\n",
    "    try:\n",
    "        results = Parallel(n_jobs=n_jobs)(\n",
    "            delayed(train_model_fold)(train, test, name2essay, learning_rate, max_update_items, set_cr_tags, \\\n",
    "                                      initial_weight, max_epochs, early_stop_iters)\n",
    "            for (train, test) in cv_folds)\n",
    "\n",
    "        cv_sent_td_ys_by_tag, cv_sent_td_predictions_by_tag = defaultdict(list), defaultdict(list)\n",
    "        cv_sent_vd_ys_by_tag, cv_sent_vd_predictions_by_tag = defaultdict(list), defaultdict(list)\n",
    "\n",
    "        f1s = []\n",
    "        feats = []\n",
    "        for tpl in results:\n",
    "            best_test_f1, best_iterations, train_ys_bytag, train_pred_ys_bytag, test_ys_bytag, test_pred_ys_bytag, num_feats = tpl\n",
    "            feats.append(num_feats)\n",
    "            f1s.append(best_test_f1)\n",
    "\n",
    "            merge_dictionaries(train_ys_bytag, cv_sent_td_ys_by_tag)\n",
    "            merge_dictionaries(test_ys_bytag, cv_sent_vd_ys_by_tag)\n",
    "\n",
    "            merge_dictionaries(train_pred_ys_bytag, cv_sent_td_predictions_by_tag)\n",
    "            merge_dictionaries(test_pred_ys_bytag, cv_sent_vd_predictions_by_tag)\n",
    "\n",
    "\n",
    "        ALGO = \"Structured Perceptron\"\n",
    "        validation_collection = training_collection_name.replace(\"_TD\", \"_VD\")\n",
    "\n",
    "        # extractors = list(map(lambda fn: fn.func_name, feat_extractors))\n",
    "        extractors = list(feat_extractors)\n",
    "\n",
    "        parameters = {\n",
    "            \"learning_rate\":        learning_rate,\n",
    "            \"loss_type\":            \"None\",\n",
    "            \"max_update_items\":     max_update_items,\n",
    "            \"initial_weight\":       initial_weight,\n",
    "\n",
    "            \"max_epochs\":           max_epochs,\n",
    "            \"early_stopping_iters\": early_stop_iters,\n",
    "\n",
    "            \"extractors\":           extractors,\n",
    "\n",
    "            # Add in number of features\n",
    "            \"num_feats_per_fold\":   feats,\n",
    "            \"num_feats_MEAN\":       np.mean(feats)\n",
    "        }\n",
    "        # add in additional parameters not passed in\n",
    "        parameters.update(params)\n",
    "\n",
    "        wd_td_objectid = results_processor.persist_results(training_collection_name,\n",
    "                                                           cv_sent_td_ys_by_tag,\n",
    "                                                           cv_sent_td_predictions_by_tag,\n",
    "                                                           parameters, ALGO)\n",
    "\n",
    "        wd_vd_objectid = results_processor.persist_results(validation_collection,\n",
    "                                                           cv_sent_vd_ys_by_tag,\n",
    "                                                           cv_sent_vd_predictions_by_tag,\n",
    "                                                           parameters, ALGO)\n",
    "\n",
    "        avg_f1 = float(results_processor.get_metric(validation_collection, wd_vd_objectid, __MICRO_F1__)[\"f1_score\"])\n",
    "        return avg_f1\n",
    "    except KeyboardInterrupt:\n",
    "        print(\"Process stopped by user\")"
   ]
  },
  {
   "cell_type": "code",
   "execution_count": 13,
   "metadata": {},
   "outputs": [
    {
     "name": "stdout",
     "output_type": "stream",
     "text": [
      "Results Dir: /Users/simon.hughes/Google Drive/Phd/Results/\n",
      "Data Dir:    /Users/simon.hughes/Google Drive/Phd/Data/\n",
      "Root Dir:    /Users/simon.hughes/GitHub/NlpResearch/\n",
      "Public Data: /Users/simon.hughes/GitHub/NlpResearch/Data/PublicDatasets/\n",
      "870 218\n"
     ]
    }
   ],
   "source": [
    "# Data Set Partition\n",
    "CV_FOLDS = 5\n",
    "MIN_FEAT_FREQ = 5\n",
    "\n",
    "# Global settings\n",
    "settings = Settings()\n",
    "CAUSAL_MODEL_TYPE = CausalModelType.SKIN_CANCER\n",
    "root_folder = settings.data_directory + \"SkinCancer/Thesis_Dataset/\"\n",
    "training_folder = root_folder + \"Training\" + \"/\"\n",
    "test_folder = root_folder + \"Test\" + \"/\"\n",
    "\n",
    "crels_folder = \"./crels/SC\"\n",
    "coref_root = root_folder + \"CoReference/\"\n",
    "coref_output_folder = coref_root + \"CRel/\"\n",
    "\n",
    "MONGO_COLLECTION = \"SC_STR_PCPTRN_RE-RANKER_HYPER_PARAM_TD_3\"\n",
    "MONGO_TEST_COLLECTION = \"TEST_SC_STR_PCPTRN_RE-RANKER_TD_3\"\n",
    "\n",
    "config = get_config(training_folder)\n",
    "results_processor = ResultsProcessor(dbname=\"metrics_causal_model_reranker\")\n",
    "\n",
    "train_fname = coref_output_folder + \"training_crel_anatagged_essays_most_recent_code.dill\"\n",
    "with open(train_fname, \"rb\") as f:\n",
    "    pred_tagged_essays_train = dill.load(f)\n",
    "\n",
    "test_fname = coref_output_folder + \"test_crel_anatagged_essays_most_recent_code.dill\"\n",
    "with open(test_fname, \"rb\") as f:\n",
    "    pred_tagged_essays_test = dill.load(f)\n",
    "\n",
    "print(len(pred_tagged_essays_train), len(pred_tagged_essays_test))"
   ]
  },
  {
   "cell_type": "code",
   "execution_count": 14,
   "metadata": {},
   "outputs": [
    {
     "data": {
      "text/plain": [
       "1088"
      ]
     },
     "execution_count": 14,
     "metadata": {},
     "output_type": "execute_result"
    }
   ],
   "source": [
    "len(pred_tagged_essays_train) + len(pred_tagged_essays_test)"
   ]
  },
  {
   "cell_type": "code",
   "execution_count": 15,
   "metadata": {},
   "outputs": [
    {
     "data": {
      "text/plain": [
       "['Causer:6->Result:5',\n",
       " 'Causer:4->Result:5',\n",
       " 'Causer:11->Result:3',\n",
       " 'Causer:2->Result:50',\n",
       " 'Causer:3->Result:5',\n",
       " 'Causer:4->Result:4',\n",
       " 'Causer:5->Result:6',\n",
       " 'Causer:12->Result:3',\n",
       " 'Causer:1->Result:3',\n",
       " 'Causer:12->Result:5']"
      ]
     },
     "execution_count": 15,
     "metadata": {},
     "output_type": "execute_result"
    }
   ],
   "source": [
    "cr_tags = get_cr_tags(train_tagged_essays=pred_tagged_essays_train, tag_essays_test=pred_tagged_essays_test)\n",
    "\n",
    "set_cr_tags = set(cr_tags)\n",
    "list(set_cr_tags)[0:10]"
   ]
  },
  {
   "cell_type": "code",
   "execution_count": 16,
   "metadata": {},
   "outputs": [],
   "source": [
    "all_essays = pred_tagged_essays_train + pred_tagged_essays_test\n",
    "name2essay = {}\n",
    "for essay in all_essays:\n",
    "    name2essay[essay.name] = essay\n",
    "\n",
    "name2crels = essay_to_crels(all_essays, set_cr_tags)\n",
    "assert len(name2crels) == len(all_essays)"
   ]
  },
  {
   "cell_type": "markdown",
   "metadata": {},
   "source": [
    "# Train Re-Ranker"
   ]
  },
  {
   "cell_type": "markdown",
   "metadata": {},
   "source": [
    "## Extract Parses from Sentence Parser"
   ]
  },
  {
   "cell_type": "code",
   "execution_count": 17,
   "metadata": {},
   "outputs": [],
   "source": [
    "best_top_n = 2\n",
    "min_feat_freq = 1\n",
    "best_max_upd = 1 \n",
    "best_max_parses = 600 # i.e. 512\n",
    "best_min_prob = 0.0  # min prob of 0 seems better"
   ]
  },
  {
   "cell_type": "code",
   "execution_count": 18,
   "metadata": {},
   "outputs": [],
   "source": [
    "def load_rerank(top_n):\n",
    "    rr_fname = \"xs_rerank_\" + str(top_n) + \".dill\"\n",
    "    with open(os.path.join(crels_folder, rr_fname), \"rb\") as f:\n",
    "        xs_rerank = dill.load(f)\n",
    "\n",
    "    rr_fname = \"xs_rerank_test\" + str(top_n) + \".dill\"\n",
    "    with open(os.path.join(crels_folder, rr_fname), \"rb\") as f:\n",
    "        xs_test_rerank = dill.load(f)\n",
    "    return xs_rerank, xs_test_rerank"
   ]
  },
  {
   "cell_type": "markdown",
   "metadata": {},
   "source": [
    "## Prepare Features"
   ]
  },
  {
   "cell_type": "code",
   "execution_count": 19,
   "metadata": {},
   "outputs": [],
   "source": [
    "prefixes = [\n",
    "    \"Prob-\",\n",
    "#     \"CREL_Pair-\",\n",
    "    \"Inv-\",\n",
    "    \"num_crels\",\n",
    "    \"Tally-\",\n",
    "    \"CChain-\",\n",
    "    \"CChainStats-\",\n",
    "    \"Above-\",\n",
    "    \"CREL_\",\n",
    "    \"Propn_\",\n",
    "    \"Diff_\"\n",
    "]\n",
    "\n",
    "# Results from run 3\n",
    "current_best = ['num_crels', 'Inv-', 'Prob-']\n",
    "best_iterations = 2\n",
    "\n",
    "# current_best = ['num_crels', 'Inv-']\n",
    "# best_iterations = 1\n",
    "\n",
    "# default params (not all of these are optimized)\n",
    "params = {\n",
    "    \"best_top_n\": best_top_n,\n",
    "#     \"best_max_upd\": best_max_upd,\n",
    "    \"best_max_parses\": best_max_parses,\n",
    "    \"best_min_prob\": best_min_prob,\n",
    "    \"min_feat_freq\": min_feat_freq\n",
    "}"
   ]
  },
  {
   "cell_type": "markdown",
   "metadata": {},
   "source": [
    "## Load Param Hash"
   ]
  },
  {
   "cell_type": "code",
   "execution_count": 20,
   "metadata": {},
   "outputs": [],
   "source": [
    "vals = (\"learning_rate\", \"best_max_parses\", \n",
    "        #\"best_max_upd\", \n",
    "        \"max_update_items\", \n",
    "        \"best_min_prob\", \"best_top_n\", \"extractors\", \"initial_weight\",\\\n",
    "        \"min_feat_freq\")\n",
    "\n",
    "def hash_params(params):\n",
    "    p = dict()\n",
    "    # only copy over white list vals\n",
    "    for v in vals:\n",
    "        p[v] = params[v]\n",
    "    return str(sorted(p.items())).replace(\" \",\"\")\n",
    "\n",
    "def load_param_hash(db, collection):\n",
    "    project = {\n",
    "        \"params\": \"$parameters\",\n",
    "#         \"asof\":   \"$asof\",\n",
    "        \"_id\": 1\n",
    "    }\n",
    "    feats_pipeline = [{ \"$project\": project }]\n",
    "    rows = [row for row in db[collection].aggregate(feats_pipeline)]\n",
    "    print(\"len(rows)\", len(rows))\n",
    "    param_hash = set()\n",
    "    for r in rows:\n",
    "        param_hash.add(hash_params(r[\"params\"]))\n",
    "    return param_hash"
   ]
  },
  {
   "cell_type": "code",
   "execution_count": 21,
   "metadata": {},
   "outputs": [
    {
     "name": "stdout",
     "output_type": "stream",
     "text": [
      "len(rows) 0\n"
     ]
    },
    {
     "data": {
      "text/plain": [
       "(0, 'SC_STR_PCPTRN_RE-RANKER_HYPER_PARAM_TD_3')"
      ]
     },
     "execution_count": 21,
     "metadata": {},
     "output_type": "execute_result"
    }
   ],
   "source": [
    "import pymongo\n",
    "\n",
    "client = pymongo.MongoClient(serverSelectionTimeoutMS=100, host=\"127.0.0.1\")\n",
    "param_hash = load_param_hash(client.metrics_causal_model_reranker, MONGO_COLLECTION)\n",
    "len(param_hash), MONGO_COLLECTION"
   ]
  },
  {
   "cell_type": "code",
   "execution_count": 22,
   "metadata": {},
   "outputs": [
    {
     "data": {
      "text/plain": [
       "('SC_STR_PCPTRN_RE-RANKER_HYPER_PARAM_TD_3', 2, ['num_crels', 'Inv-', 'Prob-'])"
      ]
     },
     "execution_count": 22,
     "metadata": {},
     "output_type": "execute_result"
    }
   ],
   "source": [
    "MONGO_COLLECTION, best_iterations, current_best"
   ]
  },
  {
   "cell_type": "markdown",
   "metadata": {},
   "source": [
    "## Hyper Parameter Optimization"
   ]
  },
  {
   "cell_type": "code",
   "execution_count": 23,
   "metadata": {},
   "outputs": [
    {
     "data": {
      "text/plain": [
       "datetime.datetime(2019, 7, 10, 21, 49, 26, 882567)"
      ]
     },
     "execution_count": 23,
     "metadata": {},
     "output_type": "execute_result"
    }
   ],
   "source": [
    "import datetime\n",
    "datetime.datetime.now()"
   ]
  },
  {
   "cell_type": "code",
   "execution_count": 24,
   "metadata": {},
   "outputs": [],
   "source": [
    "best_f1 = -1\n",
    "# best_f1 = 0.7457"
   ]
  },
  {
   "cell_type": "markdown",
   "metadata": {},
   "source": [
    "### Initial Parameters"
   ]
  },
  {
   "cell_type": "code",
   "execution_count": 25,
   "metadata": {},
   "outputs": [],
   "source": [
    "learning_rate = 0.3\n",
    "max_update_items = 1  # best_max_upd - 2\n",
    "initial_weight = 0.01  # was 0.01\n",
    "best_max_upd = 1"
   ]
  },
  {
   "cell_type": "code",
   "execution_count": 26,
   "metadata": {},
   "outputs": [],
   "source": [
    "# Form a closure to simplify loop\n",
    "def trn_mdl(top_n, prms, cv_filtrd):\n",
    "    \n",
    "    global best_f1, learning_rate, best_max_upd, initial_weight\n",
    "    \n",
    "    n_jobs = None\n",
    "    # Uses too much RAM, drop to single threaded\n",
    "    if top_n > 3:        \n",
    "        n_jobs = 1\n",
    "    \n",
    "    f1 = train_model_parallel_logged(\n",
    "        training_collection_name=MONGO_COLLECTION, results_processor=results_processor,\n",
    "        feat_extractors=current_best, params=prms,\n",
    "\n",
    "        cv_folds=cv_filtrd, name2essay=name2essay, \n",
    "        learning_rate=learning_rate, max_update_items=best_max_upd, initial_weight=initial_weight,\n",
    "        set_cr_tags=set_cr_tags,\n",
    "        # use best iterations from above\n",
    "        max_epochs=best_iterations, early_stop_iters=best_iterations,\n",
    "        n_jobs=n_jobs\n",
    "    )\n",
    "    if f1 > best_f1:\n",
    "        best_f1 = f1\n",
    "        print(\"New Best F1: {f1:.6f}:\\t{params}\".format(f1=f1, params=\\\n",
    "                            str((top_n, learning_rate, best_max_upd, initial_weight))))\n",
    "    else:\n",
    "        print(\"         F1: {f1:.6f}:\\t{params}\".format(f1=f1, params=\\\n",
    "                            str((top_n, learning_rate, best_max_upd, initial_weight))))"
   ]
  },
  {
   "cell_type": "code",
   "execution_count": 27,
   "metadata": {},
   "outputs": [
    {
     "name": "stdout",
     "output_type": "stream",
     "text": [
      "len(rows) 0\n",
      "0\n"
     ]
    }
   ],
   "source": [
    "param_hash = load_param_hash(client.metrics_causal_model_reranker, MONGO_COLLECTION)\n",
    "print(len(param_hash))"
   ]
  },
  {
   "cell_type": "code",
   "execution_count": 28,
   "metadata": {},
   "outputs": [
    {
     "name": "stdout",
     "output_type": "stream",
     "text": [
      "600\n"
     ]
    }
   ],
   "source": [
    "print(best_max_parses)"
   ]
  },
  {
   "cell_type": "code",
   "execution_count": null,
   "metadata": {},
   "outputs": [
    {
     "name": "stdout",
     "output_type": "stream",
     "text": [
      "len(rows) 32\n",
      "top_n 10\n",
      "         F1: 0.802595:\t(10, 0.0005, 1, 0.01)\n",
      "         F1: 0.809871:\t(10, 0.001, 1, 0.01)\n",
      "         F1: 0.810575:\t(10, 0.005, 1, 0.01)\n",
      "         F1: 0.811311:\t(10, 0.01, 1, 0.01)\n",
      "         F1: 0.813071:\t(10, 0.05, 1, 0.01)\n",
      "         F1: 0.812740:\t(10, 0.1, 1, 0.01)\n",
      "         F1: 0.811047:\t(10, 0.5, 1, 0.01)\n",
      "         F1: 0.810331:\t(10, 1.0, 1, 0.01)\n",
      "top_n 7\n",
      "         F1: 0.800771:\t(7, 0.0005, 1, 0.01)\n",
      "         F1: 0.808453:\t(7, 0.001, 1, 0.01)\n",
      "         F1: 0.810517:\t(7, 0.005, 1, 0.01)\n"
     ]
    }
   ],
   "source": [
    "param_hash = load_param_hash(client.metrics_causal_model_reranker, MONGO_COLLECTION)\n",
    "\n",
    "for top_n in [10, 7]:\n",
    "#     for top_n in [5,1,2,3]:\n",
    "    \n",
    "    print(\"top_n\", top_n)\n",
    "    xs_rr, _ = load_rerank(top_n)\n",
    "    xs_temp = get_features_from_probabilities(xs_rr, name2crels, best_max_parses, \n",
    "                                     causal_model_type=CAUSAL_MODEL_TYPE,\n",
    "                                     min_feat_freq=min_feat_freq, min_prob=best_min_prob)\n",
    "    \n",
    "    cv_flds_rr = cross_validation(xs_temp, 5)\n",
    "    cv_flds_mm = [min_max_normalize_feats(train, test) for (train, test) in cv_flds_rr]\n",
    "    \n",
    "    cv_filtered = []\n",
    "    for tr, test in cv_flds_mm:\n",
    "        x_tr,x_test = filter_feats(tr, test, current_best)\n",
    "        cv_filtered.append((x_tr,x_test))\n",
    "    \n",
    "    skipped = False\n",
    "    for learning_rate in [0.0005, 0.001, 0.005, 0.01, 0.05, 0.1, 0.5, 1.0]:\n",
    "        for initial_weight in [0.01]:                        \n",
    "            p = {'learning_rate': learning_rate,\n",
    "                 'best_max_parses': best_max_parses,\n",
    "                 'best_min_prob': best_min_prob,\n",
    "                 'best_top_n': top_n,\n",
    "                 'extractors': list(current_best),\n",
    "                 'initial_weight': initial_weight,\n",
    "                 'max_update_items': best_max_upd,\n",
    "                 'min_feat_freq': min_feat_freq,\n",
    "            }\n",
    "            hash_p = hash_params(p)\n",
    "            if hash_p in param_hash:\n",
    "                print(\".\", end = '')\n",
    "                skipped = True\n",
    "                continue\n",
    "            if skipped:\n",
    "                print()\n",
    "            trn_mdl(top_n, p, cv_filtered)\n",
    "            skipped = False\n",
    "\n",
    "# top_n, best_C, pa_type, best_max_upd, initial_weight"
   ]
  },
  {
   "cell_type": "markdown",
   "metadata": {},
   "source": [
    "# Apply to Test Data"
   ]
  },
  {
   "cell_type": "code",
   "execution_count": 30,
   "metadata": {},
   "outputs": [
    {
     "data": {
      "text/plain": [
       "(1, 1, 'SC_STR_PCPTRN_RE-RANKER_HYPER_PARAM_TD_3')"
      ]
     },
     "execution_count": 30,
     "metadata": {},
     "output_type": "execute_result"
    }
   ],
   "source": [
    "max_update_items, best_max_upd, MONGO_COLLECTION"
   ]
  },
  {
   "cell_type": "code",
   "execution_count": 33,
   "metadata": {},
   "outputs": [
    {
     "data": {
      "text/plain": [
       "(1, 0.0)"
      ]
     },
     "execution_count": 33,
     "metadata": {},
     "output_type": "execute_result"
    }
   ],
   "source": [
    "min_feat_freq, best_min_prob"
   ]
  },
  {
   "cell_type": "markdown",
   "metadata": {},
   "source": [
    "### Set Optimal Features"
   ]
  },
  {
   "cell_type": "code",
   "execution_count": 34,
   "metadata": {},
   "outputs": [
    {
     "data": {
      "text/plain": [
       "'TEST_SC_STR_PCPTRN_RE-RANKER_TD_3'"
      ]
     },
     "execution_count": 34,
     "metadata": {},
     "output_type": "execute_result"
    }
   ],
   "source": [
    "MONGO_TEST_COLLECTION"
   ]
  },
  {
   "cell_type": "code",
   "execution_count": 37,
   "metadata": {},
   "outputs": [],
   "source": [
    "# f1_score\tprecision\trecall\t    best_top_n\tlearning_rate\tbest_max_parses\n",
    "# 0.813806\t0.850235\t0.780370\t5       \t0.05\t        600\n",
    "\n",
    "# # current best settings\n",
    "# C=best_C, pa_type=pa_type, max_update_items=best_max_upd, initial_weight=initial_weight,\n",
    "\n",
    "top_n = 5\n",
    "learning_rate = 0.05\n",
    "best_max_upd = 1\n",
    "max_update_items = 1\n",
    "initial_weight = 0.01\n",
    "best_max_parses = 600"
   ]
  },
  {
   "cell_type": "code",
   "execution_count": 38,
   "metadata": {},
   "outputs": [],
   "source": [
    "xs_rr, xs_tst_rr = load_rerank(top_n)\n",
    "xs_temp = get_features_from_probabilities(xs_rr, name2crels, best_max_parses, \n",
    "                                 causal_model_type=CAUSAL_MODEL_TYPE,\n",
    "                                 min_feat_freq=min_feat_freq, min_prob=best_min_prob)\n",
    "\n",
    "# Don't need CV here, but leave it in anyways\n",
    "cv_flds_rr = cross_validation(xs_temp, 5)    \n",
    "xs_test = get_features_from_probabilities(xs_tst_rr, name2crels, best_max_parses, \n",
    "                                      causal_model_type=CAUSAL_MODEL_TYPE,\n",
    "                                      min_feat_freq=min_feat_freq, min_prob=best_min_prob)\n",
    "xs_train_tmp = []\n",
    "for train, test in cv_flds_rr:\n",
    "    xs_train_tmp.extend(test)\n",
    "\n",
    "xs_train_mm, xs_test_mm = min_max_normalize_feats(xs_train_tmp, xs_test)\n",
    "# Filter at the end\n",
    "xs_train_mm_fltr, xs_test_mm_fltr = filter_feats(xs_train_mm, xs_test_mm, current_best) "
   ]
  },
  {
   "cell_type": "markdown",
   "metadata": {},
   "source": [
    "### Determine the Optimal Number of Training Iterations"
   ]
  },
  {
   "cell_type": "code",
   "execution_count": 39,
   "metadata": {},
   "outputs": [],
   "source": [
    "# # tuning dataset from training data\n",
    "# num_train = int(0.8 * len(xs_train_mm_fltr))\n",
    "# tmp_train_copy = list(xs_train_mm_fltr)\n",
    "# np.random.shuffle(tmp_train_copy)\n",
    "# tmp_train, tmp_test = tmp_train_copy[:num_train], tmp_train_copy[num_train:]"
   ]
  },
  {
   "cell_type": "markdown",
   "metadata": {},
   "source": [
    "### Determine Number of Training Iterations"
   ]
  },
  {
   "cell_type": "code",
   "execution_count": 40,
   "metadata": {},
   "outputs": [],
   "source": [
    "# %%time\n",
    "# # use training data to determine number of iterations\n",
    "# mdl = StructuredPerceptron(learning_rate=learning_rate,\n",
    "#                         max_update_items=max_update_items, initial_weight=initial_weight)\n",
    "# # Determine number of training iterations\n",
    "# best_mdl, test_acc_df_ml, best_iterations = train_model(mdl, xs_train=tmp_train, xs_test=tmp_test, name2essay=name2essay, set_cr_tags=set_cr_tags,\n",
    "#      max_epochs=20, early_stop_iters=5, \n",
    "#      train_instance_fn = train_instance, verbose=True, early_stopping=True)\n",
    "# print(\"Best iterations:\", best_iterations)"
   ]
  },
  {
   "cell_type": "code",
   "execution_count": 41,
   "metadata": {},
   "outputs": [
    {
     "data": {
      "text/plain": [
       "2"
      ]
     },
     "execution_count": 41,
     "metadata": {},
     "output_type": "execute_result"
    }
   ],
   "source": [
    "best_iterations"
   ]
  },
  {
   "cell_type": "code",
   "execution_count": 42,
   "metadata": {},
   "outputs": [
    {
     "data": {
      "text/plain": [
       "0.8293228875209849"
      ]
     },
     "execution_count": 42,
     "metadata": {},
     "output_type": "execute_result"
    }
   ],
   "source": [
    "test_folds = [(xs_train_mm_fltr, xs_test_mm_fltr)]\n",
    "\n",
    "params = {\n",
    "    'learning_rate': learning_rate,\n",
    "    'best_max_parses': best_max_parses,\n",
    "    'best_min_prob': best_min_prob,\n",
    "    'best_top_n': top_n,\n",
    "    'extractors': list(current_best),\n",
    "    'initial_weight': initial_weight,\n",
    "    'max_update_items': best_max_upd,\n",
    "    'min_feat_freq': min_feat_freq,\n",
    "}\n",
    "\n",
    "test_f1 = train_model_parallel_logged(\n",
    "        training_collection_name=MONGO_TEST_COLLECTION, results_processor=results_processor,\n",
    "        feat_extractors=current_best, params=params,\n",
    "\n",
    "        cv_folds=test_folds, \n",
    "        \n",
    "        name2essay=name2essay, \n",
    "        learning_rate=learning_rate, max_update_items=best_max_upd, initial_weight=initial_weight,\n",
    "        set_cr_tags=set_cr_tags,\n",
    "        # use best iterations from above\n",
    "        max_epochs=best_iterations, early_stop_iters=best_iterations\n",
    "    )\n",
    "test_f1 "
   ]
  },
  {
   "cell_type": "code",
   "execution_count": 43,
   "metadata": {},
   "outputs": [
    {
     "data": {
      "text/plain": [
       "(2, 'TEST_SC_STR_PCPTRN_RE-RANKER_TD_3')"
      ]
     },
     "execution_count": 43,
     "metadata": {},
     "output_type": "execute_result"
    }
   ],
   "source": [
    "best_iterations, MONGO_TEST_COLLECTION"
   ]
  },
  {
   "cell_type": "code",
   "execution_count": null,
   "metadata": {},
   "outputs": [],
   "source": []
  }
 ],
 "metadata": {
  "kernelspec": {
   "display_name": "Python 3",
   "language": "python",
   "name": "python3"
  },
  "language_info": {
   "codemirror_mode": {
    "name": "ipython",
    "version": 3
   },
   "file_extension": ".py",
   "mimetype": "text/x-python",
   "name": "python",
   "nbconvert_exporter": "python",
   "pygments_lexer": "ipython3",
   "version": "3.6.2"
  }
 },
 "nbformat": 4,
 "nbformat_minor": 4
}
