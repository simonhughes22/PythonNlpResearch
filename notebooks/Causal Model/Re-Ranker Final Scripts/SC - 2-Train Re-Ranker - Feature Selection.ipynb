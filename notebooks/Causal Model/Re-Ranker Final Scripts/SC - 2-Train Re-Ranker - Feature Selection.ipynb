{
 "cells": [
  {
   "cell_type": "code",
   "execution_count": 1,
   "metadata": {},
   "outputs": [],
   "source": [
    "# %load_ext autoreload\n",
    "# %autoreload 2"
   ]
  },
  {
   "cell_type": "code",
   "execution_count": 2,
   "metadata": {},
   "outputs": [],
   "source": [
    "import os\n",
    "import sys\n",
    "cm_folder = \"/Users/simon.hughes/GitHub/NlpResearch/PythonNlpResearch/notebooks/Causal Model/\"\n",
    "src_path = os.path.join(cm_folder, \"src\")\n",
    "sys.path.append(src_path)"
   ]
  },
  {
   "cell_type": "code",
   "execution_count": 3,
   "metadata": {},
   "outputs": [],
   "source": [
    "from typing import Any\n",
    "\n",
    "import dill\n",
    "import numpy as np\n",
    "\n",
    "from CrossValidation import cross_validation\n",
    "from MIRA import CostSensitiveMIRA\n",
    "from Settings import Settings\n",
    "\n",
    "from window_based_tagger_config import get_config\n",
    "from crel_helper import get_cr_tags\n",
    "from crel_processing import essay_to_crels_cv\n",
    "from evaluation import evaluate_model_essay_level, get_micro_metrics, metrics_to_df\n",
    "from feature_normalization import min_max_normalize_feats\n",
    "from function_helpers import get_function_names\n",
    "from results_procesor import ResultsProcessor\n",
    "from train_parser import essay_to_crels, create_extractor_functions\n",
    "from cost_functions import micro_f1_cost_plusepsilon\n",
    "from train_reranker import train_model_parallel_logged, train_model_parallel, train_model, train_cost_sensitive_instance\n",
    "from searn_parser_breadth_first import SearnModelBreadthFirst\n",
    "from causal_model_features import CausalModelType\n",
    "from feature_extraction import get_features_from_probabilities\n",
    "from results_procesor import ResultsProcessor"
   ]
  },
  {
   "cell_type": "code",
   "execution_count": 4,
   "metadata": {},
   "outputs": [
    {
     "name": "stdout",
     "output_type": "stream",
     "text": [
      "Results Dir: /Users/simon.hughes/Google Drive/Phd/Results/\n",
      "Data Dir:    /Users/simon.hughes/Google Drive/Phd/Data/\n",
      "Root Dir:    /Users/simon.hughes/GitHub/NlpResearch/\n",
      "Public Data: /Users/simon.hughes/GitHub/NlpResearch/Data/PublicDatasets/\n",
      "870 218\n"
     ]
    }
   ],
   "source": [
    "# Data Set Partition\n",
    "CV_FOLDS = 5\n",
    "MIN_FEAT_FREQ = 5\n",
    "\n",
    "# Global settings\n",
    "settings = Settings()\n",
    "CAUSAL_MODEL_TYPE = CausalModelType.SKIN_CANCER\n",
    "root_folder = settings.data_directory + \"SkinCancer/Thesis_Dataset/\"\n",
    "training_folder = root_folder + \"Training\" + \"/\"\n",
    "test_folder = root_folder + \"Test\" + \"/\"\n",
    "\n",
    "crels_folder = \"./crels/SC\"\n",
    "coref_root = root_folder + \"CoReference/\"\n",
    "coref_output_folder = coref_root + \"CRel/\"\n",
    "\n",
    "MONGO_COLLECTION = \"SC_RE-RANKER_FEATURE_SEL_TD\"\n",
    "\n",
    "config = get_config(training_folder)\n",
    "results_processor = ResultsProcessor(dbname=\"metrics_causal_model_reranker\")\n",
    "\n",
    "train_fname = coref_output_folder + \"training_crel_anatagged_essays_most_recent_code.dill\"\n",
    "with open(train_fname, \"rb\") as f:\n",
    "    pred_tagged_essays_train = dill.load(f)\n",
    "\n",
    "test_fname = coref_output_folder + \"test_crel_anatagged_essays_most_recent_code.dill\"\n",
    "with open(test_fname, \"rb\") as f:\n",
    "    pred_tagged_essays_test = dill.load(f)\n",
    "\n",
    "print(len(pred_tagged_essays_train), len(pred_tagged_essays_test))"
   ]
  },
  {
   "cell_type": "code",
   "execution_count": 5,
   "metadata": {},
   "outputs": [
    {
     "name": "stdout",
     "output_type": "stream",
     "text": [
      "52\n"
     ]
    },
    {
     "data": {
      "text/plain": [
       "['Causer:11->Result:12',\n",
       " 'Causer:5->Result:50',\n",
       " 'Causer:1->Result:5',\n",
       " 'Causer:3->Result:2',\n",
       " 'Causer:4->Result:50',\n",
       " 'Causer:2->Result:50',\n",
       " 'Causer:50->Result:5',\n",
       " 'Causer:6->Result:3',\n",
       " 'Causer:1->Result:2',\n",
       " 'Causer:5->Result:6']"
      ]
     },
     "execution_count": 5,
     "metadata": {},
     "output_type": "execute_result"
    }
   ],
   "source": [
    "cr_tags = get_cr_tags(train_tagged_essays=pred_tagged_essays_train, tag_essays_test=pred_tagged_essays_test)\n",
    "\n",
    "set_cr_tags = set(cr_tags)\n",
    "print(len(cr_tags))\n",
    "list(set_cr_tags)[0:10]"
   ]
  },
  {
   "cell_type": "code",
   "execution_count": 6,
   "metadata": {},
   "outputs": [],
   "source": [
    "all_essays = pred_tagged_essays_train + pred_tagged_essays_test\n",
    "name2essay = {}\n",
    "for essay in all_essays:\n",
    "    name2essay[essay.name] = essay\n",
    "\n",
    "name2crels = essay_to_crels(all_essays, set_cr_tags)\n",
    "assert len(name2crels) == len(all_essays)"
   ]
  },
  {
   "cell_type": "markdown",
   "metadata": {},
   "source": [
    "# Train Re-Ranker"
   ]
  },
  {
   "cell_type": "markdown",
   "metadata": {},
   "source": [
    "## Extract Parses from Sentence Parser"
   ]
  },
  {
   "cell_type": "code",
   "execution_count": 7,
   "metadata": {},
   "outputs": [],
   "source": [
    "best_top_n = 2\n",
    "min_feat_freq = 1\n",
    "best_max_upd = 2 \n",
    "best_max_parses = 300\n",
    "best_min_prob = 0.0  # min prob of 0 seems better"
   ]
  },
  {
   "cell_type": "code",
   "execution_count": 8,
   "metadata": {},
   "outputs": [
    {
     "data": {
      "text/plain": [
       "(870, 218)"
      ]
     },
     "execution_count": 8,
     "metadata": {},
     "output_type": "execute_result"
    }
   ],
   "source": [
    "rr_fname = \"xs_rerank_\" + str(best_top_n) + \".dill\"\n",
    "with open(os.path.join(crels_folder, rr_fname), \"rb\") as f:\n",
    "    xs_rerank = dill.load(f)\n",
    "\n",
    "rr_fname = \"xs_rerank_test\" + str(best_top_n) + \".dill\"\n",
    "with open(os.path.join(crels_folder, rr_fname), \"rb\") as f:\n",
    "    xs_test_rerank = dill.load(f)\n",
    "    \n",
    "assert len(xs_rerank) == len(pred_tagged_essays_train),     \"Wrong number of train crels\"\n",
    "assert len(xs_test_rerank) == len(pred_tagged_essays_test), \"Wrong number of test crels\"\n",
    "len(xs_rerank), len(xs_test_rerank)"
   ]
  },
  {
   "cell_type": "markdown",
   "metadata": {},
   "source": [
    "## Prepare Features"
   ]
  },
  {
   "cell_type": "code",
   "execution_count": 9,
   "metadata": {},
   "outputs": [
    {
     "name": "stdout",
     "output_type": "stream",
     "text": [
      "CPU times: user 1min 59s, sys: 2.55 s, total: 2min 1s\n",
      "Wall time: 2min 1s\n"
     ]
    }
   ],
   "source": [
    "%%time\n",
    "xs = get_features_from_probabilities(xs_rerank, name2crels, best_max_parses, \n",
    "                                     causal_model_type=CAUSAL_MODEL_TYPE,\n",
    "                                     min_feat_freq=min_feat_freq, min_prob=best_min_prob)\n",
    "\n",
    "cv_folds_rerank = cross_validation(xs, 5)\n",
    "cv_folds_mm = [min_max_normalize_feats(train, test) for (train, test) in cv_folds_rerank]"
   ]
  },
  {
   "cell_type": "code",
   "execution_count": 10,
   "metadata": {},
   "outputs": [
    {
     "name": "stdout",
     "output_type": "stream",
     "text": [
      "CPU times: user 9.76 s, sys: 109 ms, total: 9.87 s\n",
      "Wall time: 9.85 s\n"
     ]
    }
   ],
   "source": [
    "%%time\n",
    "xs_test = get_features_from_probabilities(xs_test_rerank, name2crels, best_max_parses, \n",
    "                                          causal_model_type=CAUSAL_MODEL_TYPE,\n",
    "                                          min_feat_freq=min_feat_freq, min_prob=best_min_prob)"
   ]
  },
  {
   "cell_type": "code",
   "execution_count": 11,
   "metadata": {},
   "outputs": [],
   "source": [
    "# Prepare test dataset \n",
    "  # training data comes from the test fold predictions from CV on the full training dataset\n",
    "xs_train = []\n",
    "for train, test in cv_folds_rerank:\n",
    "    xs_train.extend(test)\n",
    "\n",
    "# Normalize both using training data\n",
    "xs_train_mm, xs_test_mm = min_max_normalize_feats(xs_train,xs_test)"
   ]
  },
  {
   "cell_type": "markdown",
   "metadata": {},
   "source": [
    "### Initial Parameters"
   ]
  },
  {
   "cell_type": "code",
   "execution_count": 12,
   "metadata": {},
   "outputs": [],
   "source": [
    "best_C = 0.0025       # 0.0025\n",
    "C = best_C            # This needs to be a lot lower\n",
    "pa_type = 1\n",
    "loss_type= \"ml\"\n",
    "max_update_items = 2  # best_max_upd - 2\n",
    "initial_weight = 0.01  # was 0.01"
   ]
  },
  {
   "cell_type": "code",
   "execution_count": 13,
   "metadata": {},
   "outputs": [
    {
     "name": "stdout",
     "output_type": "stream",
     "text": [
      "0.8057593767132453\n",
      "CPU times: user 3min 22s, sys: 46.4 s, total: 4min 8s\n",
      "Wall time: 7min 44s\n"
     ]
    }
   ],
   "source": [
    "%%time\n",
    "f1 = train_model_parallel(\n",
    "    cv_folds=cv_folds_mm, name2essay=name2essay, C=best_C, pa_type=1, loss_type=\"ml\", max_update_items=best_max_upd, \n",
    "    set_cr_tags=set_cr_tags, initial_weight=initial_weight)\n",
    "print(f1)\n",
    "# 0.80599"
   ]
  },
  {
   "cell_type": "code",
   "execution_count": 17,
   "metadata": {},
   "outputs": [],
   "source": [
    "# %%time\n",
    "# # Test on test data\n",
    "# mdl = CostSensitiveMIRA(C=best_C, pa_type=pa_type, loss_type=loss_type, \n",
    "#                         max_update_items=max_update_items, initial_weight=initial_weight)\n",
    "\n",
    "# best_mdl, test_acc_df_ml,_ = train_model(mdl,  xs_train=xs_train_mm, xs_test=xs_test_mm,\n",
    "#                                        name2essay=name2essay, set_cr_tags=set_cr_tags,\n",
    "#      max_epochs=best_iterations, early_stop_iters=best_iterations, train_instance_fn = train_cost_sensitive_instance,\n",
    "#                                          verbose=True)\n"
   ]
  },
  {
   "cell_type": "markdown",
   "metadata": {},
   "source": [
    "## Train on Test Data"
   ]
  },
  {
   "cell_type": "markdown",
   "metadata": {},
   "source": [
    "### Tuning Dataset"
   ]
  },
  {
   "cell_type": "code",
   "execution_count": 18,
   "metadata": {},
   "outputs": [],
   "source": [
    "num_train = int(0.8 * len(xs_train_mm))\n",
    "tmp_train_copy = list(xs_train_mm)\n",
    "np.random.shuffle(tmp_train_copy)\n",
    "tmp_train, tmp_test = tmp_train_copy[:num_train], tmp_train_copy[num_train:]"
   ]
  },
  {
   "cell_type": "markdown",
   "metadata": {},
   "source": [
    "### Determine Number of Training Iterations"
   ]
  },
  {
   "cell_type": "code",
   "execution_count": 19,
   "metadata": {},
   "outputs": [
    {
     "name": "stdout",
     "output_type": "stream",
     "text": [
      "Epoch: 0 Train Accuracy: 0.8058 Test Accuracy: 0.8084\n",
      "Epoch: 1 Train Accuracy: 0.8060 Test Accuracy: 0.8076\n",
      "Epoch: 2 Train Accuracy: 0.8066 Test Accuracy: 0.8076\n",
      "Epoch: 3 Train Accuracy: 0.8070 Test Accuracy: 0.8076\n",
      "Epoch: 4 Train Accuracy: 0.8074 Test Accuracy: 0.8081\n",
      "Epoch: 5 Train Accuracy: 0.8074 Test Accuracy: 0.8078\n",
      "Best Test Acc: 0.8084\n",
      "Best iterations: 1\n",
      "CPU times: user 2min 42s, sys: 2.66 s, total: 2min 45s\n",
      "Wall time: 2min 46s\n"
     ]
    }
   ],
   "source": [
    "%%time\n",
    "# use training data to determine number of iterations\n",
    "mdl = CostSensitiveMIRA(C=best_C, pa_type=pa_type, loss_type=loss_type, \n",
    "                        max_update_items=max_update_items, initial_weight=initial_weight)\n",
    "# Determine number of training iterations\n",
    "best_mdl, test_acc_df_ml, best_iterations = train_model(mdl, xs_train=tmp_train, xs_test=tmp_test, name2essay=name2essay, set_cr_tags=set_cr_tags,\n",
    "     max_epochs=20, early_stop_iters=5, \n",
    "     train_instance_fn = train_cost_sensitive_instance, verbose=True, early_stopping=True)\n",
    "print(\"Best iterations:\", best_iterations)"
   ]
  },
  {
   "cell_type": "markdown",
   "metadata": {},
   "source": [
    "# Feature Selection"
   ]
  },
  {
   "cell_type": "code",
   "execution_count": 20,
   "metadata": {},
   "outputs": [],
   "source": [
    "from filter_features import filter_feats\n",
    "\n",
    "prefixes = [\n",
    "    \"Prob-\",\n",
    "#     \"CREL_Pair-\",\n",
    "    \"Inv-\",\n",
    "    \"num_crels\",\n",
    "    \"Tally-\",\n",
    "    \"CChain-\",\n",
    "    \"CChainStats-\",\n",
    "    \"Above-\",\n",
    "    \"CREL_\",\n",
    "    \"Propn_\",\n",
    "    \"Diff_\"\n",
    "]\n",
    "# xs_fltr_train, xs_fltr_test = filter_feats(xs_train_mm, xs_test_mm, prefixes)\n",
    "assert len(prefixes) == len(set(prefixes)), \"Duplicate prefixes found\""
   ]
  },
  {
   "cell_type": "code",
   "execution_count": 21,
   "metadata": {},
   "outputs": [],
   "source": [
    "best_f1 = -1\n",
    "current_best = []\n",
    "remaining = list(prefixes)"
   ]
  },
  {
   "cell_type": "code",
   "execution_count": 22,
   "metadata": {},
   "outputs": [
    {
     "data": {
      "text/plain": [
       "('SC_RE-RANKER_FEATURE_SEL_TD', 1, 0.01)"
      ]
     },
     "execution_count": 22,
     "metadata": {},
     "output_type": "execute_result"
    }
   ],
   "source": [
    "MONGO_COLLECTION, best_iterations, initial_weight"
   ]
  },
  {
   "cell_type": "code",
   "execution_count": 23,
   "metadata": {},
   "outputs": [
    {
     "name": "stdout",
     "output_type": "stream",
     "text": [
      "Starting...\n",
      "\t1 feats F1: 0.7965 Prefixes: ['Prob-']\n",
      "\t1 feats F1: 0.0066 Prefixes: ['Inv-']\n",
      "\t1 feats F1: 0.8062 Prefixes: ['num_crels']\n",
      "\t1 feats F1: 0.8062 Prefixes: ['Tally-']\n",
      "\t1 feats F1: 0.6383 Prefixes: ['CChain-']\n",
      "\t1 feats F1: 0.7488 Prefixes: ['CChainStats-']\n",
      "\t1 feats F1: 0.8037 Prefixes: ['Above-']\n",
      "\t1 feats F1: 0.8064 Prefixes: ['CREL_']\n",
      "\t1 feats F1: 0.6637 Prefixes: ['Propn_']\n",
      "\t1 feats F1: 0.6454 Prefixes: ['Diff_']\n",
      "1 feats, new Best F1: 0.8064 Prefixes: ['CREL_']\n",
      "\t2 feats F1: 0.8065 Prefixes: ['CREL_', 'Prob-']\n",
      "\t2 feats F1: 0.8061 Prefixes: ['CREL_', 'Inv-']\n",
      "\t2 feats F1: 0.8062 Prefixes: ['CREL_', 'num_crels']\n",
      "\t2 feats F1: 0.8062 Prefixes: ['CREL_', 'Tally-']\n",
      "\t2 feats F1: 0.8066 Prefixes: ['CREL_', 'CChain-']\n",
      "\t2 feats F1: 0.8059 Prefixes: ['CREL_', 'CChainStats-']\n",
      "\t2 feats F1: 0.8060 Prefixes: ['CREL_', 'Above-']\n",
      "\t2 feats F1: 0.8064 Prefixes: ['CREL_', 'Propn_']\n",
      "\t2 feats F1: 0.8063 Prefixes: ['CREL_', 'Diff_']\n",
      "2 feats, new Best F1: 0.8066 Prefixes: ['CREL_', 'CChain-']\n",
      "\t3 feats F1: 0.8067 Prefixes: ['CREL_', 'CChain-', 'Prob-']\n",
      "\t3 feats F1: 0.8064 Prefixes: ['CREL_', 'CChain-', 'Inv-']\n",
      "\t3 feats F1: 0.8059 Prefixes: ['CREL_', 'CChain-', 'num_crels']\n",
      "\t3 feats F1: 0.8063 Prefixes: ['CREL_', 'CChain-', 'Tally-']\n",
      "\t3 feats F1: 0.8057 Prefixes: ['CREL_', 'CChain-', 'CChainStats-']\n",
      "\t3 feats F1: 0.8056 Prefixes: ['CREL_', 'CChain-', 'Above-']\n",
      "\t3 feats F1: 0.8063 Prefixes: ['CREL_', 'CChain-', 'Propn_']\n",
      "\t3 feats F1: 0.8064 Prefixes: ['CREL_', 'CChain-', 'Diff_']\n",
      "3 feats, new Best F1: 0.8067 Prefixes: ['CREL_', 'CChain-', 'Prob-']\n",
      "\t4 feats F1: 0.8064 Prefixes: ['CREL_', 'CChain-', 'Prob-', 'Inv-']\n",
      "\t4 feats F1: 0.8060 Prefixes: ['CREL_', 'CChain-', 'Prob-', 'num_crels']\n",
      "\t4 feats F1: 0.8065 Prefixes: ['CREL_', 'CChain-', 'Prob-', 'Tally-']\n",
      "\t4 feats F1: 0.8060 Prefixes: ['CREL_', 'CChain-', 'Prob-', 'CChainStats-']\n",
      "\t4 feats F1: 0.8065 Prefixes: ['CREL_', 'CChain-', 'Prob-', 'Above-']\n",
      "\t4 feats F1: 0.8065 Prefixes: ['CREL_', 'CChain-', 'Prob-', 'Propn_']\n",
      "\t4 feats F1: 0.8067 Prefixes: ['CREL_', 'CChain-', 'Prob-', 'Diff_']\n",
      "No further improvement, stopping\n",
      "CPU times: user 51min, sys: 9min 41s, total: 1h 41s\n",
      "Wall time: 1h 25min 27s\n"
     ]
    }
   ],
   "source": [
    "%%time\n",
    "params = {\n",
    "    \"best_top_n\": best_top_n,\n",
    "    \"best_max_upd\": best_max_upd,\n",
    "    \"best_max_parses\": best_max_parses,\n",
    "    \"best_min_prob\": best_min_prob,\n",
    "    \"min_feat_freq\": min_feat_freq\n",
    "}\n",
    "\n",
    "print(\"Starting...\")\n",
    "while True:\n",
    "    if len(remaining) == 0:\n",
    "        break\n",
    "    \n",
    "    f1_by_prefix = dict()\n",
    "    for prefix in remaining:\n",
    "        new_prefixes = current_best + [prefix]\n",
    "        \n",
    "        cv_filtered = []\n",
    "        for tr, test in cv_folds_mm:\n",
    "            x_tr,x_test = filter_feats(tr, test, new_prefixes)\n",
    "            cv_filtered.append((x_tr,x_test))\n",
    "        \n",
    "        f1_by_prefix[prefix] = train_model_parallel_logged(\n",
    "            training_collection_name=MONGO_COLLECTION, results_processor=results_processor,\n",
    "            feat_extractors=new_prefixes, params=params,\n",
    "            \n",
    "            cv_folds=cv_filtered, name2essay=name2essay, C=best_C, \n",
    "            pa_type=1, loss_type=\"ml\", max_update_items=best_max_upd, \n",
    "            set_cr_tags=set_cr_tags, initial_weight=initial_weight,\n",
    "            # use best iterations from above\n",
    "            max_epochs=best_iterations, early_stop_iters=best_iterations\n",
    "        )\n",
    "        print(\"\\t{length} feats F1: {f1:.4f} Prefixes: {prefixes}\".format(\n",
    "            length=len(new_prefixes), f1=f1_by_prefix[prefix], prefixes=str(new_prefixes)))\n",
    "    \n",
    "    best_prefix, new_best_f1 = sorted(f1_by_prefix.items(), key = lambda tpl: -tpl[1])[0]\n",
    "    if new_best_f1 > best_f1:\n",
    "        best_f1 = new_best_f1\n",
    "        current_best.append(best_prefix)\n",
    "        remaining.remove(best_prefix)\n",
    "        print(\"{length} feats, new Best F1: {f1:.4f} Prefixes: {prefixes}\".format(\n",
    "            length=len(current_best), f1=best_f1, prefixes=str(current_best)))\n",
    "    else:\n",
    "        print(\"No further improvement, stopping\")\n",
    "        break\n"
   ]
  },
  {
   "cell_type": "code",
   "execution_count": 25,
   "metadata": {},
   "outputs": [
    {
     "data": {
      "text/plain": [
       "(['CREL_', 'CChain-', 'Prob-'], 0.8066838744735769)"
      ]
     },
     "execution_count": 25,
     "metadata": {},
     "output_type": "execute_result"
    }
   ],
   "source": [
    "current_best, best_f1 "
   ]
  },
  {
   "cell_type": "code",
   "execution_count": null,
   "metadata": {},
   "outputs": [],
   "source": [
    "# # run it against the full set of features for comparison\n",
    "# cv_filtered = []\n",
    "# for tr, test in cv_folds_mm:\n",
    "#     x_tr,x_test = filter_feats(tr, test, prefixes)\n",
    "#     cv_filtered.append((x_tr,x_test))\n",
    "\n",
    "# f1 = train_model_parallel(cv_folds=cv_filtered, name2essay=name2essay, C=best_C, \n",
    "#                           pa_type=1, loss_type=\"ml\", max_update_items=best_max_upd, \n",
    "#                           set_cr_tags=set_cr_tags, initial_weight=initial_weight)\n",
    "# f1 "
   ]
  },
  {
   "cell_type": "markdown",
   "metadata": {},
   "source": [
    "## Apply to Test Data"
   ]
  },
  {
   "cell_type": "code",
   "execution_count": 26,
   "metadata": {},
   "outputs": [],
   "source": [
    "xs_train_mm_fltr, xs_test_mm_fltr = filter_feats(xs_train_mm, xs_test_mm, current_best) "
   ]
  },
  {
   "cell_type": "code",
   "execution_count": 27,
   "metadata": {},
   "outputs": [],
   "source": [
    "num_train = int(0.8 * len(xs_train_mm_fltr))\n",
    "tmp_train_copy = list(xs_train_mm_fltr)\n",
    "np.random.shuffle(tmp_train_copy)\n",
    "tmp_train, tmp_test = tmp_train_copy[:num_train], tmp_train_copy[num_train:]"
   ]
  },
  {
   "cell_type": "markdown",
   "metadata": {},
   "source": [
    "## Determine the Optimal Number of Training Iterations"
   ]
  },
  {
   "cell_type": "code",
   "execution_count": 28,
   "metadata": {},
   "outputs": [],
   "source": [
    "# initial_weight = 0"
   ]
  },
  {
   "cell_type": "code",
   "execution_count": 29,
   "metadata": {},
   "outputs": [
    {
     "name": "stdout",
     "output_type": "stream",
     "text": [
      "Epoch: 0 Train Accuracy: 0.8095 Test Accuracy: 0.7965\n",
      "Epoch: 1 Train Accuracy: 0.8095 Test Accuracy: 0.7962\n",
      "Epoch: 2 Train Accuracy: 0.8108 Test Accuracy: 0.7962\n",
      "Epoch: 3 Train Accuracy: 0.8108 Test Accuracy: 0.7949\n",
      "Best Test Acc: 0.7965\n",
      "CPU times: user 48.3 s, sys: 290 ms, total: 48.6 s\n",
      "Wall time: 49 s\n"
     ]
    }
   ],
   "source": [
    "%%time\n",
    "mdl = CostSensitiveMIRA(C=best_C, pa_type=pa_type, loss_type=loss_type, \n",
    "                        max_update_items=max_update_items, initial_weight=initial_weight)\n",
    "# Determine number of training iterations\n",
    "best_mdl, test_acc_df_ml, best_iterations = train_model(mdl, xs_train=tmp_train, xs_test=tmp_test, name2essay=name2essay, set_cr_tags=set_cr_tags,\n",
    "     max_epochs=20, early_stop_iters=3, train_instance_fn = train_cost_sensitive_instance,\n",
    "                                                        verbose=True,  early_stopping=True)"
   ]
  },
  {
   "cell_type": "code",
   "execution_count": 30,
   "metadata": {},
   "outputs": [
    {
     "data": {
      "text/plain": [
       "1"
      ]
     },
     "execution_count": 30,
     "metadata": {},
     "output_type": "execute_result"
    }
   ],
   "source": [
    "best_iterations"
   ]
  },
  {
   "cell_type": "markdown",
   "metadata": {},
   "source": [
    "## Run for X Iterations on the Test Dataset"
   ]
  },
  {
   "cell_type": "code",
   "execution_count": 31,
   "metadata": {},
   "outputs": [
    {
     "name": "stdout",
     "output_type": "stream",
     "text": [
      "Epoch: 0 Train Accuracy: 0.8067 Test Accuracy: 0.8285\n",
      "Best Test Acc: 0.8285\n"
     ]
    },
    {
     "data": {
      "text/plain": [
       "1"
      ]
     },
     "execution_count": 31,
     "metadata": {},
     "output_type": "execute_result"
    }
   ],
   "source": [
    "mdl = CostSensitiveMIRA(C=best_C, pa_type=pa_type, loss_type=loss_type, \n",
    "                        max_update_items=max_update_items, initial_weight=initial_weight)\n",
    "\n",
    "best_mdl, test_acc_df_ml,_ = train_model(mdl,  \n",
    "    xs_train=xs_train_mm_fltr, xs_test=xs_test_mm_fltr,\n",
    "    name2essay=name2essay, set_cr_tags=set_cr_tags,\n",
    "    max_epochs=best_iterations, early_stop_iters=best_iterations,\n",
    "    train_instance_fn = train_cost_sensitive_instance, verbose=True, early_stopping=False)\n",
    "\n",
    "best_iterations"
   ]
  },
  {
   "cell_type": "code",
   "execution_count": 32,
   "metadata": {},
   "outputs": [
    {
     "data": {
      "text/plain": [
       "0.01"
      ]
     },
     "execution_count": 32,
     "metadata": {},
     "output_type": "execute_result"
    }
   ],
   "source": [
    "initial_weight"
   ]
  },
  {
   "cell_type": "code",
   "execution_count": 33,
   "metadata": {},
   "outputs": [
    {
     "name": "stdout",
     "output_type": "stream",
     "text": [
      "Epoch: 0 Train Accuracy: 0.8075 Test Accuracy: 0.8286\n",
      "Best Test Acc: 0.8286\n"
     ]
    }
   ],
   "source": [
    "# try initial weight of 0\n",
    "mdl = CostSensitiveMIRA(C=best_C, pa_type=pa_type, loss_type=loss_type, \n",
    "                        max_update_items=max_update_items, initial_weight=0)\n",
    "\n",
    "best_mdl, test_acc_df_ml,_ = train_model(mdl,  \n",
    "    xs_train=xs_train_mm_fltr, xs_test=xs_test_mm_fltr,\n",
    "    name2essay=name2essay, set_cr_tags=set_cr_tags,\n",
    "    max_epochs=best_iterations, early_stop_iters=best_iterations,\n",
    "    train_instance_fn = train_cost_sensitive_instance, verbose=True, early_stopping=False)"
   ]
  },
  {
   "cell_type": "code",
   "execution_count": 34,
   "metadata": {},
   "outputs": [
    {
     "name": "stdout",
     "output_type": "stream",
     "text": [
      "Epoch: 0 Train Accuracy: 0.8079 Test Accuracy: 0.8277\n",
      "Epoch: 1 Train Accuracy: 0.8084 Test Accuracy: 0.8283\n",
      "Epoch: 2 Train Accuracy: 0.8083 Test Accuracy: 0.8283\n",
      "Epoch: 3 Train Accuracy: 0.8084 Test Accuracy: 0.8290\n",
      "Epoch: 4 Train Accuracy: 0.8085 Test Accuracy: 0.8290\n",
      "Epoch: 5 Train Accuracy: 0.8085 Test Accuracy: 0.8290\n",
      "Epoch: 6 Train Accuracy: 0.8087 Test Accuracy: 0.8283\n",
      "Epoch: 7 Train Accuracy: 0.8086 Test Accuracy: 0.8283\n",
      "Epoch: 8 Train Accuracy: 0.8088 Test Accuracy: 0.8281\n",
      "Epoch: 9 Train Accuracy: 0.8094 Test Accuracy: 0.8275\n",
      "Epoch: 10 Train Accuracy: 0.8097 Test Accuracy: 0.8275\n",
      "Epoch: 11 Train Accuracy: 0.8095 Test Accuracy: 0.8275\n",
      "Epoch: 12 Train Accuracy: 0.8094 Test Accuracy: 0.8275\n",
      "Epoch: 13 Train Accuracy: 0.8095 Test Accuracy: 0.8275\n",
      "Epoch: 14 Train Accuracy: 0.8095 Test Accuracy: 0.8275\n",
      "Epoch: 15 Train Accuracy: 0.8093 Test Accuracy: 0.8275\n",
      "Epoch: 16 Train Accuracy: 0.8093 Test Accuracy: 0.8275\n",
      "Epoch: 17 Train Accuracy: 0.8097 Test Accuracy: 0.8275\n",
      "Epoch: 18 Train Accuracy: 0.8099 Test Accuracy: 0.8268\n",
      "Epoch: 19 Train Accuracy: 0.8102 Test Accuracy: 0.8268\n",
      "Best Test Acc: 0.8290\n"
     ]
    }
   ],
   "source": [
    "# try initial weight of 0, more training iterations\n",
    "ITERATIONS = 20\n",
    "mdl = CostSensitiveMIRA(C=best_C, pa_type=pa_type, loss_type=loss_type, \n",
    "                        max_update_items=max_update_items, initial_weight=0)\n",
    "\n",
    "best_mdl, test_acc_df_ml,_ = train_model(mdl,  \n",
    "    xs_train=xs_train_mm_fltr, xs_test=xs_test_mm_fltr,\n",
    "    name2essay=name2essay, set_cr_tags=set_cr_tags,\n",
    "    max_epochs=ITERATIONS, early_stop_iters=ITERATIONS,\n",
    "    train_instance_fn = train_cost_sensitive_instance, verbose=True, early_stopping=False)"
   ]
  },
  {
   "cell_type": "code",
   "execution_count": 35,
   "metadata": {},
   "outputs": [
    {
     "name": "stdout",
     "output_type": "stream",
     "text": [
      "Epoch: 0 Train Accuracy: 0.8062 Test Accuracy: 0.8280\n",
      "Best Test Acc: 0.8280\n"
     ]
    }
   ],
   "source": [
    "# try an initial weight of 1\n",
    "mdl = CostSensitiveMIRA(C=best_C, pa_type=pa_type, loss_type=loss_type, \n",
    "                        max_update_items=max_update_items, initial_weight=1)\n",
    "\n",
    "best_mdl, test_acc_df_ml,_ = train_model(mdl,  \n",
    "    xs_train=xs_train_mm_fltr, xs_test=xs_test_mm_fltr,\n",
    "    name2essay=name2essay, set_cr_tags=set_cr_tags,\n",
    "    max_epochs=best_iterations, early_stop_iters=5,\n",
    "    train_instance_fn = train_cost_sensitive_instance, verbose=True, early_stopping=False)"
   ]
  },
  {
   "cell_type": "code",
   "execution_count": 36,
   "metadata": {},
   "outputs": [
    {
     "name": "stdout",
     "output_type": "stream",
     "text": [
      "Epoch: 0 Train Accuracy: 0.8057 Test Accuracy: 0.8271\n",
      "Best Test Acc: 0.8271\n"
     ]
    }
   ],
   "source": [
    "# initial weight of 1, all feats\n",
    "mdl = CostSensitiveMIRA(C=best_C, pa_type=pa_type, loss_type=loss_type, \n",
    "                        max_update_items=max_update_items, initial_weight=1)\n",
    "\n",
    "best_mdl, test_acc_df_ml,_ = train_model(mdl,  \n",
    "    xs_train=xs_train_mm, xs_test=xs_test_mm,\n",
    "    name2essay=name2essay, set_cr_tags=set_cr_tags,\n",
    "    max_epochs=best_iterations, early_stop_iters=5,\n",
    "    train_instance_fn = train_cost_sensitive_instance, verbose=True, early_stopping=False)"
   ]
  },
  {
   "cell_type": "code",
   "execution_count": 37,
   "metadata": {},
   "outputs": [
    {
     "data": {
      "text/plain": [
       "0.8271108558299828"
      ]
     },
     "execution_count": 37,
     "metadata": {},
     "output_type": "execute_result"
    }
   ],
   "source": [
    "test_acc_df_ml"
   ]
  },
  {
   "cell_type": "code",
   "execution_count": 38,
   "metadata": {},
   "outputs": [
    {
     "data": {
      "text/plain": [
       "[('num_crels<=5', 1.2549999999999946),\n",
       " ('CChainStats-num_distinct_chains <=1', 1.2499999999999947),\n",
       " ('num_crels<=6', 1.2024999999999957),\n",
       " ('num_crels<=2', 1.1949999999999958),\n",
       " ('num_crels<=3', 1.1949999999999958),\n",
       " ('num_crels<=4', 1.192499999999996),\n",
       " ('CChainStats-num_distinct_chains <=2', 1.192499999999996),\n",
       " ('CChainStats-MaxChain_Len=0', 1.1599999999999966),\n",
       " ('CChainStats-num_distinct_chains=0', 1.1599999999999966),\n",
       " ('CChainStats-num_distinct_chains <=0', 1.1599999999999966),\n",
       " ('Above-All-Above-0.7', 1.1349999999999971),\n",
       " ('num_crels<=7', 1.1324999999999972),\n",
       " ('Above-All-Above-0.8', 1.115134960819355),\n",
       " ('num_crels=2', 1.1073650391806402),\n",
       " ('Prob-prod-prob', 1.094044242703092),\n",
       " ('CChainStats-num_distinct_chains=1', 1.089999999999998),\n",
       " ('num_crels<=1', 1.0876349608193556),\n",
       " ('CChainStats-num_distinct_chains <=3', 1.0874999999999981),\n",
       " ('Above-All-Above-0.9', 1.0851349608193557),\n",
       " ('num_crels=0', 1.0724999999999985),\n",
       " ('num_crels=5', 1.0624999999999987),\n",
       " ('num_crels<=8', 1.0549999999999988),\n",
       " ('Above-%-0.9', 1.0488234327906334),\n",
       " ('Above-%-0.95', 1.0429256153303168),\n",
       " ('Propn_unique_codes', 1.038341269841275),\n",
       " ('Inv-not_inverted', 1.0374999999999992),\n",
       " ('Above-All-Above-0.95', 1.030134960819357),\n",
       " ('CChainStats-num_distinct_chains <=4', 1.0299999999999994),\n",
       " ('Above-%-0.8', 1.018258948663651),\n",
       " ('num_crels=1', 1.0151349608193574),\n",
       " ('CChainStats-num_distinct_chains <=5', 1.0099999999999998),\n",
       " ('Propn_unreachable', 1.0081121031746045),\n",
       " ('CREL_Causer:2->Result:50-pred-count=4', 1.0074999999999998),\n",
       " ('Prob-min-prob', 1.0055866448147202),\n",
       " ('CChainStats-MaxChain_Len=3', 1.005),\n",
       " ('CREL_Pair-Causer:1->Result:2|Causer:12->Result:5', 1.005),\n",
       " ('CREL_Pair-Causer:1->Result:2|Causer:3->Result:6', 1.005),\n",
       " ('CREL_Pair-Causer:11->Result:12|Causer:6->Result:50', 1.0025),\n",
       " ('CREL_Causer:1->Result:50-pred-count=6', 1.0025),\n",
       " ('CREL_Causer:11->Result:12-pred-count=4', 1.0025),\n",
       " ('CREL_Causer:4->Result:6-MAX(prob)', 1.0025),\n",
       " ('CREL_Causer:4->Result:6-MIN(prob)', 1.0025),\n",
       " ('CREL_Causer:4->Result:6-pred-count', 1.0025),\n",
       " ('CREL_Causer:4->Result:6-pred-count=2', 1.0025),\n",
       " ('CREL_4:6', 1.0025),\n",
       " ('CREL_Pair-Causer:1->Result:3|Causer:4->Result:6', 1.0025),\n",
       " ('CREL_Pair-Causer:2->Result:4|Causer:4->Result:6', 1.0025),\n",
       " ('CREL_Pair-Causer:2->Result:50|Causer:4->Result:6', 1.0025),\n",
       " ('CREL_Pair-Causer:4->Result:6|Causer:5->Result:50', 1.0025),\n",
       " ('CChain-:2,4,6', 1.0025)]"
      ]
     },
     "execution_count": 38,
     "metadata": {},
     "output_type": "execute_result"
    }
   ],
   "source": [
    "sorted(best_mdl.weights.items(), key = lambda tpl: -abs(tpl[1]))[0:50]"
   ]
  },
  {
   "cell_type": "markdown",
   "metadata": {},
   "source": [
    "## TODO\n",
    "\n",
    "### Ideas\n",
    "- ~~num-crels - add back in the logic to threshold these? But only if needed to improve results here (seemed to help essay parser)~~\n",
    "- ~~Re-run with more realistic initial hyper params~~\n",
    "- ~~Add in logic to store results to mongo~~\n",
    "- ~~Switch back to using an initial_weight of 1~~\n",
    "- Approach seems very sensitive to the initial configuration of the algorithm. However, it also seems correlated to the training data performance on the first epoch. Run the algorithm multiple times, take the model with the best training performance and use that as the final selected model to train futher.\n",
    "- We need to add hyper parameter tuning\n",
    "- Do we want to just remove the BEAM search from this? It makes the explanation a lot more complex. But then again, it's the only way we can really add more crels that the model wouldn't otherwise parse\n",
    "- Do we use the BEAM search with some de-duping? Although we already de-dupe to some extent anyways\n",
    "\n",
    "### Needed to Finish\n",
    "- Record run on test data - needs optimal hyper parameters first"
   ]
  },
  {
   "cell_type": "code",
   "execution_count": null,
   "metadata": {},
   "outputs": [],
   "source": []
  }
 ],
 "metadata": {
  "kernelspec": {
   "display_name": "Python [conda env:phd_py36]",
   "language": "python",
   "name": "conda-env-phd_py36-py"
  },
  "language_info": {
   "codemirror_mode": {
    "name": "ipython",
    "version": 3
   },
   "file_extension": ".py",
   "mimetype": "text/x-python",
   "name": "python",
   "nbconvert_exporter": "python",
   "pygments_lexer": "ipython3",
   "version": "3.6.4"
  }
 },
 "nbformat": 4,
 "nbformat_minor": 2
}
