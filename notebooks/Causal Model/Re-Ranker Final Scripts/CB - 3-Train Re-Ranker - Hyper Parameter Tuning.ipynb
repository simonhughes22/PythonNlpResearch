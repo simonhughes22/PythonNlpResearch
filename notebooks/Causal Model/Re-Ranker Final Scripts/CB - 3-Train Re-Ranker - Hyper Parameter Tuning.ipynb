{
 "cells": [
  {
   "cell_type": "code",
   "execution_count": 1,
   "metadata": {},
   "outputs": [],
   "source": [
    "# %load_ext autoreload\n",
    "# %autoreload 2"
   ]
  },
  {
   "cell_type": "code",
   "execution_count": 2,
   "metadata": {},
   "outputs": [],
   "source": [
    "import os\n",
    "import sys\n",
    "cm_folder = \"/Users/simon.hughes/GitHub/NlpResearch/PythonNlpResearch/notebooks/Causal Model/\"\n",
    "src_path = os.path.join(cm_folder, \"src\")\n",
    "sys.path.append(src_path)"
   ]
  },
  {
   "cell_type": "code",
   "execution_count": 3,
   "metadata": {},
   "outputs": [],
   "source": [
    "from typing import Any\n",
    "\n",
    "import dill\n",
    "import numpy as np\n",
    "\n",
    "from CrossValidation import cross_validation\n",
    "from MIRA import CostSensitiveMIRA\n",
    "from Settings import Settings\n",
    "\n",
    "from window_based_tagger_config import get_config\n",
    "from crel_helper import get_cr_tags\n",
    "from crel_processing import essay_to_crels_cv\n",
    "from evaluation import evaluate_model_essay_level, get_micro_metrics, metrics_to_df\n",
    "from feature_normalization import min_max_normalize_feats\n",
    "from function_helpers import get_function_names\n",
    "from results_procesor import ResultsProcessor\n",
    "from train_parser import essay_to_crels, create_extractor_functions\n",
    "from cost_functions import micro_f1_cost_plusepsilon\n",
    "from train_reranker import train_model_parallel_logged, train_model_parallel,\\\n",
    "    train_model, train_cost_sensitive_instance\n",
    "from searn_parser_breadth_first import SearnModelBreadthFirst\n",
    "from causal_model_features import CausalModelType\n",
    "from feature_extraction import get_features_from_probabilities\n",
    "from results_procesor import ResultsProcessor\n",
    "from filter_features import filter_feats"
   ]
  },
  {
   "cell_type": "code",
   "execution_count": 4,
   "metadata": {},
   "outputs": [
    {
     "name": "stdout",
     "output_type": "stream",
     "text": [
      "Results Dir: /Users/simon.hughes/Google Drive/Phd/Results/\n",
      "Data Dir:    /Users/simon.hughes/Google Drive/Phd/Data/\n",
      "Root Dir:    /Users/simon.hughes/GitHub/NlpResearch/\n",
      "Public Data: /Users/simon.hughes/GitHub/NlpResearch/Data/PublicDatasets/\n",
      "902 226\n"
     ]
    }
   ],
   "source": [
    "# Data Set Partition\n",
    "CV_FOLDS = 5\n",
    "MIN_FEAT_FREQ = 5\n",
    "\n",
    "# Global settings\n",
    "settings = Settings()\n",
    "CAUSAL_MODEL_TYPE = CausalModelType.CORAL_BLEACHING\n",
    "root_folder = settings.data_directory + \"CoralBleaching/Thesis_Dataset/\"\n",
    "training_folder = root_folder + \"Training\" + \"/\"\n",
    "test_folder = root_folder + \"Test\" + \"/\"\n",
    "\n",
    "crels_folder = \"./crels/CB\"\n",
    "coref_root = root_folder + \"CoReference/\"\n",
    "coref_output_folder = coref_root + \"CRel/\"\n",
    "\n",
    "MONGO_COLLECTION = \"CB_RE-RANKER_HYPER_PARAM_TD\"\n",
    "# first and second were with initial_weight set to 1.0\n",
    "# thrid is with set to 0.001\n",
    "\n",
    "config = get_config(training_folder)\n",
    "results_processor = ResultsProcessor(dbname=\"metrics_causal_model_reranker\")\n",
    "\n",
    "train_fname = coref_output_folder + \"training_crel_anatagged_essays_most_recent_code.dill\"\n",
    "with open(train_fname, \"rb\") as f:\n",
    "    pred_tagged_essays_train = dill.load(f)\n",
    "\n",
    "test_fname = coref_output_folder + \"test_crel_anatagged_essays_most_recent_code.dill\"\n",
    "with open(test_fname, \"rb\") as f:\n",
    "    pred_tagged_essays_test = dill.load(f)\n",
    "\n",
    "print(len(pred_tagged_essays_train), len(pred_tagged_essays_test))"
   ]
  },
  {
   "cell_type": "code",
   "execution_count": 5,
   "metadata": {},
   "outputs": [
    {
     "data": {
      "text/plain": [
       "['Causer:5->Result:14',\n",
       " 'Causer:7->Result:1',\n",
       " 'Causer:1->Result:3',\n",
       " 'Causer:3->Result:50',\n",
       " 'Causer:4->Result:11',\n",
       " 'Causer:11->Result:1',\n",
       " 'Causer:13->Result:4',\n",
       " 'Causer:50->Result:7',\n",
       " 'Causer:12->Result:50',\n",
       " 'Causer:2->Result:1']"
      ]
     },
     "execution_count": 5,
     "metadata": {},
     "output_type": "execute_result"
    }
   ],
   "source": [
    "cr_tags = get_cr_tags(train_tagged_essays=pred_tagged_essays_train, tag_essays_test=pred_tagged_essays_test)\n",
    "\n",
    "set_cr_tags = set(cr_tags)\n",
    "list(set_cr_tags)[0:10]"
   ]
  },
  {
   "cell_type": "code",
   "execution_count": 6,
   "metadata": {},
   "outputs": [],
   "source": [
    "all_essays = pred_tagged_essays_train + pred_tagged_essays_test\n",
    "name2essay = {}\n",
    "for essay in all_essays:\n",
    "    name2essay[essay.name] = essay\n",
    "\n",
    "name2crels = essay_to_crels(all_essays, set_cr_tags)\n",
    "assert len(name2crels) == len(all_essays)"
   ]
  },
  {
   "cell_type": "markdown",
   "metadata": {},
   "source": [
    "# Train Re-Ranker"
   ]
  },
  {
   "cell_type": "markdown",
   "metadata": {},
   "source": [
    "## Extract Parses from Sentence Parser"
   ]
  },
  {
   "cell_type": "code",
   "execution_count": 7,
   "metadata": {},
   "outputs": [],
   "source": [
    "best_top_n = 2\n",
    "min_feat_freq = 1\n",
    "best_max_upd = 2 \n",
    "best_max_parses = 300\n",
    "best_min_prob = 0.0  # min prob of 0 seems better"
   ]
  },
  {
   "cell_type": "code",
   "execution_count": 8,
   "metadata": {},
   "outputs": [
    {
     "data": {
      "text/plain": [
       "(902, 226)"
      ]
     },
     "execution_count": 8,
     "metadata": {},
     "output_type": "execute_result"
    }
   ],
   "source": [
    "def load_rerank(top_n):\n",
    "    rr_fname = \"xs_rerank_\" + str(top_n) + \".dill\"\n",
    "    with open(os.path.join(crels_folder, rr_fname), \"rb\") as f:\n",
    "        xs_rerank = dill.load(f)\n",
    "\n",
    "    rr_fname = \"xs_rerank_test\" + str(top_n) + \".dill\"\n",
    "    with open(os.path.join(crels_folder, rr_fname), \"rb\") as f:\n",
    "        xs_test_rerank = dill.load(f)\n",
    "    return xs_rerank, xs_test_rerank\n",
    "    \n",
    "xs_rerank, xs_test_rerank = load_rerank(best_top_n)\n",
    "assert len(xs_rerank) == len(pred_tagged_essays_train),     \"Wrong number of train crels\"\n",
    "assert len(xs_test_rerank) == len(pred_tagged_essays_test), \"Wrong number of test crels\"\n",
    "len(xs_rerank), len(xs_test_rerank)"
   ]
  },
  {
   "cell_type": "code",
   "execution_count": 10,
   "metadata": {},
   "outputs": [
    {
     "data": {
      "text/plain": [
       "(6, 6)"
      ]
     },
     "execution_count": 10,
     "metadata": {},
     "output_type": "execute_result"
    }
   ],
   "source": [
    "topn2rerank = dict()\n",
    "topn2rerank_test = dict()\n",
    "\n",
    "for top_n in [1,2,3,5,7,10]:\n",
    "    topn2rerank[top_n], topn2rerank_test[top_n] = load_rerank(top_n)\n",
    "\n",
    "len(topn2rerank), len(topn2rerank_test) "
   ]
  },
  {
   "cell_type": "markdown",
   "metadata": {},
   "source": [
    "## Prepare Features"
   ]
  },
  {
   "cell_type": "code",
   "execution_count": 10,
   "metadata": {},
   "outputs": [
    {
     "name": "stdout",
     "output_type": "stream",
     "text": [
      "CPU times: user 1min 41s, sys: 2.19 s, total: 1min 44s\n",
      "Wall time: 1min 44s\n"
     ]
    }
   ],
   "source": [
    "# %%time\n",
    "\n",
    "# xs = get_features_from_probabilities(xs_rerank, name2crels, best_max_parses, \n",
    "#                                      causal_model_type=CAUSAL_MODEL_TYPE,\n",
    "#                                      min_feat_freq=min_feat_freq, min_prob=best_min_prob)\n",
    "\n",
    "# cv_folds_rerank = cross_validation(xs, 5)\n",
    "# cv_folds_mm = [min_max_normalize_feats(train, test) for (train, test) in cv_folds_rerank]"
   ]
  },
  {
   "cell_type": "code",
   "execution_count": 11,
   "metadata": {},
   "outputs": [
    {
     "name": "stdout",
     "output_type": "stream",
     "text": [
      "CPU times: user 5.89 s, sys: 90.7 ms, total: 5.98 s\n",
      "Wall time: 5.99 s\n"
     ]
    }
   ],
   "source": [
    "# %%time\n",
    "# xs_test = get_features_from_probabilities(xs_test_rerank, name2crels, best_max_parses, \n",
    "#                                           causal_model_type=CAUSAL_MODEL_TYPE,\n",
    "#                                           min_feat_freq=min_feat_freq, min_prob=best_min_prob)"
   ]
  },
  {
   "cell_type": "code",
   "execution_count": 13,
   "metadata": {},
   "outputs": [],
   "source": [
    "# # Prepare test dataset \n",
    "#   # training data comes from the test fold predictions from CV on the full training dataset\n",
    "# xs_train = []\n",
    "# for train, test in cv_folds_rerank:\n",
    "#     xs_train.extend(test)\n",
    "\n",
    "# # Normalize both using training data\n",
    "# xs_train_mm, xs_test_mm = min_max_normalize_feats(xs_train,xs_test)"
   ]
  },
  {
   "cell_type": "code",
   "execution_count": 14,
   "metadata": {},
   "outputs": [
    {
     "data": {
      "text/plain": [
       "(300, 1, 0.0)"
      ]
     },
     "execution_count": 14,
     "metadata": {},
     "output_type": "execute_result"
    }
   ],
   "source": [
    "best_max_parses, min_feat_freq, best_min_prob"
   ]
  },
  {
   "cell_type": "code",
   "execution_count": 24,
   "metadata": {},
   "outputs": [],
   "source": [
    "prefixes = [\n",
    "    \"Prob-\",\n",
    "#     \"CREL_Pair-\",\n",
    "    \"Inv-\",\n",
    "    \"num_crels\",\n",
    "    \"Tally-\",\n",
    "    \"CChain-\",\n",
    "    \"CChainStats-\",\n",
    "    \"Above-\",\n",
    "    \"CREL_\",\n",
    "    \"Propn_\",\n",
    "    \"Diff_\"\n",
    "]\n",
    "\n",
    "# Results from run 3\n",
    "current_best = ['CREL_', 'Prob-', 'CChainStats-']\n",
    "best_iterations = 3\n",
    "\n",
    "# default params (not all of these are optimized)\n",
    "params = {\n",
    "    \"best_top_n\": best_top_n,\n",
    "    \"best_max_upd\": best_max_upd,\n",
    "    \"best_max_parses\": best_max_parses,\n",
    "    \"best_min_prob\": best_min_prob,\n",
    "    \"min_feat_freq\": min_feat_freq\n",
    "}"
   ]
  },
  {
   "cell_type": "code",
   "execution_count": 26,
   "metadata": {},
   "outputs": [
    {
     "name": "stdout",
     "output_type": "stream",
     "text": [
      "CPU times: user 21min 39s, sys: 8min 52s, total: 30min 31s\n",
      "Wall time: 35min 12s\n"
     ]
    }
   ],
   "source": [
    "%%time\n",
    "\n",
    "topn2cvfolds_mm = dict()\n",
    "# store raw feats j.i.c (expensive to compute)\n",
    "topn2feats = dict()\n",
    "\n",
    "for top_n in [1,2,3,5,10]:\n",
    "    \n",
    "    xs_rr = topn2rerank[top_n]\n",
    "    xs_temp = get_features_from_probabilities(xs_rr, name2crels, best_max_parses, \n",
    "                                     causal_model_type=CAUSAL_MODEL_TYPE,\n",
    "                                     min_feat_freq=min_feat_freq, min_prob=best_min_prob)\n",
    "    \n",
    "    cv_flds_rr = cross_validation(xs_temp, 5)\n",
    "    topn2feats[top_n] = cv_flds_rr\n",
    "    \n",
    "    cv_flds_mm = [min_max_normalize_feats(train, test) for (train, test) in cv_flds_rr]\n",
    "    \n",
    "    cv_filtered = []\n",
    "    for tr, test in cv_flds_mm:\n",
    "        x_tr,x_test = filter_feats(tr, test, current_best)\n",
    "        cv_filtered.append((x_tr,x_test))\n",
    "    \n",
    "    topn2cvfolds_mm[top_n] = cv_filtered\n",
    "    \n",
    "#     xs_tst_rr = topn2rerank_test[top_n]\n",
    "#     xs_tst = get_features_from_probabilities(xs_tst_rr, name2crels, best_max_parses, \n",
    "#                                           causal_model_type=CAUSAL_MODEL_TYPE,\n",
    "#                                           min_feat_freq=min_feat_freq, min_prob=best_min_prob)\n",
    "#     # Store feats for later, just in case\n",
    "#     topn2feats[top_n] = (xs_temp, xs_tst)\n",
    "    \n",
    "#     # build up training data for the test dataset using the CV held out folds from the training data\n",
    "#     # but before doing feat normalization\n",
    "#     xs_train_tmp = []\n",
    "#     for train, test in cv_flds_rr:\n",
    "#         xs_train_tmp.extend(test)\n",
    "\n",
    "#     xs_tr_mm, xs_tst_mm = min_max_normalize_feats(xs_train_tmp, xs_tst)\n",
    "#     topn2cvfolds_mm_test[top_n] = [(xs_tr_mm, xs_tst_mm)]"
   ]
  },
  {
   "cell_type": "markdown",
   "metadata": {},
   "source": [
    "### TODO - pickle dictionaries above"
   ]
  },
  {
   "cell_type": "code",
   "execution_count": 27,
   "metadata": {},
   "outputs": [
    {
     "ename": "KeyboardInterrupt",
     "evalue": "",
     "output_type": "error",
     "traceback": [
      "\u001b[0;31m---------------------------------------------------------------------------\u001b[0m",
      "\u001b[0;31mKeyboardInterrupt\u001b[0m                         Traceback (most recent call last)",
      "\u001b[0;32m<ipython-input-27-e9aa1fb71fb9>\u001b[0m in \u001b[0;36m<module>\u001b[0;34m()\u001b[0m\n\u001b[1;32m      3\u001b[0m \u001b[0mfname\u001b[0m \u001b[0;34m=\u001b[0m \u001b[0mos\u001b[0m\u001b[0;34m.\u001b[0m\u001b[0mpath\u001b[0m\u001b[0;34m.\u001b[0m\u001b[0mjoin\u001b[0m\u001b[0;34m(\u001b[0m\u001b[0mcrels_folder\u001b[0m\u001b[0;34m,\u001b[0m \u001b[0;34m\"xs_rr_dict.dill\"\u001b[0m\u001b[0;34m)\u001b[0m\u001b[0;34m\u001b[0m\u001b[0m\n\u001b[1;32m      4\u001b[0m \u001b[0;32mwith\u001b[0m \u001b[0mopen\u001b[0m\u001b[0;34m(\u001b[0m\u001b[0mfname\u001b[0m\u001b[0;34m,\u001b[0m \u001b[0;34m\"wb+\"\u001b[0m\u001b[0;34m)\u001b[0m \u001b[0;32mas\u001b[0m \u001b[0mf\u001b[0m\u001b[0;34m:\u001b[0m\u001b[0;34m\u001b[0m\u001b[0m\n\u001b[0;32m----> 5\u001b[0;31m     \u001b[0mdill\u001b[0m\u001b[0;34m.\u001b[0m\u001b[0mdump\u001b[0m\u001b[0;34m(\u001b[0m\u001b[0mtopn2cvfolds_mm\u001b[0m\u001b[0;34m,\u001b[0m \u001b[0mf\u001b[0m\u001b[0;34m)\u001b[0m\u001b[0;34m\u001b[0m\u001b[0m\n\u001b[0m\u001b[1;32m      6\u001b[0m \u001b[0;34m\u001b[0m\u001b[0m\n",
      "\u001b[0;32m~/anaconda3/envs/phd_py36/lib/python3.6/site-packages/dill/_dill.py\u001b[0m in \u001b[0;36mdump\u001b[0;34m(obj, file, protocol, byref, fmode, recurse)\u001b[0m\n\u001b[1;32m    284\u001b[0m         \u001b[0;32mraise\u001b[0m \u001b[0mPicklingError\u001b[0m\u001b[0;34m(\u001b[0m\u001b[0mmsg\u001b[0m\u001b[0;34m)\u001b[0m\u001b[0;34m\u001b[0m\u001b[0m\n\u001b[1;32m    285\u001b[0m     \u001b[0;32melse\u001b[0m\u001b[0;34m:\u001b[0m\u001b[0;34m\u001b[0m\u001b[0m\n\u001b[0;32m--> 286\u001b[0;31m         \u001b[0mpik\u001b[0m\u001b[0;34m.\u001b[0m\u001b[0mdump\u001b[0m\u001b[0;34m(\u001b[0m\u001b[0mobj\u001b[0m\u001b[0;34m)\u001b[0m\u001b[0;34m\u001b[0m\u001b[0m\n\u001b[0m\u001b[1;32m    287\u001b[0m     \u001b[0mstack\u001b[0m\u001b[0;34m.\u001b[0m\u001b[0mclear\u001b[0m\u001b[0;34m(\u001b[0m\u001b[0;34m)\u001b[0m  \u001b[0;31m# clear record of 'recursion-sensitive' pickled objects\u001b[0m\u001b[0;34m\u001b[0m\u001b[0m\n\u001b[1;32m    288\u001b[0m     \u001b[0;32mreturn\u001b[0m\u001b[0;34m\u001b[0m\u001b[0m\n",
      "\u001b[0;32m~/anaconda3/envs/phd_py36/lib/python3.6/pickle.py\u001b[0m in \u001b[0;36mdump\u001b[0;34m(self, obj)\u001b[0m\n\u001b[1;32m    407\u001b[0m         \u001b[0;32mif\u001b[0m \u001b[0mself\u001b[0m\u001b[0;34m.\u001b[0m\u001b[0mproto\u001b[0m \u001b[0;34m>=\u001b[0m \u001b[0;36m4\u001b[0m\u001b[0;34m:\u001b[0m\u001b[0;34m\u001b[0m\u001b[0m\n\u001b[1;32m    408\u001b[0m             \u001b[0mself\u001b[0m\u001b[0;34m.\u001b[0m\u001b[0mframer\u001b[0m\u001b[0;34m.\u001b[0m\u001b[0mstart_framing\u001b[0m\u001b[0;34m(\u001b[0m\u001b[0;34m)\u001b[0m\u001b[0;34m\u001b[0m\u001b[0m\n\u001b[0;32m--> 409\u001b[0;31m         \u001b[0mself\u001b[0m\u001b[0;34m.\u001b[0m\u001b[0msave\u001b[0m\u001b[0;34m(\u001b[0m\u001b[0mobj\u001b[0m\u001b[0;34m)\u001b[0m\u001b[0;34m\u001b[0m\u001b[0m\n\u001b[0m\u001b[1;32m    410\u001b[0m         \u001b[0mself\u001b[0m\u001b[0;34m.\u001b[0m\u001b[0mwrite\u001b[0m\u001b[0;34m(\u001b[0m\u001b[0mSTOP\u001b[0m\u001b[0;34m)\u001b[0m\u001b[0;34m\u001b[0m\u001b[0m\n\u001b[1;32m    411\u001b[0m         \u001b[0mself\u001b[0m\u001b[0;34m.\u001b[0m\u001b[0mframer\u001b[0m\u001b[0;34m.\u001b[0m\u001b[0mend_framing\u001b[0m\u001b[0;34m(\u001b[0m\u001b[0;34m)\u001b[0m\u001b[0;34m\u001b[0m\u001b[0m\n",
      "\u001b[0;32m~/anaconda3/envs/phd_py36/lib/python3.6/pickle.py\u001b[0m in \u001b[0;36msave\u001b[0;34m(self, obj, save_persistent_id)\u001b[0m\n\u001b[1;32m    474\u001b[0m         \u001b[0mf\u001b[0m \u001b[0;34m=\u001b[0m \u001b[0mself\u001b[0m\u001b[0;34m.\u001b[0m\u001b[0mdispatch\u001b[0m\u001b[0;34m.\u001b[0m\u001b[0mget\u001b[0m\u001b[0;34m(\u001b[0m\u001b[0mt\u001b[0m\u001b[0;34m)\u001b[0m\u001b[0;34m\u001b[0m\u001b[0m\n\u001b[1;32m    475\u001b[0m         \u001b[0;32mif\u001b[0m \u001b[0mf\u001b[0m \u001b[0;32mis\u001b[0m \u001b[0;32mnot\u001b[0m \u001b[0;32mNone\u001b[0m\u001b[0;34m:\u001b[0m\u001b[0;34m\u001b[0m\u001b[0m\n\u001b[0;32m--> 476\u001b[0;31m             \u001b[0mf\u001b[0m\u001b[0;34m(\u001b[0m\u001b[0mself\u001b[0m\u001b[0;34m,\u001b[0m \u001b[0mobj\u001b[0m\u001b[0;34m)\u001b[0m \u001b[0;31m# Call unbound method with explicit self\u001b[0m\u001b[0;34m\u001b[0m\u001b[0m\n\u001b[0m\u001b[1;32m    477\u001b[0m             \u001b[0;32mreturn\u001b[0m\u001b[0;34m\u001b[0m\u001b[0m\n\u001b[1;32m    478\u001b[0m \u001b[0;34m\u001b[0m\u001b[0m\n",
      "\u001b[0;32m~/anaconda3/envs/phd_py36/lib/python3.6/site-packages/dill/_dill.py\u001b[0m in \u001b[0;36msave_module_dict\u001b[0;34m(pickler, obj)\u001b[0m\n\u001b[1;32m    891\u001b[0m             \u001b[0;31m# we only care about session the first pass thru\u001b[0m\u001b[0;34m\u001b[0m\u001b[0;34m\u001b[0m\u001b[0m\n\u001b[1;32m    892\u001b[0m             \u001b[0mpickler\u001b[0m\u001b[0;34m.\u001b[0m\u001b[0m_session\u001b[0m \u001b[0;34m=\u001b[0m \u001b[0;32mFalse\u001b[0m\u001b[0;34m\u001b[0m\u001b[0m\n\u001b[0;32m--> 893\u001b[0;31m         \u001b[0mStockPickler\u001b[0m\u001b[0;34m.\u001b[0m\u001b[0msave_dict\u001b[0m\u001b[0;34m(\u001b[0m\u001b[0mpickler\u001b[0m\u001b[0;34m,\u001b[0m \u001b[0mobj\u001b[0m\u001b[0;34m)\u001b[0m\u001b[0;34m\u001b[0m\u001b[0m\n\u001b[0m\u001b[1;32m    894\u001b[0m         \u001b[0mlog\u001b[0m\u001b[0;34m.\u001b[0m\u001b[0minfo\u001b[0m\u001b[0;34m(\u001b[0m\u001b[0;34m\"# D2\"\u001b[0m\u001b[0;34m)\u001b[0m\u001b[0;34m\u001b[0m\u001b[0m\n\u001b[1;32m    895\u001b[0m     \u001b[0;32mreturn\u001b[0m\u001b[0;34m\u001b[0m\u001b[0m\n",
      "\u001b[0;32m~/anaconda3/envs/phd_py36/lib/python3.6/pickle.py\u001b[0m in \u001b[0;36msave_dict\u001b[0;34m(self, obj)\u001b[0m\n\u001b[1;32m    819\u001b[0m \u001b[0;34m\u001b[0m\u001b[0m\n\u001b[1;32m    820\u001b[0m         \u001b[0mself\u001b[0m\u001b[0;34m.\u001b[0m\u001b[0mmemoize\u001b[0m\u001b[0;34m(\u001b[0m\u001b[0mobj\u001b[0m\u001b[0;34m)\u001b[0m\u001b[0;34m\u001b[0m\u001b[0m\n\u001b[0;32m--> 821\u001b[0;31m         \u001b[0mself\u001b[0m\u001b[0;34m.\u001b[0m\u001b[0m_batch_setitems\u001b[0m\u001b[0;34m(\u001b[0m\u001b[0mobj\u001b[0m\u001b[0;34m.\u001b[0m\u001b[0mitems\u001b[0m\u001b[0;34m(\u001b[0m\u001b[0;34m)\u001b[0m\u001b[0;34m)\u001b[0m\u001b[0;34m\u001b[0m\u001b[0m\n\u001b[0m\u001b[1;32m    822\u001b[0m \u001b[0;34m\u001b[0m\u001b[0m\n\u001b[1;32m    823\u001b[0m     \u001b[0mdispatch\u001b[0m\u001b[0;34m[\u001b[0m\u001b[0mdict\u001b[0m\u001b[0;34m]\u001b[0m \u001b[0;34m=\u001b[0m \u001b[0msave_dict\u001b[0m\u001b[0;34m\u001b[0m\u001b[0m\n",
      "\u001b[0;32m~/anaconda3/envs/phd_py36/lib/python3.6/pickle.py\u001b[0m in \u001b[0;36m_batch_setitems\u001b[0;34m(self, items)\u001b[0m\n\u001b[1;32m    845\u001b[0m                 \u001b[0;32mfor\u001b[0m \u001b[0mk\u001b[0m\u001b[0;34m,\u001b[0m \u001b[0mv\u001b[0m \u001b[0;32min\u001b[0m \u001b[0mtmp\u001b[0m\u001b[0;34m:\u001b[0m\u001b[0;34m\u001b[0m\u001b[0m\n\u001b[1;32m    846\u001b[0m                     \u001b[0msave\u001b[0m\u001b[0;34m(\u001b[0m\u001b[0mk\u001b[0m\u001b[0;34m)\u001b[0m\u001b[0;34m\u001b[0m\u001b[0m\n\u001b[0;32m--> 847\u001b[0;31m                     \u001b[0msave\u001b[0m\u001b[0;34m(\u001b[0m\u001b[0mv\u001b[0m\u001b[0;34m)\u001b[0m\u001b[0;34m\u001b[0m\u001b[0m\n\u001b[0m\u001b[1;32m    848\u001b[0m                 \u001b[0mwrite\u001b[0m\u001b[0;34m(\u001b[0m\u001b[0mSETITEMS\u001b[0m\u001b[0;34m)\u001b[0m\u001b[0;34m\u001b[0m\u001b[0m\n\u001b[1;32m    849\u001b[0m             \u001b[0;32melif\u001b[0m \u001b[0mn\u001b[0m\u001b[0;34m:\u001b[0m\u001b[0;34m\u001b[0m\u001b[0m\n",
      "\u001b[0;32m~/anaconda3/envs/phd_py36/lib/python3.6/pickle.py\u001b[0m in \u001b[0;36msave\u001b[0;34m(self, obj, save_persistent_id)\u001b[0m\n\u001b[1;32m    474\u001b[0m         \u001b[0mf\u001b[0m \u001b[0;34m=\u001b[0m \u001b[0mself\u001b[0m\u001b[0;34m.\u001b[0m\u001b[0mdispatch\u001b[0m\u001b[0;34m.\u001b[0m\u001b[0mget\u001b[0m\u001b[0;34m(\u001b[0m\u001b[0mt\u001b[0m\u001b[0;34m)\u001b[0m\u001b[0;34m\u001b[0m\u001b[0m\n\u001b[1;32m    475\u001b[0m         \u001b[0;32mif\u001b[0m \u001b[0mf\u001b[0m \u001b[0;32mis\u001b[0m \u001b[0;32mnot\u001b[0m \u001b[0;32mNone\u001b[0m\u001b[0;34m:\u001b[0m\u001b[0;34m\u001b[0m\u001b[0m\n\u001b[0;32m--> 476\u001b[0;31m             \u001b[0mf\u001b[0m\u001b[0;34m(\u001b[0m\u001b[0mself\u001b[0m\u001b[0;34m,\u001b[0m \u001b[0mobj\u001b[0m\u001b[0;34m)\u001b[0m \u001b[0;31m# Call unbound method with explicit self\u001b[0m\u001b[0;34m\u001b[0m\u001b[0m\n\u001b[0m\u001b[1;32m    477\u001b[0m             \u001b[0;32mreturn\u001b[0m\u001b[0;34m\u001b[0m\u001b[0m\n\u001b[1;32m    478\u001b[0m \u001b[0;34m\u001b[0m\u001b[0m\n",
      "\u001b[0;32m~/anaconda3/envs/phd_py36/lib/python3.6/pickle.py\u001b[0m in \u001b[0;36msave_list\u001b[0;34m(self, obj)\u001b[0m\n\u001b[1;32m    779\u001b[0m \u001b[0;34m\u001b[0m\u001b[0m\n\u001b[1;32m    780\u001b[0m         \u001b[0mself\u001b[0m\u001b[0;34m.\u001b[0m\u001b[0mmemoize\u001b[0m\u001b[0;34m(\u001b[0m\u001b[0mobj\u001b[0m\u001b[0;34m)\u001b[0m\u001b[0;34m\u001b[0m\u001b[0m\n\u001b[0;32m--> 781\u001b[0;31m         \u001b[0mself\u001b[0m\u001b[0;34m.\u001b[0m\u001b[0m_batch_appends\u001b[0m\u001b[0;34m(\u001b[0m\u001b[0mobj\u001b[0m\u001b[0;34m)\u001b[0m\u001b[0;34m\u001b[0m\u001b[0m\n\u001b[0m\u001b[1;32m    782\u001b[0m \u001b[0;34m\u001b[0m\u001b[0m\n\u001b[1;32m    783\u001b[0m     \u001b[0mdispatch\u001b[0m\u001b[0;34m[\u001b[0m\u001b[0mlist\u001b[0m\u001b[0;34m]\u001b[0m \u001b[0;34m=\u001b[0m \u001b[0msave_list\u001b[0m\u001b[0;34m\u001b[0m\u001b[0m\n",
      "\u001b[0;32m~/anaconda3/envs/phd_py36/lib/python3.6/pickle.py\u001b[0m in \u001b[0;36m_batch_appends\u001b[0;34m(self, items)\u001b[0m\n\u001b[1;32m    803\u001b[0m                 \u001b[0mwrite\u001b[0m\u001b[0;34m(\u001b[0m\u001b[0mMARK\u001b[0m\u001b[0;34m)\u001b[0m\u001b[0;34m\u001b[0m\u001b[0m\n\u001b[1;32m    804\u001b[0m                 \u001b[0;32mfor\u001b[0m \u001b[0mx\u001b[0m \u001b[0;32min\u001b[0m \u001b[0mtmp\u001b[0m\u001b[0;34m:\u001b[0m\u001b[0;34m\u001b[0m\u001b[0m\n\u001b[0;32m--> 805\u001b[0;31m                     \u001b[0msave\u001b[0m\u001b[0;34m(\u001b[0m\u001b[0mx\u001b[0m\u001b[0;34m)\u001b[0m\u001b[0;34m\u001b[0m\u001b[0m\n\u001b[0m\u001b[1;32m    806\u001b[0m                 \u001b[0mwrite\u001b[0m\u001b[0;34m(\u001b[0m\u001b[0mAPPENDS\u001b[0m\u001b[0;34m)\u001b[0m\u001b[0;34m\u001b[0m\u001b[0m\n\u001b[1;32m    807\u001b[0m             \u001b[0;32melif\u001b[0m \u001b[0mn\u001b[0m\u001b[0;34m:\u001b[0m\u001b[0;34m\u001b[0m\u001b[0m\n",
      "\u001b[0;32m~/anaconda3/envs/phd_py36/lib/python3.6/pickle.py\u001b[0m in \u001b[0;36msave\u001b[0;34m(self, obj, save_persistent_id)\u001b[0m\n\u001b[1;32m    474\u001b[0m         \u001b[0mf\u001b[0m \u001b[0;34m=\u001b[0m \u001b[0mself\u001b[0m\u001b[0;34m.\u001b[0m\u001b[0mdispatch\u001b[0m\u001b[0;34m.\u001b[0m\u001b[0mget\u001b[0m\u001b[0;34m(\u001b[0m\u001b[0mt\u001b[0m\u001b[0;34m)\u001b[0m\u001b[0;34m\u001b[0m\u001b[0m\n\u001b[1;32m    475\u001b[0m         \u001b[0;32mif\u001b[0m \u001b[0mf\u001b[0m \u001b[0;32mis\u001b[0m \u001b[0;32mnot\u001b[0m \u001b[0;32mNone\u001b[0m\u001b[0;34m:\u001b[0m\u001b[0;34m\u001b[0m\u001b[0m\n\u001b[0;32m--> 476\u001b[0;31m             \u001b[0mf\u001b[0m\u001b[0;34m(\u001b[0m\u001b[0mself\u001b[0m\u001b[0;34m,\u001b[0m \u001b[0mobj\u001b[0m\u001b[0;34m)\u001b[0m \u001b[0;31m# Call unbound method with explicit self\u001b[0m\u001b[0;34m\u001b[0m\u001b[0m\n\u001b[0m\u001b[1;32m    477\u001b[0m             \u001b[0;32mreturn\u001b[0m\u001b[0;34m\u001b[0m\u001b[0m\n\u001b[1;32m    478\u001b[0m \u001b[0;34m\u001b[0m\u001b[0m\n",
      "\u001b[0;32m~/anaconda3/envs/phd_py36/lib/python3.6/pickle.py\u001b[0m in \u001b[0;36msave_tuple\u001b[0;34m(self, obj)\u001b[0m\n\u001b[1;32m    734\u001b[0m         \u001b[0;32mif\u001b[0m \u001b[0mn\u001b[0m \u001b[0;34m<=\u001b[0m \u001b[0;36m3\u001b[0m \u001b[0;32mand\u001b[0m \u001b[0mself\u001b[0m\u001b[0;34m.\u001b[0m\u001b[0mproto\u001b[0m \u001b[0;34m>=\u001b[0m \u001b[0;36m2\u001b[0m\u001b[0;34m:\u001b[0m\u001b[0;34m\u001b[0m\u001b[0m\n\u001b[1;32m    735\u001b[0m             \u001b[0;32mfor\u001b[0m \u001b[0melement\u001b[0m \u001b[0;32min\u001b[0m \u001b[0mobj\u001b[0m\u001b[0;34m:\u001b[0m\u001b[0;34m\u001b[0m\u001b[0m\n\u001b[0;32m--> 736\u001b[0;31m                 \u001b[0msave\u001b[0m\u001b[0;34m(\u001b[0m\u001b[0melement\u001b[0m\u001b[0;34m)\u001b[0m\u001b[0;34m\u001b[0m\u001b[0m\n\u001b[0m\u001b[1;32m    737\u001b[0m             \u001b[0;31m# Subtle.  Same as in the big comment below.\u001b[0m\u001b[0;34m\u001b[0m\u001b[0;34m\u001b[0m\u001b[0m\n\u001b[1;32m    738\u001b[0m             \u001b[0;32mif\u001b[0m \u001b[0mid\u001b[0m\u001b[0;34m(\u001b[0m\u001b[0mobj\u001b[0m\u001b[0;34m)\u001b[0m \u001b[0;32min\u001b[0m \u001b[0mmemo\u001b[0m\u001b[0;34m:\u001b[0m\u001b[0;34m\u001b[0m\u001b[0m\n",
      "\u001b[0;32m~/anaconda3/envs/phd_py36/lib/python3.6/pickle.py\u001b[0m in \u001b[0;36msave\u001b[0;34m(self, obj, save_persistent_id)\u001b[0m\n\u001b[1;32m    474\u001b[0m         \u001b[0mf\u001b[0m \u001b[0;34m=\u001b[0m \u001b[0mself\u001b[0m\u001b[0;34m.\u001b[0m\u001b[0mdispatch\u001b[0m\u001b[0;34m.\u001b[0m\u001b[0mget\u001b[0m\u001b[0;34m(\u001b[0m\u001b[0mt\u001b[0m\u001b[0;34m)\u001b[0m\u001b[0;34m\u001b[0m\u001b[0m\n\u001b[1;32m    475\u001b[0m         \u001b[0;32mif\u001b[0m \u001b[0mf\u001b[0m \u001b[0;32mis\u001b[0m \u001b[0;32mnot\u001b[0m \u001b[0;32mNone\u001b[0m\u001b[0;34m:\u001b[0m\u001b[0;34m\u001b[0m\u001b[0m\n\u001b[0;32m--> 476\u001b[0;31m             \u001b[0mf\u001b[0m\u001b[0;34m(\u001b[0m\u001b[0mself\u001b[0m\u001b[0;34m,\u001b[0m \u001b[0mobj\u001b[0m\u001b[0;34m)\u001b[0m \u001b[0;31m# Call unbound method with explicit self\u001b[0m\u001b[0;34m\u001b[0m\u001b[0m\n\u001b[0m\u001b[1;32m    477\u001b[0m             \u001b[0;32mreturn\u001b[0m\u001b[0;34m\u001b[0m\u001b[0m\n\u001b[1;32m    478\u001b[0m \u001b[0;34m\u001b[0m\u001b[0m\n",
      "\u001b[0;32m~/anaconda3/envs/phd_py36/lib/python3.6/pickle.py\u001b[0m in \u001b[0;36msave_list\u001b[0;34m(self, obj)\u001b[0m\n\u001b[1;32m    779\u001b[0m \u001b[0;34m\u001b[0m\u001b[0m\n\u001b[1;32m    780\u001b[0m         \u001b[0mself\u001b[0m\u001b[0;34m.\u001b[0m\u001b[0mmemoize\u001b[0m\u001b[0;34m(\u001b[0m\u001b[0mobj\u001b[0m\u001b[0;34m)\u001b[0m\u001b[0;34m\u001b[0m\u001b[0m\n\u001b[0;32m--> 781\u001b[0;31m         \u001b[0mself\u001b[0m\u001b[0;34m.\u001b[0m\u001b[0m_batch_appends\u001b[0m\u001b[0;34m(\u001b[0m\u001b[0mobj\u001b[0m\u001b[0;34m)\u001b[0m\u001b[0;34m\u001b[0m\u001b[0m\n\u001b[0m\u001b[1;32m    782\u001b[0m \u001b[0;34m\u001b[0m\u001b[0m\n\u001b[1;32m    783\u001b[0m     \u001b[0mdispatch\u001b[0m\u001b[0;34m[\u001b[0m\u001b[0mlist\u001b[0m\u001b[0;34m]\u001b[0m \u001b[0;34m=\u001b[0m \u001b[0msave_list\u001b[0m\u001b[0;34m\u001b[0m\u001b[0m\n",
      "\u001b[0;32m~/anaconda3/envs/phd_py36/lib/python3.6/pickle.py\u001b[0m in \u001b[0;36m_batch_appends\u001b[0;34m(self, items)\u001b[0m\n\u001b[1;32m    803\u001b[0m                 \u001b[0mwrite\u001b[0m\u001b[0;34m(\u001b[0m\u001b[0mMARK\u001b[0m\u001b[0;34m)\u001b[0m\u001b[0;34m\u001b[0m\u001b[0m\n\u001b[1;32m    804\u001b[0m                 \u001b[0;32mfor\u001b[0m \u001b[0mx\u001b[0m \u001b[0;32min\u001b[0m \u001b[0mtmp\u001b[0m\u001b[0;34m:\u001b[0m\u001b[0;34m\u001b[0m\u001b[0m\n\u001b[0;32m--> 805\u001b[0;31m                     \u001b[0msave\u001b[0m\u001b[0;34m(\u001b[0m\u001b[0mx\u001b[0m\u001b[0;34m)\u001b[0m\u001b[0;34m\u001b[0m\u001b[0m\n\u001b[0m\u001b[1;32m    806\u001b[0m                 \u001b[0mwrite\u001b[0m\u001b[0;34m(\u001b[0m\u001b[0mAPPENDS\u001b[0m\u001b[0;34m)\u001b[0m\u001b[0;34m\u001b[0m\u001b[0m\n\u001b[1;32m    807\u001b[0m             \u001b[0;32melif\u001b[0m \u001b[0mn\u001b[0m\u001b[0;34m:\u001b[0m\u001b[0;34m\u001b[0m\u001b[0m\n",
      "\u001b[0;32m~/anaconda3/envs/phd_py36/lib/python3.6/pickle.py\u001b[0m in \u001b[0;36msave\u001b[0;34m(self, obj, save_persistent_id)\u001b[0m\n\u001b[1;32m    519\u001b[0m \u001b[0;34m\u001b[0m\u001b[0m\n\u001b[1;32m    520\u001b[0m         \u001b[0;31m# Save the reduce() output and finally memoize the object\u001b[0m\u001b[0;34m\u001b[0m\u001b[0;34m\u001b[0m\u001b[0m\n\u001b[0;32m--> 521\u001b[0;31m         \u001b[0mself\u001b[0m\u001b[0;34m.\u001b[0m\u001b[0msave_reduce\u001b[0m\u001b[0;34m(\u001b[0m\u001b[0mobj\u001b[0m\u001b[0;34m=\u001b[0m\u001b[0mobj\u001b[0m\u001b[0;34m,\u001b[0m \u001b[0;34m*\u001b[0m\u001b[0mrv\u001b[0m\u001b[0;34m)\u001b[0m\u001b[0;34m\u001b[0m\u001b[0m\n\u001b[0m\u001b[1;32m    522\u001b[0m \u001b[0;34m\u001b[0m\u001b[0m\n\u001b[1;32m    523\u001b[0m     \u001b[0;32mdef\u001b[0m \u001b[0mpersistent_id\u001b[0m\u001b[0;34m(\u001b[0m\u001b[0mself\u001b[0m\u001b[0;34m,\u001b[0m \u001b[0mobj\u001b[0m\u001b[0;34m)\u001b[0m\u001b[0;34m:\u001b[0m\u001b[0;34m\u001b[0m\u001b[0m\n",
      "\u001b[0;32m~/anaconda3/envs/phd_py36/lib/python3.6/pickle.py\u001b[0m in \u001b[0;36msave_reduce\u001b[0;34m(self, func, args, state, listitems, dictitems, obj)\u001b[0m\n\u001b[1;32m    632\u001b[0m \u001b[0;34m\u001b[0m\u001b[0m\n\u001b[1;32m    633\u001b[0m         \u001b[0;32mif\u001b[0m \u001b[0mstate\u001b[0m \u001b[0;32mis\u001b[0m \u001b[0;32mnot\u001b[0m \u001b[0;32mNone\u001b[0m\u001b[0;34m:\u001b[0m\u001b[0;34m\u001b[0m\u001b[0m\n\u001b[0;32m--> 634\u001b[0;31m             \u001b[0msave\u001b[0m\u001b[0;34m(\u001b[0m\u001b[0mstate\u001b[0m\u001b[0;34m)\u001b[0m\u001b[0;34m\u001b[0m\u001b[0m\n\u001b[0m\u001b[1;32m    635\u001b[0m             \u001b[0mwrite\u001b[0m\u001b[0;34m(\u001b[0m\u001b[0mBUILD\u001b[0m\u001b[0;34m)\u001b[0m\u001b[0;34m\u001b[0m\u001b[0m\n\u001b[1;32m    636\u001b[0m \u001b[0;34m\u001b[0m\u001b[0m\n",
      "\u001b[0;32m~/anaconda3/envs/phd_py36/lib/python3.6/pickle.py\u001b[0m in \u001b[0;36msave\u001b[0;34m(self, obj, save_persistent_id)\u001b[0m\n\u001b[1;32m    474\u001b[0m         \u001b[0mf\u001b[0m \u001b[0;34m=\u001b[0m \u001b[0mself\u001b[0m\u001b[0;34m.\u001b[0m\u001b[0mdispatch\u001b[0m\u001b[0;34m.\u001b[0m\u001b[0mget\u001b[0m\u001b[0;34m(\u001b[0m\u001b[0mt\u001b[0m\u001b[0;34m)\u001b[0m\u001b[0;34m\u001b[0m\u001b[0m\n\u001b[1;32m    475\u001b[0m         \u001b[0;32mif\u001b[0m \u001b[0mf\u001b[0m \u001b[0;32mis\u001b[0m \u001b[0;32mnot\u001b[0m \u001b[0;32mNone\u001b[0m\u001b[0;34m:\u001b[0m\u001b[0;34m\u001b[0m\u001b[0m\n\u001b[0;32m--> 476\u001b[0;31m             \u001b[0mf\u001b[0m\u001b[0;34m(\u001b[0m\u001b[0mself\u001b[0m\u001b[0;34m,\u001b[0m \u001b[0mobj\u001b[0m\u001b[0;34m)\u001b[0m \u001b[0;31m# Call unbound method with explicit self\u001b[0m\u001b[0;34m\u001b[0m\u001b[0m\n\u001b[0m\u001b[1;32m    477\u001b[0m             \u001b[0;32mreturn\u001b[0m\u001b[0;34m\u001b[0m\u001b[0m\n\u001b[1;32m    478\u001b[0m \u001b[0;34m\u001b[0m\u001b[0m\n",
      "\u001b[0;32m~/anaconda3/envs/phd_py36/lib/python3.6/site-packages/dill/_dill.py\u001b[0m in \u001b[0;36msave_module_dict\u001b[0;34m(pickler, obj)\u001b[0m\n\u001b[1;32m    891\u001b[0m             \u001b[0;31m# we only care about session the first pass thru\u001b[0m\u001b[0;34m\u001b[0m\u001b[0;34m\u001b[0m\u001b[0m\n\u001b[1;32m    892\u001b[0m             \u001b[0mpickler\u001b[0m\u001b[0;34m.\u001b[0m\u001b[0m_session\u001b[0m \u001b[0;34m=\u001b[0m \u001b[0;32mFalse\u001b[0m\u001b[0;34m\u001b[0m\u001b[0m\n\u001b[0;32m--> 893\u001b[0;31m         \u001b[0mStockPickler\u001b[0m\u001b[0;34m.\u001b[0m\u001b[0msave_dict\u001b[0m\u001b[0;34m(\u001b[0m\u001b[0mpickler\u001b[0m\u001b[0;34m,\u001b[0m \u001b[0mobj\u001b[0m\u001b[0;34m)\u001b[0m\u001b[0;34m\u001b[0m\u001b[0m\n\u001b[0m\u001b[1;32m    894\u001b[0m         \u001b[0mlog\u001b[0m\u001b[0;34m.\u001b[0m\u001b[0minfo\u001b[0m\u001b[0;34m(\u001b[0m\u001b[0;34m\"# D2\"\u001b[0m\u001b[0;34m)\u001b[0m\u001b[0;34m\u001b[0m\u001b[0m\n\u001b[1;32m    895\u001b[0m     \u001b[0;32mreturn\u001b[0m\u001b[0;34m\u001b[0m\u001b[0m\n",
      "\u001b[0;32m~/anaconda3/envs/phd_py36/lib/python3.6/pickle.py\u001b[0m in \u001b[0;36msave_dict\u001b[0;34m(self, obj)\u001b[0m\n\u001b[1;32m    819\u001b[0m \u001b[0;34m\u001b[0m\u001b[0m\n\u001b[1;32m    820\u001b[0m         \u001b[0mself\u001b[0m\u001b[0;34m.\u001b[0m\u001b[0mmemoize\u001b[0m\u001b[0;34m(\u001b[0m\u001b[0mobj\u001b[0m\u001b[0;34m)\u001b[0m\u001b[0;34m\u001b[0m\u001b[0m\n\u001b[0;32m--> 821\u001b[0;31m         \u001b[0mself\u001b[0m\u001b[0;34m.\u001b[0m\u001b[0m_batch_setitems\u001b[0m\u001b[0;34m(\u001b[0m\u001b[0mobj\u001b[0m\u001b[0;34m.\u001b[0m\u001b[0mitems\u001b[0m\u001b[0;34m(\u001b[0m\u001b[0;34m)\u001b[0m\u001b[0;34m)\u001b[0m\u001b[0;34m\u001b[0m\u001b[0m\n\u001b[0m\u001b[1;32m    822\u001b[0m \u001b[0;34m\u001b[0m\u001b[0m\n\u001b[1;32m    823\u001b[0m     \u001b[0mdispatch\u001b[0m\u001b[0;34m[\u001b[0m\u001b[0mdict\u001b[0m\u001b[0;34m]\u001b[0m \u001b[0;34m=\u001b[0m \u001b[0msave_dict\u001b[0m\u001b[0;34m\u001b[0m\u001b[0m\n",
      "\u001b[0;32m~/anaconda3/envs/phd_py36/lib/python3.6/pickle.py\u001b[0m in \u001b[0;36m_batch_setitems\u001b[0;34m(self, items)\u001b[0m\n\u001b[1;32m    845\u001b[0m                 \u001b[0;32mfor\u001b[0m \u001b[0mk\u001b[0m\u001b[0;34m,\u001b[0m \u001b[0mv\u001b[0m \u001b[0;32min\u001b[0m \u001b[0mtmp\u001b[0m\u001b[0;34m:\u001b[0m\u001b[0;34m\u001b[0m\u001b[0m\n\u001b[1;32m    846\u001b[0m                     \u001b[0msave\u001b[0m\u001b[0;34m(\u001b[0m\u001b[0mk\u001b[0m\u001b[0;34m)\u001b[0m\u001b[0;34m\u001b[0m\u001b[0m\n\u001b[0;32m--> 847\u001b[0;31m                     \u001b[0msave\u001b[0m\u001b[0;34m(\u001b[0m\u001b[0mv\u001b[0m\u001b[0;34m)\u001b[0m\u001b[0;34m\u001b[0m\u001b[0m\n\u001b[0m\u001b[1;32m    848\u001b[0m                 \u001b[0mwrite\u001b[0m\u001b[0;34m(\u001b[0m\u001b[0mSETITEMS\u001b[0m\u001b[0;34m)\u001b[0m\u001b[0;34m\u001b[0m\u001b[0m\n\u001b[1;32m    849\u001b[0m             \u001b[0;32melif\u001b[0m \u001b[0mn\u001b[0m\u001b[0;34m:\u001b[0m\u001b[0;34m\u001b[0m\u001b[0m\n",
      "\u001b[0;32m~/anaconda3/envs/phd_py36/lib/python3.6/pickle.py\u001b[0m in \u001b[0;36msave\u001b[0;34m(self, obj, save_persistent_id)\u001b[0m\n\u001b[1;32m    474\u001b[0m         \u001b[0mf\u001b[0m \u001b[0;34m=\u001b[0m \u001b[0mself\u001b[0m\u001b[0;34m.\u001b[0m\u001b[0mdispatch\u001b[0m\u001b[0;34m.\u001b[0m\u001b[0mget\u001b[0m\u001b[0;34m(\u001b[0m\u001b[0mt\u001b[0m\u001b[0;34m)\u001b[0m\u001b[0;34m\u001b[0m\u001b[0m\n\u001b[1;32m    475\u001b[0m         \u001b[0;32mif\u001b[0m \u001b[0mf\u001b[0m \u001b[0;32mis\u001b[0m \u001b[0;32mnot\u001b[0m \u001b[0;32mNone\u001b[0m\u001b[0;34m:\u001b[0m\u001b[0;34m\u001b[0m\u001b[0m\n\u001b[0;32m--> 476\u001b[0;31m             \u001b[0mf\u001b[0m\u001b[0;34m(\u001b[0m\u001b[0mself\u001b[0m\u001b[0;34m,\u001b[0m \u001b[0mobj\u001b[0m\u001b[0;34m)\u001b[0m \u001b[0;31m# Call unbound method with explicit self\u001b[0m\u001b[0;34m\u001b[0m\u001b[0m\n\u001b[0m\u001b[1;32m    477\u001b[0m             \u001b[0;32mreturn\u001b[0m\u001b[0;34m\u001b[0m\u001b[0m\n\u001b[1;32m    478\u001b[0m \u001b[0;34m\u001b[0m\u001b[0m\n",
      "\u001b[0;32m~/anaconda3/envs/phd_py36/lib/python3.6/pickle.py\u001b[0m in \u001b[0;36msave_list\u001b[0;34m(self, obj)\u001b[0m\n\u001b[1;32m    779\u001b[0m \u001b[0;34m\u001b[0m\u001b[0m\n\u001b[1;32m    780\u001b[0m         \u001b[0mself\u001b[0m\u001b[0;34m.\u001b[0m\u001b[0mmemoize\u001b[0m\u001b[0;34m(\u001b[0m\u001b[0mobj\u001b[0m\u001b[0;34m)\u001b[0m\u001b[0;34m\u001b[0m\u001b[0m\n\u001b[0;32m--> 781\u001b[0;31m         \u001b[0mself\u001b[0m\u001b[0;34m.\u001b[0m\u001b[0m_batch_appends\u001b[0m\u001b[0;34m(\u001b[0m\u001b[0mobj\u001b[0m\u001b[0;34m)\u001b[0m\u001b[0;34m\u001b[0m\u001b[0m\n\u001b[0m\u001b[1;32m    782\u001b[0m \u001b[0;34m\u001b[0m\u001b[0m\n\u001b[1;32m    783\u001b[0m     \u001b[0mdispatch\u001b[0m\u001b[0;34m[\u001b[0m\u001b[0mlist\u001b[0m\u001b[0;34m]\u001b[0m \u001b[0;34m=\u001b[0m \u001b[0msave_list\u001b[0m\u001b[0;34m\u001b[0m\u001b[0m\n",
      "\u001b[0;32m~/anaconda3/envs/phd_py36/lib/python3.6/pickle.py\u001b[0m in \u001b[0;36m_batch_appends\u001b[0;34m(self, items)\u001b[0m\n\u001b[1;32m    803\u001b[0m                 \u001b[0mwrite\u001b[0m\u001b[0;34m(\u001b[0m\u001b[0mMARK\u001b[0m\u001b[0;34m)\u001b[0m\u001b[0;34m\u001b[0m\u001b[0m\n\u001b[1;32m    804\u001b[0m                 \u001b[0;32mfor\u001b[0m \u001b[0mx\u001b[0m \u001b[0;32min\u001b[0m \u001b[0mtmp\u001b[0m\u001b[0;34m:\u001b[0m\u001b[0;34m\u001b[0m\u001b[0m\n\u001b[0;32m--> 805\u001b[0;31m                     \u001b[0msave\u001b[0m\u001b[0;34m(\u001b[0m\u001b[0mx\u001b[0m\u001b[0;34m)\u001b[0m\u001b[0;34m\u001b[0m\u001b[0m\n\u001b[0m\u001b[1;32m    806\u001b[0m                 \u001b[0mwrite\u001b[0m\u001b[0;34m(\u001b[0m\u001b[0mAPPENDS\u001b[0m\u001b[0;34m)\u001b[0m\u001b[0;34m\u001b[0m\u001b[0m\n\u001b[1;32m    807\u001b[0m             \u001b[0;32melif\u001b[0m \u001b[0mn\u001b[0m\u001b[0;34m:\u001b[0m\u001b[0;34m\u001b[0m\u001b[0m\n",
      "\u001b[0;32m~/anaconda3/envs/phd_py36/lib/python3.6/pickle.py\u001b[0m in \u001b[0;36msave\u001b[0;34m(self, obj, save_persistent_id)\u001b[0m\n\u001b[1;32m    519\u001b[0m \u001b[0;34m\u001b[0m\u001b[0m\n\u001b[1;32m    520\u001b[0m         \u001b[0;31m# Save the reduce() output and finally memoize the object\u001b[0m\u001b[0;34m\u001b[0m\u001b[0;34m\u001b[0m\u001b[0m\n\u001b[0;32m--> 521\u001b[0;31m         \u001b[0mself\u001b[0m\u001b[0;34m.\u001b[0m\u001b[0msave_reduce\u001b[0m\u001b[0;34m(\u001b[0m\u001b[0mobj\u001b[0m\u001b[0;34m=\u001b[0m\u001b[0mobj\u001b[0m\u001b[0;34m,\u001b[0m \u001b[0;34m*\u001b[0m\u001b[0mrv\u001b[0m\u001b[0;34m)\u001b[0m\u001b[0;34m\u001b[0m\u001b[0m\n\u001b[0m\u001b[1;32m    522\u001b[0m \u001b[0;34m\u001b[0m\u001b[0m\n\u001b[1;32m    523\u001b[0m     \u001b[0;32mdef\u001b[0m \u001b[0mpersistent_id\u001b[0m\u001b[0;34m(\u001b[0m\u001b[0mself\u001b[0m\u001b[0;34m,\u001b[0m \u001b[0mobj\u001b[0m\u001b[0;34m)\u001b[0m\u001b[0;34m:\u001b[0m\u001b[0;34m\u001b[0m\u001b[0m\n",
      "\u001b[0;32m~/anaconda3/envs/phd_py36/lib/python3.6/pickle.py\u001b[0m in \u001b[0;36msave_reduce\u001b[0;34m(self, func, args, state, listitems, dictitems, obj)\u001b[0m\n\u001b[1;32m    629\u001b[0m \u001b[0;34m\u001b[0m\u001b[0m\n\u001b[1;32m    630\u001b[0m         \u001b[0;32mif\u001b[0m \u001b[0mdictitems\u001b[0m \u001b[0;32mis\u001b[0m \u001b[0;32mnot\u001b[0m \u001b[0;32mNone\u001b[0m\u001b[0;34m:\u001b[0m\u001b[0;34m\u001b[0m\u001b[0m\n\u001b[0;32m--> 631\u001b[0;31m             \u001b[0mself\u001b[0m\u001b[0;34m.\u001b[0m\u001b[0m_batch_setitems\u001b[0m\u001b[0;34m(\u001b[0m\u001b[0mdictitems\u001b[0m\u001b[0;34m)\u001b[0m\u001b[0;34m\u001b[0m\u001b[0m\n\u001b[0m\u001b[1;32m    632\u001b[0m \u001b[0;34m\u001b[0m\u001b[0m\n\u001b[1;32m    633\u001b[0m         \u001b[0;32mif\u001b[0m \u001b[0mstate\u001b[0m \u001b[0;32mis\u001b[0m \u001b[0;32mnot\u001b[0m \u001b[0;32mNone\u001b[0m\u001b[0;34m:\u001b[0m\u001b[0;34m\u001b[0m\u001b[0m\n",
      "\u001b[0;32m~/anaconda3/envs/phd_py36/lib/python3.6/pickle.py\u001b[0m in \u001b[0;36m_batch_setitems\u001b[0;34m(self, items)\u001b[0m\n\u001b[1;32m    845\u001b[0m                 \u001b[0;32mfor\u001b[0m \u001b[0mk\u001b[0m\u001b[0;34m,\u001b[0m \u001b[0mv\u001b[0m \u001b[0;32min\u001b[0m \u001b[0mtmp\u001b[0m\u001b[0;34m:\u001b[0m\u001b[0;34m\u001b[0m\u001b[0m\n\u001b[1;32m    846\u001b[0m                     \u001b[0msave\u001b[0m\u001b[0;34m(\u001b[0m\u001b[0mk\u001b[0m\u001b[0;34m)\u001b[0m\u001b[0;34m\u001b[0m\u001b[0m\n\u001b[0;32m--> 847\u001b[0;31m                     \u001b[0msave\u001b[0m\u001b[0;34m(\u001b[0m\u001b[0mv\u001b[0m\u001b[0;34m)\u001b[0m\u001b[0;34m\u001b[0m\u001b[0m\n\u001b[0m\u001b[1;32m    848\u001b[0m                 \u001b[0mwrite\u001b[0m\u001b[0;34m(\u001b[0m\u001b[0mSETITEMS\u001b[0m\u001b[0;34m)\u001b[0m\u001b[0;34m\u001b[0m\u001b[0m\n\u001b[1;32m    849\u001b[0m             \u001b[0;32melif\u001b[0m \u001b[0mn\u001b[0m\u001b[0;34m:\u001b[0m\u001b[0;34m\u001b[0m\u001b[0m\n",
      "\u001b[0;32m~/anaconda3/envs/phd_py36/lib/python3.6/pickle.py\u001b[0m in \u001b[0;36msave\u001b[0;34m(self, obj, save_persistent_id)\u001b[0m\n\u001b[1;32m    472\u001b[0m         \u001b[0;31m# Check the type dispatch table\u001b[0m\u001b[0;34m\u001b[0m\u001b[0;34m\u001b[0m\u001b[0m\n\u001b[1;32m    473\u001b[0m         \u001b[0mt\u001b[0m \u001b[0;34m=\u001b[0m \u001b[0mtype\u001b[0m\u001b[0;34m(\u001b[0m\u001b[0mobj\u001b[0m\u001b[0;34m)\u001b[0m\u001b[0;34m\u001b[0m\u001b[0m\n\u001b[0;32m--> 474\u001b[0;31m         \u001b[0mf\u001b[0m \u001b[0;34m=\u001b[0m \u001b[0mself\u001b[0m\u001b[0;34m.\u001b[0m\u001b[0mdispatch\u001b[0m\u001b[0;34m.\u001b[0m\u001b[0mget\u001b[0m\u001b[0;34m(\u001b[0m\u001b[0mt\u001b[0m\u001b[0;34m)\u001b[0m\u001b[0;34m\u001b[0m\u001b[0m\n\u001b[0m\u001b[1;32m    475\u001b[0m         \u001b[0;32mif\u001b[0m \u001b[0mf\u001b[0m \u001b[0;32mis\u001b[0m \u001b[0;32mnot\u001b[0m \u001b[0;32mNone\u001b[0m\u001b[0;34m:\u001b[0m\u001b[0;34m\u001b[0m\u001b[0m\n\u001b[1;32m    476\u001b[0m             \u001b[0mf\u001b[0m\u001b[0;34m(\u001b[0m\u001b[0mself\u001b[0m\u001b[0;34m,\u001b[0m \u001b[0mobj\u001b[0m\u001b[0;34m)\u001b[0m \u001b[0;31m# Call unbound method with explicit self\u001b[0m\u001b[0;34m\u001b[0m\u001b[0m\n",
      "\u001b[0;32m~/anaconda3/envs/phd_py36/lib/python3.6/site-packages/dill/_dill.py\u001b[0m in \u001b[0;36mget\u001b[0;34m(self, key, default)\u001b[0m\n\u001b[1;32m    413\u001b[0m     \u001b[0;32mdef\u001b[0m \u001b[0mget\u001b[0m\u001b[0;34m(\u001b[0m\u001b[0mself\u001b[0m\u001b[0;34m,\u001b[0m \u001b[0mkey\u001b[0m\u001b[0;34m,\u001b[0m \u001b[0mdefault\u001b[0m\u001b[0;34m=\u001b[0m\u001b[0;32mNone\u001b[0m\u001b[0;34m)\u001b[0m\u001b[0;34m:\u001b[0m\u001b[0;34m\u001b[0m\u001b[0m\n\u001b[1;32m    414\u001b[0m         \u001b[0;32mtry\u001b[0m\u001b[0;34m:\u001b[0m\u001b[0;34m\u001b[0m\u001b[0m\n\u001b[0;32m--> 415\u001b[0;31m             \u001b[0;32mreturn\u001b[0m \u001b[0mself\u001b[0m\u001b[0;34m[\u001b[0m\u001b[0mkey\u001b[0m\u001b[0;34m]\u001b[0m\u001b[0;34m\u001b[0m\u001b[0m\n\u001b[0m\u001b[1;32m    416\u001b[0m         \u001b[0;32mexcept\u001b[0m \u001b[0mKeyError\u001b[0m\u001b[0;34m:\u001b[0m\u001b[0;34m\u001b[0m\u001b[0m\n\u001b[1;32m    417\u001b[0m             \u001b[0;32mreturn\u001b[0m \u001b[0mdefault\u001b[0m\u001b[0;34m\u001b[0m\u001b[0m\n",
      "\u001b[0;32m~/anaconda3/envs/phd_py36/lib/python3.6/site-packages/dill/_dill.py\u001b[0m in \u001b[0;36m__missing__\u001b[0;34m(self, key)\u001b[0m\n\u001b[1;32m    421\u001b[0m             \u001b[0;32mreturn\u001b[0m \u001b[0msave_type\u001b[0m\u001b[0;34m\u001b[0m\u001b[0m\n\u001b[1;32m    422\u001b[0m         \u001b[0;32melse\u001b[0m\u001b[0;34m:\u001b[0m\u001b[0;34m\u001b[0m\u001b[0m\n\u001b[0;32m--> 423\u001b[0;31m             \u001b[0;32mraise\u001b[0m \u001b[0mKeyError\u001b[0m\u001b[0;34m(\u001b[0m\u001b[0;34m)\u001b[0m\u001b[0;34m\u001b[0m\u001b[0m\n\u001b[0m\u001b[1;32m    424\u001b[0m \u001b[0;34m\u001b[0m\u001b[0m\n\u001b[1;32m    425\u001b[0m \u001b[0;34m\u001b[0m\u001b[0m\n",
      "\u001b[0;31mKeyboardInterrupt\u001b[0m: "
     ]
    }
   ],
   "source": [
    "import dill, os\n",
    "\n",
    "fname = os.path.join(crels_folder, \"xs_rr_dict.dill\")\n",
    "with open(fname, \"wb+\") as f:\n",
    "    dill.dump(topn2cvfolds_mm, f)"
   ]
  },
  {
   "cell_type": "code",
   "execution_count": null,
   "metadata": {},
   "outputs": [],
   "source": [
    "fname = os.path.join(crels_folder, \"xs_feat_dict.dill\")\n",
    "with open(fname, \"wb+\") as f:\n",
    "    dill.dump(topn2feats, f)"
   ]
  },
  {
   "cell_type": "markdown",
   "metadata": {},
   "source": [
    "### Initial Parameters"
   ]
  },
  {
   "cell_type": "code",
   "execution_count": 16,
   "metadata": {},
   "outputs": [],
   "source": [
    "best_C = 0.0025       # 0.0025\n",
    "C = best_C            # This needs to be a lot lower\n",
    "pa_type = 1\n",
    "loss_type= \"ml\"\n",
    "max_update_items = 2  # best_max_upd - 2\n",
    "initial_weight = 0.01  # was 0.01"
   ]
  },
  {
   "cell_type": "code",
   "execution_count": 31,
   "metadata": {},
   "outputs": [
    {
     "data": {
      "text/plain": [
       "('CB_RE-RANKER_HYPER_PARAM_TD', 3, 0.01)"
      ]
     },
     "execution_count": 31,
     "metadata": {},
     "output_type": "execute_result"
    }
   ],
   "source": [
    "MONGO_COLLECTION, best_iterations, initial_weight"
   ]
  },
  {
   "cell_type": "markdown",
   "metadata": {},
   "source": [
    "# Hyper Parameter Optimization"
   ]
  },
  {
   "cell_type": "code",
   "execution_count": 33,
   "metadata": {},
   "outputs": [
    {
     "data": {
      "text/plain": [
       "datetime.datetime(2019, 6, 16, 10, 43, 23, 75881)"
      ]
     },
     "execution_count": 33,
     "metadata": {},
     "output_type": "execute_result"
    }
   ],
   "source": [
    "import datetime\n",
    "datetime.datetime.now()"
   ]
  },
  {
   "cell_type": "code",
   "execution_count": 32,
   "metadata": {},
   "outputs": [],
   "source": [
    "best_f1 = -1\n",
    "# best_f1 = 0.7457"
   ]
  },
  {
   "cell_type": "code",
   "execution_count": 35,
   "metadata": {},
   "outputs": [],
   "source": [
    "# Form a closure to simplify loop\n",
    "def trn_mdl(top_n):\n",
    "    global best_f1, best_C, pa_type, best_max_upd, initial_weight, loss_type\n",
    "\n",
    "    prms = {\n",
    "        \"best_top_n\": top_n,\n",
    "        \"best_max_upd\": best_max_upd,\n",
    "        \"best_max_parses\": best_max_parses,\n",
    "        \"best_min_prob\": best_min_prob,\n",
    "        \"min_feat_freq\": min_feat_freq\n",
    "    }\n",
    "    cv_filtrd = topn2cvfolds_mm[top_n]\n",
    "    \n",
    "    f1 = train_model_parallel_logged(\n",
    "        training_collection_name=MONGO_COLLECTION, results_processor=results_processor,\n",
    "        feat_extractors=current_best, params=prms,\n",
    "\n",
    "        cv_folds=cv_filtrd, name2essay=name2essay, \n",
    "        C=best_C, pa_type=pa_type, loss_type=loss_type, max_update_items=best_max_upd, initial_weight=initial_weight,\n",
    "        set_cr_tags=set_cr_tags,\n",
    "        # use best iterations from above\n",
    "        max_epochs=best_iterations, early_stop_iters=best_iterations\n",
    "    )\n",
    "    if f1 > best_f1:\n",
    "        best_f1 = f1\n",
    "        print(\"New Best F1: {f1:.6f}:\\t{params}\".format(f1=best_f1, params=\\\n",
    "                                                       str((top_n, best_C, pa_type, best_max_upd, initial_weight, loss_type))))"
   ]
  },
  {
   "cell_type": "code",
   "execution_count": null,
   "metadata": {},
   "outputs": [],
   "source": [
    "for top_n in [1,3,5]: # [1,2,3,5] - for SC\n",
    "    for best_C in [0.0005, 0.0025, 0.0100, 0.1]:\n",
    "        for pa_type in [1,2]: # [0]\n",
    "            for best_max_upd in [1,2,5,10]:\n",
    "                for initial_weight in [0, 0.01, 0.1, 1.0]:\n",
    "                    for loss_type in [\"pb\", \"ml\"]:\n",
    "                        trn_mdl(top_n)\n",
    "    \n",
    "#                       (best_C, pa_type, best_max_upd, initial_weight)\n",
    "# New Best F1: 0.7435:\t(0.0005, 1, 1, 0)\n",
    "# New Best F1: 0.7448:\t(0.0005, 1, 1, 0.01)\n",
    "# New Best F1: 0.7449:\t(0.0005, 1, 10, 0.01)\n",
    "# New Best F1: 0.7452:\t(0.0005, 2, 2, 0.01)\n",
    "# New Best F1: 0.7453:\t(0.0025, 1, 1, 0.01)\n",
    "# New Best F1: 0.7457:\t(0.0025, 1, 2, 0.01)"
   ]
  },
  {
   "cell_type": "markdown",
   "metadata": {},
   "source": [
    "### TODO \n",
    "- re-run test on loss_type\n",
    "- ~~Fix CREL_Pair filtering~~\n",
    "- Try different top_n\n",
    "\n",
    "### **!!!FIX THE MONGO DATA!!!**"
   ]
  },
  {
   "cell_type": "code",
   "execution_count": 60,
   "metadata": {},
   "outputs": [],
   "source": [
    "# # loss_type pb\n",
    "# for best_C in [0.0005, 0.0025, 0.0100, 0.1]:\n",
    "#     for pa_type in [1,2]: # [0]\n",
    "#         for best_max_upd in [1,2,5,10]:\n",
    "#             for initial_weight in [0, 0.01, 0.1, 1.0]:\n",
    "#                 for loss_type in [\"pb\"]:\n",
    "#                     trn_mdl()\n",
    "# # New Best F1: 0.7468:\t(0.01, 1, 1, 0.01)"
   ]
  },
  {
   "cell_type": "code",
   "execution_count": 61,
   "metadata": {},
   "outputs": [],
   "source": [
    "# C = 1\n",
    "for best_C in [1]:\n",
    "    for pa_type in [1,2]: # [0]\n",
    "        for best_max_upd in [1,2,5,10]:\n",
    "            for initial_weight in [0, 0.01, 0.1, 1.0]:\n",
    "                for loss_type in [\"pb\", \"ml\"]:\n",
    "                    trn_mdl() "
   ]
  },
  {
   "cell_type": "markdown",
   "metadata": {},
   "source": []
  },
  {
   "cell_type": "code",
   "execution_count": null,
   "metadata": {},
   "outputs": [],
   "source": []
  },
  {
   "cell_type": "code",
   "execution_count": null,
   "metadata": {},
   "outputs": [],
   "source": [
    "# pa_type 0 doesn't work \n",
    "\n",
    "# for best_C in [0.0005, 0.0025, 0.0100, 0.1]:\n",
    "#     for pa_type in [0]: # [0]\n",
    "#         for best_max_upd in [1,2,5,10]:\n",
    "#             for initial_weight in [0, 0.01, 0.1, 1.0]:\n",
    "#                 for loss_type in [\"pb\",\"ml\"]:\n",
    "#                     trn_mdl()\n",
    "\n",
    "# AssertionError: decision function value is nan for feat: CREL_Causer:6->Result:50-MAX(prob) and val: 0.9499406368952471 and weight: nan"
   ]
  },
  {
   "cell_type": "code",
   "execution_count": 37,
   "metadata": {},
   "outputs": [],
   "source": [
    "# current best settings\n",
    "best_C, pa_type, best_max_upd, initial_weight = (0.01, 1, 1, 0.01)\n",
    "loss_type = \"ml\""
   ]
  },
  {
   "cell_type": "markdown",
   "metadata": {},
   "source": [
    "## Apply to Test Data"
   ]
  },
  {
   "cell_type": "markdown",
   "metadata": {},
   "source": [
    "### TODO (Test Data)\n",
    "- Get optimal top_n and settings\n",
    "- Extract feats\n",
    "- Filter feats"
   ]
  },
  {
   "cell_type": "code",
   "execution_count": 39,
   "metadata": {},
   "outputs": [],
   "source": [
    "xs_train_mm_fltr, xs_test_mm_fltr = filter_feats(xs_train_mm, xs_test_mm, current_best)"
   ]
  },
  {
   "cell_type": "code",
   "execution_count": 40,
   "metadata": {},
   "outputs": [],
   "source": [
    "# tuning dataset from training data\n",
    "num_train = int(0.8 * len(xs_train_mm_fltr))\n",
    "tmp_train_copy = list(xs_train_mm_fltr)\n",
    "np.random.shuffle(tmp_train_copy)\n",
    "tmp_train, tmp_test = tmp_train_copy[:num_train], tmp_train_copy[num_train:]"
   ]
  },
  {
   "cell_type": "markdown",
   "metadata": {},
   "source": [
    "## Determine the Optimal Number of Training Iterations"
   ]
  },
  {
   "cell_type": "code",
   "execution_count": 41,
   "metadata": {},
   "outputs": [
    {
     "name": "stdout",
     "output_type": "stream",
     "text": [
      "Epoch: 0 Train Accuracy: 0.7509 Test Accuracy: 0.7473\n",
      "Epoch: 1 Train Accuracy: 0.7556 Test Accuracy: 0.7461\n",
      "Epoch: 2 Train Accuracy: 0.7561 Test Accuracy: 0.7434\n",
      "Epoch: 3 Train Accuracy: 0.7584 Test Accuracy: 0.7404\n",
      "Best Test Acc: 0.7473\n",
      "CPU times: user 41.6 s, sys: 290 ms, total: 41.9 s\n",
      "Wall time: 42.5 s\n"
     ]
    }
   ],
   "source": [
    "%%time\n",
    "mdl = CostSensitiveMIRA(C=best_C, pa_type=pa_type, loss_type=loss_type, \n",
    "                        max_update_items=best_max_upd, initial_weight=initial_weight)\n",
    "# Determine number of training iterations\n",
    "best_mdl, test_acc_df_ml, best_iterations = train_model(mdl, xs_train=tmp_train, xs_test=tmp_test, name2essay=name2essay, set_cr_tags=set_cr_tags,\n",
    "     max_epochs=20, early_stop_iters=3, train_instance_fn = train_cost_sensitive_instance,\n",
    "                                                        verbose=True,  early_stopping=True)"
   ]
  },
  {
   "cell_type": "code",
   "execution_count": 42,
   "metadata": {},
   "outputs": [
    {
     "data": {
      "text/plain": [
       "1"
      ]
     },
     "execution_count": 42,
     "metadata": {},
     "output_type": "execute_result"
    }
   ],
   "source": [
    "best_iterations"
   ]
  },
  {
   "cell_type": "markdown",
   "metadata": {},
   "source": [
    "## Run for X Iterations on the Test Dataset"
   ]
  },
  {
   "cell_type": "code",
   "execution_count": 43,
   "metadata": {},
   "outputs": [
    {
     "name": "stdout",
     "output_type": "stream",
     "text": [
      "Epoch: 0 Train Accuracy: 0.7497 Test Accuracy: 0.7420\n",
      "Best Test Acc: 0.7420\n"
     ]
    },
    {
     "data": {
      "text/plain": [
       "1"
      ]
     },
     "execution_count": 43,
     "metadata": {},
     "output_type": "execute_result"
    }
   ],
   "source": [
    "mdl = CostSensitiveMIRA(C=best_C, pa_type=pa_type, loss_type=loss_type, \n",
    "                        max_update_items=best_max_upd, initial_weight=initial_weight)\n",
    "\n",
    "best_mdl, test_acc_df_ml,_ = train_model(mdl,  \n",
    "    xs_train=xs_train_mm_fltr, xs_test=xs_test_mm_fltr,\n",
    "    name2essay=name2essay, set_cr_tags=set_cr_tags,\n",
    "    max_epochs=best_iterations, early_stop_iters=best_iterations,\n",
    "    train_instance_fn = train_cost_sensitive_instance, verbose=True, early_stopping=False)\n",
    "\n",
    "# Best Test Acc: 0.7516\n",
    "best_iterations"
   ]
  },
  {
   "cell_type": "code",
   "execution_count": 49,
   "metadata": {},
   "outputs": [],
   "source": [
    "MONGO_TEST_COLLECTION = \"TEST_CB_RE-RANKER_TD\""
   ]
  },
  {
   "cell_type": "code",
   "execution_count": 52,
   "metadata": {},
   "outputs": [
    {
     "data": {
      "text/plain": [
       "['CREL_', 'Prob-', 'CChainStats-']"
      ]
     },
     "execution_count": 52,
     "metadata": {},
     "output_type": "execute_result"
    }
   ],
   "source": [
    "current_best"
   ]
  },
  {
   "cell_type": "code",
   "execution_count": 50,
   "metadata": {},
   "outputs": [
    {
     "data": {
      "text/plain": [
       "0.7427536231884059"
      ]
     },
     "execution_count": 50,
     "metadata": {},
     "output_type": "execute_result"
    }
   ],
   "source": [
    "# TODO - needs to include the top_n\n",
    "\n",
    "# test_folds = [(xs_train_mm_fltr, xs_test_mm_fltr)]\n",
    "\n",
    "# test_f1 = train_model_parallel_logged(\n",
    "#         training_collection_name=MONGO_TEST_COLLECTION, results_processor=results_processor,\n",
    "#         feat_extractors=current_best, params=params,\n",
    "\n",
    "#         cv_folds=test_folds, \n",
    "        \n",
    "#         name2essay=name2essay, \n",
    "#         C=best_C, pa_type=pa_type, loss_type=loss_type, max_update_items=best_max_upd, initial_weight=initial_weight,\n",
    "#         set_cr_tags=set_cr_tags,\n",
    "#         # use best iterations from above\n",
    "#         max_epochs=best_iterations, early_stop_iters=best_iterations\n",
    "#     )\n",
    "# test_f1"
   ]
  },
  {
   "cell_type": "code",
   "execution_count": 55,
   "metadata": {},
   "outputs": [
    {
     "data": {
      "text/plain": [
       "[('Prob-prod-prob', 0.16598788326875036),\n",
       " ('CREL_Causer:1->Result:3-MAX(prob)', 0.13547793953948611),\n",
       " ('CREL_7:50', 0.13465626583889415),\n",
       " ('CREL_Causer:7->Result:50-MAX(prob)', 0.13001903006914273),\n",
       " ('CREL_Causer:1->Result:50-MIN(prob)', 0.12887278483874806),\n",
       " ('CREL_Causer:1->Result:3-MIN(prob)', 0.12554598936126396),\n",
       " ('Prob-min-prob', 0.12510261716299706),\n",
       " ('CREL_1:50', 0.11999999999999998),\n",
       " ('CREL_Causer:4->Result:14-pred-count=2', 0.11999999999999998),\n",
       " ('CREL_Causer:4->Result:5-pred-count=2', 0.11999999999999998),\n",
       " ('CREL_4:5', 0.11999999999999998),\n",
       " ('CREL_3:50', 0.11845998933164874),\n",
       " ('CREL_Causer:1->Result:50-MAX(prob)', 0.11528812307471469),\n",
       " ('Prob-5%-prob', 0.11420280368585191),\n",
       " ('CREL_4:14', 0.10999999999999999),\n",
       " ('CREL_6:7', 0.10999999999999999),\n",
       " ('CREL_Pair-Causer:1->Result:50|Causer:5->Result:50', 0.10999999999999999),\n",
       " ('CREL_Pair-Causer:6->Result:14|Causer:7->Result:50', 0.10999999999999999),\n",
       " ('CREL_Pair-Causer:1->Result:2|Causer:1->Result:50', 0.10999999999999999),\n",
       " ('CREL_Causer:4->Result:14-MIN(prob)', 0.10937473119464329),\n",
       " ('CREL_Causer:7->Result:50-MIN(prob)', 0.10800583102306686),\n",
       " ('CREL_Causer:4->Result:14-MAX(prob)', 0.1066285294010771),\n",
       " ('Prob-10%-prob', 0.10330299020870687),\n",
       " ('CREL_Causer:3->Result:5-MIN(prob)', 0.10293790452852224),\n",
       " ('CREL_Causer:11->Result:13-MIN(prob)', 0.10293085809858797),\n",
       " ('CREL_Causer:2->Result:3-MAX(prob)', 0.10177034883926214),\n",
       " ('CREL_Causer:11->Result:13-pred-count=2', 0.09999999999999999),\n",
       " ('CREL_1:3', 0.09999999999999999),\n",
       " ('CREL_Pair-Causer:1->Result:50|Causer:11->Result:50', 0.09999999999999999),\n",
       " ('CREL_Causer:11->Result:13-MAX(prob)', 0.09906571264476624),\n",
       " ('CREL_Causer:6->Result:7-MAX(prob)', 0.09900351933227389),\n",
       " ('CREL_Causer:13->Result:14-pred-count=2', 0.09887035795359758),\n",
       " ('CREL_Causer:4->Result:5-MAX(prob)', 0.09827705647806306),\n",
       " ('CREL_Causer:3->Result:5-MAX(prob)', 0.09803540532850556),\n",
       " ('CREL_Causer:2->Result:3-MIN(prob)', 0.09750949221336316),\n",
       " ('CREL_Causer:4->Result:5-MIN(prob)', 0.09622434285914658),\n",
       " ('CREL_Causer:3->Result:4-MAX(prob)', 0.09442954033833892),\n",
       " ('CREL_3:5', 0.09405782188313433),\n",
       " ('CREL_Causer:1->Result:2-MIN(prob)', 0.09187826212320246),\n",
       " ('CREL_Causer:1->Result:2-MAX(prob)', 0.09115351785416581),\n",
       " ('CREL_Causer:6->Result:7-MIN(prob)', 0.09049168288379857),\n",
       " ('CREL_Causer:13->Result:14-MIN(prob)', 0.09032948437784853),\n",
       " ('CREL_11:13', 0.09),\n",
       " ('CREL_3:4', 0.09),\n",
       " ('CREL_Causer:6->Result:7-pred-count=2', 0.09),\n",
       " ('CREL_11:50', 0.09),\n",
       " ('CREL_2:3', 0.09),\n",
       " ('CREL_Pair-Causer:11->Result:13|Causer:12->Result:13', 0.09),\n",
       " ('CREL_Causer:3->Result:50-MAX(prob)', 0.0893057547631968),\n",
       " ('CREL_Causer:3->Result:4-MIN(prob)', 0.08903611637148387),\n",
       " ('Prob-25%-prob', 0.0881090912981077),\n",
       " ('CREL_Causer:11->Result:50-MAX(prob)', 0.08515767899453422),\n",
       " ('CREL_Causer:13->Result:14-MAX(prob)', 0.0847989686704053),\n",
       " ('CREL_Causer:11->Result:50-MIN(prob)', 0.08231767172007241),\n",
       " ('CREL_Causer:6->Result:50-MAX(prob)', 0.08219659425015044),\n",
       " ('CREL_Pair-Causer:1->Result:50|Causer:11->Result:13', 0.08),\n",
       " ('CREL_13:50', 0.08),\n",
       " ('CREL_Pair-Causer:1->Result:3|Causer:3->Result:4', 0.08),\n",
       " ('CREL_Pair-Causer:12->Result:13|Causer:7->Result:50', 0.08),\n",
       " ('CREL_Pair-Causer:1->Result:3|Causer:7->Result:50', 0.08),\n",
       " ('CREL_1:2', 0.08),\n",
       " ('CREL_Causer:2->Result:3-pred-count=2', 0.08),\n",
       " ('CREL_Causer:6->Result:50-MIN(prob)', 0.07987866886672604),\n",
       " ('CREL_13:14', 0.07887035795359759),\n",
       " ('CREL_Causer:4->Result:50-MAX(prob)', 0.07738368249566002),\n",
       " ('CREL_Causer:13->Result:50-MAX(prob)', 0.07518557277309902),\n",
       " ('CREL_Causer:3->Result:5-pred-count=4', 0.07405782188313434),\n",
       " ('CREL_Causer:3->Result:50-MIN(prob)', 0.07299016934736247),\n",
       " ('CREL_Causer:13->Result:50-MIN(prob)', 0.07290225152525003),\n",
       " ('CREL_Causer:12->Result:13-MIN(prob)', 0.07200909683939775),\n",
       " ('CREL_Causer:12->Result:13-MAX(prob)', 0.07169806630885267),\n",
       " ('CREL_Causer:1->Result:50-pred-count=2', 0.07),\n",
       " ('CREL_Causer:3->Result:4-pred-count=2', 0.07),\n",
       " ('CREL_Pair-Causer:1->Result:50|Causer:3->Result:50', 0.07),\n",
       " ('CREL_4:50', 0.07),\n",
       " ('CREL_Pair-Causer:6->Result:7|Causer:7->Result:50', 0.07),\n",
       " ('CREL_12:13', 0.07),\n",
       " ('CREL_Causer:11->Result:50-pred-count=2', 0.07),\n",
       " ('CREL_Pair-Causer:3->Result:4|Causer:7->Result:50', 0.07),\n",
       " ('CREL_Causer:1->Result:2-pred-count=2', 0.07),\n",
       " ('CREL_Pair-Causer:11->Result:13|Causer:7->Result:50', 0.07),\n",
       " ('CREL_Pair-Causer:11->Result:13|Causer:14->Result:50', 0.07),\n",
       " ('CREL_4:4', -0.07),\n",
       " ('CREL_Pair-Causer:14->Result:50|Causer:3->Result:4', -0.07),\n",
       " ('CREL_Causer:7->Result:7-pred-count', -0.07),\n",
       " ('CREL_Causer:7->Result:7-pred-count=2', -0.07),\n",
       " ('CREL_7:7', -0.07),\n",
       " ('CREL_Causer:6->Result:7-pred-count', 0.06999999999999999),\n",
       " ('CREL_Causer:11->Result:12-MAX(prob)', 0.06802165528547768),\n",
       " ('CREL_Causer:11->Result:12-MIN(prob)', 0.06802165528547768),\n",
       " ('CREL_Causer:1->Result:3-pred-count', 0.06749999999999996),\n",
       " ('CREL_Causer:4->Result:50-pred-count', 0.06333333333333335),\n",
       " ('CREL_Causer:7->Result:50-pred-count=2', 0.062402922731192946),\n",
       " ('CREL_Pair-Causer:11->Result:13|Causer:13->Result:14', 0.060000000000000005),\n",
       " ('CREL_Pair-Causer:11->Result:13|Causer:3->Result:4', 0.060000000000000005),\n",
       " ('CChainStats-num_distinct_chains=1', 0.060000000000000005),\n",
       " ('CREL_Pair-Causer:1->Result:3|Causer:3->Result:50', 0.060000000000000005),\n",
       " ('CREL_Causer:13->Result:50-pred-count', 0.060000000000000005),\n",
       " ('CREL_Pair-Causer:1->Result:50|Causer:5->Result:5b', 0.060000000000000005),\n",
       " ('CREL_Pair-Causer:14->Result:50|Causer:7->Result:50', 0.060000000000000005),\n",
       " ('CREL_Causer:11->Result:12-pred-count=2', 0.060000000000000005),\n",
       " ('CREL_11:12', 0.060000000000000005),\n",
       " ('CREL_Causer:12->Result:13-pred-count=2', 0.060000000000000005),\n",
       " ('CREL_Pair-Causer:3->Result:5|Causer:4->Result:50', 0.060000000000000005),\n",
       " ('CREL_Pair-Causer:14->Result:50|Causer:6->Result:14', 0.060000000000000005),\n",
       " ('CREL_Causer:7->Result:50-pred-count=6', 0.060000000000000005),\n",
       " ('CREL_Pair-Causer:3->Result:4|Causer:4->Result:5', 0.060000000000000005),\n",
       " ('CREL_Pair-Causer:1->Result:50|Causer:2->Result:3', 0.060000000000000005),\n",
       " ('CREL_Causer:6->Result:50-pred-count=4', 0.060000000000000005),\n",
       " ('CREL_Causer:11->Result:14-pred-count', 0.060000000000000005),\n",
       " ('CREL_Causer:11->Result:14-pred-count=2', 0.060000000000000005),\n",
       " ('CREL_11:14', 0.060000000000000005),\n",
       " ('CREL_Causer:4->Result:4-pred-count=2', -0.060000000000000005),\n",
       " ('CREL_Pair-Causer:11->Result:14|Causer:4->Result:14', 0.060000000000000005),\n",
       " ('CREL_Causer:7->Result:50-pred-count', 0.05938192178931907),\n",
       " ('CREL_Causer:4->Result:50-MIN(prob)', 0.058276498346067886),\n",
       " ('Prob-geo-mean', 0.055887085732601365),\n",
       " ('CREL_Causer:2->Result:3-pred-count', 0.055),\n",
       " ('Prob-med-prob', 0.054675505289968784),\n",
       " ('CREL_Causer:7->Result:7-MAX(prob)', -0.052091337390373055),\n",
       " ('CREL_Causer:7->Result:7-MIN(prob)', -0.052091337390373055),\n",
       " ('CREL_Causer:5->Result:5b-MAX(prob)', 0.05090743797368117),\n",
       " ('CREL_Causer:3->Result:50-pred-count', 0.05089666133249103),\n",
       " ('CREL_Pair-Causer:1->Result:50|Causer:3->Result:4', 0.05),\n",
       " ('CREL_Pair-Causer:3->Result:4|Causer:3->Result:50', 0.05),\n",
       " ('CREL_Pair-Causer:3->Result:4|Causer:4->Result:14', 0.05),\n",
       " ('CREL_Causer:3->Result:50-pred-count=2', 0.05),\n",
       " ('CREL_Causer:13->Result:50-pred-count=2', 0.05),\n",
       " ('CREL_5:5b', 0.05),\n",
       " ('CREL_Pair-Causer:13->Result:50|Causer:6->Result:7', 0.05),\n",
       " ('CREL_Pair-Causer:11->Result:12|Causer:12->Result:13', 0.05),\n",
       " ('CREL_Pair-Causer:13->Result:14|Causer:7->Result:50', 0.05),\n",
       " ('CREL_Causer:11->Result:50-pred-count', 0.05),\n",
       " ('CREL_Pair-Causer:3->Result:5|Causer:7->Result:50', 0.05),\n",
       " ('CREL_Pair-Causer:1->Result:2|Causer:1->Result:3', 0.05),\n",
       " ('CREL_Pair-Causer:1->Result:3|Causer:11->Result:12', -0.05),\n",
       " ('CREL_Causer:1->Result:50-pred-count=4', 0.05),\n",
       " ('CREL_Causer:13->Result:13-pred-count', -0.05),\n",
       " ('CREL_Causer:13->Result:13-pred-count=2', -0.05),\n",
       " ('CREL_13:13', -0.05),\n",
       " ('CREL_3:7', 0.05),\n",
       " ('CREL_Pair-Causer:1->Result:3|Causer:6->Result:50', 0.05),\n",
       " ('CREL_Causer:12->Result:14-pred-count', -0.05),\n",
       " ('CREL_Causer:12->Result:14-pred-count=2', -0.05),\n",
       " ('CREL_12:14', -0.05),\n",
       " ('CREL_Pair-Causer:13->Result:14|Causer:4->Result:5', 0.05),\n",
       " ('CREL_Causer:4->Result:50-pred-count=4', 0.05),\n",
       " ('CREL_Pair-Causer:11->Result:14|Causer:7->Result:50', 0.05),\n",
       " ('CREL_Causer:1->Result:2-pred-count', 0.049999999999999996),\n",
       " ('CREL_Causer:3->Result:4-pred-count', 0.04666666666666667),\n",
       " ('CREL_Causer:4->Result:5-pred-count', 0.04666666666666667),\n",
       " ('CREL_Causer:5->Result:5b-MIN(prob)', 0.0450065885705049),\n",
       " ('CREL_Causer:5->Result:5b-pred-count', 0.045000000000000005),\n",
       " ('CREL_Causer:12->Result:13-pred-count', 0.045000000000000005),\n",
       " ('CREL_Causer:3->Result:7-MAX(prob)', 0.04350768019925315),\n",
       " ('CChainStats-crels_per_distinct_chain', -0.04255820105820107),\n",
       " ('CREL_Causer:3->Result:7-MIN(prob)', 0.04216042362892068),\n",
       " ('Prob-avg-prob', 0.04189011252740132),\n",
       " ('CChainStats-MaxChain_Len=3', 0.04000000000000001),\n",
       " ('CREL_Pair-Causer:3->Result:4|Causer:3->Result:5', -0.04000000000000001),\n",
       " ('CREL_Causer:3->Result:50-pred-count=4', 0.04),\n",
       " ('CREL_Pair-Causer:11->Result:13|Causer:4->Result:14', 0.04),\n",
       " ('CChainStats-num_distinct_chains > 0', 0.04),\n",
       " ('CREL_Pair-Causer:1->Result:50|Causer:6->Result:7', 0.04),\n",
       " ('CREL_Pair-Causer:1->Result:50|Causer:7->Result:50', 0.04),\n",
       " ('CREL_14:50', -0.04),\n",
       " ('CREL_Pair-Causer:14->Result:50|Causer:6->Result:7', 0.04),\n",
       " ('CREL_6:50', 0.04),\n",
       " ('CREL_Pair-Causer:11->Result:12|Causer:7->Result:50', 0.04),\n",
       " ('CChainStats-num_distinct_chains=5', 0.04),\n",
       " ('CREL_Pair-Causer:11->Result:12|Causer:11->Result:50', 0.04),\n",
       " ('CREL_Pair-Causer:12->Result:13|Causer:4->Result:50', 0.04),\n",
       " ('CREL_Causer:13->Result:50-pred-count=4', 0.04),\n",
       " ('CREL_Causer:3->Result:5-pred-count=2', 0.04),\n",
       " ('CREL_Pair-Causer:4->Result:14|Causer:7->Result:50', 0.04),\n",
       " ('CREL_Pair-Causer:3->Result:4|Causer:4->Result:50', -0.04),\n",
       " ('CREL_Causer:1->Result:3-pred-count=6', 0.04),\n",
       " ('CREL_Pair-Causer:1->Result:3|Causer:6->Result:7', 0.04),\n",
       " ('CREL_Pair-Causer:3->Result:6|Causer:6->Result:7', 0.04),\n",
       " ('CREL_Causer:4->Result:50-pred-count=6', 0.04),\n",
       " ('CREL_Pair-Causer:3->Result:5|Causer:5->Result:5b', 0.04),\n",
       " ('CREL_Pair-Causer:4->Result:5|Causer:5->Result:50', 0.04),\n",
       " ('CREL_Causer:3->Result:7-pred-count=2', 0.04),\n",
       " ('CREL_Pair-Causer:1->Result:3|Causer:5b->Result:50', 0.04),\n",
       " ('CREL_Pair-Causer:3->Result:4|Causer:6->Result:7', 0.04),\n",
       " ('CREL_Pair-Causer:11->Result:12|Causer:3->Result:5', 0.04),\n",
       " ('CREL_Pair-Causer:4->Result:14|Causer:4->Result:5', 0.04),\n",
       " ('CREL_Pair-Causer:1->Result:3|Causer:13->Result:14', 0.04),\n",
       " ('CREL_Pair-Causer:1->Result:3|Causer:3->Result:7', 0.04),\n",
       " ('CREL_13:12', -0.04),\n",
       " ('CREL_Pair-Causer:11->Result:12|Causer:14->Result:50', 0.04),\n",
       " ('CREL_Pair-Causer:13->Result:12|Causer:7->Result:50', -0.04),\n",
       " ('CREL_Pair-Causer:14->Result:50|Causer:3->Result:5', 0.04),\n",
       " ('CREL_Pair-Causer:3->Result:5|Causer:6->Result:14', 0.04),\n",
       " ('CREL_Pair-Causer:3->Result:4|Causer:4->Result:4', -0.04),\n",
       " ('CREL_Pair-Causer:11->Result:12|Causer:2->Result:3', 0.04),\n",
       " ('CREL_Pair-Causer:13->Result:14|Causer:2->Result:3', 0.04),\n",
       " ('CREL_Pair-Causer:2->Result:3|Causer:4->Result:14', 0.04),\n",
       " ('CREL_Pair-Causer:11->Result:14|Causer:6->Result:7', 0.04),\n",
       " ('CREL_Pair-Causer:11->Result:13|Causer:11->Result:14', 0.04),\n",
       " ('CREL_Causer:5->Result:5b-pred-count=4', 0.04),\n",
       " ('CREL_Pair-Causer:3->Result:4|Causer:6->Result:14', -0.04),\n",
       " ('CREL_Causer:12->Result:14-MAX(prob)', -0.039597042359219486),\n",
       " ('CREL_Causer:12->Result:14-MIN(prob)', -0.039597042359219486),\n",
       " ('CREL_Causer:3->Result:5-pred-count', 0.039528910941567165),\n",
       " ('Prob-max-prob', -0.037922746510343865),\n",
       " ('CREL_Causer:4->Result:4-MAX(prob)', -0.03769374454258103),\n",
       " ('CREL_Causer:4->Result:4-MIN(prob)', -0.037497453201722854),\n",
       " ('CREL_Causer:4->Result:14-pred-count', 0.036666666666666674),\n",
       " ('CREL_Causer:11->Result:12-pred-count', 0.035),\n",
       " ('CREL_Causer:3->Result:7-pred-count', 0.035),\n",
       " ('CREL_Causer:4->Result:4-pred-count', -0.035),\n",
       " ('CREL_Causer:11->Result:14-MAX(prob)', 0.034711302977114715),\n",
       " ('CREL_Causer:11->Result:14-MIN(prob)', 0.034711302977114715),\n",
       " ('CREL_Causer:13->Result:14-pred-count', 0.03443517897679879),\n",
       " ('CREL_Causer:1->Result:50-pred-count', 0.03375),\n",
       " ('CREL_Causer:11->Result:13-pred-count', 0.03333333333333333),\n",
       " ('CREL_Causer:13->Result:13-MAX(prob)', -0.03303724947977628),\n",
       " ('CREL_Causer:13->Result:13-MIN(prob)', -0.03303724947977628),\n",
       " ('CREL_Causer:6->Result:50-pred-count', 0.03249999999999999),\n",
       " ('CREL_Causer:7->Result:50-pred-count=4', 0.03225334310770122),\n",
       " ('CREL_Causer:4->Result:5b-MAX(prob)', 0.031048349025674275),\n",
       " ('CREL_Causer:4->Result:5b-MIN(prob)', 0.031048349025674275),\n",
       " ('Prob-95%-prob', -0.030923744118802263),\n",
       " ('CREL_Pair-Causer:1->Result:3|Causer:11->Result:13', 0.030000000000000006),\n",
       " ('CREL_Pair-Causer:3->Result:4|Causer:4->Result:7', -0.030000000000000006),\n",
       " ('CREL_Pair-Causer:1->Result:50|Causer:6->Result:14', -0.030000000000000006),\n",
       " ('CREL_Pair-Causer:3->Result:50|Causer:6->Result:14', -0.030000000000000006),\n",
       " ('CREL_Causer:4->Result:5b-pred-count', 0.030000000000000006),\n",
       " ('CREL_Causer:4->Result:5b-pred-count=2', 0.030000000000000006),\n",
       " ('CREL_4:5b', 0.030000000000000006),\n",
       " ('CREL_Pair-Causer:1->Result:50|Causer:4->Result:14', 0.03),\n",
       " ('CREL_Pair-Causer:13->Result:14|Causer:4->Result:14', 0.03),\n",
       " ('CChainStats-num_distinct_chains <=2', 0.03),\n",
       " ('CChainStats-num_distinct_chains <=1', 0.03),\n",
       " ('CREL_Causer:1->Result:3-pred-count=2', 0.03),\n",
       " ('CREL_Pair-Causer:1->Result:50|Causer:13->Result:50', 0.03),\n",
       " ('CREL_Causer:14->Result:50-pred-count=2', -0.03),\n",
       " ('CREL_Causer:3->Result:1-pred-count', -0.03),\n",
       " ('CREL_Causer:3->Result:1-pred-count=2', -0.03),\n",
       " ('CREL_3:1', -0.03),\n",
       " ('CREL_Causer:1->Result:3-pred-count=4', 0.03),\n",
       " ('CREL_Pair-Causer:12->Result:13|Causer:13->Result:14', 0.03),\n",
       " ('CREL_Causer:13->Result:7-pred-count', -0.03),\n",
       " ('CREL_Causer:13->Result:7-pred-count=2', -0.03),\n",
       " ('CREL_13:7', -0.03),\n",
       " ('CREL_Pair-Causer:1->Result:50|Causer:12->Result:13', 0.03),\n",
       " ('CChainStats-MaxChain_Len=5', 0.03),\n",
       " ('CChainStats-num_distinct_chains > 4', 0.03),\n",
       " ('CREL_Pair-Causer:11->Result:50|Causer:4->Result:50', 0.03),\n",
       " ('CREL_Pair-Causer:3->Result:1|Causer:3->Result:5', -0.03),\n",
       " ('CREL_Pair-Causer:1->Result:5|Causer:3->Result:4', 0.03),\n",
       " ('CREL_Pair-Causer:4->Result:50|Causer:7->Result:50', -0.03),\n",
       " ('CREL_Pair-Causer:3->Result:50|Causer:6->Result:50', 0.03),\n",
       " ('CREL_Pair-Causer:1->Result:3|Causer:11->Result:50', 0.03),\n",
       " ('CREL_Causer:2->Result:50-pred-count', -0.03),\n",
       " ('CREL_Causer:2->Result:50-pred-count=2', -0.03),\n",
       " ('CREL_2:50', -0.03),\n",
       " ('CREL_Pair-Causer:1->Result:50|Causer:4->Result:50', -0.03),\n",
       " ('CREL_Pair-Causer:13->Result:50|Causer:3->Result:5', 0.03),\n",
       " ('CREL_Pair-Causer:11->Result:12|Causer:6->Result:7', 0.03),\n",
       " ('CREL_Causer:6->Result:14-pred-count=2', 0.03),\n",
       " ('CREL_6:14', 0.03),\n",
       " ('CREL_Causer:1->Result:11-pred-count', -0.03),\n",
       " ('CREL_Causer:1->Result:11-pred-count=2', -0.03),\n",
       " ('CREL_1:11', -0.03),\n",
       " ('CREL_Pair-Causer:12->Result:13|Causer:4->Result:5', 0.03),\n",
       " ('CREL_Pair-Causer:3->Result:5|Causer:4->Result:5', 0.03),\n",
       " ('CREL_Pair-Causer:3->Result:5|Causer:6->Result:7', 0.03),\n",
       " ('CREL_Pair-Causer:4->Result:5|Causer:6->Result:7', 0.03),\n",
       " ('CREL_Pair-Causer:1->Result:2|Causer:4->Result:50', 0.03),\n",
       " ('CREL_Pair-Causer:2->Result:3|Causer:3->Result:7', 0.03),\n",
       " ('CREL_Pair-Causer:2->Result:3|Causer:4->Result:50', 0.03),\n",
       " ('CREL_Pair-Causer:1->Result:2|Causer:7->Result:50', 0.03),\n",
       " ('CREL_Pair-Causer:3->Result:50|Causer:4->Result:5', 0.03),\n",
       " ('CREL_Pair-Causer:1->Result:3|Causer:4->Result:5b', -0.03),\n",
       " ('CREL_Pair-Causer:11->Result:12|Causer:11->Result:13', 0.03),\n",
       " ('CREL_Causer:11->Result:50-pred-count=6', 0.03),\n",
       " ('CREL_Pair-Causer:1->Result:2|Causer:3->Result:4', 0.03),\n",
       " ('CREL_Pair-Causer:11->Result:6|Causer:7->Result:50', 0.03),\n",
       " ('CREL_Causer:11->Result:7-pred-count', -0.03),\n",
       " ('CREL_Causer:11->Result:7-pred-count=2', -0.03),\n",
       " ('CREL_11:7', -0.03),\n",
       " ('CREL_Pair-Causer:11->Result:7|Causer:7->Result:50', -0.03),\n",
       " ('CREL_Pair-Causer:1->Result:50|Causer:3->Result:6', 0.03),\n",
       " ('CREL_Pair-Causer:3->Result:6|Causer:6->Result:50', 0.03),\n",
       " ('CREL_Causer:6->Result:3-pred-count', -0.03),\n",
       " ('CREL_Causer:6->Result:3-pred-count=2', -0.03),\n",
       " ('CREL_6:3', -0.03),\n",
       " ('CREL_Pair-Causer:4->Result:14|Causer:4->Result:50', 0.03),\n",
       " ('CREL_Pair-Causer:1->Result:50|Causer:11->Result:14', 0.03),\n",
       " ('CREL_Pair-Causer:1->Result:50|Causer:3->Result:14', 0.03),\n",
       " ('CREL_Pair-Causer:11->Result:14|Causer:13->Result:14', 0.03),\n",
       " ('CREL_Pair-Causer:6->Result:14|Causer:6->Result:7', 0.03),\n",
       " ('CREL_Pair-Causer:1->Result:2|Causer:6->Result:50', 0.03),\n",
       " ('CREL_Causer:13->Result:12-pred-count=2', -0.03),\n",
       " ('CREL_Pair-Causer:13->Result:14|Causer:3->Result:5', -0.03),\n",
       " ('CREL_Pair-Causer:11->Result:14|Causer:4->Result:50', 0.03),\n",
       " ('CREL_Pair-Causer:11->Result:3|Causer:11->Result:50', 0.03),\n",
       " ('CREL_Pair-Causer:12->Result:13|Causer:2->Result:3', 0.03),\n",
       " ('CREL_Pair-Causer:11->Result:13|Causer:6->Result:50', 0.03),\n",
       " ('CREL_Pair-Causer:13->Result:14|Causer:6->Result:50', 0.03),\n",
       " ('CREL_Causer:13->Result:3-pred-count', -0.03),\n",
       " ('CREL_Causer:13->Result:3-pred-count=2', -0.03),\n",
       " ('CREL_13:3', -0.03),\n",
       " ('CREL_Pair-Causer:11->Result:14|Causer:3->Result:4', 0.03),\n",
       " ('CREL_Pair-Causer:11->Result:50|Causer:6->Result:7', 0.03),\n",
       " ('CREL_Causer:1->Result:3-pred-count=8', 0.03),\n",
       " ('CREL_Pair-Causer:3->Result:14|Causer:3->Result:5', 0.03),\n",
       " ('CREL_Pair-Causer:14->Result:50|Causer:3->Result:14', 0.03),\n",
       " ('CREL_Pair-Causer:14->Result:50|Causer:3->Result:7', 0.03),\n",
       " ('CREL_Pair-Causer:3->Result:5|Causer:3->Result:7', 0.03),\n",
       " ('CREL_Pair-Causer:3->Result:50|Causer:7->Result:7', -0.03),\n",
       " ('CREL_Pair-Causer:14->Result:50|Causer:6->Result:50', -0.03),\n",
       " ('CREL_Causer:7->Result:5b-pred-count', -0.03),\n",
       " ('CREL_Causer:7->Result:5b-pred-count=2', -0.03),\n",
       " ('CREL_7:5b', -0.03),\n",
       " ('CREL_Pair-Causer:11->Result:14|Causer:14->Result:50', 0.03),\n",
       " ('CREL_Pair-Causer:3->Result:4|Causer:5->Result:7', 0.03),\n",
       " ('CREL_Causer:6->Result:7-pred-count=4', 0.03),\n",
       " ('CREL_Pair-Causer:7->Result:50|Causer:7->Result:7', -0.03),\n",
       " ('CREL_Causer:1->Result:50-pred-count=10', 0.03),\n",
       " ('CREL_Pair-Causer:12->Result:13|Causer:5->Result:50', 0.03),\n",
       " ('CREL_Pair-Causer:13->Result:14|Causer:5->Result:50', 0.03),\n",
       " ('CREL_Pair-Causer:4->Result:50|Causer:5b->Result:50', -0.03),\n",
       " ('CREL_Pair-Causer:5b->Result:50|Causer:7->Result:50', 0.03),\n",
       " ('CREL_Pair-Causer:1->Result:2|Causer:4->Result:5b', 0.03),\n",
       " ('CREL_Pair-Causer:2->Result:3|Causer:6->Result:14', 0.03),\n",
       " ('CREL_Pair-Causer:3->Result:5|Causer:4->Result:5b', 0.03),\n",
       " ('CREL_Pair-Causer:4->Result:50|Causer:4->Result:5b', 0.03),\n",
       " ('CREL_Causer:3->Result:50-pred-count=6', 0.028459989331648755),\n",
       " ('CREL_Causer:6->Result:14-MAX(prob)', 0.02842477370739797),\n",
       " ('CREL_Causer:6->Result:14-MIN(prob)', 0.02842477370739797),\n",
       " ('CREL_Causer:2->Result:50-MAX(prob)', -0.024049533173869774),\n",
       " ('CREL_Causer:2->Result:50-MIN(prob)', -0.024049533173869774),\n",
       " ('Prob-90%-prob', -0.023924741727260924),\n",
       " ('CREL_Causer:13->Result:12-MAX(prob)', -0.0236265371939846),\n",
       " ('CREL_Causer:11->Result:7-MAX(prob)', -0.0228452022056433),\n",
       " ('CREL_Causer:11->Result:7-MIN(prob)', -0.0228452022056433),\n",
       " ('CREL_Causer:13->Result:12-MIN(prob)', -0.022645423295213823),\n",
       " ('CREL_Causer:7->Result:5b-MAX(prob)', -0.022286483823241193),\n",
       " ('CREL_Causer:7->Result:5b-MIN(prob)', -0.022286483823241193),\n",
       " ('CREL_Causer:11->Result:6-MAX(prob)', 0.021304068967358723),\n",
       " ('CREL_Causer:11->Result:6-MIN(prob)', 0.021304068967358723),\n",
       " ('CREL_Causer:13->Result:3-MAX(prob)', -0.02125449765944196),\n",
       " ('CREL_Causer:13->Result:3-MIN(prob)', -0.02125449765944196),\n",
       " ('CREL_Causer:13->Result:7-MAX(prob)', -0.0208287787063048),\n",
       " ('CREL_Causer:13->Result:7-MIN(prob)', -0.0208287787063048),\n",
       " ('CREL_Pair-Causer:3->Result:50|Causer:4->Result:50', -0.020000000000000004),\n",
       " ('CREL_Pair-Causer:1->Result:50|Causer:14->Result:50', -0.020000000000000004),\n",
       " ('CREL_4:7', -0.020000000000000004),\n",
       " ('CREL_Pair-Causer:3->Result:50|Causer:7->Result:50', 0.020000000000000004),\n",
       " ('CREL_Pair-Causer:1->Result:2|Causer:3->Result:50', 0.020000000000000004),\n",
       " ('CREL_Pair-Causer:14->Result:50|Causer:3->Result:50', -0.020000000000000004),\n",
       " ('CChainStats-num_distinct_chains <=5', 0.02),\n",
       " ('CREL_Pair-Causer:1->Result:13|Causer:13->Result:50', 0.02),\n",
       " ('CREL_Pair-Causer:1->Result:13|Causer:5->Result:5b', 0.02),\n",
       " ('CREL_Pair-Causer:13->Result:50|Causer:5->Result:5b', 0.02),\n",
       " ('CREL_Pair-Causer:13->Result:50|Causer:14->Result:50', -0.02),\n",
       " ('CREL_Causer:1->Result:7-pred-count', -0.02),\n",
       " ('CREL_Causer:1->Result:7-pred-count=2', -0.02),\n",
       " ('CREL_1:7', -0.02),\n",
       " ('CREL_Pair-Causer:13->Result:7|Causer:7->Result:50', -0.02),\n",
       " ('CREL_Causer:11->Result:6-pred-count', 0.02),\n",
       " ('CREL_Causer:11->Result:6-pred-count=2', 0.02),\n",
       " ('CREL_11:6', 0.02),\n",
       " ('CREL_Pair-Causer:1->Result:3|Causer:11->Result:6', 0.02),\n",
       " ('CREL_Causer:4->Result:13-pred-count', -0.02),\n",
       " ('CREL_Causer:4->Result:13-pred-count=2', -0.02),\n",
       " ('CREL_4:13', -0.02),\n",
       " ('CREL_Pair-Causer:1->Result:5|Causer:4->Result:7', 0.02),\n",
       " ('CREL_Causer:1->Result:50-pred-count=8', 0.02),\n",
       " ('CREL_Pair-Causer:1->Result:3|Causer:2->Result:50', -0.02),\n",
       " ('CREL_Pair-Causer:11->Result:50|Causer:5->Result:50', 0.02),\n",
       " ('CREL_Pair-Causer:11->Result:3|Causer:3->Result:6', 0.02),\n",
       " ('CREL_Pair-Causer:11->Result:50|Causer:3->Result:4', -0.02),\n",
       " ('CREL_Causer:1->Result:1-pred-count', -0.02),\n",
       " ('CREL_Causer:1->Result:1-pred-count=2', -0.02),\n",
       " ('CREL_1:1', -0.02),\n",
       " ('CREL_Causer:6->Result:14-pred-count', 0.02),\n",
       " ('CREL_Pair-Causer:13->Result:14|Causer:14->Result:50', 0.02),\n",
       " ('CREL_Causer:1->Result:2-pred-count=4', 0.02),\n",
       " ('CREL_Pair-Causer:4->Result:5|Causer:5->Result:5b', 0.02),\n",
       " ('CREL_Pair-Causer:4->Result:50|Causer:5->Result:5b', 0.02),\n",
       " ('CREL_Pair-Causer:4->Result:50|Causer:5->Result:50', 0.02),\n",
       " ('CREL_Pair-Causer:5->Result:50|Causer:5->Result:5b', 0.02),\n",
       " ('CREL_Pair-Causer:11->Result:12|Causer:3->Result:50', 0.02),\n",
       " ('CREL_Pair-Causer:13->Result:13|Causer:3->Result:4', -0.02),\n",
       " ('CREL_Pair-Causer:3->Result:5|Causer:3->Result:5b', 0.02),\n",
       " ('CREL_Pair-Causer:3->Result:5b|Causer:5b->Result:50', 0.02),\n",
       " ('CREL_Causer:3->Result:4-pred-count=4', 0.02),\n",
       " ('CREL_Pair-Causer:2->Result:3|Causer:3->Result:4', 0.02),\n",
       " ('CREL_Pair-Causer:11->Result:50|Causer:4->Result:5b', -0.02),\n",
       " ('CREL_Pair-Causer:3->Result:4|Causer:4->Result:5b', 0.02),\n",
       " ('CREL_Pair-Causer:11->Result:13|Causer:3->Result:5', 0.02),\n",
       " ('CREL_Causer:12->Result:13-pred-count=4', 0.02),\n",
       " ('CREL_Pair-Causer:11->Result:6|Causer:6->Result:50', 0.02),\n",
       " ('CREL_Pair-Causer:11->Result:50|Causer:11->Result:7', -0.02),\n",
       " ('CREL_Causer:3->Result:3-pred-count', -0.02),\n",
       " ('CREL_Causer:3->Result:3-pred-count=2', -0.02),\n",
       " ('CREL_3:3', -0.02),\n",
       " ('CREL_Pair-Causer:1->Result:2|Causer:5->Result:50', 0.02),\n",
       " ('CREL_Pair-Causer:2->Result:3|Causer:3->Result:5', 0.02),\n",
       " ('CREL_Pair-Causer:2->Result:3|Causer:5->Result:50', 0.02),\n",
       " ('CREL_Pair-Causer:13->Result:7|Causer:3->Result:7', 0.02),\n",
       " ('CREL_Pair-Causer:13->Result:7|Causer:6->Result:50', 0.02),\n",
       " ('CREL_Pair-Causer:3->Result:7|Causer:6->Result:50', 0.02),\n",
       " ('CREL_Pair-Causer:6->Result:3|Causer:7->Result:50', -0.02),\n",
       " ('CREL_Pair-Causer:1->Result:3|Causer:12->Result:14', -0.02),\n",
       " ('CREL_Pair-Causer:1->Result:3|Causer:3->Result:14', 0.02),\n",
       " ('CREL_Causer:13->Result:12-pred-count', -0.02),\n",
       " ('CREL_Pair-Causer:11->Result:12|Causer:13->Result:12', -0.02),\n",
       " ('CREL_Pair-Causer:11->Result:50|Causer:4->Result:14', -0.02),\n",
       " ('CREL_Pair-Causer:12->Result:13|Causer:14->Result:50', 0.02),\n",
       " ('CREL_Pair-Causer:13->Result:50|Causer:5->Result:50', 0.02),\n",
       " ('CREL_Pair-Causer:5->Result:50|Causer:5b->Result:50', 0.02),\n",
       " ('CREL_Pair-Causer:11->Result:14|Causer:6->Result:50', 0.02),\n",
       " ('CREL_Pair-Causer:11->Result:3|Causer:6->Result:50', 0.02),\n",
       " ('CREL_Pair-Causer:11->Result:13|Causer:13->Result:13', -0.02),\n",
       " ('CREL_Pair-Causer:13->Result:13|Causer:7->Result:50', -0.02),\n",
       " ('CREL_Causer:14->Result:14-pred-count', -0.02),\n",
       " ('CREL_Causer:14->Result:14-pred-count=2', -0.02),\n",
       " ('CREL_14:14', -0.02),\n",
       " ('CREL_Pair-Causer:11->Result:13|Causer:3->Result:6', 0.02),\n",
       " ('CREL_Pair-Causer:13->Result:14|Causer:3->Result:6', 0.02),\n",
       " ('CREL_Pair-Causer:3->Result:4|Causer:3->Result:6', 0.02),\n",
       " ('CREL_Pair-Causer:3->Result:6|Causer:4->Result:14', 0.02),\n",
       " ('CREL_Causer:3->Result:2-pred-count', -0.02),\n",
       " ('CREL_Causer:3->Result:2-pred-count=2', -0.02),\n",
       " ('CREL_3:2', -0.02),\n",
       " ('CREL_Causer:6->Result:50-pred-count=8', 0.02),\n",
       " ('CREL_Pair-Causer:1->Result:3|Causer:3->Result:1', -0.02),\n",
       " ('CREL_Pair-Causer:11->Result:3|Causer:3->Result:5', 0.02),\n",
       " ('CREL_Pair-Causer:5->Result:5b|Causer:5b->Result:50', 0.02),\n",
       " ('CREL_Causer:3->Result:50-pred-count=8', 0.02),\n",
       " ('CREL_Causer:4->Result:3-pred-count', -0.02),\n",
       " ('CREL_Causer:4->Result:3-pred-count=2', -0.02),\n",
       " ('CREL_4:3', -0.02),\n",
       " ('CREL_Pair-Causer:3->Result:50|Causer:4->Result:3', -0.02),\n",
       " ('CREL_Pair-Causer:11->Result:50|Causer:4->Result:7', 0.02),\n",
       " ('CREL_Pair-Causer:13->Result:50|Causer:4->Result:7', 0.02),\n",
       " ('CREL_Pair-Causer:1->Result:2|Causer:13->Result:14', 0.02),\n",
       " ('CREL_Pair-Causer:1->Result:2|Causer:3->Result:14', 0.02),\n",
       " ('CREL_Pair-Causer:3->Result:14|Causer:3->Result:50', 0.02),\n",
       " ('CREL_Pair-Causer:3->Result:14|Causer:3->Result:7', 0.02),\n",
       " ('CREL_Pair-Causer:3->Result:14|Causer:7->Result:14', 0.02),\n",
       " ('CREL_Pair-Causer:3->Result:50|Causer:7->Result:14', 0.02),\n",
       " ('CREL_Pair-Causer:3->Result:7|Causer:7->Result:14', 0.02),\n",
       " ('CREL_Pair-Causer:11->Result:12|Causer:6->Result:50', 0.02),\n",
       " ('CREL_Pair-Causer:1->Result:5|Causer:13->Result:14', 0.02),\n",
       " ('CREL_Pair-Causer:1->Result:5|Causer:4->Result:14', 0.02),\n",
       " ('CREL_Pair-Causer:1->Result:5|Causer:5->Result:5b', 0.02),\n",
       " ('CREL_Pair-Causer:4->Result:14|Causer:5->Result:5b', 0.02),\n",
       " ('CREL_Pair-Causer:1->Result:5|Causer:1->Result:50', -0.02),\n",
       " ('CREL_Causer:12->Result:5b-MAX(prob)', 0.02),\n",
       " ('CREL_Causer:12->Result:5b-MIN(prob)', 0.02),\n",
       " ('CREL_Causer:12->Result:5b-pred-count', 0.02),\n",
       " ('CREL_Causer:12->Result:5b-pred-count=2', 0.02),\n",
       " ('CREL_12:5b', 0.02),\n",
       " ('CREL_Pair-Causer:11->Result:12|Causer:12->Result:5b', 0.02),\n",
       " ('CREL_Pair-Causer:11->Result:12|Causer:3->Result:6', 0.02),\n",
       " ('CREL_Pair-Causer:12->Result:5b|Causer:3->Result:6', 0.02),\n",
       " ('CREL_Pair-Causer:12->Result:5b|Causer:6->Result:7', 0.02),\n",
       " ('CREL_Pair-Causer:12->Result:5b|Causer:7->Result:50', 0.02),\n",
       " ('CREL_Pair-Causer:11->Result:14|Causer:4->Result:5', 0.02),\n",
       " ('CREL_Pair-Causer:11->Result:13|Causer:4->Result:5', 0.02),\n",
       " ('CREL_Pair-Causer:11->Result:12|Causer:3->Result:7', 0.02),\n",
       " ('CREL_Causer:3->Result:7-pred-count=4', 0.02),\n",
       " ('CREL_Pair-Causer:11->Result:12|Causer:5->Result:7', 0.02),\n",
       " ('CREL_Pair-Causer:11->Result:50|Causer:5->Result:7', 0.02),\n",
       " ('CREL_Pair-Causer:12->Result:13|Causer:5->Result:7', 0.02),\n",
       " ('CREL_Causer:11->Result:4-pred-count', -0.02),\n",
       " ('CREL_Causer:11->Result:4-pred-count=2', -0.02),\n",
       " ('CREL_11:4', -0.02),\n",
       " ('CREL_Pair-Causer:11->Result:4|Causer:3->Result:4', -0.02),\n",
       " ('CREL_Pair-Causer:11->Result:4|Causer:4->Result:14', -0.02),\n",
       " ('CREL_Pair-Causer:3->Result:1|Causer:6->Result:7', 0.02),\n",
       " ('CREL_Pair-Causer:4->Result:5|Causer:6->Result:50', 0.02),\n",
       " ('CREL_Pair-Causer:4->Result:5b|Causer:6->Result:7', 0.02),\n",
       " ('CREL_Pair-Causer:13->Result:12|Causer:3->Result:50', -0.02),\n",
       " ('CREL_Pair-Causer:1->Result:2|Causer:4->Result:14', 0.02),\n",
       " ('CREL_Pair-Causer:11->Result:13|Causer:6->Result:14', 0.02),\n",
       " ('CREL_Causer:3->Result:50-pred-count=10', 0.02),\n",
       " ('CREL_Pair-Causer:1->Result:3|Causer:7->Result:7', -0.02),\n",
       " ('CREL_Pair-Causer:11->Result:3|Causer:7->Result:50', -0.02),\n",
       " ('CREL_Causer:3->Result:4-pred-count=6', 0.02),\n",
       " ('CREL_Causer:5->Result:5-pred-count', -0.02),\n",
       " ('CREL_Causer:5->Result:5-pred-count=2', -0.02),\n",
       " ('CREL_5:5', -0.02),\n",
       " ('CREL_Pair-Causer:1->Result:50|Causer:11->Result:6', 0.02),\n",
       " ('CREL_Pair-Causer:11->Result:6|Causer:13->Result:14', 0.02),\n",
       " ('CREL_Pair-Causer:11->Result:6|Causer:3->Result:4', 0.02),\n",
       " ('CREL_Pair-Causer:11->Result:6|Causer:4->Result:14', 0.02),\n",
       " ('CREL_Pair-Causer:11->Result:6|Causer:6->Result:7', 0.02),\n",
       " ('CREL_Pair-Causer:11->Result:12|Causer:12->Result:14', -0.02),\n",
       " ('CREL_Pair-Causer:12->Result:14|Causer:7->Result:50', -0.02),\n",
       " ('CREL_Pair-Causer:3->Result:14|Causer:6->Result:14', 0.02),\n",
       " ('CREL_Pair-Causer:3->Result:5|Causer:5->Result:7', 0.02),\n",
       " ('CREL_Causer:3->Result:13-pred-count=4', 0.02),\n",
       " ('CREL_Pair-Causer:4->Result:14|Causer:6->Result:14', -0.02)]"
      ]
     },
     "execution_count": 55,
     "metadata": {},
     "output_type": "execute_result"
    }
   ],
   "source": [
    "sorted(best_mdl.weights.items(), key = lambda tpl: -abs(tpl[1]))[0:500]"
   ]
  },
  {
   "cell_type": "markdown",
   "metadata": {},
   "source": [
    "## TODO\n",
    "\n",
    "### Ideas\n",
    "- ~~num-crels - add back in the logic to threshold these? But only if needed to improve results here (seemed to help essay parser)~~\n",
    "- ~~Re-run with more realistic initial hyper params~~\n",
    "- ~~Add in logic to store results to mongo~~\n",
    "- ~~Switch back to using an initial_weight of 1~~\n",
    "- Approach seems very sensitive to the initial configuration of the algorithm. However, it also seems correlated to the training data performance on the first epoch. Run the algorithm multiple times, take the model with the best training performance and use that as the final selected model to train futher.\n",
    "- We need to add hyper parameter tuning\n",
    "- Do we want to just remove the BEAM search from this? It makes the explanation a lot more complex. But then again, it's the only way we can really add more crels that the model wouldn't otherwise parse\n",
    "- Do we use the BEAM search with some de-duping? Although we already de-dupe to some extent anyways\n",
    "\n",
    "### Needed to Finish\n",
    "- Record run on test data - needs optimal hyper parameters first"
   ]
  },
  {
   "cell_type": "code",
   "execution_count": null,
   "metadata": {},
   "outputs": [],
   "source": []
  }
 ],
 "metadata": {
  "kernelspec": {
   "display_name": "Python [conda env:phd_py36]",
   "language": "python",
   "name": "conda-env-phd_py36-py"
  },
  "language_info": {
   "codemirror_mode": {
    "name": "ipython",
    "version": 3
   },
   "file_extension": ".py",
   "mimetype": "text/x-python",
   "name": "python",
   "nbconvert_exporter": "python",
   "pygments_lexer": "ipython3",
   "version": "3.6.4"
  }
 },
 "nbformat": 4,
 "nbformat_minor": 2
}
