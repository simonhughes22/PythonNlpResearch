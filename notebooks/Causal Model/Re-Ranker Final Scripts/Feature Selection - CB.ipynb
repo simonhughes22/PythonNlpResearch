{
 "cells": [
  {
   "cell_type": "code",
   "execution_count": 1,
   "metadata": {},
   "outputs": [],
   "source": [
    "%load_ext autoreload\n",
    "%autoreload 2"
   ]
  },
  {
   "cell_type": "code",
   "execution_count": 2,
   "metadata": {},
   "outputs": [],
   "source": [
    "import os\n",
    "import sys\n",
    "cwd = os.getcwd()\n",
    "cm_folder = \"/Users/simon.hughes/GitHub/NlpResearch/PythonNlpResearch/notebooks/Causal Model/\"\n",
    "src_path = os.path.join(cm_folder, \"src\")\n",
    "sys.path.append(src_path)"
   ]
  },
  {
   "cell_type": "code",
   "execution_count": 3,
   "metadata": {},
   "outputs": [],
   "source": [
    "from typing import Any\n",
    "\n",
    "import dill\n",
    "from sklearn.linear_model import LogisticRegression\n",
    "import numpy as np\n",
    "\n",
    "from CrossValidation import cross_validation\n",
    "from MIRA import CostSensitiveMIRA\n",
    "from Settings import Settings\n",
    "\n",
    "from crel_helper import get_cr_tags\n",
    "from crel_processing import essay_to_crels_cv\n",
    "from evaluation import evaluate_model_essay_level, get_micro_metrics, metrics_to_df\n",
    "from feature_normalization import min_max_normalize_feats\n",
    "from function_helpers import get_function_names\n",
    "from results_procesor import ResultsProcessor\n",
    "from train_parser import essay_to_crels, create_extractor_functions\n",
    "from cost_functions import micro_f1_cost_plusepsilon\n",
    "from train_reranker import train_model_parallel, train_model, train_cost_sensitive_instance\n",
    "from window_based_tagger_config import get_config\n",
    "from searn_parser_breadth_first import SearnModelBreadthFirst\n",
    "from causal_model_features import CausalModelType"
   ]
  },
  {
   "cell_type": "code",
   "execution_count": 4,
   "metadata": {},
   "outputs": [],
   "source": [
    "from parser_inputs import ParserInputs, ParserInputsEssayLevel"
   ]
  },
  {
   "cell_type": "code",
   "execution_count": 5,
   "metadata": {},
   "outputs": [],
   "source": [
    "from feature_extraction import get_features_from_probabilities"
   ]
  },
  {
   "cell_type": "code",
   "execution_count": 6,
   "metadata": {},
   "outputs": [
    {
     "name": "stdout",
     "output_type": "stream",
     "text": [
      "Results Dir: /Users/simon.hughes/Google Drive/Phd/Results/\n",
      "Data Dir:    /Users/simon.hughes/Google Drive/Phd/Data/\n",
      "Root Dir:    /Users/simon.hughes/GitHub/NlpResearch/\n",
      "Public Data: /Users/simon.hughes/GitHub/NlpResearch/Data/PublicDatasets/\n",
      "902 226\n"
     ]
    }
   ],
   "source": [
    "# Data Set Partition\n",
    "CV_FOLDS = 5\n",
    "MIN_FEAT_FREQ = 5\n",
    "\n",
    "# Global settings\n",
    "settings = Settings()\n",
    "CAUSAL_MODEL_TYPE = CausalModelType.CORAL_BLEACHING\n",
    "root_folder = settings.data_directory + \"CoralBleaching/Thesis_Dataset/\"\n",
    "training_folder = root_folder + \"Training\" + \"/\"\n",
    "test_folder = root_folder + \"Test\" + \"/\"\n",
    "\n",
    "coref_root = root_folder + \"CoReference/\"\n",
    "coref_output_folder = coref_root + \"CRel/\"\n",
    "\n",
    "config = get_config(training_folder)\n",
    "\n",
    "train_fname = coref_output_folder + \"training_crel_anatagged_essays_most_recent_code.dill\"\n",
    "with open(train_fname, \"rb\") as f:\n",
    "    pred_tagged_essays_train = dill.load(f)\n",
    "\n",
    "test_fname = coref_output_folder + \"test_crel_anatagged_essays_most_recent_code.dill\"\n",
    "with open(test_fname, \"rb\") as f:\n",
    "    pred_tagged_essays_test = dill.load(f)\n",
    "\n",
    "print(len(pred_tagged_essays_train), len(pred_tagged_essays_test))"
   ]
  },
  {
   "cell_type": "code",
   "execution_count": 7,
   "metadata": {},
   "outputs": [
    {
     "data": {
      "text/plain": [
       "['Causer:6->Result:7',\n",
       " 'Causer:12->Result:11',\n",
       " 'Causer:11->Result:11',\n",
       " 'Causer:3->Result:13',\n",
       " 'Causer:11->Result:6',\n",
       " 'Causer:5->Result:4',\n",
       " 'Causer:1->Result:6',\n",
       " 'Causer:12->Result:50',\n",
       " 'Causer:3->Result:5b',\n",
       " 'Causer:50->Result:3']"
      ]
     },
     "execution_count": 7,
     "metadata": {},
     "output_type": "execute_result"
    }
   ],
   "source": [
    "cr_tags = get_cr_tags(train_tagged_essays=pred_tagged_essays_train, tag_essays_test=pred_tagged_essays_test)\n",
    "\n",
    "set_cr_tags = set(cr_tags)\n",
    "list(set_cr_tags)[0:10]"
   ]
  },
  {
   "cell_type": "code",
   "execution_count": 8,
   "metadata": {},
   "outputs": [],
   "source": [
    "base_extractors, all_extractor_fns, all_cost_functions = create_extractor_functions()\n",
    "\n",
    "all_extractor_fn_names = get_function_names(all_extractor_fns)\n",
    "base_extractor_fn_names = get_function_names(base_extractors)\n",
    "all_cost_fn_names = get_function_names(all_cost_functions)\n",
    "\n",
    "ngrams = 1\n",
    "stemmed = True\n",
    "cost_function_name = micro_f1_cost_plusepsilon.__name__\n",
    "dual = True\n",
    "fit_intercept = True\n",
    "beta = 0.5\n",
    "max_epochs = 2\n",
    "lr_C = 0.5\n",
    "penalty = \"l2\""
   ]
  },
  {
   "cell_type": "code",
   "execution_count": 9,
   "metadata": {},
   "outputs": [],
   "source": [
    "BASE_LEARNER_FACT = lambda: LogisticRegression(dual=dual, C=lr_C, penalty=penalty, fit_intercept=fit_intercept)\n",
    "best_extractor_names = ['single_words', 'between_word_features', 'label_set',\n",
    "                        'three_words', 'third_order', 'unigrams']  # type: List[str]\n",
    "\n",
    "test_folds = [(pred_tagged_essays_train, pred_tagged_essays_test)]  # type: List[Tuple[Any,Any]]\n",
    "cv_folds = cross_validation(pred_tagged_essays_train, CV_FOLDS)  # type: List[Tuple[Any,Any]]\n",
    "\n",
    "result_test_essay_level = evaluate_model_essay_level(\n",
    "    folds=cv_folds,\n",
    "    extractor_fn_names_lst=best_extractor_names,\n",
    "    all_extractor_fns=all_extractor_fns,\n",
    "    ngrams=ngrams,\n",
    "    beta=beta,\n",
    "    stemmed=stemmed,\n",
    "    max_epochs=max_epochs, \n",
    "    min_feat_freq=MIN_FEAT_FREQ, \n",
    "    cr_tags=set_cr_tags,\n",
    "    base_learner_fact=BASE_LEARNER_FACT, \n",
    "    down_sample_rate=1.0, model = SearnModelBreadthFirst)"
   ]
  },
  {
   "cell_type": "markdown",
   "metadata": {},
   "source": [
    "## Training Accuracy"
   ]
  },
  {
   "cell_type": "code",
   "execution_count": 10,
   "metadata": {},
   "outputs": [
    {
     "data": {
      "text/html": [
       "<div>\n",
       "<table border=\"1\" class=\"dataframe\">\n",
       "  <thead>\n",
       "    <tr style=\"text-align: right;\">\n",
       "      <th></th>\n",
       "      <th>accuracy</th>\n",
       "      <th>f1_score</th>\n",
       "      <th>recall</th>\n",
       "      <th>precision</th>\n",
       "    </tr>\n",
       "  </thead>\n",
       "  <tbody>\n",
       "    <tr>\n",
       "      <th>95</th>\n",
       "      <td>0.985734</td>\n",
       "      <td>0.780794</td>\n",
       "      <td>0.761131</td>\n",
       "      <td>0.801499</td>\n",
       "    </tr>\n",
       "  </tbody>\n",
       "</table>\n",
       "</div>"
      ],
      "text/plain": [
       "    accuracy  f1_score    recall  precision\n",
       "95  0.985734  0.780794  0.761131   0.801499"
      ]
     },
     "execution_count": 10,
     "metadata": {},
     "output_type": "execute_result"
    }
   ],
   "source": [
    "models, cv_sent_td_ys_by_tag, cv_sent_td_predictions_by_tag, cv_td_preds_by_sent, cv_sent_vd_ys_by_tag = result_test_essay_level\n",
    "\n",
    "mean_metrics = ResultsProcessor.compute_mean_metrics(cv_sent_td_ys_by_tag, cv_sent_td_predictions_by_tag)\n",
    "get_micro_metrics(metrics_to_df(mean_metrics))"
   ]
  },
  {
   "cell_type": "markdown",
   "metadata": {},
   "source": [
    "## CV Accuracy"
   ]
  },
  {
   "cell_type": "code",
   "execution_count": 11,
   "metadata": {},
   "outputs": [
    {
     "data": {
      "text/html": [
       "<div>\n",
       "<table border=\"1\" class=\"dataframe\">\n",
       "  <thead>\n",
       "    <tr style=\"text-align: right;\">\n",
       "      <th></th>\n",
       "      <th>accuracy</th>\n",
       "      <th>f1_score</th>\n",
       "      <th>recall</th>\n",
       "      <th>precision</th>\n",
       "    </tr>\n",
       "  </thead>\n",
       "  <tbody>\n",
       "    <tr>\n",
       "      <th>95</th>\n",
       "      <td>0.982895</td>\n",
       "      <td>0.740481</td>\n",
       "      <td>0.731022</td>\n",
       "      <td>0.750187</td>\n",
       "    </tr>\n",
       "  </tbody>\n",
       "</table>\n",
       "</div>"
      ],
      "text/plain": [
       "    accuracy  f1_score    recall  precision\n",
       "95  0.982895  0.740481  0.731022   0.750187"
      ]
     },
     "execution_count": 11,
     "metadata": {},
     "output_type": "execute_result"
    }
   ],
   "source": [
    "models, cv_sent_td_ys_by_tag, cv_sent_td_predictions_by_tag, cv_sent_vd_ys_by_tag, cv_sent_vd_predictions_by_tag = result_test_essay_level\n",
    "\n",
    "mean_metrics = ResultsProcessor.compute_mean_metrics(cv_sent_vd_ys_by_tag, cv_sent_vd_predictions_by_tag)\n",
    "get_micro_metrics(metrics_to_df(mean_metrics))"
   ]
  },
  {
   "cell_type": "markdown",
   "metadata": {},
   "source": [
    "## Test Accuracy"
   ]
  },
  {
   "cell_type": "code",
   "execution_count": 12,
   "metadata": {},
   "outputs": [
    {
     "data": {
      "text/html": [
       "<div>\n",
       "<table border=\"1\" class=\"dataframe\">\n",
       "  <thead>\n",
       "    <tr style=\"text-align: right;\">\n",
       "      <th></th>\n",
       "      <th>accuracy</th>\n",
       "      <th>f1_score</th>\n",
       "      <th>recall</th>\n",
       "      <th>precision</th>\n",
       "    </tr>\n",
       "  </thead>\n",
       "  <tbody>\n",
       "    <tr>\n",
       "      <th>95</th>\n",
       "      <td>0.98551</td>\n",
       "      <td>0.739054</td>\n",
       "      <td>0.771481</td>\n",
       "      <td>0.709244</td>\n",
       "    </tr>\n",
       "  </tbody>\n",
       "</table>\n",
       "</div>"
      ],
      "text/plain": [
       "    accuracy  f1_score    recall  precision\n",
       "95   0.98551  0.739054  0.771481   0.709244"
      ]
     },
     "execution_count": 12,
     "metadata": {},
     "output_type": "execute_result"
    }
   ],
   "source": [
    "result_final_test = evaluate_model_essay_level(\n",
    "    folds=test_folds,\n",
    "    extractor_fn_names_lst=best_extractor_names,\n",
    "    all_extractor_fns=all_extractor_fns,\n",
    "    ngrams=ngrams,\n",
    "    beta=beta,\n",
    "    stemmed=stemmed,\n",
    "    max_epochs=max_epochs,\n",
    "    min_feat_freq=MIN_FEAT_FREQ, \n",
    "    cr_tags=set_cr_tags,\n",
    "    base_learner_fact=BASE_LEARNER_FACT, \n",
    "    down_sample_rate=1.0, model = SearnModelBreadthFirst)\n",
    "\n",
    "models_test, cv_sent_td_ys_by_tag, cv_sent_td_predictions_by_tag, cv_sent_vd_ys_by_tag, cv_sent_vd_predictions_by_tag = result_final_test\n",
    "\n",
    "mean_metrics = ResultsProcessor.compute_mean_metrics(cv_sent_vd_ys_by_tag, cv_sent_vd_predictions_by_tag)\n",
    "get_micro_metrics(metrics_to_df(mean_metrics))"
   ]
  },
  {
   "cell_type": "code",
   "execution_count": 13,
   "metadata": {},
   "outputs": [],
   "source": [
    "final_test_model = models_test"
   ]
  },
  {
   "cell_type": "code",
   "execution_count": 14,
   "metadata": {},
   "outputs": [],
   "source": [
    "all_essays = pred_tagged_essays_train + pred_tagged_essays_test\n",
    "name2essay = {}\n",
    "for essay in all_essays:\n",
    "    name2essay[essay.name] = essay\n",
    "\n",
    "name2crels = essay_to_crels(all_essays, set_cr_tags)\n",
    "assert len(name2crels) == len(all_essays)"
   ]
  },
  {
   "cell_type": "markdown",
   "metadata": {},
   "source": [
    "### Best Parameter Settings"
   ]
  },
  {
   "cell_type": "code",
   "execution_count": 15,
   "metadata": {},
   "outputs": [],
   "source": [
    "# initial settings for other params\n",
    "best_top_n, best_C, best_max_upd, best_max_parses, best_min_prob = (2, 0.0005, 2, 300, 0.0)  # min prob of 0 seems better"
   ]
  },
  {
   "cell_type": "markdown",
   "metadata": {},
   "source": [
    "## Train Re-Ranker"
   ]
  },
  {
   "cell_type": "code",
   "execution_count": 16,
   "metadata": {},
   "outputs": [],
   "source": [
    "xs_rerank = essay_to_crels_cv(cv_folds, models, top_n=best_top_n, search_mode_max_prob=False)\n",
    "xs = get_features_from_probabilities(xs_rerank, name2crels, best_max_parses, \n",
    "                                     causal_model_type=CAUSAL_MODEL_TYPE,\n",
    "                                     min_feat_freq=1, min_prob=best_min_prob)\n",
    "\n",
    "cv_folds_rerank = cross_validation(xs, 5)\n",
    "cv_folds_mm = [min_max_normalize_feats(train, test) for (train, test) in cv_folds_rerank]"
   ]
  },
  {
   "cell_type": "code",
   "execution_count": null,
   "metadata": {},
   "outputs": [],
   "source": [
    "%%time\n",
    "f1 = train_model_parallel(\n",
    "    cv_folds=cv_folds_mm, name2essay=name2essay, C=best_C, pa_type=1, loss_type=\"ml\", max_update_items=best_max_upd, \n",
    "    set_cr_tags=set_cr_tags, initial_weight=0.01)\n",
    "print(f1)  # 0.7421167703055035"
   ]
  },
  {
   "cell_type": "markdown",
   "metadata": {},
   "source": [
    "## Train on Test Data"
   ]
  },
  {
   "cell_type": "code",
   "execution_count": 18,
   "metadata": {},
   "outputs": [],
   "source": [
    "xs_test_rerank = essay_to_crels_cv(test_folds, final_test_model, top_n=best_top_n, search_mode_max_prob=False)\n",
    "xs_test = get_features_from_probabilities(xs_test_rerank, name2crels, best_max_parses, \n",
    "                                          causal_model_type=CAUSAL_MODEL_TYPE,\n",
    "                                          min_feat_freq=1, min_prob=best_min_prob)"
   ]
  },
  {
   "cell_type": "code",
   "execution_count": 19,
   "metadata": {},
   "outputs": [],
   "source": [
    "# training data comes from the test fold predictions from CV on the full training dataset\n",
    "xs_train = []\n",
    "for train, test in cv_folds_rerank:\n",
    "    xs_train.extend(test)"
   ]
  },
  {
   "cell_type": "code",
   "execution_count": 20,
   "metadata": {},
   "outputs": [],
   "source": [
    "# Normalize both using training data\n",
    "xs_train_mm, xs_test_mm = min_max_normalize_feats(xs_train,xs_test)"
   ]
  },
  {
   "cell_type": "code",
   "execution_count": 21,
   "metadata": {},
   "outputs": [],
   "source": [
    "num_train = int(0.8 * len(xs_train_mm))\n",
    "tmp_train_copy = list(xs_train_mm)\n",
    "np.random.shuffle(tmp_train_copy)\n",
    "tmp_train, tmp_test = tmp_train_copy[:num_train], tmp_train_copy[num_train:]"
   ]
  },
  {
   "cell_type": "code",
   "execution_count": 22,
   "metadata": {},
   "outputs": [],
   "source": [
    "C = best_C/5 # This needs to be a lot lower\n",
    "pa_type = 1\n",
    "loss_type= \"ml\"\n",
    "max_update_items = best_max_upd\n",
    "initial_weight = 0.01 # was 0.01"
   ]
  },
  {
   "cell_type": "markdown",
   "metadata": {},
   "source": [
    "## Determine Number of Training Iterations"
   ]
  },
  {
   "cell_type": "code",
   "execution_count": 23,
   "metadata": {},
   "outputs": [
    {
     "name": "stdout",
     "output_type": "stream",
     "text": [
      "Epoch: 0 Train Accuracy: 0.7386 Test Accuracy: 0.7535\n",
      "Epoch: 1 Train Accuracy: 0.7416 Test Accuracy: 0.7512\n",
      "Epoch: 2 Train Accuracy: 0.7406 Test Accuracy: 0.7560\n",
      "Epoch: 3 Train Accuracy: 0.7416 Test Accuracy: 0.7548\n",
      "Epoch: 4 Train Accuracy: 0.7422 Test Accuracy: 0.7510\n",
      "Epoch: 5 Train Accuracy: 0.7429 Test Accuracy: 0.7497\n",
      "Epoch: 6 Train Accuracy: 0.7426 Test Accuracy: 0.7472\n",
      "Epoch: 7 Train Accuracy: 0.7423 Test Accuracy: 0.7472\n",
      "Best Test Acc: 0.7560\n",
      "CPU times: user 2min 50s, sys: 173 ms, total: 2min 50s\n",
      "Wall time: 2min 50s\n"
     ]
    }
   ],
   "source": [
    "%%time\n",
    "# use training data to determine number of iterations\n",
    "mdl = CostSensitiveMIRA(C=best_C, pa_type=pa_type, loss_type=loss_type, \n",
    "                        max_update_items=max_update_items, initial_weight=initial_weight)\n",
    "# Determine number of training iterations\n",
    "best_mdl, test_acc_df_ml, best_iterations = train_model(mdl, xs_train=tmp_train, xs_test=tmp_test, name2essay=name2essay, set_cr_tags=set_cr_tags,\n",
    "     max_epochs=20, early_stop_iters=5, train_instance_fn = train_cost_sensitive_instance, verbose=True)"
   ]
  },
  {
   "cell_type": "code",
   "execution_count": 24,
   "metadata": {},
   "outputs": [
    {
     "data": {
      "text/plain": [
       "(3, 0.0005, 0.01)"
      ]
     },
     "execution_count": 24,
     "metadata": {},
     "output_type": "execute_result"
    }
   ],
   "source": [
    "best_iterations, best_C, initial_weight"
   ]
  },
  {
   "cell_type": "code",
   "execution_count": 25,
   "metadata": {},
   "outputs": [
    {
     "name": "stdout",
     "output_type": "stream",
     "text": [
      "Epoch: 0 Train Accuracy: 0.7423 Test Accuracy: 0.7398\n",
      "Epoch: 1 Train Accuracy: 0.7435 Test Accuracy: 0.7433\n",
      "Epoch: 2 Train Accuracy: 0.7439 Test Accuracy: 0.7451\n",
      "Best Test Acc: 0.7451\n"
     ]
    }
   ],
   "source": [
    "# Test on test data\n",
    "mdl = CostSensitiveMIRA(C=best_C, pa_type=pa_type, loss_type=loss_type, \n",
    "                        max_update_items=max_update_items, initial_weight=initial_weight)\n",
    "\n",
    "best_mdl, test_acc_df_ml,_ = train_model(mdl,  xs_train=xs_train_mm, xs_test=xs_test_mm,\n",
    "                                       name2essay=name2essay, set_cr_tags=set_cr_tags,\n",
    "     max_epochs=best_iterations, early_stop_iters=best_iterations, train_instance_fn = train_cost_sensitive_instance, verbose=True)\n",
    "# Best Test Acc: 0.7406"
   ]
  },
  {
   "cell_type": "markdown",
   "metadata": {},
   "source": [
    "# Feature Selection"
   ]
  },
  {
   "cell_type": "code",
   "execution_count": 26,
   "metadata": {},
   "outputs": [],
   "source": [
    "from filter_features import filter_feats\n",
    "\n",
    "prefixes = [\n",
    "    \"Prob-\",\n",
    "    \"CREL_Pair-\",\n",
    "    \"Inv-\",\n",
    "    \"num_crels\",\n",
    "    \"Tally-\",\n",
    "    \"CChain-\",\n",
    "    \"CChainStats-\",\n",
    "    \"Above-\",\n",
    "    \"CREL_\",\n",
    "    \"Propn_\",\n",
    "    \"Diff_\"\n",
    "]\n",
    "# xs_fltr_train, xs_fltr_test = filter_feats(xs_train_mm, xs_test_mm, prefixes)\n",
    "assert len(prefixes) == len(set(prefixes)), \"Duplicate prefixes found\""
   ]
  },
  {
   "cell_type": "code",
   "execution_count": 27,
   "metadata": {},
   "outputs": [
    {
     "name": "stdout",
     "output_type": "stream",
     "text": [
      "1 feats, new Best F1: 0.7426 Prefixes: ['CREL_']\n",
      "2 feats, new Best F1: 0.7468 Prefixes: ['CREL_', 'Prob-']\n",
      "3 feats, new Best F1: 0.7472 Prefixes: ['CREL_', 'Prob-', 'CChain-']\n",
      "4 feats, new Best F1: 0.7476 Prefixes: ['CREL_', 'Prob-', 'CChain-', 'CREL_Pair-']\n",
      "No further improvement, stopping\n"
     ]
    }
   ],
   "source": [
    "best_f1 = -1\n",
    "current_best = []\n",
    "remaining = list(prefixes)\n",
    "\n",
    "while True:\n",
    "    if len(remaining) == 0:\n",
    "        break\n",
    "    \n",
    "    f1_by_prefix = dict()\n",
    "    for prefix in remaining:\n",
    "        new_prefixes = current_best + [prefix]\n",
    "        \n",
    "        cv_filtered = []\n",
    "        for tr, test in cv_folds_mm:\n",
    "            x_tr,x_test = filter_feats(tr, test, new_prefixes)\n",
    "            cv_filtered.append((x_tr,x_test))\n",
    "        \n",
    "        f1_by_prefix[prefix] = train_model_parallel(cv_folds=cv_filtered, name2essay=name2essay, C=best_C, \n",
    "                                  pa_type=1, loss_type=\"ml\", max_update_items=best_max_upd, \n",
    "                                  set_cr_tags=set_cr_tags, initial_weight=initial_weight)\n",
    "    \n",
    "    best_prefix, new_best_f1 = sorted(f1_by_prefix.items(), key = lambda tpl: -tpl[1])[0]\n",
    "    if new_best_f1 > best_f1:\n",
    "        best_f1 = new_best_f1\n",
    "        current_best.append(best_prefix)\n",
    "        remaining.remove(best_prefix)\n",
    "        print(\"{length} feats, new Best F1: {f1:.4f} Prefixes: {prefixes}\".format(\n",
    "            length=len(current_best), f1=best_f1, prefixes=str(current_best)))\n",
    "    else:\n",
    "        print(\"No further improvement, stopping\")\n",
    "        break\n",
    "        \n",
    "# 1 feats, new Best F1: 0.7389 Prefixes: ['CREL_']\n",
    "# 2 feats, new Best F1: 0.7426 Prefixes: ['CREL_', 'Above-']\n",
    "\n",
    "# with num_crels fixed:\n",
    "# 1 feats, new Best F1: 0.7481 Prefixes: ['CREL_']\n",
    "# 2 feats, new Best F1: 0.7482 Prefixes: ['CREL_', 'num_crels']"
   ]
  },
  {
   "cell_type": "code",
   "execution_count": null,
   "metadata": {},
   "outputs": [],
   "source": [
    "# run it against the full set of features for comparison\n",
    "cv_filtered = []\n",
    "for tr, test in cv_folds_mm:\n",
    "    x_tr,x_test = filter_feats(tr, test, prefixes)\n",
    "    cv_filtered.append((x_tr,x_test))\n",
    "\n",
    "f1 = train_model_parallel(cv_folds=cv_filtered, name2essay=name2essay, C=best_C, \n",
    "                          pa_type=1, loss_type=\"ml\", max_update_items=best_max_upd, \n",
    "                          set_cr_tags=set_cr_tags, initial_weight=initial_weight)\n",
    "f1"
   ]
  },
  {
   "cell_type": "markdown",
   "metadata": {},
   "source": [
    "## Apply to Test Data"
   ]
  },
  {
   "cell_type": "code",
   "execution_count": 31,
   "metadata": {},
   "outputs": [
    {
     "data": {
      "text/plain": [
       "['CREL_', 'Prob-', 'CChain-', 'CREL_Pair-']"
      ]
     },
     "execution_count": 31,
     "metadata": {},
     "output_type": "execute_result"
    }
   ],
   "source": [
    "current_best"
   ]
  },
  {
   "cell_type": "code",
   "execution_count": 32,
   "metadata": {},
   "outputs": [],
   "source": [
    "xs_train_mm_fltr, xs_test_mm_fltr = filter_feats(xs_train_mm, xs_test_mm, current_best) "
   ]
  },
  {
   "cell_type": "code",
   "execution_count": 33,
   "metadata": {},
   "outputs": [],
   "source": [
    "num_train = int(0.8 * len(xs_train_mm_fltr))\n",
    "tmp_train_copy = list(xs_train_mm_fltr)\n",
    "np.random.shuffle(tmp_train_copy)\n",
    "tmp_train, tmp_test = tmp_train_copy[:num_train], tmp_train_copy[num_train:]"
   ]
  },
  {
   "cell_type": "markdown",
   "metadata": {},
   "source": [
    "## Determine the Optimal Number of Training Iterations"
   ]
  },
  {
   "cell_type": "code",
   "execution_count": 37,
   "metadata": {},
   "outputs": [
    {
     "name": "stdout",
     "output_type": "stream",
     "text": [
      "Epoch: 0 Train Accuracy: 0.7381 Test Accuracy: 0.7563\n",
      "Epoch: 1 Train Accuracy: 0.7393 Test Accuracy: 0.7601\n",
      "Epoch: 2 Train Accuracy: 0.7401 Test Accuracy: 0.7609\n",
      "Epoch: 3 Train Accuracy: 0.7416 Test Accuracy: 0.7609\n",
      "Epoch: 4 Train Accuracy: 0.7427 Test Accuracy: 0.7628\n",
      "Epoch: 5 Train Accuracy: 0.7432 Test Accuracy: 0.7611\n",
      "Epoch: 6 Train Accuracy: 0.7438 Test Accuracy: 0.7622\n",
      "Epoch: 7 Train Accuracy: 0.7448 Test Accuracy: 0.7614\n",
      "Epoch: 8 Train Accuracy: 0.7454 Test Accuracy: 0.7614\n",
      "Epoch: 9 Train Accuracy: 0.7461 Test Accuracy: 0.7614\n",
      "Epoch: 10 Train Accuracy: 0.7465 Test Accuracy: 0.7602\n",
      "Epoch: 11 Train Accuracy: 0.7460 Test Accuracy: 0.7602\n",
      "Epoch: 12 Train Accuracy: 0.7463 Test Accuracy: 0.7602\n",
      "Epoch: 13 Train Accuracy: 0.7465 Test Accuracy: 0.7625\n",
      "Epoch: 14 Train Accuracy: 0.7467 Test Accuracy: 0.7625\n",
      "Epoch: 15 Train Accuracy: 0.7476 Test Accuracy: 0.7612\n",
      "Epoch: 16 Train Accuracy: 0.7478 Test Accuracy: 0.7612\n",
      "Epoch: 17 Train Accuracy: 0.7486 Test Accuracy: 0.7592\n",
      "Epoch: 18 Train Accuracy: 0.7486 Test Accuracy: 0.7580\n",
      "Epoch: 19 Train Accuracy: 0.7487 Test Accuracy: 0.7580\n",
      "Best Test Acc: 0.7628\n",
      "CPU times: user 4min 1s, sys: 917 ms, total: 4min 2s\n",
      "Wall time: 4min 3s\n"
     ]
    }
   ],
   "source": [
    "%%time\n",
    "C = C\n",
    "pa_type = 1\n",
    "loss_type= \"ml\"\n",
    "max_update_items = best_max_upd\n",
    "\n",
    "mdl = CostSensitiveMIRA(C=best_C, pa_type=pa_type, loss_type=loss_type, \n",
    "                        max_update_items=max_update_items, initial_weight=initial_weight)\n",
    "# Determine number of training iterations\n",
    "best_mdl, test_acc_df_ml, best_iterations = train_model(mdl, xs_train=tmp_train, xs_test=tmp_test, name2essay=name2essay, set_cr_tags=set_cr_tags,\n",
    "     max_epochs=20, early_stop_iters=3, train_instance_fn = train_cost_sensitive_instance,\n",
    "                                                        verbose=True,  early_stopping=False)"
   ]
  },
  {
   "cell_type": "code",
   "execution_count": 35,
   "metadata": {},
   "outputs": [
    {
     "data": {
      "text/plain": [
       "3"
      ]
     },
     "execution_count": 35,
     "metadata": {},
     "output_type": "execute_result"
    }
   ],
   "source": [
    "best_iterations"
   ]
  },
  {
   "cell_type": "code",
   "execution_count": 38,
   "metadata": {},
   "outputs": [
    {
     "name": "stdout",
     "output_type": "stream",
     "text": [
      "Epoch: 0 Train Accuracy: 0.7422 Test Accuracy: 0.7409\n",
      "Epoch: 1 Train Accuracy: 0.7420 Test Accuracy: 0.7386\n",
      "Epoch: 2 Train Accuracy: 0.7431 Test Accuracy: 0.7382\n",
      "Epoch: 3 Train Accuracy: 0.7448 Test Accuracy: 0.7408\n",
      "Epoch: 4 Train Accuracy: 0.7455 Test Accuracy: 0.7397\n",
      "Epoch: 5 Train Accuracy: 0.7472 Test Accuracy: 0.7403\n",
      "Epoch: 6 Train Accuracy: 0.7484 Test Accuracy: 0.7419\n",
      "Epoch: 7 Train Accuracy: 0.7490 Test Accuracy: 0.7403\n",
      "Epoch: 8 Train Accuracy: 0.7500 Test Accuracy: 0.7416\n",
      "Epoch: 9 Train Accuracy: 0.7506 Test Accuracy: 0.7423\n",
      "Epoch: 10 Train Accuracy: 0.7503 Test Accuracy: 0.7416\n",
      "Epoch: 11 Train Accuracy: 0.7505 Test Accuracy: 0.7405\n",
      "Epoch: 12 Train Accuracy: 0.7510 Test Accuracy: 0.7393\n",
      "Epoch: 13 Train Accuracy: 0.7515 Test Accuracy: 0.7393\n",
      "Epoch: 14 Train Accuracy: 0.7520 Test Accuracy: 0.7405\n",
      "Epoch: 15 Train Accuracy: 0.7517 Test Accuracy: 0.7405\n",
      "Epoch: 16 Train Accuracy: 0.7518 Test Accuracy: 0.7400\n",
      "Epoch: 17 Train Accuracy: 0.7523 Test Accuracy: 0.7400\n",
      "Epoch: 18 Train Accuracy: 0.7523 Test Accuracy: 0.7407\n",
      "Epoch: 19 Train Accuracy: 0.7523 Test Accuracy: 0.7420\n",
      "Best Test Acc: 0.7423\n"
     ]
    }
   ],
   "source": [
    "mdl = CostSensitiveMIRA(C=best_C, pa_type=pa_type, loss_type=loss_type, \n",
    "                        max_update_items=max_update_items, initial_weight=initial_weight)\n",
    "\n",
    "best_mdl, test_acc_df_ml,_ = train_model(mdl,  \n",
    "    xs_train=xs_train_mm_fltr, xs_test=xs_test_mm_fltr,\n",
    "    name2essay=name2essay, set_cr_tags=set_cr_tags,\n",
    "    max_epochs=best_iterations, early_stop_iters=best_iterations,\n",
    "    train_instance_fn = train_cost_sensitive_instance, verbose=True, early_stopping=False)\n",
    "\n",
    "# Best Test Acc: 0.7516"
   ]
  },
  {
   "cell_type": "code",
   "execution_count": 39,
   "metadata": {},
   "outputs": [
    {
     "name": "stdout",
     "output_type": "stream",
     "text": [
      "Epoch: 0 Train Accuracy: 0.7415 Test Accuracy: 0.7396\n",
      "Epoch: 1 Train Accuracy: 0.7421 Test Accuracy: 0.7386\n",
      "Epoch: 2 Train Accuracy: 0.7440 Test Accuracy: 0.7382\n",
      "Epoch: 3 Train Accuracy: 0.7451 Test Accuracy: 0.7408\n",
      "Epoch: 4 Train Accuracy: 0.7457 Test Accuracy: 0.7408\n",
      "Best Test Acc: 0.7408\n"
     ]
    }
   ],
   "source": [
    "# try a smaller C\n",
    "mdl = CostSensitiveMIRA(C=best_C, pa_type=pa_type, loss_type=loss_type, \n",
    "                        max_update_items=max_update_items, initial_weight=initial_weight)\n",
    "\n",
    "best_mdl, test_acc_df_ml,_ = train_model(mdl,  \n",
    "    xs_train=xs_train_mm_fltr, xs_test=xs_test_mm_fltr,\n",
    "    name2essay=name2essay, set_cr_tags=set_cr_tags,\n",
    "    max_epochs=5, early_stop_iters=5,\n",
    "    train_instance_fn = train_cost_sensitive_instance, verbose=True, early_stopping=False)\n",
    "\n",
    "# Best Test Acc: 0.7516"
   ]
  },
  {
   "cell_type": "code",
   "execution_count": 40,
   "metadata": {},
   "outputs": [
    {
     "data": {
      "text/plain": [
       "[('CREL_7:50', 0.1295000000000001),\n",
       " ('CREL_Causer:7->Result:50-MAX(prob)', 0.1261910460715546),\n",
       " ('CREL_Causer:7->Result:50-MIN(prob)', 0.11703694682578207),\n",
       " ('Prob-min-prob', 0.11678148330815484),\n",
       " ('Prob-prod-prob', 0.11534407092688548),\n",
       " ('Prob-5%-prob', 0.1132978689995122),\n",
       " ('Prob-10%-prob', 0.1098142546908705),\n",
       " ('CREL_3:50', 0.10900000000000008),\n",
       " ('CREL_1:50', 0.10750000000000008),\n",
       " ('CREL_Causer:1->Result:50-MIN(prob)', 0.10565276620728385),\n",
       " ('CREL_Causer:1->Result:50-MAX(prob)', 0.10562921121345513),\n",
       " ('CREL_Pair-Causer:1->Result:50|Causer:3->Result:50', 0.10250000000000008),\n",
       " ('CREL_6:7', 0.10150000000000008),\n",
       " ('CREL_Causer:1->Result:3-MAX(prob)', 0.09888870669879571),\n",
       " ('CREL_Causer:6->Result:7-pred-count=2', 0.09800000000000007),\n",
       " ('Prob-25%-prob', 0.09695825033207398),\n",
       " ('CREL_3:5', 0.09600000000000007),\n",
       " ('CREL_Causer:3->Result:50-MAX(prob)', 0.09503440904756608),\n",
       " ('CREL_Causer:3->Result:5-MAX(prob)', 0.09377645479089725),\n",
       " ('CREL_Causer:6->Result:7-MAX(prob)', 0.09270468607979222),\n",
       " ('CREL_Causer:6->Result:7-MIN(prob)', 0.09181355388330066),\n",
       " ('CREL_Causer:3->Result:5-MIN(prob)', 0.09063874997492347),\n",
       " ('CREL_Causer:3->Result:4-MAX(prob)', 0.09061974681717783),\n",
       " ('CREL_1:3', 0.08850000000000006),\n",
       " ('CREL_Causer:1->Result:3-MIN(prob)', 0.08816936902171006),\n",
       " ('CREL_3:4', 0.08750000000000006),\n",
       " ('CREL_Causer:4->Result:14-pred-count=2', 0.08600000000000006),\n",
       " ('CREL_Causer:3->Result:4-MIN(prob)', 0.08573029431100157),\n",
       " ('CREL_13:50', 0.08450000000000006),\n",
       " ('Prob-geo-mean', 0.0843659802255161),\n",
       " ('CREL_4:14', 0.08400000000000006),\n",
       " ('CREL_Causer:4->Result:14-MIN(prob)', 0.08297307697685623),\n",
       " ('CREL_Causer:3->Result:50-MIN(prob)', 0.08297048767775053),\n",
       " ('CREL_Causer:4->Result:14-MAX(prob)', 0.08192976595476727),\n",
       " ('CREL_Causer:11->Result:13-MAX(prob)', 0.07840743042282976),\n",
       " ('CREL_1:2', 0.07700000000000005),\n",
       " ('CREL_Causer:1->Result:2-MAX(prob)', 0.07610959679486283),\n",
       " ('Prob-avg-prob', 0.07516702203816407),\n",
       " ('CREL_Causer:1->Result:2-MIN(prob)', 0.07491740883500815),\n",
       " ('CREL_Causer:11->Result:13-MIN(prob)', 0.07431922977866015),\n",
       " ('CREL_11:13', 0.07400000000000005),\n",
       " ('CREL_Causer:4->Result:5-MAX(prob)', 0.07389435002522628),\n",
       " ('CREL_11:12', 0.07300000000000005),\n",
       " ('CREL_12:13', 0.07300000000000005),\n",
       " ('CChain-:6,7,50', 0.07300000000000005),\n",
       " ('CREL_Causer:13->Result:14-MAX(prob)', 0.07297518139252018),\n",
       " ('CREL_Causer:4->Result:5-MIN(prob)', 0.07251480201713299),\n",
       " ('CREL_13:14', 0.07250000000000005),\n",
       " ('CREL_Pair-Causer:6->Result:14|Causer:7->Result:50', 0.07250000000000005),\n",
       " ('Prob-med-prob', 0.07206995973705546)]"
      ]
     },
     "execution_count": 40,
     "metadata": {},
     "output_type": "execute_result"
    }
   ],
   "source": [
    "sorted(best_mdl.weights.items(), key = lambda tpl: -abs(tpl[1]))[0:50]"
   ]
  },
  {
   "cell_type": "markdown",
   "metadata": {},
   "source": [
    "## TODO\n",
    "- num-crels - add back in the logic to threshold these? But only if needed to improve results here (seemed to help essay parser)\n",
    "- Re-run with more realistic initial hyper params\n",
    "- Add in logic to store results to mongo\n",
    "- We need to add hyper parameter tuning\n",
    "- Do we want to just remove the BEAM search from this? It makes the explanation a lot more complex. But then again, it's the only way we can really add more crels that the model wouldn't otherwise parse\n",
    "- Do we use the BEAM search with some de-duping? Although we already de-dupe to some extent anyways\n"
   ]
  },
  {
   "cell_type": "code",
   "execution_count": null,
   "metadata": {},
   "outputs": [],
   "source": []
  }
 ],
 "metadata": {
  "kernelspec": {
   "display_name": "Python [conda env:phd_py36]",
   "language": "python",
   "name": "conda-env-phd_py36-py"
  },
  "language_info": {
   "codemirror_mode": {
    "name": "ipython",
    "version": 3
   },
   "file_extension": ".py",
   "mimetype": "text/x-python",
   "name": "python",
   "nbconvert_exporter": "python",
   "pygments_lexer": "ipython3",
   "version": "3.6.4"
  }
 },
 "nbformat": 4,
 "nbformat_minor": 2
}
