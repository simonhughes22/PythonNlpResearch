{
 "cells": [
  {
   "cell_type": "markdown",
   "metadata": {},
   "source": [
    "1. ~~Merge Mongo collections (TD and VD) from CB Hyper Parameter tuning~~\n",
    "1. Re-compact mongo\n",
    "2. Re-run CB feat selection to grab num_feats (store in a different coll for now to get counts)\n",
    "3. Run feat selection on skin cancer dataset (so we have all of the results up to this point for that)\n",
    "4. Re-run hyper parameter tuning with beam sizes of 1, and 3 and 5"
   ]
  },
  {
   "cell_type": "code",
   "execution_count": null,
   "metadata": {},
   "outputs": [],
   "source": []
  }
 ],
 "metadata": {
  "kernelspec": {
   "display_name": "Python [conda root]",
   "language": "python",
   "name": "conda-root-py"
  },
  "language_info": {
   "codemirror_mode": {
    "name": "ipython",
    "version": 3
   },
   "file_extension": ".py",
   "mimetype": "text/x-python",
   "name": "python",
   "nbconvert_exporter": "python",
   "pygments_lexer": "ipython3",
   "version": "3.6.5"
  }
 },
 "nbformat": 4,
 "nbformat_minor": 2
}
