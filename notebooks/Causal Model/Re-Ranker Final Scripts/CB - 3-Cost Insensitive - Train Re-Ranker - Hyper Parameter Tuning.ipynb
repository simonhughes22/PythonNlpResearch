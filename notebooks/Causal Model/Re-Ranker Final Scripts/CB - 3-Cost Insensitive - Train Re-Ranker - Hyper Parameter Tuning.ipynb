{
 "cells": [
  {
   "cell_type": "code",
   "execution_count": 1,
   "metadata": {},
   "outputs": [],
   "source": [
    "# %load_ext autoreload\n",
    "# %autoreload 2"
   ]
  },
  {
   "cell_type": "code",
   "execution_count": 1,
   "metadata": {},
   "outputs": [],
   "source": [
    "import os\n",
    "import sys\n",
    "cm_folder = \"/Users/simon.hughes/GitHub/NlpResearch/PythonNlpResearch/notebooks/Causal Model/\"\n",
    "src_path = os.path.join(cm_folder, \"src\")\n",
    "sys.path.append(src_path)"
   ]
  },
  {
   "cell_type": "code",
   "execution_count": 24,
   "metadata": {},
   "outputs": [],
   "source": [
    "from typing import Any\n",
    "\n",
    "import dill\n",
    "import numpy as np\n",
    "\n",
    "from CrossValidation import cross_validation\n",
    "from MIRA import MIRA\n",
    "from Settings import Settings\n",
    "\n",
    "from window_based_tagger_config import get_config\n",
    "from crel_helper import get_cr_tags\n",
    "from crel_processing import essay_to_crels_cv\n",
    "from evaluation import evaluate_model_essay_level, get_micro_metrics, metrics_to_df\n",
    "from feature_normalization import min_max_normalize_feats\n",
    "from function_helpers import get_function_names\n",
    "from results_procesor import ResultsProcessor\n",
    "from train_parser import essay_to_crels, create_extractor_functions\n",
    "from cost_functions import micro_f1_cost_plusepsilon\n",
    "from train_reranker import train_model, train_instance, get_essays_for_data, evaluate_ranker\n",
    "from searn_parser_breadth_first import SearnModelBreadthFirst\n",
    "from causal_model_features import CausalModelType\n",
    "from feature_extraction import get_features_from_probabilities\n",
    "from results_procesor import ResultsProcessor\n",
    "from filter_features import filter_feats\n",
    "\n",
    "from wordtagginghelper import merge_dictionaries\n",
    "from results_procesor import ResultsProcessor, __MICRO_F1__\n",
    "from evaluation import add_cr_labels\n",
    "\n",
    "from random import shuffle\n",
    "from joblib import Parallel, delayed\n",
    "from collections import defaultdict"
   ]
  },
  {
   "cell_type": "code",
   "execution_count": 4,
   "metadata": {},
   "outputs": [],
   "source": [
    "def train_model_fold(xs_train, xs_test, name2essay, C, pa_type, max_update_items, set_cr_tags,\\\n",
    "                     initial_weight, max_epochs, early_stop_iters):\n",
    "\n",
    "    mdl = MIRA(\n",
    "        C=C, pa_type=pa_type, max_update_items=max_update_items, initial_weight=initial_weight)\n",
    "\n",
    "    return train_model(mdl, xs_train=xs_train, xs_test=xs_test, name2essay=name2essay,\n",
    "            max_epochs=max_epochs, early_stop_iters=early_stop_iters, set_cr_tags=set_cr_tags,\n",
    "            train_instance_fn=train_instance,\n",
    "            verbose=False, return_metrics=True, early_stopping=False)\n",
    "\n",
    "def train_model_parallel(cv_folds, name2essay, C, pa_type, max_update_items, set_cr_tags, \\\n",
    "                         initial_weight, max_epochs=5, early_stop_iters=5, n_jobs=None):\n",
    "\n",
    "    if n_jobs == None:\n",
    "        n_jobs = len(cv_folds)\n",
    "    try:\n",
    "        results = Parallel(n_jobs=n_jobs)(\n",
    "            delayed(train_model_fold)(train, test, name2essay, C, pa_type, max_update_items, set_cr_tags, \\\n",
    "                                      initial_weight, max_epochs, early_stop_iters)\n",
    "            for (train, test) in cv_folds)\n",
    "\n",
    "        f1s = []\n",
    "        for tpl in results:\n",
    "            best_test_f1, best_iterations, train_ys_bytag, train_pred_ys_bytag, test_ys_bytag, test_pred_ys_bytag, num_feats = tpl\n",
    "            f1s.append(best_test_f1)\n",
    "\n",
    "        return np.mean(f1s)\n",
    "\n",
    "    except KeyboardInterrupt:\n",
    "        print(\"Process stopped by user\")\n",
    "\n",
    "def train_model_parallel_logged(training_collection_name: str, results_processor: ResultsProcessor,\n",
    "                                feat_extractors, params,\n",
    "                                cv_folds, name2essay,\n",
    "                                C: float, pa_type: str, max_update_items:int, set_cr_tags, \\\n",
    "                                initial_weight: float,  max_epochs=5, early_stop_iters=5, n_jobs=None):\n",
    "    if not n_jobs or n_jobs == None:\n",
    "        n_jobs = len(cv_folds)\n",
    "\n",
    "    try:\n",
    "        results = Parallel(n_jobs=n_jobs)(\n",
    "            delayed(train_model_fold)(train, test, name2essay, C, pa_type, max_update_items, set_cr_tags, \\\n",
    "                                      initial_weight, max_epochs, early_stop_iters)\n",
    "            for (train, test) in cv_folds)\n",
    "\n",
    "        cv_sent_td_ys_by_tag, cv_sent_td_predictions_by_tag = defaultdict(list), defaultdict(list)\n",
    "        cv_sent_vd_ys_by_tag, cv_sent_vd_predictions_by_tag = defaultdict(list), defaultdict(list)\n",
    "\n",
    "        f1s = []\n",
    "        feats = []\n",
    "        for tpl in results:\n",
    "            best_test_f1, best_iterations, train_ys_bytag, train_pred_ys_bytag, test_ys_bytag, test_pred_ys_bytag, num_feats = tpl\n",
    "            feats.append(num_feats)\n",
    "            f1s.append(best_test_f1)\n",
    "\n",
    "            merge_dictionaries(train_ys_bytag, cv_sent_td_ys_by_tag)\n",
    "            merge_dictionaries(test_ys_bytag, cv_sent_vd_ys_by_tag)\n",
    "\n",
    "            merge_dictionaries(train_pred_ys_bytag, cv_sent_td_predictions_by_tag)\n",
    "            merge_dictionaries(test_pred_ys_bytag, cv_sent_vd_predictions_by_tag)\n",
    "\n",
    "\n",
    "        ALGO = \"MIRA Re-Ranker\"\n",
    "        validation_collection = training_collection_name.replace(\"_TD\", \"_VD\")\n",
    "\n",
    "        # extractors = list(map(lambda fn: fn.func_name, feat_extractors))\n",
    "        extractors = list(feat_extractors)\n",
    "\n",
    "        parameters = {\n",
    "            \"C\":                    C,\n",
    "            \"pa_type\":              pa_type,\n",
    "            \"loss_type\":            \"None - cost insens\",\n",
    "            \"max_update_items\":     max_update_items,\n",
    "            \"initial_weight\":       initial_weight,\n",
    "\n",
    "            \"max_epochs\":           max_epochs,\n",
    "            \"early_stopping_iters\": early_stop_iters,\n",
    "\n",
    "            \"extractors\":           extractors,\n",
    "\n",
    "            # Add in number of features\n",
    "            \"num_feats_per_fold\":   feats,\n",
    "            \"num_feats_MEAN\":       np.mean(feats)\n",
    "        }\n",
    "        # add in additional parameters not passed in\n",
    "        parameters.update(params)\n",
    "\n",
    "        wd_td_objectid = results_processor.persist_results(training_collection_name,\n",
    "                                                           cv_sent_td_ys_by_tag,\n",
    "                                                           cv_sent_td_predictions_by_tag,\n",
    "                                                           parameters, ALGO)\n",
    "\n",
    "        wd_vd_objectid = results_processor.persist_results(validation_collection,\n",
    "                                                           cv_sent_vd_ys_by_tag,\n",
    "                                                           cv_sent_vd_predictions_by_tag,\n",
    "                                                           parameters, ALGO)\n",
    "\n",
    "        avg_f1 = float(results_processor.get_metric(validation_collection, wd_vd_objectid, __MICRO_F1__)[\"f1_score\"])\n",
    "        return avg_f1\n",
    "\n",
    "    except KeyboardInterrupt:\n",
    "        print(\"Process stopped by user\")"
   ]
  },
  {
   "cell_type": "code",
   "execution_count": 5,
   "metadata": {},
   "outputs": [
    {
     "name": "stdout",
     "output_type": "stream",
     "text": [
      "Results Dir: /Users/simon.hughes/Google Drive/Phd/Results/\n",
      "Data Dir:    /Users/simon.hughes/Google Drive/Phd/Data/\n",
      "Root Dir:    /Users/simon.hughes/GitHub/NlpResearch/\n",
      "Public Data: /Users/simon.hughes/GitHub/NlpResearch/Data/PublicDatasets/\n",
      "902 226\n"
     ]
    }
   ],
   "source": [
    "# Data Set Partition\n",
    "CV_FOLDS = 5\n",
    "MIN_FEAT_FREQ = 5\n",
    "\n",
    "# Global settings\n",
    "settings = Settings()\n",
    "CAUSAL_MODEL_TYPE = CausalModelType.CORAL_BLEACHING\n",
    "root_folder = settings.data_directory + \"CoralBleaching/Thesis_Dataset/\"\n",
    "training_folder = root_folder + \"Training\" + \"/\"\n",
    "test_folder = root_folder + \"Test\" + \"/\"\n",
    "\n",
    "crels_folder = \"./crels/CB\"\n",
    "coref_root = root_folder + \"CoReference/\"\n",
    "coref_output_folder = coref_root + \"CRel/\"\n",
    "\n",
    "MONGO_COLLECTION = \"CB_COST_INSENS_RE-RANKER_HYPER_PARAM_TD\"\n",
    "MONGO_TEST_COLLECTION = \"TEST_CB_COST_INSENS_RE-RANKER_TD\"\n",
    "# first and second were with initial_weight set to 1.0\n",
    "# thrid is with set to 0.001\n",
    "\n",
    "config = get_config(training_folder)\n",
    "results_processor = ResultsProcessor(dbname=\"metrics_causal_model_reranker\")\n",
    "\n",
    "train_fname = coref_output_folder + \"training_crel_anatagged_essays_most_recent_code.dill\"\n",
    "with open(train_fname, \"rb\") as f:\n",
    "    pred_tagged_essays_train = dill.load(f)\n",
    "\n",
    "test_fname = coref_output_folder + \"test_crel_anatagged_essays_most_recent_code.dill\"\n",
    "with open(test_fname, \"rb\") as f:\n",
    "    pred_tagged_essays_test = dill.load(f)\n",
    "\n",
    "print(len(pred_tagged_essays_train), len(pred_tagged_essays_test))"
   ]
  },
  {
   "cell_type": "code",
   "execution_count": 6,
   "metadata": {},
   "outputs": [
    {
     "data": {
      "text/plain": [
       "['Causer:5->Result:14',\n",
       " 'Causer:1->Result:3',\n",
       " 'Causer:50->Result:3',\n",
       " 'Causer:1->Result:11',\n",
       " 'Causer:4->Result:6',\n",
       " 'Causer:11->Result:1',\n",
       " 'Causer:6->Result:5',\n",
       " 'Causer:2->Result:4',\n",
       " 'Causer:50->Result:1',\n",
       " 'Causer:50->Result:50']"
      ]
     },
     "execution_count": 6,
     "metadata": {},
     "output_type": "execute_result"
    }
   ],
   "source": [
    "cr_tags = get_cr_tags(train_tagged_essays=pred_tagged_essays_train, tag_essays_test=pred_tagged_essays_test)\n",
    "\n",
    "set_cr_tags = set(cr_tags)\n",
    "list(set_cr_tags)[0:10]"
   ]
  },
  {
   "cell_type": "code",
   "execution_count": 7,
   "metadata": {},
   "outputs": [],
   "source": [
    "all_essays = pred_tagged_essays_train + pred_tagged_essays_test\n",
    "name2essay = {}\n",
    "for essay in all_essays:\n",
    "    name2essay[essay.name] = essay\n",
    "\n",
    "name2crels = essay_to_crels(all_essays, set_cr_tags)\n",
    "assert len(name2crels) == len(all_essays)"
   ]
  },
  {
   "cell_type": "markdown",
   "metadata": {},
   "source": [
    "# Train Re-Ranker"
   ]
  },
  {
   "cell_type": "markdown",
   "metadata": {},
   "source": [
    "## Extract Parses from Sentence Parser"
   ]
  },
  {
   "cell_type": "code",
   "execution_count": 8,
   "metadata": {},
   "outputs": [],
   "source": [
    "best_top_n = 2\n",
    "min_feat_freq = 1\n",
    "best_max_upd = 2 \n",
    "best_max_parses = 300\n",
    "best_min_prob = 0.0  # min prob of 0 seems better"
   ]
  },
  {
   "cell_type": "code",
   "execution_count": 9,
   "metadata": {},
   "outputs": [],
   "source": [
    "def load_rerank(top_n):\n",
    "    rr_fname = \"xs_rerank_\" + str(top_n) + \".dill\"\n",
    "    with open(os.path.join(crels_folder, rr_fname), \"rb\") as f:\n",
    "        xs_rerank = dill.load(f)\n",
    "\n",
    "    rr_fname = \"xs_rerank_test\" + str(top_n) + \".dill\"\n",
    "    with open(os.path.join(crels_folder, rr_fname), \"rb\") as f:\n",
    "        xs_test_rerank = dill.load(f)\n",
    "    return xs_rerank, xs_test_rerank"
   ]
  },
  {
   "cell_type": "markdown",
   "metadata": {},
   "source": [
    "## Prepare Features"
   ]
  },
  {
   "cell_type": "code",
   "execution_count": 10,
   "metadata": {},
   "outputs": [
    {
     "data": {
      "text/plain": [
       "(300, 1, 0.0)"
      ]
     },
     "execution_count": 10,
     "metadata": {},
     "output_type": "execute_result"
    }
   ],
   "source": [
    "best_max_parses, min_feat_freq, best_min_prob"
   ]
  },
  {
   "cell_type": "code",
   "execution_count": 11,
   "metadata": {},
   "outputs": [],
   "source": [
    "prefixes = [\n",
    "    \"Prob-\",\n",
    "#     \"CREL_Pair-\",\n",
    "    \"Inv-\",\n",
    "    \"num_crels\",\n",
    "    \"Tally-\",\n",
    "    \"CChain-\",\n",
    "    \"CChainStats-\",\n",
    "    \"Above-\",\n",
    "    \"CREL_\",\n",
    "    \"Propn_\",\n",
    "    \"Diff_\"\n",
    "]\n",
    "\n",
    "# Results from run 3\n",
    "current_best = ['CREL_', 'Prob-', 'CChainStats-']\n",
    "best_iterations = 3\n",
    "\n",
    "# default params (not all of these are optimized)\n",
    "params = {\n",
    "    \"best_top_n\": best_top_n,\n",
    "#     \"best_max_upd\": best_max_upd,\n",
    "    \"best_max_parses\": best_max_parses,\n",
    "    \"best_min_prob\": best_min_prob,\n",
    "    \"min_feat_freq\": min_feat_freq\n",
    "}"
   ]
  },
  {
   "cell_type": "markdown",
   "metadata": {},
   "source": [
    "### Load Param Hash (avoid re-running same experiment multiple times)"
   ]
  },
  {
   "cell_type": "code",
   "execution_count": 12,
   "metadata": {},
   "outputs": [],
   "source": [
    "vals = (\"C\", \"best_max_parses\", \n",
    "        #\"best_max_upd\", \n",
    "        \"max_update_items\", \n",
    "        \"best_min_prob\", \"best_top_n\", \"extractors\", \"initial_weight\",\\\n",
    "        \"min_feat_freq\", \"pa_type\")\n",
    "\n",
    "def hash_params(params):\n",
    "    p = dict()\n",
    "    # only copy over white list vals\n",
    "    for v in vals:\n",
    "        p[v] = params[v]\n",
    "    return str(sorted(p.items())).replace(\" \",\"\")\n",
    "\n",
    "def load_param_hash(db, collection):\n",
    "    project = {\n",
    "        \"params\": \"$parameters\",\n",
    "#         \"asof\":   \"$asof\",\n",
    "        \"_id\": 1\n",
    "    }\n",
    "    feats_pipeline = [{ \"$project\": project }]\n",
    "    rows = [row for row in db[collection].aggregate(feats_pipeline)]\n",
    "    print(\"len(rows)\", len(rows))\n",
    "    param_hash = set()\n",
    "    for r in rows:\n",
    "        param_hash.add(hash_params(r[\"params\"]))\n",
    "    return param_hash"
   ]
  },
  {
   "cell_type": "code",
   "execution_count": 13,
   "metadata": {},
   "outputs": [
    {
     "name": "stdout",
     "output_type": "stream",
     "text": [
      "len(rows) 0\n"
     ]
    },
    {
     "data": {
      "text/plain": [
       "(0, 'CB_COST_INSENS_RE-RANKER_HYPER_PARAM_TD')"
      ]
     },
     "execution_count": 13,
     "metadata": {},
     "output_type": "execute_result"
    }
   ],
   "source": [
    "import pymongo\n",
    "\n",
    "client = pymongo.MongoClient(serverSelectionTimeoutMS=100, host=\"127.0.0.1\")\n",
    "param_hash = load_param_hash(client.metrics_causal_model_reranker, MONGO_COLLECTION)\n",
    "len(param_hash), MONGO_COLLECTION"
   ]
  },
  {
   "cell_type": "code",
   "execution_count": 14,
   "metadata": {},
   "outputs": [],
   "source": [
    "# %%time\n",
    "\n",
    "# topn2cvfolds_mm = dict()\n",
    "# # store raw feats j.i.c (expensive to compute)\n",
    "# topn2feats = dict()\n",
    "\n",
    "# for top_n in [1,2,3,5,10]:\n",
    "    \n",
    "#     topn2rerank[top_n], topn2rerank_test[top_n] = load_rerank(top_n)\n",
    "    \n",
    "#     xs_rr = topn2rerank[top_n]\n",
    "#     xs_temp = get_features_from_probabilities(xs_rr, name2crels, best_max_parses, \n",
    "#                                      causal_model_type=CAUSAL_MODEL_TYPE,\n",
    "#                                      min_feat_freq=min_feat_freq, min_prob=best_min_prob)\n",
    "    \n",
    "#     cv_flds_rr = cross_validation(xs_temp, 5)\n",
    "#     topn2feats[top_n] = cv_flds_rr\n",
    "    \n",
    "#     cv_flds_mm = [min_max_normalize_feats(train, test) for (train, test) in cv_flds_rr]\n",
    "    \n",
    "#     cv_filtered = []\n",
    "#     for tr, test in cv_flds_mm:\n",
    "#         x_tr,x_test = filter_feats(tr, test, current_best)\n",
    "#         cv_filtered.append((x_tr,x_test))\n",
    "    \n",
    "#     topn2cvfolds_mm[top_n] = cv_filtered\n",
    "    \n",
    "# #     xs_tst_rr = topn2rerank_test[top_n]\n",
    "# #     xs_tst = get_features_from_probabilities(xs_tst_rr, name2crels, best_max_parses, \n",
    "# #                                           causal_model_type=CAUSAL_MODEL_TYPE,\n",
    "# #                                           min_feat_freq=min_feat_freq, min_prob=best_min_prob)\n",
    "# #     # Store feats for later, just in case\n",
    "# #     topn2feats[top_n] = (xs_temp, xs_tst)\n",
    "    \n",
    "# #     # build up training data for the test dataset using the CV held out folds from the training data\n",
    "# #     # but before doing feat normalization\n",
    "# #     xs_train_tmp = []\n",
    "# #     for train, test in cv_flds_rr:\n",
    "# #         xs_train_tmp.extend(test)\n",
    "\n",
    "# #     xs_tr_mm, xs_tst_mm = min_max_normalize_feats(xs_train_tmp, xs_tst)\n",
    "# #     topn2cvfolds_mm_test[top_n] = [(xs_tr_mm, xs_tst_mm)]"
   ]
  },
  {
   "cell_type": "code",
   "execution_count": 15,
   "metadata": {},
   "outputs": [
    {
     "data": {
      "text/plain": [
       "('CB_COST_INSENS_RE-RANKER_HYPER_PARAM_TD', 3)"
      ]
     },
     "execution_count": 15,
     "metadata": {},
     "output_type": "execute_result"
    }
   ],
   "source": [
    "MONGO_COLLECTION, best_iterations"
   ]
  },
  {
   "cell_type": "markdown",
   "metadata": {},
   "source": [
    "# Hyper Parameter Optimization"
   ]
  },
  {
   "cell_type": "code",
   "execution_count": 16,
   "metadata": {},
   "outputs": [
    {
     "data": {
      "text/plain": [
       "datetime.datetime(2019, 6, 23, 12, 9, 36, 392557)"
      ]
     },
     "execution_count": 16,
     "metadata": {},
     "output_type": "execute_result"
    }
   ],
   "source": [
    "import datetime\n",
    "datetime.datetime.now()"
   ]
  },
  {
   "cell_type": "code",
   "execution_count": 17,
   "metadata": {},
   "outputs": [],
   "source": [
    "best_f1 = -1\n",
    "# best_f1 = 0.7457"
   ]
  },
  {
   "cell_type": "code",
   "execution_count": 18,
   "metadata": {},
   "outputs": [],
   "source": [
    "# Form a closure to simplify loop\n",
    "def trn_mdl(top_n, prms, cv_filtrd):\n",
    "    \n",
    "    global best_f1, best_C, pa_type, best_max_upd, initial_weight\n",
    "    \n",
    "    n_jobs = None\n",
    "    # Uses too much RAM, drop to single threaded\n",
    "    if top_n > 3:        \n",
    "        n_jobs = 1\n",
    "    \n",
    "    f1 = train_model_parallel_logged(\n",
    "        training_collection_name=MONGO_COLLECTION, results_processor=results_processor,\n",
    "        feat_extractors=current_best, params=prms,\n",
    "\n",
    "        cv_folds=cv_filtrd, name2essay=name2essay, \n",
    "        C=best_C, pa_type=pa_type, max_update_items=best_max_upd, initial_weight=initial_weight,\n",
    "        set_cr_tags=set_cr_tags,\n",
    "        # use best iterations from above\n",
    "        max_epochs=best_iterations, early_stop_iters=best_iterations,\n",
    "        n_jobs=n_jobs\n",
    "    )\n",
    "    if f1 > best_f1:\n",
    "        best_f1 = f1\n",
    "        print(\"New Best F1: {f1:.6f}:\\t{params}\".format(f1=f1, params=\\\n",
    "                                                       str((top_n, best_C, pa_type, best_max_upd, initial_weight))))\n",
    "    else:\n",
    "        print(\"         F1: {f1:.6f}:\\t{params}\".format(f1=f1, params=\\\n",
    "                                                       str((top_n, best_C, pa_type, best_max_upd, initial_weight))))"
   ]
  },
  {
   "cell_type": "code",
   "execution_count": null,
   "metadata": {},
   "outputs": [
    {
     "name": "stdout",
     "output_type": "stream",
     "text": [
      "len(rows) 1\n",
      "top_n 2\n",
      ".\n",
      "         F1: 0.729505:\t(2, 0.0005, 2, 1, 0.01)\n",
      "         F1: 0.724778:\t(2, 0.0025, 1, 1, 0.01)\n",
      "         F1: 0.727309:\t(2, 0.0025, 2, 1, 0.01)\n",
      "New Best F1: 0.732591:\t(2, 0.01, 1, 1, 0.01)\n",
      "         F1: 0.730584:\t(2, 0.01, 2, 1, 0.01)\n",
      "New Best F1: 0.734815:\t(2, 0.1, 1, 1, 0.01)\n",
      "         F1: 0.725671:\t(2, 0.1, 2, 1, 0.01)\n",
      "top_n 5\n",
      "         F1: 0.727237:\t(5, 0.0005, 1, 1, 0.01)\n",
      "         F1: 0.722649:\t(5, 0.0005, 2, 1, 0.01)\n",
      "         F1: 0.718399:\t(5, 0.0025, 1, 1, 0.01)\n",
      "         F1: 0.720851:\t(5, 0.0025, 2, 1, 0.01)\n",
      "         F1: 0.724311:\t(5, 0.01, 1, 1, 0.01)\n",
      "         F1: 0.729129:\t(5, 0.01, 2, 1, 0.01)\n",
      "         F1: 0.732238:\t(5, 0.1, 1, 1, 0.01)\n",
      "         F1: 0.720958:\t(5, 0.1, 2, 1, 0.01)\n",
      "top_n 3\n",
      "         F1: 0.727525:\t(3, 0.0005, 1, 1, 0.01)\n"
     ]
    }
   ],
   "source": [
    "param_hash = load_param_hash(client.metrics_causal_model_reranker, MONGO_COLLECTION)\n",
    "\n",
    "for top_n in [2,5,3,1]:\n",
    "    \n",
    "    print(\"top_n\", top_n)\n",
    "    xs_rr, _ = load_rerank(top_n)\n",
    "    xs_temp = get_features_from_probabilities(xs_rr, name2crels, best_max_parses, \n",
    "                                     causal_model_type=CAUSAL_MODEL_TYPE,\n",
    "                                     min_feat_freq=min_feat_freq, min_prob=best_min_prob)\n",
    "    \n",
    "    cv_flds_rr = cross_validation(xs_temp, 5)\n",
    "    cv_flds_mm = [min_max_normalize_feats(train, test) for (train, test) in cv_flds_rr]\n",
    "    \n",
    "    cv_filtered = []\n",
    "    for tr, test in cv_flds_mm:\n",
    "        x_tr,x_test = filter_feats(tr, test, current_best)\n",
    "        cv_filtered.append((x_tr,x_test))\n",
    "    \n",
    "    skipped = False\n",
    "    for best_C in [0.0005, 0.0025, 0.0100, 0.1]:\n",
    "        for pa_type in [1,2]: # [0]\n",
    "            for best_max_upd in [1]:\n",
    "                for initial_weight in [0.01]:                        \n",
    "                    p = {'C': best_C,\n",
    "                         'best_max_parses': best_max_parses,\n",
    "                         'best_min_prob': best_min_prob,\n",
    "                         'best_top_n': top_n,\n",
    "                         'extractors': list(current_best),\n",
    "                         'initial_weight': initial_weight,\n",
    "                         'max_update_items': best_max_upd,\n",
    "                         'min_feat_freq': min_feat_freq,\n",
    "                         'pa_type': pa_type\n",
    "                    }\n",
    "                    hash_p = hash_params(p)\n",
    "                    if hash_p in param_hash:\n",
    "                        print(\".\", end = '')\n",
    "                        skipped = True\n",
    "                        continue\n",
    "                    if skipped:\n",
    "                        print()\n",
    "                    trn_mdl(top_n, p, cv_filtered)\n",
    "                    skipped = False\n",
    "\n",
    "# top_n, best_C, pa_type, best_max_upd, initial_weight"
   ]
  },
  {
   "cell_type": "markdown",
   "metadata": {},
   "source": [
    "## Apply to Test Data"
   ]
  },
  {
   "cell_type": "code",
   "execution_count": null,
   "metadata": {},
   "outputs": [],
   "source": [
    "min_feat_freq, best_min_prob"
   ]
  },
  {
   "cell_type": "markdown",
   "metadata": {},
   "source": [
    "### Set Optimal Features"
   ]
  },
  {
   "cell_type": "code",
   "execution_count": 21,
   "metadata": {},
   "outputs": [],
   "source": [
    "# f1_score\tprecision\trecall\t    best_top_n\tC\t     best_max_parses\tmax_update_items\tinitial_weight\tloss_type\tpa_type\n",
    "# 0.746014\t0.777294\t0.717153\t2\t        0.0025\t300\t                1\t                0.01\t        ml        \t1\n",
    "\n",
    "# # current best settings\n",
    "# C=best_C, pa_type=pa_type, max_update_items=best_max_upd, initial_weight=initial_weight,\n",
    "top_n = 2\n",
    "best_C = 0.0025\n",
    "best_max_upd = 1\n",
    "max_update_items = 1\n",
    "initial_weight = 0.01\n",
    "pa_type = 1"
   ]
  },
  {
   "cell_type": "code",
   "execution_count": 23,
   "metadata": {},
   "outputs": [],
   "source": [
    "xs_rr, xs_tst_rr = load_rerank(top_n)\n",
    "xs_temp = get_features_from_probabilities(xs_rr, name2crels, best_max_parses, \n",
    "                                 causal_model_type=CAUSAL_MODEL_TYPE,\n",
    "                                 min_feat_freq=min_feat_freq, min_prob=best_min_prob)\n",
    "\n",
    "# Don't need CV here, but leave it in anyways\n",
    "cv_flds_rr = cross_validation(xs_temp, 5)    \n",
    "xs_test = get_features_from_probabilities(xs_tst_rr, name2crels, best_max_parses, \n",
    "                                      causal_model_type=CAUSAL_MODEL_TYPE,\n",
    "                                      min_feat_freq=min_feat_freq, min_prob=best_min_prob)\n",
    "xs_train_tmp = []\n",
    "for train, test in cv_flds_rr:\n",
    "    xs_train_tmp.extend(test)\n",
    "\n",
    "xs_train_mm, xs_test_mm = min_max_normalize_feats(xs_train_tmp, xs_test)\n",
    "# Filter at the end\n",
    "xs_train_mm_fltr, xs_test_mm_fltr = filter_feats(xs_train_mm, xs_test_mm, current_best) "
   ]
  },
  {
   "cell_type": "markdown",
   "metadata": {},
   "source": [
    "### Determine the Optimal Number of Training Iterations"
   ]
  },
  {
   "cell_type": "code",
   "execution_count": 24,
   "metadata": {},
   "outputs": [],
   "source": [
    "# tuning dataset from training data\n",
    "num_train = int(0.8 * len(xs_train_mm_fltr))\n",
    "tmp_train_copy = list(xs_train_mm_fltr)\n",
    "np.random.shuffle(tmp_train_copy)\n",
    "tmp_train, tmp_test = tmp_train_copy[:num_train], tmp_train_copy[num_train:]"
   ]
  },
  {
   "cell_type": "code",
   "execution_count": 26,
   "metadata": {},
   "outputs": [
    {
     "name": "stdout",
     "output_type": "stream",
     "text": [
      "Epoch: 0 Train Accuracy: 0.7475 Test Accuracy: 0.7306\n",
      "Epoch: 1 Train Accuracy: 0.7488 Test Accuracy: 0.7326\n",
      "Epoch: 2 Train Accuracy: 0.7509 Test Accuracy: 0.7335\n",
      "Epoch: 3 Train Accuracy: 0.7525 Test Accuracy: 0.7367\n",
      "Epoch: 4 Train Accuracy: 0.7538 Test Accuracy: 0.7369\n",
      "Epoch: 5 Train Accuracy: 0.7558 Test Accuracy: 0.7377\n",
      "Epoch: 6 Train Accuracy: 0.7563 Test Accuracy: 0.7384\n",
      "Epoch: 7 Train Accuracy: 0.7571 Test Accuracy: 0.7384\n",
      "Epoch: 8 Train Accuracy: 0.7574 Test Accuracy: 0.7371\n",
      "Epoch: 9 Train Accuracy: 0.7573 Test Accuracy: 0.7379\n",
      "Best Test Acc: 0.7384\n",
      "CPU times: user 1min 48s, sys: 542 ms, total: 1min 49s\n",
      "Wall time: 1min 49s\n"
     ]
    }
   ],
   "source": [
    "%%time\n",
    "mdl = MIRA(C=best_C, pa_type=pa_type,\n",
    "                        max_update_items=best_max_upd, initial_weight=initial_weight)\n",
    "# Determine number of training iterations\n",
    "best_mdl, test_acc_df_ml, best_iterations = train_model(mdl, xs_train=tmp_train, xs_test=tmp_test, name2essay=name2essay, set_cr_tags=set_cr_tags,\n",
    "     max_epochs=20, early_stop_iters=3, train_instance_fn = train_instance,\n",
    "                                                        verbose=True,  early_stopping=True)"
   ]
  },
  {
   "cell_type": "code",
   "execution_count": 27,
   "metadata": {},
   "outputs": [
    {
     "data": {
      "text/plain": [
       "7"
      ]
     },
     "execution_count": 27,
     "metadata": {},
     "output_type": "execute_result"
    }
   ],
   "source": [
    "best_iterations"
   ]
  },
  {
   "cell_type": "markdown",
   "metadata": {},
   "source": [
    "## Run for X Iterations on the Test Dataset"
   ]
  },
  {
   "cell_type": "code",
   "execution_count": 28,
   "metadata": {},
   "outputs": [
    {
     "data": {
      "text/plain": [
       "(0.0025, 1, 'ml', 1, 0.01)"
      ]
     },
     "execution_count": 28,
     "metadata": {},
     "output_type": "execute_result"
    }
   ],
   "source": [
    "best_C, pa_type, best_max_upd, initial_weight"
   ]
  },
  {
   "cell_type": "code",
   "execution_count": 29,
   "metadata": {},
   "outputs": [
    {
     "name": "stdout",
     "output_type": "stream",
     "text": [
      "Epoch: 0 Train Accuracy: 0.7440 Test Accuracy: 0.7440\n",
      "Epoch: 1 Train Accuracy: 0.7475 Test Accuracy: 0.7455\n",
      "Epoch: 2 Train Accuracy: 0.7496 Test Accuracy: 0.7437\n",
      "Epoch: 3 Train Accuracy: 0.7511 Test Accuracy: 0.7434\n",
      "Epoch: 4 Train Accuracy: 0.7535 Test Accuracy: 0.7441\n",
      "Epoch: 5 Train Accuracy: 0.7545 Test Accuracy: 0.7436\n",
      "Epoch: 6 Train Accuracy: 0.7542 Test Accuracy: 0.7436\n",
      "Best Test Acc: 0.7455\n"
     ]
    },
    {
     "data": {
      "text/plain": [
       "7"
      ]
     },
     "execution_count": 29,
     "metadata": {},
     "output_type": "execute_result"
    }
   ],
   "source": [
    "mdl = MIRA(C=best_C, pa_type=pa_type, \n",
    "                        max_update_items=best_max_upd, initial_weight=initial_weight)\n",
    "\n",
    "best_mdl, test_acc_df_ml,_ = train_model(mdl,  \n",
    "    xs_train=xs_train_mm_fltr, xs_test=xs_test_mm_fltr,\n",
    "    name2essay=name2essay, set_cr_tags=set_cr_tags,\n",
    "    max_epochs=best_iterations, early_stop_iters=best_iterations,\n",
    "    train_instance_fn = train_instance, verbose=True, early_stopping=False)\n",
    "\n",
    "# Best Test Acc: 0.7516\n",
    "best_iterations"
   ]
  },
  {
   "cell_type": "code",
   "execution_count": 37,
   "metadata": {},
   "outputs": [
    {
     "data": {
      "text/plain": [
       "[('Prob-prod-prob', 0.22593243851478426),\n",
       " ('CREL_Pair-Causer:1->Result:50|Causer:5->Result:50', 0.15250000000000008),\n",
       " ('CREL_7:50', 0.1515972577524147),\n",
       " ('CREL_3:50', 0.14626032239120149),\n",
       " ('Prob-min-prob', 0.1458368607655716)]"
      ]
     },
     "execution_count": 37,
     "metadata": {},
     "output_type": "execute_result"
    }
   ],
   "source": [
    "sorted(best_mdl.weights.items(), key = lambda tpl: -abs(tpl[1]))[0:5]"
   ]
  },
  {
   "cell_type": "code",
   "execution_count": 32,
   "metadata": {},
   "outputs": [
    {
     "data": {
      "text/plain": [
       "0.742960944595822"
      ]
     },
     "execution_count": 32,
     "metadata": {},
     "output_type": "execute_result"
    }
   ],
   "source": [
    "test_folds = [(xs_train_mm_fltr, xs_test_mm_fltr)]\n",
    "\n",
    "params = {\n",
    "    'C': best_C,\n",
    "    'best_max_parses': best_max_parses,\n",
    "    'best_min_prob': best_min_prob,\n",
    "    'best_top_n': top_n,\n",
    "    'extractors': list(current_best),\n",
    "    'initial_weight': initial_weight,\n",
    "    'max_update_items': best_max_upd,\n",
    "    'min_feat_freq': min_feat_freq,\n",
    "    'pa_type': pa_type\n",
    "}\n",
    "\n",
    "test_f1 = train_model_parallel_logged(\n",
    "        training_collection_name=MONGO_TEST_COLLECTION, results_processor=results_processor,\n",
    "        feat_extractors=current_best, params=params,\n",
    "\n",
    "        cv_folds=test_folds, \n",
    "        \n",
    "        name2essay=name2essay, \n",
    "        C=best_C, pa_type=pa_type, max_update_items=best_max_upd, initial_weight=initial_weight,\n",
    "        set_cr_tags=set_cr_tags,\n",
    "        # use best iterations from above\n",
    "        max_epochs=best_iterations, early_stop_iters=best_iterations\n",
    "    )\n",
    "test_f1"
   ]
  },
  {
   "cell_type": "markdown",
   "metadata": {},
   "source": [
    "## TODO\n",
    "\n",
    "### Ideas\n",
    "- ~~num-crels - add back in the logic to threshold these? But only if needed to improve results here (seemed to help essay parser)~~\n",
    "- ~~Re-run with more realistic initial hyper params~~\n",
    "- ~~Add in logic to store results to mongo~~\n",
    "- ~~Switch back to using an initial_weight of 1~~\n",
    "- Approach seems very sensitive to the initial configuration of the algorithm. However, it also seems correlated to the training data performance on the first epoch. Run the algorithm multiple times, take the model with the best training performance and use that as the final selected model to train futher.\n",
    "- We need to add hyper parameter tuning\n",
    "- Do we want to just remove the BEAM search from this? It makes the explanation a lot more complex. But then again, it's the only way we can really add more crels that the model wouldn't otherwise parse\n",
    "- Do we use the BEAM search with some de-duping? Although we already de-dupe to some extent anyways\n",
    "\n",
    "### Needed to Finish\n",
    "- Record run on test data - needs optimal hyper parameters first"
   ]
  },
  {
   "cell_type": "code",
   "execution_count": null,
   "metadata": {},
   "outputs": [],
   "source": []
  }
 ],
 "metadata": {
  "kernelspec": {
   "display_name": "Python [conda env:phd_py36]",
   "language": "python",
   "name": "conda-env-phd_py36-py"
  },
  "language_info": {
   "codemirror_mode": {
    "name": "ipython",
    "version": 3
   },
   "file_extension": ".py",
   "mimetype": "text/x-python",
   "name": "python",
   "nbconvert_exporter": "python",
   "pygments_lexer": "ipython3",
   "version": "3.6.4"
  }
 },
 "nbformat": 4,
 "nbformat_minor": 2
}
