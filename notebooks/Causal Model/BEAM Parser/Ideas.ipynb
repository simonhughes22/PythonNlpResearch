{
 "cells": [
  {
   "cell_type": "markdown",
   "metadata": {},
   "source": [
    "# To Try\n",
    "- Try leveraging the structure of the causal model itself, i.e. how many hops along the CM on average, max for the learned CM? This requires encoding the graph itself as a feature\n",
    "- How many terminal causal relations? i.e. starting at the start of one chain or other, and ending at the end of the chain?\n",
    "- Does the causal model span the length of the chain (even as it skips nodes)? i.e does it go 1->5->50? That means does it connect a starting node with one or more intermediary nodes and the terminal node (or start to end)\n",
    "- How many nodes are skipped - is this the same as the average nodes between feature?\n",
    "- Each Causal Model is basically a Y shape with 2 different paths, coming together in a final combined section. Which parts of this are covered in the essay? i.e. which branch? How many different branches? Is the final section partially completed?\n",
    "- Will need to be a parameter that is passed in that differs between the 2 models"
   ]
  },
  {
   "cell_type": "code",
   "execution_count": null,
   "metadata": {},
   "outputs": [],
   "source": []
  }
 ],
 "metadata": {
  "kernelspec": {
   "display_name": "Python [conda env:phd_py36]",
   "language": "python",
   "name": "conda-env-phd_py36-py"
  },
  "language_info": {
   "codemirror_mode": {
    "name": "ipython",
    "version": 3
   },
   "file_extension": ".py",
   "mimetype": "text/x-python",
   "name": "python",
   "nbconvert_exporter": "python",
   "pygments_lexer": "ipython3",
   "version": "3.6.4"
  }
 },
 "nbformat": 4,
 "nbformat_minor": 2
}
