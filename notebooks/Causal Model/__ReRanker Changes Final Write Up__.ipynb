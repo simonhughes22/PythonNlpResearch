{
 "cells": [
  {
   "cell_type": "markdown",
   "metadata": {},
   "source": [
    "# TODO For Final Write Up Results\n",
    "1. Store output of sentence level parser for later re-use\n",
    "2. Re-write notebooks to store results to mongo\n",
    "3. Do feature selection and then hyper parameter tuning\n",
    " * This means picking reasonable default hyper params we want to change slightly due to hyper parameter tuning\n",
    " \n",
    "### Other considerations\n",
    "* May want to try a few other runs with different model types to show advs of cost sensitive approach\n",
    "* "
   ]
  },
  {
   "cell_type": "code",
   "execution_count": null,
   "metadata": {},
   "outputs": [],
   "source": []
  }
 ],
 "metadata": {
  "kernelspec": {
   "display_name": "Python [conda env:phd_py36]",
   "language": "python",
   "name": "conda-env-phd_py36-py"
  },
  "language_info": {
   "codemirror_mode": {
    "name": "ipython",
    "version": 3
   },
   "file_extension": ".py",
   "mimetype": "text/x-python",
   "name": "python",
   "nbconvert_exporter": "python",
   "pygments_lexer": "ipython3",
   "version": "3.6.4"
  }
 },
 "nbformat": 4,
 "nbformat_minor": 2
}
