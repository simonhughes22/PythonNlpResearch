{
 "cells": [
  {
   "cell_type": "markdown",
   "metadata": {},
   "source": [
    "# TODO For Final Write Up Results\n",
    "1. Store output of sentence level parser for later re-use\n",
    "2. Re-write notebooks to store all results in mongo\n",
    "3. Do feature selection and then hyper parameter tuning\n",
    " * This means picking reasonable default hyper params we want to change slightly due to hyper parameter tuning\n",
    " \n",
    "### Other Considerations\n",
    "* May want to try a few other runs with different model types to show advs of cost sensitive approach\n",
    "* **REPRODUCIBILITY** - set a seed before training MIRA model"
   ]
  },
  {
   "cell_type": "markdown",
   "metadata": {},
   "source": [
    "## Hyper Parameter Tuning\n",
    "- We can probably ignore a few settings, including the 'best_top_n' which relates to the BEAM size \n",
    " - So ignore the beam parser, doesn't add much value\n",
    "- Ignore the min probability (of a crel being included), also doesn't add value"
   ]
  },
  {
   "cell_type": "markdown",
   "metadata": {},
   "source": [
    "## Algorithm Design\n",
    "1. Generate possible causal relations with probabilities\n",
    " - Use a sentence level S-R parser model using optimal feats and hyper params from RQ 2\n",
    " - Modify it so at inference time only it can act like a BEAM parser\n",
    " "
   ]
  },
  {
   "cell_type": "code",
   "execution_count": null,
   "metadata": {},
   "outputs": [],
   "source": []
  }
 ],
 "metadata": {
  "kernelspec": {
   "display_name": "Python [conda env:phd_py36]",
   "language": "python",
   "name": "conda-env-phd_py36-py"
  },
  "language_info": {
   "codemirror_mode": {
    "name": "ipython",
    "version": 3
   },
   "file_extension": ".py",
   "mimetype": "text/x-python",
   "name": "python",
   "nbconvert_exporter": "python",
   "pygments_lexer": "ipython3",
   "version": "3.6.4"
  }
 },
 "nbformat": 4,
 "nbformat_minor": 2
}
