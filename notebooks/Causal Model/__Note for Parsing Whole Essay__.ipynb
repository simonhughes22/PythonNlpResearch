{
 "cells": [
  {
   "cell_type": "markdown",
   "metadata": {},
   "source": [
    "## Features to Consider\n",
    "** Some of these features do not depend on global info, and so they may ask why not incldue them in the original model **"
   ]
  },
  {
   "cell_type": "markdown",
   "metadata": {},
   "source": [
    "- Buffer head in a different sentence?\n",
    "  - Number of sentences between codes\n",
    "- LDA or LSA vector for whole essay\n",
    "- For each code - at start, middle or end of sentence?\n",
    "- For each code - at start, middle or end of essay?\n",
    "- Number of CRELs parsed already\n",
    "  - Refer to features used in re-ranker, i.e. which crels, counts for each, combos of crels\n",
    "- Number of codes before and after (totals, and by each code)\n",
    "- Previous concept code(s), subsequent code(s)\n",
    " - Prev Code to CREL ratio\n",
    " - Code to word ratio\n",
    " - Crel to word ratio\n",
    "- Crel features:\n",
    " - Has this crel been identified once or more already? How many times?\n",
    " - Does the opposite crel exist (i.e. inverted cause and effect)?\n",
    " - What is the prior probability of this Crel? \n",
    " - Determining direction - What is more likely from the training data, A->B or B->A\n",
    "- Codes in previous sentence\n",
    "- Codes in next sentence\n",
    "- Chain features\n",
    " - See those used in the re-ranker\n",
    " - Is this the start of a causal chain, the end or the middle (based on the currently parsed crels)\n"
   ]
  },
  {
   "cell_type": "markdown",
   "metadata": {},
   "source": [
    "## Necessary Changes to SR Parser"
   ]
  },
  {
   "cell_type": "markdown",
   "metadata": {},
   "source": [
    "- Extend Oracle to consider whole essay\n",
    "- Oracle may need to consider impact on whole essay parse of an error - can we make efficient"
   ]
  },
  {
   "cell_type": "code",
   "execution_count": null,
   "metadata": {},
   "outputs": [],
   "source": []
  }
 ],
 "metadata": {
  "kernelspec": {
   "display_name": "Python [conda env:phd_py36]",
   "language": "python",
   "name": "conda-env-phd_py36-py"
  },
  "language_info": {
   "codemirror_mode": {
    "name": "ipython",
    "version": 3
   },
   "file_extension": ".py",
   "mimetype": "text/x-python",
   "name": "python",
   "nbconvert_exporter": "python",
   "pygments_lexer": "ipython3",
   "version": "3.6.4"
  }
 },
 "nbformat": 4,
 "nbformat_minor": 2
}
