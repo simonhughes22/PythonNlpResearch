{
 "cells": [
  {
   "cell_type": "markdown",
   "metadata": {},
   "source": [
    "## Features to Consider"
   ]
  },
  {
   "cell_type": "markdown",
   "metadata": {},
   "source": [
    "- Buffer head in a different sentence?\n",
    "- LDA or LSA vector for whole essay\n",
    "- For each code - at start, middle or end of sentence?\n",
    "- For each code - at start, middle or end of essay?\n",
    "- Sentences between codes\n",
    "- Number of CRELs parsed already\n",
    "  - Refer to features used in re-ranker\n",
    "- Number of codes before and after (totals, and by each code)\n",
    "- Previous concept code(s), subsequent code(s)\n",
    "- Codes in previous sentence\n",
    "- Codes in next sentence"
   ]
  },
  {
   "cell_type": "markdown",
   "metadata": {},
   "source": [
    "## Necessary Changes to SR Parser"
   ]
  },
  {
   "cell_type": "markdown",
   "metadata": {},
   "source": [
    "- Extend Oracle to consider whole essay\n",
    "- Oracle may need to consider impact on whole essay parse of an error - can we make efficient"
   ]
  },
  {
   "cell_type": "code",
   "execution_count": null,
   "metadata": {},
   "outputs": [],
   "source": []
  }
 ],
 "metadata": {
  "kernelspec": {
   "display_name": "Python [conda env:phd_py36]",
   "language": "python",
   "name": "conda-env-phd_py36-py"
  },
  "language_info": {
   "codemirror_mode": {
    "name": "ipython",
    "version": 3
   },
   "file_extension": ".py",
   "mimetype": "text/x-python",
   "name": "python",
   "nbconvert_exporter": "python",
   "pygments_lexer": "ipython3",
   "version": "3.6.4"
  }
 },
 "nbformat": 4,
 "nbformat_minor": 2
}
