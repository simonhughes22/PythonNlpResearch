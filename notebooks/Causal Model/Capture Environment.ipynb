{
 "cells": [
  {
   "cell_type": "code",
   "execution_count": null,
   "metadata": {},
   "outputs": [],
   "source": [
    "# Ran on old laptop"
   ]
  },
  {
   "cell_type": "code",
   "execution_count": 1,
   "metadata": {},
   "outputs": [
    {
     "name": "stdout",
     "output_type": "stream",
     "text": [
      "Python 3.6.2 :: Continuum Analytics, Inc.\n"
     ]
    }
   ],
   "source": [
    "!python -V"
   ]
  },
  {
   "cell_type": "code",
   "execution_count": 2,
   "metadata": {},
   "outputs": [
    {
     "name": "stdout",
     "output_type": "stream",
     "text": [
      "/Users/simon.hughes/anaconda3/envs/phd_py36/bin/python\n"
     ]
    }
   ],
   "source": [
    "!which python"
   ]
  },
  {
   "cell_type": "code",
   "execution_count": 3,
   "metadata": {},
   "outputs": [
    {
     "name": "stdout",
     "output_type": "stream",
     "text": [
      "appnope==0.1.0\n",
      "attrs==19.1.0\n",
      "backcall==0.1.0\n",
      "bleach==3.1.0\n",
      "boto==2.47.0\n",
      "boto3==1.9.18\n",
      "botocore==1.12.18\n",
      "bz2file==0.98\n",
      "certifi==2016.2.28\n",
      "costcla==0.5\n",
      "cycler==0.10.0\n",
      "cymem==1.31.2\n",
      "cytoolz==0.8.2\n",
      "decorator==4.4.0\n",
      "defusedxml==0.5.0\n",
      "dill==0.2.8.2\n",
      "docutils==0.14\n",
      "entrypoints==0.3\n",
      "ftfy==4.4.3\n",
      "gensim==0.13.4\n",
      "h5py==2.7.0\n",
      "html5lib==0.999\n",
      "ipykernel==5.1.1\n",
      "ipython==7.6.1\n",
      "ipython-genutils==0.2.0\n",
      "ipywidgets==7.4.2\n",
      "jedi==0.14.0\n",
      "Jinja2==2.10.1\n",
      "jmespath==0.9.3\n",
      "joblib==0.9.4\n",
      "json5==0.8.4\n",
      "jsonschema==3.0.1\n",
      "jupyter==1.0.0\n",
      "jupyter-client==5.2.4\n",
      "jupyter-console==6.0.0\n",
      "jupyter-core==4.4.0\n",
      "jupyterlab==1.0.1\n",
      "jupyterlab-server==1.0.0\n",
      "MarkupSafe==1.1.1\n",
      "matplotlib==2.0.0\n",
      "mistune==0.8.4\n",
      "murmurhash==0.26.4\n",
      "nbconvert==5.5.0\n",
      "nbformat==4.4.0\n",
      "nltk==3.2.2\n",
      "nose==1.3.7\n",
      "notebook==5.7.8\n",
      "numpy==1.15.2\n",
      "pandas==0.19.2\n",
      "pandocfilters==1.4.2\n",
      "parso==0.5.0\n",
      "pathlib==1.0.1\n",
      "pexpect==4.7.0\n",
      "pickleshare==0.7.5\n",
      "plac==0.9.6\n",
      "preshed==1.0.1\n",
      "prometheus-client==0.7.1\n",
      "prompt-toolkit==2.0.9\n",
      "ptyprocess==0.6.0\n",
      "pyea==0.2\n",
      "Pygments==2.4.2\n",
      "pymongo==3.4.0\n",
      "pyparsing==2.2.2\n",
      "pyrsistent==0.15.2\n",
      "python-dateutil==2.8.0\n",
      "pytz==2018.5\n",
      "pyzmq==18.0.2\n",
      "qtconsole==4.4.1\n",
      "regex==2017.4.5\n",
      "requests==2.14.2\n",
      "s3transfer==0.1.13\n",
      "scikit-learn==0.18.1\n",
      "scikit-optimize==0.3\n",
      "scipy==1.1.0\n",
      "seaborn==0.7.1\n",
      "Send2Trash==1.5.0\n",
      "simplegeneric==0.8.1\n",
      "six==1.12.0\n",
      "smart-open==1.7.1\n",
      "spacy==1.8.2\n",
      "termcolor==1.1.0\n",
      "terminado==0.8.2\n",
      "testpath==0.4.2\n",
      "thinc==6.5.2\n",
      "toolz==0.9.0\n",
      "tornado==6.0.3\n",
      "tqdm==4.26.0\n",
      "traitlets==4.3.2\n",
      "ujson==1.35\n",
      "urllib3==1.23\n",
      "wcwidth==0.1.7\n",
      "webencodings==0.5.1\n",
      "widgetsnbextension==3.4.2\n",
      "wrapt==1.10.11\n"
     ]
    }
   ],
   "source": [
    "!pip freeze"
   ]
  },
  {
   "cell_type": "code",
   "execution_count": null,
   "metadata": {},
   "outputs": [],
   "source": []
  }
 ],
 "metadata": {
  "kernelspec": {
   "display_name": "Python 3",
   "language": "python",
   "name": "python3"
  },
  "language_info": {
   "codemirror_mode": {
    "name": "ipython",
    "version": 3
   },
   "file_extension": ".py",
   "mimetype": "text/x-python",
   "name": "python",
   "nbconvert_exporter": "python",
   "pygments_lexer": "ipython3",
   "version": "3.6.2"
  }
 },
 "nbformat": 4,
 "nbformat_minor": 4
}
