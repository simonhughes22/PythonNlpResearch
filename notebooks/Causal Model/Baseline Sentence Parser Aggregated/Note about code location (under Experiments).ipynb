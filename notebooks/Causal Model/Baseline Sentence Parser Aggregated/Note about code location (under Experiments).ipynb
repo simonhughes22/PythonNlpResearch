{
 "cells": [
  {
   "cell_type": "code",
   "execution_count": 1,
   "metadata": {},
   "outputs": [],
   "source": [
    "# See the following scripts:\n",
    "# ./Experiments/SkinCancerCausalModel/Sentence Model/train_causal_relation_extractor_hyperparam_tuning_logreg_test.py\n",
    "# ./Experiments/CoralBleachingCausalModel/Sentence Model/train_causal_relation_extractor_hyperparam_tuning_logreg_test.py"
   ]
  },
  {
   "cell_type": "code",
   "execution_count": null,
   "metadata": {},
   "outputs": [],
   "source": []
  }
 ],
 "metadata": {
  "kernelspec": {
   "display_name": "Python [conda root]",
   "language": "python",
   "name": "conda-root-py"
  },
  "language_info": {
   "codemirror_mode": {
    "name": "ipython",
    "version": 3
   },
   "file_extension": ".py",
   "mimetype": "text/x-python",
   "name": "python",
   "nbconvert_exporter": "python",
   "pygments_lexer": "ipython3",
   "version": "3.6.5"
  }
 },
 "nbformat": 4,
 "nbformat_minor": 2
}
