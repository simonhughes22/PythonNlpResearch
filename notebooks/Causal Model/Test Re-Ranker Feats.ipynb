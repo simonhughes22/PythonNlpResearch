{
 "cells": [
  {
   "cell_type": "code",
   "execution_count": 2,
   "metadata": {},
   "outputs": [],
   "source": [
    "import os\n",
    "import sys\n",
    "cwd = os.getcwd()\n",
    "src_path = os.path.join(cwd, \"src\")\n",
    "sys.path.append(src_path)"
   ]
  },
  {
   "cell_type": "code",
   "execution_count": 3,
   "metadata": {},
   "outputs": [
    {
     "data": {
      "text/plain": [
       "defaultdict(float,\n",
       "            {'Above-%-0.2': 1.0,\n",
       "             'Above-%-0.3': 1.0,\n",
       "             'Above-%-0.5': 0.8,\n",
       "             'Above-%-0.7': 0.0,\n",
       "             'Above-%-0.8': 0.0,\n",
       "             'Above-%-0.9': 0.0,\n",
       "             'Above-%-0.95': 0.0,\n",
       "             'Above-0.2': 5,\n",
       "             'Above-0.3': 5,\n",
       "             'Above-0.5': 4,\n",
       "             'Above-0.7': 0,\n",
       "             'Above-0.8': 0,\n",
       "             'Above-0.9': 0,\n",
       "             'Above-0.95': 0,\n",
       "             'Above-All-Above-0.2': 1,\n",
       "             'Above-All-Above-0.3': 1,\n",
       "             'CChain-:3,4,5': 1,\n",
       "             'CChainStats-MaxChain_Len=3': 1,\n",
       "             'CChainStats-crels_per_distinct_chain': 5.0,\n",
       "             'CChainStats-num_distinct_chains=1': 1,\n",
       "             'CREL_3:4': 1,\n",
       "             'CREL_4:5': 1,\n",
       "             'CREL_5:4': 1,\n",
       "             'CREL_7:50': 1,\n",
       "             'CREL_8:1': 1,\n",
       "             'CREL_Causer:3->Result:4-MAX(prob)': 0.6,\n",
       "             'CREL_Causer:3->Result:4-MIN(prob)': 0.6,\n",
       "             'CREL_Causer:3->Result:4-pred-count': 1,\n",
       "             'CREL_Causer:3->Result:4-pred-count=1': 1,\n",
       "             'CREL_Causer:4->Result:5-MAX(prob)': 0.6,\n",
       "             'CREL_Causer:4->Result:5-MIN(prob)': 0.6,\n",
       "             'CREL_Causer:4->Result:5-pred-count': 1,\n",
       "             'CREL_Causer:4->Result:5-pred-count=1': 1,\n",
       "             'CREL_Causer:5->Result:4-MAX(prob)': 0.65,\n",
       "             'CREL_Causer:5->Result:4-MIN(prob)': 0.65,\n",
       "             'CREL_Causer:5->Result:4-pred-count': 1,\n",
       "             'CREL_Causer:5->Result:4-pred-count=1': 1,\n",
       "             'CREL_Causer:7->Result:50-MAX(prob)': 0.6,\n",
       "             'CREL_Causer:7->Result:50-MIN(prob)': 0.5,\n",
       "             'CREL_Causer:7->Result:50-pred-count': 2,\n",
       "             'CREL_Causer:7->Result:50-pred-count=2': 1,\n",
       "             'CREL_Causer:8->Result:1-MAX(prob)': 0.35,\n",
       "             'CREL_Causer:8->Result:1-MIN(prob)': 0.35,\n",
       "             'CREL_Causer:8->Result:1-pred-count': 1,\n",
       "             'CREL_Causer:8->Result:1-pred-count=1': 1,\n",
       "             'CREL_Pair-Causer:3->Result:4|Causer:4->Result:5': 1,\n",
       "             'CREL_Pair-Causer:3->Result:4|Causer:5->Result:4': 1,\n",
       "             'CREL_Pair-Causer:3->Result:4|Causer:7->Result:50': 1,\n",
       "             'CREL_Pair-Causer:3->Result:4|Causer:8->Result:1': 1,\n",
       "             'CREL_Pair-Causer:4->Result:5|Causer:5->Result:4': 1,\n",
       "             'CREL_Pair-Causer:4->Result:5|Causer:7->Result:50': 1,\n",
       "             'CREL_Pair-Causer:4->Result:5|Causer:8->Result:1': 1,\n",
       "             'CREL_Pair-Causer:5->Result:4|Causer:7->Result:50': 1,\n",
       "             'CREL_Pair-Causer:5->Result:4|Causer:8->Result:1': 1,\n",
       "             'CREL_Pair-Causer:7->Result:50|Causer:8->Result:1': 1,\n",
       "             'Diff_MAX_diff': 43,\n",
       "             'Diff_MEAN_diff': 10.6,\n",
       "             'Diff_MED_diff': 1.0,\n",
       "             'Diff_adjacent_codes': 0.6,\n",
       "             'Inv-inverted': 1,\n",
       "             'Inv-num_inverted': 1,\n",
       "             'Inv-propn_inverted': 0.2,\n",
       "             'Prob-10%-prob': 0.44999999999999996,\n",
       "             'Prob-25%-prob': 0.6,\n",
       "             'Prob-5%-prob': 0.39999999999999997,\n",
       "             'Prob-75%-prob': 0.6,\n",
       "             'Prob-90%-prob': 0.63,\n",
       "             'Prob-95%-prob': 0.64,\n",
       "             'Prob-avg-prob': 0.56,\n",
       "             'Prob-geo-mean': 0.5473776117966034,\n",
       "             'Prob-max-prob': 0.65,\n",
       "             'Prob-med-prob': 0.6,\n",
       "             'Prob-min-prob': 0.35,\n",
       "             'Prob-prod-prob': 0.049139999999999996,\n",
       "             'Propn_equal': 0.0,\n",
       "             'Propn_fwd': 0.6,\n",
       "             'Propn_unique_codes': 0.7,\n",
       "             'Tally-1': 1.0,\n",
       "             'Tally-3': 1.0,\n",
       "             'Tally-4': 3.0,\n",
       "             'Tally-5': 2.0,\n",
       "             'Tally-50': 1.0,\n",
       "             'Tally-7': 1.0,\n",
       "             'Tally-8': 1.0,\n",
       "             'Tally-Causer:3': 1.0,\n",
       "             'Tally-Causer:4': 1.0,\n",
       "             'Tally-Causer:5': 1.0,\n",
       "             'Tally-Causer:7': 1.0,\n",
       "             'Tally-Causer:8': 1.0,\n",
       "             'Tally-Result:1': 1.0,\n",
       "             'Tally-Result:4': 2.0,\n",
       "             'Tally-Result:5': 1.0,\n",
       "             'Tally-Result:50': 1.0,\n",
       "             'num_crels': 5,\n",
       "             'num_crels=5': 1})"
      ]
     },
     "execution_count": 3,
     "metadata": {},
     "output_type": "execute_result"
    }
   ],
   "source": [
    "from feature_extraction import extract_features_from_parse, dict2parse\n",
    "\n",
    "crel2probs = {\n",
    "    \"Causer:7->Result:50\": [0.5, 0.6],\n",
    "    \"Causer:3->Result:4\": [0.6],\n",
    "    \"Causer:4->Result:5\": [0.6],\n",
    "    \"Causer:5->Result:4\": [0.65],\n",
    "    \n",
    "    \"Causer:8->Result:1\": [0.35],\n",
    "}\n",
    "\n",
    "parse = dict2parse(crel2probs)\n",
    "extract_features_from_parse(parse, crel2probs)"
   ]
  },
  {
   "cell_type": "code",
   "execution_count": 27,
   "metadata": {},
   "outputs": [
    {
     "data": {
      "text/plain": [
       "{'1': '2',\n",
       " '11': '12',\n",
       " '12': '6',\n",
       " '2': '3',\n",
       " '3': '4',\n",
       " '4': '5',\n",
       " '5': '6',\n",
       " '6': '50'}"
      ]
     },
     "execution_count": 27,
     "metadata": {},
     "output_type": "execute_result"
    }
   ],
   "source": [
    "from collections import defaultdict\n",
    "from pprint import pprint\n",
    "\n",
    "def build_cb_causal_model():\n",
    "    cm = dict()\n",
    "    for i in range(1,5):\n",
    "        cm[str(i)] = str(i+1)\n",
    "    cm[\"5\"] = \"5b\"\n",
    "    cm[\"5b\"] = \"14\"\n",
    "    cm[\"14\"] = \"6\"\n",
    "    cm[\"6\"] = \"7\"\n",
    "    cm[\"7\"] = \"50\"\n",
    "    for i in range(11,14):\n",
    "        cm[str(i)] = str(i+1)\n",
    "    return cm\n",
    "\n",
    "def build_sc_causal_model():\n",
    "    cm = dict()\n",
    "    for i in range(1,6):\n",
    "        cm[str(i)] = str(i+1)\n",
    "    cm[\"11\"] = \"12\"\n",
    "    cm[\"12\"] = \"6\"\n",
    "    cm[\"6\"] = \"50\"\n",
    "    return cm\n",
    "\n",
    "build_sc_causal_model()"
   ]
  },
  {
   "cell_type": "code",
   "execution_count": 42,
   "metadata": {},
   "outputs": [
    {
     "name": "stdout",
     "output_type": "stream",
     "text": [
      "6 14 True\n"
     ]
    },
    {
     "data": {
      "text/plain": [
       "-1"
      ]
     },
     "execution_count": 42,
     "metadata": {},
     "output_type": "execute_result"
    }
   ],
   "source": [
    "from typing import Dict\n",
    "\n",
    "def to_numeric_tag(tag: str)->int:\n",
    "    nums = \"\"\n",
    "    for c in tag:\n",
    "        if c.isdigit():\n",
    "            nums += c\n",
    "    return int(nums)\n",
    "\n",
    "TERMINAL = \"50\"\n",
    "cb_mdl = build_cb_causal_model()\n",
    "sc_mdl = build_sc_causal_model()\n",
    "\n",
    "def distance_between(a:str, b:str, causal_model: Dict[str, str]):\n",
    "    # ensure a <= b\n",
    "    a, b = str(a), str(b)\n",
    "    assert a in causal_model or a == TERMINAL, \"a is not in the model\"\n",
    "    assert b in causal_model or b == TERMINAL, \"b is not in the model\"\n",
    "\n",
    "    cross_over_node = (a == \"6\" and b in {\"12\", \"14\"})\n",
    "    reverse_cross_over_node = (b == \"6\" and a in {\"12\", \"14\"})\n",
    "    if cross_over_node:\n",
    "        a, b = b, a\n",
    "    \n",
    "    if not reverse_cross_over_node and (to_numeric_tag(a) > to_numeric_tag(b)):\n",
    "        a, b = b, a\n",
    "        \n",
    "    print(a,b, cross_over_node)\n",
    "    return __nodes_between__(a, b, causal_model)\n",
    "\n",
    "def __nodes_between__(a, b, causal_model):\n",
    "    nodes_btwn = 0\n",
    "    current = a\n",
    "    while current != b and current != TERMINAL:\n",
    "        current = causal_model[current]\n",
    "        nodes_btwn += 1\n",
    "    # couldn't reach the other node\n",
    "    if b != TERMINAL and current == TERMINAL:\n",
    "        return -1\n",
    "    return nodes_btwn\n",
    "\n",
    "\n",
    "distance_between(\"6\",\"14\", cb_mdl)"
   ]
  },
  {
   "cell_type": "code",
   "execution_count": 25,
   "metadata": {},
   "outputs": [],
   "source": []
  },
  {
   "cell_type": "code",
   "execution_count": null,
   "metadata": {},
   "outputs": [],
   "source": []
  }
 ],
 "metadata": {
  "kernelspec": {
   "display_name": "Python [conda env:phd_py36]",
   "language": "python",
   "name": "conda-env-phd_py36-py"
  },
  "language_info": {
   "codemirror_mode": {
    "name": "ipython",
    "version": 3
   },
   "file_extension": ".py",
   "mimetype": "text/x-python",
   "name": "python",
   "nbconvert_exporter": "python",
   "pygments_lexer": "ipython3",
   "version": "3.6.5"
  }
 },
 "nbformat": 4,
 "nbformat_minor": 2
}
