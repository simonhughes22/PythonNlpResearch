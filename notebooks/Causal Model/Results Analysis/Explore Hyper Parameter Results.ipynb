{
 "cells": [
  {
   "cell_type": "markdown",
   "metadata": {},
   "source": [
    "## Get Best-Performing Hyper Parameters"
   ]
  },
  {
   "cell_type": "code",
   "execution_count": 94,
   "metadata": {},
   "outputs": [
    {
     "data": {
      "text/plain": [
       "'CB_RE-RANKER_HYPER_PARAM_VD'"
      ]
     },
     "execution_count": 94,
     "metadata": {},
     "output_type": "execute_result"
    }
   ],
   "source": [
    "MONGO_COLLECTION = \"CB_RE-RANKER_HYPER_PARAM_VD\"\n",
    "# MONGO_COLLECTION = \"CB_COST_INSENS_RE-RANKER_HYPER_PARAM_VD\"\n",
    "\n",
    "# MONGO_COLLECTION = \"SC_RE-RANKER_HYPER_PARAM_VD\"\n",
    "# MONGO_COLLECTION = \"SC_COST_INSENS_RE-RANKER_HYPER_PARAM_VD\"\n",
    "\n",
    "MONGO_COLLECTION"
   ]
  },
  {
   "cell_type": "code",
   "execution_count": 95,
   "metadata": {},
   "outputs": [],
   "source": [
    "assert MONGO_COLLECTION.endswith(\"VD\")"
   ]
  },
  {
   "cell_type": "code",
   "execution_count": 96,
   "metadata": {},
   "outputs": [],
   "source": [
    "cols = [\"f1_score\", \"precision\", \"recall\", \"asof\", \"best_top_n\", \"C\", \"best_max_parses\", \n",
    "    #\"best_max_upd\", \n",
    "    \"max_update_items\", \n",
    "    # \"best_min_prob\", \"extractors\", \n",
    "    \"initial_weight\", \"loss_type\",\\\n",
    "    #\"min_feat_freq\",\n",
    "    \"pa_type\"]\n",
    "if \"INSENS\" in MONGO_COLLECTION:\n",
    "    cols = [c for c in cols if c != \"loss_type\"]\n",
    "# cols"
   ]
  },
  {
   "cell_type": "code",
   "execution_count": 97,
   "metadata": {},
   "outputs": [],
   "source": [
    "import pandas as pd\n",
    "import pymongo\n",
    "\n",
    "client = pymongo.MongoClient(serverSelectionTimeoutMS=100, host=\"127.0.0.1\")\n",
    "db = client.metrics_causal_model_reranker\n",
    "\n",
    "project = {\n",
    "        \"params\": \"$parameters\",\n",
    "        \"micro_f1\": \"$MICRO_F1\",\n",
    "        \"asof\": \"$asof\",\n",
    "        \"_id\": 1\n",
    "    }\n",
    "feats_pipeline = [{ \"$project\": project }]\n",
    "rows = [row for row in db[MONGO_COLLECTION].aggregate(feats_pipeline)]\n",
    "\n",
    "results = []\n",
    "for r in rows:\n",
    "    d = dict(r[\"params\"])\n",
    "    d.update(r[\"micro_f1\"])\n",
    "    d[\"asof\"] = str(r[\"asof\"])\n",
    "    results.append(d)"
   ]
  },
  {
   "cell_type": "code",
   "execution_count": 98,
   "metadata": {},
   "outputs": [],
   "source": [
    "df = pd.DataFrame(results)\n",
    "# df.tail(3)[[\"asof\"] + cols]"
   ]
  },
  {
   "cell_type": "code",
   "execution_count": 99,
   "metadata": {},
   "outputs": [
    {
     "data": {
      "text/html": [
       "<div>\n",
       "<table border=\"1\" class=\"dataframe\">\n",
       "  <thead>\n",
       "    <tr style=\"text-align: right;\">\n",
       "      <th></th>\n",
       "      <th>f1_score</th>\n",
       "      <th>precision</th>\n",
       "      <th>recall</th>\n",
       "      <th>asof</th>\n",
       "      <th>best_top_n</th>\n",
       "      <th>C</th>\n",
       "      <th>best_max_parses</th>\n",
       "      <th>max_update_items</th>\n",
       "      <th>initial_weight</th>\n",
       "      <th>loss_type</th>\n",
       "      <th>pa_type</th>\n",
       "    </tr>\n",
       "  </thead>\n",
       "  <tbody>\n",
       "    <tr>\n",
       "      <th>37</th>\n",
       "      <td>0.746014</td>\n",
       "      <td>0.777294</td>\n",
       "      <td>0.717153</td>\n",
       "      <td>2019-06-18 01:55:37.752000</td>\n",
       "      <td>2</td>\n",
       "      <td>0.0025</td>\n",
       "      <td>300</td>\n",
       "      <td>1</td>\n",
       "      <td>0.01</td>\n",
       "      <td>ml</td>\n",
       "      <td>1</td>\n",
       "    </tr>\n",
       "    <tr>\n",
       "      <th>57</th>\n",
       "      <td>0.745665</td>\n",
       "      <td>0.789796</td>\n",
       "      <td>0.706204</td>\n",
       "      <td>2019-06-18 02:38:17.475000</td>\n",
       "      <td>1</td>\n",
       "      <td>0.0100</td>\n",
       "      <td>300</td>\n",
       "      <td>1</td>\n",
       "      <td>0.01</td>\n",
       "      <td>ml</td>\n",
       "      <td>1</td>\n",
       "    </tr>\n",
       "    <tr>\n",
       "      <th>35</th>\n",
       "      <td>0.745506</td>\n",
       "      <td>0.774067</td>\n",
       "      <td>0.718978</td>\n",
       "      <td>2019-06-18 01:51:39.666000</td>\n",
       "      <td>2</td>\n",
       "      <td>0.0005</td>\n",
       "      <td>300</td>\n",
       "      <td>1</td>\n",
       "      <td>0.01</td>\n",
       "      <td>ml</td>\n",
       "      <td>2</td>\n",
       "    </tr>\n",
       "    <tr>\n",
       "      <th>53</th>\n",
       "      <td>0.745016</td>\n",
       "      <td>0.776415</td>\n",
       "      <td>0.716058</td>\n",
       "      <td>2019-06-18 02:30:03.563000</td>\n",
       "      <td>1</td>\n",
       "      <td>0.0025</td>\n",
       "      <td>300</td>\n",
       "      <td>1</td>\n",
       "      <td>0.01</td>\n",
       "      <td>ml</td>\n",
       "      <td>1</td>\n",
       "    </tr>\n",
       "    <tr>\n",
       "      <th>33</th>\n",
       "      <td>0.744965</td>\n",
       "      <td>0.769141</td>\n",
       "      <td>0.722263</td>\n",
       "      <td>2019-06-18 01:47:36.756000</td>\n",
       "      <td>2</td>\n",
       "      <td>0.0005</td>\n",
       "      <td>300</td>\n",
       "      <td>1</td>\n",
       "      <td>0.01</td>\n",
       "      <td>ml</td>\n",
       "      <td>1</td>\n",
       "    </tr>\n",
       "  </tbody>\n",
       "</table>\n",
       "</div>"
      ],
      "text/plain": [
       "    f1_score  precision    recall                        asof  best_top_n  \\\n",
       "37  0.746014   0.777294  0.717153  2019-06-18 01:55:37.752000           2   \n",
       "57  0.745665   0.789796  0.706204  2019-06-18 02:38:17.475000           1   \n",
       "35  0.745506   0.774067  0.718978  2019-06-18 01:51:39.666000           2   \n",
       "53  0.745016   0.776415  0.716058  2019-06-18 02:30:03.563000           1   \n",
       "33  0.744965   0.769141  0.722263  2019-06-18 01:47:36.756000           2   \n",
       "\n",
       "         C  best_max_parses  max_update_items  initial_weight loss_type  \\\n",
       "37  0.0025              300                 1            0.01        ml   \n",
       "57  0.0100              300                 1            0.01        ml   \n",
       "35  0.0005              300                 1            0.01        ml   \n",
       "53  0.0025              300                 1            0.01        ml   \n",
       "33  0.0005              300                 1            0.01        ml   \n",
       "\n",
       "    pa_type  \n",
       "37        1  \n",
       "57        1  \n",
       "35        2  \n",
       "53        1  \n",
       "33        1  "
      ]
     },
     "execution_count": 99,
     "metadata": {},
     "output_type": "execute_result"
    }
   ],
   "source": [
    "df = pd.DataFrame(results)\n",
    "df = df.sort_values(by=\"f1_score\",ascending=False)\n",
    "df[cols].head(5)"
   ]
  },
  {
   "cell_type": "code",
   "execution_count": 100,
   "metadata": {},
   "outputs": [],
   "source": [
    "# Best ones that are not 2\n",
    "# df[df.best_top_n != 2][cols].head()"
   ]
  },
  {
   "cell_type": "code",
   "execution_count": null,
   "metadata": {},
   "outputs": [],
   "source": []
  }
 ],
 "metadata": {
  "anaconda-cloud": {},
  "kernelspec": {
   "display_name": "Python [conda env:phd_py36]",
   "language": "python",
   "name": "conda-env-phd_py36-py"
  },
  "language_info": {
   "codemirror_mode": {
    "name": "ipython",
    "version": 3
   },
   "file_extension": ".py",
   "mimetype": "text/x-python",
   "name": "python",
   "nbconvert_exporter": "python",
   "pygments_lexer": "ipython3",
   "version": "3.6.4"
  }
 },
 "nbformat": 4,
 "nbformat_minor": 2
}
