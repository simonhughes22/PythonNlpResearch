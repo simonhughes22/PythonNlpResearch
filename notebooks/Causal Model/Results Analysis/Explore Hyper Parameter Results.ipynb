{
 "cells": [
  {
   "cell_type": "markdown",
   "metadata": {},
   "source": [
    "## Get Best-Performing Hyper Parameters"
   ]
  },
  {
   "cell_type": "code",
   "execution_count": 174,
   "metadata": {},
   "outputs": [
    {
     "data": {
      "text/plain": [
       "'CB_STR_PCPTRN_RE-RANKER_HYPER_PARAM_VD'"
      ]
     },
     "execution_count": 174,
     "metadata": {},
     "output_type": "execute_result"
    }
   ],
   "source": [
    "# MONGO_COLLECTION = \"CB_RE-RANKER_HYPER_PARAM_VD\"\n",
    "# MONGO_COLLECTION = \"CB_COST_INSENS_RE-RANKER_HYPER_PARAM_VD\"\n",
    "\n",
    "MONGO_COLLECTION = \"CB_STR_PCPTRN_RE-RANKER_HYPER_PARAM_VD\"\n",
    "\n",
    "# MONGO_COLLECTION = \"SC_RE-RANKER_HYPER_PARAM_VD\"\n",
    "# MONGO_COLLECTION = \"SC_COST_INSENS_RE-RANKER_HYPER_PARAM_VD\"\n",
    "\n",
    "MONGO_COLLECTION"
   ]
  },
  {
   "cell_type": "code",
   "execution_count": 175,
   "metadata": {},
   "outputs": [],
   "source": [
    "assert MONGO_COLLECTION.endswith(\"VD\")"
   ]
  },
  {
   "cell_type": "code",
   "execution_count": 176,
   "metadata": {},
   "outputs": [],
   "source": [
    "cols = [\"f1_score\", \"precision\", \"recall\", \"asof\", \"best_top_n\", \"C\", \"best_max_parses\", \n",
    "    #\"best_max_upd\", \n",
    "    \"max_update_items\", \n",
    "    # \"best_min_prob\", \"extractors\", \n",
    "    \"initial_weight\", \"loss_type\",\\\n",
    "    #\"min_feat_freq\",\n",
    "    \"pa_type\"]\n",
    "if \"INSENS\" in MONGO_COLLECTION:\n",
    "    cols = [c for c in cols if c != \"loss_type\"]\n",
    "\n",
    "elif \"PCPTRN\" in MONGO_COLLECTION:\n",
    "    cols = [\"f1_score\", \"precision\", \"recall\", \"asof\", \"best_top_n\", \"learning_rate\", \"best_max_parses\", \n",
    "    #\"best_max_upd\", \n",
    "    \"max_update_items\", \n",
    "    # \"best_min_prob\", \"extractors\", \n",
    "    \"initial_weight\"]\n",
    "    #\"min_feat_freq\"]\n",
    "# cols"
   ]
  },
  {
   "cell_type": "code",
   "execution_count": 181,
   "metadata": {},
   "outputs": [
    {
     "data": {
      "text/plain": [
       "array([ 2,  3,  5, 10])"
      ]
     },
     "execution_count": 181,
     "metadata": {},
     "output_type": "execute_result"
    }
   ],
   "source": [
    "import numpy as np\n",
    "\n",
    "np.unique([5,3,2,5,10])"
   ]
  },
  {
   "cell_type": "code",
   "execution_count": 177,
   "metadata": {},
   "outputs": [],
   "source": [
    "import pandas as pd\n",
    "import pymongo\n",
    "\n",
    "client = pymongo.MongoClient(serverSelectionTimeoutMS=100, host=\"127.0.0.1\")\n",
    "db = client.metrics_causal_model_reranker\n",
    "\n",
    "project = {\n",
    "        \"params\": \"$parameters\",\n",
    "        \"micro_f1\": \"$MICRO_F1\",\n",
    "        \"asof\": \"$asof\",\n",
    "        \"_id\": 1\n",
    "    }\n",
    "feats_pipeline = [{ \"$project\": project }]\n",
    "rows = [row for row in db[MONGO_COLLECTION].aggregate(feats_pipeline)]\n",
    "\n",
    "results = []\n",
    "for r in rows:\n",
    "    d = dict(r[\"params\"])\n",
    "    d.update(r[\"micro_f1\"])\n",
    "    d[\"asof\"] = str(r[\"asof\"])\n",
    "    results.append(d)"
   ]
  },
  {
   "cell_type": "code",
   "execution_count": 178,
   "metadata": {},
   "outputs": [],
   "source": [
    "df = pd.DataFrame(results)\n",
    "# df.tail(3)[[\"asof\"] + cols]"
   ]
  },
  {
   "cell_type": "code",
   "execution_count": 179,
   "metadata": {},
   "outputs": [
    {
     "data": {
      "text/html": [
       "<div>\n",
       "<table border=\"1\" class=\"dataframe\">\n",
       "  <thead>\n",
       "    <tr style=\"text-align: right;\">\n",
       "      <th></th>\n",
       "      <th>f1_score</th>\n",
       "      <th>precision</th>\n",
       "      <th>recall</th>\n",
       "      <th>asof</th>\n",
       "      <th>best_top_n</th>\n",
       "      <th>learning_rate</th>\n",
       "      <th>best_max_parses</th>\n",
       "      <th>max_update_items</th>\n",
       "      <th>initial_weight</th>\n",
       "    </tr>\n",
       "  </thead>\n",
       "  <tbody>\n",
       "    <tr>\n",
       "      <th>26</th>\n",
       "      <td>0.741512</td>\n",
       "      <td>0.786416</td>\n",
       "      <td>0.701460</td>\n",
       "      <td>2019-06-23 22:55:15.285000</td>\n",
       "      <td>1</td>\n",
       "      <td>0.005</td>\n",
       "      <td>300</td>\n",
       "      <td>2</td>\n",
       "      <td>0.01</td>\n",
       "    </tr>\n",
       "    <tr>\n",
       "      <th>4</th>\n",
       "      <td>0.741243</td>\n",
       "      <td>0.789040</td>\n",
       "      <td>0.698905</td>\n",
       "      <td>2019-06-23 21:59:15.302000</td>\n",
       "      <td>2</td>\n",
       "      <td>0.050</td>\n",
       "      <td>300</td>\n",
       "      <td>2</td>\n",
       "      <td>0.01</td>\n",
       "    </tr>\n",
       "    <tr>\n",
       "      <th>27</th>\n",
       "      <td>0.740812</td>\n",
       "      <td>0.788066</td>\n",
       "      <td>0.698905</td>\n",
       "      <td>2019-06-23 22:56:22.165000</td>\n",
       "      <td>1</td>\n",
       "      <td>0.010</td>\n",
       "      <td>300</td>\n",
       "      <td>2</td>\n",
       "      <td>0.01</td>\n",
       "    </tr>\n",
       "    <tr>\n",
       "      <th>31</th>\n",
       "      <td>0.740081</td>\n",
       "      <td>0.787804</td>\n",
       "      <td>0.697810</td>\n",
       "      <td>2019-06-23 23:01:01.125000</td>\n",
       "      <td>1</td>\n",
       "      <td>1.000</td>\n",
       "      <td>300</td>\n",
       "      <td>2</td>\n",
       "      <td>0.01</td>\n",
       "    </tr>\n",
       "    <tr>\n",
       "      <th>29</th>\n",
       "      <td>0.740066</td>\n",
       "      <td>0.789169</td>\n",
       "      <td>0.696715</td>\n",
       "      <td>2019-06-23 22:58:45.089000</td>\n",
       "      <td>1</td>\n",
       "      <td>0.100</td>\n",
       "      <td>300</td>\n",
       "      <td>2</td>\n",
       "      <td>0.01</td>\n",
       "    </tr>\n",
       "  </tbody>\n",
       "</table>\n",
       "</div>"
      ],
      "text/plain": [
       "    f1_score  precision    recall                        asof  best_top_n  \\\n",
       "26  0.741512   0.786416  0.701460  2019-06-23 22:55:15.285000           1   \n",
       "4   0.741243   0.789040  0.698905  2019-06-23 21:59:15.302000           2   \n",
       "27  0.740812   0.788066  0.698905  2019-06-23 22:56:22.165000           1   \n",
       "31  0.740081   0.787804  0.697810  2019-06-23 23:01:01.125000           1   \n",
       "29  0.740066   0.789169  0.696715  2019-06-23 22:58:45.089000           1   \n",
       "\n",
       "    learning_rate  best_max_parses  max_update_items  initial_weight  \n",
       "26          0.005              300                 2            0.01  \n",
       "4           0.050              300                 2            0.01  \n",
       "27          0.010              300                 2            0.01  \n",
       "31          1.000              300                 2            0.01  \n",
       "29          0.100              300                 2            0.01  "
      ]
     },
     "execution_count": 179,
     "metadata": {},
     "output_type": "execute_result"
    }
   ],
   "source": [
    "df = pd.DataFrame(results)\n",
    "df = df.sort_values(by=\"f1_score\",ascending=False)\n",
    "df[cols].head(5)"
   ]
  },
  {
   "cell_type": "code",
   "execution_count": 180,
   "metadata": {},
   "outputs": [
    {
     "data": {
      "text/plain": [
       "'CB_STR_PCPTRN_RE-RANKER_HYPER_PARAM_VD'"
      ]
     },
     "execution_count": 180,
     "metadata": {},
     "output_type": "execute_result"
    }
   ],
   "source": [
    "MONGO_COLLECTION"
   ]
  },
  {
   "cell_type": "code",
   "execution_count": 171,
   "metadata": {},
   "outputs": [
    {
     "data": {
      "text/html": [
       "<div>\n",
       "<table border=\"1\" class=\"dataframe\">\n",
       "  <thead>\n",
       "    <tr style=\"text-align: right;\">\n",
       "      <th></th>\n",
       "      <th>f1_score</th>\n",
       "      <th>precision</th>\n",
       "      <th>recall</th>\n",
       "      <th>asof</th>\n",
       "      <th>best_top_n</th>\n",
       "      <th>C</th>\n",
       "      <th>best_max_parses</th>\n",
       "      <th>max_update_items</th>\n",
       "      <th>initial_weight</th>\n",
       "      <th>loss_type</th>\n",
       "      <th>pa_type</th>\n",
       "    </tr>\n",
       "  </thead>\n",
       "  <tbody>\n",
       "    <tr>\n",
       "      <th>37</th>\n",
       "      <td>0.746014</td>\n",
       "      <td>0.777294</td>\n",
       "      <td>0.717153</td>\n",
       "      <td>2019-06-18 01:55:37.752000</td>\n",
       "      <td>2</td>\n",
       "      <td>0.0025</td>\n",
       "      <td>300</td>\n",
       "      <td>1</td>\n",
       "      <td>0.01</td>\n",
       "      <td>ml</td>\n",
       "      <td>1</td>\n",
       "    </tr>\n",
       "    <tr>\n",
       "      <th>57</th>\n",
       "      <td>0.745665</td>\n",
       "      <td>0.789796</td>\n",
       "      <td>0.706204</td>\n",
       "      <td>2019-06-18 02:38:17.475000</td>\n",
       "      <td>1</td>\n",
       "      <td>0.0100</td>\n",
       "      <td>300</td>\n",
       "      <td>1</td>\n",
       "      <td>0.01</td>\n",
       "      <td>ml</td>\n",
       "      <td>1</td>\n",
       "    </tr>\n",
       "    <tr>\n",
       "      <th>35</th>\n",
       "      <td>0.745506</td>\n",
       "      <td>0.774067</td>\n",
       "      <td>0.718978</td>\n",
       "      <td>2019-06-18 01:51:39.666000</td>\n",
       "      <td>2</td>\n",
       "      <td>0.0005</td>\n",
       "      <td>300</td>\n",
       "      <td>1</td>\n",
       "      <td>0.01</td>\n",
       "      <td>ml</td>\n",
       "      <td>2</td>\n",
       "    </tr>\n",
       "    <tr>\n",
       "      <th>53</th>\n",
       "      <td>0.745016</td>\n",
       "      <td>0.776415</td>\n",
       "      <td>0.716058</td>\n",
       "      <td>2019-06-18 02:30:03.563000</td>\n",
       "      <td>1</td>\n",
       "      <td>0.0025</td>\n",
       "      <td>300</td>\n",
       "      <td>1</td>\n",
       "      <td>0.01</td>\n",
       "      <td>ml</td>\n",
       "      <td>1</td>\n",
       "    </tr>\n",
       "    <tr>\n",
       "      <th>33</th>\n",
       "      <td>0.744965</td>\n",
       "      <td>0.769141</td>\n",
       "      <td>0.722263</td>\n",
       "      <td>2019-06-18 01:47:36.756000</td>\n",
       "      <td>2</td>\n",
       "      <td>0.0005</td>\n",
       "      <td>300</td>\n",
       "      <td>1</td>\n",
       "      <td>0.01</td>\n",
       "      <td>ml</td>\n",
       "      <td>1</td>\n",
       "    </tr>\n",
       "  </tbody>\n",
       "</table>\n",
       "</div>"
      ],
      "text/plain": [
       "    f1_score  precision    recall                        asof  best_top_n  \\\n",
       "37  0.746014   0.777294  0.717153  2019-06-18 01:55:37.752000           2   \n",
       "57  0.745665   0.789796  0.706204  2019-06-18 02:38:17.475000           1   \n",
       "35  0.745506   0.774067  0.718978  2019-06-18 01:51:39.666000           2   \n",
       "53  0.745016   0.776415  0.716058  2019-06-18 02:30:03.563000           1   \n",
       "33  0.744965   0.769141  0.722263  2019-06-18 01:47:36.756000           2   \n",
       "\n",
       "         C  best_max_parses  max_update_items  initial_weight loss_type  \\\n",
       "37  0.0025              300                 1            0.01        ml   \n",
       "57  0.0100              300                 1            0.01        ml   \n",
       "35  0.0005              300                 1            0.01        ml   \n",
       "53  0.0025              300                 1            0.01        ml   \n",
       "33  0.0005              300                 1            0.01        ml   \n",
       "\n",
       "    pa_type  \n",
       "37        1  \n",
       "57        1  \n",
       "35        2  \n",
       "53        1  \n",
       "33        1  "
      ]
     },
     "execution_count": 171,
     "metadata": {},
     "output_type": "execute_result"
    }
   ],
   "source": [
    "df = pd.DataFrame(results)\n",
    "df = df.sort_values(by=\"f1_score\",ascending=False)\n",
    "df[cols].head(5)"
   ]
  },
  {
   "cell_type": "code",
   "execution_count": 172,
   "metadata": {},
   "outputs": [
    {
     "data": {
      "text/plain": [
       "array([1])"
      ]
     },
     "execution_count": 172,
     "metadata": {},
     "output_type": "execute_result"
    }
   ],
   "source": [
    "df.max_update_items.unique()"
   ]
  },
  {
   "cell_type": "code",
   "execution_count": 173,
   "metadata": {},
   "outputs": [],
   "source": [
    "# Best ones that are not 2\n",
    "# df[df.best_top_n != 2][cols].head()"
   ]
  },
  {
   "cell_type": "code",
   "execution_count": null,
   "metadata": {},
   "outputs": [],
   "source": []
  }
 ],
 "metadata": {
  "anaconda-cloud": {},
  "kernelspec": {
   "display_name": "Python [conda env:phd_py36]",
   "language": "python",
   "name": "conda-env-phd_py36-py"
  },
  "language_info": {
   "codemirror_mode": {
    "name": "ipython",
    "version": 3
   },
   "file_extension": ".py",
   "mimetype": "text/x-python",
   "name": "python",
   "nbconvert_exporter": "python",
   "pygments_lexer": "ipython3",
   "version": "3.6.4"
  }
 },
 "nbformat": 4,
 "nbformat_minor": 2
}
