{
 "cells": [
  {
   "cell_type": "markdown",
   "metadata": {},
   "source": [
    "## Get Best-Performing Hyper Parameters"
   ]
  },
  {
   "cell_type": "code",
   "execution_count": 2,
   "metadata": {},
   "outputs": [
    {
     "name": "stdout",
     "output_type": "stream",
     "text": [
      "/Users/simon.hughes/anaconda3/envs/phd_py36/bin/python\n"
     ]
    }
   ],
   "source": [
    "!which python"
   ]
  },
  {
   "cell_type": "code",
   "execution_count": 3,
   "metadata": {},
   "outputs": [
    {
     "name": "stdout",
     "output_type": "stream",
     "text": [
      "absl-py==0.3.0\n",
      "anaconda-client==1.6.11\n",
      "appnope==0.1.0\n",
      "argcomplete==1.9.4\n",
      "asn1crypto==0.24.0\n",
      "astor==0.7.1\n",
      "beautifulsoup4==4.6.0\n",
      "bleach==2.1.2\n",
      "boto==2.47.0\n",
      "boto3==1.5.36\n",
      "botocore==1.8.50\n",
      "bz2file==0.98\n",
      "certifi==2018.1.18\n",
      "cffi==1.11.4\n",
      "chardet==3.0.4\n",
      "clyent==1.2.2\n",
      "costcla==0.5\n",
      "cryptography==2.1.4\n",
      "cycler==0.10.0\n",
      "cymem==1.31.2\n",
      "cytoolz==0.8.2\n",
      "decorator==4.2.1\n",
      "dicecore==1.13\n",
      "dill==0.2.8.2\n",
      "docutils==0.14\n",
      "entrypoints==0.2.3\n",
      "ftfy==4.4.3\n",
      "gast==0.2.0\n",
      "gensim==0.13.4\n",
      "grpcio==1.14.0\n",
      "h5py==2.7.0\n",
      "hdbscan==0.8.12\n",
      "html5lib==1.0.1\n",
      "idna==2.6\n",
      "ipykernel==4.8.2\n",
      "ipython==6.2.1\n",
      "ipython-genutils==0.2.0\n",
      "ipywidgets==7.1.2\n",
      "jedi==0.11.1\n",
      "Jinja2==2.10\n",
      "jmespath==0.9.3\n",
      "joblib==0.9.4\n",
      "jsonschema==2.6.0\n",
      "jupyter==1.0.0\n",
      "jupyter-client==5.2.2\n",
      "jupyter-console==5.2.0\n",
      "jupyter-core==4.4.0\n",
      "jupyterlab==0.31.8\n",
      "jupyterlab-launcher==0.10.5\n",
      "Keras==1.2.2\n",
      "Keras-Applications==1.0.4\n",
      "Keras-Preprocessing==1.0.2\n",
      "Markdown==2.6.11\n",
      "MarkupSafe==1.0\n",
      "matplotlib==2.0.0\n",
      "mistune==0.8.3\n",
      "murmurhash==0.26.4\n",
      "nb-anacondacloud==1.4.0\n",
      "nb-conda==2.2.1\n",
      "nb-conda-kernels==2.1.0\n",
      "nbconvert==5.3.1\n",
      "nbformat==4.4.0\n",
      "nbpresent==3.0.2\n",
      "nltk==3.2.2\n",
      "nose==1.3.7\n",
      "notebook==5.4.0\n",
      "numpy==1.14.1\n",
      "pandas==0.22.0\n",
      "pandocfilters==1.4.2\n",
      "parso==0.1.1\n",
      "pathlib==1.0.1\n",
      "pexpect==4.4.0\n",
      "pickleshare==0.7.4\n",
      "Pillow==5.0.0\n",
      "plac==0.9.6\n",
      "preshed==1.0.0\n",
      "prompt-toolkit==1.0.15\n",
      "protobuf==3.6.0\n",
      "ptyprocess==0.5.2\n",
      "pycparser==2.18\n",
      "pyea==0.2\n",
      "Pygments==2.2.0\n",
      "pymongo==3.7.2\n",
      "pyOpenSSL==17.5.0\n",
      "pyparsing==2.2.0\n",
      "PySocks==1.6.7\n",
      "python-dateutil==2.6.1\n",
      "pytz==2018.3\n",
      "PyYAML==3.12\n",
      "pyzmq==17.0.0\n",
      "qtconsole==4.3.1\n",
      "regex==2017.4.5\n",
      "requests==2.14.2\n",
      "s3transfer==0.1.13\n",
      "scikit-learn==0.18.1\n",
      "scikit-optimize==0.3\n",
      "scipy==1.0.0\n",
      "seaborn==0.7.1\n",
      "Send2Trash==1.5.0\n",
      "simplegeneric==0.8.1\n",
      "six==1.11.0\n",
      "smart-open==1.5.6\n",
      "spacy==1.8.2\n",
      "tensorboard==1.9.0\n",
      "tensorflow==1.9.0\n",
      "termcolor==1.1.0\n",
      "terminado==0.8.1\n",
      "testpath==0.3.1\n",
      "Theano==1.0.2\n",
      "thinc==6.5.2\n",
      "toolz==0.9.0\n",
      "tornado==4.5.3\n",
      "tqdm==4.19.5\n",
      "traitlets==4.3.2\n",
      "ujson==1.35\n",
      "urllib3==1.22\n",
      "wcwidth==0.1.7\n",
      "webencodings==0.5.1\n",
      "Werkzeug==0.14.1\n",
      "widgetsnbextension==3.1.4\n",
      "wordcloud==1.3.1\n",
      "wrapt==1.10.11\n",
      "xgboost==0.81\n"
     ]
    }
   ],
   "source": [
    "!pip freeze"
   ]
  },
  {
   "cell_type": "code",
   "execution_count": 5,
   "metadata": {},
   "outputs": [],
   "source": [
    "import pandas as pd\n",
    "import pymongo"
   ]
  },
  {
   "cell_type": "code",
   "execution_count": 7,
   "metadata": {},
   "outputs": [],
   "source": [
    "client = pymongo.MongoClient(serverSelectionTimeoutMS=100, host=\"127.0.0.1\")\n",
    "db = client.metrics_causal_model_reranker"
   ]
  },
  {
   "cell_type": "code",
   "execution_count": 8,
   "metadata": {},
   "outputs": [],
   "source": [
    "def get_df(collection, db):\n",
    "    assert collection.endswith(\"_VD\")\n",
    "    cols = [\"f1_score\", \"precision\", \"recall\", \"asof\", \"best_top_n\", \"C\", \"best_max_parses\", \n",
    "        #\"best_max_upd\", \n",
    "        \"max_update_items\", \n",
    "        # \"best_min_prob\", \"extractors\", \n",
    "        \"initial_weight\", \"loss_type\",\\\n",
    "        #\"min_feat_freq\",\n",
    "        \"pa_type\"]\n",
    "    if \"INSENS\" in collection:\n",
    "        cols = [c for c in cols if c != \"loss_type\"]\n",
    "\n",
    "    elif \"PCPTRN\" in collection:\n",
    "        cols = [\"f1_score\", \"precision\", \"recall\", \"asof\", \"best_top_n\", \"learning_rate\", \"best_max_parses\", \n",
    "        #\"best_max_upd\", \n",
    "        \"max_update_items\", \n",
    "        # \"best_min_prob\", \"extractors\", \n",
    "        \"initial_weight\"]\n",
    "        #\"min_feat_freq\"]\n",
    "    \n",
    "    project = {\n",
    "            \"params\": \"$parameters\",\n",
    "            \"micro_f1\": \"$MICRO_F1\",\n",
    "            \"asof\": \"$asof\",\n",
    "            \"_id\": 1\n",
    "        }\n",
    "    feats_pipeline = [{ \"$project\": project }]\n",
    "    rows = [row for row in db[collection].aggregate(feats_pipeline)]\n",
    "\n",
    "    results = []\n",
    "    for r in rows:\n",
    "        d = dict(r[\"params\"])\n",
    "        d.update(r[\"micro_f1\"])\n",
    "        d[\"asof\"] = str(r[\"asof\"])\n",
    "        results.append(d)\n",
    "    \n",
    "    df = pd.DataFrame(results)\n",
    "    df = df.sort_values(by=\"f1_score\",ascending=False)\n",
    "    return df[cols]"
   ]
  },
  {
   "cell_type": "code",
   "execution_count": 9,
   "metadata": {},
   "outputs": [],
   "source": [
    "# MONGO_COLLECTION = \"SC_RE-RANKER_HYPER_PARAM_VD\"\n",
    "# MONGO_COLLECTION = \"SC_COST_INSENS_RE-RANKER_HYPER_PARAM_VD\""
   ]
  },
  {
   "cell_type": "markdown",
   "metadata": {},
   "source": [
    "## CB"
   ]
  },
  {
   "cell_type": "markdown",
   "metadata": {},
   "source": [
    "### VD"
   ]
  },
  {
   "cell_type": "code",
   "execution_count": 15,
   "metadata": {},
   "outputs": [
    {
     "data": {
      "text/html": [
       "<div>\n",
       "<table border=\"1\" class=\"dataframe\">\n",
       "  <thead>\n",
       "    <tr style=\"text-align: right;\">\n",
       "      <th></th>\n",
       "      <th>f1_score</th>\n",
       "      <th>precision</th>\n",
       "      <th>recall</th>\n",
       "      <th>asof</th>\n",
       "      <th>best_top_n</th>\n",
       "      <th>learning_rate</th>\n",
       "      <th>best_max_parses</th>\n",
       "      <th>max_update_items</th>\n",
       "      <th>initial_weight</th>\n",
       "    </tr>\n",
       "  </thead>\n",
       "  <tbody>\n",
       "    <tr>\n",
       "      <th>29</th>\n",
       "      <td>0.741353</td>\n",
       "      <td>0.782873</td>\n",
       "      <td>0.704015</td>\n",
       "      <td>2019-06-24 20:43:02.777000</td>\n",
       "      <td>1</td>\n",
       "      <td>0.1</td>\n",
       "      <td>300</td>\n",
       "      <td>1</td>\n",
       "      <td>0.01</td>\n",
       "    </tr>\n",
       "  </tbody>\n",
       "</table>\n",
       "</div>"
      ],
      "text/plain": [
       "    f1_score  precision    recall                        asof  best_top_n  \\\n",
       "29  0.741353   0.782873  0.704015  2019-06-24 20:43:02.777000           1   \n",
       "\n",
       "    learning_rate  best_max_parses  max_update_items  initial_weight  \n",
       "29            0.1              300                 1            0.01  "
      ]
     },
     "execution_count": 15,
     "metadata": {},
     "output_type": "execute_result"
    }
   ],
   "source": [
    "df_pa = get_df(\"CB_STR_PCPTRN_RE-RANKER_HYPER_PARAM_VD\", db)\n",
    "df_pa.head(1)"
   ]
  },
  {
   "cell_type": "code",
   "execution_count": 16,
   "metadata": {},
   "outputs": [
    {
     "data": {
      "text/html": [
       "<div>\n",
       "<table border=\"1\" class=\"dataframe\">\n",
       "  <thead>\n",
       "    <tr style=\"text-align: right;\">\n",
       "      <th></th>\n",
       "      <th>f1_score</th>\n",
       "      <th>precision</th>\n",
       "      <th>recall</th>\n",
       "      <th>asof</th>\n",
       "      <th>best_top_n</th>\n",
       "      <th>C</th>\n",
       "      <th>best_max_parses</th>\n",
       "      <th>max_update_items</th>\n",
       "      <th>initial_weight</th>\n",
       "      <th>pa_type</th>\n",
       "    </tr>\n",
       "  </thead>\n",
       "  <tbody>\n",
       "    <tr>\n",
       "      <th>30</th>\n",
       "      <td>0.737302</td>\n",
       "      <td>0.807826</td>\n",
       "      <td>0.678102</td>\n",
       "      <td>2019-06-23 15:33:17.018000</td>\n",
       "      <td>1</td>\n",
       "      <td>0.1</td>\n",
       "      <td>300</td>\n",
       "      <td>1</td>\n",
       "      <td>0.01</td>\n",
       "      <td>1</td>\n",
       "    </tr>\n",
       "  </tbody>\n",
       "</table>\n",
       "</div>"
      ],
      "text/plain": [
       "    f1_score  precision    recall                        asof  best_top_n  \\\n",
       "30  0.737302   0.807826  0.678102  2019-06-23 15:33:17.018000           1   \n",
       "\n",
       "      C  best_max_parses  max_update_items  initial_weight  pa_type  \n",
       "30  0.1              300                 1            0.01        1  "
      ]
     },
     "execution_count": 16,
     "metadata": {},
     "output_type": "execute_result"
    }
   ],
   "source": [
    "df_pa = get_df(\"CB_COST_INSENS_RE-RANKER_HYPER_PARAM_VD\", db)\n",
    "df_pa.head(1)"
   ]
  },
  {
   "cell_type": "code",
   "execution_count": 10,
   "metadata": {},
   "outputs": [
    {
     "data": {
      "text/html": [
       "<div>\n",
       "<table border=\"1\" class=\"dataframe\">\n",
       "  <thead>\n",
       "    <tr style=\"text-align: right;\">\n",
       "      <th></th>\n",
       "      <th>f1_score</th>\n",
       "      <th>precision</th>\n",
       "      <th>recall</th>\n",
       "      <th>asof</th>\n",
       "      <th>best_top_n</th>\n",
       "      <th>C</th>\n",
       "      <th>best_max_parses</th>\n",
       "      <th>max_update_items</th>\n",
       "      <th>initial_weight</th>\n",
       "      <th>loss_type</th>\n",
       "      <th>pa_type</th>\n",
       "    </tr>\n",
       "  </thead>\n",
       "  <tbody>\n",
       "    <tr>\n",
       "      <th>37</th>\n",
       "      <td>0.746014</td>\n",
       "      <td>0.777294</td>\n",
       "      <td>0.717153</td>\n",
       "      <td>2019-06-18 01:55:37.752000</td>\n",
       "      <td>2</td>\n",
       "      <td>0.0025</td>\n",
       "      <td>300</td>\n",
       "      <td>1</td>\n",
       "      <td>0.01</td>\n",
       "      <td>ml</td>\n",
       "      <td>1</td>\n",
       "    </tr>\n",
       "  </tbody>\n",
       "</table>\n",
       "</div>"
      ],
      "text/plain": [
       "    f1_score  precision    recall                        asof  best_top_n  \\\n",
       "37  0.746014   0.777294  0.717153  2019-06-18 01:55:37.752000           2   \n",
       "\n",
       "         C  best_max_parses  max_update_items  initial_weight loss_type  \\\n",
       "37  0.0025              300                 1            0.01        ml   \n",
       "\n",
       "    pa_type  \n",
       "37        1  "
      ]
     },
     "execution_count": 10,
     "metadata": {},
     "output_type": "execute_result"
    }
   ],
   "source": [
    "df_pa = get_df(\"CB_RE-RANKER_HYPER_PARAM_VD\", db)\n",
    "df_pa.head(1)"
   ]
  },
  {
   "cell_type": "markdown",
   "metadata": {},
   "source": [
    "### Test"
   ]
  },
  {
   "cell_type": "code",
   "execution_count": 25,
   "metadata": {},
   "outputs": [
    {
     "data": {
      "text/html": [
       "<div>\n",
       "<table border=\"1\" class=\"dataframe\">\n",
       "  <thead>\n",
       "    <tr style=\"text-align: right;\">\n",
       "      <th></th>\n",
       "      <th>f1_score</th>\n",
       "      <th>precision</th>\n",
       "      <th>recall</th>\n",
       "      <th>asof</th>\n",
       "      <th>best_top_n</th>\n",
       "      <th>learning_rate</th>\n",
       "      <th>best_max_parses</th>\n",
       "      <th>max_update_items</th>\n",
       "      <th>initial_weight</th>\n",
       "    </tr>\n",
       "  </thead>\n",
       "  <tbody>\n",
       "    <tr>\n",
       "      <th>0</th>\n",
       "      <td>0.748162</td>\n",
       "      <td>0.752311</td>\n",
       "      <td>0.744059</td>\n",
       "      <td>2019-06-24 21:06:55.476000</td>\n",
       "      <td>1</td>\n",
       "      <td>0.1</td>\n",
       "      <td>300</td>\n",
       "      <td>1</td>\n",
       "      <td>0.01</td>\n",
       "    </tr>\n",
       "  </tbody>\n",
       "</table>\n",
       "</div>"
      ],
      "text/plain": [
       "   f1_score  precision    recall                        asof  best_top_n  \\\n",
       "0  0.748162   0.752311  0.744059  2019-06-24 21:06:55.476000           1   \n",
       "\n",
       "   learning_rate  best_max_parses  max_update_items  initial_weight  \n",
       "0            0.1              300                 1            0.01  "
      ]
     },
     "execution_count": 25,
     "metadata": {},
     "output_type": "execute_result"
    }
   ],
   "source": [
    "df_pa = get_df(\"TEST_CB_STR_PCPTRN_RE-RANKER_VD\", db)\n",
    "df_pa.head(1)"
   ]
  },
  {
   "cell_type": "code",
   "execution_count": 13,
   "metadata": {},
   "outputs": [
    {
     "data": {
      "text/html": [
       "<div>\n",
       "<table border=\"1\" class=\"dataframe\">\n",
       "  <thead>\n",
       "    <tr style=\"text-align: right;\">\n",
       "      <th></th>\n",
       "      <th>f1_score</th>\n",
       "      <th>precision</th>\n",
       "      <th>recall</th>\n",
       "      <th>asof</th>\n",
       "      <th>best_top_n</th>\n",
       "      <th>C</th>\n",
       "      <th>best_max_parses</th>\n",
       "      <th>max_update_items</th>\n",
       "      <th>initial_weight</th>\n",
       "      <th>loss_type</th>\n",
       "      <th>pa_type</th>\n",
       "    </tr>\n",
       "  </thead>\n",
       "  <tbody>\n",
       "    <tr>\n",
       "      <th>0</th>\n",
       "      <td>0.742961</td>\n",
       "      <td>0.738267</td>\n",
       "      <td>0.747715</td>\n",
       "      <td>2019-06-18 07:34:50.950000</td>\n",
       "      <td>2</td>\n",
       "      <td>0.0025</td>\n",
       "      <td>300</td>\n",
       "      <td>1</td>\n",
       "      <td>0.01</td>\n",
       "      <td>ml</td>\n",
       "      <td>1</td>\n",
       "    </tr>\n",
       "  </tbody>\n",
       "</table>\n",
       "</div>"
      ],
      "text/plain": [
       "   f1_score  precision    recall                        asof  best_top_n  \\\n",
       "0  0.742961   0.738267  0.747715  2019-06-18 07:34:50.950000           2   \n",
       "\n",
       "        C  best_max_parses  max_update_items  initial_weight loss_type  \\\n",
       "0  0.0025              300                 1            0.01        ml   \n",
       "\n",
       "   pa_type  \n",
       "0        1  "
      ]
     },
     "execution_count": 13,
     "metadata": {},
     "output_type": "execute_result"
    }
   ],
   "source": [
    "df_pa = get_df(\"TEST_CB_RE-RANKER_VD\", db)\n",
    "df_pa.head(1)"
   ]
  },
  {
   "cell_type": "markdown",
   "metadata": {},
   "source": [
    "## SC"
   ]
  },
  {
   "cell_type": "markdown",
   "metadata": {},
   "source": [
    "### VD"
   ]
  },
  {
   "cell_type": "code",
   "execution_count": 17,
   "metadata": {},
   "outputs": [
    {
     "data": {
      "text/html": [
       "<div>\n",
       "<table border=\"1\" class=\"dataframe\">\n",
       "  <thead>\n",
       "    <tr style=\"text-align: right;\">\n",
       "      <th></th>\n",
       "      <th>f1_score</th>\n",
       "      <th>precision</th>\n",
       "      <th>recall</th>\n",
       "      <th>asof</th>\n",
       "      <th>best_top_n</th>\n",
       "      <th>learning_rate</th>\n",
       "      <th>best_max_parses</th>\n",
       "      <th>max_update_items</th>\n",
       "      <th>initial_weight</th>\n",
       "    </tr>\n",
       "  </thead>\n",
       "  <tbody>\n",
       "    <tr>\n",
       "      <th>22</th>\n",
       "      <td>0.810473</td>\n",
       "      <td>0.851438</td>\n",
       "      <td>0.773269</td>\n",
       "      <td>2019-06-28 18:49:08.036000</td>\n",
       "      <td>5</td>\n",
       "      <td>0.5</td>\n",
       "      <td>300</td>\n",
       "      <td>1</td>\n",
       "      <td>0.01</td>\n",
       "    </tr>\n",
       "  </tbody>\n",
       "</table>\n",
       "</div>"
      ],
      "text/plain": [
       "    f1_score  precision    recall                        asof  best_top_n  \\\n",
       "22  0.810473   0.851438  0.773269  2019-06-28 18:49:08.036000           5   \n",
       "\n",
       "    learning_rate  best_max_parses  max_update_items  initial_weight  \n",
       "22            0.5              300                 1            0.01  "
      ]
     },
     "execution_count": 17,
     "metadata": {},
     "output_type": "execute_result"
    }
   ],
   "source": [
    "df_pa = get_df(\"SC_STR_PCPTRN_RE-RANKER_HYPER_PARAM_VD\", db)\n",
    "df_pa.head(1)"
   ]
  },
  {
   "cell_type": "code",
   "execution_count": 18,
   "metadata": {},
   "outputs": [
    {
     "data": {
      "text/html": [
       "<div>\n",
       "<table border=\"1\" class=\"dataframe\">\n",
       "  <thead>\n",
       "    <tr style=\"text-align: right;\">\n",
       "      <th></th>\n",
       "      <th>f1_score</th>\n",
       "      <th>precision</th>\n",
       "      <th>recall</th>\n",
       "      <th>asof</th>\n",
       "      <th>best_top_n</th>\n",
       "      <th>C</th>\n",
       "      <th>best_max_parses</th>\n",
       "      <th>max_update_items</th>\n",
       "      <th>initial_weight</th>\n",
       "      <th>pa_type</th>\n",
       "    </tr>\n",
       "  </thead>\n",
       "  <tbody>\n",
       "    <tr>\n",
       "      <th>8</th>\n",
       "      <td>0.806197</td>\n",
       "      <td>0.868521</td>\n",
       "      <td>0.752219</td>\n",
       "      <td>2019-06-23 16:19:24.964000</td>\n",
       "      <td>2</td>\n",
       "      <td>0.0005</td>\n",
       "      <td>300</td>\n",
       "      <td>1</td>\n",
       "      <td>0.01</td>\n",
       "      <td>1</td>\n",
       "    </tr>\n",
       "  </tbody>\n",
       "</table>\n",
       "</div>"
      ],
      "text/plain": [
       "   f1_score  precision    recall                        asof  best_top_n  \\\n",
       "8  0.806197   0.868521  0.752219  2019-06-23 16:19:24.964000           2   \n",
       "\n",
       "        C  best_max_parses  max_update_items  initial_weight  pa_type  \n",
       "8  0.0005              300                 1            0.01        1  "
      ]
     },
     "execution_count": 18,
     "metadata": {},
     "output_type": "execute_result"
    }
   ],
   "source": [
    "df_pa = get_df(\"SC_COST_INSENS_RE-RANKER_HYPER_PARAM_VD\", db)\n",
    "df_pa.head(1)"
   ]
  },
  {
   "cell_type": "code",
   "execution_count": 20,
   "metadata": {},
   "outputs": [
    {
     "data": {
      "text/html": [
       "<div>\n",
       "<table border=\"1\" class=\"dataframe\">\n",
       "  <thead>\n",
       "    <tr style=\"text-align: right;\">\n",
       "      <th></th>\n",
       "      <th>f1_score</th>\n",
       "      <th>precision</th>\n",
       "      <th>recall</th>\n",
       "      <th>asof</th>\n",
       "      <th>best_top_n</th>\n",
       "      <th>C</th>\n",
       "      <th>best_max_parses</th>\n",
       "      <th>max_update_items</th>\n",
       "      <th>initial_weight</th>\n",
       "      <th>loss_type</th>\n",
       "      <th>pa_type</th>\n",
       "    </tr>\n",
       "  </thead>\n",
       "  <tbody>\n",
       "    <tr>\n",
       "      <th>41</th>\n",
       "      <td>0.808089</td>\n",
       "      <td>0.856129</td>\n",
       "      <td>0.765153</td>\n",
       "      <td>2019-06-18 10:15:07.357000</td>\n",
       "      <td>3</td>\n",
       "      <td>0.01</td>\n",
       "      <td>300</td>\n",
       "      <td>1</td>\n",
       "      <td>0.01</td>\n",
       "      <td>ml</td>\n",
       "      <td>1</td>\n",
       "    </tr>\n",
       "  </tbody>\n",
       "</table>\n",
       "</div>"
      ],
      "text/plain": [
       "    f1_score  precision    recall                        asof  best_top_n  \\\n",
       "41  0.808089   0.856129  0.765153  2019-06-18 10:15:07.357000           3   \n",
       "\n",
       "       C  best_max_parses  max_update_items  initial_weight loss_type  pa_type  \n",
       "41  0.01              300                 1            0.01        ml        1  "
      ]
     },
     "execution_count": 20,
     "metadata": {},
     "output_type": "execute_result"
    }
   ],
   "source": [
    "df_pa = get_df(\"SC_RE-RANKER_HYPER_PARAM_VD\", db)\n",
    "df_pa.head(1)"
   ]
  },
  {
   "cell_type": "markdown",
   "metadata": {},
   "source": [
    "### Test"
   ]
  },
  {
   "cell_type": "code",
   "execution_count": 24,
   "metadata": {},
   "outputs": [
    {
     "data": {
      "text/html": [
       "<div>\n",
       "<table border=\"1\" class=\"dataframe\">\n",
       "  <thead>\n",
       "    <tr style=\"text-align: right;\">\n",
       "      <th></th>\n",
       "      <th>f1_score</th>\n",
       "      <th>precision</th>\n",
       "      <th>recall</th>\n",
       "      <th>asof</th>\n",
       "      <th>best_top_n</th>\n",
       "      <th>learning_rate</th>\n",
       "      <th>best_max_parses</th>\n",
       "      <th>max_update_items</th>\n",
       "      <th>initial_weight</th>\n",
       "    </tr>\n",
       "  </thead>\n",
       "  <tbody>\n",
       "    <tr>\n",
       "      <th>0</th>\n",
       "      <td>0.82448</td>\n",
       "      <td>0.868613</td>\n",
       "      <td>0.784615</td>\n",
       "      <td>2019-06-28 19:11:53.297000</td>\n",
       "      <td>1</td>\n",
       "      <td>0.1</td>\n",
       "      <td>300</td>\n",
       "      <td>1</td>\n",
       "      <td>0.01</td>\n",
       "    </tr>\n",
       "  </tbody>\n",
       "</table>\n",
       "</div>"
      ],
      "text/plain": [
       "   f1_score  precision    recall                        asof  best_top_n  \\\n",
       "0   0.82448   0.868613  0.784615  2019-06-28 19:11:53.297000           1   \n",
       "\n",
       "   learning_rate  best_max_parses  max_update_items  initial_weight  \n",
       "0            0.1              300                 1            0.01  "
      ]
     },
     "execution_count": 24,
     "metadata": {},
     "output_type": "execute_result"
    }
   ],
   "source": [
    "df_pa = get_df(\"TEST_SC_STR_PCPTRN_RE-RANKER_VD\", db)\n",
    "df_pa.head(1)"
   ]
  },
  {
   "cell_type": "code",
   "execution_count": 26,
   "metadata": {},
   "outputs": [
    {
     "data": {
      "text/html": [
       "<div>\n",
       "<table border=\"1\" class=\"dataframe\">\n",
       "  <thead>\n",
       "    <tr style=\"text-align: right;\">\n",
       "      <th></th>\n",
       "      <th>f1_score</th>\n",
       "      <th>precision</th>\n",
       "      <th>recall</th>\n",
       "      <th>asof</th>\n",
       "      <th>best_top_n</th>\n",
       "      <th>C</th>\n",
       "      <th>best_max_parses</th>\n",
       "      <th>max_update_items</th>\n",
       "      <th>initial_weight</th>\n",
       "      <th>loss_type</th>\n",
       "      <th>pa_type</th>\n",
       "    </tr>\n",
       "  </thead>\n",
       "  <tbody>\n",
       "    <tr>\n",
       "      <th>0</th>\n",
       "      <td>0.827042</td>\n",
       "      <td>0.848555</td>\n",
       "      <td>0.806593</td>\n",
       "      <td>2019-06-18 15:24:03.945000</td>\n",
       "      <td>3</td>\n",
       "      <td>0.01</td>\n",
       "      <td>300</td>\n",
       "      <td>1</td>\n",
       "      <td>0.01</td>\n",
       "      <td>ml</td>\n",
       "      <td>1</td>\n",
       "    </tr>\n",
       "  </tbody>\n",
       "</table>\n",
       "</div>"
      ],
      "text/plain": [
       "   f1_score  precision    recall                        asof  best_top_n  \\\n",
       "0  0.827042   0.848555  0.806593  2019-06-18 15:24:03.945000           3   \n",
       "\n",
       "      C  best_max_parses  max_update_items  initial_weight loss_type  pa_type  \n",
       "0  0.01              300                 1            0.01        ml        1  "
      ]
     },
     "execution_count": 26,
     "metadata": {},
     "output_type": "execute_result"
    }
   ],
   "source": [
    "df_pa = get_df(\"TEST_SC_RE-RANKER_VD\", db)\n",
    "df_pa.head(1)"
   ]
  },
  {
   "cell_type": "code",
   "execution_count": null,
   "metadata": {},
   "outputs": [],
   "source": []
  }
 ],
 "metadata": {
  "anaconda-cloud": {},
  "kernelspec": {
   "display_name": "Python [conda env:phd_py36]",
   "language": "python",
   "name": "conda-env-phd_py36-py"
  },
  "language_info": {
   "codemirror_mode": {
    "name": "ipython",
    "version": 3
   },
   "file_extension": ".py",
   "mimetype": "text/x-python",
   "name": "python",
   "nbconvert_exporter": "python",
   "pygments_lexer": "ipython3",
   "version": "3.6.4"
  }
 },
 "nbformat": 4,
 "nbformat_minor": 2
}
