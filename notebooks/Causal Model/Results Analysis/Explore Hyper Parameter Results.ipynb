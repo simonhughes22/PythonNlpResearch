{
 "cells": [
  {
   "cell_type": "markdown",
   "metadata": {},
   "source": [
    "## Get Best-Performing Hyper Parameters"
   ]
  },
  {
   "cell_type": "code",
   "execution_count": 87,
   "metadata": {},
   "outputs": [
    {
     "data": {
      "text/plain": [
       "'SC_COST_INSENS_RE-RANKER_HYPER_PARAM_VD'"
      ]
     },
     "execution_count": 87,
     "metadata": {},
     "output_type": "execute_result"
    }
   ],
   "source": [
    "# MONGO_COLLECTION = \"CB_RE-RANKER_HYPER_PARAM_VD\"\n",
    "# MONGO_COLLECTION = \"CB_COST_INSENS_RE-RANKER_HYPER_PARAM_VD\"\n",
    "\n",
    "# MONGO_COLLECTION = \"SC_RE-RANKER_HYPER_PARAM_VD\"\n",
    "MONGO_COLLECTION = \"SC_COST_INSENS_RE-RANKER_HYPER_PARAM_VD\"\n",
    "\n",
    "MONGO_COLLECTION"
   ]
  },
  {
   "cell_type": "code",
   "execution_count": 88,
   "metadata": {},
   "outputs": [],
   "source": [
    "assert MONGO_COLLECTION.endswith(\"VD\")"
   ]
  },
  {
   "cell_type": "code",
   "execution_count": 89,
   "metadata": {},
   "outputs": [],
   "source": [
    "cols = [\"f1_score\", \"precision\", \"recall\", \"asof\", \"best_top_n\", \"C\", \"best_max_parses\", \n",
    "    #\"best_max_upd\", \n",
    "    \"max_update_items\", \n",
    "    # \"best_min_prob\", \"extractors\", \n",
    "    \"initial_weight\", \"loss_type\",\\\n",
    "    #\"min_feat_freq\",\n",
    "    \"pa_type\"]\n",
    "if \"INSENS\" in MONGO_COLLECTION:\n",
    "    cols = [c for c in cols if c != \"loss_type\"]\n",
    "# cols"
   ]
  },
  {
   "cell_type": "code",
   "execution_count": 90,
   "metadata": {},
   "outputs": [],
   "source": [
    "import pandas as pd\n",
    "import pymongo\n",
    "\n",
    "client = pymongo.MongoClient(serverSelectionTimeoutMS=100, host=\"127.0.0.1\")\n",
    "db = client.metrics_causal_model_reranker\n",
    "\n",
    "project = {\n",
    "        \"params\": \"$parameters\",\n",
    "        \"micro_f1\": \"$MICRO_F1\",\n",
    "        \"asof\": \"$asof\",\n",
    "        \"_id\": 1\n",
    "    }\n",
    "feats_pipeline = [{ \"$project\": project }]\n",
    "rows = [row for row in db[MONGO_COLLECTION].aggregate(feats_pipeline)]\n",
    "\n",
    "results = []\n",
    "for r in rows:\n",
    "    d = dict(r[\"params\"])\n",
    "    d.update(r[\"micro_f1\"])\n",
    "    d[\"asof\"] = str(r[\"asof\"])\n",
    "    results.append(d)"
   ]
  },
  {
   "cell_type": "code",
   "execution_count": 91,
   "metadata": {},
   "outputs": [],
   "source": [
    "df = pd.DataFrame(results)\n",
    "# df.tail(3)[[\"asof\"] + cols]"
   ]
  },
  {
   "cell_type": "code",
   "execution_count": 92,
   "metadata": {},
   "outputs": [
    {
     "data": {
      "text/html": [
       "<div>\n",
       "<table border=\"1\" class=\"dataframe\">\n",
       "  <thead>\n",
       "    <tr style=\"text-align: right;\">\n",
       "      <th></th>\n",
       "      <th>f1_score</th>\n",
       "      <th>precision</th>\n",
       "      <th>recall</th>\n",
       "      <th>asof</th>\n",
       "      <th>best_top_n</th>\n",
       "      <th>C</th>\n",
       "      <th>best_max_parses</th>\n",
       "      <th>max_update_items</th>\n",
       "      <th>initial_weight</th>\n",
       "      <th>pa_type</th>\n",
       "    </tr>\n",
       "  </thead>\n",
       "  <tbody>\n",
       "    <tr>\n",
       "      <th>8</th>\n",
       "      <td>0.806197</td>\n",
       "      <td>0.868521</td>\n",
       "      <td>0.752219</td>\n",
       "      <td>2019-06-23 16:19:24.964000</td>\n",
       "      <td>2</td>\n",
       "      <td>0.0005</td>\n",
       "      <td>300</td>\n",
       "      <td>1</td>\n",
       "      <td>0.01</td>\n",
       "      <td>1</td>\n",
       "    </tr>\n",
       "    <tr>\n",
       "      <th>0</th>\n",
       "      <td>0.805982</td>\n",
       "      <td>0.868699</td>\n",
       "      <td>0.751712</td>\n",
       "      <td>2019-06-23 13:43:53.839000</td>\n",
       "      <td>1</td>\n",
       "      <td>0.0005</td>\n",
       "      <td>300</td>\n",
       "      <td>1</td>\n",
       "      <td>0.01</td>\n",
       "      <td>1</td>\n",
       "    </tr>\n",
       "    <tr>\n",
       "      <th>1</th>\n",
       "      <td>0.805234</td>\n",
       "      <td>0.870359</td>\n",
       "      <td>0.749176</td>\n",
       "      <td>2019-06-23 16:00:51.402000</td>\n",
       "      <td>1</td>\n",
       "      <td>0.0005</td>\n",
       "      <td>300</td>\n",
       "      <td>1</td>\n",
       "      <td>0.01</td>\n",
       "      <td>2</td>\n",
       "    </tr>\n",
       "    <tr>\n",
       "      <th>9</th>\n",
       "      <td>0.805234</td>\n",
       "      <td>0.870359</td>\n",
       "      <td>0.749176</td>\n",
       "      <td>2019-06-23 16:21:43.095000</td>\n",
       "      <td>2</td>\n",
       "      <td>0.0005</td>\n",
       "      <td>300</td>\n",
       "      <td>1</td>\n",
       "      <td>0.01</td>\n",
       "      <td>2</td>\n",
       "    </tr>\n",
       "    <tr>\n",
       "      <th>30</th>\n",
       "      <td>0.805043</td>\n",
       "      <td>0.864841</td>\n",
       "      <td>0.752980</td>\n",
       "      <td>2019-06-23 18:25:36.964000</td>\n",
       "      <td>5</td>\n",
       "      <td>0.1000</td>\n",
       "      <td>300</td>\n",
       "      <td>1</td>\n",
       "      <td>0.01</td>\n",
       "      <td>1</td>\n",
       "    </tr>\n",
       "  </tbody>\n",
       "</table>\n",
       "</div>"
      ],
      "text/plain": [
       "    f1_score  precision    recall                        asof  best_top_n  \\\n",
       "8   0.806197   0.868521  0.752219  2019-06-23 16:19:24.964000           2   \n",
       "0   0.805982   0.868699  0.751712  2019-06-23 13:43:53.839000           1   \n",
       "1   0.805234   0.870359  0.749176  2019-06-23 16:00:51.402000           1   \n",
       "9   0.805234   0.870359  0.749176  2019-06-23 16:21:43.095000           2   \n",
       "30  0.805043   0.864841  0.752980  2019-06-23 18:25:36.964000           5   \n",
       "\n",
       "         C  best_max_parses  max_update_items  initial_weight  pa_type  \n",
       "8   0.0005              300                 1            0.01        1  \n",
       "0   0.0005              300                 1            0.01        1  \n",
       "1   0.0005              300                 1            0.01        2  \n",
       "9   0.0005              300                 1            0.01        2  \n",
       "30  0.1000              300                 1            0.01        1  "
      ]
     },
     "execution_count": 92,
     "metadata": {},
     "output_type": "execute_result"
    }
   ],
   "source": [
    "df = pd.DataFrame(results)\n",
    "df = df.sort_values(by=\"f1_score\",ascending=False)\n",
    "df[cols].head(5)"
   ]
  },
  {
   "cell_type": "code",
   "execution_count": 93,
   "metadata": {},
   "outputs": [],
   "source": [
    "# Best ones that are not 2\n",
    "# df[df.best_top_n != 2][cols].head()"
   ]
  },
  {
   "cell_type": "code",
   "execution_count": null,
   "metadata": {},
   "outputs": [],
   "source": []
  }
 ],
 "metadata": {
  "anaconda-cloud": {},
  "kernelspec": {
   "display_name": "Python [conda env:phd_py36]",
   "language": "python",
   "name": "conda-env-phd_py36-py"
  },
  "language_info": {
   "codemirror_mode": {
    "name": "ipython",
    "version": 3
   },
   "file_extension": ".py",
   "mimetype": "text/x-python",
   "name": "python",
   "nbconvert_exporter": "python",
   "pygments_lexer": "ipython3",
   "version": "3.6.4"
  }
 },
 "nbformat": 4,
 "nbformat_minor": 2
}
