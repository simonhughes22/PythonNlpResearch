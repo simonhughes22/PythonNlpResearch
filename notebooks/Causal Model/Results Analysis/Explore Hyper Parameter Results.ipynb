{
 "cells": [
  {
   "cell_type": "markdown",
   "metadata": {},
   "source": [
    "## Get Best-Performing Hyper Parameters"
   ]
  },
  {
   "cell_type": "code",
   "execution_count": 193,
   "metadata": {},
   "outputs": [
    {
     "data": {
      "text/plain": [
       "'CB_STR_PCPTRN_RE-RANKER_HYPER_PARAM_VD'"
      ]
     },
     "execution_count": 193,
     "metadata": {},
     "output_type": "execute_result"
    }
   ],
   "source": [
    "# MONGO_COLLECTION = \"CB_RE-RANKER_HYPER_PARAM_VD\"\n",
    "# MONGO_COLLECTION = \"CB_COST_INSENS_RE-RANKER_HYPER_PARAM_VD\"\n",
    "\n",
    "MONGO_COLLECTION = \"CB_STR_PCPTRN_RE-RANKER_HYPER_PARAM_VD\"\n",
    "\n",
    "# MONGO_COLLECTION = \"SC_RE-RANKER_HYPER_PARAM_VD\"\n",
    "# MONGO_COLLECTION = \"SC_COST_INSENS_RE-RANKER_HYPER_PARAM_VD\"\n",
    "\n",
    "MONGO_COLLECTION"
   ]
  },
  {
   "cell_type": "code",
   "execution_count": 194,
   "metadata": {},
   "outputs": [],
   "source": [
    "assert MONGO_COLLECTION.endswith(\"VD\")"
   ]
  },
  {
   "cell_type": "code",
   "execution_count": 195,
   "metadata": {},
   "outputs": [],
   "source": [
    "cols = [\"f1_score\", \"precision\", \"recall\", \"asof\", \"best_top_n\", \"C\", \"best_max_parses\", \n",
    "    #\"best_max_upd\", \n",
    "    \"max_update_items\", \n",
    "    # \"best_min_prob\", \"extractors\", \n",
    "    \"initial_weight\", \"loss_type\",\\\n",
    "    #\"min_feat_freq\",\n",
    "    \"pa_type\"]\n",
    "if \"INSENS\" in MONGO_COLLECTION:\n",
    "    cols = [c for c in cols if c != \"loss_type\"]\n",
    "\n",
    "elif \"PCPTRN\" in MONGO_COLLECTION:\n",
    "    cols = [\"f1_score\", \"precision\", \"recall\", \"asof\", \"best_top_n\", \"learning_rate\", \"best_max_parses\", \n",
    "    #\"best_max_upd\", \n",
    "    \"max_update_items\", \n",
    "    # \"best_min_prob\", \"extractors\", \n",
    "    \"initial_weight\"]\n",
    "    #\"min_feat_freq\"]\n",
    "# cols"
   ]
  },
  {
   "cell_type": "code",
   "execution_count": 196,
   "metadata": {},
   "outputs": [
    {
     "data": {
      "text/plain": [
       "array([ 2,  3,  5, 10])"
      ]
     },
     "execution_count": 196,
     "metadata": {},
     "output_type": "execute_result"
    }
   ],
   "source": [
    "import numpy as np\n",
    "\n",
    "np.unique([5,3,2,5,10])"
   ]
  },
  {
   "cell_type": "code",
   "execution_count": 197,
   "metadata": {},
   "outputs": [],
   "source": [
    "import pandas as pd\n",
    "import pymongo\n",
    "\n",
    "client = pymongo.MongoClient(serverSelectionTimeoutMS=100, host=\"127.0.0.1\")\n",
    "db = client.metrics_causal_model_reranker\n",
    "\n",
    "project = {\n",
    "        \"params\": \"$parameters\",\n",
    "        \"micro_f1\": \"$MICRO_F1\",\n",
    "        \"asof\": \"$asof\",\n",
    "        \"_id\": 1\n",
    "    }\n",
    "feats_pipeline = [{ \"$project\": project }]\n",
    "rows = [row for row in db[MONGO_COLLECTION].aggregate(feats_pipeline)]\n",
    "\n",
    "results = []\n",
    "for r in rows:\n",
    "    d = dict(r[\"params\"])\n",
    "    d.update(r[\"micro_f1\"])\n",
    "    d[\"asof\"] = str(r[\"asof\"])\n",
    "    results.append(d)"
   ]
  },
  {
   "cell_type": "code",
   "execution_count": 198,
   "metadata": {},
   "outputs": [],
   "source": [
    "df = pd.DataFrame(results)\n",
    "# df.tail(3)[[\"asof\"] + cols]"
   ]
  },
  {
   "cell_type": "code",
   "execution_count": 199,
   "metadata": {},
   "outputs": [
    {
     "data": {
      "text/html": [
       "<div>\n",
       "<table border=\"1\" class=\"dataframe\">\n",
       "  <thead>\n",
       "    <tr style=\"text-align: right;\">\n",
       "      <th></th>\n",
       "      <th>f1_score</th>\n",
       "      <th>precision</th>\n",
       "      <th>recall</th>\n",
       "      <th>asof</th>\n",
       "      <th>best_top_n</th>\n",
       "      <th>learning_rate</th>\n",
       "      <th>best_max_parses</th>\n",
       "      <th>max_update_items</th>\n",
       "      <th>initial_weight</th>\n",
       "    </tr>\n",
       "  </thead>\n",
       "  <tbody>\n",
       "    <tr>\n",
       "      <th>31</th>\n",
       "      <td>0.739864</td>\n",
       "      <td>0.789648</td>\n",
       "      <td>0.695985</td>\n",
       "      <td>2019-06-24 19:21:45.584000</td>\n",
       "      <td>1</td>\n",
       "      <td>1.00</td>\n",
       "      <td>300</td>\n",
       "      <td>2</td>\n",
       "      <td>0.01</td>\n",
       "    </tr>\n",
       "    <tr>\n",
       "      <th>7</th>\n",
       "      <td>0.739806</td>\n",
       "      <td>0.790456</td>\n",
       "      <td>0.695255</td>\n",
       "      <td>2019-06-24 18:20:20.722000</td>\n",
       "      <td>2</td>\n",
       "      <td>1.00</td>\n",
       "      <td>300</td>\n",
       "      <td>2</td>\n",
       "      <td>0.01</td>\n",
       "    </tr>\n",
       "    <tr>\n",
       "      <th>3</th>\n",
       "      <td>0.739763</td>\n",
       "      <td>0.789888</td>\n",
       "      <td>0.695620</td>\n",
       "      <td>2019-06-24 18:15:51.144000</td>\n",
       "      <td>2</td>\n",
       "      <td>0.01</td>\n",
       "      <td>300</td>\n",
       "      <td>2</td>\n",
       "      <td>0.01</td>\n",
       "    </tr>\n",
       "    <tr>\n",
       "      <th>28</th>\n",
       "      <td>0.739434</td>\n",
       "      <td>0.788668</td>\n",
       "      <td>0.695985</td>\n",
       "      <td>2019-06-24 19:17:59.117000</td>\n",
       "      <td>1</td>\n",
       "      <td>0.05</td>\n",
       "      <td>300</td>\n",
       "      <td>2</td>\n",
       "      <td>0.01</td>\n",
       "    </tr>\n",
       "    <tr>\n",
       "      <th>14</th>\n",
       "      <td>0.739349</td>\n",
       "      <td>0.787541</td>\n",
       "      <td>0.696715</td>\n",
       "      <td>2019-06-24 18:41:10.773000</td>\n",
       "      <td>3</td>\n",
       "      <td>0.50</td>\n",
       "      <td>300</td>\n",
       "      <td>2</td>\n",
       "      <td>0.01</td>\n",
       "    </tr>\n",
       "  </tbody>\n",
       "</table>\n",
       "</div>"
      ],
      "text/plain": [
       "    f1_score  precision    recall                        asof  best_top_n  \\\n",
       "31  0.739864   0.789648  0.695985  2019-06-24 19:21:45.584000           1   \n",
       "7   0.739806   0.790456  0.695255  2019-06-24 18:20:20.722000           2   \n",
       "3   0.739763   0.789888  0.695620  2019-06-24 18:15:51.144000           2   \n",
       "28  0.739434   0.788668  0.695985  2019-06-24 19:17:59.117000           1   \n",
       "14  0.739349   0.787541  0.696715  2019-06-24 18:41:10.773000           3   \n",
       "\n",
       "    learning_rate  best_max_parses  max_update_items  initial_weight  \n",
       "31           1.00              300                 2            0.01  \n",
       "7            1.00              300                 2            0.01  \n",
       "3            0.01              300                 2            0.01  \n",
       "28           0.05              300                 2            0.01  \n",
       "14           0.50              300                 2            0.01  "
      ]
     },
     "execution_count": 199,
     "metadata": {},
     "output_type": "execute_result"
    }
   ],
   "source": [
    "df = pd.DataFrame(results)\n",
    "df = df.sort_values(by=\"f1_score\",ascending=False)\n",
    "df[cols].head(5)"
   ]
  },
  {
   "cell_type": "code",
   "execution_count": 189,
   "metadata": {},
   "outputs": [
    {
     "data": {
      "text/plain": [
       "'CB_STR_PCPTRN_RE-RANKER_HYPER_PARAM_VD'"
      ]
     },
     "execution_count": 189,
     "metadata": {},
     "output_type": "execute_result"
    }
   ],
   "source": [
    "MONGO_COLLECTION"
   ]
  },
  {
   "cell_type": "code",
   "execution_count": 190,
   "metadata": {},
   "outputs": [
    {
     "data": {
      "text/html": [
       "<div>\n",
       "<table border=\"1\" class=\"dataframe\">\n",
       "  <thead>\n",
       "    <tr style=\"text-align: right;\">\n",
       "      <th></th>\n",
       "      <th>f1_score</th>\n",
       "      <th>precision</th>\n",
       "      <th>recall</th>\n",
       "      <th>asof</th>\n",
       "      <th>best_top_n</th>\n",
       "      <th>learning_rate</th>\n",
       "      <th>best_max_parses</th>\n",
       "      <th>max_update_items</th>\n",
       "      <th>initial_weight</th>\n",
       "    </tr>\n",
       "  </thead>\n",
       "  <tbody>\n",
       "    <tr>\n",
       "      <th>31</th>\n",
       "      <td>0.739864</td>\n",
       "      <td>0.789648</td>\n",
       "      <td>0.695985</td>\n",
       "      <td>2019-06-24 19:21:45.584000</td>\n",
       "      <td>1</td>\n",
       "      <td>1.00</td>\n",
       "      <td>300</td>\n",
       "      <td>2</td>\n",
       "      <td>0.01</td>\n",
       "    </tr>\n",
       "    <tr>\n",
       "      <th>7</th>\n",
       "      <td>0.739806</td>\n",
       "      <td>0.790456</td>\n",
       "      <td>0.695255</td>\n",
       "      <td>2019-06-24 18:20:20.722000</td>\n",
       "      <td>2</td>\n",
       "      <td>1.00</td>\n",
       "      <td>300</td>\n",
       "      <td>2</td>\n",
       "      <td>0.01</td>\n",
       "    </tr>\n",
       "    <tr>\n",
       "      <th>3</th>\n",
       "      <td>0.739763</td>\n",
       "      <td>0.789888</td>\n",
       "      <td>0.695620</td>\n",
       "      <td>2019-06-24 18:15:51.144000</td>\n",
       "      <td>2</td>\n",
       "      <td>0.01</td>\n",
       "      <td>300</td>\n",
       "      <td>2</td>\n",
       "      <td>0.01</td>\n",
       "    </tr>\n",
       "    <tr>\n",
       "      <th>28</th>\n",
       "      <td>0.739434</td>\n",
       "      <td>0.788668</td>\n",
       "      <td>0.695985</td>\n",
       "      <td>2019-06-24 19:17:59.117000</td>\n",
       "      <td>1</td>\n",
       "      <td>0.05</td>\n",
       "      <td>300</td>\n",
       "      <td>2</td>\n",
       "      <td>0.01</td>\n",
       "    </tr>\n",
       "    <tr>\n",
       "      <th>14</th>\n",
       "      <td>0.739349</td>\n",
       "      <td>0.787541</td>\n",
       "      <td>0.696715</td>\n",
       "      <td>2019-06-24 18:41:10.773000</td>\n",
       "      <td>3</td>\n",
       "      <td>0.50</td>\n",
       "      <td>300</td>\n",
       "      <td>2</td>\n",
       "      <td>0.01</td>\n",
       "    </tr>\n",
       "  </tbody>\n",
       "</table>\n",
       "</div>"
      ],
      "text/plain": [
       "    f1_score  precision    recall                        asof  best_top_n  \\\n",
       "31  0.739864   0.789648  0.695985  2019-06-24 19:21:45.584000           1   \n",
       "7   0.739806   0.790456  0.695255  2019-06-24 18:20:20.722000           2   \n",
       "3   0.739763   0.789888  0.695620  2019-06-24 18:15:51.144000           2   \n",
       "28  0.739434   0.788668  0.695985  2019-06-24 19:17:59.117000           1   \n",
       "14  0.739349   0.787541  0.696715  2019-06-24 18:41:10.773000           3   \n",
       "\n",
       "    learning_rate  best_max_parses  max_update_items  initial_weight  \n",
       "31           1.00              300                 2            0.01  \n",
       "7            1.00              300                 2            0.01  \n",
       "3            0.01              300                 2            0.01  \n",
       "28           0.05              300                 2            0.01  \n",
       "14           0.50              300                 2            0.01  "
      ]
     },
     "execution_count": 190,
     "metadata": {},
     "output_type": "execute_result"
    }
   ],
   "source": [
    "df = pd.DataFrame(results)\n",
    "df = df.sort_values(by=\"f1_score\",ascending=False)\n",
    "df[cols].head(5)"
   ]
  },
  {
   "cell_type": "code",
   "execution_count": 191,
   "metadata": {},
   "outputs": [
    {
     "data": {
      "text/plain": [
       "array([2])"
      ]
     },
     "execution_count": 191,
     "metadata": {},
     "output_type": "execute_result"
    }
   ],
   "source": [
    "df.max_update_items.unique()"
   ]
  },
  {
   "cell_type": "code",
   "execution_count": 192,
   "metadata": {},
   "outputs": [],
   "source": [
    "# Best ones that are not 2\n",
    "# df[df.best_top_n != 2][cols].head()"
   ]
  },
  {
   "cell_type": "code",
   "execution_count": null,
   "metadata": {},
   "outputs": [],
   "source": []
  }
 ],
 "metadata": {
  "anaconda-cloud": {},
  "kernelspec": {
   "display_name": "Python [conda env:phd_py36]",
   "language": "python",
   "name": "conda-env-phd_py36-py"
  },
  "language_info": {
   "codemirror_mode": {
    "name": "ipython",
    "version": 3
   },
   "file_extension": ".py",
   "mimetype": "text/x-python",
   "name": "python",
   "nbconvert_exporter": "python",
   "pygments_lexer": "ipython3",
   "version": "3.6.4"
  }
 },
 "nbformat": 4,
 "nbformat_minor": 2
}
