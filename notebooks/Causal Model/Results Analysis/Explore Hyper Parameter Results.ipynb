{
 "cells": [
  {
   "cell_type": "markdown",
   "metadata": {},
   "source": [
    "## Get Best-Performing Hyper Parameters"
   ]
  },
  {
   "cell_type": "code",
   "execution_count": 1,
   "metadata": {},
   "outputs": [
    {
     "name": "stdout",
     "output_type": "stream",
     "text": [
      "/Users/simon.hughes/anaconda3/envs/phd_py36/bin/python\n"
     ]
    }
   ],
   "source": [
    "!which python"
   ]
  },
  {
   "cell_type": "code",
   "execution_count": 2,
   "metadata": {},
   "outputs": [
    {
     "name": "stdout",
     "output_type": "stream",
     "text": [
      "appnope==0.1.0\n",
      "attrs==19.1.0\n",
      "backcall==0.1.0\n",
      "bleach==3.1.0\n",
      "boto==2.47.0\n",
      "boto3==1.9.18\n",
      "botocore==1.12.18\n",
      "bz2file==0.98\n",
      "certifi==2016.2.28\n",
      "costcla==0.5\n",
      "cycler==0.10.0\n",
      "cymem==1.31.2\n",
      "cytoolz==0.8.2\n",
      "decorator==4.4.0\n",
      "defusedxml==0.5.0\n",
      "dill==0.2.8.2\n",
      "docutils==0.14\n",
      "entrypoints==0.3\n",
      "ftfy==4.4.3\n",
      "gensim==0.13.4\n",
      "h5py==2.7.0\n",
      "html5lib==0.999\n",
      "ipykernel==5.1.1\n",
      "ipython==7.6.1\n",
      "ipython-genutils==0.2.0\n",
      "ipywidgets==7.4.2\n",
      "jedi==0.14.0\n",
      "Jinja2==2.10.1\n",
      "jmespath==0.9.3\n",
      "joblib==0.9.4\n",
      "json5==0.8.4\n",
      "jsonschema==3.0.1\n",
      "jupyter==1.0.0\n",
      "jupyter-client==5.2.4\n",
      "jupyter-console==6.0.0\n",
      "jupyter-core==4.4.0\n",
      "jupyterlab==1.0.1\n",
      "jupyterlab-server==1.0.0\n",
      "MarkupSafe==1.1.1\n",
      "matplotlib==2.0.0\n",
      "mistune==0.8.4\n",
      "murmurhash==0.26.4\n",
      "nbconvert==5.5.0\n",
      "nbformat==4.4.0\n",
      "nltk==3.2.2\n",
      "nose==1.3.7\n",
      "notebook==5.7.8\n",
      "numpy==1.15.2\n",
      "pandas==0.19.2\n",
      "pandocfilters==1.4.2\n",
      "parso==0.5.0\n",
      "pathlib==1.0.1\n",
      "pexpect==4.7.0\n",
      "pickleshare==0.7.5\n",
      "plac==0.9.6\n",
      "preshed==1.0.1\n",
      "prometheus-client==0.7.1\n",
      "prompt-toolkit==2.0.9\n",
      "ptyprocess==0.6.0\n",
      "pyea==0.2\n",
      "Pygments==2.4.2\n",
      "pymongo==3.4.0\n",
      "pyparsing==2.2.2\n",
      "pyrsistent==0.15.2\n",
      "python-dateutil==2.8.0\n",
      "pytz==2018.5\n",
      "pyzmq==18.0.2\n",
      "qtconsole==4.4.1\n",
      "regex==2017.4.5\n",
      "requests==2.14.2\n",
      "s3transfer==0.1.13\n",
      "scikit-learn==0.18.1\n",
      "scikit-optimize==0.3\n",
      "scipy==1.1.0\n",
      "seaborn==0.7.1\n",
      "Send2Trash==1.5.0\n",
      "simplegeneric==0.8.1\n",
      "six==1.12.0\n",
      "smart-open==1.7.1\n",
      "spacy==1.8.2\n",
      "termcolor==1.1.0\n",
      "terminado==0.8.2\n",
      "testpath==0.4.2\n",
      "thinc==6.5.2\n",
      "toolz==0.9.0\n",
      "tornado==6.0.3\n",
      "tqdm==4.26.0\n",
      "traitlets==4.3.2\n",
      "ujson==1.35\n",
      "urllib3==1.23\n",
      "wcwidth==0.1.7\n",
      "webencodings==0.5.1\n",
      "widgetsnbextension==3.4.2\n",
      "wrapt==1.10.11\n"
     ]
    }
   ],
   "source": [
    "!pip freeze"
   ]
  },
  {
   "cell_type": "code",
   "execution_count": 3,
   "metadata": {},
   "outputs": [],
   "source": [
    "import pandas as pd\n",
    "import pymongo"
   ]
  },
  {
   "cell_type": "code",
   "execution_count": 4,
   "metadata": {},
   "outputs": [],
   "source": [
    "client = pymongo.MongoClient(serverSelectionTimeoutMS=100, host=\"127.0.0.1\")\n",
    "db = client.metrics_causal_model_reranker"
   ]
  },
  {
   "cell_type": "code",
   "execution_count": 5,
   "metadata": {},
   "outputs": [],
   "source": [
    "import datetime\n",
    "\n",
    "def fmt_dt(date_time_str):\n",
    "    dt= datetime.datetime.strptime(date_time_str, '%Y-%m-%d %H:%M:%S.%f')\n",
    "    return dt.strftime(\"%m-%d-%Y %H:%M\")\n",
    "\n",
    "def query_collection(collection):\n",
    "    db = client.metrics_causal_model_reranker\n",
    "    if \"SENT_\" in collection:\n",
    "        db = client.metrics_causal_model_parser\n",
    "        \n",
    "    project = {\n",
    "            \"params\": \"$parameters\",\n",
    "            \"micro_f1\": \"$MICRO_F1\",\n",
    "            \"asof\": \"$asof\",\n",
    "            \"_id\": 1\n",
    "        }\n",
    "    feats_pipeline = [{ \"$project\": project }]\n",
    "    rows = [row for row in db[collection].aggregate(feats_pipeline)]\n",
    "    if len(rows) == 0:\n",
    "        return pd.DataFrame([])\n",
    "\n",
    "    results = []\n",
    "    for r in rows:\n",
    "        d = dict(r[\"params\"])\n",
    "        d.update(r[\"micro_f1\"])\n",
    "        d[\"asof\"] = str(r[\"asof\"])\n",
    "        results.append(d)\n",
    "    \n",
    "    df = pd.DataFrame(results)\n",
    "    df[\"extractors\"] = df[\"extractors\"].apply(lambda l: \",\".join(l))\n",
    "#     df[\"asof\"] = df[\"asof\"].apply(fmt_dt)\n",
    "    df = df.sort_values(by=\"f1_score\",ascending=False)\n",
    "    return df"
   ]
  },
  {
   "cell_type": "code",
   "execution_count": 6,
   "metadata": {},
   "outputs": [],
   "source": [
    "def get_df(collection):\n",
    "    assert \"_VD\" in collection\n",
    "    cols = [\"best_top_n\", \"C\", \"best_max_parses\", \n",
    "        #\"best_max_upd\", \n",
    "        \"max_update_items\", \n",
    "        # \"best_min_prob\", \"extractors\", \n",
    "        \"initial_weight\", \"loss_type\",\\\n",
    "        #\"min_feat_freq\",\n",
    "        \"pa_type\", \"early_stopping_iters\",]    \n",
    "    \n",
    "    if \"SENT\" in collection:\n",
    "        cols = []\n",
    "    elif \"PCPTRN\" in collection:\n",
    "        cols = [\"best_top_n\", \"learning_rate\", \"best_max_parses\", \n",
    "        #\"best_max_upd\", \n",
    "        \"max_update_items\", \n",
    "        # \"best_min_prob\", \"extractors\", \n",
    "        \"initial_weight\",\"early_stopping_iters\",]\n",
    "        #\"min_feat_freq\"]\n",
    "    \n",
    "    # add common cols\n",
    "    cols = [\"f1_score\", \"precision\", \"recall\", \"asof\"] + cols + [\"extractors\", \"num_feats_MEAN\"]\n",
    "    df = query_collection(collection)\n",
    "    return df[cols]"
   ]
  },
  {
   "cell_type": "code",
   "execution_count": 7,
   "metadata": {},
   "outputs": [
    {
     "data": {
      "text/html": [
       "<div>\n",
       "<table border=\"1\" class=\"dataframe\">\n",
       "  <thead>\n",
       "    <tr style=\"text-align: right;\">\n",
       "      <th></th>\n",
       "      <th>f1_score</th>\n",
       "      <th>precision</th>\n",
       "      <th>recall</th>\n",
       "      <th>asof</th>\n",
       "      <th>best_top_n</th>\n",
       "      <th>learning_rate</th>\n",
       "      <th>best_max_parses</th>\n",
       "      <th>max_update_items</th>\n",
       "      <th>initial_weight</th>\n",
       "      <th>early_stopping_iters</th>\n",
       "      <th>extractors</th>\n",
       "      <th>num_feats_MEAN</th>\n",
       "    </tr>\n",
       "  </thead>\n",
       "  <tbody>\n",
       "    <tr>\n",
       "      <th>22</th>\n",
       "      <td>0.810473</td>\n",
       "      <td>0.851438</td>\n",
       "      <td>0.773269</td>\n",
       "      <td>2019-06-28 18:49:08.036000</td>\n",
       "      <td>5</td>\n",
       "      <td>0.5</td>\n",
       "      <td>300</td>\n",
       "      <td>1</td>\n",
       "      <td>0.01</td>\n",
       "      <td>2</td>\n",
       "      <td>num_crels,Inv-,Prob-</td>\n",
       "      <td>50.8</td>\n",
       "    </tr>\n",
       "  </tbody>\n",
       "</table>\n",
       "</div>"
      ],
      "text/plain": [
       "    f1_score  precision    recall                        asof  best_top_n  \\\n",
       "22  0.810473   0.851438  0.773269  2019-06-28 18:49:08.036000           5   \n",
       "\n",
       "    learning_rate  best_max_parses  max_update_items  initial_weight  \\\n",
       "22            0.5              300                 1            0.01   \n",
       "\n",
       "    early_stopping_iters            extractors  num_feats_MEAN  \n",
       "22                     2  num_crels,Inv-,Prob-            50.8  "
      ]
     },
     "execution_count": 7,
     "metadata": {},
     "output_type": "execute_result"
    }
   ],
   "source": [
    "col = \"SC_STR_PCPTRN_RE-RANKER_HYPER_PARAM_VD\"\n",
    "get_df(col).head(1)"
   ]
  },
  {
   "cell_type": "code",
   "execution_count": 8,
   "metadata": {},
   "outputs": [],
   "source": [
    "# MONGO_COLLECTION = \"SC_RE-RANKER_HYPER_PARAM_VD\"\n",
    "# MONGO_COLLECTION = \"SC_COST_INSENS_RE-RANKER_HYPER_PARAM_VD\""
   ]
  },
  {
   "cell_type": "markdown",
   "metadata": {},
   "source": [
    "## CB"
   ]
  },
  {
   "cell_type": "markdown",
   "metadata": {},
   "source": [
    "### VD"
   ]
  },
  {
   "cell_type": "code",
   "execution_count": 9,
   "metadata": {},
   "outputs": [
    {
     "data": {
      "text/html": [
       "<div>\n",
       "<table border=\"1\" class=\"dataframe\">\n",
       "  <thead>\n",
       "    <tr style=\"text-align: right;\">\n",
       "      <th></th>\n",
       "      <th>f1_score</th>\n",
       "      <th>precision</th>\n",
       "      <th>recall</th>\n",
       "      <th>asof</th>\n",
       "      <th>extractors</th>\n",
       "      <th>num_feats_MEAN</th>\n",
       "    </tr>\n",
       "  </thead>\n",
       "  <tbody>\n",
       "    <tr>\n",
       "      <th>0</th>\n",
       "      <td>0.74358</td>\n",
       "      <td>0.758542</td>\n",
       "      <td>0.729197</td>\n",
       "      <td>2019-05-03 14:18:47.905000</td>\n",
       "      <td>single_words,between_word_features,label_set,t...</td>\n",
       "      <td>27479.6</td>\n",
       "    </tr>\n",
       "  </tbody>\n",
       "</table>\n",
       "</div>"
      ],
      "text/plain": [
       "   f1_score  precision    recall                        asof  \\\n",
       "0   0.74358   0.758542  0.729197  2019-05-03 14:18:47.905000   \n",
       "\n",
       "                                          extractors  num_feats_MEAN  \n",
       "0  single_words,between_word_features,label_set,t...         27479.6  "
      ]
     },
     "execution_count": 9,
     "metadata": {},
     "output_type": "execute_result"
    }
   ],
   "source": [
    "df_pa = get_df(\"SENT_CR_CB_SHIFT_REDUCE_PARSER_TEMPLATED_FIXED_VD\")\n",
    "df_pa.head(1)"
   ]
  },
  {
   "cell_type": "code",
   "execution_count": 10,
   "metadata": {
    "jupyter": {
     "source_hidden": true
    }
   },
   "outputs": [],
   "source": [
    "# df_pa = query_collection(\"CB_STR_PCPTRN_RE-RANKER_FEATURE_SEL_VD\")[[\"f1_score\", \"early_stopping_iters\", \"extractors\"]]\n",
    "# df_pa.head(1)"
   ]
  },
  {
   "cell_type": "code",
   "execution_count": 11,
   "metadata": {},
   "outputs": [
    {
     "data": {
      "text/html": [
       "<div>\n",
       "<table border=\"1\" class=\"dataframe\">\n",
       "  <thead>\n",
       "    <tr style=\"text-align: right;\">\n",
       "      <th></th>\n",
       "      <th>f1_score</th>\n",
       "      <th>precision</th>\n",
       "      <th>recall</th>\n",
       "      <th>asof</th>\n",
       "      <th>best_top_n</th>\n",
       "      <th>learning_rate</th>\n",
       "      <th>best_max_parses</th>\n",
       "      <th>max_update_items</th>\n",
       "      <th>initial_weight</th>\n",
       "      <th>early_stopping_iters</th>\n",
       "      <th>extractors</th>\n",
       "      <th>num_feats_MEAN</th>\n",
       "    </tr>\n",
       "  </thead>\n",
       "  <tbody>\n",
       "    <tr>\n",
       "      <th>29</th>\n",
       "      <td>0.741353</td>\n",
       "      <td>0.782873</td>\n",
       "      <td>0.704015</td>\n",
       "      <td>2019-06-24 20:43:02.777000</td>\n",
       "      <td>1</td>\n",
       "      <td>0.1</td>\n",
       "      <td>300</td>\n",
       "      <td>1</td>\n",
       "      <td>0.01</td>\n",
       "      <td>2</td>\n",
       "      <td>Prob-,Above-</td>\n",
       "      <td>33.0</td>\n",
       "    </tr>\n",
       "  </tbody>\n",
       "</table>\n",
       "</div>"
      ],
      "text/plain": [
       "    f1_score  precision    recall                        asof  best_top_n  \\\n",
       "29  0.741353   0.782873  0.704015  2019-06-24 20:43:02.777000           1   \n",
       "\n",
       "    learning_rate  best_max_parses  max_update_items  initial_weight  \\\n",
       "29            0.1              300                 1            0.01   \n",
       "\n",
       "    early_stopping_iters    extractors  num_feats_MEAN  \n",
       "29                     2  Prob-,Above-            33.0  "
      ]
     },
     "execution_count": 11,
     "metadata": {},
     "output_type": "execute_result"
    }
   ],
   "source": [
    "df_pa = get_df(\"CB_STR_PCPTRN_RE-RANKER_HYPER_PARAM_VD\")\n",
    "df_pa.head(1)"
   ]
  },
  {
   "cell_type": "code",
   "execution_count": 12,
   "metadata": {},
   "outputs": [
    {
     "data": {
      "text/html": [
       "<div>\n",
       "<table border=\"1\" class=\"dataframe\">\n",
       "  <thead>\n",
       "    <tr style=\"text-align: right;\">\n",
       "      <th></th>\n",
       "      <th>f1_score</th>\n",
       "      <th>precision</th>\n",
       "      <th>recall</th>\n",
       "      <th>asof</th>\n",
       "      <th>best_top_n</th>\n",
       "      <th>C</th>\n",
       "      <th>best_max_parses</th>\n",
       "      <th>max_update_items</th>\n",
       "      <th>initial_weight</th>\n",
       "      <th>loss_type</th>\n",
       "      <th>pa_type</th>\n",
       "      <th>early_stopping_iters</th>\n",
       "      <th>extractors</th>\n",
       "      <th>num_feats_MEAN</th>\n",
       "    </tr>\n",
       "  </thead>\n",
       "  <tbody>\n",
       "    <tr>\n",
       "      <th>8</th>\n",
       "      <td>0.743145</td>\n",
       "      <td>0.760015</td>\n",
       "      <td>0.727007</td>\n",
       "      <td>2019-06-30 15:00:24.686000</td>\n",
       "      <td>2</td>\n",
       "      <td>0.0005</td>\n",
       "      <td>300</td>\n",
       "      <td>1</td>\n",
       "      <td>0.01</td>\n",
       "      <td>None - cost insens</td>\n",
       "      <td>1</td>\n",
       "      <td>1</td>\n",
       "      <td>CREL_</td>\n",
       "      <td>1371.8</td>\n",
       "    </tr>\n",
       "  </tbody>\n",
       "</table>\n",
       "</div>"
      ],
      "text/plain": [
       "   f1_score  precision    recall                        asof  best_top_n  \\\n",
       "8  0.743145   0.760015  0.727007  2019-06-30 15:00:24.686000           2   \n",
       "\n",
       "        C  best_max_parses  max_update_items  initial_weight  \\\n",
       "8  0.0005              300                 1            0.01   \n",
       "\n",
       "            loss_type  pa_type  early_stopping_iters extractors  \\\n",
       "8  None - cost insens        1                     1      CREL_   \n",
       "\n",
       "   num_feats_MEAN  \n",
       "8          1371.8  "
      ]
     },
     "execution_count": 12,
     "metadata": {},
     "output_type": "execute_result"
    }
   ],
   "source": [
    "df_pa = get_df(\"CB_PA_RE-RANKER_HYPER_PARAM_VD\")\n",
    "df_pa.head(1)"
   ]
  },
  {
   "cell_type": "code",
   "execution_count": 13,
   "metadata": {},
   "outputs": [
    {
     "data": {
      "text/html": [
       "<div>\n",
       "<table border=\"1\" class=\"dataframe\">\n",
       "  <thead>\n",
       "    <tr style=\"text-align: right;\">\n",
       "      <th></th>\n",
       "      <th>f1_score</th>\n",
       "      <th>precision</th>\n",
       "      <th>recall</th>\n",
       "      <th>asof</th>\n",
       "      <th>best_top_n</th>\n",
       "      <th>C</th>\n",
       "      <th>best_max_parses</th>\n",
       "      <th>max_update_items</th>\n",
       "      <th>initial_weight</th>\n",
       "      <th>loss_type</th>\n",
       "      <th>pa_type</th>\n",
       "      <th>early_stopping_iters</th>\n",
       "      <th>extractors</th>\n",
       "      <th>num_feats_MEAN</th>\n",
       "    </tr>\n",
       "  </thead>\n",
       "  <tbody>\n",
       "    <tr>\n",
       "      <th>37</th>\n",
       "      <td>0.746014</td>\n",
       "      <td>0.777294</td>\n",
       "      <td>0.717153</td>\n",
       "      <td>2019-06-18 01:55:37.752000</td>\n",
       "      <td>2</td>\n",
       "      <td>0.0025</td>\n",
       "      <td>300</td>\n",
       "      <td>1</td>\n",
       "      <td>0.01</td>\n",
       "      <td>ml</td>\n",
       "      <td>1</td>\n",
       "      <td>3</td>\n",
       "      <td>CREL_,Prob-,CChainStats-</td>\n",
       "      <td>1410.6</td>\n",
       "    </tr>\n",
       "  </tbody>\n",
       "</table>\n",
       "</div>"
      ],
      "text/plain": [
       "    f1_score  precision    recall                        asof  best_top_n  \\\n",
       "37  0.746014   0.777294  0.717153  2019-06-18 01:55:37.752000           2   \n",
       "\n",
       "         C  best_max_parses  max_update_items  initial_weight loss_type  \\\n",
       "37  0.0025              300                 1            0.01        ml   \n",
       "\n",
       "    pa_type  early_stopping_iters                extractors  num_feats_MEAN  \n",
       "37        1                     3  CREL_,Prob-,CChainStats-          1410.6  "
      ]
     },
     "execution_count": 13,
     "metadata": {},
     "output_type": "execute_result"
    }
   ],
   "source": [
    "df_pa = get_df(\"CB_RE-RANKER_HYPER_PARAM_VD\")\n",
    "df_pa.head(1)"
   ]
  },
  {
   "cell_type": "markdown",
   "metadata": {},
   "source": [
    "### Test"
   ]
  },
  {
   "cell_type": "code",
   "execution_count": 14,
   "metadata": {},
   "outputs": [
    {
     "data": {
      "text/html": [
       "<div>\n",
       "<table border=\"1\" class=\"dataframe\">\n",
       "  <thead>\n",
       "    <tr style=\"text-align: right;\">\n",
       "      <th></th>\n",
       "      <th>f1_score</th>\n",
       "      <th>precision</th>\n",
       "      <th>recall</th>\n",
       "      <th>asof</th>\n",
       "      <th>extractors</th>\n",
       "      <th>num_feats_MEAN</th>\n",
       "    </tr>\n",
       "  </thead>\n",
       "  <tbody>\n",
       "    <tr>\n",
       "      <th>0</th>\n",
       "      <td>0.737027</td>\n",
       "      <td>0.710169</td>\n",
       "      <td>0.765996</td>\n",
       "      <td>2019-05-03 14:19:17.204000</td>\n",
       "      <td>single_words,between_word_features,label_set,t...</td>\n",
       "      <td>30367.0</td>\n",
       "    </tr>\n",
       "  </tbody>\n",
       "</table>\n",
       "</div>"
      ],
      "text/plain": [
       "   f1_score  precision    recall                        asof  \\\n",
       "0  0.737027   0.710169  0.765996  2019-05-03 14:19:17.204000   \n",
       "\n",
       "                                          extractors  num_feats_MEAN  \n",
       "0  single_words,between_word_features,label_set,t...         30367.0  "
      ]
     },
     "execution_count": 14,
     "metadata": {},
     "output_type": "execute_result"
    }
   ],
   "source": [
    "df_pa = get_df(\"SENT_TEST_CR_CB_SHIFT_REDUCE_PARSER_TEMPLATED_FIXED_VD\")\n",
    "df_pa.head(10)"
   ]
  },
  {
   "cell_type": "code",
   "execution_count": 15,
   "metadata": {},
   "outputs": [
    {
     "data": {
      "text/html": [
       "<div>\n",
       "<table border=\"1\" class=\"dataframe\">\n",
       "  <thead>\n",
       "    <tr style=\"text-align: right;\">\n",
       "      <th></th>\n",
       "      <th>f1_score</th>\n",
       "      <th>precision</th>\n",
       "      <th>recall</th>\n",
       "      <th>asof</th>\n",
       "      <th>best_top_n</th>\n",
       "      <th>learning_rate</th>\n",
       "      <th>best_max_parses</th>\n",
       "      <th>max_update_items</th>\n",
       "      <th>initial_weight</th>\n",
       "      <th>early_stopping_iters</th>\n",
       "      <th>extractors</th>\n",
       "      <th>num_feats_MEAN</th>\n",
       "    </tr>\n",
       "  </thead>\n",
       "  <tbody>\n",
       "    <tr>\n",
       "      <th>0</th>\n",
       "      <td>0.749771</td>\n",
       "      <td>0.751838</td>\n",
       "      <td>0.747715</td>\n",
       "      <td>2019-07-05 14:21:05.573000</td>\n",
       "      <td>1</td>\n",
       "      <td>0.1</td>\n",
       "      <td>300</td>\n",
       "      <td>1</td>\n",
       "      <td>0.01</td>\n",
       "      <td>2</td>\n",
       "      <td>Prob-,Above-</td>\n",
       "      <td>33.0</td>\n",
       "    </tr>\n",
       "  </tbody>\n",
       "</table>\n",
       "</div>"
      ],
      "text/plain": [
       "   f1_score  precision    recall                        asof  best_top_n  \\\n",
       "0  0.749771   0.751838  0.747715  2019-07-05 14:21:05.573000           1   \n",
       "\n",
       "   learning_rate  best_max_parses  max_update_items  initial_weight  \\\n",
       "0            0.1              300                 1            0.01   \n",
       "\n",
       "   early_stopping_iters    extractors  num_feats_MEAN  \n",
       "0                     2  Prob-,Above-            33.0  "
      ]
     },
     "execution_count": 15,
     "metadata": {},
     "output_type": "execute_result"
    }
   ],
   "source": [
    "df_pa = get_df(\"TEST_CB_STR_PCPTRN_RE-RANKER_VD\")\n",
    "df_pa.head(10)"
   ]
  },
  {
   "cell_type": "code",
   "execution_count": 16,
   "metadata": {},
   "outputs": [
    {
     "data": {
      "text/html": [
       "<div>\n",
       "<table border=\"1\" class=\"dataframe\">\n",
       "  <thead>\n",
       "    <tr style=\"text-align: right;\">\n",
       "      <th></th>\n",
       "      <th>f1_score</th>\n",
       "      <th>precision</th>\n",
       "      <th>recall</th>\n",
       "      <th>asof</th>\n",
       "      <th>best_top_n</th>\n",
       "      <th>C</th>\n",
       "      <th>best_max_parses</th>\n",
       "      <th>max_update_items</th>\n",
       "      <th>initial_weight</th>\n",
       "      <th>loss_type</th>\n",
       "      <th>pa_type</th>\n",
       "      <th>early_stopping_iters</th>\n",
       "      <th>extractors</th>\n",
       "      <th>num_feats_MEAN</th>\n",
       "    </tr>\n",
       "  </thead>\n",
       "  <tbody>\n",
       "    <tr>\n",
       "      <th>0</th>\n",
       "      <td>0.740741</td>\n",
       "      <td>0.715503</td>\n",
       "      <td>0.767824</td>\n",
       "      <td>2019-07-05 14:40:40.998000</td>\n",
       "      <td>2</td>\n",
       "      <td>0.0005</td>\n",
       "      <td>300</td>\n",
       "      <td>1</td>\n",
       "      <td>0.01</td>\n",
       "      <td>None - cost insens</td>\n",
       "      <td>1</td>\n",
       "      <td>1</td>\n",
       "      <td>CREL_</td>\n",
       "      <td>1504.0</td>\n",
       "    </tr>\n",
       "  </tbody>\n",
       "</table>\n",
       "</div>"
      ],
      "text/plain": [
       "   f1_score  precision    recall                        asof  best_top_n  \\\n",
       "0  0.740741   0.715503  0.767824  2019-07-05 14:40:40.998000           2   \n",
       "\n",
       "        C  best_max_parses  max_update_items  initial_weight  \\\n",
       "0  0.0005              300                 1            0.01   \n",
       "\n",
       "            loss_type  pa_type  early_stopping_iters extractors  \\\n",
       "0  None - cost insens        1                     1      CREL_   \n",
       "\n",
       "   num_feats_MEAN  \n",
       "0          1504.0  "
      ]
     },
     "execution_count": 16,
     "metadata": {},
     "output_type": "execute_result"
    }
   ],
   "source": [
    "df_pa = get_df(\"TEST_CB_PA_RE-RANKER_VD\")\n",
    "df_pa.head(10)"
   ]
  },
  {
   "cell_type": "code",
   "execution_count": 17,
   "metadata": {},
   "outputs": [
    {
     "data": {
      "text/html": [
       "<div>\n",
       "<table border=\"1\" class=\"dataframe\">\n",
       "  <thead>\n",
       "    <tr style=\"text-align: right;\">\n",
       "      <th></th>\n",
       "      <th>f1_score</th>\n",
       "      <th>precision</th>\n",
       "      <th>recall</th>\n",
       "      <th>asof</th>\n",
       "      <th>best_top_n</th>\n",
       "      <th>C</th>\n",
       "      <th>best_max_parses</th>\n",
       "      <th>max_update_items</th>\n",
       "      <th>initial_weight</th>\n",
       "      <th>loss_type</th>\n",
       "      <th>pa_type</th>\n",
       "      <th>early_stopping_iters</th>\n",
       "      <th>extractors</th>\n",
       "      <th>num_feats_MEAN</th>\n",
       "    </tr>\n",
       "  </thead>\n",
       "  <tbody>\n",
       "    <tr>\n",
       "      <th>0</th>\n",
       "      <td>0.741208</td>\n",
       "      <td>0.731317</td>\n",
       "      <td>0.751371</td>\n",
       "      <td>2019-07-05 14:51:25.146000</td>\n",
       "      <td>2</td>\n",
       "      <td>0.0025</td>\n",
       "      <td>300</td>\n",
       "      <td>1</td>\n",
       "      <td>0.01</td>\n",
       "      <td>ml</td>\n",
       "      <td>1</td>\n",
       "      <td>3</td>\n",
       "      <td>CREL_,Prob-,CChainStats-</td>\n",
       "      <td>1543.0</td>\n",
       "    </tr>\n",
       "  </tbody>\n",
       "</table>\n",
       "</div>"
      ],
      "text/plain": [
       "   f1_score  precision    recall                        asof  best_top_n  \\\n",
       "0  0.741208   0.731317  0.751371  2019-07-05 14:51:25.146000           2   \n",
       "\n",
       "        C  best_max_parses  max_update_items  initial_weight loss_type  \\\n",
       "0  0.0025              300                 1            0.01        ml   \n",
       "\n",
       "   pa_type  early_stopping_iters                extractors  num_feats_MEAN  \n",
       "0        1                     3  CREL_,Prob-,CChainStats-          1543.0  "
      ]
     },
     "execution_count": 17,
     "metadata": {},
     "output_type": "execute_result"
    }
   ],
   "source": [
    "# To improve upon this, you can use early stopping\n",
    "df_pa = get_df(\"TEST_CB_RE-RANKER_VD\")\n",
    "df_pa.head(10)"
   ]
  },
  {
   "cell_type": "markdown",
   "metadata": {},
   "source": [
    "## SC"
   ]
  },
  {
   "cell_type": "markdown",
   "metadata": {},
   "source": [
    "### VD"
   ]
  },
  {
   "cell_type": "code",
   "execution_count": 18,
   "metadata": {},
   "outputs": [
    {
     "data": {
      "text/html": [
       "<div>\n",
       "<table border=\"1\" class=\"dataframe\">\n",
       "  <thead>\n",
       "    <tr style=\"text-align: right;\">\n",
       "      <th></th>\n",
       "      <th>f1_score</th>\n",
       "      <th>precision</th>\n",
       "      <th>recall</th>\n",
       "      <th>asof</th>\n",
       "      <th>extractors</th>\n",
       "      <th>num_feats_MEAN</th>\n",
       "    </tr>\n",
       "  </thead>\n",
       "  <tbody>\n",
       "    <tr>\n",
       "      <th>0</th>\n",
       "      <td>0.80962</td>\n",
       "      <td>0.860857</td>\n",
       "      <td>0.764139</td>\n",
       "      <td>2019-05-03 14:27:42.611000</td>\n",
       "      <td>three_words,between_word_features,size_feature...</td>\n",
       "      <td>26260.0</td>\n",
       "    </tr>\n",
       "  </tbody>\n",
       "</table>\n",
       "</div>"
      ],
      "text/plain": [
       "   f1_score  precision    recall                        asof  \\\n",
       "0   0.80962   0.860857  0.764139  2019-05-03 14:27:42.611000   \n",
       "\n",
       "                                          extractors  num_feats_MEAN  \n",
       "0  three_words,between_word_features,size_feature...         26260.0  "
      ]
     },
     "execution_count": 18,
     "metadata": {},
     "output_type": "execute_result"
    }
   ],
   "source": [
    "df_pa = get_df(\"SENT_CR_SC_SHIFT_REDUCE_PARSER_TEMPLATED_HYPER_PARAM_VD\")\n",
    "df_pa.head(1)"
   ]
  },
  {
   "cell_type": "code",
   "execution_count": 19,
   "metadata": {
    "jupyter": {
     "source_hidden": true
    }
   },
   "outputs": [],
   "source": [
    "# cols = [\"f1_score\", \"extractors\", \"early_stopping_iters\"]\n",
    "# query_collection(\"SC_STR_PCPTRN_RE-RANKER_FEATURE_SEL_VD_2\").head(1)[cols]"
   ]
  },
  {
   "cell_type": "code",
   "execution_count": 21,
   "metadata": {},
   "outputs": [
    {
     "data": {
      "text/html": [
       "<div>\n",
       "<table border=\"1\" class=\"dataframe\">\n",
       "  <thead>\n",
       "    <tr style=\"text-align: right;\">\n",
       "      <th></th>\n",
       "      <th>f1_score</th>\n",
       "      <th>precision</th>\n",
       "      <th>recall</th>\n",
       "      <th>asof</th>\n",
       "      <th>best_top_n</th>\n",
       "      <th>learning_rate</th>\n",
       "      <th>best_max_parses</th>\n",
       "      <th>max_update_items</th>\n",
       "      <th>initial_weight</th>\n",
       "      <th>early_stopping_iters</th>\n",
       "      <th>extractors</th>\n",
       "      <th>num_feats_MEAN</th>\n",
       "    </tr>\n",
       "  </thead>\n",
       "  <tbody>\n",
       "    <tr>\n",
       "      <th>22</th>\n",
       "      <td>0.810473</td>\n",
       "      <td>0.851438</td>\n",
       "      <td>0.773269</td>\n",
       "      <td>2019-06-28 18:49:08.036000</td>\n",
       "      <td>5</td>\n",
       "      <td>0.5</td>\n",
       "      <td>300</td>\n",
       "      <td>1</td>\n",
       "      <td>0.01</td>\n",
       "      <td>2</td>\n",
       "      <td>num_crels,Inv-,Prob-</td>\n",
       "      <td>50.8</td>\n",
       "    </tr>\n",
       "  </tbody>\n",
       "</table>\n",
       "</div>"
      ],
      "text/plain": [
       "    f1_score  precision    recall                        asof  best_top_n  \\\n",
       "22  0.810473   0.851438  0.773269  2019-06-28 18:49:08.036000           5   \n",
       "\n",
       "    learning_rate  best_max_parses  max_update_items  initial_weight  \\\n",
       "22            0.5              300                 1            0.01   \n",
       "\n",
       "    early_stopping_iters            extractors  num_feats_MEAN  \n",
       "22                     2  num_crels,Inv-,Prob-            50.8  "
      ]
     },
     "execution_count": 21,
     "metadata": {},
     "output_type": "execute_result"
    }
   ],
   "source": [
    "df_pa = get_df(\"SC_STR_PCPTRN_RE-RANKER_HYPER_PARAM_VD\")\n",
    "df_pa.head(1)"
   ]
  },
  {
   "cell_type": "code",
   "execution_count": 22,
   "metadata": {},
   "outputs": [
    {
     "data": {
      "text/html": [
       "<div>\n",
       "<table border=\"1\" class=\"dataframe\">\n",
       "  <thead>\n",
       "    <tr style=\"text-align: right;\">\n",
       "      <th></th>\n",
       "      <th>f1_score</th>\n",
       "      <th>precision</th>\n",
       "      <th>recall</th>\n",
       "      <th>asof</th>\n",
       "      <th>best_top_n</th>\n",
       "      <th>C</th>\n",
       "      <th>best_max_parses</th>\n",
       "      <th>max_update_items</th>\n",
       "      <th>initial_weight</th>\n",
       "      <th>loss_type</th>\n",
       "      <th>pa_type</th>\n",
       "      <th>early_stopping_iters</th>\n",
       "      <th>extractors</th>\n",
       "      <th>num_feats_MEAN</th>\n",
       "    </tr>\n",
       "  </thead>\n",
       "  <tbody>\n",
       "    <tr>\n",
       "      <th>4</th>\n",
       "      <td>0.806789</td>\n",
       "      <td>0.868206</td>\n",
       "      <td>0.753487</td>\n",
       "      <td>2019-06-30 15:13:25.720000</td>\n",
       "      <td>1</td>\n",
       "      <td>0.01</td>\n",
       "      <td>300</td>\n",
       "      <td>1</td>\n",
       "      <td>0.01</td>\n",
       "      <td>None - cost insens</td>\n",
       "      <td>1</td>\n",
       "      <td>6</td>\n",
       "      <td>num_crels,Inv-</td>\n",
       "      <td>37.0</td>\n",
       "    </tr>\n",
       "  </tbody>\n",
       "</table>\n",
       "</div>"
      ],
      "text/plain": [
       "   f1_score  precision    recall                        asof  best_top_n  \\\n",
       "4  0.806789   0.868206  0.753487  2019-06-30 15:13:25.720000           1   \n",
       "\n",
       "      C  best_max_parses  max_update_items  initial_weight  \\\n",
       "4  0.01              300                 1            0.01   \n",
       "\n",
       "            loss_type  pa_type  early_stopping_iters      extractors  \\\n",
       "4  None - cost insens        1                     6  num_crels,Inv-   \n",
       "\n",
       "   num_feats_MEAN  \n",
       "4            37.0  "
      ]
     },
     "execution_count": 22,
     "metadata": {},
     "output_type": "execute_result"
    }
   ],
   "source": [
    "df_pa = get_df(\"SC_PA_RE-RANKER_HYPER_PARAM_VD\")\n",
    "df_pa.head(1)"
   ]
  },
  {
   "cell_type": "code",
   "execution_count": 23,
   "metadata": {},
   "outputs": [
    {
     "data": {
      "text/html": [
       "<div>\n",
       "<table border=\"1\" class=\"dataframe\">\n",
       "  <thead>\n",
       "    <tr style=\"text-align: right;\">\n",
       "      <th></th>\n",
       "      <th>f1_score</th>\n",
       "      <th>precision</th>\n",
       "      <th>recall</th>\n",
       "      <th>asof</th>\n",
       "      <th>best_top_n</th>\n",
       "      <th>C</th>\n",
       "      <th>best_max_parses</th>\n",
       "      <th>max_update_items</th>\n",
       "      <th>initial_weight</th>\n",
       "      <th>loss_type</th>\n",
       "      <th>pa_type</th>\n",
       "      <th>early_stopping_iters</th>\n",
       "      <th>extractors</th>\n",
       "      <th>num_feats_MEAN</th>\n",
       "    </tr>\n",
       "  </thead>\n",
       "  <tbody>\n",
       "    <tr>\n",
       "      <th>41</th>\n",
       "      <td>0.808089</td>\n",
       "      <td>0.856129</td>\n",
       "      <td>0.765153</td>\n",
       "      <td>2019-06-18 10:15:07.357000</td>\n",
       "      <td>3</td>\n",
       "      <td>0.01</td>\n",
       "      <td>300</td>\n",
       "      <td>1</td>\n",
       "      <td>0.01</td>\n",
       "      <td>ml</td>\n",
       "      <td>1</td>\n",
       "      <td>1</td>\n",
       "      <td>CREL_,CChain-,Prob-</td>\n",
       "      <td>1386.4</td>\n",
       "    </tr>\n",
       "  </tbody>\n",
       "</table>\n",
       "</div>"
      ],
      "text/plain": [
       "    f1_score  precision    recall                        asof  best_top_n  \\\n",
       "41  0.808089   0.856129  0.765153  2019-06-18 10:15:07.357000           3   \n",
       "\n",
       "       C  best_max_parses  max_update_items  initial_weight loss_type  \\\n",
       "41  0.01              300                 1            0.01        ml   \n",
       "\n",
       "    pa_type  early_stopping_iters           extractors  num_feats_MEAN  \n",
       "41        1                     1  CREL_,CChain-,Prob-          1386.4  "
      ]
     },
     "execution_count": 23,
     "metadata": {},
     "output_type": "execute_result"
    }
   ],
   "source": [
    "df_pa = get_df(\"SC_RE-RANKER_HYPER_PARAM_VD\")\n",
    "df_pa.head(1)"
   ]
  },
  {
   "cell_type": "markdown",
   "metadata": {},
   "source": [
    "### Test"
   ]
  },
  {
   "cell_type": "code",
   "execution_count": 24,
   "metadata": {},
   "outputs": [
    {
     "data": {
      "text/html": [
       "<div>\n",
       "<table border=\"1\" class=\"dataframe\">\n",
       "  <thead>\n",
       "    <tr style=\"text-align: right;\">\n",
       "      <th></th>\n",
       "      <th>f1_score</th>\n",
       "      <th>precision</th>\n",
       "      <th>recall</th>\n",
       "      <th>asof</th>\n",
       "      <th>extractors</th>\n",
       "      <th>num_feats_MEAN</th>\n",
       "    </tr>\n",
       "  </thead>\n",
       "  <tbody>\n",
       "    <tr>\n",
       "      <th>0</th>\n",
       "      <td>0.827273</td>\n",
       "      <td>0.856471</td>\n",
       "      <td>0.8</td>\n",
       "      <td>2019-05-03 14:28:38.825000</td>\n",
       "      <td>three_words,between_word_features,size_feature...</td>\n",
       "      <td>28839.0</td>\n",
       "    </tr>\n",
       "  </tbody>\n",
       "</table>\n",
       "</div>"
      ],
      "text/plain": [
       "   f1_score  precision  recall                        asof  \\\n",
       "0  0.827273   0.856471     0.8  2019-05-03 14:28:38.825000   \n",
       "\n",
       "                                          extractors  num_feats_MEAN  \n",
       "0  three_words,between_word_features,size_feature...         28839.0  "
      ]
     },
     "execution_count": 24,
     "metadata": {},
     "output_type": "execute_result"
    }
   ],
   "source": [
    "df_pa = get_df(\"SENT_TEST_CR_SC_SHIFT_REDUCE_PARSER_TEMPLATED_HYPER_PARAM_VD\")\n",
    "df_pa.head(10)"
   ]
  },
  {
   "cell_type": "code",
   "execution_count": 25,
   "metadata": {},
   "outputs": [
    {
     "data": {
      "text/html": [
       "<div>\n",
       "<table border=\"1\" class=\"dataframe\">\n",
       "  <thead>\n",
       "    <tr style=\"text-align: right;\">\n",
       "      <th></th>\n",
       "      <th>f1_score</th>\n",
       "      <th>precision</th>\n",
       "      <th>recall</th>\n",
       "      <th>asof</th>\n",
       "      <th>best_top_n</th>\n",
       "      <th>learning_rate</th>\n",
       "      <th>best_max_parses</th>\n",
       "      <th>max_update_items</th>\n",
       "      <th>initial_weight</th>\n",
       "      <th>early_stopping_iters</th>\n",
       "      <th>extractors</th>\n",
       "      <th>num_feats_MEAN</th>\n",
       "    </tr>\n",
       "  </thead>\n",
       "  <tbody>\n",
       "    <tr>\n",
       "      <th>0</th>\n",
       "      <td>0.82716</td>\n",
       "      <td>0.845183</td>\n",
       "      <td>0.80989</td>\n",
       "      <td>2019-07-05 13:35:15.128000</td>\n",
       "      <td>5</td>\n",
       "      <td>0.5</td>\n",
       "      <td>300</td>\n",
       "      <td>1</td>\n",
       "      <td>0.01</td>\n",
       "      <td>2</td>\n",
       "      <td>num_crels,Inv-,Prob-</td>\n",
       "      <td>51.0</td>\n",
       "    </tr>\n",
       "  </tbody>\n",
       "</table>\n",
       "</div>"
      ],
      "text/plain": [
       "   f1_score  precision   recall                        asof  best_top_n  \\\n",
       "0   0.82716   0.845183  0.80989  2019-07-05 13:35:15.128000           5   \n",
       "\n",
       "   learning_rate  best_max_parses  max_update_items  initial_weight  \\\n",
       "0            0.5              300                 1            0.01   \n",
       "\n",
       "   early_stopping_iters            extractors  num_feats_MEAN  \n",
       "0                     2  num_crels,Inv-,Prob-            51.0  "
      ]
     },
     "execution_count": 25,
     "metadata": {},
     "output_type": "execute_result"
    }
   ],
   "source": [
    "df_pa = get_df(\"TEST_SC_STR_PCPTRN_RE-RANKER_VD\")\n",
    "df_pa.head(10)"
   ]
  },
  {
   "cell_type": "code",
   "execution_count": 26,
   "metadata": {},
   "outputs": [
    {
     "data": {
      "text/html": [
       "<div>\n",
       "<table border=\"1\" class=\"dataframe\">\n",
       "  <thead>\n",
       "    <tr style=\"text-align: right;\">\n",
       "      <th></th>\n",
       "      <th>f1_score</th>\n",
       "      <th>precision</th>\n",
       "      <th>recall</th>\n",
       "      <th>asof</th>\n",
       "      <th>best_top_n</th>\n",
       "      <th>C</th>\n",
       "      <th>best_max_parses</th>\n",
       "      <th>max_update_items</th>\n",
       "      <th>initial_weight</th>\n",
       "      <th>loss_type</th>\n",
       "      <th>pa_type</th>\n",
       "      <th>early_stopping_iters</th>\n",
       "      <th>extractors</th>\n",
       "      <th>num_feats_MEAN</th>\n",
       "    </tr>\n",
       "  </thead>\n",
       "  <tbody>\n",
       "    <tr>\n",
       "      <th>0</th>\n",
       "      <td>0.828457</td>\n",
       "      <td>0.866747</td>\n",
       "      <td>0.793407</td>\n",
       "      <td>2019-07-05 14:45:29.204000</td>\n",
       "      <td>1</td>\n",
       "      <td>0.01</td>\n",
       "      <td>300</td>\n",
       "      <td>1</td>\n",
       "      <td>0.01</td>\n",
       "      <td>None - cost insens</td>\n",
       "      <td>1</td>\n",
       "      <td>6</td>\n",
       "      <td>num_crels,Inv-</td>\n",
       "      <td>37.0</td>\n",
       "    </tr>\n",
       "  </tbody>\n",
       "</table>\n",
       "</div>"
      ],
      "text/plain": [
       "   f1_score  precision    recall                        asof  best_top_n  \\\n",
       "0  0.828457   0.866747  0.793407  2019-07-05 14:45:29.204000           1   \n",
       "\n",
       "      C  best_max_parses  max_update_items  initial_weight  \\\n",
       "0  0.01              300                 1            0.01   \n",
       "\n",
       "            loss_type  pa_type  early_stopping_iters      extractors  \\\n",
       "0  None - cost insens        1                     6  num_crels,Inv-   \n",
       "\n",
       "   num_feats_MEAN  \n",
       "0            37.0  "
      ]
     },
     "execution_count": 26,
     "metadata": {},
     "output_type": "execute_result"
    }
   ],
   "source": [
    "df_pa = get_df(\"TEST_SC_PA_RE-RANKER_VD\")\n",
    "df_pa.head(10)"
   ]
  },
  {
   "cell_type": "code",
   "execution_count": 27,
   "metadata": {},
   "outputs": [
    {
     "data": {
      "text/html": [
       "<div>\n",
       "<table border=\"1\" class=\"dataframe\">\n",
       "  <thead>\n",
       "    <tr style=\"text-align: right;\">\n",
       "      <th></th>\n",
       "      <th>f1_score</th>\n",
       "      <th>precision</th>\n",
       "      <th>recall</th>\n",
       "      <th>asof</th>\n",
       "      <th>best_top_n</th>\n",
       "      <th>C</th>\n",
       "      <th>best_max_parses</th>\n",
       "      <th>max_update_items</th>\n",
       "      <th>initial_weight</th>\n",
       "      <th>loss_type</th>\n",
       "      <th>pa_type</th>\n",
       "      <th>early_stopping_iters</th>\n",
       "      <th>extractors</th>\n",
       "      <th>num_feats_MEAN</th>\n",
       "    </tr>\n",
       "  </thead>\n",
       "  <tbody>\n",
       "    <tr>\n",
       "      <th>0</th>\n",
       "      <td>0.826111</td>\n",
       "      <td>0.846597</td>\n",
       "      <td>0.806593</td>\n",
       "      <td>2019-07-05 14:54:53.566000</td>\n",
       "      <td>3</td>\n",
       "      <td>0.01</td>\n",
       "      <td>300</td>\n",
       "      <td>1</td>\n",
       "      <td>0.01</td>\n",
       "      <td>ml</td>\n",
       "      <td>1</td>\n",
       "      <td>1</td>\n",
       "      <td>CREL_,CChain-,Prob-</td>\n",
       "      <td>1488.0</td>\n",
       "    </tr>\n",
       "  </tbody>\n",
       "</table>\n",
       "</div>"
      ],
      "text/plain": [
       "   f1_score  precision    recall                        asof  best_top_n  \\\n",
       "0  0.826111   0.846597  0.806593  2019-07-05 14:54:53.566000           3   \n",
       "\n",
       "      C  best_max_parses  max_update_items  initial_weight loss_type  pa_type  \\\n",
       "0  0.01              300                 1            0.01        ml        1   \n",
       "\n",
       "   early_stopping_iters           extractors  num_feats_MEAN  \n",
       "0                     1  CREL_,CChain-,Prob-          1488.0  "
      ]
     },
     "execution_count": 27,
     "metadata": {},
     "output_type": "execute_result"
    }
   ],
   "source": [
    "df_pa = get_df(\"TEST_SC_RE-RANKER_VD\")\n",
    "df_pa.head(10)"
   ]
  },
  {
   "cell_type": "code",
   "execution_count": null,
   "metadata": {},
   "outputs": [],
   "source": []
  },
  {
   "cell_type": "code",
   "execution_count": null,
   "metadata": {},
   "outputs": [],
   "source": []
  },
  {
   "cell_type": "code",
   "execution_count": 33,
   "metadata": {},
   "outputs": [
    {
     "data": {
      "text/html": [
       "<div>\n",
       "<table border=\"1\" class=\"dataframe\">\n",
       "  <thead>\n",
       "    <tr style=\"text-align: right;\">\n",
       "      <th></th>\n",
       "      <th>f1_score</th>\n",
       "      <th>learning_rate</th>\n",
       "      <th>max_update_items</th>\n",
       "    </tr>\n",
       "  </thead>\n",
       "  <tbody>\n",
       "    <tr>\n",
       "      <th>15</th>\n",
       "      <td>0.740483</td>\n",
       "      <td>0.3</td>\n",
       "      <td>2</td>\n",
       "    </tr>\n",
       "  </tbody>\n",
       "</table>\n",
       "</div>"
      ],
      "text/plain": [
       "    f1_score  learning_rate  max_update_items\n",
       "15  0.740483            0.3                 2"
      ]
     },
     "execution_count": 33,
     "metadata": {},
     "output_type": "execute_result"
    }
   ],
   "source": [
    "df_pa = query_collection(\"CB_STR_PCPTRN_RE-RANKER_FEATURE_SEL_VD\")[[\"f1_score\",\"learning_rate\",\"max_update_items\"]]\n",
    "df_pa.head(1)"
   ]
  },
  {
   "cell_type": "code",
   "execution_count": 34,
   "metadata": {},
   "outputs": [
    {
     "data": {
      "text/html": [
       "<div>\n",
       "<table border=\"1\" class=\"dataframe\">\n",
       "  <thead>\n",
       "    <tr style=\"text-align: right;\">\n",
       "      <th></th>\n",
       "      <th>f1_score</th>\n",
       "      <th>learning_rate</th>\n",
       "      <th>max_update_items</th>\n",
       "    </tr>\n",
       "  </thead>\n",
       "  <tbody>\n",
       "    <tr>\n",
       "      <th>19</th>\n",
       "      <td>0.806631</td>\n",
       "      <td>0.3</td>\n",
       "      <td>2</td>\n",
       "    </tr>\n",
       "  </tbody>\n",
       "</table>\n",
       "</div>"
      ],
      "text/plain": [
       "    f1_score  learning_rate  max_update_items\n",
       "19  0.806631            0.3                 2"
      ]
     },
     "execution_count": 34,
     "metadata": {},
     "output_type": "execute_result"
    }
   ],
   "source": [
    "df_pa = query_collection(\"SC_STR_PCPTRN_RE-RANKER_FEATURE_SEL_VD\")[[\"f1_score\",\"learning_rate\",\"max_update_items\"]]\n",
    "df_pa.head(1)"
   ]
  },
  {
   "cell_type": "code",
   "execution_count": null,
   "metadata": {},
   "outputs": [],
   "source": []
  }
 ],
 "metadata": {
  "anaconda-cloud": {},
  "kernelspec": {
   "display_name": "Python 3",
   "language": "python",
   "name": "python3"
  },
  "language_info": {
   "codemirror_mode": {
    "name": "ipython",
    "version": 3
   },
   "file_extension": ".py",
   "mimetype": "text/x-python",
   "name": "python",
   "nbconvert_exporter": "python",
   "pygments_lexer": "ipython3",
   "version": "3.6.2"
  }
 },
 "nbformat": 4,
 "nbformat_minor": 4
}
