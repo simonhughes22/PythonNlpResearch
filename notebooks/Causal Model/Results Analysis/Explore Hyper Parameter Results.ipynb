{
 "cells": [
  {
   "cell_type": "markdown",
   "metadata": {},
   "source": [
    "## Get Best-Performing Hyper Parameters"
   ]
  },
  {
   "cell_type": "code",
   "execution_count": 202,
   "metadata": {},
   "outputs": [],
   "source": [
    "client = pymongo.MongoClient(serverSelectionTimeoutMS=100, host=\"127.0.0.1\")\n",
    "db = client.metrics_causal_model_reranker"
   ]
  },
  {
   "cell_type": "code",
   "execution_count": 216,
   "metadata": {},
   "outputs": [],
   "source": [
    "import pandas as pd\n",
    "import pymongo\n",
    "\n",
    "def get_df(collection, db):\n",
    "    assert collection.endswith(\"_VD\")\n",
    "    cols = [\"f1_score\", \"precision\", \"recall\", \"asof\", \"best_top_n\", \"C\", \"best_max_parses\", \n",
    "        #\"best_max_upd\", \n",
    "        \"max_update_items\", \n",
    "        # \"best_min_prob\", \"extractors\", \n",
    "        \"initial_weight\", \"loss_type\",\\\n",
    "        #\"min_feat_freq\",\n",
    "        \"pa_type\"]\n",
    "    if \"INSENS\" in collection:\n",
    "        cols = [c for c in cols if c != \"loss_type\"]\n",
    "\n",
    "    elif \"PCPTRN\" in collection:\n",
    "        cols = [\"f1_score\", \"precision\", \"recall\", \"asof\", \"best_top_n\", \"learning_rate\", \"best_max_parses\", \n",
    "        #\"best_max_upd\", \n",
    "        \"max_update_items\", \n",
    "        # \"best_min_prob\", \"extractors\", \n",
    "        \"initial_weight\"]\n",
    "        #\"min_feat_freq\"]\n",
    "    \n",
    "    project = {\n",
    "            \"params\": \"$parameters\",\n",
    "            \"micro_f1\": \"$MICRO_F1\",\n",
    "            \"asof\": \"$asof\",\n",
    "            \"_id\": 1\n",
    "        }\n",
    "    feats_pipeline = [{ \"$project\": project }]\n",
    "    rows = [row for row in db[collection].aggregate(feats_pipeline)]\n",
    "\n",
    "    results = []\n",
    "    for r in rows:\n",
    "        d = dict(r[\"params\"])\n",
    "        d.update(r[\"micro_f1\"])\n",
    "        d[\"asof\"] = str(r[\"asof\"])\n",
    "        results.append(d)\n",
    "    \n",
    "    df = pd.DataFrame(results)\n",
    "    df = df.sort_values(by=\"f1_score\",ascending=False)\n",
    "    return df[cols]"
   ]
  },
  {
   "cell_type": "code",
   "execution_count": 217,
   "metadata": {},
   "outputs": [],
   "source": [
    "# MONGO_COLLECTION = \"SC_RE-RANKER_HYPER_PARAM_VD\"\n",
    "# MONGO_COLLECTION = \"SC_COST_INSENS_RE-RANKER_HYPER_PARAM_VD\""
   ]
  },
  {
   "cell_type": "code",
   "execution_count": 218,
   "metadata": {},
   "outputs": [
    {
     "data": {
      "text/html": [
       "<div>\n",
       "<table border=\"1\" class=\"dataframe\">\n",
       "  <thead>\n",
       "    <tr style=\"text-align: right;\">\n",
       "      <th></th>\n",
       "      <th>f1_score</th>\n",
       "      <th>precision</th>\n",
       "      <th>recall</th>\n",
       "      <th>asof</th>\n",
       "      <th>best_top_n</th>\n",
       "      <th>C</th>\n",
       "      <th>best_max_parses</th>\n",
       "      <th>max_update_items</th>\n",
       "      <th>initial_weight</th>\n",
       "      <th>loss_type</th>\n",
       "      <th>pa_type</th>\n",
       "    </tr>\n",
       "  </thead>\n",
       "  <tbody>\n",
       "    <tr>\n",
       "      <th>37</th>\n",
       "      <td>0.746014</td>\n",
       "      <td>0.777294</td>\n",
       "      <td>0.717153</td>\n",
       "      <td>2019-06-18 01:55:37.752000</td>\n",
       "      <td>2</td>\n",
       "      <td>0.0025</td>\n",
       "      <td>300</td>\n",
       "      <td>1</td>\n",
       "      <td>0.01</td>\n",
       "      <td>ml</td>\n",
       "      <td>1</td>\n",
       "    </tr>\n",
       "  </tbody>\n",
       "</table>\n",
       "</div>"
      ],
      "text/plain": [
       "    f1_score  precision    recall                        asof  best_top_n  \\\n",
       "37  0.746014   0.777294  0.717153  2019-06-18 01:55:37.752000           2   \n",
       "\n",
       "         C  best_max_parses  max_update_items  initial_weight loss_type  \\\n",
       "37  0.0025              300                 1            0.01        ml   \n",
       "\n",
       "    pa_type  \n",
       "37        1  "
      ]
     },
     "execution_count": 218,
     "metadata": {},
     "output_type": "execute_result"
    }
   ],
   "source": [
    "df_pa = get_df(\"CB_RE-RANKER_HYPER_PARAM_VD\", db)\n",
    "df_pa.head(1)"
   ]
  },
  {
   "cell_type": "code",
   "execution_count": 219,
   "metadata": {},
   "outputs": [
    {
     "data": {
      "text/html": [
       "<div>\n",
       "<table border=\"1\" class=\"dataframe\">\n",
       "  <thead>\n",
       "    <tr style=\"text-align: right;\">\n",
       "      <th></th>\n",
       "      <th>f1_score</th>\n",
       "      <th>precision</th>\n",
       "      <th>recall</th>\n",
       "      <th>asof</th>\n",
       "      <th>best_top_n</th>\n",
       "      <th>C</th>\n",
       "      <th>best_max_parses</th>\n",
       "      <th>max_update_items</th>\n",
       "      <th>initial_weight</th>\n",
       "      <th>pa_type</th>\n",
       "    </tr>\n",
       "  </thead>\n",
       "  <tbody>\n",
       "    <tr>\n",
       "      <th>30</th>\n",
       "      <td>0.737302</td>\n",
       "      <td>0.807826</td>\n",
       "      <td>0.678102</td>\n",
       "      <td>2019-06-23 15:33:17.018000</td>\n",
       "      <td>1</td>\n",
       "      <td>0.1</td>\n",
       "      <td>300</td>\n",
       "      <td>1</td>\n",
       "      <td>0.01</td>\n",
       "      <td>1</td>\n",
       "    </tr>\n",
       "  </tbody>\n",
       "</table>\n",
       "</div>"
      ],
      "text/plain": [
       "    f1_score  precision    recall                        asof  best_top_n  \\\n",
       "30  0.737302   0.807826  0.678102  2019-06-23 15:33:17.018000           1   \n",
       "\n",
       "      C  best_max_parses  max_update_items  initial_weight  pa_type  \n",
       "30  0.1              300                 1            0.01        1  "
      ]
     },
     "execution_count": 219,
     "metadata": {},
     "output_type": "execute_result"
    }
   ],
   "source": [
    "df_pa = get_df(\"CB_COST_INSENS_RE-RANKER_HYPER_PARAM_VD\", db)\n",
    "df_pa.head(1)"
   ]
  },
  {
   "cell_type": "code",
   "execution_count": 220,
   "metadata": {},
   "outputs": [
    {
     "data": {
      "text/html": [
       "<div>\n",
       "<table border=\"1\" class=\"dataframe\">\n",
       "  <thead>\n",
       "    <tr style=\"text-align: right;\">\n",
       "      <th></th>\n",
       "      <th>f1_score</th>\n",
       "      <th>precision</th>\n",
       "      <th>recall</th>\n",
       "      <th>asof</th>\n",
       "      <th>best_top_n</th>\n",
       "      <th>learning_rate</th>\n",
       "      <th>best_max_parses</th>\n",
       "      <th>max_update_items</th>\n",
       "      <th>initial_weight</th>\n",
       "    </tr>\n",
       "  </thead>\n",
       "  <tbody>\n",
       "    <tr>\n",
       "      <th>4</th>\n",
       "      <td>0.74097</td>\n",
       "      <td>0.787033</td>\n",
       "      <td>0.7</td>\n",
       "      <td>2019-06-24 19:41:12.771000</td>\n",
       "      <td>2</td>\n",
       "      <td>0.05</td>\n",
       "      <td>300</td>\n",
       "      <td>1</td>\n",
       "      <td>0.01</td>\n",
       "    </tr>\n",
       "  </tbody>\n",
       "</table>\n",
       "</div>"
      ],
      "text/plain": [
       "   f1_score  precision  recall                        asof  best_top_n  \\\n",
       "4   0.74097   0.787033     0.7  2019-06-24 19:41:12.771000           2   \n",
       "\n",
       "   learning_rate  best_max_parses  max_update_items  initial_weight  \n",
       "4           0.05              300                 1            0.01  "
      ]
     },
     "execution_count": 220,
     "metadata": {},
     "output_type": "execute_result"
    }
   ],
   "source": [
    "df_pa = get_df(\"CB_STR_PCPTRN_RE-RANKER_HYPER_PARAM_VD\", db)\n",
    "df_pa.head(1)"
   ]
  },
  {
   "cell_type": "code",
   "execution_count": null,
   "metadata": {},
   "outputs": [],
   "source": []
  }
 ],
 "metadata": {
  "anaconda-cloud": {},
  "kernelspec": {
   "display_name": "Python [conda env:phd_py36]",
   "language": "python",
   "name": "conda-env-phd_py36-py"
  },
  "language_info": {
   "codemirror_mode": {
    "name": "ipython",
    "version": 3
   },
   "file_extension": ".py",
   "mimetype": "text/x-python",
   "name": "python",
   "nbconvert_exporter": "python",
   "pygments_lexer": "ipython3",
   "version": "3.6.4"
  }
 },
 "nbformat": 4,
 "nbformat_minor": 2
}
