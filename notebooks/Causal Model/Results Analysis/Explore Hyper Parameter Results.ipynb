{
 "cells": [
  {
   "cell_type": "markdown",
   "metadata": {},
   "source": [
    "## Get Best-Performing Hyper Parameters"
   ]
  },
  {
   "cell_type": "code",
   "execution_count": 1,
   "metadata": {},
   "outputs": [],
   "source": [
    "MONGO_COLLECTION = \"SC_RE-RANKER_HYPER_PARAM_VD\""
   ]
  },
  {
   "cell_type": "code",
   "execution_count": 2,
   "metadata": {},
   "outputs": [],
   "source": [
    "# for r in rows[-17:]:\n",
    "#     print(str(r[\"asof\"]))"
   ]
  },
  {
   "cell_type": "code",
   "execution_count": 3,
   "metadata": {},
   "outputs": [],
   "source": [
    "cols = [\"f1_score\", \"precision\", \"recall\", \"asof\", \"best_top_n\", \"C\", \"best_max_parses\", \n",
    "    #\"best_max_upd\", \n",
    "    \"max_update_items\", \n",
    "    # \"best_min_prob\", \"extractors\", \n",
    "    \"initial_weight\", \"loss_type\",\\\n",
    "    #\"min_feat_freq\",\n",
    "    \"pa_type\"]"
   ]
  },
  {
   "cell_type": "code",
   "execution_count": 4,
   "metadata": {},
   "outputs": [],
   "source": [
    "import pandas as pd\n",
    "import pymongo\n",
    "\n",
    "client = pymongo.MongoClient(serverSelectionTimeoutMS=100, host=\"127.0.0.1\")\n",
    "db = client.metrics_causal_model_reranker\n",
    "\n",
    "project = {\n",
    "        \"params\": \"$parameters\",\n",
    "        \"micro_f1\": \"$MICRO_F1\",\n",
    "        \"asof\": \"$asof\",\n",
    "        \"_id\": 1\n",
    "    }\n",
    "feats_pipeline = [{ \"$project\": project }]\n",
    "rows = [row for row in db[MONGO_COLLECTION].aggregate(feats_pipeline)]\n",
    "\n",
    "results = []\n",
    "for r in rows:\n",
    "    d = dict(r[\"params\"])\n",
    "    d.update(r[\"micro_f1\"])\n",
    "    d[\"asof\"] = str(r[\"asof\"])\n",
    "    results.append(d)"
   ]
  },
  {
   "cell_type": "code",
   "execution_count": 5,
   "metadata": {},
   "outputs": [
    {
     "data": {
      "text/html": [
       "<div>\n",
       "<table border=\"1\" class=\"dataframe\">\n",
       "  <thead>\n",
       "    <tr style=\"text-align: right;\">\n",
       "      <th></th>\n",
       "      <th>asof</th>\n",
       "      <th>f1_score</th>\n",
       "      <th>precision</th>\n",
       "      <th>recall</th>\n",
       "      <th>asof</th>\n",
       "      <th>best_top_n</th>\n",
       "      <th>C</th>\n",
       "      <th>best_max_parses</th>\n",
       "      <th>max_update_items</th>\n",
       "      <th>initial_weight</th>\n",
       "      <th>loss_type</th>\n",
       "      <th>pa_type</th>\n",
       "    </tr>\n",
       "  </thead>\n",
       "  <tbody>\n",
       "    <tr>\n",
       "      <th>0</th>\n",
       "      <td>2019-06-18 07:50:02.014000</td>\n",
       "      <td>0.805714</td>\n",
       "      <td>0.869093</td>\n",
       "      <td>0.750951</td>\n",
       "      <td>2019-06-18 07:50:02.014000</td>\n",
       "      <td>1</td>\n",
       "      <td>0.0005</td>\n",
       "      <td>300</td>\n",
       "      <td>1</td>\n",
       "      <td>0.01</td>\n",
       "      <td>pb</td>\n",
       "      <td>1</td>\n",
       "    </tr>\n",
       "  </tbody>\n",
       "</table>\n",
       "</div>"
      ],
      "text/plain": [
       "                         asof  f1_score  precision    recall  \\\n",
       "0  2019-06-18 07:50:02.014000  0.805714   0.869093  0.750951   \n",
       "\n",
       "                         asof  best_top_n       C  best_max_parses  \\\n",
       "0  2019-06-18 07:50:02.014000           1  0.0005              300   \n",
       "\n",
       "   max_update_items  initial_weight loss_type  pa_type  \n",
       "0                 1            0.01        pb        1  "
      ]
     },
     "execution_count": 5,
     "metadata": {},
     "output_type": "execute_result"
    }
   ],
   "source": [
    "df = pd.DataFrame(results)\n",
    "df.tail(3)[[\"asof\"] + cols]"
   ]
  },
  {
   "cell_type": "code",
   "execution_count": 6,
   "metadata": {},
   "outputs": [
    {
     "data": {
      "text/html": [
       "<div>\n",
       "<table border=\"1\" class=\"dataframe\">\n",
       "  <thead>\n",
       "    <tr style=\"text-align: right;\">\n",
       "      <th></th>\n",
       "      <th>f1_score</th>\n",
       "      <th>precision</th>\n",
       "      <th>recall</th>\n",
       "      <th>asof</th>\n",
       "      <th>best_top_n</th>\n",
       "      <th>C</th>\n",
       "      <th>best_max_parses</th>\n",
       "      <th>max_update_items</th>\n",
       "      <th>initial_weight</th>\n",
       "      <th>loss_type</th>\n",
       "      <th>pa_type</th>\n",
       "    </tr>\n",
       "  </thead>\n",
       "  <tbody>\n",
       "    <tr>\n",
       "      <th>0</th>\n",
       "      <td>0.805714</td>\n",
       "      <td>0.869093</td>\n",
       "      <td>0.750951</td>\n",
       "      <td>2019-06-18 07:50:02.014000</td>\n",
       "      <td>1</td>\n",
       "      <td>0.0005</td>\n",
       "      <td>300</td>\n",
       "      <td>1</td>\n",
       "      <td>0.01</td>\n",
       "      <td>pb</td>\n",
       "      <td>1</td>\n",
       "    </tr>\n",
       "  </tbody>\n",
       "</table>\n",
       "</div>"
      ],
      "text/plain": [
       "   f1_score  precision    recall                        asof  best_top_n  \\\n",
       "0  0.805714   0.869093  0.750951  2019-06-18 07:50:02.014000           1   \n",
       "\n",
       "        C  best_max_parses  max_update_items  initial_weight loss_type  \\\n",
       "0  0.0005              300                 1            0.01        pb   \n",
       "\n",
       "   pa_type  \n",
       "0        1  "
      ]
     },
     "execution_count": 6,
     "metadata": {},
     "output_type": "execute_result"
    }
   ],
   "source": [
    "df = pd.DataFrame(results)\n",
    "df = df.sort_values(by=\"f1_score\",ascending=False)\n",
    "df[cols].head(5)"
   ]
  },
  {
   "cell_type": "code",
   "execution_count": 7,
   "metadata": {},
   "outputs": [],
   "source": [
    "# Best ones that are not 2\n",
    "# df[df.best_top_n != 2][cols].head()"
   ]
  },
  {
   "cell_type": "code",
   "execution_count": null,
   "metadata": {},
   "outputs": [],
   "source": []
  }
 ],
 "metadata": {
  "anaconda-cloud": {},
  "kernelspec": {
   "display_name": "Python [conda env:phd_py36]",
   "language": "python",
   "name": "conda-env-phd_py36-py"
  },
  "language_info": {
   "codemirror_mode": {
    "name": "ipython",
    "version": 3
   },
   "file_extension": ".py",
   "mimetype": "text/x-python",
   "name": "python",
   "nbconvert_exporter": "python",
   "pygments_lexer": "ipython3",
   "version": "3.6.4"
  }
 },
 "nbformat": 4,
 "nbformat_minor": 2
}
