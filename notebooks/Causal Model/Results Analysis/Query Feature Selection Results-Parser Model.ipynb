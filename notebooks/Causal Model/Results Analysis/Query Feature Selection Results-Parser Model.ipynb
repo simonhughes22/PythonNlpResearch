{
 "cells": [
  {
   "cell_type": "code",
   "execution_count": 1,
   "metadata": {},
   "outputs": [],
   "source": [
    "%matplotlib inline\n",
    "\n",
    "import pymongo\n",
    "import seaborn as sns"
   ]
  },
  {
   "cell_type": "code",
   "execution_count": 2,
   "metadata": {
    "collapsed": true
   },
   "outputs": [],
   "source": [
    "import pandas as pd\n",
    "import numpy as np\n",
    "\n",
    "def group_by(df, bycols, agg_map):\n",
    "    \"\"\"\n",
    "\n",
    "    @param df:      DataFrame\n",
    "    @param bycols:  str or list\n",
    "                        Column(s) to group by\n",
    "    @param agg_map: dictionary or list of 2-tuples\n",
    "                        Mapping from column to aggregate function e.g. [(\"city\", \"count\"), (\"salary\", \"mean\"]\n",
    "    @return:        DataFrame\n",
    "                        Flattened dataframe, with multi-level index removed\n",
    "    \"\"\"\n",
    "    grps = []\n",
    "    if type(bycols) == str:\n",
    "        bycols = [bycols]\n",
    "\n",
    "    if type(agg_map) == dict:\n",
    "        agg_map = agg_map.items()\n",
    "\n",
    "    for k,v in agg_map:\n",
    "        grp = df[bycols + [k]].groupby(bycols, ).agg(v)\n",
    "        grp.reset_index(inplace=True)\n",
    "        grp[\"%s(%s)\" % (v,k)] = grp[k]\n",
    "        del grp[k]\n",
    "        grps.append(grp)\n",
    "\n",
    "    m = grps[0]\n",
    "    for grp in grps[1:]:\n",
    "        m = pd.merge(m, grp, on=bycols, how=\"inner\")\n",
    "    return m"
   ]
  },
  {
   "cell_type": "code",
   "execution_count": 3,
   "metadata": {},
   "outputs": [
    {
     "data": {
      "text/plain": [
       "(Collection(Database(MongoClient(host=['localhost:27017'], document_class=dict, tz_aware=False, connect=True), 'metrics_causal_model'), 'CR_CB_SHIFT_REDUCE_PARSER_TEMPLATED_FEATURE_SEL_TD'),\n",
       " Collection(Database(MongoClient(host=['localhost:27017'], document_class=dict, tz_aware=False, connect=True), 'metrics_causal_model'), 'CR_CB_SHIFT_REDUCE_PARSER_TEMPLATED_FEATURE_SEL_VD'),\n",
       " Collection(Database(MongoClient(host=['localhost:27017'], document_class=dict, tz_aware=False, connect=True), 'metrics_causal_model'), 'CR_SC_SHIFT_REDUCE_PARSER_TEMPLATED_FEATURE_SEL_TD'),\n",
       " Collection(Database(MongoClient(host=['localhost:27017'], document_class=dict, tz_aware=False, connect=True), 'metrics_causal_model'), 'CR_SC_SHIFT_REDUCE_PARSER_TEMPLATED_FEATURE_SEL_VD'))"
      ]
     },
     "execution_count": 3,
     "metadata": {},
     "output_type": "execute_result"
    }
   ],
   "source": [
    "# NOTE - Turn off VPN when running pymongo\n",
    "client = pymongo.MongoClient(port=27017)\n",
    "db = client.metrics_causal_model\n",
    "\n",
    "cb_td, cb_vd, sc_td, sc_vd = \"CR_CB_SHIFT_REDUCE_PARSER_TEMPLATED_FEATURE_SEL_TD\", \"CR_CB_SHIFT_REDUCE_PARSER_TEMPLATED_FEATURE_SEL_VD\", \\\n",
    "    \"CR_SC_SHIFT_REDUCE_PARSER_TEMPLATED_FEATURE_SEL_TD\", \"CR_SC_SHIFT_REDUCE_PARSER_TEMPLATED_FEATURE_SEL_VD\"\n",
    "cb_td, cb_vd, sc_td, sc_vd = db[cb_td], db[cb_vd], db[sc_td], db[sc_vd]\n",
    "cb_td, cb_vd, sc_td, sc_vd"
   ]
  },
  {
   "cell_type": "markdown",
   "metadata": {},
   "source": [
    "# Query Top Features"
   ]
  },
  {
   "cell_type": "code",
   "execution_count": 4,
   "metadata": {},
   "outputs": [
    {
     "name": "stdout",
     "output_type": "stream",
     "text": [
      "13 13 13 13\n"
     ]
    }
   ],
   "source": [
    "from pprint import pprint\n",
    "from bson.son import SON # needed to ensure dictionary is ordered (python default is not)\n",
    "\n",
    "feats_pipeline = [{\n",
    "    \"$project\": { \n",
    "            \"weighted_f1_score\":\"$WEIGHTED_MEAN_CONCEPT_CODES.f1_score\",\n",
    "            \"micro_f1_score\":  \"$MICRO_F1.f1_score\",\n",
    "            \"micro_recall\":    \"$MICRO_F1.recall\",\n",
    "            \"micro_precision\": \"$MICRO_F1.precision\",\n",
    "            \"stemmed\":        \"$parameters.stemmed\",\n",
    "            \"num_feats\":      \"$parameters.num_feats_MEAN\",\n",
    "            \"feats\":          \"$parameters.extractors\",\n",
    "            \"count\": {        \"$size\" : \"$parameters.extractors\" },\n",
    "            \"asof\" :          \"$asof\",\n",
    "            \"_id\":1\n",
    "    }\n",
    "},\n",
    "{\n",
    "    \"$match\":{\n",
    "        \"micro_f1_score\": { \"$exists\" : True },\n",
    "        # how many feats\n",
    "        #\"count\": {          \"$eq\" :1 },\n",
    "        # window width\n",
    "        #\"window_size\": {    \"$eq\":13 }\n",
    "    }\n",
    "},\n",
    "{\n",
    "    \"$sort\":{\n",
    "        #\"weighted_f1_score\":-1,\n",
    "        \"micro_f1_score\": -1\n",
    "        #\"asof\": -1\n",
    "        #\"count\": -1\n",
    "    }\n",
    "},\n",
    "]\n",
    "\n",
    "cb_td_rows = [row for row in cb_td.aggregate(feats_pipeline)]\n",
    "cb_vd_rows = [row for row in cb_vd.aggregate(feats_pipeline)]\n",
    "sc_td_rows = [row for row in sc_td.aggregate(feats_pipeline)]\n",
    "sc_vd_rows = [row for row in sc_vd.aggregate(feats_pipeline)]\n",
    "\n",
    "print(len(cb_td_rows), len(cb_vd_rows), len(sc_td_rows), len(sc_vd_rows))"
   ]
  },
  {
   "cell_type": "code",
   "execution_count": 5,
   "metadata": {},
   "outputs": [
    {
     "data": {
      "text/html": [
       "<div>\n",
       "<table border=\"1\" class=\"dataframe\">\n",
       "  <thead>\n",
       "    <tr style=\"text-align: right;\">\n",
       "      <th></th>\n",
       "      <th>_id</th>\n",
       "      <th>asof</th>\n",
       "      <th>count</th>\n",
       "      <th>feats</th>\n",
       "      <th>micro_f1_score</th>\n",
       "      <th>micro_precision</th>\n",
       "      <th>micro_recall</th>\n",
       "      <th>num_feats</th>\n",
       "      <th>stemmed</th>\n",
       "      <th>weighted_f1_score</th>\n",
       "      <th>hs_feats</th>\n",
       "    </tr>\n",
       "  </thead>\n",
       "  <tbody>\n",
       "    <tr>\n",
       "      <th>0</th>\n",
       "      <td>5cb244d5e116f56ce8f83904</td>\n",
       "      <td>2019-04-13 15:21:41.607</td>\n",
       "      <td>8</td>\n",
       "      <td>[single_words, between_word_features, label_se...</td>\n",
       "      <td>0.743292</td>\n",
       "      <td>0.738473</td>\n",
       "      <td>0.748175</td>\n",
       "      <td>62689.0</td>\n",
       "      <td>True</td>\n",
       "      <td>0.0</td>\n",
       "      <td>gbl_causal_features|gbl_ratio_features</td>\n",
       "    </tr>\n",
       "    <tr>\n",
       "      <th>1</th>\n",
       "      <td>5cb24169e116f56ce8f838f8</td>\n",
       "      <td>2019-04-13 15:07:05.813</td>\n",
       "      <td>7</td>\n",
       "      <td>[single_words, between_word_features, label_se...</td>\n",
       "      <td>0.741360</td>\n",
       "      <td>0.738941</td>\n",
       "      <td>0.743796</td>\n",
       "      <td>62243.6</td>\n",
       "      <td>True</td>\n",
       "      <td>0.0</td>\n",
       "      <td>gbl_causal_features</td>\n",
       "    </tr>\n",
       "    <tr>\n",
       "      <th>2</th>\n",
       "      <td>5cb245a2e116f56ce8f83906</td>\n",
       "      <td>2019-04-13 15:25:06.523</td>\n",
       "      <td>8</td>\n",
       "      <td>[single_words, between_word_features, label_se...</td>\n",
       "      <td>0.741228</td>\n",
       "      <td>0.742313</td>\n",
       "      <td>0.740146</td>\n",
       "      <td>62205.0</td>\n",
       "      <td>True</td>\n",
       "      <td>0.0</td>\n",
       "      <td>gbl_causal_features|gbl_sentence_position_feat...</td>\n",
       "    </tr>\n",
       "  </tbody>\n",
       "</table>\n",
       "</div>"
      ],
      "text/plain": [
       "                        _id                    asof  count  \\\n",
       "0  5cb244d5e116f56ce8f83904 2019-04-13 15:21:41.607      8   \n",
       "1  5cb24169e116f56ce8f838f8 2019-04-13 15:07:05.813      7   \n",
       "2  5cb245a2e116f56ce8f83906 2019-04-13 15:25:06.523      8   \n",
       "\n",
       "                                               feats  micro_f1_score  \\\n",
       "0  [single_words, between_word_features, label_se...        0.743292   \n",
       "1  [single_words, between_word_features, label_se...        0.741360   \n",
       "2  [single_words, between_word_features, label_se...        0.741228   \n",
       "\n",
       "   micro_precision  micro_recall  num_feats stemmed  weighted_f1_score  \\\n",
       "0         0.738473      0.748175    62689.0    True                0.0   \n",
       "1         0.738941      0.743796    62243.6    True                0.0   \n",
       "2         0.742313      0.740146    62205.0    True                0.0   \n",
       "\n",
       "                                            hs_feats  \n",
       "0             gbl_causal_features|gbl_ratio_features  \n",
       "1                                gbl_causal_features  \n",
       "2  gbl_causal_features|gbl_sentence_position_feat...  "
      ]
     },
     "execution_count": 5,
     "metadata": {},
     "output_type": "execute_result"
    }
   ],
   "source": [
    "def gbl_feats(fts):\n",
    "    return [ft for ft in fts if ft.startswith(\"gbl\")]\n",
    "\n",
    "def hash_feats(fts):\n",
    "    fts = gbl_feats(fts)\n",
    "    return \"|\".join(sorted(fts))\n",
    "\n",
    "def get_df_sorted_by_f1score(rows):\n",
    "    df = pd.DataFrame(rows).sort_values(\"micro_f1_score\", ascending=False)\n",
    "    df[\"hs_feats\"] = df[\"feats\"].apply(hash_feats)\n",
    "    return df\n",
    "\n",
    "cb_td_df = get_df_sorted_by_f1score(cb_td_rows)\n",
    "cb_vd_df = get_df_sorted_by_f1score(cb_vd_rows)\n",
    "sc_td_df = get_df_sorted_by_f1score(sc_td_rows)\n",
    "sc_vd_df = get_df_sorted_by_f1score(sc_vd_rows)\n",
    "\n",
    "cb_vd_df.head(3)"
   ]
  },
  {
   "cell_type": "code",
   "execution_count": 6,
   "metadata": {},
   "outputs": [
    {
     "data": {
      "text/plain": [
       "(numpy.datetime64('2019-04-13T15:01:37.857000000'),\n",
       " numpy.datetime64('2019-04-13T15:38:11.152000000'))"
      ]
     },
     "execution_count": 6,
     "metadata": {},
     "output_type": "execute_result"
    }
   ],
   "source": [
    "min(cb_vd_df[\"asof\"].values),max(cb_vd_df[\"asof\"].values)"
   ]
  },
  {
   "cell_type": "code",
   "execution_count": 7,
   "metadata": {},
   "outputs": [
    {
     "data": {
      "text/html": [
       "<div>\n",
       "<table border=\"1\" class=\"dataframe\">\n",
       "  <thead>\n",
       "    <tr style=\"text-align: right;\">\n",
       "      <th></th>\n",
       "      <th>feats</th>\n",
       "      <th>count</th>\n",
       "      <th>micro_f1_score</th>\n",
       "      <th>micro_recall</th>\n",
       "      <th>micro_precision</th>\n",
       "      <th>stemmed</th>\n",
       "      <th>num_feats</th>\n",
       "      <th>rank</th>\n",
       "    </tr>\n",
       "  </thead>\n",
       "  <tbody>\n",
       "    <tr>\n",
       "      <th>9</th>\n",
       "      <td>single_words,between_word_features,label_set,t...</td>\n",
       "      <td>6</td>\n",
       "      <td>0.735595</td>\n",
       "      <td>0.74781</td>\n",
       "      <td>0.723773</td>\n",
       "      <td>True</td>\n",
       "      <td>59376.4</td>\n",
       "      <td>1</td>\n",
       "    </tr>\n",
       "  </tbody>\n",
       "</table>\n",
       "</div>"
      ],
      "text/plain": [
       "                                               feats  count  micro_f1_score  \\\n",
       "9  single_words,between_word_features,label_set,t...      6        0.735595   \n",
       "\n",
       "   micro_recall  micro_precision stemmed  num_feats  rank  \n",
       "9       0.74781         0.723773    True    59376.4     1  "
      ]
     },
     "execution_count": 7,
     "metadata": {},
     "output_type": "execute_result"
    }
   ],
   "source": [
    "cols = \"feats,count,micro_f1_score,micro_recall,micro_precision,stemmed,num_feats\".split(\",\")\n",
    "\n",
    "def feat_name(ft):\n",
    "    if type(ft) == list:\n",
    "        ft=\",\".join(ft)\n",
    "    offset = (11-1)/2\n",
    "    offset_lbl = \"offset:%i\" % offset\n",
    "    ft=ft.replace(offset_lbl, \"\").replace(\"fn_\", \"\").replace(\" \",\"\")\n",
    "    return ft\n",
    "\n",
    "def get_top_individual_feats(df, count, stemmed=True):\n",
    "    df = df.copy(deep=True)\n",
    "    df_top_individual_feats = df[(df[\"count\"] == count) & (df[\"stemmed\"] == stemmed)][cols]\n",
    "    df_top_individual_feats[\"rank\"] = np.arange(len(df_top_individual_feats)) + 1\n",
    "    df_top_individual_feats[\"feats\"] = df_top_individual_feats[\"feats\"].apply(feat_name)\n",
    "    return df_top_individual_feats\n",
    "\n",
    "get_top_individual_feats(cb_vd_df, 6, True)"
   ]
  },
  {
   "cell_type": "markdown",
   "metadata": {},
   "source": [
    "### Performance of Each Feature In Isolation"
   ]
  },
  {
   "cell_type": "code",
   "execution_count": 8,
   "metadata": {},
   "outputs": [
    {
     "data": {
      "text/html": [
       "<div>\n",
       "<table border=\"1\" class=\"dataframe\">\n",
       "  <thead>\n",
       "    <tr style=\"text-align: right;\">\n",
       "      <th></th>\n",
       "      <th>rank</th>\n",
       "      <th>feats_CB</th>\n",
       "      <th>micro_f1_score_CB</th>\n",
       "      <th>micro_recall_CB</th>\n",
       "      <th>micro_precision_CB</th>\n",
       "      <th>num_feats_CB</th>\n",
       "      <th>feats_SC</th>\n",
       "      <th>micro_f1_score_SC</th>\n",
       "      <th>micro_recall_SC</th>\n",
       "      <th>micro_precision_SC</th>\n",
       "      <th>num_feats_SC</th>\n",
       "    </tr>\n",
       "  </thead>\n",
       "  <tbody>\n",
       "    <tr>\n",
       "      <th>0</th>\n",
       "      <td>1</td>\n",
       "      <td>gbl_causal_features</td>\n",
       "      <td>0.741360</td>\n",
       "      <td>0.743796</td>\n",
       "      <td>0.738941</td>\n",
       "      <td>62243.6</td>\n",
       "      <td>gbl_concept_code_cnt_features</td>\n",
       "      <td>0.806460</td>\n",
       "      <td>0.797870</td>\n",
       "      <td>0.815237</td>\n",
       "      <td>63152.2</td>\n",
       "    </tr>\n",
       "    <tr>\n",
       "      <th>1</th>\n",
       "      <td>2</td>\n",
       "      <td>gbl_concept_code_cnt_features</td>\n",
       "      <td>0.739918</td>\n",
       "      <td>0.753285</td>\n",
       "      <td>0.727017</td>\n",
       "      <td>60576.4</td>\n",
       "      <td>gbl_ratio_features</td>\n",
       "      <td>0.803467</td>\n",
       "      <td>0.799391</td>\n",
       "      <td>0.807584</td>\n",
       "      <td>62237.6</td>\n",
       "    </tr>\n",
       "    <tr>\n",
       "      <th>2</th>\n",
       "      <td>3</td>\n",
       "      <td>gbl_adjacent_sent_code_features</td>\n",
       "      <td>0.737941</td>\n",
       "      <td>0.748175</td>\n",
       "      <td>0.727983</td>\n",
       "      <td>60362.8</td>\n",
       "      <td>gbl_sentence_position_features</td>\n",
       "      <td>0.801843</td>\n",
       "      <td>0.794319</td>\n",
       "      <td>0.809512</td>\n",
       "      <td>63091.2</td>\n",
       "    </tr>\n",
       "    <tr>\n",
       "      <th>3</th>\n",
       "      <td>4</td>\n",
       "      <td>gbl_sentence_position_features</td>\n",
       "      <td>0.735516</td>\n",
       "      <td>0.745985</td>\n",
       "      <td>0.725337</td>\n",
       "      <td>59014.6</td>\n",
       "      <td>gbl_adjacent_sent_code_features</td>\n",
       "      <td>0.801186</td>\n",
       "      <td>0.787979</td>\n",
       "      <td>0.814844</td>\n",
       "      <td>63376.0</td>\n",
       "    </tr>\n",
       "    <tr>\n",
       "      <th>4</th>\n",
       "      <td>5</td>\n",
       "      <td>gbl_ratio_features</td>\n",
       "      <td>0.731872</td>\n",
       "      <td>0.749635</td>\n",
       "      <td>0.714932</td>\n",
       "      <td>58854.8</td>\n",
       "      <td>gbl_causal_features</td>\n",
       "      <td>0.799737</td>\n",
       "      <td>0.771747</td>\n",
       "      <td>0.829834</td>\n",
       "      <td>68150.2</td>\n",
       "    </tr>\n",
       "  </tbody>\n",
       "</table>\n",
       "</div>"
      ],
      "text/plain": [
       "   rank                         feats_CB  micro_f1_score_CB  micro_recall_CB  \\\n",
       "0     1              gbl_causal_features           0.741360         0.743796   \n",
       "1     2    gbl_concept_code_cnt_features           0.739918         0.753285   \n",
       "2     3  gbl_adjacent_sent_code_features           0.737941         0.748175   \n",
       "3     4   gbl_sentence_position_features           0.735516         0.745985   \n",
       "4     5               gbl_ratio_features           0.731872         0.749635   \n",
       "\n",
       "   micro_precision_CB  num_feats_CB                         feats_SC  \\\n",
       "0            0.738941       62243.6    gbl_concept_code_cnt_features   \n",
       "1            0.727017       60576.4               gbl_ratio_features   \n",
       "2            0.727983       60362.8   gbl_sentence_position_features   \n",
       "3            0.725337       59014.6  gbl_adjacent_sent_code_features   \n",
       "4            0.714932       58854.8              gbl_causal_features   \n",
       "\n",
       "   micro_f1_score_SC  micro_recall_SC  micro_precision_SC  num_feats_SC  \n",
       "0           0.806460         0.797870            0.815237       63152.2  \n",
       "1           0.803467         0.799391            0.807584       62237.6  \n",
       "2           0.801843         0.794319            0.809512       63091.2  \n",
       "3           0.801186         0.787979            0.814844       63376.0  \n",
       "4           0.799737         0.771747            0.829834       68150.2  "
      ]
     },
     "execution_count": 8,
     "metadata": {},
     "output_type": "execute_result"
    }
   ],
   "source": [
    "import numpy as np\n",
    "\n",
    "cb_seed_feats = \"single_words,between_word_features,label_set,three_words,third_order,unigrams,\"\n",
    "sc_seed_feats = \"three_words,between_word_features,size_features,single_words,\"\n",
    "\n",
    "cb_seed_count = len([f for f in cb_seed_feats.split(\",\") if f != \"\"])\n",
    "sc_seed_count = len([f for f in sc_seed_feats.split(\",\") if f != \"\"])\n",
    "\n",
    "# For CB, starts with 6 features while SC starts with 4, so set to 7 and 5 as the feature count\n",
    "a = get_top_individual_feats(cb_vd_df, count=cb_seed_count+1, stemmed=True)\n",
    "b = get_top_individual_feats(sc_vd_df, count=sc_seed_count+1, stemmed=True)\n",
    "\n",
    "a[\"feats\"] = a[\"feats\"].apply(lambda s: s.replace(cb_seed_feats,\"\"))\n",
    "b[\"feats\"] = b[\"feats\"].apply(lambda s: s.replace(sc_seed_feats,\"\"))\n",
    "a[\"additional_feats\"] = a[\"count\"] - cb_seed_count\n",
    "b[\"additional_feats\"] = b[\"count\"] - sc_seed_count\n",
    "\n",
    "merged = pd.merge(a,b, on=\"rank\", suffixes=[\"_CB\",\"_SC\"])\\\n",
    "[\"rank,feats_CB,micro_f1_score_CB,micro_recall_CB,micro_precision_CB,num_feats_CB,feats_SC,micro_f1_score_SC,micro_recall_SC,micro_precision_SC,num_feats_SC\".split(\",\")]\n",
    "merged"
   ]
  },
  {
   "cell_type": "code",
   "execution_count": 9,
   "metadata": {},
   "outputs": [
    {
     "data": {
      "text/html": [
       "<div>\n",
       "<table border=\"1\" class=\"dataframe\">\n",
       "  <thead>\n",
       "    <tr style=\"text-align: right;\">\n",
       "      <th></th>\n",
       "      <th>rank</th>\n",
       "      <th>feats_CB</th>\n",
       "      <th>micro_f1_score_CB</th>\n",
       "      <th>feats_SC</th>\n",
       "      <th>micro_f1_score_SC</th>\n",
       "    </tr>\n",
       "  </thead>\n",
       "  <tbody>\n",
       "    <tr>\n",
       "      <th>0</th>\n",
       "      <td>1</td>\n",
       "      <td>gbl_causal_features</td>\n",
       "      <td>0.741</td>\n",
       "      <td>gbl_concept_code_cnt_features</td>\n",
       "      <td>0.806</td>\n",
       "    </tr>\n",
       "    <tr>\n",
       "      <th>1</th>\n",
       "      <td>2</td>\n",
       "      <td>gbl_concept_code_cnt_features</td>\n",
       "      <td>0.740</td>\n",
       "      <td>gbl_ratio_features</td>\n",
       "      <td>0.803</td>\n",
       "    </tr>\n",
       "    <tr>\n",
       "      <th>2</th>\n",
       "      <td>3</td>\n",
       "      <td>gbl_adjacent_sent_code_features</td>\n",
       "      <td>0.738</td>\n",
       "      <td>gbl_sentence_position_features</td>\n",
       "      <td>0.802</td>\n",
       "    </tr>\n",
       "    <tr>\n",
       "      <th>3</th>\n",
       "      <td>4</td>\n",
       "      <td>gbl_sentence_position_features</td>\n",
       "      <td>0.736</td>\n",
       "      <td>gbl_adjacent_sent_code_features</td>\n",
       "      <td>0.801</td>\n",
       "    </tr>\n",
       "    <tr>\n",
       "      <th>4</th>\n",
       "      <td>5</td>\n",
       "      <td>gbl_ratio_features</td>\n",
       "      <td>0.732</td>\n",
       "      <td>gbl_causal_features</td>\n",
       "      <td>0.800</td>\n",
       "    </tr>\n",
       "  </tbody>\n",
       "</table>\n",
       "</div>"
      ],
      "text/plain": [
       "   rank                         feats_CB micro_f1_score_CB  \\\n",
       "0     1              gbl_causal_features             0.741   \n",
       "1     2    gbl_concept_code_cnt_features             0.740   \n",
       "2     3  gbl_adjacent_sent_code_features             0.738   \n",
       "3     4   gbl_sentence_position_features             0.736   \n",
       "4     5               gbl_ratio_features             0.732   \n",
       "\n",
       "                          feats_SC micro_f1_score_SC  \n",
       "0    gbl_concept_code_cnt_features             0.806  \n",
       "1               gbl_ratio_features             0.803  \n",
       "2   gbl_sentence_position_features             0.802  \n",
       "3  gbl_adjacent_sent_code_features             0.801  \n",
       "4              gbl_causal_features             0.800  "
      ]
     },
     "execution_count": 9,
     "metadata": {},
     "output_type": "execute_result"
    }
   ],
   "source": [
    "merged2=merged[[\"rank\",\"feats_CB\", \"micro_f1_score_CB\", \"feats_SC\", \"micro_f1_score_SC\"]].copy()\n",
    "for c in merged2.columns:\n",
    "    if \"micro\" in c:\n",
    "        merged2[c]=merged2[c].apply(lambda d: \"{0:.3f}\".format(d) if type(d) == float else d)\n",
    "    elif \"num\" in c:\n",
    "        merged2[c]=merged2[c].apply(lambda d: \"{0:,.1f}\".format(d) if type(d) == float else d)\n",
    "merged2"
   ]
  },
  {
   "cell_type": "markdown",
   "metadata": {},
   "source": [
    "## Generate Rows for LaTex Table"
   ]
  },
  {
   "cell_type": "code",
   "execution_count": 10,
   "metadata": {
    "collapsed": true
   },
   "outputs": [],
   "source": [
    "def format_lbl(lbl):\n",
    "    if lbl.lower().strip() == \"nan\" or lbl.strip() == \"\":\n",
    "        return \"-\"\n",
    "    lbl = lbl.replace(\"gbl_\",\"\").replace(\"[\",\" \").replace(\"]\",\"\").replace(\"_\",\" \").strip()\n",
    "    return \" \".join([l[0].upper() + l[1:] for l in lbl.split(\" \")])"
   ]
  },
  {
   "cell_type": "code",
   "execution_count": 11,
   "metadata": {},
   "outputs": [
    {
     "name": "stdout",
     "output_type": "stream",
     "text": [
      "1 & Causal Features & 0.741 & & Concept Code Cnt Features & 0.806\\\\\n",
      "2 & Concept Code Cnt Features & 0.740 & & Ratio Features & 0.803\\\\\n",
      "3 & Adjacent Sent Code Features & 0.738 & & Sentence Position Features & 0.802\\\\\n",
      "4 & Sentence Position Features & 0.736 & & Adjacent Sent Code Features & 0.801\\\\\n",
      "5 & Ratio Features & 0.732 & & Causal Features & 0.800\\\\\n"
     ]
    }
   ],
   "source": [
    "for i, row in merged.iterrows():\n",
    "    feats_CB = format_lbl(row[\"feats_CB\"])\n",
    "    micro_f1_score_CB = row[\"micro_f1_score_CB\"]\n",
    "    \n",
    "    feats_SC = format_lbl(row[\"feats_SC\"])\n",
    "    micro_f1_score_SC = row[\"micro_f1_score_SC\"]\n",
    "    \n",
    "    print(\"{rank} & {feat_cb} & {cb_f1:0.3f} & & {feat_sc} & {sc_f1:0.3f}\\\\\\\\\"\\\n",
    "          .format(rank=i+1,feat_cb=feats_CB, cb_f1=micro_f1_score_CB,\n",
    "                  feat_sc=feats_SC, sc_f1=micro_f1_score_SC))\n"
   ]
  },
  {
   "cell_type": "markdown",
   "metadata": {},
   "source": [
    "## Performance By Feature Set Size"
   ]
  },
  {
   "cell_type": "code",
   "execution_count": 12,
   "metadata": {},
   "outputs": [
    {
     "data": {
      "text/html": [
       "<div>\n",
       "<table border=\"1\" class=\"dataframe\">\n",
       "  <thead>\n",
       "    <tr style=\"text-align: right;\">\n",
       "      <th></th>\n",
       "      <th>count</th>\n",
       "      <th>max(micro_f1_score)_cb</th>\n",
       "      <th>max(micro_f1_score)_sc</th>\n",
       "    </tr>\n",
       "  </thead>\n",
       "  <tbody>\n",
       "    <tr>\n",
       "      <th>0</th>\n",
       "      <td>0</td>\n",
       "      <td>0.735595</td>\n",
       "      <td>0.804630</td>\n",
       "    </tr>\n",
       "    <tr>\n",
       "      <th>1</th>\n",
       "      <td>1</td>\n",
       "      <td>0.741360</td>\n",
       "      <td>0.806460</td>\n",
       "    </tr>\n",
       "    <tr>\n",
       "      <th>2</th>\n",
       "      <td>2</td>\n",
       "      <td>0.743292</td>\n",
       "      <td>0.806674</td>\n",
       "    </tr>\n",
       "    <tr>\n",
       "      <th>3</th>\n",
       "      <td>3</td>\n",
       "      <td>0.740255</td>\n",
       "      <td>0.804291</td>\n",
       "    </tr>\n",
       "  </tbody>\n",
       "</table>\n",
       "</div>"
      ],
      "text/plain": [
       "   count  max(micro_f1_score)_cb  max(micro_f1_score)_sc\n",
       "0      0                0.735595                0.804630\n",
       "1      1                0.741360                0.806460\n",
       "2      2                0.743292                0.806674\n",
       "3      3                0.740255                0.804291"
      ]
     },
     "execution_count": 12,
     "metadata": {},
     "output_type": "execute_result"
    }
   ],
   "source": [
    "def get_by_featureset_size(df, seed_count):\n",
    "    grpd = group_by(df, bycols=[\"count\"], agg_map=[(\"micro_f1_score\", \"max\"),\n",
    "                                              #(\"micro_f1_score\", \"mean\"),\n",
    "                                              #(\"micro_f1_score\", \"median\"),\n",
    "                                              #(\"micro_f1_score\", \"count\"),\n",
    "                                             ]).sort_values(\"count\")\n",
    "    grpd[\"count\"] = grpd[\"count\"] - seed_count\n",
    "    return grpd\n",
    "\n",
    "pd.merge(get_by_featureset_size(cb_vd_df, cb_seed_count), get_by_featureset_size(sc_vd_df, sc_seed_count), on=\"count\", how=\"outer\", suffixes=[\"_cb\", \"_sc\"])"
   ]
  },
  {
   "cell_type": "markdown",
   "metadata": {},
   "source": [
    "# Get F1 Score By Num Features As the Optimal Feature Set is Constructed"
   ]
  },
  {
   "cell_type": "code",
   "execution_count": 13,
   "metadata": {},
   "outputs": [
    {
     "data": {
      "text/html": [
       "<div>\n",
       "<table border=\"1\" class=\"dataframe\">\n",
       "  <thead>\n",
       "    <tr style=\"text-align: right;\">\n",
       "      <th></th>\n",
       "      <th>count</th>\n",
       "      <th>new_feat_CB</th>\n",
       "      <th>micro_f1_score_CB</th>\n",
       "      <th>stemmed_CB</th>\n",
       "      <th>num_feats_CB</th>\n",
       "      <th>new_feat_SC</th>\n",
       "      <th>micro_f1_score_SC</th>\n",
       "      <th>stemmed_SC</th>\n",
       "      <th>num_feats_SC</th>\n",
       "    </tr>\n",
       "  </thead>\n",
       "  <tbody>\n",
       "    <tr>\n",
       "      <th>0</th>\n",
       "      <td>0</td>\n",
       "      <td></td>\n",
       "      <td>0.735595</td>\n",
       "      <td>True</td>\n",
       "      <td>59376.4</td>\n",
       "      <td></td>\n",
       "      <td>0.804630</td>\n",
       "      <td>True</td>\n",
       "      <td>63053.0</td>\n",
       "    </tr>\n",
       "    <tr>\n",
       "      <th>1</th>\n",
       "      <td>1</td>\n",
       "      <td>gbl_causal_features</td>\n",
       "      <td>0.741360</td>\n",
       "      <td>True</td>\n",
       "      <td>62243.6</td>\n",
       "      <td>gbl_concept_code_cnt_features</td>\n",
       "      <td>0.806460</td>\n",
       "      <td>True</td>\n",
       "      <td>63152.2</td>\n",
       "    </tr>\n",
       "    <tr>\n",
       "      <th>2</th>\n",
       "      <td>2</td>\n",
       "      <td>gbl_ratio_features</td>\n",
       "      <td>0.743292</td>\n",
       "      <td>True</td>\n",
       "      <td>62689.0</td>\n",
       "      <td>gbl_causal_features</td>\n",
       "      <td>0.806674</td>\n",
       "      <td>True</td>\n",
       "      <td>68242.6</td>\n",
       "    </tr>\n",
       "    <tr>\n",
       "      <th>3</th>\n",
       "      <td>3</td>\n",
       "      <td>gbl_adjacent_sent_code_features</td>\n",
       "      <td>0.740255</td>\n",
       "      <td>True</td>\n",
       "      <td>64059.8</td>\n",
       "      <td>gbl_sentence_position_features</td>\n",
       "      <td>0.804291</td>\n",
       "      <td>True</td>\n",
       "      <td>68532.2</td>\n",
       "    </tr>\n",
       "  </tbody>\n",
       "</table>\n",
       "</div>"
      ],
      "text/plain": [
       "   count                      new_feat_CB  micro_f1_score_CB stemmed_CB  \\\n",
       "0      0                                            0.735595       True   \n",
       "1      1              gbl_causal_features           0.741360       True   \n",
       "2      2               gbl_ratio_features           0.743292       True   \n",
       "3      3  gbl_adjacent_sent_code_features           0.740255       True   \n",
       "\n",
       "   num_feats_CB                     new_feat_SC  micro_f1_score_SC stemmed_SC  \\\n",
       "0       59376.4                                           0.804630       True   \n",
       "1       62243.6   gbl_concept_code_cnt_features           0.806460       True   \n",
       "2       62689.0             gbl_causal_features           0.806674       True   \n",
       "3       64059.8  gbl_sentence_position_features           0.804291       True   \n",
       "\n",
       "   num_feats_SC  \n",
       "0       63053.0  \n",
       "1       63152.2  \n",
       "2       68242.6  \n",
       "3       68532.2  "
      ]
     },
     "execution_count": 13,
     "metadata": {},
     "output_type": "execute_result"
    }
   ],
   "source": [
    "#cols_filter = \"count,new_feat,micro_f1_score,micro_recall,micro_precision,window_size\".split(\",\")\n",
    "cols_filter = \"count,new_feat,micro_f1_score,stemmed,num_feats\".split(\",\")\n",
    "\n",
    "def get_f1_by_feat_count(df):\n",
    "    df=df.sort_values(\"micro_f1_score\", ascending=False).copy(deep=True)\n",
    "    df[\"feats\"] = df[\"feats\"].apply(gbl_feats)\n",
    "    df[\"count\"] = df[\"feats\"].apply(len)\n",
    "    df=df[df[\"stemmed\"] == True]\n",
    "    top_feats = df[df[\"count\"] == df[\"count\"].max()]\n",
    "    top_feats = top_feats.sort_values(\"micro_f1_score\", ascending=False).iloc[0][\"feats\"]\n",
    "    top_feats = [\"\"] + top_feats\n",
    "    rows = []\n",
    "    for i in range(0,len(top_feats)):\n",
    "        new_feat = top_feats[i]\n",
    "        upto = top_feats[:i+1]\n",
    "        hs = hash_feats(upto)\n",
    "\n",
    "        new_row = df[df[\"hs_feats\"] == hs].iloc[0]\n",
    "        new_row[\"new_feat\"] = feat_name(new_feat)\n",
    "        copy = {}\n",
    "        for k in new_row.keys():\n",
    "            copy[str(k).strip()] = new_row[k]\n",
    "        rows.append(copy)\n",
    "\n",
    "    df_f1_by_feat_count = pd.DataFrame(rows)\n",
    "    return df_f1_by_feat_count[cols_filter]\n",
    "\n",
    "df_f1_score_by_feat_size= pd.merge(get_f1_by_feat_count(cb_vd_df), get_f1_by_feat_count(sc_vd_df), on=\"count\", how=\"outer\", suffixes=(\"_CB\", \"_SC\"))\n",
    "##df_f1_score_by_feat_size\n",
    "# Note that the optimal feature set for SC is only of size 4\n",
    "\n",
    "#get_f1_by_feat_count(cb_vd_df)\n",
    "#get_f1_by_feat_count(sc_vd_df)\n",
    "\n",
    "df_f1_score_by_feat_size"
   ]
  },
  {
   "cell_type": "code",
   "execution_count": 14,
   "metadata": {},
   "outputs": [
    {
     "data": {
      "text/html": [
       "<div>\n",
       "<table border=\"1\" class=\"dataframe\">\n",
       "  <thead>\n",
       "    <tr style=\"text-align: right;\">\n",
       "      <th></th>\n",
       "      <th>count</th>\n",
       "      <th>new_feat_CB</th>\n",
       "      <th>num_feats_CB</th>\n",
       "      <th>micro_f1_score_CB</th>\n",
       "      <th>new_feat_SC</th>\n",
       "      <th>num_feats_SC</th>\n",
       "      <th>micro_f1_score_SC</th>\n",
       "    </tr>\n",
       "  </thead>\n",
       "  <tbody>\n",
       "    <tr>\n",
       "      <th>0</th>\n",
       "      <td>0</td>\n",
       "      <td></td>\n",
       "      <td>59,376.4</td>\n",
       "      <td>0.7356</td>\n",
       "      <td></td>\n",
       "      <td>63,053.0</td>\n",
       "      <td>0.8046</td>\n",
       "    </tr>\n",
       "    <tr>\n",
       "      <th>1</th>\n",
       "      <td>1</td>\n",
       "      <td>gbl_causal_features</td>\n",
       "      <td>62,243.6</td>\n",
       "      <td>0.7414</td>\n",
       "      <td>gbl_concept_code_cnt_features</td>\n",
       "      <td>63,152.2</td>\n",
       "      <td>0.8065</td>\n",
       "    </tr>\n",
       "    <tr>\n",
       "      <th>2</th>\n",
       "      <td>2</td>\n",
       "      <td>gbl_ratio_features</td>\n",
       "      <td>62,689.0</td>\n",
       "      <td>0.7433</td>\n",
       "      <td>gbl_causal_features</td>\n",
       "      <td>68,242.6</td>\n",
       "      <td>0.8067</td>\n",
       "    </tr>\n",
       "    <tr>\n",
       "      <th>3</th>\n",
       "      <td>3</td>\n",
       "      <td>gbl_adjacent_sent_code_features</td>\n",
       "      <td>64,059.8</td>\n",
       "      <td>0.7403</td>\n",
       "      <td>gbl_sentence_position_features</td>\n",
       "      <td>68,532.2</td>\n",
       "      <td>0.8043</td>\n",
       "    </tr>\n",
       "  </tbody>\n",
       "</table>\n",
       "</div>"
      ],
      "text/plain": [
       "   count                      new_feat_CB num_feats_CB micro_f1_score_CB  \\\n",
       "0      0                                      59,376.4            0.7356   \n",
       "1      1              gbl_causal_features     62,243.6            0.7414   \n",
       "2      2               gbl_ratio_features     62,689.0            0.7433   \n",
       "3      3  gbl_adjacent_sent_code_features     64,059.8            0.7403   \n",
       "\n",
       "                      new_feat_SC num_feats_SC micro_f1_score_SC  \n",
       "0                                     63,053.0            0.8046  \n",
       "1   gbl_concept_code_cnt_features     63,152.2            0.8065  \n",
       "2             gbl_causal_features     68,242.6            0.8067  \n",
       "3  gbl_sentence_position_features     68,532.2            0.8043  "
      ]
     },
     "execution_count": 14,
     "metadata": {},
     "output_type": "execute_result"
    }
   ],
   "source": [
    "# Round to 4 d.p. for printing\n",
    "df = df_f1_score_by_feat_size[\"count,new_feat_CB,num_feats_CB,micro_f1_score_CB,new_feat_SC,num_feats_SC,micro_f1_score_SC\".split(\",\")].copy()\n",
    "df[\"micro_f1_score_CB\"] = df[\"micro_f1_score_CB\"].apply(lambda d: \"{0:.4f}\".format(d))\n",
    "df[\"num_feats_CB\"]      = df[\"num_feats_CB\"].apply(lambda d: \"{0:,.1f}\".format(d))\n",
    "df[\"micro_f1_score_SC\"] = df[\"micro_f1_score_SC\"].apply(lambda d: \"{0:.4f}\".format(d))  \n",
    "df[\"num_feats_SC\"]      = df[\"num_feats_SC\"].apply(lambda d: \"{0:,.1f}\".format(d))\n",
    "df"
   ]
  },
  {
   "cell_type": "markdown",
   "metadata": {},
   "source": [
    "# Plot F1 Score Against # Feature Sets"
   ]
  },
  {
   "cell_type": "markdown",
   "metadata": {},
   "source": [
    "### Get the Max F1 Score for Each Size of Feature Set (Win = 9)"
   ]
  },
  {
   "cell_type": "code",
   "execution_count": 15,
   "metadata": {
    "collapsed": true
   },
   "outputs": [],
   "source": [
    "def get_max_f1_by_feat_count(df):\n",
    "    df=df.copy(deep=True)\n",
    "    df[\"feats\"] = df[\"feats\"].apply(gbl_feats)\n",
    "    df[\"count\"] = df[\"feats\"].apply(len)\n",
    "    max_feats = df[\"count\"].values.max()\n",
    "    rows = []\n",
    "    for cnt in range(0, max_feats+1):\n",
    "        \n",
    "        row = df[df[\"count\"] == cnt].sort_values(\"micro_f1_score\", ascending=False).iloc[0]        \n",
    "        rows.append(row)\n",
    "\n",
    "    return pd.DataFrame(rows)"
   ]
  },
  {
   "cell_type": "code",
   "execution_count": 16,
   "metadata": {},
   "outputs": [
    {
     "data": {
      "text/html": [
       "<div>\n",
       "<table border=\"1\" class=\"dataframe\">\n",
       "  <thead>\n",
       "    <tr style=\"text-align: right;\">\n",
       "      <th></th>\n",
       "      <th>count</th>\n",
       "      <th>feats_CB</th>\n",
       "      <th>micro_f1_score_CB</th>\n",
       "      <th>micro_precision_CB</th>\n",
       "      <th>micro_recall_CB</th>\n",
       "      <th>feats_SC</th>\n",
       "      <th>micro_f1_score_SC</th>\n",
       "      <th>micro_precision_SC</th>\n",
       "      <th>micro_recall_SC</th>\n",
       "    </tr>\n",
       "  </thead>\n",
       "  <tbody>\n",
       "    <tr>\n",
       "      <th>0</th>\n",
       "      <td>0</td>\n",
       "      <td>[]</td>\n",
       "      <td>0.735595</td>\n",
       "      <td>0.723773</td>\n",
       "      <td>0.747810</td>\n",
       "      <td>[]</td>\n",
       "      <td>0.804630</td>\n",
       "      <td>0.816284</td>\n",
       "      <td>0.793305</td>\n",
       "    </tr>\n",
       "    <tr>\n",
       "      <th>1</th>\n",
       "      <td>1</td>\n",
       "      <td>[gbl_causal_features]</td>\n",
       "      <td>0.741360</td>\n",
       "      <td>0.738941</td>\n",
       "      <td>0.743796</td>\n",
       "      <td>[gbl_concept_code_cnt_features]</td>\n",
       "      <td>0.806460</td>\n",
       "      <td>0.815237</td>\n",
       "      <td>0.797870</td>\n",
       "    </tr>\n",
       "    <tr>\n",
       "      <th>2</th>\n",
       "      <td>2</td>\n",
       "      <td>[gbl_causal_features, gbl_ratio_features]</td>\n",
       "      <td>0.743292</td>\n",
       "      <td>0.738473</td>\n",
       "      <td>0.748175</td>\n",
       "      <td>[gbl_concept_code_cnt_features, gbl_causal_fea...</td>\n",
       "      <td>0.806674</td>\n",
       "      <td>0.829936</td>\n",
       "      <td>0.784682</td>\n",
       "    </tr>\n",
       "    <tr>\n",
       "      <th>3</th>\n",
       "      <td>3</td>\n",
       "      <td>[gbl_causal_features, gbl_ratio_features, gbl_...</td>\n",
       "      <td>0.740255</td>\n",
       "      <td>0.738909</td>\n",
       "      <td>0.741606</td>\n",
       "      <td>[gbl_concept_code_cnt_features, gbl_causal_fea...</td>\n",
       "      <td>0.804291</td>\n",
       "      <td>0.830586</td>\n",
       "      <td>0.779609</td>\n",
       "    </tr>\n",
       "  </tbody>\n",
       "</table>\n",
       "</div>"
      ],
      "text/plain": [
       "   count                                           feats_CB  \\\n",
       "0      0                                                 []   \n",
       "1      1                              [gbl_causal_features]   \n",
       "2      2          [gbl_causal_features, gbl_ratio_features]   \n",
       "3      3  [gbl_causal_features, gbl_ratio_features, gbl_...   \n",
       "\n",
       "   micro_f1_score_CB  micro_precision_CB  micro_recall_CB  \\\n",
       "0           0.735595            0.723773         0.747810   \n",
       "1           0.741360            0.738941         0.743796   \n",
       "2           0.743292            0.738473         0.748175   \n",
       "3           0.740255            0.738909         0.741606   \n",
       "\n",
       "                                            feats_SC  micro_f1_score_SC  \\\n",
       "0                                                 []           0.804630   \n",
       "1                    [gbl_concept_code_cnt_features]           0.806460   \n",
       "2  [gbl_concept_code_cnt_features, gbl_causal_fea...           0.806674   \n",
       "3  [gbl_concept_code_cnt_features, gbl_causal_fea...           0.804291   \n",
       "\n",
       "   micro_precision_SC  micro_recall_SC  \n",
       "0            0.816284         0.793305  \n",
       "1            0.815237         0.797870  \n",
       "2            0.829936         0.784682  \n",
       "3            0.830586         0.779609  "
      ]
     },
     "execution_count": 16,
     "metadata": {},
     "output_type": "execute_result"
    }
   ],
   "source": [
    "df_cb = get_max_f1_by_feat_count(cb_vd_df[cb_vd_df[\"stemmed\"] == True])[[\"count\", \"feats\", \"micro_f1_score\", \"micro_precision\", \"micro_recall\"]]\n",
    "df_sc = get_max_f1_by_feat_count(sc_vd_df[sc_vd_df[\"stemmed\"] == True])[[\"count\", \"feats\", \"micro_f1_score\", \"micro_precision\", \"micro_recall\"]]\n",
    "by_feat_size = pd.merge(df_cb, df_sc, on=\"count\", how=\"outer\", suffixes=[\"_CB\", \"_SC\"])\n",
    "by_feat_size"
   ]
  },
  {
   "cell_type": "code",
   "execution_count": 131,
   "metadata": {},
   "outputs": [
    {
     "data": {
      "image/png": "[encoded data removed]",
      "text/plain": [
       "<matplotlib.figure.Figure at 0x1a1bc90e80>"
      ]
     },
     "metadata": {},
     "output_type": "display_data"
    }
   ],
   "source": [
    "import numpy as np\n",
    "import matplotlib as mpl\n",
    "import matplotlib.pyplot as plt\n",
    "\n",
    "FONT_SIZE = 15\n",
    "\n",
    "df = by_feat_size\n",
    "\n",
    "STYLE = \"whitegrid\"\n",
    "sns.set_style(STYLE)\n",
    "sns.set_style(STYLE, {\"xtick.major.size\": 1})\n",
    "\n",
    "fig = plt.figure(figsize=(12,6.5))\n",
    "\n",
    "x = df[\"count\"].values\n",
    "y_cb = df[\"micro_f1_score_CB\"].values\n",
    "y_sc = df[\"micro_f1_score_SC\"].values\n",
    "\n",
    "ax1 = fig.add_subplot(111)\n",
    "ax1.plot(x,y_cb, label=\"Coral Bleaching\")\n",
    "ax1.plot(x,y_sc, label=\"Skin Cancer\")\n",
    "\n",
    "legend = ax1.legend(loc='upper left', shadow=True, fontsize=FONT_SIZE)\n",
    "\n",
    "ax1.set_xlim([1, 3])\n",
    "# ax1.set_ylim([0.695, 0.77])\n",
    "ax1.set_xlabel('Number of Additional Feature Sets', fontsize=FONT_SIZE)\n",
    "ax1.set_ylabel('Micro F1 Score', fontsize=FONT_SIZE)\n",
    "\n",
    "plt.xticks(np.arange(min(x), max(x)+1, 1.0), fontsize=10)\n",
    "sns.despine()\n",
    "\n",
    "plt.savefig(\"/Users/simon.hughes/BitBucket/Dissertation/Dissertation/images/sr_causal_model_parser_f1_score_by_num_feats.png\")\n",
    "plt.show()"
   ]
  },
  {
   "cell_type": "markdown",
   "metadata": {},
   "source": [
    "## Generate Rows for LaTex Table"
   ]
  },
  {
   "cell_type": "markdown",
   "metadata": {},
   "source": [
    "### F1 Score As Individual Features are Added"
   ]
  },
  {
   "cell_type": "code",
   "execution_count": 18,
   "metadata": {},
   "outputs": [
    {
     "name": "stdout",
     "output_type": "stream",
     "text": [
      "0 & - & 0.7356 & & - & 0.8046\\\\\n",
      "1 & Causal Features & 0.7414 & & Concept Code Cnt Features & 0.8065\\\\\n",
      "2 & Ratio Features & 0.7433 & & Causal Features & 0.8067\\\\\n",
      "3 & Adjacent Sent Code Features & 0.7403 & & Sentence Position Features & 0.8043\\\\\n"
     ]
    }
   ],
   "source": [
    "for i, row in df_f1_score_by_feat_size.iterrows():\n",
    "    #pprint(row)\n",
    "    \n",
    "    feats_CB = format_lbl(row[\"new_feat_CB\"])\n",
    "    micro_f1_score_CB = row[\"micro_f1_score_CB\"]\n",
    "    \n",
    "    feats_SC = format_lbl(str(row[\"new_feat_SC\"]))\n",
    "    if feats_SC == \"nan\":\n",
    "        feats_SC = \"-\"\n",
    "        \n",
    "    micro_f1_score_SC = row[\"micro_f1_score_SC\"]\n",
    "    if str(micro_f1_score_SC) != \"nan\":\n",
    "        micro_f1_score_SC = \"{0:0.4f}\".format(micro_f1_score_SC)\n",
    "    else:\n",
    "        micro_f1_score_SC = \"-\"\n",
    "    count = row[\"count\"]\n",
    "    print(\"{count} & {feat_cb} & {cb_f1:0.4f} & & {feat_sc} & {sc_f1}\\\\\\\\\"\\\n",
    "          .format(count=count,feat_cb=feats_CB, cb_f1=micro_f1_score_CB,\n",
    "                  feat_sc=feats_SC, sc_f1=micro_f1_score_SC))"
   ]
  },
  {
   "cell_type": "markdown",
   "metadata": {},
   "source": [
    "## Sanity Check - Do Any Datasets have Duplicate Feature Sets with Different F1 Scores?"
   ]
  },
  {
   "cell_type": "code",
   "execution_count": 19,
   "metadata": {},
   "outputs": [],
   "source": [
    "#SH: There were some issues with the CB_VD dataset initially for a couple of collections\n",
    "for df in [cb_td_df, cb_vd_df, sc_td_df, sc_vd_df]:\n",
    "    gb = group_by(df, bycols=[\"hs_feats\",\"stemmed\"], agg_map=[\n",
    "        (\"micro_f1_score\", \"count\"),\n",
    "        (\"micro_f1_score\", \"min\"),\n",
    "        (\"micro_f1_score\", \"max\"),\n",
    "    ])\n",
    "    gb = gb[gb[\"count(micro_f1_score)\"] > 1]\n",
    "    miss_match = gb[gb[\"min(micro_f1_score)\"] != gb[\"max(micro_f1_score)\"]]\n",
    "    \n",
    "    assert len(miss_match) == 0, \"Some errors occurred during data capture\""
   ]
  },
  {
   "cell_type": "markdown",
   "metadata": {},
   "source": [
    "### Estimate Reduction in Features"
   ]
  },
  {
   "cell_type": "markdown",
   "metadata": {},
   "source": [
    "#### Coral Bleaching"
   ]
  },
  {
   "cell_type": "code",
   "execution_count": 39,
   "metadata": {},
   "outputs": [
    {
     "data": {
      "text/html": [
       "<div>\n",
       "<table border=\"1\" class=\"dataframe\">\n",
       "  <thead>\n",
       "    <tr style=\"text-align: right;\">\n",
       "      <th></th>\n",
       "      <th>_id</th>\n",
       "      <th>asof</th>\n",
       "      <th>count</th>\n",
       "      <th>feats</th>\n",
       "      <th>micro_f1_score</th>\n",
       "      <th>micro_precision</th>\n",
       "      <th>micro_recall</th>\n",
       "      <th>num_feats</th>\n",
       "      <th>stemmed</th>\n",
       "      <th>weighted_f1_score</th>\n",
       "      <th>hs_feats</th>\n",
       "    </tr>\n",
       "  </thead>\n",
       "  <tbody>\n",
       "    <tr>\n",
       "      <th>9</th>\n",
       "      <td>5cb24021e116f56ce8f838f4</td>\n",
       "      <td>2019-04-13 15:01:37.857</td>\n",
       "      <td>6</td>\n",
       "      <td>[single_words, between_word_features, label_se...</td>\n",
       "      <td>0.735595</td>\n",
       "      <td>0.723773</td>\n",
       "      <td>0.74781</td>\n",
       "      <td>59376.4</td>\n",
       "      <td>True</td>\n",
       "      <td>0.0</td>\n",
       "      <td></td>\n",
       "    </tr>\n",
       "  </tbody>\n",
       "</table>\n",
       "</div>"
      ],
      "text/plain": [
       "                        _id                    asof  count  \\\n",
       "9  5cb24021e116f56ce8f838f4 2019-04-13 15:01:37.857      6   \n",
       "\n",
       "                                               feats  micro_f1_score  \\\n",
       "9  [single_words, between_word_features, label_se...        0.735595   \n",
       "\n",
       "   micro_precision  micro_recall  num_feats stemmed  weighted_f1_score  \\\n",
       "9         0.723773       0.74781    59376.4    True                0.0   \n",
       "\n",
       "  hs_feats  \n",
       "9           "
      ]
     },
     "execution_count": 39,
     "metadata": {},
     "output_type": "execute_result"
    }
   ],
   "source": [
    "df[df[\"count\"] == 6]"
   ]
  },
  {
   "cell_type": "code",
   "execution_count": 113,
   "metadata": {},
   "outputs": [],
   "source": [
    "df = cb_vd_df"
   ]
  },
  {
   "cell_type": "code",
   "execution_count": 114,
   "metadata": {},
   "outputs": [
    {
     "data": {
      "text/plain": [
       "59376.4"
      ]
     },
     "execution_count": 114,
     "metadata": {},
     "output_type": "execute_result"
    }
   ],
   "source": [
    "init_count = df[df[\"count\"] == df[\"count\"].min()][\"num_feats\"].values[0]\n",
    "init_count"
   ]
  },
  {
   "cell_type": "code",
   "execution_count": 124,
   "metadata": {},
   "outputs": [
    {
     "data": {
      "text/html": [
       "<div>\n",
       "<table border=\"1\" class=\"dataframe\">\n",
       "  <thead>\n",
       "    <tr style=\"text-align: right;\">\n",
       "      <th></th>\n",
       "      <th>hs_feats</th>\n",
       "      <th>num_feats</th>\n",
       "      <th>micro_f1_score</th>\n",
       "      <th>addnl_cnt</th>\n",
       "      <th>pct_change</th>\n",
       "    </tr>\n",
       "  </thead>\n",
       "  <tbody>\n",
       "    <tr>\n",
       "      <th>1</th>\n",
       "      <td>gbl_causal_features</td>\n",
       "      <td>62243.6</td>\n",
       "      <td>0.741360</td>\n",
       "      <td>2867.2</td>\n",
       "      <td>4.828855</td>\n",
       "    </tr>\n",
       "    <tr>\n",
       "      <th>4</th>\n",
       "      <td>gbl_concept_code_cnt_features</td>\n",
       "      <td>60576.4</td>\n",
       "      <td>0.739918</td>\n",
       "      <td>1200.0</td>\n",
       "      <td>2.021005</td>\n",
       "    </tr>\n",
       "    <tr>\n",
       "      <th>8</th>\n",
       "      <td>gbl_adjacent_sent_code_features</td>\n",
       "      <td>60362.8</td>\n",
       "      <td>0.737941</td>\n",
       "      <td>986.4</td>\n",
       "      <td>1.661266</td>\n",
       "    </tr>\n",
       "    <tr>\n",
       "      <th>10</th>\n",
       "      <td>gbl_sentence_position_features</td>\n",
       "      <td>59014.6</td>\n",
       "      <td>0.735516</td>\n",
       "      <td>-361.8</td>\n",
       "      <td>-0.609333</td>\n",
       "    </tr>\n",
       "    <tr>\n",
       "      <th>12</th>\n",
       "      <td>gbl_ratio_features</td>\n",
       "      <td>58854.8</td>\n",
       "      <td>0.731872</td>\n",
       "      <td>-521.6</td>\n",
       "      <td>-0.878463</td>\n",
       "    </tr>\n",
       "  </tbody>\n",
       "</table>\n",
       "</div>"
      ],
      "text/plain": [
       "                           hs_feats  num_feats  micro_f1_score  addnl_cnt  \\\n",
       "1               gbl_causal_features    62243.6        0.741360     2867.2   \n",
       "4     gbl_concept_code_cnt_features    60576.4        0.739918     1200.0   \n",
       "8   gbl_adjacent_sent_code_features    60362.8        0.737941      986.4   \n",
       "10   gbl_sentence_position_features    59014.6        0.735516     -361.8   \n",
       "12               gbl_ratio_features    58854.8        0.731872     -521.6   \n",
       "\n",
       "    pct_change  \n",
       "1     4.828855  \n",
       "4     2.021005  \n",
       "8     1.661266  \n",
       "10   -0.609333  \n",
       "12   -0.878463  "
      ]
     },
     "execution_count": 124,
     "metadata": {},
     "output_type": "execute_result"
    }
   ],
   "source": [
    "inc_counts = df[df[\"count\"] == (df[\"count\"].min()+1)][[\"hs_feats\",\"num_feats\", \"micro_f1_score\"]]\n",
    "inc_counts[\"addnl_cnt\"] = inc_counts[\"num_feats\"] - init_count\n",
    "inc_counts[\"pct_change\"] = 100.0*(inc_counts[\"addnl_cnt\"]/init_count)\n",
    "inc_counts"
   ]
  },
  {
   "cell_type": "code",
   "execution_count": 109,
   "metadata": {},
   "outputs": [
    {
     "data": {
      "text/html": [
       "<div>\n",
       "<table border=\"1\" class=\"dataframe\">\n",
       "  <thead>\n",
       "    <tr style=\"text-align: right;\">\n",
       "      <th></th>\n",
       "      <th>count</th>\n",
       "      <th>hs_feats</th>\n",
       "      <th>num_feats</th>\n",
       "      <th>micro_f1_score</th>\n",
       "      <th>addnl_feats</th>\n",
       "    </tr>\n",
       "  </thead>\n",
       "  <tbody>\n",
       "    <tr>\n",
       "      <th>0</th>\n",
       "      <td>8</td>\n",
       "      <td>gbl_causal_features|gbl_ratio_features</td>\n",
       "      <td>62689.0</td>\n",
       "      <td>0.743292</td>\n",
       "      <td>3312.6</td>\n",
       "    </tr>\n",
       "    <tr>\n",
       "      <th>2</th>\n",
       "      <td>8</td>\n",
       "      <td>gbl_causal_features|gbl_sentence_position_feat...</td>\n",
       "      <td>62205.0</td>\n",
       "      <td>0.741228</td>\n",
       "      <td>2828.6</td>\n",
       "    </tr>\n",
       "    <tr>\n",
       "      <th>5</th>\n",
       "      <td>8</td>\n",
       "      <td>gbl_adjacent_sent_code_features|gbl_causal_fea...</td>\n",
       "      <td>64730.0</td>\n",
       "      <td>0.739273</td>\n",
       "      <td>5353.6</td>\n",
       "    </tr>\n",
       "    <tr>\n",
       "      <th>6</th>\n",
       "      <td>8</td>\n",
       "      <td>gbl_causal_features|gbl_concept_code_cnt_features</td>\n",
       "      <td>63237.2</td>\n",
       "      <td>0.738989</td>\n",
       "      <td>3860.8</td>\n",
       "    </tr>\n",
       "  </tbody>\n",
       "</table>\n",
       "</div>"
      ],
      "text/plain": [
       "   count                                           hs_feats  num_feats  \\\n",
       "0      8             gbl_causal_features|gbl_ratio_features    62689.0   \n",
       "2      8  gbl_causal_features|gbl_sentence_position_feat...    62205.0   \n",
       "5      8  gbl_adjacent_sent_code_features|gbl_causal_fea...    64730.0   \n",
       "6      8  gbl_causal_features|gbl_concept_code_cnt_features    63237.2   \n",
       "\n",
       "   micro_f1_score  addnl_feats  \n",
       "0        0.743292       3312.6  \n",
       "2        0.741228       2828.6  \n",
       "5        0.739273       5353.6  \n",
       "6        0.738989       3860.8  "
      ]
     },
     "execution_count": 109,
     "metadata": {},
     "output_type": "execute_result"
    }
   ],
   "source": [
    "sub = df[df[\"count\"] == 8][[\"count\",\"hs_feats\",\"num_feats\", \"micro_f1_score\"]]\n",
    "sub[\"addnl_feats\"] = sub[\"num_feats\"] - baseline_cb_feats\n",
    "sub.sort_values(\"micro_f1_score\", ascending=False)"
   ]
  },
  {
   "cell_type": "code",
   "execution_count": 110,
   "metadata": {},
   "outputs": [
    {
     "data": {
      "text/plain": [
       "62689.0"
      ]
     },
     "execution_count": 110,
     "metadata": {},
     "output_type": "execute_result"
    }
   ],
   "source": [
    "sub.sort_values(\"micro_f1_score\", ascending=False).iloc[0]\n",
    "best_count = sub.sort_values(\"micro_f1_score\", ascending=False).iloc[0][\"num_feats\"]\n",
    "best_count"
   ]
  },
  {
   "cell_type": "code",
   "execution_count": 83,
   "metadata": {},
   "outputs": [
    {
     "data": {
      "text/plain": [
       "0.9654056185070085"
      ]
     },
     "execution_count": 83,
     "metadata": {},
     "output_type": "execute_result"
    }
   ],
   "source": [
    "# see /Users/simon.hughes/GitHub/NlpResearch/PythonNlpResearch/Experiments/CoralBleachingCausalModel/count_all_feats.py\n",
    "max_feats = 64935.4\n",
    "best_count / max_feats"
   ]
  },
  {
   "cell_type": "code",
   "execution_count": 106,
   "metadata": {},
   "outputs": [
    {
     "data": {
      "text/plain": [
       "1.1493219528297438"
      ]
     },
     "execution_count": 106,
     "metadata": {},
     "output_type": "execute_result"
    }
   ],
   "source": [
    "best_count / init_count"
   ]
  },
  {
   "cell_type": "markdown",
   "metadata": {},
   "source": [
    "#### Skin Cancer"
   ]
  },
  {
   "cell_type": "code",
   "execution_count": 75,
   "metadata": {},
   "outputs": [],
   "source": [
    "# /Users/simon.hughes/GitHub/NlpResearch/PythonNlpResearch/Experiments/SkinCancerCausalModel/count_all_feats.py"
   ]
  },
  {
   "cell_type": "code",
   "execution_count": 128,
   "metadata": {},
   "outputs": [],
   "source": [
    "df = sc_vd_df"
   ]
  },
  {
   "cell_type": "code",
   "execution_count": 129,
   "metadata": {},
   "outputs": [
    {
     "data": {
      "text/plain": [
       "63053.0"
      ]
     },
     "execution_count": 129,
     "metadata": {},
     "output_type": "execute_result"
    }
   ],
   "source": [
    "init_count = df[df[\"count\"] == df[\"count\"].min()][\"num_feats\"].values[0]\n",
    "init_count"
   ]
  },
  {
   "cell_type": "code",
   "execution_count": 130,
   "metadata": {},
   "outputs": [
    {
     "data": {
      "text/html": [
       "<div>\n",
       "<table border=\"1\" class=\"dataframe\">\n",
       "  <thead>\n",
       "    <tr style=\"text-align: right;\">\n",
       "      <th></th>\n",
       "      <th>hs_feats</th>\n",
       "      <th>num_feats</th>\n",
       "      <th>micro_f1_score</th>\n",
       "      <th>addnl_cnt</th>\n",
       "      <th>pct_change</th>\n",
       "    </tr>\n",
       "  </thead>\n",
       "  <tbody>\n",
       "    <tr>\n",
       "      <th>1</th>\n",
       "      <td>gbl_concept_code_cnt_features</td>\n",
       "      <td>63152.2</td>\n",
       "      <td>0.806460</td>\n",
       "      <td>99.2</td>\n",
       "      <td>0.157328</td>\n",
       "    </tr>\n",
       "    <tr>\n",
       "      <th>6</th>\n",
       "      <td>gbl_ratio_features</td>\n",
       "      <td>62237.6</td>\n",
       "      <td>0.803467</td>\n",
       "      <td>-815.4</td>\n",
       "      <td>-1.293198</td>\n",
       "    </tr>\n",
       "    <tr>\n",
       "      <th>9</th>\n",
       "      <td>gbl_sentence_position_features</td>\n",
       "      <td>63091.2</td>\n",
       "      <td>0.801843</td>\n",
       "      <td>38.2</td>\n",
       "      <td>0.060584</td>\n",
       "    </tr>\n",
       "    <tr>\n",
       "      <th>11</th>\n",
       "      <td>gbl_adjacent_sent_code_features</td>\n",
       "      <td>63376.0</td>\n",
       "      <td>0.801186</td>\n",
       "      <td>323.0</td>\n",
       "      <td>0.512267</td>\n",
       "    </tr>\n",
       "    <tr>\n",
       "      <th>12</th>\n",
       "      <td>gbl_causal_features</td>\n",
       "      <td>68150.2</td>\n",
       "      <td>0.799737</td>\n",
       "      <td>5097.2</td>\n",
       "      <td>8.083993</td>\n",
       "    </tr>\n",
       "  </tbody>\n",
       "</table>\n",
       "</div>"
      ],
      "text/plain": [
       "                           hs_feats  num_feats  micro_f1_score  addnl_cnt  \\\n",
       "1     gbl_concept_code_cnt_features    63152.2        0.806460       99.2   \n",
       "6                gbl_ratio_features    62237.6        0.803467     -815.4   \n",
       "9    gbl_sentence_position_features    63091.2        0.801843       38.2   \n",
       "11  gbl_adjacent_sent_code_features    63376.0        0.801186      323.0   \n",
       "12              gbl_causal_features    68150.2        0.799737     5097.2   \n",
       "\n",
       "    pct_change  \n",
       "1     0.157328  \n",
       "6    -1.293198  \n",
       "9     0.060584  \n",
       "11    0.512267  \n",
       "12    8.083993  "
      ]
     },
     "execution_count": 130,
     "metadata": {},
     "output_type": "execute_result"
    }
   ],
   "source": [
    "inc_counts = df[df[\"count\"] == (df[\"count\"].min()+1)][[\"hs_feats\",\"num_feats\", \"micro_f1_score\"]]\n",
    "inc_counts[\"addnl_cnt\"] = inc_counts[\"num_feats\"] - init_count\n",
    "inc_counts[\"pct_change\"] = 100.0*(inc_counts[\"addnl_cnt\"]/init_count)\n",
    "inc_counts"
   ]
  },
  {
   "cell_type": "code",
   "execution_count": 88,
   "metadata": {},
   "outputs": [
    {
     "data": {
      "text/plain": [
       "_id                                           5cb24f6ee116f56fac52ac5a\n",
       "asof                                        2019-04-13 16:06:54.614000\n",
       "count                                                                6\n",
       "feats                [three_words, between_word_features, size_feat...\n",
       "micro_f1_score                                                0.806674\n",
       "micro_precision                                               0.829936\n",
       "micro_recall                                                  0.784682\n",
       "num_feats                                                      68242.6\n",
       "stemmed                                                           True\n",
       "weighted_f1_score                                                    0\n",
       "hs_feats             gbl_causal_features|gbl_concept_code_cnt_features\n",
       "Name: 0, dtype: object"
      ]
     },
     "execution_count": 88,
     "metadata": {},
     "output_type": "execute_result"
    }
   ],
   "source": [
    "df.sort_values(\"micro_f1_score\", ascending=False).iloc[0]"
   ]
  },
  {
   "cell_type": "code",
   "execution_count": null,
   "metadata": {},
   "outputs": [],
   "source": [
    "# optimal sc feat count = 68242.6"
   ]
  },
  {
   "cell_type": "code",
   "execution_count": 90,
   "metadata": {},
   "outputs": [
    {
     "data": {
      "text/plain": [
       "68242.6"
      ]
     },
     "execution_count": 90,
     "metadata": {},
     "output_type": "execute_result"
    }
   ],
   "source": [
    "best_count = df.sort_values(\"micro_f1_score\", ascending=False).iloc[0].num_feats\n",
    "best_count"
   ]
  },
  {
   "cell_type": "code",
   "execution_count": 91,
   "metadata": {},
   "outputs": [],
   "source": [
    "max_feats = 68375.8"
   ]
  },
  {
   "cell_type": "code",
   "execution_count": 93,
   "metadata": {},
   "outputs": [
    {
     "data": {
      "text/plain": [
       "0.9980519423538737"
      ]
     },
     "execution_count": 93,
     "metadata": {},
     "output_type": "execute_result"
    }
   ],
   "source": [
    "best_count / max_feats"
   ]
  },
  {
   "cell_type": "code",
   "execution_count": 103,
   "metadata": {},
   "outputs": [
    {
     "data": {
      "text/plain": [
       "1.0823053621556469"
      ]
     },
     "execution_count": 103,
     "metadata": {},
     "output_type": "execute_result"
    }
   ],
   "source": [
    "init_feats = 63053.0\n",
    "best_count / init_feats"
   ]
  },
  {
   "cell_type": "code",
   "execution_count": null,
   "metadata": {},
   "outputs": [],
   "source": []
  }
 ],
 "metadata": {
  "anaconda-cloud": {},
  "kernelspec": {
   "display_name": "Python [conda env:phd_py36]",
   "language": "python",
   "name": "conda-env-phd_py36-py"
  },
  "language_info": {
   "codemirror_mode": {
    "name": "ipython",
    "version": 3
   },
   "file_extension": ".py",
   "mimetype": "text/x-python",
   "name": "python",
   "nbconvert_exporter": "python",
   "pygments_lexer": "ipython3",
   "version": "3.6.4"
  }
 },
 "nbformat": 4,
 "nbformat_minor": 2
}
