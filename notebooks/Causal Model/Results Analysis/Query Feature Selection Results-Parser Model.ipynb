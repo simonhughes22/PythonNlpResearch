{
 "cells": [
  {
   "cell_type": "code",
   "execution_count": 1,
   "metadata": {},
   "outputs": [],
   "source": [
    "%matplotlib inline\n",
    "\n",
    "import pymongo\n",
    "import seaborn as sns"
   ]
  },
  {
   "cell_type": "code",
   "execution_count": 2,
   "metadata": {
    "collapsed": true
   },
   "outputs": [],
   "source": [
    "import pandas as pd\n",
    "import numpy as np\n",
    "\n",
    "def group_by(df, bycols, agg_map):\n",
    "    \"\"\"\n",
    "\n",
    "    @param df:      DataFrame\n",
    "    @param bycols:  str or list\n",
    "                        Column(s) to group by\n",
    "    @param agg_map: dictionary or list of 2-tuples\n",
    "                        Mapping from column to aggregate function e.g. [(\"city\", \"count\"), (\"salary\", \"mean\"]\n",
    "    @return:        DataFrame\n",
    "                        Flattened dataframe, with multi-level index removed\n",
    "    \"\"\"\n",
    "    grps = []\n",
    "    if type(bycols) == str:\n",
    "        bycols = [bycols]\n",
    "\n",
    "    if type(agg_map) == dict:\n",
    "        agg_map = agg_map.items()\n",
    "\n",
    "    for k,v in agg_map:\n",
    "        grp = df[bycols + [k]].groupby(bycols, ).agg(v)\n",
    "        grp.reset_index(inplace=True)\n",
    "        grp[\"%s(%s)\" % (v,k)] = grp[k]\n",
    "        del grp[k]\n",
    "        grps.append(grp)\n",
    "\n",
    "    m = grps[0]\n",
    "    for grp in grps[1:]:\n",
    "        m = pd.merge(m, grp, on=bycols, how=\"inner\")\n",
    "    return m"
   ]
  },
  {
   "cell_type": "code",
   "execution_count": 3,
   "metadata": {},
   "outputs": [
    {
     "data": {
      "text/plain": [
       "(Collection(Database(MongoClient(host=['localhost:27017'], document_class=dict, tz_aware=False, connect=True), 'metrics_causal_model'), 'CR_CB_SHIFT_REDUCE_PARSER_TEMPLATED_FEATURE_SEL_TD'),\n",
       " Collection(Database(MongoClient(host=['localhost:27017'], document_class=dict, tz_aware=False, connect=True), 'metrics_causal_model'), 'CR_CB_SHIFT_REDUCE_PARSER_TEMPLATED_FEATURE_SEL_VD'),\n",
       " Collection(Database(MongoClient(host=['localhost:27017'], document_class=dict, tz_aware=False, connect=True), 'metrics_causal_model'), 'CR_SC_SHIFT_REDUCE_PARSER_TEMPLATED_FEATURE_SEL_TD'),\n",
       " Collection(Database(MongoClient(host=['localhost:27017'], document_class=dict, tz_aware=False, connect=True), 'metrics_causal_model'), 'CR_SC_SHIFT_REDUCE_PARSER_TEMPLATED_FEATURE_SEL_VD'))"
      ]
     },
     "execution_count": 3,
     "metadata": {},
     "output_type": "execute_result"
    }
   ],
   "source": [
    "# NOTE - Turn off VPN when running pymongo\n",
    "client = pymongo.MongoClient(port=27017)\n",
    "db = client.metrics_causal_model\n",
    "\n",
    "cb_td, cb_vd, sc_td, sc_vd = \"CR_CB_SHIFT_REDUCE_PARSER_TEMPLATED_FEATURE_SEL_TD\", \"CR_CB_SHIFT_REDUCE_PARSER_TEMPLATED_FEATURE_SEL_VD\", \\\n",
    "    \"CR_SC_SHIFT_REDUCE_PARSER_TEMPLATED_FEATURE_SEL_TD\", \"CR_SC_SHIFT_REDUCE_PARSER_TEMPLATED_FEATURE_SEL_VD\"\n",
    "cb_td, cb_vd, sc_td, sc_vd = db[cb_td], db[cb_vd], db[sc_td], db[sc_vd]\n",
    "cb_td, cb_vd, sc_td, sc_vd"
   ]
  },
  {
   "cell_type": "markdown",
   "metadata": {},
   "source": [
    "# Query Top Features"
   ]
  },
  {
   "cell_type": "code",
   "execution_count": 4,
   "metadata": {},
   "outputs": [
    {
     "name": "stdout",
     "output_type": "stream",
     "text": [
      "13 13 10 10\n"
     ]
    }
   ],
   "source": [
    "from pprint import pprint\n",
    "from bson.son import SON # needed to ensure dictionary is ordered (python default is not)\n",
    "\n",
    "feats_pipeline = [{\n",
    "    \"$project\": { \n",
    "            \"weighted_f1_score\":\"$WEIGHTED_MEAN_CONCEPT_CODES.f1_score\",\n",
    "            \"micro_f1_score\":  \"$MICRO_F1.f1_score\",\n",
    "            \"micro_recall\":    \"$MICRO_F1.recall\",\n",
    "            \"micro_precision\": \"$MICRO_F1.precision\",\n",
    "            \"stemmed\":        \"$parameters.stemmed\",\n",
    "            \"num_feats\":      \"$parameters.num_feats_MEAN\",\n",
    "            \"feats\":          \"$parameters.extractors\",\n",
    "            \"count\": {        \"$size\" : \"$parameters.extractors\" },\n",
    "            \"asof\" :          \"$asof\",\n",
    "            \"_id\":1\n",
    "    }\n",
    "},\n",
    "{\n",
    "    \"$match\":{\n",
    "        \"micro_f1_score\": { \"$exists\" : True },\n",
    "        # how many feats\n",
    "        #\"count\": {          \"$eq\" :1 },\n",
    "        # window width\n",
    "        #\"window_size\": {    \"$eq\":13 }\n",
    "    }\n",
    "},\n",
    "{\n",
    "    \"$sort\":{\n",
    "        #\"weighted_f1_score\":-1,\n",
    "        \"micro_f1_score\": -1\n",
    "        #\"asof\": -1\n",
    "        #\"count\": -1\n",
    "    }\n",
    "},\n",
    "]\n",
    "\n",
    "cb_td_rows = [row for row in cb_td.aggregate(feats_pipeline)]\n",
    "cb_vd_rows = [row for row in cb_vd.aggregate(feats_pipeline)]\n",
    "sc_td_rows = [row for row in sc_td.aggregate(feats_pipeline)]\n",
    "sc_vd_rows = [row for row in sc_vd.aggregate(feats_pipeline)]\n",
    "\n",
    "print(len(cb_td_rows), len(cb_vd_rows), len(sc_td_rows), len(sc_vd_rows))"
   ]
  },
  {
   "cell_type": "code",
   "execution_count": 5,
   "metadata": {},
   "outputs": [
    {
     "data": {
      "text/html": [
       "<div>\n",
       "<table border=\"1\" class=\"dataframe\">\n",
       "  <thead>\n",
       "    <tr style=\"text-align: right;\">\n",
       "      <th></th>\n",
       "      <th>_id</th>\n",
       "      <th>asof</th>\n",
       "      <th>count</th>\n",
       "      <th>feats</th>\n",
       "      <th>micro_f1_score</th>\n",
       "      <th>micro_precision</th>\n",
       "      <th>micro_recall</th>\n",
       "      <th>num_feats</th>\n",
       "      <th>stemmed</th>\n",
       "      <th>weighted_f1_score</th>\n",
       "      <th>hs_feats</th>\n",
       "    </tr>\n",
       "  </thead>\n",
       "  <tbody>\n",
       "    <tr>\n",
       "      <th>0</th>\n",
       "      <td>5ca286b50ee0cd687438b3b5</td>\n",
       "      <td>2019-04-01 16:46:29.846</td>\n",
       "      <td>8</td>\n",
       "      <td>[single_words, between_word_features, label_se...</td>\n",
       "      <td>0.754731</td>\n",
       "      <td>0.728801</td>\n",
       "      <td>0.782575</td>\n",
       "      <td>61652.2</td>\n",
       "      <td>True</td>\n",
       "      <td>0.0</td>\n",
       "      <td>gbl_causal_features|gbl_ratio_features</td>\n",
       "    </tr>\n",
       "    <tr>\n",
       "      <th>1</th>\n",
       "      <td>5ca2858d0ee0cd687438b3b1</td>\n",
       "      <td>2019-04-01 16:41:33.902</td>\n",
       "      <td>8</td>\n",
       "      <td>[single_words, between_word_features, label_se...</td>\n",
       "      <td>0.754197</td>\n",
       "      <td>0.726117</td>\n",
       "      <td>0.784537</td>\n",
       "      <td>62610.0</td>\n",
       "      <td>True</td>\n",
       "      <td>0.0</td>\n",
       "      <td>gbl_adjacent_sent_code_features|gbl_causal_fea...</td>\n",
       "    </tr>\n",
       "    <tr>\n",
       "      <th>2</th>\n",
       "      <td>5ca283760ee0cd687438b3a9</td>\n",
       "      <td>2019-04-01 16:32:38.914</td>\n",
       "      <td>7</td>\n",
       "      <td>[single_words, between_word_features, label_se...</td>\n",
       "      <td>0.750903</td>\n",
       "      <td>0.727808</td>\n",
       "      <td>0.775510</td>\n",
       "      <td>61796.4</td>\n",
       "      <td>True</td>\n",
       "      <td>0.0</td>\n",
       "      <td>gbl_causal_features</td>\n",
       "    </tr>\n",
       "  </tbody>\n",
       "</table>\n",
       "</div>"
      ],
      "text/plain": [
       "                        _id                    asof  count  \\\n",
       "0  5ca286b50ee0cd687438b3b5 2019-04-01 16:46:29.846      8   \n",
       "1  5ca2858d0ee0cd687438b3b1 2019-04-01 16:41:33.902      8   \n",
       "2  5ca283760ee0cd687438b3a9 2019-04-01 16:32:38.914      7   \n",
       "\n",
       "                                               feats  micro_f1_score  \\\n",
       "0  [single_words, between_word_features, label_se...        0.754731   \n",
       "1  [single_words, between_word_features, label_se...        0.754197   \n",
       "2  [single_words, between_word_features, label_se...        0.750903   \n",
       "\n",
       "   micro_precision  micro_recall  num_feats stemmed  weighted_f1_score  \\\n",
       "0         0.728801      0.782575    61652.2    True                0.0   \n",
       "1         0.726117      0.784537    62610.0    True                0.0   \n",
       "2         0.727808      0.775510    61796.4    True                0.0   \n",
       "\n",
       "                                            hs_feats  \n",
       "0             gbl_causal_features|gbl_ratio_features  \n",
       "1  gbl_adjacent_sent_code_features|gbl_causal_fea...  \n",
       "2                                gbl_causal_features  "
      ]
     },
     "execution_count": 5,
     "metadata": {},
     "output_type": "execute_result"
    }
   ],
   "source": [
    "def gbl_feats(fts):\n",
    "    return [ft for ft in fts if ft.startswith(\"gbl\")]\n",
    "\n",
    "def hash_feats(fts):\n",
    "    fts = gbl_feats(fts)\n",
    "    return \"|\".join(sorted(fts))\n",
    "\n",
    "def get_df_sorted_by_f1score(rows):\n",
    "    df = pd.DataFrame(rows).sort_values(\"micro_f1_score\", ascending=False)\n",
    "    df[\"hs_feats\"] = df[\"feats\"].apply(hash_feats)\n",
    "    return df\n",
    "\n",
    "cb_td_df = get_df_sorted_by_f1score(cb_td_rows)\n",
    "cb_vd_df = get_df_sorted_by_f1score(cb_vd_rows)\n",
    "sc_td_df = get_df_sorted_by_f1score(sc_td_rows)\n",
    "sc_vd_df = get_df_sorted_by_f1score(sc_vd_rows)\n",
    "\n",
    "cb_vd_df.head(3)"
   ]
  },
  {
   "cell_type": "code",
   "execution_count": 6,
   "metadata": {},
   "outputs": [
    {
     "data": {
      "text/plain": [
       "(numpy.datetime64('2019-04-01T16:27:57.524000000'),\n",
       " numpy.datetime64('2019-04-01T16:57:12.472000000'))"
      ]
     },
     "execution_count": 6,
     "metadata": {},
     "output_type": "execute_result"
    }
   ],
   "source": [
    "min(cb_vd_df[\"asof\"].values),max(cb_vd_df[\"asof\"].values)"
   ]
  },
  {
   "cell_type": "code",
   "execution_count": 7,
   "metadata": {},
   "outputs": [
    {
     "data": {
      "text/html": [
       "<div>\n",
       "<table border=\"1\" class=\"dataframe\">\n",
       "  <thead>\n",
       "    <tr style=\"text-align: right;\">\n",
       "      <th></th>\n",
       "      <th>feats</th>\n",
       "      <th>count</th>\n",
       "      <th>micro_f1_score</th>\n",
       "      <th>micro_recall</th>\n",
       "      <th>micro_precision</th>\n",
       "      <th>stemmed</th>\n",
       "      <th>num_feats</th>\n",
       "      <th>rank</th>\n",
       "    </tr>\n",
       "  </thead>\n",
       "  <tbody>\n",
       "    <tr>\n",
       "      <th>5</th>\n",
       "      <td>single_words,between_word_features,label_set,t...</td>\n",
       "      <td>6</td>\n",
       "      <td>0.749953</td>\n",
       "      <td>0.781005</td>\n",
       "      <td>0.721276</td>\n",
       "      <td>True</td>\n",
       "      <td>59279.6</td>\n",
       "      <td>1</td>\n",
       "    </tr>\n",
       "  </tbody>\n",
       "</table>\n",
       "</div>"
      ],
      "text/plain": [
       "                                               feats  count  micro_f1_score  \\\n",
       "5  single_words,between_word_features,label_set,t...      6        0.749953   \n",
       "\n",
       "   micro_recall  micro_precision stemmed  num_feats  rank  \n",
       "5      0.781005         0.721276    True    59279.6     1  "
      ]
     },
     "execution_count": 7,
     "metadata": {},
     "output_type": "execute_result"
    }
   ],
   "source": [
    "cols = \"feats,count,micro_f1_score,micro_recall,micro_precision,stemmed,num_feats\".split(\",\")\n",
    "\n",
    "def feat_name(ft):\n",
    "    if type(ft) == list:\n",
    "        ft=\",\".join(ft)\n",
    "    offset = (11-1)/2\n",
    "    offset_lbl = \"offset:%i\" % offset\n",
    "    ft=ft.replace(offset_lbl, \"\").replace(\"fn_\", \"\").replace(\" \",\"\")\n",
    "    return ft\n",
    "\n",
    "def get_top_individual_feats(df, count, stemmed=True):\n",
    "    df = df.copy(deep=True)\n",
    "    df_top_individual_feats = df[(df[\"count\"] == count) & (df[\"stemmed\"] == stemmed)][cols]\n",
    "    df_top_individual_feats[\"rank\"] = np.arange(len(df_top_individual_feats)) + 1\n",
    "    df_top_individual_feats[\"feats\"] = df_top_individual_feats[\"feats\"].apply(feat_name)\n",
    "    return df_top_individual_feats\n",
    "\n",
    "get_top_individual_feats(cb_vd_df, 6, True)"
   ]
  },
  {
   "cell_type": "markdown",
   "metadata": {},
   "source": [
    "### Performance of Each Feature In Isolation"
   ]
  },
  {
   "cell_type": "code",
   "execution_count": 8,
   "metadata": {},
   "outputs": [
    {
     "data": {
      "text/html": [
       "<div>\n",
       "<table border=\"1\" class=\"dataframe\">\n",
       "  <thead>\n",
       "    <tr style=\"text-align: right;\">\n",
       "      <th></th>\n",
       "      <th>rank</th>\n",
       "      <th>feats_CB</th>\n",
       "      <th>micro_f1_score_CB</th>\n",
       "      <th>micro_recall_CB</th>\n",
       "      <th>micro_precision_CB</th>\n",
       "      <th>num_feats_CB</th>\n",
       "      <th>feats_SC</th>\n",
       "      <th>micro_f1_score_SC</th>\n",
       "      <th>micro_recall_SC</th>\n",
       "      <th>micro_precision_SC</th>\n",
       "      <th>num_feats_SC</th>\n",
       "    </tr>\n",
       "  </thead>\n",
       "  <tbody>\n",
       "    <tr>\n",
       "      <th>0</th>\n",
       "      <td>1</td>\n",
       "      <td>gbl_causal_features</td>\n",
       "      <td>0.750903</td>\n",
       "      <td>0.775510</td>\n",
       "      <td>0.727808</td>\n",
       "      <td>61796.4</td>\n",
       "      <td>gbl_concept_code_cnt_features</td>\n",
       "      <td>0.808573</td>\n",
       "      <td>0.816021</td>\n",
       "      <td>0.801259</td>\n",
       "      <td>63632.6</td>\n",
       "    </tr>\n",
       "    <tr>\n",
       "      <th>1</th>\n",
       "      <td>2</td>\n",
       "      <td>gbl_concept_code_cnt_features</td>\n",
       "      <td>0.747392</td>\n",
       "      <td>0.787284</td>\n",
       "      <td>0.711348</td>\n",
       "      <td>59952.4</td>\n",
       "      <td>gbl_causal_features</td>\n",
       "      <td>0.807551</td>\n",
       "      <td>0.793858</td>\n",
       "      <td>0.821725</td>\n",
       "      <td>68344.2</td>\n",
       "    </tr>\n",
       "    <tr>\n",
       "      <th>2</th>\n",
       "      <td>3</td>\n",
       "      <td>gbl_sentence_position_features</td>\n",
       "      <td>0.744605</td>\n",
       "      <td>0.778650</td>\n",
       "      <td>0.713412</td>\n",
       "      <td>59963.6</td>\n",
       "      <td>gbl_adjacent_sent_code_features</td>\n",
       "      <td>0.806877</td>\n",
       "      <td>0.808278</td>\n",
       "      <td>0.805482</td>\n",
       "      <td>63426.0</td>\n",
       "    </tr>\n",
       "    <tr>\n",
       "      <th>3</th>\n",
       "      <td>4</td>\n",
       "      <td>gbl_ratio_features</td>\n",
       "      <td>0.744589</td>\n",
       "      <td>0.776295</td>\n",
       "      <td>0.715371</td>\n",
       "      <td>58827.6</td>\n",
       "      <td>gbl_ratio_features</td>\n",
       "      <td>0.804394</td>\n",
       "      <td>0.811482</td>\n",
       "      <td>0.797428</td>\n",
       "      <td>61784.6</td>\n",
       "    </tr>\n",
       "    <tr>\n",
       "      <th>4</th>\n",
       "      <td>5</td>\n",
       "      <td>gbl_adjacent_sent_code_features</td>\n",
       "      <td>0.743157</td>\n",
       "      <td>0.777865</td>\n",
       "      <td>0.711414</td>\n",
       "      <td>60547.6</td>\n",
       "      <td>gbl_sentence_position_features</td>\n",
       "      <td>0.804124</td>\n",
       "      <td>0.812283</td>\n",
       "      <td>0.796127</td>\n",
       "      <td>62357.8</td>\n",
       "    </tr>\n",
       "  </tbody>\n",
       "</table>\n",
       "</div>"
      ],
      "text/plain": [
       "   rank                         feats_CB  micro_f1_score_CB  micro_recall_CB  \\\n",
       "0     1              gbl_causal_features           0.750903         0.775510   \n",
       "1     2    gbl_concept_code_cnt_features           0.747392         0.787284   \n",
       "2     3   gbl_sentence_position_features           0.744605         0.778650   \n",
       "3     4               gbl_ratio_features           0.744589         0.776295   \n",
       "4     5  gbl_adjacent_sent_code_features           0.743157         0.777865   \n",
       "\n",
       "   micro_precision_CB  num_feats_CB                         feats_SC  \\\n",
       "0            0.727808       61796.4    gbl_concept_code_cnt_features   \n",
       "1            0.711348       59952.4              gbl_causal_features   \n",
       "2            0.713412       59963.6  gbl_adjacent_sent_code_features   \n",
       "3            0.715371       58827.6               gbl_ratio_features   \n",
       "4            0.711414       60547.6   gbl_sentence_position_features   \n",
       "\n",
       "   micro_f1_score_SC  micro_recall_SC  micro_precision_SC  num_feats_SC  \n",
       "0           0.808573         0.816021            0.801259       63632.6  \n",
       "1           0.807551         0.793858            0.821725       68344.2  \n",
       "2           0.806877         0.808278            0.805482       63426.0  \n",
       "3           0.804394         0.811482            0.797428       61784.6  \n",
       "4           0.804124         0.812283            0.796127       62357.8  "
      ]
     },
     "execution_count": 8,
     "metadata": {},
     "output_type": "execute_result"
    }
   ],
   "source": [
    "import numpy as np\n",
    "\n",
    "cb_seed_feats = \"single_words,between_word_features,label_set,three_words,third_order,unigrams,\"\n",
    "sc_seed_feats = \"three_words,between_word_features,size_features,single_words,\"\n",
    "\n",
    "cb_seed_count = len([f for f in cb_seed_feats.split(\",\") if f != \"\"])\n",
    "sc_seed_count = len([f for f in sc_seed_feats.split(\",\") if f != \"\"])\n",
    "\n",
    "# For CB, starts with 6 features while SC starts with 4, so set to 7 and 5 as the feature count\n",
    "a = get_top_individual_feats(cb_vd_df, count=cb_seed_count+1, stemmed=True)\n",
    "b = get_top_individual_feats(sc_vd_df, count=sc_seed_count+1, stemmed=True)\n",
    "\n",
    "a[\"feats\"] = a[\"feats\"].apply(lambda s: s.replace(cb_seed_feats,\"\"))\n",
    "b[\"feats\"] = b[\"feats\"].apply(lambda s: s.replace(sc_seed_feats,\"\"))\n",
    "a[\"additional_feats\"] = a[\"count\"] - cb_seed_count\n",
    "b[\"additional_feats\"] = b[\"count\"] - sc_seed_count\n",
    "\n",
    "merged = pd.merge(a,b, on=\"rank\", suffixes=[\"_CB\",\"_SC\"])\\\n",
    "[\"rank,feats_CB,micro_f1_score_CB,micro_recall_CB,micro_precision_CB,num_feats_CB,feats_SC,micro_f1_score_SC,micro_recall_SC,micro_precision_SC,num_feats_SC\".split(\",\")]\n",
    "merged"
   ]
  },
  {
   "cell_type": "code",
   "execution_count": 9,
   "metadata": {},
   "outputs": [
    {
     "data": {
      "text/html": [
       "<div>\n",
       "<table border=\"1\" class=\"dataframe\">\n",
       "  <thead>\n",
       "    <tr style=\"text-align: right;\">\n",
       "      <th></th>\n",
       "      <th>rank</th>\n",
       "      <th>feats_CB</th>\n",
       "      <th>micro_f1_score_CB</th>\n",
       "      <th>feats_SC</th>\n",
       "      <th>micro_f1_score_SC</th>\n",
       "    </tr>\n",
       "  </thead>\n",
       "  <tbody>\n",
       "    <tr>\n",
       "      <th>0</th>\n",
       "      <td>1</td>\n",
       "      <td>gbl_causal_features</td>\n",
       "      <td>0.751</td>\n",
       "      <td>gbl_concept_code_cnt_features</td>\n",
       "      <td>0.809</td>\n",
       "    </tr>\n",
       "    <tr>\n",
       "      <th>1</th>\n",
       "      <td>2</td>\n",
       "      <td>gbl_concept_code_cnt_features</td>\n",
       "      <td>0.747</td>\n",
       "      <td>gbl_causal_features</td>\n",
       "      <td>0.808</td>\n",
       "    </tr>\n",
       "    <tr>\n",
       "      <th>2</th>\n",
       "      <td>3</td>\n",
       "      <td>gbl_sentence_position_features</td>\n",
       "      <td>0.745</td>\n",
       "      <td>gbl_adjacent_sent_code_features</td>\n",
       "      <td>0.807</td>\n",
       "    </tr>\n",
       "    <tr>\n",
       "      <th>3</th>\n",
       "      <td>4</td>\n",
       "      <td>gbl_ratio_features</td>\n",
       "      <td>0.745</td>\n",
       "      <td>gbl_ratio_features</td>\n",
       "      <td>0.804</td>\n",
       "    </tr>\n",
       "    <tr>\n",
       "      <th>4</th>\n",
       "      <td>5</td>\n",
       "      <td>gbl_adjacent_sent_code_features</td>\n",
       "      <td>0.743</td>\n",
       "      <td>gbl_sentence_position_features</td>\n",
       "      <td>0.804</td>\n",
       "    </tr>\n",
       "  </tbody>\n",
       "</table>\n",
       "</div>"
      ],
      "text/plain": [
       "   rank                         feats_CB micro_f1_score_CB  \\\n",
       "0     1              gbl_causal_features             0.751   \n",
       "1     2    gbl_concept_code_cnt_features             0.747   \n",
       "2     3   gbl_sentence_position_features             0.745   \n",
       "3     4               gbl_ratio_features             0.745   \n",
       "4     5  gbl_adjacent_sent_code_features             0.743   \n",
       "\n",
       "                          feats_SC micro_f1_score_SC  \n",
       "0    gbl_concept_code_cnt_features             0.809  \n",
       "1              gbl_causal_features             0.808  \n",
       "2  gbl_adjacent_sent_code_features             0.807  \n",
       "3               gbl_ratio_features             0.804  \n",
       "4   gbl_sentence_position_features             0.804  "
      ]
     },
     "execution_count": 9,
     "metadata": {},
     "output_type": "execute_result"
    }
   ],
   "source": [
    "merged2=merged[[\"rank\",\"feats_CB\", \"micro_f1_score_CB\", \"feats_SC\", \"micro_f1_score_SC\"]].copy()\n",
    "for c in merged2.columns:\n",
    "    if \"micro\" in c:\n",
    "        merged2[c]=merged2[c].apply(lambda d: \"{0:.3f}\".format(d) if type(d) == float else d)\n",
    "    elif \"num\" in c:\n",
    "        merged2[c]=merged2[c].apply(lambda d: \"{0:,.1f}\".format(d) if type(d) == float else d)\n",
    "merged2"
   ]
  },
  {
   "cell_type": "markdown",
   "metadata": {},
   "source": [
    "## Generate Rows for LaTex Table"
   ]
  },
  {
   "cell_type": "code",
   "execution_count": 10,
   "metadata": {
    "collapsed": true
   },
   "outputs": [],
   "source": [
    "def format_lbl(lbl):\n",
    "    if lbl.lower().strip() == \"nan\" or lbl.strip() == \"\":\n",
    "        return \"-\"\n",
    "    lbl = lbl.replace(\"gbl_\",\"\").replace(\"[\",\" \").replace(\"]\",\"\").replace(\"_\",\" \").strip()\n",
    "    return \" \".join([l[0].upper() + l[1:] for l in lbl.split(\" \")])"
   ]
  },
  {
   "cell_type": "code",
   "execution_count": 11,
   "metadata": {},
   "outputs": [
    {
     "name": "stdout",
     "output_type": "stream",
     "text": [
      "1 & Causal Features & 0.751 & & Concept Code Cnt Features & 0.809\\\\\n",
      "2 & Concept Code Cnt Features & 0.747 & & Causal Features & 0.808\\\\\n",
      "3 & Sentence Position Features & 0.745 & & Adjacent Sent Code Features & 0.807\\\\\n",
      "4 & Ratio Features & 0.745 & & Ratio Features & 0.804\\\\\n",
      "5 & Adjacent Sent Code Features & 0.743 & & Sentence Position Features & 0.804\\\\\n"
     ]
    }
   ],
   "source": [
    "for i, row in merged.iterrows():\n",
    "    feats_CB = format_lbl(row[\"feats_CB\"])\n",
    "    micro_f1_score_CB = row[\"micro_f1_score_CB\"]\n",
    "    \n",
    "    feats_SC = format_lbl(row[\"feats_SC\"])\n",
    "    micro_f1_score_SC = row[\"micro_f1_score_SC\"]\n",
    "    \n",
    "    print(\"{rank} & {feat_cb} & {cb_f1:0.3f} & & {feat_sc} & {sc_f1:0.3f}\\\\\\\\\"\\\n",
    "          .format(rank=i+1,feat_cb=feats_CB, cb_f1=micro_f1_score_CB,\n",
    "                  feat_sc=feats_SC, sc_f1=micro_f1_score_SC))\n"
   ]
  },
  {
   "cell_type": "markdown",
   "metadata": {},
   "source": [
    "## Performance By Feature Set Size"
   ]
  },
  {
   "cell_type": "code",
   "execution_count": 12,
   "metadata": {},
   "outputs": [
    {
     "data": {
      "text/html": [
       "<div>\n",
       "<table border=\"1\" class=\"dataframe\">\n",
       "  <thead>\n",
       "    <tr style=\"text-align: right;\">\n",
       "      <th></th>\n",
       "      <th>count</th>\n",
       "      <th>max(micro_f1_score)_cb</th>\n",
       "      <th>max(micro_f1_score)_sc</th>\n",
       "    </tr>\n",
       "  </thead>\n",
       "  <tbody>\n",
       "    <tr>\n",
       "      <th>0</th>\n",
       "      <td>0</td>\n",
       "      <td>0.749953</td>\n",
       "      <td>0.807749</td>\n",
       "    </tr>\n",
       "    <tr>\n",
       "      <th>1</th>\n",
       "      <td>1</td>\n",
       "      <td>0.750903</td>\n",
       "      <td>0.808573</td>\n",
       "    </tr>\n",
       "    <tr>\n",
       "      <th>2</th>\n",
       "      <td>2</td>\n",
       "      <td>0.754731</td>\n",
       "      <td>0.807194</td>\n",
       "    </tr>\n",
       "    <tr>\n",
       "      <th>3</th>\n",
       "      <td>3</td>\n",
       "      <td>0.750855</td>\n",
       "      <td>NaN</td>\n",
       "    </tr>\n",
       "  </tbody>\n",
       "</table>\n",
       "</div>"
      ],
      "text/plain": [
       "   count  max(micro_f1_score)_cb  max(micro_f1_score)_sc\n",
       "0      0                0.749953                0.807749\n",
       "1      1                0.750903                0.808573\n",
       "2      2                0.754731                0.807194\n",
       "3      3                0.750855                     NaN"
      ]
     },
     "execution_count": 12,
     "metadata": {},
     "output_type": "execute_result"
    }
   ],
   "source": [
    "def get_by_featureset_size(df, seed_count):\n",
    "    grpd = group_by(df, bycols=[\"count\"], agg_map=[(\"micro_f1_score\", \"max\"),\n",
    "                                              #(\"micro_f1_score\", \"mean\"),\n",
    "                                              #(\"micro_f1_score\", \"median\"),\n",
    "                                              #(\"micro_f1_score\", \"count\"),\n",
    "                                             ]).sort_values(\"count\")\n",
    "    grpd[\"count\"] = grpd[\"count\"] - seed_count\n",
    "    return grpd\n",
    "\n",
    "pd.merge(get_by_featureset_size(cb_vd_df, cb_seed_count), get_by_featureset_size(sc_vd_df, sc_seed_count), on=\"count\", how=\"outer\", suffixes=[\"_cb\", \"_sc\"])"
   ]
  },
  {
   "cell_type": "markdown",
   "metadata": {},
   "source": [
    "# Get F1 Score By Num Features As the Optimal Feature Set is Constructed"
   ]
  },
  {
   "cell_type": "code",
   "execution_count": 13,
   "metadata": {},
   "outputs": [
    {
     "data": {
      "text/html": [
       "<div>\n",
       "<table border=\"1\" class=\"dataframe\">\n",
       "  <thead>\n",
       "    <tr style=\"text-align: right;\">\n",
       "      <th></th>\n",
       "      <th>count</th>\n",
       "      <th>new_feat_CB</th>\n",
       "      <th>micro_f1_score_CB</th>\n",
       "      <th>stemmed_CB</th>\n",
       "      <th>num_feats_CB</th>\n",
       "      <th>new_feat_SC</th>\n",
       "      <th>micro_f1_score_SC</th>\n",
       "      <th>stemmed_SC</th>\n",
       "      <th>num_feats_SC</th>\n",
       "    </tr>\n",
       "  </thead>\n",
       "  <tbody>\n",
       "    <tr>\n",
       "      <th>0</th>\n",
       "      <td>0</td>\n",
       "      <td></td>\n",
       "      <td>0.749953</td>\n",
       "      <td>True</td>\n",
       "      <td>59279.6</td>\n",
       "      <td></td>\n",
       "      <td>0.807749</td>\n",
       "      <td>True</td>\n",
       "      <td>62596.8</td>\n",
       "    </tr>\n",
       "    <tr>\n",
       "      <th>1</th>\n",
       "      <td>1</td>\n",
       "      <td>gbl_causal_features</td>\n",
       "      <td>0.750903</td>\n",
       "      <td>True</td>\n",
       "      <td>61796.4</td>\n",
       "      <td>gbl_concept_code_cnt_features</td>\n",
       "      <td>0.808573</td>\n",
       "      <td>True</td>\n",
       "      <td>63632.6</td>\n",
       "    </tr>\n",
       "    <tr>\n",
       "      <th>2</th>\n",
       "      <td>2</td>\n",
       "      <td>gbl_ratio_features</td>\n",
       "      <td>0.754731</td>\n",
       "      <td>True</td>\n",
       "      <td>61652.2</td>\n",
       "      <td>gbl_sentence_position_features</td>\n",
       "      <td>0.807194</td>\n",
       "      <td>True</td>\n",
       "      <td>62850.6</td>\n",
       "    </tr>\n",
       "    <tr>\n",
       "      <th>3</th>\n",
       "      <td>3</td>\n",
       "      <td>gbl_adjacent_sent_code_features</td>\n",
       "      <td>0.750855</td>\n",
       "      <td>True</td>\n",
       "      <td>62821.4</td>\n",
       "      <td>NaN</td>\n",
       "      <td>NaN</td>\n",
       "      <td>NaN</td>\n",
       "      <td>NaN</td>\n",
       "    </tr>\n",
       "  </tbody>\n",
       "</table>\n",
       "</div>"
      ],
      "text/plain": [
       "   count                      new_feat_CB  micro_f1_score_CB stemmed_CB  \\\n",
       "0      0                                            0.749953       True   \n",
       "1      1              gbl_causal_features           0.750903       True   \n",
       "2      2               gbl_ratio_features           0.754731       True   \n",
       "3      3  gbl_adjacent_sent_code_features           0.750855       True   \n",
       "\n",
       "   num_feats_CB                     new_feat_SC  micro_f1_score_SC stemmed_SC  \\\n",
       "0       59279.6                                           0.807749       True   \n",
       "1       61796.4   gbl_concept_code_cnt_features           0.808573       True   \n",
       "2       61652.2  gbl_sentence_position_features           0.807194       True   \n",
       "3       62821.4                             NaN                NaN        NaN   \n",
       "\n",
       "   num_feats_SC  \n",
       "0       62596.8  \n",
       "1       63632.6  \n",
       "2       62850.6  \n",
       "3           NaN  "
      ]
     },
     "execution_count": 13,
     "metadata": {},
     "output_type": "execute_result"
    }
   ],
   "source": [
    "#cols_filter = \"count,new_feat,micro_f1_score,micro_recall,micro_precision,window_size\".split(\",\")\n",
    "cols_filter = \"count,new_feat,micro_f1_score,stemmed,num_feats\".split(\",\")\n",
    "\n",
    "def get_f1_by_feat_count(df):\n",
    "    df=df.sort_values(\"micro_f1_score\", ascending=False).copy(deep=True)\n",
    "    df[\"feats\"] = df[\"feats\"].apply(gbl_feats)\n",
    "    df[\"count\"] = df[\"feats\"].apply(len)\n",
    "    df=df[df[\"stemmed\"] == True]\n",
    "    top_feats = df[df[\"count\"] == df[\"count\"].max()]\n",
    "    top_feats = top_feats.sort_values(\"micro_f1_score\", ascending=False).iloc[0][\"feats\"]\n",
    "    top_feats = [\"\"] + top_feats\n",
    "    rows = []\n",
    "    for i in range(0,len(top_feats)):\n",
    "        new_feat = top_feats[i]\n",
    "        upto = top_feats[:i+1]\n",
    "        hs = hash_feats(upto)\n",
    "\n",
    "        new_row = df[df[\"hs_feats\"] == hs].iloc[0]\n",
    "        new_row[\"new_feat\"] = feat_name(new_feat)\n",
    "        copy = {}\n",
    "        for k in new_row.keys():\n",
    "            copy[str(k).strip()] = new_row[k]\n",
    "        rows.append(copy)\n",
    "\n",
    "    df_f1_by_feat_count = pd.DataFrame(rows)\n",
    "    return df_f1_by_feat_count[cols_filter]\n",
    "\n",
    "df_f1_score_by_feat_size= pd.merge(get_f1_by_feat_count(cb_vd_df), get_f1_by_feat_count(sc_vd_df), on=\"count\", how=\"outer\", suffixes=(\"_CB\", \"_SC\"))\n",
    "##df_f1_score_by_feat_size\n",
    "# Note that the optimal feature set for SC is only of size 4\n",
    "\n",
    "#get_f1_by_feat_count(cb_vd_df)\n",
    "#get_f1_by_feat_count(sc_vd_df)\n",
    "\n",
    "df_f1_score_by_feat_size"
   ]
  },
  {
   "cell_type": "code",
   "execution_count": 14,
   "metadata": {},
   "outputs": [
    {
     "data": {
      "text/html": [
       "<div>\n",
       "<table border=\"1\" class=\"dataframe\">\n",
       "  <thead>\n",
       "    <tr style=\"text-align: right;\">\n",
       "      <th></th>\n",
       "      <th>count</th>\n",
       "      <th>new_feat_CB</th>\n",
       "      <th>num_feats_CB</th>\n",
       "      <th>micro_f1_score_CB</th>\n",
       "      <th>new_feat_SC</th>\n",
       "      <th>num_feats_SC</th>\n",
       "      <th>micro_f1_score_SC</th>\n",
       "    </tr>\n",
       "  </thead>\n",
       "  <tbody>\n",
       "    <tr>\n",
       "      <th>0</th>\n",
       "      <td>0</td>\n",
       "      <td></td>\n",
       "      <td>59,279.6</td>\n",
       "      <td>0.7500</td>\n",
       "      <td></td>\n",
       "      <td>62,596.8</td>\n",
       "      <td>0.8077</td>\n",
       "    </tr>\n",
       "    <tr>\n",
       "      <th>1</th>\n",
       "      <td>1</td>\n",
       "      <td>gbl_causal_features</td>\n",
       "      <td>61,796.4</td>\n",
       "      <td>0.7509</td>\n",
       "      <td>gbl_concept_code_cnt_features</td>\n",
       "      <td>63,632.6</td>\n",
       "      <td>0.8086</td>\n",
       "    </tr>\n",
       "    <tr>\n",
       "      <th>2</th>\n",
       "      <td>2</td>\n",
       "      <td>gbl_ratio_features</td>\n",
       "      <td>61,652.2</td>\n",
       "      <td>0.7547</td>\n",
       "      <td>gbl_sentence_position_features</td>\n",
       "      <td>62,850.6</td>\n",
       "      <td>0.8072</td>\n",
       "    </tr>\n",
       "    <tr>\n",
       "      <th>3</th>\n",
       "      <td>3</td>\n",
       "      <td>gbl_adjacent_sent_code_features</td>\n",
       "      <td>62,821.4</td>\n",
       "      <td>0.7509</td>\n",
       "      <td>NaN</td>\n",
       "      <td>nan</td>\n",
       "      <td>nan</td>\n",
       "    </tr>\n",
       "  </tbody>\n",
       "</table>\n",
       "</div>"
      ],
      "text/plain": [
       "   count                      new_feat_CB num_feats_CB micro_f1_score_CB  \\\n",
       "0      0                                      59,279.6            0.7500   \n",
       "1      1              gbl_causal_features     61,796.4            0.7509   \n",
       "2      2               gbl_ratio_features     61,652.2            0.7547   \n",
       "3      3  gbl_adjacent_sent_code_features     62,821.4            0.7509   \n",
       "\n",
       "                      new_feat_SC num_feats_SC micro_f1_score_SC  \n",
       "0                                     62,596.8            0.8077  \n",
       "1   gbl_concept_code_cnt_features     63,632.6            0.8086  \n",
       "2  gbl_sentence_position_features     62,850.6            0.8072  \n",
       "3                             NaN          nan               nan  "
      ]
     },
     "execution_count": 14,
     "metadata": {},
     "output_type": "execute_result"
    }
   ],
   "source": [
    "# Round to 4 d.p. for printing\n",
    "df = df_f1_score_by_feat_size[\"count,new_feat_CB,num_feats_CB,micro_f1_score_CB,new_feat_SC,num_feats_SC,micro_f1_score_SC\".split(\",\")].copy()\n",
    "df[\"micro_f1_score_CB\"] = df[\"micro_f1_score_CB\"].apply(lambda d: \"{0:.4f}\".format(d))\n",
    "df[\"num_feats_CB\"]      = df[\"num_feats_CB\"].apply(lambda d: \"{0:,.1f}\".format(d))\n",
    "df[\"micro_f1_score_SC\"] = df[\"micro_f1_score_SC\"].apply(lambda d: \"{0:.4f}\".format(d))  \n",
    "df[\"num_feats_SC\"]      = df[\"num_feats_SC\"].apply(lambda d: \"{0:,.1f}\".format(d))\n",
    "df"
   ]
  },
  {
   "cell_type": "markdown",
   "metadata": {},
   "source": [
    "# Plot F1 Score Against # Feature Sets"
   ]
  },
  {
   "cell_type": "markdown",
   "metadata": {},
   "source": [
    "### Get the Max F1 Score for Each Size of Feature Set (Win = 9)"
   ]
  },
  {
   "cell_type": "code",
   "execution_count": 15,
   "metadata": {
    "collapsed": true
   },
   "outputs": [],
   "source": [
    "def get_max_f1_by_feat_count(df):\n",
    "    df=df.copy(deep=True)\n",
    "    df[\"feats\"] = df[\"feats\"].apply(gbl_feats)\n",
    "    df[\"count\"] = df[\"feats\"].apply(len)\n",
    "    max_feats = df[\"count\"].values.max()\n",
    "    rows = []\n",
    "    for cnt in range(0, max_feats+1):\n",
    "        \n",
    "        row = df[df[\"count\"] == cnt].sort_values(\"micro_f1_score\", ascending=False).iloc[0]        \n",
    "        rows.append(row)\n",
    "\n",
    "    return pd.DataFrame(rows)"
   ]
  },
  {
   "cell_type": "code",
   "execution_count": 16,
   "metadata": {},
   "outputs": [
    {
     "data": {
      "text/html": [
       "<div>\n",
       "<table border=\"1\" class=\"dataframe\">\n",
       "  <thead>\n",
       "    <tr style=\"text-align: right;\">\n",
       "      <th></th>\n",
       "      <th>count</th>\n",
       "      <th>feats_CB</th>\n",
       "      <th>micro_f1_score_CB</th>\n",
       "      <th>micro_precision_CB</th>\n",
       "      <th>micro_recall_CB</th>\n",
       "      <th>feats_SC</th>\n",
       "      <th>micro_f1_score_SC</th>\n",
       "      <th>micro_precision_SC</th>\n",
       "      <th>micro_recall_SC</th>\n",
       "    </tr>\n",
       "  </thead>\n",
       "  <tbody>\n",
       "    <tr>\n",
       "      <th>0</th>\n",
       "      <td>0</td>\n",
       "      <td>[]</td>\n",
       "      <td>0.749953</td>\n",
       "      <td>0.721276</td>\n",
       "      <td>0.781005</td>\n",
       "      <td>[]</td>\n",
       "      <td>0.807749</td>\n",
       "      <td>0.808289</td>\n",
       "      <td>0.807210</td>\n",
       "    </tr>\n",
       "    <tr>\n",
       "      <th>1</th>\n",
       "      <td>1</td>\n",
       "      <td>[gbl_causal_features]</td>\n",
       "      <td>0.750903</td>\n",
       "      <td>0.727808</td>\n",
       "      <td>0.775510</td>\n",
       "      <td>[gbl_concept_code_cnt_features]</td>\n",
       "      <td>0.808573</td>\n",
       "      <td>0.801259</td>\n",
       "      <td>0.816021</td>\n",
       "    </tr>\n",
       "    <tr>\n",
       "      <th>2</th>\n",
       "      <td>2</td>\n",
       "      <td>[gbl_causal_features, gbl_ratio_features]</td>\n",
       "      <td>0.754731</td>\n",
       "      <td>0.728801</td>\n",
       "      <td>0.782575</td>\n",
       "      <td>[gbl_concept_code_cnt_features, gbl_sentence_p...</td>\n",
       "      <td>0.807194</td>\n",
       "      <td>0.799581</td>\n",
       "      <td>0.814953</td>\n",
       "    </tr>\n",
       "    <tr>\n",
       "      <th>3</th>\n",
       "      <td>3</td>\n",
       "      <td>[gbl_causal_features, gbl_ratio_features, gbl_...</td>\n",
       "      <td>0.750855</td>\n",
       "      <td>0.727373</td>\n",
       "      <td>0.775903</td>\n",
       "      <td>NaN</td>\n",
       "      <td>NaN</td>\n",
       "      <td>NaN</td>\n",
       "      <td>NaN</td>\n",
       "    </tr>\n",
       "  </tbody>\n",
       "</table>\n",
       "</div>"
      ],
      "text/plain": [
       "   count                                           feats_CB  \\\n",
       "0      0                                                 []   \n",
       "1      1                              [gbl_causal_features]   \n",
       "2      2          [gbl_causal_features, gbl_ratio_features]   \n",
       "3      3  [gbl_causal_features, gbl_ratio_features, gbl_...   \n",
       "\n",
       "   micro_f1_score_CB  micro_precision_CB  micro_recall_CB  \\\n",
       "0           0.749953            0.721276         0.781005   \n",
       "1           0.750903            0.727808         0.775510   \n",
       "2           0.754731            0.728801         0.782575   \n",
       "3           0.750855            0.727373         0.775903   \n",
       "\n",
       "                                            feats_SC  micro_f1_score_SC  \\\n",
       "0                                                 []           0.807749   \n",
       "1                    [gbl_concept_code_cnt_features]           0.808573   \n",
       "2  [gbl_concept_code_cnt_features, gbl_sentence_p...           0.807194   \n",
       "3                                                NaN                NaN   \n",
       "\n",
       "   micro_precision_SC  micro_recall_SC  \n",
       "0            0.808289         0.807210  \n",
       "1            0.801259         0.816021  \n",
       "2            0.799581         0.814953  \n",
       "3                 NaN              NaN  "
      ]
     },
     "execution_count": 16,
     "metadata": {},
     "output_type": "execute_result"
    }
   ],
   "source": [
    "df_cb = get_max_f1_by_feat_count(cb_vd_df[cb_vd_df[\"stemmed\"] == True])[[\"count\", \"feats\", \"micro_f1_score\", \"micro_precision\", \"micro_recall\"]]\n",
    "df_sc = get_max_f1_by_feat_count(sc_vd_df[sc_vd_df[\"stemmed\"] == True])[[\"count\", \"feats\", \"micro_f1_score\", \"micro_precision\", \"micro_recall\"]]\n",
    "by_feat_size = pd.merge(df_cb, df_sc, on=\"count\", how=\"outer\", suffixes=[\"_CB\", \"_SC\"])\n",
    "by_feat_size"
   ]
  },
  {
   "cell_type": "code",
   "execution_count": 17,
   "metadata": {},
   "outputs": [
    {
     "data": {
      "image/png": "[encoded data removed]",
      "text/plain": [
       "<matplotlib.figure.Figure at 0x111f82ba8>"
      ]
     },
     "metadata": {},
     "output_type": "display_data"
    }
   ],
   "source": [
    "import numpy as np\n",
    "import matplotlib as mpl\n",
    "import matplotlib.pyplot as plt\n",
    "\n",
    "FONT_SIZE = 15\n",
    "\n",
    "df = by_feat_size\n",
    "\n",
    "STYLE = \"whitegrid\"\n",
    "sns.set_style(STYLE)\n",
    "sns.set_style(STYLE, {\"xtick.major.size\": 1})\n",
    "\n",
    "fig = plt.figure(figsize=(12,6.5))\n",
    "\n",
    "x = df[\"count\"].values\n",
    "y_cb = df[\"micro_f1_score_CB\"].values\n",
    "y_sc = df[\"micro_f1_score_SC\"].values\n",
    "\n",
    "ax1 = fig.add_subplot(111)\n",
    "ax1.plot(x,y_cb, label=\"Coral Bleaching\")\n",
    "ax1.plot(x,y_sc, label=\"Skin Cancer\")\n",
    "\n",
    "legend = ax1.legend(loc='upper left', shadow=True, fontsize=FONT_SIZE)\n",
    "\n",
    "ax1.set_xlim([1, 3])\n",
    "# ax1.set_ylim([0.695, 0.77])\n",
    "ax1.set_xlabel('Number of Feature Sets', fontsize=FONT_SIZE)\n",
    "ax1.set_ylabel('Micro F1 Score', fontsize=FONT_SIZE)\n",
    "\n",
    "plt.xticks(np.arange(min(x), max(x)+1, 1.0), fontsize=10)\n",
    "sns.despine()\n",
    "\n",
    "# plt.savefig(\"/Users/simon.hughes/BitBucket/Dissertation/Dissertation/images/sr_causal_model_parser_f1_score_by_num_feats.png\")\n",
    "plt.show()"
   ]
  },
  {
   "cell_type": "markdown",
   "metadata": {},
   "source": [
    "## Generate Rows for LaTex Table"
   ]
  },
  {
   "cell_type": "markdown",
   "metadata": {},
   "source": [
    "### F1 Score As Individual Features are Added"
   ]
  },
  {
   "cell_type": "code",
   "execution_count": 18,
   "metadata": {},
   "outputs": [
    {
     "name": "stdout",
     "output_type": "stream",
     "text": [
      "0 & - & 0.7500 & & - & 0.8077\\\\\n",
      "1 & Causal Features & 0.7509 & & Concept Code Cnt Features & 0.8086\\\\\n",
      "2 & Ratio Features & 0.7547 & & Sentence Position Features & 0.8072\\\\\n",
      "3 & Adjacent Sent Code Features & 0.7509 & & - & -\\\\\n"
     ]
    }
   ],
   "source": [
    "for i, row in df_f1_score_by_feat_size.iterrows():\n",
    "    #pprint(row)\n",
    "    \n",
    "    feats_CB = format_lbl(row[\"new_feat_CB\"])\n",
    "    micro_f1_score_CB = row[\"micro_f1_score_CB\"]\n",
    "    \n",
    "    feats_SC = format_lbl(str(row[\"new_feat_SC\"]))\n",
    "    if feats_SC == \"nan\":\n",
    "        feats_SC = \"-\"\n",
    "        \n",
    "    micro_f1_score_SC = row[\"micro_f1_score_SC\"]\n",
    "    if str(micro_f1_score_SC) != \"nan\":\n",
    "        micro_f1_score_SC = \"{0:0.4f}\".format(micro_f1_score_SC)\n",
    "    else:\n",
    "        micro_f1_score_SC = \"-\"\n",
    "    count = row[\"count\"]\n",
    "    print(\"{count} & {feat_cb} & {cb_f1:0.4f} & & {feat_sc} & {sc_f1}\\\\\\\\\"\\\n",
    "          .format(count=count,feat_cb=feats_CB, cb_f1=micro_f1_score_CB,\n",
    "                  feat_sc=feats_SC, sc_f1=micro_f1_score_SC))"
   ]
  },
  {
   "cell_type": "markdown",
   "metadata": {},
   "source": [
    "## Sanity Check - Do Any Datasets have Duplicate Feature Sets with Different F1 Scores?"
   ]
  },
  {
   "cell_type": "code",
   "execution_count": 19,
   "metadata": {},
   "outputs": [],
   "source": [
    "#SH: There were some issues with the CB_VD dataset initially for a couple of collections\n",
    "for df in [cb_td_df, cb_vd_df, sc_td_df, sc_vd_df]:\n",
    "    gb = group_by(df, bycols=[\"hs_feats\",\"stemmed\"], agg_map=[\n",
    "        (\"micro_f1_score\", \"count\"),\n",
    "        (\"micro_f1_score\", \"min\"),\n",
    "        (\"micro_f1_score\", \"max\"),\n",
    "    ])\n",
    "    gb = gb[gb[\"count(micro_f1_score)\"] > 1]\n",
    "    miss_match = gb[gb[\"min(micro_f1_score)\"] != gb[\"max(micro_f1_score)\"]]\n",
    "    \n",
    "    assert len(miss_match) == 0, \"Some errors occurred during data capture\""
   ]
  },
  {
   "cell_type": "markdown",
   "metadata": {},
   "source": [
    "### Compute Reduction in Features"
   ]
  },
  {
   "cell_type": "code",
   "execution_count": 20,
   "metadata": {},
   "outputs": [
    {
     "data": {
      "text/plain": [
       "(61652.2, 62551.99999999999, 0.9856151681800742)"
      ]
     },
     "execution_count": 20,
     "metadata": {},
     "output_type": "execute_result"
    }
   ],
   "source": [
    "df = cb_vd_df\n",
    "best_row = df.sort_values(\"micro_f1_score\").tail(1)\n",
    "\n",
    "max_feats = best_row[\"count\"].values[0]\n",
    "\n",
    "sub = df[df[\"count\"] == max_feats-1].sort_values(\"micro_f1_score\")\n",
    "feats = sub.tail(1)[\"feats\"].values[0]\n",
    "num_feats = sub.tail(1)[\"num_feats\"].values[0]\n",
    "\n",
    "max_ft_df = (df[df[\"count\"] == max_feats]).copy()\n",
    "max_ft_df[\"diff\"] = max_ft_df[\"num_feats\"] - num_feats\n",
    "diffs = max_ft_df[\"diff\"].sum()\n",
    "total_feats = diffs + num_feats\n",
    "# diffs, total_feats\n",
    "act_feats = best_row[\"num_feats\"].values[0]\n",
    "act_feats, total_feats, act_feats/total_feats"
   ]
  },
  {
   "cell_type": "code",
   "execution_count": 21,
   "metadata": {},
   "outputs": [
    {
     "data": {
      "text/plain": [
       "(63632.6, 66765.40000000001, 0.9530774922340013)"
      ]
     },
     "execution_count": 21,
     "metadata": {},
     "output_type": "execute_result"
    }
   ],
   "source": [
    "df = sc_vd_df\n",
    "best_row = df.sort_values(\"micro_f1_score\").tail(1)\n",
    "\n",
    "max_feats = df[\"count\"].max()\n",
    "\n",
    "sub = df[df[\"count\"] == max_feats-1].sort_values(\"micro_f1_score\")\n",
    "#feats = sub.tail(1)[\"feats\"].values[0]\n",
    "num_feats = sub.tail(1)[\"num_feats\"].values[0]\n",
    "\n",
    "max_ft_df = (df[df[\"count\"] == max_feats]).copy()\n",
    "max_ft_df[\"diff\"] = max_ft_df[\"num_feats\"] - num_feats\n",
    "diffs = max_ft_df[\"diff\"].sum()\n",
    "total_feats = diffs + num_feats\n",
    "# diffs, total_feats\n",
    "act_feats = best_row[\"num_feats\"].values[0]\n",
    "act_feats,total_feats,act_feats/total_feats"
   ]
  },
  {
   "cell_type": "code",
   "execution_count": 22,
   "metadata": {},
   "outputs": [
    {
     "data": {
      "text/html": [
       "<div>\n",
       "<table border=\"1\" class=\"dataframe\">\n",
       "  <thead>\n",
       "    <tr style=\"text-align: right;\">\n",
       "      <th></th>\n",
       "      <th>count</th>\n",
       "      <th>feats</th>\n",
       "      <th>micro_f1_score</th>\n",
       "      <th>micro_precision</th>\n",
       "      <th>micro_recall</th>\n",
       "    </tr>\n",
       "  </thead>\n",
       "  <tbody>\n",
       "    <tr>\n",
       "      <th>0</th>\n",
       "      <td>8</td>\n",
       "      <td>[single_words, between_word_features, label_se...</td>\n",
       "      <td>0.754731</td>\n",
       "      <td>0.728801</td>\n",
       "      <td>0.782575</td>\n",
       "    </tr>\n",
       "  </tbody>\n",
       "</table>\n",
       "</div>"
      ],
      "text/plain": [
       "   count                                              feats  micro_f1_score  \\\n",
       "0      8  [single_words, between_word_features, label_se...        0.754731   \n",
       "\n",
       "   micro_precision  micro_recall  \n",
       "0         0.728801      0.782575  "
      ]
     },
     "execution_count": 22,
     "metadata": {},
     "output_type": "execute_result"
    }
   ],
   "source": [
    "cb_vd_df[cb_vd_df[\"stemmed\"] == True].sort_values(\"micro_f1_score\", ascending=False).head(1)\\\n",
    "[[\"count\",\"feats\",\"micro_f1_score\",\"micro_precision\",\"micro_recall\"]]"
   ]
  },
  {
   "cell_type": "code",
   "execution_count": 23,
   "metadata": {},
   "outputs": [
    {
     "data": {
      "text/html": [
       "<div>\n",
       "<table border=\"1\" class=\"dataframe\">\n",
       "  <thead>\n",
       "    <tr style=\"text-align: right;\">\n",
       "      <th></th>\n",
       "      <th>count</th>\n",
       "      <th>feats</th>\n",
       "      <th>micro_f1_score</th>\n",
       "      <th>micro_precision</th>\n",
       "      <th>micro_recall</th>\n",
       "    </tr>\n",
       "  </thead>\n",
       "  <tbody>\n",
       "  </tbody>\n",
       "</table>\n",
       "</div>"
      ],
      "text/plain": [
       "Empty DataFrame\n",
       "Columns: [count, feats, micro_f1_score, micro_precision, micro_recall]\n",
       "Index: []"
      ]
     },
     "execution_count": 23,
     "metadata": {},
     "output_type": "execute_result"
    }
   ],
   "source": [
    "cb_vd_df[(cb_vd_df[\"stemmed\"] == True) & (cb_vd_df[\"count\"] == 3)].sort_values(\"micro_f1_score\", ascending=False).head(1)\\\n",
    "[[\"count\",\"feats\",\"micro_f1_score\",\"micro_precision\",\"micro_recall\"]]"
   ]
  },
  {
   "cell_type": "code",
   "execution_count": 24,
   "metadata": {},
   "outputs": [
    {
     "data": {
      "text/html": [
       "<div>\n",
       "<table border=\"1\" class=\"dataframe\">\n",
       "  <thead>\n",
       "    <tr style=\"text-align: right;\">\n",
       "      <th></th>\n",
       "      <th>count</th>\n",
       "      <th>feats</th>\n",
       "      <th>micro_f1_score</th>\n",
       "      <th>micro_precision</th>\n",
       "      <th>micro_recall</th>\n",
       "    </tr>\n",
       "  </thead>\n",
       "  <tbody>\n",
       "    <tr>\n",
       "      <th>0</th>\n",
       "      <td>8</td>\n",
       "      <td>[single_words, between_word_features, label_se...</td>\n",
       "      <td>0.754731</td>\n",
       "      <td>0.728801</td>\n",
       "      <td>0.782575</td>\n",
       "    </tr>\n",
       "  </tbody>\n",
       "</table>\n",
       "</div>"
      ],
      "text/plain": [
       "   count                                              feats  micro_f1_score  \\\n",
       "0      8  [single_words, between_word_features, label_se...        0.754731   \n",
       "\n",
       "   micro_precision  micro_recall  \n",
       "0         0.728801      0.782575  "
      ]
     },
     "execution_count": 24,
     "metadata": {},
     "output_type": "execute_result"
    }
   ],
   "source": [
    "cb_vd_df[cb_vd_df[\"stemmed\"] == True].sort_values(\"micro_f1_score\", ascending=False).head(1)\\\n",
    "[[\"count\",\"feats\",\"micro_f1_score\",\"micro_precision\",\"micro_recall\"]]"
   ]
  },
  {
   "cell_type": "code",
   "execution_count": 25,
   "metadata": {},
   "outputs": [
    {
     "name": "stderr",
     "output_type": "stream",
     "text": [
      "/Users/simon.hughes/anaconda3/envs/phd_py36/lib/python3.6/site-packages/ipykernel/__main__.py:1: UserWarning: Boolean Series key will be reindexed to match DataFrame index.\n",
      "  if __name__ == '__main__':\n"
     ]
    },
    {
     "data": {
      "text/html": [
       "<div>\n",
       "<table border=\"1\" class=\"dataframe\">\n",
       "  <thead>\n",
       "    <tr style=\"text-align: right;\">\n",
       "      <th></th>\n",
       "      <th>count</th>\n",
       "      <th>feats</th>\n",
       "      <th>micro_f1_score</th>\n",
       "      <th>micro_precision</th>\n",
       "      <th>micro_recall</th>\n",
       "    </tr>\n",
       "  </thead>\n",
       "  <tbody>\n",
       "    <tr>\n",
       "      <th>0</th>\n",
       "      <td>5</td>\n",
       "      <td>[three_words, between_word_features, size_feat...</td>\n",
       "      <td>0.808573</td>\n",
       "      <td>0.801259</td>\n",
       "      <td>0.816021</td>\n",
       "    </tr>\n",
       "  </tbody>\n",
       "</table>\n",
       "</div>"
      ],
      "text/plain": [
       "   count                                              feats  micro_f1_score  \\\n",
       "0      5  [three_words, between_word_features, size_feat...        0.808573   \n",
       "\n",
       "   micro_precision  micro_recall  \n",
       "0         0.801259      0.816021  "
      ]
     },
     "execution_count": 25,
     "metadata": {},
     "output_type": "execute_result"
    }
   ],
   "source": [
    "sc_vd_df[cb_vd_df[\"stemmed\"] == True].sort_values(\"micro_f1_score\", ascending=False).head(1)\\\n",
    "[[\"count\",\"feats\",\"micro_f1_score\",\"micro_precision\",\"micro_recall\"]]"
   ]
  },
  {
   "cell_type": "code",
   "execution_count": 27,
   "metadata": {},
   "outputs": [
    {
     "name": "stderr",
     "output_type": "stream",
     "text": [
      "/Users/simon.hughes/anaconda3/envs/phd_py36/lib/python3.6/site-packages/ipykernel/__main__.py:1: UserWarning: Boolean Series key will be reindexed to match DataFrame index.\n",
      "  if __name__ == '__main__':\n"
     ]
    },
    {
     "data": {
      "text/html": [
       "<div>\n",
       "<table border=\"1\" class=\"dataframe\">\n",
       "  <thead>\n",
       "    <tr style=\"text-align: right;\">\n",
       "      <th></th>\n",
       "      <th>count</th>\n",
       "      <th>feats</th>\n",
       "      <th>micro_f1_score</th>\n",
       "      <th>micro_precision</th>\n",
       "      <th>micro_recall</th>\n",
       "    </tr>\n",
       "  </thead>\n",
       "  <tbody>\n",
       "    <tr>\n",
       "      <th>0</th>\n",
       "      <td>5</td>\n",
       "      <td>[three_words, between_word_features, size_feat...</td>\n",
       "      <td>0.808573</td>\n",
       "      <td>0.801259</td>\n",
       "      <td>0.816021</td>\n",
       "    </tr>\n",
       "  </tbody>\n",
       "</table>\n",
       "</div>"
      ],
      "text/plain": [
       "   count                                              feats  micro_f1_score  \\\n",
       "0      5  [three_words, between_word_features, size_feat...        0.808573   \n",
       "\n",
       "   micro_precision  micro_recall  \n",
       "0         0.801259      0.816021  "
      ]
     },
     "execution_count": 27,
     "metadata": {},
     "output_type": "execute_result"
    }
   ],
   "source": [
    "sc_vd_df[cb_vd_df[\"stemmed\"] == True].sort_values(\"micro_f1_score\", ascending=False).head(1)\\\n",
    "[[\"count\",\"feats\",\"micro_f1_score\",\"micro_precision\",\"micro_recall\"]]"
   ]
  },
  {
   "cell_type": "code",
   "execution_count": null,
   "metadata": {},
   "outputs": [],
   "source": []
  }
 ],
 "metadata": {
  "anaconda-cloud": {},
  "kernelspec": {
   "display_name": "Python [conda env:phd_py36]",
   "language": "python",
   "name": "conda-env-phd_py36-py"
  },
  "language_info": {
   "codemirror_mode": {
    "name": "ipython",
    "version": 3
   },
   "file_extension": ".py",
   "mimetype": "text/x-python",
   "name": "python",
   "nbconvert_exporter": "python",
   "pygments_lexer": "ipython3",
   "version": "3.6.4"
  }
 },
 "nbformat": 4,
 "nbformat_minor": 2
}
