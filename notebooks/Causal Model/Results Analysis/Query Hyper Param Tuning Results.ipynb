{
 "cells": [
  {
   "cell_type": "code",
   "execution_count": 1,
   "metadata": {},
   "outputs": [],
   "source": [
    "%matplotlib inline\n",
    "import numpy as np\n",
    "import pandas as pd\n",
    "import matplotlib as mpl\n",
    "import matplotlib.pyplot as plt\n",
    "import seaborn as sns\n",
    "import pymongo\n",
    "from pprint import pprint"
   ]
  },
  {
   "cell_type": "code",
   "execution_count": 2,
   "metadata": {},
   "outputs": [],
   "source": [
    "client = pymongo.MongoClient(host=\"127.0.0.1\")\n",
    "db = client.metrics_causal_model"
   ]
  },
  {
   "cell_type": "code",
   "execution_count": 3,
   "metadata": {},
   "outputs": [],
   "source": [
    "def group_by(df, bycols, agg_map):\n",
    "    \"\"\"\n",
    "\n",
    "    @param df:      DataFrame\n",
    "    @param bycols:  str or list\n",
    "                        Column(s) to group by\n",
    "    @param agg_map: dictionary or list of 2-tuples\n",
    "                        Mapping from column to aggregate function e.g. [(\"city\", \"count\"), (\"salary\", \"mean\"]\n",
    "    @return:        DataFrame\n",
    "                        Flattened dataframe, with multi-level index removed\n",
    "    \"\"\"\n",
    "    grps = []\n",
    "    if type(bycols) == str:\n",
    "        bycols = [bycols]\n",
    "\n",
    "    if type(agg_map) == dict:\n",
    "        agg_map = agg_map.items()\n",
    "\n",
    "    for k,v in agg_map:\n",
    "        grp = df[bycols + [k]].groupby(bycols, ).agg(v)\n",
    "        grp.reset_index(inplace=True)\n",
    "        grp[\"%s(%s)\" % (v,k)] = grp[k]\n",
    "        del grp[k]\n",
    "        grps.append(grp)\n",
    "\n",
    "    m = grps[0]\n",
    "    for grp in grps[1:]:\n",
    "        m = pd.merge(m, grp, on=bycols, how=\"inner\")\n",
    "    return m"
   ]
  },
  {
   "cell_type": "code",
   "execution_count": 4,
   "metadata": {},
   "outputs": [],
   "source": [
    "from bson.son import SON # needed to ensure dictionary is ordered (python default is not)\n",
    "import hashlib\n",
    "\n",
    "def hash_feats(fts):\n",
    "    vals = fts.values\n",
    "    joined = \"|\".join(map(lambda s: str(s),vals)).encode('utf-8') \n",
    "    return hashlib.sha224(joined).hexdigest()"
   ]
  },
  {
   "cell_type": "code",
   "execution_count": 5,
   "metadata": {},
   "outputs": [],
   "source": [
    "from Metrics import rpf1a_from_tp_fp_tn_fn\n",
    "from collections import defaultdict\n",
    "\n",
    "def tally_counts(r, filter):\n",
    "    tally = defaultdict(int)\n",
    "    for k,v in r.items():\n",
    "        if filter(k):\n",
    "            for prop in \"tp,tn,fp,fn\".split(\",\"):\n",
    "                tally[prop] += v[prop]\n",
    "    return tally\n",
    "\n",
    "def get_causal_relation_metrics(collection, params, include_concept_codes=True):\n",
    "    dicts = []\n",
    "    for r in db[collection].find({}):\n",
    "        d = {}\n",
    "        cr_counts = tally_counts(r, lambda c: \"->\" in c)\n",
    "        (rec, p, cr_f1, a) = rpf1a_from_tp_fp_tn_fn(cr_counts[\"tp\"],cr_counts[\"fp\"],cr_counts[\"tn\"],cr_counts[\"fn\"])\n",
    "        d[\"cr_micro_f1\"] = cr_f1\n",
    "        d[\"cr_micro_rec\"]  = rec\n",
    "        d[\"cr_micro_prec\"] = p\n",
    "        if include_concept_codes:\n",
    "            concept_counts = tally_counts(r, lambda c: c[0].isdigit())\n",
    "            (rec, p, concept_f1, a) = rpf1a_from_tp_fp_tn_fn(concept_counts[\"tp\"],concept_counts[\"fp\"],concept_counts[\"tn\"],concept_counts[\"fn\"])\n",
    "            d[\"concept_micro_f1\"] = concept_f1\n",
    "            d[\"concept_micro_rec\"]  = rec\n",
    "            d[\"concept_micro_prec\"] = p\n",
    "        parms = r[\"parameters\"]\n",
    "        for p in params:\n",
    "            d[p] = parms[p]\n",
    "        dicts.append(d)\n",
    "    df = pd.DataFrame(dicts)\n",
    "    fields = (\"cr_micro_f1,cr_micro_rec,cr_micro_prec,concept_micro_f1,concept_micro_rec,concept_micro_prec,\" + \",\".join(params)).split(\",\")\n",
    "    if not include_concept_codes:\n",
    "        fields = [f for f in fields if \"concept\" not in f]\n",
    "    return df[fields].sort_values(\"cr_micro_f1\", ascending=False)"
   ]
  },
  {
   "cell_type": "code",
   "execution_count": 6,
   "metadata": {},
   "outputs": [],
   "source": [
    "def round_data(df, places=3):\n",
    "    df_copy = df.copy()\n",
    "    fmt_str = \"{0:.\" + str(places) + \"f}\"\n",
    "    cols = set([v for v in df_copy.columns.values if \"micro_\" in v])\n",
    "    for c in cols:\n",
    "        df_copy[c] = df[c].apply(lambda d: fmt_str.format(d))  \n",
    "    return df_copy"
   ]
  },
  {
   "cell_type": "code",
   "execution_count": null,
   "metadata": {},
   "outputs": [],
   "source": []
  },
  {
   "cell_type": "markdown",
   "metadata": {},
   "source": [
    "# Feature Selection on Shift Reduce Parser"
   ]
  },
  {
   "cell_type": "code",
   "execution_count": 7,
   "metadata": {},
   "outputs": [],
   "source": [
    "# REMOVE the non generic parameters, like window size\n",
    "def get_df_sorted_by_f1score_generic(collection, params=None, filter_cols=True):\n",
    "    if not params:\n",
    "        params = []\n",
    "    if type(params) == str:\n",
    "        params = params.split(\",\")\n",
    "    \n",
    "    project = {\n",
    "            \"weighted_f1_score\":\"$WEIGHTED_MEAN_CONCEPT_CODES.f1_score\",\n",
    "            \"micro_f1_score\":  \"$MICRO_F1.f1_score\",\n",
    "            \"micro_recall\":    \"$MICRO_F1.recall\",\n",
    "            \"micro_precision\": \"$MICRO_F1.precision\",\n",
    "    \n",
    "    # PARAMETERS            \n",
    "            \"feats\":          \"$parameters.extractors\",\n",
    "            \n",
    "            \"asof\" :          \"$asof\",\n",
    "            \"_id\":1\n",
    "    }\n",
    "    \n",
    "    # No count for HMM\n",
    "    if \"_hmm\" in collection.lower():\n",
    "        del project[\"count\"]\n",
    "    \n",
    "    for param in params:\n",
    "        project[param] = \"$parameters.\" + param\n",
    "\n",
    "    feats_pipeline = [{\n",
    "        \"$project\": project\n",
    "    },\n",
    "    {\n",
    "        \"$match\":{\n",
    "            \"micro_f1_score\": { \"$exists\" : True }        \n",
    "        }\n",
    "    },\n",
    "    {\n",
    "        \"$sort\":{\n",
    "            \"micro_f1_score\": -1\n",
    "        }\n",
    "    },\n",
    "    ]\n",
    "    \n",
    "    rows = [row for row in db[collection].aggregate(feats_pipeline)]\n",
    "    df = pd.DataFrame(rows).sort_values(\"micro_f1_score\", ascending=False)\n",
    "    if params:\n",
    "        df[\"hs_params\"] = df[params].apply(hash_feats, axis=1)\n",
    "        \n",
    "    if filter_cols:\n",
    "        cols = [\"micro_f1_score\", \"micro_recall\" ,\"micro_precision\" ] + params\n",
    "        return df[cols]\n",
    "    return df"
   ]
  },
  {
   "cell_type": "markdown",
   "metadata": {},
   "source": [
    "### Top Result (Best VD Accuracy"
   ]
  },
  {
   "cell_type": "markdown",
   "metadata": {},
   "source": [
    "#### CB"
   ]
  },
  {
   "cell_type": "code",
   "execution_count": 8,
   "metadata": {},
   "outputs": [
    {
     "data": {
      "text/html": [
       "<div>\n",
       "<table border=\"1\" class=\"dataframe\">\n",
       "  <thead>\n",
       "    <tr style=\"text-align: right;\">\n",
       "      <th></th>\n",
       "      <th>Algo</th>\n",
       "      <th>micro_f1_score</th>\n",
       "      <th>micro_precision</th>\n",
       "      <th>micro_recall</th>\n",
       "    </tr>\n",
       "  </thead>\n",
       "  <tbody>\n",
       "    <tr>\n",
       "      <th>0</th>\n",
       "      <td>CR_CB_SHIFT_REDUCE_PARSER_TEMPLATED_HYPER_PARA...</td>\n",
       "      <td>0.748462</td>\n",
       "      <td>0.791057</td>\n",
       "      <td>0.710219</td>\n",
       "    </tr>\n",
       "  </tbody>\n",
       "</table>\n",
       "</div>"
      ],
      "text/plain": [
       "                                                Algo  micro_f1_score  \\\n",
       "0  CR_CB_SHIFT_REDUCE_PARSER_TEMPLATED_HYPER_PARA...        0.748462   \n",
       "\n",
       "   micro_precision  micro_recall  \n",
       "0         0.791057      0.710219  "
      ]
     },
     "execution_count": 8,
     "metadata": {},
     "output_type": "execute_result"
    }
   ],
   "source": [
    "col = [\"CR_CB_SHIFT_REDUCE_PARSER_TEMPLATED_HYPER_PARAM2_VD\"]\n",
    "\n",
    "rows = []\n",
    "for coll in col:\n",
    "    df = get_df_sorted_by_f1score_generic(coll, \"\")\n",
    "    dct = df.iloc[0].to_dict()\n",
    "    dct[\"Algo\"] = coll\n",
    "    rows.append(dct)\n",
    "\n",
    "df=pd.DataFrame(rows)\n",
    "df.sort_values(\"micro_f1_score\", ascending=False)"
   ]
  },
  {
   "cell_type": "markdown",
   "metadata": {},
   "source": [
    "#### SC"
   ]
  },
  {
   "cell_type": "code",
   "execution_count": 9,
   "metadata": {},
   "outputs": [
    {
     "data": {
      "text/html": [
       "<div>\n",
       "<table border=\"1\" class=\"dataframe\">\n",
       "  <thead>\n",
       "    <tr style=\"text-align: right;\">\n",
       "      <th></th>\n",
       "      <th>Algo</th>\n",
       "      <th>micro_f1_score</th>\n",
       "      <th>micro_precision</th>\n",
       "      <th>micro_recall</th>\n",
       "    </tr>\n",
       "  </thead>\n",
       "  <tbody>\n",
       "    <tr>\n",
       "      <th>0</th>\n",
       "      <td>CR_SC_SHIFT_REDUCE_PARSER_TEMPLATED_HYPER_PARA...</td>\n",
       "      <td>0.810981</td>\n",
       "      <td>0.841144</td>\n",
       "      <td>0.782906</td>\n",
       "    </tr>\n",
       "  </tbody>\n",
       "</table>\n",
       "</div>"
      ],
      "text/plain": [
       "                                                Algo  micro_f1_score  \\\n",
       "0  CR_SC_SHIFT_REDUCE_PARSER_TEMPLATED_HYPER_PARA...        0.810981   \n",
       "\n",
       "   micro_precision  micro_recall  \n",
       "0         0.841144      0.782906  "
      ]
     },
     "execution_count": 9,
     "metadata": {},
     "output_type": "execute_result"
    }
   ],
   "source": [
    "col = [\"CR_SC_SHIFT_REDUCE_PARSER_TEMPLATED_HYPER_PARAM2_VD\"]\n",
    "\n",
    "rows = []\n",
    "for coll in col:\n",
    "    df = get_df_sorted_by_f1score_generic(coll, \"\")\n",
    "    dct = df.iloc[0].to_dict()\n",
    "    dct[\"Algo\"] = coll\n",
    "    rows.append(dct)\n",
    "\n",
    "df=pd.DataFrame(rows)\n",
    "df.sort_values(\"micro_f1_score\", ascending=False)"
   ]
  },
  {
   "cell_type": "markdown",
   "metadata": {},
   "source": [
    "## Results Sorted by Hyper Params"
   ]
  },
  {
   "cell_type": "markdown",
   "metadata": {},
   "source": [
    "#### CB"
   ]
  },
  {
   "cell_type": "code",
   "execution_count": 10,
   "metadata": {},
   "outputs": [
    {
     "data": {
      "text/plain": [
       "'0.1'"
      ]
     },
     "execution_count": 10,
     "metadata": {},
     "output_type": "execute_result"
    }
   ],
   "source": [
    "def extract_parameter(s, param_name):\n",
    "    s = s.replace(\"(\",\" \").replace(\")\",\" \")\n",
    "    keys = s.split(\" \")\n",
    "    return [(key,val.replace(\",\",\"\").replace(\"'\",\"\")) for key,val in [k.split(\"=\") for k in keys if \"=\" in k] if key == param_name][0][-1]\n",
    "\n",
    "extract_c_val = lambda s: extract_parameter(s, \"C\")\n",
    "extract_penalty_val = lambda s: extract_parameter(s, \"penalty\")\n",
    "extract_dual_val = lambda s: extract_parameter(s, \"dual\")\n",
    "\n",
    "s = \"LogisticRegression(C=0.1, class_weight=None, dual=True, fit_intercept=True, intercept_scaling=1, max_iter=100, multi_class='ovr', n_jobs=1, penalty='l2', random_state=None, solver='liblinear', tol=0.0001, verbose=0, warm_start=False)\"\n",
    "extract_c_val(s)"
   ]
  },
  {
   "cell_type": "code",
   "execution_count": 11,
   "metadata": {},
   "outputs": [],
   "source": [
    "def get_hyper_param_results(collection):\n",
    "    df_feat_sel = get_df_sorted_by_f1score_generic(collection, \"algorithm,beta,max_epochs,num_feats_MEAN\", filter_cols=True) \n",
    "    df_feat_sel[\"C\"] = df_feat_sel[\"algorithm\"].apply(extract_c_val)\n",
    "    df_feat_sel[\"penalty\"] = df_feat_sel[\"algorithm\"].apply(extract_penalty_val)\n",
    "    df_feat_sel[\"dual\"] = df_feat_sel[\"algorithm\"].apply(extract_dual_val)\n",
    "    del df_feat_sel[\"algorithm\"]\n",
    "    return df_feat_sel"
   ]
  },
  {
   "cell_type": "markdown",
   "metadata": {},
   "source": [
    "#### Validation"
   ]
  },
  {
   "cell_type": "code",
   "execution_count": 12,
   "metadata": {},
   "outputs": [
    {
     "data": {
      "text/html": [
       "<div>\n",
       "<table border=\"1\" class=\"dataframe\">\n",
       "  <thead>\n",
       "    <tr style=\"text-align: right;\">\n",
       "      <th></th>\n",
       "      <th>micro_f1_score</th>\n",
       "      <th>micro_recall</th>\n",
       "      <th>micro_precision</th>\n",
       "      <th>beta</th>\n",
       "      <th>max_epochs</th>\n",
       "      <th>num_feats_MEAN</th>\n",
       "      <th>C</th>\n",
       "      <th>penalty</th>\n",
       "      <th>dual</th>\n",
       "    </tr>\n",
       "  </thead>\n",
       "  <tbody>\n",
       "    <tr>\n",
       "      <th>0</th>\n",
       "      <td>0.748462</td>\n",
       "      <td>0.710219</td>\n",
       "      <td>0.791057</td>\n",
       "      <td>0.5</td>\n",
       "      <td>10</td>\n",
       "      <td>94761.2</td>\n",
       "      <td>0.1</td>\n",
       "      <td>l2</td>\n",
       "      <td>True</td>\n",
       "    </tr>\n",
       "    <tr>\n",
       "      <th>1</th>\n",
       "      <td>0.748237</td>\n",
       "      <td>0.716423</td>\n",
       "      <td>0.783008</td>\n",
       "      <td>0.3</td>\n",
       "      <td>3</td>\n",
       "      <td>82068.4</td>\n",
       "      <td>0.1</td>\n",
       "      <td>l2</td>\n",
       "      <td>False</td>\n",
       "    </tr>\n",
       "    <tr>\n",
       "      <th>2</th>\n",
       "      <td>0.748174</td>\n",
       "      <td>0.710219</td>\n",
       "      <td>0.790414</td>\n",
       "      <td>0.5</td>\n",
       "      <td>20</td>\n",
       "      <td>96791.0</td>\n",
       "      <td>0.1</td>\n",
       "      <td>l2</td>\n",
       "      <td>True</td>\n",
       "    </tr>\n",
       "    <tr>\n",
       "      <th>3</th>\n",
       "      <td>0.747986</td>\n",
       "      <td>0.711679</td>\n",
       "      <td>0.788197</td>\n",
       "      <td>0.1</td>\n",
       "      <td>15</td>\n",
       "      <td>98675.6</td>\n",
       "      <td>0.1</td>\n",
       "      <td>l2</td>\n",
       "      <td>False</td>\n",
       "    </tr>\n",
       "    <tr>\n",
       "      <th>4</th>\n",
       "      <td>0.747986</td>\n",
       "      <td>0.711679</td>\n",
       "      <td>0.788197</td>\n",
       "      <td>0.3</td>\n",
       "      <td>20</td>\n",
       "      <td>98614.4</td>\n",
       "      <td>0.1</td>\n",
       "      <td>l2</td>\n",
       "      <td>True</td>\n",
       "    </tr>\n",
       "  </tbody>\n",
       "</table>\n",
       "</div>"
      ],
      "text/plain": [
       "   micro_f1_score  micro_recall  micro_precision  beta  max_epochs  \\\n",
       "0        0.748462      0.710219         0.791057   0.5          10   \n",
       "1        0.748237      0.716423         0.783008   0.3           3   \n",
       "2        0.748174      0.710219         0.790414   0.5          20   \n",
       "3        0.747986      0.711679         0.788197   0.1          15   \n",
       "4        0.747986      0.711679         0.788197   0.3          20   \n",
       "\n",
       "   num_feats_MEAN    C penalty   dual  \n",
       "0         94761.2  0.1      l2   True  \n",
       "1         82068.4  0.1      l2  False  \n",
       "2         96791.0  0.1      l2   True  \n",
       "3         98675.6  0.1      l2  False  \n",
       "4         98614.4  0.1      l2   True  "
      ]
     },
     "execution_count": 12,
     "metadata": {},
     "output_type": "execute_result"
    }
   ],
   "source": [
    "\"\"\"\n",
    "micro_f1_score\tmicro_recall\tmicro_precision\tbeta\tmax_epochs\tnum_feats_MEAN\tC\tpenalty\tdual\n",
    "0\t0.748462\t0.710219\t0.791057\t0.5\t10\t94761.2\t0.1\tl2\tTrue\n",
    "\"\"\"\n",
    "col = \"CR_CB_SHIFT_REDUCE_PARSER_TEMPLATED_HYPER_PARAM2_VD\"\n",
    "top_row = get_hyper_param_results(col).iloc[0]\n",
    "get_hyper_param_results(col).head(5) "
   ]
  },
  {
   "cell_type": "markdown",
   "metadata": {},
   "source": [
    "#### Training"
   ]
  },
  {
   "cell_type": "code",
   "execution_count": 13,
   "metadata": {},
   "outputs": [
    {
     "data": {
      "text/html": [
       "<div>\n",
       "<table border=\"1\" class=\"dataframe\">\n",
       "  <thead>\n",
       "    <tr style=\"text-align: right;\">\n",
       "      <th></th>\n",
       "      <th>micro_f1_score</th>\n",
       "      <th>micro_recall</th>\n",
       "      <th>micro_precision</th>\n",
       "      <th>beta</th>\n",
       "      <th>max_epochs</th>\n",
       "      <th>num_feats_MEAN</th>\n",
       "      <th>C</th>\n",
       "      <th>penalty</th>\n",
       "      <th>dual</th>\n",
       "    </tr>\n",
       "  </thead>\n",
       "  <tbody>\n",
       "    <tr>\n",
       "      <th>288</th>\n",
       "      <td>0.837738</td>\n",
       "      <td>0.77938</td>\n",
       "      <td>0.905544</td>\n",
       "      <td>0.5</td>\n",
       "      <td>10</td>\n",
       "      <td>94761.2</td>\n",
       "      <td>0.1</td>\n",
       "      <td>l2</td>\n",
       "      <td>True</td>\n",
       "    </tr>\n",
       "  </tbody>\n",
       "</table>\n",
       "</div>"
      ],
      "text/plain": [
       "     micro_f1_score  micro_recall  micro_precision  beta  max_epochs  \\\n",
       "288        0.837738       0.77938         0.905544   0.5          10   \n",
       "\n",
       "     num_feats_MEAN    C penalty  dual  \n",
       "288         94761.2  0.1      l2  True  "
      ]
     },
     "execution_count": 13,
     "metadata": {},
     "output_type": "execute_result"
    }
   ],
   "source": [
    "col_td = \"CR_CB_SHIFT_REDUCE_PARSER_TEMPLATED_HYPER_PARAM2_TD\"\n",
    "df = get_hyper_param_results(col_td)\n",
    "df = df[(df.beta == top_row.beta) & (df.max_epochs == top_row.max_epochs) & (df.C == top_row.C)]\n",
    "df = df[(df.penalty == top_row.penalty) & (df.dual == top_row.dual)]\n",
    "df"
   ]
  },
  {
   "cell_type": "markdown",
   "metadata": {},
   "source": [
    "#### SC"
   ]
  },
  {
   "cell_type": "markdown",
   "metadata": {},
   "source": [
    "#### Validation"
   ]
  },
  {
   "cell_type": "code",
   "execution_count": 17,
   "metadata": {},
   "outputs": [
    {
     "data": {
      "text/html": [
       "<div>\n",
       "<table border=\"1\" class=\"dataframe\">\n",
       "  <thead>\n",
       "    <tr style=\"text-align: right;\">\n",
       "      <th></th>\n",
       "      <th>micro_f1_score</th>\n",
       "      <th>micro_recall</th>\n",
       "      <th>micro_precision</th>\n",
       "      <th>beta</th>\n",
       "      <th>max_epochs</th>\n",
       "      <th>num_feats_MEAN</th>\n",
       "      <th>C</th>\n",
       "      <th>penalty</th>\n",
       "      <th>dual</th>\n",
       "    </tr>\n",
       "  </thead>\n",
       "  <tbody>\n",
       "    <tr>\n",
       "      <th>0</th>\n",
       "      <td>0.810981</td>\n",
       "      <td>0.782906</td>\n",
       "      <td>0.841144</td>\n",
       "      <td>0.30</td>\n",
       "      <td>5</td>\n",
       "      <td>64879.2</td>\n",
       "      <td>0.5</td>\n",
       "      <td>l2</td>\n",
       "      <td>True</td>\n",
       "    </tr>\n",
       "    <tr>\n",
       "      <th>1</th>\n",
       "      <td>0.810255</td>\n",
       "      <td>0.789500</td>\n",
       "      <td>0.832130</td>\n",
       "      <td>0.75</td>\n",
       "      <td>5</td>\n",
       "      <td>69780.4</td>\n",
       "      <td>0.1</td>\n",
       "      <td>l2</td>\n",
       "      <td>True</td>\n",
       "    </tr>\n",
       "    <tr>\n",
       "      <th>2</th>\n",
       "      <td>0.809567</td>\n",
       "      <td>0.785443</td>\n",
       "      <td>0.835221</td>\n",
       "      <td>0.50</td>\n",
       "      <td>10</td>\n",
       "      <td>73494.0</td>\n",
       "      <td>0.1</td>\n",
       "      <td>l2</td>\n",
       "      <td>True</td>\n",
       "    </tr>\n",
       "    <tr>\n",
       "      <th>3</th>\n",
       "      <td>0.808740</td>\n",
       "      <td>0.779102</td>\n",
       "      <td>0.840722</td>\n",
       "      <td>0.50</td>\n",
       "      <td>5</td>\n",
       "      <td>64841.0</td>\n",
       "      <td>0.5</td>\n",
       "      <td>l2</td>\n",
       "      <td>True</td>\n",
       "    </tr>\n",
       "    <tr>\n",
       "      <th>4</th>\n",
       "      <td>0.808233</td>\n",
       "      <td>0.786711</td>\n",
       "      <td>0.830967</td>\n",
       "      <td>0.75</td>\n",
       "      <td>5</td>\n",
       "      <td>69999.2</td>\n",
       "      <td>0.1</td>\n",
       "      <td>l2</td>\n",
       "      <td>False</td>\n",
       "    </tr>\n",
       "    <tr>\n",
       "      <th>5</th>\n",
       "      <td>0.808142</td>\n",
       "      <td>0.780370</td>\n",
       "      <td>0.837963</td>\n",
       "      <td>1.00</td>\n",
       "      <td>10</td>\n",
       "      <td>65841.8</td>\n",
       "      <td>0.5</td>\n",
       "      <td>l2</td>\n",
       "      <td>True</td>\n",
       "    </tr>\n",
       "    <tr>\n",
       "      <th>6</th>\n",
       "      <td>0.807999</td>\n",
       "      <td>0.783921</td>\n",
       "      <td>0.833603</td>\n",
       "      <td>0.30</td>\n",
       "      <td>5</td>\n",
       "      <td>71814.4</td>\n",
       "      <td>0.1</td>\n",
       "      <td>l2</td>\n",
       "      <td>False</td>\n",
       "    </tr>\n",
       "    <tr>\n",
       "      <th>7</th>\n",
       "      <td>0.807890</td>\n",
       "      <td>0.779102</td>\n",
       "      <td>0.838886</td>\n",
       "      <td>1.00</td>\n",
       "      <td>10</td>\n",
       "      <td>65947.2</td>\n",
       "      <td>0.5</td>\n",
       "      <td>l2</td>\n",
       "      <td>False</td>\n",
       "    </tr>\n",
       "    <tr>\n",
       "      <th>8</th>\n",
       "      <td>0.807753</td>\n",
       "      <td>0.776820</td>\n",
       "      <td>0.841252</td>\n",
       "      <td>1.00</td>\n",
       "      <td>10</td>\n",
       "      <td>64564.4</td>\n",
       "      <td>1.0</td>\n",
       "      <td>l2</td>\n",
       "      <td>False</td>\n",
       "    </tr>\n",
       "    <tr>\n",
       "      <th>9</th>\n",
       "      <td>0.807531</td>\n",
       "      <td>0.783160</td>\n",
       "      <td>0.833468</td>\n",
       "      <td>0.30</td>\n",
       "      <td>5</td>\n",
       "      <td>71705.0</td>\n",
       "      <td>0.1</td>\n",
       "      <td>l2</td>\n",
       "      <td>True</td>\n",
       "    </tr>\n",
       "    <tr>\n",
       "      <th>10</th>\n",
       "      <td>0.807361</td>\n",
       "      <td>0.784428</td>\n",
       "      <td>0.831675</td>\n",
       "      <td>0.75</td>\n",
       "      <td>10</td>\n",
       "      <td>72273.4</td>\n",
       "      <td>0.1</td>\n",
       "      <td>l2</td>\n",
       "      <td>False</td>\n",
       "    </tr>\n",
       "    <tr>\n",
       "      <th>11</th>\n",
       "      <td>0.807267</td>\n",
       "      <td>0.777581</td>\n",
       "      <td>0.839310</td>\n",
       "      <td>0.20</td>\n",
       "      <td>5</td>\n",
       "      <td>65657.2</td>\n",
       "      <td>0.5</td>\n",
       "      <td>l2</td>\n",
       "      <td>False</td>\n",
       "    </tr>\n",
       "    <tr>\n",
       "      <th>12</th>\n",
       "      <td>0.807191</td>\n",
       "      <td>0.785696</td>\n",
       "      <td>0.829896</td>\n",
       "      <td>0.30</td>\n",
       "      <td>10</td>\n",
       "      <td>75092.8</td>\n",
       "      <td>0.1</td>\n",
       "      <td>l2</td>\n",
       "      <td>False</td>\n",
       "    </tr>\n",
       "    <tr>\n",
       "      <th>13</th>\n",
       "      <td>0.807081</td>\n",
       "      <td>0.786203</td>\n",
       "      <td>0.829099</td>\n",
       "      <td>0.50</td>\n",
       "      <td>10</td>\n",
       "      <td>73619.6</td>\n",
       "      <td>0.1</td>\n",
       "      <td>l2</td>\n",
       "      <td>False</td>\n",
       "    </tr>\n",
       "    <tr>\n",
       "      <th>14</th>\n",
       "      <td>0.807022</td>\n",
       "      <td>0.775298</td>\n",
       "      <td>0.841453</td>\n",
       "      <td>0.20</td>\n",
       "      <td>10</td>\n",
       "      <td>69679.6</td>\n",
       "      <td>0.5</td>\n",
       "      <td>l2</td>\n",
       "      <td>False</td>\n",
       "    </tr>\n",
       "  </tbody>\n",
       "</table>\n",
       "</div>"
      ],
      "text/plain": [
       "    micro_f1_score  micro_recall  micro_precision  beta  max_epochs  \\\n",
       "0         0.810981      0.782906         0.841144  0.30           5   \n",
       "1         0.810255      0.789500         0.832130  0.75           5   \n",
       "2         0.809567      0.785443         0.835221  0.50          10   \n",
       "3         0.808740      0.779102         0.840722  0.50           5   \n",
       "4         0.808233      0.786711         0.830967  0.75           5   \n",
       "5         0.808142      0.780370         0.837963  1.00          10   \n",
       "6         0.807999      0.783921         0.833603  0.30           5   \n",
       "7         0.807890      0.779102         0.838886  1.00          10   \n",
       "8         0.807753      0.776820         0.841252  1.00          10   \n",
       "9         0.807531      0.783160         0.833468  0.30           5   \n",
       "10        0.807361      0.784428         0.831675  0.75          10   \n",
       "11        0.807267      0.777581         0.839310  0.20           5   \n",
       "12        0.807191      0.785696         0.829896  0.30          10   \n",
       "13        0.807081      0.786203         0.829099  0.50          10   \n",
       "14        0.807022      0.775298         0.841453  0.20          10   \n",
       "\n",
       "    num_feats_MEAN    C penalty   dual  \n",
       "0          64879.2  0.5      l2   True  \n",
       "1          69780.4  0.1      l2   True  \n",
       "2          73494.0  0.1      l2   True  \n",
       "3          64841.0  0.5      l2   True  \n",
       "4          69999.2  0.1      l2  False  \n",
       "5          65841.8  0.5      l2   True  \n",
       "6          71814.4  0.1      l2  False  \n",
       "7          65947.2  0.5      l2  False  \n",
       "8          64564.4  1.0      l2  False  \n",
       "9          71705.0  0.1      l2   True  \n",
       "10         72273.4  0.1      l2  False  \n",
       "11         65657.2  0.5      l2  False  \n",
       "12         75092.8  0.1      l2  False  \n",
       "13         73619.6  0.1      l2  False  \n",
       "14         69679.6  0.5      l2  False  "
      ]
     },
     "execution_count": 17,
     "metadata": {},
     "output_type": "execute_result"
    }
   ],
   "source": [
    "\"\"\"\n",
    "micro_f1_score\tmicro_recall\tmicro_precision\tbeta\tmax_epochs\tnum_feats_MEAN\tC\tpenalty\tdual\n",
    "0\t0.813308\t0.805985\t0.820764\t1.00\t3\t55036.8\t0.5\tl2\tFalse\n",
    "\"\"\"\n",
    "col = \"CR_SC_SHIFT_REDUCE_PARSER_TEMPLATED_HYPER_PARAM2_VD\"\n",
    "top_row = get_hyper_param_results(col).iloc[0]\n",
    "get_hyper_param_results(col).head(15) "
   ]
  },
  {
   "cell_type": "markdown",
   "metadata": {},
   "source": [
    "#### Training"
   ]
  },
  {
   "cell_type": "code",
   "execution_count": 15,
   "metadata": {},
   "outputs": [
    {
     "data": {
      "text/html": [
       "<div>\n",
       "<table border=\"1\" class=\"dataframe\">\n",
       "  <thead>\n",
       "    <tr style=\"text-align: right;\">\n",
       "      <th></th>\n",
       "      <th>micro_f1_score</th>\n",
       "      <th>micro_recall</th>\n",
       "      <th>micro_precision</th>\n",
       "      <th>beta</th>\n",
       "      <th>max_epochs</th>\n",
       "      <th>num_feats_MEAN</th>\n",
       "      <th>C</th>\n",
       "      <th>penalty</th>\n",
       "      <th>dual</th>\n",
       "    </tr>\n",
       "  </thead>\n",
       "  <tbody>\n",
       "    <tr>\n",
       "      <th>39</th>\n",
       "      <td>0.897895</td>\n",
       "      <td>0.850558</td>\n",
       "      <td>0.950812</td>\n",
       "      <td>0.3</td>\n",
       "      <td>5</td>\n",
       "      <td>64879.2</td>\n",
       "      <td>0.5</td>\n",
       "      <td>l2</td>\n",
       "      <td>True</td>\n",
       "    </tr>\n",
       "  </tbody>\n",
       "</table>\n",
       "</div>"
      ],
      "text/plain": [
       "    micro_f1_score  micro_recall  micro_precision  beta  max_epochs  \\\n",
       "39        0.897895      0.850558         0.950812   0.3           5   \n",
       "\n",
       "    num_feats_MEAN    C penalty  dual  \n",
       "39         64879.2  0.5      l2  True  "
      ]
     },
     "execution_count": 15,
     "metadata": {},
     "output_type": "execute_result"
    }
   ],
   "source": [
    "col = \"CR_SC_SHIFT_REDUCE_PARSER_TEMPLATED_HYPER_PARAM2_TD\"\n",
    "df = get_hyper_param_results(col)\n",
    "df = df[(df.beta == top_row.beta) & (df.max_epochs == top_row.max_epochs) & (df.C == top_row.C)]\n",
    "df = df[(df.penalty == top_row.penalty) & (df.dual == top_row.dual)]\n",
    "df"
   ]
  },
  {
   "cell_type": "code",
   "execution_count": 16,
   "metadata": {},
   "outputs": [
    {
     "name": "stdout",
     "output_type": "stream",
     "text": [
      "Success\n"
     ]
    }
   ],
   "source": [
    "# Got here without error\n",
    "print(\"Success\")"
   ]
  },
  {
   "cell_type": "code",
   "execution_count": null,
   "metadata": {},
   "outputs": [],
   "source": []
  }
 ],
 "metadata": {
  "anaconda-cloud": {},
  "kernelspec": {
   "display_name": "Python 3",
   "language": "python",
   "name": "python3"
  },
  "language_info": {
   "codemirror_mode": {
    "name": "ipython",
    "version": 3
   },
   "file_extension": ".py",
   "mimetype": "text/x-python",
   "name": "python",
   "nbconvert_exporter": "python",
   "pygments_lexer": "ipython3",
   "version": "3.5.4"
  }
 },
 "nbformat": 4,
 "nbformat_minor": 2
}
