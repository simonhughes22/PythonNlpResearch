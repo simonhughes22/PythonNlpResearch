{
 "cells": [
  {
   "cell_type": "code",
   "execution_count": 1,
   "metadata": {},
   "outputs": [
    {
     "name": "stdout",
     "output_type": "stream",
     "text": [
      "Results Dir: /Users/simon.hughes/Google Drive/Phd/Results/\n",
      "Data Dir:    /Users/simon.hughes/Google Drive/Phd/Data/\n",
      "Root Dir:    /Users/simon.hughes/GitHub/NlpResearch/\n",
      "Public Data: /Users/simon.hughes/GitHub/NlpResearch/Data/PublicDatasets/\n"
     ]
    },
    {
     "data": {
      "text/plain": [
       "'/Users/simon.hughes/Google Drive/Phd/Data/CoralBleaching/BrattData/EBA1415_Merged/'"
      ]
     },
     "execution_count": 1,
     "metadata": {},
     "output_type": "execute_result"
    }
   ],
   "source": [
    "from BrattEssay import load_bratt_essays\n",
    "from collections import defaultdict\n",
    "from IterableFP import flatten\n",
    "from Settings import Settings\n",
    "\n",
    "settings = Settings()\n",
    "\n",
    "#essays = load_bratt_essays(settings.data_directory + \"SkinCancer/EBA1415_Merged/\")\n",
    "folder = settings.data_directory + \"CoralBleaching/BrattData/EBA1415_Merged/\"\n",
    "folder"
   ]
  },
  {
   "cell_type": "code",
   "execution_count": 1,
   "metadata": {},
   "outputs": [
    {
     "name": "stdout",
     "output_type": "stream",
     "text": [
      "Results Dir: /Users/simon.hughes/Google Drive/Phd/Results/\n",
      "Data Dir:    /Users/simon.hughes/Google Drive/Phd/Data/\n",
      "Root Dir:    /Users/simon.hughes/GitHub/NlpResearch/\n",
      "Public Data: /Users/simon.hughes/GitHub/NlpResearch/Data/PublicDatasets/\n",
      "(1154, 'files found')\n",
      "Skipping /Users/simon.hughes/Google Drive/Phd/Data/CoralBleaching/BrattData/EBA1415_Merged/EBA1415_AEKD_4_CB_ES-05571.ann file as .txt file is no essay'\n",
      "Skipping /Users/simon.hughes/Google Drive/Phd/Data/CoralBleaching/BrattData/EBA1415_Merged/EBA1415_AEKD_4_CB_ES-05904.ann file as .txt file is no essay'\n",
      "Skipping /Users/simon.hughes/Google Drive/Phd/Data/CoralBleaching/BrattData/EBA1415_Merged/EBA1415_BGJD_1_CB_ES-05733.ann file as .txt file is no essay //'\n",
      "Skipping /Users/simon.hughes/Google Drive/Phd/Data/CoralBleaching/BrattData/EBA1415_Merged/EBA1415_ERSK_7_CB_ES-05798.ann file as .txt file is no essay //'\n",
      "Skipping /Users/simon.hughes/Google Drive/Phd/Data/CoralBleaching/BrattData/EBA1415_Merged/EBA1415_KYLS_5_CB_ES-05671.ann file as .txt file is no essay //'\n",
      "Skipping /Users/simon.hughes/Google Drive/Phd/Data/CoralBleaching/BrattData/EBA1415_Merged/EBA1415_LRJE_5_CB_ES-05128.ann file as .txt file is no essay'\n",
      "Skipping /Users/simon.hughes/Google Drive/Phd/Data/CoralBleaching/BrattData/EBA1415_Merged/EBA1415_SVJJ_2_CB_ES-05612.ann file as .txt file is no essay  //'\n",
      "Skipping /Users/simon.hughes/Google Drive/Phd/Data/CoralBleaching/BrattData/EBA1415_Merged/EBA1415_SVJJ_2_CB_ES-05617.ann file as .txt file is no essay  //'\n",
      "Skipping /Users/simon.hughes/Google Drive/Phd/Data/CoralBleaching/BrattData/EBA1415_Merged/EBA1415_SVJJ_4_CB_ES-05632.ann file as .txt file is no essay  //'\n",
      "Skipping /Users/simon.hughes/Google Drive/Phd/Data/CoralBleaching/BrattData/EBA1415_Merged/EBA1415_SVJJ_4_CB_ES-05640.ann file as .txt file is no essay.'\n",
      "Skipping /Users/simon.hughes/Google Drive/Phd/Data/CoralBleaching/BrattData/EBA1415_Merged/EBA1415_SWSP_4_CB_ES-05459.ann file as .txt file is no essay  //'\n",
      "Skipping /Users/simon.hughes/Google Drive/Phd/Data/CoralBleaching/BrattData/EBA1415_Merged/EBA1415_TFBM_1_CB_ES-05484.ann file as .txt file is no essay. //'\n",
      "Skipping /Users/simon.hughes/Google Drive/Phd/Data/CoralBleaching/BrattData/EBA1415_Merged/EBA1415_TFBM_1_CB_ES-05485.ann file as .txt file is no essay.  //'\n",
      "Skipping /Users/simon.hughes/Google Drive/Phd/Data/CoralBleaching/BrattData/EBA1415_Merged/EBA1415_TFBM_2_CB_ES-05548.ann file as .txt file is no essay  //'\n",
      "Skipping /Users/simon.hughes/Google Drive/Phd/Data/CoralBleaching/BrattData/EBA1415_Merged/EBA1415_TFMV_3_CB_ES-05845.ann file as .txt file is no essay'\n",
      "Skipping /Users/simon.hughes/Google Drive/Phd/Data/CoralBleaching/BrattData/EBA1415_Merged/EBA1415_TRDJ_11_CB_ES-05715.ann file as .txt file is no essay.'\n",
      "Skipping /Users/simon.hughes/Google Drive/Phd/Data/CoralBleaching/BrattData/EBA1415_Merged/EBA1415_TRDJ_11_CB_ES-05721.ann file as .txt file is no essay.'\n",
      "Skipping /Users/simon.hughes/Google Drive/Phd/Data/CoralBleaching/BrattData/EBA1415_Merged/EBA1415_TRDJ_2_CB_ES-06128.ann file as .txt file is no essay.'\n",
      "Skipping /Users/simon.hughes/Google Drive/Phd/Data/CoralBleaching/BrattData/EBA1415_Merged/EBA1415_TRDJ_2_CB_ES-06132.ann file as .txt file is no essay.'\n",
      "Skipping /Users/simon.hughes/Google Drive/Phd/Data/CoralBleaching/BrattData/EBA1415_Merged/EBA1415_TRKM_1_CB_ES-05025.ann file as .txt file is no essay.'\n",
      "Skipping /Users/simon.hughes/Google Drive/Phd/Data/CoralBleaching/BrattData/EBA1415_Merged/EBA1415_TRKM_1_CB_ES-05030.ann file as .txt file is no essay.'\n",
      "Skipping /Users/simon.hughes/Google Drive/Phd/Data/CoralBleaching/BrattData/EBA1415_Merged/EBA1415_TTCM_2_CB_ES-06140.ann file as .txt file is no essay.'\n",
      "Skipping /Users/simon.hughes/Google Drive/Phd/Data/CoralBleaching/BrattData/EBA1415_Merged/EBA1415_TTCM_910_CB_ES-06149.ann file as .txt file is no essay.'\n",
      "Skipping /Users/simon.hughes/Google Drive/Phd/Data/CoralBleaching/BrattData/EBA1415_Merged/EBA1415_TTCM_910_CB_ES-06153.ann file as .txt file is no essay.'\n",
      "Skipping /Users/simon.hughes/Google Drive/Phd/Data/CoralBleaching/BrattData/EBA1415_Merged/EBA1415_TTKP_7-8_CB_ES-06174.ann file as .txt file is no essay.'\n",
      "Skipping /Users/simon.hughes/Google Drive/Phd/Data/CoralBleaching/BrattData/EBA1415_Merged/EBA1415post_TWNB_2_CB_ES-04948.ann file as .txt file is no essay.'\n",
      "1128 essays processed\n"
     ]
    }
   ],
   "source": [
    "from BrattEssay import load_bratt_essays\n",
    "from collections import defaultdict\n",
    "from IterableFP import flatten\n",
    "from Settings import Settings\n",
    "\n",
    "settings = Settings()\n",
    "\n",
    "#essays = load_bratt_essays(settings.data_directory + \"SkinCancer/EBA1415_Merged/\")\n",
    "folder = settings.data_directory + \"CoralBleaching/BrattData/EBA1415_Merged/\"\n",
    "essays = load_bratt_essays(folder)\n",
    "\n",
    "wd_sent_freq = defaultdict(int)\n",
    "all_codes = set()\n",
    "#Stores all words for the spelling corrector\n",
    "words = []\n",
    "all_sentences = []\n",
    "sentencesForCode = defaultdict(list)\n",
    "for essay in essays:\n",
    "    for sentence in essay.tagged_sentences:\n",
    "        wdsInSent = set()\n",
    "        codes4sentence = set()\n",
    "        sent = []\n",
    "        for w, tags in sentence:\n",
    "            words.append(w)\n",
    "            all_codes.update(tags)\n",
    "            codes4sentence.update(tags)\n",
    "            if w not in wdsInSent:\n",
    "                wdsInSent.add(w)\n",
    "                wd_sent_freq[w] += 1\n",
    "            sent.append(w)\n",
    "        all_sentences.append(sent)\n",
    "        for code in codes4sentence:\n",
    "            sentencesForCode[code].append(sentence)"
   ]
  },
  {
   "cell_type": "markdown",
   "metadata": {},
   "source": [
    "### Compute Stats over the Essays"
   ]
  },
  {
   "cell_type": "code",
   "execution_count": 2,
   "metadata": {
    "collapsed": true,
    "jupyter": {
     "outputs_hidden": true
    }
   },
   "outputs": [],
   "source": [
    "wd_counts = []\n",
    "sent_counts = []\n",
    "concept_codes = []\n",
    "cr_concept_codes = []\n",
    "sent_multi_word_tags = {}\n",
    "sent_codes = []\n",
    "sent_cr_codes = []\n",
    "\n",
    "num_sents = 0\n",
    "un_wd_counts = []\n",
    "vocab = set()\n",
    "for e_ix, essay in enumerate(essays):\n",
    "    wds = 0\n",
    "    un_words = set()\n",
    "    for i, sentence in enumerate(essay.tagged_sentences):\n",
    "        num_sents += 1\n",
    "        sent_tags = set()\n",
    "        sent_cr_tags = set()\n",
    "        for w, tags in sentence:\n",
    "            un_words.add(w)\n",
    "            vocab.add(w)\n",
    "            wds += 1\n",
    "            ccodes = [t for t in tags if t[0].isdigit()]\n",
    "            if ccodes:\n",
    "                sent_tags.update(ccodes)\n",
    "                concept_codes.append(ccodes)\n",
    "                if len(ccodes) > 1:\n",
    "                    sent_multi_word_tags[(e_ix, i)] = [(w,[tag for tag in t if tag[0].isdigit()]) for w,t in sentence]\n",
    "            cr_codes = [t for t in tags if t[0].isdigit() or t == \"Causer\" or t == \"Result\" or t == \"explicit\"]\n",
    "            if cr_codes:\n",
    "                cr_concept_codes.append(cr_codes)\n",
    "                sent_cr_tags.update(cr_codes)\n",
    "        if len(sent_tags) > 0:\n",
    "            sent_codes.append(sent_tags)\n",
    "            if len(sent_cr_tags) > 0:\n",
    "                sent_cr_codes.append(sent_cr_tags)\n",
    "                \n",
    "    un_wd_counts.append(len(un_words))\n",
    "    sent_counts.append(len(essay.tagged_sentences))\n",
    "    wd_counts.append(wds)"
   ]
  },
  {
   "cell_type": "code",
   "execution_count": 3,
   "metadata": {},
   "outputs": [
    {
     "name": "stdout",
     "output_type": "stream",
     "text": [
      "7 10210\n"
     ]
    },
    {
     "data": {
      "text/plain": [
       "((138, 5),\n",
       " [('The', []),\n",
       "  ('strength', ['1', '3']),\n",
       "  ('of', ['1', '3']),\n",
       "  ('the', ['3']),\n",
       "  ('water', ['3']),\n",
       "  ('and', []),\n",
       "  ('wind', ['1']),\n",
       "  ('get', []),\n",
       "  ('algae', ['7']),\n",
       "  ('out', ['7']),\n",
       "  ('of', ['7']),\n",
       "  ('control', ['7']),\n",
       "  ('and', []),\n",
       "  ('turns', ['50']),\n",
       "  ('coral', ['50']),\n",
       "  ('white', ['50']),\n",
       "  ('.', [])])"
      ]
     },
     "execution_count": 3,
     "metadata": {},
     "output_type": "execute_result"
    }
   ],
   "source": [
    "print len(sent_multi_word_tags), num_sents\n",
    "sent_multi_word_tags.items()[0]"
   ]
  },
  {
   "cell_type": "code",
   "execution_count": 4,
   "metadata": {},
   "outputs": [
    {
     "data": {
      "text/plain": [
       "(7094, 3138)"
      ]
     },
     "execution_count": 4,
     "metadata": {},
     "output_type": "execute_result"
    }
   ],
   "source": [
    "len(sent_codes), len([tags for tags in sent_codes if len(tags) > 1])"
   ]
  },
  {
   "cell_type": "code",
   "execution_count": 5,
   "metadata": {},
   "outputs": [
    {
     "data": {
      "text/plain": [
       "((640, 0),\n",
       " [('Corals', ['50']),\n",
       "  ('get', ['50']),\n",
       "  ('there', ['50']),\n",
       "  ('color', ['50']),\n",
       "  ('by', ['50']),\n",
       "  ('the', ['50']),\n",
       "  ('different', ['50']),\n",
       "  ('types', ['50']),\n",
       "  ('of', ['50']),\n",
       "  ('algae', ['50', '7']),\n",
       "  ('that', ['7']),\n",
       "  ('live', ['7']),\n",
       "  ('with', ['7']),\n",
       "  ('the', ['7']),\n",
       "  ('coral', ['7']),\n",
       "  ('.', [])])"
      ]
     },
     "execution_count": 5,
     "metadata": {},
     "output_type": "execute_result"
    }
   ],
   "source": [
    "sent_multi_word_tags.items()[1]"
   ]
  },
  {
   "cell_type": "markdown",
   "metadata": {},
   "source": [
    "### Essay Length Statistics"
   ]
  },
  {
   "cell_type": "code",
   "execution_count": 6,
   "metadata": {},
   "outputs": [
    {
     "name": "stdout",
     "output_type": "stream",
     "text": [
      "148.824468085 142.0 1 461 81.6952326181\n",
      "9.05141843972 8.0 1 31 5.16578158718\n"
     ]
    }
   ],
   "source": [
    "import numpy as np\n",
    "print np.mean(wd_counts), np.median(wd_counts), np.min(wd_counts), np.max(wd_counts), np.std(wd_counts)\n",
    "print np.mean(sent_counts), np.median(sent_counts), np.min(sent_counts), np.max(sent_counts), np.std(sent_counts)\n",
    "#148.824468085 142.0 1 461 81.6952326181\n",
    "#9.05141843972 8.0 1 31 5.16578158718"
   ]
  },
  {
   "cell_type": "markdown",
   "metadata": {},
   "source": [
    "### Vocabulary Size"
   ]
  },
  {
   "cell_type": "code",
   "execution_count": 7,
   "metadata": {},
   "outputs": [
    {
     "name": "stdout",
     "output_type": "stream",
     "text": [
      "('Total Unique Words:', 4776)\n"
     ]
    }
   ],
   "source": [
    "print(\"Total Unique Words:\" , len(vocab))"
   ]
  },
  {
   "cell_type": "code",
   "execution_count": 8,
   "metadata": {},
   "outputs": [
    {
     "data": {
      "text/plain": [
       "(1, 226, 83.875, 83.5, 37.813481392223068)"
      ]
     },
     "execution_count": 8,
     "metadata": {},
     "output_type": "execute_result"
    }
   ],
   "source": [
    "np.min(un_wd_counts), np.max(un_wd_counts), np.mean(un_wd_counts), np.median(un_wd_counts), np.std(un_wd_counts)\n",
    "#(1, 226, 83.875, 83.5, 37.813481392223068)"
   ]
  },
  {
   "cell_type": "code",
   "execution_count": 9,
   "metadata": {},
   "outputs": [
    {
     "data": {
      "text/plain": [
       "{'1', '11', '12', '13', '14', '2', '3', '4', '5', '50', '5b', '6', '7'}"
      ]
     },
     "execution_count": 9,
     "metadata": {},
     "output_type": "execute_result"
    }
   ],
   "source": [
    "from IterableFP import flatten\n",
    "unique = set(flatten(concept_codes))\n",
    "unique"
   ]
  },
  {
   "cell_type": "markdown",
   "metadata": {},
   "source": [
    "### How Many Tagged Words Have Multiple Codes?"
   ]
  },
  {
   "cell_type": "code",
   "execution_count": 10,
   "metadata": {},
   "outputs": [
    {
     "name": "stdout",
     "output_type": "stream",
     "text": [
      "52084 167874 0.31\n",
      "12 0.000230397050918\n"
     ]
    },
    {
     "data": {
      "text/plain": [
       "[['50', '5b'],\n",
       " ['50', '5b'],\n",
       " ['1', '3'],\n",
       " ['1', '3'],\n",
       " ['50', '7'],\n",
       " ['7', '14'],\n",
       " ['7', '14'],\n",
       " ['50', '7'],\n",
       " ['13', '4'],\n",
       " ['13', '4'],\n",
       " ['13', '4'],\n",
       " ['14', '50']]"
      ]
     },
     "execution_count": 10,
     "metadata": {},
     "output_type": "execute_result"
    }
   ],
   "source": [
    "print len(concept_codes), sum(wd_counts), round(len(concept_codes) / float(sum(wd_counts)),2)\n",
    "multiple = [tags for tags in concept_codes if len(tags) > 1]\n",
    "print len(multiple), len(multiple) / float(len(concept_codes))\n",
    "multiple"
   ]
  },
  {
   "cell_type": "code",
   "execution_count": 11,
   "metadata": {},
   "outputs": [
    {
     "data": {
      "text/plain": [
       "{'1',\n",
       " '11',\n",
       " '12',\n",
       " '13',\n",
       " '14',\n",
       " '2',\n",
       " '3',\n",
       " '4',\n",
       " '5',\n",
       " '50',\n",
       " '5b',\n",
       " '6',\n",
       " '7',\n",
       " 'Causer',\n",
       " 'Result',\n",
       " 'explicit'}"
      ]
     },
     "execution_count": 11,
     "metadata": {},
     "output_type": "execute_result"
    }
   ],
   "source": [
    "unique_cr = set(flatten(cr_concept_codes))\n",
    "unique_cr"
   ]
  },
  {
   "cell_type": "code",
   "execution_count": 12,
   "metadata": {},
   "outputs": [
    {
     "name": "stdout",
     "output_type": "stream",
     "text": [
      "57535 167874 0.34\n",
      "28007 0.486781958808\n"
     ]
    }
   ],
   "source": [
    "print len(cr_concept_codes), sum(wd_counts), round(len(cr_concept_codes) / float(sum(wd_counts)),2)\n",
    "multiple = [tags for tags in cr_concept_codes if len(tags) > 1]\n",
    "print len(multiple), len(multiple) / float(len(cr_concept_codes))"
   ]
  },
  {
   "cell_type": "markdown",
   "metadata": {},
   "source": [
    "### What Proportion of Sentences With Codes Have Multiple Codes?"
   ]
  },
  {
   "cell_type": "code",
   "execution_count": 13,
   "metadata": {},
   "outputs": [
    {
     "name": "stdout",
     "output_type": "stream",
     "text": [
      "0.694809010774\n"
     ]
    },
    {
     "data": {
      "text/plain": [
       "0.44234564420637157"
      ]
     },
     "execution_count": 13,
     "metadata": {},
     "output_type": "execute_result"
    }
   ],
   "source": [
    "num_sents = float(num_sents)\n",
    "print len(sent_codes) / num_sents\n",
    "num_multiple_codes = len([tags for tags in sent_codes if len(tags) > 1])\n",
    "num_multiple_codes / float(len(sent_codes))"
   ]
  },
  {
   "cell_type": "code",
   "execution_count": 14,
   "metadata": {},
   "outputs": [
    {
     "data": {
      "text/plain": [
       "0.5"
      ]
     },
     "execution_count": 14,
     "metadata": {},
     "output_type": "execute_result"
    }
   ],
   "source": [
    "len(sent_cr_codes) / num_sents\n",
    "num_multiple_codes = len([tags for tags in sent_cr_codes if len(tags) > 1])\n",
    "num_multiple_codes / float(len(sent_cr_codes))"
   ]
  },
  {
   "cell_type": "markdown",
   "metadata": {},
   "source": [
    "### Conditional Probabilities of Codes"
   ]
  },
  {
   "cell_type": "code",
   "execution_count": 15,
   "metadata": {
    "collapsed": true,
    "jupyter": {
     "outputs_hidden": true
    }
   },
   "outputs": [],
   "source": [
    "from collections import defaultdict\n",
    "priors = defaultdict(float)\n",
    "joints = defaultdict(float)\n",
    "\n",
    "for sent in sent_codes:\n",
    "    for a in sorted(sent):\n",
    "        priors[a] += 1\n",
    "        for b in sorted(sent):\n",
    "            if b >= a:\n",
    "                break\n",
    "            joints[(b,a)] +=1\n",
    "\n",
    "conditional = {}\n",
    "for a, cnt in priors.items():\n",
    "    for b in priors.keys():\n",
    "        if a == b:\n",
    "            continue\n",
    "        \"\"\" p(A/B) = p(B/A)p(A) / p(B) \"\"\"\n",
    "        \"\"\" p(A/B) = p(B/A)p(A) \"\"\"\n",
    "        if a < b:\n",
    "            joint = joints[(a,b)]\n",
    "        else:\n",
    "            joint = joints[(b,a)]\n",
    "        conditional[(a,b)] = joint / priors[b]\n",
    "    \n",
    "lifts = {}\n",
    "total = float(sum(joints.values()))\n",
    "totalPrior = float(sum(priors.values()))\n",
    "for (a,b),cnt in joints.items():\n",
    "    joint = cnt / total\n",
    "    pA = priors[a] / totalPrior\n",
    "    pB = priors[b] / totalPrior\n",
    "    lift = joint / (pA * pB)\n",
    "    if lift:\n",
    "        lifts[(a,b)] = lift"
   ]
  },
  {
   "cell_type": "code",
   "execution_count": 16,
   "metadata": {},
   "outputs": [
    {
     "name": "stdout",
     "output_type": "stream",
     "text": [
      "& 1     & 2     &  2.23 \\\\\n",
      "& 2     & 3     &  1.53 \\\\\n",
      "& 3     & 4     &  1.73 \\\\\n",
      "& 4     & 5     &  2.11 \\\\\n",
      "& 5b    & 14    & -0.69 \\\\\n",
      "& 5     & 5b    &  2.11 \\\\\n",
      "& 6     & 7     &  2.24 \\\\\n",
      "& 6     & 14    &  2.34 \\\\\n",
      "& 7     & 50    &   1.2 \\\\\n",
      "& 11    & 12    &  3.93 \\\\\n",
      "& 12    & 13    &  3.58 \\\\\n",
      "& 13    & 14    &  2.59 \\\\\n"
     ]
    }
   ],
   "source": [
    "def get_num(a):\n",
    "    s = \"\"\n",
    "    for c in a:\n",
    "        if c.isdigit():\n",
    "            s += c\n",
    "    return int(s)\n",
    "\n",
    "consec_pmi = {}\n",
    "for (a,b), lift in lifts.items():\n",
    "    ia = get_num(a)\n",
    "    ib = get_num(b)\n",
    "    diff = abs(ia-ib)\n",
    "    pmi = np.log(lift)\n",
    "    if \"Coral\" in folder:\n",
    "        if diff == 1 and b != \"6\" and b != \"5b\":\n",
    "            consec_pmi[(a,b)] = pmi\n",
    "        elif a ==\"5\" and b ==\"5b\":\n",
    "            consec_pmi[(a,b)] = pmi\n",
    "        elif a ==\"14\" and b ==\"5b\":\n",
    "            consec_pmi[(a,b)] = pmi\n",
    "        elif a ==\"14\" and b ==\"6\":\n",
    "            consec_pmi[(a,b)] = pmi\n",
    "        elif a ==\"50\" and b ==\"7\":\n",
    "            consec_pmi[(a,b)] = pmi\n",
    "    elif \"Skin\" in folder:\n",
    "        if diff == 1:\n",
    "            consec_pmi[(a,b)] = pmi\n",
    "        elif a == \"12\" and b == \"6\":\n",
    "            consec_pmi[(a,b)] = pmi\n",
    "        elif a == \"50\" and b == \"6\":\n",
    "            consec_pmi[(a,b)] = pmi        \n",
    "            \n",
    "for k,v in sorted(consec_pmi.items(), key = lambda (k,v): (min(int(k[0]),int(k[1].replace(\"b\",\"\"))))):\n",
    "    a = k[0]\n",
    "    b = k[1]\n",
    "    if len(a) > len(b.replace(\"b\",\"\")):\n",
    "        a,b = b,a\n",
    "    print \"&\", str(a).ljust(5), \"&\", str(b).ljust(5), \"&\", str(round(v,2)).rjust(5), \"\\\\\\\\\""
   ]
  },
  {
   "cell_type": "code",
   "execution_count": 17,
   "metadata": {},
   "outputs": [
    {
     "data": {
      "text/plain": [
       "3.8575045329169773"
      ]
     },
     "execution_count": 17,
     "metadata": {},
     "output_type": "execute_result"
    }
   ],
   "source": [
    "np.mean(lifts.values())\n",
    "#sorted(lifts.items(), key=lambda (tpl,p):-p)"
   ]
  },
  {
   "cell_type": "code",
   "execution_count": 18,
   "metadata": {},
   "outputs": [
    {
     "data": {
      "text/plain": [
       "0.400765095332002"
      ]
     },
     "execution_count": 18,
     "metadata": {},
     "output_type": "execute_result"
    }
   ],
   "source": [
    "np.mean(map(lambda l: np.log(l), lifts.values()))"
   ]
  },
  {
   "cell_type": "markdown",
   "metadata": {},
   "source": [
    "## Compute Relative Class Frequencies At Word and Sentence Levels (Class Imbalances)"
   ]
  },
  {
   "cell_type": "code",
   "execution_count": 19,
   "metadata": {
    "collapsed": true,
    "jupyter": {
     "outputs_hidden": true
    }
   },
   "outputs": [],
   "source": [
    "wd_cc_tally = defaultdict(int)\n",
    "sent_cc_tally = defaultdict(int)\n",
    "wd_cnt = 0\n",
    "sent_cnt = 0\n",
    "\n",
    "for e_ix, essay in enumerate(essays):\n",
    "\n",
    "    for i, sentence in enumerate(essay.tagged_sentences):\n",
    "        sent_cnt += 1\n",
    "        sent_tags = set()\n",
    "        \n",
    "        for w, tags in sentence:\n",
    "            wd_cnt += 1\n",
    "            # Concept Codes\n",
    "            ccodes = [t for t in tags if t[0].isdigit()]\n",
    "            if ccodes:\n",
    "                for cc in ccodes:\n",
    "                    wd_cc_tally[cc] += 1\n",
    "                    sent_tags.add(cc)\n",
    "            #Causal Codes\n",
    "            #This is wrong\n",
    "            #cr_codes = [t for t in tags if t[0].isdigit() or t == \"Causer\" or t == \"Result\" or t == \"explicit\"]\n",
    "            #if cr_codes:\n",
    "                 \n",
    "        if len(sent_tags) > 0:\n",
    "            for tag in sent_tags:\n",
    "                sent_cc_tally[tag] +=1            "
   ]
  },
  {
   "cell_type": "code",
   "execution_count": 20,
   "metadata": {},
   "outputs": [
    {
     "name": "stdout",
     "output_type": "stream",
     "text": [
      "(167874, 10210)\n",
      "1   & 3.32 & 12.69 \\\\\n",
      "2   & 0.85 & 2.26 \\\\\n",
      "3   & 5.36 & 14.61 \\\\\n",
      "4   & 1.89 & 5.41 \\\\\n",
      "5   & 1.45 & 6.25 \\\\\n",
      "5b  & 1.45 & 2.70 \\\\\n",
      "6   & 0.88 & 4.01 \\\\\n",
      "7   & 3.03 & 9.17 \\\\\n",
      "11  & 0.63 & 3.66 \\\\\n",
      "12  & 0.51 & 1.22 \\\\\n",
      "13  & 1.34 & 4.92 \\\\\n",
      "14  & 1.47 & 3.34 \\\\\n",
      "50  & 8.86 & 39.38 \\\\\n"
     ]
    }
   ],
   "source": [
    "print(wd_cnt, sent_cnt)\n",
    "#Code, Number of Words, Proportion\n",
    "for code, wd_tally in sorted(wd_cc_tally.items(), key = lambda tpl: int(tpl[0].replace(\"b\",\"\"))):\n",
    "    wd_pct = 100* (float(wd_tally) / wd_cnt)\n",
    "    sent_pct = 100*(float(sent_cc_tally[code]) / sent_cnt)\n",
    "    #print(code.ljust(2), str(tally).ljust(6), \"{0:.4f}\".format(float(tally)/wd_cnt))\n",
    "    # Print Latex Output (Near End of chapter 2)\n",
    "    print(\"{code} & {wd_pct:.2f} & {sent_pct:.2f} \\\\\\\\\".format(code=code.ljust(3),wd_pct=wd_pct, sent_pct=sent_pct))"
   ]
  },
  {
   "cell_type": "markdown",
   "metadata": {},
   "source": [
    "### Print Counts for Metrics By Class Notebook (See Mongo Queries)"
   ]
  },
  {
   "cell_type": "code",
   "execution_count": 21,
   "metadata": {},
   "outputs": [
    {
     "name": "stdout",
     "output_type": "stream",
     "text": [
      "167874\n",
      "\n",
      "{'1': 5581,\n",
      " '11': 1052,\n",
      " '12': 851,\n",
      " '13': 2244,\n",
      " '14': 2470,\n",
      " '2': 1426,\n",
      " '3': 8998,\n",
      " '4': 3165,\n",
      " '5': 2440,\n",
      " '50': 14873,\n",
      " '5b': 2434,\n",
      " '6': 1471,\n",
      " '7': 5091}\n"
     ]
    }
   ],
   "source": [
    "from pprint import pprint\n",
    "print(wd_cnt)\n",
    "print(\"\")\n",
    "pprint(dict(wd_cc_tally))"
   ]
  },
  {
   "cell_type": "markdown",
   "metadata": {},
   "source": [
    "## Compute Relative Frequencies of Each Causal Relation (Word and Sentence Level)"
   ]
  },
  {
   "cell_type": "code",
   "execution_count": 22,
   "metadata": {
    "collapsed": true,
    "jupyter": {
     "outputs_hidden": true
    }
   },
   "outputs": [],
   "source": [
    "wd_cr_tally = defaultdict(int)\n",
    "sent_cr_tally = defaultdict(int)\n",
    "wd_cr_cnt = 0\n",
    "sent_cr_cnt = 0\n",
    "\n",
    "for e_ix, essay in enumerate(essays):\n",
    "\n",
    "    for i, sentence in enumerate(essay.tagged_sentences):\n",
    "        sent_cr_cnt += 1\n",
    "        sent_tags = set()\n",
    "        sent_cr_tags = set()\n",
    "        \n",
    "        for w, tags in sentence:\n",
    "            wd_cr_cnt += 1\n",
    "            # Concept Codes\n",
    "            cr_codes = list((t for t in tags if ( \"->\" in t) and not \"factor\" in t and not \"Anaphor\" in t and not \"other\" in t and not \"rhetorical\" in t))\n",
    "            if cr_codes:\n",
    "                for cr in cr_codes:\n",
    "                    wd_cr_tally[cr] += 1\n",
    "                    sent_tags.add(cr)           \n",
    "        if len(sent_tags) > 0:\n",
    "            for tag in sent_tags:\n",
    "                sent_cr_tally[tag] +=1            "
   ]
  },
  {
   "cell_type": "code",
   "execution_count": 23,
   "metadata": {
    "collapsed": true,
    "jupyter": {
     "outputs_hidden": true
    }
   },
   "outputs": [],
   "source": [
    "def cc_to_float(cc):\n",
    "    if \"b\" in cc:\n",
    "        cc = cc.replace(\"b\",\"\")\n",
    "        cc += \".1\"\n",
    "    return float(cc)\n",
    "\n",
    "def sort_key(tpl):\n",
    "    cr,cnt = tpl\n",
    "    cr = cr.replace(\"Causer:\",\"\")\n",
    "    cr = cr.replace(\"Result:\",\"\")\n",
    "    l,r = cr.split(\"->\")\n",
    "    l,r = cc_to_float(l), cc_to_float(r)\n",
    "    return (l,r)\n",
    "\n",
    "srtd_cnts = sorted(wd_cr_tally.items(), key = sort_key)\n",
    "\n",
    "prev = \"\"\n",
    "\n",
    "lines = []\n",
    "for cr, wd_tally in srtd_cnts:\n",
    "    l,r = cr.split(\"->\")\n",
    "    if l != prev:\n",
    "        #print(\"\\cmidrule{1-3}\")\n",
    "        prev = l\n",
    "    wd_pct = 100 * (float(wd_tally) / wd_cr_cnt)\n",
    "    sent_pct = 100 *(float(sent_cr_tally[cr]) / sent_cnt)\n",
    "    # Print Latex Output (Near End of chapter 2)\n",
    "    cr = cr.replace(\"->\",\"\\\\textrightarrow \")\n",
    "    cr = cr.replace(\"Causer:\",\"\").replace(\"Result:\",\"\")\n",
    "    lines.append(\"{cr} & {wd_pct:.2f} & {sent_pct:.2f}\".format(cr=cr.ljust(25),wd_pct=wd_pct, sent_pct=sent_pct))"
   ]
  },
  {
   "cell_type": "code",
   "execution_count": 24,
   "metadata": {},
   "outputs": [
    {
     "data": {
      "text/plain": [
       "86"
      ]
     },
     "execution_count": 24,
     "metadata": {},
     "output_type": "execute_result"
    }
   ],
   "source": [
    "len(lines)"
   ]
  },
  {
   "cell_type": "code",
   "execution_count": 25,
   "metadata": {},
   "outputs": [
    {
     "name": "stdout",
     "output_type": "stream",
     "text": [
      "1\\textrightarrow 2        & 0.70 & 1.05 & & 5b\\textrightarrow 14      & 0.01 & 0.02 \\\\\n",
      "1\\textrightarrow 3        & 1.75 & 2.60 & & 5b\\textrightarrow 50      & 0.27 & 0.35 \\\\\n",
      "1\\textrightarrow 4        & 0.05 & 0.08 & & 6\\textrightarrow 5        & 0.01 & 0.01 \\\\\n",
      "1\\textrightarrow 5        & 0.04 & 0.06 & & 6\\textrightarrow 5b       & 0.00 & 0.01 \\\\\n",
      "1\\textrightarrow 6        & 0.00 & 0.01 & & 6\\textrightarrow 7        & 1.17 & 1.52 \\\\\n",
      "1\\textrightarrow 7        & 0.05 & 0.07 & & 6\\textrightarrow 14       & 0.41 & 0.55 \\\\\n",
      "1\\textrightarrow 11       & 0.01 & 0.01 & & 6\\textrightarrow 50       & 0.48 & 0.73 \\\\\n",
      "1\\textrightarrow 13       & 0.02 & 0.02 & & 7\\textrightarrow 1        & 0.01 & 0.01 \\\\\n",
      "1\\textrightarrow 14       & 0.02 & 0.03 & & 7\\textrightarrow 4        & 0.01 & 0.01 \\\\\n",
      "1\\textrightarrow 50       & 2.57 & 4.26 & & 7\\textrightarrow 5        & 0.01 & 0.01 \\\\\n",
      "2\\textrightarrow 1        & 0.01 & 0.01 & & 7\\textrightarrow 5b       & 0.03 & 0.04 \\\\\n",
      "2\\textrightarrow 3        & 0.41 & 0.50 & & 7\\textrightarrow 13       & 0.01 & 0.01 \\\\\n",
      "2\\textrightarrow 6        & 0.01 & 0.01 & & 7\\textrightarrow 14       & 0.03 & 0.05 \\\\\n",
      "2\\textrightarrow 50       & 0.07 & 0.08 & & 7\\textrightarrow 50       & 3.32 & 4.78 \\\\\n",
      "3\\textrightarrow 1        & 0.11 & 0.19 & & 11\\textrightarrow 3       & 0.03 & 0.06 \\\\\n",
      "3\\textrightarrow 2        & 0.01 & 0.01 & & 11\\textrightarrow 4       & 0.01 & 0.02 \\\\\n",
      "3\\textrightarrow 4        & 0.94 & 1.58 & & 11\\textrightarrow 6       & 0.02 & 0.03 \\\\\n",
      "3\\textrightarrow 5        & 0.94 & 1.25 & & 11\\textrightarrow 11      & 0.00 & 0.01 \\\\\n",
      "3\\textrightarrow 5b       & 0.03 & 0.03 & & 11\\textrightarrow 12      & 0.53 & 0.86 \\\\\n",
      "3\\textrightarrow 6        & 0.10 & 0.15 & & 11\\textrightarrow 13      & 0.72 & 1.06 \\\\\n",
      "3\\textrightarrow 7        & 0.18 & 0.24 & & 11\\textrightarrow 14      & 0.10 & 0.19 \\\\\n",
      "3\\textrightarrow 13       & 0.02 & 0.04 & & 11\\textrightarrow 50      & 0.40 & 0.71 \\\\\n",
      "3\\textrightarrow 14       & 0.05 & 0.06 & & 12\\textrightarrow 5b      & 0.01 & 0.01 \\\\\n",
      "3\\textrightarrow 50       & 2.48 & 3.84 & & 12\\textrightarrow 7       & 0.02 & 0.03 \\\\\n",
      "4\\textrightarrow 3        & 0.01 & 0.02 & & 12\\textrightarrow 11      & 0.01 & 0.01 \\\\\n",
      "4\\textrightarrow 5        & 0.57 & 0.80 & & 12\\textrightarrow 13      & 0.64 & 0.82 \\\\\n",
      "4\\textrightarrow 5b       & 0.17 & 0.19 & & 12\\textrightarrow 14      & 0.04 & 0.05 \\\\\n",
      "4\\textrightarrow 6        & 0.01 & 0.01 & & 12\\textrightarrow 50      & 0.06 & 0.07 \\\\\n",
      "4\\textrightarrow 7        & 0.06 & 0.08 & & 13\\textrightarrow 4       & 0.01 & 0.01 \\\\\n",
      "4\\textrightarrow 11       & 0.01 & 0.01 & & 13\\textrightarrow 5       & 0.01 & 0.01 \\\\\n",
      "4\\textrightarrow 13       & 0.01 & 0.01 & & 13\\textrightarrow 6       & 0.03 & 0.03 \\\\\n",
      "4\\textrightarrow 14       & 0.72 & 0.87 & & 13\\textrightarrow 7       & 0.02 & 0.04 \\\\\n",
      "4\\textrightarrow 50       & 0.77 & 1.01 & & 13\\textrightarrow 11      & 0.02 & 0.04 \\\\\n",
      "5\\textrightarrow 3        & 0.01 & 0.02 & & 13\\textrightarrow 12      & 0.02 & 0.03 \\\\\n",
      "5\\textrightarrow 4        & 0.01 & 0.01 & & 13\\textrightarrow 14      & 0.63 & 0.93 \\\\\n",
      "5\\textrightarrow 5b       & 0.30 & 0.37 & & 13\\textrightarrow 50      & 0.66 & 0.97 \\\\\n",
      "5\\textrightarrow 7        & 0.09 & 0.16 & & 14\\textrightarrow 6       & 0.01 & 0.01 \\\\\n",
      "5\\textrightarrow 11       & 0.01 & 0.01 & & 14\\textrightarrow 7       & 0.03 & 0.03 \\\\\n",
      "5\\textrightarrow 13       & 0.01 & 0.01 & & 14\\textrightarrow 50      & 0.61 & 0.58 \\\\\n",
      "5\\textrightarrow 14       & 0.01 & 0.03 & & 50\\textrightarrow 1       & 0.02 & 0.03 \\\\\n",
      "5\\textrightarrow 50       & 0.36 & 0.57 & & 50\\textrightarrow 3       & 0.01 & 0.02 \\\\\n",
      "5b\\textrightarrow 5       & 0.03 & 0.04 & & 50\\textrightarrow 7       & 0.04 & 0.08 \\\\\n",
      "5b\\textrightarrow 7       & 0.07 & 0.09 & & 50\\textrightarrow 50      & 0.01 & 0.03 \\\\\n"
     ]
    }
   ],
   "source": [
    "half = int(len(lines)+1)//2\n",
    "if len(lines) % 2 != 0:\n",
    "    half += 1\n",
    "\n",
    "for i in range(0,half):\n",
    "    left = lines[i]\n",
    "    right = \"\"\n",
    "    if i + half  < (len(lines)):\n",
    "        right = lines[i+half]\n",
    "    print(left + \" & & \" + right + \" \\\\\\\\\")"
   ]
  },
  {
   "cell_type": "markdown",
   "metadata": {},
   "source": [
    "## Compute Aggregate Frequences of Concept Codes (Word and Sentence Level)"
   ]
  },
  {
   "cell_type": "code",
   "execution_count": 100,
   "metadata": {},
   "outputs": [
    {
     "name": "stdout",
     "output_type": "stream",
     "text": [
      "[0, 1, 2, 3, 4, 5, 6, 7, 8, 9]\n",
      "9\n",
      "[0, 1, 2, 3, 4, 5, 6, 7, 8]\n"
     ]
    }
   ],
   "source": [
    "l = list(range(10))\n",
    "print(l)\n",
    "l.pop?\n",
    "print(l.pop())\n",
    "print(l)"
   ]
  },
  {
   "cell_type": "code",
   "execution_count": 109,
   "metadata": {
    "collapsed": true,
    "jupyter": {
     "outputs_hidden": true
    }
   },
   "outputs": [],
   "source": [
    "num_sents = 0\n",
    "sents_with_codes = 0\n",
    "# sents where one or more words has overlapping codes\n",
    "sents_with_overlapping_codes = 0\n",
    "# sents with >1 code\n",
    "sents_with_multiple_codes = 0\n",
    "\n",
    "num_words = 0\n",
    "words_with_codes = 0\n",
    "words_with_overlapping_codes = 0\n",
    "\n",
    "seq_lens = defaultdict(list)\n",
    "long_seqs = defaultdict(set)\n",
    "\n",
    "for e_ix, essay in enumerate(essays):\n",
    "    for i, sentence in enumerate(essay.tagged_sentences):    \n",
    "        has_code_in_sent = False\n",
    "        has_overlapping_codes_in_sent = False\n",
    "        unique_ccodes = set()\n",
    "        \n",
    "        last_ccodes = set()\n",
    "        for w, tags in sentence:\n",
    "            # Concept Codes\n",
    "            ccodes = set([t for t in tags if t[0].isdigit()])\n",
    "            # update word stats\n",
    "            if ccodes:\n",
    "                unique_ccodes.update(ccodes)\n",
    "                has_code_in_sent = True\n",
    "                words_with_codes +=1\n",
    "                \n",
    "                if len(ccodes) > 1:\n",
    "                    words_with_overlapping_codes +=1\n",
    "                    has_overlapping_codes_in_sent = True\n",
    "            num_words +=1\n",
    "            # end update word stats\n",
    "            \n",
    "            # Update seq length stats\n",
    "            for code in ccodes:\n",
    "                if code in last_ccodes:\n",
    "                    # get list\n",
    "                    lst = seq_lens[code]\n",
    "                    # remove last entry\n",
    "                    last_item = lst.pop()\n",
    "                    lst.append(last_item+1)\n",
    "                    # store indexes for debugging\n",
    "                    #if last_item > 15:\n",
    "                    #    long_seqs[code].add((e_ix,i))\n",
    "                else:\n",
    "                    seq_lens[code].append(1)\n",
    "            # reset last_ccodes\n",
    "            last_ccodes = ccodes            \n",
    "            # end update seq length stats\n",
    "        # update sent stats\n",
    "        if has_code_in_sent:\n",
    "            sents_with_codes +=1\n",
    "            if has_overlapping_codes_in_sent:\n",
    "                sents_with_overlapping_codes +=1\n",
    "            if len(unique_ccodes) > 1:\n",
    "                sents_with_multiple_codes +=1\n",
    "        num_sents +=1\n",
    "        # end update sent       "
   ]
  },
  {
   "cell_type": "code",
   "execution_count": 75,
   "metadata": {},
   "outputs": [
    {
     "data": {
      "text/plain": [
       "(167874, 52084, 12)"
      ]
     },
     "execution_count": 75,
     "metadata": {},
     "output_type": "execute_result"
    }
   ],
   "source": [
    "num_words, words_with_codes, words_with_overlapping_codes"
   ]
  },
  {
   "cell_type": "code",
   "execution_count": 86,
   "metadata": {},
   "outputs": [
    {
     "data": {
      "text/plain": [
       "(10210, 7094, 7, 3138)"
      ]
     },
     "execution_count": 86,
     "metadata": {},
     "output_type": "execute_result"
    }
   ],
   "source": [
    "num_sents, sents_with_codes, sents_with_overlapping_codes, sents_with_multiple_codes"
   ]
  },
  {
   "cell_type": "code",
   "execution_count": 90,
   "metadata": {},
   "outputs": [
    {
     "name": "stdout",
     "output_type": "stream",
     "text": [
      "% words with codes: \t \t \t31.026%\n",
      "% words with multiple codes: \t \t0.0071%\n",
      "\n",
      "% sents with codes: \t \t \t69.481%\n",
      "% sents with wds. with mult. codes: \t0.069%\n",
      "% sents with multiple codes: \t \t30.735%\n"
     ]
    }
   ],
   "source": [
    "from __future__ import division\n",
    "\n",
    "print(\"% words with codes: \\t \\t \\t{pct:.3f}%\".format(pct=100*words_with_codes/ num_words) )\n",
    "print(\"% words with multiple codes: \\t \\t{pct:.4f}%\".format(pct=100*words_with_overlapping_codes/ num_words) )\n",
    "print(\"\")\n",
    "print(\"% sents with codes: \\t \\t \\t{pct:.3f}%\".format(pct=100*sents_with_codes/ num_sents) )\n",
    "print(\"% sents with wds. with mult. codes: \\t{pct:.3f}%\".format(pct=100*sents_with_overlapping_codes/ num_sents) )\n",
    "print(\"% sents with multiple codes: \\t \\t{pct:.3f}%\".format(pct=100*sents_with_multiple_codes/ num_sents) )\n"
   ]
  },
  {
   "cell_type": "markdown",
   "metadata": {},
   "source": [
    "### Sequence Lengths"
   ]
  },
  {
   "cell_type": "code",
   "execution_count": 127,
   "metadata": {},
   "outputs": [
    {
     "name": "stdout",
     "output_type": "stream",
     "text": [
      "1          - 3.88\n",
      "11         - 2.47\n",
      "12         - 6.60\n",
      "13         - 4.01\n",
      "14         - 7.06\n",
      "2          - 5.75\n",
      "3          - 4.31\n",
      "4          - 4.91\n",
      "5          - 3.59\n",
      "50         - 3.32\n",
      "5b         - 6.26\n",
      "6          - 3.45\n",
      "7          - 4.40\n",
      "\n",
      "All        - 4.00\n"
     ]
    }
   ],
   "source": [
    "all_lens = []\n",
    "for code in sorted(seq_lens.keys()):\n",
    "    print(\"{code} - {mean_len:.2f}\".format(code=code.ljust(10), mean_len=np.mean(seq_lens[code])))\n",
    "    all_lens.extend(seq_lens[code])\n",
    "print\n",
    "print(\"{code} - {mean_len:.2f}\".format(code=\"All\".ljust(10), mean_len=np.mean(all_lens)))"
   ]
  },
  {
   "cell_type": "markdown",
   "metadata": {},
   "source": [
    "## Compute Aggregate Frequencies of Causal Relations (Word and Sentence Level)"
   ]
  },
  {
   "cell_type": "code",
   "execution_count": 136,
   "metadata": {},
   "outputs": [],
   "source": [
    "num_sents = 0\n",
    "sents_with_causal = 0\n",
    "sents_with_overlapping_causal = 0\n",
    "sents_with_multiple_causal = 0\n",
    "\n",
    "num_words = 0\n",
    "words_with_causal = 0\n",
    "words_with_overlapping_causal = 0\n",
    "\n",
    "cr_sents = []\n",
    "\n",
    "cr_seq_lens = defaultdict(list)\n",
    "\n",
    "for e_ix, essay in enumerate(essays):\n",
    "\n",
    "    for i, sentence in enumerate(essay.tagged_sentences):    \n",
    "        has_cr_in_sent = False\n",
    "        has_overlapping_cr_in_sent = False\n",
    "        unique_causal = set()\n",
    "        cr_codes_seq = []\n",
    "        \n",
    "        for w, tags in sentence:\n",
    "            # Concept Codes\n",
    "            cr_codes = set((t for t in tags if ( \"->\" in t) \n",
    "                             and not \"factor\" in t \n",
    "                             and not \"Anaphor\" in t \n",
    "                             and not \"other\" in t \n",
    "                             and not \"rhetorical\" in t))\n",
    "            # update word stats\n",
    "            if cr_codes:\n",
    "                unique_causal.update(cr_codes)\n",
    "                has_cr_in_sent = True\n",
    "                words_with_causal +=1\n",
    "                \n",
    "                if len(cr_codes) > 1:\n",
    "                    words_with_overlapping_causal +=1\n",
    "                    has_overlapping_cr_in_sent = True\n",
    "            num_words +=1\n",
    "            # end update word stats\n",
    "            \n",
    "            # Update seq length stats\n",
    "            for code in cr_codes:\n",
    "                # go upto 2 back as can be 1 word gaps for punct\n",
    "                if (len(cr_codes_seq) > 0 and code in cr_codes_seq[-1]) \\\n",
    "                    or (len(cr_codes_seq) > 1 and code in cr_codes_seq[-2]):\n",
    "                    # get list\n",
    "                    lst = cr_seq_lens[code]\n",
    "                    # remove last entry\n",
    "                    last_item = lst.pop()\n",
    "                    lst.append(last_item+1)\n",
    "                else:\n",
    "                    cr_seq_lens[code].append(1)\n",
    "            # reset last_ccodes\n",
    "            cr_codes_seq.append(cr_codes)\n",
    "                    \n",
    "        # update sent stats\n",
    "        if has_cr_in_sent:\n",
    "            cr_sents.append(sentence)\n",
    "            sents_with_causal +=1\n",
    "            if has_overlapping_cr_in_sent:\n",
    "                sents_with_overlapping_causal +=1\n",
    "            if len(unique_causal) > 1:\n",
    "                sents_with_multiple_causal +=1\n",
    "        num_sents +=1\n",
    "        # end update sent       "
   ]
  },
  {
   "cell_type": "code",
   "execution_count": 129,
   "metadata": {},
   "outputs": [
    {
     "data": {
      "text/plain": [
       "(167874, 0.21061629555499958)"
      ]
     },
     "execution_count": 129,
     "metadata": {},
     "output_type": "execute_result"
    }
   ],
   "source": [
    "num_words, words_with_causal/float(num_words)"
   ]
  },
  {
   "cell_type": "code",
   "execution_count": 130,
   "metadata": {},
   "outputs": [
    {
     "data": {
      "text/plain": [
       "(10210, 0.272771792360431)"
      ]
     },
     "execution_count": 130,
     "metadata": {},
     "output_type": "execute_result"
    }
   ],
   "source": [
    "num_sents, sents_with_causal/ float(num_sents)"
   ]
  },
  {
   "cell_type": "code",
   "execution_count": 131,
   "metadata": {},
   "outputs": [
    {
     "data": {
      "text/plain": [
       "(167874, 35357, 4892, 0.1383601549905252)"
      ]
     },
     "execution_count": 131,
     "metadata": {},
     "output_type": "execute_result"
    }
   ],
   "source": [
    "num_words, words_with_causal, words_with_overlapping_causal, words_with_overlapping_causal/float(words_with_causal)"
   ]
  },
  {
   "cell_type": "code",
   "execution_count": 132,
   "metadata": {},
   "outputs": [
    {
     "data": {
      "text/plain": [
       "(10210, 2785, 621, 678, 0.2229802513464991)"
      ]
     },
     "execution_count": 132,
     "metadata": {},
     "output_type": "execute_result"
    }
   ],
   "source": [
    "num_sents, sents_with_causal, sents_with_overlapping_causal, sents_with_multiple_causal, sents_with_overlapping_causal/ float(sents_with_causal)"
   ]
  },
  {
   "cell_type": "code",
   "execution_count": 133,
   "metadata": {},
   "outputs": [
    {
     "name": "stdout",
     "output_type": "stream",
     "text": [
      "% words with cr codes: \t \t \t 21.0616%\n",
      "% words with multiple cr codes: \t 2.9141%\n",
      "\n",
      "% sents with cr codes: \t \t \t 27.2772%\n",
      "% sents with multiple cr codes: \t 6.6405%\n"
     ]
    }
   ],
   "source": [
    "from __future__ import division\n",
    "\n",
    "print(\"% words with cr codes: \\t \\t \\t {pct:.4f}%\".format(pct=100*words_with_causal/ num_words) )\n",
    "print(\"% words with multiple cr codes: \\t {pct:.4f}%\".format(pct=100*words_with_overlapping_causal/ num_words) )\n",
    "print(\"\")\n",
    "print(\"% sents with cr codes: \\t \\t \\t {pct:.4f}%\".format(pct=100*sents_with_causal/ num_sents) )\n",
    "print(\"% sents with multiple cr codes: \\t {pct:.4f}%\".format(pct=100*sents_with_multiple_causal/ num_sents) )\n"
   ]
  },
  {
   "cell_type": "markdown",
   "metadata": {},
   "source": [
    "### Causal Relation Sequence Lengths"
   ]
  },
  {
   "cell_type": "code",
   "execution_count": 137,
   "metadata": {},
   "outputs": [
    {
     "name": "stdout",
     "output_type": "stream",
     "text": [
      "All        - 11.17\n"
     ]
    }
   ],
   "source": [
    "all_cr_lens = []\n",
    "for code in sorted(cr_seq_lens.keys()):\n",
    "    #print(\"{code} - {mean_len:.2f}\".format(code=code.ljust(10), mean_len=np.mean(cr_seq_lens[code])))\n",
    "    all_cr_lens.extend(cr_seq_lens[code])\n",
    "print(\"{code} - {mean_len:.2f}\".format(code=\"All\".ljust(10), mean_len=np.mean(all_cr_lens)))"
   ]
  },
  {
   "cell_type": "code",
   "execution_count": null,
   "metadata": {
    "collapsed": true,
    "jupyter": {
     "outputs_hidden": true
    }
   },
   "outputs": [],
   "source": []
  }
 ],
 "metadata": {
  "kernelspec": {
   "display_name": "Python 3",
   "language": "python",
   "name": "python3"
  },
  "language_info": {
   "codemirror_mode": {
    "name": "ipython",
    "version": 3
   },
   "file_extension": ".py",
   "mimetype": "text/x-python",
   "name": "python",
   "nbconvert_exporter": "python",
   "pygments_lexer": "ipython3",
   "version": "3.6.2"
  }
 },
 "nbformat": 4,
 "nbformat_minor": 4
}
