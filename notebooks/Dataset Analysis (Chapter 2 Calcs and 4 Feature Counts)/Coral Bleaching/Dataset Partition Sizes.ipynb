{
 "cells": [
  {
   "cell_type": "markdown",
   "metadata": {},
   "source": [
    "The size of the train, and test splits, and the token counts and vocab sizes can be found here:\n",
    "https://github.com/simonhughes22/PythonNlpResearch/blob/master/notebooks/Compute%20Train%20and%20Test%20Token%20Counts.ipynb"
   ]
  },
  {
   "cell_type": "markdown",
   "metadata": {},
   "source": [
    "i.e. in the root notebooks folder - Computer Train and Test Token Sizes.ipynb"
   ]
  },
  {
   "cell_type": "code",
   "execution_count": null,
   "metadata": {},
   "outputs": [],
   "source": []
  }
 ],
 "metadata": {
  "kernelspec": {
   "display_name": "Python 3",
   "language": "python",
   "name": "python3"
  },
  "language_info": {
   "codemirror_mode": {
    "name": "ipython",
    "version": 3
   },
   "file_extension": ".py",
   "mimetype": "text/x-python",
   "name": "python",
   "nbconvert_exporter": "python",
   "pygments_lexer": "ipython3",
   "version": "3.6.2"
  }
 },
 "nbformat": 4,
 "nbformat_minor": 4
}
