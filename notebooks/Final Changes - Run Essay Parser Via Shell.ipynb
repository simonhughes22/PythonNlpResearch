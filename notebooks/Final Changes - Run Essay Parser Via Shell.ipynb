{
 "cells": [
  {
   "cell_type": "code",
   "execution_count": 1,
   "metadata": {},
   "outputs": [
    {
     "name": "stdout",
     "output_type": "stream",
     "text": [
      "/Users/simon.hughes/anaconda3/envs/phd_py36/bin/python\r\n"
     ]
    }
   ],
   "source": [
    "!which python"
   ]
  },
  {
   "cell_type": "code",
   "execution_count": 2,
   "metadata": {},
   "outputs": [
    {
     "name": "stdout",
     "output_type": "stream",
     "text": [
      "Python 3.6.2 :: Continuum Analytics, Inc.\r\n"
     ]
    }
   ],
   "source": [
    "!python -V"
   ]
  },
  {
   "cell_type": "code",
   "execution_count": 3,
   "metadata": {},
   "outputs": [],
   "source": [
    "!source ../setup_paths.sh"
   ]
  },
  {
   "cell_type": "markdown",
   "metadata": {},
   "source": [
    "## Coral Bleaching"
   ]
  },
  {
   "cell_type": "code",
   "execution_count": 4,
   "metadata": {},
   "outputs": [
    {
     "name": "stdout",
     "output_type": "stream",
     "text": [
      "Results Dir: /Users/simon.hughes/Google Drive/Phd/Results/\n",
      "Data Dir:    /Users/simon.hughes/Google Drive/Phd/Data/\n",
      "Root Dir:    /Users/simon.hughes/GitHub/NlpResearch/\n",
      "Public Data: /Users/simon.hughes/GitHub/NlpResearch/Data/PublicDatasets/\n",
      "2019-10-09 10:35:57,315 : INFO : Started at: 2019-10-09 10:35:57.315808\n",
      "2019-10-09 10:35:57,315 : INFO : Number of pred tagged essays 902\n",
      "2019-10-09 10:35:57,367 : INFO : ********************************************************************************\n",
      "2019-10-09 10:35:57,367 : INFO : NGRAM SIZE: 1\n",
      "2019-10-09 10:35:57,367 : INFO : ********************************************************************************\n",
      "2019-10-09 10:35:57,367 : INFO : Stemmed: True\n",
      "2019-10-09 10:35:57,367 : INFO : \tEvaluating parameters: beta=0.5 max_epochs=10 dual=True, C=0.1, penalty=l2, fit_intercept=True\n",
      "2019-10-09 10:35:57,367 : INFO : \tExtractors: single_words,between_word_features,label_set,three_words,third_order,unigrams,gbl_causal_features,gbl_ratio_features\n",
      "2019-10-09 10:46:08,591 : INFO : \t\tMean num feats: 103695.00\n",
      "2019-10-09 10:46:09,653 : INFO : \t\tMicro F1: 0.748134328358209 NEW BEST ******************************\n"
     ]
    }
   ],
   "source": [
    "!python \"/Users/simon.hughes/GitHub/NlpResearch/PythonNlpResearch/Experiments/CoralBleachingCausalModel/Essay Model/train_causal_relation_extractor_hyper_param_tuning_TEST.py\""
   ]
  },
  {
   "cell_type": "code",
   "execution_count": 5,
   "metadata": {},
   "outputs": [
    {
     "name": "stdout",
     "output_type": "stream",
     "text": [
      "Results Dir: /Users/simon.hughes/Google Drive/Phd/Results/\n",
      "Data Dir:    /Users/simon.hughes/Google Drive/Phd/Data/\n",
      "Root Dir:    /Users/simon.hughes/GitHub/NlpResearch/\n",
      "Public Data: /Users/simon.hughes/GitHub/NlpResearch/Data/PublicDatasets/\n",
      "2019-10-09 10:46:15,443 : INFO : Started at: 2019-10-09 10:46:15.443717\n",
      "2019-10-09 10:46:15,443 : INFO : Number of pred tagged essays 902\n",
      "2019-10-09 10:46:15,495 : INFO : ********************************************************************************\n",
      "2019-10-09 10:46:15,495 : INFO : NGRAM SIZE: 1\n",
      "2019-10-09 10:46:15,495 : INFO : ********************************************************************************\n",
      "2019-10-09 10:46:15,495 : INFO : Stemmed: True\n",
      "2019-10-09 10:46:15,496 : INFO : \tEvaluating parameters: beta=0.5 max_epochs=10 dual=True, C=0.1, penalty=l2, fit_intercept=True\n",
      "2019-10-09 10:46:15,496 : INFO : \tExtractors: single_words,between_word_features,label_set,three_words,third_order,unigrams,gbl_causal_features,gbl_ratio_features\n",
      "2019-10-09 10:56:07,818 : INFO : \t\tMean num feats: 101716.00\n",
      "2019-10-09 10:56:08,876 : INFO : \t\tMicro F1: 0.7444029850746268 NEW BEST ******************************\n"
     ]
    }
   ],
   "source": [
    "!python \"/Users/simon.hughes/GitHub/NlpResearch/PythonNlpResearch/Experiments/CoralBleachingCausalModel/Essay Model/train_causal_relation_extractor_hyper_param_tuning_TEST.py\""
   ]
  },
  {
   "cell_type": "code",
   "execution_count": 6,
   "metadata": {},
   "outputs": [
    {
     "name": "stdout",
     "output_type": "stream",
     "text": [
      "Results Dir: /Users/simon.hughes/Google Drive/Phd/Results/\n",
      "Data Dir:    /Users/simon.hughes/Google Drive/Phd/Data/\n",
      "Root Dir:    /Users/simon.hughes/GitHub/NlpResearch/\n",
      "Public Data: /Users/simon.hughes/GitHub/NlpResearch/Data/PublicDatasets/\n",
      "2019-10-09 10:56:15,035 : INFO : Started at: 2019-10-09 10:56:15.035257\n",
      "2019-10-09 10:56:15,035 : INFO : Number of pred tagged essays 902\n",
      "2019-10-09 10:56:15,086 : INFO : ********************************************************************************\n",
      "2019-10-09 10:56:15,086 : INFO : NGRAM SIZE: 1\n",
      "2019-10-09 10:56:15,086 : INFO : ********************************************************************************\n",
      "2019-10-09 10:56:15,086 : INFO : Stemmed: True\n",
      "2019-10-09 10:56:15,086 : INFO : \tEvaluating parameters: beta=0.5 max_epochs=10 dual=True, C=0.1, penalty=l2, fit_intercept=True\n",
      "2019-10-09 10:56:15,086 : INFO : \tExtractors: single_words,between_word_features,label_set,three_words,third_order,unigrams,gbl_causal_features,gbl_ratio_features\n",
      "2019-10-09 11:06:02,831 : INFO : \t\tMean num feats: 103995.00\n",
      "2019-10-09 11:06:03,945 : INFO : \t\tMicro F1: 0.7457943925233644 NEW BEST ******************************\n"
     ]
    }
   ],
   "source": [
    "!python \"/Users/simon.hughes/GitHub/NlpResearch/PythonNlpResearch/Experiments/CoralBleachingCausalModel/Essay Model/train_causal_relation_extractor_hyper_param_tuning_TEST.py\""
   ]
  },
  {
   "cell_type": "code",
   "execution_count": 7,
   "metadata": {},
   "outputs": [
    {
     "name": "stdout",
     "output_type": "stream",
     "text": [
      "Results Dir: /Users/simon.hughes/Google Drive/Phd/Results/\n",
      "Data Dir:    /Users/simon.hughes/Google Drive/Phd/Data/\n",
      "Root Dir:    /Users/simon.hughes/GitHub/NlpResearch/\n",
      "Public Data: /Users/simon.hughes/GitHub/NlpResearch/Data/PublicDatasets/\n",
      "2019-10-09 11:06:09,829 : INFO : Started at: 2019-10-09 11:06:09.829150\n",
      "2019-10-09 11:06:09,829 : INFO : Number of pred tagged essays 902\n",
      "2019-10-09 11:06:09,877 : INFO : ********************************************************************************\n",
      "2019-10-09 11:06:09,877 : INFO : NGRAM SIZE: 1\n",
      "2019-10-09 11:06:09,877 : INFO : ********************************************************************************\n",
      "2019-10-09 11:06:09,877 : INFO : Stemmed: True\n",
      "2019-10-09 11:06:09,877 : INFO : \tEvaluating parameters: beta=0.5 max_epochs=10 dual=True, C=0.1, penalty=l2, fit_intercept=True\n",
      "2019-10-09 11:06:09,877 : INFO : \tExtractors: single_words,between_word_features,label_set,three_words,third_order,unigrams,gbl_causal_features,gbl_ratio_features\n",
      "2019-10-09 11:15:52,749 : INFO : \t\tMean num feats: 103679.00\n",
      "2019-10-09 11:15:53,862 : INFO : \t\tMicro F1: 0.739292364990689 NEW BEST ******************************\n"
     ]
    }
   ],
   "source": [
    "!python \"/Users/simon.hughes/GitHub/NlpResearch/PythonNlpResearch/Experiments/CoralBleachingCausalModel/Essay Model/train_causal_relation_extractor_hyper_param_tuning_TEST.py\""
   ]
  },
  {
   "cell_type": "code",
   "execution_count": 8,
   "metadata": {},
   "outputs": [
    {
     "name": "stdout",
     "output_type": "stream",
     "text": [
      "Results Dir: /Users/simon.hughes/Google Drive/Phd/Results/\n",
      "Data Dir:    /Users/simon.hughes/Google Drive/Phd/Data/\n",
      "Root Dir:    /Users/simon.hughes/GitHub/NlpResearch/\n",
      "Public Data: /Users/simon.hughes/GitHub/NlpResearch/Data/PublicDatasets/\n",
      "2019-10-09 11:15:59,537 : INFO : Started at: 2019-10-09 11:15:59.537373\n",
      "2019-10-09 11:15:59,537 : INFO : Number of pred tagged essays 902\n",
      "2019-10-09 11:15:59,588 : INFO : ********************************************************************************\n",
      "2019-10-09 11:15:59,589 : INFO : NGRAM SIZE: 1\n",
      "2019-10-09 11:15:59,589 : INFO : ********************************************************************************\n",
      "2019-10-09 11:15:59,589 : INFO : Stemmed: True\n",
      "2019-10-09 11:15:59,589 : INFO : \tEvaluating parameters: beta=0.5 max_epochs=10 dual=True, C=0.1, penalty=l2, fit_intercept=True\n",
      "2019-10-09 11:15:59,589 : INFO : \tExtractors: single_words,between_word_features,label_set,three_words,third_order,unigrams,gbl_causal_features,gbl_ratio_features\n",
      "2019-10-09 11:25:36,678 : INFO : \t\tMean num feats: 103415.00\n",
      "2019-10-09 11:25:37,713 : INFO : \t\tMicro F1: 0.7428040854224699 NEW BEST ******************************\n"
     ]
    }
   ],
   "source": [
    "!python \"/Users/simon.hughes/GitHub/NlpResearch/PythonNlpResearch/Experiments/CoralBleachingCausalModel/Essay Model/train_causal_relation_extractor_hyper_param_tuning_TEST.py\""
   ]
  },
  {
   "cell_type": "markdown",
   "metadata": {},
   "source": [
    "## Skin Cancer"
   ]
  },
  {
   "cell_type": "code",
   "execution_count": 9,
   "metadata": {},
   "outputs": [
    {
     "name": "stdout",
     "output_type": "stream",
     "text": [
      "Results Dir: /Users/simon.hughes/Google Drive/Phd/Results/\n",
      "Data Dir:    /Users/simon.hughes/Google Drive/Phd/Data/\n",
      "Root Dir:    /Users/simon.hughes/GitHub/NlpResearch/\n",
      "Public Data: /Users/simon.hughes/GitHub/NlpResearch/Data/PublicDatasets/\n",
      "2019-10-09 11:25:43,680 : INFO : Started at: 2019-10-09 11:25:43.680839\n",
      "2019-10-09 11:25:43,681 : INFO : Number of pred tagged essays 870\n",
      "2019-10-09 11:25:43,736 : INFO : ********************************************************************************\n",
      "2019-10-09 11:25:43,736 : INFO : NGRAM SIZE: 1\n",
      "2019-10-09 11:25:43,736 : INFO : ********************************************************************************\n",
      "2019-10-09 11:25:43,736 : INFO : Stemmed: True\n",
      "2019-10-09 11:25:43,736 : INFO : \tEvaluating parameters: beta=0.3 max_epochs=5 dual=True, C=0.5, penalty=l2, fit_intercept=True\n",
      "2019-10-09 11:25:43,736 : INFO : \tExtractors: three_words,between_word_features,size_features,single_words,gbl_concept_code_cnt_features,gbl_causal_features\n",
      "2019-10-09 11:32:35,222 : INFO : \t\tMean num feats: 70769.00\n",
      "2019-10-09 11:32:35,750 : INFO : \t\tMicro F1: 0.8209944751381215 NEW BEST ******************************\n"
     ]
    }
   ],
   "source": [
    "!python \"/Users/simon.hughes/GitHub/NlpResearch/PythonNlpResearch/Experiments/SkinCancerCausalModel/Essay Model/train_causal_relation_extractor_hyper_param_tuning_TEST.py\""
   ]
  },
  {
   "cell_type": "code",
   "execution_count": 10,
   "metadata": {},
   "outputs": [
    {
     "name": "stdout",
     "output_type": "stream",
     "text": [
      "Results Dir: /Users/simon.hughes/Google Drive/Phd/Results/\n",
      "Data Dir:    /Users/simon.hughes/Google Drive/Phd/Data/\n",
      "Root Dir:    /Users/simon.hughes/GitHub/NlpResearch/\n",
      "Public Data: /Users/simon.hughes/GitHub/NlpResearch/Data/PublicDatasets/\n",
      "2019-10-09 11:32:39,138 : INFO : Started at: 2019-10-09 11:32:39.138699\n",
      "2019-10-09 11:32:39,138 : INFO : Number of pred tagged essays 870\n",
      "2019-10-09 11:32:39,195 : INFO : ********************************************************************************\n",
      "2019-10-09 11:32:39,195 : INFO : NGRAM SIZE: 1\n",
      "2019-10-09 11:32:39,195 : INFO : ********************************************************************************\n",
      "2019-10-09 11:32:39,195 : INFO : Stemmed: True\n",
      "2019-10-09 11:32:39,195 : INFO : \tEvaluating parameters: beta=0.3 max_epochs=5 dual=True, C=0.5, penalty=l2, fit_intercept=True\n",
      "2019-10-09 11:32:39,196 : INFO : \tExtractors: three_words,between_word_features,size_features,single_words,gbl_concept_code_cnt_features,gbl_causal_features\n",
      "2019-10-09 11:39:25,883 : INFO : \t\tMean num feats: 69928.00\n",
      "2019-10-09 11:39:26,409 : INFO : \t\tMicro F1: 0.8202064095600218 NEW BEST ******************************\n"
     ]
    }
   ],
   "source": [
    "!python \"/Users/simon.hughes/GitHub/NlpResearch/PythonNlpResearch/Experiments/SkinCancerCausalModel/Essay Model/train_causal_relation_extractor_hyper_param_tuning_TEST.py\""
   ]
  },
  {
   "cell_type": "code",
   "execution_count": 11,
   "metadata": {},
   "outputs": [
    {
     "name": "stdout",
     "output_type": "stream",
     "text": [
      "Results Dir: /Users/simon.hughes/Google Drive/Phd/Results/\n",
      "Data Dir:    /Users/simon.hughes/Google Drive/Phd/Data/\n",
      "Root Dir:    /Users/simon.hughes/GitHub/NlpResearch/\n",
      "Public Data: /Users/simon.hughes/GitHub/NlpResearch/Data/PublicDatasets/\n",
      "2019-10-09 11:39:29,848 : INFO : Started at: 2019-10-09 11:39:29.848082\n",
      "2019-10-09 11:39:29,848 : INFO : Number of pred tagged essays 870\n",
      "2019-10-09 11:39:29,901 : INFO : ********************************************************************************\n",
      "2019-10-09 11:39:29,901 : INFO : NGRAM SIZE: 1\n",
      "2019-10-09 11:39:29,901 : INFO : ********************************************************************************\n",
      "2019-10-09 11:39:29,901 : INFO : Stemmed: True\n",
      "2019-10-09 11:39:29,902 : INFO : \tEvaluating parameters: beta=0.3 max_epochs=5 dual=True, C=0.5, penalty=l2, fit_intercept=True\n",
      "2019-10-09 11:39:29,902 : INFO : \tExtractors: three_words,between_word_features,size_features,single_words,gbl_concept_code_cnt_features,gbl_causal_features\n",
      "2019-10-09 11:46:16,187 : INFO : \t\tMean num feats: 72236.00\n",
      "2019-10-09 11:46:16,706 : INFO : \t\tMicro F1: 0.8201997780244175 NEW BEST ******************************\n"
     ]
    }
   ],
   "source": [
    "!python \"/Users/simon.hughes/GitHub/NlpResearch/PythonNlpResearch/Experiments/SkinCancerCausalModel/Essay Model/train_causal_relation_extractor_hyper_param_tuning_TEST.py\""
   ]
  },
  {
   "cell_type": "code",
   "execution_count": 12,
   "metadata": {},
   "outputs": [
    {
     "name": "stdout",
     "output_type": "stream",
     "text": [
      "Results Dir: /Users/simon.hughes/Google Drive/Phd/Results/\n",
      "Data Dir:    /Users/simon.hughes/Google Drive/Phd/Data/\n",
      "Root Dir:    /Users/simon.hughes/GitHub/NlpResearch/\n",
      "Public Data: /Users/simon.hughes/GitHub/NlpResearch/Data/PublicDatasets/\n",
      "2019-10-09 11:46:20,161 : INFO : Started at: 2019-10-09 11:46:20.161802\n",
      "2019-10-09 11:46:20,161 : INFO : Number of pred tagged essays 870\n",
      "2019-10-09 11:46:20,218 : INFO : ********************************************************************************\n",
      "2019-10-09 11:46:20,219 : INFO : NGRAM SIZE: 1\n",
      "2019-10-09 11:46:20,219 : INFO : ********************************************************************************\n",
      "2019-10-09 11:46:20,219 : INFO : Stemmed: True\n",
      "2019-10-09 11:46:20,219 : INFO : \tEvaluating parameters: beta=0.3 max_epochs=5 dual=True, C=0.5, penalty=l2, fit_intercept=True\n",
      "2019-10-09 11:46:20,219 : INFO : \tExtractors: three_words,between_word_features,size_features,single_words,gbl_concept_code_cnt_features,gbl_causal_features\n",
      "2019-10-09 11:53:07,953 : INFO : \t\tMean num feats: 69937.00\n",
      "2019-10-09 11:53:08,497 : INFO : \t\tMicro F1: 0.8148148148148148 NEW BEST ******************************\n"
     ]
    }
   ],
   "source": [
    "!python \"/Users/simon.hughes/GitHub/NlpResearch/PythonNlpResearch/Experiments/SkinCancerCausalModel/Essay Model/train_causal_relation_extractor_hyper_param_tuning_TEST.py\""
   ]
  },
  {
   "cell_type": "code",
   "execution_count": 13,
   "metadata": {},
   "outputs": [
    {
     "name": "stdout",
     "output_type": "stream",
     "text": [
      "Results Dir: /Users/simon.hughes/Google Drive/Phd/Results/\n",
      "Data Dir:    /Users/simon.hughes/Google Drive/Phd/Data/\n",
      "Root Dir:    /Users/simon.hughes/GitHub/NlpResearch/\n",
      "Public Data: /Users/simon.hughes/GitHub/NlpResearch/Data/PublicDatasets/\n",
      "2019-10-09 11:53:12,165 : INFO : Started at: 2019-10-09 11:53:12.165184\n",
      "2019-10-09 11:53:12,165 : INFO : Number of pred tagged essays 870\n",
      "2019-10-09 11:53:12,222 : INFO : ********************************************************************************\n",
      "2019-10-09 11:53:12,222 : INFO : NGRAM SIZE: 1\n",
      "2019-10-09 11:53:12,222 : INFO : ********************************************************************************\n",
      "2019-10-09 11:53:12,222 : INFO : Stemmed: True\n",
      "2019-10-09 11:53:12,222 : INFO : \tEvaluating parameters: beta=0.3 max_epochs=5 dual=True, C=0.5, penalty=l2, fit_intercept=True\n",
      "2019-10-09 11:53:12,222 : INFO : \tExtractors: three_words,between_word_features,size_features,single_words,gbl_concept_code_cnt_features,gbl_causal_features\n",
      "2019-10-09 11:59:57,732 : INFO : \t\tMean num feats: 70417.00\n",
      "2019-10-09 11:59:58,255 : INFO : \t\tMicro F1: 0.8205411374930976 NEW BEST ******************************\n"
     ]
    }
   ],
   "source": [
    "!python \"/Users/simon.hughes/GitHub/NlpResearch/PythonNlpResearch/Experiments/SkinCancerCausalModel/Essay Model/train_causal_relation_extractor_hyper_param_tuning_TEST.py\""
   ]
  },
  {
   "cell_type": "code",
   "execution_count": null,
   "metadata": {},
   "outputs": [],
   "source": []
  }
 ],
 "metadata": {
  "anaconda-cloud": {},
  "kernelspec": {
   "display_name": "Python [conda env:phd_py36]",
   "language": "python",
   "name": "conda-env-phd_py36-py"
  },
  "language_info": {
   "codemirror_mode": {
    "name": "ipython",
    "version": 3
   },
   "file_extension": ".py",
   "mimetype": "text/x-python",
   "name": "python",
   "nbconvert_exporter": "python",
   "pygments_lexer": "ipython3",
   "version": "3.6.2"
  }
 },
 "nbformat": 4,
 "nbformat_minor": 2
}
