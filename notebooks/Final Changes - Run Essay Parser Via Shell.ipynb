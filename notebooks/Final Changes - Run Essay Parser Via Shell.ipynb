{
 "cells": [
  {
   "cell_type": "code",
   "execution_count": 1,
   "metadata": {},
   "outputs": [
    {
     "name": "stdout",
     "output_type": "stream",
     "text": [
      "/Users/simon.hughes/anaconda3/envs/phd_py36/bin/python\r\n"
     ]
    }
   ],
   "source": [
    "!which python"
   ]
  },
  {
   "cell_type": "code",
   "execution_count": 2,
   "metadata": {},
   "outputs": [
    {
     "name": "stdout",
     "output_type": "stream",
     "text": [
      "Python 3.6.2 :: Continuum Analytics, Inc.\r\n"
     ]
    }
   ],
   "source": [
    "!python -V"
   ]
  },
  {
   "cell_type": "code",
   "execution_count": 4,
   "metadata": {},
   "outputs": [],
   "source": [
    "!source ../setup_paths.sh"
   ]
  },
  {
   "cell_type": "markdown",
   "metadata": {},
   "source": [
    "## Coral Bleaching"
   ]
  },
  {
   "cell_type": "code",
   "execution_count": 5,
   "metadata": {},
   "outputs": [
    {
     "name": "stdout",
     "output_type": "stream",
     "text": [
      "Results Dir: /Users/simon.hughes/Google Drive/Phd/Results/\n",
      "Data Dir:    /Users/simon.hughes/Google Drive/Phd/Data/\n",
      "Root Dir:    /Users/simon.hughes/GitHub/NlpResearch/\n",
      "Public Data: /Users/simon.hughes/GitHub/NlpResearch/Data/PublicDatasets/\n",
      "2019-10-09 08:42:00,519 : INFO : Started at: 2019-10-09 08:42:00.519338\n",
      "2019-10-09 08:42:00,519 : INFO : Number of pred tagged essays 902\n",
      "2019-10-09 08:42:00,573 : INFO : ********************************************************************************\n",
      "2019-10-09 08:42:00,573 : INFO : NGRAM SIZE: 1\n",
      "2019-10-09 08:42:00,573 : INFO : ********************************************************************************\n",
      "2019-10-09 08:42:00,574 : INFO : Stemmed: True\n",
      "2019-10-09 08:42:00,574 : INFO : \tEvaluating parameters: beta=0.5 max_epochs=10 dual=True, C=0.1, penalty=l2, fit_intercept=True\n",
      "2019-10-09 08:42:00,574 : INFO : \tExtractors: single_words,between_word_features,label_set,three_words,third_order,unigrams,gbl_causal_features,gbl_ratio_features\n",
      "2019-10-09 08:52:24,524 : INFO : \t\tMean num feats: 103537.00\n",
      "2019-10-09 08:52:25,465 : INFO : \t\tMicro F1: 0.7465437788018434 NEW BEST ******************************\n"
     ]
    }
   ],
   "source": [
    "!python \"/Users/simon.hughes/GitHub/NlpResearch/PythonNlpResearch/Experiments/CoralBleachingCausalModel/Essay Model/train_causal_relation_extractor_hyper_param_tuning_TEST.py\""
   ]
  },
  {
   "cell_type": "code",
   "execution_count": 6,
   "metadata": {},
   "outputs": [
    {
     "name": "stdout",
     "output_type": "stream",
     "text": [
      "Results Dir: /Users/simon.hughes/Google Drive/Phd/Results/\n",
      "Data Dir:    /Users/simon.hughes/Google Drive/Phd/Data/\n",
      "Root Dir:    /Users/simon.hughes/GitHub/NlpResearch/\n",
      "Public Data: /Users/simon.hughes/GitHub/NlpResearch/Data/PublicDatasets/\n",
      "2019-10-09 08:52:37,824 : INFO : Started at: 2019-10-09 08:52:37.824157\n",
      "2019-10-09 08:52:37,824 : INFO : Number of pred tagged essays 902\n",
      "2019-10-09 08:52:37,878 : INFO : ********************************************************************************\n",
      "2019-10-09 08:52:37,878 : INFO : NGRAM SIZE: 1\n",
      "2019-10-09 08:52:37,878 : INFO : ********************************************************************************\n",
      "2019-10-09 08:52:37,878 : INFO : Stemmed: True\n",
      "Skipping 10 True l2 0.5 0.1\n"
     ]
    }
   ],
   "source": [
    "!python \"/Users/simon.hughes/GitHub/NlpResearch/PythonNlpResearch/Experiments/CoralBleachingCausalModel/Essay Model/train_causal_relation_extractor_hyper_param_tuning_TEST.py\""
   ]
  },
  {
   "cell_type": "code",
   "execution_count": 7,
   "metadata": {},
   "outputs": [
    {
     "name": "stdout",
     "output_type": "stream",
     "text": [
      "Results Dir: /Users/simon.hughes/Google Drive/Phd/Results/\n",
      "Data Dir:    /Users/simon.hughes/Google Drive/Phd/Data/\n",
      "Root Dir:    /Users/simon.hughes/GitHub/NlpResearch/\n",
      "Public Data: /Users/simon.hughes/GitHub/NlpResearch/Data/PublicDatasets/\n",
      "2019-10-09 08:52:41,323 : INFO : Started at: 2019-10-09 08:52:41.323674\n",
      "2019-10-09 08:52:41,323 : INFO : Number of pred tagged essays 902\n",
      "2019-10-09 08:52:41,373 : INFO : ********************************************************************************\n",
      "2019-10-09 08:52:41,373 : INFO : NGRAM SIZE: 1\n",
      "2019-10-09 08:52:41,373 : INFO : ********************************************************************************\n",
      "2019-10-09 08:52:41,373 : INFO : Stemmed: True\n",
      "Skipping 10 True l2 0.5 0.1\n"
     ]
    }
   ],
   "source": [
    "!python \"/Users/simon.hughes/GitHub/NlpResearch/PythonNlpResearch/Experiments/CoralBleachingCausalModel/Essay Model/train_causal_relation_extractor_hyper_param_tuning_TEST.py\""
   ]
  },
  {
   "cell_type": "code",
   "execution_count": 8,
   "metadata": {},
   "outputs": [
    {
     "name": "stdout",
     "output_type": "stream",
     "text": [
      "Results Dir: /Users/simon.hughes/Google Drive/Phd/Results/\n",
      "Data Dir:    /Users/simon.hughes/Google Drive/Phd/Data/\n",
      "Root Dir:    /Users/simon.hughes/GitHub/NlpResearch/\n",
      "Public Data: /Users/simon.hughes/GitHub/NlpResearch/Data/PublicDatasets/\n",
      "2019-10-09 08:52:44,676 : INFO : Started at: 2019-10-09 08:52:44.676210\n",
      "2019-10-09 08:52:44,676 : INFO : Number of pred tagged essays 902\n",
      "2019-10-09 08:52:44,727 : INFO : ********************************************************************************\n",
      "2019-10-09 08:52:44,727 : INFO : NGRAM SIZE: 1\n",
      "2019-10-09 08:52:44,727 : INFO : ********************************************************************************\n",
      "2019-10-09 08:52:44,727 : INFO : Stemmed: True\n",
      "Skipping 10 True l2 0.5 0.1\n"
     ]
    }
   ],
   "source": [
    "!python \"/Users/simon.hughes/GitHub/NlpResearch/PythonNlpResearch/Experiments/CoralBleachingCausalModel/Essay Model/train_causal_relation_extractor_hyper_param_tuning_TEST.py\""
   ]
  },
  {
   "cell_type": "code",
   "execution_count": 9,
   "metadata": {},
   "outputs": [
    {
     "name": "stdout",
     "output_type": "stream",
     "text": [
      "Results Dir: /Users/simon.hughes/Google Drive/Phd/Results/\n",
      "Data Dir:    /Users/simon.hughes/Google Drive/Phd/Data/\n",
      "Root Dir:    /Users/simon.hughes/GitHub/NlpResearch/\n",
      "Public Data: /Users/simon.hughes/GitHub/NlpResearch/Data/PublicDatasets/\n",
      "2019-10-09 08:52:47,971 : INFO : Started at: 2019-10-09 08:52:47.971575\n",
      "2019-10-09 08:52:47,971 : INFO : Number of pred tagged essays 902\n",
      "2019-10-09 08:52:48,022 : INFO : ********************************************************************************\n",
      "2019-10-09 08:52:48,023 : INFO : NGRAM SIZE: 1\n",
      "2019-10-09 08:52:48,023 : INFO : ********************************************************************************\n",
      "2019-10-09 08:52:48,023 : INFO : Stemmed: True\n",
      "Skipping 10 True l2 0.5 0.1\n"
     ]
    }
   ],
   "source": [
    "!python \"/Users/simon.hughes/GitHub/NlpResearch/PythonNlpResearch/Experiments/CoralBleachingCausalModel/Essay Model/train_causal_relation_extractor_hyper_param_tuning_TEST.py\""
   ]
  },
  {
   "cell_type": "markdown",
   "metadata": {},
   "source": [
    "## Skin Cancer"
   ]
  },
  {
   "cell_type": "code",
   "execution_count": 15,
   "metadata": {},
   "outputs": [
    {
     "name": "stdout",
     "output_type": "stream",
     "text": [
      "Results Dir: /Users/simon.hughes/Google Drive/Phd/Results/\n",
      "Data Dir:    /Users/simon.hughes/Google Drive/Phd/Data/\n",
      "Root Dir:    /Users/simon.hughes/GitHub/NlpResearch/\n",
      "Public Data: /Users/simon.hughes/GitHub/NlpResearch/Data/PublicDatasets/\n",
      "2019-10-09 10:33:17,178 : INFO : Started at: 2019-10-09 10:33:17.178839\n",
      "2019-10-09 10:33:17,179 : INFO : Number of pred tagged essays 870\n",
      "2019-10-09 10:33:17,237 : INFO : ********************************************************************************\n",
      "2019-10-09 10:33:17,237 : INFO : NGRAM SIZE: 1\n",
      "2019-10-09 10:33:17,237 : INFO : ********************************************************************************\n",
      "2019-10-09 10:33:17,237 : INFO : Stemmed: True\n",
      "2019-10-09 10:33:17,237 : INFO : \tEvaluating parameters: beta=0.3 max_epochs=5 dual=True, C=0.5, penalty=l2, fit_intercept=True\n",
      "2019-10-09 10:33:17,237 : INFO : \tExtractors: three_words,between_word_features,size_features,single_words,gbl_concept_code_cnt_features,gbl_causal_features\n"
     ]
    }
   ],
   "source": [
    "!python \"/Users/simon.hughes/GitHub/NlpResearch/PythonNlpResearch/Experiments/SkinCancerCausalModel/Essay Model/train_causal_relation_extractor_hyper_param_tuning_TEST.py\""
   ]
  },
  {
   "cell_type": "code",
   "execution_count": 16,
   "metadata": {},
   "outputs": [
    {
     "name": "stdout",
     "output_type": "stream",
     "text": [
      "Results Dir: /Users/simon.hughes/Google Drive/Phd/Results/\n",
      "Data Dir:    /Users/simon.hughes/Google Drive/Phd/Data/\n",
      "Root Dir:    /Users/simon.hughes/GitHub/NlpResearch/\n",
      "Public Data: /Users/simon.hughes/GitHub/NlpResearch/Data/PublicDatasets/\n",
      "2019-10-09 10:35:06,129 : INFO : Started at: 2019-10-09 10:35:06.129857\n",
      "2019-10-09 10:35:06,130 : INFO : Number of pred tagged essays 870\n",
      "2019-10-09 10:35:06,189 : INFO : ********************************************************************************\n",
      "2019-10-09 10:35:06,189 : INFO : NGRAM SIZE: 1\n",
      "2019-10-09 10:35:06,189 : INFO : ********************************************************************************\n",
      "2019-10-09 10:35:06,189 : INFO : Stemmed: True\n",
      "2019-10-09 10:35:06,189 : INFO : \tEvaluating parameters: beta=0.3 max_epochs=5 dual=True, C=0.5, penalty=l2, fit_intercept=True\n",
      "2019-10-09 10:35:06,190 : INFO : \tExtractors: three_words,between_word_features,size_features,single_words,gbl_concept_code_cnt_features,gbl_causal_features\n",
      "^C\n",
      "Traceback (most recent call last):\n",
      "  File \"/Users/simon.hughes/GitHub/NlpResearch/PythonNlpResearch/Experiments/SkinCancerCausalModel/Essay Model/train_causal_relation_extractor_hyper_param_tuning_TEST.py\", line 324, in <module>\n",
      "    down_sample_rate=DOWN_SAMPLE_RATE)\n",
      "  File \"/Users/simon.hughes/GitHub/NlpResearch/PythonNlpResearch/Experiments/SkinCancerCausalModel/Essay Model/train_causal_relation_extractor_hyper_param_tuning_TEST.py\", line 89, in evaluate_features\n",
      "    for essays_TD, essays_VD in folds)\n",
      "  File \"/Users/simon.hughes/anaconda3/envs/phd_py36/lib/python3.6/site-packages/joblib/parallel.py\", line 800, in __call__\n",
      "    while self.dispatch_one_batch(iterator):\n",
      "  File \"/Users/simon.hughes/anaconda3/envs/phd_py36/lib/python3.6/site-packages/joblib/parallel.py\", line 658, in dispatch_one_batch\n",
      "    self._dispatch(tasks)\n",
      "  File \"/Users/simon.hughes/anaconda3/envs/phd_py36/lib/python3.6/site-packages/joblib/parallel.py\", line 566, in _dispatch\n",
      "    job = ImmediateComputeBatch(batch)\n",
      "  File \"/Users/simon.hughes/anaconda3/envs/phd_py36/lib/python3.6/site-packages/joblib/parallel.py\", line 180, in __init__\n",
      "    self.results = batch()\n",
      "  File \"/Users/simon.hughes/anaconda3/envs/phd_py36/lib/python3.6/site-packages/joblib/parallel.py\", line 72, in __call__\n",
      "    return [func(*args, **kwargs) for func, args, kwargs in self.items]\n",
      "  File \"/Users/simon.hughes/anaconda3/envs/phd_py36/lib/python3.6/site-packages/joblib/parallel.py\", line 72, in <listcomp>\n",
      "    return [func(*args, **kwargs) for func, args, kwargs in self.items]\n",
      "  File \"/Users/simon.hughes/GitHub/NlpResearch/PythonNlpResearch/Experiments/SkinCancerCausalModel/Essay Model/train_causal_relation_extractor_hyper_param_tuning_TEST.py\", line 171, in model_train_predict\n",
      "    parse_model.train(essays_TD, max_epochs)\n",
      "  File \"/Users/simon.hughes/GitHub/NlpResearch/PythonNlpResearch/Classifiers/StructuredLearning/SEARN/searn_essay_parser.py\", line 117, in train\n",
      "    flat_taggged_sent, flat_pred_tags, parse_examples, crel_examples)\n",
      "  File \"/Users/simon.hughes/GitHub/NlpResearch/PythonNlpResearch/Classifiers/StructuredLearning/SEARN/searn_essay_parser.py\", line 345, in generate_training_data\n",
      "    positive_val=self.positive_val)\n",
      "  File \"/Users/simon.hughes/GitHub/NlpResearch/PythonNlpResearch/Classifiers/StructuredLearning/SEARN/template_feature_extractor.py\", line 55, in extract\n",
      "    cause2effects, effect2causers, positive_val)\n",
      "  File \"/Users/simon.hughes/GitHub/NlpResearch/PythonNlpResearch/Classifiers/StructuredLearning/SEARN/template_feature_extractor.py\", line 695, in size_features\n",
      "    feats[\"num_effects_for_causer_{effect}={num_causers}\".format(effect=effect, num_causers=len(causers))] = positive_val\n",
      "KeyboardInterrupt\n"
     ]
    }
   ],
   "source": [
    "!python \"/Users/simon.hughes/GitHub/NlpResearch/PythonNlpResearch/Experiments/SkinCancerCausalModel/Essay Model/train_causal_relation_extractor_hyper_param_tuning_TEST.py\""
   ]
  },
  {
   "cell_type": "code",
   "execution_count": null,
   "metadata": {},
   "outputs": [
    {
     "name": "stdout",
     "output_type": "stream",
     "text": [
      "Results Dir: /Users/simon.hughes/Google Drive/Phd/Results/\n",
      "Data Dir:    /Users/simon.hughes/Google Drive/Phd/Data/\n",
      "Root Dir:    /Users/simon.hughes/GitHub/NlpResearch/\n",
      "Public Data: /Users/simon.hughes/GitHub/NlpResearch/Data/PublicDatasets/\n",
      "2019-10-09 10:35:10,522 : INFO : Started at: 2019-10-09 10:35:10.522743\n",
      "2019-10-09 10:35:10,522 : INFO : Number of pred tagged essays 870\n",
      "2019-10-09 10:35:10,579 : INFO : ********************************************************************************\n",
      "2019-10-09 10:35:10,579 : INFO : NGRAM SIZE: 1\n",
      "2019-10-09 10:35:10,579 : INFO : ********************************************************************************\n",
      "2019-10-09 10:35:10,579 : INFO : Stemmed: True\n",
      "2019-10-09 10:35:10,580 : INFO : \tEvaluating parameters: beta=0.3 max_epochs=5 dual=True, C=0.5, penalty=l2, fit_intercept=True\n",
      "2019-10-09 10:35:10,580 : INFO : \tExtractors: three_words,between_word_features,size_features,single_words,gbl_concept_code_cnt_features,gbl_causal_features\n"
     ]
    }
   ],
   "source": [
    "!python \"/Users/simon.hughes/GitHub/NlpResearch/PythonNlpResearch/Experiments/SkinCancerCausalModel/Essay Model/train_causal_relation_extractor_hyper_param_tuning_TEST.py\""
   ]
  },
  {
   "cell_type": "code",
   "execution_count": null,
   "metadata": {},
   "outputs": [],
   "source": [
    "!python \"/Users/simon.hughes/GitHub/NlpResearch/PythonNlpResearch/Experiments/SkinCancerCausalModel/Essay Model/train_causal_relation_extractor_hyper_param_tuning_TEST.py\""
   ]
  },
  {
   "cell_type": "code",
   "execution_count": null,
   "metadata": {},
   "outputs": [],
   "source": [
    "!python \"/Users/simon.hughes/GitHub/NlpResearch/PythonNlpResearch/Experiments/SkinCancerCausalModel/Essay Model/train_causal_relation_extractor_hyper_param_tuning_TEST.py\""
   ]
  },
  {
   "cell_type": "code",
   "execution_count": null,
   "metadata": {},
   "outputs": [],
   "source": []
  }
 ],
 "metadata": {
  "anaconda-cloud": {},
  "kernelspec": {
   "display_name": "Python [conda env:phd_py36]",
   "language": "python",
   "name": "conda-env-phd_py36-py"
  },
  "language_info": {
   "codemirror_mode": {
    "name": "ipython",
    "version": 3
   },
   "file_extension": ".py",
   "mimetype": "text/x-python",
   "name": "python",
   "nbconvert_exporter": "python",
   "pygments_lexer": "ipython3",
   "version": "3.6.2"
  }
 },
 "nbformat": 4,
 "nbformat_minor": 2
}
